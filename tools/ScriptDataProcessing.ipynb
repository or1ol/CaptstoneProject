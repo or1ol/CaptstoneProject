{
 "cells": [
  {
   "cell_type": "code",
   "execution_count": 1,
   "id": "54b91ac6",
   "metadata": {},
   "outputs": [
    {
     "data": {
      "text/html": [
       "<style>.container { width:80% !important; }</style>"
      ],
      "text/plain": [
       "<IPython.core.display.HTML object>"
      ]
     },
     "metadata": {},
     "output_type": "display_data"
    }
   ],
   "source": [
    "from IPython.core.display import display, HTML\n",
    "display(HTML(\"<style>.container { width:80% !important; }</style>\"))\n",
    "\n",
    "import os\n",
    "\n",
    "# Python ≥3.5 is required\n",
    "import sys\n",
    "assert sys.version_info >= (3, 5)\n",
    "\n",
    "# Scikit-Learn ≥0.20 is required\n",
    "import sklearn\n",
    "assert sklearn.__version__ >= \"0.20\"\n",
    "\n",
    "from sklearn.ensemble import RandomForestRegressor\n",
    "from sklearn.ensemble import GradientBoostingRegressor\n",
    "from sklearn.model_selection import cross_val_score\n",
    "from sklearn.metrics import mean_squared_error, r2_score\n",
    "from sklearn.metrics import mean_absolute_error\n",
    "\n",
    "import pandas as pd\n",
    "import numpy as np\n",
    "pd.set_option('display.max_columns', None)\n",
    "\n",
    "# To plot pretty figures\n",
    "%matplotlib inline\n",
    "import matplotlib as mpl\n",
    "import matplotlib.pyplot as plt\n",
    "\n",
    "import scipy.stats as stats\n",
    "\n",
    "import seaborn as sns\n",
    "\n",
    "from datetime import datetime\n",
    "\n",
    "import re\n",
    "\n",
    "from tqdm.notebook import tqdm\n",
    "\n",
    "from tools import * "
   ]
  },
  {
   "cell_type": "raw",
   "id": "6213686b",
   "metadata": {},
   "source": [
    "%%time\n",
    "\n",
    "# This function will generate the database cleansed and ready to explore using dask\n",
    "read_informacion_estacion_anual('BicingNou_ESTACIONS', 2019)\n",
    "\n",
    "# TODO work todo, clean data and prepare all month"
   ]
  },
  {
   "cell_type": "code",
   "execution_count": 2,
   "id": "bd3e6efe",
   "metadata": {
    "scrolled": true
   },
   "outputs": [
    {
     "name": "stdout",
     "output_type": "stream",
     "text": [
      "2020 1 Gener BicingNou_ESTACIONS\n",
      "found file with shape equal to:  (3398708, 13)\n",
      "Done -------- ----------\n",
      "2020 2 Febrer BicingNou_ESTACIONS\n",
      "found file with shape equal to:  (3500841, 13)\n",
      "Done -------- ----------\n",
      "2020 3 Marc BicingNou_ESTACIONS\n",
      "found file with shape equal to:  (2408419, 13)\n",
      "Done -------- ----------\n",
      "2020 4 Abril BicingNou_ESTACIONS\n",
      "found file with shape equal to:  (3892389, 13)\n",
      "Done -------- ----------\n",
      "2020 5 Maig BicingNou_ESTACIONS\n",
      "found file with shape equal to:  (3742388, 13)\n",
      "Done -------- ----------\n",
      "2020 6 Juny BicingNou_ESTACIONS\n",
      "found file with shape equal to:  (4099864, 13)\n",
      "Done -------- ----------\n",
      "2020 7 Juliol BicingNou_ESTACIONS\n",
      "found file with shape equal to:  (4335089, 13)\n",
      "Done -------- ----------\n",
      "2020 8 Agost BicingNou_ESTACIONS\n",
      "found file with shape equal to:  (3869580, 13)\n",
      "Done -------- ----------\n",
      "2020 9 Setembre BicingNou_ESTACIONS\n",
      "found file with shape equal to:  (4246500, 13)\n",
      "Done -------- ----------\n",
      "2020 10 Octubre BicingNou_ESTACIONS\n",
      "(4455674, 13)\n"
     ]
    },
    {
     "data": {
      "application/vnd.jupyter.widget-view+json": {
       "model_id": "6da39469e7f24f00b4b5a014cd4b2a91",
       "version_major": 2,
       "version_minor": 0
      },
      "text/plain": [
       "  0%|          | 0/503 [00:00<?, ?it/s]"
      ]
     },
     "metadata": {},
     "output_type": "display_data"
    },
    {
     "data": {
      "application/vnd.jupyter.widget-view+json": {
       "model_id": "e104e24847874811b2ba0274b8d8bb9a",
       "version_major": 2,
       "version_minor": 0
      },
      "text/plain": [
       "  0%|          | 0/503 [00:00<?, ?it/s]"
      ]
     },
     "metadata": {},
     "output_type": "display_data"
    },
    {
     "name": "stdout",
     "output_type": "stream",
     "text": [
      "(371292, 20)\n",
      "removed: 4084382\n",
      "Done -------- ----------\n",
      "2020 11 Novembre BicingNou_ESTACIONS\n",
      "(3670067, 13)\n"
     ]
    },
    {
     "data": {
      "application/vnd.jupyter.widget-view+json": {
       "model_id": "2447b6f886ca49e28dbe70095f64317e",
       "version_major": 2,
       "version_minor": 0
      },
      "text/plain": [
       "  0%|          | 0/505 [00:00<?, ?it/s]"
      ]
     },
     "metadata": {},
     "output_type": "display_data"
    },
    {
     "data": {
      "application/vnd.jupyter.widget-view+json": {
       "model_id": "bee9eb3a9fe6443daaf378eab947a724",
       "version_major": 2,
       "version_minor": 0
      },
      "text/plain": [
       "  0%|          | 0/505 [00:00<?, ?it/s]"
      ]
     },
     "metadata": {},
     "output_type": "display_data"
    },
    {
     "name": "stdout",
     "output_type": "stream",
     "text": [
      "(306732, 20)\n",
      "removed: 3363335\n",
      "Done -------- ----------\n",
      "2020 12 Desembre BicingNou_ESTACIONS\n",
      "(4419114, 13)\n"
     ]
    },
    {
     "data": {
      "application/vnd.jupyter.widget-view+json": {
       "model_id": "bf6a288f89054160bc28dd83bd5eaa5c",
       "version_major": 2,
       "version_minor": 0
      },
      "text/plain": [
       "  0%|          | 0/508 [00:00<?, ?it/s]"
      ]
     },
     "metadata": {},
     "output_type": "display_data"
    },
    {
     "data": {
      "application/vnd.jupyter.widget-view+json": {
       "model_id": "d2c60138ac2d49509c3ad0e7b6ed55cc",
       "version_major": 2,
       "version_minor": 0
      },
      "text/plain": [
       "  0%|          | 0/508 [00:00<?, ?it/s]"
      ]
     },
     "metadata": {},
     "output_type": "display_data"
    },
    {
     "name": "stdout",
     "output_type": "stream",
     "text": [
      "(369679, 20)\n",
      "removed: 4049435\n",
      "Done -------- ----------\n",
      "CPU times: user 2h 23min 36s, sys: 1min 7s, total: 2h 24min 44s\n",
      "Wall time: 2h 24min 46s\n"
     ]
    }
   ],
   "source": [
    "%%time\n",
    "\n",
    "# This function will generate the database cleansed and ready to explore using dask\n",
    "read_informacion_estacion_anual('BicingNou_ESTACIONS', 2020)\n"
   ]
  },
  {
   "cell_type": "code",
   "execution_count": 3,
   "id": "069c66e5",
   "metadata": {
    "scrolled": false
   },
   "outputs": [
    {
     "name": "stdout",
     "output_type": "stream",
     "text": [
      "2021 1 Gener BicingNou_ESTACIONS\n",
      "found file with shape equal to:  (4509149, 13)\n",
      "Done -------- ----------\n",
      "2021 2 Febrer BicingNou_ESTACIONS\n",
      "found file with shape equal to:  (4017900, 13)\n",
      "Done -------- ----------\n",
      "2021 3 Marc BicingNou_ESTACIONS\n",
      "found file with shape equal to:  (4528030, 13)\n",
      "Done -------- ----------\n",
      "2021 4 Abril BicingNou_ESTACIONS\n",
      "found file with shape equal to:  (4389888, 13)\n",
      "Done -------- ----------\n",
      "2021 5 Maig BicingNou_ESTACIONS\n",
      "found file with shape equal to:  (4538684, 13)\n",
      "Done -------- ----------\n",
      "2021 6 Juny BicingNou_ESTACIONS\n",
      "found file with shape equal to:  (4308619, 13)\n",
      "Done -------- ----------\n",
      "2021 7 Juliol BicingNou_ESTACIONS\n",
      "found file with shape equal to:  (4436678, 13)\n",
      "Done -------- ----------\n",
      "2021 8 Agost BicingNou_ESTACIONS\n",
      "found file with shape equal to:  (4520650, 13)\n",
      "Done -------- ----------\n",
      "2021 9 Setembre BicingNou_ESTACIONS\n",
      "found file with shape equal to:  (4384751, 13)\n",
      "Done -------- ----------\n",
      "2021 10 Octubre BicingNou_ESTACIONS\n",
      "found file with shape equal to:  (4501053, 13)\n",
      "Done -------- ----------\n",
      "2021 11 Novembre BicingNou_ESTACIONS\n",
      "found file with shape equal to:  (4315064, 14)\n",
      "Done -------- ----------\n",
      "2021 12 Desembre BicingNou_ESTACIONS\n",
      "found file with shape equal to:  (4398576, 14)\n",
      "Done -------- ----------\n",
      "CPU times: user 20.7 s, sys: 2.43 s, total: 23.1 s\n",
      "Wall time: 26.4 s\n"
     ]
    }
   ],
   "source": [
    "%%time\n",
    "\n",
    "# This function will generate the database cleansed and ready to explore using dask\n",
    "read_informacion_estacion_anual('BicingNou_ESTACIONS', 2021)\n"
   ]
  },
  {
   "cell_type": "code",
   "execution_count": null,
   "id": "1fccde87",
   "metadata": {
    "scrolled": false
   },
   "outputs": [
    {
     "name": "stdout",
     "output_type": "stream",
     "text": [
      "2022 1 Gener BicingNou_ESTACIONS\n",
      "(4390690, 14)\n"
     ]
    },
    {
     "data": {
      "application/vnd.jupyter.widget-view+json": {
       "model_id": "6884a249a77f47a6a92d8fb209adc04d",
       "version_major": 2,
       "version_minor": 0
      },
      "text/plain": [
       "  0%|          | 0/509 [00:00<?, ?it/s]"
      ]
     },
     "metadata": {},
     "output_type": "display_data"
    },
    {
     "data": {
      "application/vnd.jupyter.widget-view+json": {
       "model_id": "9bf2fb9272f54489bfea47e0f7bf84b0",
       "version_major": 2,
       "version_minor": 0
      },
      "text/plain": [
       "  0%|          | 0/509 [00:00<?, ?it/s]"
      ]
     },
     "metadata": {},
     "output_type": "display_data"
    },
    {
     "name": "stdout",
     "output_type": "stream",
     "text": [
      "(368964, 21)\n",
      "removed: 4021726\n",
      "Done -------- ----------\n",
      "2022 2 Febrer BicingNou_ESTACIONS\n",
      "(3936804, 14)\n"
     ]
    },
    {
     "data": {
      "application/vnd.jupyter.widget-view+json": {
       "model_id": "38b3608537cd497f92c6ada63fe20023",
       "version_major": 2,
       "version_minor": 0
      },
      "text/plain": [
       "  0%|          | 0/508 [00:00<?, ?it/s]"
      ]
     },
     "metadata": {},
     "output_type": "display_data"
    },
    {
     "data": {
      "application/vnd.jupyter.widget-view+json": {
       "model_id": "7512b0a8f9614f12b35ce975cd6183cc",
       "version_major": 2,
       "version_minor": 0
      },
      "text/plain": [
       "  0%|          | 0/508 [00:00<?, ?it/s]"
      ]
     },
     "metadata": {},
     "output_type": "display_data"
    },
    {
     "data": {
      "application/vnd.jupyter.widget-view+json": {
       "model_id": "847c4b3ad5b94bc1b4b80749a0cf2a66",
       "version_major": 2,
       "version_minor": 0
      },
      "text/plain": [
       "  0%|          | 0/509 [00:00<?, ?it/s]"
      ]
     },
     "metadata": {},
     "output_type": "display_data"
    },
    {
     "data": {
      "application/vnd.jupyter.widget-view+json": {
       "model_id": "4e1446b875a144f68ccfb5b54ee720da",
       "version_major": 2,
       "version_minor": 0
      },
      "text/plain": [
       "  0%|          | 0/509 [00:00<?, ?it/s]"
      ]
     },
     "metadata": {},
     "output_type": "display_data"
    },
    {
     "name": "stdout",
     "output_type": "stream",
     "text": [
      "(366637, 21)\n",
      "removed: 4004732\n",
      "Done -------- ----------\n",
      "2022 5 Maig BicingNou_ESTACIONS\n",
      "(4523985, 14)\n"
     ]
    },
    {
     "data": {
      "application/vnd.jupyter.widget-view+json": {
       "model_id": "516ba41378ff4260bc3c5a09c7a4dfb3",
       "version_major": 2,
       "version_minor": 0
      },
      "text/plain": [
       "  0%|          | 0/509 [00:00<?, ?it/s]"
      ]
     },
     "metadata": {},
     "output_type": "display_data"
    },
    {
     "data": {
      "application/vnd.jupyter.widget-view+json": {
       "model_id": "80e8534fea4542e38714b13dde21aa51",
       "version_major": 2,
       "version_minor": 0
      },
      "text/plain": [
       "  0%|          | 0/509 [00:00<?, ?it/s]"
      ]
     },
     "metadata": {},
     "output_type": "display_data"
    }
   ],
   "source": [
    "%%time\n",
    "\n",
    "# This function will generate the database cleansed and ready to explore using dask\n",
    "read_informacion_estacion_anual('BicingNou_ESTACIONS', 2022)\n"
   ]
  },
  {
   "cell_type": "code",
   "execution_count": null,
   "id": "4f933f58",
   "metadata": {},
   "outputs": [],
   "source": []
  }
 ],
 "metadata": {
  "kernelspec": {
   "display_name": "Python 3",
   "language": "python",
   "name": "python3"
  },
  "language_info": {
   "codemirror_mode": {
    "name": "ipython",
    "version": 3
   },
   "file_extension": ".py",
   "mimetype": "text/x-python",
   "name": "python",
   "nbconvert_exporter": "python",
   "pygments_lexer": "ipython3",
   "version": "3.6.13"
  }
 },
 "nbformat": 4,
 "nbformat_minor": 5
}
