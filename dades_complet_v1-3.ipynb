{
 "cells": [
  {
   "cell_type": "raw",
   "id": "3accd1f2",
   "metadata": {},
   "source": [
    "!pip install -U scikit-learn"
   ]
  },
  {
   "cell_type": "raw",
   "id": "ef01a23e",
   "metadata": {},
   "source": [
    "!pip install pandas\n",
    "!pip install dask \n",
    "!pip install matplotlib\n",
    "!pip install scipy\n",
    "!pip install seaborn\n",
    "!pip install tqdm"
   ]
  },
  {
   "cell_type": "raw",
   "id": "77a5ea01",
   "metadata": {},
   "source": [
    "!pip install \"dask[distributed]\" --upgrade"
   ]
  },
  {
   "cell_type": "raw",
   "id": "3042627d",
   "metadata": {},
   "source": [
    "!pip install \"bokeh!=3.0.*,>=2.4.2\""
   ]
  },
  {
   "cell_type": "raw",
   "id": "b7406a9d",
   "metadata": {},
   "source": [
    "!pip install ipywidgets"
   ]
  },
  {
   "cell_type": "code",
   "execution_count": 1,
   "id": "886f34aa",
   "metadata": {},
   "outputs": [
    {
     "data": {
      "text/html": [
       "<style>.container { width:80% !important; }</style>"
      ],
      "text/plain": [
       "<IPython.core.display.HTML object>"
      ]
     },
     "metadata": {},
     "output_type": "display_data"
    }
   ],
   "source": [
    "from IPython.display import display, HTML\n",
    "display(HTML(\"<style>.container { width:80% !important; }</style>\"))\n",
    "\n",
    "import os\n",
    "\n",
    "# Python ≥3.5 is required\n",
    "import sys\n",
    "assert sys.version_info >= (3, 5)\n",
    "\n",
    "# Scikit-Learn ≥0.20 is required\n",
    "import sklearn\n",
    "assert sklearn.__version__ >= \"0.20\"\n",
    "\n",
    "from sklearn.ensemble import RandomForestRegressor\n",
    "from sklearn.ensemble import GradientBoostingRegressor\n",
    "from sklearn.model_selection import cross_val_score\n",
    "from sklearn.metrics import mean_squared_error, r2_score\n",
    "from sklearn.metrics import mean_absolute_error\n",
    "\n",
    "import pandas as pd\n",
    "import numpy as np\n",
    "pd.set_option('display.max_columns', None)\n",
    "\n",
    "# To plot pretty figures\n",
    "%matplotlib inline\n",
    "import matplotlib as mpl\n",
    "import matplotlib.pyplot as plt\n",
    "\n",
    "import scipy.stats as stats\n",
    "\n",
    "import seaborn as sns\n",
    "\n",
    "from datetime import datetime\n",
    "\n",
    "import re\n",
    "\n",
    "from tqdm.notebook import tqdm\n",
    "\n",
    "import dask.dataframe as dd\n",
    "from dask.distributed import Client\n",
    "\n",
    "sys.path.insert(0, 'tools/')\n",
    "\n",
    "from tools import * "
   ]
  },
  {
   "cell_type": "code",
   "execution_count": 2,
   "id": "ff432c75",
   "metadata": {},
   "outputs": [
    {
     "data": {
      "text/html": [
       "<table style=\"border: 2px solid white;\">\n",
       "<tr>\n",
       "<td style=\"vertical-align: top; border: 0px solid white\">\n",
       "<h3 style=\"text-align: left;\">Client</h3>\n",
       "<ul style=\"text-align: left; list-style: none; margin: 0; padding: 0;\">\n",
       "  <li><b>Scheduler: </b>tcp://127.0.0.1:35631</li>\n",
       "  <li><b>Dashboard: </b><a href='http://127.0.0.1:8787/status' target='_blank'>http://127.0.0.1:8787/status</a></li>\n",
       "</ul>\n",
       "</td>\n",
       "<td style=\"vertical-align: top; border: 0px solid white\">\n",
       "<h3 style=\"text-align: left;\">Cluster</h3>\n",
       "<ul style=\"text-align: left; list-style:none; margin: 0; padding: 0;\">\n",
       "  <li><b>Workers: </b>4</li>\n",
       "  <li><b>Cores: </b>16</li>\n",
       "  <li><b>Memory: </b>16.44 GB</li>\n",
       "</ul>\n",
       "</td>\n",
       "</tr>\n",
       "</table>"
      ],
      "text/plain": [
       "<Client: 'tcp://127.0.0.1:35631' processes=4 threads=16, memory=16.44 GB>"
      ]
     },
     "execution_count": 2,
     "metadata": {},
     "output_type": "execute_result"
    }
   ],
   "source": [
    "client = Client()\n",
    "client"
   ]
  },
  {
   "cell_type": "markdown",
   "id": "900c12e0",
   "metadata": {},
   "source": [
    "# Merge"
   ]
  },
  {
   "cell_type": "code",
   "execution_count": 3,
   "id": "82183a0b",
   "metadata": {},
   "outputs": [],
   "source": [
    "#Correlación\n",
    "def calculate_correlation(data, variable1, variable2):\n",
    "    correlation = data[variable1].corr(data[variable2]).compute()\n",
    "    return print(f\"Correlación entre {variable1} y {variable2}: {correlation}\")"
   ]
  },
  {
   "cell_type": "code",
   "execution_count": 4,
   "id": "a9e6e84f",
   "metadata": {},
   "outputs": [],
   "source": [
    "def matriz_correlation(data, variable1, variable2):\n",
    "    data_subset = data[[variable1, variable2]]\n",
    "    correlation = data_subset.corr().compute()\n",
    "    print(correlation)"
   ]
  },
  {
   "cell_type": "code",
   "execution_count": 5,
   "id": "32f3bf4e",
   "metadata": {},
   "outputs": [],
   "source": [
    "config = pd.Series({\n",
    "    'path': os.path.abspath('dades'),\n",
    "    'file_type':'csv',\n",
    "    'years':[2019, 2021, 2022],\n",
    "    'dataset': 'BicingNou_ESTACIONS_MOD'\n",
    "})"
   ]
  },
  {
   "cell_type": "code",
   "execution_count": 6,
   "id": "24cb2875",
   "metadata": {},
   "outputs": [
    {
     "name": "stdout",
     "output_type": "stream",
     "text": [
      "checkpoint reloaded.\n",
      "checkpoint reloaded.\n",
      "checkpoint reloaded.\n",
      "CPU times: user 118 ms, sys: 0 ns, total: 118 ms\n",
      "Wall time: 112 ms\n"
     ]
    }
   ],
   "source": [
    "%%time\n",
    "\n",
    "def read_data_all(cnfg:dict):\n",
    "\n",
    "    data = dict()\n",
    "\n",
    "    for year in cnfg.years:\n",
    "        cnfg['year'] = year\n",
    "        data[year] = load_checkpoint(cnfg)\n",
    "    \n",
    "    return dd.concat(list(data.values()), interleave_partitions=False)\n",
    "    \n",
    "bbdd_completa = read_data_all(config)   "
   ]
  },
  {
   "cell_type": "code",
   "execution_count": 7,
   "id": "f7d9f27c",
   "metadata": {},
   "outputs": [
    {
     "name": "stdout",
     "output_type": "stream",
     "text": [
      "(12419994, 23)\n",
      "1\n",
      "2\n",
      "3\n",
      "4\n",
      "5\n",
      "6\n",
      "7\n",
      "8\n",
      "(12419489, 21)\n",
      "Changes to dataframe durinf preprocessing\n",
      "dropeed -505 rows\n",
      "dropped -2 columns\n",
      "CPU times: user 5.6 s, sys: 256 ms, total: 5.86 s\n",
      "Wall time: 17.3 s\n"
     ]
    }
   ],
   "source": [
    "%%time\n",
    "\n",
    "index=0\n",
    "before = get_ddf_shape(bbdd_completa)\n",
    "print(before)\n",
    "\n",
    "index+=1\n",
    "print(index)\n",
    "# 1 Error fix. # 2019 gener, febrer and marc have the status reversed\n",
    "cond = (bbdd_completa.year == 2019) & (bbdd_completa.month.isin([1,2,3]))\n",
    "bbdd_completa['status'] = bbdd_completa['status'].mask(cond, ((bbdd_completa['status'] + 1) %2))\n",
    "index+=1\n",
    "print(index)\n",
    "# 2 Remove not needed status, manitenance, planned. open = 0, closed = 1 \n",
    "cond = (bbdd_completa['status'].isin([2.0,3.0]))\n",
    "bbdd_completa['status'] = bbdd_completa['status'].mask(cond, 1.0)\n",
    "# bbdd_completa = bbdd_completa.dropna(subset=['status'])\n",
    "index+=1\n",
    "print(index)\n",
    "# 3 Remove data from 2020\n",
    "cond = (bbdd_completa['year'].isin([2020]))\n",
    "bbdd_completa = bbdd_completa.mask(cond, np.nan)\n",
    "bbdd_completa = bbdd_completa.dropna(subset=['year'])\n",
    "index+=1\n",
    "print(index)\n",
    "# 4 2019 to 2020 to have continuos data \n",
    "cond = (bbdd_completa['year'].isin([2019]))\n",
    "bbdd_completa['year'] = bbdd_completa['year'].mask(cond, bbdd_completa['year']+1)\n",
    "index+=1\n",
    "print(index)\n",
    "# 5 status reversed \n",
    "bbdd_completa['status'] = (bbdd_completa['status'] + 1)%2\n",
    "index+=1\n",
    "print(index)\n",
    "# 6 Column has all ones\n",
    "bbdd_completa = bbdd_completa.drop(columns=['is_installed'])\n",
    "index+=1\n",
    "print(index)\n",
    "# 7 Column has all ones\n",
    "bbdd_completa = bbdd_completa.drop(columns=['is_charging_station'])\n",
    "index+=1\n",
    "print(index)\n",
    "# 8 Remove row where status = closed and is renting and is returning\n",
    "# cond = (bbdd_completa['status'].isin([0.0])) & (bbdd_completa['is_renting'].isin([1.0])) & (bbdd_completa['is_returning'].isin([1.0]))\n",
    "# bbdd_completa = bbdd_completa.mask(cond, np.nan)\n",
    "# bbdd_completa = bbdd_completa.dropna(subset=['status'])\n",
    "\n",
    "after = get_ddf_shape(bbdd_completa)\n",
    "print(after)\n",
    "\n",
    "print('Changes to dataframe durinf preprocessing')\n",
    "print(f'dropeed {(after[0]-before[0]):02d} rows')\n",
    "print(f'dropped {(after[1]-before[1]):02d} columns')"
   ]
  },
  {
   "cell_type": "code",
   "execution_count": 8,
   "id": "9bb976d6",
   "metadata": {
    "scrolled": true
   },
   "outputs": [
    {
     "name": "stdout",
     "output_type": "stream",
     "text": [
      "year\n",
      "2020.0    [1, 320, 319, 318, 317, 316, 315, 314, 313, 31...\n",
      "2021.0    [1.0, 271.0, 400.0, 510.0, 26.0, 270.0, 269.0,...\n",
      "2022.0    [1, 380, 28, 379, 378, 377, 376, 375, 29, 374,...\n",
      "Name: station_id, dtype: object\n",
      "2020.0 (410,)\n",
      "2021.0 (509,)\n",
      "2022.0 (510,)\n",
      "408\n",
      "CPU times: user 1.58 s, sys: 134 ms, total: 1.72 s\n",
      "Wall time: 9.24 s\n"
     ]
    }
   ],
   "source": [
    "%%time\n",
    "\n",
    "unique_ids_by_year = bbdd_completa.groupby('year')['station_id'].unique().compute()\n",
    "print(unique_ids_by_year)\n",
    "\n",
    "# Calcula los station_id comunes en todos los años\n",
    "common_ids = set(unique_ids_by_year[2020])\n",
    "for year, ids in unique_ids_by_year.items():\n",
    "    print(year, ids.shape)\n",
    "    common_ids = common_ids.intersection(set(ids))\n",
    "# common_ids\n",
    "print(len(common_ids))\n",
    "\n",
    "filtered_bbdd = bbdd_completa[bbdd_completa['station_id'].isin(common_ids)]\n",
    "nonfiltered_bbdd = bbdd_completa[~bbdd_completa['station_id'].isin(common_ids)]"
   ]
  },
  {
   "cell_type": "code",
   "execution_count": 21,
   "id": "cd1ca3bf",
   "metadata": {},
   "outputs": [
    {
     "name": "stderr",
     "output_type": "stream",
     "text": [
      "distributed.nanny - WARNING - Worker exceeded 95% memory budget. Restarting\n",
      "distributed.nanny - WARNING - Restarting worker\n",
      "distributed.nanny - WARNING - Worker exceeded 95% memory budget. Restarting\n",
      "distributed.nanny - WARNING - Restarting worker\n",
      "distributed.nanny - WARNING - Worker exceeded 95% memory budget. Restarting\n",
      "distributed.nanny - WARNING - Restarting worker\n",
      "distributed.nanny - WARNING - Worker exceeded 95% memory budget. Restarting\n",
      "distributed.nanny - WARNING - Restarting worker\n"
     ]
    },
    {
     "ename": "KilledWorker",
     "evalue": "(\"('drop-duplicates-agg-184be3ca62cfabcca102b28a57c0cabc', 0)\", <Worker 'tcp://127.0.0.1:36589', name: 3, memory: 0, processing: 1>)",
     "output_type": "error",
     "traceback": [
      "\u001b[0;31m---------------------------------------------------------------------------\u001b[0m",
      "\u001b[0;31mKilledWorker\u001b[0m                              Traceback (most recent call last)",
      "\u001b[0;32m<timed exec>\u001b[0m in \u001b[0;36m<module>\u001b[0;34m\u001b[0m\n",
      "\u001b[0;32m~/wspc/src/GITHUB/CaptstoneProject/tools/tools.py\u001b[0m in \u001b[0;36mget_ddf_shape\u001b[0;34m(ddf)\u001b[0m\n\u001b[1;32m    419\u001b[0m \u001b[0;34m\u001b[0m\u001b[0m\n\u001b[1;32m    420\u001b[0m \u001b[0;32mdef\u001b[0m \u001b[0mget_ddf_shape\u001b[0m\u001b[0;34m(\u001b[0m\u001b[0mddf\u001b[0m\u001b[0;34m:\u001b[0m\u001b[0mdd\u001b[0m\u001b[0;34m.\u001b[0m\u001b[0mcore\u001b[0m\u001b[0;34m.\u001b[0m\u001b[0mDataFrame\u001b[0m\u001b[0;34m)\u001b[0m\u001b[0;34m:\u001b[0m\u001b[0;34m\u001b[0m\u001b[0;34m\u001b[0m\u001b[0m\n\u001b[0;32m--> 421\u001b[0;31m     \u001b[0;32mreturn\u001b[0m \u001b[0mddf\u001b[0m\u001b[0;34m.\u001b[0m\u001b[0mshape\u001b[0m\u001b[0;34m[\u001b[0m\u001b[0;36m0\u001b[0m\u001b[0;34m]\u001b[0m\u001b[0;34m.\u001b[0m\u001b[0mcompute\u001b[0m\u001b[0;34m(\u001b[0m\u001b[0;34m)\u001b[0m\u001b[0;34m,\u001b[0m \u001b[0mddf\u001b[0m\u001b[0;34m.\u001b[0m\u001b[0mshape\u001b[0m\u001b[0;34m[\u001b[0m\u001b[0;36m1\u001b[0m\u001b[0;34m]\u001b[0m\u001b[0;34m\u001b[0m\u001b[0;34m\u001b[0m\u001b[0m\n\u001b[0m\u001b[1;32m    422\u001b[0m \u001b[0;34m\u001b[0m\u001b[0m\n\u001b[1;32m    423\u001b[0m \u001b[0;32mdef\u001b[0m \u001b[0mget_column\u001b[0m\u001b[0;34m(\u001b[0m\u001b[0mdf\u001b[0m\u001b[0;34m,\u001b[0m \u001b[0mcolumn\u001b[0m\u001b[0;34m:\u001b[0m\u001b[0mstr\u001b[0m\u001b[0;34m)\u001b[0m \u001b[0;34m->\u001b[0m \u001b[0mpd\u001b[0m\u001b[0;34m.\u001b[0m\u001b[0mSeries\u001b[0m\u001b[0;34m:\u001b[0m\u001b[0;34m\u001b[0m\u001b[0;34m\u001b[0m\u001b[0m\n",
      "\u001b[0;32m~/miniconda3/envs/tensorflow/lib/python3.6/site-packages/dask/base.py\u001b[0m in \u001b[0;36mcompute\u001b[0;34m(self, **kwargs)\u001b[0m\n\u001b[1;32m    281\u001b[0m         \u001b[0mdask\u001b[0m\u001b[0;34m.\u001b[0m\u001b[0mbase\u001b[0m\u001b[0;34m.\u001b[0m\u001b[0mcompute\u001b[0m\u001b[0;34m\u001b[0m\u001b[0;34m\u001b[0m\u001b[0m\n\u001b[1;32m    282\u001b[0m         \"\"\"\n\u001b[0;32m--> 283\u001b[0;31m         \u001b[0;34m(\u001b[0m\u001b[0mresult\u001b[0m\u001b[0;34m,\u001b[0m\u001b[0;34m)\u001b[0m \u001b[0;34m=\u001b[0m \u001b[0mcompute\u001b[0m\u001b[0;34m(\u001b[0m\u001b[0mself\u001b[0m\u001b[0;34m,\u001b[0m \u001b[0mtraverse\u001b[0m\u001b[0;34m=\u001b[0m\u001b[0;32mFalse\u001b[0m\u001b[0;34m,\u001b[0m \u001b[0;34m**\u001b[0m\u001b[0mkwargs\u001b[0m\u001b[0;34m)\u001b[0m\u001b[0;34m\u001b[0m\u001b[0;34m\u001b[0m\u001b[0m\n\u001b[0m\u001b[1;32m    284\u001b[0m         \u001b[0;32mreturn\u001b[0m \u001b[0mresult\u001b[0m\u001b[0;34m\u001b[0m\u001b[0;34m\u001b[0m\u001b[0m\n\u001b[1;32m    285\u001b[0m \u001b[0;34m\u001b[0m\u001b[0m\n",
      "\u001b[0;32m~/miniconda3/envs/tensorflow/lib/python3.6/site-packages/dask/base.py\u001b[0m in \u001b[0;36mcompute\u001b[0;34m(*args, **kwargs)\u001b[0m\n\u001b[1;32m    563\u001b[0m         \u001b[0mpostcomputes\u001b[0m\u001b[0;34m.\u001b[0m\u001b[0mappend\u001b[0m\u001b[0;34m(\u001b[0m\u001b[0mx\u001b[0m\u001b[0;34m.\u001b[0m\u001b[0m__dask_postcompute__\u001b[0m\u001b[0;34m(\u001b[0m\u001b[0;34m)\u001b[0m\u001b[0;34m)\u001b[0m\u001b[0;34m\u001b[0m\u001b[0;34m\u001b[0m\u001b[0m\n\u001b[1;32m    564\u001b[0m \u001b[0;34m\u001b[0m\u001b[0m\n\u001b[0;32m--> 565\u001b[0;31m     \u001b[0mresults\u001b[0m \u001b[0;34m=\u001b[0m \u001b[0mschedule\u001b[0m\u001b[0;34m(\u001b[0m\u001b[0mdsk\u001b[0m\u001b[0;34m,\u001b[0m \u001b[0mkeys\u001b[0m\u001b[0;34m,\u001b[0m \u001b[0;34m**\u001b[0m\u001b[0mkwargs\u001b[0m\u001b[0;34m)\u001b[0m\u001b[0;34m\u001b[0m\u001b[0;34m\u001b[0m\u001b[0m\n\u001b[0m\u001b[1;32m    566\u001b[0m     \u001b[0;32mreturn\u001b[0m \u001b[0mrepack\u001b[0m\u001b[0;34m(\u001b[0m\u001b[0;34m[\u001b[0m\u001b[0mf\u001b[0m\u001b[0;34m(\u001b[0m\u001b[0mr\u001b[0m\u001b[0;34m,\u001b[0m \u001b[0;34m*\u001b[0m\u001b[0ma\u001b[0m\u001b[0;34m)\u001b[0m \u001b[0;32mfor\u001b[0m \u001b[0mr\u001b[0m\u001b[0;34m,\u001b[0m \u001b[0;34m(\u001b[0m\u001b[0mf\u001b[0m\u001b[0;34m,\u001b[0m \u001b[0ma\u001b[0m\u001b[0;34m)\u001b[0m \u001b[0;32min\u001b[0m \u001b[0mzip\u001b[0m\u001b[0;34m(\u001b[0m\u001b[0mresults\u001b[0m\u001b[0;34m,\u001b[0m \u001b[0mpostcomputes\u001b[0m\u001b[0;34m)\u001b[0m\u001b[0;34m]\u001b[0m\u001b[0;34m)\u001b[0m\u001b[0;34m\u001b[0m\u001b[0;34m\u001b[0m\u001b[0m\n\u001b[1;32m    567\u001b[0m \u001b[0;34m\u001b[0m\u001b[0m\n",
      "\u001b[0;32m~/miniconda3/envs/tensorflow/lib/python3.6/site-packages/distributed/client.py\u001b[0m in \u001b[0;36mget\u001b[0;34m(self, dsk, keys, workers, allow_other_workers, resources, sync, asynchronous, direct, retries, priority, fifo_timeout, actors, **kwargs)\u001b[0m\n\u001b[1;32m   2652\u001b[0m                     \u001b[0mshould_rejoin\u001b[0m \u001b[0;34m=\u001b[0m \u001b[0;32mFalse\u001b[0m\u001b[0;34m\u001b[0m\u001b[0;34m\u001b[0m\u001b[0m\n\u001b[1;32m   2653\u001b[0m             \u001b[0;32mtry\u001b[0m\u001b[0;34m:\u001b[0m\u001b[0;34m\u001b[0m\u001b[0;34m\u001b[0m\u001b[0m\n\u001b[0;32m-> 2654\u001b[0;31m                 \u001b[0mresults\u001b[0m \u001b[0;34m=\u001b[0m \u001b[0mself\u001b[0m\u001b[0;34m.\u001b[0m\u001b[0mgather\u001b[0m\u001b[0;34m(\u001b[0m\u001b[0mpacked\u001b[0m\u001b[0;34m,\u001b[0m \u001b[0masynchronous\u001b[0m\u001b[0;34m=\u001b[0m\u001b[0masynchronous\u001b[0m\u001b[0;34m,\u001b[0m \u001b[0mdirect\u001b[0m\u001b[0;34m=\u001b[0m\u001b[0mdirect\u001b[0m\u001b[0;34m)\u001b[0m\u001b[0;34m\u001b[0m\u001b[0;34m\u001b[0m\u001b[0m\n\u001b[0m\u001b[1;32m   2655\u001b[0m             \u001b[0;32mfinally\u001b[0m\u001b[0;34m:\u001b[0m\u001b[0;34m\u001b[0m\u001b[0;34m\u001b[0m\u001b[0m\n\u001b[1;32m   2656\u001b[0m                 \u001b[0;32mfor\u001b[0m \u001b[0mf\u001b[0m \u001b[0;32min\u001b[0m \u001b[0mfutures\u001b[0m\u001b[0;34m.\u001b[0m\u001b[0mvalues\u001b[0m\u001b[0;34m(\u001b[0m\u001b[0;34m)\u001b[0m\u001b[0;34m:\u001b[0m\u001b[0;34m\u001b[0m\u001b[0;34m\u001b[0m\u001b[0m\n",
      "\u001b[0;32m~/miniconda3/envs/tensorflow/lib/python3.6/site-packages/distributed/client.py\u001b[0m in \u001b[0;36mgather\u001b[0;34m(self, futures, errors, direct, asynchronous)\u001b[0m\n\u001b[1;32m   1967\u001b[0m                 \u001b[0mdirect\u001b[0m\u001b[0;34m=\u001b[0m\u001b[0mdirect\u001b[0m\u001b[0;34m,\u001b[0m\u001b[0;34m\u001b[0m\u001b[0;34m\u001b[0m\u001b[0m\n\u001b[1;32m   1968\u001b[0m                 \u001b[0mlocal_worker\u001b[0m\u001b[0;34m=\u001b[0m\u001b[0mlocal_worker\u001b[0m\u001b[0;34m,\u001b[0m\u001b[0;34m\u001b[0m\u001b[0;34m\u001b[0m\u001b[0m\n\u001b[0;32m-> 1969\u001b[0;31m                 \u001b[0masynchronous\u001b[0m\u001b[0;34m=\u001b[0m\u001b[0masynchronous\u001b[0m\u001b[0;34m,\u001b[0m\u001b[0;34m\u001b[0m\u001b[0;34m\u001b[0m\u001b[0m\n\u001b[0m\u001b[1;32m   1970\u001b[0m             )\n\u001b[1;32m   1971\u001b[0m \u001b[0;34m\u001b[0m\u001b[0m\n",
      "\u001b[0;32m~/miniconda3/envs/tensorflow/lib/python3.6/site-packages/distributed/client.py\u001b[0m in \u001b[0;36msync\u001b[0;34m(self, func, asynchronous, callback_timeout, *args, **kwargs)\u001b[0m\n\u001b[1;32m    836\u001b[0m         \u001b[0;32melse\u001b[0m\u001b[0;34m:\u001b[0m\u001b[0;34m\u001b[0m\u001b[0;34m\u001b[0m\u001b[0m\n\u001b[1;32m    837\u001b[0m             return sync(\n\u001b[0;32m--> 838\u001b[0;31m                 \u001b[0mself\u001b[0m\u001b[0;34m.\u001b[0m\u001b[0mloop\u001b[0m\u001b[0;34m,\u001b[0m \u001b[0mfunc\u001b[0m\u001b[0;34m,\u001b[0m \u001b[0;34m*\u001b[0m\u001b[0margs\u001b[0m\u001b[0;34m,\u001b[0m \u001b[0mcallback_timeout\u001b[0m\u001b[0;34m=\u001b[0m\u001b[0mcallback_timeout\u001b[0m\u001b[0;34m,\u001b[0m \u001b[0;34m**\u001b[0m\u001b[0mkwargs\u001b[0m\u001b[0;34m\u001b[0m\u001b[0;34m\u001b[0m\u001b[0m\n\u001b[0m\u001b[1;32m    839\u001b[0m             )\n\u001b[1;32m    840\u001b[0m \u001b[0;34m\u001b[0m\u001b[0m\n",
      "\u001b[0;32m~/miniconda3/envs/tensorflow/lib/python3.6/site-packages/distributed/utils.py\u001b[0m in \u001b[0;36msync\u001b[0;34m(loop, func, callback_timeout, *args, **kwargs)\u001b[0m\n\u001b[1;32m    349\u001b[0m     \u001b[0;32mif\u001b[0m \u001b[0merror\u001b[0m\u001b[0;34m[\u001b[0m\u001b[0;36m0\u001b[0m\u001b[0;34m]\u001b[0m\u001b[0;34m:\u001b[0m\u001b[0;34m\u001b[0m\u001b[0;34m\u001b[0m\u001b[0m\n\u001b[1;32m    350\u001b[0m         \u001b[0mtyp\u001b[0m\u001b[0;34m,\u001b[0m \u001b[0mexc\u001b[0m\u001b[0;34m,\u001b[0m \u001b[0mtb\u001b[0m \u001b[0;34m=\u001b[0m \u001b[0merror\u001b[0m\u001b[0;34m[\u001b[0m\u001b[0;36m0\u001b[0m\u001b[0;34m]\u001b[0m\u001b[0;34m\u001b[0m\u001b[0;34m\u001b[0m\u001b[0m\n\u001b[0;32m--> 351\u001b[0;31m         \u001b[0;32mraise\u001b[0m \u001b[0mexc\u001b[0m\u001b[0;34m.\u001b[0m\u001b[0mwith_traceback\u001b[0m\u001b[0;34m(\u001b[0m\u001b[0mtb\u001b[0m\u001b[0;34m)\u001b[0m\u001b[0;34m\u001b[0m\u001b[0;34m\u001b[0m\u001b[0m\n\u001b[0m\u001b[1;32m    352\u001b[0m     \u001b[0;32melse\u001b[0m\u001b[0;34m:\u001b[0m\u001b[0;34m\u001b[0m\u001b[0;34m\u001b[0m\u001b[0m\n\u001b[1;32m    353\u001b[0m         \u001b[0;32mreturn\u001b[0m \u001b[0mresult\u001b[0m\u001b[0;34m[\u001b[0m\u001b[0;36m0\u001b[0m\u001b[0;34m]\u001b[0m\u001b[0;34m\u001b[0m\u001b[0;34m\u001b[0m\u001b[0m\n",
      "\u001b[0;32m~/miniconda3/envs/tensorflow/lib/python3.6/site-packages/distributed/utils.py\u001b[0m in \u001b[0;36mf\u001b[0;34m()\u001b[0m\n\u001b[1;32m    332\u001b[0m             \u001b[0;32mif\u001b[0m \u001b[0mcallback_timeout\u001b[0m \u001b[0;32mis\u001b[0m \u001b[0;32mnot\u001b[0m \u001b[0;32mNone\u001b[0m\u001b[0;34m:\u001b[0m\u001b[0;34m\u001b[0m\u001b[0;34m\u001b[0m\u001b[0m\n\u001b[1;32m    333\u001b[0m                 \u001b[0mfuture\u001b[0m \u001b[0;34m=\u001b[0m \u001b[0masyncio\u001b[0m\u001b[0;34m.\u001b[0m\u001b[0mwait_for\u001b[0m\u001b[0;34m(\u001b[0m\u001b[0mfuture\u001b[0m\u001b[0;34m,\u001b[0m \u001b[0mcallback_timeout\u001b[0m\u001b[0;34m)\u001b[0m\u001b[0;34m\u001b[0m\u001b[0;34m\u001b[0m\u001b[0m\n\u001b[0;32m--> 334\u001b[0;31m             \u001b[0mresult\u001b[0m\u001b[0;34m[\u001b[0m\u001b[0;36m0\u001b[0m\u001b[0;34m]\u001b[0m \u001b[0;34m=\u001b[0m \u001b[0;32myield\u001b[0m \u001b[0mfuture\u001b[0m\u001b[0;34m\u001b[0m\u001b[0;34m\u001b[0m\u001b[0m\n\u001b[0m\u001b[1;32m    335\u001b[0m         \u001b[0;32mexcept\u001b[0m \u001b[0mException\u001b[0m \u001b[0;32mas\u001b[0m \u001b[0mexc\u001b[0m\u001b[0;34m:\u001b[0m\u001b[0;34m\u001b[0m\u001b[0;34m\u001b[0m\u001b[0m\n\u001b[1;32m    336\u001b[0m             \u001b[0merror\u001b[0m\u001b[0;34m[\u001b[0m\u001b[0;36m0\u001b[0m\u001b[0;34m]\u001b[0m \u001b[0;34m=\u001b[0m \u001b[0msys\u001b[0m\u001b[0;34m.\u001b[0m\u001b[0mexc_info\u001b[0m\u001b[0;34m(\u001b[0m\u001b[0;34m)\u001b[0m\u001b[0;34m\u001b[0m\u001b[0;34m\u001b[0m\u001b[0m\n",
      "\u001b[0;32m~/miniconda3/envs/tensorflow/lib/python3.6/site-packages/tornado/gen.py\u001b[0m in \u001b[0;36mrun\u001b[0;34m(self)\u001b[0m\n\u001b[1;32m    760\u001b[0m \u001b[0;34m\u001b[0m\u001b[0m\n\u001b[1;32m    761\u001b[0m                     \u001b[0;32mtry\u001b[0m\u001b[0;34m:\u001b[0m\u001b[0;34m\u001b[0m\u001b[0;34m\u001b[0m\u001b[0m\n\u001b[0;32m--> 762\u001b[0;31m                         \u001b[0mvalue\u001b[0m \u001b[0;34m=\u001b[0m \u001b[0mfuture\u001b[0m\u001b[0;34m.\u001b[0m\u001b[0mresult\u001b[0m\u001b[0;34m(\u001b[0m\u001b[0;34m)\u001b[0m\u001b[0;34m\u001b[0m\u001b[0;34m\u001b[0m\u001b[0m\n\u001b[0m\u001b[1;32m    763\u001b[0m                     \u001b[0;32mexcept\u001b[0m \u001b[0mException\u001b[0m\u001b[0;34m:\u001b[0m\u001b[0;34m\u001b[0m\u001b[0;34m\u001b[0m\u001b[0m\n\u001b[1;32m    764\u001b[0m                         \u001b[0mexc_info\u001b[0m \u001b[0;34m=\u001b[0m \u001b[0msys\u001b[0m\u001b[0;34m.\u001b[0m\u001b[0mexc_info\u001b[0m\u001b[0;34m(\u001b[0m\u001b[0;34m)\u001b[0m\u001b[0;34m\u001b[0m\u001b[0;34m\u001b[0m\u001b[0m\n",
      "\u001b[0;32m~/miniconda3/envs/tensorflow/lib/python3.6/site-packages/distributed/client.py\u001b[0m in \u001b[0;36m_gather\u001b[0;34m(self, futures, errors, direct, local_worker)\u001b[0m\n\u001b[1;32m   1826\u001b[0m                             \u001b[0mexc\u001b[0m \u001b[0;34m=\u001b[0m \u001b[0mCancelledError\u001b[0m\u001b[0;34m(\u001b[0m\u001b[0mkey\u001b[0m\u001b[0;34m)\u001b[0m\u001b[0;34m\u001b[0m\u001b[0;34m\u001b[0m\u001b[0m\n\u001b[1;32m   1827\u001b[0m                         \u001b[0;32melse\u001b[0m\u001b[0;34m:\u001b[0m\u001b[0;34m\u001b[0m\u001b[0;34m\u001b[0m\u001b[0m\n\u001b[0;32m-> 1828\u001b[0;31m                             \u001b[0;32mraise\u001b[0m \u001b[0mexception\u001b[0m\u001b[0;34m.\u001b[0m\u001b[0mwith_traceback\u001b[0m\u001b[0;34m(\u001b[0m\u001b[0mtraceback\u001b[0m\u001b[0;34m)\u001b[0m\u001b[0;34m\u001b[0m\u001b[0;34m\u001b[0m\u001b[0m\n\u001b[0m\u001b[1;32m   1829\u001b[0m                         \u001b[0;32mraise\u001b[0m \u001b[0mexc\u001b[0m\u001b[0;34m\u001b[0m\u001b[0;34m\u001b[0m\u001b[0m\n\u001b[1;32m   1830\u001b[0m                     \u001b[0;32mif\u001b[0m \u001b[0merrors\u001b[0m \u001b[0;34m==\u001b[0m \u001b[0;34m\"skip\"\u001b[0m\u001b[0;34m:\u001b[0m\u001b[0;34m\u001b[0m\u001b[0;34m\u001b[0m\u001b[0m\n",
      "\u001b[0;31mKilledWorker\u001b[0m: (\"('drop-duplicates-agg-184be3ca62cfabcca102b28a57c0cabc', 0)\", <Worker 'tcp://127.0.0.1:36589', name: 3, memory: 0, processing: 1>)"
     ]
    }
   ],
   "source": [
    "%%time\n",
    "\n",
    "before = get_ddf_shape(filtered_bbdd)\n",
    "print(before)\n",
    "\n",
    "filtered_bbdd = filtered_bbdd.drop_duplicates(subset=['timestamp', 'station_id'], keep='last')\n",
    "\n",
    "after = get_ddf_shape(filtered_bbdd)\n",
    "print(after)\n",
    "\n",
    "print('Changes to dataframe durinf preprocessing')\n",
    "print(f'dropeed {(after[0]-before[0]):02d} rows')\n",
    "print(f'dropped {(after[1]-before[1]):02d} columns')"
   ]
  },
  {
   "cell_type": "code",
   "execution_count": 10,
   "id": "2b125d0a",
   "metadata": {},
   "outputs": [
    {
     "name": "stdout",
     "output_type": "stream",
     "text": [
      "(1791834, 21)\n",
      "(1771494, 21)\n",
      "Changes to dataframe durinf preprocessing\n",
      "dropeed -20340 rows\n",
      "dropped 00 columns\n",
      "CPU times: user 9.9 s, sys: 665 ms, total: 10.6 s\n",
      "Wall time: 24.5 s\n"
     ]
    }
   ],
   "source": [
    "%%time\n",
    "\n",
    "before = get_ddf_shape(nonfiltered_bbdd)\n",
    "print(before)\n",
    "\n",
    "nonfiltered_bbdd = nonfiltered_bbdd.drop_duplicates(subset=['timestamp', 'station_id'], keep='last')\n",
    "\n",
    "after = get_ddf_shape(nonfiltered_bbdd)\n",
    "print(after)\n",
    "\n",
    "print('Changes to dataframe durinf preprocessing')\n",
    "print(f'dropeed {(after[0]-before[0]):02d} rows')\n",
    "print(f'dropped {(after[1]-before[1]):02d} columns')"
   ]
  },
  {
   "cell_type": "markdown",
   "id": "3d2a7e03",
   "metadata": {},
   "source": [
    "## General view"
   ]
  },
  {
   "cell_type": "code",
   "execution_count": 11,
   "id": "98da9baf",
   "metadata": {},
   "outputs": [
    {
     "data": {
      "text/plain": [
       "Index(['station_id', 'num_docks_available', 'num_bikes_available', 'status',\n",
       "       'timestamp', 'is_renting', 'is_returning',\n",
       "       'num_bikes_available_types.mechanical',\n",
       "       'num_bikes_available_types.ebike', 'year', 'month', 'dayofweek', 'day',\n",
       "       'dayofyear', 'hour', 'capacity', 'ctx0', 'ctx1', 'ctx2', 'ctx3',\n",
       "       'ctx4'],\n",
       "      dtype='object')"
      ]
     },
     "execution_count": 11,
     "metadata": {},
     "output_type": "execute_result"
    }
   ],
   "source": [
    "bbdd_completa.columns"
   ]
  },
  {
   "cell_type": "code",
   "execution_count": 12,
   "id": "f8fb11b9",
   "metadata": {},
   "outputs": [
    {
     "data": {
      "text/plain": [
       "61"
      ]
     },
     "execution_count": 12,
     "metadata": {},
     "output_type": "execute_result"
    }
   ],
   "source": [
    "\n",
    "len(bbdd_completa.divisions) # divisions mark the start and end of each partiotion\n",
    "# in our case we have nones but that is okay"
   ]
  },
  {
   "cell_type": "code",
   "execution_count": 13,
   "id": "1c2afcbe",
   "metadata": {},
   "outputs": [
    {
     "data": {
      "text/html": [
       "<div>\n",
       "<style scoped>\n",
       "    .dataframe tbody tr th:only-of-type {\n",
       "        vertical-align: middle;\n",
       "    }\n",
       "\n",
       "    .dataframe tbody tr th {\n",
       "        vertical-align: top;\n",
       "    }\n",
       "\n",
       "    .dataframe thead th {\n",
       "        text-align: right;\n",
       "    }\n",
       "</style>\n",
       "<table border=\"1\" class=\"dataframe\">\n",
       "  <thead>\n",
       "    <tr style=\"text-align: right;\">\n",
       "      <th></th>\n",
       "      <th>station_id</th>\n",
       "      <th>num_docks_available</th>\n",
       "      <th>num_bikes_available</th>\n",
       "      <th>status</th>\n",
       "      <th>timestamp</th>\n",
       "      <th>is_renting</th>\n",
       "      <th>is_returning</th>\n",
       "      <th>num_bikes_available_types.mechanical</th>\n",
       "      <th>num_bikes_available_types.ebike</th>\n",
       "      <th>year</th>\n",
       "      <th>month</th>\n",
       "      <th>dayofweek</th>\n",
       "      <th>day</th>\n",
       "      <th>dayofyear</th>\n",
       "      <th>hour</th>\n",
       "      <th>capacity</th>\n",
       "      <th>ctx0</th>\n",
       "      <th>ctx1</th>\n",
       "      <th>ctx2</th>\n",
       "      <th>ctx3</th>\n",
       "      <th>ctx4</th>\n",
       "    </tr>\n",
       "  </thead>\n",
       "  <tbody>\n",
       "    <tr>\n",
       "      <th>0</th>\n",
       "      <td>1</td>\n",
       "      <td>8.363636</td>\n",
       "      <td>17.636364</td>\n",
       "      <td>1.0</td>\n",
       "      <td>1546300800</td>\n",
       "      <td>1</td>\n",
       "      <td>1</td>\n",
       "      <td>17.636364</td>\n",
       "      <td>0.0</td>\n",
       "      <td>2020</td>\n",
       "      <td>1</td>\n",
       "      <td>1</td>\n",
       "      <td>1</td>\n",
       "      <td>1</td>\n",
       "      <td>0</td>\n",
       "      <td>46.0</td>\n",
       "      <td>0.181818</td>\n",
       "      <td>0.181818</td>\n",
       "      <td>0.181818</td>\n",
       "      <td>0.181818</td>\n",
       "      <td>0.181818</td>\n",
       "    </tr>\n",
       "    <tr>\n",
       "      <th>1</th>\n",
       "      <td>1</td>\n",
       "      <td>0.818182</td>\n",
       "      <td>26.181818</td>\n",
       "      <td>1.0</td>\n",
       "      <td>1546380000</td>\n",
       "      <td>1</td>\n",
       "      <td>1</td>\n",
       "      <td>26.181818</td>\n",
       "      <td>0.0</td>\n",
       "      <td>2020</td>\n",
       "      <td>1</td>\n",
       "      <td>1</td>\n",
       "      <td>1</td>\n",
       "      <td>1</td>\n",
       "      <td>22</td>\n",
       "      <td>46.0</td>\n",
       "      <td>0.017787</td>\n",
       "      <td>0.021739</td>\n",
       "      <td>0.023715</td>\n",
       "      <td>0.106719</td>\n",
       "      <td>0.094203</td>\n",
       "    </tr>\n",
       "  </tbody>\n",
       "</table>\n",
       "</div>"
      ],
      "text/plain": [
       "   station_id  num_docks_available  num_bikes_available  status   timestamp  \\\n",
       "0           1             8.363636            17.636364     1.0  1546300800   \n",
       "1           1             0.818182            26.181818     1.0  1546380000   \n",
       "\n",
       "   is_renting  is_returning  num_bikes_available_types.mechanical  \\\n",
       "0           1             1                             17.636364   \n",
       "1           1             1                             26.181818   \n",
       "\n",
       "   num_bikes_available_types.ebike  year  month  dayofweek  day  dayofyear  \\\n",
       "0                              0.0  2020      1          1    1          1   \n",
       "1                              0.0  2020      1          1    1          1   \n",
       "\n",
       "   hour  capacity      ctx0      ctx1      ctx2      ctx3      ctx4  \n",
       "0     0      46.0  0.181818  0.181818  0.181818  0.181818  0.181818  \n",
       "1    22      46.0  0.017787  0.021739  0.023715  0.106719  0.094203  "
      ]
     },
     "execution_count": 13,
     "metadata": {},
     "output_type": "execute_result"
    }
   ],
   "source": [
    "bbdd_completa.head(2)"
   ]
  },
  {
   "cell_type": "code",
   "execution_count": 14,
   "id": "f40ff706",
   "metadata": {},
   "outputs": [
    {
     "name": "stdout",
     "output_type": "stream",
     "text": [
      "CPU times: user 4.4 s, sys: 335 ms, total: 4.73 s\n",
      "Wall time: 11.3 s\n"
     ]
    },
    {
     "data": {
      "text/plain": [
       "(12419489, 21)"
      ]
     },
     "execution_count": 14,
     "metadata": {},
     "output_type": "execute_result"
    }
   ],
   "source": [
    "%%time\n",
    "\n",
    "get_ddf_shape(bbdd_completa)"
   ]
  },
  {
   "cell_type": "code",
   "execution_count": 15,
   "id": "d6a4ef4a",
   "metadata": {},
   "outputs": [
    {
     "name": "stdout",
     "output_type": "stream",
     "text": [
      "CPU times: user 11.7 s, sys: 845 ms, total: 12.5 s\n",
      "Wall time: 39.3 s\n"
     ]
    }
   ],
   "source": [
    "%%time\n",
    "\n",
    "nans = get_features_nans(bbdd_completa)\n",
    "\n",
    "zeros = get_features_zero(bbdd_completa)"
   ]
  },
  {
   "cell_type": "code",
   "execution_count": 16,
   "id": "80adc9ab",
   "metadata": {},
   "outputs": [
    {
     "data": {
      "text/plain": [
       "{}"
      ]
     },
     "execution_count": 16,
     "metadata": {},
     "output_type": "execute_result"
    }
   ],
   "source": [
    "nans"
   ]
  },
  {
   "cell_type": "code",
   "execution_count": 17,
   "id": "e704ffc1",
   "metadata": {},
   "outputs": [
    {
     "data": {
      "text/plain": [
       "{'num_docks_available': 1.0849077606977227,\n",
       " 'num_bikes_available': 6.601189469228565,\n",
       " 'status': 3.552247600525271,\n",
       " 'is_renting': 0.0620879007179764,\n",
       " 'is_returning': 0.06201543396833799,\n",
       " 'num_bikes_available_types.mechanical': 16.168338326963372,\n",
       " 'num_bikes_available_types.ebike': 30.1792448948584,\n",
       " 'dayofweek': 14.259668815681547,\n",
       " 'hour': 4.314356250889227,\n",
       " 'ctx0': 1.0849077606977227,\n",
       " 'ctx1': 1.0829592103185566,\n",
       " 'ctx2': 1.0801491108048005,\n",
       " 'ctx3': 1.0772826482635478,\n",
       " 'ctx4': 1.0744886524719335}"
      ]
     },
     "execution_count": 17,
     "metadata": {},
     "output_type": "execute_result"
    }
   ],
   "source": [
    "zeros"
   ]
  },
  {
   "cell_type": "code",
   "execution_count": 18,
   "id": "b54fbcb2",
   "metadata": {},
   "outputs": [
    {
     "name": "stdout",
     "output_type": "stream",
     "text": [
      "CPU times: user 31 s, sys: 1.89 s, total: 32.9 s\n",
      "Wall time: 2min 59s\n"
     ]
    }
   ],
   "source": [
    "%%time \n",
    "\n",
    "uniques = get_columns_unique(bbdd_completa)"
   ]
  },
  {
   "cell_type": "code",
   "execution_count": 19,
   "id": "d28d4a83",
   "metadata": {
    "scrolled": true
   },
   "outputs": [
    {
     "data": {
      "text/plain": [
       "{'station_id': 0        1.0\n",
       " 1      320.0\n",
       " 2      319.0\n",
       " 3      318.0\n",
       " 4      317.0\n",
       "        ...  \n",
       " 507    446.0\n",
       " 508     91.0\n",
       " 509    467.0\n",
       " 510     52.0\n",
       " 511    431.0\n",
       " Name: station_id, Length: 512, dtype: float64,\n",
       " 'num_docks_available': 0         8.363636\n",
       " 1         0.818182\n",
       " 2         0.000000\n",
       " 3         6.818182\n",
       " 4         7.909091\n",
       "            ...    \n",
       " 12304    36.266667\n",
       " 12305    19.151515\n",
       " 12306     3.823529\n",
       " 12307    24.433333\n",
       " 12308     7.888889\n",
       " Name: num_docks_available, Length: 12309, dtype: float64,\n",
       " 'num_bikes_available': 0        17.636364\n",
       " 1        26.181818\n",
       " 2        27.000000\n",
       " 3        21.181818\n",
       " 4        20.181818\n",
       "            ...    \n",
       " 10123    29.333333\n",
       " 10124     4.757576\n",
       " 10125    24.176471\n",
       " 10126     2.566667\n",
       " 10127    52.708333\n",
       " Name: num_bikes_available, Length: 10128, dtype: float64,\n",
       " 'status': 0    1.0\n",
       " 1    0.0\n",
       " Name: status, dtype: float64,\n",
       " 'timestamp': 0        1.546301e+09\n",
       " 1        1.546380e+09\n",
       " 2        1.546402e+09\n",
       " 3        1.546416e+09\n",
       " 4        1.546423e+09\n",
       "              ...     \n",
       " 26027    1.672438e+09\n",
       " 26028    1.671898e+09\n",
       " 26029    1.671214e+09\n",
       " 26030    1.671012e+09\n",
       " 26031    1.672045e+09\n",
       " Name: timestamp, Length: 26032, dtype: float64,\n",
       " 'is_renting': 0    1.0\n",
       " 1    0.0\n",
       " Name: is_renting, dtype: float64,\n",
       " 'is_returning': 0    1.0\n",
       " 1    0.0\n",
       " Name: is_returning, dtype: float64,\n",
       " 'num_bikes_available_types.mechanical': 0       17.636364\n",
       " 1       26.181818\n",
       " 2       27.000000\n",
       " 3       21.181818\n",
       " 4       20.181818\n",
       "           ...    \n",
       " 8758     3.303030\n",
       " 8759    46.076923\n",
       " 8760    23.588235\n",
       " 8761     2.566667\n",
       " 8762    45.846154\n",
       " Name: num_bikes_available_types.mechanical, Length: 8763, dtype: float64,\n",
       " 'num_bikes_available_types.ebike': 0        0.000000\n",
       " 1        1.000000\n",
       " 2        0.428571\n",
       " 3        0.250000\n",
       " 4        2.000000\n",
       "           ...    \n",
       " 3321     2.074074\n",
       " 3322    19.863636\n",
       " 3323     0.588235\n",
       " 3324     6.458333\n",
       " 3325    27.041667\n",
       " Name: num_bikes_available_types.ebike, Length: 3326, dtype: float64,\n",
       " 'year': 0    2020.0\n",
       " 1    2021.0\n",
       " 2    2022.0\n",
       " Name: year, dtype: float64,\n",
       " 'month': 0      1.0\n",
       " 1      2.0\n",
       " 2      3.0\n",
       " 3      4.0\n",
       " 4      5.0\n",
       " 5      6.0\n",
       " 6      7.0\n",
       " 7      8.0\n",
       " 8      9.0\n",
       " 9     10.0\n",
       " 10    11.0\n",
       " 11    12.0\n",
       " Name: month, dtype: float64,\n",
       " 'dayofweek': 0    1.0\n",
       " 1    2.0\n",
       " 2    3.0\n",
       " 3    4.0\n",
       " 4    5.0\n",
       " 5    6.0\n",
       " 6    0.0\n",
       " Name: dayofweek, dtype: float64,\n",
       " 'day': 0      1.0\n",
       " 1      2.0\n",
       " 2      3.0\n",
       " 3      4.0\n",
       " 4      5.0\n",
       " 5      6.0\n",
       " 6      7.0\n",
       " 7      8.0\n",
       " 8      9.0\n",
       " 9     10.0\n",
       " 10    11.0\n",
       " 11    12.0\n",
       " 12    13.0\n",
       " 13    14.0\n",
       " 14    15.0\n",
       " 15    16.0\n",
       " 16    17.0\n",
       " 17    18.0\n",
       " 18    20.0\n",
       " 19    21.0\n",
       " 20    22.0\n",
       " 21    23.0\n",
       " 22    24.0\n",
       " 23    25.0\n",
       " 24    26.0\n",
       " 25    27.0\n",
       " 26    28.0\n",
       " 27    29.0\n",
       " 28    30.0\n",
       " 29    31.0\n",
       " 30    19.0\n",
       " Name: day, dtype: float64,\n",
       " 'dayofyear': 0        1.0\n",
       " 1        2.0\n",
       " 2        3.0\n",
       " 3        4.0\n",
       " 4        5.0\n",
       "        ...  \n",
       " 360     93.0\n",
       " 361     94.0\n",
       " 362    207.0\n",
       " 363    208.0\n",
       " 364    209.0\n",
       " Name: dayofyear, Length: 365, dtype: float64,\n",
       " 'hour': 0      0.0\n",
       " 1     22.0\n",
       " 2      4.0\n",
       " 3      8.0\n",
       " 4     10.0\n",
       " 5     13.0\n",
       " 6     15.0\n",
       " 7     23.0\n",
       " 8     16.0\n",
       " 9      3.0\n",
       " 10     2.0\n",
       " 11     1.0\n",
       " 12     7.0\n",
       " 13    12.0\n",
       " 14    19.0\n",
       " 15    18.0\n",
       " 16    20.0\n",
       " 17    17.0\n",
       " 18    11.0\n",
       " 19    21.0\n",
       " 20     6.0\n",
       " 21     9.0\n",
       " 22     5.0\n",
       " 23    14.0\n",
       " Name: hour, dtype: float64,\n",
       " 'capacity': 0     46.0\n",
       " 1     27.0\n",
       " 2     33.0\n",
       " 3     27.0\n",
       " 4     36.0\n",
       "       ... \n",
       " 56    40.0\n",
       " 57    50.0\n",
       " 58    16.0\n",
       " 59    54.0\n",
       " 60    21.0\n",
       " Name: capacity, Length: 61, dtype: float64,\n",
       " 'ctx0': 0        0.181818\n",
       " 1        0.017787\n",
       " 2        0.000000\n",
       " 3        0.148221\n",
       " 4        0.171937\n",
       "            ...   \n",
       " 80962    0.975113\n",
       " 80963    0.612821\n",
       " 80964    0.883677\n",
       " 80965    0.328912\n",
       " 80966    0.313187\n",
       " Name: ctx0, Length: 80967, dtype: float64,\n",
       " 'ctx1': 0        0.181818\n",
       " 1        0.021739\n",
       " 2        0.000000\n",
       " 3        0.175889\n",
       " 4        0.187747\n",
       "            ...   \n",
       " 80893    0.414835\n",
       " 80894    0.940909\n",
       " 80895    0.609231\n",
       " 80896    0.294430\n",
       " 80897    0.854111\n",
       " Name: ctx1, Length: 80898, dtype: float64,\n",
       " 'ctx2': 0        0.181818\n",
       " 1        0.023715\n",
       " 2        0.000000\n",
       " 3        0.029644\n",
       " 4        0.148221\n",
       "            ...   \n",
       " 80895    0.536264\n",
       " 80896    0.932458\n",
       " 80897    0.600375\n",
       " 80898    0.249531\n",
       " 80899    0.294430\n",
       " Name: ctx2, Length: 80900, dtype: float64,\n",
       " 'ctx3': 0        0.181818\n",
       " 1        0.106719\n",
       " 2        0.000000\n",
       " 3        0.175889\n",
       " 4        0.171937\n",
       "            ...   \n",
       " 80897    0.612821\n",
       " 80898    0.705441\n",
       " 80899    0.617517\n",
       " 80900    0.521576\n",
       " 80901    0.313187\n",
       " Name: ctx3, Length: 80902, dtype: float64,\n",
       " 'ctx4': 0        0.181818\n",
       " 1        0.094203\n",
       " 2        0.021739\n",
       " 3        0.000000\n",
       " 4        0.029644\n",
       "            ...   \n",
       " 80894    0.611440\n",
       " 80895    0.360677\n",
       " 80896    0.400253\n",
       " 80897    0.838649\n",
       " 80898    0.330206\n",
       " Name: ctx4, Length: 80899, dtype: float64}"
      ]
     },
     "execution_count": 19,
     "metadata": {},
     "output_type": "execute_result"
    }
   ],
   "source": [
    "uniques"
   ]
  },
  {
   "cell_type": "code",
   "execution_count": 20,
   "id": "1bca6e09",
   "metadata": {},
   "outputs": [
    {
     "data": {
      "text/plain": [
       "array([1.54630080e+09, 1.57463877e+09, 1.61498426e+09, 1.65532975e+09,\n",
       "       1.67252760e+09])"
      ]
     },
     "execution_count": 20,
     "metadata": {},
     "output_type": "execute_result"
    }
   ],
   "source": [
    "xticks = np.asanyarray(\n",
    "    (\n",
    "        uniques['timestamp'].min(), \n",
    "        np.round(uniques['timestamp'].mean()-uniques['timestamp'].std()).astype(int),\n",
    "        np.round(uniques['timestamp'].mean()).astype(int),\n",
    "        np.round(uniques['timestamp'].mean()+uniques['timestamp'].std()).astype(int),\n",
    "        uniques['timestamp'].max()\n",
    "    )\n",
    ")\n",
    "xticks"
   ]
  },
  {
   "cell_type": "markdown",
   "id": "3c17d34c",
   "metadata": {},
   "source": [
    "# Station IDs"
   ]
  },
  {
   "cell_type": "code",
   "execution_count": null,
   "id": "ddd1d557",
   "metadata": {},
   "outputs": [],
   "source": [
    "%%time\n",
    "\n",
    "print(stats.describe(bbdd_completa.station_id))\n",
    "bbdd_completa.station_id.describe().compute()"
   ]
  },
  {
   "cell_type": "code",
   "execution_count": null,
   "id": "61fd3b9c",
   "metadata": {},
   "outputs": [],
   "source": [
    "%%time\n",
    "\n",
    "show_counts(bbdd_completa.station_id.compute())"
   ]
  },
  {
   "cell_type": "markdown",
   "id": "ccdc19ab",
   "metadata": {},
   "source": [
    "# IDs comunes"
   ]
  },
  {
   "cell_type": "code",
   "execution_count": null,
   "id": "90303fbb",
   "metadata": {},
   "outputs": [],
   "source": [
    "%%time\n",
    "\n",
    "get_ddf_shape(filtered_bbdd)\n",
    "#bbdd_completa.shape = (12531377, 23)"
   ]
  },
  {
   "cell_type": "code",
   "execution_count": null,
   "id": "6da0d128",
   "metadata": {},
   "outputs": [],
   "source": [
    "%%time\n",
    "\n",
    "scatter_columns(\n",
    "    filtered_bbdd, \n",
    "    'timestamp', \n",
    "    'station_id', \n",
    "    'station_id', \n",
    "    tail=True, \n",
    "    xticks=xticks,\n",
    "    figsize=(10,8)\n",
    ")"
   ]
  },
  {
   "cell_type": "markdown",
   "id": "fa2b3dd8",
   "metadata": {},
   "source": [
    "## IDs no comunes (testing)"
   ]
  },
  {
   "cell_type": "code",
   "execution_count": null,
   "id": "eb16c707",
   "metadata": {},
   "outputs": [],
   "source": [
    "%%time\n",
    "\n",
    "get_ddf_shape(nonfiltered_bbdd)\n",
    "#bbdd_completa.shape = (12531377, 23)"
   ]
  },
  {
   "cell_type": "code",
   "execution_count": null,
   "id": "5415658f",
   "metadata": {
    "scrolled": false
   },
   "outputs": [],
   "source": [
    "%%time\n",
    "\n",
    "scatter_columns(\n",
    "    nonfiltered_bbdd, \n",
    "    'timestamp', \n",
    "    'station_id', \n",
    "    'station_id', \n",
    "    tail=True, \n",
    "    xticks=xticks,\n",
    "    figsize=(10,8)\n",
    ")"
   ]
  },
  {
   "cell_type": "markdown",
   "id": "5e0dc2dc",
   "metadata": {},
   "source": [
    "# Data exploration__________________________________"
   ]
  },
  {
   "cell_type": "markdown",
   "id": "5a075ccb",
   "metadata": {},
   "source": [
    "## · Descriptiva\n",
    "Media, mediana, desviación estándar, mínimo y máximo para columnas numéricas Idea general de la distribución y el rango de los valores en esas columnas."
   ]
  },
  {
   "cell_type": "markdown",
   "id": "3906dbe2",
   "metadata": {},
   "source": [
    "<div>\n",
    "    <table>\n",
    "        <tr>\n",
    "            <th><p>Camp<p><th>\n",
    "            <th><p>Descripció<p><th>\n",
    "        <tr>\n",
    "        <tr>\n",
    "            <td><p>last_updated<p><td>\n",
    "            <td><p>Timestamp de l'arxiu<p><td>\n",
    "        <tr>\n",
    "        <tr>\n",
    "            <td><p>ttl<p><td>\n",
    "            <td><p>TimeToLive de la resposta<p><td>\n",
    "        <tr>\n",
    "        <tr>\n",
    "            <td><p>data<p><td>\n",
    "            <td><p>Contenidor d'arrays d'informació d'estacions<p><td>\n",
    "        <tr>\n",
    "        <tr>\n",
    "            <td><p>stations<p><td>\n",
    "            <td><p>Array de dades de cada estació<p><td>\n",
    "        <tr>\n",
    "        <tr>\n",
    "            <td><p>station_id<p><td>\n",
    "            <td><p>Identificador de l'estació<p><td>\n",
    "        <tr>\n",
    "        <tr>\n",
    "            <td><p>num_bikes_available<p><td>\n",
    "            <td><p>Nombre de bicicletes disponibles<p><td>\n",
    "        <tr>\n",
    "        <tr>\n",
    "            <td><p>num_bikes_available_types<p><td>\n",
    "            <td><p>Array de tipus de bicicletes disponibles<p><td>\n",
    "        <tr>\n",
    "        <tr>\n",
    "            <td><p>mechanical<p><td>\n",
    "            <td><p>Nombre de bicicletes mecàniques disponibles<p><td>\n",
    "        <tr>\n",
    "        <tr>\n",
    "            <td><p>ebike<p><td>\n",
    "            <td><p>Nombre de bicicletes elèctriques disponibles<p><td>\n",
    "        <tr>\n",
    "        <tr>\n",
    "            <td><p>num_docks_available<p><td>\n",
    "            <td><p>Nombre de ancoratges disponibles<p><td>\n",
    "        <tr>\n",
    "        <tr>\n",
    "            <td><p>is_installed<p><td>\n",
    "            <td><p>L'estació està correctament instalada (0-NO,1-SI)<p><td>\n",
    "        <tr>\n",
    "        <tr>\n",
    "            <td><p>is_renting<p><td>\n",
    "            <td><p>L'estació està proporcionant bicicletes correctament<p><td>\n",
    "        <tr>\n",
    "        <tr>\n",
    "            <td><p>is_returning<p><td>\n",
    "            <td><p>L'estació està ancorant bicicletes correctament<p><td>\n",
    "        <tr>\n",
    "        <tr>\n",
    "            <td><p>last_reported<p><td>\n",
    "            <td><p>Timestamp de la informació de l'estació<p><td>\n",
    "        <tr>\n",
    "        <tr>\n",
    "            <td><p>is_charging_station<p><td>\n",
    "            <td><p>L'estació té capacitat de càrrega de bicicletes elèctriques<p><td>\n",
    "        <tr>\n",
    "        <tr>\n",
    "            <td><p>status<p><td>\n",
    "            <td><p>\n",
    "                Estat de l'estació (IN_SERVICE=En servei, CLOSED=Tancada)\n",
    "                 ['IN_SERVICE', 'OPEN', 'OPN', 'CLS', 'CLOSED', 'NOT_IN_SERVICE', 'MAINTENANCE', 'PLANNED']                     [0, 0, 0, 1, 1, 1,  2, 3]\n",
    "                <p><td>\n",
    "        <tr>\n",
    "    <table>\n",
    "<div>"
   ]
  },
  {
   "cell_type": "markdown",
   "id": "882dc46a",
   "metadata": {},
   "source": [
    "# Time columns "
   ]
  },
  {
   "cell_type": "markdown",
   "id": "ec6f6f62",
   "metadata": {
    "slideshow": {
     "slide_type": "-"
    }
   },
   "source": [
    "## 'timestamp'"
   ]
  },
  {
   "cell_type": "code",
   "execution_count": null,
   "id": "225eea71",
   "metadata": {},
   "outputs": [],
   "source": [
    "%%time\n",
    "print(stats.describe(filtered_bbdd.timestamp))\n",
    "filtered_bbdd.timestamp.describe()\n",
    "\n",
    "show_counts(filtered_bbdd.timestamp.compute())"
   ]
  },
  {
   "cell_type": "markdown",
   "id": "1c756651",
   "metadata": {},
   "source": [
    "## 'year' "
   ]
  },
  {
   "cell_type": "code",
   "execution_count": null,
   "id": "36026578",
   "metadata": {},
   "outputs": [],
   "source": [
    "%%time\n",
    "print(stats.describe(filtered_bbdd.year))\n",
    "filtered_bbdd.year.describe()\n",
    "show_counts(filtered_bbdd.year.compute())"
   ]
  },
  {
   "cell_type": "markdown",
   "id": "8686676b",
   "metadata": {},
   "source": [
    "## 'month'"
   ]
  },
  {
   "cell_type": "code",
   "execution_count": null,
   "id": "a8c1977c",
   "metadata": {},
   "outputs": [],
   "source": [
    "%%time\n",
    "print(stats.describe(filtered_bbdd.month))\n",
    "filtered_bbdd.month.describe()\n",
    "show_counts(filtered_bbdd.month.compute())"
   ]
  },
  {
   "cell_type": "markdown",
   "id": "921f1396",
   "metadata": {},
   "source": [
    "## 'dayofweek' "
   ]
  },
  {
   "cell_type": "code",
   "execution_count": null,
   "id": "4091641f",
   "metadata": {},
   "outputs": [],
   "source": [
    "%%time\n",
    "print(stats.describe(filtered_bbdd.dayofweek))\n",
    "filtered_bbdd.dayofweek.describe()\n",
    "show_counts(filtered_bbdd.dayofweek.compute())"
   ]
  },
  {
   "cell_type": "markdown",
   "id": "756ca0f8",
   "metadata": {},
   "source": [
    "## 'day'"
   ]
  },
  {
   "cell_type": "code",
   "execution_count": null,
   "id": "e16cad58",
   "metadata": {},
   "outputs": [],
   "source": [
    "%%time\n",
    "print(stats.describe(filtered_bbdd.day))\n",
    "filtered_bbdd.day.describe()\n",
    "show_counts(filtered_bbdd.day.compute())"
   ]
  },
  {
   "cell_type": "markdown",
   "id": "5247e7c2",
   "metadata": {},
   "source": [
    "## 'dayofyear' "
   ]
  },
  {
   "cell_type": "code",
   "execution_count": null,
   "id": "fdbb8d2d",
   "metadata": {},
   "outputs": [],
   "source": [
    "%%time\n",
    "print(stats.describe(filtered_bbdd.dayofyear))\n",
    "filtered_bbdd.dayofyear.describe()\n",
    "show_counts(filtered_bbdd.dayofyear.compute())"
   ]
  },
  {
   "cell_type": "markdown",
   "id": "6ded1c75",
   "metadata": {},
   "source": [
    "## 'hour'"
   ]
  },
  {
   "cell_type": "code",
   "execution_count": null,
   "id": "8a8f0971",
   "metadata": {},
   "outputs": [],
   "source": [
    "%%time\n",
    "print(stats.describe(filtered_bbdd.hour))\n",
    "filtered_bbdd.hour.describe()\n",
    "show_counts(filtered_bbdd.hour.compute())"
   ]
  },
  {
   "cell_type": "markdown",
   "id": "ba3fcbd7",
   "metadata": {},
   "source": [
    "# Status Columns "
   ]
  },
  {
   "cell_type": "markdown",
   "id": "456bfe92",
   "metadata": {},
   "source": [
    "## 'status'"
   ]
  },
  {
   "cell_type": "code",
   "execution_count": null,
   "id": "52f72314",
   "metadata": {
    "scrolled": false
   },
   "outputs": [],
   "source": [
    "%%time\n",
    "print(stats.describe(filtered_bbdd.status))\n",
    "filtered_bbdd.status.describe()\n",
    "show_counts(filtered_bbdd.status.compute())"
   ]
  },
  {
   "cell_type": "markdown",
   "id": "b05a9c2f",
   "metadata": {},
   "source": [
    "## 'is_installed'"
   ]
  },
  {
   "cell_type": "raw",
   "id": "2e2bd4ec",
   "metadata": {},
   "source": [
    "%%time\n",
    "print(stats.describe(filtered_bbdd.is_installed))\n",
    "filtered_bbdd.is_installed.describe()\n",
    "show_counts(filtered_bbdd.is_installed.compute())"
   ]
  },
  {
   "cell_type": "markdown",
   "id": "90ba0119",
   "metadata": {},
   "source": [
    "## 'is_renting'"
   ]
  },
  {
   "cell_type": "code",
   "execution_count": null,
   "id": "c028f7ec",
   "metadata": {},
   "outputs": [],
   "source": [
    "%%time\n",
    "print(stats.describe(filtered_bbdd.is_renting))\n",
    "filtered_bbdd.is_renting.describe()\n",
    "show_counts(filtered_bbdd.is_renting.compute())"
   ]
  },
  {
   "cell_type": "markdown",
   "id": "24448a41",
   "metadata": {},
   "source": [
    "## 'is_returning'"
   ]
  },
  {
   "cell_type": "code",
   "execution_count": null,
   "id": "cb56acce",
   "metadata": {},
   "outputs": [],
   "source": [
    "%%time\n",
    "print(stats.describe(filtered_bbdd.is_returning))\n",
    "filtered_bbdd.is_returning.describe()\n",
    "show_counts(filtered_bbdd.is_returning.compute())"
   ]
  },
  {
   "cell_type": "markdown",
   "id": "b73c0bf4",
   "metadata": {},
   "source": [
    "## 'is_charging_station'"
   ]
  },
  {
   "cell_type": "raw",
   "id": "950c4d5a",
   "metadata": {},
   "source": [
    "%%time\n",
    "print(stats.describe(filtered_bbdd.is_charging_station))\n",
    "filtered_bbdd.is_charging_station.describe()\n",
    "show_counts(filtered_bbdd.is_charging_station.compute())"
   ]
  },
  {
   "cell_type": "markdown",
   "id": "3fad8302",
   "metadata": {},
   "source": [
    "## Study "
   ]
  },
  {
   "cell_type": "code",
   "execution_count": null,
   "id": "a7ac8e9e",
   "metadata": {},
   "outputs": [],
   "source": [
    "def filter_data(data, row_data, row_index):\n",
    "    cat_cols = row_data.select_dtypes(include=['object']).columns\n",
    "    num_cols = row_data.select_dtypes(exclude=['object']).columns\n",
    "    \n",
    "    filtered = data.copy()\n",
    "    \n",
    "    row = row_data.loc[row_index]\n",
    "    for num_col in num_cols:\n",
    "        filtered = filtered[filtered[num_col] == row[num_col]]\n",
    "    \n",
    "    for cat_col in cat_cols:\n",
    "        filtered = filtered[filtered[cat_col].isin(row[cat_col])]\n",
    "    \n",
    "    return filtered"
   ]
  },
  {
   "cell_type": "code",
   "execution_count": null,
   "id": "d8ab5bcb",
   "metadata": {
    "scrolled": true
   },
   "outputs": [],
   "source": [
    "filtered_bbdd.groupby(\n",
    "    [         \n",
    "        'status',\n",
    "        'is_renting', \n",
    "        'is_returning'\n",
    "    ]\n",
    ").station_id.sum().compute().reset_index().sort_values(['status','is_renting','is_returning']).reset_index(drop=True)\n"
   ]
  },
  {
   "cell_type": "code",
   "execution_count": null,
   "id": "aaa9e3f7",
   "metadata": {},
   "outputs": [],
   "source": [
    "status_of_station = filtered_bbdd.groupby(\n",
    "    [         \n",
    "        'status',\n",
    "        'is_renting', \n",
    "        'is_returning'\n",
    "    ]\n",
    ")['station_id'].unique().compute()\n",
    "\n",
    "status_of_station = pd.DataFrame(status_of_station).reset_index()\n",
    "status_of_station = status_of_station.sort_values(['status','is_renting','is_returning']).reset_index(drop=True)\n",
    "status_of_station"
   ]
  },
  {
   "cell_type": "code",
   "execution_count": null,
   "id": "fc32ec43",
   "metadata": {},
   "outputs": [],
   "source": [
    "## view of the stations status"
   ]
  },
  {
   "cell_type": "code",
   "execution_count": null,
   "id": "65e8a05d",
   "metadata": {
    "scrolled": false
   },
   "outputs": [],
   "source": [
    "%%time\n",
    "\n",
    "# status(r) \tis_renting \tis_returning \t\n",
    "# 0.0 \t          0.0 \t        0.0 \t\n",
    "filtered = filter_data(filtered_bbdd, status_of_station, 0)\n",
    "\n",
    "scatter_columns(\n",
    "    filtered, \n",
    "    'timestamp', \n",
    "    'station_id', \n",
    "    'station_id', \n",
    "    tail=False, \n",
    "    xticks=xticks,\n",
    "    figsize=(10,8),\n",
    "    count=20\n",
    ")"
   ]
  },
  {
   "cell_type": "code",
   "execution_count": null,
   "id": "3f650726",
   "metadata": {
    "scrolled": false
   },
   "outputs": [],
   "source": [
    "%%time\n",
    "\n",
    "# status(r) \tis_installed \tis_renting \tis_returning \t\n",
    "# 0.0 \t1.0 \t1.0\n",
    "filtered = filter_data(filtered_bbdd, status_of_station, 1)\n",
    "\n",
    "scatter_columns(\n",
    "    filtered, \n",
    "    'timestamp', \n",
    "    'station_id', \n",
    "    'station_id', \n",
    "    tail=False, \n",
    "    xticks=xticks,\n",
    "    figsize=(10,8),\n",
    "    count=5\n",
    ")"
   ]
  },
  {
   "cell_type": "code",
   "execution_count": null,
   "id": "98176ffc",
   "metadata": {},
   "outputs": [],
   "source": [
    "%%time\n",
    "\n",
    "# status(r) \tis_installed \tis_renting \tis_returning \t\n",
    "# 1.0 \t0.0 \t0.0\n",
    "filtered = filter_data(filtered_bbdd, status_of_station, 2)\n",
    "\n",
    "scatter_columns(\n",
    "    filtered, \n",
    "    'timestamp', \n",
    "    'station_id', \n",
    "    'station_id', \n",
    "    tail=False, \n",
    "    xticks=xticks,\n",
    "    figsize=(10,8),\n",
    "    count=5\n",
    ")"
   ]
  },
  {
   "cell_type": "code",
   "execution_count": null,
   "id": "9cbc7ac4",
   "metadata": {},
   "outputs": [],
   "source": [
    "%%time\n",
    "\n",
    "# status(r) \tis_installed \tis_renting \tis_returning \t\n",
    "# 1.0 \t0.0 \t1.0\n",
    "filtered = filter_data(filtered_bbdd, status_of_station, 3)\n",
    "\n",
    "scatter_columns(\n",
    "    filtered, \n",
    "    'timestamp', \n",
    "    'station_id', \n",
    "    'station_id', \n",
    "    tail=False, \n",
    "    xticks=xticks,\n",
    "    figsize=(10,8),\n",
    "    count=5\n",
    ")"
   ]
  },
  {
   "cell_type": "raw",
   "id": "f2942f38",
   "metadata": {},
   "source": [
    "%%time\n",
    "\n",
    "# status(r) \tis_installed \tis_renting \tis_returning \t\n",
    "# 1.0 \t1.0 \t1.0\n",
    "filtered = filter_data(filtered_bbdd, status_of_station, 4)\n",
    "\n",
    "scatter_columns(\n",
    "    filtered, \n",
    "    'timestamp', \n",
    "    'station_id', \n",
    "    'station_id', \n",
    "    tail=False, \n",
    "    xticks=xticks,\n",
    "    figsize=(10,8),\n",
    "    count=2\n",
    ")"
   ]
  },
  {
   "cell_type": "markdown",
   "id": "9724aa00",
   "metadata": {},
   "source": [
    "# Goal Columns "
   ]
  },
  {
   "cell_type": "markdown",
   "id": "25f13577",
   "metadata": {},
   "source": [
    "## 'num_docks_available' "
   ]
  },
  {
   "cell_type": "code",
   "execution_count": null,
   "id": "59667a86",
   "metadata": {},
   "outputs": [],
   "source": [
    "%%time\n",
    "print(stats.describe(filtered_bbdd.num_docks_available))\n",
    "filtered_bbdd.num_docks_available.describe()\n",
    "show_counts(filtered_bbdd.num_docks_available.compute())"
   ]
  },
  {
   "cell_type": "markdown",
   "id": "1f41f10a",
   "metadata": {},
   "source": [
    "## 'num_bikes_available' "
   ]
  },
  {
   "cell_type": "code",
   "execution_count": null,
   "id": "3437ccbf",
   "metadata": {},
   "outputs": [],
   "source": [
    "%%time\n",
    "print(stats.describe(filtered_bbdd.num_bikes_available))\n",
    "filtered_bbdd.num_bikes_available.describe()\n",
    "show_counts(filtered_bbdd.num_bikes_available.compute())"
   ]
  },
  {
   "cell_type": "markdown",
   "id": "8f763f2a",
   "metadata": {},
   "source": [
    "## 'num_bikes_available_types.mechanical'"
   ]
  },
  {
   "cell_type": "code",
   "execution_count": null,
   "id": "486cbcda",
   "metadata": {},
   "outputs": [],
   "source": [
    "%%time\n",
    "print(stats.describe(filtered_bbdd['num_bikes_available_types.mechanical']))\n",
    "filtered_bbdd['num_bikes_available_types.mechanical'].describe()\n",
    "show_counts(filtered_bbdd['num_bikes_available_types.mechanical'].compute())"
   ]
  },
  {
   "cell_type": "markdown",
   "id": "a8437069",
   "metadata": {},
   "source": [
    "## 'num_bikes_available_types.ebike'"
   ]
  },
  {
   "cell_type": "code",
   "execution_count": null,
   "id": "bdd0b7f0",
   "metadata": {},
   "outputs": [],
   "source": [
    "%%time\n",
    "print(stats.describe(filtered_bbdd['num_bikes_available_types.ebike']))\n",
    "filtered_bbdd['num_bikes_available_types.ebike'].describe()\n",
    "show_counts(filtered_bbdd['num_bikes_available_types.ebike'].compute())"
   ]
  },
  {
   "cell_type": "markdown",
   "id": "3ba8c539",
   "metadata": {},
   "source": [
    "## 'capacity' "
   ]
  },
  {
   "cell_type": "code",
   "execution_count": null,
   "id": "5e7aed3b",
   "metadata": {},
   "outputs": [],
   "source": [
    "%%time\n",
    "print(stats.describe(filtered_bbdd.capacity))\n",
    "filtered_bbdd.capacity.describe()\n",
    "show_counts(filtered_bbdd.capacity.compute())"
   ]
  },
  {
   "cell_type": "markdown",
   "id": "cb3f00ef",
   "metadata": {},
   "source": [
    "## 'ctx0'"
   ]
  },
  {
   "cell_type": "code",
   "execution_count": null,
   "id": "9184e244",
   "metadata": {},
   "outputs": [],
   "source": [
    "%%time\n",
    "print(stats.describe(filtered_bbdd.ctx0))\n",
    "filtered_bbdd.ctx0.describe()\n",
    "show_counts(filtered_bbdd.ctx0.compute())"
   ]
  },
  {
   "cell_type": "markdown",
   "id": "16c3d39a",
   "metadata": {},
   "source": [
    "## · Visualización de la disponibilidad de bicicletas\n",
    "Gráficos para visualizar la disponibilidad de bicicletas a lo largo del tiempo. Ejemplo: cantidad de bicicletas disponibles en función del tiempo para identificar patrones diarios, semanales o estacionales."
   ]
  },
  {
   "cell_type": "code",
   "execution_count": null,
   "id": "70c3037a",
   "metadata": {},
   "outputs": [],
   "source": []
  },
  {
   "cell_type": "markdown",
   "id": "a4d00562",
   "metadata": {},
   "source": [
    "## · Análisis temporal\n",
    "Datos por año, mes, día de la semana o hora del día para conocer estadísticas agregadas, como el promedio de bicicletas disponibles o el porcentaje de anclajes disponibles. Tendencias temporales y patrones de uso."
   ]
  },
  {
   "cell_type": "code",
   "execution_count": null,
   "id": "242baaba",
   "metadata": {},
   "outputs": [],
   "source": []
  },
  {
   "cell_type": "markdown",
   "id": "77cefecf",
   "metadata": {},
   "source": [
    "## · Relación entre variables\n",
    "Explorar si hay una correlación entre el número de anclajes disponibles (num_docks_available) y el número de bicicletas disponibles (num_bikes_available). Investigar si la disponibilidad de bicicletas difiere entre los diferentes tipos de bicicletas (mecánicas y eléctricas)."
   ]
  },
  {
   "cell_type": "code",
   "execution_count": null,
   "id": "340ee075",
   "metadata": {},
   "outputs": [],
   "source": []
  },
  {
   "cell_type": "markdown",
   "id": "11e80e0a",
   "metadata": {},
   "source": [
    "## · Análisis de capacidad y porcentaje de anclajes disponibles\n",
    "Capacidad (capacity) y los porcentajes de anclajes disponibles (ctx0, ctx1, ctx2, ctx3, ctx4). Promedio distribución de la capacidad y los porcentajes de anclajes disponibles. Objetivo: entender la utilización de las estaciones de bicicletas a lo largo del tiempo."
   ]
  },
  {
   "cell_type": "code",
   "execution_count": null,
   "id": "1cf85516",
   "metadata": {},
   "outputs": [],
   "source": []
  },
  {
   "cell_type": "markdown",
   "id": "4f9696b7",
   "metadata": {},
   "source": [
    "## Data Cleaning"
   ]
  },
  {
   "cell_type": "code",
   "execution_count": null,
   "id": "5511ec72",
   "metadata": {},
   "outputs": [],
   "source": [
    "import ctypes\n",
    "\n",
    "def trim_memory() -> int:\n",
    "    libc = ctypes.CDLL(\"libc.so.6\")\n",
    "    return libc.malloc_trim(0)\n",
    "\n",
    "client.run(trim_memory)"
   ]
  },
  {
   "cell_type": "code",
   "execution_count": null,
   "id": "9604548c",
   "metadata": {},
   "outputs": [],
   "source": [
    "%%time\n",
    "\n",
    "stations = filtered_bbdd[['timestamp', 'station_id', 'ctx0']].compute()"
   ]
  },
  {
   "cell_type": "code",
   "execution_count": null,
   "id": "32818d1e",
   "metadata": {
    "scrolled": true
   },
   "outputs": [],
   "source": [
    "%%time \n",
    "\n",
    "# test \n",
    "\n",
    "cond = stations.station_id.isin([1])\n",
    "station_data = stations[cond]\n",
    "station_group = station_data.groupby(['timestamp', 'station_id'])\n",
    "station_counts = station_group.ctx0.count()\n",
    "station_mean = station_group.ctx0.mean()\n",
    "(station_counts > 1).any()"
   ]
  },
  {
   "cell_type": "code",
   "execution_count": null,
   "id": "daf05938",
   "metadata": {},
   "outputs": [],
   "source": [
    "station_counts = station_counts.reset_index()\n",
    "station_counts"
   ]
  },
  {
   "cell_type": "code",
   "execution_count": null,
   "id": "380249f7",
   "metadata": {},
   "outputs": [],
   "source": [
    "station_counts.timestamp.to_list()"
   ]
  },
  {
   "cell_type": "code",
   "execution_count": null,
   "id": "10dd7d80",
   "metadata": {},
   "outputs": [],
   "source": [
    "station_mean = station_mean.reset_index()\n",
    "station_mean"
   ]
  },
  {
   "cell_type": "code",
   "execution_count": null,
   "id": "e77cfea6",
   "metadata": {},
   "outputs": [],
   "source": [
    "station_mean[(station_counts.ctx0 > 1)]"
   ]
  },
  {
   "cell_type": "code",
   "execution_count": null,
   "id": "11f13b91",
   "metadata": {},
   "outputs": [],
   "source": [
    "%%time\n",
    "\n",
    "stations = filtered_bbdd[['timestamp', 'station_id', 'ctx0']].compute()"
   ]
  },
  {
   "cell_type": "code",
   "execution_count": null,
   "id": "7f58452c",
   "metadata": {},
   "outputs": [],
   "source": [
    "stations.columns"
   ]
  },
  {
   "cell_type": "code",
   "execution_count": null,
   "id": "e74f09fc",
   "metadata": {},
   "outputs": [],
   "source": [
    "stations.shape"
   ]
  },
  {
   "cell_type": "code",
   "execution_count": null,
   "id": "168522cb",
   "metadata": {},
   "outputs": [],
   "source": [
    "stations.drop_duplicates(subset=['timestamp', 'station_id'], keep='last', inplace=True)"
   ]
  },
  {
   "cell_type": "code",
   "execution_count": null,
   "id": "f0b8bd2d",
   "metadata": {},
   "outputs": [],
   "source": [
    "stations.shape"
   ]
  },
  {
   "cell_type": "code",
   "execution_count": null,
   "id": "828e1060",
   "metadata": {},
   "outputs": [],
   "source": [
    "stations.index.to_list()"
   ]
  },
  {
   "cell_type": "code",
   "execution_count": null,
   "id": "6d643367",
   "metadata": {
    "scrolled": true
   },
   "outputs": [],
   "source": [
    "get_ddf_shape(filtered_bbdd)"
   ]
  },
  {
   "cell_type": "code",
   "execution_count": null,
   "id": "d4ec50c1",
   "metadata": {},
   "outputs": [],
   "source": [
    "get_ddf_shape(nonfiltered_bbdd)"
   ]
  },
  {
   "cell_type": "markdown",
   "id": "7f393740",
   "metadata": {},
   "source": [
    "# Datos adicionales\n",
    "Tiempo, festivos Barcelona"
   ]
  },
  {
   "cell_type": "code",
   "execution_count": null,
   "id": "fa956741",
   "metadata": {},
   "outputs": [],
   "source": []
  }
 ],
 "metadata": {
  "kernelspec": {
   "display_name": "Python 3",
   "language": "python",
   "name": "python3"
  },
  "language_info": {
   "codemirror_mode": {
    "name": "ipython",
    "version": 3
   },
   "file_extension": ".py",
   "mimetype": "text/x-python",
   "name": "python",
   "nbconvert_exporter": "python",
   "pygments_lexer": "ipython3",
   "version": "3.6.13"
  }
 },
 "nbformat": 4,
 "nbformat_minor": 5
}
