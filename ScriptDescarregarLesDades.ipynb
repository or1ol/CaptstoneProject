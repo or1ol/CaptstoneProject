{
 "cells": [
  {
   "cell_type": "markdown",
   "id": "1f1a299c",
   "metadata": {},
   "source": [
    "# Script per descarregar les dades"
   ]
  },
  {
   "cell_type": "code",
   "execution_count": 1,
   "id": "7e4a2634",
   "metadata": {},
   "outputs": [],
   "source": [
    "# Aquest script descarrega les dades de Bicing i els mou a carpetes segon l'any i dataset donats"
   ]
  },
  {
   "cell_type": "code",
   "execution_count": 2,
   "id": "15f975ee",
   "metadata": {},
   "outputs": [],
   "source": [
    "import os\n",
    "# https://opendata-ajuntament.barcelona.cat/resources/bcn/BicingUS # old dataset about the use of stations\n",
    "# https://opendata-ajuntament.barcelona.cat/resources/bcn/BicingBCN_Estacions_old # old dataset about the stats of stations\n",
    "# https://opendata-ajuntament.barcelona.cat/resources/bcn/BicingBCN # new data set about the stats and information of stations"
   ]
  },
  {
   "cell_type": "code",
   "execution_count": 3,
   "id": "3037b36a",
   "metadata": {},
   "outputs": [],
   "source": [
    "\n",
    "link = \"https://opendata-ajuntament.barcelona.cat/resources/bcn/BicingBCN\"\n",
    "for year in [2023, 2022, 2021, 2020, 2019]:\n",
    "    for dataset in ['BicingNou_ESTACIONS', 'BicingNou_INFORMACIO']:\n",
    "        os.system(f\"python script.py {year} {dataset} {link}\")"
   ]
  },
  {
   "cell_type": "raw",
   "id": "186501e8",
   "metadata": {},
   "source": [
    "link = \"https://opendata-ajuntament.barcelona.cat/resources/bcn/BicingBCN_Estacions_old\"\n",
    "for year in [2019, 2018]:\n",
    "    for dataset in ['BICING_ESTACIONS']:\n",
    "        os.system(f\"python script.py {year} {dataset} {link}\")"
   ]
  },
  {
   "cell_type": "raw",
   "id": "245ba4cf",
   "metadata": {},
   "source": [
    "link = \"https://opendata-ajuntament.barcelona.cat/resources/bcn/BicingUS\"\n",
    "for year in [2019, 2018]:\n",
    "    for dataset in ['BICING_US']:\n",
    "        os.system(f\"python script.py {year} {dataset} {link}\")"
   ]
  },
  {
   "cell_type": "code",
   "execution_count": null,
   "id": "8121b18f",
   "metadata": {},
   "outputs": [],
   "source": []
  }
 ],
 "metadata": {
  "kernelspec": {
   "display_name": "Python 3",
   "language": "python",
   "name": "python3"
  },
  "language_info": {
   "codemirror_mode": {
    "name": "ipython",
    "version": 3
   },
   "file_extension": ".py",
   "mimetype": "text/x-python",
   "name": "python",
   "nbconvert_exporter": "python",
   "pygments_lexer": "ipython3",
   "version": "3.6.13"
  }
 },
 "nbformat": 4,
 "nbformat_minor": 5
}
