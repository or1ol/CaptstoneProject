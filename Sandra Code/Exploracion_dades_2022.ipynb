#region importacion_BBDD
import pandas as pd
import numpy as np
# import shapefile
# from shapely.geometry import Polygon
# from descartes.patch import PolygonPatch
# import seaborn as sns
# import matplotlib as mpl
# import matplotlib.pyplot as plt
ruta_archivo = '/Users/sandradiaz/Documents/CaptstoneProject/dades/2022/BicingNou_ESTACIONS/2022_03_Marc_BicingNou_ESTACIONS.csv'

dataset = pd.read_csv(ruta_archivo)
print(dataset.head(2))

print(dataset.columns.tolist())
print(dataset.shape)
#endregion

#region data_cleaning
return dataset
#endregion

#region sampling
#endregion

#region stationid
# station_id = dataset.groupby('station_id')
# station_id = station_id['station_id'].unique()
# print(station_id)
#endregion

dataset[station_id].isna()
