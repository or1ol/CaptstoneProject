{
 "cells": [
  {
   "cell_type": "code",
   "execution_count": 1,
   "id": "8d97526b",
   "metadata": {},
   "outputs": [
    {
     "data": {
      "text/html": [
       "<style>.container { width:80% !important; }</style>"
      ],
      "text/plain": [
       "<IPython.core.display.HTML object>"
      ]
     },
     "metadata": {},
     "output_type": "display_data"
    }
   ],
   "source": [
    "from IPython.core.display import display, HTML\n",
    "display(HTML(\"<style>.container { width:80% !important; }</style>\"))\n",
    "\n",
    "import os\n",
    "\n",
    "# Python ≥3.5 is required\n",
    "import sys\n",
    "assert sys.version_info >= (3, 5)\n",
    "\n",
    "# Scikit-Learn ≥0.20 is required\n",
    "import sklearn\n",
    "assert sklearn.__version__ >= \"0.20\"\n",
    "\n",
    "from sklearn.ensemble import RandomForestRegressor\n",
    "from sklearn.ensemble import GradientBoostingRegressor\n",
    "from sklearn.model_selection import cross_val_score\n",
    "from sklearn.metrics import mean_squared_error, r2_score\n",
    "from sklearn.metrics import mean_absolute_error\n",
    "\n",
    "import pandas as pd\n",
    "import numpy as np\n",
    "pd.set_option('display.max_columns', None)\n",
    "\n",
    "# To plot pretty figures\n",
    "%matplotlib inline\n",
    "import matplotlib as mpl\n",
    "import matplotlib.pyplot as plt\n",
    "\n",
    "import scipy.stats as stats\n",
    "\n",
    "import seaborn as sns\n",
    "\n",
    "from datetime import datetime\n",
    "\n",
    "import re\n",
    "\n",
    "from tqdm.notebook import tqdm\n",
    "\n",
    "import dask.dataframe as dd\n",
    "from dask.distributed import Client\n",
    "\n",
    "sys.path.insert(0, 'tools/')\n",
    "\n",
    "from tools import * "
   ]
  },
  {
   "cell_type": "code",
   "execution_count": 2,
   "id": "52589851",
   "metadata": {},
   "outputs": [
    {
     "data": {
      "text/html": [
       "<table style=\"border: 2px solid white;\">\n",
       "<tr>\n",
       "<td style=\"vertical-align: top; border: 0px solid white\">\n",
       "<h3 style=\"text-align: left;\">Client</h3>\n",
       "<ul style=\"text-align: left; list-style: none; margin: 0; padding: 0;\">\n",
       "  <li><b>Scheduler: </b>tcp://127.0.0.1:45037</li>\n",
       "  <li><b>Dashboard: </b><a href='http://127.0.0.1:8787/status' target='_blank'>http://127.0.0.1:8787/status</a></li>\n",
       "</ul>\n",
       "</td>\n",
       "<td style=\"vertical-align: top; border: 0px solid white\">\n",
       "<h3 style=\"text-align: left;\">Cluster</h3>\n",
       "<ul style=\"text-align: left; list-style:none; margin: 0; padding: 0;\">\n",
       "  <li><b>Workers: </b>4</li>\n",
       "  <li><b>Cores: </b>16</li>\n",
       "  <li><b>Memory: </b>16.44 GB</li>\n",
       "</ul>\n",
       "</td>\n",
       "</tr>\n",
       "</table>"
      ],
      "text/plain": [
       "<Client: 'tcp://127.0.0.1:45037' processes=4 threads=16, memory=16.44 GB>"
      ]
     },
     "execution_count": 2,
     "metadata": {},
     "output_type": "execute_result"
    }
   ],
   "source": [
    "client = Client()\n",
    "client"
   ]
  },
  {
   "cell_type": "code",
   "execution_count": 3,
   "id": "3c5cfc3f",
   "metadata": {},
   "outputs": [],
   "source": [
    "config = pd.Series({\n",
    "    'path': os.path.abspath('dades'),\n",
    "    'file_type':'csv',\n",
    "    'years':[2019, 2021, 2022],\n",
    "    'dataset': 'BicingNou_ESTACIONS_MOD'\n",
    "})"
   ]
  },
  {
   "cell_type": "code",
   "execution_count": 4,
   "id": "1985e487",
   "metadata": {},
   "outputs": [],
   "source": [
    "data = dict()"
   ]
  },
  {
   "cell_type": "code",
   "execution_count": 5,
   "id": "357eced7",
   "metadata": {},
   "outputs": [
    {
     "name": "stdout",
     "output_type": "stream",
     "text": [
      "checkpoint reloaded.\n",
      "checkpoint reloaded.\n",
      "checkpoint reloaded.\n",
      "CPU times: user 36.5 ms, sys: 0 ns, total: 36.5 ms\n",
      "Wall time: 43.7 ms\n"
     ]
    }
   ],
   "source": [
    "%%time\n",
    "\n",
    "for year in config.years:\n",
    "    config['year'] = year\n",
    "    data[year] = load_checkpoint(config)\n",
    "\n",
    "# checkpoint reloaded."
   ]
  },
  {
   "cell_type": "code",
   "execution_count": 6,
   "id": "100437e5",
   "metadata": {},
   "outputs": [
    {
     "name": "stdout",
     "output_type": "stream",
     "text": [
      "CPU times: user 28.8 ms, sys: 0 ns, total: 28.8 ms\n",
      "Wall time: 28.6 ms\n"
     ]
    }
   ],
   "source": [
    "%%time\n",
    "\n",
    "data['all'] = dd.concat(list(data.values()), interleave_partitions=False)\n"
   ]
  },
  {
   "cell_type": "code",
   "execution_count": 7,
   "id": "3bc70239",
   "metadata": {},
   "outputs": [
    {
     "data": {
      "text/plain": [
       "61"
      ]
     },
     "execution_count": 7,
     "metadata": {},
     "output_type": "execute_result"
    }
   ],
   "source": [
    "\n",
    "len(data['all'].divisions) # divisions mark the start and end of each partiotion\n",
    "# in our case we have nones but that is okay"
   ]
  },
  {
   "cell_type": "code",
   "execution_count": 8,
   "id": "1c3e7150",
   "metadata": {},
   "outputs": [
    {
     "name": "stdout",
     "output_type": "stream",
     "text": [
      "CPU times: user 1.08 s, sys: 276 ms, total: 1.36 s\n",
      "Wall time: 7.65 s\n"
     ]
    },
    {
     "data": {
      "text/plain": [
       "(12531398, 23)"
      ]
     },
     "execution_count": 8,
     "metadata": {},
     "output_type": "execute_result"
    }
   ],
   "source": [
    "%%time\n",
    "\n",
    "get_ddf_shape(data['all'])"
   ]
  },
  {
   "cell_type": "code",
   "execution_count": 9,
   "id": "e17385be",
   "metadata": {},
   "outputs": [
    {
     "data": {
      "text/html": [
       "<div><strong>Dask DataFrame Structure:</strong></div>\n",
       "<div>\n",
       "<style scoped>\n",
       "    .dataframe tbody tr th:only-of-type {\n",
       "        vertical-align: middle;\n",
       "    }\n",
       "\n",
       "    .dataframe tbody tr th {\n",
       "        vertical-align: top;\n",
       "    }\n",
       "\n",
       "    .dataframe thead th {\n",
       "        text-align: right;\n",
       "    }\n",
       "</style>\n",
       "<table border=\"1\" class=\"dataframe\">\n",
       "  <thead>\n",
       "    <tr style=\"text-align: right;\">\n",
       "      <th></th>\n",
       "      <th>station_id</th>\n",
       "      <th>num_docks_available</th>\n",
       "      <th>num_bikes_available</th>\n",
       "      <th>status</th>\n",
       "      <th>timestamp</th>\n",
       "      <th>is_installed</th>\n",
       "      <th>is_renting</th>\n",
       "      <th>is_returning</th>\n",
       "      <th>is_charging_station</th>\n",
       "      <th>num_bikes_available_types.mechanical</th>\n",
       "      <th>num_bikes_available_types.ebike</th>\n",
       "      <th>year</th>\n",
       "      <th>month</th>\n",
       "      <th>dayofweek</th>\n",
       "      <th>day</th>\n",
       "      <th>dayofyear</th>\n",
       "      <th>hour</th>\n",
       "      <th>capacity</th>\n",
       "      <th>ctx0</th>\n",
       "      <th>ctx1</th>\n",
       "      <th>ctx2</th>\n",
       "      <th>ctx3</th>\n",
       "      <th>ctx4</th>\n",
       "    </tr>\n",
       "    <tr>\n",
       "      <th>npartitions=60</th>\n",
       "      <th></th>\n",
       "      <th></th>\n",
       "      <th></th>\n",
       "      <th></th>\n",
       "      <th></th>\n",
       "      <th></th>\n",
       "      <th></th>\n",
       "      <th></th>\n",
       "      <th></th>\n",
       "      <th></th>\n",
       "      <th></th>\n",
       "      <th></th>\n",
       "      <th></th>\n",
       "      <th></th>\n",
       "      <th></th>\n",
       "      <th></th>\n",
       "      <th></th>\n",
       "      <th></th>\n",
       "      <th></th>\n",
       "      <th></th>\n",
       "      <th></th>\n",
       "      <th></th>\n",
       "      <th></th>\n",
       "    </tr>\n",
       "  </thead>\n",
       "  <tbody>\n",
       "    <tr>\n",
       "      <th></th>\n",
       "      <td>int64</td>\n",
       "      <td>float64</td>\n",
       "      <td>float64</td>\n",
       "      <td>int64</td>\n",
       "      <td>int64</td>\n",
       "      <td>int64</td>\n",
       "      <td>int64</td>\n",
       "      <td>int64</td>\n",
       "      <td>int64</td>\n",
       "      <td>float64</td>\n",
       "      <td>float64</td>\n",
       "      <td>int64</td>\n",
       "      <td>int64</td>\n",
       "      <td>int64</td>\n",
       "      <td>int64</td>\n",
       "      <td>int64</td>\n",
       "      <td>int64</td>\n",
       "      <td>float64</td>\n",
       "      <td>float64</td>\n",
       "      <td>float64</td>\n",
       "      <td>float64</td>\n",
       "      <td>float64</td>\n",
       "      <td>float64</td>\n",
       "    </tr>\n",
       "    <tr>\n",
       "      <th></th>\n",
       "      <td>...</td>\n",
       "      <td>...</td>\n",
       "      <td>...</td>\n",
       "      <td>...</td>\n",
       "      <td>...</td>\n",
       "      <td>...</td>\n",
       "      <td>...</td>\n",
       "      <td>...</td>\n",
       "      <td>...</td>\n",
       "      <td>...</td>\n",
       "      <td>...</td>\n",
       "      <td>...</td>\n",
       "      <td>...</td>\n",
       "      <td>...</td>\n",
       "      <td>...</td>\n",
       "      <td>...</td>\n",
       "      <td>...</td>\n",
       "      <td>...</td>\n",
       "      <td>...</td>\n",
       "      <td>...</td>\n",
       "      <td>...</td>\n",
       "      <td>...</td>\n",
       "      <td>...</td>\n",
       "    </tr>\n",
       "    <tr>\n",
       "      <th>...</th>\n",
       "      <td>...</td>\n",
       "      <td>...</td>\n",
       "      <td>...</td>\n",
       "      <td>...</td>\n",
       "      <td>...</td>\n",
       "      <td>...</td>\n",
       "      <td>...</td>\n",
       "      <td>...</td>\n",
       "      <td>...</td>\n",
       "      <td>...</td>\n",
       "      <td>...</td>\n",
       "      <td>...</td>\n",
       "      <td>...</td>\n",
       "      <td>...</td>\n",
       "      <td>...</td>\n",
       "      <td>...</td>\n",
       "      <td>...</td>\n",
       "      <td>...</td>\n",
       "      <td>...</td>\n",
       "      <td>...</td>\n",
       "      <td>...</td>\n",
       "      <td>...</td>\n",
       "      <td>...</td>\n",
       "    </tr>\n",
       "    <tr>\n",
       "      <th></th>\n",
       "      <td>...</td>\n",
       "      <td>...</td>\n",
       "      <td>...</td>\n",
       "      <td>...</td>\n",
       "      <td>...</td>\n",
       "      <td>...</td>\n",
       "      <td>...</td>\n",
       "      <td>...</td>\n",
       "      <td>...</td>\n",
       "      <td>...</td>\n",
       "      <td>...</td>\n",
       "      <td>...</td>\n",
       "      <td>...</td>\n",
       "      <td>...</td>\n",
       "      <td>...</td>\n",
       "      <td>...</td>\n",
       "      <td>...</td>\n",
       "      <td>...</td>\n",
       "      <td>...</td>\n",
       "      <td>...</td>\n",
       "      <td>...</td>\n",
       "      <td>...</td>\n",
       "      <td>...</td>\n",
       "    </tr>\n",
       "    <tr>\n",
       "      <th></th>\n",
       "      <td>...</td>\n",
       "      <td>...</td>\n",
       "      <td>...</td>\n",
       "      <td>...</td>\n",
       "      <td>...</td>\n",
       "      <td>...</td>\n",
       "      <td>...</td>\n",
       "      <td>...</td>\n",
       "      <td>...</td>\n",
       "      <td>...</td>\n",
       "      <td>...</td>\n",
       "      <td>...</td>\n",
       "      <td>...</td>\n",
       "      <td>...</td>\n",
       "      <td>...</td>\n",
       "      <td>...</td>\n",
       "      <td>...</td>\n",
       "      <td>...</td>\n",
       "      <td>...</td>\n",
       "      <td>...</td>\n",
       "      <td>...</td>\n",
       "      <td>...</td>\n",
       "      <td>...</td>\n",
       "    </tr>\n",
       "  </tbody>\n",
       "</table>\n",
       "</div>\n",
       "<div>Dask Name: concat, 120 tasks</div>"
      ],
      "text/plain": [
       "Dask DataFrame Structure:\n",
       "               station_id num_docks_available num_bikes_available status timestamp is_installed is_renting is_returning is_charging_station num_bikes_available_types.mechanical num_bikes_available_types.ebike   year  month dayofweek    day dayofyear   hour capacity     ctx0     ctx1     ctx2     ctx3     ctx4\n",
       "npartitions=60                                                                                                                                                                                                                                                                                                        \n",
       "                    int64             float64             float64  int64     int64        int64      int64        int64               int64                              float64                         float64  int64  int64     int64  int64     int64  int64  float64  float64  float64  float64  float64  float64\n",
       "                      ...                 ...                 ...    ...       ...          ...        ...          ...                 ...                                  ...                             ...    ...    ...       ...    ...       ...    ...      ...      ...      ...      ...      ...      ...\n",
       "...                   ...                 ...                 ...    ...       ...          ...        ...          ...                 ...                                  ...                             ...    ...    ...       ...    ...       ...    ...      ...      ...      ...      ...      ...      ...\n",
       "                      ...                 ...                 ...    ...       ...          ...        ...          ...                 ...                                  ...                             ...    ...    ...       ...    ...       ...    ...      ...      ...      ...      ...      ...      ...\n",
       "                      ...                 ...                 ...    ...       ...          ...        ...          ...                 ...                                  ...                             ...    ...    ...       ...    ...       ...    ...      ...      ...      ...      ...      ...      ...\n",
       "Dask Name: concat, 120 tasks"
      ]
     },
     "execution_count": 9,
     "metadata": {},
     "output_type": "execute_result"
    }
   ],
   "source": [
    "data['all']"
   ]
  },
  {
   "cell_type": "code",
   "execution_count": 10,
   "id": "3075d1b4",
   "metadata": {},
   "outputs": [
    {
     "name": "stdout",
     "output_type": "stream",
     "text": [
      "CPU times: user 4.5 s, sys: 724 ms, total: 5.22 s\n",
      "Wall time: 28.9 s\n"
     ]
    }
   ],
   "source": [
    "%%time\n",
    "\n",
    "nans = get_features_nans(data['all'])\n",
    "\n",
    "zeros = get_features_zero(data['all'])"
   ]
  },
  {
   "cell_type": "code",
   "execution_count": 11,
   "id": "f659bfbb",
   "metadata": {},
   "outputs": [
    {
     "data": {
      "text/plain": [
       "{'ctx0': 0.010437781961757181,\n",
       " 'ctx1': 0.010437781961757181,\n",
       " 'ctx2': 0.010437781961757181,\n",
       " 'ctx3': 0.010437781961757181,\n",
       " 'ctx4': 0.010437781961757181}"
      ]
     },
     "execution_count": 11,
     "metadata": {},
     "output_type": "execute_result"
    }
   ],
   "source": [
    "nans"
   ]
  },
  {
   "cell_type": "code",
   "execution_count": 12,
   "id": "02179773",
   "metadata": {},
   "outputs": [
    {
     "data": {
      "text/plain": [
       "{'num_docks_available': 1.0915621704777072,\n",
       " 'num_bikes_available': 6.703354246669047,\n",
       " 'status': 95.62907506409101,\n",
       " 'is_installed': 0.0027052049579783517,\n",
       " 'is_renting': 0.06155737771635695,\n",
       " 'is_returning': 0.06148555811570266,\n",
       " 'is_charging_station': 4.787973376952835e-05,\n",
       " 'num_bikes_available_types.mechanical': 16.18551258207584,\n",
       " 'num_bikes_available_types.ebike': 30.79968412143641,\n",
       " 'dayofweek': 14.25338976545155,\n",
       " 'hour': 4.313764513743798,\n",
       " 'capacity': 0.010437781961757181,\n",
       " 'ctx0': 1.08112438851595,\n",
       " 'ctx1': 1.0791932392539125,\n",
       " 'ctx2': 1.0764082347396515,\n",
       " 'ctx3': 1.0735753504916212,\n",
       " 'ctx4': 1.0708222657998732}"
      ]
     },
     "execution_count": 12,
     "metadata": {},
     "output_type": "execute_result"
    }
   ],
   "source": [
    "zeros"
   ]
  },
  {
   "cell_type": "code",
   "execution_count": 13,
   "id": "9db058c9",
   "metadata": {},
   "outputs": [
    {
     "name": "stdout",
     "output_type": "stream",
     "text": [
      "CPU times: user 24.9 s, sys: 2.56 s, total: 27.4 s\n",
      "Wall time: 2min 34s\n"
     ]
    }
   ],
   "source": [
    "%%time \n",
    "\n",
    "uniques = get_columns_unique(data['all'])"
   ]
  },
  {
   "cell_type": "code",
   "execution_count": 14,
   "id": "c1fe8ff7",
   "metadata": {},
   "outputs": [
    {
     "data": {
      "text/plain": [
       "{'station_id': 0        1\n",
       " 1      320\n",
       " 2      319\n",
       " 3      318\n",
       " 4      317\n",
       "       ... \n",
       " 514    443\n",
       " 515    444\n",
       " 516    445\n",
       " 517    446\n",
       " 518    431\n",
       " Name: station_id, Length: 519, dtype: int64,\n",
       " 'num_docks_available': 0         8.363636\n",
       " 1         0.818182\n",
       " 2         0.000000\n",
       " 3         6.818182\n",
       " 4         7.909091\n",
       "            ...    \n",
       " 12304    36.266667\n",
       " 12305    19.151515\n",
       " 12306     3.823529\n",
       " 12307    24.433333\n",
       " 12308     7.888889\n",
       " Name: num_docks_available, Length: 12309, dtype: float64,\n",
       " 'num_bikes_available': 0        17.636364\n",
       " 1        26.181818\n",
       " 2        27.000000\n",
       " 3        21.181818\n",
       " 4        20.181818\n",
       "            ...    \n",
       " 10124    29.333333\n",
       " 10125     4.757576\n",
       " 10126    24.176471\n",
       " 10127     2.566667\n",
       " 10128    52.708333\n",
       " Name: num_bikes_available, Length: 10129, dtype: float64,\n",
       " 'status': 0    1\n",
       " 1    0\n",
       " 2    3\n",
       " 3    2\n",
       " Name: status, dtype: int64,\n",
       " 'timestamp': 0        1546300800\n",
       " 1        1546380000\n",
       " 2        1546401600\n",
       " 3        1546416000\n",
       " 4        1546423200\n",
       "             ...    \n",
       " 26028    1672437600\n",
       " 26029    1671897600\n",
       " 26030    1671213600\n",
       " 26031    1671012000\n",
       " 26032    1672045200\n",
       " Name: timestamp, Length: 26033, dtype: int64,\n",
       " 'is_installed': 0    1\n",
       " 1    0\n",
       " Name: is_installed, dtype: int64,\n",
       " 'is_renting': 0    1\n",
       " 1    0\n",
       " Name: is_renting, dtype: int64,\n",
       " 'is_returning': 0    1\n",
       " 1    0\n",
       " Name: is_returning, dtype: int64,\n",
       " 'is_charging_station': 0    1\n",
       " 1    0\n",
       " Name: is_charging_station, dtype: int64,\n",
       " 'num_bikes_available_types.mechanical': 0       17.636364\n",
       " 1       26.181818\n",
       " 2       27.000000\n",
       " 3       21.181818\n",
       " 4       20.181818\n",
       "           ...    \n",
       " 8761     3.303030\n",
       " 8762    46.076923\n",
       " 8763    23.588235\n",
       " 8764     2.566667\n",
       " 8765    45.846154\n",
       " Name: num_bikes_available_types.mechanical, Length: 8766, dtype: float64,\n",
       " 'num_bikes_available_types.ebike': 0        0.000000\n",
       " 1        1.000000\n",
       " 2        0.428571\n",
       " 3        0.250000\n",
       " 4        2.000000\n",
       "           ...    \n",
       " 3321     2.074074\n",
       " 3322    19.863636\n",
       " 3323     0.588235\n",
       " 3324     6.458333\n",
       " 3325    27.041667\n",
       " Name: num_bikes_available_types.ebike, Length: 3326, dtype: float64,\n",
       " 'year': 0    2019\n",
       " 1    2021\n",
       " 2    2020\n",
       " 3    2022\n",
       " Name: year, dtype: int64,\n",
       " 'month': 0      1\n",
       " 1      2\n",
       " 2      3\n",
       " 3      4\n",
       " 4      5\n",
       " 5      6\n",
       " 6      7\n",
       " 7      8\n",
       " 8      9\n",
       " 9     10\n",
       " 10    11\n",
       " 11    12\n",
       " Name: month, dtype: int64,\n",
       " 'dayofweek': 0    1\n",
       " 1    2\n",
       " 2    3\n",
       " 3    4\n",
       " 4    5\n",
       " 5    6\n",
       " 6    0\n",
       " Name: dayofweek, dtype: int64,\n",
       " 'day': 0      1\n",
       " 1      2\n",
       " 2      3\n",
       " 3      4\n",
       " 4      5\n",
       " 5      6\n",
       " 6      7\n",
       " 7      8\n",
       " 8      9\n",
       " 9     10\n",
       " 10    11\n",
       " 11    12\n",
       " 12    13\n",
       " 13    14\n",
       " 14    15\n",
       " 15    16\n",
       " 16    17\n",
       " 17    18\n",
       " 18    20\n",
       " 19    21\n",
       " 20    22\n",
       " 21    23\n",
       " 22    24\n",
       " 23    25\n",
       " 24    26\n",
       " 25    27\n",
       " 26    28\n",
       " 27    29\n",
       " 28    30\n",
       " 29    31\n",
       " 30    19\n",
       " Name: day, dtype: int64,\n",
       " 'dayofyear': 0        1\n",
       " 1        2\n",
       " 2        3\n",
       " 3        4\n",
       " 4        5\n",
       "       ... \n",
       " 361     93\n",
       " 362     94\n",
       " 363    207\n",
       " 364    208\n",
       " 365    209\n",
       " Name: dayofyear, Length: 366, dtype: int64,\n",
       " 'hour': 0      0\n",
       " 1     22\n",
       " 2      4\n",
       " 3      8\n",
       " 4     10\n",
       " 5     13\n",
       " 6     15\n",
       " 7     23\n",
       " 8     16\n",
       " 9      3\n",
       " 10     2\n",
       " 11     1\n",
       " 12     7\n",
       " 13    12\n",
       " 14    19\n",
       " 15    18\n",
       " 16    20\n",
       " 17    17\n",
       " 18    11\n",
       " 19    21\n",
       " 20     6\n",
       " 21     9\n",
       " 22     5\n",
       " 23    14\n",
       " Name: hour, dtype: int64,\n",
       " 'capacity': 0     46.0\n",
       " 1     27.0\n",
       " 2     33.0\n",
       " 3     27.0\n",
       " 4     36.0\n",
       "       ... \n",
       " 66    40.0\n",
       " 67    50.0\n",
       " 68    16.0\n",
       " 69    54.0\n",
       " 70    21.0\n",
       " Name: capacity, Length: 71, dtype: float64,\n",
       " 'ctx0': 0        0.181818\n",
       " 1        0.017787\n",
       " 2        0.000000\n",
       " 3        0.148221\n",
       " 4        0.171937\n",
       "            ...   \n",
       " 81471    0.975113\n",
       " 81472    0.612821\n",
       " 81473    0.883677\n",
       " 81474    0.328912\n",
       " 81475    0.313187\n",
       " Name: ctx0, Length: 81476, dtype: float64,\n",
       " 'ctx1': 0        0.181818\n",
       " 1        0.021739\n",
       " 2        0.000000\n",
       " 3        0.175889\n",
       " 4        0.187747\n",
       "            ...   \n",
       " 81402    0.414835\n",
       " 81403    0.940909\n",
       " 81404    0.609231\n",
       " 81405    0.294430\n",
       " 81406    0.854111\n",
       " Name: ctx1, Length: 81407, dtype: float64,\n",
       " 'ctx2': 0        0.181818\n",
       " 1        0.023715\n",
       " 2        0.000000\n",
       " 3        0.029644\n",
       " 4        0.148221\n",
       "            ...   \n",
       " 81404    0.536264\n",
       " 81405    0.932458\n",
       " 81406    0.600375\n",
       " 81407    0.249531\n",
       " 81408    0.294430\n",
       " Name: ctx2, Length: 81409, dtype: float64,\n",
       " 'ctx3': 0        0.181818\n",
       " 1        0.106719\n",
       " 2        0.000000\n",
       " 3        0.175889\n",
       " 4        0.171937\n",
       "            ...   \n",
       " 81406    0.612821\n",
       " 81407    0.705441\n",
       " 81408    0.617517\n",
       " 81409    0.521576\n",
       " 81410    0.313187\n",
       " Name: ctx3, Length: 81411, dtype: float64,\n",
       " 'ctx4': 0        0.181818\n",
       " 1        0.094203\n",
       " 2        0.021739\n",
       " 3        0.000000\n",
       " 4        0.029644\n",
       "            ...   \n",
       " 81403    0.611440\n",
       " 81404    0.360677\n",
       " 81405    0.400253\n",
       " 81406    0.838649\n",
       " 81407    0.330206\n",
       " Name: ctx4, Length: 81408, dtype: float64}"
      ]
     },
     "execution_count": 14,
     "metadata": {},
     "output_type": "execute_result"
    }
   ],
   "source": [
    "uniques"
   ]
  },
  {
   "cell_type": "markdown",
   "id": "9e7349bb",
   "metadata": {},
   "source": [
    "## station_id"
   ]
  },
  {
   "cell_type": "code",
   "execution_count": 15,
   "id": "4a42a089",
   "metadata": {},
   "outputs": [
    {
     "name": "stdout",
     "output_type": "stream",
     "text": [
      "DescribeResult(nobs=12531398, minmax=(1, 519), mean=249.8759380238342, variance=20985.340060215767, skewness=0.05421410600170713, kurtosis=-1.1250320242265037)\n",
      "CPU times: user 3.27 s, sys: 692 ms, total: 3.96 s\n",
      "Wall time: 14.7 s\n"
     ]
    },
    {
     "data": {
      "text/plain": [
       "count    1.253140e+07\n",
       "mean     2.498759e+02\n",
       "std      1.448632e+02\n",
       "min      1.000000e+00\n",
       "25%      1.370000e+02\n",
       "50%      2.720000e+02\n",
       "75%      3.950000e+02\n",
       "max      5.190000e+02\n",
       "Name: station_id, dtype: float64"
      ]
     },
     "execution_count": 15,
     "metadata": {},
     "output_type": "execute_result"
    }
   ],
   "source": [
    "%%time\n",
    "\n",
    "print(stats.describe(data['all'].station_id))\n",
    "data['all'].station_id.describe().compute()"
   ]
  },
  {
   "cell_type": "code",
   "execution_count": 16,
   "id": "804059e4",
   "metadata": {},
   "outputs": [
    {
     "data": {
      "text/plain": [
       "(519,)"
      ]
     },
     "execution_count": 16,
     "metadata": {},
     "output_type": "execute_result"
    }
   ],
   "source": [
    "uniques['station_id'].shape"
   ]
  },
  {
   "cell_type": "code",
   "execution_count": 17,
   "id": "1faa0520",
   "metadata": {},
   "outputs": [
    {
     "data": {
      "image/png": "[encoded data removed]",
      "text/plain": [
       "<Figure size 1440x720 with 6 Axes>"
      ]
     },
     "metadata": {
      "needs_background": "light"
     },
     "output_type": "display_data"
    },
    {
     "name": "stdout",
     "output_type": "stream",
     "text": [
      "CPU times: user 17.7 s, sys: 1.96 s, total: 19.6 s\n",
      "Wall time: 23.8 s\n"
     ]
    }
   ],
   "source": [
    "%%time\n",
    "\n",
    "show_counts(data['all'].station_id.compute())"
   ]
  },
  {
   "cell_type": "raw",
   "id": "d8ebca94",
   "metadata": {},
   "source": [
    "3 * 366 * 24 = 26352"
   ]
  },
  {
   "cell_type": "code",
   "execution_count": 18,
   "id": "13959900",
   "metadata": {
    "scrolled": true
   },
   "outputs": [
    {
     "data": {
      "text/plain": [
       "(26033,)"
      ]
     },
     "execution_count": 18,
     "metadata": {},
     "output_type": "execute_result"
    }
   ],
   "source": [
    "uniques['timestamp'].shape"
   ]
  },
  {
   "cell_type": "code",
   "execution_count": 19,
   "id": "4df162fc",
   "metadata": {},
   "outputs": [
    {
     "name": "stdout",
     "output_type": "stream",
     "text": [
      "value counts stats {'max': 26280, 'mean': 24145.275529865125, 'median': 26206.0, 'std': 4249.330443192494, 'min': 1703}\n"
     ]
    },
    {
     "data": {
      "application/vnd.jupyter.widget-view+json": {
       "model_id": "e38277cf130741ae9ca4eb23a1479996",
       "version_major": 2,
       "version_minor": 0
      },
      "text/plain": [
       "  0%|          | 0/5 [00:00<?, ?it/s]"
      ]
     },
     "metadata": {},
     "output_type": "display_data"
    },
    {
     "name": "stdout",
     "output_type": "stream",
     "text": [
      "CPU times: user 8.72 s, sys: 240 ms, total: 8.96 s\n",
      "Wall time: 42.5 s\n"
     ]
    },
    {
     "data": {
      "image/png": "[encoded data removed]",
      "text/plain": [
       "<Figure size 720x576 with 1 Axes>"
      ]
     },
     "metadata": {
      "needs_background": "light"
     },
     "output_type": "display_data"
    }
   ],
   "source": [
    "%%time\n",
    "\n",
    "scatter_columns(\n",
    "    data['all'], \n",
    "    'timestamp', \n",
    "    'station_id', \n",
    "    'station_id', \n",
    "    tail=True, \n",
    "    #xticks=np.arange(uniques['timestamp'].min(),uniques['timestamp'].max(), 300),\n",
    "    figsize=(10,8)\n",
    ")"
   ]
  },
  {
   "cell_type": "code",
   "execution_count": 20,
   "id": "64ca102d",
   "metadata": {},
   "outputs": [
    {
     "name": "stdout",
     "output_type": "stream",
     "text": [
      "correct data 12527597 incorrect data 3801\n",
      "CPU times: user 10.8 s, sys: 1.57 s, total: 12.3 s\n",
      "Wall time: 47.1 s\n"
     ]
    },
    {
     "data": {
      "text/plain": [
       "<matplotlib.legend.Legend at 0x7f66eec3f128>"
      ]
     },
     "execution_count": 20,
     "metadata": {},
     "output_type": "execute_result"
    },
    {
     "data": {
      "image/png": "[encoded data removed]",
      "text/plain": [
       "<Figure size 720x720 with 1 Axes>"
      ]
     },
     "metadata": {
      "needs_background": "light"
     },
     "output_type": "display_data"
    }
   ],
   "source": [
    "%%time\n",
    "\n",
    "cond = data['all'].num_bikes_available.round().astype(int) == (data['all']['num_bikes_available_types.ebike'] + data['all']['num_bikes_available_types.mechanical']).round().astype(int)\n",
    "\n",
    "print('correct data',data['all'][cond].shape[0].compute(), 'incorrect data', data['all'][~cond].shape[0].compute())\n",
    "    \n",
    "plt.rcParams[\"figure.figsize\"] = (10,10)\n",
    "    \n",
    "plt.scatter(\n",
    "    data['all'][cond].num_bikes_available.compute(), \n",
    "    (data['all'][cond]['num_bikes_available_types.ebike'] + data['all'][cond]['num_bikes_available_types.mechanical']).compute(),\n",
    "    label='cond'\n",
    ")\n",
    "\n",
    "plt.scatter(\n",
    "    data['all'][~cond].num_bikes_available.compute(), \n",
    "    (data['all'][~cond]['num_bikes_available_types.ebike'] + data['all'][~cond]['num_bikes_available_types.mechanical']).compute(),\n",
    "    label='~cond'\n",
    ")\n",
    "\n",
    "plt.ylabel('Electric + Mecanic')\n",
    "plt.xlabel('num_bikes_available')\n",
    "plt.legend()\n",
    "\n"
   ]
  },
  {
   "cell_type": "code",
   "execution_count": null,
   "id": "9bd7cbfa",
   "metadata": {},
   "outputs": [],
   "source": []
  },
  {
   "cell_type": "code",
   "execution_count": null,
   "id": "a972cc3f",
   "metadata": {},
   "outputs": [],
   "source": []
  },
  {
   "cell_type": "code",
   "execution_count": null,
   "id": "897b239d",
   "metadata": {},
   "outputs": [],
   "source": []
  },
  {
   "cell_type": "code",
   "execution_count": null,
   "id": "83e24947",
   "metadata": {},
   "outputs": [],
   "source": []
  },
  {
   "cell_type": "code",
   "execution_count": null,
   "id": "62815a81",
   "metadata": {},
   "outputs": [],
   "source": []
  }
 ],
 "metadata": {
  "kernelspec": {
   "display_name": "Python 3",
   "language": "python",
   "name": "python3"
  },
  "language_info": {
   "codemirror_mode": {
    "name": "ipython",
    "version": 3
   },
   "file_extension": ".py",
   "mimetype": "text/x-python",
   "name": "python",
   "nbconvert_exporter": "python",
   "pygments_lexer": "ipython3",
   "version": "3.6.13"
  }
 },
 "nbformat": 4,
 "nbformat_minor": 5
}
