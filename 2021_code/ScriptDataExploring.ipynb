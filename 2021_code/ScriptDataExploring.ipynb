{
 "cells": [
  {
   "cell_type": "code",
   "execution_count": 96,
   "id": "e494720a",
   "metadata": {},
   "outputs": [
    {
     "data": {
      "text/html": [
       "<style>.container { width:80% !important; }</style>"
      ],
      "text/plain": [
       "<IPython.core.display.HTML object>"
      ]
     },
     "metadata": {},
     "output_type": "display_data"
    }
   ],
   "source": [
    "from IPython.core.display import display, HTML\n",
    "display(HTML(\"<style>.container { width:80% !important; }</style>\"))\n",
    "\n",
    "import os\n",
    "\n",
    "# Python ≥3.5 is required\n",
    "import sys\n",
    "assert sys.version_info >= (3, 5)\n",
    "\n",
    "# Scikit-Learn ≥0.20 is required\n",
    "import sklearn\n",
    "assert sklearn.__version__ >= \"0.20\"\n",
    "\n",
    "from sklearn.ensemble import RandomForestRegressor\n",
    "from sklearn.ensemble import GradientBoostingRegressor\n",
    "from sklearn.model_selection import cross_val_score\n",
    "from sklearn.metrics import mean_squared_error, r2_score\n",
    "from sklearn.metrics import mean_absolute_error\n",
    "\n",
    "import pandas as pd\n",
    "import numpy as np\n",
    "pd.set_option('display.max_columns', None)\n",
    "\n",
    "# To plot pretty figures\n",
    "%matplotlib inline\n",
    "import matplotlib as mpl\n",
    "import matplotlib.pyplot as plt\n",
    "\n",
    "import scipy.stats as stats\n",
    "\n",
    "import seaborn as sns\n",
    "\n",
    "from datetime import datetime\n",
    "\n",
    "import re\n",
    "\n",
    "from tqdm.notebook import tqdm\n",
    "\n",
    "from tools import * "
   ]
  },
  {
   "cell_type": "code",
   "execution_count": 97,
   "id": "9b0dcd2f",
   "metadata": {},
   "outputs": [],
   "source": [
    "import sys\n",
    "import os\n",
    "\n",
    "month_names = ['Gener','Febrer','Marc','Abril','Maig','Juny','Juliol','Agost','Setembre','Octubre','Novembre','Desembre']\n",
    "months = range(1,13)\n",
    "i2m = list(zip(months, month_names))\n"
   ]
  },
  {
   "cell_type": "code",
   "execution_count": 98,
   "id": "71204242",
   "metadata": {},
   "outputs": [],
   "source": [
    "import dask.dataframe as dd\n",
    "from dask.distributed import Client"
   ]
  },
  {
   "cell_type": "code",
   "execution_count": 99,
   "id": "2bd014c8",
   "metadata": {},
   "outputs": [
    {
     "name": "stderr",
     "output_type": "stream",
     "text": [
      "/home/user/miniconda3/envs/tensorflow/lib/python3.6/site-packages/distributed/node.py:155: UserWarning: Port 8787 is already in use.\n",
      "Perhaps you already have a cluster running?\n",
      "Hosting the HTTP server on port 46345 instead\n",
      "  http_address[\"port\"], self.http_server.port\n"
     ]
    },
    {
     "data": {
      "text/html": [
       "<table style=\"border: 2px solid white;\">\n",
       "<tr>\n",
       "<td style=\"vertical-align: top; border: 0px solid white\">\n",
       "<h3 style=\"text-align: left;\">Client</h3>\n",
       "<ul style=\"text-align: left; list-style: none; margin: 0; padding: 0;\">\n",
       "  <li><b>Scheduler: </b>tcp://127.0.0.1:37963</li>\n",
       "  <li><b>Dashboard: </b><a href='http://127.0.0.1:46345/status' target='_blank'>http://127.0.0.1:46345/status</a></li>\n",
       "</ul>\n",
       "</td>\n",
       "<td style=\"vertical-align: top; border: 0px solid white\">\n",
       "<h3 style=\"text-align: left;\">Cluster</h3>\n",
       "<ul style=\"text-align: left; list-style:none; margin: 0; padding: 0;\">\n",
       "  <li><b>Workers: </b>4</li>\n",
       "  <li><b>Cores: </b>16</li>\n",
       "  <li><b>Memory: </b>16.44 GB</li>\n",
       "</ul>\n",
       "</td>\n",
       "</tr>\n",
       "</table>"
      ],
      "text/plain": [
       "<Client: 'tcp://127.0.0.1:37963' processes=4 threads=16, memory=16.44 GB>"
      ]
     },
     "execution_count": 99,
     "metadata": {},
     "output_type": "execute_result"
    }
   ],
   "source": [
    "client = Client()\n",
    "client"
   ]
  },
  {
   "cell_type": "code",
   "execution_count": 100,
   "id": "b4747f5e",
   "metadata": {},
   "outputs": [],
   "source": [
    "def print_partitions(ddf:dd.core.DataFrame) -> None:\n",
    "    for i in range(ddf.npartitions):\n",
    "        print('Partion:', i)\n",
    "        print(ddf.partitions[i].compute())"
   ]
  },
  {
   "cell_type": "code",
   "execution_count": 110,
   "id": "36be6c62",
   "metadata": {},
   "outputs": [],
   "source": [
    "def read_dask_dataframe(folder_path:str, folder_type:str, config:dict, add_meta:bool=False) -> dd.core.DataFrame:\n",
    "    assert folder_path != '' \n",
    "    assert folder_type != '' \n",
    "    assert not config.empty\n",
    "    \n",
    "    ddf = None\n",
    "    \n",
    "    if folder_type == 'csv':\n",
    "        # re read file\n",
    "        ddf = dd.read_csv(\n",
    "            urlpath=f'{folder_path}/{config.year}/{config.dataset}/{config.year}_{config.month:02d}_{config.monthname}_{config.dataset}.{folder_type}',\n",
    "            blocksize='default',\n",
    "            lineterminator=None,\n",
    "            compression='infer',\n",
    "            sample=256000,\n",
    "            enforce=False,\n",
    "            assume_missing=False,\n",
    "            storage_options=None,\n",
    "            include_path_column=False,\n",
    "            header=0\n",
    "        )\n",
    "    else: \n",
    "        raise 'Not supported yet'\n",
    "    \n",
    "    if add_meta: \n",
    "        ddf._name = f'{config.year}-{config.month}'\n",
    "        # we have one partion\n",
    "        # TODO\n",
    "        # ddf.divisions = (0, ddf.shape[0].compute()-1)\n",
    "    \n",
    "    return ddf"
   ]
  },
  {
   "cell_type": "code",
   "execution_count": 111,
   "id": "cc11dcd8",
   "metadata": {},
   "outputs": [],
   "source": [
    "config = pd.Series({\n",
    "    'devide_by':60,\n",
    "    'year':2021,\n",
    "    'datafrom': 'BicingNou_ESTACIONS',\n",
    "    'dataset': f'BicingNou_ESTACIONS_CLEAN',\n",
    "    'ttl': 30,\n",
    "    'month': 1,\n",
    "    'monthname': 'Gener'\n",
    "})"
   ]
  },
  {
   "cell_type": "code",
   "execution_count": 117,
   "id": "88bbeee3",
   "metadata": {},
   "outputs": [],
   "source": [
    "data_dd = read_dask_dataframe('../dades', 'csv', config) "
   ]
  },
  {
   "cell_type": "raw",
   "id": "89d092fe",
   "metadata": {},
   "source": [
    "TODO. bucle for para leer todos los ficheros\n",
    "TODO. Merge\n",
    "TODO. Explorar\n"
   ]
  },
  {
   "cell_type": "code",
   "execution_count": 113,
   "id": "be050699",
   "metadata": {
    "scrolled": true
   },
   "outputs": [
    {
     "data": {
      "text/plain": [
       "dask.dataframe.core.DataFrame"
      ]
     },
     "execution_count": 113,
     "metadata": {},
     "output_type": "execute_result"
    }
   ],
   "source": [
    "type(data_dd)"
   ]
  },
  {
   "cell_type": "raw",
   "id": "9d428ce2",
   "metadata": {
    "scrolled": true
   },
   "source": [
    "data_dd.shape[0].compute(), data_dd.shape[1]"
   ]
  },
  {
   "cell_type": "raw",
   "id": "8394be93",
   "metadata": {
    "scrolled": true
   },
   "source": [
    "df = pd.DataFrame({\"nums\": [1, 2, 3, 4, 5, 6], \"letters\": [\"a\", \"b\", \"c\", \"d\", \"e\", \"f\"]})\n",
    "ddf1 = dd.from_pandas(df, npartitions=2)\n",
    "ddf1.divisions # (0, 3, 5)"
   ]
  },
  {
   "cell_type": "raw",
   "id": "0a10be35",
   "metadata": {},
   "source": [
    "print_partitions(ddf1)"
   ]
  },
  {
   "cell_type": "raw",
   "id": "2ccf08dc",
   "metadata": {},
   "source": [
    "df = pd.DataFrame({\"nums\": [1, 2, 3, 4, 5, 6], \"letters\": [\"a\", \"b\", \"c\", \"d\", \"e\", \"f\"]})\n",
    "ddf2 = dd.from_pandas(df, npartitions=1)\n",
    "ddf2.divisions # (0, 5)"
   ]
  },
  {
   "cell_type": "raw",
   "id": "d66497df",
   "metadata": {},
   "source": [
    "print_partitions(ddf2)"
   ]
  },
  {
   "cell_type": "raw",
   "id": "bb52cf41",
   "metadata": {},
   "source": [
    "df = pd.DataFrame({\"nums\": [88, 99], \"letters\": [\"xx\", \"yy\"]})\n",
    "ddf3 = dd.from_pandas(df, npartitions=1, divisions)\n",
    "ddf3.divisions # (0, 1)"
   ]
  },
  {
   "cell_type": "raw",
   "id": "8f7d4548",
   "metadata": {},
   "source": [
    "print_partitions(ddf3)"
   ]
  },
  {
   "cell_type": "raw",
   "id": "288ed8e0",
   "metadata": {},
   "source": [
    "ddf4 = dd.concat([ddf1, ddf3], interleave_partitions=True)\n",
    "ddf4.divisions # (None, None, None, None)"
   ]
  },
  {
   "cell_type": "raw",
   "id": "5637578b",
   "metadata": {},
   "source": [
    "print_partitions(ddf4)"
   ]
  },
  {
   "cell_type": "code",
   "execution_count": 116,
   "id": "7235984d",
   "metadata": {},
   "outputs": [
    {
     "data": {
      "text/plain": [
       "count    376086.000000\n",
       "mean        261.563661\n",
       "std         149.121159\n",
       "min           1.000000\n",
       "25%         133.000000\n",
       "50%         263.000000\n",
       "75%         389.000000\n",
       "max         519.000000\n",
       "Name: station_id, dtype: float64"
      ]
     },
     "execution_count": 116,
     "metadata": {},
     "output_type": "execute_result"
    }
   ],
   "source": [
    "data_dd.compute().station_id.describe()"
   ]
  },
  {
   "cell_type": "code",
   "execution_count": null,
   "id": "8a542408",
   "metadata": {},
   "outputs": [],
   "source": []
  },
  {
   "cell_type": "code",
   "execution_count": null,
   "id": "8a62d44d",
   "metadata": {},
   "outputs": [],
   "source": []
  }
 ],
 "metadata": {
  "kernelspec": {
   "display_name": "Python 3",
   "language": "python",
   "name": "python3"
  },
  "language_info": {
   "codemirror_mode": {
    "name": "ipython",
    "version": 3
   },
   "file_extension": ".py",
   "mimetype": "text/x-python",
   "name": "python",
   "nbconvert_exporter": "python",
   "pygments_lexer": "ipython3",
   "version": "3.6.13"
  }
 },
 "nbformat": 4,
 "nbformat_minor": 5
}
