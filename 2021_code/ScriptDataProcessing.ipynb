{
 "cells": [
  {
   "cell_type": "code",
   "execution_count": 1,
   "id": "e494720a",
   "metadata": {},
   "outputs": [
    {
     "data": {
      "text/html": [
       "<style>.container { width:80% !important; }</style>"
      ],
      "text/plain": [
       "<IPython.core.display.HTML object>"
      ]
     },
     "metadata": {},
     "output_type": "display_data"
    }
   ],
   "source": [
    "from IPython.core.display import display, HTML\n",
    "display(HTML(\"<style>.container { width:80% !important; }</style>\"))\n",
    "\n",
    "import os\n",
    "\n",
    "# Python ≥3.5 is required\n",
    "import sys\n",
    "assert sys.version_info >= (3, 5)\n",
    "\n",
    "# Scikit-Learn ≥0.20 is required\n",
    "import sklearn\n",
    "assert sklearn.__version__ >= \"0.20\"\n",
    "\n",
    "from sklearn.ensemble import RandomForestRegressor\n",
    "from sklearn.ensemble import GradientBoostingRegressor\n",
    "from sklearn.model_selection import cross_val_score\n",
    "from sklearn.metrics import mean_squared_error, r2_score\n",
    "from sklearn.metrics import mean_absolute_error\n",
    "\n",
    "import pandas as pd\n",
    "import numpy as np\n",
    "pd.set_option('display.max_columns', None)\n",
    "\n",
    "# To plot pretty figures\n",
    "%matplotlib inline\n",
    "import matplotlib as mpl\n",
    "import matplotlib.pyplot as plt\n",
    "\n",
    "import scipy.stats as stats\n",
    "\n",
    "import seaborn as sns\n",
    "\n",
    "from datetime import datetime\n",
    "\n",
    "import re\n",
    "\n",
    "from tqdm.notebook import tqdm\n",
    "\n",
    "import dask.dataframe as dd\n",
    "from dask.distributed import Client\n",
    "\n",
    "sys.path.insert(0, '../tools/')\n",
    "\n",
    "from tools import * "
   ]
  },
  {
   "cell_type": "code",
   "execution_count": 2,
   "id": "a4287a45",
   "metadata": {},
   "outputs": [],
   "source": [
    "config = pd.Series({\n",
    "    'path': os.path.abspath('../dades'),\n",
    "    'file_type':'csv',\n",
    "    'years':[2021],\n",
    "    'dataset': 'BicingNou_ESTACIONS_CLEAN'\n",
    "})\n"
   ]
  },
  {
   "cell_type": "code",
   "execution_count": 3,
   "id": "2bd014c8",
   "metadata": {},
   "outputs": [
    {
     "data": {
      "text/html": [
       "<table style=\"border: 2px solid white;\">\n",
       "<tr>\n",
       "<td style=\"vertical-align: top; border: 0px solid white\">\n",
       "<h3 style=\"text-align: left;\">Client</h3>\n",
       "<ul style=\"text-align: left; list-style: none; margin: 0; padding: 0;\">\n",
       "  <li><b>Scheduler: </b>tcp://127.0.0.1:40883</li>\n",
       "  <li><b>Dashboard: </b><a href='http://127.0.0.1:8787/status' target='_blank'>http://127.0.0.1:8787/status</a></li>\n",
       "</ul>\n",
       "</td>\n",
       "<td style=\"vertical-align: top; border: 0px solid white\">\n",
       "<h3 style=\"text-align: left;\">Cluster</h3>\n",
       "<ul style=\"text-align: left; list-style:none; margin: 0; padding: 0;\">\n",
       "  <li><b>Workers: </b>4</li>\n",
       "  <li><b>Cores: </b>16</li>\n",
       "  <li><b>Memory: </b>16.44 GB</li>\n",
       "</ul>\n",
       "</td>\n",
       "</tr>\n",
       "</table>"
      ],
      "text/plain": [
       "<Client: 'tcp://127.0.0.1:40883' processes=4 threads=16, memory=16.44 GB>"
      ]
     },
     "execution_count": 3,
     "metadata": {},
     "output_type": "execute_result"
    }
   ],
   "source": [
    "client = Client()\n",
    "client"
   ]
  },
  {
   "cell_type": "markdown",
   "id": "9349a524",
   "metadata": {},
   "source": [
    "# Read data"
   ]
  },
  {
   "cell_type": "code",
   "execution_count": 4,
   "id": "5424d9d1",
   "metadata": {},
   "outputs": [
    {
     "data": {
      "application/vnd.jupyter.widget-view+json": {
       "model_id": "4b4bc914e31545f7974e8e5b42c03c1d",
       "version_major": 2,
       "version_minor": 0
      },
      "text/plain": [
       "  0%|          | 0/1 [00:00<?, ?it/s]"
      ]
     },
     "metadata": {},
     "output_type": "display_data"
    },
    {
     "data": {
      "application/vnd.jupyter.widget-view+json": {
       "model_id": "78abce6967c1479d82b0c87e367d8cf4",
       "version_major": 2,
       "version_minor": 0
      },
      "text/plain": [
       "  0%|          | 0/12 [00:00<?, ?it/s]"
      ]
     },
     "metadata": {},
     "output_type": "display_data"
    },
    {
     "name": "stdout",
     "output_type": "stream",
     "text": [
      "CPU times: user 291 ms, sys: 49.8 ms, total: 341 ms\n",
      "Wall time: 349 ms\n"
     ]
    }
   ],
   "source": [
    "%%time\n",
    "\n",
    "data = read_dask_dataframes(config.path, config.file_type, config.dataset, config.years)"
   ]
  },
  {
   "cell_type": "markdown",
   "id": "220d2efd",
   "metadata": {},
   "source": [
    "# 2021 "
   ]
  },
  {
   "cell_type": "code",
   "execution_count": 5,
   "id": "3b7ad367",
   "metadata": {},
   "outputs": [],
   "source": [
    "config_year = pd.Series({\n",
    "    'path':config.path,\n",
    "    'file_type':config.file_type,\n",
    "    'year':2021,\n",
    "    'dataset': 'BicingNou_ESTACIONS_MOD'\n",
    "})"
   ]
  },
  {
   "cell_type": "code",
   "execution_count": 6,
   "id": "9f9c6856",
   "metadata": {},
   "outputs": [
    {
     "data": {
      "text/plain": [
       "13"
      ]
     },
     "execution_count": 6,
     "metadata": {},
     "output_type": "execute_result"
    }
   ],
   "source": [
    "len(data[config_year.year].divisions) # divisions mark the start and end of each partiotion\n",
    "# in our case we have nones but that is okay"
   ]
  },
  {
   "cell_type": "code",
   "execution_count": 7,
   "id": "e45166fb",
   "metadata": {},
   "outputs": [],
   "source": [
    "first_size = get_ddf_shape(data[config_year.year])"
   ]
  },
  {
   "cell_type": "markdown",
   "id": "35838ed0",
   "metadata": {},
   "source": [
    "## Preprocessing"
   ]
  },
  {
   "cell_type": "raw",
   "id": "e1244679",
   "metadata": {},
   "source": [
    "%%time\n",
    "\n",
    "# do not execute everytime, takes 17s and eat the memory. Once executed disable the cell and restart the notebook. Since this cell saves a checkpoint you can continue without it.\n",
    "\n",
    "data[config_year.year] = data[config_year.year].drop(['week_last_updated_date', 'traffic', 'last_reported'], axis=1)\n",
    "\n",
    "data[config_year.year]['station_id']=data[config_year.year]['station_id'].astype(int)\n",
    "data[config_year.year]['is_charging_station']=data[config_year.year]['is_charging_station'].astype(int)\n",
    "data[config_year.year]['last_updated']=data[config_year.year]['last_updated'].astype(int)\n",
    "data[config_year.year]['year_last_updated_date']=data[config_year.year]['year_last_updated_date'].astype(int)\n",
    "data[config_year.year]['month_last_updated_date']=data[config_year.year]['month_last_updated_date'].astype(int)\n",
    "data[config_year.year]['dayofweek_last_updated_date']=data[config_year.year]['dayofweek_last_updated_date'].astype(int)\n",
    "data[config_year.year]['dayofmonth_last_updated_date']=data[config_year.year]['dayofmonth_last_updated_date'].astype(int)\n",
    "data[config_year.year]['dayofyear_last_updated_date']=data[config_year.year]['dayofyear_last_updated_date'].astype(int)\n",
    "data[config_year.year]['hour_last_updated_date']=data[config_year.year]['hour_last_updated_date'].astype(int)\n",
    "\n",
    "data[config_year.year]['status']=data[config_year.year]['status'].round().astype(int)\n",
    "data[config_year.year]['is_installed']=data[config_year.year]['is_installed'].round().astype(int)\n",
    "data[config_year.year]['is_renting']=data[config_year.year]['is_renting'].round().astype(int)\n",
    "data[config_year.year]['is_returning']=data[config_year.year]['is_returning'].round().astype(int)\n",
    "\n",
    "# Found two station with alot of missing values \n",
    "# best solution is to remove\n",
    "condition = (data[config_year.year]['station_id'].isin([520.0, 529.0]))\n",
    "data[config_year.year] = data[config_year.year].mask(condition, np.nan)\n",
    "data[config_year.year] = data[config_year.year].dropna(subset=['station_id'])\n",
    "\n",
    "last_size = get_ddf_shape(data[config_year.year])\n",
    "\n",
    "new_columns = {\n",
    "    'last_updated': 'timestamp',\n",
    "    'year_last_updated_date':'year', \n",
    "    'month_last_updated_date':'month',\n",
    "    'dayofweek_last_updated_date':'dayofweek', \n",
    "    'dayofmonth_last_updated_date':'day', \n",
    "    'dayofyear_last_updated_date':'dayofyear',\n",
    "    'hour_last_updated_date':'hour'\n",
    "}\n",
    "\n",
    "data[config_year.year] = data[config_year.year].rename(columns=new_columns)\n",
    "\n",
    "save_checkpoint(data[config_year.year], config_year)\n",
    "\n",
    "# checkpoint saved.\n",
    "# CPU times: user 2.12 s, sys: 250 ms, total: 2.37 s\n",
    "# Wall time: 17.3 s"
   ]
  },
  {
   "cell_type": "code",
   "execution_count": 8,
   "id": "a9366d9b",
   "metadata": {},
   "outputs": [
    {
     "name": "stdout",
     "output_type": "stream",
     "text": [
      "checkpoint reloaded.\n",
      "CPU times: user 15.4 ms, sys: 2.98 ms, total: 18.4 ms\n",
      "Wall time: 18 ms\n"
     ]
    }
   ],
   "source": [
    "%%time\n",
    "\n",
    "data[config_year.year] = load_checkpoint(config_year)\n",
    "\n",
    "# checkpoint reloaded."
   ]
  },
  {
   "cell_type": "code",
   "execution_count": 9,
   "id": "2c3a647b",
   "metadata": {},
   "outputs": [
    {
     "name": "stdout",
     "output_type": "stream",
     "text": [
      "Changes to dataframe durinf preprocessing\n",
      "dropeed -2 rows\n",
      "dropped -3 columns\n",
      "CPU times: user 159 ms, sys: 22.4 ms, total: 182 ms\n",
      "Wall time: 1.24 s\n"
     ]
    }
   ],
   "source": [
    "%%time\n",
    "\n",
    "last_size = get_ddf_shape(data[config_year.year])\n",
    "\n",
    "print('Changes to dataframe durinf preprocessing')\n",
    "print(f'dropeed {(last_size[0]-first_size[0]):02d} rows')\n",
    "print(f'dropped {(last_size[1]-first_size[1]):02d} columns')"
   ]
  },
  {
   "cell_type": "code",
   "execution_count": 10,
   "id": "61db0537",
   "metadata": {},
   "outputs": [
    {
     "data": {
      "text/plain": [
       "13"
      ]
     },
     "execution_count": 10,
     "metadata": {},
     "output_type": "execute_result"
    }
   ],
   "source": [
    "len(data[config_year.year].divisions) # divisions mark the start and end of each partiotion\n",
    "# in our case we have nones but that is okay"
   ]
  },
  {
   "cell_type": "raw",
   "id": "5cc068bf",
   "metadata": {},
   "source": [
    "print_partitions(data[config_year.year])"
   ]
  },
  {
   "cell_type": "code",
   "execution_count": 11,
   "id": "17180ed3",
   "metadata": {},
   "outputs": [
    {
     "name": "stdout",
     "output_type": "stream",
     "text": [
      "CPU times: user 662 ms, sys: 123 ms, total: 785 ms\n",
      "Wall time: 4.83 s\n"
     ]
    }
   ],
   "source": [
    "%%time\n",
    "\n",
    "nans = get_features_nans(data[config_year.year])\n",
    "\n",
    "zeros = get_features_zero(data[config_year.year])"
   ]
  },
  {
   "cell_type": "code",
   "execution_count": 12,
   "id": "a71ccd91",
   "metadata": {},
   "outputs": [
    {
     "data": {
      "text/plain": [
       "{}"
      ]
     },
     "execution_count": 12,
     "metadata": {},
     "output_type": "execute_result"
    }
   ],
   "source": [
    "nans"
   ]
  },
  {
   "cell_type": "code",
   "execution_count": 13,
   "id": "40239ba4",
   "metadata": {},
   "outputs": [
    {
     "data": {
      "text/plain": [
       "{'num_bikes_available': 3.179841885137897,\n",
       " 'num_bikes_available_types.mechanical': 13.69506730320022,\n",
       " 'num_bikes_available_types.ebike': 24.63465094207253,\n",
       " 'num_docks_available': 0.818568669936982,\n",
       " 'status': 99.94392061117013,\n",
       " 'is_installed': 0.0016320598204326183,\n",
       " 'is_renting': 0.061406250743777265,\n",
       " 'is_returning': 0.061406250743777265,\n",
       " 'dayofweek': 14.131937982633524,\n",
       " 'hour': 4.122583106412794}"
      ]
     },
     "execution_count": 13,
     "metadata": {},
     "output_type": "execute_result"
    }
   ],
   "source": [
    "zeros"
   ]
  },
  {
   "cell_type": "code",
   "execution_count": 14,
   "id": "ad9ea960",
   "metadata": {},
   "outputs": [],
   "source": [
    "# nuniques = get_columns_nunique(data[config_year.year])\n",
    "\n",
    "# pd.Series(nuniques)\n",
    "# station_id                                  511\n",
    "# num_bikes_available                        5413\n",
    "# num_bikes_available_types.mechanical       4950\n",
    "# num_bikes_available_types.ebike            2412\n",
    "# num_docks_available                        5641\n",
    "# last_reported                           3085646\n",
    "# is_charging_station                           2\n",
    "# status                                      264\n",
    "# is_installed                                 50\n",
    "# is_renting                                  230\n",
    "# is_returning                                230\n",
    "# timestamp                                  8700\n",
    "# year                                          2\n",
    "# month                                        12\n",
    "# week                                         53\n",
    "# dayofweek                                     7\n",
    "# day                                          31\n",
    "# dayofyear                                   366\n",
    "# hour                                         24\n",
    "# traffic                                    1741\n",
    "# dtype: int64\n",
    "    \n",
    "uniques = get_columns_unique(data[config_year.year])"
   ]
  },
  {
   "cell_type": "code",
   "execution_count": 15,
   "id": "1eb3676a",
   "metadata": {},
   "outputs": [
    {
     "data": {
      "text/plain": [
       "{'station_id': 0        1\n",
       " 1      271\n",
       " 2      400\n",
       " 3      510\n",
       " 4       26\n",
       "       ... \n",
       " 504     79\n",
       " 505    168\n",
       " 506     91\n",
       " 507    467\n",
       " 508     52\n",
       " Name: station_id, Length: 509, dtype: int64,\n",
       " 'num_bikes_available': 0       43.000000\n",
       " 1       40.666667\n",
       " 2       41.000000\n",
       " 3       42.636364\n",
       " 4       44.625000\n",
       "           ...    \n",
       " 5393    13.305556\n",
       " 5394    18.035714\n",
       " 5395    17.527778\n",
       " 5396     1.058824\n",
       " 5397    19.595238\n",
       " Name: num_bikes_available, Length: 5398, dtype: float64,\n",
       " 'num_bikes_available_types.mechanical': 0       43.000000\n",
       " 1       40.666667\n",
       " 2       41.000000\n",
       " 3       41.909091\n",
       " 4       43.625000\n",
       "           ...    \n",
       " 4935     1.107143\n",
       " 4936    16.972222\n",
       " 4937    16.409091\n",
       " 4938     1.117647\n",
       " 4939     7.464286\n",
       " Name: num_bikes_available_types.mechanical, Length: 4940, dtype: float64,\n",
       " 'num_bikes_available_types.ebike': 0        0.000000\n",
       " 1        0.727273\n",
       " 2        1.000000\n",
       " 3        0.800000\n",
       " 4        0.500000\n",
       "           ...    \n",
       " 2404     7.863636\n",
       " 2405    10.388889\n",
       " 2406    13.233333\n",
       " 2407    17.119048\n",
       " 2408     4.392857\n",
       " Name: num_bikes_available_types.ebike, Length: 2409, dtype: float64,\n",
       " 'num_docks_available': 0        3.000000\n",
       " 1        5.333333\n",
       " 2        5.000000\n",
       " 3        3.363636\n",
       " 4        1.375000\n",
       "           ...    \n",
       " 5621    11.694444\n",
       " 5622     0.964286\n",
       " 5623     6.472222\n",
       " 5624    22.882353\n",
       " 5625     7.766667\n",
       " Name: num_docks_available, Length: 5626, dtype: float64,\n",
       " 'is_charging_station': 0    1\n",
       " Name: is_charging_station, dtype: int64,\n",
       " 'status': 0    0\n",
       " 1    1\n",
       " 2    3\n",
       " 3    2\n",
       " Name: status, dtype: int64,\n",
       " 'is_installed': 0    1\n",
       " 1    0\n",
       " Name: is_installed, dtype: int64,\n",
       " 'is_renting': 0    1\n",
       " 1    0\n",
       " Name: is_renting, dtype: int64,\n",
       " 'is_returning': 0    1\n",
       " 1    0\n",
       " Name: is_returning, dtype: int64,\n",
       " 'timestamp': 0       1609455600\n",
       " 1       1609459200\n",
       " 2       1609462800\n",
       " 3       1609466400\n",
       " 4       1609470000\n",
       "            ...    \n",
       " 8695    1640977200\n",
       " 8696    1640980800\n",
       " 8697    1640984400\n",
       " 8698    1640988000\n",
       " 8699    1640991600\n",
       " Name: timestamp, Length: 8700, dtype: int64,\n",
       " 'year': 0    2020\n",
       " 1    2021\n",
       " Name: year, dtype: int64,\n",
       " 'month': 0     12\n",
       " 1      1\n",
       " 2      2\n",
       " 3      3\n",
       " 4      4\n",
       " 5      5\n",
       " 6      6\n",
       " 7      7\n",
       " 8      8\n",
       " 9      9\n",
       " 10    10\n",
       " 11    11\n",
       " Name: month, dtype: int64,\n",
       " 'dayofweek': 0    3\n",
       " 1    4\n",
       " 2    5\n",
       " 3    6\n",
       " 4    0\n",
       " 5    1\n",
       " 6    2\n",
       " Name: dayofweek, dtype: int64,\n",
       " 'day': 0     31\n",
       " 1      1\n",
       " 2      2\n",
       " 3      3\n",
       " 4      4\n",
       " 5      5\n",
       " 6      6\n",
       " 7      7\n",
       " 8      8\n",
       " 9      9\n",
       " 10    10\n",
       " 11    11\n",
       " 12    12\n",
       " 13    13\n",
       " 14    14\n",
       " 15    15\n",
       " 16    16\n",
       " 17    17\n",
       " 18    18\n",
       " 19    19\n",
       " 20    20\n",
       " 21    21\n",
       " 22    22\n",
       " 23    23\n",
       " 24    24\n",
       " 25    25\n",
       " 26    26\n",
       " 27    27\n",
       " 28    28\n",
       " 29    29\n",
       " 30    30\n",
       " Name: day, dtype: int64,\n",
       " 'dayofyear': 0      366\n",
       " 1        1\n",
       " 2        2\n",
       " 3        3\n",
       " 4        4\n",
       "       ... \n",
       " 361    361\n",
       " 362    362\n",
       " 363    363\n",
       " 364    364\n",
       " 365    365\n",
       " Name: dayofyear, Length: 366, dtype: int64,\n",
       " 'hour': 0     23\n",
       " 1      0\n",
       " 2      1\n",
       " 3      2\n",
       " 4      3\n",
       " 5      4\n",
       " 6      5\n",
       " 7      6\n",
       " 8      7\n",
       " 9      8\n",
       " 10     9\n",
       " 11    10\n",
       " 12    11\n",
       " 13    12\n",
       " 14    13\n",
       " 15    14\n",
       " 16    15\n",
       " 17    16\n",
       " 18    17\n",
       " 19    18\n",
       " 20    19\n",
       " 21    20\n",
       " 22    21\n",
       " 23    22\n",
       " Name: hour, dtype: int64}"
      ]
     },
     "execution_count": 15,
     "metadata": {},
     "output_type": "execute_result"
    }
   ],
   "source": [
    "uniques"
   ]
  },
  {
   "cell_type": "markdown",
   "id": "5e2f83e8",
   "metadata": {},
   "source": [
    "### Finding max capacity for a station"
   ]
  },
  {
   "cell_type": "code",
   "execution_count": 16,
   "id": "a1c21565",
   "metadata": {},
   "outputs": [
    {
     "name": "stdout",
     "output_type": "stream",
     "text": [
      "DescribeResult(nobs=4411603, minmax=(0.0, 54.0), mean=15.820495619889721, variance=69.83162769381272, skewness=0.12835266976050969, kurtosis=-0.11164746650554269)\n",
      "CPU times: user 590 ms, sys: 75.8 ms, total: 665 ms\n",
      "Wall time: 2.4 s\n"
     ]
    },
    {
     "data": {
      "text/plain": [
       "count    4.411603e+06\n",
       "mean     1.582050e+01\n",
       "std      8.356532e+00\n",
       "min      0.000000e+00\n",
       "25%      1.018182e+01\n",
       "50%      1.700000e+01\n",
       "75%      2.288889e+01\n",
       "max      5.400000e+01\n",
       "Name: num_docks_available, dtype: float64"
      ]
     },
     "execution_count": 16,
     "metadata": {},
     "output_type": "execute_result"
    }
   ],
   "source": [
    "%%time\n",
    "\n",
    "print(stats.describe(data[config_year.year].num_docks_available))\n",
    "data[config_year.year].num_docks_available.describe().compute()"
   ]
  },
  {
   "cell_type": "code",
   "execution_count": 17,
   "id": "61fddc38",
   "metadata": {},
   "outputs": [
    {
     "name": "stdout",
     "output_type": "stream",
     "text": [
      "DescribeResult(nobs=4411603, minmax=(0.0, 54.0), mean=9.728862347869377, variance=65.75362055240853, skewness=0.9545646752665524, kurtosis=0.7743120895645914)\n",
      "CPU times: user 540 ms, sys: 107 ms, total: 647 ms\n",
      "Wall time: 2.44 s\n"
     ]
    },
    {
     "data": {
      "text/plain": [
       "count    4.411603e+06\n",
       "mean     9.728862e+00\n",
       "std      8.108861e+00\n",
       "min      0.000000e+00\n",
       "25%      4.700000e+00\n",
       "50%      1.000000e+01\n",
       "75%      1.622222e+01\n",
       "max      5.400000e+01\n",
       "Name: num_bikes_available, dtype: float64"
      ]
     },
     "execution_count": 17,
     "metadata": {},
     "output_type": "execute_result"
    }
   ],
   "source": [
    "%%time\n",
    "\n",
    "print(stats.describe(data[config_year.year].num_bikes_available))\n",
    "data[config_year.year].num_bikes_available.describe().compute()"
   ]
  },
  {
   "cell_type": "code",
   "execution_count": 18,
   "id": "870ab196",
   "metadata": {},
   "outputs": [
    {
     "name": "stdout",
     "output_type": "stream",
     "text": [
      "DescribeResult(nobs=4411603, minmax=(0.0, 53.72727272727273), mean=8.154760122866378, variance=63.455803847270126, skewness=1.0490946622676345, kurtosis=0.8700958157443068)\n",
      "CPU times: user 635 ms, sys: 159 ms, total: 793 ms\n",
      "Wall time: 2.7 s\n"
     ]
    },
    {
     "data": {
      "text/plain": [
       "count    4.411603e+06\n",
       "mean     8.154760e+00\n",
       "std      7.965915e+00\n",
       "min      0.000000e+00\n",
       "25%      2.142857e+00\n",
       "50%      7.400000e+00\n",
       "75%      1.420000e+01\n",
       "max      5.372727e+01\n",
       "Name: num_bikes_available_types.mechanical, dtype: float64"
      ]
     },
     "execution_count": 18,
     "metadata": {},
     "output_type": "execute_result"
    }
   ],
   "source": [
    "%%time\n",
    "\n",
    "print(stats.describe(data[config_year.year]['num_bikes_available_types.mechanical']))\n",
    "data[config_year.year]['num_bikes_available_types.mechanical'].describe().compute()"
   ]
  },
  {
   "cell_type": "code",
   "execution_count": 19,
   "id": "c5907eb8",
   "metadata": {},
   "outputs": [
    {
     "name": "stdout",
     "output_type": "stream",
     "text": [
      "DescribeResult(nobs=4411603, minmax=(0.0, 31.0), mean=1.5813950889733048, variance=5.531504474501155, skewness=3.0459009705004316, kurtosis=13.233326695750502)\n"
     ]
    },
    {
     "data": {
      "text/plain": [
       "count    4.411603e+06\n",
       "mean     1.581395e+00\n",
       "std      2.351915e+00\n",
       "min      0.000000e+00\n",
       "25%      3.333333e-01\n",
       "50%      1.000000e+00\n",
       "75%      3.250000e+00\n",
       "max      3.100000e+01\n",
       "Name: num_bikes_available_types.ebike, dtype: float64"
      ]
     },
     "execution_count": 19,
     "metadata": {},
     "output_type": "execute_result"
    }
   ],
   "source": [
    "print(stats.describe(data[config_year.year]['num_bikes_available_types.ebike']))\n",
    "data[config_year.year]['num_bikes_available_types.ebike'].describe().compute()"
   ]
  },
  {
   "cell_type": "code",
   "execution_count": 20,
   "id": "68378bb4",
   "metadata": {},
   "outputs": [
    {
     "name": "stdout",
     "output_type": "stream",
     "text": [
      "correct data 4402768 incorrect data 8835\n",
      "CPU times: user 2.38 s, sys: 404 ms, total: 2.79 s\n",
      "Wall time: 9.55 s\n"
     ]
    },
    {
     "data": {
      "text/plain": [
       "<matplotlib.legend.Legend at 0x7f7b05a2dc50>"
      ]
     },
     "execution_count": 20,
     "metadata": {},
     "output_type": "execute_result"
    },
    {
     "data": {
      "image/png": "[encoded data removed]",
      "text/plain": [
       "<Figure size 720x720 with 1 Axes>"
      ]
     },
     "metadata": {
      "needs_background": "light"
     },
     "output_type": "display_data"
    }
   ],
   "source": [
    "%%time\n",
    "\n",
    "cond = data[config_year.year].num_bikes_available.round().astype(int) == (data[config_year.year]['num_bikes_available_types.ebike'] + data[config_year.year]['num_bikes_available_types.mechanical']).round().astype(int)\n",
    "\n",
    "print('correct data',data[config_year.year][cond].shape[0].compute(), 'incorrect data', data[config_year.year][~cond].shape[0].compute())\n",
    "    \n",
    "plt.rcParams[\"figure.figsize\"] = (10,10)\n",
    "    \n",
    "plt.scatter(\n",
    "    data[config_year.year][cond].num_bikes_available.compute(), \n",
    "    (data[config_year.year][cond]['num_bikes_available_types.ebike'] + data[config_year.year][cond]['num_bikes_available_types.mechanical']).compute(),\n",
    "    label='cond'\n",
    ")\n",
    "\n",
    "plt.scatter(\n",
    "    data[config_year.year][~cond].num_bikes_available.compute(), \n",
    "    (data[config_year.year][~cond]['num_bikes_available_types.ebike'] + data[config_year.year][~cond]['num_bikes_available_types.mechanical']).compute(),\n",
    "    label='~cond'\n",
    ")\n",
    "\n",
    "plt.ylabel('Electric + Mecanic')\n",
    "plt.xlabel('num_bikes_available')\n",
    "plt.legend()"
   ]
  },
  {
   "cell_type": "code",
   "execution_count": 21,
   "id": "b9ec3260",
   "metadata": {},
   "outputs": [
    {
     "name": "stdout",
     "output_type": "stream",
     "text": [
      "CPU times: user 10.2 ms, sys: 0 ns, total: 10.2 ms\n",
      "Wall time: 9.56 ms\n"
     ]
    }
   ],
   "source": [
    "%%time\n",
    "\n",
    "data[config_year.year]['num_bikes_available'] = data[config_year.year]['num_bikes_available'].mask(~cond, (data[config_year.year]['num_bikes_available_types.ebike'] + data[config_year.year]['num_bikes_available_types.mechanical']))\n"
   ]
  },
  {
   "cell_type": "code",
   "execution_count": 22,
   "id": "d415c0fa",
   "metadata": {},
   "outputs": [
    {
     "name": "stdout",
     "output_type": "stream",
     "text": [
      "correct data 4411603 incorrect data 0\n",
      "CPU times: user 1.89 s, sys: 310 ms, total: 2.2 s\n",
      "Wall time: 7.8 s\n"
     ]
    },
    {
     "data": {
      "text/plain": [
       "<matplotlib.legend.Legend at 0x7f7a9b355a20>"
      ]
     },
     "execution_count": 22,
     "metadata": {},
     "output_type": "execute_result"
    },
    {
     "data": {
      "image/png": "[encoded data removed]",
      "text/plain": [
       "<Figure size 720x720 with 1 Axes>"
      ]
     },
     "metadata": {
      "needs_background": "light"
     },
     "output_type": "display_data"
    }
   ],
   "source": [
    "%%time\n",
    "\n",
    "cond = data[config_year.year].num_bikes_available.round().astype(int) == (data[config_year.year]['num_bikes_available_types.ebike'] + data[config_year.year]['num_bikes_available_types.mechanical']).round().astype(int)\n",
    "\n",
    "print('correct data',data[config_year.year][cond].shape[0].compute(), 'incorrect data', data[config_year.year][~cond].shape[0].compute())\n",
    "\n",
    "plt.rcParams[\"figure.figsize\"] = (10,10)\n",
    "    \n",
    "plt.scatter(\n",
    "    data[config_year.year][cond].num_bikes_available.compute(), \n",
    "    (data[config_year.year][cond]['num_bikes_available_types.ebike'] + data[config_year.year][cond]['num_bikes_available_types.mechanical']).compute(),\n",
    "    label='cond'\n",
    ")\n",
    "\n",
    "plt.scatter(\n",
    "    data[config_year.year][~cond].num_bikes_available.compute(), \n",
    "    (data[config_year.year][~cond]['num_bikes_available_types.ebike'] + data[config_year.year][~cond]['num_bikes_available_types.mechanical']).compute(),\n",
    "    label='~cond'\n",
    ")\n",
    "\n",
    "plt.ylabel('Electric + Mecanic')\n",
    "plt.xlabel('num_bikes_available')\n",
    "plt.legend()"
   ]
  },
  {
   "cell_type": "code",
   "execution_count": 23,
   "id": "eb2571b9",
   "metadata": {},
   "outputs": [],
   "source": [
    "# Now capacity of a station must be something similar to the sum of available bikes and available docks"
   ]
  },
  {
   "cell_type": "code",
   "execution_count": 24,
   "id": "de05960d",
   "metadata": {},
   "outputs": [
    {
     "name": "stdout",
     "output_type": "stream",
     "text": [
      "CPU times: user 17.8 ms, sys: 9.74 ms, total: 27.6 ms\n",
      "Wall time: 28.9 ms\n"
     ]
    }
   ],
   "source": [
    "%%time\n",
    "\n",
    "data[config_year.year]['capacity'] = data[config_year.year].num_bikes_available + data[config_year.year].num_docks_available\n",
    "\n",
    "stations_max_capacity = data[config_year.year].groupby(['station_id'])['capacity'].max().reset_index()\n",
    "\n",
    "# drop capacity \n",
    "data[config_year.year] = data[config_year.year].drop(['capacity'], axis=1)\n",
    "\n",
    "# merge with stations_max_capacity\n",
    "data[config_year.year] = data[config_year.year].merge(stations_max_capacity.copy(), how='left', on=['station_id'])\n"
   ]
  },
  {
   "cell_type": "code",
   "execution_count": 25,
   "id": "1bbb1dae",
   "metadata": {},
   "outputs": [
    {
     "name": "stdout",
     "output_type": "stream",
     "text": [
      "DescribeResult(nobs=4411603, minmax=(12.000000000000004, 54.000000000000014), mean=27.06908259877419, variance=39.21044578404506, skewness=1.289283684272652, kurtosis=3.635553583208196)\n",
      "CPU times: user 742 ms, sys: 156 ms, total: 898 ms\n",
      "Wall time: 3.38 s\n"
     ]
    },
    {
     "data": {
      "text/plain": [
       "count    4.411603e+06\n",
       "mean     2.706908e+01\n",
       "std      6.261824e+00\n",
       "min      1.200000e+01\n",
       "25%      2.400000e+01\n",
       "50%      2.700000e+01\n",
       "75%      2.900000e+01\n",
       "max      5.400000e+01\n",
       "Name: capacity, dtype: float64"
      ]
     },
     "execution_count": 25,
     "metadata": {},
     "output_type": "execute_result"
    }
   ],
   "source": [
    "%%time\n",
    "\n",
    "print(stats.describe(data[config_year.year]['capacity']))\n",
    "data[config_year.year]['capacity'].describe().compute()"
   ]
  },
  {
   "cell_type": "code",
   "execution_count": 26,
   "id": "f744beb7",
   "metadata": {},
   "outputs": [
    {
     "data": {
      "image/png": "[encoded data removed]",
      "text/plain": [
       "<Figure size 1440x720 with 6 Axes>"
      ]
     },
     "metadata": {
      "needs_background": "light"
     },
     "output_type": "display_data"
    },
    {
     "name": "stdout",
     "output_type": "stream",
     "text": [
      "CPU times: user 8.16 s, sys: 1.14 s, total: 9.29 s\n",
      "Wall time: 9.14 s\n"
     ]
    }
   ],
   "source": [
    "%%time\n",
    "\n",
    "show_counts(data[config_year.year]['capacity'].compute())"
   ]
  },
  {
   "cell_type": "markdown",
   "id": "86237b11",
   "metadata": {},
   "source": [
    "## find the percentage of docks available"
   ]
  },
  {
   "cell_type": "code",
   "execution_count": 27,
   "id": "896be915",
   "metadata": {},
   "outputs": [
    {
     "name": "stdout",
     "output_type": "stream",
     "text": [
      "CPU times: user 9.39 ms, sys: 0 ns, total: 9.39 ms\n",
      "Wall time: 9.48 ms\n"
     ]
    }
   ],
   "source": [
    "%%time\n",
    "\n",
    "data[config_year.year]['ctx0'] = data[config_year.year].num_docks_available / data[config_year.year].capacity\n"
   ]
  },
  {
   "cell_type": "code",
   "execution_count": 28,
   "id": "52f78540",
   "metadata": {},
   "outputs": [
    {
     "name": "stdout",
     "output_type": "stream",
     "text": [
      "DescribeResult(nobs=4411603, minmax=(0.0, 0.9999999999999998), mean=0.5853444554211286, variance=0.07780183036723641, skewness=-0.4438377514446695, kurtosis=-0.9162956363632411)\n",
      "CPU times: user 819 ms, sys: 170 ms, total: 989 ms\n",
      "Wall time: 3.48 s\n"
     ]
    },
    {
     "data": {
      "text/plain": [
       "count    4.411603e+06\n",
       "mean     5.853445e-01\n",
       "std      2.789298e-01\n",
       "min      0.000000e+00\n",
       "25%      3.990385e-01\n",
       "50%      6.759259e-01\n",
       "75%      8.545455e-01\n",
       "max      1.000000e+00\n",
       "Name: ctx0, dtype: float64"
      ]
     },
     "execution_count": 28,
     "metadata": {},
     "output_type": "execute_result"
    }
   ],
   "source": [
    "%%time\n",
    "\n",
    "print(stats.describe(data[config_year.year]['ctx0']))\n",
    "data[config_year.year]['ctx0'].describe().compute()"
   ]
  },
  {
   "cell_type": "code",
   "execution_count": 29,
   "id": "9626a4f6",
   "metadata": {},
   "outputs": [
    {
     "data": {
      "image/png": "[encoded data removed]",
      "text/plain": [
       "<Figure size 1440x720 with 6 Axes>"
      ]
     },
     "metadata": {
      "needs_background": "light"
     },
     "output_type": "display_data"
    },
    {
     "name": "stdout",
     "output_type": "stream",
     "text": [
      "CPU times: user 1min 18s, sys: 11.3 s, total: 1min 29s\n",
      "Wall time: 1min 28s\n"
     ]
    }
   ],
   "source": [
    "%%time\n",
    "\n",
    "show_counts(data[config_year.year]['ctx0'].compute())"
   ]
  },
  {
   "cell_type": "markdown",
   "id": "a7e1a1e4",
   "metadata": {},
   "source": [
    "### Generating new columns of past 4 hours"
   ]
  },
  {
   "cell_type": "code",
   "execution_count": 30,
   "id": "0b3dd58e",
   "metadata": {},
   "outputs": [
    {
     "name": "stdout",
     "output_type": "stream",
     "text": [
      "Index(['station_id', 'timestamp', 'ctx0'], dtype='object')\n",
      "Index(['station_id', 'timestamp', 'ctx1'], dtype='object')\n",
      "Index(['station_id', 'timestamp', 'ctx2'], dtype='object')\n",
      "Index(['station_id', 'timestamp', 'ctx3'], dtype='object')\n",
      "Index(['station_id', 'timestamp', 'ctx4'], dtype='object')\n",
      "CPU times: user 171 ms, sys: 29.1 ms, total: 200 ms\n",
      "Wall time: 194 ms\n"
     ]
    }
   ],
   "source": [
    "%%time\n",
    "\n",
    "ctx = data[config_year.year][['station_id', 'timestamp', 'ctx0']].copy()\n",
    "# ctx = ctx.rename(columns={'num_docks_available': 'ctx0'})\n",
    "print(ctx.columns)\n",
    "\n",
    "for i in range(1,5): \n",
    "    ctx = ctx.rename(columns={f'ctx{i-1}': f'ctx{i}'})\n",
    "    print(ctx.columns)\n",
    "    \n",
    "    ctx.timestamp = ctx.timestamp + 3600 \n",
    "    data[config_year.year] = data[config_year.year].merge(ctx.copy(), how='left', on=['station_id','timestamp'])\n",
    "    \n",
    "    cond = data[config_year.year][f'ctx{i}'].isna()\n",
    "    data[config_year.year][f'ctx{i}'] = data[config_year.year][f'ctx{i}'].mask(cond, data[config_year.year][f'ctx{i-1}'])\n"
   ]
  },
  {
   "cell_type": "code",
   "execution_count": 31,
   "id": "d7c2d60a",
   "metadata": {},
   "outputs": [
    {
     "data": {
      "text/plain": [
       "Index(['station_id', 'num_bikes_available',\n",
       "       'num_bikes_available_types.mechanical',\n",
       "       'num_bikes_available_types.ebike', 'num_docks_available',\n",
       "       'is_charging_station', 'status', 'is_installed', 'is_renting',\n",
       "       'is_returning', 'timestamp', 'year', 'month', 'dayofweek', 'day',\n",
       "       'dayofyear', 'hour', 'capacity', 'ctx0', 'ctx1', 'ctx2', 'ctx3',\n",
       "       'ctx4'],\n",
       "      dtype='object')"
      ]
     },
     "execution_count": 31,
     "metadata": {},
     "output_type": "execute_result"
    }
   ],
   "source": [
    "data[config_year.year].columns"
   ]
  },
  {
   "cell_type": "code",
   "execution_count": 32,
   "id": "459e7ab1",
   "metadata": {
    "scrolled": true
   },
   "outputs": [
    {
     "name": "stdout",
     "output_type": "stream",
     "text": [
      "CPU times: user 9.64 s, sys: 529 ms, total: 10.2 s\n",
      "Wall time: 22.9 s\n"
     ]
    },
    {
     "data": {
      "text/plain": [
       "{}"
      ]
     },
     "execution_count": 32,
     "metadata": {},
     "output_type": "execute_result"
    }
   ],
   "source": [
    "%%time\n",
    "\n",
    "get_features_nans(data[config_year.year])"
   ]
  },
  {
   "cell_type": "code",
   "execution_count": 33,
   "id": "1270f3df",
   "metadata": {},
   "outputs": [
    {
     "name": "stdout",
     "output_type": "stream",
     "text": [
      "checkpoint saved.\n",
      "CPU times: user 3.52 s, sys: 259 ms, total: 3.78 s\n",
      "Wall time: 33.1 s\n"
     ]
    }
   ],
   "source": [
    "%%time\n",
    "\n",
    "save_checkpoint(data[config_year.year], config_year)\n",
    "\n",
    "# checkpoint saved."
   ]
  },
  {
   "cell_type": "code",
   "execution_count": null,
   "id": "6d081b9e",
   "metadata": {},
   "outputs": [],
   "source": []
  }
 ],
 "metadata": {
  "kernelspec": {
   "display_name": "Python 3",
   "language": "python",
   "name": "python3"
  },
  "language_info": {
   "codemirror_mode": {
    "name": "ipython",
    "version": 3
   },
   "file_extension": ".py",
   "mimetype": "text/x-python",
   "name": "python",
   "nbconvert_exporter": "python",
   "pygments_lexer": "ipython3",
   "version": "3.6.13"
  }
 },
 "nbformat": 4,
 "nbformat_minor": 5
}
