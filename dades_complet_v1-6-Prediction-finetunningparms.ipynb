{
 "cells": [
  {
   "cell_type": "markdown",
   "id": "da37d8d8",
   "metadata": {},
   "source": [
    "# Import"
   ]
  },
  {
   "cell_type": "code",
   "execution_count": 1,
   "id": "886f34aa",
   "metadata": {},
   "outputs": [
    {
     "data": {
      "text/html": [
       "<style>.container { width:80% !important; }</style>"
      ],
      "text/plain": [
       "<IPython.core.display.HTML object>"
      ]
     },
     "metadata": {},
     "output_type": "display_data"
    }
   ],
   "source": [
    "from IPython.display import display, HTML\n",
    "display(HTML(\"<style>.container { width:80% !important; }</style>\"))\n",
    "\n",
    "import os\n",
    "import time\n",
    "# Python ≥3.5 is required\n",
    "import sys\n",
    "assert sys.version_info >= (3, 5)\n",
    "\n",
    "# Scikit-Learn ≥0.20 is required\n",
    "import sklearn\n",
    "assert sklearn.__version__ >= \"0.20\"\n",
    "\n",
    "from sklearn.ensemble import RandomForestRegressor\n",
    "from sklearn.ensemble import GradientBoostingRegressor\n",
    "from sklearn.model_selection import cross_val_score\n",
    "from sklearn.metrics import mean_squared_error, r2_score\n",
    "from sklearn.metrics import mean_absolute_error\n",
    "\n",
    "import pandas as pd\n",
    "import numpy as np\n",
    "pd.set_option('display.max_columns', None)\n",
    "\n",
    "# To plot pretty figures\n",
    "%matplotlib inline\n",
    "import matplotlib as mpl\n",
    "import matplotlib.pyplot as plt\n",
    "\n",
    "import scipy.stats as stats\n",
    "\n",
    "import seaborn as sns\n",
    "\n",
    "from datetime import datetime\n",
    "\n",
    "import re\n",
    "import random\n",
    "\n",
    "from tqdm.notebook import tqdm\n",
    "\n",
    "import dask.dataframe as dd\n",
    "from dask.distributed import LocalCluster, Client\n",
    "\n",
    "sys.path.insert(0, 'tools/')\n",
    "\n",
    "from tools import * "
   ]
  },
  {
   "cell_type": "code",
   "execution_count": 2,
   "id": "c1e0195a",
   "metadata": {},
   "outputs": [],
   "source": [
    "import warnings\n",
    "warnings.simplefilter('ignore')"
   ]
  },
  {
   "cell_type": "code",
   "execution_count": 3,
   "id": "d411c3ed",
   "metadata": {},
   "outputs": [],
   "source": [
    "from sklearn.model_selection import train_test_split\n",
    "from sklearn.pipeline import Pipeline\n",
    "from sklearn.preprocessing import FunctionTransformer\n",
    "from sklearn.impute import SimpleImputer\n",
    "from sklearn.preprocessing import OneHotEncoder\n",
    "from sklearn.preprocessing import OrdinalEncoder\n",
    "from sklearn.model_selection import cross_val_score\n",
    "\n",
    "from sklearn.compose import ColumnTransformer\n",
    "from sklearn.preprocessing import StandardScaler\n",
    "\n",
    "from sklearn import neighbors\n",
    "from sklearn import linear_model\n",
    "from sklearn.linear_model import LinearRegression\n",
    "from sklearn.ensemble import GradientBoostingRegressor\n",
    "from sklearn.ensemble import RandomForestRegressor\n",
    "\n",
    "from sklearn.model_selection import GridSearchCV\n",
    "from sklearn.model_selection import validation_curve\n",
    "\n",
    "from sklearn.metrics import mean_squared_error, r2_score\n",
    "from sklearn.metrics import mean_absolute_error"
   ]
  },
  {
   "cell_type": "markdown",
   "id": "76fc5410",
   "metadata": {},
   "source": [
    "# Read files"
   ]
  },
  {
   "cell_type": "code",
   "execution_count": 4,
   "id": "85969754",
   "metadata": {},
   "outputs": [
    {
     "name": "stdout",
     "output_type": "stream",
     "text": [
      "CPU times: user 34.4 s, sys: 3.37 s, total: 37.8 s\n",
      "Wall time: 37.8 s\n"
     ]
    }
   ],
   "source": [
    "%%time\n",
    "\n",
    "X_train = pd.read_csv('dades/processed/training_data.csv', index_col='index')\n",
    "X_train = X_train.reset_index(drop=True)\n",
    "y_train = X_train.ctx0.copy()\n",
    "\n",
    "X_val = pd.read_csv('dades/processed/validation_data.csv', index_col='index')\n",
    "X_val = X_val.reset_index(drop=True)\n",
    "y_val = X_val.ctx0.copy()\n",
    "\n",
    "X_test = pd.read_csv('dades/processed/testing_data.csv', index_col='index')\n",
    "X_test = X_test.reset_index(drop=True)\n",
    "y_test = X_test.ctx0.copy()\n"
   ]
  },
  {
   "cell_type": "code",
   "execution_count": 5,
   "id": "631e1a3f",
   "metadata": {},
   "outputs": [],
   "source": [
    "cat_y_train = ((y_train.copy()*100)/5).round().astype(int)\n",
    "cat_y_val = ((y_val.copy()*100)/5).round().astype(int)\n",
    "cat_y_test = ((y_test.copy()*100)/5).round().astype(int)"
   ]
  },
  {
   "cell_type": "code",
   "execution_count": 6,
   "id": "179a6d68",
   "metadata": {},
   "outputs": [
    {
     "data": {
      "text/plain": [
       "[2019, 2022]"
      ]
     },
     "execution_count": 6,
     "metadata": {},
     "output_type": "execute_result"
    }
   ],
   "source": [
    "years = X_train.year.unique().tolist()\n",
    "years"
   ]
  },
  {
   "cell_type": "code",
   "execution_count": 7,
   "id": "92552898",
   "metadata": {},
   "outputs": [
    {
     "data": {
      "text/plain": [
       "[1, 2, 3, 4, 5, 6, 7, 8, 9, 10, 11, 12]"
      ]
     },
     "execution_count": 7,
     "metadata": {},
     "output_type": "execute_result"
    }
   ],
   "source": [
    "months = X_train.month.unique().tolist()\n",
    "months"
   ]
  },
  {
   "cell_type": "markdown",
   "id": "c8552f3b",
   "metadata": {},
   "source": [
    "# Move to feature extraction notebook"
   ]
  },
  {
   "cell_type": "code",
   "execution_count": 8,
   "id": "515ac298",
   "metadata": {},
   "outputs": [],
   "source": [
    "columns = ['ctx1', 'ctx2', 'ctx3', 'ctx4']\n",
    "combination = [columns[:i] for i in range(2,len(columns)+1)]"
   ]
  },
  {
   "cell_type": "code",
   "execution_count": 9,
   "id": "c47205bb",
   "metadata": {},
   "outputs": [
    {
     "data": {
      "text/plain": [
       "[['ctx1', 'ctx2'], ['ctx1', 'ctx2', 'ctx3'], ['ctx1', 'ctx2', 'ctx3', 'ctx4']]"
      ]
     },
     "execution_count": 9,
     "metadata": {},
     "output_type": "execute_result"
    }
   ],
   "source": [
    "combination"
   ]
  },
  {
   "cell_type": "code",
   "execution_count": 10,
   "id": "b648ea9d",
   "metadata": {},
   "outputs": [
    {
     "name": "stdout",
     "output_type": "stream",
     "text": [
      "ctx1_ctx2\n",
      "ctx1_ctx2_ctx3\n",
      "ctx1_ctx2_ctx3_ctx4\n"
     ]
    }
   ],
   "source": [
    "\n",
    "for comb in combination:\n",
    "    suffix = '_'.join(comb)\n",
    "    print(suffix)\n",
    "    X_train[f'{suffix}_mean'] = X_train[comb].mean(axis=1)\n",
    "    X_train[f'{suffix}_std'] = X_train[comb].std(axis=1)\n",
    "    \n",
    "    X_val[f'{suffix}_mean'] = X_val[comb].mean(axis=1)\n",
    "    X_val[f'{suffix}_std'] = X_val[comb].std(axis=1)\n",
    "    \n",
    "    X_test[f'{suffix}_mean'] = X_test[comb].mean(axis=1)\n",
    "    X_test[f'{suffix}_std'] = X_test[comb].std(axis=1)\n",
    "    "
   ]
  },
  {
   "cell_type": "markdown",
   "id": "da9dfc01",
   "metadata": {},
   "source": [
    "# Run pipeline"
   ]
  },
  {
   "cell_type": "code",
   "execution_count": 11,
   "id": "48c1ab6e",
   "metadata": {},
   "outputs": [
    {
     "data": {
      "text/plain": [
       "Index(['station_id', 'year', 'month', 'dayofweek', 'day', 'dayofyear', 'hour',\n",
       "       'capacity', 'ctx0', 'ctx1', 'ctx2', 'ctx3', 'ctx4', 'festius',\n",
       "       'festius_sun', 'festius_sun_sat', 'weekend', 'VALOR_TM_D5',\n",
       "       'VALOR_TX_D5', 'VALOR_TN_D5', 'VALOR_HRM_D5', 'VALOR_PPT_D5',\n",
       "       'VALOR_PM_D5', 'VALOR_RS24h_D5', 'VALOR_VVM10_D5', 'VALOR_DVM10_D5',\n",
       "       'VALOR_VVX10_D5', 'VALOR_DVVX10_D5', 'VALOR_HRX_D5', 'VALOR_HRN_D5',\n",
       "       'VALOR_PX_D5', 'VALOR_PN_D5', 'VALOR_TM_X2', 'VALOR_TX_X2',\n",
       "       'VALOR_TN_X2', 'VALOR_HRM_X2', 'VALOR_HRX_X2', 'VALOR_HRN_X2',\n",
       "       'VALOR_TM_X4', 'VALOR_TX_X4', 'VALOR_TN_X4', 'VALOR_HRM_X4',\n",
       "       'VALOR_PPT_X4', 'VALOR_PM_X4', 'VALOR_RS24h_X4', 'VALOR_VVM10_X4',\n",
       "       'VALOR_DVM10_X4', 'VALOR_VVX10_X4', 'VALOR_DVVX10_X4', 'VALOR_HRX_X4',\n",
       "       'VALOR_HRN_X4', 'VALOR_PX_X4', 'VALOR_PN_X4', 'VALOR_TM_X8',\n",
       "       'VALOR_TX_X8', 'VALOR_TN_X8', 'VALOR_HRM_X8', 'VALOR_PPT_X8',\n",
       "       'VALOR_PM_X8', 'VALOR_RS24h_X8', 'VALOR_VVM10_X8', 'VALOR_DVM10_X8',\n",
       "       'VALOR_VVX10_X8', 'VALOR_DVVX10_X8', 'VALOR_HRX_X8', 'VALOR_HRN_X8',\n",
       "       'VALOR_PX_X8', 'VALOR_PN_X8', 'ctx1_ctx2_mean', 'ctx1_ctx2_std',\n",
       "       'ctx1_ctx2_ctx3_mean', 'ctx1_ctx2_ctx3_std', 'ctx1_ctx2_ctx3_ctx4_mean',\n",
       "       'ctx1_ctx2_ctx3_ctx4_std'],\n",
       "      dtype='object')"
      ]
     },
     "execution_count": 11,
     "metadata": {},
     "output_type": "execute_result"
    }
   ],
   "source": [
    "X_train.columns"
   ]
  },
  {
   "cell_type": "code",
   "execution_count": 12,
   "id": "2a86e13f",
   "metadata": {},
   "outputs": [],
   "source": [
    "columns = X_train.columns[['VALOR' not in i for i in X_train.columns]].to_list()"
   ]
  },
  {
   "cell_type": "code",
   "execution_count": 13,
   "id": "bfb739da",
   "metadata": {},
   "outputs": [
    {
     "name": "stdout",
     "output_type": "stream",
     "text": [
      "CPU times: user 6.75 s, sys: 171 ms, total: 6.92 s\n",
      "Wall time: 6.92 s\n"
     ]
    },
    {
     "data": {
      "text/plain": [
       "{'ctx0': 1.0,\n",
       " 'ctx1': 0.922782456240714,\n",
       " 'ctx1_ctx2_mean': 0.8885207453250363,\n",
       " 'ctx1_ctx2_ctx3_mean': 0.8555430769022581,\n",
       " 'ctx1_ctx2_ctx3_ctx4_mean': 0.8239822725983219,\n",
       " 'ctx2': 0.819636295322785,\n",
       " 'ctx3': 0.7269660619171394,\n",
       " 'ctx4': 0.6433542864387456,\n",
       " 'ctx1_ctx2_ctx3_ctx4_std': 0.1788328563180239,\n",
       " 'ctx1_ctx2_ctx3_std': 0.1624569609205879,\n",
       " 'ctx1_ctx2_std': 0.13614849127354808,\n",
       " 'station_id': 0.058572666456470864,\n",
       " 'month': 0.04797209212986377,\n",
       " 'dayofyear': 0.04658815108186215,\n",
       " 'festius': 0.026205363407866854,\n",
       " 'festius_sun': 0.02428332213799446,\n",
       " 'hour': 0.02221610656684412,\n",
       " 'weekend': 0.020687138715983638,\n",
       " 'festius_sun_sat': 0.020408291886535937,\n",
       " 'dayofweek': 0.01682990398446328,\n",
       " 'day': 0.011988856445992522,\n",
       " 'year': 0.011565763518756121,\n",
       " 'capacity': 0.009925167482363198}"
      ]
     },
     "execution_count": 13,
     "metadata": {},
     "output_type": "execute_result"
    }
   ],
   "source": [
    "%%time \n",
    "\n",
    "correlations = np.abs(\n",
    "    X_train[columns].corr(method='pearson').ctx0\n",
    ").sort_values(ascending=False)\n",
    "\n",
    "correlations.to_dict()"
   ]
  },
  {
   "cell_type": "code",
   "execution_count": 14,
   "id": "8d473764",
   "metadata": {},
   "outputs": [],
   "source": [
    "columns_ctx = X_train.columns[['ctx' in i for i in X_train.columns]].to_list()\n",
    "columns_ctx.remove('ctx0')"
   ]
  },
  {
   "cell_type": "code",
   "execution_count": 15,
   "id": "60738ae1",
   "metadata": {},
   "outputs": [],
   "source": [
    "columns_meteo = ['VALOR_TN_X4','VALOR_TM_X4', 'VALOR_TX_X4', 'VALOR_PPT_X4']"
   ]
  },
  {
   "cell_type": "code",
   "execution_count": 16,
   "id": "990d43cd",
   "metadata": {},
   "outputs": [],
   "source": [
    "class Config:\n",
    "    num_attribs0 = ['capacity'] + columns_ctx + columns_meteo\n",
    "    cat_attribs0 = ['month', 'dayofyear', 'hour', 'dayofweek', 'day'] \n",
    "    cat_attribs1 = ['station_id']\n",
    "    gen_attribs0 = ['festius_sun', 'weekend']\n",
    "    target_col = ['ctx0']\n",
    "    \n",
    "    seed=42\n",
    "    \n",
    "def seed_everything(seed=42):\n",
    "    random.seed(seed)\n",
    "    os.environ['PYTHONHASHSEED'] = str(seed)\n",
    "    np.random.seed(seed)\n",
    "    "
   ]
  },
  {
   "cell_type": "code",
   "execution_count": 17,
   "id": "54e6aa5f",
   "metadata": {},
   "outputs": [],
   "source": [
    "config=Config()\n",
    "seed_everything(config.seed)"
   ]
  },
  {
   "cell_type": "code",
   "execution_count": 18,
   "id": "ae0c692a",
   "metadata": {},
   "outputs": [],
   "source": [
    "\n",
    "def build_preprocessor(config):\n",
    "    num_attribs0 = config.num_attribs0\n",
    "    cat_attribs0 = config.cat_attribs0\n",
    "    cat_attribs1 = config.cat_attribs1\n",
    "    gen_attribs0 = config.gen_attribs0\n",
    "\n",
    "    num_transformer0 = Pipeline(steps=[\n",
    "        (\"imputer\", SimpleImputer(strategy=\"mean\")),\n",
    "        ('std_scaler', (StandardScaler())),\n",
    "    ])\n",
    "\n",
    "    categorical_transformer0 = Pipeline(steps=[\n",
    "        (\"imputer\", SimpleImputer(strategy=\"constant\",fill_value=0)),\n",
    "        ('ordinal_encoder', (OrdinalEncoder(handle_unknown='use_encoded_value', unknown_value=np.nan))),\n",
    "    ])\n",
    "    \n",
    "    categorical_transformer1 = Pipeline(steps=[\n",
    "        (\"imputer\", SimpleImputer(strategy=\"constant\",fill_value=0)),\n",
    "        ('one_hot_encoder', (OneHotEncoder(handle_unknown='ignore'))),\n",
    "    ])\n",
    "    \n",
    "    generic_transformer0 = Pipeline([\n",
    "        (\"imputer\", SimpleImputer(strategy=\"constant\",fill_value=0)),\n",
    "    ])\n",
    "    \n",
    "    preprocessor = ColumnTransformer(\n",
    "        transformers=[\n",
    "            (\"num0\", num_transformer0, num_attribs0),\n",
    "            (\"gen1\", generic_transformer0, gen_attribs0),\n",
    "            (\"cat0\", categorical_transformer0, cat_attribs0),\n",
    "            (\"cat1\", categorical_transformer1, cat_attribs1),\n",
    "        ],\n",
    "        remainder=\"drop\"\n",
    "    )\n",
    "    \n",
    "    return preprocessor"
   ]
  },
  {
   "cell_type": "code",
   "execution_count": 19,
   "id": "f5d5d893",
   "metadata": {},
   "outputs": [
    {
     "name": "stdout",
     "output_type": "stream",
     "text": [
      "CPU times: user 35 µs, sys: 4 µs, total: 39 µs\n",
      "Wall time: 40.5 µs\n"
     ]
    }
   ],
   "source": [
    "%%time \n",
    "\n",
    "full_pipeline = build_preprocessor(config)"
   ]
  },
  {
   "cell_type": "code",
   "execution_count": 20,
   "id": "28a09448",
   "metadata": {},
   "outputs": [
    {
     "data": {
      "text/html": [
       "<style>#sk-container-id-1 {color: black;background-color: white;}#sk-container-id-1 pre{padding: 0;}#sk-container-id-1 div.sk-toggleable {background-color: white;}#sk-container-id-1 label.sk-toggleable__label {cursor: pointer;display: block;width: 100%;margin-bottom: 0;padding: 0.3em;box-sizing: border-box;text-align: center;}#sk-container-id-1 label.sk-toggleable__label-arrow:before {content: \"▸\";float: left;margin-right: 0.25em;color: #696969;}#sk-container-id-1 label.sk-toggleable__label-arrow:hover:before {color: black;}#sk-container-id-1 div.sk-estimator:hover label.sk-toggleable__label-arrow:before {color: black;}#sk-container-id-1 div.sk-toggleable__content {max-height: 0;max-width: 0;overflow: hidden;text-align: left;background-color: #f0f8ff;}#sk-container-id-1 div.sk-toggleable__content pre {margin: 0.2em;color: black;border-radius: 0.25em;background-color: #f0f8ff;}#sk-container-id-1 input.sk-toggleable__control:checked~div.sk-toggleable__content {max-height: 200px;max-width: 100%;overflow: auto;}#sk-container-id-1 input.sk-toggleable__control:checked~label.sk-toggleable__label-arrow:before {content: \"▾\";}#sk-container-id-1 div.sk-estimator input.sk-toggleable__control:checked~label.sk-toggleable__label {background-color: #d4ebff;}#sk-container-id-1 div.sk-label input.sk-toggleable__control:checked~label.sk-toggleable__label {background-color: #d4ebff;}#sk-container-id-1 input.sk-hidden--visually {border: 0;clip: rect(1px 1px 1px 1px);clip: rect(1px, 1px, 1px, 1px);height: 1px;margin: -1px;overflow: hidden;padding: 0;position: absolute;width: 1px;}#sk-container-id-1 div.sk-estimator {font-family: monospace;background-color: #f0f8ff;border: 1px dotted black;border-radius: 0.25em;box-sizing: border-box;margin-bottom: 0.5em;}#sk-container-id-1 div.sk-estimator:hover {background-color: #d4ebff;}#sk-container-id-1 div.sk-parallel-item::after {content: \"\";width: 100%;border-bottom: 1px solid gray;flex-grow: 1;}#sk-container-id-1 div.sk-label:hover label.sk-toggleable__label {background-color: #d4ebff;}#sk-container-id-1 div.sk-serial::before {content: \"\";position: absolute;border-left: 1px solid gray;box-sizing: border-box;top: 0;bottom: 0;left: 50%;z-index: 0;}#sk-container-id-1 div.sk-serial {display: flex;flex-direction: column;align-items: center;background-color: white;padding-right: 0.2em;padding-left: 0.2em;position: relative;}#sk-container-id-1 div.sk-item {position: relative;z-index: 1;}#sk-container-id-1 div.sk-parallel {display: flex;align-items: stretch;justify-content: center;background-color: white;position: relative;}#sk-container-id-1 div.sk-item::before, #sk-container-id-1 div.sk-parallel-item::before {content: \"\";position: absolute;border-left: 1px solid gray;box-sizing: border-box;top: 0;bottom: 0;left: 50%;z-index: -1;}#sk-container-id-1 div.sk-parallel-item {display: flex;flex-direction: column;z-index: 1;position: relative;background-color: white;}#sk-container-id-1 div.sk-parallel-item:first-child::after {align-self: flex-end;width: 50%;}#sk-container-id-1 div.sk-parallel-item:last-child::after {align-self: flex-start;width: 50%;}#sk-container-id-1 div.sk-parallel-item:only-child::after {width: 0;}#sk-container-id-1 div.sk-dashed-wrapped {border: 1px dashed gray;margin: 0 0.4em 0.5em 0.4em;box-sizing: border-box;padding-bottom: 0.4em;background-color: white;}#sk-container-id-1 div.sk-label label {font-family: monospace;font-weight: bold;display: inline-block;line-height: 1.2em;}#sk-container-id-1 div.sk-label-container {text-align: center;}#sk-container-id-1 div.sk-container {/* jupyter's `normalize.less` sets `[hidden] { display: none; }` but bootstrap.min.css set `[hidden] { display: none !important; }` so we also need the `!important` here to be able to override the default hidden behavior on the sphinx rendered scikit-learn.org. See: https://github.com/scikit-learn/scikit-learn/issues/21755 */display: inline-block !important;position: relative;}#sk-container-id-1 div.sk-text-repr-fallback {display: none;}</style><div id=\"sk-container-id-1\" class=\"sk-top-container\"><div class=\"sk-text-repr-fallback\"><pre>ColumnTransformer(transformers=[(&#x27;num0&#x27;,\n",
       "                                 Pipeline(steps=[(&#x27;imputer&#x27;, SimpleImputer()),\n",
       "                                                 (&#x27;std_scaler&#x27;,\n",
       "                                                  StandardScaler())]),\n",
       "                                 [&#x27;capacity&#x27;, &#x27;ctx1&#x27;, &#x27;ctx2&#x27;, &#x27;ctx3&#x27;, &#x27;ctx4&#x27;,\n",
       "                                  &#x27;ctx1_ctx2_mean&#x27;, &#x27;ctx1_ctx2_std&#x27;,\n",
       "                                  &#x27;ctx1_ctx2_ctx3_mean&#x27;, &#x27;ctx1_ctx2_ctx3_std&#x27;,\n",
       "                                  &#x27;ctx1_ctx2_ctx3_ctx4_mean&#x27;,\n",
       "                                  &#x27;ctx1_ctx2_ctx3_ctx4_std&#x27;, &#x27;VALOR_TN_X4&#x27;,\n",
       "                                  &#x27;VALOR_TM_X4&#x27;, &#x27;VALOR_TX_X4&#x27;,\n",
       "                                  &#x27;VALOR_PPT_X4&#x27;]),\n",
       "                                (&#x27;ge...\n",
       "                                                  SimpleImputer(fill_value=0,\n",
       "                                                                strategy=&#x27;constant&#x27;)),\n",
       "                                                 (&#x27;ordinal_encoder&#x27;,\n",
       "                                                  OrdinalEncoder(handle_unknown=&#x27;use_encoded_value&#x27;,\n",
       "                                                                 unknown_value=nan))]),\n",
       "                                 [&#x27;month&#x27;, &#x27;dayofyear&#x27;, &#x27;hour&#x27;, &#x27;dayofweek&#x27;,\n",
       "                                  &#x27;day&#x27;]),\n",
       "                                (&#x27;cat1&#x27;,\n",
       "                                 Pipeline(steps=[(&#x27;imputer&#x27;,\n",
       "                                                  SimpleImputer(fill_value=0,\n",
       "                                                                strategy=&#x27;constant&#x27;)),\n",
       "                                                 (&#x27;one_hot_encoder&#x27;,\n",
       "                                                  OneHotEncoder(handle_unknown=&#x27;ignore&#x27;))]),\n",
       "                                 [&#x27;station_id&#x27;])])</pre><b>In a Jupyter environment, please rerun this cell to show the HTML representation or trust the notebook. <br />On GitHub, the HTML representation is unable to render, please try loading this page with nbviewer.org.</b></div><div class=\"sk-container\" hidden><div class=\"sk-item sk-dashed-wrapped\"><div class=\"sk-label-container\"><div class=\"sk-label sk-toggleable\"><input class=\"sk-toggleable__control sk-hidden--visually\" id=\"sk-estimator-id-1\" type=\"checkbox\" ><label for=\"sk-estimator-id-1\" class=\"sk-toggleable__label sk-toggleable__label-arrow\">ColumnTransformer</label><div class=\"sk-toggleable__content\"><pre>ColumnTransformer(transformers=[(&#x27;num0&#x27;,\n",
       "                                 Pipeline(steps=[(&#x27;imputer&#x27;, SimpleImputer()),\n",
       "                                                 (&#x27;std_scaler&#x27;,\n",
       "                                                  StandardScaler())]),\n",
       "                                 [&#x27;capacity&#x27;, &#x27;ctx1&#x27;, &#x27;ctx2&#x27;, &#x27;ctx3&#x27;, &#x27;ctx4&#x27;,\n",
       "                                  &#x27;ctx1_ctx2_mean&#x27;, &#x27;ctx1_ctx2_std&#x27;,\n",
       "                                  &#x27;ctx1_ctx2_ctx3_mean&#x27;, &#x27;ctx1_ctx2_ctx3_std&#x27;,\n",
       "                                  &#x27;ctx1_ctx2_ctx3_ctx4_mean&#x27;,\n",
       "                                  &#x27;ctx1_ctx2_ctx3_ctx4_std&#x27;, &#x27;VALOR_TN_X4&#x27;,\n",
       "                                  &#x27;VALOR_TM_X4&#x27;, &#x27;VALOR_TX_X4&#x27;,\n",
       "                                  &#x27;VALOR_PPT_X4&#x27;]),\n",
       "                                (&#x27;ge...\n",
       "                                                  SimpleImputer(fill_value=0,\n",
       "                                                                strategy=&#x27;constant&#x27;)),\n",
       "                                                 (&#x27;ordinal_encoder&#x27;,\n",
       "                                                  OrdinalEncoder(handle_unknown=&#x27;use_encoded_value&#x27;,\n",
       "                                                                 unknown_value=nan))]),\n",
       "                                 [&#x27;month&#x27;, &#x27;dayofyear&#x27;, &#x27;hour&#x27;, &#x27;dayofweek&#x27;,\n",
       "                                  &#x27;day&#x27;]),\n",
       "                                (&#x27;cat1&#x27;,\n",
       "                                 Pipeline(steps=[(&#x27;imputer&#x27;,\n",
       "                                                  SimpleImputer(fill_value=0,\n",
       "                                                                strategy=&#x27;constant&#x27;)),\n",
       "                                                 (&#x27;one_hot_encoder&#x27;,\n",
       "                                                  OneHotEncoder(handle_unknown=&#x27;ignore&#x27;))]),\n",
       "                                 [&#x27;station_id&#x27;])])</pre></div></div></div><div class=\"sk-parallel\"><div class=\"sk-parallel-item\"><div class=\"sk-item\"><div class=\"sk-label-container\"><div class=\"sk-label sk-toggleable\"><input class=\"sk-toggleable__control sk-hidden--visually\" id=\"sk-estimator-id-2\" type=\"checkbox\" ><label for=\"sk-estimator-id-2\" class=\"sk-toggleable__label sk-toggleable__label-arrow\">num0</label><div class=\"sk-toggleable__content\"><pre>[&#x27;capacity&#x27;, &#x27;ctx1&#x27;, &#x27;ctx2&#x27;, &#x27;ctx3&#x27;, &#x27;ctx4&#x27;, &#x27;ctx1_ctx2_mean&#x27;, &#x27;ctx1_ctx2_std&#x27;, &#x27;ctx1_ctx2_ctx3_mean&#x27;, &#x27;ctx1_ctx2_ctx3_std&#x27;, &#x27;ctx1_ctx2_ctx3_ctx4_mean&#x27;, &#x27;ctx1_ctx2_ctx3_ctx4_std&#x27;, &#x27;VALOR_TN_X4&#x27;, &#x27;VALOR_TM_X4&#x27;, &#x27;VALOR_TX_X4&#x27;, &#x27;VALOR_PPT_X4&#x27;]</pre></div></div></div><div class=\"sk-serial\"><div class=\"sk-item\"><div class=\"sk-serial\"><div class=\"sk-item\"><div class=\"sk-estimator sk-toggleable\"><input class=\"sk-toggleable__control sk-hidden--visually\" id=\"sk-estimator-id-3\" type=\"checkbox\" ><label for=\"sk-estimator-id-3\" class=\"sk-toggleable__label sk-toggleable__label-arrow\">SimpleImputer</label><div class=\"sk-toggleable__content\"><pre>SimpleImputer()</pre></div></div></div><div class=\"sk-item\"><div class=\"sk-estimator sk-toggleable\"><input class=\"sk-toggleable__control sk-hidden--visually\" id=\"sk-estimator-id-4\" type=\"checkbox\" ><label for=\"sk-estimator-id-4\" class=\"sk-toggleable__label sk-toggleable__label-arrow\">StandardScaler</label><div class=\"sk-toggleable__content\"><pre>StandardScaler()</pre></div></div></div></div></div></div></div></div><div class=\"sk-parallel-item\"><div class=\"sk-item\"><div class=\"sk-label-container\"><div class=\"sk-label sk-toggleable\"><input class=\"sk-toggleable__control sk-hidden--visually\" id=\"sk-estimator-id-5\" type=\"checkbox\" ><label for=\"sk-estimator-id-5\" class=\"sk-toggleable__label sk-toggleable__label-arrow\">gen1</label><div class=\"sk-toggleable__content\"><pre>[&#x27;festius_sun&#x27;, &#x27;weekend&#x27;]</pre></div></div></div><div class=\"sk-serial\"><div class=\"sk-item\"><div class=\"sk-serial\"><div class=\"sk-item\"><div class=\"sk-estimator sk-toggleable\"><input class=\"sk-toggleable__control sk-hidden--visually\" id=\"sk-estimator-id-6\" type=\"checkbox\" ><label for=\"sk-estimator-id-6\" class=\"sk-toggleable__label sk-toggleable__label-arrow\">SimpleImputer</label><div class=\"sk-toggleable__content\"><pre>SimpleImputer(fill_value=0, strategy=&#x27;constant&#x27;)</pre></div></div></div></div></div></div></div></div><div class=\"sk-parallel-item\"><div class=\"sk-item\"><div class=\"sk-label-container\"><div class=\"sk-label sk-toggleable\"><input class=\"sk-toggleable__control sk-hidden--visually\" id=\"sk-estimator-id-7\" type=\"checkbox\" ><label for=\"sk-estimator-id-7\" class=\"sk-toggleable__label sk-toggleable__label-arrow\">cat0</label><div class=\"sk-toggleable__content\"><pre>[&#x27;month&#x27;, &#x27;dayofyear&#x27;, &#x27;hour&#x27;, &#x27;dayofweek&#x27;, &#x27;day&#x27;]</pre></div></div></div><div class=\"sk-serial\"><div class=\"sk-item\"><div class=\"sk-serial\"><div class=\"sk-item\"><div class=\"sk-estimator sk-toggleable\"><input class=\"sk-toggleable__control sk-hidden--visually\" id=\"sk-estimator-id-8\" type=\"checkbox\" ><label for=\"sk-estimator-id-8\" class=\"sk-toggleable__label sk-toggleable__label-arrow\">SimpleImputer</label><div class=\"sk-toggleable__content\"><pre>SimpleImputer(fill_value=0, strategy=&#x27;constant&#x27;)</pre></div></div></div><div class=\"sk-item\"><div class=\"sk-estimator sk-toggleable\"><input class=\"sk-toggleable__control sk-hidden--visually\" id=\"sk-estimator-id-9\" type=\"checkbox\" ><label for=\"sk-estimator-id-9\" class=\"sk-toggleable__label sk-toggleable__label-arrow\">OrdinalEncoder</label><div class=\"sk-toggleable__content\"><pre>OrdinalEncoder(handle_unknown=&#x27;use_encoded_value&#x27;, unknown_value=nan)</pre></div></div></div></div></div></div></div></div><div class=\"sk-parallel-item\"><div class=\"sk-item\"><div class=\"sk-label-container\"><div class=\"sk-label sk-toggleable\"><input class=\"sk-toggleable__control sk-hidden--visually\" id=\"sk-estimator-id-10\" type=\"checkbox\" ><label for=\"sk-estimator-id-10\" class=\"sk-toggleable__label sk-toggleable__label-arrow\">cat1</label><div class=\"sk-toggleable__content\"><pre>[&#x27;station_id&#x27;]</pre></div></div></div><div class=\"sk-serial\"><div class=\"sk-item\"><div class=\"sk-serial\"><div class=\"sk-item\"><div class=\"sk-estimator sk-toggleable\"><input class=\"sk-toggleable__control sk-hidden--visually\" id=\"sk-estimator-id-11\" type=\"checkbox\" ><label for=\"sk-estimator-id-11\" class=\"sk-toggleable__label sk-toggleable__label-arrow\">SimpleImputer</label><div class=\"sk-toggleable__content\"><pre>SimpleImputer(fill_value=0, strategy=&#x27;constant&#x27;)</pre></div></div></div><div class=\"sk-item\"><div class=\"sk-estimator sk-toggleable\"><input class=\"sk-toggleable__control sk-hidden--visually\" id=\"sk-estimator-id-12\" type=\"checkbox\" ><label for=\"sk-estimator-id-12\" class=\"sk-toggleable__label sk-toggleable__label-arrow\">OneHotEncoder</label><div class=\"sk-toggleable__content\"><pre>OneHotEncoder(handle_unknown=&#x27;ignore&#x27;)</pre></div></div></div></div></div></div></div></div></div></div></div></div>"
      ],
      "text/plain": [
       "ColumnTransformer(transformers=[('num0',\n",
       "                                 Pipeline(steps=[('imputer', SimpleImputer()),\n",
       "                                                 ('std_scaler',\n",
       "                                                  StandardScaler())]),\n",
       "                                 ['capacity', 'ctx1', 'ctx2', 'ctx3', 'ctx4',\n",
       "                                  'ctx1_ctx2_mean', 'ctx1_ctx2_std',\n",
       "                                  'ctx1_ctx2_ctx3_mean', 'ctx1_ctx2_ctx3_std',\n",
       "                                  'ctx1_ctx2_ctx3_ctx4_mean',\n",
       "                                  'ctx1_ctx2_ctx3_ctx4_std', 'VALOR_TN_X4',\n",
       "                                  'VALOR_TM_X4', 'VALOR_TX_X4',\n",
       "                                  'VALOR_PPT_X4']),\n",
       "                                ('ge...\n",
       "                                                  SimpleImputer(fill_value=0,\n",
       "                                                                strategy='constant')),\n",
       "                                                 ('ordinal_encoder',\n",
       "                                                  OrdinalEncoder(handle_unknown='use_encoded_value',\n",
       "                                                                 unknown_value=nan))]),\n",
       "                                 ['month', 'dayofyear', 'hour', 'dayofweek',\n",
       "                                  'day']),\n",
       "                                ('cat1',\n",
       "                                 Pipeline(steps=[('imputer',\n",
       "                                                  SimpleImputer(fill_value=0,\n",
       "                                                                strategy='constant')),\n",
       "                                                 ('one_hot_encoder',\n",
       "                                                  OneHotEncoder(handle_unknown='ignore'))]),\n",
       "                                 ['station_id'])])"
      ]
     },
     "execution_count": 20,
     "metadata": {},
     "output_type": "execute_result"
    }
   ],
   "source": [
    "full_pipeline.fit(X_train)"
   ]
  },
  {
   "cell_type": "code",
   "execution_count": 21,
   "id": "66c0c43e",
   "metadata": {},
   "outputs": [],
   "source": [
    "def apply_pipeline(pipline, X, y, args=None, show=True):\n",
    "    assert X.shape[0] == y.shape[0]\n",
    "    \n",
    "    X_prepared = full_pipeline.transform(X)\n",
    "    \n",
    "    if show:\n",
    "        print(\"X\", X.shape, \n",
    "              \"X_prepared:\", X_prepared.shape,\n",
    "              \"y: \", y.shape\n",
    "             )\n",
    "        \n",
    "    if args:\n",
    "        return X_prepared, y, *args\n",
    "    else:\n",
    "        return X_prepared, y"
   ]
  },
  {
   "cell_type": "code",
   "execution_count": 22,
   "id": "de717510",
   "metadata": {},
   "outputs": [],
   "source": [
    "def prepare_splits(\n",
    "    pipeline,\n",
    "    data_train,\n",
    "    data_val,\n",
    "    data_test,\n",
    "    years, \n",
    "    months, \n",
    "    show=True\n",
    "):\n",
    "    if show:\n",
    "        print(\"train\")\n",
    "    \n",
    "    train_cond = (data_train[0].year.isin(years) & data_train[0].month.isin(months))\n",
    "    Xtr, ytr = apply_pipeline(\n",
    "        pipeline,\n",
    "        data_train[0][train_cond], \n",
    "        data_train[1][train_cond],\n",
    "        show=show\n",
    "    )\n",
    "\n",
    "    if show:\n",
    "        print(\"val\")\n",
    "    \n",
    "    val_cond = (data_val[0].year.isin(years) & data_val[0].month.isin(months))\n",
    "    Xva, yva = apply_pipeline(\n",
    "        pipeline, \n",
    "        data_val[0][val_cond], \n",
    "        data_val[1][val_cond],\n",
    "        show=show\n",
    "    )\n",
    "\n",
    "    if show:\n",
    "        print(\"test\")\n",
    "    \n",
    "    test_cond = (data_test[0].year.isin([2023]) & data_test[0].month.isin([3]))\n",
    "    Xte, yte = apply_pipeline(\n",
    "        pipeline, \n",
    "        data_test[0][test_cond],\n",
    "        data_test[1][test_cond],\n",
    "        show=show\n",
    "    )\n",
    "    \n",
    "    return Xtr, ytr, Xva, yva, Xte, yte"
   ]
  },
  {
   "cell_type": "code",
   "execution_count": 23,
   "id": "d9a018ab",
   "metadata": {},
   "outputs": [],
   "source": [
    "def test_model_train_val_test(\n",
    "    model,\n",
    "    data_train,\n",
    "    data_val,\n",
    "    data_test,\n",
    "    skip_cv=False,\n",
    "    show=False,\n",
    "    error_score='raise'\n",
    "):\n",
    "    if skip_cv==False:\n",
    "        cross_val_evaluation(\n",
    "            model, \n",
    "            data_train[0], \n",
    "            data_train[1], \n",
    "            'model test', \n",
    "            n_jobs=5,\n",
    "            error_score=error_score\n",
    "        )\n",
    "    \n",
    "    model.fit(data_train[0], data_train[1])\n",
    "    \n",
    "    return {\n",
    "        'train':test_model(model, data_train[0], data_train[1], show=show)[['mse_t','rmse_t','mae_t','r2_t']],\n",
    "        'test':test_model(model, data_val[0], data_val[1], data_test[0], data_test[1], show=show)[['mse_t','rmse_t','mae_t','r2_t', 'mse_v','rmse_v','mae_v','r2_v']]\n",
    "    }\n"
   ]
  },
  {
   "cell_type": "code",
   "execution_count": 24,
   "id": "bcd4cb8c",
   "metadata": {},
   "outputs": [],
   "source": [
    "def do_test_per_month(\n",
    "    model, \n",
    "    modelargs,\n",
    "    data_train,\n",
    "    data_val,\n",
    "    data_test,\n",
    "    years,\n",
    "    months\n",
    "):\n",
    "    result = {}\n",
    "    with tqdm(range (len(years)*len(months)), unit=\"months\", mininterval=0, disable=False) as bar:\n",
    "        for index in bar:\n",
    "            month = months[(index%len(months))]\n",
    "            year = years[int(index>=len(months))]\n",
    "            bar.set_description(f\"Month {year}-{month}\")\n",
    "\n",
    "            Xtr, ytr, Xva, yva, Xte, yte = prepare_splits(\n",
    "                full_pipeline,\n",
    "                data_train,\n",
    "                data_val,\n",
    "                data_test,\n",
    "                [year], [month], False)\n",
    "            \n",
    "            # define model \n",
    "            m = model(**modelargs)\n",
    "\n",
    "            result[index] = test_model_train_val_test(\n",
    "                m,\n",
    "                (Xtr, ytr),\n",
    "                (Xva, yva),\n",
    "                (Xte, yte),\n",
    "                skip_cv=True,\n",
    "                show=False,\n",
    "                error_score='raise'\n",
    "            )\n",
    "                \n",
    "    result=pd.DataFrame(result)\n",
    "    aux=pd.DataFrame(result.T.unstack().reset_index()[0].to_dict()).T\n",
    "    aux['type']=pd.DataFrame(result.T.unstack().reset_index().level_0)\n",
    "    aux['order']=pd.DataFrame(result.T.unstack().reset_index().level_1)\n",
    "    aux = pd.DataFrame(aux.set_index(['type', 'order']).unstack(['type']).reindex()).reset_index()\n",
    "    aux.columns = ['_'.join(col) for col in aux.columns.values]\n",
    "    \n",
    "    return aux"
   ]
  },
  {
   "cell_type": "code",
   "execution_count": 25,
   "id": "2b83993e",
   "metadata": {
    "scrolled": true
   },
   "outputs": [],
   "source": [
    "def do_test_per_month_combos(\n",
    "    model, \n",
    "    modelargs,\n",
    "    data_train,\n",
    "    data_val,\n",
    "    data_test,\n",
    "    years,\n",
    "    months\n",
    "):\n",
    "    result = {}\n",
    "    with tqdm(range (len(years)*len(months)), unit=\"months\", mininterval=0, disable=False) as bar:\n",
    "        for index in bar:\n",
    "            month_combo = months[(index%len(months))]\n",
    "            year = years[int(index>=len(months))]\n",
    "            bar.set_description(f\"Month {year}-{month_combo}\")\n",
    "\n",
    "            Xtr, ytr, Xva, yva, Xte, yte = prepare_splits(\n",
    "                full_pipeline,\n",
    "                data_train,\n",
    "                data_val,\n",
    "                data_test,\n",
    "                [year], month_combo, False)\n",
    "            \n",
    "            # define model \n",
    "            m = model(**modelargs)\n",
    "\n",
    "            result[index] = test_model_train_val_test(\n",
    "                m,\n",
    "                (Xtr, ytr),\n",
    "                (Xva, yva),\n",
    "                (Xte, yte),\n",
    "                skip_cv=True,\n",
    "                show=False,\n",
    "                error_score='raise'\n",
    "            )\n",
    "            \n",
    "    result=pd.DataFrame(result)\n",
    "    aux=pd.DataFrame(result.T.unstack().reset_index()[0].to_dict()).T\n",
    "    aux['type']=pd.DataFrame(result.T.unstack().reset_index().level_0)\n",
    "    aux['order']=pd.DataFrame(result.T.unstack().reset_index().level_1)\n",
    "    aux = pd.DataFrame(aux.set_index(['type', 'order']).unstack(['type']).reindex()).reset_index()\n",
    "    aux.columns = ['_'.join(col) for col in aux.columns.values]\n",
    "    \n",
    "    return aux"
   ]
  },
  {
   "cell_type": "code",
   "execution_count": 26,
   "id": "61413a70",
   "metadata": {},
   "outputs": [
    {
     "data": {
      "text/plain": [
       "[None, None, None, None]"
      ]
     },
     "execution_count": 26,
     "metadata": {},
     "output_type": "execute_result"
    }
   ],
   "source": [
    "[months.remove(x) for x in [6,7,8,9]]"
   ]
  },
  {
   "cell_type": "code",
   "execution_count": 27,
   "id": "8b1452b4",
   "metadata": {},
   "outputs": [
    {
     "data": {
      "text/plain": [
       "([2019, 2022], [1, 2, 3, 4, 5, 10, 11, 12])"
      ]
     },
     "execution_count": 27,
     "metadata": {},
     "output_type": "execute_result"
    }
   ],
   "source": [
    "years, months"
   ]
  },
  {
   "cell_type": "code",
   "execution_count": 28,
   "id": "3253dad6",
   "metadata": {},
   "outputs": [
    {
     "name": "stdout",
     "output_type": "stream",
     "text": [
      "train\n",
      "X (2357330, 74) X_prepared: (2357330, 430) y:  (2357330,)\n",
      "val\n",
      "X (586724, 74) X_prepared: (586724, 430) y:  (586724,)\n",
      "test\n",
      "X (359126, 74) X_prepared: (359126, 430) y:  (359126,)\n"
     ]
    }
   ],
   "source": [
    "# Take data of 2022 \n",
    "\n",
    "X_train_prepared, y_train_prepared, X_val_prepared, y_val_prepared, X_test_prepared, y_test_prepared = prepare_splits(\n",
    "    full_pipeline,\n",
    "    (X_train, y_train),\n",
    "    (X_val, y_val),\n",
    "    (X_test, y_test),\n",
    "    [2022], months, True)\n"
   ]
  },
  {
   "cell_type": "raw",
   "id": "21a6667e",
   "metadata": {},
   "source": [
    "X_train_prepared_list = X_train_prepared.toarray()"
   ]
  },
  {
   "cell_type": "raw",
   "id": "8ddf7c86",
   "metadata": {},
   "source": [
    "X_val_prepared_list = X_val_prepared.toarray()"
   ]
  },
  {
   "cell_type": "raw",
   "id": "ed64d33e",
   "metadata": {},
   "source": [
    "X_test_prepared_list = X_test_prepared.toarray()"
   ]
  },
  {
   "cell_type": "code",
   "execution_count": 29,
   "id": "d33ce2e1",
   "metadata": {},
   "outputs": [
    {
     "data": {
      "text/plain": [
       "48"
      ]
     },
     "execution_count": 29,
     "metadata": {},
     "output_type": "execute_result"
    }
   ],
   "source": [
    "import gc\n",
    "\n",
    "gc.collect()"
   ]
  },
  {
   "cell_type": "markdown",
   "id": "7f8f1ba6",
   "metadata": {},
   "source": [
    "# Predicción______________________________\n",
    "\n",
    "a) Regresión lineal: relación lineal entre las variables de entrada y la variable de salida. \n",
    "\n",
    "b) Regresión Redes Neuronales (RNN -redes neuronales recurrentes-): pueden capturar relaciones no lineales entre las variables de entrada y salida."
   ]
  },
  {
   "cell_type": "markdown",
   "id": "313dac49",
   "metadata": {},
   "source": [
    "## LinearRegression"
   ]
  },
  {
   "cell_type": "code",
   "execution_count": 30,
   "id": "f612e771",
   "metadata": {},
   "outputs": [
    {
     "name": "stdout",
     "output_type": "stream",
     "text": [
      "CPU times: user 8 µs, sys: 1 µs, total: 9 µs\n",
      "Wall time: 12.4 µs\n"
     ]
    }
   ],
   "source": [
    "%%time \n",
    "\n",
    "lin_reg = LinearRegression(n_jobs=5)"
   ]
  },
  {
   "cell_type": "markdown",
   "id": "b271ff02",
   "metadata": {},
   "source": [
    "## Train and test, validate model"
   ]
  },
  {
   "cell_type": "code",
   "execution_count": 31,
   "id": "e9aa3ed8",
   "metadata": {
    "scrolled": false
   },
   "outputs": [
    {
     "name": "stderr",
     "output_type": "stream",
     "text": [
      "[Parallel(n_jobs=5)]: Using backend LokyBackend with 5 concurrent workers.\n",
      "[Parallel(n_jobs=5)]: Done   2 out of   5 | elapsed:    6.8s remaining:   10.3s\n",
      "[Parallel(n_jobs=5)]: Done   5 out of   5 | elapsed:    7.4s remaining:    0.0s\n",
      "[Parallel(n_jobs=5)]: Done   5 out of   5 | elapsed:    7.4s finished\n"
     ]
    },
    {
     "name": "stdout",
     "output_type": "stream",
     "text": [
      "\n",
      "  model test\n",
      "Scores: [-0.11474385 -0.11456413 -0.11441008 -0.11506224 -0.11444607]\n",
      "Mean: -0.11464527376373983\n",
      "Standard deviation: 0.0002388133876105734\n",
      "\n",
      "Training time: 0.086 s\n",
      "----- EVALUATION ON VAL SET ------\n",
      "MSE: 0.013137217431949594\n",
      "RMSE 0.11461770121560454\n",
      "MAE: 0.07663794255909813\n",
      "R^2:  0.8078368879858107\n",
      "\n"
     ]
    },
    {
     "data": {
      "image/png": "[encoded data removed]",
      "text/plain": [
       "<Figure size 640x480 with 1 Axes>"
      ]
     },
     "metadata": {},
     "output_type": "display_data"
    },
    {
     "name": "stdout",
     "output_type": "stream",
     "text": [
      "\n",
      "Training time: 0.019 s\n",
      "----- EVALUATION ON VAL SET ------\n",
      "MSE: 0.009657643190766745\n",
      "RMSE 0.09827330863854511\n",
      "MAE: 0.06641733357643148\n",
      "R^2:  0.8522444720424238\n",
      "\n"
     ]
    },
    {
     "data": {
      "image/png": "[encoded data removed]",
      "text/plain": [
       "<Figure size 640x480 with 1 Axes>"
      ]
     },
     "metadata": {},
     "output_type": "display_data"
    },
    {
     "name": "stdout",
     "output_type": "stream",
     "text": [
      "\n",
      "Testing time: 0.012 s\n",
      "----- EVALUATION ON VAL SET ------\n",
      "MSE: 0.0138884091375572\n",
      "RMSE 0.11784909476766124\n",
      "MAE: 0.08014580478388536\n",
      "R^2:  0.8101138607888135\n",
      "\n"
     ]
    },
    {
     "data": {
      "image/png": "[encoded data removed]",
      "text/plain": [
       "<Figure size 640x480 with 1 Axes>"
      ]
     },
     "metadata": {},
     "output_type": "display_data"
    },
    {
     "name": "stdout",
     "output_type": "stream",
     "text": [
      "CPU times: user 24.5 s, sys: 1min 2s, total: 1min 27s\n",
      "Wall time: 17.1 s\n"
     ]
    },
    {
     "data": {
      "text/plain": [
       "{'train': mse_t     0.013137\n",
       " rmse_t    0.114618\n",
       " mae_t     0.076638\n",
       " r2_t      0.807837\n",
       " dtype: object,\n",
       " 'test': mse_t     0.009658\n",
       " rmse_t    0.098273\n",
       " mae_t     0.066417\n",
       " r2_t      0.852244\n",
       " mse_v     0.013888\n",
       " rmse_v    0.117849\n",
       " mae_v     0.080146\n",
       " r2_v      0.810114\n",
       " dtype: object}"
      ]
     },
     "execution_count": 31,
     "metadata": {},
     "output_type": "execute_result"
    }
   ],
   "source": [
    "%%time \n",
    "\n",
    "test_model_train_val_test(\n",
    "    lin_reg, \n",
    "    (X_train_prepared, y_train_prepared),\n",
    "    (X_val_prepared, y_val_prepared),\n",
    "    (X_test_prepared,  y_test_prepared),\n",
    "    show=True\n",
    ")\n",
    "\n",
    "# {'train': mse_t     0.013319\n",
    "#  rmse_t    0.115408\n",
    "#  mae_t     0.076947\n",
    "#  r2_t      0.805179\n",
    "#  dtype: object,\n",
    "#  'test': mse_t     0.009486\n",
    "#  rmse_t    0.097396\n",
    "#  mae_t      0.06385\n",
    "#  r2_t      0.854869\n",
    "#  mse_v     0.014026\n",
    "#  rmse_v    0.118431\n",
    "#  mae_v     0.079915\n",
    "#  r2_v      0.808233\n",
    "#  dtype: object}"
   ]
  },
  {
   "cell_type": "markdown",
   "id": "7af92699",
   "metadata": {},
   "source": [
    "## Testing each month"
   ]
  },
  {
   "cell_type": "code",
   "execution_count": 32,
   "id": "07414b07",
   "metadata": {
    "scrolled": true
   },
   "outputs": [
    {
     "data": {
      "application/vnd.jupyter.widget-view+json": {
       "model_id": "9f3a65e6a7834bada13ae1ef8290e99d",
       "version_major": 2,
       "version_minor": 0
      },
      "text/plain": [
       "  0%|          | 0/8 [00:00<?, ?months/s]"
      ]
     },
     "metadata": {},
     "output_type": "display_data"
    },
    {
     "name": "stdout",
     "output_type": "stream",
     "text": [
      "CPU times: user 28.9 s, sys: 1min 14s, total: 1min 43s\n",
      "Wall time: 11.4 s\n"
     ]
    }
   ],
   "source": [
    "%%time \n",
    "\n",
    "result = do_test_per_month(\n",
    "    LinearRegression, dict(n_jobs=5),\n",
    "    (X_train, y_train),\n",
    "    (X_val, y_val),\n",
    "    (X_test,  y_test),\n",
    "    [2022],\n",
    "    months\n",
    ")"
   ]
  },
  {
   "cell_type": "code",
   "execution_count": 33,
   "id": "8a9e8567",
   "metadata": {},
   "outputs": [
    {
     "data": {
      "text/plain": [
       "<matplotlib.collections.PathCollection at 0x7fd41d317790>"
      ]
     },
     "execution_count": 33,
     "metadata": {},
     "output_type": "execute_result"
    },
    {
     "data": {
      "image/png": "[encoded data removed]",
      "text/plain": [
       "<Figure size 640x480 with 1 Axes>"
      ]
     },
     "metadata": {},
     "output_type": "display_data"
    }
   ],
   "source": [
    "result[['rmse_t_test','rmse_t_train','rmse_v_test']].plot()\n",
    "\n",
    "aux=result[result.rmse_t_test == result.rmse_t_test.min()]\n",
    "plt.scatter(aux.order_.to_list(), aux['rmse_t_test'].to_list())\n",
    "\n",
    "aux=result[result.rmse_t_train == result.rmse_t_train.min()]\n",
    "plt.scatter(aux.order_.to_list(), aux['rmse_t_train'].to_list())\n",
    "\n",
    "aux=result[result.rmse_v_test == result.rmse_v_test.min()]\n",
    "plt.scatter(aux.order_.to_list(), aux['rmse_v_test'].to_list())"
   ]
  },
  {
   "cell_type": "code",
   "execution_count": 34,
   "id": "1e3d2315",
   "metadata": {},
   "outputs": [
    {
     "data": {
      "text/plain": [
       "rmse_t_test     0.090908\n",
       "rmse_t_train    0.105483\n",
       "rmse_v_test     0.118051\n",
       "dtype: object"
      ]
     },
     "execution_count": 34,
     "metadata": {},
     "output_type": "execute_result"
    }
   ],
   "source": [
    "result[['rmse_t_test','rmse_t_train','rmse_v_test']].min()\n",
    "\n",
    "# rmse_t_test     0.090114\n",
    "# rmse_t_train    0.106278\n",
    "# rmse_v_test     0.118463\n",
    "# dtype: object"
   ]
  },
  {
   "cell_type": "code",
   "execution_count": 35,
   "id": "81b717e0",
   "metadata": {},
   "outputs": [
    {
     "data": {
      "text/plain": [
       "r2_t_test      0.86829\n",
       "r2_t_train    0.832012\n",
       "r2_v_test     0.809461\n",
       "dtype: object"
      ]
     },
     "execution_count": 35,
     "metadata": {},
     "output_type": "execute_result"
    }
   ],
   "source": [
    "result[['r2_t_test','r2_t_train','r2_v_test']].max()\n",
    "\n",
    "# r2_t_test     0.870583\n",
    "# r2_t_train    0.829468\n",
    "# r2_v_test     0.808132\n",
    "# dtype: object"
   ]
  },
  {
   "cell_type": "markdown",
   "id": "33a70137",
   "metadata": {},
   "source": [
    "## Testing combination of three consecutive months"
   ]
  },
  {
   "cell_type": "code",
   "execution_count": 36,
   "id": "86267e45",
   "metadata": {
    "scrolled": true
   },
   "outputs": [
    {
     "data": {
      "application/vnd.jupyter.widget-view+json": {
       "model_id": "51177cacc0384ff486a8f00ccae5097d",
       "version_major": 2,
       "version_minor": 0
      },
      "text/plain": [
       "  0%|          | 0/8 [00:00<?, ?months/s]"
      ]
     },
     "metadata": {},
     "output_type": "display_data"
    },
    {
     "name": "stdout",
     "output_type": "stream",
     "text": [
      "CPU times: user 1min 8s, sys: 3min 6s, total: 4min 15s\n",
      "Wall time: 24.6 s\n"
     ]
    }
   ],
   "source": [
    "%%time \n",
    "\n",
    "result = do_test_per_month_combos(\n",
    "    LinearRegression, dict(n_jobs=5),\n",
    "    (X_train, y_train),\n",
    "    (X_val, y_val),\n",
    "    (X_test,  y_test),\n",
    "    [2022],\n",
    "    [[11,12,1], [12, 1, 2],[1,2,3], [2,3,4], [3,4,5], [3], [2,3], [3,4]]\n",
    ")"
   ]
  },
  {
   "cell_type": "code",
   "execution_count": 37,
   "id": "65a382f0",
   "metadata": {},
   "outputs": [
    {
     "data": {
      "text/plain": [
       "<matplotlib.collections.PathCollection at 0x7fd41d285ca0>"
      ]
     },
     "execution_count": 37,
     "metadata": {},
     "output_type": "execute_result"
    },
    {
     "data": {
      "image/png": "[encoded data removed]",
      "text/plain": [
       "<Figure size 640x480 with 1 Axes>"
      ]
     },
     "metadata": {},
     "output_type": "display_data"
    }
   ],
   "source": [
    "result[['rmse_t_test','rmse_t_train','rmse_v_test']].plot()\n",
    "\n",
    "aux=result[result.rmse_t_test == result.rmse_t_test.min()]\n",
    "plt.scatter(aux.order_.to_list(), aux['rmse_t_test'].to_list())\n",
    "\n",
    "aux=result[result.rmse_t_train == result.rmse_t_train.min()]\n",
    "plt.scatter(aux.order_.to_list(), aux['rmse_t_train'].to_list())\n",
    "\n",
    "aux=result[result.rmse_v_test == result.rmse_v_test.min()]\n",
    "plt.scatter(aux.order_.to_list(), aux['rmse_v_test'].to_list())"
   ]
  },
  {
   "cell_type": "code",
   "execution_count": 38,
   "id": "0b81d34d",
   "metadata": {},
   "outputs": [
    {
     "data": {
      "text/plain": [
       "rmse_t_test     0.095866\n",
       "rmse_t_train    0.111541\n",
       "rmse_v_test     0.117853\n",
       "dtype: object"
      ]
     },
     "execution_count": 38,
     "metadata": {},
     "output_type": "execute_result"
    }
   ],
   "source": [
    "result[['rmse_t_test','rmse_t_train','rmse_v_test']].min()\n",
    "\n",
    "# rmse_t_test     0.095179\n",
    "# rmse_t_train    0.112222\n",
    "# rmse_v_test     0.118457\n",
    "# dtype: object"
   ]
  },
  {
   "cell_type": "code",
   "execution_count": 39,
   "id": "32ceab6e",
   "metadata": {
    "scrolled": false
   },
   "outputs": [
    {
     "data": {
      "text/plain": [
       "r2_t_test     0.856265\n",
       "r2_t_train    0.815208\n",
       "r2_v_test     0.810101\n",
       "dtype: object"
      ]
     },
     "execution_count": 39,
     "metadata": {},
     "output_type": "execute_result"
    }
   ],
   "source": [
    "result[['r2_t_test','r2_t_train','r2_v_test']].max()\n",
    "\n",
    "# r2_t_test     0.858316\n",
    "# r2_t_train    0.812946\n",
    "# r2_v_test     0.808149\n",
    "# dtype: object"
   ]
  },
  {
   "cell_type": "raw",
   "id": "12ee2095",
   "metadata": {},
   "source": [
    "from sklearn.linear_model import RANSACRegressor"
   ]
  },
  {
   "cell_type": "raw",
   "id": "5279c70f",
   "metadata": {
    "scrolled": true
   },
   "source": [
    "%%time \n",
    "\n",
    "# Set RANSAC hyperparameters\n",
    "ransac = RANSACRegressor(LinearRegression(n_jobs=5),\n",
    "    max_trials=8, # Number of Iterations\n",
    "    min_samples=2, # Minimum size of the sample\n",
    "    loss='absolute_error',# Metrics for loss\n",
    "    residual_threshold=10 # Threshold\n",
    ")\n",
    "\n",
    "cross_val_evaluation(ransac,X_train_prepared, y_train,'Linear Regression', n_jobs=5)"
   ]
  },
  {
   "cell_type": "raw",
   "id": "c84956bc",
   "metadata": {},
   "source": [
    "%%time \n",
    "\n",
    "ransac.fit(X_train_prepared,y_train)"
   ]
  },
  {
   "cell_type": "raw",
   "id": "8bb1a772",
   "metadata": {},
   "source": [
    "test_model(ransac, X_train_prepared, y_train)"
   ]
  },
  {
   "cell_type": "raw",
   "id": "29572a8f",
   "metadata": {
    "scrolled": true
   },
   "source": [
    "test_model(ransac, X_val_prepared1, y_val1, X_val_prepared2, y_val2)"
   ]
  },
  {
   "cell_type": "markdown",
   "id": "184a9875",
   "metadata": {},
   "source": [
    "## KNN3\n",
    "### Not ideal to store and sort large data.\n",
    "https://www.kaggle.com/general/352216"
   ]
  },
  {
   "cell_type": "markdown",
   "id": "6cceaa56",
   "metadata": {},
   "source": [
    "## SVM \n",
    "### SVM is not suitable for large datasets because of its high training time and it also takes more time in training compared to Naïve Bayes. \n",
    "https://www.datacamp.com/tutorial/svm-classification-scikit-learn-python#advantages"
   ]
  },
  {
   "cell_type": "markdown",
   "id": "907d8631",
   "metadata": {},
   "source": [
    "# Decision Tree"
   ]
  },
  {
   "cell_type": "code",
   "execution_count": 40,
   "id": "956a306e",
   "metadata": {},
   "outputs": [],
   "source": [
    "from sklearn.tree import DecisionTreeRegressor"
   ]
  },
  {
   "cell_type": "code",
   "execution_count": 41,
   "id": "3db82ccf",
   "metadata": {},
   "outputs": [
    {
     "name": "stdout",
     "output_type": "stream",
     "text": [
      "CPU times: user 7 µs, sys: 14 µs, total: 21 µs\n",
      "Wall time: 22.6 µs\n"
     ]
    }
   ],
   "source": [
    "%%time \n",
    "\n",
    "# define model \n",
    "tree_reg = DecisionTreeRegressor(\n",
    "    criterion='friedman_mse',\n",
    "    max_depth=11, \n",
    "    random_state=config.seed\n",
    ")\n"
   ]
  },
  {
   "cell_type": "markdown",
   "id": "1139b326",
   "metadata": {},
   "source": [
    "## Train and test, validate model"
   ]
  },
  {
   "cell_type": "code",
   "execution_count": 42,
   "id": "549c02fa",
   "metadata": {
    "scrolled": false
   },
   "outputs": [
    {
     "name": "stderr",
     "output_type": "stream",
     "text": [
      "[Parallel(n_jobs=5)]: Using backend LokyBackend with 5 concurrent workers.\n",
      "[Parallel(n_jobs=5)]: Done   2 out of   5 | elapsed:  1.9min remaining:  2.9min\n",
      "[Parallel(n_jobs=5)]: Done   5 out of   5 | elapsed:  1.9min remaining:    0.0s\n",
      "[Parallel(n_jobs=5)]: Done   5 out of   5 | elapsed:  1.9min finished\n"
     ]
    },
    {
     "name": "stdout",
     "output_type": "stream",
     "text": [
      "\n",
      "  model test\n",
      "Scores: [-0.11215872 -0.1119933  -0.11177366 -0.11244083 -0.11175997]\n",
      "Mean: -0.11202529697482977\n",
      "Standard deviation: 0.0002550341442179634\n",
      "\n",
      "Training time: 0.251 s\n",
      "----- EVALUATION ON VAL SET ------\n",
      "MSE: 0.01219622142347122\n",
      "RMSE 0.11043650403499389\n",
      "MAE: 0.07317588924939857\n",
      "R^2:  0.8216011970808532\n",
      "\n"
     ]
    },
    {
     "data": {
      "image/png": "[encoded data removed]",
      "text/plain": [
       "<Figure size 640x480 with 1 Axes>"
      ]
     },
     "metadata": {},
     "output_type": "display_data"
    },
    {
     "name": "stdout",
     "output_type": "stream",
     "text": [
      "\n",
      "Training time: 0.06 s\n",
      "----- EVALUATION ON VAL SET ------\n",
      "MSE: 0.008840291950534379\n",
      "RMSE 0.09402282675251994\n",
      "MAE: 0.05995331142512407\n",
      "R^2:  0.8647494032810075\n",
      "\n"
     ]
    },
    {
     "data": {
      "image/png": "[encoded data removed]",
      "text/plain": [
       "<Figure size 640x480 with 1 Axes>"
      ]
     },
     "metadata": {},
     "output_type": "display_data"
    },
    {
     "name": "stdout",
     "output_type": "stream",
     "text": [
      "\n",
      "Testing time: 0.038 s\n",
      "----- EVALUATION ON VAL SET ------\n",
      "MSE: 0.013142268988631151\n",
      "RMSE 0.11463973564445773\n",
      "MAE: 0.07695077792925135\n",
      "R^2:  0.8203152935653646\n",
      "\n"
     ]
    },
    {
     "data": {
      "image/png": "[encoded data removed]",
      "text/plain": [
       "<Figure size 640x480 with 1 Axes>"
      ]
     },
     "metadata": {},
     "output_type": "display_data"
    },
    {
     "name": "stdout",
     "output_type": "stream",
     "text": [
      "CPU times: user 2min 13s, sys: 637 ms, total: 2min 13s\n",
      "Wall time: 4min 9s\n"
     ]
    },
    {
     "data": {
      "text/plain": [
       "{'train': mse_t     0.012196\n",
       " rmse_t    0.110437\n",
       " mae_t     0.073176\n",
       " r2_t      0.821601\n",
       " dtype: object,\n",
       " 'test': mse_t      0.00884\n",
       " rmse_t    0.094023\n",
       " mae_t     0.059953\n",
       " r2_t      0.864749\n",
       " mse_v     0.013142\n",
       " rmse_v     0.11464\n",
       " mae_v     0.076951\n",
       " r2_v      0.820315\n",
       " dtype: object}"
      ]
     },
     "execution_count": 42,
     "metadata": {},
     "output_type": "execute_result"
    }
   ],
   "source": [
    "%%time \n",
    "\n",
    "test_model_train_val_test(\n",
    "    tree_reg, \n",
    "    (X_train_prepared, y_train_prepared),\n",
    "    (X_val_prepared, y_val_prepared),\n",
    "    (X_test_prepared,  y_test_prepared),\n",
    "    show=True\n",
    ")\n",
    "\n",
    "# {'train': mse_t     0.012237\n",
    "#  rmse_t    0.110621\n",
    "#  mae_t     0.073122\n",
    "#  r2_t      0.821003\n",
    "#  dtype: object,\n",
    "#  'test': mse_t     0.008864\n",
    "#  rmse_t    0.094151\n",
    "#  mae_t     0.059995\n",
    "#  r2_t       0.86438\n",
    "#  mse_v     0.013122\n",
    "#  rmse_v     0.11455\n",
    "#  mae_v      0.07691\n",
    "#  r2_v      0.820596\n",
    "#  dtype: object}"
   ]
  },
  {
   "cell_type": "markdown",
   "id": "4003c50d",
   "metadata": {},
   "source": [
    "## Testing each month"
   ]
  },
  {
   "cell_type": "code",
   "execution_count": 43,
   "id": "2c51a36e",
   "metadata": {
    "scrolled": true
   },
   "outputs": [
    {
     "data": {
      "application/vnd.jupyter.widget-view+json": {
       "model_id": "b681e1b563fd47d889d970a92f282c6b",
       "version_major": 2,
       "version_minor": 0
      },
      "text/plain": [
       "  0%|          | 0/8 [00:00<?, ?months/s]"
      ]
     },
     "metadata": {},
     "output_type": "display_data"
    },
    {
     "name": "stdout",
     "output_type": "stream",
     "text": [
      "CPU times: user 1min 41s, sys: 0 ns, total: 1min 41s\n",
      "Wall time: 1min 41s\n"
     ]
    }
   ],
   "source": [
    "%%time \n",
    "\n",
    "result = do_test_per_month(\n",
    "    DecisionTreeRegressor, dict(criterion='friedman_mse', max_depth=11, random_state=config.seed),\n",
    "    (X_train, y_train),\n",
    "    (X_val, y_val),\n",
    "    (X_test,  y_test),\n",
    "    [2022],\n",
    "    months\n",
    ")"
   ]
  },
  {
   "cell_type": "code",
   "execution_count": 44,
   "id": "146c9c48",
   "metadata": {},
   "outputs": [
    {
     "data": {
      "text/plain": [
       "<matplotlib.collections.PathCollection at 0x7fd3e6587730>"
      ]
     },
     "execution_count": 44,
     "metadata": {},
     "output_type": "execute_result"
    },
    {
     "data": {
      "image/png": "[encoded data removed]",
      "text/plain": [
       "<Figure size 640x480 with 1 Axes>"
      ]
     },
     "metadata": {},
     "output_type": "display_data"
    }
   ],
   "source": [
    "result[['rmse_t_test','rmse_t_train','rmse_v_test']].plot()\n",
    "\n",
    "aux=result[result.rmse_t_test == result.rmse_t_test.min()]\n",
    "plt.scatter(aux.order_.to_list(), aux['rmse_t_test'].to_list())\n",
    "\n",
    "aux=result[result.rmse_t_train == result.rmse_t_train.min()]\n",
    "plt.scatter(aux.order_.to_list(), aux['rmse_t_train'].to_list())\n",
    "\n",
    "aux=result[result.rmse_v_test == result.rmse_v_test.min()]\n",
    "plt.scatter(aux.order_.to_list(), aux['rmse_v_test'].to_list())"
   ]
  },
  {
   "cell_type": "code",
   "execution_count": 45,
   "id": "c0095f2e",
   "metadata": {},
   "outputs": [
    {
     "data": {
      "text/plain": [
       "rmse_t_test     0.089012\n",
       "rmse_t_train     0.09955\n",
       "rmse_v_test     0.117429\n",
       "dtype: object"
      ]
     },
     "execution_count": 45,
     "metadata": {},
     "output_type": "execute_result"
    }
   ],
   "source": [
    "result[['rmse_t_test','rmse_t_train','rmse_v_test']].min()\n",
    "\n",
    "# rmse_t_test     0.091301\n",
    "# rmse_t_train     0.09943\n",
    "# rmse_v_test     0.119586\n",
    "# dtype: object"
   ]
  },
  {
   "cell_type": "code",
   "execution_count": 46,
   "id": "e98330a9",
   "metadata": {},
   "outputs": [
    {
     "data": {
      "text/plain": [
       "r2_t_test     0.873729\n",
       "r2_t_train    0.850377\n",
       "r2_v_test     0.811464\n",
       "dtype: object"
      ]
     },
     "execution_count": 46,
     "metadata": {},
     "output_type": "execute_result"
    }
   ],
   "source": [
    "result[['r2_t_test','r2_t_train','r2_v_test']].max()\n",
    "\n",
    "# r2_t_test     0.867151\n",
    "# r2_t_train    0.850738\n",
    "# r2_v_test     0.804474\n",
    "# dtype: object"
   ]
  },
  {
   "cell_type": "markdown",
   "id": "3cf8ef20",
   "metadata": {},
   "source": [
    "## Testing combination of three consecutive months"
   ]
  },
  {
   "cell_type": "code",
   "execution_count": 47,
   "id": "9ea4c10a",
   "metadata": {
    "scrolled": true
   },
   "outputs": [
    {
     "data": {
      "application/vnd.jupyter.widget-view+json": {
       "model_id": "48e144711e0040bd81553907e6e054c7",
       "version_major": 2,
       "version_minor": 0
      },
      "text/plain": [
       "  0%|          | 0/8 [00:00<?, ?months/s]"
      ]
     },
     "metadata": {},
     "output_type": "display_data"
    },
    {
     "name": "stdout",
     "output_type": "stream",
     "text": [
      "[CV] END .................................................... total time=   5.9s\n",
      "[CV] END .................................................... total time= 1.9min\n",
      "[CV] END .................................................... total time=   6.4s\n",
      "[CV] END .................................................... total time= 1.9min\n",
      "[CV] END .................................................... total time=   6.4s\n",
      "[CV] END .................................................... total time= 1.9min\n",
      "[CV] END .................................................... total time=   5.9s\n",
      "[CV] END .................................................... total time= 1.9min\n",
      "[CV] END .................................................... total time=   6.0s\n",
      "[CV] END .................................................... total time= 1.9min\n",
      "CPU times: user 4min 46s, sys: 314 ms, total: 4min 46s\n",
      "Wall time: 4min 46s\n"
     ]
    }
   ],
   "source": [
    "%%time \n",
    "\n",
    "result = do_test_per_month_combos(\n",
    "    DecisionTreeRegressor, dict(criterion='friedman_mse', max_depth=11, random_state=config.seed),\n",
    "    (X_train, y_train),\n",
    "    (X_val, y_val),\n",
    "    (X_test,  y_test),\n",
    "    [2022],\n",
    "    [[11,12,1], [12, 1, 2],[1,2,3], [2,3,4], [3,4,5], [3], [2,3], [3,4]]\n",
    ")"
   ]
  },
  {
   "cell_type": "code",
   "execution_count": 48,
   "id": "947f86dd",
   "metadata": {},
   "outputs": [
    {
     "data": {
      "text/plain": [
       "<matplotlib.collections.PathCollection at 0x7fd41d057700>"
      ]
     },
     "execution_count": 48,
     "metadata": {},
     "output_type": "execute_result"
    },
    {
     "data": {
      "image/png": "[encoded data removed]",
      "text/plain": [
       "<Figure size 640x480 with 1 Axes>"
      ]
     },
     "metadata": {},
     "output_type": "display_data"
    }
   ],
   "source": [
    "result[['rmse_t_test','rmse_t_train','rmse_v_test']].plot()\n",
    "\n",
    "aux=result[result.rmse_t_test == result.rmse_t_test.min()]\n",
    "plt.scatter(aux.order_.to_list(), aux['rmse_t_test'].to_list())\n",
    "\n",
    "aux=result[result.rmse_t_train == result.rmse_t_train.min()]\n",
    "plt.scatter(aux.order_.to_list(), aux['rmse_t_train'].to_list())\n",
    "\n",
    "aux=result[result.rmse_v_test == result.rmse_v_test.min()]\n",
    "plt.scatter(aux.order_.to_list(), aux['rmse_v_test'].to_list())"
   ]
  },
  {
   "cell_type": "code",
   "execution_count": 49,
   "id": "3302fb85",
   "metadata": {},
   "outputs": [
    {
     "data": {
      "text/plain": [
       "rmse_t_test     0.092469\n",
       "rmse_t_train    0.106487\n",
       "rmse_v_test     0.115439\n",
       "dtype: object"
      ]
     },
     "execution_count": 49,
     "metadata": {},
     "output_type": "execute_result"
    }
   ],
   "source": [
    "result[['rmse_t_test','rmse_t_train','rmse_v_test']].min()\n",
    "\n",
    "# rmse_t_test     0.093224\n",
    "# rmse_t_train    0.106735\n",
    "# rmse_v_test     0.115668\n",
    "# dtype: object"
   ]
  },
  {
   "cell_type": "code",
   "execution_count": 50,
   "id": "a01bd9d7",
   "metadata": {
    "scrolled": false
   },
   "outputs": [
    {
     "data": {
      "text/plain": [
       "r2_t_test     0.866271\n",
       "r2_t_train    0.831575\n",
       "r2_v_test       0.8178\n",
       "dtype: object"
      ]
     },
     "execution_count": 50,
     "metadata": {},
     "output_type": "execute_result"
    }
   ],
   "source": [
    "result[['r2_t_test','r2_t_train','r2_v_test']].max()\n",
    "\n",
    "# r2_t_test     0.864013\n",
    "# r2_t_train     0.83079\n",
    "# r2_v_test     0.817077\n",
    "# dtype: object"
   ]
  },
  {
   "cell_type": "markdown",
   "id": "6fd80162",
   "metadata": {},
   "source": [
    "## Fine tuning parameters"
   ]
  },
  {
   "cell_type": "code",
   "execution_count": 51,
   "id": "12746d90",
   "metadata": {},
   "outputs": [],
   "source": [
    "# define model \n",
    "tree_reg = DecisionTreeRegressor(random_state=config.seed)\n",
    "\n",
    "param_grid = [\n",
    "    {\n",
    "        'max_depth':[9,11,13],\n",
    "        'criterion':['friedman_mse']\n",
    "    }\n",
    "]\n",
    "\n",
    "grid_search = GridSearchCV(\n",
    "    tree_reg, param_grid, cv=5,\n",
    "    scoring='neg_root_mean_squared_error',\n",
    "    verbose=2,\n",
    "    return_train_score=True,\n",
    "    error_score='raise'\n",
    ")"
   ]
  },
  {
   "cell_type": "code",
   "execution_count": 52,
   "id": "2f73bc9a",
   "metadata": {
    "scrolled": true
   },
   "outputs": [
    {
     "name": "stdout",
     "output_type": "stream",
     "text": [
      "Fitting 5 folds for each of 5 candidates, totalling 25 fits\n",
      "[CV] END ................criterion=friedman_mse, max_depth=7; total time=  15.2s\n",
      "[CV] END ................criterion=friedman_mse, max_depth=7; total time=  15.2s\n",
      "[CV] END ................criterion=friedman_mse, max_depth=7; total time=  14.9s\n",
      "[CV] END ................criterion=friedman_mse, max_depth=7; total time=  14.9s\n",
      "[CV] END ................criterion=friedman_mse, max_depth=7; total time=  14.9s\n",
      "[CV] END ................criterion=friedman_mse, max_depth=9; total time=  18.3s\n",
      "[CV] END .................................................... total time=   4.2s\n",
      "[CV] END .................................................... total time=  24.1s\n",
      "[CV] END .................................................... total time=   4.2s\n",
      "[CV] END .................................................... total time=  24.2s\n",
      "[CV] END .................................................... total time=   4.2s\n",
      "[CV] END .................................................... total time=  24.3s\n",
      "[CV] END .................................................... total time=   4.2s\n",
      "[CV] END .................................................... total time=  24.3s\n",
      "[CV] END .................................................... total time=   4.2s\n",
      "[CV] END .................................................... total time=  24.5s\n",
      "[CV] END ................criterion=friedman_mse, max_depth=9; total time=  18.4s\n",
      "[CV] END ................criterion=friedman_mse, max_depth=9; total time=  18.4s\n",
      "[CV] END ................criterion=friedman_mse, max_depth=9; total time=  18.3s\n",
      "[CV] END ................criterion=friedman_mse, max_depth=9; total time=  18.6s\n",
      "[CV] END ...............criterion=friedman_mse, max_depth=11; total time=  22.1s\n",
      "[CV] END ...............criterion=friedman_mse, max_depth=11; total time=  22.5s\n",
      "[CV] END ...............criterion=friedman_mse, max_depth=11; total time=  21.6s\n",
      "[CV] END ...............criterion=friedman_mse, max_depth=11; total time=  21.7s\n",
      "[CV] END ...............criterion=friedman_mse, max_depth=11; total time=  21.8s\n",
      "[CV] END ...............criterion=friedman_mse, max_depth=13; total time=  24.9s\n",
      "[CV] END ...............criterion=friedman_mse, max_depth=13; total time=  24.9s\n",
      "[CV] END ...............criterion=friedman_mse, max_depth=13; total time=  24.5s\n",
      "[CV] END ...............criterion=friedman_mse, max_depth=13; total time=  24.5s\n",
      "[CV] END ...............criterion=friedman_mse, max_depth=13; total time=  24.5s\n",
      "[CV] END ...............criterion=friedman_mse, max_depth=15; total time=  27.3s\n",
      "[CV] END ...............criterion=friedman_mse, max_depth=15; total time=  27.4s\n",
      "[CV] END ...............criterion=friedman_mse, max_depth=15; total time=  27.4s\n",
      "[CV] END ...............criterion=friedman_mse, max_depth=15; total time=  27.3s\n",
      "[CV] END ...............criterion=friedman_mse, max_depth=15; total time=  27.3s\n"
     ]
    },
    {
     "data": {
      "text/html": [
       "<style>#sk-container-id-2 {color: black;background-color: white;}#sk-container-id-2 pre{padding: 0;}#sk-container-id-2 div.sk-toggleable {background-color: white;}#sk-container-id-2 label.sk-toggleable__label {cursor: pointer;display: block;width: 100%;margin-bottom: 0;padding: 0.3em;box-sizing: border-box;text-align: center;}#sk-container-id-2 label.sk-toggleable__label-arrow:before {content: \"▸\";float: left;margin-right: 0.25em;color: #696969;}#sk-container-id-2 label.sk-toggleable__label-arrow:hover:before {color: black;}#sk-container-id-2 div.sk-estimator:hover label.sk-toggleable__label-arrow:before {color: black;}#sk-container-id-2 div.sk-toggleable__content {max-height: 0;max-width: 0;overflow: hidden;text-align: left;background-color: #f0f8ff;}#sk-container-id-2 div.sk-toggleable__content pre {margin: 0.2em;color: black;border-radius: 0.25em;background-color: #f0f8ff;}#sk-container-id-2 input.sk-toggleable__control:checked~div.sk-toggleable__content {max-height: 200px;max-width: 100%;overflow: auto;}#sk-container-id-2 input.sk-toggleable__control:checked~label.sk-toggleable__label-arrow:before {content: \"▾\";}#sk-container-id-2 div.sk-estimator input.sk-toggleable__control:checked~label.sk-toggleable__label {background-color: #d4ebff;}#sk-container-id-2 div.sk-label input.sk-toggleable__control:checked~label.sk-toggleable__label {background-color: #d4ebff;}#sk-container-id-2 input.sk-hidden--visually {border: 0;clip: rect(1px 1px 1px 1px);clip: rect(1px, 1px, 1px, 1px);height: 1px;margin: -1px;overflow: hidden;padding: 0;position: absolute;width: 1px;}#sk-container-id-2 div.sk-estimator {font-family: monospace;background-color: #f0f8ff;border: 1px dotted black;border-radius: 0.25em;box-sizing: border-box;margin-bottom: 0.5em;}#sk-container-id-2 div.sk-estimator:hover {background-color: #d4ebff;}#sk-container-id-2 div.sk-parallel-item::after {content: \"\";width: 100%;border-bottom: 1px solid gray;flex-grow: 1;}#sk-container-id-2 div.sk-label:hover label.sk-toggleable__label {background-color: #d4ebff;}#sk-container-id-2 div.sk-serial::before {content: \"\";position: absolute;border-left: 1px solid gray;box-sizing: border-box;top: 0;bottom: 0;left: 50%;z-index: 0;}#sk-container-id-2 div.sk-serial {display: flex;flex-direction: column;align-items: center;background-color: white;padding-right: 0.2em;padding-left: 0.2em;position: relative;}#sk-container-id-2 div.sk-item {position: relative;z-index: 1;}#sk-container-id-2 div.sk-parallel {display: flex;align-items: stretch;justify-content: center;background-color: white;position: relative;}#sk-container-id-2 div.sk-item::before, #sk-container-id-2 div.sk-parallel-item::before {content: \"\";position: absolute;border-left: 1px solid gray;box-sizing: border-box;top: 0;bottom: 0;left: 50%;z-index: -1;}#sk-container-id-2 div.sk-parallel-item {display: flex;flex-direction: column;z-index: 1;position: relative;background-color: white;}#sk-container-id-2 div.sk-parallel-item:first-child::after {align-self: flex-end;width: 50%;}#sk-container-id-2 div.sk-parallel-item:last-child::after {align-self: flex-start;width: 50%;}#sk-container-id-2 div.sk-parallel-item:only-child::after {width: 0;}#sk-container-id-2 div.sk-dashed-wrapped {border: 1px dashed gray;margin: 0 0.4em 0.5em 0.4em;box-sizing: border-box;padding-bottom: 0.4em;background-color: white;}#sk-container-id-2 div.sk-label label {font-family: monospace;font-weight: bold;display: inline-block;line-height: 1.2em;}#sk-container-id-2 div.sk-label-container {text-align: center;}#sk-container-id-2 div.sk-container {/* jupyter's `normalize.less` sets `[hidden] { display: none; }` but bootstrap.min.css set `[hidden] { display: none !important; }` so we also need the `!important` here to be able to override the default hidden behavior on the sphinx rendered scikit-learn.org. See: https://github.com/scikit-learn/scikit-learn/issues/21755 */display: inline-block !important;position: relative;}#sk-container-id-2 div.sk-text-repr-fallback {display: none;}</style><div id=\"sk-container-id-2\" class=\"sk-top-container\"><div class=\"sk-text-repr-fallback\"><pre>GridSearchCV(cv=5, error_score=&#x27;raise&#x27;,\n",
       "             estimator=DecisionTreeRegressor(random_state=42),\n",
       "             param_grid=[{&#x27;criterion&#x27;: [&#x27;friedman_mse&#x27;],\n",
       "                          &#x27;max_depth&#x27;: [7, 9, 11, 13, 15]}],\n",
       "             return_train_score=True, scoring=&#x27;neg_root_mean_squared_error&#x27;,\n",
       "             verbose=2)</pre><b>In a Jupyter environment, please rerun this cell to show the HTML representation or trust the notebook. <br />On GitHub, the HTML representation is unable to render, please try loading this page with nbviewer.org.</b></div><div class=\"sk-container\" hidden><div class=\"sk-item sk-dashed-wrapped\"><div class=\"sk-label-container\"><div class=\"sk-label sk-toggleable\"><input class=\"sk-toggleable__control sk-hidden--visually\" id=\"sk-estimator-id-10\" type=\"checkbox\" ><label for=\"sk-estimator-id-10\" class=\"sk-toggleable__label sk-toggleable__label-arrow\">GridSearchCV</label><div class=\"sk-toggleable__content\"><pre>GridSearchCV(cv=5, error_score=&#x27;raise&#x27;,\n",
       "             estimator=DecisionTreeRegressor(random_state=42),\n",
       "             param_grid=[{&#x27;criterion&#x27;: [&#x27;friedman_mse&#x27;],\n",
       "                          &#x27;max_depth&#x27;: [7, 9, 11, 13, 15]}],\n",
       "             return_train_score=True, scoring=&#x27;neg_root_mean_squared_error&#x27;,\n",
       "             verbose=2)</pre></div></div></div><div class=\"sk-parallel\"><div class=\"sk-parallel-item\"><div class=\"sk-item\"><div class=\"sk-label-container\"><div class=\"sk-label sk-toggleable\"><input class=\"sk-toggleable__control sk-hidden--visually\" id=\"sk-estimator-id-11\" type=\"checkbox\" ><label for=\"sk-estimator-id-11\" class=\"sk-toggleable__label sk-toggleable__label-arrow\">estimator: DecisionTreeRegressor</label><div class=\"sk-toggleable__content\"><pre>DecisionTreeRegressor(random_state=42)</pre></div></div></div><div class=\"sk-serial\"><div class=\"sk-item\"><div class=\"sk-estimator sk-toggleable\"><input class=\"sk-toggleable__control sk-hidden--visually\" id=\"sk-estimator-id-12\" type=\"checkbox\" ><label for=\"sk-estimator-id-12\" class=\"sk-toggleable__label sk-toggleable__label-arrow\">DecisionTreeRegressor</label><div class=\"sk-toggleable__content\"><pre>DecisionTreeRegressor(random_state=42)</pre></div></div></div></div></div></div></div></div></div></div>"
      ],
      "text/plain": [
       "GridSearchCV(cv=5, error_score='raise',\n",
       "             estimator=DecisionTreeRegressor(random_state=42),\n",
       "             param_grid=[{'criterion': ['friedman_mse'],\n",
       "                          'max_depth': [7, 9, 11, 13, 15]}],\n",
       "             return_train_score=True, scoring='neg_root_mean_squared_error',\n",
       "             verbose=2)"
      ]
     },
     "execution_count": 52,
     "metadata": {},
     "output_type": "execute_result"
    }
   ],
   "source": [
    "grid_search.fit(X_train_prepared, y_train_prepared)"
   ]
  },
  {
   "cell_type": "code",
   "execution_count": 53,
   "id": "7b1b7822",
   "metadata": {},
   "outputs": [
    {
     "name": "stdout",
     "output_type": "stream",
     "text": [
      "the best parameters are:\n",
      "{'criterion': 'friedman_mse', 'max_depth': 11}\n"
     ]
    }
   ],
   "source": [
    "\n",
    "print(\"the best parameters are:\")\n",
    "print(grid_search.best_params_)\n"
   ]
  },
  {
   "cell_type": "code",
   "execution_count": 54,
   "id": "5ea9c4fc",
   "metadata": {},
   "outputs": [
    {
     "name": "stdout",
     "output_type": "stream",
     "text": [
      "the best trained model:\n"
     ]
    },
    {
     "data": {
      "text/html": [
       "<style>#sk-container-id-3 {color: black;background-color: white;}#sk-container-id-3 pre{padding: 0;}#sk-container-id-3 div.sk-toggleable {background-color: white;}#sk-container-id-3 label.sk-toggleable__label {cursor: pointer;display: block;width: 100%;margin-bottom: 0;padding: 0.3em;box-sizing: border-box;text-align: center;}#sk-container-id-3 label.sk-toggleable__label-arrow:before {content: \"▸\";float: left;margin-right: 0.25em;color: #696969;}#sk-container-id-3 label.sk-toggleable__label-arrow:hover:before {color: black;}#sk-container-id-3 div.sk-estimator:hover label.sk-toggleable__label-arrow:before {color: black;}#sk-container-id-3 div.sk-toggleable__content {max-height: 0;max-width: 0;overflow: hidden;text-align: left;background-color: #f0f8ff;}#sk-container-id-3 div.sk-toggleable__content pre {margin: 0.2em;color: black;border-radius: 0.25em;background-color: #f0f8ff;}#sk-container-id-3 input.sk-toggleable__control:checked~div.sk-toggleable__content {max-height: 200px;max-width: 100%;overflow: auto;}#sk-container-id-3 input.sk-toggleable__control:checked~label.sk-toggleable__label-arrow:before {content: \"▾\";}#sk-container-id-3 div.sk-estimator input.sk-toggleable__control:checked~label.sk-toggleable__label {background-color: #d4ebff;}#sk-container-id-3 div.sk-label input.sk-toggleable__control:checked~label.sk-toggleable__label {background-color: #d4ebff;}#sk-container-id-3 input.sk-hidden--visually {border: 0;clip: rect(1px 1px 1px 1px);clip: rect(1px, 1px, 1px, 1px);height: 1px;margin: -1px;overflow: hidden;padding: 0;position: absolute;width: 1px;}#sk-container-id-3 div.sk-estimator {font-family: monospace;background-color: #f0f8ff;border: 1px dotted black;border-radius: 0.25em;box-sizing: border-box;margin-bottom: 0.5em;}#sk-container-id-3 div.sk-estimator:hover {background-color: #d4ebff;}#sk-container-id-3 div.sk-parallel-item::after {content: \"\";width: 100%;border-bottom: 1px solid gray;flex-grow: 1;}#sk-container-id-3 div.sk-label:hover label.sk-toggleable__label {background-color: #d4ebff;}#sk-container-id-3 div.sk-serial::before {content: \"\";position: absolute;border-left: 1px solid gray;box-sizing: border-box;top: 0;bottom: 0;left: 50%;z-index: 0;}#sk-container-id-3 div.sk-serial {display: flex;flex-direction: column;align-items: center;background-color: white;padding-right: 0.2em;padding-left: 0.2em;position: relative;}#sk-container-id-3 div.sk-item {position: relative;z-index: 1;}#sk-container-id-3 div.sk-parallel {display: flex;align-items: stretch;justify-content: center;background-color: white;position: relative;}#sk-container-id-3 div.sk-item::before, #sk-container-id-3 div.sk-parallel-item::before {content: \"\";position: absolute;border-left: 1px solid gray;box-sizing: border-box;top: 0;bottom: 0;left: 50%;z-index: -1;}#sk-container-id-3 div.sk-parallel-item {display: flex;flex-direction: column;z-index: 1;position: relative;background-color: white;}#sk-container-id-3 div.sk-parallel-item:first-child::after {align-self: flex-end;width: 50%;}#sk-container-id-3 div.sk-parallel-item:last-child::after {align-self: flex-start;width: 50%;}#sk-container-id-3 div.sk-parallel-item:only-child::after {width: 0;}#sk-container-id-3 div.sk-dashed-wrapped {border: 1px dashed gray;margin: 0 0.4em 0.5em 0.4em;box-sizing: border-box;padding-bottom: 0.4em;background-color: white;}#sk-container-id-3 div.sk-label label {font-family: monospace;font-weight: bold;display: inline-block;line-height: 1.2em;}#sk-container-id-3 div.sk-label-container {text-align: center;}#sk-container-id-3 div.sk-container {/* jupyter's `normalize.less` sets `[hidden] { display: none; }` but bootstrap.min.css set `[hidden] { display: none !important; }` so we also need the `!important` here to be able to override the default hidden behavior on the sphinx rendered scikit-learn.org. See: https://github.com/scikit-learn/scikit-learn/issues/21755 */display: inline-block !important;position: relative;}#sk-container-id-3 div.sk-text-repr-fallback {display: none;}</style><div id=\"sk-container-id-3\" class=\"sk-top-container\"><div class=\"sk-text-repr-fallback\"><pre>DecisionTreeRegressor(criterion=&#x27;friedman_mse&#x27;, max_depth=11, random_state=42)</pre><b>In a Jupyter environment, please rerun this cell to show the HTML representation or trust the notebook. <br />On GitHub, the HTML representation is unable to render, please try loading this page with nbviewer.org.</b></div><div class=\"sk-container\" hidden><div class=\"sk-item\"><div class=\"sk-estimator sk-toggleable\"><input class=\"sk-toggleable__control sk-hidden--visually\" id=\"sk-estimator-id-13\" type=\"checkbox\" checked><label for=\"sk-estimator-id-13\" class=\"sk-toggleable__label sk-toggleable__label-arrow\">DecisionTreeRegressor</label><div class=\"sk-toggleable__content\"><pre>DecisionTreeRegressor(criterion=&#x27;friedman_mse&#x27;, max_depth=11, random_state=42)</pre></div></div></div></div></div>"
      ],
      "text/plain": [
       "DecisionTreeRegressor(criterion='friedman_mse', max_depth=11, random_state=42)"
      ]
     },
     "execution_count": 54,
     "metadata": {},
     "output_type": "execute_result"
    }
   ],
   "source": [
    "print(\"the best trained model:\")\n",
    "grid_search.best_estimator_"
   ]
  },
  {
   "cell_type": "code",
   "execution_count": 55,
   "id": "2418322e",
   "metadata": {},
   "outputs": [
    {
     "name": "stdout",
     "output_type": "stream",
     "text": [
      "Best Score\n"
     ]
    },
    {
     "data": {
      "text/plain": [
       "0.11196101731196009"
      ]
     },
     "execution_count": 55,
     "metadata": {},
     "output_type": "execute_result"
    }
   ],
   "source": [
    "print(\"Best Score\")\n",
    "-grid_search.best_score_"
   ]
  },
  {
   "cell_type": "code",
   "execution_count": 56,
   "id": "129edcb9",
   "metadata": {},
   "outputs": [
    {
     "name": "stdout",
     "output_type": "stream",
     "text": [
      "0.11369669345311342 {'criterion': 'friedman_mse', 'max_depth': 7}\n",
      "0.11231182208504567 {'criterion': 'friedman_mse', 'max_depth': 9}\n",
      "0.11196101731196009 {'criterion': 'friedman_mse', 'max_depth': 11}\n",
      "0.11316774445890336 {'criterion': 'friedman_mse', 'max_depth': 13}\n",
      "0.11656498018566135 {'criterion': 'friedman_mse', 'max_depth': 15}\n"
     ]
    }
   ],
   "source": [
    "cvres = grid_search.cv_results_\n",
    "for mean_score, params in zip(cvres[\"mean_test_score\"], cvres[\"params\"]):\n",
    "    print(-mean_score, params)"
   ]
  },
  {
   "cell_type": "code",
   "execution_count": 57,
   "id": "b050bdab",
   "metadata": {},
   "outputs": [],
   "source": [
    "results = grid_search.cv_results_"
   ]
  },
  {
   "cell_type": "code",
   "execution_count": 58,
   "id": "5a7fa15f",
   "metadata": {},
   "outputs": [
    {
     "data": {
      "image/png": "[encoded data removed]",
      "text/plain": [
       "<Figure size 800x800 with 1 Axes>"
      ]
     },
     "metadata": {},
     "output_type": "display_data"
    }
   ],
   "source": [
    "\n",
    "#plot the results\n",
    "plt.figure(figsize=(8, 8))\n",
    "plt.title(\"GridSearchCV\",\n",
    "          fontsize=16)\n",
    "\n",
    "plt.xlabel(\"max_depth\")\n",
    "plt.ylabel(\"Score\")\n",
    "\n",
    "ax = plt.gca()\n",
    "ax.set_xlim(0, 50)\n",
    "\n",
    "\n",
    "# Get the regular numpy array from the MaskedArray\n",
    "X_axis = np.array(results['param_max_depth'].data, dtype=float)\n",
    "\n",
    "\n",
    "for sample, style in (('train', '--'), ('test', '-')):\n",
    "    sample_score_mean = (-results['mean_%s_score' % (sample)])\n",
    "    sample_score_std = (results['std_%s_score' % (sample)])\n",
    "    ax.fill_between(X_axis, sample_score_mean - sample_score_std,\n",
    "                    sample_score_mean + sample_score_std,\n",
    "                    alpha=0.1 if sample == 'test' else 0)\n",
    "    ax.plot(X_axis, sample_score_mean, style,\n",
    "            alpha=1 if sample == 'test' else 0.7,\n",
    "            label=\"(%s)\" % ( sample))\n",
    "\n",
    "best_index = np.nonzero(results['rank_test_score' ] == 1)[0][0]\n",
    "best_score =  (-results['mean_test_score' ][best_index])\n",
    "\n",
    "# Plot a dotted vertical line at the best score for that scorer marked by x\n",
    "ax.plot([X_axis[best_index], ] * 2, [best_score, best_score],\n",
    "        linestyle='-.',  marker='x', markeredgewidth=3, ms=8)\n",
    "\n",
    "# Annotate the best score for that scorer\n",
    "ax.annotate(\"%0.2f\" % best_score,\n",
    "            (X_axis[best_index], best_score + 0.005))\n",
    "\n",
    "plt.legend(loc=\"best\")\n",
    "plt.grid(False)\n",
    "plt.show()\n"
   ]
  },
  {
   "cell_type": "markdown",
   "id": "ce966eb7",
   "metadata": {},
   "source": [
    "## Random Forest"
   ]
  },
  {
   "cell_type": "code",
   "execution_count": 51,
   "id": "10848719",
   "metadata": {},
   "outputs": [],
   "source": [
    "from sklearn.ensemble import RandomForestRegressor"
   ]
  },
  {
   "cell_type": "code",
   "execution_count": 52,
   "id": "f344a18e",
   "metadata": {},
   "outputs": [
    {
     "name": "stdout",
     "output_type": "stream",
     "text": [
      "CPU times: user 42 µs, sys: 20 µs, total: 62 µs\n",
      "Wall time: 65.8 µs\n"
     ]
    }
   ],
   "source": [
    "%%time \n",
    "\n",
    "# define used regressor\n",
    "forest=RandomForestRegressor(n_estimators=100,\n",
    "                             max_depth=11,\n",
    "                             criterion='friedman_mse',\n",
    "                             n_jobs=10,\n",
    "                             random_state=config.seed\n",
    "                            )"
   ]
  },
  {
   "cell_type": "markdown",
   "id": "d2c8ddc3",
   "metadata": {},
   "source": [
    "## Train and test, validate model"
   ]
  },
  {
   "cell_type": "code",
   "execution_count": null,
   "id": "3ea72cdb",
   "metadata": {
    "scrolled": false
   },
   "outputs": [
    {
     "name": "stderr",
     "output_type": "stream",
     "text": [
      "[Parallel(n_jobs=5)]: Using backend LokyBackend with 5 concurrent workers.\n"
     ]
    }
   ],
   "source": [
    "%%time\n",
    "\n",
    "test_model_train_val_test(\n",
    "    forest, \n",
    "    (X_train_prepared, y_train_prepared),\n",
    "    (X_val_prepared, y_val_prepared),\n",
    "    (X_test_prepared,  y_test_prepared),\n",
    "    show=True\n",
    ")"
   ]
  },
  {
   "cell_type": "markdown",
   "id": "7fe01e4c",
   "metadata": {},
   "source": [
    "## Testing each month"
   ]
  },
  {
   "cell_type": "code",
   "execution_count": null,
   "id": "892ea0f0",
   "metadata": {
    "scrolled": true
   },
   "outputs": [
    {
     "data": {
      "application/vnd.jupyter.widget-view+json": {
       "model_id": "e1a8a3256c904cb0b70c1481387a8b5b",
       "version_major": 2,
       "version_minor": 0
      },
      "text/plain": [
       "  0%|          | 0/8 [00:00<?, ?months/s]"
      ]
     },
     "metadata": {},
     "output_type": "display_data"
    }
   ],
   "source": [
    "%%time \n",
    "\n",
    "result = do_test_per_month(\n",
    "    RandomForestRegressor, dict(n_estimators=100, max_depth=11, criterion='friedman_mse', n_jobs=10, random_state=config.seed),\n",
    "    (X_train, y_train),\n",
    "    (X_val, y_val),\n",
    "    (X_test,  y_test),\n",
    "    [2022],\n",
    "    months\n",
    ")"
   ]
  },
  {
   "cell_type": "code",
   "execution_count": null,
   "id": "891d5ec3",
   "metadata": {},
   "outputs": [],
   "source": [
    "result[['rmse_t_test','rmse_t_train','rmse_v_test']].plot()"
   ]
  },
  {
   "cell_type": "code",
   "execution_count": null,
   "id": "2026359e",
   "metadata": {},
   "outputs": [],
   "source": [
    "result[['rmse_t_test','rmse_t_train','rmse_v_test']].min()"
   ]
  },
  {
   "cell_type": "code",
   "execution_count": null,
   "id": "2efb21a8",
   "metadata": {},
   "outputs": [],
   "source": [
    "result[['r2_t_test','r2_t_train','r2_v_test']].max()"
   ]
  },
  {
   "cell_type": "markdown",
   "id": "38f0434a",
   "metadata": {},
   "source": [
    "## Testing combination of three consecutive months"
   ]
  },
  {
   "cell_type": "code",
   "execution_count": null,
   "id": "73bb378e",
   "metadata": {
    "scrolled": true
   },
   "outputs": [],
   "source": [
    "%%time \n",
    "\n",
    "result = do_test_per_month_combos(\n",
    "    RandomForestRegressor, dict(n_estimators=100, max_depth=11, criterion='friedman_mse', n_jobs=10, random_state=config.seed),\n",
    "    (X_train, y_train),\n",
    "    (X_val, y_val),\n",
    "    (X_test,  y_test),\n",
    "    [2022],\n",
    "    [[11,12,1], [12,1,2],[1,2,3], [2,3,4], [3,4,5], [3], [2,3], [3,4]]\n",
    ")"
   ]
  },
  {
   "cell_type": "code",
   "execution_count": null,
   "id": "a12952a9",
   "metadata": {},
   "outputs": [],
   "source": [
    "result[['rmse_t_test','rmse_t_train','rmse_v_test']].plot()"
   ]
  },
  {
   "cell_type": "code",
   "execution_count": null,
   "id": "6b24d19d",
   "metadata": {},
   "outputs": [],
   "source": [
    "result[['rmse_t_test','rmse_t_train','rmse_v_test']].min()"
   ]
  },
  {
   "cell_type": "code",
   "execution_count": null,
   "id": "a563bdb4",
   "metadata": {
    "scrolled": false
   },
   "outputs": [],
   "source": [
    "result[['r2_t_test','r2_t_train','r2_v_test']].max()"
   ]
  },
  {
   "cell_type": "markdown",
   "id": "ebf0bf30",
   "metadata": {},
   "source": [
    "# Gaussian Process"
   ]
  },
  {
   "cell_type": "raw",
   "id": "9517f3d0",
   "metadata": {},
   "source": [
    "from sklearn.gaussian_process.kernels import ExpSineSquared\n",
    "from sklearn.gaussian_process import GaussianProcessClassifier, GaussianProcessRegressor\n"
   ]
  },
  {
   "cell_type": "raw",
   "id": "e6061039",
   "metadata": {},
   "source": [
    "from sklearn.gaussian_process.kernels import (RBF, Matern, RationalQuadratic,ExpSineSquared, DotProduct,ConstantKernel)\n",
    "     "
   ]
  },
  {
   "cell_type": "raw",
   "id": "8ec975c1",
   "metadata": {},
   "source": [
    "                                         \n",
    "# Determination of the kernel used and the value lenght_scale at which the optimization process starts\n",
    "kernel = 1.0 * RBF(length_scale=1.0, length_scale_bounds=(1e-2, 1e3))\n",
    "\n",
    "# Application of the regressor (alpha makes a statement about a possible noise of the training data)\n",
    "gp = GaussianProcessRegressor(kernel=kernel, alpha=0.1)\n",
    "\n",
    "# # Prediction of the dependent variable for the test dataset\n",
    "# y_pred, sigma = gp.predict(X_val_prepared1, return_std=True)"
   ]
  },
  {
   "cell_type": "raw",
   "id": "74f836d1",
   "metadata": {},
   "source": [
    "cross_val_evaluation(gp, X_train_prepared, y_train,'GaussianProcessRegressor')"
   ]
  },
  {
   "cell_type": "raw",
   "id": "3a3ebe61",
   "metadata": {},
   "source": [
    "gp.fit(X_train_prepared, y_train)\n"
   ]
  },
  {
   "cell_type": "raw",
   "id": "f4d42102",
   "metadata": {
    "scrolled": false
   },
   "source": [
    "test_model(forest, X_train_prepared, y_train)"
   ]
  },
  {
   "cell_type": "raw",
   "id": "69364e33",
   "metadata": {
    "scrolled": true
   },
   "source": [
    "test_model(forest, X_val_prepared1, y_val1, X_val_prepared2, y_val2)"
   ]
  },
  {
   "cell_type": "markdown",
   "id": "18557956",
   "metadata": {},
   "source": [
    "## Gradiend Boosting"
   ]
  },
  {
   "cell_type": "code",
   "execution_count": null,
   "id": "ad725228",
   "metadata": {},
   "outputs": [],
   "source": [
    "from sklearn.ensemble import GradientBoostingRegressor"
   ]
  },
  {
   "cell_type": "code",
   "execution_count": null,
   "id": "5abab55c",
   "metadata": {},
   "outputs": [],
   "source": [
    "%%time \n",
    "\n",
    "boosting = GradientBoostingRegressor(\n",
    "    n_estimators=100,\n",
    "    max_depth=11, \n",
    "    loss='squared_error',\n",
    "    criterion='friedman_mse',\n",
    "    random_state=config.seed,\n",
    "    verbose=2,\n",
    "    warm_start=True\n",
    ")\n"
   ]
  },
  {
   "cell_type": "markdown",
   "id": "387e7109",
   "metadata": {},
   "source": [
    "## Train and test, validate model"
   ]
  },
  {
   "cell_type": "code",
   "execution_count": null,
   "id": "f70e7a23",
   "metadata": {
    "scrolled": true
   },
   "outputs": [],
   "source": [
    "%%time \n",
    "\n",
    "test_model_train_val_test(\n",
    "    boosting, \n",
    "    (X_train_prepared, y_train_prepared),\n",
    "    (X_val_prepared, y_val_prepared),\n",
    "    (X_test_prepared,  y_test_prepared),\n",
    "    show=True\n",
    ")"
   ]
  },
  {
   "cell_type": "markdown",
   "id": "4eb13cfa",
   "metadata": {},
   "source": [
    "## Testing each month"
   ]
  },
  {
   "cell_type": "code",
   "execution_count": null,
   "id": "c0cfbe94",
   "metadata": {
    "scrolled": true
   },
   "outputs": [],
   "source": [
    "%%time \n",
    "\n",
    "result = do_test_per_month(\n",
    "    GradientBoostingRegressor, \n",
    "    dict(\n",
    "        n_estimators=100,\n",
    "        max_depth=11, \n",
    "        loss='squared_error',\n",
    "        criterion='friedman_mse',\n",
    "        random_state=config.seed,\n",
    "        verbose=0\n",
    "    ),\n",
    "    (X_train, y_train),\n",
    "    (X_val, y_val),\n",
    "    (X_test,  y_test),\n",
    "    [2022],\n",
    "    months\n",
    ")\n",
    "\n",
    "# CPU times: user 38min 55s, sys: 196 ms, total: 38min 55s\n",
    "# Wall time: 38min 54s"
   ]
  },
  {
   "cell_type": "code",
   "execution_count": null,
   "id": "1506f662",
   "metadata": {},
   "outputs": [],
   "source": [
    "result[['rmse_t_test','rmse_t_train','rmse_v_test']].plot()"
   ]
  },
  {
   "cell_type": "code",
   "execution_count": null,
   "id": "97ddb545",
   "metadata": {},
   "outputs": [],
   "source": [
    "result[['rmse_t_test','rmse_t_train','rmse_v_test']].min()"
   ]
  },
  {
   "cell_type": "code",
   "execution_count": null,
   "id": "d74d2bef",
   "metadata": {},
   "outputs": [],
   "source": [
    "result[['r2_t_test','r2_t_train','r2_v_test']].max()"
   ]
  },
  {
   "cell_type": "markdown",
   "id": "8503ecdf",
   "metadata": {},
   "source": [
    "## Testing combination of three consecutive months"
   ]
  },
  {
   "cell_type": "code",
   "execution_count": null,
   "id": "5d354b10",
   "metadata": {
    "scrolled": true
   },
   "outputs": [],
   "source": [
    "%%time \n",
    "\n",
    "result = do_test_per_month_combos(\n",
    "    GradientBoostingRegressor, \n",
    "    dict(\n",
    "        n_estimators=100,\n",
    "        max_depth=11, \n",
    "        loss='squared_error',\n",
    "        criterion='friedman_mse',\n",
    "        random_state=config.seed,\n",
    "        verbose=2\n",
    "    ),\n",
    "    (X_train, y_train),\n",
    "    (X_val, y_val),\n",
    "    (X_test,  y_test),\n",
    "    [2022],\n",
    "    [[11,12,1], [12, 1, 2],[1,2,3], [2,3,4], [3,4,5], [3], [2,3], [3,4]]\n",
    ")"
   ]
  },
  {
   "cell_type": "code",
   "execution_count": null,
   "id": "df9d8f50",
   "metadata": {},
   "outputs": [],
   "source": [
    "result[['rmse_t_test','rmse_t_train','rmse_v_test']].plot()"
   ]
  },
  {
   "cell_type": "code",
   "execution_count": null,
   "id": "79ca911e",
   "metadata": {},
   "outputs": [],
   "source": [
    "result[['rmse_t_test','rmse_t_train','rmse_v_test']].min()"
   ]
  },
  {
   "cell_type": "code",
   "execution_count": null,
   "id": "0984ce83",
   "metadata": {
    "scrolled": false
   },
   "outputs": [],
   "source": [
    "result[['r2_t_test','r2_t_train','r2_v_test']].max()"
   ]
  },
  {
   "cell_type": "markdown",
   "id": "f2e2fc55",
   "metadata": {},
   "source": [
    "# HistGradientBoostingRegressor"
   ]
  },
  {
   "cell_type": "code",
   "execution_count": null,
   "id": "c61c6f14",
   "metadata": {},
   "outputs": [],
   "source": [
    "from sklearn.ensemble import HistGradientBoostingRegressor"
   ]
  },
  {
   "cell_type": "code",
   "execution_count": null,
   "id": "d0576874",
   "metadata": {},
   "outputs": [],
   "source": [
    "%%time \n",
    "\n",
    "hist_boosting = HistGradientBoostingRegressor(\n",
    "    max_iter=100,\n",
    "    loss='squared_error',\n",
    "    random_state=config.seed,\n",
    "    verbose=2,\n",
    "    validation_fraction=0.2,\n",
    "    n_iter_no_change=10,\n",
    "    warm_start=True,\n",
    "    l2_regularization=0.001\n",
    ")\n"
   ]
  },
  {
   "cell_type": "code",
   "execution_count": null,
   "id": "721c3dcd",
   "metadata": {},
   "outputs": [],
   "source": [
    "# Failiing due to memory"
   ]
  },
  {
   "cell_type": "code",
   "execution_count": null,
   "id": "377e9d8c",
   "metadata": {
    "scrolled": true
   },
   "outputs": [],
   "source": [
    "%%time \n",
    "\n",
    "test_model_train_val_test(\n",
    "    hist_boosting, \n",
    "    (X_train_prepared.toarray(), y_train_prepared),\n",
    "    (X_val_prepared.toarray(), y_val_prepared),\n",
    "    (X_test_prepared.toarray(),  y_test_prepared),\n",
    "    show=True\n",
    ")"
   ]
  },
  {
   "cell_type": "code",
   "execution_count": null,
   "id": "c792943e",
   "metadata": {},
   "outputs": [],
   "source": [
    "GridSearchCV"
   ]
  },
  {
   "cell_type": "code",
   "execution_count": null,
   "id": "5e5e9f36",
   "metadata": {},
   "outputs": [],
   "source": []
  },
  {
   "cell_type": "markdown",
   "id": "de7c283b",
   "metadata": {},
   "source": [
    "## Generate Sample"
   ]
  },
  {
   "cell_type": "code",
   "execution_count": null,
   "id": "597e669c",
   "metadata": {},
   "outputs": [],
   "source": [
    "sample_data = pd.read_csv('dades/processed/kaggle_sample_data.csv')"
   ]
  },
  {
   "cell_type": "code",
   "execution_count": null,
   "id": "7f468dce",
   "metadata": {},
   "outputs": [],
   "source": [
    "sample_data"
   ]
  },
  {
   "cell_type": "markdown",
   "id": "2ca651fe",
   "metadata": {},
   "source": [
    "# apply pipeline"
   ]
  },
  {
   "cell_type": "raw",
   "id": "52336c4f",
   "metadata": {},
   "source": [
    "# Take data of 2022 \n",
    "\n",
    "X_train_prepared, y_train_prepared, X_val_prepared, y_val_prepared, X_test_prepared, y_test_prepared = prepare_splits(\n",
    "    full_pipeline,\n",
    "    (X_train, y_train),\n",
    "    (X_val, y_val),\n",
    "    (X_test, y_test),\n",
    "    [2022], months, True)\n"
   ]
  },
  {
   "cell_type": "code",
   "execution_count": null,
   "id": "c50c7c2b",
   "metadata": {},
   "outputs": [],
   "source": [
    "X_sample_prepared = full_pipeline.transform(sample_data)\n",
    "\n",
    "print(\"x_train_prepared:\",X_train_prepared.shape,\"y_train: \",y_train_prepared.shape)\n",
    "print(\"x_test_prepared:\",X_val_prepared.shape,\"y_test: \",y_val_prepared.shape)\n",
    "print(\"x_test_prepared:\",X_test_prepared.shape,\"y_test: \",y_test_prepared.shape)\n",
    "print(\"x_test_prepared:\",X_sample_prepared.shape)"
   ]
  },
  {
   "cell_type": "markdown",
   "id": "677e4e64",
   "metadata": {},
   "source": [
    "# Prediction "
   ]
  },
  {
   "cell_type": "code",
   "execution_count": null,
   "id": "a992a642",
   "metadata": {},
   "outputs": [],
   "source": [
    "%%time \n",
    "\n",
    "model = boosting"
   ]
  },
  {
   "cell_type": "code",
   "execution_count": null,
   "id": "9e995553",
   "metadata": {},
   "outputs": [],
   "source": [
    "name = f'{model.__class__}'.split('.')[-1]\n",
    "name = name.translate( { ord(i): None for i in \"'<>\"})\n",
    "number = 0"
   ]
  },
  {
   "cell_type": "code",
   "execution_count": null,
   "id": "2c9f1648",
   "metadata": {},
   "outputs": [],
   "source": [
    "name"
   ]
  },
  {
   "cell_type": "raw",
   "id": "18f252f2",
   "metadata": {
    "scrolled": false
   },
   "source": [
    "test_model_train_val_test(\n",
    "    model, \n",
    "    (X_train_prepared, y_train_prepared),\n",
    "    (X_val_prepared, y_val_prepared),\n",
    "    (X_test_prepared,  y_test_prepared),\n",
    "    show=True\n",
    ")"
   ]
  },
  {
   "cell_type": "code",
   "execution_count": null,
   "id": "35546150",
   "metadata": {},
   "outputs": [],
   "source": [
    "yhat = model.predict(X_sample_prepared)"
   ]
  },
  {
   "cell_type": "code",
   "execution_count": null,
   "id": "524e4aa3",
   "metadata": {},
   "outputs": [],
   "source": [
    "yhat.shape"
   ]
  },
  {
   "cell_type": "code",
   "execution_count": null,
   "id": "cbe4e5ca",
   "metadata": {},
   "outputs": [],
   "source": [
    "sample_data['percentage_docks_available'] = yhat"
   ]
  },
  {
   "cell_type": "code",
   "execution_count": null,
   "id": "22424a27",
   "metadata": {},
   "outputs": [],
   "source": [
    "sample_data['percentage_docks_available'].to_csv(f'{name}{number}.csv', header=True, index_label='index')"
   ]
  },
  {
   "cell_type": "code",
   "execution_count": null,
   "id": "f3628c76",
   "metadata": {},
   "outputs": [],
   "source": [
    "\n",
    "aux = X_test[X_test.month.isin([3]) & X_test.station_id.isin(sample_data.station_id.unique())][['station_id', 'year', 'month','day','hour', 'ctx0', 'ctx1', 'ctx2', 'ctx3', 'ctx4']]\n"
   ]
  },
  {
   "cell_type": "code",
   "execution_count": null,
   "id": "13b8de1c",
   "metadata": {},
   "outputs": [],
   "source": [
    "sample_data = sample_data.merge(aux,\n",
    "                                on=['station_id','month','day','hour'],\n",
    "                                how='left')"
   ]
  },
  {
   "cell_type": "code",
   "execution_count": null,
   "id": "2a3b51da",
   "metadata": {},
   "outputs": [],
   "source": [
    "\n",
    "sample_data[['station_id', 'month', 'day', 'hour', 'percentage_docks_available', 'ctx0', 'ctx1_x', 'ctx1_y', 'ctx4_x', 'ctx4_y', 'ctx3_x', 'ctx3_y', 'ctx2_x', 'ctx2_y']]\n",
    "\n"
   ]
  },
  {
   "cell_type": "code",
   "execution_count": null,
   "id": "be37fb5e",
   "metadata": {},
   "outputs": [],
   "source": [
    "np.abs(sample_data['percentage_docks_available'] - sample_data['ctx0']).plot()"
   ]
  },
  {
   "cell_type": "code",
   "execution_count": null,
   "id": "e0fefb1d",
   "metadata": {},
   "outputs": [],
   "source": []
  },
  {
   "cell_type": "code",
   "execution_count": null,
   "id": "fa8e6e99",
   "metadata": {},
   "outputs": [],
   "source": []
  }
 ],
 "metadata": {
  "kernelspec": {
   "display_name": "Python 3 (ipykernel)",
   "language": "python",
   "name": "python3"
  },
  "language_info": {
   "codemirror_mode": {
    "name": "ipython",
    "version": 3
   },
   "file_extension": ".py",
   "mimetype": "text/x-python",
   "name": "python",
   "nbconvert_exporter": "python",
   "pygments_lexer": "ipython3",
   "version": "3.8.16"
  }
 },
 "nbformat": 4,
 "nbformat_minor": 5
}
