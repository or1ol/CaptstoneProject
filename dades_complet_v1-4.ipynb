{
 "cells": [
  {
   "cell_type": "raw",
   "id": "3accd1f2",
   "metadata": {},
   "source": [
    "!pip install -U scikit-learn"
   ]
  },
  {
   "cell_type": "raw",
   "id": "ef01a23e",
   "metadata": {},
   "source": [
    "!pip install pandas\n",
    "!pip install dask \n",
    "!pip install matplotlib\n",
    "!pip install scipy\n",
    "!pip install seaborn\n",
    "!pip install tqdm"
   ]
  },
  {
   "cell_type": "raw",
   "id": "77a5ea01",
   "metadata": {},
   "source": [
    "!pip install \"dask[distributed]\" --upgrade"
   ]
  },
  {
   "cell_type": "raw",
   "id": "3042627d",
   "metadata": {},
   "source": [
    "!pip install \"bokeh!=3.0.*,>=2.4.2\""
   ]
  },
  {
   "cell_type": "raw",
   "id": "b7406a9d",
   "metadata": {},
   "source": [
    "!pip install ipywidgets"
   ]
  },
  {
   "cell_type": "code",
   "execution_count": 1,
   "id": "886f34aa",
   "metadata": {},
   "outputs": [
    {
     "data": {
      "text/html": [
       "<style>.container { width:80% !important; }</style>"
      ],
      "text/plain": [
       "<IPython.core.display.HTML object>"
      ]
     },
     "metadata": {},
     "output_type": "display_data"
    }
   ],
   "source": [
    "from IPython.display import display, HTML\n",
    "display(HTML(\"<style>.container { width:80% !important; }</style>\"))\n",
    "\n",
    "import os\n",
    "\n",
    "# Python ≥3.5 is required\n",
    "import sys\n",
    "assert sys.version_info >= (3, 5)\n",
    "\n",
    "# Scikit-Learn ≥0.20 is required\n",
    "import sklearn\n",
    "assert sklearn.__version__ >= \"0.20\"\n",
    "\n",
    "from sklearn.ensemble import RandomForestRegressor\n",
    "from sklearn.ensemble import GradientBoostingRegressor\n",
    "from sklearn.model_selection import cross_val_score\n",
    "from sklearn.metrics import mean_squared_error, r2_score\n",
    "from sklearn.metrics import mean_absolute_error\n",
    "\n",
    "import pandas as pd\n",
    "import numpy as np\n",
    "pd.set_option('display.max_columns', None)\n",
    "\n",
    "# To plot pretty figures\n",
    "%matplotlib inline\n",
    "import matplotlib as mpl\n",
    "import matplotlib.pyplot as plt\n",
    "\n",
    "import scipy.stats as stats\n",
    "\n",
    "import seaborn as sns\n",
    "\n",
    "from datetime import datetime\n",
    "\n",
    "import re\n",
    "\n",
    "from tqdm.notebook import tqdm\n",
    "\n",
    "import dask.dataframe as dd\n",
    "from dask.distributed import Client\n",
    "\n",
    "sys.path.insert(0, 'tools/')\n",
    "\n",
    "from tools import * "
   ]
  },
  {
   "cell_type": "code",
   "execution_count": 2,
   "id": "ff432c75",
   "metadata": {},
   "outputs": [
    {
     "name": "stderr",
     "output_type": "stream",
     "text": [
      "/home/homeros/miniconda3/envs/rcnn/lib/python3.8/site-packages/distributed/node.py:182: UserWarning: Port 8787 is already in use.\n",
      "Perhaps you already have a cluster running?\n",
      "Hosting the HTTP server on port 41481 instead\n",
      "  warnings.warn(\n"
     ]
    },
    {
     "data": {
      "text/html": [
       "<div>\n",
       "    <div style=\"width: 24px; height: 24px; background-color: #e1e1e1; border: 3px solid #9D9D9D; border-radius: 5px; position: absolute;\"> </div>\n",
       "    <div style=\"margin-left: 48px;\">\n",
       "        <h3 style=\"margin-bottom: 0px;\">Client</h3>\n",
       "        <p style=\"color: #9D9D9D; margin-bottom: 0px;\">Client-d177096e-02f6-11ee-a4aa-87f837d34815</p>\n",
       "        <table style=\"width: 100%; text-align: left;\">\n",
       "\n",
       "        <tr>\n",
       "        \n",
       "            <td style=\"text-align: left;\"><strong>Connection method:</strong> Cluster object</td>\n",
       "            <td style=\"text-align: left;\"><strong>Cluster type:</strong> distributed.LocalCluster</td>\n",
       "        \n",
       "        </tr>\n",
       "\n",
       "        \n",
       "            <tr>\n",
       "                <td style=\"text-align: left;\">\n",
       "                    <strong>Dashboard: </strong> <a href=\"http://127.0.0.1:41481/status\" target=\"_blank\">http://127.0.0.1:41481/status</a>\n",
       "                </td>\n",
       "                <td style=\"text-align: left;\"></td>\n",
       "            </tr>\n",
       "        \n",
       "\n",
       "        </table>\n",
       "\n",
       "        \n",
       "\n",
       "        \n",
       "            <details>\n",
       "            <summary style=\"margin-bottom: 20px;\"><h3 style=\"display: inline;\">Cluster Info</h3></summary>\n",
       "            <div class=\"jp-RenderedHTMLCommon jp-RenderedHTML jp-mod-trusted jp-OutputArea-output\">\n",
       "    <div style=\"width: 24px; height: 24px; background-color: #e1e1e1; border: 3px solid #9D9D9D; border-radius: 5px; position: absolute;\">\n",
       "    </div>\n",
       "    <div style=\"margin-left: 48px;\">\n",
       "        <h3 style=\"margin-bottom: 0px; margin-top: 0px;\">LocalCluster</h3>\n",
       "        <p style=\"color: #9D9D9D; margin-bottom: 0px;\">385003ed</p>\n",
       "        <table style=\"width: 100%; text-align: left;\">\n",
       "            <tr>\n",
       "                <td style=\"text-align: left;\">\n",
       "                    <strong>Dashboard:</strong> <a href=\"http://127.0.0.1:41481/status\" target=\"_blank\">http://127.0.0.1:41481/status</a>\n",
       "                </td>\n",
       "                <td style=\"text-align: left;\">\n",
       "                    <strong>Workers:</strong> 5\n",
       "                </td>\n",
       "            </tr>\n",
       "            <tr>\n",
       "                <td style=\"text-align: left;\">\n",
       "                    <strong>Total threads:</strong> 20\n",
       "                </td>\n",
       "                <td style=\"text-align: left;\">\n",
       "                    <strong>Total memory:</strong> 31.04 GiB\n",
       "                </td>\n",
       "            </tr>\n",
       "            \n",
       "            <tr>\n",
       "    <td style=\"text-align: left;\"><strong>Status:</strong> running</td>\n",
       "    <td style=\"text-align: left;\"><strong>Using processes:</strong> True</td>\n",
       "</tr>\n",
       "\n",
       "            \n",
       "        </table>\n",
       "\n",
       "        <details>\n",
       "            <summary style=\"margin-bottom: 20px;\">\n",
       "                <h3 style=\"display: inline;\">Scheduler Info</h3>\n",
       "            </summary>\n",
       "\n",
       "            <div style=\"\">\n",
       "    <div>\n",
       "        <div style=\"width: 24px; height: 24px; background-color: #FFF7E5; border: 3px solid #FF6132; border-radius: 5px; position: absolute;\"> </div>\n",
       "        <div style=\"margin-left: 48px;\">\n",
       "            <h3 style=\"margin-bottom: 0px;\">Scheduler</h3>\n",
       "            <p style=\"color: #9D9D9D; margin-bottom: 0px;\">Scheduler-fefc9e88-b54a-4126-8da0-b961e47dade8</p>\n",
       "            <table style=\"width: 100%; text-align: left;\">\n",
       "                <tr>\n",
       "                    <td style=\"text-align: left;\">\n",
       "                        <strong>Comm:</strong> tcp://127.0.0.1:44313\n",
       "                    </td>\n",
       "                    <td style=\"text-align: left;\">\n",
       "                        <strong>Workers:</strong> 5\n",
       "                    </td>\n",
       "                </tr>\n",
       "                <tr>\n",
       "                    <td style=\"text-align: left;\">\n",
       "                        <strong>Dashboard:</strong> <a href=\"http://127.0.0.1:41481/status\" target=\"_blank\">http://127.0.0.1:41481/status</a>\n",
       "                    </td>\n",
       "                    <td style=\"text-align: left;\">\n",
       "                        <strong>Total threads:</strong> 20\n",
       "                    </td>\n",
       "                </tr>\n",
       "                <tr>\n",
       "                    <td style=\"text-align: left;\">\n",
       "                        <strong>Started:</strong> Just now\n",
       "                    </td>\n",
       "                    <td style=\"text-align: left;\">\n",
       "                        <strong>Total memory:</strong> 31.04 GiB\n",
       "                    </td>\n",
       "                </tr>\n",
       "            </table>\n",
       "        </div>\n",
       "    </div>\n",
       "\n",
       "    <details style=\"margin-left: 48px;\">\n",
       "        <summary style=\"margin-bottom: 20px;\">\n",
       "            <h3 style=\"display: inline;\">Workers</h3>\n",
       "        </summary>\n",
       "\n",
       "        \n",
       "        <div style=\"margin-bottom: 20px;\">\n",
       "            <div style=\"width: 24px; height: 24px; background-color: #DBF5FF; border: 3px solid #4CC9FF; border-radius: 5px; position: absolute;\"> </div>\n",
       "            <div style=\"margin-left: 48px;\">\n",
       "            <details>\n",
       "                <summary>\n",
       "                    <h4 style=\"margin-bottom: 0px; display: inline;\">Worker: 0</h4>\n",
       "                </summary>\n",
       "                <table style=\"width: 100%; text-align: left;\">\n",
       "                    <tr>\n",
       "                        <td style=\"text-align: left;\">\n",
       "                            <strong>Comm: </strong> tcp://127.0.0.1:37853\n",
       "                        </td>\n",
       "                        <td style=\"text-align: left;\">\n",
       "                            <strong>Total threads: </strong> 4\n",
       "                        </td>\n",
       "                    </tr>\n",
       "                    <tr>\n",
       "                        <td style=\"text-align: left;\">\n",
       "                            <strong>Dashboard: </strong> <a href=\"http://127.0.0.1:34531/status\" target=\"_blank\">http://127.0.0.1:34531/status</a>\n",
       "                        </td>\n",
       "                        <td style=\"text-align: left;\">\n",
       "                            <strong>Memory: </strong> 6.21 GiB\n",
       "                        </td>\n",
       "                    </tr>\n",
       "                    <tr>\n",
       "                        <td style=\"text-align: left;\">\n",
       "                            <strong>Nanny: </strong> tcp://127.0.0.1:33131\n",
       "                        </td>\n",
       "                        <td style=\"text-align: left;\"></td>\n",
       "                    </tr>\n",
       "                    <tr>\n",
       "                        <td colspan=\"2\" style=\"text-align: left;\">\n",
       "                            <strong>Local directory: </strong> /tmp/dask-scratch-space/worker-qsa22uo7\n",
       "                        </td>\n",
       "                    </tr>\n",
       "\n",
       "                    \n",
       "\n",
       "                    \n",
       "\n",
       "                </table>\n",
       "            </details>\n",
       "            </div>\n",
       "        </div>\n",
       "        \n",
       "        <div style=\"margin-bottom: 20px;\">\n",
       "            <div style=\"width: 24px; height: 24px; background-color: #DBF5FF; border: 3px solid #4CC9FF; border-radius: 5px; position: absolute;\"> </div>\n",
       "            <div style=\"margin-left: 48px;\">\n",
       "            <details>\n",
       "                <summary>\n",
       "                    <h4 style=\"margin-bottom: 0px; display: inline;\">Worker: 1</h4>\n",
       "                </summary>\n",
       "                <table style=\"width: 100%; text-align: left;\">\n",
       "                    <tr>\n",
       "                        <td style=\"text-align: left;\">\n",
       "                            <strong>Comm: </strong> tcp://127.0.0.1:45987\n",
       "                        </td>\n",
       "                        <td style=\"text-align: left;\">\n",
       "                            <strong>Total threads: </strong> 4\n",
       "                        </td>\n",
       "                    </tr>\n",
       "                    <tr>\n",
       "                        <td style=\"text-align: left;\">\n",
       "                            <strong>Dashboard: </strong> <a href=\"http://127.0.0.1:39411/status\" target=\"_blank\">http://127.0.0.1:39411/status</a>\n",
       "                        </td>\n",
       "                        <td style=\"text-align: left;\">\n",
       "                            <strong>Memory: </strong> 6.21 GiB\n",
       "                        </td>\n",
       "                    </tr>\n",
       "                    <tr>\n",
       "                        <td style=\"text-align: left;\">\n",
       "                            <strong>Nanny: </strong> tcp://127.0.0.1:36829\n",
       "                        </td>\n",
       "                        <td style=\"text-align: left;\"></td>\n",
       "                    </tr>\n",
       "                    <tr>\n",
       "                        <td colspan=\"2\" style=\"text-align: left;\">\n",
       "                            <strong>Local directory: </strong> /tmp/dask-scratch-space/worker-bpdjjuig\n",
       "                        </td>\n",
       "                    </tr>\n",
       "\n",
       "                    \n",
       "\n",
       "                    \n",
       "\n",
       "                </table>\n",
       "            </details>\n",
       "            </div>\n",
       "        </div>\n",
       "        \n",
       "        <div style=\"margin-bottom: 20px;\">\n",
       "            <div style=\"width: 24px; height: 24px; background-color: #DBF5FF; border: 3px solid #4CC9FF; border-radius: 5px; position: absolute;\"> </div>\n",
       "            <div style=\"margin-left: 48px;\">\n",
       "            <details>\n",
       "                <summary>\n",
       "                    <h4 style=\"margin-bottom: 0px; display: inline;\">Worker: 2</h4>\n",
       "                </summary>\n",
       "                <table style=\"width: 100%; text-align: left;\">\n",
       "                    <tr>\n",
       "                        <td style=\"text-align: left;\">\n",
       "                            <strong>Comm: </strong> tcp://127.0.0.1:36381\n",
       "                        </td>\n",
       "                        <td style=\"text-align: left;\">\n",
       "                            <strong>Total threads: </strong> 4\n",
       "                        </td>\n",
       "                    </tr>\n",
       "                    <tr>\n",
       "                        <td style=\"text-align: left;\">\n",
       "                            <strong>Dashboard: </strong> <a href=\"http://127.0.0.1:37883/status\" target=\"_blank\">http://127.0.0.1:37883/status</a>\n",
       "                        </td>\n",
       "                        <td style=\"text-align: left;\">\n",
       "                            <strong>Memory: </strong> 6.21 GiB\n",
       "                        </td>\n",
       "                    </tr>\n",
       "                    <tr>\n",
       "                        <td style=\"text-align: left;\">\n",
       "                            <strong>Nanny: </strong> tcp://127.0.0.1:41149\n",
       "                        </td>\n",
       "                        <td style=\"text-align: left;\"></td>\n",
       "                    </tr>\n",
       "                    <tr>\n",
       "                        <td colspan=\"2\" style=\"text-align: left;\">\n",
       "                            <strong>Local directory: </strong> /tmp/dask-scratch-space/worker-m0aiw9ds\n",
       "                        </td>\n",
       "                    </tr>\n",
       "\n",
       "                    \n",
       "\n",
       "                    \n",
       "\n",
       "                </table>\n",
       "            </details>\n",
       "            </div>\n",
       "        </div>\n",
       "        \n",
       "        <div style=\"margin-bottom: 20px;\">\n",
       "            <div style=\"width: 24px; height: 24px; background-color: #DBF5FF; border: 3px solid #4CC9FF; border-radius: 5px; position: absolute;\"> </div>\n",
       "            <div style=\"margin-left: 48px;\">\n",
       "            <details>\n",
       "                <summary>\n",
       "                    <h4 style=\"margin-bottom: 0px; display: inline;\">Worker: 3</h4>\n",
       "                </summary>\n",
       "                <table style=\"width: 100%; text-align: left;\">\n",
       "                    <tr>\n",
       "                        <td style=\"text-align: left;\">\n",
       "                            <strong>Comm: </strong> tcp://127.0.0.1:40199\n",
       "                        </td>\n",
       "                        <td style=\"text-align: left;\">\n",
       "                            <strong>Total threads: </strong> 4\n",
       "                        </td>\n",
       "                    </tr>\n",
       "                    <tr>\n",
       "                        <td style=\"text-align: left;\">\n",
       "                            <strong>Dashboard: </strong> <a href=\"http://127.0.0.1:45521/status\" target=\"_blank\">http://127.0.0.1:45521/status</a>\n",
       "                        </td>\n",
       "                        <td style=\"text-align: left;\">\n",
       "                            <strong>Memory: </strong> 6.21 GiB\n",
       "                        </td>\n",
       "                    </tr>\n",
       "                    <tr>\n",
       "                        <td style=\"text-align: left;\">\n",
       "                            <strong>Nanny: </strong> tcp://127.0.0.1:35905\n",
       "                        </td>\n",
       "                        <td style=\"text-align: left;\"></td>\n",
       "                    </tr>\n",
       "                    <tr>\n",
       "                        <td colspan=\"2\" style=\"text-align: left;\">\n",
       "                            <strong>Local directory: </strong> /tmp/dask-scratch-space/worker-uhx5_1pz\n",
       "                        </td>\n",
       "                    </tr>\n",
       "\n",
       "                    \n",
       "\n",
       "                    \n",
       "\n",
       "                </table>\n",
       "            </details>\n",
       "            </div>\n",
       "        </div>\n",
       "        \n",
       "        <div style=\"margin-bottom: 20px;\">\n",
       "            <div style=\"width: 24px; height: 24px; background-color: #DBF5FF; border: 3px solid #4CC9FF; border-radius: 5px; position: absolute;\"> </div>\n",
       "            <div style=\"margin-left: 48px;\">\n",
       "            <details>\n",
       "                <summary>\n",
       "                    <h4 style=\"margin-bottom: 0px; display: inline;\">Worker: 4</h4>\n",
       "                </summary>\n",
       "                <table style=\"width: 100%; text-align: left;\">\n",
       "                    <tr>\n",
       "                        <td style=\"text-align: left;\">\n",
       "                            <strong>Comm: </strong> tcp://127.0.0.1:42895\n",
       "                        </td>\n",
       "                        <td style=\"text-align: left;\">\n",
       "                            <strong>Total threads: </strong> 4\n",
       "                        </td>\n",
       "                    </tr>\n",
       "                    <tr>\n",
       "                        <td style=\"text-align: left;\">\n",
       "                            <strong>Dashboard: </strong> <a href=\"http://127.0.0.1:33181/status\" target=\"_blank\">http://127.0.0.1:33181/status</a>\n",
       "                        </td>\n",
       "                        <td style=\"text-align: left;\">\n",
       "                            <strong>Memory: </strong> 6.21 GiB\n",
       "                        </td>\n",
       "                    </tr>\n",
       "                    <tr>\n",
       "                        <td style=\"text-align: left;\">\n",
       "                            <strong>Nanny: </strong> tcp://127.0.0.1:40705\n",
       "                        </td>\n",
       "                        <td style=\"text-align: left;\"></td>\n",
       "                    </tr>\n",
       "                    <tr>\n",
       "                        <td colspan=\"2\" style=\"text-align: left;\">\n",
       "                            <strong>Local directory: </strong> /tmp/dask-scratch-space/worker-n_5b56ov\n",
       "                        </td>\n",
       "                    </tr>\n",
       "\n",
       "                    \n",
       "\n",
       "                    \n",
       "\n",
       "                </table>\n",
       "            </details>\n",
       "            </div>\n",
       "        </div>\n",
       "        \n",
       "\n",
       "    </details>\n",
       "</div>\n",
       "\n",
       "        </details>\n",
       "    </div>\n",
       "</div>\n",
       "            </details>\n",
       "        \n",
       "\n",
       "    </div>\n",
       "</div>"
      ],
      "text/plain": [
       "<Client: 'tcp://127.0.0.1:44313' processes=5 threads=20, memory=31.04 GiB>"
      ]
     },
     "execution_count": 2,
     "metadata": {},
     "output_type": "execute_result"
    }
   ],
   "source": [
    "client = Client()\n",
    "client"
   ]
  },
  {
   "cell_type": "markdown",
   "id": "900c12e0",
   "metadata": {},
   "source": [
    "# Merge"
   ]
  },
  {
   "cell_type": "code",
   "execution_count": 3,
   "id": "32f3bf4e",
   "metadata": {},
   "outputs": [],
   "source": [
    "config = pd.Series({\n",
    "    'path': os.path.abspath('dades'),\n",
    "    'file_type':'csv',\n",
    "    'years':[2019, 2021, 2022],\n",
    "    'dataset': 'BicingNou_ESTACIONS_MOD'\n",
    "})"
   ]
  },
  {
   "cell_type": "code",
   "execution_count": 4,
   "id": "24cb2875",
   "metadata": {},
   "outputs": [
    {
     "name": "stdout",
     "output_type": "stream",
     "text": [
      "checkpoint reloaded.\n",
      "checkpoint reloaded.\n",
      "checkpoint reloaded.\n",
      "CPU times: user 83.2 ms, sys: 11.4 ms, total: 94.6 ms\n",
      "Wall time: 94.9 ms\n"
     ]
    }
   ],
   "source": [
    "%%time\n",
    "\n",
    "def read_data_all(cnfg:dict):\n",
    "\n",
    "    data = dict()\n",
    "\n",
    "    for year in cnfg.years:\n",
    "        cnfg['year'] = year\n",
    "        data[year] = load_checkpoint(cnfg)\n",
    "    \n",
    "    return dd.concat(list(data.values()), interleave_partitions=False)\n",
    "    \n",
    "bbdd_completa = read_data_all(config)   "
   ]
  },
  {
   "cell_type": "code",
   "execution_count": 5,
   "id": "f7d9f27c",
   "metadata": {},
   "outputs": [
    {
     "name": "stdout",
     "output_type": "stream",
     "text": [
      "(12419994, 23)\n",
      "1\n",
      "2\n",
      "3\n",
      "4\n",
      "5\n",
      "6\n",
      "7\n",
      "8\n",
      "(11984228, 21)\n",
      "Changes to dataframe durinf preprocessing\n",
      "dropeed -435766 rows\n",
      "dropped -2 columns\n",
      "CPU times: user 3.85 s, sys: 407 ms, total: 4.26 s\n",
      "Wall time: 17.6 s\n"
     ]
    }
   ],
   "source": [
    "%%time\n",
    "\n",
    "index=0\n",
    "before = get_ddf_shape(bbdd_completa)\n",
    "print(before)\n",
    "\n",
    "index+=1\n",
    "print(index)\n",
    "# 1 Error fix. # 2019 gener, febrer and marc have the status reversed\n",
    "cond = (bbdd_completa.year == 2019) & (bbdd_completa.month.isin([1,2,3]))\n",
    "bbdd_completa['status'] = bbdd_completa['status'].mask(cond, ((bbdd_completa['status'] + 1) %2))\n",
    "index+=1\n",
    "print(index)\n",
    "# 2 Remove not needed status, manitenance, planned. open = 0, closed = 1 \n",
    "cond = (bbdd_completa['status'].isin([2.0,3.0]))\n",
    "bbdd_completa = bbdd_completa.mask(cond, 1.0)\n",
    "bbdd_completa = bbdd_completa.dropna(subset=['status'])\n",
    "index+=1\n",
    "print(index)\n",
    "# 3 Remove data from 2020\n",
    "cond = (bbdd_completa['year'].isin([2020]))\n",
    "bbdd_completa = bbdd_completa.mask(cond, np.nan)\n",
    "bbdd_completa = bbdd_completa.dropna(subset=['year'])\n",
    "index+=1\n",
    "print(index)\n",
    "# 4 2019 to 2020 to have continuos data \n",
    "cond = (bbdd_completa['year'].isin([2019]))\n",
    "bbdd_completa['year'] = bbdd_completa['year'].mask(cond, bbdd_completa['year']+1)\n",
    "index+=1\n",
    "print(index)\n",
    "# 5 status reversed \n",
    "bbdd_completa['status'] = (bbdd_completa['status'] + 1)%2\n",
    "index+=1\n",
    "print(index)\n",
    "# 6 Column has all ones\n",
    "bbdd_completa = bbdd_completa.drop(columns=['is_installed'])\n",
    "index+=1\n",
    "print(index)\n",
    "# 7 Column has all ones\n",
    "bbdd_completa = bbdd_completa.drop(columns=['is_charging_station'])\n",
    "index+=1\n",
    "print(index)\n",
    "# 8 Remove row where status = closed and is renting and is returning\n",
    "cond = (bbdd_completa['status'].isin([0.0])) & (bbdd_completa['is_renting'].isin([1.0])) & (bbdd_completa['is_returning'].isin([1.0]))\n",
    "bbdd_completa = bbdd_completa.mask(cond, np.nan)\n",
    "bbdd_completa = bbdd_completa.dropna(subset=['status'])\n",
    "\n",
    "after = get_ddf_shape(bbdd_completa)\n",
    "print(after)\n",
    "\n",
    "print('Changes to dataframe durinf preprocessing')\n",
    "print(f'dropeed {(after[0]-before[0]):02d} rows')\n",
    "print(f'dropped {(after[1]-before[1]):02d} columns')"
   ]
  },
  {
   "cell_type": "code",
   "execution_count": 6,
   "id": "9bb976d6",
   "metadata": {
    "scrolled": true
   },
   "outputs": [
    {
     "name": "stdout",
     "output_type": "stream",
     "text": [
      "year\n",
      "2020.0    [1.0, 320.0, 319.0, 318.0, 317.0, 316.0, 315.0...\n",
      "2021.0    [1.0, 271.0, 400.0, 510.0, 26.0, 270.0, 269.0,...\n",
      "2022.0    [1.0, 380.0, 28.0, 379.0, 378.0, 377.0, 376.0,...\n",
      "Name: station_id, dtype: object\n",
      "2020.0 (410,)\n",
      "2021.0 (509,)\n",
      "2022.0 (510,)\n",
      "408\n",
      "CPU times: user 1.26 s, sys: 171 ms, total: 1.44 s\n",
      "Wall time: 10.4 s\n"
     ]
    }
   ],
   "source": [
    "%%time\n",
    "\n",
    "unique_ids_by_year = bbdd_completa.groupby('year')['station_id'].unique().compute()\n",
    "print(unique_ids_by_year)\n",
    "\n",
    "# Calcula los station_id comunes en todos los años\n",
    "common_ids = set(unique_ids_by_year[2020])\n",
    "for year, ids in unique_ids_by_year.items():\n",
    "    print(year, ids.shape)\n",
    "    common_ids = common_ids.intersection(set(ids))\n",
    "# common_ids\n",
    "print(len(common_ids))\n",
    "\n",
    "filtered_bbdd = bbdd_completa[bbdd_completa['station_id'].isin(common_ids)]\n",
    "nonfiltered_bbdd = bbdd_completa[~bbdd_completa['station_id'].isin(common_ids)]"
   ]
  },
  {
   "cell_type": "code",
   "execution_count": 7,
   "id": "cd1ca3bf",
   "metadata": {},
   "outputs": [
    {
     "name": "stdout",
     "output_type": "stream",
     "text": [
      "(10194539, 21)\n",
      "(10100285, 21)\n",
      "Changes to dataframe durinf preprocessing\n",
      "dropeed -94254 rows\n",
      "dropped 00 columns\n",
      "CPU times: user 6.65 s, sys: 682 ms, total: 7.33 s\n",
      "Wall time: 27.9 s\n"
     ]
    }
   ],
   "source": [
    "%%time\n",
    "\n",
    "before = get_ddf_shape(filtered_bbdd)\n",
    "print(before)\n",
    "\n",
    "filtered_bbdd = filtered_bbdd.drop_duplicates(subset=['timestamp', 'station_id'], keep='last')\n",
    "\n",
    "after = get_ddf_shape(filtered_bbdd)\n",
    "print(after)\n",
    "\n",
    "print('Changes to dataframe durinf preprocessing')\n",
    "print(f'dropeed {(after[0]-before[0]):02d} rows')\n",
    "print(f'dropped {(after[1]-before[1]):02d} columns')"
   ]
  },
  {
   "cell_type": "code",
   "execution_count": 8,
   "id": "2b125d0a",
   "metadata": {},
   "outputs": [
    {
     "name": "stdout",
     "output_type": "stream",
     "text": [
      "(1789689, 21)\n",
      "(1769381, 21)\n",
      "Changes to dataframe durinf preprocessing\n",
      "dropeed -20308 rows\n",
      "dropped 00 columns\n",
      "CPU times: user 6.47 s, sys: 589 ms, total: 7.06 s\n",
      "Wall time: 25 s\n"
     ]
    }
   ],
   "source": [
    "%%time\n",
    "\n",
    "before = get_ddf_shape(nonfiltered_bbdd)\n",
    "print(before)\n",
    "\n",
    "nonfiltered_bbdd = nonfiltered_bbdd.drop_duplicates(subset=['timestamp', 'station_id'], keep='last')\n",
    "\n",
    "after = get_ddf_shape(nonfiltered_bbdd)\n",
    "print(after)\n",
    "\n",
    "print('Changes to dataframe durinf preprocessing')\n",
    "print(f'dropeed {(after[0]-before[0]):02d} rows')\n",
    "print(f'dropped {(after[1]-before[1]):02d} columns')"
   ]
  },
  {
   "cell_type": "markdown",
   "id": "7f8f1ba6",
   "metadata": {},
   "source": [
    "# Predicción__________________________________\n",
    "a) Regresión lineal: relación lineal entre las variables de entrada y la variable de salida. \n",
    "\n",
    "b) Regresión Redes Neuronales (RNN -redes neuronales recurrentes-): pueden capturar relaciones no lineales entre las variables de entrada y salida."
   ]
  },
  {
   "cell_type": "code",
   "execution_count": 9,
   "id": "c1e0195a",
   "metadata": {},
   "outputs": [
    {
     "name": "stderr",
     "output_type": "stream",
     "text": [
      "2023-06-02 03:58:46.781260: I tensorflow/core/util/port.cc:110] oneDNN custom operations are on. You may see slightly different numerical results due to floating-point round-off errors from different computation orders. To turn them off, set the environment variable `TF_ENABLE_ONEDNN_OPTS=0`.\n",
      "2023-06-02 03:58:47.054596: I tensorflow/core/platform/cpu_feature_guard.cc:182] This TensorFlow binary is optimized to use available CPU instructions in performance-critical operations.\n",
      "To enable the following instructions: AVX2 AVX512F AVX512_VNNI FMA, in other operations, rebuild TensorFlow with the appropriate compiler flags.\n",
      "2023-06-02 03:58:48.375469: W tensorflow/compiler/tf2tensorrt/utils/py_utils.cc:38] TF-TRT Warning: Could not find TensorRT\n"
     ]
    }
   ],
   "source": [
    "import os\n",
    "import csv\n",
    "import pandas as pd\n",
    "import random\n",
    "import numpy as np\n",
    "import tensorflow as tf\n",
    "import warnings\n",
    "warnings.simplefilter('ignore')"
   ]
  },
  {
   "cell_type": "code",
   "execution_count": 23,
   "id": "d411c3ed",
   "metadata": {},
   "outputs": [],
   "source": [
    "from sklearn.model_selection import train_test_split\n",
    "from sklearn.pipeline import Pipeline\n",
    "from sklearn.preprocessing import StandardScaler\n",
    "from sklearn.preprocessing import FunctionTransformer\n",
    "from sklearn.impute import SimpleImputer\n",
    "from sklearn.preprocessing import OneHotEncoder\n",
    "from sklearn.preprocessing import OrdinalEncoder\n",
    "from sklearn.compose import ColumnTransformer\n",
    "from sklearn.metrics import mean_squared_error, r2_score\n",
    "from sklearn.model_selection import cross_val_score\n",
    "from sklearn.ensemble import GradientBoostingRegressor\n",
    "from sklearn.ensemble import RandomForestRegressor\n",
    "\n",
    "from sklearn.compose import ColumnTransformer\n",
    "from sklearn.pipeline import Pipeline\n",
    "from sklearn.preprocessing import StandardScaler, OrdinalEncoder\n",
    "from sklearn.impute import SimpleImputer\n",
    "from sklearn.model_selection import train_test_split\n",
    "\n",
    "from sklearn.ensemble import RandomForestRegressor\n",
    "from sklearn.model_selection import cross_val_score\n",
    "from sklearn import neighbors\n",
    "from sklearn import linear_model\n",
    "from sklearn.linear_model import LinearRegression\n",
    "from sklearn.model_selection import GridSearchCV\n",
    "from sklearn.model_selection import validation_curve\n",
    "from sklearn.metrics import mean_squared_error, r2_score\n",
    "from sklearn.metrics import mean_absolute_error\n",
    "\n",
    "DATA_DIR = 'dades'\n",
    "OUTPUT_DIR = './'"
   ]
  },
  {
   "cell_type": "code",
   "execution_count": 10,
   "id": "94a63fa9",
   "metadata": {},
   "outputs": [],
   "source": [
    "class Config:\n",
    "    num_attribs0 = ['year', 'ctx1', 'ctx2', 'ctx3', 'ctx4']\n",
    "    cat_attribs0 = ['month', 'dayofweek', 'day', 'dayofyear', 'hour' ]\n",
    "    cat_attribs1 = ['station_id']\n",
    "    gen_attribs0 = ['status', 'is_renting', 'is_returning']\n",
    "    target_col = ['ctx0']\n",
    "    \n",
    "    epochs=5\n",
    "    batch_size=128\n",
    "    seed=42\n",
    "    embedding_dim=8\n",
    "    lr=1e-4\n",
    "\n",
    "def seed_everything(seed=42):\n",
    "    random.seed(seed)\n",
    "    os.environ['PYTHONHASHSEED'] = str(seed)\n",
    "    np.random.seed(seed)\n",
    "    tf.random.set_seed(seed)\n",
    "    os.environ['TF_DETERMINISTIC_OPS'] = '1'\n",
    "    os.environ['TF_CUDNN_DETERMINISTIC'] = '1'\n",
    "\n",
    "    tf.config.threading.set_inter_op_parallelism_threads(1)\n",
    "    tf.config.threading.set_intra_op_parallelism_threads(1)\n",
    "    "
   ]
  },
  {
   "cell_type": "code",
   "execution_count": 11,
   "id": "6a216e3b",
   "metadata": {
    "scrolled": true
   },
   "outputs": [
    {
     "name": "stdout",
     "output_type": "stream",
     "text": [
      "[PhysicalDevice(name='/physical_device:GPU:0', device_type='GPU')]\n"
     ]
    }
   ],
   "source": [
    "print(tf.config.list_physical_devices('GPU'))"
   ]
  },
  {
   "cell_type": "code",
   "execution_count": 12,
   "id": "ef40396f",
   "metadata": {},
   "outputs": [],
   "source": [
    "config=Config()\n",
    "seed_everything(config.seed)"
   ]
  },
  {
   "cell_type": "code",
   "execution_count": 12,
   "id": "fe46f892",
   "metadata": {},
   "outputs": [
    {
     "data": {
      "text/plain": [
       "Index(['station_id', 'num_docks_available', 'num_bikes_available', 'status',\n",
       "       'timestamp', 'is_renting', 'is_returning',\n",
       "       'num_bikes_available_types.mechanical',\n",
       "       'num_bikes_available_types.ebike', 'year', 'month', 'dayofweek', 'day',\n",
       "       'dayofyear', 'hour', 'capacity', 'ctx0', 'ctx1', 'ctx2', 'ctx3',\n",
       "       'ctx4'],\n",
       "      dtype='object')"
      ]
     },
     "execution_count": 12,
     "metadata": {},
     "output_type": "execute_result"
    }
   ],
   "source": [
    "filtered_bbdd.columns"
   ]
  },
  {
   "cell_type": "code",
   "execution_count": 13,
   "id": "cc365d22",
   "metadata": {},
   "outputs": [],
   "source": [
    "\n",
    "def build_preprocessor(config): \n",
    "    \n",
    "    num_attribs0 = config.num_attribs0 # ['year', 'ctx1', 'ctx2', 'ctx3', 'ctx4']\n",
    "    cat_attribs0 = config.cat_attribs0 #['month', 'dayofweek', 'day', 'dayofyear', 'hour' ]\n",
    "    cat_attribs1 = config.cat_attribs1 #['station_id']\n",
    "    gen_attribs0 = config.gen_attribs0 #['status', 'is_renting', 'is_returning']\n",
    "    \n",
    "    num_transformer0 = Pipeline(steps=[\n",
    "        (\"imputer\", SimpleImputer(strategy=\"mean\")),\n",
    "        ('std_scaler', (StandardScaler())),\n",
    "    ])\n",
    "\n",
    "    categorical_transformer0 = Pipeline(steps=[\n",
    "        (\"imputer\", SimpleImputer(strategy=\"constant\",fill_value=0)),\n",
    "        ('ordinal_encoder', (OrdinalEncoder())),\n",
    "    ])\n",
    "    \n",
    "    categorical_transformer1 = Pipeline(steps=[\n",
    "        (\"imputer\", SimpleImputer(strategy=\"constant\",fill_value=0)),\n",
    "        ('one_hot_encoder', (OneHotEncoder(handle_unknown='ignore'))),\n",
    "    ])\n",
    "    \n",
    "    generic_transformer0 = Pipeline([\n",
    "        (\"imputer\", SimpleImputer(strategy=\"mean\")),\n",
    "    ])\n",
    "    \n",
    "    preprocessor = ColumnTransformer(\n",
    "        transformers=[\n",
    "            (\"num0\", num_transformer0, num_attribs0),\n",
    "            (\"gen1\", generic_transformer0, gen_attribs0),\n",
    "            (\"cat0\", categorical_transformer0, cat_attribs0),\n",
    "            (\"cat1\", categorical_transformer1, cat_attribs1),\n",
    "        ],\n",
    "        remainder=\"drop\"\n",
    "    )\n",
    "    \n",
    "    return preprocessor\n",
    "\n",
    "def apply_pipeline(config, x_train,x_test,y_train,y_test, show=True):\n",
    "    \n",
    "    full_pipeline = build_preprocessor(config)\n",
    "\n",
    "    x_train_prepared = full_pipeline.fit_transform(x_train)\n",
    "    x_test_prepared = full_pipeline.transform(x_test)\n",
    "    \n",
    "    if show:\n",
    "        print(\"x_train_prepared:\",x_train_prepared.shape,\"y_train: \",y_train.shape)\n",
    "        print(\"x_test_prepared:\",x_test_prepared.shape,\"y_test: \",y_test.shape)\n",
    "\n",
    "    return x_train_prepared,x_test_prepared,y_train,y_test\n"
   ]
  },
  {
   "cell_type": "code",
   "execution_count": 13,
   "id": "55c641cc",
   "metadata": {},
   "outputs": [
    {
     "name": "stdout",
     "output_type": "stream",
     "text": [
      "CPU times: user 6.42 s, sys: 3.4 s, total: 9.82 s\n",
      "Wall time: 53.9 s\n"
     ]
    }
   ],
   "source": [
    "%%time \n",
    "\n",
    "x_train, x_test, y_train, y_test = filtered_bbdd.compute().copy(),nonfiltered_bbdd.compute().copy(), filtered_bbdd.ctx0.compute().copy(), nonfiltered_bbdd.ctx0.compute().copy()"
   ]
  },
  {
   "cell_type": "code",
   "execution_count": 15,
   "id": "f3d3d686",
   "metadata": {},
   "outputs": [
    {
     "name": "stdout",
     "output_type": "stream",
     "text": [
      "x_train_prepared: (10100285, 421) y_train:  (10100285,)\n",
      "x_test_prepared: (1769381, 421) y_test:  (1769381,)\n",
      "CPU times: user 11.1 s, sys: 2.04 s, total: 13.2 s\n",
      "Wall time: 12 s\n"
     ]
    }
   ],
   "source": [
    "%%time \n",
    "\n",
    "x_train_prepared,x_test_prepared,y_train,y_test = apply_pipeline(config, x_train,x_test,y_train,y_test)"
   ]
  },
  {
   "cell_type": "code",
   "execution_count": 25,
   "id": "3663606c",
   "metadata": {},
   "outputs": [
    {
     "name": "stdout",
     "output_type": "stream",
     "text": [
      "\n",
      "  Linear Regression\n",
      "Scores: [0.86899924 0.85701564 0.83715041 0.82014689 0.81363575]\n",
      "Mean: 0.839389585913087\n",
      "Standard deviation: 0.021099594121137856\n",
      "CPU times: user 1min 17s, sys: 3min 33s, total: 4min 51s\n",
      "Wall time: 45.1 s\n"
     ]
    }
   ],
   "source": [
    "%%time \n",
    "\n",
    "lin_reg = LinearRegression()\n",
    "cross_val_evaluation(lin_reg,x_train_prepared, y_train,'Linear Regression')\n",
    "#  Linear Regression\n",
    "# Scores: [0.86876116 0.85690033 0.83716171 0.82008556 0.8135665 ]\n",
    "# Mean: 0.8392950517172396\n",
    "# Standard deviation: 0.021041440859117303"
   ]
  },
  {
   "cell_type": "code",
   "execution_count": 28,
   "id": "18b104f1",
   "metadata": {},
   "outputs": [
    {
     "name": "stdout",
     "output_type": "stream",
     "text": [
      "\n",
      "Training time: 0.266 s\n",
      "----- EVALUATION ON VAL SET ------\n",
      "MSE: 0.012851207053139834\n",
      "RMSE 0.11336316444568682\n",
      "MAE: 0.07415067021244647\n",
      "R^2:  0.8436992630819116\n",
      "\n"
     ]
    },
    {
     "data": {
      "image/png": "[encoded data removed]",
      "text/plain": [
       "<Figure size 640x480 with 1 Axes>"
      ]
     },
     "metadata": {},
     "output_type": "display_data"
    },
    {
     "name": "stdout",
     "output_type": "stream",
     "text": [
      "\n",
      "Testing time: 0.037 s\n",
      "----- EVALUATION ON VAL SET ------\n",
      "MSE: 0.009087157054815241\n",
      "RMSE 0.09532658105069772\n",
      "MAE: 0.06325160105754518\n",
      "R^2:  0.8691530607348313\n",
      "\n"
     ]
    },
    {
     "data": {
      "image/png": "[encoded data removed]",
      "text/plain": [
       "<Figure size 640x480 with 1 Axes>"
      ]
     },
     "metadata": {},
     "output_type": "display_data"
    },
    {
     "data": {
      "text/plain": [
       "y_hat_t    [0.2245009591113864, 0.08555091990529551, 0.06...\n",
       "mse_t                                               0.012851\n",
       "rmse_t                                              0.113363\n",
       "mae_t                                               0.074151\n",
       "r2_t                                                0.843699\n",
       "y_hat_v    [0.5109977935437623, 0.9106963666793366, 0.900...\n",
       "mse_v                                               0.009087\n",
       "rmse_v                                              0.095327\n",
       "mae_v                                               0.063252\n",
       "r2_v                                                0.869153\n",
       "dtype: object"
      ]
     },
     "execution_count": 28,
     "metadata": {},
     "output_type": "execute_result"
    }
   ],
   "source": [
    "lin_reg.fit(x_train_prepared,y_train)\n",
    "test_model(lin_reg, x_train_prepared, y_train, x_test_prepared, y_test)"
   ]
  },
  {
   "cell_type": "code",
   "execution_count": 26,
   "id": "397da1eb",
   "metadata": {},
   "outputs": [
    {
     "name": "stdout",
     "output_type": "stream",
     "text": [
      "\n",
      "  Ridge Regression\n",
      "Scores: [0.86899909 0.85701562 0.83714803 0.82015689 0.81364697]\n",
      "Mean: 0.8393933193134504\n",
      "Standard deviation: 0.021095035859136448\n",
      "CPU times: user 54.9 s, sys: 1min 45s, total: 2min 39s\n",
      "Wall time: 35.3 s\n"
     ]
    }
   ],
   "source": [
    "%%time \n",
    "\n",
    "ridge_reg = linear_model.Ridge(alpha=0.01) # Create a Ridge regressor\n",
    "cross_val_evaluation(ridge_reg,x_train_prepared, y_train,'Ridge Regression')\n",
    "#   Ridge Regression\n",
    "# Scores: [0.86875691 0.85689315 0.83715539 0.82008539 0.81356727]\n",
    "# Mean: 0.839291622628996\n",
    "# Standard deviation: 0.021039020876520598"
   ]
  },
  {
   "cell_type": "code",
   "execution_count": 29,
   "id": "b05d561f",
   "metadata": {},
   "outputs": [
    {
     "name": "stdout",
     "output_type": "stream",
     "text": [
      "\n",
      "Training time: 0.238 s\n",
      "----- EVALUATION ON VAL SET ------\n",
      "MSE: 0.01285151626405725\n",
      "RMSE 0.1133645282443201\n",
      "MAE: 0.07414802061613243\n",
      "R^2:  0.8436955023539072\n",
      "\n"
     ]
    },
    {
     "data": {
      "image/png": "[encoded data removed]",
      "text/plain": [
       "<Figure size 640x480 with 1 Axes>"
      ]
     },
     "metadata": {},
     "output_type": "display_data"
    },
    {
     "name": "stdout",
     "output_type": "stream",
     "text": [
      "\n",
      "Testing time: 0.04 s\n",
      "----- EVALUATION ON VAL SET ------\n",
      "MSE: 0.009086590098364572\n",
      "RMSE 0.09532360724586839\n",
      "MAE: 0.0632452709414458\n",
      "R^2:  0.8691612244009614\n",
      "\n"
     ]
    },
    {
     "data": {
      "image/png": "[encoded data removed]",
      "text/plain": [
       "<Figure size 640x480 with 1 Axes>"
      ]
     },
     "metadata": {},
     "output_type": "display_data"
    },
    {
     "data": {
      "text/plain": [
       "y_hat_t    [0.22437869485849465, 0.08542186265954305, 0.0...\n",
       "mse_t                                               0.012852\n",
       "rmse_t                                              0.113365\n",
       "mae_t                                               0.074148\n",
       "r2_t                                                0.843696\n",
       "y_hat_v    [0.5108043505311364, 0.910513429837106, 0.8999...\n",
       "mse_v                                               0.009087\n",
       "rmse_v                                              0.095324\n",
       "mae_v                                               0.063245\n",
       "r2_v                                                0.869161\n",
       "dtype: object"
      ]
     },
     "execution_count": 29,
     "metadata": {},
     "output_type": "execute_result"
    }
   ],
   "source": [
    "ridge_reg.fit(x_train_prepared,y_train)\n",
    "test_model(ridge_reg, x_train_prepared, y_train, x_test_prepared, y_test)"
   ]
  },
  {
   "cell_type": "code",
   "execution_count": 27,
   "id": "5c306003",
   "metadata": {},
   "outputs": [
    {
     "name": "stdout",
     "output_type": "stream",
     "text": [
      "\n",
      "  Lasso Regression\n",
      "Scores: [0.85545516 0.84454683 0.82664457 0.81002738 0.80356815]\n",
      "Mean: 0.8280484175862514\n",
      "Standard deviation: 0.019745071952468194\n",
      "CPU times: user 1min 21s, sys: 13.3 s, total: 1min 35s\n",
      "Wall time: 1min 14s\n"
     ]
    }
   ],
   "source": [
    "%%time \n",
    "\n",
    "lasso_reg = linear_model.Lasso(alpha=0.01) # Create a Ridge regressor\n",
    "cross_val_evaluation(lasso_reg,x_train_prepared, y_train,'Lasso Regression')\n",
    "#   Lasso Regression\n",
    "# Scores: [0.85542452 0.844529   0.82666133 0.81003802 0.80356838]\n",
    "# Mean: 0.8280442480533837\n",
    "# Standard deviation: 0.0197313499648892\n",
    "# CPU times: user 2min 14s, sys: 3min 2s, total: 5min 16s\n",
    "# Wall time: 1min 28s"
   ]
  },
  {
   "cell_type": "code",
   "execution_count": 30,
   "id": "50d2f629",
   "metadata": {},
   "outputs": [
    {
     "name": "stdout",
     "output_type": "stream",
     "text": [
      "\n",
      "Training time: 0.197 s\n",
      "----- EVALUATION ON VAL SET ------\n",
      "MSE: 0.013817252178934755\n",
      "RMSE 0.1175468084591613\n",
      "MAE: 0.07919499964500935\n",
      "R^2:  0.8319498947592697\n",
      "\n"
     ]
    },
    {
     "data": {
      "image/png": "[encoded data removed]",
      "text/plain": [
       "<Figure size 640x480 with 1 Axes>"
      ]
     },
     "metadata": {},
     "output_type": "display_data"
    },
    {
     "name": "stdout",
     "output_type": "stream",
     "text": [
      "\n",
      "Testing time: 0.023 s\n",
      "----- EVALUATION ON VAL SET ------\n",
      "MSE: 0.009560732448613518\n",
      "RMSE 0.09777899799350329\n",
      "MAE: 0.06455680129847247\n",
      "R^2:  0.862333998357455\n",
      "\n"
     ]
    },
    {
     "data": {
      "image/png": "[encoded data removed]",
      "text/plain": [
       "<Figure size 640x480 with 1 Axes>"
      ]
     },
     "metadata": {},
     "output_type": "display_data"
    },
    {
     "data": {
      "text/plain": [
       "y_hat_t    [0.2257529985885911, 0.08524942634927435, 0.06...\n",
       "mse_t                                               0.013817\n",
       "rmse_t                                              0.117547\n",
       "mae_t                                               0.079195\n",
       "r2_t                                                 0.83195\n",
       "y_hat_v    [0.5050255310642701, 0.9073109647494744, 0.900...\n",
       "mse_v                                               0.009561\n",
       "rmse_v                                              0.097779\n",
       "mae_v                                               0.064557\n",
       "r2_v                                                0.862334\n",
       "dtype: object"
      ]
     },
     "execution_count": 30,
     "metadata": {},
     "output_type": "execute_result"
    }
   ],
   "source": [
    "lasso_reg.fit(x_train_prepared,y_train)\n",
    "test_model(lasso_reg, x_train_prepared, y_train, x_test_prepared, y_test)"
   ]
  },
  {
   "cell_type": "code",
   "execution_count": 31,
   "id": "af36eb19",
   "metadata": {},
   "outputs": [],
   "source": [
    "names = [ i for i in range(x_train_prepared.shape[1])]"
   ]
  },
  {
   "cell_type": "code",
   "execution_count": 32,
   "id": "8fe936d7",
   "metadata": {},
   "outputs": [],
   "source": [
    "coefs_lin_reg = pd.Series(np.abs(lin_reg.coef_), names).sort_values()\n",
    "coefs_ridge_reg = pd.Series(np.abs(ridge_reg.coef_), names).sort_values()\n",
    "coefs_lasso_reg = pd.Series(np.abs(lasso_reg.coef_), names).sort_values()"
   ]
  },
  {
   "cell_type": "code",
   "execution_count": 33,
   "id": "4b5c1612",
   "metadata": {},
   "outputs": [
    {
     "data": {
      "text/plain": [
       "<Axes: title={'center': 'coefs_lasso'}>"
      ]
     },
     "execution_count": 33,
     "metadata": {},
     "output_type": "execute_result"
    },
    {
     "data": {
      "image/png": "[encoded data removed]",
      "text/plain": [
       "<Figure size 1500x500 with 3 Axes>"
      ]
     },
     "metadata": {},
     "output_type": "display_data"
    }
   ],
   "source": [
    "f = plt.figure(figsize=(15,5))\n",
    "ax1 = f.add_subplot(131)\n",
    "ax2 = f.add_subplot(132)\n",
    "ax3 = f.add_subplot(133)\n",
    "\n",
    "coefs_lin_reg.plot(kind=\"barh\", title='coefs_lr', ax=ax1)\n",
    "coefs_ridge_reg.plot(kind=\"barh\", title='coefs_ridge', ax=ax2)\n",
    "coefs_lasso_reg.plot(kind=\"barh\", title='coefs_lasso', ax=ax3)\n",
    "\n"
   ]
  },
  {
   "cell_type": "code",
   "execution_count": 34,
   "id": "428ff314",
   "metadata": {},
   "outputs": [],
   "source": [
    "n_alphas = 50\n",
    "alphas = np.logspace(-1, 1, n_alphas)"
   ]
  },
  {
   "cell_type": "code",
   "execution_count": 37,
   "id": "149b8491",
   "metadata": {},
   "outputs": [
    {
     "data": {
      "application/vnd.jupyter.widget-view+json": {
       "model_id": "ddfabc0279324e7cb61d277e0b1448e5",
       "version_major": 2,
       "version_minor": 0
      },
      "text/plain": [
       "  0%|          | 0/50 [00:00<?, ?it/s]"
      ]
     },
     "metadata": {},
     "output_type": "display_data"
    },
    {
     "name": "stdout",
     "output_type": "stream",
     "text": [
      "CPU times: user 10min 21s, sys: 17min 5s, total: 27min 26s\n",
      "Wall time: 6min 36s\n"
     ]
    }
   ],
   "source": [
    "%%time \n",
    "\n",
    "coefs_ridge = []\n",
    "r2_ridge = []\n",
    "for l in tqdm(alphas):\n",
    "    regr_ridge = linear_model.Ridge(alpha=l) # Create a Ridge regressor\n",
    "    regr_ridge.fit(x_train_prepared, y_train)  # Perform the fitting\n",
    "    coefs_ridge.append(regr_ridge.coef_)\n",
    "    r2_ridge.append(regr_ridge.score(x_test_prepared,y_test))"
   ]
  },
  {
   "cell_type": "code",
   "execution_count": 39,
   "id": "e68a2c43",
   "metadata": {},
   "outputs": [
    {
     "data": {
      "application/vnd.jupyter.widget-view+json": {
       "model_id": "a7618cf4961242fcadfd67ec10a1b041",
       "version_major": 2,
       "version_minor": 0
      },
      "text/plain": [
       "  0%|          | 0/50 [00:00<?, ?it/s]"
      ]
     },
     "metadata": {},
     "output_type": "display_data"
    },
    {
     "name": "stdout",
     "output_type": "stream",
     "text": [
      "CPU times: user 11min 26s, sys: 2min, total: 13min 27s\n",
      "Wall time: 10min 11s\n"
     ]
    }
   ],
   "source": [
    "%%time \n",
    "\n",
    "coefs_lasso = []\n",
    "r2_lasso = []\n",
    "for l in tqdm(alphas):\n",
    "    regr_lasso = linear_model.Lasso(alpha=l,tol=0.001) # Create a Ridge regressor\n",
    "    regr_lasso.fit(x_train_prepared, y_train)  # Perform the fitting\n",
    "    coefs_lasso.append(regr_lasso.coef_)\n",
    "    r2_lasso.append(regr_lasso.score(x_test_prepared,y_test))"
   ]
  },
  {
   "cell_type": "code",
   "execution_count": 40,
   "id": "a786a43a",
   "metadata": {},
   "outputs": [
    {
     "data": {
      "image/png": "[encoded data removed]",
      "text/plain": [
       "<Figure size 2000x2000 with 4 Axes>"
      ]
     },
     "metadata": {},
     "output_type": "display_data"
    }
   ],
   "source": [
    "# Display results\n",
    "\n",
    "fig, axs = plt.subplots(2, 2, figsize=(20, 20), sharey='row')\n",
    "\n",
    "axs[0,0].plot(alphas, np.abs(coefs_ridge))\n",
    "axs[0,0].set_xscale('log')\n",
    "axs[0,0].set_title('Ridge coefficients as a function of the regularization')\n",
    "axs[0,0].axis('tight')\n",
    "axs[0,0].set_xlabel('alpha')\n",
    "axs[0,0].set_ylabel('weights')\n",
    "#axs[0,0].legend(names)\n",
    "\n",
    "axs[0,1].plot(alphas, np.abs(coefs_lasso))\n",
    "axs[0,1].set_xscale('log')\n",
    "axs[0,1].set_title('Lasso coefficients as a function of the regularization')\n",
    "axs[0,1].axis('tight')\n",
    "axs[0,1].set_xlabel('alpha')\n",
    "axs[0,1].set_ylabel('weights')\n",
    "#axs[0,1].legend(names)\n",
    "\n",
    "axs[1,0].plot(alphas, r2_ridge)\n",
    "axs[1,0].set_xscale('log')\n",
    "axs[1,0].set_title('Ridge scores as a function of the regularization')\n",
    "axs[1,0].axis('tight')\n",
    "axs[1,0].set_xlabel('alpha')\n",
    "axs[1,0].set_ylabel('r2')\n",
    "\n",
    "axs[1,1].plot(alphas, r2_lasso)\n",
    "axs[1,1].set_xscale('log')\n",
    "axs[1,1].set_title('Lasso scores as a function of the regularization')\n",
    "axs[1,1].axis('tight')\n",
    "axs[1,1].set_xlabel('alpha')\n",
    "axs[1,1].set_ylabel('r2')\n",
    "\n",
    "\n",
    "plt.show()\n"
   ]
  },
  {
   "cell_type": "code",
   "execution_count": 41,
   "id": "5991f85d",
   "metadata": {},
   "outputs": [
    {
     "name": "stdout",
     "output_type": "stream",
     "text": [
      "Ridge\n",
      "49 10.0 0.8691629642076816\n",
      "Lasso\n",
      "0 0.09999999999999999 0.7096394328354863\n"
     ]
    }
   ],
   "source": [
    "\n",
    "# Find optimal alphas\n",
    "best_r2_ridge = max(r2_ridge)\n",
    "max_index_ridge = r2_ridge.index(best_r2_ridge)\n",
    "best_alpha_ridge = alphas[max_index_ridge]\n",
    "print('Ridge')\n",
    "print(max_index_ridge, best_alpha_ridge, best_r2_ridge)\n",
    "\n",
    "best_r2_lasso = max(r2_lasso)\n",
    "max_index_lasso = r2_lasso.index(best_r2_lasso)\n",
    "best_alpha_lasso = alphas[max_index_lasso]\n",
    "print('Lasso')\n",
    "print(max_index_lasso, best_alpha_lasso, best_r2_lasso)\n",
    "\n"
   ]
  },
  {
   "cell_type": "markdown",
   "id": "18cc0b60",
   "metadata": {},
   "source": [
    "## NN "
   ]
  },
  {
   "cell_type": "code",
   "execution_count": 14,
   "id": "bca0ac6f",
   "metadata": {},
   "outputs": [
    {
     "name": "stdout",
     "output_type": "stream",
     "text": [
      "2.12.0\n",
      "2.12.0\n",
      "/device:GPU:0\n"
     ]
    },
    {
     "name": "stderr",
     "output_type": "stream",
     "text": [
      "2023-06-02 03:59:44.830000: I tensorflow/core/common_runtime/gpu/gpu_device.cc:1635] Created device /device:GPU:0 with 9726 MB memory:  -> device: 0, name: NVIDIA RTX A2000 12GB, pci bus id: 0000:68:00.0, compute capability: 8.6\n"
     ]
    }
   ],
   "source": [
    "import tensorflow as tf\n",
    "from tensorflow import keras\n",
    "print(keras.__version__)\n",
    "print(tf.__version__)\n",
    "print(tf.test.gpu_device_name())"
   ]
  },
  {
   "cell_type": "code",
   "execution_count": 15,
   "id": "bbcc1308",
   "metadata": {},
   "outputs": [
    {
     "name": "stderr",
     "output_type": "stream",
     "text": [
      "2023-06-02 03:59:44.844730: I tensorflow/core/common_runtime/gpu/gpu_device.cc:1635] Created device /device:GPU:0 with 9726 MB memory:  -> device: 0, name: NVIDIA RTX A2000 12GB, pci bus id: 0000:68:00.0, compute capability: 8.6\n"
     ]
    },
    {
     "data": {
      "text/plain": [
       "[name: \"/device:CPU:0\"\n",
       " device_type: \"CPU\"\n",
       " memory_limit: 268435456\n",
       " locality {\n",
       " }\n",
       " incarnation: 17582008966107169534\n",
       " xla_global_id: -1,\n",
       " name: \"/device:GPU:0\"\n",
       " device_type: \"GPU\"\n",
       " memory_limit: 10198646784\n",
       " locality {\n",
       "   bus_id: 1\n",
       "   links {\n",
       "   }\n",
       " }\n",
       " incarnation: 13241992620986869268\n",
       " physical_device_desc: \"device: 0, name: NVIDIA RTX A2000 12GB, pci bus id: 0000:68:00.0, compute capability: 8.6\"\n",
       " xla_global_id: 416903419]"
      ]
     },
     "execution_count": 15,
     "metadata": {},
     "output_type": "execute_result"
    }
   ],
   "source": [
    "\n",
    "\n",
    "from tensorflow.python.client import device_lib\n",
    "device_lib.list_local_devices()\n",
    "\n"
   ]
  },
  {
   "cell_type": "code",
   "execution_count": 16,
   "id": "f8073c92",
   "metadata": {},
   "outputs": [],
   "source": [
    "\n",
    "\n",
    "# clear previous session\n",
    "keras.backend.clear_session()\n",
    "np.random.seed(42)\n",
    "tf.random.set_seed(42)\n",
    "\n"
   ]
  },
  {
   "cell_type": "code",
   "execution_count": 17,
   "id": "86cae417",
   "metadata": {},
   "outputs": [
    {
     "name": "stderr",
     "output_type": "stream",
     "text": [
      "2023-06-02 03:59:44.876592: I tensorflow/core/common_runtime/gpu/gpu_device.cc:1635] Created device /job:localhost/replica:0/task:0/device:GPU:0 with 9726 MB memory:  -> device: 0, name: NVIDIA RTX A2000 12GB, pci bus id: 0000:68:00.0, compute capability: 8.6\n"
     ]
    },
    {
     "name": "stdout",
     "output_type": "stream",
     "text": [
      "WARNING:tensorflow:From /tmp/ipykernel_13183/1737037940.py:9: The name tf.keras.backend.set_session is deprecated. Please use tf.compat.v1.keras.backend.set_session instead.\n",
      "\n"
     ]
    }
   ],
   "source": [
    "\n",
    "\n",
    "from keras import backend as K\n",
    "# Configuring a session\n",
    "session_conf = tf.compat.v1.ConfigProto(\n",
    "    intra_op_parallelism_threads=3,\n",
    "    inter_op_parallelism_threads=3\n",
    ")\n",
    "sess = tf.compat.v1.Session(graph=tf.compat.v1.get_default_graph(), config=session_conf)\n",
    "#K.set_session(sess)\n",
    "tf.compat.v1.keras.backend.set_session(sess)\n",
    "\n"
   ]
  },
  {
   "cell_type": "code",
   "execution_count": 18,
   "id": "e5654621",
   "metadata": {},
   "outputs": [],
   "source": [
    "\n",
    "\n",
    "from keras.callbacks_v1 import TensorBoard\n",
    "from keras.callbacks import ReduceLROnPlateau\n",
    "\n"
   ]
  },
  {
   "cell_type": "code",
   "execution_count": 19,
   "id": "3a242d3e",
   "metadata": {},
   "outputs": [],
   "source": [
    "def root_mean_squared_error(y_true, y_pred):\n",
    "    y = K.cast(y_true, K.np.float32)\n",
    "    y_hat = K.cast(y_pred, K.np.float32)\n",
    "    return K.sqrt(K.mean(K.square(y_hat - y)))"
   ]
  },
  {
   "cell_type": "code",
   "execution_count": 20,
   "id": "efacd14d",
   "metadata": {},
   "outputs": [],
   "source": [
    "class Config:\n",
    "    num_attribs0 = ['ctx1', 'ctx2', 'ctx3', 'ctx4']\n",
    "    cat_attribs0 = ['station_id', 'month', 'dayofweek', 'day', 'dayofyear', 'hour', 'status', 'is_renting', 'is_returning']\n",
    "    target_col = ['ctx0']\n",
    "    \n",
    "    epochs=5\n",
    "    batch_size=128\n",
    "    seed=42\n",
    "    embedding_dim=8\n",
    "    lr=1e-4\n",
    "config=Config()\n",
    "seed_everything(config.seed)"
   ]
  },
  {
   "cell_type": "code",
   "execution_count": 21,
   "id": "ee22f106",
   "metadata": {},
   "outputs": [],
   "source": [
    "\n",
    "def build_preprocessor(config): \n",
    "    \n",
    "    num_attribs0 = config.num_attribs0 # ['year', 'ctx1', 'ctx2', 'ctx3', 'ctx4']\n",
    "    cat_attribs0 = config.cat_attribs0 #['month', 'dayofweek', 'day', 'dayofyear', 'hour' ]\n",
    "    \n",
    "    num_transformer0 = Pipeline(steps=[\n",
    "        (\"imputer\", SimpleImputer(strategy=\"mean\")),\n",
    "        ('std_scaler', (StandardScaler())),\n",
    "    ])\n",
    "\n",
    "    categorical_transformer0 = Pipeline(steps=[\n",
    "        (\"imputer\", SimpleImputer(strategy=\"constant\",fill_value=np.nan)),\n",
    "        ('ordinal_encoder', (OrdinalEncoder(handle_unknown='use_encoded_value', unknown_value=np.nan))),\n",
    "    ])\n",
    "    \n",
    "    preprocessor = ColumnTransformer(\n",
    "        transformers=[\n",
    "            (\"num0\", num_transformer0, num_attribs0),\n",
    "            (\"cat0\", categorical_transformer0, cat_attribs0),\n",
    "        ],\n",
    "        remainder=\"drop\"\n",
    "    )\n",
    "    \n",
    "    return preprocessor\n",
    "\n",
    "def apply_pipeline(config, x_train,x_test,y_train,y_test, show=True):\n",
    "    \n",
    "    full_pipeline = build_preprocessor(config)\n",
    "\n",
    "    x_train_prepared = full_pipeline.fit_transform(x_train)\n",
    "    x_test_prepared = full_pipeline.transform(x_test)\n",
    "    \n",
    "    if show:\n",
    "        print(\"x_train_prepared:\",x_train_prepared.shape,\"y_train: \",y_train.shape)\n",
    "        print(\"x_test_prepared:\",x_test_prepared.shape,\"y_test: \",y_test.shape)\n",
    "\n",
    "    return x_train_prepared,x_test_prepared,y_train,y_test\n"
   ]
  },
  {
   "cell_type": "code",
   "execution_count": 24,
   "id": "d2b3a187",
   "metadata": {},
   "outputs": [
    {
     "data": {
      "text/html": [
       "<style>#sk-container-id-1 {color: black;background-color: white;}#sk-container-id-1 pre{padding: 0;}#sk-container-id-1 div.sk-toggleable {background-color: white;}#sk-container-id-1 label.sk-toggleable__label {cursor: pointer;display: block;width: 100%;margin-bottom: 0;padding: 0.3em;box-sizing: border-box;text-align: center;}#sk-container-id-1 label.sk-toggleable__label-arrow:before {content: \"▸\";float: left;margin-right: 0.25em;color: #696969;}#sk-container-id-1 label.sk-toggleable__label-arrow:hover:before {color: black;}#sk-container-id-1 div.sk-estimator:hover label.sk-toggleable__label-arrow:before {color: black;}#sk-container-id-1 div.sk-toggleable__content {max-height: 0;max-width: 0;overflow: hidden;text-align: left;background-color: #f0f8ff;}#sk-container-id-1 div.sk-toggleable__content pre {margin: 0.2em;color: black;border-radius: 0.25em;background-color: #f0f8ff;}#sk-container-id-1 input.sk-toggleable__control:checked~div.sk-toggleable__content {max-height: 200px;max-width: 100%;overflow: auto;}#sk-container-id-1 input.sk-toggleable__control:checked~label.sk-toggleable__label-arrow:before {content: \"▾\";}#sk-container-id-1 div.sk-estimator input.sk-toggleable__control:checked~label.sk-toggleable__label {background-color: #d4ebff;}#sk-container-id-1 div.sk-label input.sk-toggleable__control:checked~label.sk-toggleable__label {background-color: #d4ebff;}#sk-container-id-1 input.sk-hidden--visually {border: 0;clip: rect(1px 1px 1px 1px);clip: rect(1px, 1px, 1px, 1px);height: 1px;margin: -1px;overflow: hidden;padding: 0;position: absolute;width: 1px;}#sk-container-id-1 div.sk-estimator {font-family: monospace;background-color: #f0f8ff;border: 1px dotted black;border-radius: 0.25em;box-sizing: border-box;margin-bottom: 0.5em;}#sk-container-id-1 div.sk-estimator:hover {background-color: #d4ebff;}#sk-container-id-1 div.sk-parallel-item::after {content: \"\";width: 100%;border-bottom: 1px solid gray;flex-grow: 1;}#sk-container-id-1 div.sk-label:hover label.sk-toggleable__label {background-color: #d4ebff;}#sk-container-id-1 div.sk-serial::before {content: \"\";position: absolute;border-left: 1px solid gray;box-sizing: border-box;top: 0;bottom: 0;left: 50%;z-index: 0;}#sk-container-id-1 div.sk-serial {display: flex;flex-direction: column;align-items: center;background-color: white;padding-right: 0.2em;padding-left: 0.2em;position: relative;}#sk-container-id-1 div.sk-item {position: relative;z-index: 1;}#sk-container-id-1 div.sk-parallel {display: flex;align-items: stretch;justify-content: center;background-color: white;position: relative;}#sk-container-id-1 div.sk-item::before, #sk-container-id-1 div.sk-parallel-item::before {content: \"\";position: absolute;border-left: 1px solid gray;box-sizing: border-box;top: 0;bottom: 0;left: 50%;z-index: -1;}#sk-container-id-1 div.sk-parallel-item {display: flex;flex-direction: column;z-index: 1;position: relative;background-color: white;}#sk-container-id-1 div.sk-parallel-item:first-child::after {align-self: flex-end;width: 50%;}#sk-container-id-1 div.sk-parallel-item:last-child::after {align-self: flex-start;width: 50%;}#sk-container-id-1 div.sk-parallel-item:only-child::after {width: 0;}#sk-container-id-1 div.sk-dashed-wrapped {border: 1px dashed gray;margin: 0 0.4em 0.5em 0.4em;box-sizing: border-box;padding-bottom: 0.4em;background-color: white;}#sk-container-id-1 div.sk-label label {font-family: monospace;font-weight: bold;display: inline-block;line-height: 1.2em;}#sk-container-id-1 div.sk-label-container {text-align: center;}#sk-container-id-1 div.sk-container {/* jupyter's `normalize.less` sets `[hidden] { display: none; }` but bootstrap.min.css set `[hidden] { display: none !important; }` so we also need the `!important` here to be able to override the default hidden behavior on the sphinx rendered scikit-learn.org. See: https://github.com/scikit-learn/scikit-learn/issues/21755 */display: inline-block !important;position: relative;}#sk-container-id-1 div.sk-text-repr-fallback {display: none;}</style><div id=\"sk-container-id-1\" class=\"sk-top-container\"><div class=\"sk-text-repr-fallback\"><pre>ColumnTransformer(transformers=[(&#x27;num0&#x27;,\n",
       "                                 Pipeline(steps=[(&#x27;imputer&#x27;, SimpleImputer()),\n",
       "                                                 (&#x27;std_scaler&#x27;,\n",
       "                                                  StandardScaler())]),\n",
       "                                 [&#x27;ctx1&#x27;, &#x27;ctx2&#x27;, &#x27;ctx3&#x27;, &#x27;ctx4&#x27;]),\n",
       "                                (&#x27;cat0&#x27;,\n",
       "                                 Pipeline(steps=[(&#x27;imputer&#x27;,\n",
       "                                                  SimpleImputer(fill_value=nan,\n",
       "                                                                strategy=&#x27;constant&#x27;)),\n",
       "                                                 (&#x27;ordinal_encoder&#x27;,\n",
       "                                                  OrdinalEncoder(handle_unknown=&#x27;use_encoded_value&#x27;,\n",
       "                                                                 unknown_value=nan))]),\n",
       "                                 [&#x27;station_id&#x27;, &#x27;month&#x27;, &#x27;dayofweek&#x27;, &#x27;day&#x27;,\n",
       "                                  &#x27;dayofyear&#x27;, &#x27;hour&#x27;, &#x27;status&#x27;, &#x27;is_renting&#x27;,\n",
       "                                  &#x27;is_returning&#x27;])])</pre><b>In a Jupyter environment, please rerun this cell to show the HTML representation or trust the notebook. <br />On GitHub, the HTML representation is unable to render, please try loading this page with nbviewer.org.</b></div><div class=\"sk-container\" hidden><div class=\"sk-item sk-dashed-wrapped\"><div class=\"sk-label-container\"><div class=\"sk-label sk-toggleable\"><input class=\"sk-toggleable__control sk-hidden--visually\" id=\"sk-estimator-id-1\" type=\"checkbox\" ><label for=\"sk-estimator-id-1\" class=\"sk-toggleable__label sk-toggleable__label-arrow\">ColumnTransformer</label><div class=\"sk-toggleable__content\"><pre>ColumnTransformer(transformers=[(&#x27;num0&#x27;,\n",
       "                                 Pipeline(steps=[(&#x27;imputer&#x27;, SimpleImputer()),\n",
       "                                                 (&#x27;std_scaler&#x27;,\n",
       "                                                  StandardScaler())]),\n",
       "                                 [&#x27;ctx1&#x27;, &#x27;ctx2&#x27;, &#x27;ctx3&#x27;, &#x27;ctx4&#x27;]),\n",
       "                                (&#x27;cat0&#x27;,\n",
       "                                 Pipeline(steps=[(&#x27;imputer&#x27;,\n",
       "                                                  SimpleImputer(fill_value=nan,\n",
       "                                                                strategy=&#x27;constant&#x27;)),\n",
       "                                                 (&#x27;ordinal_encoder&#x27;,\n",
       "                                                  OrdinalEncoder(handle_unknown=&#x27;use_encoded_value&#x27;,\n",
       "                                                                 unknown_value=nan))]),\n",
       "                                 [&#x27;station_id&#x27;, &#x27;month&#x27;, &#x27;dayofweek&#x27;, &#x27;day&#x27;,\n",
       "                                  &#x27;dayofyear&#x27;, &#x27;hour&#x27;, &#x27;status&#x27;, &#x27;is_renting&#x27;,\n",
       "                                  &#x27;is_returning&#x27;])])</pre></div></div></div><div class=\"sk-parallel\"><div class=\"sk-parallel-item\"><div class=\"sk-item\"><div class=\"sk-label-container\"><div class=\"sk-label sk-toggleable\"><input class=\"sk-toggleable__control sk-hidden--visually\" id=\"sk-estimator-id-2\" type=\"checkbox\" ><label for=\"sk-estimator-id-2\" class=\"sk-toggleable__label sk-toggleable__label-arrow\">num0</label><div class=\"sk-toggleable__content\"><pre>[&#x27;ctx1&#x27;, &#x27;ctx2&#x27;, &#x27;ctx3&#x27;, &#x27;ctx4&#x27;]</pre></div></div></div><div class=\"sk-serial\"><div class=\"sk-item\"><div class=\"sk-serial\"><div class=\"sk-item\"><div class=\"sk-estimator sk-toggleable\"><input class=\"sk-toggleable__control sk-hidden--visually\" id=\"sk-estimator-id-3\" type=\"checkbox\" ><label for=\"sk-estimator-id-3\" class=\"sk-toggleable__label sk-toggleable__label-arrow\">SimpleImputer</label><div class=\"sk-toggleable__content\"><pre>SimpleImputer()</pre></div></div></div><div class=\"sk-item\"><div class=\"sk-estimator sk-toggleable\"><input class=\"sk-toggleable__control sk-hidden--visually\" id=\"sk-estimator-id-4\" type=\"checkbox\" ><label for=\"sk-estimator-id-4\" class=\"sk-toggleable__label sk-toggleable__label-arrow\">StandardScaler</label><div class=\"sk-toggleable__content\"><pre>StandardScaler()</pre></div></div></div></div></div></div></div></div><div class=\"sk-parallel-item\"><div class=\"sk-item\"><div class=\"sk-label-container\"><div class=\"sk-label sk-toggleable\"><input class=\"sk-toggleable__control sk-hidden--visually\" id=\"sk-estimator-id-5\" type=\"checkbox\" ><label for=\"sk-estimator-id-5\" class=\"sk-toggleable__label sk-toggleable__label-arrow\">cat0</label><div class=\"sk-toggleable__content\"><pre>[&#x27;station_id&#x27;, &#x27;month&#x27;, &#x27;dayofweek&#x27;, &#x27;day&#x27;, &#x27;dayofyear&#x27;, &#x27;hour&#x27;, &#x27;status&#x27;, &#x27;is_renting&#x27;, &#x27;is_returning&#x27;]</pre></div></div></div><div class=\"sk-serial\"><div class=\"sk-item\"><div class=\"sk-serial\"><div class=\"sk-item\"><div class=\"sk-estimator sk-toggleable\"><input class=\"sk-toggleable__control sk-hidden--visually\" id=\"sk-estimator-id-6\" type=\"checkbox\" ><label for=\"sk-estimator-id-6\" class=\"sk-toggleable__label sk-toggleable__label-arrow\">SimpleImputer</label><div class=\"sk-toggleable__content\"><pre>SimpleImputer(fill_value=nan, strategy=&#x27;constant&#x27;)</pre></div></div></div><div class=\"sk-item\"><div class=\"sk-estimator sk-toggleable\"><input class=\"sk-toggleable__control sk-hidden--visually\" id=\"sk-estimator-id-7\" type=\"checkbox\" ><label for=\"sk-estimator-id-7\" class=\"sk-toggleable__label sk-toggleable__label-arrow\">OrdinalEncoder</label><div class=\"sk-toggleable__content\"><pre>OrdinalEncoder(handle_unknown=&#x27;use_encoded_value&#x27;, unknown_value=nan)</pre></div></div></div></div></div></div></div></div></div></div></div></div>"
      ],
      "text/plain": [
       "ColumnTransformer(transformers=[('num0',\n",
       "                                 Pipeline(steps=[('imputer', SimpleImputer()),\n",
       "                                                 ('std_scaler',\n",
       "                                                  StandardScaler())]),\n",
       "                                 ['ctx1', 'ctx2', 'ctx3', 'ctx4']),\n",
       "                                ('cat0',\n",
       "                                 Pipeline(steps=[('imputer',\n",
       "                                                  SimpleImputer(fill_value=nan,\n",
       "                                                                strategy='constant')),\n",
       "                                                 ('ordinal_encoder',\n",
       "                                                  OrdinalEncoder(handle_unknown='use_encoded_value',\n",
       "                                                                 unknown_value=nan))]),\n",
       "                                 ['station_id', 'month', 'dayofweek', 'day',\n",
       "                                  'dayofyear', 'hour', 'status', 'is_renting',\n",
       "                                  'is_returning'])])"
      ]
     },
     "execution_count": 24,
     "metadata": {},
     "output_type": "execute_result"
    }
   ],
   "source": [
    "# Build pipeline\n",
    "pp = build_preprocessor(config)\n",
    "pp.fit(x_train)"
   ]
  },
  {
   "cell_type": "code",
   "execution_count": 25,
   "id": "1b99cde2",
   "metadata": {},
   "outputs": [],
   "source": [
    "from tensorflow.keras.layers import Input, Embedding, Dense, Flatten, add, Activation, dot\n",
    "from tensorflow.keras.models import Model\n",
    "from tensorflow.keras.regularizers import l2 as l2_reg\n",
    "from tensorflow.python.keras.utils.vis_utils import plot_model\n",
    "from tensorflow.keras.callbacks import EarlyStopping\n",
    "\n",
    "import itertools\n",
    "\n",
    "def build_model(category_num, category_cols, num_cols, K=8, l2=0.0, l2_fm=0.0):\n",
    "\n",
    "    # Numerical features\n",
    "    num_inputs = [Input(shape=(1,), name=col,) for col in num_cols]\n",
    "    # Categorical features\n",
    "    cat_inputs = [Input(shape=(1,), name=col,) for col in category_cols]\n",
    "\n",
    "    inputs = num_inputs + cat_inputs\n",
    "\n",
    "    flatten_layers=[]\n",
    "    # Numerical featrue embedding\n",
    "    for enc_inp, col in zip(num_inputs, num_cols):\n",
    "        # num feature dense\n",
    "        x = Dense(K, name = f'embed_{col}',kernel_regularizer=l2_reg(l2_fm))(enc_inp)\n",
    "        flatten_layers.append(x)\n",
    "\n",
    "    # Category feature embedding\n",
    "    for enc_inp, col in zip(cat_inputs, category_cols):\n",
    "        num_c = category_num[col]\n",
    "        embed_c = Embedding(input_dim=num_c,\n",
    "                            output_dim=K,\n",
    "                            input_length=1,\n",
    "                            name=f'embed_{col}',\n",
    "                            embeddings_regularizer=l2_reg(l2_fm))(enc_inp)\n",
    "        flatten_c = Flatten()(embed_c)\n",
    "        flatten_layers.append(flatten_c)\n",
    "                \n",
    "    # Feature interaction term\n",
    "    fm_layers = []\n",
    "    for emb1,emb2 in itertools.combinations(flatten_layers, 2):\n",
    "        dot_layer = dot([emb1,emb2], axes=1)\n",
    "        fm_layers.append(dot_layer)        \n",
    "\n",
    "    # Linear term\n",
    "    for enc_inp,col in zip(cat_inputs, category_cols):\n",
    "        # embedding\n",
    "        num_c = category_num[col]\n",
    "        embed_c = Embedding(input_dim=num_c,\n",
    "                            output_dim=1,\n",
    "                            input_length=1,\n",
    "                            name=f'linear_{col}',\n",
    "                            embeddings_regularizer=l2_reg(l2_fm))(enc_inp)\n",
    "        flatten_c = Flatten()(embed_c)\n",
    "        fm_layers.append(flatten_c)\n",
    "                \n",
    "    for enc_inp, col in zip(num_inputs, num_cols):\n",
    "        x = Dense(1, name = f'linear_{col}',kernel_regularizer=l2_reg(l2_fm))(enc_inp)\n",
    "        fm_layers.append(x)\n",
    "\n",
    "    # Add all terms\n",
    "    flatten = add(fm_layers)\n",
    "    outputs = Activation('linear',name='outputs')(flatten)\n",
    "    \n",
    "    model = Model(inputs=inputs, outputs=outputs)\n",
    "    return model  "
   ]
  },
  {
   "cell_type": "code",
   "execution_count": 26,
   "id": "21d9bfc8",
   "metadata": {},
   "outputs": [
    {
     "name": "stderr",
     "output_type": "stream",
     "text": [
      "2023-06-02 04:00:35.835124: I tensorflow/core/common_runtime/gpu/gpu_device.cc:1635] Created device /job:localhost/replica:0/task:0/device:GPU:0 with 9726 MB memory:  -> device: 0, name: NVIDIA RTX A2000 12GB, pci bus id: 0000:68:00.0, compute capability: 8.6\n"
     ]
    }
   ],
   "source": [
    "category_num = {col: x_train[col].nunique() for col in config.cat_attribs0}\n",
    "\n",
    "model =  build_model(category_num, config.cat_attribs0, config.num_attribs0, config.embedding_dim)# instance the model here\n",
    "\n",
    "# compile the model here\n",
    "model.compile(\n",
    "    optimizer=tf.keras.optimizers.Adam(learning_rate=config.lr, beta_1=0.9, beta_2=0.999),\n",
    "    loss=root_mean_squared_error,\n",
    "    metrics=[\n",
    "        'RootMeanSquaredError',\n",
    "        'MeanAbsoluteError',\n",
    "        'MeanSquaredError'       \n",
    "    ]\n",
    ")"
   ]
  },
  {
   "cell_type": "code",
   "execution_count": 27,
   "id": "6d5f656e",
   "metadata": {},
   "outputs": [],
   "source": [
    "# cb = [EarlyStopping(monitor='val_loss', min_delta=1e-4, patience=2, verbose=0,)]\n",
    "# tensorboard=TensorBoard(log_dir=\"Model_log\")\n",
    "# define a call back\n",
    "checkpoint_cb = keras.callbacks.ModelCheckpoint(\"./checkpoints/model.h5\", verbose=2, monitor='val_loss', save_best_only=True)\n",
    "early_stopping_cb = keras.callbacks.EarlyStopping(monitor='val_loss', min_delta=1e-4, patience=3, verbose=2, restore_best_weights=True)\n",
    "\n",
    "# Set a learning rate annealer - to have a decreasing learning rate during the training to reach efficiently the global minimum of the loss function.\n",
    "# The LR is decreased dynamically when the score is not improved. This keeps the advantage of the fast computation time with a high LR at the start.\n",
    "learning_rate_reduction = ReduceLROnPlateau(\n",
    "    monitor='val_loss',  # Track the score on the validation set\n",
    "    patience=3,  # Number of epochs in which no improvement is seen.\n",
    "    verbose=2,\n",
    "    factor=0.4,  # Factor by which the LR is multiplied.\n",
    "    min_lr=0.0000001  # Don't go below this value for LR.\n",
    ")\n",
    "\n",
    "feature_num = len(config.cat_attribs0 + config.num_attribs0)\n",
    "tra_inputs = [pp.transform(x_train)[:, i] for i in range(feature_num)]\n",
    "val_inputs = [pp.transform(x_test)[:, i] for i in range(feature_num)]"
   ]
  },
  {
   "cell_type": "code",
   "execution_count": 29,
   "id": "eb928a31",
   "metadata": {
    "scrolled": true
   },
   "outputs": [
    {
     "name": "stdout",
     "output_type": "stream",
     "text": [
      "Model: \"model\"\n",
      "__________________________________________________________________________________________________\n",
      " Layer (type)                   Output Shape         Param #     Connected to                     \n",
      "==================================================================================================\n",
      " station_id (InputLayer)        [(None, 1)]          0           []                               \n",
      "                                                                                                  \n",
      " month (InputLayer)             [(None, 1)]          0           []                               \n",
      "                                                                                                  \n",
      " dayofweek (InputLayer)         [(None, 1)]          0           []                               \n",
      "                                                                                                  \n",
      " day (InputLayer)               [(None, 1)]          0           []                               \n",
      "                                                                                                  \n",
      " dayofyear (InputLayer)         [(None, 1)]          0           []                               \n",
      "                                                                                                  \n",
      " hour (InputLayer)              [(None, 1)]          0           []                               \n",
      "                                                                                                  \n",
      " status (InputLayer)            [(None, 1)]          0           []                               \n",
      "                                                                                                  \n",
      " is_renting (InputLayer)        [(None, 1)]          0           []                               \n",
      "                                                                                                  \n",
      " is_returning (InputLayer)      [(None, 1)]          0           []                               \n",
      "                                                                                                  \n",
      " ctx1 (InputLayer)              [(None, 1)]          0           []                               \n",
      "                                                                                                  \n",
      " ctx2 (InputLayer)              [(None, 1)]          0           []                               \n",
      "                                                                                                  \n",
      " ctx3 (InputLayer)              [(None, 1)]          0           []                               \n",
      "                                                                                                  \n",
      " ctx4 (InputLayer)              [(None, 1)]          0           []                               \n",
      "                                                                                                  \n",
      " embed_station_id (Embedding)   (None, 1, 8)         3264        ['station_id[0][0]']             \n",
      "                                                                                                  \n",
      " embed_month (Embedding)        (None, 1, 8)         96          ['month[0][0]']                  \n",
      "                                                                                                  \n",
      " embed_dayofweek (Embedding)    (None, 1, 8)         56          ['dayofweek[0][0]']              \n",
      "                                                                                                  \n",
      " embed_day (Embedding)          (None, 1, 8)         248         ['day[0][0]']                    \n",
      "                                                                                                  \n",
      " embed_dayofyear (Embedding)    (None, 1, 8)         2920        ['dayofyear[0][0]']              \n",
      "                                                                                                  \n",
      " embed_hour (Embedding)         (None, 1, 8)         192         ['hour[0][0]']                   \n",
      "                                                                                                  \n",
      " embed_status (Embedding)       (None, 1, 8)         16          ['status[0][0]']                 \n",
      "                                                                                                  \n",
      " embed_is_renting (Embedding)   (None, 1, 8)         16          ['is_renting[0][0]']             \n",
      "                                                                                                  \n",
      " embed_is_returning (Embedding)  (None, 1, 8)        16          ['is_returning[0][0]']           \n",
      "                                                                                                  \n",
      " embed_ctx1 (Dense)             (None, 8)            16          ['ctx1[0][0]']                   \n",
      "                                                                                                  \n",
      " embed_ctx2 (Dense)             (None, 8)            16          ['ctx2[0][0]']                   \n",
      "                                                                                                  \n",
      " embed_ctx3 (Dense)             (None, 8)            16          ['ctx3[0][0]']                   \n",
      "                                                                                                  \n",
      " embed_ctx4 (Dense)             (None, 8)            16          ['ctx4[0][0]']                   \n",
      "                                                                                                  \n",
      " flatten (Flatten)              (None, 8)            0           ['embed_station_id[0][0]']       \n",
      "                                                                                                  \n",
      " flatten_1 (Flatten)            (None, 8)            0           ['embed_month[0][0]']            \n",
      "                                                                                                  \n",
      " flatten_2 (Flatten)            (None, 8)            0           ['embed_dayofweek[0][0]']        \n",
      "                                                                                                  \n",
      " flatten_3 (Flatten)            (None, 8)            0           ['embed_day[0][0]']              \n",
      "                                                                                                  \n",
      " flatten_4 (Flatten)            (None, 8)            0           ['embed_dayofyear[0][0]']        \n",
      "                                                                                                  \n",
      " flatten_5 (Flatten)            (None, 8)            0           ['embed_hour[0][0]']             \n",
      "                                                                                                  \n",
      " flatten_6 (Flatten)            (None, 8)            0           ['embed_status[0][0]']           \n",
      "                                                                                                  \n",
      " flatten_7 (Flatten)            (None, 8)            0           ['embed_is_renting[0][0]']       \n",
      "                                                                                                  \n",
      " flatten_8 (Flatten)            (None, 8)            0           ['embed_is_returning[0][0]']     \n",
      "                                                                                                  \n",
      " linear_station_id (Embedding)  (None, 1, 1)         408         ['station_id[0][0]']             \n",
      "                                                                                                  \n",
      " linear_month (Embedding)       (None, 1, 1)         12          ['month[0][0]']                  \n",
      "                                                                                                  \n",
      " linear_dayofweek (Embedding)   (None, 1, 1)         7           ['dayofweek[0][0]']              \n",
      "                                                                                                  \n",
      " linear_day (Embedding)         (None, 1, 1)         31          ['day[0][0]']                    \n",
      "                                                                                                  \n",
      " linear_dayofyear (Embedding)   (None, 1, 1)         365         ['dayofyear[0][0]']              \n",
      "                                                                                                  \n"
     ]
    },
    {
     "name": "stdout",
     "output_type": "stream",
     "text": [
      " linear_hour (Embedding)        (None, 1, 1)         24          ['hour[0][0]']                   \n",
      "                                                                                                  \n",
      " linear_status (Embedding)      (None, 1, 1)         2           ['status[0][0]']                 \n",
      "                                                                                                  \n",
      " linear_is_renting (Embedding)  (None, 1, 1)         2           ['is_renting[0][0]']             \n",
      "                                                                                                  \n",
      " linear_is_returning (Embedding  (None, 1, 1)        2           ['is_returning[0][0]']           \n",
      " )                                                                                                \n",
      "                                                                                                  \n",
      " dot (Dot)                      (None, 1)            0           ['embed_ctx1[0][0]',             \n",
      "                                                                  'embed_ctx2[0][0]']             \n",
      "                                                                                                  \n",
      " dot_1 (Dot)                    (None, 1)            0           ['embed_ctx1[0][0]',             \n",
      "                                                                  'embed_ctx3[0][0]']             \n",
      "                                                                                                  \n",
      " dot_2 (Dot)                    (None, 1)            0           ['embed_ctx1[0][0]',             \n",
      "                                                                  'embed_ctx4[0][0]']             \n",
      "                                                                                                  \n",
      " dot_3 (Dot)                    (None, 1)            0           ['embed_ctx1[0][0]',             \n",
      "                                                                  'flatten[0][0]']                \n",
      "                                                                                                  \n",
      " dot_4 (Dot)                    (None, 1)            0           ['embed_ctx1[0][0]',             \n",
      "                                                                  'flatten_1[0][0]']              \n",
      "                                                                                                  \n",
      " dot_5 (Dot)                    (None, 1)            0           ['embed_ctx1[0][0]',             \n",
      "                                                                  'flatten_2[0][0]']              \n",
      "                                                                                                  \n",
      " dot_6 (Dot)                    (None, 1)            0           ['embed_ctx1[0][0]',             \n",
      "                                                                  'flatten_3[0][0]']              \n",
      "                                                                                                  \n",
      " dot_7 (Dot)                    (None, 1)            0           ['embed_ctx1[0][0]',             \n",
      "                                                                  'flatten_4[0][0]']              \n",
      "                                                                                                  \n",
      " dot_8 (Dot)                    (None, 1)            0           ['embed_ctx1[0][0]',             \n",
      "                                                                  'flatten_5[0][0]']              \n",
      "                                                                                                  \n",
      " dot_9 (Dot)                    (None, 1)            0           ['embed_ctx1[0][0]',             \n",
      "                                                                  'flatten_6[0][0]']              \n",
      "                                                                                                  \n",
      " dot_10 (Dot)                   (None, 1)            0           ['embed_ctx1[0][0]',             \n",
      "                                                                  'flatten_7[0][0]']              \n",
      "                                                                                                  \n",
      " dot_11 (Dot)                   (None, 1)            0           ['embed_ctx1[0][0]',             \n",
      "                                                                  'flatten_8[0][0]']              \n",
      "                                                                                                  \n",
      " dot_12 (Dot)                   (None, 1)            0           ['embed_ctx2[0][0]',             \n",
      "                                                                  'embed_ctx3[0][0]']             \n",
      "                                                                                                  \n",
      " dot_13 (Dot)                   (None, 1)            0           ['embed_ctx2[0][0]',             \n",
      "                                                                  'embed_ctx4[0][0]']             \n",
      "                                                                                                  \n",
      " dot_14 (Dot)                   (None, 1)            0           ['embed_ctx2[0][0]',             \n",
      "                                                                  'flatten[0][0]']                \n",
      "                                                                                                  \n",
      " dot_15 (Dot)                   (None, 1)            0           ['embed_ctx2[0][0]',             \n",
      "                                                                  'flatten_1[0][0]']              \n",
      "                                                                                                  \n",
      " dot_16 (Dot)                   (None, 1)            0           ['embed_ctx2[0][0]',             \n",
      "                                                                  'flatten_2[0][0]']              \n",
      "                                                                                                  \n",
      " dot_17 (Dot)                   (None, 1)            0           ['embed_ctx2[0][0]',             \n",
      "                                                                  'flatten_3[0][0]']              \n",
      "                                                                                                  \n",
      " dot_18 (Dot)                   (None, 1)            0           ['embed_ctx2[0][0]',             \n",
      "                                                                  'flatten_4[0][0]']              \n",
      "                                                                                                  \n",
      " dot_19 (Dot)                   (None, 1)            0           ['embed_ctx2[0][0]',             \n",
      "                                                                  'flatten_5[0][0]']              \n",
      "                                                                                                  \n",
      " dot_20 (Dot)                   (None, 1)            0           ['embed_ctx2[0][0]',             \n",
      "                                                                  'flatten_6[0][0]']              \n",
      "                                                                                                  \n",
      " dot_21 (Dot)                   (None, 1)            0           ['embed_ctx2[0][0]',             \n",
      "                                                                  'flatten_7[0][0]']              \n",
      "                                                                                                  \n",
      " dot_22 (Dot)                   (None, 1)            0           ['embed_ctx2[0][0]',             \n",
      "                                                                  'flatten_8[0][0]']              \n",
      "                                                                                                  \n",
      " dot_23 (Dot)                   (None, 1)            0           ['embed_ctx3[0][0]',             \n",
      "                                                                  'embed_ctx4[0][0]']             \n",
      "                                                                                                  \n",
      " dot_24 (Dot)                   (None, 1)            0           ['embed_ctx3[0][0]',             \n",
      "                                                                  'flatten[0][0]']                \n"
     ]
    },
    {
     "name": "stdout",
     "output_type": "stream",
     "text": [
      "                                                                                                  \n",
      " dot_25 (Dot)                   (None, 1)            0           ['embed_ctx3[0][0]',             \n",
      "                                                                  'flatten_1[0][0]']              \n",
      "                                                                                                  \n",
      " dot_26 (Dot)                   (None, 1)            0           ['embed_ctx3[0][0]',             \n",
      "                                                                  'flatten_2[0][0]']              \n",
      "                                                                                                  \n",
      " dot_27 (Dot)                   (None, 1)            0           ['embed_ctx3[0][0]',             \n",
      "                                                                  'flatten_3[0][0]']              \n",
      "                                                                                                  \n",
      " dot_28 (Dot)                   (None, 1)            0           ['embed_ctx3[0][0]',             \n",
      "                                                                  'flatten_4[0][0]']              \n",
      "                                                                                                  \n",
      " dot_29 (Dot)                   (None, 1)            0           ['embed_ctx3[0][0]',             \n",
      "                                                                  'flatten_5[0][0]']              \n",
      "                                                                                                  \n",
      " dot_30 (Dot)                   (None, 1)            0           ['embed_ctx3[0][0]',             \n",
      "                                                                  'flatten_6[0][0]']              \n",
      "                                                                                                  \n",
      " dot_31 (Dot)                   (None, 1)            0           ['embed_ctx3[0][0]',             \n",
      "                                                                  'flatten_7[0][0]']              \n",
      "                                                                                                  \n",
      " dot_32 (Dot)                   (None, 1)            0           ['embed_ctx3[0][0]',             \n",
      "                                                                  'flatten_8[0][0]']              \n",
      "                                                                                                  \n",
      " dot_33 (Dot)                   (None, 1)            0           ['embed_ctx4[0][0]',             \n",
      "                                                                  'flatten[0][0]']                \n",
      "                                                                                                  \n",
      " dot_34 (Dot)                   (None, 1)            0           ['embed_ctx4[0][0]',             \n",
      "                                                                  'flatten_1[0][0]']              \n",
      "                                                                                                  \n",
      " dot_35 (Dot)                   (None, 1)            0           ['embed_ctx4[0][0]',             \n",
      "                                                                  'flatten_2[0][0]']              \n",
      "                                                                                                  \n",
      " dot_36 (Dot)                   (None, 1)            0           ['embed_ctx4[0][0]',             \n",
      "                                                                  'flatten_3[0][0]']              \n",
      "                                                                                                  \n",
      " dot_37 (Dot)                   (None, 1)            0           ['embed_ctx4[0][0]',             \n",
      "                                                                  'flatten_4[0][0]']              \n",
      "                                                                                                  \n",
      " dot_38 (Dot)                   (None, 1)            0           ['embed_ctx4[0][0]',             \n",
      "                                                                  'flatten_5[0][0]']              \n",
      "                                                                                                  \n",
      " dot_39 (Dot)                   (None, 1)            0           ['embed_ctx4[0][0]',             \n",
      "                                                                  'flatten_6[0][0]']              \n",
      "                                                                                                  \n",
      " dot_40 (Dot)                   (None, 1)            0           ['embed_ctx4[0][0]',             \n",
      "                                                                  'flatten_7[0][0]']              \n",
      "                                                                                                  \n",
      " dot_41 (Dot)                   (None, 1)            0           ['embed_ctx4[0][0]',             \n",
      "                                                                  'flatten_8[0][0]']              \n",
      "                                                                                                  \n",
      " dot_42 (Dot)                   (None, 1)            0           ['flatten[0][0]',                \n",
      "                                                                  'flatten_1[0][0]']              \n",
      "                                                                                                  \n",
      " dot_43 (Dot)                   (None, 1)            0           ['flatten[0][0]',                \n",
      "                                                                  'flatten_2[0][0]']              \n",
      "                                                                                                  \n",
      " dot_44 (Dot)                   (None, 1)            0           ['flatten[0][0]',                \n",
      "                                                                  'flatten_3[0][0]']              \n",
      "                                                                                                  \n",
      " dot_45 (Dot)                   (None, 1)            0           ['flatten[0][0]',                \n",
      "                                                                  'flatten_4[0][0]']              \n",
      "                                                                                                  \n",
      " dot_46 (Dot)                   (None, 1)            0           ['flatten[0][0]',                \n",
      "                                                                  'flatten_5[0][0]']              \n",
      "                                                                                                  \n",
      " dot_47 (Dot)                   (None, 1)            0           ['flatten[0][0]',                \n",
      "                                                                  'flatten_6[0][0]']              \n",
      "                                                                                                  \n",
      " dot_48 (Dot)                   (None, 1)            0           ['flatten[0][0]',                \n",
      "                                                                  'flatten_7[0][0]']              \n",
      "                                                                                                  \n",
      " dot_49 (Dot)                   (None, 1)            0           ['flatten[0][0]',                \n",
      "                                                                  'flatten_8[0][0]']              \n",
      "                                                                                                  \n",
      " dot_50 (Dot)                   (None, 1)            0           ['flatten_1[0][0]',              \n",
      "                                                                  'flatten_2[0][0]']              \n",
      "                                                                                                  \n",
      " dot_51 (Dot)                   (None, 1)            0           ['flatten_1[0][0]',              \n",
      "                                                                  'flatten_3[0][0]']              \n",
      "                                                                                                  \n",
      " dot_52 (Dot)                   (None, 1)            0           ['flatten_1[0][0]',              \n"
     ]
    },
    {
     "name": "stdout",
     "output_type": "stream",
     "text": [
      "                                                                  'flatten_4[0][0]']              \n",
      "                                                                                                  \n",
      " dot_53 (Dot)                   (None, 1)            0           ['flatten_1[0][0]',              \n",
      "                                                                  'flatten_5[0][0]']              \n",
      "                                                                                                  \n",
      " dot_54 (Dot)                   (None, 1)            0           ['flatten_1[0][0]',              \n",
      "                                                                  'flatten_6[0][0]']              \n",
      "                                                                                                  \n",
      " dot_55 (Dot)                   (None, 1)            0           ['flatten_1[0][0]',              \n",
      "                                                                  'flatten_7[0][0]']              \n",
      "                                                                                                  \n",
      " dot_56 (Dot)                   (None, 1)            0           ['flatten_1[0][0]',              \n",
      "                                                                  'flatten_8[0][0]']              \n",
      "                                                                                                  \n",
      " dot_57 (Dot)                   (None, 1)            0           ['flatten_2[0][0]',              \n",
      "                                                                  'flatten_3[0][0]']              \n",
      "                                                                                                  \n",
      " dot_58 (Dot)                   (None, 1)            0           ['flatten_2[0][0]',              \n",
      "                                                                  'flatten_4[0][0]']              \n",
      "                                                                                                  \n",
      " dot_59 (Dot)                   (None, 1)            0           ['flatten_2[0][0]',              \n",
      "                                                                  'flatten_5[0][0]']              \n",
      "                                                                                                  \n",
      " dot_60 (Dot)                   (None, 1)            0           ['flatten_2[0][0]',              \n",
      "                                                                  'flatten_6[0][0]']              \n",
      "                                                                                                  \n",
      " dot_61 (Dot)                   (None, 1)            0           ['flatten_2[0][0]',              \n",
      "                                                                  'flatten_7[0][0]']              \n",
      "                                                                                                  \n",
      " dot_62 (Dot)                   (None, 1)            0           ['flatten_2[0][0]',              \n",
      "                                                                  'flatten_8[0][0]']              \n",
      "                                                                                                  \n",
      " dot_63 (Dot)                   (None, 1)            0           ['flatten_3[0][0]',              \n",
      "                                                                  'flatten_4[0][0]']              \n",
      "                                                                                                  \n",
      " dot_64 (Dot)                   (None, 1)            0           ['flatten_3[0][0]',              \n",
      "                                                                  'flatten_5[0][0]']              \n",
      "                                                                                                  \n",
      " dot_65 (Dot)                   (None, 1)            0           ['flatten_3[0][0]',              \n",
      "                                                                  'flatten_6[0][0]']              \n",
      "                                                                                                  \n",
      " dot_66 (Dot)                   (None, 1)            0           ['flatten_3[0][0]',              \n",
      "                                                                  'flatten_7[0][0]']              \n",
      "                                                                                                  \n",
      " dot_67 (Dot)                   (None, 1)            0           ['flatten_3[0][0]',              \n",
      "                                                                  'flatten_8[0][0]']              \n",
      "                                                                                                  \n",
      " dot_68 (Dot)                   (None, 1)            0           ['flatten_4[0][0]',              \n",
      "                                                                  'flatten_5[0][0]']              \n",
      "                                                                                                  \n",
      " dot_69 (Dot)                   (None, 1)            0           ['flatten_4[0][0]',              \n",
      "                                                                  'flatten_6[0][0]']              \n",
      "                                                                                                  \n",
      " dot_70 (Dot)                   (None, 1)            0           ['flatten_4[0][0]',              \n",
      "                                                                  'flatten_7[0][0]']              \n",
      "                                                                                                  \n",
      " dot_71 (Dot)                   (None, 1)            0           ['flatten_4[0][0]',              \n",
      "                                                                  'flatten_8[0][0]']              \n",
      "                                                                                                  \n",
      " dot_72 (Dot)                   (None, 1)            0           ['flatten_5[0][0]',              \n",
      "                                                                  'flatten_6[0][0]']              \n",
      "                                                                                                  \n",
      " dot_73 (Dot)                   (None, 1)            0           ['flatten_5[0][0]',              \n",
      "                                                                  'flatten_7[0][0]']              \n",
      "                                                                                                  \n",
      " dot_74 (Dot)                   (None, 1)            0           ['flatten_5[0][0]',              \n",
      "                                                                  'flatten_8[0][0]']              \n",
      "                                                                                                  \n",
      " dot_75 (Dot)                   (None, 1)            0           ['flatten_6[0][0]',              \n",
      "                                                                  'flatten_7[0][0]']              \n",
      "                                                                                                  \n",
      " dot_76 (Dot)                   (None, 1)            0           ['flatten_6[0][0]',              \n",
      "                                                                  'flatten_8[0][0]']              \n",
      "                                                                                                  \n",
      " dot_77 (Dot)                   (None, 1)            0           ['flatten_7[0][0]',              \n",
      "                                                                  'flatten_8[0][0]']              \n",
      "                                                                                                  \n",
      " flatten_9 (Flatten)            (None, 1)            0           ['linear_station_id[0][0]']      \n",
      "                                                                                                  \n",
      " flatten_10 (Flatten)           (None, 1)            0           ['linear_month[0][0]']           \n",
      "                                                                                                  \n",
      " flatten_11 (Flatten)           (None, 1)            0           ['linear_dayofweek[0][0]']       \n",
      "                                                                                                  \n"
     ]
    },
    {
     "name": "stdout",
     "output_type": "stream",
     "text": [
      " flatten_12 (Flatten)           (None, 1)            0           ['linear_day[0][0]']             \n",
      "                                                                                                  \n",
      " flatten_13 (Flatten)           (None, 1)            0           ['linear_dayofyear[0][0]']       \n",
      "                                                                                                  \n",
      " flatten_14 (Flatten)           (None, 1)            0           ['linear_hour[0][0]']            \n",
      "                                                                                                  \n",
      " flatten_15 (Flatten)           (None, 1)            0           ['linear_status[0][0]']          \n",
      "                                                                                                  \n",
      " flatten_16 (Flatten)           (None, 1)            0           ['linear_is_renting[0][0]']      \n",
      "                                                                                                  \n",
      " flatten_17 (Flatten)           (None, 1)            0           ['linear_is_returning[0][0]']    \n",
      "                                                                                                  \n",
      " linear_ctx1 (Dense)            (None, 1)            2           ['ctx1[0][0]']                   \n",
      "                                                                                                  \n",
      " linear_ctx2 (Dense)            (None, 1)            2           ['ctx2[0][0]']                   \n",
      "                                                                                                  \n",
      " linear_ctx3 (Dense)            (None, 1)            2           ['ctx3[0][0]']                   \n",
      "                                                                                                  \n",
      " linear_ctx4 (Dense)            (None, 1)            2           ['ctx4[0][0]']                   \n",
      "                                                                                                  \n",
      " add (Add)                      (None, 1)            0           ['dot[0][0]',                    \n",
      "                                                                  'dot_1[0][0]',                  \n",
      "                                                                  'dot_2[0][0]',                  \n",
      "                                                                  'dot_3[0][0]',                  \n",
      "                                                                  'dot_4[0][0]',                  \n",
      "                                                                  'dot_5[0][0]',                  \n",
      "                                                                  'dot_6[0][0]',                  \n",
      "                                                                  'dot_7[0][0]',                  \n",
      "                                                                  'dot_8[0][0]',                  \n",
      "                                                                  'dot_9[0][0]',                  \n",
      "                                                                  'dot_10[0][0]',                 \n",
      "                                                                  'dot_11[0][0]',                 \n",
      "                                                                  'dot_12[0][0]',                 \n",
      "                                                                  'dot_13[0][0]',                 \n",
      "                                                                  'dot_14[0][0]',                 \n",
      "                                                                  'dot_15[0][0]',                 \n",
      "                                                                  'dot_16[0][0]',                 \n",
      "                                                                  'dot_17[0][0]',                 \n",
      "                                                                  'dot_18[0][0]',                 \n",
      "                                                                  'dot_19[0][0]',                 \n",
      "                                                                  'dot_20[0][0]',                 \n",
      "                                                                  'dot_21[0][0]',                 \n",
      "                                                                  'dot_22[0][0]',                 \n",
      "                                                                  'dot_23[0][0]',                 \n",
      "                                                                  'dot_24[0][0]',                 \n",
      "                                                                  'dot_25[0][0]',                 \n",
      "                                                                  'dot_26[0][0]',                 \n",
      "                                                                  'dot_27[0][0]',                 \n",
      "                                                                  'dot_28[0][0]',                 \n",
      "                                                                  'dot_29[0][0]',                 \n",
      "                                                                  'dot_30[0][0]',                 \n",
      "                                                                  'dot_31[0][0]',                 \n",
      "                                                                  'dot_32[0][0]',                 \n",
      "                                                                  'dot_33[0][0]',                 \n",
      "                                                                  'dot_34[0][0]',                 \n",
      "                                                                  'dot_35[0][0]',                 \n",
      "                                                                  'dot_36[0][0]',                 \n",
      "                                                                  'dot_37[0][0]',                 \n",
      "                                                                  'dot_38[0][0]',                 \n",
      "                                                                  'dot_39[0][0]',                 \n",
      "                                                                  'dot_40[0][0]',                 \n",
      "                                                                  'dot_41[0][0]',                 \n",
      "                                                                  'dot_42[0][0]',                 \n",
      "                                                                  'dot_43[0][0]',                 \n",
      "                                                                  'dot_44[0][0]',                 \n",
      "                                                                  'dot_45[0][0]',                 \n",
      "                                                                  'dot_46[0][0]',                 \n",
      "                                                                  'dot_47[0][0]',                 \n",
      "                                                                  'dot_48[0][0]',                 \n",
      "                                                                  'dot_49[0][0]',                 \n",
      "                                                                  'dot_50[0][0]',                 \n",
      "                                                                  'dot_51[0][0]',                 \n",
      "                                                                  'dot_52[0][0]',                 \n",
      "                                                                  'dot_53[0][0]',                 \n",
      "                                                                  'dot_54[0][0]',                 \n",
      "                                                                  'dot_55[0][0]',                 \n",
      "                                                                  'dot_56[0][0]',                 \n",
      "                                                                  'dot_57[0][0]',                 \n",
      "                                                                  'dot_58[0][0]',                 \n",
      "                                                                  'dot_59[0][0]',                 \n",
      "                                                                  'dot_60[0][0]',                 \n",
      "                                                                  'dot_61[0][0]',                 \n",
      "                                                                  'dot_62[0][0]',                 \n"
     ]
    },
    {
     "name": "stdout",
     "output_type": "stream",
     "text": [
      "                                                                  'dot_63[0][0]',                 \n",
      "                                                                  'dot_64[0][0]',                 \n",
      "                                                                  'dot_65[0][0]',                 \n",
      "                                                                  'dot_66[0][0]',                 \n",
      "                                                                  'dot_67[0][0]',                 \n",
      "                                                                  'dot_68[0][0]',                 \n",
      "                                                                  'dot_69[0][0]',                 \n",
      "                                                                  'dot_70[0][0]',                 \n",
      "                                                                  'dot_71[0][0]',                 \n",
      "                                                                  'dot_72[0][0]',                 \n",
      "                                                                  'dot_73[0][0]',                 \n",
      "                                                                  'dot_74[0][0]',                 \n",
      "                                                                  'dot_75[0][0]',                 \n",
      "                                                                  'dot_76[0][0]',                 \n",
      "                                                                  'dot_77[0][0]',                 \n",
      "                                                                  'flatten_9[0][0]',              \n",
      "                                                                  'flatten_10[0][0]',             \n",
      "                                                                  'flatten_11[0][0]',             \n",
      "                                                                  'flatten_12[0][0]',             \n",
      "                                                                  'flatten_13[0][0]',             \n",
      "                                                                  'flatten_14[0][0]',             \n",
      "                                                                  'flatten_15[0][0]',             \n",
      "                                                                  'flatten_16[0][0]',             \n",
      "                                                                  'flatten_17[0][0]',             \n",
      "                                                                  'linear_ctx1[0][0]',            \n",
      "                                                                  'linear_ctx2[0][0]',            \n",
      "                                                                  'linear_ctx3[0][0]',            \n",
      "                                                                  'linear_ctx4[0][0]']            \n",
      "                                                                                                  \n",
      " outputs (Activation)           (None, 1)            0           ['add[0][0]']                    \n",
      "                                                                                                  \n",
      "==================================================================================================\n",
      "Total params: 7,749\n",
      "Trainable params: 7,749\n",
      "Non-trainable params: 0\n",
      "__________________________________________________________________________________________________\n"
     ]
    }
   ],
   "source": [
    "model.summary()"
   ]
  },
  {
   "cell_type": "code",
   "execution_count": 30,
   "id": "37d3278d",
   "metadata": {},
   "outputs": [
    {
     "name": "stdout",
     "output_type": "stream",
     "text": [
      "You must install pydot (`pip install pydot`) and install graphviz (see instructions at https://graphviz.gitlab.io/download/) for plot_model to work.\n"
     ]
    }
   ],
   "source": [
    "keras.utils.plot_model(model, \"model.png\", show_shapes=True)"
   ]
  },
  {
   "cell_type": "code",
   "execution_count": null,
   "id": "208ce50c",
   "metadata": {},
   "outputs": [
    {
     "name": "stdout",
     "output_type": "stream",
     "text": [
      "Epoch 1/10\n"
     ]
    },
    {
     "name": "stderr",
     "output_type": "stream",
     "text": [
      "2023-06-02 04:02:45.243743: I tensorflow/core/common_runtime/executor.cc:1197] [/device:CPU:0] (DEBUG INFO) Executor start aborting (this does not indicate an error and you can ignore this message): INVALID_ARGUMENT: You must feed a value for placeholder tensor 'Placeholder/_15' with dtype float and shape [10100285]\n",
      "\t [[{{node Placeholder/_15}}]]\n",
      "2023-06-02 04:02:45.245128: I tensorflow/core/common_runtime/executor.cc:1197] [/device:CPU:0] (DEBUG INFO) Executor start aborting (this does not indicate an error and you can ignore this message): INVALID_ARGUMENT: You must feed a value for placeholder tensor 'Placeholder/_21' with dtype float and shape [10100285]\n",
      "\t [[{{node Placeholder/_21}}]]\n",
      "2023-06-02 04:02:53.539403: I tensorflow/compiler/xla/stream_executor/cuda/cuda_blas.cc:637] TensorFloat-32 will be used for the matrix multiplication. This will only be logged once.\n",
      "2023-06-02 04:02:53.769284: I tensorflow/compiler/xla/service/service.cc:169] XLA service 0x7f9ee45eda60 initialized for platform CUDA (this does not guarantee that XLA will be used). Devices:\n",
      "2023-06-02 04:02:53.769304: I tensorflow/compiler/xla/service/service.cc:177]   StreamExecutor device (0): NVIDIA RTX A2000 12GB, Compute Capability 8.6\n",
      "2023-06-02 04:02:53.793179: I tensorflow/compiler/mlir/tensorflow/utils/dump_mlir_util.cc:269] disabling MLIR crash reproducer, set env var `MLIR_CRASH_REPRODUCER_DIRECTORY` to enable.\n",
      "2023-06-02 04:02:54.087814: I tensorflow/compiler/xla/stream_executor/cuda/cuda_dnn.cc:424] Loaded cuDNN version 8901\n",
      "2023-06-02 04:02:54.396988: I ./tensorflow/compiler/jit/device_compiler.h:180] Compiled cluster using XLA!  This line is logged at most once for the lifetime of the process.\n"
     ]
    },
    {
     "name": "stdout",
     "output_type": "stream",
     "text": [
      "33918/78909 [===========>..................] - ETA: 12:17 - loss: 0.1129 - root_mean_squared_error: 0.1150 - mean_absolute_error: 0.0770 - mean_squared_error: 0.0132"
     ]
    }
   ],
   "source": [
    "history = model.fit(\n",
    "    x=tra_inputs,\n",
    "    y=y_train,\n",
    "    epochs= config.epochs+5,\n",
    "    batch_size=config.batch_size ,\n",
    "    validation_data=(val_inputs ,y_test),\n",
    "    callbacks=[checkpoint_cb, early_stopping_cb]\n",
    ")\n"
   ]
  },
  {
   "cell_type": "code",
   "execution_count": null,
   "id": "91679aa4",
   "metadata": {},
   "outputs": [],
   "source": [
    "plot_history(history)"
   ]
  },
  {
   "cell_type": "code",
   "execution_count": null,
   "id": "1ba6d75d",
   "metadata": {},
   "outputs": [],
   "source": [
    "# It can be used to reconstruct the model identically.\n",
    "best_model = keras.models.load_model(\"checkpoints/model.h5\", custom_objects={'root_mean_squared_error': root_mean_squared_error}, compile=True)\n",
    "\n",
    "# Let's check:\n",
    "np.testing.assert_allclose(\n",
    "    final_model.predict(X_test), best_model.predict(X_test)\n",
    ")"
   ]
  },
  {
   "cell_type": "code",
   "execution_count": null,
   "id": "094b3467",
   "metadata": {},
   "outputs": [],
   "source": []
  },
  {
   "cell_type": "code",
   "execution_count": null,
   "id": "64dd9315",
   "metadata": {},
   "outputs": [],
   "source": []
  },
  {
   "cell_type": "markdown",
   "id": "7f393740",
   "metadata": {},
   "source": [
    "# Datos adicionales\n",
    "Tiempo, festivos Barcelona"
   ]
  },
  {
   "cell_type": "code",
   "execution_count": null,
   "id": "fa956741",
   "metadata": {},
   "outputs": [],
   "source": []
  }
 ],
 "metadata": {
  "kernelspec": {
   "display_name": "Python 3 (ipykernel)",
   "language": "python",
   "name": "python3"
  },
  "language_info": {
   "codemirror_mode": {
    "name": "ipython",
    "version": 3
   },
   "file_extension": ".py",
   "mimetype": "text/x-python",
   "name": "python",
   "nbconvert_exporter": "python",
   "pygments_lexer": "ipython3",
   "version": "3.8.16"
  }
 },
 "nbformat": 4,
 "nbformat_minor": 5
}
