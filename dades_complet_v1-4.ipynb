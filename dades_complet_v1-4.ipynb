{
 "cells": [
  {
   "cell_type": "code",
   "execution_count": 1,
   "id": "886f34aa",
   "metadata": {},
   "outputs": [
    {
     "data": {
      "text/html": [
       "<style>.container { width:80% !important; }</style>"
      ],
      "text/plain": [
       "<IPython.core.display.HTML object>"
      ]
     },
     "metadata": {},
     "output_type": "display_data"
    }
   ],
   "source": [
    "from IPython.display import display, HTML\n",
    "display(HTML(\"<style>.container { width:80% !important; }</style>\"))\n",
    "\n",
    "import os\n",
    "\n",
    "# Python ≥3.5 is required\n",
    "import sys\n",
    "assert sys.version_info >= (3, 5)\n",
    "\n",
    "# Scikit-Learn ≥0.20 is required\n",
    "import sklearn\n",
    "assert sklearn.__version__ >= \"0.20\"\n",
    "\n",
    "from sklearn.ensemble import RandomForestRegressor\n",
    "from sklearn.ensemble import GradientBoostingRegressor\n",
    "from sklearn.model_selection import cross_val_score\n",
    "from sklearn.metrics import mean_squared_error, r2_score\n",
    "from sklearn.metrics import mean_absolute_error\n",
    "\n",
    "import pandas as pd\n",
    "import numpy as np\n",
    "pd.set_option('display.max_columns', None)\n",
    "\n",
    "# To plot pretty figures\n",
    "%matplotlib inline\n",
    "import matplotlib as mpl\n",
    "import matplotlib.pyplot as plt\n",
    "\n",
    "import scipy.stats as stats\n",
    "\n",
    "import seaborn as sns\n",
    "\n",
    "from datetime import datetime\n",
    "\n",
    "import re\n",
    "\n",
    "from tqdm.notebook import tqdm\n",
    "\n",
    "import dask.dataframe as dd\n",
    "from dask.distributed import Client\n",
    "\n",
    "sys.path.insert(0, 'tools/')\n",
    "\n",
    "from tools import * "
   ]
  },
  {
   "cell_type": "code",
   "execution_count": 2,
   "id": "ff432c75",
   "metadata": {},
   "outputs": [
    {
     "data": {
      "text/html": [
       "<div>\n",
       "    <div style=\"width: 24px; height: 24px; background-color: #e1e1e1; border: 3px solid #9D9D9D; border-radius: 5px; position: absolute;\"> </div>\n",
       "    <div style=\"margin-left: 48px;\">\n",
       "        <h3 style=\"margin-bottom: 0px;\">Client</h3>\n",
       "        <p style=\"color: #9D9D9D; margin-bottom: 0px;\">Client-a675405e-02ff-11ee-abe0-87f837d34815</p>\n",
       "        <table style=\"width: 100%; text-align: left;\">\n",
       "\n",
       "        <tr>\n",
       "        \n",
       "            <td style=\"text-align: left;\"><strong>Connection method:</strong> Cluster object</td>\n",
       "            <td style=\"text-align: left;\"><strong>Cluster type:</strong> distributed.LocalCluster</td>\n",
       "        \n",
       "        </tr>\n",
       "\n",
       "        \n",
       "            <tr>\n",
       "                <td style=\"text-align: left;\">\n",
       "                    <strong>Dashboard: </strong> <a href=\"http://127.0.0.1:8787/status\" target=\"_blank\">http://127.0.0.1:8787/status</a>\n",
       "                </td>\n",
       "                <td style=\"text-align: left;\"></td>\n",
       "            </tr>\n",
       "        \n",
       "\n",
       "        </table>\n",
       "\n",
       "        \n",
       "\n",
       "        \n",
       "            <details>\n",
       "            <summary style=\"margin-bottom: 20px;\"><h3 style=\"display: inline;\">Cluster Info</h3></summary>\n",
       "            <div class=\"jp-RenderedHTMLCommon jp-RenderedHTML jp-mod-trusted jp-OutputArea-output\">\n",
       "    <div style=\"width: 24px; height: 24px; background-color: #e1e1e1; border: 3px solid #9D9D9D; border-radius: 5px; position: absolute;\">\n",
       "    </div>\n",
       "    <div style=\"margin-left: 48px;\">\n",
       "        <h3 style=\"margin-bottom: 0px; margin-top: 0px;\">LocalCluster</h3>\n",
       "        <p style=\"color: #9D9D9D; margin-bottom: 0px;\">f32a8942</p>\n",
       "        <table style=\"width: 100%; text-align: left;\">\n",
       "            <tr>\n",
       "                <td style=\"text-align: left;\">\n",
       "                    <strong>Dashboard:</strong> <a href=\"http://127.0.0.1:8787/status\" target=\"_blank\">http://127.0.0.1:8787/status</a>\n",
       "                </td>\n",
       "                <td style=\"text-align: left;\">\n",
       "                    <strong>Workers:</strong> 5\n",
       "                </td>\n",
       "            </tr>\n",
       "            <tr>\n",
       "                <td style=\"text-align: left;\">\n",
       "                    <strong>Total threads:</strong> 20\n",
       "                </td>\n",
       "                <td style=\"text-align: left;\">\n",
       "                    <strong>Total memory:</strong> 31.04 GiB\n",
       "                </td>\n",
       "            </tr>\n",
       "            \n",
       "            <tr>\n",
       "    <td style=\"text-align: left;\"><strong>Status:</strong> running</td>\n",
       "    <td style=\"text-align: left;\"><strong>Using processes:</strong> True</td>\n",
       "</tr>\n",
       "\n",
       "            \n",
       "        </table>\n",
       "\n",
       "        <details>\n",
       "            <summary style=\"margin-bottom: 20px;\">\n",
       "                <h3 style=\"display: inline;\">Scheduler Info</h3>\n",
       "            </summary>\n",
       "\n",
       "            <div style=\"\">\n",
       "    <div>\n",
       "        <div style=\"width: 24px; height: 24px; background-color: #FFF7E5; border: 3px solid #FF6132; border-radius: 5px; position: absolute;\"> </div>\n",
       "        <div style=\"margin-left: 48px;\">\n",
       "            <h3 style=\"margin-bottom: 0px;\">Scheduler</h3>\n",
       "            <p style=\"color: #9D9D9D; margin-bottom: 0px;\">Scheduler-f3790ea9-43e5-4607-8388-e77af9a76564</p>\n",
       "            <table style=\"width: 100%; text-align: left;\">\n",
       "                <tr>\n",
       "                    <td style=\"text-align: left;\">\n",
       "                        <strong>Comm:</strong> tcp://127.0.0.1:38269\n",
       "                    </td>\n",
       "                    <td style=\"text-align: left;\">\n",
       "                        <strong>Workers:</strong> 5\n",
       "                    </td>\n",
       "                </tr>\n",
       "                <tr>\n",
       "                    <td style=\"text-align: left;\">\n",
       "                        <strong>Dashboard:</strong> <a href=\"http://127.0.0.1:8787/status\" target=\"_blank\">http://127.0.0.1:8787/status</a>\n",
       "                    </td>\n",
       "                    <td style=\"text-align: left;\">\n",
       "                        <strong>Total threads:</strong> 20\n",
       "                    </td>\n",
       "                </tr>\n",
       "                <tr>\n",
       "                    <td style=\"text-align: left;\">\n",
       "                        <strong>Started:</strong> Just now\n",
       "                    </td>\n",
       "                    <td style=\"text-align: left;\">\n",
       "                        <strong>Total memory:</strong> 31.04 GiB\n",
       "                    </td>\n",
       "                </tr>\n",
       "            </table>\n",
       "        </div>\n",
       "    </div>\n",
       "\n",
       "    <details style=\"margin-left: 48px;\">\n",
       "        <summary style=\"margin-bottom: 20px;\">\n",
       "            <h3 style=\"display: inline;\">Workers</h3>\n",
       "        </summary>\n",
       "\n",
       "        \n",
       "        <div style=\"margin-bottom: 20px;\">\n",
       "            <div style=\"width: 24px; height: 24px; background-color: #DBF5FF; border: 3px solid #4CC9FF; border-radius: 5px; position: absolute;\"> </div>\n",
       "            <div style=\"margin-left: 48px;\">\n",
       "            <details>\n",
       "                <summary>\n",
       "                    <h4 style=\"margin-bottom: 0px; display: inline;\">Worker: 0</h4>\n",
       "                </summary>\n",
       "                <table style=\"width: 100%; text-align: left;\">\n",
       "                    <tr>\n",
       "                        <td style=\"text-align: left;\">\n",
       "                            <strong>Comm: </strong> tcp://127.0.0.1:44397\n",
       "                        </td>\n",
       "                        <td style=\"text-align: left;\">\n",
       "                            <strong>Total threads: </strong> 4\n",
       "                        </td>\n",
       "                    </tr>\n",
       "                    <tr>\n",
       "                        <td style=\"text-align: left;\">\n",
       "                            <strong>Dashboard: </strong> <a href=\"http://127.0.0.1:41423/status\" target=\"_blank\">http://127.0.0.1:41423/status</a>\n",
       "                        </td>\n",
       "                        <td style=\"text-align: left;\">\n",
       "                            <strong>Memory: </strong> 6.21 GiB\n",
       "                        </td>\n",
       "                    </tr>\n",
       "                    <tr>\n",
       "                        <td style=\"text-align: left;\">\n",
       "                            <strong>Nanny: </strong> tcp://127.0.0.1:33641\n",
       "                        </td>\n",
       "                        <td style=\"text-align: left;\"></td>\n",
       "                    </tr>\n",
       "                    <tr>\n",
       "                        <td colspan=\"2\" style=\"text-align: left;\">\n",
       "                            <strong>Local directory: </strong> /tmp/dask-scratch-space/worker-yqijno4b\n",
       "                        </td>\n",
       "                    </tr>\n",
       "\n",
       "                    \n",
       "\n",
       "                    \n",
       "\n",
       "                </table>\n",
       "            </details>\n",
       "            </div>\n",
       "        </div>\n",
       "        \n",
       "        <div style=\"margin-bottom: 20px;\">\n",
       "            <div style=\"width: 24px; height: 24px; background-color: #DBF5FF; border: 3px solid #4CC9FF; border-radius: 5px; position: absolute;\"> </div>\n",
       "            <div style=\"margin-left: 48px;\">\n",
       "            <details>\n",
       "                <summary>\n",
       "                    <h4 style=\"margin-bottom: 0px; display: inline;\">Worker: 1</h4>\n",
       "                </summary>\n",
       "                <table style=\"width: 100%; text-align: left;\">\n",
       "                    <tr>\n",
       "                        <td style=\"text-align: left;\">\n",
       "                            <strong>Comm: </strong> tcp://127.0.0.1:36597\n",
       "                        </td>\n",
       "                        <td style=\"text-align: left;\">\n",
       "                            <strong>Total threads: </strong> 4\n",
       "                        </td>\n",
       "                    </tr>\n",
       "                    <tr>\n",
       "                        <td style=\"text-align: left;\">\n",
       "                            <strong>Dashboard: </strong> <a href=\"http://127.0.0.1:35045/status\" target=\"_blank\">http://127.0.0.1:35045/status</a>\n",
       "                        </td>\n",
       "                        <td style=\"text-align: left;\">\n",
       "                            <strong>Memory: </strong> 6.21 GiB\n",
       "                        </td>\n",
       "                    </tr>\n",
       "                    <tr>\n",
       "                        <td style=\"text-align: left;\">\n",
       "                            <strong>Nanny: </strong> tcp://127.0.0.1:37315\n",
       "                        </td>\n",
       "                        <td style=\"text-align: left;\"></td>\n",
       "                    </tr>\n",
       "                    <tr>\n",
       "                        <td colspan=\"2\" style=\"text-align: left;\">\n",
       "                            <strong>Local directory: </strong> /tmp/dask-scratch-space/worker-z5w_ckfe\n",
       "                        </td>\n",
       "                    </tr>\n",
       "\n",
       "                    \n",
       "\n",
       "                    \n",
       "\n",
       "                </table>\n",
       "            </details>\n",
       "            </div>\n",
       "        </div>\n",
       "        \n",
       "        <div style=\"margin-bottom: 20px;\">\n",
       "            <div style=\"width: 24px; height: 24px; background-color: #DBF5FF; border: 3px solid #4CC9FF; border-radius: 5px; position: absolute;\"> </div>\n",
       "            <div style=\"margin-left: 48px;\">\n",
       "            <details>\n",
       "                <summary>\n",
       "                    <h4 style=\"margin-bottom: 0px; display: inline;\">Worker: 2</h4>\n",
       "                </summary>\n",
       "                <table style=\"width: 100%; text-align: left;\">\n",
       "                    <tr>\n",
       "                        <td style=\"text-align: left;\">\n",
       "                            <strong>Comm: </strong> tcp://127.0.0.1:34575\n",
       "                        </td>\n",
       "                        <td style=\"text-align: left;\">\n",
       "                            <strong>Total threads: </strong> 4\n",
       "                        </td>\n",
       "                    </tr>\n",
       "                    <tr>\n",
       "                        <td style=\"text-align: left;\">\n",
       "                            <strong>Dashboard: </strong> <a href=\"http://127.0.0.1:44751/status\" target=\"_blank\">http://127.0.0.1:44751/status</a>\n",
       "                        </td>\n",
       "                        <td style=\"text-align: left;\">\n",
       "                            <strong>Memory: </strong> 6.21 GiB\n",
       "                        </td>\n",
       "                    </tr>\n",
       "                    <tr>\n",
       "                        <td style=\"text-align: left;\">\n",
       "                            <strong>Nanny: </strong> tcp://127.0.0.1:34615\n",
       "                        </td>\n",
       "                        <td style=\"text-align: left;\"></td>\n",
       "                    </tr>\n",
       "                    <tr>\n",
       "                        <td colspan=\"2\" style=\"text-align: left;\">\n",
       "                            <strong>Local directory: </strong> /tmp/dask-scratch-space/worker-bny4ql4z\n",
       "                        </td>\n",
       "                    </tr>\n",
       "\n",
       "                    \n",
       "\n",
       "                    \n",
       "\n",
       "                </table>\n",
       "            </details>\n",
       "            </div>\n",
       "        </div>\n",
       "        \n",
       "        <div style=\"margin-bottom: 20px;\">\n",
       "            <div style=\"width: 24px; height: 24px; background-color: #DBF5FF; border: 3px solid #4CC9FF; border-radius: 5px; position: absolute;\"> </div>\n",
       "            <div style=\"margin-left: 48px;\">\n",
       "            <details>\n",
       "                <summary>\n",
       "                    <h4 style=\"margin-bottom: 0px; display: inline;\">Worker: 3</h4>\n",
       "                </summary>\n",
       "                <table style=\"width: 100%; text-align: left;\">\n",
       "                    <tr>\n",
       "                        <td style=\"text-align: left;\">\n",
       "                            <strong>Comm: </strong> tcp://127.0.0.1:34311\n",
       "                        </td>\n",
       "                        <td style=\"text-align: left;\">\n",
       "                            <strong>Total threads: </strong> 4\n",
       "                        </td>\n",
       "                    </tr>\n",
       "                    <tr>\n",
       "                        <td style=\"text-align: left;\">\n",
       "                            <strong>Dashboard: </strong> <a href=\"http://127.0.0.1:34245/status\" target=\"_blank\">http://127.0.0.1:34245/status</a>\n",
       "                        </td>\n",
       "                        <td style=\"text-align: left;\">\n",
       "                            <strong>Memory: </strong> 6.21 GiB\n",
       "                        </td>\n",
       "                    </tr>\n",
       "                    <tr>\n",
       "                        <td style=\"text-align: left;\">\n",
       "                            <strong>Nanny: </strong> tcp://127.0.0.1:36705\n",
       "                        </td>\n",
       "                        <td style=\"text-align: left;\"></td>\n",
       "                    </tr>\n",
       "                    <tr>\n",
       "                        <td colspan=\"2\" style=\"text-align: left;\">\n",
       "                            <strong>Local directory: </strong> /tmp/dask-scratch-space/worker-ugmscujq\n",
       "                        </td>\n",
       "                    </tr>\n",
       "\n",
       "                    \n",
       "\n",
       "                    \n",
       "\n",
       "                </table>\n",
       "            </details>\n",
       "            </div>\n",
       "        </div>\n",
       "        \n",
       "        <div style=\"margin-bottom: 20px;\">\n",
       "            <div style=\"width: 24px; height: 24px; background-color: #DBF5FF; border: 3px solid #4CC9FF; border-radius: 5px; position: absolute;\"> </div>\n",
       "            <div style=\"margin-left: 48px;\">\n",
       "            <details>\n",
       "                <summary>\n",
       "                    <h4 style=\"margin-bottom: 0px; display: inline;\">Worker: 4</h4>\n",
       "                </summary>\n",
       "                <table style=\"width: 100%; text-align: left;\">\n",
       "                    <tr>\n",
       "                        <td style=\"text-align: left;\">\n",
       "                            <strong>Comm: </strong> tcp://127.0.0.1:37219\n",
       "                        </td>\n",
       "                        <td style=\"text-align: left;\">\n",
       "                            <strong>Total threads: </strong> 4\n",
       "                        </td>\n",
       "                    </tr>\n",
       "                    <tr>\n",
       "                        <td style=\"text-align: left;\">\n",
       "                            <strong>Dashboard: </strong> <a href=\"http://127.0.0.1:44817/status\" target=\"_blank\">http://127.0.0.1:44817/status</a>\n",
       "                        </td>\n",
       "                        <td style=\"text-align: left;\">\n",
       "                            <strong>Memory: </strong> 6.21 GiB\n",
       "                        </td>\n",
       "                    </tr>\n",
       "                    <tr>\n",
       "                        <td style=\"text-align: left;\">\n",
       "                            <strong>Nanny: </strong> tcp://127.0.0.1:42347\n",
       "                        </td>\n",
       "                        <td style=\"text-align: left;\"></td>\n",
       "                    </tr>\n",
       "                    <tr>\n",
       "                        <td colspan=\"2\" style=\"text-align: left;\">\n",
       "                            <strong>Local directory: </strong> /tmp/dask-scratch-space/worker-ey7ky9ce\n",
       "                        </td>\n",
       "                    </tr>\n",
       "\n",
       "                    \n",
       "\n",
       "                    \n",
       "\n",
       "                </table>\n",
       "            </details>\n",
       "            </div>\n",
       "        </div>\n",
       "        \n",
       "\n",
       "    </details>\n",
       "</div>\n",
       "\n",
       "        </details>\n",
       "    </div>\n",
       "</div>\n",
       "            </details>\n",
       "        \n",
       "\n",
       "    </div>\n",
       "</div>"
      ],
      "text/plain": [
       "<Client: 'tcp://127.0.0.1:38269' processes=5 threads=20, memory=31.04 GiB>"
      ]
     },
     "execution_count": 2,
     "metadata": {},
     "output_type": "execute_result"
    }
   ],
   "source": [
    "client = Client()\n",
    "client"
   ]
  },
  {
   "cell_type": "markdown",
   "id": "900c12e0",
   "metadata": {},
   "source": [
    "# Merge"
   ]
  },
  {
   "cell_type": "code",
   "execution_count": 3,
   "id": "32f3bf4e",
   "metadata": {},
   "outputs": [],
   "source": [
    "config = pd.Series({\n",
    "    'path': os.path.abspath('dades'),\n",
    "    'file_type':'csv',\n",
    "    'years':[2019, 2021, 2022],\n",
    "    'dataset': 'BicingNou_ESTACIONS_MOD'\n",
    "})"
   ]
  },
  {
   "cell_type": "code",
   "execution_count": 4,
   "id": "24cb2875",
   "metadata": {},
   "outputs": [
    {
     "name": "stdout",
     "output_type": "stream",
     "text": [
      "checkpoint reloaded.\n",
      "checkpoint reloaded.\n",
      "checkpoint reloaded.\n",
      "CPU times: user 52.3 ms, sys: 4.65 ms, total: 56.9 ms\n",
      "Wall time: 54.5 ms\n"
     ]
    }
   ],
   "source": [
    "%%time\n",
    "\n",
    "def read_data_all(cnfg:dict):\n",
    "\n",
    "    data = dict()\n",
    "\n",
    "    for year in cnfg.years:\n",
    "        cnfg['year'] = year\n",
    "        data[year] = load_checkpoint(cnfg)\n",
    "    \n",
    "    return dd.concat(list(data.values()), interleave_partitions=False)\n",
    "    \n",
    "bbdd_completa = read_data_all(config)   "
   ]
  },
  {
   "cell_type": "code",
   "execution_count": 5,
   "id": "f7d9f27c",
   "metadata": {},
   "outputs": [
    {
     "name": "stdout",
     "output_type": "stream",
     "text": [
      "(12419994, 23)\n",
      "1\n",
      "2\n",
      "3\n",
      "4\n",
      "5\n",
      "6\n",
      "7\n",
      "8\n",
      "(12419489, 21)\n",
      "Changes to dataframe durinf preprocessing\n",
      "dropeed -505 rows\n",
      "dropped -2 columns\n",
      "CPU times: user 3.21 s, sys: 273 ms, total: 3.49 s\n",
      "Wall time: 14.4 s\n"
     ]
    }
   ],
   "source": [
    "%%time\n",
    "\n",
    "index=0\n",
    "before = get_ddf_shape(bbdd_completa)\n",
    "print(before)\n",
    "\n",
    "index+=1\n",
    "print(index)\n",
    "# 1 Error fix. # 2019 gener, febrer and marc have the status reversed\n",
    "cond = (bbdd_completa.year == 2019) & (bbdd_completa.month.isin([1,2,3]))\n",
    "bbdd_completa['status'] = bbdd_completa['status'].mask(cond, ((bbdd_completa['status'] + 1) %2))\n",
    "index+=1\n",
    "print(index)\n",
    "# 2 Remove not needed status, manitenance, planned. open = 0, closed = 1 \n",
    "cond = (bbdd_completa['status'].isin([2.0,3.0]))\n",
    "bbdd_completa['status'] = bbdd_completa['status'].mask(cond, 1.0)\n",
    "# bbdd_completa = bbdd_completa.dropna(subset=['status'])\n",
    "index+=1\n",
    "print(index)\n",
    "# 3 Remove data from 2020\n",
    "cond = (bbdd_completa['year'].isin([2020]))\n",
    "bbdd_completa = bbdd_completa.mask(cond, np.nan)\n",
    "bbdd_completa = bbdd_completa.dropna(subset=['year'])\n",
    "index+=1\n",
    "print(index)\n",
    "# 4 2019 to 2020 to have continuos data \n",
    "cond = (bbdd_completa['year'].isin([2019]))\n",
    "bbdd_completa['year'] = bbdd_completa['year'].mask(cond, bbdd_completa['year']+1)\n",
    "index+=1\n",
    "print(index)\n",
    "# 5 status reversed \n",
    "bbdd_completa['status'] = (bbdd_completa['status'] + 1)%2\n",
    "index+=1\n",
    "print(index)\n",
    "# 6 Column has all ones\n",
    "bbdd_completa = bbdd_completa.drop(columns=['is_installed'])\n",
    "index+=1\n",
    "print(index)\n",
    "# 7 Column has all ones\n",
    "bbdd_completa = bbdd_completa.drop(columns=['is_charging_station'])\n",
    "index+=1\n",
    "print(index)\n",
    "# 8 Remove row where status = closed and is renting and is returning\n",
    "# cond = (bbdd_completa['status'].isin([0.0])) & (bbdd_completa['is_renting'].isin([1.0])) & (bbdd_completa['is_returning'].isin([1.0]))\n",
    "# bbdd_completa = bbdd_completa.mask(cond, np.nan)\n",
    "# bbdd_completa = bbdd_completa.dropna(subset=['status'])\n",
    "\n",
    "after = get_ddf_shape(bbdd_completa)\n",
    "print(after)\n",
    "\n",
    "print('Changes to dataframe durinf preprocessing')\n",
    "print(f'dropeed {(after[0]-before[0]):02d} rows')\n",
    "print(f'dropped {(after[1]-before[1]):02d} columns')"
   ]
  },
  {
   "cell_type": "code",
   "execution_count": 7,
   "id": "9bb976d6",
   "metadata": {
    "scrolled": true
   },
   "outputs": [
    {
     "name": "stdout",
     "output_type": "stream",
     "text": [
      "year\n",
      "2020.0    [1, 320, 319, 318, 317, 316, 315, 314, 313, 31...\n",
      "2021.0    [1.0, 271.0, 400.0, 510.0, 26.0, 270.0, 269.0,...\n",
      "2022.0    [1, 380, 28, 379, 378, 377, 376, 375, 29, 374,...\n",
      "Name: station_id, dtype: object\n",
      "2020.0 (410,)\n",
      "2021.0 (509,)\n",
      "2022.0 (510,)\n",
      "408\n",
      "CPU times: user 1.11 s, sys: 93.8 ms, total: 1.2 s\n",
      "Wall time: 7.55 s\n"
     ]
    }
   ],
   "source": [
    "%%time\n",
    "\n",
    "unique_ids_by_year = bbdd_completa.groupby('year')['station_id'].unique().compute()\n",
    "print(unique_ids_by_year)\n",
    "\n",
    "# Calcula los station_id comunes en todos los años\n",
    "common_ids = set(unique_ids_by_year[2020])\n",
    "for year, ids in unique_ids_by_year.items():\n",
    "    print(year, ids.shape)\n",
    "    common_ids = common_ids.intersection(set(ids))\n",
    "# common_ids\n",
    "print(len(common_ids))\n",
    "\n",
    "filtered_bbdd = bbdd_completa[bbdd_completa['station_id'].isin(common_ids)]\n",
    "nonfiltered_bbdd = bbdd_completa[~bbdd_completa['station_id'].isin(common_ids)]"
   ]
  },
  {
   "cell_type": "code",
   "execution_count": 8,
   "id": "cd1ca3bf",
   "metadata": {},
   "outputs": [
    {
     "name": "stdout",
     "output_type": "stream",
     "text": [
      "(10627655, 21)\n",
      "(10526888, 21)\n",
      "Changes to dataframe durinf preprocessing\n",
      "dropeed -100767 rows\n",
      "dropped 00 columns\n",
      "CPU times: user 5.62 s, sys: 410 ms, total: 6.03 s\n",
      "Wall time: 23.2 s\n"
     ]
    }
   ],
   "source": [
    "%%time\n",
    "\n",
    "before = get_ddf_shape(filtered_bbdd)\n",
    "print(before)\n",
    "\n",
    "filtered_bbdd = filtered_bbdd.drop_duplicates(subset=['timestamp', 'station_id'], keep='last')\n",
    "\n",
    "after = get_ddf_shape(filtered_bbdd)\n",
    "print(after)\n",
    "\n",
    "print('Changes to dataframe durinf preprocessing')\n",
    "print(f'dropeed {(after[0]-before[0]):02d} rows')\n",
    "print(f'dropped {(after[1]-before[1]):02d} columns')"
   ]
  },
  {
   "cell_type": "code",
   "execution_count": 9,
   "id": "2b125d0a",
   "metadata": {},
   "outputs": [
    {
     "name": "stdout",
     "output_type": "stream",
     "text": [
      "(1791834, 21)\n",
      "(1771494, 21)\n",
      "Changes to dataframe durinf preprocessing\n",
      "dropeed -20340 rows\n",
      "dropped 00 columns\n",
      "CPU times: user 5.33 s, sys: 406 ms, total: 5.73 s\n",
      "Wall time: 20.1 s\n"
     ]
    }
   ],
   "source": [
    "%%time\n",
    "\n",
    "before = get_ddf_shape(nonfiltered_bbdd)\n",
    "print(before)\n",
    "\n",
    "nonfiltered_bbdd = nonfiltered_bbdd.drop_duplicates(subset=['timestamp', 'station_id'], keep='last')\n",
    "\n",
    "after = get_ddf_shape(nonfiltered_bbdd)\n",
    "print(after)\n",
    "\n",
    "print('Changes to dataframe durinf preprocessing')\n",
    "print(f'dropeed {(after[0]-before[0]):02d} rows')\n",
    "print(f'dropped {(after[1]-before[1]):02d} columns')"
   ]
  },
  {
   "cell_type": "markdown",
   "id": "7f8f1ba6",
   "metadata": {},
   "source": [
    "# Predicción__________________________________\n",
    "a) Regresión lineal: relación lineal entre las variables de entrada y la variable de salida. \n",
    "\n",
    "b) Regresión Redes Neuronales (RNN -redes neuronales recurrentes-): pueden capturar relaciones no lineales entre las variables de entrada y salida."
   ]
  },
  {
   "cell_type": "code",
   "execution_count": 10,
   "id": "c1e0195a",
   "metadata": {},
   "outputs": [],
   "source": [
    "import os\n",
    "import csv\n",
    "import pandas as pd\n",
    "import random\n",
    "import numpy as np\n",
    "import warnings\n",
    "warnings.simplefilter('ignore')"
   ]
  },
  {
   "cell_type": "code",
   "execution_count": 11,
   "id": "d411c3ed",
   "metadata": {},
   "outputs": [],
   "source": [
    "from sklearn.model_selection import train_test_split\n",
    "from sklearn.pipeline import Pipeline\n",
    "from sklearn.preprocessing import StandardScaler\n",
    "from sklearn.preprocessing import FunctionTransformer\n",
    "from sklearn.impute import SimpleImputer\n",
    "from sklearn.preprocessing import OneHotEncoder\n",
    "from sklearn.preprocessing import OrdinalEncoder\n",
    "from sklearn.model_selection import cross_val_score\n",
    "\n",
    "\n",
    "from sklearn.compose import ColumnTransformer\n",
    "from sklearn.pipeline import Pipeline\n",
    "from sklearn.preprocessing import StandardScaler, OrdinalEncoder\n",
    "from sklearn.impute import SimpleImputer\n",
    "\n",
    "from sklearn import neighbors\n",
    "from sklearn import linear_model\n",
    "from sklearn.linear_model import LinearRegression\n",
    "\n",
    "from sklearn.model_selection import GridSearchCV\n",
    "from sklearn.model_selection import validation_curve\n",
    "\n",
    "from sklearn.ensemble import GradientBoostingRegressor\n",
    "from sklearn.ensemble import RandomForestRegressor\n",
    "\n",
    "from sklearn.metrics import mean_squared_error, r2_score\n",
    "from sklearn.metrics import mean_absolute_error\n",
    "\n",
    "DATA_DIR = 'dades'\n",
    "OUTPUT_DIR = './'"
   ]
  },
  {
   "cell_type": "code",
   "execution_count": 12,
   "id": "94a63fa9",
   "metadata": {},
   "outputs": [],
   "source": [
    "class Config:\n",
    "    num_attribs0 = ['year', 'ctx1', 'ctx2', 'ctx3', 'ctx4']\n",
    "    cat_attribs0 = ['month', 'dayofweek', 'day', 'dayofyear', 'hour']\n",
    "    cat_attribs1 = ['station_id']\n",
    "    gen_attribs0 = ['status']\n",
    "    target_col = ['ctx0']\n",
    "    \n",
    "    epochs=5\n",
    "    batch_size=128\n",
    "    seed=42\n",
    "    embedding_dim=8\n",
    "    lr=1e-4\n",
    "\n",
    "def seed_everything(seed=42):\n",
    "    random.seed(seed)\n",
    "    os.environ['PYTHONHASHSEED'] = str(seed)\n",
    "    np.random.seed(seed)\n",
    "    "
   ]
  },
  {
   "cell_type": "code",
   "execution_count": 13,
   "id": "ef40396f",
   "metadata": {},
   "outputs": [],
   "source": [
    "config=Config()\n",
    "seed_everything(config.seed)"
   ]
  },
  {
   "cell_type": "code",
   "execution_count": 14,
   "id": "fe46f892",
   "metadata": {},
   "outputs": [
    {
     "data": {
      "text/plain": [
       "Index(['station_id', 'num_docks_available', 'num_bikes_available', 'status',\n",
       "       'timestamp', 'is_renting', 'is_returning',\n",
       "       'num_bikes_available_types.mechanical',\n",
       "       'num_bikes_available_types.ebike', 'year', 'month', 'dayofweek', 'day',\n",
       "       'dayofyear', 'hour', 'capacity', 'ctx0', 'ctx1', 'ctx2', 'ctx3',\n",
       "       'ctx4'],\n",
       "      dtype='object')"
      ]
     },
     "execution_count": 14,
     "metadata": {},
     "output_type": "execute_result"
    }
   ],
   "source": [
    "filtered_bbdd.columns"
   ]
  },
  {
   "cell_type": "code",
   "execution_count": 15,
   "id": "cc365d22",
   "metadata": {},
   "outputs": [],
   "source": [
    "\n",
    "def build_preprocessor(config): \n",
    "    num_attribs0 = config.num_attribs0 # ['year', 'ctx1', 'ctx2', 'ctx3', 'ctx4']\n",
    "    cat_attribs0 = config.cat_attribs0 #['month', 'dayofweek', 'day', 'dayofyear', 'hour' ]\n",
    "    cat_attribs1 = config.cat_attribs1 #['station_id']\n",
    "    gen_attribs0 = config.gen_attribs0 #['status']\n",
    "    \n",
    "    num_transformer0 = Pipeline(steps=[\n",
    "        (\"imputer\", SimpleImputer(strategy=\"mean\")),\n",
    "        ('std_scaler', (StandardScaler())),\n",
    "    ])\n",
    "\n",
    "    categorical_transformer0 = Pipeline(steps=[\n",
    "        (\"imputer\", SimpleImputer(strategy=\"constant\",fill_value=0)),\n",
    "        ('ordinal_encoder', (OrdinalEncoder())),\n",
    "    ])\n",
    "    \n",
    "    categorical_transformer1 = Pipeline(steps=[\n",
    "        (\"imputer\", SimpleImputer(strategy=\"constant\",fill_value=0)),\n",
    "        ('one_hot_encoder', (OneHotEncoder(handle_unknown='ignore'))),\n",
    "    ])\n",
    "    \n",
    "    generic_transformer0 = Pipeline([\n",
    "        (\"imputer\", SimpleImputer(strategy=\"mean\")),\n",
    "    ])\n",
    "    \n",
    "    preprocessor = ColumnTransformer(\n",
    "        transformers=[\n",
    "            (\"num0\", num_transformer0, num_attribs0),\n",
    "            (\"gen1\", generic_transformer0, gen_attribs0),\n",
    "            (\"cat0\", categorical_transformer0, cat_attribs0),\n",
    "            (\"cat1\", categorical_transformer1, cat_attribs1),\n",
    "        ],\n",
    "        remainder=\"drop\"\n",
    "    )\n",
    "    \n",
    "    return preprocessor\n",
    "\n",
    "def apply_pipeline(config, x_train,x_test,y_train,y_test, show=True):\n",
    "    \n",
    "    full_pipeline = build_preprocessor(config)\n",
    "\n",
    "    x_train_prepared = full_pipeline.fit_transform(x_train)\n",
    "    x_test_prepared = full_pipeline.transform(x_test)\n",
    "    \n",
    "    if show:\n",
    "        print(\"x_train_prepared:\",x_train_prepared.shape,\"y_train: \",y_train.shape)\n",
    "        print(\"x_test_prepared:\",x_test_prepared.shape,\"y_test: \",y_test.shape)\n",
    "\n",
    "    return x_train_prepared,x_test_prepared,y_train,y_test\n"
   ]
  },
  {
   "cell_type": "code",
   "execution_count": 16,
   "id": "95860e65",
   "metadata": {},
   "outputs": [
    {
     "data": {
      "text/plain": [
       "(3541851, 21)"
      ]
     },
     "execution_count": 16,
     "metadata": {},
     "output_type": "execute_result"
    }
   ],
   "source": [
    "train_data2020 = filtered_bbdd[filtered_bbdd.year.isin([2022])]\n",
    "get_ddf_shape(train_data2020)"
   ]
  },
  {
   "cell_type": "code",
   "execution_count": 17,
   "id": "1d0d8585",
   "metadata": {},
   "outputs": [
    {
     "data": {
      "text/plain": [
       "(882910, 21)"
      ]
     },
     "execution_count": 17,
     "metadata": {},
     "output_type": "execute_result"
    }
   ],
   "source": [
    "test_data2020 = nonfiltered_bbdd[nonfiltered_bbdd.year.isin([2022])]\n",
    "get_ddf_shape(test_data2020)"
   ]
  },
  {
   "cell_type": "code",
   "execution_count": 18,
   "id": "55c641cc",
   "metadata": {},
   "outputs": [
    {
     "name": "stderr",
     "output_type": "stream",
     "text": [
      "2023-06-04 19:51:25,663 - distributed.worker.memory - WARNING - Worker is at 87% memory usage. Pausing worker.  Process memory: 5.42 GiB -- Worker memory limit: 6.21 GiB\n",
      "2023-06-04 19:51:25,794 - distributed.worker.memory - WARNING - Worker is at 30% memory usage. Resuming worker. Process memory: 1.88 GiB -- Worker memory limit: 6.21 GiB\n"
     ]
    },
    {
     "name": "stdout",
     "output_type": "stream",
     "text": [
      "CPU times: user 6.45 s, sys: 1.56 s, total: 8.01 s\n",
      "Wall time: 48 s\n"
     ]
    }
   ],
   "source": [
    "%%time \n",
    "\n",
    "x_train, x_test, y_train, y_test = train_data2020.compute().copy(),test_data2020.compute().copy(), train_data2020.ctx0.compute().copy(), test_data2020.ctx0.compute().copy()\n"
   ]
  },
  {
   "cell_type": "code",
   "execution_count": 19,
   "id": "f3d3d686",
   "metadata": {},
   "outputs": [
    {
     "name": "stdout",
     "output_type": "stream",
     "text": [
      "x_train_prepared: (3541851, 419) y_train:  (3541851,)\n",
      "x_test_prepared: (882910, 419) y_test:  (882910,)\n",
      "CPU times: user 3.69 s, sys: 564 ms, total: 4.25 s\n",
      "Wall time: 3.89 s\n"
     ]
    }
   ],
   "source": [
    "%%time \n",
    "\n",
    "x_train_prepared,x_test_prepared,y_train,y_test = apply_pipeline(config, x_train,x_test,y_train,y_test)"
   ]
  },
  {
   "cell_type": "code",
   "execution_count": 20,
   "id": "3663606c",
   "metadata": {},
   "outputs": [
    {
     "name": "stdout",
     "output_type": "stream",
     "text": [
      "\n",
      "  Linear Regression\n",
      "Scores: [0.81367656 0.81719661 0.81319699 0.81493743 0.81635071]\n",
      "Mean: 0.8150716588055694\n",
      "Standard deviation: 0.0015251268187717795\n",
      "CPU times: user 51.3 s, sys: 2min 34s, total: 3min 25s\n",
      "Wall time: 16.9 s\n"
     ]
    }
   ],
   "source": [
    "%%time \n",
    "\n",
    "lin_reg = LinearRegression()\n",
    "cross_val_evaluation(lin_reg,x_train_prepared, y_train,'Linear Regression')\n",
    "#  Linear Regression\n",
    "# Scores: [0.86876116 0.85690033 0.83716171 0.82008556 0.8135665 ]\n",
    "# Mean: 0.8392950517172396\n",
    "# Standard deviation: 0.021041440859117303"
   ]
  },
  {
   "cell_type": "code",
   "execution_count": 21,
   "id": "18b104f1",
   "metadata": {},
   "outputs": [
    {
     "name": "stdout",
     "output_type": "stream",
     "text": [
      "\n",
      "Training time: 0.098 s\n",
      "----- EVALUATION ON VAL SET ------\n",
      "MSE: 0.01261885952667277\n",
      "RMSE 0.11233369720022915\n",
      "MAE: 0.07492907714413843\n",
      "R^2:  0.8151138788519758\n",
      "\n"
     ]
    },
    {
     "data": {
      "image/png": "[encoded data removed]",
      "text/plain": [
       "<Figure size 640x480 with 1 Axes>"
      ]
     },
     "metadata": {},
     "output_type": "display_data"
    },
    {
     "name": "stdout",
     "output_type": "stream",
     "text": [
      "\n",
      "Testing time: 0.014 s\n",
      "----- EVALUATION ON VAL SET ------\n",
      "MSE: 0.00922703271634388\n",
      "RMSE 0.09605744487723937\n",
      "MAE: 0.06502250682169039\n",
      "R^2:  0.8580085617143018\n",
      "\n"
     ]
    },
    {
     "data": {
      "image/png": "[encoded data removed]",
      "text/plain": [
       "<Figure size 640x480 with 1 Axes>"
      ]
     },
     "metadata": {},
     "output_type": "display_data"
    },
    {
     "data": {
      "text/plain": [
       "y_hat_t    [0.5934913886212191, 0.5956843753126415, 0.596...\n",
       "mse_t                                               0.012619\n",
       "rmse_t                                              0.112334\n",
       "mae_t                                               0.074929\n",
       "r2_t                                                0.815114\n",
       "y_hat_v    [0.8108800990124164, 0.7303344343522489, 0.842...\n",
       "mse_v                                               0.009227\n",
       "rmse_v                                              0.096057\n",
       "mae_v                                               0.065023\n",
       "r2_v                                                0.858009\n",
       "dtype: object"
      ]
     },
     "execution_count": 21,
     "metadata": {},
     "output_type": "execute_result"
    }
   ],
   "source": [
    "lin_reg.fit(x_train_prepared,y_train)\n",
    "test_model(lin_reg, x_train_prepared, y_train, x_test_prepared, y_test)"
   ]
  },
  {
   "cell_type": "code",
   "execution_count": 22,
   "id": "397da1eb",
   "metadata": {},
   "outputs": [
    {
     "name": "stdout",
     "output_type": "stream",
     "text": [
      "\n",
      "  Ridge Regression\n",
      "Scores: [0.81364175 0.81717376 0.81316073 0.81491798 0.81631735]\n",
      "Mean: 0.8150423150711928\n",
      "Standard deviation: 0.0015288016781132593\n",
      "CPU times: user 28.8 s, sys: 1min 19s, total: 1min 48s\n",
      "Wall time: 9.16 s\n"
     ]
    }
   ],
   "source": [
    "%%time \n",
    "\n",
    "ridge_reg = linear_model.Ridge(alpha=0.01) # Create a Ridge regressor\n",
    "cross_val_evaluation(ridge_reg,x_train_prepared, y_train,'Ridge Regression')\n",
    "#   Ridge Regression\n",
    "# Scores: [0.86875691 0.85689315 0.83715539 0.82008539 0.81356727]\n",
    "# Mean: 0.839291622628996\n",
    "# Standard deviation: 0.021039020876520598"
   ]
  },
  {
   "cell_type": "code",
   "execution_count": 23,
   "id": "b05d561f",
   "metadata": {},
   "outputs": [
    {
     "name": "stdout",
     "output_type": "stream",
     "text": [
      "\n",
      "Training time: 0.066 s\n",
      "----- EVALUATION ON VAL SET ------\n",
      "MSE: 0.012618859526765403\n",
      "RMSE 0.11233369720064146\n",
      "MAE: 0.07492907288341558\n",
      "R^2:  0.8151138788506186\n",
      "\n"
     ]
    },
    {
     "data": {
      "image/png": "[encoded data removed]",
      "text/plain": [
       "<Figure size 640x480 with 1 Axes>"
      ]
     },
     "metadata": {},
     "output_type": "display_data"
    },
    {
     "name": "stdout",
     "output_type": "stream",
     "text": [
      "\n",
      "Testing time: 0.015 s\n",
      "----- EVALUATION ON VAL SET ------\n",
      "MSE: 0.009227031821400772\n",
      "RMSE 0.09605744021886474\n",
      "MAE: 0.06502249569909713\n",
      "R^2:  0.8580085754862546\n",
      "\n"
     ]
    },
    {
     "data": {
      "image/png": "[encoded data removed]",
      "text/plain": [
       "<Figure size 640x480 with 1 Axes>"
      ]
     },
     "metadata": {},
     "output_type": "display_data"
    },
    {
     "data": {
      "text/plain": [
       "y_hat_t    [0.5934914509169749, 0.5956844313112943, 0.596...\n",
       "mse_t                                               0.012619\n",
       "rmse_t                                              0.112334\n",
       "mae_t                                               0.074929\n",
       "r2_t                                                0.815114\n",
       "y_hat_v    [0.8108801675559145, 0.7303345207956573, 0.842...\n",
       "mse_v                                               0.009227\n",
       "rmse_v                                              0.096057\n",
       "mae_v                                               0.065022\n",
       "r2_v                                                0.858009\n",
       "dtype: object"
      ]
     },
     "execution_count": 23,
     "metadata": {},
     "output_type": "execute_result"
    }
   ],
   "source": [
    "ridge_reg.fit(x_train_prepared,y_train)\n",
    "test_model(ridge_reg, x_train_prepared, y_train, x_test_prepared, y_test)"
   ]
  },
  {
   "cell_type": "code",
   "execution_count": 24,
   "id": "5c306003",
   "metadata": {},
   "outputs": [
    {
     "name": "stdout",
     "output_type": "stream",
     "text": [
      "\n",
      "  Lasso Regression\n",
      "Scores: [0.80106658 0.80428888 0.80048798 0.8019944  0.80376297]\n",
      "Mean: 0.8023201631809762\n",
      "Standard deviation: 0.0014827012108497317\n",
      "CPU times: user 22.2 s, sys: 9.72 s, total: 31.9 s\n",
      "Wall time: 18.7 s\n"
     ]
    }
   ],
   "source": [
    "%%time \n",
    "\n",
    "lasso_reg = linear_model.Lasso(alpha=0.01) # Create a Ridge regressor\n",
    "cross_val_evaluation(lasso_reg,x_train_prepared, y_train,'Lasso Regression')\n",
    "#   Lasso Regression\n",
    "# Scores: [0.85542452 0.844529   0.82666133 0.81003802 0.80356838]\n",
    "# Mean: 0.8280442480533837\n",
    "# Standard deviation: 0.0197313499648892\n",
    "# CPU times: user 2min 14s, sys: 3min 2s, total: 5min 16s\n",
    "# Wall time: 1min 28s"
   ]
  },
  {
   "cell_type": "code",
   "execution_count": 25,
   "id": "50d2f629",
   "metadata": {},
   "outputs": [
    {
     "name": "stdout",
     "output_type": "stream",
     "text": [
      "\n",
      "Training time: 0.046 s\n",
      "----- EVALUATION ON VAL SET ------\n",
      "MSE: 0.013491343297615328\n",
      "RMSE 0.11615224189663895\n",
      "MAE: 0.07948768164944155\n",
      "R^2:  0.8023306206000549\n",
      "\n"
     ]
    },
    {
     "data": {
      "image/png": "[encoded data removed]",
      "text/plain": [
       "<Figure size 640x480 with 1 Axes>"
      ]
     },
     "metadata": {},
     "output_type": "display_data"
    },
    {
     "name": "stdout",
     "output_type": "stream",
     "text": [
      "\n",
      "Testing time: 0.01 s\n",
      "----- EVALUATION ON VAL SET ------\n",
      "MSE: 0.009762316195603714\n",
      "RMSE 0.09880443408877819\n",
      "MAE: 0.06666181370059676\n",
      "R^2:  0.8497712796489585\n",
      "\n"
     ]
    },
    {
     "data": {
      "image/png": "[encoded data removed]",
      "text/plain": [
       "<Figure size 640x480 with 1 Axes>"
      ]
     },
     "metadata": {},
     "output_type": "display_data"
    },
    {
     "data": {
      "text/plain": [
       "y_hat_t    [0.5837137105671476, 0.5837137105671476, 0.583...\n",
       "mse_t                                               0.013491\n",
       "rmse_t                                              0.116152\n",
       "mae_t                                               0.079488\n",
       "r2_t                                                0.802331\n",
       "y_hat_v    [0.8155635765835065, 0.7338436287151212, 0.836...\n",
       "mse_v                                               0.009762\n",
       "rmse_v                                              0.098804\n",
       "mae_v                                               0.066662\n",
       "r2_v                                                0.849771\n",
       "dtype: object"
      ]
     },
     "execution_count": 25,
     "metadata": {},
     "output_type": "execute_result"
    }
   ],
   "source": [
    "lasso_reg.fit(x_train_prepared,y_train)\n",
    "test_model(lasso_reg, x_train_prepared, y_train, x_test_prepared, y_test)"
   ]
  },
  {
   "cell_type": "raw",
   "id": "3c85a9bc",
   "metadata": {},
   "source": [
    "names = [ i for i in range(x_train_prepared.shape[1])]"
   ]
  },
  {
   "cell_type": "raw",
   "id": "30955727",
   "metadata": {},
   "source": [
    "coefs_lin_reg = pd.Series(np.abs(lin_reg.coef_), names).sort_values()\n",
    "coefs_ridge_reg = pd.Series(np.abs(ridge_reg.coef_), names).sort_values()\n",
    "coefs_lasso_reg = pd.Series(np.abs(lasso_reg.coef_), names).sort_values()"
   ]
  },
  {
   "cell_type": "raw",
   "id": "ce8cb578",
   "metadata": {},
   "source": [
    "f = plt.figure(figsize=(15,5))\n",
    "ax1 = f.add_subplot(131)\n",
    "ax2 = f.add_subplot(132)\n",
    "ax3 = f.add_subplot(133)\n",
    "\n",
    "coefs_lin_reg.plot(kind=\"barh\", title='coefs_lr', ax=ax1)\n",
    "coefs_ridge_reg.plot(kind=\"barh\", title='coefs_ridge', ax=ax2)\n",
    "coefs_lasso_reg.plot(kind=\"barh\", title='coefs_lasso', ax=ax3)\n",
    "\n"
   ]
  },
  {
   "cell_type": "raw",
   "id": "74b18449",
   "metadata": {},
   "source": [
    "n_alphas = 100\n",
    "alphas = np.logspace(-2, 2, n_alphas)"
   ]
  },
  {
   "cell_type": "raw",
   "id": "bc9c0ded",
   "metadata": {},
   "source": [
    "%%time \n",
    "\n",
    "coefs_ridge = []\n",
    "rmse_ridge = []\n",
    "\n",
    "for l in tqdm(alphas):\n",
    "    regr_ridge = linear_model.Ridge(alpha=l) # Create a Ridge regressor\n",
    "    \n",
    "    regr_ridge.fit(x_train_prepared, y_train)  # Perform the fitting\n",
    "    \n",
    "    coefs_ridge.append(regr_ridge.coef_)\n",
    "    yhat = ridge_reg.predict(x_test_prepared)\n",
    "    mse = mean_squared_error(y_test,yhat)\n",
    "    rmse_ridge.append(np.sqrt(mse))"
   ]
  },
  {
   "cell_type": "raw",
   "id": "69eded44",
   "metadata": {},
   "source": [
    "%%time \n",
    "\n",
    "coefs_lasso = []\n",
    "rmse_lasso = []\n",
    "for l in tqdm(alphas):\n",
    "    regr_lasso = linear_model.Lasso(alpha=l,tol=0.001) # Create a Ridge regressor\n",
    "    regr_lasso.fit(x_train_prepared, y_train)  # Perform the fitting\n",
    "    coefs_lasso.append(regr_lasso.coef_)\n",
    "    yhat = regr_lasso.predict(x_test_prepared)\n",
    "    mse = mean_squared_error(y_test,yhat)\n",
    "    rmse_lasso.append(np.sqrt(mse))"
   ]
  },
  {
   "cell_type": "raw",
   "id": "d600c78d",
   "metadata": {},
   "source": [
    "# Display results\n",
    "\n",
    "fig, axs = plt.subplots(2, 2, figsize=(20, 20), sharey='row')\n",
    "\n",
    "axs[0,0].plot(alphas, np.abs(coefs_ridge))\n",
    "axs[0,0].set_xscale('log')\n",
    "axs[0,0].set_title('Ridge coefficients as a function of the regularization')\n",
    "axs[0,0].axis('tight')\n",
    "axs[0,0].set_xlabel('alpha')\n",
    "axs[0,0].set_ylabel('weights')\n",
    "#axs[0,0].legend(names)\n",
    "\n",
    "axs[0,1].plot(alphas, np.abs(coefs_lasso))\n",
    "axs[0,1].set_xscale('log')\n",
    "axs[0,1].set_title('Lasso coefficients as a function of the regularization')\n",
    "axs[0,1].axis('tight')\n",
    "axs[0,1].set_xlabel('alpha')\n",
    "axs[0,1].set_ylabel('weights')\n",
    "#axs[0,1].legend(names)\n",
    "\n",
    "axs[1,0].plot(alphas, rmse_ridge)\n",
    "axs[1,0].set_xscale('log')\n",
    "axs[1,0].set_title('Ridge scores as a function of the regularization')\n",
    "axs[1,0].axis('tight')\n",
    "axs[1,0].set_xlabel('alpha')\n",
    "axs[1,0].set_ylabel('r2')\n",
    "\n",
    "axs[1,1].plot(alphas, rmse_lasso)\n",
    "axs[1,1].set_xscale('log')\n",
    "axs[1,1].set_title('Lasso scores as a function of the regularization')\n",
    "axs[1,1].axis('tight')\n",
    "axs[1,1].set_xlabel('alpha')\n",
    "axs[1,1].set_ylabel('r2')\n",
    "\n",
    "plt.show()"
   ]
  },
  {
   "cell_type": "raw",
   "id": "e885f8e4",
   "metadata": {},
   "source": [
    "\n",
    "# Find optimal alphas\n",
    "best_rmse_ridge = min(rmse_ridge)\n",
    "max_index_ridge = rmse_ridge.index(best_rmse_ridge)\n",
    "best_alpha_ridge = alphas[max_index_ridge]\n",
    "print('Ridge')\n",
    "print(max_index_ridge, best_alpha_ridge, best_rmse_ridge)\n",
    "\n",
    "best_rmse_lasso = min(rmse_lasso)\n",
    "max_index_lasso = rmse_lasso.index(best_rmse_lasso)\n",
    "best_alpha_lasso = alphas[max_index_lasso]\n",
    "print('Lasso')\n",
    "print(max_index_lasso, best_alpha_lasso, best_rmse_lasso)\n"
   ]
  },
  {
   "cell_type": "markdown",
   "id": "184a9875",
   "metadata": {},
   "source": [
    "## KNN3"
   ]
  },
  {
   "cell_type": "raw",
   "id": "e3e23e13",
   "metadata": {},
   "source": [
    "%%time \n",
    "\n",
    "knn_reg = neighbors.KNeighborsRegressor(3)\n",
    "cross_val_evaluation(knn_reg,x_train_prepared, y_train,'KNN Regression')"
   ]
  },
  {
   "cell_type": "raw",
   "id": "bfb37c68",
   "metadata": {},
   "source": [
    "%%time \n",
    "\n",
    "knn_reg.fit(x_train_prepared,y_train)\n",
    "test_model(knn_reg, x_train_prepared, y_train, x_test_prepared, y_test)"
   ]
  },
  {
   "cell_type": "markdown",
   "id": "78e6b975",
   "metadata": {},
   "source": [
    "## SVM "
   ]
  },
  {
   "cell_type": "raw",
   "id": "63c38de8",
   "metadata": {},
   "source": [
    "from sklearn.svm import SVC"
   ]
  },
  {
   "cell_type": "raw",
   "id": "be37c059",
   "metadata": {},
   "source": [
    "%%time \n",
    "\n",
    "SVC_reg = SVC(kernel='linear')\n",
    "cross_val_evaluation(SVC_reg,x_train_prepared, y_train,'SVC Regression')"
   ]
  },
  {
   "cell_type": "raw",
   "id": "32b3d7ad",
   "metadata": {},
   "source": [
    "%%time \n",
    "\n",
    "SVC_reg.fit(x_train_prepared,y_train)\n",
    "test_model(SVC_reg, x_train_prepared, y_train, x_test_prepared, y_test)"
   ]
  },
  {
   "cell_type": "markdown",
   "id": "ce966eb7",
   "metadata": {},
   "source": [
    "## Random forest"
   ]
  },
  {
   "cell_type": "code",
   "execution_count": null,
   "id": "63d41825",
   "metadata": {},
   "outputs": [],
   "source": []
  },
  {
   "cell_type": "markdown",
   "id": "18557956",
   "metadata": {},
   "source": [
    "## Gradiend Boosting"
   ]
  },
  {
   "cell_type": "code",
   "execution_count": null,
   "id": "5abab55c",
   "metadata": {},
   "outputs": [],
   "source": []
  },
  {
   "cell_type": "code",
   "execution_count": null,
   "id": "597e669c",
   "metadata": {},
   "outputs": [],
   "source": []
  }
 ],
 "metadata": {
  "kernelspec": {
   "display_name": "Python 3 (ipykernel)",
   "language": "python",
   "name": "python3"
  },
  "language_info": {
   "codemirror_mode": {
    "name": "ipython",
    "version": 3
   },
   "file_extension": ".py",
   "mimetype": "text/x-python",
   "name": "python",
   "nbconvert_exporter": "python",
   "pygments_lexer": "ipython3",
   "version": "3.8.16"
  }
 },
 "nbformat": 4,
 "nbformat_minor": 5
}
