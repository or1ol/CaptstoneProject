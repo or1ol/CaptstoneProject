{
 "cells": [
  {
   "cell_type": "code",
   "execution_count": 1,
   "id": "e494720a",
   "metadata": {},
   "outputs": [
    {
     "data": {
      "text/html": [
       "<style>.container { width:80% !important; }</style>"
      ],
      "text/plain": [
       "<IPython.core.display.HTML object>"
      ]
     },
     "metadata": {},
     "output_type": "display_data"
    }
   ],
   "source": [
    "from IPython.core.display import display, HTML\n",
    "display(HTML(\"<style>.container { width:80% !important; }</style>\"))\n",
    "\n",
    "import os\n",
    "\n",
    "# Python ≥3.5 is required\n",
    "import sys\n",
    "assert sys.version_info >= (3, 5)\n",
    "\n",
    "# Scikit-Learn ≥0.20 is required\n",
    "import sklearn\n",
    "assert sklearn.__version__ >= \"0.20\"\n",
    "\n",
    "from sklearn.ensemble import RandomForestRegressor\n",
    "from sklearn.ensemble import GradientBoostingRegressor\n",
    "from sklearn.model_selection import cross_val_score\n",
    "from sklearn.metrics import mean_squared_error, r2_score\n",
    "from sklearn.metrics import mean_absolute_error\n",
    "\n",
    "import pandas as pd\n",
    "import numpy as np\n",
    "pd.set_option('display.max_columns', None)\n",
    "\n",
    "# To plot pretty figures\n",
    "%matplotlib inline\n",
    "import matplotlib as mpl\n",
    "import matplotlib.pyplot as plt\n",
    "\n",
    "import scipy.stats as stats\n",
    "\n",
    "import seaborn as sns\n",
    "\n",
    "from datetime import datetime\n",
    "\n",
    "import re\n",
    "\n",
    "from tqdm.notebook import tqdm\n",
    "\n",
    "import dask.dataframe as dd\n",
    "from dask.distributed import Client\n",
    "\n",
    "sys.path.insert(0, '../tools/')\n",
    "\n",
    "from tools import * "
   ]
  },
  {
   "cell_type": "code",
   "execution_count": 2,
   "id": "6c8c5561",
   "metadata": {},
   "outputs": [],
   "source": [
    "config = pd.Series({\n",
    "    'path': os.path.abspath('../dades'),\n",
    "    'file_type':'csv',\n",
    "    'years':[2020],\n",
    "    'dataset': 'BicingNou_ESTACIONS_CLEAN'\n",
    "})\n"
   ]
  },
  {
   "cell_type": "code",
   "execution_count": 3,
   "id": "2bd014c8",
   "metadata": {},
   "outputs": [
    {
     "data": {
      "text/html": [
       "<table style=\"border: 2px solid white;\">\n",
       "<tr>\n",
       "<td style=\"vertical-align: top; border: 0px solid white\">\n",
       "<h3 style=\"text-align: left;\">Client</h3>\n",
       "<ul style=\"text-align: left; list-style: none; margin: 0; padding: 0;\">\n",
       "  <li><b>Scheduler: </b>tcp://127.0.0.1:35279</li>\n",
       "  <li><b>Dashboard: </b><a href='http://127.0.0.1:8787/status' target='_blank'>http://127.0.0.1:8787/status</a></li>\n",
       "</ul>\n",
       "</td>\n",
       "<td style=\"vertical-align: top; border: 0px solid white\">\n",
       "<h3 style=\"text-align: left;\">Cluster</h3>\n",
       "<ul style=\"text-align: left; list-style:none; margin: 0; padding: 0;\">\n",
       "  <li><b>Workers: </b>4</li>\n",
       "  <li><b>Cores: </b>16</li>\n",
       "  <li><b>Memory: </b>16.44 GB</li>\n",
       "</ul>\n",
       "</td>\n",
       "</tr>\n",
       "</table>"
      ],
      "text/plain": [
       "<Client: 'tcp://127.0.0.1:35279' processes=4 threads=16, memory=16.44 GB>"
      ]
     },
     "execution_count": 3,
     "metadata": {},
     "output_type": "execute_result"
    }
   ],
   "source": [
    "client = Client()\n",
    "client"
   ]
  },
  {
   "cell_type": "markdown",
   "id": "9349a524",
   "metadata": {},
   "source": [
    "# Read data"
   ]
  },
  {
   "cell_type": "code",
   "execution_count": 4,
   "id": "40df49e3",
   "metadata": {},
   "outputs": [
    {
     "data": {
      "application/vnd.jupyter.widget-view+json": {
       "model_id": "6f83958840924f3196ce477c624260b4",
       "version_major": 2,
       "version_minor": 0
      },
      "text/plain": [
       "  0%|          | 0/1 [00:00<?, ?it/s]"
      ]
     },
     "metadata": {},
     "output_type": "display_data"
    },
    {
     "data": {
      "application/vnd.jupyter.widget-view+json": {
       "model_id": "fa6ebc5653c94c77b98339fc08cff2cb",
       "version_major": 2,
       "version_minor": 0
      },
      "text/plain": [
       "  0%|          | 0/12 [00:00<?, ?it/s]"
      ]
     },
     "metadata": {},
     "output_type": "display_data"
    },
    {
     "name": "stdout",
     "output_type": "stream",
     "text": [
      "CPU times: user 213 ms, sys: 34.5 ms, total: 247 ms\n",
      "Wall time: 240 ms\n"
     ]
    }
   ],
   "source": [
    "%%time\n",
    "\n",
    "data = read_dask_dataframes(config.path, config.file_type, config.dataset, config.years)"
   ]
  },
  {
   "cell_type": "markdown",
   "id": "220d2efd",
   "metadata": {},
   "source": [
    "# config_year.year "
   ]
  },
  {
   "cell_type": "code",
   "execution_count": 5,
   "id": "4a45c868",
   "metadata": {},
   "outputs": [],
   "source": [
    "config_year = pd.Series({\n",
    "    'path':config.path,\n",
    "    'file_type':config.file_type,\n",
    "    'year':2020,\n",
    "    'dataset': 'BicingNou_ESTACIONS_MOD'\n",
    "})"
   ]
  },
  {
   "cell_type": "code",
   "execution_count": 6,
   "id": "e56dec7c",
   "metadata": {},
   "outputs": [
    {
     "data": {
      "text/plain": [
       "13"
      ]
     },
     "execution_count": 6,
     "metadata": {},
     "output_type": "execute_result"
    }
   ],
   "source": [
    "len(data[config_year.year].divisions) # divisions mark the start and end of each partiotion\n",
    "# in our case we have nones but that is okay"
   ]
  },
  {
   "cell_type": "code",
   "execution_count": 7,
   "id": "0b1d65a1",
   "metadata": {},
   "outputs": [],
   "source": [
    "first_size = get_ddf_shape(data[config_year.year])"
   ]
  },
  {
   "cell_type": "markdown",
   "id": "3ba5e5e7",
   "metadata": {},
   "source": [
    "# Visualization 2020"
   ]
  },
  {
   "cell_type": "code",
   "execution_count": 8,
   "id": "4c10f579",
   "metadata": {},
   "outputs": [
    {
     "name": "stdout",
     "output_type": "stream",
     "text": [
      "checkpoint reloaded.\n",
      "CPU times: user 12.5 ms, sys: 0 ns, total: 12.5 ms\n",
      "Wall time: 11.6 ms\n"
     ]
    }
   ],
   "source": [
    "%%time\n",
    "\n",
    "data[config_year.year] = load_checkpoint(config_year)\n",
    "\n",
    "# checkpoint reloaded."
   ]
  },
  {
   "cell_type": "code",
   "execution_count": 9,
   "id": "8a5c7564",
   "metadata": {},
   "outputs": [
    {
     "name": "stdout",
     "output_type": "stream",
     "text": [
      "Changes to dataframe durinf preprocessing\n",
      "dropeed 00 rows\n",
      "dropped 04 columns\n",
      "CPU times: user 163 ms, sys: 50.9 ms, total: 214 ms\n",
      "Wall time: 1.57 s\n"
     ]
    }
   ],
   "source": [
    "%%time\n",
    "\n",
    "last_size = get_ddf_shape(data[config_year.year])\n",
    "\n",
    "print('Changes to dataframe durinf preprocessing')\n",
    "print(f'dropeed {(last_size[0]-first_size[0]):02d} rows')\n",
    "print(f'dropped {(last_size[1]-first_size[1]):02d} columns')"
   ]
  },
  {
   "cell_type": "code",
   "execution_count": 10,
   "id": "61db0537",
   "metadata": {},
   "outputs": [
    {
     "data": {
      "text/plain": [
       "13"
      ]
     },
     "execution_count": 10,
     "metadata": {},
     "output_type": "execute_result"
    }
   ],
   "source": [
    "len(data[config_year.year].divisions) # divisions mark the start and end of each partiotion\n",
    "# in our case we have nones but that is okay"
   ]
  },
  {
   "cell_type": "raw",
   "id": "5cc068bf",
   "metadata": {},
   "source": [
    "print_partitions(data[config_year.year])"
   ]
  },
  {
   "cell_type": "code",
   "execution_count": 11,
   "id": "17180ed3",
   "metadata": {},
   "outputs": [
    {
     "name": "stdout",
     "output_type": "stream",
     "text": [
      "CPU times: user 673 ms, sys: 212 ms, total: 884 ms\n",
      "Wall time: 6.53 s\n"
     ]
    }
   ],
   "source": [
    "%%time\n",
    "\n",
    "nans = get_features_nans(data[config_year.year])\n",
    "\n",
    "zeros = get_features_zero(data[config_year.year])"
   ]
  },
  {
   "cell_type": "code",
   "execution_count": 12,
   "id": "a71ccd91",
   "metadata": {},
   "outputs": [
    {
     "data": {
      "text/plain": [
       "{'ctx0': 0.0003354445842751406,\n",
       " 'ctx1': 0.0003354445842751406,\n",
       " 'ctx2': 0.0003354445842751406,\n",
       " 'ctx3': 0.0003354445842751406,\n",
       " 'ctx4': 0.0003354445842751406}"
      ]
     },
     "execution_count": 12,
     "metadata": {},
     "output_type": "execute_result"
    }
   ],
   "source": [
    "nans"
   ]
  },
  {
   "cell_type": "code",
   "execution_count": 13,
   "id": "40239ba4",
   "metadata": {},
   "outputs": [
    {
     "data": {
      "text/plain": [
       "{'num_bikes_available': 3.7177602812367394,\n",
       " 'num_bikes_available_types.mechanical': 10.9436000248229,\n",
       " 'num_bikes_available_types.ebike': 34.74171605622275,\n",
       " 'num_docks_available': 0.9711959326226007,\n",
       " 'is_installed': 0.015821802891644133,\n",
       " 'is_renting': 0.6036045756877593,\n",
       " 'is_returning': 0.5915006169384979,\n",
       " 'is_charging_station': 0.0010622411835379453,\n",
       " 'status': 99.41020455969823,\n",
       " 'dayofweek': 14.429987404055861,\n",
       " 'hour': 4.134494269767889,\n",
       " 'capacity': 0.0003354445842751406,\n",
       " 'ctx0': 0.9708604880383257,\n",
       " 'ctx1': 0.970357321161913,\n",
       " 'ctx2': 0.9716711457836572,\n",
       " 'ctx3': 0.9732365538436079,\n",
       " 'ctx4': 0.9741031190196521}"
      ]
     },
     "execution_count": 13,
     "metadata": {},
     "output_type": "execute_result"
    }
   ],
   "source": [
    "zeros"
   ]
  },
  {
   "cell_type": "code",
   "execution_count": 14,
   "id": "d09dbe2d",
   "metadata": {},
   "outputs": [],
   "source": [
    "# nuniques = get_columns_nunique(data[config_year.year])\n",
    "\n",
    "# pd.Series(nuniques)\n",
    "# station_id                                  511\n",
    "# num_bikes_available                        5413\n",
    "# num_bikes_available_types.mechanical       4950\n",
    "# num_bikes_available_types.ebike            2412\n",
    "# num_docks_available                        5641\n",
    "# last_reported                           3085646\n",
    "# is_charging_station                           2\n",
    "# status                                      264\n",
    "# is_installed                                 50\n",
    "# is_renting                                  230\n",
    "# is_returning                                230\n",
    "# timestamp                                  8700\n",
    "# year                                          2\n",
    "# month                                        12\n",
    "# week                                         53\n",
    "# dayofweek                                     7\n",
    "# day                                          31\n",
    "# dayofyear                                   366\n",
    "# hour                                         24\n",
    "# traffic                                    1741\n",
    "# dtype: int64\n",
    "    \n",
    "uniques = get_columns_unique(data[config_year.year])"
   ]
  },
  {
   "cell_type": "code",
   "execution_count": 15,
   "id": "a96688e3",
   "metadata": {},
   "outputs": [
    {
     "data": {
      "text/plain": [
       "{'station_id': 0        1\n",
       " 1      301\n",
       " 2      300\n",
       " 3      299\n",
       " 4       14\n",
       "       ... \n",
       " 513    530\n",
       " 514    526\n",
       " 515    521\n",
       " 516    525\n",
       " 517    524\n",
       " Name: station_id, Length: 518, dtype: int64,\n",
       " 'num_bikes_available': 0       28.625000\n",
       " 1       34.666667\n",
       " 2       24.000000\n",
       " 3       24.100000\n",
       " 4       15.375000\n",
       "           ...    \n",
       " 4572    12.416667\n",
       " 4573    28.333333\n",
       " 4574    22.227273\n",
       " 4575     1.885714\n",
       " 4576    13.888889\n",
       " Name: num_bikes_available, Length: 4577, dtype: float64,\n",
       " 'num_bikes_available_types.mechanical': 0       28.625000\n",
       " 1       34.666667\n",
       " 2       23.000000\n",
       " 3       15.000000\n",
       " 4       27.875000\n",
       "           ...    \n",
       " 3904    13.114286\n",
       " 3905    48.916667\n",
       " 3906    12.277778\n",
       " 3907     1.526316\n",
       " 3908    52.083333\n",
       " Name: num_bikes_available_types.mechanical, Length: 3909, dtype: float64,\n",
       " 'num_bikes_available_types.ebike': 0        0.000000\n",
       " 1        1.000000\n",
       " 2        1.100000\n",
       " 3        0.375000\n",
       " 4        0.625000\n",
       "           ...    \n",
       " 1738    19.083333\n",
       " 1739     3.894737\n",
       " 1740     3.590909\n",
       " 1741     0.791667\n",
       " 1742     1.885714\n",
       " Name: num_bikes_available_types.ebike, Length: 1743, dtype: float64,\n",
       " 'num_docks_available': 0       15.375000\n",
       " 1        8.333333\n",
       " 2       19.000000\n",
       " 3       28.625000\n",
       " 4       15.500000\n",
       "           ...    \n",
       " 4224     1.045455\n",
       " 4225    28.772727\n",
       " 4226    12.650000\n",
       " 4227    17.270833\n",
       " 4228    22.114286\n",
       " Name: num_docks_available, Length: 4229, dtype: float64,\n",
       " 'is_installed': 0    1\n",
       " 1    0\n",
       " Name: is_installed, dtype: int64,\n",
       " 'is_renting': 0    1\n",
       " 1    0\n",
       " Name: is_renting, dtype: int64,\n",
       " 'is_returning': 0    1\n",
       " 1    0\n",
       " Name: is_returning, dtype: int64,\n",
       " 'is_charging_station': 0    1\n",
       " 1    0\n",
       " Name: is_charging_station, dtype: int64,\n",
       " 'status': 0    0\n",
       " 1    1\n",
       " 2    3\n",
       " 3    2\n",
       " Name: status, dtype: int64,\n",
       " 'timestamp': 0       1577872800\n",
       " 1       1577898000\n",
       " 2       1577930400\n",
       " 3       1577934000\n",
       " 4       1577952000\n",
       "            ...    \n",
       " 8156    1587279600\n",
       " 8157    1587294000\n",
       " 8158    1587304800\n",
       " 8159    1587326400\n",
       " 8160    1587344400\n",
       " Name: timestamp, Length: 8161, dtype: int64,\n",
       " 'year': 0    2020\n",
       " 1    2019\n",
       " Name: year, dtype: int64,\n",
       " 'month': 0      1\n",
       " 1     12\n",
       " 2      2\n",
       " 3      3\n",
       " 4      4\n",
       " 5      5\n",
       " 6      6\n",
       " 7      7\n",
       " 8      8\n",
       " 9      9\n",
       " 10    10\n",
       " 11    11\n",
       " Name: month, dtype: int64,\n",
       " 'dayofweek': 0    2\n",
       " 1    3\n",
       " 2    4\n",
       " 3    5\n",
       " 4    6\n",
       " 5    0\n",
       " 6    1\n",
       " Name: dayofweek, dtype: int64,\n",
       " 'day': 0      1\n",
       " 1      2\n",
       " 2      3\n",
       " 3      4\n",
       " 4      5\n",
       " 5      6\n",
       " 6      8\n",
       " 7      9\n",
       " 8     10\n",
       " 9     11\n",
       " 10    12\n",
       " 11    13\n",
       " 12    14\n",
       " 13    15\n",
       " 14    16\n",
       " 15    17\n",
       " 16    18\n",
       " 17    19\n",
       " 18    20\n",
       " 19    21\n",
       " 20    22\n",
       " 21    23\n",
       " 22    24\n",
       " 23    28\n",
       " 24    29\n",
       " 25    30\n",
       " 26    31\n",
       " 27     7\n",
       " 28    27\n",
       " 29    25\n",
       " 30    26\n",
       " Name: day, dtype: int64,\n",
       " 'dayofyear': 0        1\n",
       " 1        2\n",
       " 2        3\n",
       " 3        4\n",
       " 4        5\n",
       "       ... \n",
       " 340    362\n",
       " 341    355\n",
       " 342     94\n",
       " 343    109\n",
       " 344     91\n",
       " Name: dayofyear, Length: 345, dtype: int64,\n",
       " 'hour': 0     10\n",
       " 1     17\n",
       " 2      2\n",
       " 3      3\n",
       " 4      8\n",
       " 5     19\n",
       " 6      0\n",
       " 7      4\n",
       " 8     16\n",
       " 9      1\n",
       " 10    18\n",
       " 11     6\n",
       " 12    12\n",
       " 13    23\n",
       " 14    11\n",
       " 15    20\n",
       " 16    22\n",
       " 17     9\n",
       " 18    13\n",
       " 19     5\n",
       " 20     7\n",
       " 21    14\n",
       " 22    15\n",
       " 23    21\n",
       " Name: hour, dtype: int64,\n",
       " 'capacity': 0      46.000000\n",
       " 1      27.000000\n",
       " 2      18.000000\n",
       " 3      33.000000\n",
       " 4      24.000000\n",
       "          ...    \n",
       " 72     23.000000\n",
       " 73     43.111111\n",
       " 74     50.000000\n",
       " 75     19.000000\n",
       " 76    297.000000\n",
       " Name: capacity, Length: 77, dtype: float64,\n",
       " 'ctx0': 0        0.334239\n",
       " 1        0.181159\n",
       " 2        0.413043\n",
       " 3        0.622283\n",
       " 4        0.336957\n",
       "            ...   \n",
       " 75090    0.485417\n",
       " 75091    0.085044\n",
       " 75092    0.594086\n",
       " 75093    0.900293\n",
       " 75094    0.947222\n",
       " Name: ctx0, Length: 75095, dtype: float64,\n",
       " 'ctx1': 0        0.254348\n",
       " 1        0.206522\n",
       " 2        0.408213\n",
       " 3        0.413043\n",
       " 4        0.595109\n",
       "            ...   \n",
       " 75059    0.550926\n",
       " 75060    0.700880\n",
       " 75061    0.530792\n",
       " 75062    0.897849\n",
       " 75063    0.947222\n",
       " Name: ctx1, Length: 75064, dtype: float64,\n",
       " 'ctx2': 0        0.239130\n",
       " 1        0.268116\n",
       " 2        0.381643\n",
       " 3        0.408213\n",
       " 4        0.516908\n",
       "            ...   \n",
       " 75004    0.351613\n",
       " 75005    0.067204\n",
       " 75006    0.982405\n",
       " 75007    0.448680\n",
       " 75008    0.897849\n",
       " Name: ctx2, Length: 75009, dtype: float64,\n",
       " 'ctx3': 0        0.229469\n",
       " 1        0.329193\n",
       " 2        0.413043\n",
       " 3        0.381643\n",
       " 4        0.658385\n",
       "            ...   \n",
       " 74984    0.510526\n",
       " 74985    0.980861\n",
       " 74986    0.720486\n",
       " 74987    0.855903\n",
       " 74988    0.067204\n",
       " Name: ctx3, Length: 74989, dtype: float64,\n",
       " 'ctx4': 0        0.228261\n",
       " 1        0.372283\n",
       " 2        0.440994\n",
       " 3        0.413043\n",
       " 4        0.729814\n",
       "            ...   \n",
       " 74958    0.940278\n",
       " 74959    0.498264\n",
       " 74960    0.448680\n",
       " 74961    0.888563\n",
       " 74962    0.926686\n",
       " Name: ctx4, Length: 74963, dtype: float64}"
      ]
     },
     "execution_count": 15,
     "metadata": {},
     "output_type": "execute_result"
    }
   ],
   "source": [
    "uniques"
   ]
  },
  {
   "cell_type": "markdown",
   "id": "c4b251ca",
   "metadata": {},
   "source": [
    "## 2020 station_id"
   ]
  },
  {
   "cell_type": "code",
   "execution_count": 16,
   "id": "5c00851b",
   "metadata": {},
   "outputs": [
    {
     "name": "stdout",
     "output_type": "stream",
     "text": [
      "DescribeResult(nobs=3577342, minmax=(1, 530), mean=248.99138913752165, variance=20663.436331831665, skewness=0.055195478208244046, kurtosis=-1.1109810905661623)\n",
      "CPU times: user 638 ms, sys: 130 ms, total: 768 ms\n",
      "Wall time: 3.42 s\n"
     ]
    },
    {
     "data": {
      "text/plain": [
       "count    3.577342e+06\n",
       "mean     2.489914e+02\n",
       "std      1.437478e+02\n",
       "min      1.000000e+00\n",
       "25%      1.270000e+02\n",
       "50%      2.490000e+02\n",
       "75%      3.690000e+02\n",
       "max      5.300000e+02\n",
       "Name: station_id, dtype: float64"
      ]
     },
     "execution_count": 16,
     "metadata": {},
     "output_type": "execute_result"
    }
   ],
   "source": [
    "%%time\n",
    "\n",
    "print(stats.describe(data[config_year.year].station_id))\n",
    "data[config_year.year].station_id.describe().compute()"
   ]
  },
  {
   "cell_type": "code",
   "execution_count": 17,
   "id": "2c499d5d",
   "metadata": {},
   "outputs": [
    {
     "data": {
      "image/png": "[encoded data removed]",
      "text/plain": [
       "<Figure size 1440x720 with 6 Axes>"
      ]
     },
     "metadata": {
      "needs_background": "light"
     },
     "output_type": "display_data"
    },
    {
     "name": "stdout",
     "output_type": "stream",
     "text": [
      "CPU times: user 7.03 s, sys: 1.16 s, total: 8.18 s\n",
      "Wall time: 8.1 s\n"
     ]
    }
   ],
   "source": [
    "%%time\n",
    "\n",
    "show_counts(data[config_year.year].station_id.compute())"
   ]
  },
  {
   "cell_type": "raw",
   "id": "b95f9fcb",
   "metadata": {},
   "source": [
    "# After checkign the counts we can see two stations are very low in records\n",
    "# These stations are wested\n",
    "# we can remove them"
   ]
  },
  {
   "cell_type": "code",
   "execution_count": 18,
   "id": "00f1736b",
   "metadata": {
    "scrolled": false
   },
   "outputs": [
    {
     "name": "stdout",
     "output_type": "stream",
     "text": [
      "value counts stats {'max': 8160, 'mean': 6906.065637065637, 'median': 7575.0, 'std': 1583.5845535482574, 'min': 1}\n"
     ]
    },
    {
     "data": {
      "application/vnd.jupyter.widget-view+json": {
       "model_id": "7f4c276e25fb449f8dbc54c6ac414cd7",
       "version_major": 2,
       "version_minor": 0
      },
      "text/plain": [
       "  0%|          | 0/5 [00:00<?, ?it/s]"
      ]
     },
     "metadata": {},
     "output_type": "display_data"
    },
    {
     "name": "stdout",
     "output_type": "stream",
     "text": [
      "CPU times: user 1.77 s, sys: 0 ns, total: 1.77 s\n",
      "Wall time: 9.78 s\n"
     ]
    },
    {
     "data": {
      "image/png": "[encoded data removed]",
      "text/plain": [
       "<Figure size 720x576 with 1 Axes>"
      ]
     },
     "metadata": {
      "needs_background": "light"
     },
     "output_type": "display_data"
    }
   ],
   "source": [
    "%%time\n",
    "\n",
    "scatter_columns(\n",
    "    data[config_year.year], \n",
    "    'dayofyear', \n",
    "    'station_id', \n",
    "    'station_id', \n",
    "    tail=True, \n",
    "    xticks=np.arange(uniques['dayofyear'].min(),uniques['dayofyear'].max(), 3.0),\n",
    "    figsize=(10,8)\n",
    ")"
   ]
  },
  {
   "cell_type": "markdown",
   "id": "ee87e5ae",
   "metadata": {},
   "source": [
    "## 2020 num_bikes_available"
   ]
  },
  {
   "cell_type": "code",
   "execution_count": 19,
   "id": "13cb2901",
   "metadata": {},
   "outputs": [
    {
     "name": "stdout",
     "output_type": "stream",
     "text": [
      "DescribeResult(nobs=3577342, minmax=(0.0, 198.0), mean=9.930076086735802, variance=65.00647958160091, skewness=0.9240636670036411, kurtosis=2.6802257259500024)\n",
      "CPU times: user 722 ms, sys: 143 ms, total: 865 ms\n",
      "Wall time: 3.65 s\n"
     ]
    },
    {
     "data": {
      "text/plain": [
       "count    3.577342e+06\n",
       "mean     9.930076e+00\n",
       "std      8.062660e+00\n",
       "min      0.000000e+00\n",
       "25%      2.900000e+00\n",
       "50%      8.750000e+00\n",
       "75%      1.528571e+01\n",
       "max      1.980000e+02\n",
       "Name: num_bikes_available, dtype: float64"
      ]
     },
     "execution_count": 19,
     "metadata": {},
     "output_type": "execute_result"
    }
   ],
   "source": [
    "%%time\n",
    "\n",
    "print(stats.describe(data[config_year.year].num_bikes_available))\n",
    "data[config_year.year].num_bikes_available.describe().compute()"
   ]
  },
  {
   "cell_type": "code",
   "execution_count": 20,
   "id": "7c554b14",
   "metadata": {},
   "outputs": [
    {
     "data": {
      "image/png": "[encoded data removed]",
      "text/plain": [
       "<Figure size 1440x720 with 6 Axes>"
      ]
     },
     "metadata": {
      "needs_background": "light"
     },
     "output_type": "display_data"
    },
    {
     "name": "stdout",
     "output_type": "stream",
     "text": [
      "CPU times: user 12.5 s, sys: 1.54 s, total: 14 s\n",
      "Wall time: 15.1 s\n"
     ]
    }
   ],
   "source": [
    "%%time\n",
    "\n",
    "show_counts(data[config_year.year].num_bikes_available.compute())"
   ]
  },
  {
   "cell_type": "code",
   "execution_count": 21,
   "id": "b2af6d35",
   "metadata": {},
   "outputs": [
    {
     "name": "stdout",
     "output_type": "stream",
     "text": [
      "327\n",
      "value counts stats {'max': 8160, 'mean': 6906.065637065637, 'median': 7575.0, 'std': 1583.5845535482574, 'min': 1}\n"
     ]
    },
    {
     "data": {
      "application/vnd.jupyter.widget-view+json": {
       "model_id": "1e101878ecbd4336a5a7cfc0a717d0cf",
       "version_major": 2,
       "version_minor": 0
      },
      "text/plain": [
       "  0%|          | 0/5 [00:00<?, ?it/s]"
      ]
     },
     "metadata": {},
     "output_type": "display_data"
    },
    {
     "name": "stdout",
     "output_type": "stream",
     "text": [
      "CPU times: user 1.92 s, sys: 184 ms, total: 2.1 s\n",
      "Wall time: 10.8 s\n"
     ]
    },
    {
     "data": {
      "image/png": "[encoded data removed]",
      "text/plain": [
       "<Figure size 1080x720 with 1 Axes>"
      ]
     },
     "metadata": {
      "needs_background": "light"
     },
     "output_type": "display_data"
    }
   ],
   "source": [
    "%%time\n",
    "\n",
    "# Checking availibilty for docks all year\n",
    "xtikcs_scatter = [uniques['timestamp'][i] for i, x in enumerate(uniques['timestamp']) if i%25==0]\n",
    "print(len(xtikcs_scatter))\n",
    "\n",
    "scatter_columns(\n",
    "    data[config_year.year], \n",
    "    'timestamp', \n",
    "    'num_bikes_available', \n",
    "    'station_id', \n",
    "    tail=True,\n",
    "    xticks=np.asarray(xtikcs_scatter),\n",
    "    figsize=(15,10),\n",
    "    count=5\n",
    ")\n"
   ]
  },
  {
   "cell_type": "raw",
   "id": "b31a27d7",
   "metadata": {},
   "source": [
    "%%time\n",
    "\n",
    "# reactivate when merging with other years\n",
    "\n",
    "scatter_columns(\n",
    "    data[config_year.year], \n",
    "    'year_last_updated_date', \n",
    "    'num_bikes_available', \n",
    "    'station_id', \n",
    "    tail=True,\n",
    "    xticks=np.asarray(uniques['year_last_updated_date']),\n",
    "    figsize=(15,10),\n",
    "    count=5\n",
    ")"
   ]
  },
  {
   "cell_type": "code",
   "execution_count": 22,
   "id": "e96bea98",
   "metadata": {},
   "outputs": [
    {
     "name": "stdout",
     "output_type": "stream",
     "text": [
      "value counts stats {'max': 8160, 'mean': 6906.065637065637, 'median': 7575.0, 'std': 1583.5845535482574, 'min': 1}\n"
     ]
    },
    {
     "data": {
      "application/vnd.jupyter.widget-view+json": {
       "model_id": "e5f94f40534542d1a350f4ddc4c24153",
       "version_major": 2,
       "version_minor": 0
      },
      "text/plain": [
       "  0%|          | 0/5 [00:00<?, ?it/s]"
      ]
     },
     "metadata": {},
     "output_type": "display_data"
    },
    {
     "name": "stdout",
     "output_type": "stream",
     "text": [
      "CPU times: user 1.37 s, sys: 149 ms, total: 1.52 s\n",
      "Wall time: 9.2 s\n"
     ]
    },
    {
     "data": {
      "image/png": "[encoded data removed]",
      "text/plain": [
       "<Figure size 1080x720 with 1 Axes>"
      ]
     },
     "metadata": {
      "needs_background": "light"
     },
     "output_type": "display_data"
    }
   ],
   "source": [
    "%%time\n",
    "\n",
    "scatter_columns(\n",
    "    data[config_year.year], \n",
    "    'month', \n",
    "    'num_bikes_available', \n",
    "    'station_id', \n",
    "    tail=True,\n",
    "    xticks=np.asarray(uniques['month']),\n",
    "    figsize=(15,10),\n",
    "    count=5\n",
    ")"
   ]
  },
  {
   "cell_type": "code",
   "execution_count": 23,
   "id": "93c68e27",
   "metadata": {},
   "outputs": [
    {
     "name": "stdout",
     "output_type": "stream",
     "text": [
      "value counts stats {'max': 8160, 'mean': 6906.065637065637, 'median': 7575.0, 'std': 1583.5845535482574, 'min': 1}\n"
     ]
    },
    {
     "data": {
      "application/vnd.jupyter.widget-view+json": {
       "model_id": "5279c05a1ddd49be9e44665851298a75",
       "version_major": 2,
       "version_minor": 0
      },
      "text/plain": [
       "  0%|          | 0/5 [00:00<?, ?it/s]"
      ]
     },
     "metadata": {},
     "output_type": "display_data"
    },
    {
     "name": "stdout",
     "output_type": "stream",
     "text": [
      "CPU times: user 1.24 s, sys: 85.6 ms, total: 1.32 s\n",
      "Wall time: 8.47 s\n"
     ]
    },
    {
     "data": {
      "image/png": "[encoded data removed]",
      "text/plain": [
       "<Figure size 1080x720 with 1 Axes>"
      ]
     },
     "metadata": {
      "needs_background": "light"
     },
     "output_type": "display_data"
    }
   ],
   "source": [
    "%%time\n",
    "\n",
    "scatter_columns(\n",
    "    data[config_year.year], \n",
    "    'dayofweek', \n",
    "    'num_bikes_available', \n",
    "    'station_id', \n",
    "    tail=True,\n",
    "    xticks=np.asarray(uniques['dayofweek']),\n",
    "    figsize=(15,10),\n",
    "    count=5\n",
    ")"
   ]
  },
  {
   "cell_type": "code",
   "execution_count": 24,
   "id": "9331affa",
   "metadata": {},
   "outputs": [
    {
     "name": "stdout",
     "output_type": "stream",
     "text": [
      "value counts stats {'max': 8160, 'mean': 6906.065637065637, 'median': 7575.0, 'std': 1583.5845535482574, 'min': 1}\n"
     ]
    },
    {
     "data": {
      "application/vnd.jupyter.widget-view+json": {
       "model_id": "dd299a2692da4604825fec28dcb9b281",
       "version_major": 2,
       "version_minor": 0
      },
      "text/plain": [
       "  0%|          | 0/5 [00:00<?, ?it/s]"
      ]
     },
     "metadata": {},
     "output_type": "display_data"
    },
    {
     "name": "stdout",
     "output_type": "stream",
     "text": [
      "CPU times: user 1.3 s, sys: 110 ms, total: 1.41 s\n",
      "Wall time: 8.61 s\n"
     ]
    },
    {
     "data": {
      "image/png": "[encoded data removed]",
      "text/plain": [
       "<Figure size 1080x720 with 1 Axes>"
      ]
     },
     "metadata": {
      "needs_background": "light"
     },
     "output_type": "display_data"
    }
   ],
   "source": [
    "%%time\n",
    "\n",
    "# mean for all months\n",
    "scatter_columns(data[config_year.year], 'day', 'num_bikes_available', 'station_id', \n",
    "    tail=True,\n",
    "    xticks=np.asarray(uniques['day']),\n",
    "    figsize=(15,10),\n",
    "    count=5\n",
    ")\n"
   ]
  },
  {
   "cell_type": "code",
   "execution_count": 25,
   "id": "2893e1dd",
   "metadata": {},
   "outputs": [
    {
     "name": "stdout",
     "output_type": "stream",
     "text": [
      "value counts stats {'max': 696, 'mean': 696.0, 'median': 696.0, 'std': nan, 'min': 696}\n"
     ]
    },
    {
     "data": {
      "application/vnd.jupyter.widget-view+json": {
       "model_id": "7af0b577e658475492958efbc28050f5",
       "version_major": 2,
       "version_minor": 0
      },
      "text/plain": [
       "  0%|          | 0/1 [00:00<?, ?it/s]"
      ]
     },
     "metadata": {},
     "output_type": "display_data"
    },
    {
     "name": "stdout",
     "output_type": "stream",
     "text": [
      "value counts stats {'max': 744, 'mean': 744.0, 'median': 744.0, 'std': nan, 'min': 744}\n"
     ]
    },
    {
     "data": {
      "application/vnd.jupyter.widget-view+json": {
       "model_id": "b889f08adf2b4475b9272ae65658e0f8",
       "version_major": 2,
       "version_minor": 0
      },
      "text/plain": [
       "  0%|          | 0/1 [00:00<?, ?it/s]"
      ]
     },
     "metadata": {},
     "output_type": "display_data"
    },
    {
     "data": {
      "image/png": "[encoded data removed]",
      "text/plain": [
       "<Figure size 1080x720 with 1 Axes>"
      ]
     },
     "metadata": {
      "needs_background": "light"
     },
     "output_type": "display_data"
    },
    {
     "name": "stdout",
     "output_type": "stream",
     "text": [
      "CPU times: user 1.13 s, sys: 104 ms, total: 1.24 s\n",
      "Wall time: 6.19 s\n"
     ]
    }
   ],
   "source": [
    "%%time\n",
    "\n",
    "station_of_interest = 66\n",
    "\n",
    "for month in [2,7]:#uniques['month'].sort_values():\n",
    "    \n",
    "    data_of_interest = data[config_year.year][(data[config_year.year].month == month) & (data[config_year.year].station_id == station_of_interest)]\n",
    "\n",
    "    scatter_columns(\n",
    "        data_of_interest, \n",
    "        'day', \n",
    "        'num_bikes_available', \n",
    "        'station_id', \n",
    "        tail=False,\n",
    "        xticks=np.asarray(uniques['day']),\n",
    "        figsize=(15,10),\n",
    "        count=1, \n",
    "        label=f'{month}'\n",
    "    )\n",
    "\n",
    "#plt.legend(uniques['dayofweek_last_updated_date']) # keys.astype(np.int)\n",
    "plt.show()"
   ]
  },
  {
   "cell_type": "code",
   "execution_count": null,
   "id": "bf4c9097",
   "metadata": {},
   "outputs": [
    {
     "name": "stdout",
     "output_type": "stream",
     "text": [
      "value counts stats {'max': 696, 'mean': 696.0, 'median': 696.0, 'std': nan, 'min': 696}\n"
     ]
    },
    {
     "data": {
      "application/vnd.jupyter.widget-view+json": {
       "model_id": "865852743816436196cb7d4aecae7a75",
       "version_major": 2,
       "version_minor": 0
      },
      "text/plain": [
       "  0%|          | 0/1 [00:00<?, ?it/s]"
      ]
     },
     "metadata": {},
     "output_type": "display_data"
    }
   ],
   "source": [
    "%%time\n",
    "\n",
    "station_of_interest = 262\n",
    "\n",
    "for month in [2,7]:#uniques['month'].sort_values():\n",
    "    \n",
    "    data_of_interest = data[config_year.year][(data[config_year.year].month == month) & (data[config_year.year].station_id == station_of_interest)]\n",
    "\n",
    "    scatter_columns(\n",
    "        data_of_interest, \n",
    "        'day', \n",
    "        'num_bikes_available', \n",
    "        'station_id', \n",
    "        tail=False,\n",
    "        xticks=np.asarray(uniques['day']),\n",
    "        figsize=(15,10),\n",
    "        count=1, \n",
    "        label=f'{month}'\n",
    "    )\n",
    "\n",
    "#plt.legend(uniques['dayofweek_last_updated_date']) # keys.astype(np.int)\n",
    "plt.show()"
   ]
  },
  {
   "cell_type": "code",
   "execution_count": null,
   "id": "fc70b560",
   "metadata": {},
   "outputs": [],
   "source": [
    "%%time\n",
    "\n",
    "scatter_columns(data[config_year.year], 'dayofyear', 'num_bikes_available', 'station_id', \n",
    "    tail=True,\n",
    "    xticks=np.asarray(uniques['dayofyear']),\n",
    "    figsize=(15,10),\n",
    "    count=5\n",
    ")"
   ]
  },
  {
   "cell_type": "code",
   "execution_count": null,
   "id": "f3039145",
   "metadata": {},
   "outputs": [],
   "source": [
    "%%time\n",
    "\n",
    "scatter_columns(data[config_year.year], 'hour', 'num_bikes_available', 'station_id', \n",
    "    tail=True,\n",
    "    xticks=np.asarray(uniques['hour']),\n",
    "    figsize=(15,10),\n",
    "    count=5\n",
    ")"
   ]
  },
  {
   "cell_type": "code",
   "execution_count": null,
   "id": "d5c14800",
   "metadata": {},
   "outputs": [],
   "source": [
    "%%time\n",
    "\n",
    "day_of_interest = 200\n",
    "data_of_interest = data[config_year.year][data[config_year.year].dayofyear == day_of_interest]\n",
    "\n",
    "scatter_columns(\n",
    "    data_of_interest, \n",
    "    'hour', \n",
    "    'num_bikes_available', \n",
    "    'station_id', \n",
    "    tail=True,\n",
    "    xticks=np.asarray(uniques['hour']),\n",
    "    figsize=(15,10),\n",
    "    count=5\n",
    ")\n"
   ]
  },
  {
   "cell_type": "code",
   "execution_count": null,
   "id": "5042d415",
   "metadata": {},
   "outputs": [],
   "source": [
    "%%time\n",
    "\n",
    "# https://es.wikipedia.org/wiki/23_de_abril  \n",
    "# data[config_year.year][data[config_year.year].dayofyear_last_updated_date == 113]\n",
    "\n",
    "day_of_interest = 113\n",
    "data_of_interest = data[config_year.year][data[config_year.year].dayofyear == day_of_interest]\n",
    "\n",
    "scatter_columns(\n",
    "    data_of_interest, \n",
    "    'hour', \n",
    "    'num_bikes_available', \n",
    "    'station_id', \n",
    "    tail=False,\n",
    "    xticks=np.asarray(uniques['hour']),\n",
    "    figsize=(15,10),\n",
    "    count=5\n",
    ")\n"
   ]
  },
  {
   "cell_type": "code",
   "execution_count": null,
   "id": "8a97690d",
   "metadata": {},
   "outputs": [],
   "source": [
    "%%time\n",
    "\n",
    "station_of_interest = 66\n",
    "\n",
    "for dayaofweek in uniques['dayofweek'].sort_values():\n",
    "    \n",
    "    data_of_interest = data[config_year.year][(data[config_year.year].dayofweek == dayaofweek) & (data[config_year.year].station_id == station_of_interest)]\n",
    "\n",
    "    scatter_columns(\n",
    "        data_of_interest, \n",
    "        'hour', \n",
    "        'num_bikes_available', \n",
    "        'station_id', \n",
    "        tail=False,\n",
    "        xticks=np.asarray(uniques['hour']),\n",
    "        figsize=(15,10),\n",
    "        count=1, \n",
    "        label=f'{dayaofweek}'\n",
    "    )\n",
    "\n",
    "#plt.legend(uniques['dayofweek_last_updated_date']) # keys.astype(np.int)\n",
    "plt.show()"
   ]
  },
  {
   "cell_type": "code",
   "execution_count": null,
   "id": "11834aaa",
   "metadata": {
    "scrolled": false
   },
   "outputs": [],
   "source": [
    "%%time\n",
    "\n",
    "station_of_interest = 262\n",
    "\n",
    "for dayaofweek in uniques['dayofweek'].sort_values():\n",
    "    \n",
    "    data_of_interest = data[config_year.year][(data[config_year.year].dayofweek == dayaofweek) & (data[config_year.year].station_id == station_of_interest)]\n",
    "\n",
    "    scatter_columns(\n",
    "        data_of_interest, \n",
    "        'hour', \n",
    "        'num_bikes_available', \n",
    "        'station_id', \n",
    "        tail=False,\n",
    "        xticks=np.asarray(uniques['hour']),\n",
    "        figsize=(15,10),\n",
    "        count=1, \n",
    "        label=f'dayofweek:{dayaofweek}'\n",
    "    )\n",
    "\n",
    "#plt.legend(uniques['dayofweek_last_updated_date']) # keys.astype(np.int)\n",
    "plt.show()"
   ]
  },
  {
   "cell_type": "markdown",
   "id": "662f873a",
   "metadata": {},
   "source": [
    "## 2020 is_charging_station"
   ]
  },
  {
   "cell_type": "code",
   "execution_count": null,
   "id": "b4047aff",
   "metadata": {},
   "outputs": [],
   "source": [
    "%%time\n",
    "\n",
    "print(stats.describe(data[config_year.year].is_charging_station))\n",
    "data[config_year.year].is_charging_station.describe().compute()"
   ]
  },
  {
   "cell_type": "code",
   "execution_count": null,
   "id": "19333ec7",
   "metadata": {},
   "outputs": [],
   "source": [
    "%%time\n",
    "\n",
    "show_counts(data[config_year.year].is_charging_station.compute())"
   ]
  },
  {
   "cell_type": "markdown",
   "id": "a324ed37",
   "metadata": {},
   "source": [
    "## 2020 status"
   ]
  },
  {
   "cell_type": "code",
   "execution_count": null,
   "id": "94eb8ce2",
   "metadata": {},
   "outputs": [],
   "source": [
    "%%time\n",
    "\n",
    "print(stats.describe(data[config_year.year].status))\n",
    "data[config_year.year].status.describe().compute()"
   ]
  },
  {
   "cell_type": "code",
   "execution_count": null,
   "id": "8d617d3b",
   "metadata": {},
   "outputs": [],
   "source": [
    "%%time\n",
    "\n",
    "show_counts(data[config_year.year].status.compute())"
   ]
  },
  {
   "cell_type": "markdown",
   "id": "831b7bc1",
   "metadata": {},
   "source": [
    "## 2020 is_installed"
   ]
  },
  {
   "cell_type": "code",
   "execution_count": null,
   "id": "012a3736",
   "metadata": {},
   "outputs": [],
   "source": [
    "%%time\n",
    "\n",
    "print(stats.describe(data[config_year.year].is_installed))\n",
    "data[config_year.year].is_installed.describe().compute()"
   ]
  },
  {
   "cell_type": "code",
   "execution_count": null,
   "id": "c1834eb1",
   "metadata": {},
   "outputs": [],
   "source": [
    "%%time\n",
    "\n",
    "show_counts(data[config_year.year].is_installed.compute())"
   ]
  },
  {
   "cell_type": "markdown",
   "id": "f6cfec23",
   "metadata": {},
   "source": [
    "## 2020 is_renting"
   ]
  },
  {
   "cell_type": "code",
   "execution_count": null,
   "id": "4b81600c",
   "metadata": {},
   "outputs": [],
   "source": [
    "%%time\n",
    "\n",
    "print(stats.describe(data[config_year.year].is_renting))\n",
    "data[config_year.year].is_renting.describe().compute()"
   ]
  },
  {
   "cell_type": "code",
   "execution_count": null,
   "id": "4a66e99d",
   "metadata": {},
   "outputs": [],
   "source": [
    "%%time\n",
    "\n",
    "show_counts(data[config_year.year].is_renting.compute())"
   ]
  },
  {
   "cell_type": "markdown",
   "id": "dc674cd7",
   "metadata": {},
   "source": [
    "## 2020 is_returning"
   ]
  },
  {
   "cell_type": "code",
   "execution_count": null,
   "id": "b93205f6",
   "metadata": {},
   "outputs": [],
   "source": [
    "%%time\n",
    "\n",
    "print(stats.describe(data[config_year.year].is_returning))\n",
    "data[config_year.year].is_returning.describe().compute()"
   ]
  },
  {
   "cell_type": "code",
   "execution_count": null,
   "id": "261c63ec",
   "metadata": {},
   "outputs": [],
   "source": [
    "%%time\n",
    "\n",
    "show_counts(data[config_year.year].is_returning.compute())"
   ]
  },
  {
   "cell_type": "markdown",
   "id": "d7b61d87",
   "metadata": {},
   "source": [
    "## 2020 ctx0"
   ]
  },
  {
   "cell_type": "code",
   "execution_count": null,
   "id": "012329c9",
   "metadata": {},
   "outputs": [],
   "source": [
    "%%time\n",
    "\n",
    "print(stats.describe(data[config_year.year].ctx0))\n",
    "data[config_year.year].ctx0.describe().compute()"
   ]
  },
  {
   "cell_type": "code",
   "execution_count": null,
   "id": "23523bd5",
   "metadata": {},
   "outputs": [],
   "source": [
    "%%time\n",
    "\n",
    "show_counts(data[config_year.year].ctx0.compute())"
   ]
  },
  {
   "cell_type": "code",
   "execution_count": null,
   "id": "c74470b6",
   "metadata": {},
   "outputs": [],
   "source": [
    "%%time\n",
    "\n",
    "# Checking availibilty for docks all year\n",
    "xtikcs_scatter = [uniques['timestamp'][i] for i, x in enumerate(uniques['timestamp']) if i%25==0]\n",
    "print(len(xtikcs_scatter))\n",
    "\n",
    "scatter_columns(\n",
    "    data[config_year.year], \n",
    "    'timestamp', \n",
    "    'ctx0', \n",
    "    'station_id', \n",
    "    tail=False,\n",
    "    xticks=np.asarray(xtikcs_scatter),\n",
    "    figsize=(15,10),\n",
    "    count=1\n",
    ")\n"
   ]
  },
  {
   "cell_type": "raw",
   "id": "25e4a0c9",
   "metadata": {},
   "source": [
    "%%time\n",
    "\n",
    "# reactivate when merging with other years\n",
    "\n",
    "scatter_columns(\n",
    "    data[config_year.year], \n",
    "    'year_last_updated_date', \n",
    "    'ctx0', \n",
    "    'station_id', \n",
    "    tail=True,\n",
    "    xticks=np.asarray(uniques['year_last_updated_date']),\n",
    "    figsize=(15,10),\n",
    "    count=5\n",
    ")"
   ]
  },
  {
   "cell_type": "code",
   "execution_count": null,
   "id": "b2cd5b03",
   "metadata": {},
   "outputs": [],
   "source": [
    "%%time\n",
    "\n",
    "scatter_columns(\n",
    "    data[config_year.year], \n",
    "    'month', \n",
    "    'ctx0', \n",
    "    'station_id', \n",
    "    tail=True,\n",
    "    xticks=np.asarray(uniques['month']),\n",
    "    figsize=(15,10),\n",
    "    count=5\n",
    ")"
   ]
  },
  {
   "cell_type": "code",
   "execution_count": null,
   "id": "bf6de2ea",
   "metadata": {},
   "outputs": [],
   "source": [
    "%%time\n",
    "\n",
    "scatter_columns(\n",
    "    data[config_year.year], \n",
    "    'dayofweek', \n",
    "    'ctx0', \n",
    "    'station_id', \n",
    "    tail=True,\n",
    "    xticks=np.asarray(uniques['dayofweek']),\n",
    "    figsize=(15,10),\n",
    "    count=5\n",
    ")"
   ]
  },
  {
   "cell_type": "code",
   "execution_count": null,
   "id": "6404d478",
   "metadata": {},
   "outputs": [],
   "source": [
    "%%time\n",
    "\n",
    "# mean for all months\n",
    "scatter_columns(data[config_year.year], 'day', 'ctx0', 'station_id', \n",
    "    tail=True,\n",
    "    xticks=np.asarray(uniques['day']),\n",
    "    figsize=(15,10),\n",
    "    count=5\n",
    ")\n"
   ]
  },
  {
   "cell_type": "code",
   "execution_count": null,
   "id": "d96c793b",
   "metadata": {},
   "outputs": [],
   "source": [
    "%%time\n",
    "\n",
    "station_of_interest = 66\n",
    "\n",
    "for month in [2,7]:#uniques['month'].sort_values():\n",
    "    \n",
    "    data_of_interest = data[config_year.year][(data[config_year.year].month == month) & (data[config_year.year].station_id == station_of_interest)]\n",
    "\n",
    "    scatter_columns(\n",
    "        data_of_interest, \n",
    "        'day', \n",
    "        'ctx0', \n",
    "        'station_id', \n",
    "        tail=False,\n",
    "        xticks=np.asarray(uniques['day']),\n",
    "        figsize=(15,10),\n",
    "        count=1, \n",
    "        label=f'{month}'\n",
    "    )\n",
    "\n",
    "#plt.legend(uniques['dayofweek_last_updated_date']) # keys.astype(np.int)\n",
    "plt.show()"
   ]
  },
  {
   "cell_type": "code",
   "execution_count": null,
   "id": "2981358a",
   "metadata": {},
   "outputs": [],
   "source": [
    "%%time\n",
    "\n",
    "station_of_interest = 262\n",
    "\n",
    "for month in [2,7]:#uniques['month'].sort_values():\n",
    "    \n",
    "    data_of_interest = data[config_year.year][(data[config_year.year].month == month) & (data[config_year.year].station_id == station_of_interest)]\n",
    "\n",
    "    scatter_columns(\n",
    "        data_of_interest, \n",
    "        'day', \n",
    "        'ctx0', \n",
    "        'station_id', \n",
    "        tail=False,\n",
    "        xticks=np.asarray(uniques['day']),\n",
    "        figsize=(15,10),\n",
    "        count=1, \n",
    "        label=f'{month}'\n",
    "    )\n",
    "\n",
    "#plt.legend(uniques['dayofweek_last_updated_date']) # keys.astype(np.int)\n",
    "plt.show()"
   ]
  },
  {
   "cell_type": "code",
   "execution_count": null,
   "id": "440a3ee1",
   "metadata": {},
   "outputs": [],
   "source": [
    "%%time\n",
    "\n",
    "scatter_columns(data[config_year.year], 'dayofyear', 'ctx0', 'station_id', \n",
    "    tail=True,\n",
    "    xticks=np.asarray(uniques['dayofyear']),\n",
    "    figsize=(15,10),\n",
    "    count=5\n",
    ")"
   ]
  },
  {
   "cell_type": "code",
   "execution_count": null,
   "id": "b97964fa",
   "metadata": {},
   "outputs": [],
   "source": [
    "%%time\n",
    "\n",
    "scatter_columns(data[config_year.year], 'hour', 'ctx0', 'station_id', \n",
    "    tail=True,\n",
    "    xticks=np.asarray(uniques['hour']),\n",
    "    figsize=(15,10),\n",
    "    count=5\n",
    ")"
   ]
  },
  {
   "cell_type": "code",
   "execution_count": null,
   "id": "bfc122a2",
   "metadata": {},
   "outputs": [],
   "source": [
    "%%time\n",
    "\n",
    "day_of_interest = 200\n",
    "data_of_interest = data[config_year.year][data[config_year.year].dayofyear == day_of_interest]\n",
    "\n",
    "scatter_columns(\n",
    "    data_of_interest, \n",
    "    'hour', \n",
    "    'ctx0', \n",
    "    'station_id', \n",
    "    tail=True,\n",
    "    xticks=np.asarray(uniques['hour']),\n",
    "    figsize=(15,10),\n",
    "    count=5\n",
    ")\n"
   ]
  },
  {
   "cell_type": "code",
   "execution_count": null,
   "id": "420ea93a",
   "metadata": {},
   "outputs": [],
   "source": [
    "%%time\n",
    "\n",
    "# https://es.wikipedia.org/wiki/23_de_abril  \n",
    "# data[config_year.year][data[config_year.year].dayofyear_last_updated_date == 113]\n",
    "\n",
    "day_of_interest = 113\n",
    "data_of_interest = data[config_year.year][data[config_year.year].dayofyear == day_of_interest]\n",
    "\n",
    "scatter_columns(\n",
    "    data_of_interest, \n",
    "    'hour', \n",
    "    'ctx0', \n",
    "    'station_id', \n",
    "    tail=False,\n",
    "    xticks=np.asarray(uniques['hour']),\n",
    "    figsize=(15,10),\n",
    "    count=5\n",
    ")\n"
   ]
  },
  {
   "cell_type": "code",
   "execution_count": null,
   "id": "694b1088",
   "metadata": {},
   "outputs": [],
   "source": [
    "%%time\n",
    "\n",
    "station_of_interest = 66\n",
    "\n",
    "for dayaofweek in uniques['dayofweek'].sort_values():\n",
    "    \n",
    "    data_of_interest = data[config_year.year][(data[config_year.year].dayofweek == dayaofweek) & (data[config_year.year].station_id == station_of_interest)]\n",
    "\n",
    "    scatter_columns(\n",
    "        data_of_interest, \n",
    "        'hour', \n",
    "        'ctx0', \n",
    "        'station_id', \n",
    "        tail=False,\n",
    "        xticks=np.asarray(uniques['hour']),\n",
    "        figsize=(15,10),\n",
    "        count=1, \n",
    "        label=f'{dayaofweek}'\n",
    "    )\n",
    "\n",
    "#plt.legend(uniques['dayofweek_last_updated_date']) # keys.astype(np.int)\n",
    "plt.show()"
   ]
  },
  {
   "cell_type": "code",
   "execution_count": null,
   "id": "12c7697e",
   "metadata": {
    "scrolled": false
   },
   "outputs": [],
   "source": [
    "%%time\n",
    "\n",
    "station_of_interest = 262\n",
    "\n",
    "for dayaofweek in uniques['dayofweek'].sort_values():\n",
    "    \n",
    "    data_of_interest = data[config_year.year][(data[config_year.year].dayofweek == dayaofweek) & (data[config_year.year].station_id == station_of_interest)]\n",
    "\n",
    "    scatter_columns(\n",
    "        data_of_interest, \n",
    "        'hour', \n",
    "        'ctx0', \n",
    "        'station_id', \n",
    "        tail=False,\n",
    "        xticks=np.asarray(uniques['hour']),\n",
    "        figsize=(15,10),\n",
    "        count=1, \n",
    "        label=f'dayofweek:{dayaofweek}'\n",
    "    )\n",
    "\n",
    "#plt.legend(uniques['dayofweek_last_updated_date']) # keys.astype(np.int)\n",
    "plt.show()"
   ]
  },
  {
   "cell_type": "code",
   "execution_count": null,
   "id": "71b84d08",
   "metadata": {},
   "outputs": [],
   "source": []
  },
  {
   "cell_type": "code",
   "execution_count": null,
   "id": "fe73ca04",
   "metadata": {},
   "outputs": [],
   "source": []
  }
 ],
 "metadata": {
  "kernelspec": {
   "display_name": "Python 3",
   "language": "python",
   "name": "python3"
  },
  "language_info": {
   "codemirror_mode": {
    "name": "ipython",
    "version": 3
   },
   "file_extension": ".py",
   "mimetype": "text/x-python",
   "name": "python",
   "nbconvert_exporter": "python",
   "pygments_lexer": "ipython3",
   "version": "3.6.13"
  }
 },
 "nbformat": 4,
 "nbformat_minor": 5
}
