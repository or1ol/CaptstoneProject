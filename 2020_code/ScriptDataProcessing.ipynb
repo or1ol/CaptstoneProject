{
 "cells": [
  {
   "cell_type": "code",
   "execution_count": 1,
   "id": "e494720a",
   "metadata": {},
   "outputs": [
    {
     "data": {
      "text/html": [
       "<style>.container { width:80% !important; }</style>"
      ],
      "text/plain": [
       "<IPython.core.display.HTML object>"
      ]
     },
     "metadata": {},
     "output_type": "display_data"
    }
   ],
   "source": [
    "from IPython.core.display import display, HTML\n",
    "display(HTML(\"<style>.container { width:80% !important; }</style>\"))\n",
    "\n",
    "import os\n",
    "\n",
    "# Python ≥3.5 is required\n",
    "import sys\n",
    "assert sys.version_info >= (3, 5)\n",
    "\n",
    "# Scikit-Learn ≥0.20 is required\n",
    "import sklearn\n",
    "assert sklearn.__version__ >= \"0.20\"\n",
    "\n",
    "from sklearn.ensemble import RandomForestRegressor\n",
    "from sklearn.ensemble import GradientBoostingRegressor\n",
    "from sklearn.model_selection import cross_val_score\n",
    "from sklearn.metrics import mean_squared_error, r2_score\n",
    "from sklearn.metrics import mean_absolute_error\n",
    "\n",
    "import pandas as pd\n",
    "import numpy as np\n",
    "pd.set_option('display.max_columns', None)\n",
    "\n",
    "# To plot pretty figures\n",
    "%matplotlib inline\n",
    "import matplotlib as mpl\n",
    "import matplotlib.pyplot as plt\n",
    "\n",
    "import scipy.stats as stats\n",
    "\n",
    "import seaborn as sns\n",
    "\n",
    "from datetime import datetime\n",
    "\n",
    "import re\n",
    "\n",
    "from tqdm.notebook import tqdm\n",
    "\n",
    "import dask.dataframe as dd\n",
    "from dask.distributed import Client\n",
    "\n",
    "sys.path.insert(0, '../tools/')\n",
    "\n",
    "from tools import * "
   ]
  },
  {
   "cell_type": "code",
   "execution_count": 2,
   "id": "a4287a45",
   "metadata": {},
   "outputs": [],
   "source": [
    "config = pd.Series({\n",
    "    'path': os.path.abspath('../dades'),\n",
    "    'file_type':'csv',\n",
    "    'years':[2020],\n",
    "    'dataset': 'BicingNou_ESTACIONS_CLEAN'\n",
    "})\n"
   ]
  },
  {
   "cell_type": "code",
   "execution_count": 3,
   "id": "2bd014c8",
   "metadata": {},
   "outputs": [
    {
     "data": {
      "text/html": [
       "<table style=\"border: 2px solid white;\">\n",
       "<tr>\n",
       "<td style=\"vertical-align: top; border: 0px solid white\">\n",
       "<h3 style=\"text-align: left;\">Client</h3>\n",
       "<ul style=\"text-align: left; list-style: none; margin: 0; padding: 0;\">\n",
       "  <li><b>Scheduler: </b>tcp://127.0.0.1:35511</li>\n",
       "  <li><b>Dashboard: </b><a href='http://127.0.0.1:8787/status' target='_blank'>http://127.0.0.1:8787/status</a></li>\n",
       "</ul>\n",
       "</td>\n",
       "<td style=\"vertical-align: top; border: 0px solid white\">\n",
       "<h3 style=\"text-align: left;\">Cluster</h3>\n",
       "<ul style=\"text-align: left; list-style:none; margin: 0; padding: 0;\">\n",
       "  <li><b>Workers: </b>4</li>\n",
       "  <li><b>Cores: </b>16</li>\n",
       "  <li><b>Memory: </b>16.44 GB</li>\n",
       "</ul>\n",
       "</td>\n",
       "</tr>\n",
       "</table>"
      ],
      "text/plain": [
       "<Client: 'tcp://127.0.0.1:35511' processes=4 threads=16, memory=16.44 GB>"
      ]
     },
     "execution_count": 3,
     "metadata": {},
     "output_type": "execute_result"
    }
   ],
   "source": [
    "client = Client()\n",
    "client"
   ]
  },
  {
   "cell_type": "markdown",
   "id": "9349a524",
   "metadata": {},
   "source": [
    "# Read data"
   ]
  },
  {
   "cell_type": "code",
   "execution_count": 4,
   "id": "5424d9d1",
   "metadata": {},
   "outputs": [
    {
     "data": {
      "application/vnd.jupyter.widget-view+json": {
       "model_id": "c9275d7e0aab4db5a73ee88d93a527cc",
       "version_major": 2,
       "version_minor": 0
      },
      "text/plain": [
       "  0%|          | 0/1 [00:00<?, ?it/s]"
      ]
     },
     "metadata": {},
     "output_type": "display_data"
    },
    {
     "data": {
      "application/vnd.jupyter.widget-view+json": {
       "model_id": "516bcb2b3dcf4066bb4ad93458bac746",
       "version_major": 2,
       "version_minor": 0
      },
      "text/plain": [
       "  0%|          | 0/12 [00:00<?, ?it/s]"
      ]
     },
     "metadata": {},
     "output_type": "display_data"
    },
    {
     "name": "stdout",
     "output_type": "stream",
     "text": [
      "CPU times: user 186 ms, sys: 59.3 ms, total: 245 ms\n",
      "Wall time: 237 ms\n"
     ]
    }
   ],
   "source": [
    "%%time\n",
    "\n",
    "data = read_dask_dataframes(config.path, config.file_type, config.dataset, config.years)"
   ]
  },
  {
   "cell_type": "markdown",
   "id": "220d2efd",
   "metadata": {},
   "source": [
    "# 2020 "
   ]
  },
  {
   "cell_type": "code",
   "execution_count": 5,
   "id": "3b7ad367",
   "metadata": {},
   "outputs": [],
   "source": [
    "config_year = pd.Series({\n",
    "    'path':config.path,\n",
    "    'file_type':config.file_type,\n",
    "    'year':2020,\n",
    "    'dataset': 'BicingNou_ESTACIONS_MOD'\n",
    "})"
   ]
  },
  {
   "cell_type": "code",
   "execution_count": 6,
   "id": "9f9c6856",
   "metadata": {},
   "outputs": [
    {
     "data": {
      "text/plain": [
       "13"
      ]
     },
     "execution_count": 6,
     "metadata": {},
     "output_type": "execute_result"
    }
   ],
   "source": [
    "len(data[config_year.year].divisions) # divisions mark the start and end of each partiotion\n",
    "# in our case we have nones but that is okay"
   ]
  },
  {
   "cell_type": "code",
   "execution_count": 7,
   "id": "e45166fb",
   "metadata": {},
   "outputs": [],
   "source": [
    "first_size = get_ddf_shape(data[config_year.year])"
   ]
  },
  {
   "cell_type": "code",
   "execution_count": 8,
   "id": "2bdc2972",
   "metadata": {},
   "outputs": [
    {
     "data": {
      "text/html": [
       "<div><strong>Dask DataFrame Structure:</strong></div>\n",
       "<div>\n",
       "<style scoped>\n",
       "    .dataframe tbody tr th:only-of-type {\n",
       "        vertical-align: middle;\n",
       "    }\n",
       "\n",
       "    .dataframe tbody tr th {\n",
       "        vertical-align: top;\n",
       "    }\n",
       "\n",
       "    .dataframe thead th {\n",
       "        text-align: right;\n",
       "    }\n",
       "</style>\n",
       "<table border=\"1\" class=\"dataframe\">\n",
       "  <thead>\n",
       "    <tr style=\"text-align: right;\">\n",
       "      <th></th>\n",
       "      <th>station_id</th>\n",
       "      <th>num_bikes_available</th>\n",
       "      <th>num_bikes_available_types.mechanical</th>\n",
       "      <th>num_bikes_available_types.ebike</th>\n",
       "      <th>num_docks_available</th>\n",
       "      <th>is_installed</th>\n",
       "      <th>is_renting</th>\n",
       "      <th>is_returning</th>\n",
       "      <th>last_reported</th>\n",
       "      <th>is_charging_station</th>\n",
       "      <th>status</th>\n",
       "      <th>last_updated</th>\n",
       "      <th>year_last_updated_date</th>\n",
       "      <th>month_last_updated_date</th>\n",
       "      <th>week_last_updated_date</th>\n",
       "      <th>dayofweek_last_updated_date</th>\n",
       "      <th>dayofmonth_last_updated_date</th>\n",
       "      <th>dayofyear_last_updated_date</th>\n",
       "      <th>hour_last_updated_date</th>\n",
       "    </tr>\n",
       "    <tr>\n",
       "      <th>npartitions=12</th>\n",
       "      <th></th>\n",
       "      <th></th>\n",
       "      <th></th>\n",
       "      <th></th>\n",
       "      <th></th>\n",
       "      <th></th>\n",
       "      <th></th>\n",
       "      <th></th>\n",
       "      <th></th>\n",
       "      <th></th>\n",
       "      <th></th>\n",
       "      <th></th>\n",
       "      <th></th>\n",
       "      <th></th>\n",
       "      <th></th>\n",
       "      <th></th>\n",
       "      <th></th>\n",
       "      <th></th>\n",
       "      <th></th>\n",
       "    </tr>\n",
       "  </thead>\n",
       "  <tbody>\n",
       "    <tr>\n",
       "      <th></th>\n",
       "      <td>float64</td>\n",
       "      <td>float64</td>\n",
       "      <td>float64</td>\n",
       "      <td>float64</td>\n",
       "      <td>float64</td>\n",
       "      <td>float64</td>\n",
       "      <td>float64</td>\n",
       "      <td>float64</td>\n",
       "      <td>float64</td>\n",
       "      <td>float64</td>\n",
       "      <td>float64</td>\n",
       "      <td>float64</td>\n",
       "      <td>float64</td>\n",
       "      <td>float64</td>\n",
       "      <td>float64</td>\n",
       "      <td>float64</td>\n",
       "      <td>float64</td>\n",
       "      <td>float64</td>\n",
       "      <td>float64</td>\n",
       "    </tr>\n",
       "    <tr>\n",
       "      <th></th>\n",
       "      <td>...</td>\n",
       "      <td>...</td>\n",
       "      <td>...</td>\n",
       "      <td>...</td>\n",
       "      <td>...</td>\n",
       "      <td>...</td>\n",
       "      <td>...</td>\n",
       "      <td>...</td>\n",
       "      <td>...</td>\n",
       "      <td>...</td>\n",
       "      <td>...</td>\n",
       "      <td>...</td>\n",
       "      <td>...</td>\n",
       "      <td>...</td>\n",
       "      <td>...</td>\n",
       "      <td>...</td>\n",
       "      <td>...</td>\n",
       "      <td>...</td>\n",
       "      <td>...</td>\n",
       "    </tr>\n",
       "    <tr>\n",
       "      <th>...</th>\n",
       "      <td>...</td>\n",
       "      <td>...</td>\n",
       "      <td>...</td>\n",
       "      <td>...</td>\n",
       "      <td>...</td>\n",
       "      <td>...</td>\n",
       "      <td>...</td>\n",
       "      <td>...</td>\n",
       "      <td>...</td>\n",
       "      <td>...</td>\n",
       "      <td>...</td>\n",
       "      <td>...</td>\n",
       "      <td>...</td>\n",
       "      <td>...</td>\n",
       "      <td>...</td>\n",
       "      <td>...</td>\n",
       "      <td>...</td>\n",
       "      <td>...</td>\n",
       "      <td>...</td>\n",
       "    </tr>\n",
       "    <tr>\n",
       "      <th></th>\n",
       "      <td>...</td>\n",
       "      <td>...</td>\n",
       "      <td>...</td>\n",
       "      <td>...</td>\n",
       "      <td>...</td>\n",
       "      <td>...</td>\n",
       "      <td>...</td>\n",
       "      <td>...</td>\n",
       "      <td>...</td>\n",
       "      <td>...</td>\n",
       "      <td>...</td>\n",
       "      <td>...</td>\n",
       "      <td>...</td>\n",
       "      <td>...</td>\n",
       "      <td>...</td>\n",
       "      <td>...</td>\n",
       "      <td>...</td>\n",
       "      <td>...</td>\n",
       "      <td>...</td>\n",
       "    </tr>\n",
       "    <tr>\n",
       "      <th></th>\n",
       "      <td>...</td>\n",
       "      <td>...</td>\n",
       "      <td>...</td>\n",
       "      <td>...</td>\n",
       "      <td>...</td>\n",
       "      <td>...</td>\n",
       "      <td>...</td>\n",
       "      <td>...</td>\n",
       "      <td>...</td>\n",
       "      <td>...</td>\n",
       "      <td>...</td>\n",
       "      <td>...</td>\n",
       "      <td>...</td>\n",
       "      <td>...</td>\n",
       "      <td>...</td>\n",
       "      <td>...</td>\n",
       "      <td>...</td>\n",
       "      <td>...</td>\n",
       "      <td>...</td>\n",
       "    </tr>\n",
       "  </tbody>\n",
       "</table>\n",
       "</div>\n",
       "<div>Dask Name: concat, 24 tasks</div>"
      ],
      "text/plain": [
       "Dask DataFrame Structure:\n",
       "               station_id num_bikes_available num_bikes_available_types.mechanical num_bikes_available_types.ebike num_docks_available is_installed is_renting is_returning last_reported is_charging_station   status last_updated year_last_updated_date month_last_updated_date week_last_updated_date dayofweek_last_updated_date dayofmonth_last_updated_date dayofyear_last_updated_date hour_last_updated_date\n",
       "npartitions=12                                                                                                                                                                                                                                                                                                                                                                                                       \n",
       "                  float64             float64                              float64                         float64             float64      float64    float64      float64       float64             float64  float64      float64                float64                 float64                float64                     float64                      float64                     float64                float64\n",
       "                      ...                 ...                                  ...                             ...                 ...          ...        ...          ...           ...                 ...      ...          ...                    ...                     ...                    ...                         ...                          ...                         ...                    ...\n",
       "...                   ...                 ...                                  ...                             ...                 ...          ...        ...          ...           ...                 ...      ...          ...                    ...                     ...                    ...                         ...                          ...                         ...                    ...\n",
       "                      ...                 ...                                  ...                             ...                 ...          ...        ...          ...           ...                 ...      ...          ...                    ...                     ...                    ...                         ...                          ...                         ...                    ...\n",
       "                      ...                 ...                                  ...                             ...                 ...          ...        ...          ...           ...                 ...      ...          ...                    ...                     ...                    ...                         ...                          ...                         ...                    ...\n",
       "Dask Name: concat, 24 tasks"
      ]
     },
     "execution_count": 8,
     "metadata": {},
     "output_type": "execute_result"
    }
   ],
   "source": [
    "data[config_year.year]"
   ]
  },
  {
   "cell_type": "markdown",
   "id": "35838ed0",
   "metadata": {},
   "source": [
    "## Preprocessing"
   ]
  },
  {
   "cell_type": "code",
   "execution_count": 9,
   "id": "73ab97db",
   "metadata": {},
   "outputs": [
    {
     "name": "stdout",
     "output_type": "stream",
     "text": [
      "CPU times: user 1.28 s, sys: 65.7 ms, total: 1.35 s\n",
      "Wall time: 2.88 s\n"
     ]
    }
   ],
   "source": [
    "%%time\n",
    "\n",
    "# do not execute everytime, takes 17s and eat the memory. Once executed disable the cell and restart the notebook. Since this cell saves a checkpoint you can continue without it.\n",
    "\n",
    "data[config_year.year] = data[config_year.year].drop(['week_last_updated_date', 'last_reported'], axis=1)\n",
    "\n",
    "data[config_year.year]['station_id']=data[config_year.year]['station_id'].astype(int)\n",
    "data[config_year.year]['is_charging_station']=data[config_year.year]['is_charging_station'].astype(int)\n",
    "data[config_year.year]['last_updated']=data[config_year.year]['last_updated'].astype(int)\n",
    "data[config_year.year]['year_last_updated_date']=data[config_year.year]['year_last_updated_date'].astype(int)\n",
    "data[config_year.year]['month_last_updated_date']=data[config_year.year]['month_last_updated_date'].astype(int)\n",
    "data[config_year.year]['dayofweek_last_updated_date']=data[config_year.year]['dayofweek_last_updated_date'].astype(int)\n",
    "data[config_year.year]['dayofmonth_last_updated_date']=data[config_year.year]['dayofmonth_last_updated_date'].astype(int)\n",
    "data[config_year.year]['dayofyear_last_updated_date']=data[config_year.year]['dayofyear_last_updated_date'].astype(int)\n",
    "data[config_year.year]['hour_last_updated_date']=data[config_year.year]['hour_last_updated_date'].astype(int)\n",
    "\n",
    "data[config_year.year]['status']=data[config_year.year]['status'].round().astype(int)\n",
    "data[config_year.year]['is_installed']=data[config_year.year]['is_installed'].round().astype(int)\n",
    "data[config_year.year]['is_renting']=data[config_year.year]['is_renting'].round().astype(int)\n",
    "data[config_year.year]['is_returning']=data[config_year.year]['is_returning'].round().astype(int)\n",
    "\n",
    "# Found two station with alot of missing values \n",
    "# best solution is to remove\n",
    "condition = (data[config_year.year]['station_id'].isin([503.0, 529.0, 523.0, 530.0, 521.0, 225.0, 520.0, 522.0, 524.0, 525.0, 526.0, 527.0]))\n",
    "data[config_year.year] = data[config_year.year].mask(condition, np.nan)\n",
    "data[config_year.year] = data[config_year.year].dropna(subset=['station_id'])\n",
    "\n",
    "last_size = get_ddf_shape(data[config_year.year])\n",
    "\n",
    "new_columns = {\n",
    "    'last_updated': 'timestamp',\n",
    "    'year_last_updated_date':'year', \n",
    "    'month_last_updated_date':'month',\n",
    "    'dayofweek_last_updated_date':'dayofweek', \n",
    "    'dayofmonth_last_updated_date':'day', \n",
    "    'dayofyear_last_updated_date':'dayofyear',\n",
    "    'hour_last_updated_date':'hour'\n",
    "}\n",
    "\n",
    "data[config_year.year] = data[config_year.year].rename(columns=new_columns)"
   ]
  },
  {
   "cell_type": "code",
   "execution_count": 10,
   "id": "b1117035",
   "metadata": {},
   "outputs": [
    {
     "name": "stdout",
     "output_type": "stream",
     "text": [
      "checkpoint saved.\n"
     ]
    }
   ],
   "source": [
    "save_checkpoint(data[config_year.year], config_year)\n",
    "\n",
    "# checkpoint saved.\n",
    "# CPU times: user 2.12 s, sys: 250 ms, total: 2.37 s\n",
    "# Wall time: 17.3 s"
   ]
  },
  {
   "cell_type": "code",
   "execution_count": 11,
   "id": "a9366d9b",
   "metadata": {},
   "outputs": [
    {
     "name": "stdout",
     "output_type": "stream",
     "text": [
      "checkpoint reloaded.\n",
      "CPU times: user 16.3 ms, sys: 0 ns, total: 16.3 ms\n",
      "Wall time: 15.4 ms\n"
     ]
    }
   ],
   "source": [
    "%%time\n",
    "\n",
    "data[config_year.year] = load_checkpoint(config_year)\n",
    "\n",
    "# checkpoint reloaded."
   ]
  },
  {
   "cell_type": "code",
   "execution_count": 12,
   "id": "2c3a647b",
   "metadata": {},
   "outputs": [
    {
     "name": "stdout",
     "output_type": "stream",
     "text": [
      "Changes to dataframe durinf preprocessing\n",
      "dropeed -8304 rows\n",
      "dropped -2 columns\n",
      "CPU times: user 149 ms, sys: 0 ns, total: 149 ms\n",
      "Wall time: 930 ms\n"
     ]
    }
   ],
   "source": [
    "%%time\n",
    "\n",
    "last_size = get_ddf_shape(data[config_year.year])\n",
    "\n",
    "print('Changes to dataframe durinf preprocessing')\n",
    "print(f'dropeed {(last_size[0]-first_size[0]):02d} rows')\n",
    "print(f'dropped {(last_size[1]-first_size[1]):02d} columns')"
   ]
  },
  {
   "cell_type": "code",
   "execution_count": 13,
   "id": "61db0537",
   "metadata": {},
   "outputs": [
    {
     "data": {
      "text/plain": [
       "13"
      ]
     },
     "execution_count": 13,
     "metadata": {},
     "output_type": "execute_result"
    }
   ],
   "source": [
    "len(data[config_year.year].divisions) # divisions mark the start and end of each partiotion\n",
    "# in our case we have nones but that is okay"
   ]
  },
  {
   "cell_type": "raw",
   "id": "5cc068bf",
   "metadata": {},
   "source": [
    "print_partitions(data[config_year.year])"
   ]
  },
  {
   "cell_type": "code",
   "execution_count": 14,
   "id": "17180ed3",
   "metadata": {},
   "outputs": [
    {
     "name": "stdout",
     "output_type": "stream",
     "text": [
      "CPU times: user 655 ms, sys: 0 ns, total: 655 ms\n",
      "Wall time: 4.36 s\n"
     ]
    }
   ],
   "source": [
    "%%time\n",
    "\n",
    "nans = get_features_nans(data[config_year.year])\n",
    "\n",
    "zeros = get_features_zero(data[config_year.year])"
   ]
  },
  {
   "cell_type": "code",
   "execution_count": 15,
   "id": "a71ccd91",
   "metadata": {},
   "outputs": [
    {
     "data": {
      "text/plain": [
       "{}"
      ]
     },
     "execution_count": 15,
     "metadata": {},
     "output_type": "execute_result"
    }
   ],
   "source": [
    "nans"
   ]
  },
  {
   "cell_type": "code",
   "execution_count": 16,
   "id": "40239ba4",
   "metadata": {},
   "outputs": [
    {
     "data": {
      "text/plain": [
       "{'num_bikes_available': 4.219036053973087,\n",
       " 'num_bikes_available_types.mechanical': 10.947011491612026,\n",
       " 'num_bikes_available_types.ebike': 34.745553283545874,\n",
       " 'num_docks_available': 0.9716343731840344,\n",
       " 'is_installed': 0.015522390067015257,\n",
       " 'is_renting': 0.6032157685068078,\n",
       " 'is_returning': 0.5911116665050918,\n",
       " 'is_charging_station': 0.0001681125278016093,\n",
       " 'status': 99.41056945877293,\n",
       " 'dayofweek': 14.430106936378934,\n",
       " 'hour': 4.134531489998145}"
      ]
     },
     "execution_count": 16,
     "metadata": {},
     "output_type": "execute_result"
    }
   ],
   "source": [
    "zeros"
   ]
  },
  {
   "cell_type": "code",
   "execution_count": 17,
   "id": "ad9ea960",
   "metadata": {},
   "outputs": [],
   "source": [
    "# nuniques = get_columns_nunique(data[config_year.year])\n",
    "\n",
    "# pd.Series(nuniques)\n",
    "# station_id                                  511\n",
    "# num_bikes_available                        5413\n",
    "# num_bikes_available_types.mechanical       4950\n",
    "# num_bikes_available_types.ebike            2412\n",
    "# num_docks_available                        5641\n",
    "# last_reported                           3085646\n",
    "# is_charging_station                           2\n",
    "# status                                      264\n",
    "# is_installed                                 50\n",
    "# is_renting                                  230\n",
    "# is_returning                                230\n",
    "# timestamp                                  8700\n",
    "# year                                          2\n",
    "# month                                        12\n",
    "# week                                         53\n",
    "# dayofweek                                     7\n",
    "# day                                          31\n",
    "# dayofyear                                   366\n",
    "# hour                                         24\n",
    "# traffic                                    1741\n",
    "# dtype: int64\n",
    "    \n",
    "uniques = get_columns_unique(data[config_year.year])"
   ]
  },
  {
   "cell_type": "code",
   "execution_count": 18,
   "id": "1eb3676a",
   "metadata": {},
   "outputs": [
    {
     "data": {
      "text/plain": [
       "{'station_id': 0        1\n",
       " 1      301\n",
       " 2      300\n",
       " 3      299\n",
       " 4       14\n",
       "       ... \n",
       " 501    366\n",
       " 502    452\n",
       " 503    450\n",
       " 504    465\n",
       " 505    502\n",
       " Name: station_id, Length: 506, dtype: int64,\n",
       " 'num_bikes_available': 0       21.555556\n",
       " 1       23.333333\n",
       " 2       26.000000\n",
       " 3       28.181818\n",
       " 4       31.000000\n",
       "           ...    \n",
       " 4289    29.277778\n",
       " 4290    24.150000\n",
       " 4291    33.850000\n",
       " 4292    29.227273\n",
       " 4293     2.136364\n",
       " Name: num_bikes_available, Length: 4294, dtype: float64,\n",
       " 'num_bikes_available_types.mechanical': 0       21.444444\n",
       " 1       23.333333\n",
       " 2       24.222222\n",
       " 3       26.272727\n",
       " 4       29.000000\n",
       "           ...    \n",
       " 3904    29.277778\n",
       " 3905     6.045455\n",
       " 3906    36.583333\n",
       " 3907    33.850000\n",
       " 3908    29.227273\n",
       " Name: num_bikes_available_types.mechanical, Length: 3909, dtype: float64,\n",
       " 'num_bikes_available_types.ebike': 0        0.111111\n",
       " 1        0.000000\n",
       " 2        1.777778\n",
       " 3        1.909091\n",
       " 4        2.000000\n",
       "           ...    \n",
       " 1737     5.150000\n",
       " 1738     1.128205\n",
       " 1739     1.772727\n",
       " 1740    20.818182\n",
       " 1741    13.071429\n",
       " Name: num_bikes_available_types.ebike, Length: 1742, dtype: float64,\n",
       " 'num_docks_available': 0       22.444444\n",
       " 1       20.666667\n",
       " 2       18.000000\n",
       " 3       15.818182\n",
       " 4       13.000000\n",
       "           ...    \n",
       " 4224    17.538462\n",
       " 4225     5.772727\n",
       " 4226    37.611111\n",
       " 4227    19.954545\n",
       " 4228    23.863636\n",
       " Name: num_docks_available, Length: 4229, dtype: float64,\n",
       " 'is_installed': 0    1\n",
       " 1    0\n",
       " Name: is_installed, dtype: int64,\n",
       " 'is_renting': 0    1\n",
       " 1    0\n",
       " Name: is_renting, dtype: int64,\n",
       " 'is_returning': 0    1\n",
       " 1    0\n",
       " Name: is_returning, dtype: int64,\n",
       " 'is_charging_station': 0    1\n",
       " 1    0\n",
       " Name: is_charging_station, dtype: int64,\n",
       " 'status': 0    0\n",
       " 1    1\n",
       " 2    3\n",
       " 3    2\n",
       " Name: status, dtype: int64,\n",
       " 'timestamp': 0       1577833200\n",
       " 1       1577836800\n",
       " 2       1577840400\n",
       " 3       1577844000\n",
       " 4       1577847600\n",
       "            ...    \n",
       " 8156    1609437600\n",
       " 8157    1609441200\n",
       " 8158    1609444800\n",
       " 8159    1609448400\n",
       " 8160    1609452000\n",
       " Name: timestamp, Length: 8161, dtype: int64,\n",
       " 'year': 0    2019\n",
       " 1    2020\n",
       " Name: year, dtype: int64,\n",
       " 'month': 0     12\n",
       " 1      1\n",
       " 2      2\n",
       " 3      3\n",
       " 4      4\n",
       " 5      5\n",
       " 6      6\n",
       " 7      7\n",
       " 8      8\n",
       " 9      9\n",
       " 10    10\n",
       " 11    11\n",
       " Name: month, dtype: int64,\n",
       " 'dayofweek': 0    1\n",
       " 1    2\n",
       " 2    3\n",
       " 3    4\n",
       " 4    5\n",
       " 5    6\n",
       " 6    0\n",
       " Name: dayofweek, dtype: int64,\n",
       " 'day': 0     31\n",
       " 1      1\n",
       " 2      2\n",
       " 3      3\n",
       " 4      4\n",
       " 5      5\n",
       " 6      6\n",
       " 7      7\n",
       " 8      8\n",
       " 9      9\n",
       " 10    10\n",
       " 11    11\n",
       " 12    12\n",
       " 13    13\n",
       " 14    14\n",
       " 15    15\n",
       " 16    16\n",
       " 17    17\n",
       " 18    18\n",
       " 19    19\n",
       " 20    20\n",
       " 21    21\n",
       " 22    22\n",
       " 23    23\n",
       " 24    24\n",
       " 25    27\n",
       " 26    28\n",
       " 27    29\n",
       " 28    30\n",
       " 29    25\n",
       " 30    26\n",
       " Name: day, dtype: int64,\n",
       " 'dayofyear': 0      365\n",
       " 1        1\n",
       " 2        2\n",
       " 3        3\n",
       " 4        4\n",
       "       ... \n",
       " 340    361\n",
       " 341    362\n",
       " 342    363\n",
       " 343    364\n",
       " 344    366\n",
       " Name: dayofyear, Length: 345, dtype: int64,\n",
       " 'hour': 0     23\n",
       " 1      0\n",
       " 2      1\n",
       " 3      2\n",
       " 4      3\n",
       " 5      4\n",
       " 6      5\n",
       " 7      6\n",
       " 8      7\n",
       " 9      8\n",
       " 10     9\n",
       " 11    10\n",
       " 12    11\n",
       " 13    12\n",
       " 14    13\n",
       " 15    14\n",
       " 16    15\n",
       " 17    16\n",
       " 18    17\n",
       " 19    18\n",
       " 20    19\n",
       " 21    20\n",
       " 22    21\n",
       " 23    22\n",
       " Name: hour, dtype: int64}"
      ]
     },
     "execution_count": 18,
     "metadata": {},
     "output_type": "execute_result"
    }
   ],
   "source": [
    "uniques"
   ]
  },
  {
   "cell_type": "markdown",
   "id": "5e2f83e8",
   "metadata": {},
   "source": [
    "### Finding max capacity for a station"
   ]
  },
  {
   "cell_type": "code",
   "execution_count": 19,
   "id": "a1c21565",
   "metadata": {},
   "outputs": [
    {
     "name": "stdout",
     "output_type": "stream",
     "text": [
      "DescribeResult(nobs=3569038, minmax=(0.0, 54.0), mean=15.597183523007484, variance=68.89480641836259, skewness=0.15461950559333965, kurtosis=-0.12909907952450395)\n",
      "CPU times: user 630 ms, sys: 0 ns, total: 630 ms\n",
      "Wall time: 2.25 s\n"
     ]
    },
    {
     "data": {
      "text/plain": [
       "count    3.569038e+06\n",
       "mean     1.559718e+01\n",
       "std      8.300290e+00\n",
       "min      0.000000e+00\n",
       "25%      1.175000e+01\n",
       "50%      1.714286e+01\n",
       "75%      2.370000e+01\n",
       "max      5.400000e+01\n",
       "Name: num_docks_available, dtype: float64"
      ]
     },
     "execution_count": 19,
     "metadata": {},
     "output_type": "execute_result"
    }
   ],
   "source": [
    "%%time\n",
    "\n",
    "print(stats.describe(data[config_year.year].num_docks_available))\n",
    "data[config_year.year].num_docks_available.describe().compute()"
   ]
  },
  {
   "cell_type": "code",
   "execution_count": 20,
   "id": "61fddc38",
   "metadata": {},
   "outputs": [
    {
     "name": "stdout",
     "output_type": "stream",
     "text": [
      "DescribeResult(nobs=3569038, minmax=(0.0, 54.0), mean=9.867294744476359, variance=65.00791379455909, skewness=0.8416763706537298, kurtosis=0.55580768222727)\n",
      "CPU times: user 683 ms, sys: 0 ns, total: 683 ms\n",
      "Wall time: 2.42 s\n"
     ]
    },
    {
     "data": {
      "text/plain": [
       "count    3.569038e+06\n",
       "mean     9.867295e+00\n",
       "std      8.062749e+00\n",
       "min      0.000000e+00\n",
       "25%      4.125000e+00\n",
       "50%      1.150000e+01\n",
       "75%      1.757143e+01\n",
       "max      5.400000e+01\n",
       "Name: num_bikes_available, dtype: float64"
      ]
     },
     "execution_count": 20,
     "metadata": {},
     "output_type": "execute_result"
    }
   ],
   "source": [
    "%%time\n",
    "\n",
    "print(stats.describe(data[config_year.year].num_bikes_available))\n",
    "data[config_year.year].num_bikes_available.describe().compute()"
   ]
  },
  {
   "cell_type": "code",
   "execution_count": 21,
   "id": "870ab196",
   "metadata": {},
   "outputs": [
    {
     "name": "stdout",
     "output_type": "stream",
     "text": [
      "DescribeResult(nobs=3569038, minmax=(0.0, 54.0), mean=8.689130513370761, variance=63.369564875781315, skewness=0.9367984807314153, kurtosis=0.6929627725116285)\n",
      "CPU times: user 569 ms, sys: 58.3 ms, total: 627 ms\n",
      "Wall time: 2.27 s\n"
     ]
    },
    {
     "data": {
      "text/plain": [
       "count    3.569038e+06\n",
       "mean     8.689131e+00\n",
       "std      7.960500e+00\n",
       "min      0.000000e+00\n",
       "25%      3.500000e+00\n",
       "50%      1.100000e+01\n",
       "75%      1.575000e+01\n",
       "max      5.400000e+01\n",
       "Name: num_bikes_available_types.mechanical, dtype: float64"
      ]
     },
     "execution_count": 21,
     "metadata": {},
     "output_type": "execute_result"
    }
   ],
   "source": [
    "%%time\n",
    "\n",
    "print(stats.describe(data[config_year.year]['num_bikes_available_types.mechanical']))\n",
    "data[config_year.year]['num_bikes_available_types.mechanical'].describe().compute()"
   ]
  },
  {
   "cell_type": "code",
   "execution_count": 22,
   "id": "c5907eb8",
   "metadata": {},
   "outputs": [
    {
     "name": "stdout",
     "output_type": "stream",
     "text": [
      "DescribeResult(nobs=3569038, minmax=(0.0, 31.777777777777786), mean=1.246025052444403, variance=4.37776771864512, skewness=3.308415095799363, kurtosis=15.714290908490756)\n"
     ]
    },
    {
     "data": {
      "text/plain": [
       "count    3.569038e+06\n",
       "mean     1.246025e+00\n",
       "std      2.092312e+00\n",
       "min      0.000000e+00\n",
       "25%      0.000000e+00\n",
       "50%      8.750000e-01\n",
       "75%      3.000000e+00\n",
       "max      3.177778e+01\n",
       "Name: num_bikes_available_types.ebike, dtype: float64"
      ]
     },
     "execution_count": 22,
     "metadata": {},
     "output_type": "execute_result"
    }
   ],
   "source": [
    "print(stats.describe(data[config_year.year]['num_bikes_available_types.ebike']))\n",
    "data[config_year.year]['num_bikes_available_types.ebike'].describe().compute()"
   ]
  },
  {
   "cell_type": "code",
   "execution_count": 23,
   "id": "68378bb4",
   "metadata": {},
   "outputs": [
    {
     "name": "stdout",
     "output_type": "stream",
     "text": [
      "correct data 3543847 incorrect data 25191\n",
      "CPU times: user 1.44 s, sys: 195 ms, total: 1.64 s\n",
      "Wall time: 6.46 s\n"
     ]
    },
    {
     "data": {
      "text/plain": [
       "<matplotlib.legend.Legend at 0x7f626e0c9320>"
      ]
     },
     "execution_count": 23,
     "metadata": {},
     "output_type": "execute_result"
    },
    {
     "data": {
      "image/png": "[encoded data removed]",
      "text/plain": [
       "<Figure size 720x720 with 1 Axes>"
      ]
     },
     "metadata": {
      "needs_background": "light"
     },
     "output_type": "display_data"
    }
   ],
   "source": [
    "%%time\n",
    "\n",
    "cond = data[config_year.year].num_bikes_available.round().astype(int) == (data[config_year.year]['num_bikes_available_types.ebike'] + data[config_year.year]['num_bikes_available_types.mechanical']).round().astype(int)\n",
    "\n",
    "print('correct data',data[config_year.year][cond].shape[0].compute(), 'incorrect data', data[config_year.year][~cond].shape[0].compute())\n",
    "    \n",
    "plt.rcParams[\"figure.figsize\"] = (10,10)\n",
    "    \n",
    "plt.scatter(\n",
    "    data[config_year.year][cond].num_bikes_available.compute(), \n",
    "    (data[config_year.year][cond]['num_bikes_available_types.ebike'] + data[config_year.year][cond]['num_bikes_available_types.mechanical']).compute(),\n",
    "    label='cond'\n",
    ")\n",
    "\n",
    "plt.scatter(\n",
    "    data[config_year.year][~cond].num_bikes_available.compute(), \n",
    "    (data[config_year.year][~cond]['num_bikes_available_types.ebike'] + data[config_year.year][~cond]['num_bikes_available_types.mechanical']).compute(),\n",
    "    label='~cond'\n",
    ")\n",
    "\n",
    "plt.ylabel('Electric + Mecanic')\n",
    "plt.xlabel('num_bikes_available')\n",
    "plt.legend()"
   ]
  },
  {
   "cell_type": "code",
   "execution_count": 24,
   "id": "b9ec3260",
   "metadata": {},
   "outputs": [
    {
     "name": "stdout",
     "output_type": "stream",
     "text": [
      "CPU times: user 10.7 ms, sys: 295 µs, total: 10.9 ms\n",
      "Wall time: 10.1 ms\n"
     ]
    }
   ],
   "source": [
    "%%time\n",
    "\n",
    "data[config_year.year]['num_bikes_available'] = data[config_year.year]['num_bikes_available'].mask(~cond, (data[config_year.year]['num_bikes_available_types.ebike'] + data[config_year.year]['num_bikes_available_types.mechanical']))\n"
   ]
  },
  {
   "cell_type": "code",
   "execution_count": 25,
   "id": "d415c0fa",
   "metadata": {},
   "outputs": [
    {
     "name": "stdout",
     "output_type": "stream",
     "text": [
      "correct data 3569038 incorrect data 0\n",
      "CPU times: user 1.78 s, sys: 164 ms, total: 1.95 s\n",
      "Wall time: 6.85 s\n"
     ]
    },
    {
     "data": {
      "text/plain": [
       "<matplotlib.legend.Legend at 0x7f619231d588>"
      ]
     },
     "execution_count": 25,
     "metadata": {},
     "output_type": "execute_result"
    },
    {
     "data": {
      "image/png": "[encoded data removed]",
      "text/plain": [
       "<Figure size 720x720 with 1 Axes>"
      ]
     },
     "metadata": {
      "needs_background": "light"
     },
     "output_type": "display_data"
    }
   ],
   "source": [
    "%%time\n",
    "\n",
    "cond = data[config_year.year].num_bikes_available.round().astype(int) == (data[config_year.year]['num_bikes_available_types.ebike'] + data[config_year.year]['num_bikes_available_types.mechanical']).round().astype(int)\n",
    "\n",
    "print('correct data',data[config_year.year][cond].shape[0].compute(), 'incorrect data', data[config_year.year][~cond].shape[0].compute())\n",
    "\n",
    "plt.rcParams[\"figure.figsize\"] = (10,10)\n",
    "    \n",
    "plt.scatter(\n",
    "    data[config_year.year][cond].num_bikes_available.compute(), \n",
    "    (data[config_year.year][cond]['num_bikes_available_types.ebike'] + data[config_year.year][cond]['num_bikes_available_types.mechanical']).compute(),\n",
    "    label='cond'\n",
    ")\n",
    "\n",
    "plt.scatter(\n",
    "    data[config_year.year][~cond].num_bikes_available.compute(), \n",
    "    (data[config_year.year][~cond]['num_bikes_available_types.ebike'] + data[config_year.year][~cond]['num_bikes_available_types.mechanical']).compute(),\n",
    "    label='~cond'\n",
    ")\n",
    "\n",
    "plt.ylabel('Electric + Mecanic')\n",
    "plt.xlabel('num_bikes_available')\n",
    "plt.legend()"
   ]
  },
  {
   "cell_type": "code",
   "execution_count": 26,
   "id": "eb2571b9",
   "metadata": {},
   "outputs": [],
   "source": [
    "# Now capacity of a station must be something similar to the sum of available bikes and available docks"
   ]
  },
  {
   "cell_type": "code",
   "execution_count": 27,
   "id": "de05960d",
   "metadata": {},
   "outputs": [
    {
     "name": "stdout",
     "output_type": "stream",
     "text": [
      "CPU times: user 24.2 ms, sys: 679 µs, total: 24.9 ms\n",
      "Wall time: 24.3 ms\n"
     ]
    }
   ],
   "source": [
    "%%time\n",
    "\n",
    "data[config_year.year]['capacity'] = data[config_year.year].num_bikes_available + data[config_year.year].num_docks_available\n",
    "\n",
    "stations_max_capacity = data[config_year.year].groupby(['station_id'])['capacity'].max().reset_index()\n",
    "\n",
    "# drop capacity \n",
    "data[config_year.year] = data[config_year.year].drop(['capacity'], axis=1)\n",
    "\n",
    "# merge with stations_max_capacity\n",
    "data[config_year.year] = data[config_year.year].merge(stations_max_capacity.copy(), how='left', on=['station_id'])\n"
   ]
  },
  {
   "cell_type": "code",
   "execution_count": 28,
   "id": "1bbb1dae",
   "metadata": {},
   "outputs": [
    {
     "name": "stdout",
     "output_type": "stream",
     "text": [
      "DescribeResult(nobs=3569038, minmax=(15.000000000000004, 54.2), mean=27.171166649947185, variance=37.53868189441425, skewness=1.2497867069119315, kurtosis=3.5271387892976653)\n",
      "CPU times: user 647 ms, sys: 117 ms, total: 764 ms\n",
      "Wall time: 2.93 s\n"
     ]
    },
    {
     "data": {
      "text/plain": [
       "count    3.569038e+06\n",
       "mean     2.717117e+01\n",
       "std      6.126882e+00\n",
       "min      1.500000e+01\n",
       "25%      2.400000e+01\n",
       "50%      2.700000e+01\n",
       "75%      3.100000e+01\n",
       "max      5.420000e+01\n",
       "Name: capacity, dtype: float64"
      ]
     },
     "execution_count": 28,
     "metadata": {},
     "output_type": "execute_result"
    }
   ],
   "source": [
    "%%time\n",
    "\n",
    "print(stats.describe(data[config_year.year]['capacity']))\n",
    "data[config_year.year]['capacity'].describe().compute()"
   ]
  },
  {
   "cell_type": "code",
   "execution_count": 29,
   "id": "f744beb7",
   "metadata": {},
   "outputs": [
    {
     "data": {
      "image/png": "[encoded data removed]",
      "text/plain": [
       "<Figure size 1440x720 with 6 Axes>"
      ]
     },
     "metadata": {
      "needs_background": "light"
     },
     "output_type": "display_data"
    },
    {
     "name": "stdout",
     "output_type": "stream",
     "text": [
      "CPU times: user 6.03 s, sys: 957 ms, total: 6.98 s\n",
      "Wall time: 6.78 s\n"
     ]
    }
   ],
   "source": [
    "%%time\n",
    "\n",
    "show_counts(data[config_year.year]['capacity'].compute())"
   ]
  },
  {
   "cell_type": "markdown",
   "id": "86237b11",
   "metadata": {},
   "source": [
    "## find the percentage of docks available"
   ]
  },
  {
   "cell_type": "code",
   "execution_count": 30,
   "id": "896be915",
   "metadata": {},
   "outputs": [
    {
     "name": "stdout",
     "output_type": "stream",
     "text": [
      "CPU times: user 8.35 ms, sys: 0 ns, total: 8.35 ms\n",
      "Wall time: 7.61 ms\n"
     ]
    }
   ],
   "source": [
    "%%time\n",
    "\n",
    "data[config_year.year]['ctx0'] = data[config_year.year].num_docks_available / data[config_year.year].capacity\n"
   ]
  },
  {
   "cell_type": "code",
   "execution_count": 31,
   "id": "52f78540",
   "metadata": {},
   "outputs": [
    {
     "name": "stdout",
     "output_type": "stream",
     "text": [
      "DescribeResult(nobs=3569038, minmax=(0.0, 1.0), mean=0.5761860426403741, variance=0.07847590540041816, skewness=-0.35503054120586264, kurtosis=-0.9587753383790183)\n",
      "CPU times: user 654 ms, sys: 99.3 ms, total: 754 ms\n",
      "Wall time: 2.89 s\n"
     ]
    },
    {
     "data": {
      "text/plain": [
       "count    3.569038e+06\n",
       "mean     5.761860e-01\n",
       "std      2.801355e-01\n",
       "min      0.000000e+00\n",
       "25%      4.629630e-01\n",
       "50%      6.666667e-01\n",
       "75%      8.750000e-01\n",
       "max      1.000000e+00\n",
       "Name: ctx0, dtype: float64"
      ]
     },
     "execution_count": 31,
     "metadata": {},
     "output_type": "execute_result"
    }
   ],
   "source": [
    "%%time\n",
    "\n",
    "print(stats.describe(data[config_year.year]['ctx0']))\n",
    "data[config_year.year]['ctx0'].describe().compute()"
   ]
  },
  {
   "cell_type": "code",
   "execution_count": 32,
   "id": "9626a4f6",
   "metadata": {},
   "outputs": [
    {
     "data": {
      "image/png": "[encoded data removed]",
      "text/plain": [
       "<Figure size 1440x720 with 6 Axes>"
      ]
     },
     "metadata": {
      "needs_background": "light"
     },
     "output_type": "display_data"
    },
    {
     "name": "stdout",
     "output_type": "stream",
     "text": [
      "CPU times: user 1min 44s, sys: 15.9 s, total: 2min\n",
      "Wall time: 1min 58s\n"
     ]
    }
   ],
   "source": [
    "%%time\n",
    "\n",
    "show_counts(data[config_year.year]['ctx0'].compute())"
   ]
  },
  {
   "cell_type": "markdown",
   "id": "a7e1a1e4",
   "metadata": {},
   "source": [
    "### Generating new columns of past 4 hours"
   ]
  },
  {
   "cell_type": "code",
   "execution_count": 33,
   "id": "0b3dd58e",
   "metadata": {},
   "outputs": [
    {
     "name": "stdout",
     "output_type": "stream",
     "text": [
      "Index(['station_id', 'timestamp', 'ctx0'], dtype='object')\n",
      "Index(['station_id', 'timestamp', 'ctx1'], dtype='object')\n",
      "Index(['station_id', 'timestamp', 'ctx2'], dtype='object')\n",
      "Index(['station_id', 'timestamp', 'ctx3'], dtype='object')\n",
      "Index(['station_id', 'timestamp', 'ctx4'], dtype='object')\n",
      "CPU times: user 138 ms, sys: 10.7 ms, total: 149 ms\n",
      "Wall time: 146 ms\n"
     ]
    }
   ],
   "source": [
    "%%time\n",
    "\n",
    "ctx = data[config_year.year][['station_id', 'timestamp', 'ctx0']].copy()\n",
    "# ctx = ctx.rename(columns={'num_docks_available': 'ctx0'})\n",
    "print(ctx.columns)\n",
    "\n",
    "for i in range(1,5): \n",
    "    ctx = ctx.rename(columns={f'ctx{i-1}': f'ctx{i}'})\n",
    "    print(ctx.columns)\n",
    "    \n",
    "    ctx.timestamp = ctx.timestamp + 3600 \n",
    "    data[config_year.year] = data[config_year.year].merge(ctx.copy(), how='left', on=['station_id','timestamp'])\n",
    "    \n",
    "    cond = data[config_year.year][f'ctx{i}'].isna()\n",
    "    data[config_year.year][f'ctx{i}'] = data[config_year.year][f'ctx{i}'].mask(cond, data[config_year.year][f'ctx{i-1}'])\n"
   ]
  },
  {
   "cell_type": "code",
   "execution_count": 34,
   "id": "d7c2d60a",
   "metadata": {},
   "outputs": [
    {
     "data": {
      "text/plain": [
       "Index(['station_id', 'num_bikes_available',\n",
       "       'num_bikes_available_types.mechanical',\n",
       "       'num_bikes_available_types.ebike', 'num_docks_available',\n",
       "       'is_installed', 'is_renting', 'is_returning', 'is_charging_station',\n",
       "       'status', 'timestamp', 'year', 'month', 'dayofweek', 'day', 'dayofyear',\n",
       "       'hour', 'capacity', 'ctx0', 'ctx1', 'ctx2', 'ctx3', 'ctx4'],\n",
       "      dtype='object')"
      ]
     },
     "execution_count": 34,
     "metadata": {},
     "output_type": "execute_result"
    }
   ],
   "source": [
    "data[config_year.year].columns"
   ]
  },
  {
   "cell_type": "code",
   "execution_count": 35,
   "id": "459e7ab1",
   "metadata": {
    "scrolled": true
   },
   "outputs": [
    {
     "name": "stdout",
     "output_type": "stream",
     "text": [
      "CPU times: user 10.2 s, sys: 249 ms, total: 10.4 s\n",
      "Wall time: 19.5 s\n"
     ]
    },
    {
     "data": {
      "text/plain": [
       "{}"
      ]
     },
     "execution_count": 35,
     "metadata": {},
     "output_type": "execute_result"
    }
   ],
   "source": [
    "%%time\n",
    "\n",
    "get_features_nans(data[config_year.year])"
   ]
  },
  {
   "cell_type": "code",
   "execution_count": 36,
   "id": "1270f3df",
   "metadata": {},
   "outputs": [
    {
     "name": "stdout",
     "output_type": "stream",
     "text": [
      "checkpoint saved.\n",
      "CPU times: user 2.61 s, sys: 278 ms, total: 2.89 s\n",
      "Wall time: 20.1 s\n"
     ]
    }
   ],
   "source": [
    "%%time\n",
    "\n",
    "save_checkpoint(data[config_year.year], config_year)\n",
    "\n",
    "# checkpoint saved."
   ]
  },
  {
   "cell_type": "code",
   "execution_count": null,
   "id": "6d081b9e",
   "metadata": {},
   "outputs": [],
   "source": []
  }
 ],
 "metadata": {
  "kernelspec": {
   "display_name": "Python 3 (ipykernel)",
   "language": "python",
   "name": "python3"
  },
  "language_info": {
   "codemirror_mode": {
    "name": "ipython",
    "version": 3
   },
   "file_extension": ".py",
   "mimetype": "text/x-python",
   "name": "python",
   "nbconvert_exporter": "python",
   "pygments_lexer": "ipython3",
   "version": "3.8.16"
  }
 },
 "nbformat": 4,
 "nbformat_minor": 5
}
