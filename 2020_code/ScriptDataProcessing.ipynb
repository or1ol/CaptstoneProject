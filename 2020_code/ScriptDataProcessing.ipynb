{
 "cells": [
  {
   "cell_type": "code",
   "execution_count": 1,
   "id": "e494720a",
   "metadata": {},
   "outputs": [
    {
     "data": {
      "text/html": [
       "<style>.container { width:80% !important; }</style>"
      ],
      "text/plain": [
       "<IPython.core.display.HTML object>"
      ]
     },
     "metadata": {},
     "output_type": "display_data"
    }
   ],
   "source": [
    "from IPython.core.display import display, HTML\n",
    "display(HTML(\"<style>.container { width:80% !important; }</style>\"))\n",
    "\n",
    "import os\n",
    "\n",
    "# Python ≥3.5 is required\n",
    "import sys\n",
    "assert sys.version_info >= (3, 5)\n",
    "\n",
    "# Scikit-Learn ≥0.20 is required\n",
    "import sklearn\n",
    "assert sklearn.__version__ >= \"0.20\"\n",
    "\n",
    "from sklearn.ensemble import RandomForestRegressor\n",
    "from sklearn.ensemble import GradientBoostingRegressor\n",
    "from sklearn.model_selection import cross_val_score\n",
    "from sklearn.metrics import mean_squared_error, r2_score\n",
    "from sklearn.metrics import mean_absolute_error\n",
    "\n",
    "import pandas as pd\n",
    "import numpy as np\n",
    "pd.set_option('display.max_columns', None)\n",
    "\n",
    "# To plot pretty figures\n",
    "%matplotlib inline\n",
    "import matplotlib as mpl\n",
    "import matplotlib.pyplot as plt\n",
    "\n",
    "import scipy.stats as stats\n",
    "\n",
    "import seaborn as sns\n",
    "\n",
    "from datetime import datetime\n",
    "\n",
    "import re\n",
    "\n",
    "from tqdm.notebook import tqdm\n",
    "\n",
    "import dask.dataframe as dd\n",
    "from dask.distributed import Client\n",
    "\n",
    "sys.path.insert(0, '../tools/')\n",
    "\n",
    "from tools import * "
   ]
  },
  {
   "cell_type": "code",
   "execution_count": 2,
   "id": "a4287a45",
   "metadata": {},
   "outputs": [],
   "source": [
    "config = pd.Series({\n",
    "    'path': os.path.abspath('../dades'),\n",
    "    'file_type':'csv',\n",
    "    'years':[2020],\n",
    "    'dataset': 'BicingNou_ESTACIONS_CLEAN'\n",
    "})\n"
   ]
  },
  {
   "cell_type": "code",
   "execution_count": 3,
   "id": "2bd014c8",
   "metadata": {},
   "outputs": [
    {
     "data": {
      "text/html": [
       "<table style=\"border: 2px solid white;\">\n",
       "<tr>\n",
       "<td style=\"vertical-align: top; border: 0px solid white\">\n",
       "<h3 style=\"text-align: left;\">Client</h3>\n",
       "<ul style=\"text-align: left; list-style: none; margin: 0; padding: 0;\">\n",
       "  <li><b>Scheduler: </b>tcp://127.0.0.1:42825</li>\n",
       "  <li><b>Dashboard: </b><a href='http://127.0.0.1:8787/status' target='_blank'>http://127.0.0.1:8787/status</a></li>\n",
       "</ul>\n",
       "</td>\n",
       "<td style=\"vertical-align: top; border: 0px solid white\">\n",
       "<h3 style=\"text-align: left;\">Cluster</h3>\n",
       "<ul style=\"text-align: left; list-style:none; margin: 0; padding: 0;\">\n",
       "  <li><b>Workers: </b>4</li>\n",
       "  <li><b>Cores: </b>16</li>\n",
       "  <li><b>Memory: </b>16.44 GB</li>\n",
       "</ul>\n",
       "</td>\n",
       "</tr>\n",
       "</table>"
      ],
      "text/plain": [
       "<Client: 'tcp://127.0.0.1:42825' processes=4 threads=16, memory=16.44 GB>"
      ]
     },
     "execution_count": 3,
     "metadata": {},
     "output_type": "execute_result"
    }
   ],
   "source": [
    "client = Client()\n",
    "client"
   ]
  },
  {
   "cell_type": "markdown",
   "id": "9349a524",
   "metadata": {},
   "source": [
    "# Read data"
   ]
  },
  {
   "cell_type": "code",
   "execution_count": 4,
   "id": "5424d9d1",
   "metadata": {},
   "outputs": [
    {
     "data": {
      "application/vnd.jupyter.widget-view+json": {
       "model_id": "6dd227f813784e79ac0895aae01af309",
       "version_major": 2,
       "version_minor": 0
      },
      "text/plain": [
       "  0%|          | 0/1 [00:00<?, ?it/s]"
      ]
     },
     "metadata": {},
     "output_type": "display_data"
    },
    {
     "data": {
      "application/vnd.jupyter.widget-view+json": {
       "model_id": "a307ab71c41042c5ba6090423b4d8a90",
       "version_major": 2,
       "version_minor": 0
      },
      "text/plain": [
       "  0%|          | 0/12 [00:00<?, ?it/s]"
      ]
     },
     "metadata": {},
     "output_type": "display_data"
    },
    {
     "name": "stdout",
     "output_type": "stream",
     "text": [
      "CPU times: user 237 ms, sys: 14.6 ms, total: 252 ms\n",
      "Wall time: 242 ms\n"
     ]
    }
   ],
   "source": [
    "%%time\n",
    "\n",
    "data = read_dask_dataframes(config.path, config.file_type, config.dataset, config.years)"
   ]
  },
  {
   "cell_type": "markdown",
   "id": "220d2efd",
   "metadata": {},
   "source": [
    "# 2020 "
   ]
  },
  {
   "cell_type": "code",
   "execution_count": 5,
   "id": "3b7ad367",
   "metadata": {},
   "outputs": [],
   "source": [
    "config_year = pd.Series({\n",
    "    'path':config.path,\n",
    "    'file_type':config.file_type,\n",
    "    'year':2020,\n",
    "    'dataset': 'BicingNou_ESTACIONS_MOD'\n",
    "})"
   ]
  },
  {
   "cell_type": "code",
   "execution_count": 6,
   "id": "9f9c6856",
   "metadata": {},
   "outputs": [
    {
     "data": {
      "text/plain": [
       "13"
      ]
     },
     "execution_count": 6,
     "metadata": {},
     "output_type": "execute_result"
    }
   ],
   "source": [
    "len(data[config_year.year].divisions) # divisions mark the start and end of each partiotion\n",
    "# in our case we have nones but that is okay"
   ]
  },
  {
   "cell_type": "code",
   "execution_count": 7,
   "id": "e45166fb",
   "metadata": {},
   "outputs": [],
   "source": [
    "first_size = get_ddf_shape(data[config_year.year])"
   ]
  },
  {
   "cell_type": "code",
   "execution_count": 8,
   "id": "2bdc2972",
   "metadata": {},
   "outputs": [
    {
     "data": {
      "text/html": [
       "<div><strong>Dask DataFrame Structure:</strong></div>\n",
       "<div>\n",
       "<style scoped>\n",
       "    .dataframe tbody tr th:only-of-type {\n",
       "        vertical-align: middle;\n",
       "    }\n",
       "\n",
       "    .dataframe tbody tr th {\n",
       "        vertical-align: top;\n",
       "    }\n",
       "\n",
       "    .dataframe thead th {\n",
       "        text-align: right;\n",
       "    }\n",
       "</style>\n",
       "<table border=\"1\" class=\"dataframe\">\n",
       "  <thead>\n",
       "    <tr style=\"text-align: right;\">\n",
       "      <th></th>\n",
       "      <th>station_id</th>\n",
       "      <th>num_bikes_available</th>\n",
       "      <th>num_bikes_available_types.mechanical</th>\n",
       "      <th>num_bikes_available_types.ebike</th>\n",
       "      <th>num_docks_available</th>\n",
       "      <th>is_installed</th>\n",
       "      <th>is_renting</th>\n",
       "      <th>is_returning</th>\n",
       "      <th>last_reported</th>\n",
       "      <th>is_charging_station</th>\n",
       "      <th>status</th>\n",
       "      <th>last_updated</th>\n",
       "      <th>year_last_updated_date</th>\n",
       "      <th>month_last_updated_date</th>\n",
       "      <th>week_last_updated_date</th>\n",
       "      <th>dayofweek_last_updated_date</th>\n",
       "      <th>dayofmonth_last_updated_date</th>\n",
       "      <th>dayofyear_last_updated_date</th>\n",
       "      <th>hour_last_updated_date</th>\n",
       "    </tr>\n",
       "    <tr>\n",
       "      <th>npartitions=12</th>\n",
       "      <th></th>\n",
       "      <th></th>\n",
       "      <th></th>\n",
       "      <th></th>\n",
       "      <th></th>\n",
       "      <th></th>\n",
       "      <th></th>\n",
       "      <th></th>\n",
       "      <th></th>\n",
       "      <th></th>\n",
       "      <th></th>\n",
       "      <th></th>\n",
       "      <th></th>\n",
       "      <th></th>\n",
       "      <th></th>\n",
       "      <th></th>\n",
       "      <th></th>\n",
       "      <th></th>\n",
       "      <th></th>\n",
       "    </tr>\n",
       "  </thead>\n",
       "  <tbody>\n",
       "    <tr>\n",
       "      <th></th>\n",
       "      <td>float64</td>\n",
       "      <td>float64</td>\n",
       "      <td>float64</td>\n",
       "      <td>float64</td>\n",
       "      <td>float64</td>\n",
       "      <td>float64</td>\n",
       "      <td>float64</td>\n",
       "      <td>float64</td>\n",
       "      <td>float64</td>\n",
       "      <td>float64</td>\n",
       "      <td>float64</td>\n",
       "      <td>float64</td>\n",
       "      <td>float64</td>\n",
       "      <td>float64</td>\n",
       "      <td>float64</td>\n",
       "      <td>float64</td>\n",
       "      <td>float64</td>\n",
       "      <td>float64</td>\n",
       "      <td>float64</td>\n",
       "    </tr>\n",
       "    <tr>\n",
       "      <th></th>\n",
       "      <td>...</td>\n",
       "      <td>...</td>\n",
       "      <td>...</td>\n",
       "      <td>...</td>\n",
       "      <td>...</td>\n",
       "      <td>...</td>\n",
       "      <td>...</td>\n",
       "      <td>...</td>\n",
       "      <td>...</td>\n",
       "      <td>...</td>\n",
       "      <td>...</td>\n",
       "      <td>...</td>\n",
       "      <td>...</td>\n",
       "      <td>...</td>\n",
       "      <td>...</td>\n",
       "      <td>...</td>\n",
       "      <td>...</td>\n",
       "      <td>...</td>\n",
       "      <td>...</td>\n",
       "    </tr>\n",
       "    <tr>\n",
       "      <th>...</th>\n",
       "      <td>...</td>\n",
       "      <td>...</td>\n",
       "      <td>...</td>\n",
       "      <td>...</td>\n",
       "      <td>...</td>\n",
       "      <td>...</td>\n",
       "      <td>...</td>\n",
       "      <td>...</td>\n",
       "      <td>...</td>\n",
       "      <td>...</td>\n",
       "      <td>...</td>\n",
       "      <td>...</td>\n",
       "      <td>...</td>\n",
       "      <td>...</td>\n",
       "      <td>...</td>\n",
       "      <td>...</td>\n",
       "      <td>...</td>\n",
       "      <td>...</td>\n",
       "      <td>...</td>\n",
       "    </tr>\n",
       "    <tr>\n",
       "      <th></th>\n",
       "      <td>...</td>\n",
       "      <td>...</td>\n",
       "      <td>...</td>\n",
       "      <td>...</td>\n",
       "      <td>...</td>\n",
       "      <td>...</td>\n",
       "      <td>...</td>\n",
       "      <td>...</td>\n",
       "      <td>...</td>\n",
       "      <td>...</td>\n",
       "      <td>...</td>\n",
       "      <td>...</td>\n",
       "      <td>...</td>\n",
       "      <td>...</td>\n",
       "      <td>...</td>\n",
       "      <td>...</td>\n",
       "      <td>...</td>\n",
       "      <td>...</td>\n",
       "      <td>...</td>\n",
       "    </tr>\n",
       "    <tr>\n",
       "      <th></th>\n",
       "      <td>...</td>\n",
       "      <td>...</td>\n",
       "      <td>...</td>\n",
       "      <td>...</td>\n",
       "      <td>...</td>\n",
       "      <td>...</td>\n",
       "      <td>...</td>\n",
       "      <td>...</td>\n",
       "      <td>...</td>\n",
       "      <td>...</td>\n",
       "      <td>...</td>\n",
       "      <td>...</td>\n",
       "      <td>...</td>\n",
       "      <td>...</td>\n",
       "      <td>...</td>\n",
       "      <td>...</td>\n",
       "      <td>...</td>\n",
       "      <td>...</td>\n",
       "      <td>...</td>\n",
       "    </tr>\n",
       "  </tbody>\n",
       "</table>\n",
       "</div>\n",
       "<div>Dask Name: concat, 24 tasks</div>"
      ],
      "text/plain": [
       "Dask DataFrame Structure:\n",
       "               station_id num_bikes_available num_bikes_available_types.mechanical num_bikes_available_types.ebike num_docks_available is_installed is_renting is_returning last_reported is_charging_station   status last_updated year_last_updated_date month_last_updated_date week_last_updated_date dayofweek_last_updated_date dayofmonth_last_updated_date dayofyear_last_updated_date hour_last_updated_date\n",
       "npartitions=12                                                                                                                                                                                                                                                                                                                                                                                                       \n",
       "                  float64             float64                              float64                         float64             float64      float64    float64      float64       float64             float64  float64      float64                float64                 float64                float64                     float64                      float64                     float64                float64\n",
       "                      ...                 ...                                  ...                             ...                 ...          ...        ...          ...           ...                 ...      ...          ...                    ...                     ...                    ...                         ...                          ...                         ...                    ...\n",
       "...                   ...                 ...                                  ...                             ...                 ...          ...        ...          ...           ...                 ...      ...          ...                    ...                     ...                    ...                         ...                          ...                         ...                    ...\n",
       "                      ...                 ...                                  ...                             ...                 ...          ...        ...          ...           ...                 ...      ...          ...                    ...                     ...                    ...                         ...                          ...                         ...                    ...\n",
       "                      ...                 ...                                  ...                             ...                 ...          ...        ...          ...           ...                 ...      ...          ...                    ...                     ...                    ...                         ...                          ...                         ...                    ...\n",
       "Dask Name: concat, 24 tasks"
      ]
     },
     "execution_count": 8,
     "metadata": {},
     "output_type": "execute_result"
    }
   ],
   "source": [
    "data[config_year.year]"
   ]
  },
  {
   "cell_type": "markdown",
   "id": "35838ed0",
   "metadata": {},
   "source": [
    "## Preprocessing"
   ]
  },
  {
   "cell_type": "code",
   "execution_count": 9,
   "id": "73ab97db",
   "metadata": {},
   "outputs": [
    {
     "name": "stdout",
     "output_type": "stream",
     "text": [
      "CPU times: user 1.06 s, sys: 40.1 ms, total: 1.1 s\n",
      "Wall time: 2.53 s\n"
     ]
    }
   ],
   "source": [
    "%%time\n",
    "\n",
    "# do not execute everytime, takes 17s and eat the memory. Once executed disable the cell and restart the notebook. Since this cell saves a checkpoint you can continue without it.\n",
    "\n",
    "data[config_year.year] = data[config_year.year].drop(['week_last_updated_date', 'last_reported'], axis=1)\n",
    "\n",
    "data[config_year.year]['station_id']=data[config_year.year]['station_id'].astype(int)\n",
    "data[config_year.year]['is_charging_station']=data[config_year.year]['is_charging_station'].astype(int)\n",
    "data[config_year.year]['last_updated']=data[config_year.year]['last_updated'].astype(int)\n",
    "data[config_year.year]['year_last_updated_date']=data[config_year.year]['year_last_updated_date'].astype(int)\n",
    "data[config_year.year]['month_last_updated_date']=data[config_year.year]['month_last_updated_date'].astype(int)\n",
    "data[config_year.year]['dayofweek_last_updated_date']=data[config_year.year]['dayofweek_last_updated_date'].astype(int)\n",
    "data[config_year.year]['dayofmonth_last_updated_date']=data[config_year.year]['dayofmonth_last_updated_date'].astype(int)\n",
    "data[config_year.year]['dayofyear_last_updated_date']=data[config_year.year]['dayofyear_last_updated_date'].astype(int)\n",
    "data[config_year.year]['hour_last_updated_date']=data[config_year.year]['hour_last_updated_date'].astype(int)\n",
    "\n",
    "data[config_year.year]['status']=data[config_year.year]['status'].round().astype(int)\n",
    "data[config_year.year]['is_installed']=data[config_year.year]['is_installed'].round().astype(int)\n",
    "data[config_year.year]['is_renting']=data[config_year.year]['is_renting'].round().astype(int)\n",
    "data[config_year.year]['is_returning']=data[config_year.year]['is_returning'].round().astype(int)\n",
    "\n",
    "# Found two station with alot of missing values \n",
    "# best solution is to remove\n",
    "# condition = (data[config_year.year]['station_id'].isin([520.0, 527.0, 532.0]))\n",
    "# data[config_year.year] = data[config_year.year].mask(condition, np.nan)\n",
    "# data[config_year.year] = data[config_year.year].dropna(subset=['station_id'])\n",
    "\n",
    "last_size = get_ddf_shape(data[config_year.year])\n",
    "\n",
    "new_columns = {\n",
    "    'last_updated': 'timestamp',\n",
    "    'year_last_updated_date':'year', \n",
    "    'month_last_updated_date':'month',\n",
    "    'dayofweek_last_updated_date':'dayofweek', \n",
    "    'dayofmonth_last_updated_date':'day', \n",
    "    'dayofyear_last_updated_date':'dayofyear',\n",
    "    'hour_last_updated_date':'hour'\n",
    "}\n",
    "\n",
    "data[config_year.year] = data[config_year.year].rename(columns=new_columns)"
   ]
  },
  {
   "cell_type": "code",
   "execution_count": 10,
   "id": "b1117035",
   "metadata": {},
   "outputs": [
    {
     "name": "stdout",
     "output_type": "stream",
     "text": [
      "checkpoint saved.\n"
     ]
    }
   ],
   "source": [
    "save_checkpoint(data[config_year.year], config_year)\n",
    "\n",
    "# checkpoint saved.\n",
    "# CPU times: user 2.12 s, sys: 250 ms, total: 2.37 s\n",
    "# Wall time: 17.3 s"
   ]
  },
  {
   "cell_type": "code",
   "execution_count": 11,
   "id": "a9366d9b",
   "metadata": {},
   "outputs": [
    {
     "name": "stdout",
     "output_type": "stream",
     "text": [
      "checkpoint reloaded.\n",
      "CPU times: user 13.9 ms, sys: 0 ns, total: 13.9 ms\n",
      "Wall time: 12.8 ms\n"
     ]
    }
   ],
   "source": [
    "%%time\n",
    "\n",
    "data[config_year.year] = load_checkpoint(config_year)\n",
    "\n",
    "# checkpoint reloaded."
   ]
  },
  {
   "cell_type": "code",
   "execution_count": 12,
   "id": "2c3a647b",
   "metadata": {},
   "outputs": [
    {
     "name": "stdout",
     "output_type": "stream",
     "text": [
      "Changes to dataframe durinf preprocessing\n",
      "dropeed 00 rows\n",
      "dropped -2 columns\n",
      "CPU times: user 138 ms, sys: 0 ns, total: 138 ms\n",
      "Wall time: 754 ms\n"
     ]
    }
   ],
   "source": [
    "%%time\n",
    "\n",
    "last_size = get_ddf_shape(data[config_year.year])\n",
    "\n",
    "print('Changes to dataframe durinf preprocessing')\n",
    "print(f'dropeed {(last_size[0]-first_size[0]):02d} rows')\n",
    "print(f'dropped {(last_size[1]-first_size[1]):02d} columns')"
   ]
  },
  {
   "cell_type": "code",
   "execution_count": 13,
   "id": "61db0537",
   "metadata": {},
   "outputs": [
    {
     "data": {
      "text/plain": [
       "13"
      ]
     },
     "execution_count": 13,
     "metadata": {},
     "output_type": "execute_result"
    }
   ],
   "source": [
    "len(data[config_year.year].divisions) # divisions mark the start and end of each partiotion\n",
    "# in our case we have nones but that is okay"
   ]
  },
  {
   "cell_type": "raw",
   "id": "5cc068bf",
   "metadata": {},
   "source": [
    "print_partitions(data[config_year.year])"
   ]
  },
  {
   "cell_type": "code",
   "execution_count": 14,
   "id": "17180ed3",
   "metadata": {},
   "outputs": [
    {
     "name": "stdout",
     "output_type": "stream",
     "text": [
      "CPU times: user 612 ms, sys: 0 ns, total: 612 ms\n",
      "Wall time: 3.34 s\n"
     ]
    }
   ],
   "source": [
    "%%time\n",
    "\n",
    "nans = get_features_nans(data[config_year.year])\n",
    "\n",
    "zeros = get_features_zero(data[config_year.year])"
   ]
  },
  {
   "cell_type": "code",
   "execution_count": 15,
   "id": "a71ccd91",
   "metadata": {},
   "outputs": [
    {
     "data": {
      "text/plain": [
       "{}"
      ]
     },
     "execution_count": 15,
     "metadata": {},
     "output_type": "execute_result"
    }
   ],
   "source": [
    "nans"
   ]
  },
  {
   "cell_type": "code",
   "execution_count": 16,
   "id": "40239ba4",
   "metadata": {},
   "outputs": [
    {
     "data": {
      "text/plain": [
       "{'num_bikes_available': 4.216873868922792,\n",
       " 'num_bikes_available_types.mechanical': 10.9436000248229,\n",
       " 'num_bikes_available_types.ebike': 34.74171605622275,\n",
       " 'num_docks_available': 0.9711959326226007,\n",
       " 'is_installed': 0.015821802891644133,\n",
       " 'is_renting': 0.6036045756877593,\n",
       " 'is_returning': 0.5915006169384979,\n",
       " 'is_charging_station': 0.0010622411835379453,\n",
       " 'status': 99.41020455969823,\n",
       " 'dayofweek': 14.429987404055861,\n",
       " 'hour': 4.134494269767889}"
      ]
     },
     "execution_count": 16,
     "metadata": {},
     "output_type": "execute_result"
    }
   ],
   "source": [
    "zeros"
   ]
  },
  {
   "cell_type": "code",
   "execution_count": 17,
   "id": "ad9ea960",
   "metadata": {},
   "outputs": [],
   "source": [
    "# nuniques = get_columns_nunique(data[config_year.year])\n",
    "\n",
    "# pd.Series(nuniques)\n",
    "# station_id                                  511\n",
    "# num_bikes_available                        5413\n",
    "# num_bikes_available_types.mechanical       4950\n",
    "# num_bikes_available_types.ebike            2412\n",
    "# num_docks_available                        5641\n",
    "# last_reported                           3085646\n",
    "# is_charging_station                           2\n",
    "# status                                      264\n",
    "# is_installed                                 50\n",
    "# is_renting                                  230\n",
    "# is_returning                                230\n",
    "# timestamp                                  8700\n",
    "# year                                          2\n",
    "# month                                        12\n",
    "# week                                         53\n",
    "# dayofweek                                     7\n",
    "# day                                          31\n",
    "# dayofyear                                   366\n",
    "# hour                                         24\n",
    "# traffic                                    1741\n",
    "# dtype: int64\n",
    "    \n",
    "uniques = get_columns_unique(data[config_year.year])"
   ]
  },
  {
   "cell_type": "code",
   "execution_count": 18,
   "id": "1eb3676a",
   "metadata": {},
   "outputs": [
    {
     "data": {
      "text/plain": [
       "{'station_id': 0        1\n",
       " 1      301\n",
       " 2      300\n",
       " 3      299\n",
       " 4       14\n",
       "       ... \n",
       " 513    452\n",
       " 514    450\n",
       " 515    465\n",
       " 516    502\n",
       " 517    503\n",
       " Name: station_id, Length: 518, dtype: int64,\n",
       " 'num_bikes_available': 0       21.555556\n",
       " 1       23.333333\n",
       " 2       26.000000\n",
       " 3       28.181818\n",
       " 4       31.000000\n",
       "           ...    \n",
       " 4290    29.277778\n",
       " 4291    24.150000\n",
       " 4292    33.850000\n",
       " 4293    29.227273\n",
       " 4294     2.136364\n",
       " Name: num_bikes_available, Length: 4295, dtype: float64,\n",
       " 'num_bikes_available_types.mechanical': 0       21.444444\n",
       " 1       23.333333\n",
       " 2       24.222222\n",
       " 3       26.272727\n",
       " 4       29.000000\n",
       "           ...    \n",
       " 3905    29.277778\n",
       " 3906     6.045455\n",
       " 3907    36.583333\n",
       " 3908    33.850000\n",
       " 3909    29.227273\n",
       " Name: num_bikes_available_types.mechanical, Length: 3910, dtype: float64,\n",
       " 'num_bikes_available_types.ebike': 0        0.111111\n",
       " 1        0.000000\n",
       " 2        1.777778\n",
       " 3        1.909091\n",
       " 4        2.000000\n",
       "           ...    \n",
       " 1739     1.128205\n",
       " 1740     1.772727\n",
       " 1741    20.818182\n",
       " 1742    16.583333\n",
       " 1743    13.071429\n",
       " Name: num_bikes_available_types.ebike, Length: 1744, dtype: float64,\n",
       " 'num_docks_available': 0       22.444444\n",
       " 1       20.666667\n",
       " 2       18.000000\n",
       " 3       15.818182\n",
       " 4       13.000000\n",
       "           ...    \n",
       " 4225    17.538462\n",
       " 4226     5.772727\n",
       " 4227    37.611111\n",
       " 4228    19.954545\n",
       " 4229    23.863636\n",
       " Name: num_docks_available, Length: 4230, dtype: float64,\n",
       " 'is_installed': 0    1\n",
       " 1    0\n",
       " Name: is_installed, dtype: int64,\n",
       " 'is_renting': 0    1\n",
       " 1    0\n",
       " Name: is_renting, dtype: int64,\n",
       " 'is_returning': 0    1\n",
       " 1    0\n",
       " Name: is_returning, dtype: int64,\n",
       " 'is_charging_station': 0    1\n",
       " 1    0\n",
       " Name: is_charging_station, dtype: int64,\n",
       " 'status': 0    0\n",
       " 1    1\n",
       " 2    3\n",
       " 3    2\n",
       " Name: status, dtype: int64,\n",
       " 'timestamp': 0       1577833200\n",
       " 1       1577836800\n",
       " 2       1577840400\n",
       " 3       1577844000\n",
       " 4       1577847600\n",
       "            ...    \n",
       " 8156    1609437600\n",
       " 8157    1609441200\n",
       " 8158    1609444800\n",
       " 8159    1609448400\n",
       " 8160    1609452000\n",
       " Name: timestamp, Length: 8161, dtype: int64,\n",
       " 'year': 0    2019\n",
       " 1    2020\n",
       " Name: year, dtype: int64,\n",
       " 'month': 0     12\n",
       " 1      1\n",
       " 2      2\n",
       " 3      3\n",
       " 4      4\n",
       " 5      5\n",
       " 6      6\n",
       " 7      7\n",
       " 8      8\n",
       " 9      9\n",
       " 10    10\n",
       " 11    11\n",
       " Name: month, dtype: int64,\n",
       " 'dayofweek': 0    1\n",
       " 1    2\n",
       " 2    3\n",
       " 3    4\n",
       " 4    5\n",
       " 5    6\n",
       " 6    0\n",
       " Name: dayofweek, dtype: int64,\n",
       " 'day': 0     31\n",
       " 1      1\n",
       " 2      2\n",
       " 3      3\n",
       " 4      4\n",
       " 5      5\n",
       " 6      6\n",
       " 7      7\n",
       " 8      8\n",
       " 9      9\n",
       " 10    10\n",
       " 11    11\n",
       " 12    12\n",
       " 13    13\n",
       " 14    14\n",
       " 15    15\n",
       " 16    16\n",
       " 17    17\n",
       " 18    18\n",
       " 19    19\n",
       " 20    20\n",
       " 21    21\n",
       " 22    22\n",
       " 23    23\n",
       " 24    24\n",
       " 25    27\n",
       " 26    28\n",
       " 27    29\n",
       " 28    30\n",
       " 29    25\n",
       " 30    26\n",
       " Name: day, dtype: int64,\n",
       " 'dayofyear': 0      365\n",
       " 1        1\n",
       " 2        2\n",
       " 3        3\n",
       " 4        4\n",
       "       ... \n",
       " 340    361\n",
       " 341    362\n",
       " 342    363\n",
       " 343    364\n",
       " 344    366\n",
       " Name: dayofyear, Length: 345, dtype: int64,\n",
       " 'hour': 0     23\n",
       " 1      0\n",
       " 2      1\n",
       " 3      2\n",
       " 4      3\n",
       " 5      4\n",
       " 6      5\n",
       " 7      6\n",
       " 8      7\n",
       " 9      8\n",
       " 10     9\n",
       " 11    10\n",
       " 12    11\n",
       " 13    12\n",
       " 14    13\n",
       " 15    14\n",
       " 16    15\n",
       " 17    16\n",
       " 18    17\n",
       " 19    18\n",
       " 20    19\n",
       " 21    20\n",
       " 22    21\n",
       " 23    22\n",
       " Name: hour, dtype: int64}"
      ]
     },
     "execution_count": 18,
     "metadata": {},
     "output_type": "execute_result"
    }
   ],
   "source": [
    "uniques"
   ]
  },
  {
   "cell_type": "markdown",
   "id": "5e2f83e8",
   "metadata": {},
   "source": [
    "### Finding max capacity for a station"
   ]
  },
  {
   "cell_type": "code",
   "execution_count": 19,
   "id": "a1c21565",
   "metadata": {},
   "outputs": [
    {
     "name": "stdout",
     "output_type": "stream",
     "text": [
      "DescribeResult(nobs=3577342, minmax=(0.0, 99.0), mean=15.59941622044943, variance=68.89294206728536, skewness=0.16072792374272846, kurtosis=-0.05906262430613074)\n",
      "CPU times: user 487 ms, sys: 87.4 ms, total: 574 ms\n",
      "Wall time: 1.76 s\n"
     ]
    },
    {
     "data": {
      "text/plain": [
       "count    3.577342e+06\n",
       "mean     1.559942e+01\n",
       "std      8.300177e+00\n",
       "min      0.000000e+00\n",
       "25%      1.175000e+01\n",
       "50%      1.716667e+01\n",
       "75%      2.370000e+01\n",
       "max      9.900000e+01\n",
       "Name: num_docks_available, dtype: float64"
      ]
     },
     "execution_count": 19,
     "metadata": {},
     "output_type": "execute_result"
    }
   ],
   "source": [
    "%%time\n",
    "\n",
    "print(stats.describe(data[config_year.year].num_docks_available))\n",
    "data[config_year.year].num_docks_available.describe().compute()"
   ]
  },
  {
   "cell_type": "code",
   "execution_count": 20,
   "id": "61fddc38",
   "metadata": {},
   "outputs": [
    {
     "name": "stdout",
     "output_type": "stream",
     "text": [
      "DescribeResult(nobs=3577342, minmax=(0.0, 198.0), mean=9.86227603908363, variance=65.22287319127761, skewness=0.9286648130104065, kurtosis=2.6688369379609744)\n",
      "CPU times: user 499 ms, sys: 114 ms, total: 613 ms\n",
      "Wall time: 1.8 s\n"
     ]
    },
    {
     "data": {
      "text/plain": [
       "count    3.577342e+06\n",
       "mean     9.862276e+00\n",
       "std      8.076068e+00\n",
       "min      0.000000e+00\n",
       "25%      4.125000e+00\n",
       "50%      1.150000e+01\n",
       "75%      1.757143e+01\n",
       "max      1.980000e+02\n",
       "Name: num_bikes_available, dtype: float64"
      ]
     },
     "execution_count": 20,
     "metadata": {},
     "output_type": "execute_result"
    }
   ],
   "source": [
    "%%time\n",
    "\n",
    "print(stats.describe(data[config_year.year].num_bikes_available))\n",
    "data[config_year.year].num_bikes_available.describe().compute()"
   ]
  },
  {
   "cell_type": "code",
   "execution_count": 21,
   "id": "870ab196",
   "metadata": {},
   "outputs": [
    {
     "name": "stdout",
     "output_type": "stream",
     "text": [
      "DescribeResult(nobs=3577342, minmax=(0.0, 99.0), mean=8.683635324188378, variance=63.37567171246116, skewness=0.9466507555906466, kurtosis=0.8083106329111462)\n",
      "CPU times: user 500 ms, sys: 72.9 ms, total: 573 ms\n",
      "Wall time: 1.77 s\n"
     ]
    },
    {
     "data": {
      "text/plain": [
       "count    3.577342e+06\n",
       "mean     8.683635e+00\n",
       "std      7.960884e+00\n",
       "min      0.000000e+00\n",
       "25%      3.500000e+00\n",
       "50%      1.000000e+01\n",
       "75%      1.575000e+01\n",
       "max      9.900000e+01\n",
       "Name: num_bikes_available_types.mechanical, dtype: float64"
      ]
     },
     "execution_count": 21,
     "metadata": {},
     "output_type": "execute_result"
    }
   ],
   "source": [
    "%%time\n",
    "\n",
    "print(stats.describe(data[config_year.year]['num_bikes_available_types.mechanical']))\n",
    "data[config_year.year]['num_bikes_available_types.mechanical'].describe().compute()"
   ]
  },
  {
   "cell_type": "code",
   "execution_count": 22,
   "id": "c5907eb8",
   "metadata": {},
   "outputs": [
    {
     "name": "stdout",
     "output_type": "stream",
     "text": [
      "DescribeResult(nobs=3577342, minmax=(0.0, 99.0), mean=1.2464867155539818, variance=4.444518193605925, skewness=3.9549346950427444, kurtosis=48.73059560778481)\n"
     ]
    },
    {
     "data": {
      "text/plain": [
       "count    3.577342e+06\n",
       "mean     1.246487e+00\n",
       "std      2.108203e+00\n",
       "min      0.000000e+00\n",
       "25%      0.000000e+00\n",
       "50%      8.750000e-01\n",
       "75%      3.000000e+00\n",
       "max      9.900000e+01\n",
       "Name: num_bikes_available_types.ebike, dtype: float64"
      ]
     },
     "execution_count": 22,
     "metadata": {},
     "output_type": "execute_result"
    }
   ],
   "source": [
    "print(stats.describe(data[config_year.year]['num_bikes_available_types.ebike']))\n",
    "data[config_year.year]['num_bikes_available_types.ebike'].describe().compute()"
   ]
  },
  {
   "cell_type": "code",
   "execution_count": 23,
   "id": "68378bb4",
   "metadata": {},
   "outputs": [
    {
     "name": "stdout",
     "output_type": "stream",
     "text": [
      "correct data 3552090 incorrect data 25252\n",
      "CPU times: user 1.4 s, sys: 254 ms, total: 1.65 s\n",
      "Wall time: 5.33 s\n"
     ]
    },
    {
     "data": {
      "text/plain": [
       "<matplotlib.legend.Legend at 0x7f49030ff3c8>"
      ]
     },
     "execution_count": 23,
     "metadata": {},
     "output_type": "execute_result"
    },
    {
     "data": {
      "image/png": "[encoded data removed]",
      "text/plain": [
       "<Figure size 720x720 with 1 Axes>"
      ]
     },
     "metadata": {
      "needs_background": "light"
     },
     "output_type": "display_data"
    }
   ],
   "source": [
    "%%time\n",
    "\n",
    "cond = data[config_year.year].num_bikes_available.round().astype(int) == (data[config_year.year]['num_bikes_available_types.ebike'] + data[config_year.year]['num_bikes_available_types.mechanical']).round().astype(int)\n",
    "\n",
    "print('correct data',data[config_year.year][cond].shape[0].compute(), 'incorrect data', data[config_year.year][~cond].shape[0].compute())\n",
    "    \n",
    "plt.rcParams[\"figure.figsize\"] = (10,10)\n",
    "    \n",
    "plt.scatter(\n",
    "    data[config_year.year][cond].num_bikes_available.compute(), \n",
    "    (data[config_year.year][cond]['num_bikes_available_types.ebike'] + data[config_year.year][cond]['num_bikes_available_types.mechanical']).compute(),\n",
    "    label='cond'\n",
    ")\n",
    "\n",
    "plt.scatter(\n",
    "    data[config_year.year][~cond].num_bikes_available.compute(), \n",
    "    (data[config_year.year][~cond]['num_bikes_available_types.ebike'] + data[config_year.year][~cond]['num_bikes_available_types.mechanical']).compute(),\n",
    "    label='~cond'\n",
    ")\n",
    "\n",
    "plt.ylabel('Electric + Mecanic')\n",
    "plt.xlabel('num_bikes_available')\n",
    "plt.legend()"
   ]
  },
  {
   "cell_type": "code",
   "execution_count": 24,
   "id": "b9ec3260",
   "metadata": {},
   "outputs": [
    {
     "name": "stdout",
     "output_type": "stream",
     "text": [
      "CPU times: user 0 ns, sys: 8.91 ms, total: 8.91 ms\n",
      "Wall time: 8.22 ms\n"
     ]
    }
   ],
   "source": [
    "%%time\n",
    "\n",
    "data[config_year.year]['num_bikes_available'] = data[config_year.year]['num_bikes_available'].mask(~cond, (data[config_year.year]['num_bikes_available_types.ebike'] + data[config_year.year]['num_bikes_available_types.mechanical']))\n"
   ]
  },
  {
   "cell_type": "code",
   "execution_count": 25,
   "id": "d415c0fa",
   "metadata": {},
   "outputs": [
    {
     "name": "stdout",
     "output_type": "stream",
     "text": [
      "correct data 3577342 incorrect data 0\n",
      "CPU times: user 1.7 s, sys: 237 ms, total: 1.94 s\n",
      "Wall time: 5.8 s\n"
     ]
    },
    {
     "data": {
      "text/plain": [
       "<matplotlib.legend.Legend at 0x7f482f8b9160>"
      ]
     },
     "execution_count": 25,
     "metadata": {},
     "output_type": "execute_result"
    },
    {
     "data": {
      "image/png": "[encoded data removed]",
      "text/plain": [
       "<Figure size 720x720 with 1 Axes>"
      ]
     },
     "metadata": {
      "needs_background": "light"
     },
     "output_type": "display_data"
    }
   ],
   "source": [
    "%%time\n",
    "\n",
    "cond = data[config_year.year].num_bikes_available.round().astype(int) == (data[config_year.year]['num_bikes_available_types.ebike'] + data[config_year.year]['num_bikes_available_types.mechanical']).round().astype(int)\n",
    "\n",
    "print('correct data',data[config_year.year][cond].shape[0].compute(), 'incorrect data', data[config_year.year][~cond].shape[0].compute())\n",
    "\n",
    "plt.rcParams[\"figure.figsize\"] = (10,10)\n",
    "    \n",
    "plt.scatter(\n",
    "    data[config_year.year][cond].num_bikes_available.compute(), \n",
    "    (data[config_year.year][cond]['num_bikes_available_types.ebike'] + data[config_year.year][cond]['num_bikes_available_types.mechanical']).compute(),\n",
    "    label='cond'\n",
    ")\n",
    "\n",
    "plt.scatter(\n",
    "    data[config_year.year][~cond].num_bikes_available.compute(), \n",
    "    (data[config_year.year][~cond]['num_bikes_available_types.ebike'] + data[config_year.year][~cond]['num_bikes_available_types.mechanical']).compute(),\n",
    "    label='~cond'\n",
    ")\n",
    "\n",
    "plt.ylabel('Electric + Mecanic')\n",
    "plt.xlabel('num_bikes_available')\n",
    "plt.legend()"
   ]
  },
  {
   "cell_type": "code",
   "execution_count": 26,
   "id": "eb2571b9",
   "metadata": {},
   "outputs": [],
   "source": [
    "# Now capacity of a station must be something similar to the sum of available bikes and available docks"
   ]
  },
  {
   "cell_type": "code",
   "execution_count": 27,
   "id": "de05960d",
   "metadata": {},
   "outputs": [
    {
     "name": "stdout",
     "output_type": "stream",
     "text": [
      "CPU times: user 15.8 ms, sys: 9.04 ms, total: 24.9 ms\n",
      "Wall time: 24 ms\n"
     ]
    }
   ],
   "source": [
    "%%time\n",
    "\n",
    "data[config_year.year]['capacity'] = data[config_year.year].num_bikes_available + data[config_year.year].num_docks_available\n",
    "\n",
    "stations_max_capacity = data[config_year.year].groupby(['station_id'])['capacity'].max().reset_index()\n",
    "\n",
    "# drop capacity \n",
    "data[config_year.year] = data[config_year.year].drop(['capacity'], axis=1)\n",
    "\n",
    "# merge with stations_max_capacity\n",
    "data[config_year.year] = data[config_year.year].merge(stations_max_capacity.copy(), how='left', on=['station_id'])\n"
   ]
  },
  {
   "cell_type": "code",
   "execution_count": 28,
   "id": "1bbb1dae",
   "metadata": {},
   "outputs": [
    {
     "name": "stdout",
     "output_type": "stream",
     "text": [
      "DescribeResult(nobs=3577342, minmax=(0.0, 297.0), mean=27.16683455984757, variance=38.00601660582682, skewness=1.8349043472272426, kurtosis=30.031786822942713)\n",
      "CPU times: user 720 ms, sys: 78.6 ms, total: 798 ms\n",
      "Wall time: 2.56 s\n"
     ]
    },
    {
     "data": {
      "text/plain": [
       "count    3.577342e+06\n",
       "mean     2.716683e+01\n",
       "std      6.164902e+00\n",
       "min      0.000000e+00\n",
       "25%      2.400000e+01\n",
       "50%      2.700000e+01\n",
       "75%      3.100000e+01\n",
       "max      2.970000e+02\n",
       "Name: capacity, dtype: float64"
      ]
     },
     "execution_count": 28,
     "metadata": {},
     "output_type": "execute_result"
    }
   ],
   "source": [
    "%%time\n",
    "\n",
    "print(stats.describe(data[config_year.year]['capacity']))\n",
    "data[config_year.year]['capacity'].describe().compute()"
   ]
  },
  {
   "cell_type": "code",
   "execution_count": 29,
   "id": "f744beb7",
   "metadata": {},
   "outputs": [
    {
     "data": {
      "image/png": "[encoded data removed]",
      "text/plain": [
       "<Figure size 1440x720 with 6 Axes>"
      ]
     },
     "metadata": {
      "needs_background": "light"
     },
     "output_type": "display_data"
    },
    {
     "name": "stdout",
     "output_type": "stream",
     "text": [
      "CPU times: user 6.1 s, sys: 1.01 s, total: 7.11 s\n",
      "Wall time: 6.7 s\n"
     ]
    }
   ],
   "source": [
    "%%time\n",
    "\n",
    "show_counts(data[config_year.year]['capacity'].compute())"
   ]
  },
  {
   "cell_type": "markdown",
   "id": "86237b11",
   "metadata": {},
   "source": [
    "## find the percentage of docks available"
   ]
  },
  {
   "cell_type": "code",
   "execution_count": 30,
   "id": "896be915",
   "metadata": {},
   "outputs": [
    {
     "name": "stdout",
     "output_type": "stream",
     "text": [
      "CPU times: user 0 ns, sys: 8.36 ms, total: 8.36 ms\n",
      "Wall time: 7.71 ms\n"
     ]
    }
   ],
   "source": [
    "%%time\n",
    "\n",
    "data[config_year.year]['ctx0'] = data[config_year.year].num_docks_available / data[config_year.year].capacity\n"
   ]
  },
  {
   "cell_type": "code",
   "execution_count": 31,
   "id": "52f78540",
   "metadata": {},
   "outputs": [
    {
     "name": "stdout",
     "output_type": "stream",
     "text": [
      "DescribeResult(nobs=3577342, minmax=(nan, nan), mean=nan, variance=nan, skewness=nan, kurtosis=nan)\n",
      "CPU times: user 689 ms, sys: 107 ms, total: 796 ms\n",
      "Wall time: 2.62 s\n"
     ]
    },
    {
     "data": {
      "text/plain": [
       "count    3.577330e+06\n",
       "mean     5.763826e-01\n",
       "std      2.801157e-01\n",
       "min      0.000000e+00\n",
       "25%      4.640000e-01\n",
       "50%      6.666667e-01\n",
       "75%      8.750000e-01\n",
       "max      1.000000e+00\n",
       "Name: ctx0, dtype: float64"
      ]
     },
     "execution_count": 31,
     "metadata": {},
     "output_type": "execute_result"
    }
   ],
   "source": [
    "%%time\n",
    "\n",
    "print(stats.describe(data[config_year.year]['ctx0']))\n",
    "data[config_year.year]['ctx0'].describe().compute()"
   ]
  },
  {
   "cell_type": "code",
   "execution_count": 32,
   "id": "9626a4f6",
   "metadata": {},
   "outputs": [
    {
     "data": {
      "image/png": "[encoded data removed]",
      "text/plain": [
       "<Figure size 1440x720 with 6 Axes>"
      ]
     },
     "metadata": {
      "needs_background": "light"
     },
     "output_type": "display_data"
    },
    {
     "name": "stdout",
     "output_type": "stream",
     "text": [
      "CPU times: user 1min 49s, sys: 21.3 s, total: 2min 10s\n",
      "Wall time: 2min 7s\n"
     ]
    }
   ],
   "source": [
    "%%time\n",
    "\n",
    "show_counts(data[config_year.year]['ctx0'].compute())"
   ]
  },
  {
   "cell_type": "markdown",
   "id": "a7e1a1e4",
   "metadata": {},
   "source": [
    "### Generating new columns of past 4 hours"
   ]
  },
  {
   "cell_type": "code",
   "execution_count": 33,
   "id": "0b3dd58e",
   "metadata": {},
   "outputs": [
    {
     "name": "stdout",
     "output_type": "stream",
     "text": [
      "Index(['station_id', 'timestamp', 'ctx0'], dtype='object')\n",
      "Index(['station_id', 'timestamp', 'ctx1'], dtype='object')\n",
      "Index(['station_id', 'timestamp', 'ctx2'], dtype='object')\n",
      "Index(['station_id', 'timestamp', 'ctx3'], dtype='object')\n",
      "Index(['station_id', 'timestamp', 'ctx4'], dtype='object')\n",
      "CPU times: user 152 ms, sys: 19.8 ms, total: 172 ms\n",
      "Wall time: 167 ms\n"
     ]
    }
   ],
   "source": [
    "%%time\n",
    "\n",
    "ctx = data[config_year.year][['station_id', 'timestamp', 'ctx0']].copy()\n",
    "# ctx = ctx.rename(columns={'num_docks_available': 'ctx0'})\n",
    "print(ctx.columns)\n",
    "\n",
    "for i in range(1,5): \n",
    "    ctx = ctx.rename(columns={f'ctx{i-1}': f'ctx{i}'})\n",
    "    print(ctx.columns)\n",
    "    \n",
    "    ctx.timestamp = ctx.timestamp + 3600 \n",
    "    data[config_year.year] = data[config_year.year].merge(ctx.copy(), how='left', on=['station_id','timestamp'])\n",
    "    \n",
    "    cond = data[config_year.year][f'ctx{i}'].isna()\n",
    "    data[config_year.year][f'ctx{i}'] = data[config_year.year][f'ctx{i}'].mask(cond, data[config_year.year][f'ctx{i-1}'])\n"
   ]
  },
  {
   "cell_type": "code",
   "execution_count": 34,
   "id": "d7c2d60a",
   "metadata": {},
   "outputs": [
    {
     "data": {
      "text/plain": [
       "Index(['station_id', 'num_bikes_available',\n",
       "       'num_bikes_available_types.mechanical',\n",
       "       'num_bikes_available_types.ebike', 'num_docks_available',\n",
       "       'is_installed', 'is_renting', 'is_returning', 'is_charging_station',\n",
       "       'status', 'timestamp', 'year', 'month', 'dayofweek', 'day', 'dayofyear',\n",
       "       'hour', 'capacity', 'ctx0', 'ctx1', 'ctx2', 'ctx3', 'ctx4'],\n",
       "      dtype='object')"
      ]
     },
     "execution_count": 34,
     "metadata": {},
     "output_type": "execute_result"
    }
   ],
   "source": [
    "data[config_year.year].columns"
   ]
  },
  {
   "cell_type": "code",
   "execution_count": 35,
   "id": "459e7ab1",
   "metadata": {
    "scrolled": true
   },
   "outputs": [
    {
     "name": "stdout",
     "output_type": "stream",
     "text": [
      "CPU times: user 10.9 s, sys: 369 ms, total: 11.2 s\n",
      "Wall time: 20.6 s\n"
     ]
    },
    {
     "data": {
      "text/plain": [
       "{'ctx0': 0.0003354445842751406,\n",
       " 'ctx1': 0.0003354445842751406,\n",
       " 'ctx2': 0.0003354445842751406,\n",
       " 'ctx3': 0.0003354445842751406,\n",
       " 'ctx4': 0.0003354445842751406}"
      ]
     },
     "execution_count": 35,
     "metadata": {},
     "output_type": "execute_result"
    }
   ],
   "source": [
    "%%time\n",
    "\n",
    "get_features_nans(data[config_year.year])"
   ]
  },
  {
   "cell_type": "code",
   "execution_count": 36,
   "id": "1270f3df",
   "metadata": {},
   "outputs": [
    {
     "name": "stdout",
     "output_type": "stream",
     "text": [
      "checkpoint saved.\n",
      "CPU times: user 3.16 s, sys: 259 ms, total: 3.42 s\n",
      "Wall time: 25.2 s\n"
     ]
    }
   ],
   "source": [
    "%%time\n",
    "\n",
    "save_checkpoint(data[config_year.year], config_year)\n",
    "\n",
    "# checkpoint saved."
   ]
  },
  {
   "cell_type": "code",
   "execution_count": null,
   "id": "6d081b9e",
   "metadata": {},
   "outputs": [],
   "source": []
  }
 ],
 "metadata": {
  "kernelspec": {
   "display_name": "Python 3",
   "language": "python",
   "name": "python3"
  },
  "language_info": {
   "codemirror_mode": {
    "name": "ipython",
    "version": 3
   },
   "file_extension": ".py",
   "mimetype": "text/x-python",
   "name": "python",
   "nbconvert_exporter": "python",
   "pygments_lexer": "ipython3",
   "version": "3.6.13"
  }
 },
 "nbformat": 4,
 "nbformat_minor": 5
}
