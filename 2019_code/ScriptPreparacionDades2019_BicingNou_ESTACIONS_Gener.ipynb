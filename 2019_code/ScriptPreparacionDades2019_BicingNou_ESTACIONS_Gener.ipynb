{
 "cells": [
  {
   "cell_type": "code",
   "execution_count": 8,
   "id": "5f8195ee",
   "metadata": {},
   "outputs": [
    {
     "data": {
      "text/html": [
       "<style>.container { width:80% !important; }</style>"
      ],
      "text/plain": [
       "<IPython.core.display.HTML object>"
      ]
     },
     "metadata": {},
     "output_type": "display_data"
    },
    {
     "name": "stdout",
     "output_type": "stream",
     "text": [
      "ranks:  [4.0, 1.0, 2.0, 3.0]\n",
      "Pearson rank coefficient: 0.27\n",
      "Spearman rank coefficient: 0.80\n"
     ]
    },
    {
     "data": {
      "image/png": "[encoded data removed]",
      "text/plain": [
       "<Figure size 432x288 with 1 Axes>"
      ]
     },
     "metadata": {
      "needs_background": "light"
     },
     "output_type": "display_data"
    }
   ],
   "source": [
    "from IPython.core.display import display, HTML\n",
    "display(HTML(\"<style>.container { width:80% !important; }</style>\"))\n",
    "\n",
    "# Python ≥3.5 is required\n",
    "import sys\n",
    "assert sys.version_info >= (3, 5)\n",
    "\n",
    "# Scikit-Learn ≥0.20 is required\n",
    "import sklearn\n",
    "assert sklearn.__version__ >= \"0.20\"\n",
    "\n",
    "from sklearn.ensemble import RandomForestRegressor\n",
    "from sklearn.ensemble import GradientBoostingRegressor\n",
    "from sklearn.model_selection import cross_val_score\n",
    "from sklearn.metrics import mean_squared_error, r2_score\n",
    "from sklearn.metrics import mean_absolute_error\n",
    "\n",
    "import pandas as pd\n",
    "import numpy as np\n",
    "pd.set_option('display.max_columns', None)\n",
    "\n",
    "# To plot pretty figures\n",
    "%matplotlib inline\n",
    "import matplotlib as mpl\n",
    "import matplotlib.pyplot as plt\n",
    "\n",
    "import scipy.stats as stats\n",
    "\n",
    "import seaborn as sns\n",
    "\n",
    "from datetime import datetime\n",
    "\n",
    "import re\n",
    "\n",
    "from tqdm.notebook import tqdm\n",
    "\n",
    "config = pd.Series({\n",
    "    'devide_by':5\n",
    "})\n",
    "\n",
    "\n",
    "\n",
    "# study of skewness of the data population\n",
    "def skewness(df:pd.DataFrame, column:str):\n",
    "    \"\"\"\n",
    "    Mesures of asymetry: \n",
    "    Negative deviation indicates that the destribution skews left. The skewness of a normal distrubtion is zero. And any symetric data must have skewness equal to zero.\n",
    "    The alternative to this is by lookig into the relationship between the mean and the median.\n",
    "    \"\"\"\n",
    "    assert df[column] is not None\n",
    "    assert column != ''\n",
    "    \n",
    "    result = 0\n",
    "    series = df[column]\n",
    "    data_mean = series.mean()\n",
    "    data_std = series.std()\n",
    "    data_count = len(series)\n",
    "    \n",
    "    for i in series:\n",
    "        result += ((i - data_mean) * (i - data_mean) * (i - data_mean))\n",
    "    result /= (data_count * data_std * data_std * data_std)\n",
    "    \n",
    "    return result\n",
    "\n",
    "# Pearson median skewness coefficient\n",
    "def pearson(df:pd.DataFrame, column:str):\n",
    "    \"\"\"\n",
    "    is an alternative to skewness coefficient\n",
    "    \"\"\"\n",
    "    assert df[column] is not None\n",
    "    assert column != ''\n",
    "    \n",
    "    result = 0\n",
    "    series = df[column]\n",
    "    data_mean = series.mean()\n",
    "    data_median = series.median()\n",
    "    data_std = series.std()\n",
    "    data_count = len(series)\n",
    "    \n",
    "    result = 3*(data_mean - data_median)*data_std\n",
    "    \n",
    "    return result\n",
    "\n",
    "\n",
    "def get_features_nans(df:pd.DataFrame):\n",
    "    result = (df.isna().sum()/df.shape[0])*100\n",
    "    return result[result > 0].to_dict()\n",
    "\n",
    "def get_features_zero(df:pd.DataFrame):\n",
    "    result = (df.isin([0]).sum()/df.shape[0])*100\n",
    "    return result[result > 0].to_dict()\n",
    "\n",
    "def get_nans_counts(df:pd.DataFrame, column:str, mean_of_column:str, mean_of_value):\n",
    "    return df[df[mean_of_column] == mean_of_value][column].isna().sum()\n",
    "\n",
    "def get_columns(df: pd.DataFrame, cat_only:bool=False, num_only:bool=False) -> dict:\n",
    "    if cat_only:\n",
    "        cat_col = df.select_dtypes(include=['object']).columns\n",
    "        return {col:len(set(df[col])) for col in cat_col}\n",
    "    if num_only:\n",
    "        num_col = df.select_dtypes(exclude=['object']).columns\n",
    "        return {col:len(set(df[col])) for col in num_col}\n",
    "    return {col:len(set(df[col])) for col in df.columns}\n",
    "\n",
    "def cross_val_evaluation(model,X_train, y_train, model_name):\n",
    "    scores = cross_val_score(model, X_train, y_train,cv=5) # scoring=\"neg_root_mean_squared_error\"\n",
    "    print(\"\\n \",model_name)\n",
    "    display_scores(scores)\n",
    "    \n",
    "def calcualte_scores(y, y_hat, show=True):\n",
    "    ## Evaluate the model and plot it\n",
    "    mdl_mse = mean_squared_error(y, y_hat)\n",
    "    mdl_rmse = np.sqrt(mdl_mse)\n",
    "    mdl_mae = mean_absolute_error(y, y_hat)\n",
    "    mdl_r2score = r2_score(y, y_hat)\n",
    "    \n",
    "    # Best possible score is 1.0, lower values are worse.\n",
    "    if show:\n",
    "        print(\"----- EVALUATION ON VAL SET ------\")\n",
    "        print('MSE:', mdl_mse)\n",
    "        print('RMSE', mdl_rmse)\n",
    "        print('MAE:', mdl_mae)\n",
    "        print('R^2: ', mdl_r2score) \n",
    "        print()\n",
    "        plt.scatter(y, y_hat)\n",
    "        plt.xlabel('y')\n",
    "        plt.ylabel('y^')\n",
    "        plt.show()\n",
    "    return mdl_mse,mdl_rmse,mdl_mae,mdl_r2score\n",
    "\n",
    "def show_column_counts(df:pd.DataFrame, column:str):\n",
    "    assert column != ''\n",
    "    assert df[column] is not None\n",
    "    \n",
    "    \n",
    "    fig, axs = plt.subplots(3, 2, figsize=(20,10))\n",
    "    axs[0][0].hist(df[column], label=f'{column} hist',bins=40)\n",
    "    axs[0][0].set_xlabel('values')\n",
    "    axs[0][0].set_ylabel('counts')\n",
    "    axs[0][0].set_title('')\n",
    "\n",
    "    axs[0][1].scatter(df[column].index, df[column].values, label=f'{column} scatter')\n",
    "    axs[0][1].set_xlabel('index')\n",
    "    axs[0][1].set_ylabel('values')\n",
    "    axs[0][1].set_title('')\n",
    "    \n",
    "    axs[1][0].scatter(df[column].value_counts().index, df[column].value_counts().values,label=f'{column} counts')\n",
    "    axs[1][0].set_xlabel('values')\n",
    "    axs[1][0].set_ylabel('counts')\n",
    "    axs[1][0].set_title('')\n",
    "    \n",
    "    axs[1][1].hist(df[column].value_counts(),label=f'{column} counts', bins=df[column].value_counts().shape[0])\n",
    "    axs[1][1].set_xlabel('counts')\n",
    "    axs[1][1].set_ylabel('values')\n",
    "    axs[1][1].set_title('')\n",
    "    \n",
    "    \n",
    "    axs[2][0].hist(df[column], density=True, histtype='step', cumulative=True,  linewidth=3.5, bins=30, color=sns.desaturate(\"indianred\", .75))\n",
    "    axs[2][0].set_xlabel('values')\n",
    "    axs[2][0].set_ylabel('counts')\n",
    "    axs[2][0].set_title('')\n",
    "    \n",
    "    axs[2][1].boxplot(df[column])\n",
    "    axs[2][1].set_xlabel('counts')\n",
    "    axs[2][1].set_ylabel('values')\n",
    "    axs[2][1].set_title('')\n",
    "\n",
    "    plt.tight_layout()\n",
    "    plt.show()\n",
    "\n",
    "# We need to convert the timestamp column to datetime and merge the two datasets considering year, month, day and hour. (minutes and seconds will be merged and replaced with the mean)\n",
    "from typing import List\n",
    "def convert_timestamp(df:pd.DataFrame, columns:List[str], sort:bool=False, add:bool=False, unit:str='s', pattern:str=None) -> pd.DataFrame:    \n",
    "    for column in columns: \n",
    "        if pattern:\n",
    "            df[f'{column}_date'] = pd.to_datetime(df[column], format=pattern)\n",
    "        else:\n",
    "            df[f'{column}_date'] = pd.to_datetime(df[column], unit=unit)\n",
    "        if add:\n",
    "            df = add_time_columns(df, f'{column}_date')\n",
    "            df.drop(f'{column}_date', axis=1, inplace=True)\n",
    "            \n",
    "    if sort:\n",
    "        df = df.sort_values(columns, ascending=True).reset_index(drop=True)\n",
    "        \n",
    "    return df\n",
    "\n",
    "def add_time_columns(df:pd.DataFrame, column:str):\n",
    "    assert column != ''\n",
    "    assert df[column] is not None\n",
    "    \n",
    "    df[f'year_{column}'] = df[column].dt.year\n",
    "    df[f'month_{column}'] = df[column].dt.month\n",
    "    df[f'week_{column}'] = df[column].dt.isocalendar().week\n",
    "    df[f'dayofweek_{column}'] = df[column].dt.dayofweek\n",
    "    df[f'dayofmonth_{column}'] = df[column].dt.day\n",
    "    df[f'dayofyear_{column}'] = df[column].dt.dayofyear\n",
    "    df[f'hour_{column}'] = df[column].dt.hour\n",
    "    df[f'minutes_{column}'] = df[column].dt.minute\n",
    "    \n",
    "    return df\n",
    "    \n",
    "# This function works only for data of one station\n",
    "def remove_duplicates(df:pd.DataFrame, column:str) -> pd.DataFrame:\n",
    "    assert column != ''\n",
    "    assert df[column] is not None\n",
    "\n",
    "    repeated_data = df[column].value_counts()[df[column].value_counts() > 1]\n",
    "\n",
    "    for value in repeated_data.index:\n",
    "        index = df[column] == value\n",
    "        aux = df[index]  # taking only the ones with ttl bigger then 10\n",
    "        \n",
    "        candidates = aux.loc[aux['ttl'] > 10, :] if aux.loc[aux['ttl'] > 10, :].shape[0] > 1 else aux\n",
    "\n",
    "        cat_cols = df.select_dtypes(include=['object']).columns\n",
    "        num_cols = df.select_dtypes(exclude=['object']).columns\n",
    "\n",
    "        aux = candidates.mean().round().astype(np.int)\n",
    "        \n",
    "        for cat_col in cat_cols: \n",
    "            aux[cat_col] = candidates.dropna().groupby([column])[cat_col].max()\n",
    "        \n",
    "        assert df.shape[1] == aux.shape[0]\n",
    "        \n",
    "        df.drop(df[index].index, inplace=True)\n",
    "        df = df.append(aux, ignore_index=True)\n",
    "    \n",
    "    # reorder the list\n",
    "    df = df.sort_values(column, ascending=True).reset_index(drop=True)\n",
    "    \n",
    "    return df\n",
    "\n",
    "def remove_duplicates_all(df:pd.DataFrame, column:str) -> pd.DataFrame:\n",
    "    assert column != ''\n",
    "    assert df[column] is not None\n",
    "    \n",
    "    result = {}\n",
    "    \n",
    "    for station_id in tqdm(df.station_id.unique().tolist()):\n",
    "        df_s = df[df.station_id == station_id]\n",
    "        df_s = remove_duplicates(df_s.copy(), column)\n",
    "        result[station_id] = df_s.copy()\n",
    "    \n",
    "    # concat the result values\n",
    "    df_ = pd.concat(list(result.values()), axis=0)\n",
    "    \n",
    "    return df_\n",
    "\n",
    "def timestamp_multipleof(\n",
    "    devide_by:int, \n",
    "    column:str,\n",
    "    df:pd.DataFrame, \n",
    "    new_column:str, \n",
    "    year_column:str,\n",
    "    month_column:str,\n",
    "    day_column:str,\n",
    "    hour_column:str,\n",
    "    minutes_column:str\n",
    ") -> pd.DataFrame:    \n",
    "    \n",
    "    # convert time to multiples of 3\n",
    "    df.loc[:,[column]] = (df[column]/devide_by).apply(np.floor)*devide_by\n",
    "\n",
    "    # create mew column of last reported and last updated \n",
    "    df[new_column] = df.apply(\n",
    "        lambda x: \n",
    "        datetime(\n",
    "            year=int(x[year_column]), \n",
    "            month=int(x[month_column]), \n",
    "            day=int(x[day_column]), \n",
    "            hour=int(x[hour_column]), \n",
    "            minute=int(x[minutes_column]), \n",
    "        ),\n",
    "        axis=1\n",
    "    )\n",
    "    \n",
    "    # recommended method to convert datetime to integer timestamp \n",
    "    dates = df[new_column]\n",
    "    # calculate unix datetime\n",
    "    df[new_column] = (dates - pd.Timestamp(\"1970-01-01\")) // pd.Timedelta('1s')\n",
    "\n",
    "    return df\n",
    "\n",
    "\n",
    "def Cov(X, Y):\n",
    "    def _get_dvis(V):\n",
    "        return [v - np.mean(V) for v in V]\n",
    "    dxis = _get_dvis(X)\n",
    "    dyis = _get_dvis(Y)\n",
    "    return np.sum([x * y for x, y in zip(dxis, dyis)])/len(X)\n",
    "\n",
    "def PearsonCorr(X, Y):\n",
    "    assert len(X) == len(Y)\n",
    "    return Cov(X, Y) / np.prod([np.std(V) for V in [X, Y]])\n",
    "\n",
    "def list2rank(l):\n",
    "    #l is a list of numbers\n",
    "    # returns a list of 1-based index; mean when multiple instances\n",
    "    return [np.mean([i+1 for i, sorted_el in enumerate(sorted(l)) if sorted_el == el]) for el in l]\n",
    "\n",
    "l = [7, 1, 2, 5]\n",
    "print(\"ranks: \", list2rank(l))\n",
    "\n",
    "def spearmanRank(X, Y):\n",
    "    # X and Y are same-length lists\n",
    "    return PearsonCorr(list2rank(X), list2rank(Y))\n",
    "\n",
    "X = [1, 2, 3, 4, 100]\n",
    "Y = [5, -100, 7, 10, 9]\n",
    "plt.plot(X,'ro')\n",
    "plt.plot(Y,'go')\n",
    "\n",
    "print(\"Pearson rank coefficient: %.2f\" % PearsonCorr(X, Y))\n",
    "print(\"Spearman rank coefficient: %.2f\" % spearmanRank(X, Y))"
   ]
  },
  {
   "cell_type": "markdown",
   "id": "159f1b7a",
   "metadata": {},
   "source": [
    "# Old data Gener 2019 "
   ]
  },
  {
   "cell_type": "code",
   "execution_count": 13,
   "id": "7ee966ee",
   "metadata": {},
   "outputs": [
    {
     "name": "stdout",
     "output_type": "stream",
     "text": [
      "(3979843, 12)\n",
      "(3979843, 19)\n"
     ]
    }
   ],
   "source": [
    "dades_2019_Gener_info_old = pd.read_csv('../dades/2019/BICING_ESTACIONS/2019_01_Gener_BICING_ESTACIONS.csv')\n",
    "\n",
    "print(dades_2019_Gener_info_old.shape)\n",
    "\n",
    "dades_2019_Gener_info_old.rename(\n",
    "    columns={\n",
    "        'id': 'station_id',\n",
    "        'latitude':'lat',\n",
    "        'longitude':'lon',\n",
    "        'type':'physical_configuration',\n",
    "        'updateTime':'last_updated',\n",
    "        'bikes':'num_bikes_available',\n",
    "        'slots':'num_docks_available',\n",
    "        'streetName':'street_name',\n",
    "        'streetNumber':'street_number',\n",
    "    }, \n",
    "    inplace=True\n",
    ")\n",
    "\n",
    "# STATUS = IN_SERVICE=En servei, CLOSED=Tancada\n",
    "# replace IN_SERVICE with 1 and CLOSED with 0\n",
    "dades_2019_Gener_info_old['status'].replace(to_replace=['CLS', 'OPN'], value=[0, 1], inplace=True)\n",
    "\n",
    "dades_2019_Gener_info_old['physical_configuration'].replace(to_replace=['BIKE', 'BIKE-ELECTRIC'], value=[0, 1], inplace=True)\n",
    "\n",
    "dades_2019_Gener_info_old['is_installed'] = 1\n",
    "dades_2019_Gener_info_old['is_renting'] = 1\n",
    "dades_2019_Gener_info_old['is_returning'] = 1\n",
    "dades_2019_Gener_info_old['is_charging_station'] = 1\n",
    "dades_2019_Gener_info_old['num_bikes_available_types.mechanical'] = dades_2019_Gener_info_old['num_bikes_available']\n",
    "dades_2019_Gener_info_old['num_bikes_available_types.ebike'] = 0\n",
    "dades_2019_Gener_info_old['post_code'] = ''\n",
    "dades_2019_Gener_info_old['capacity'] = 0\n",
    "\n",
    "# we don't have this column anywhere in the new dataset so it got removed\n",
    "dades_2019_Gener_info_old.drop('nearbyStations', axis=1, inplace=True)\n",
    "\n",
    "dades_2019_Gener_info_old = convert_timestamp(dades_2019_Gener_info_old.copy(), ['last_updated'], sort=True, add=True, pattern='%d/%m/%y %H:%M:%S')\n",
    "\n",
    "# convert timestamps to multimple of 3\n",
    "dades_2019_Gener_info_old = timestamp_multipleof(\n",
    "    devide_by=config.devide_by, \n",
    "    column='minutes_last_updated_date',\n",
    "    df=dades_2019_Gener_info_old.copy(), \n",
    "    new_column='last_updated', \n",
    "    year_column='year_last_updated_date',\n",
    "    month_column='month_last_updated_date',\n",
    "    day_column='dayofmonth_last_updated_date',\n",
    "    hour_column='hour_last_updated_date',\n",
    "    minutes_column='minutes_last_updated_date'\n",
    ")    \n",
    "\n",
    "# drop not needed columns\n",
    "dades_2019_Gener_info_old.drop(\n",
    "    [\n",
    "        'year_last_updated_date', 'month_last_updated_date',\n",
    "        'week_last_updated_date', 'dayofweek_last_updated_date',\n",
    "        'dayofmonth_last_updated_date', 'dayofyear_last_updated_date',\n",
    "        'hour_last_updated_date', 'minutes_last_updated_date'\n",
    "    ], \n",
    "    axis=1, \n",
    "    inplace=True\n",
    ")\n",
    "\n",
    "print(dades_2019_Gener_info_old.shape)"
   ]
  },
  {
   "cell_type": "code",
   "execution_count": 14,
   "id": "94a1715c",
   "metadata": {},
   "outputs": [
    {
     "data": {
      "text/plain": [
       "physical_configuration                  1\n",
       "lat                                     1\n",
       "lon                                     1\n",
       "street_name                             1\n",
       "street_number                           1\n",
       "altitude                                1\n",
       "num_docks_available                     2\n",
       "num_bikes_available                     2\n",
       "status                                  2\n",
       "is_installed                            1\n",
       "is_renting                              1\n",
       "is_returning                            1\n",
       "is_charging_station                     1\n",
       "num_bikes_available_types.mechanical    2\n",
       "num_bikes_available_types.ebike         1\n",
       "post_code                               1\n",
       "capacity                                1\n",
       "dtype: int64"
      ]
     },
     "execution_count": 14,
     "metadata": {},
     "output_type": "execute_result"
    }
   ],
   "source": [
    "def print_duplicates(df:pd.DataFrame, columns:list):\n",
    "    # check if conversion was done correctly\n",
    "    return df.groupby(columns).nunique().max()\n",
    "\n",
    "print_duplicates(dades_2019_Gener_info_old, ['station_id', 'last_updated'])"
   ]
  },
  {
   "cell_type": "code",
   "execution_count": 15,
   "id": "05a97b12",
   "metadata": {
    "scrolled": true
   },
   "outputs": [
    {
     "data": {
      "text/plain": [
       "Index(['station_id', 'physical_configuration', 'lat', 'lon', 'street_name',\n",
       "       'street_number', 'altitude', 'num_docks_available',\n",
       "       'num_bikes_available', 'status', 'last_updated', 'is_installed',\n",
       "       'is_renting', 'is_returning', 'is_charging_station',\n",
       "       'num_bikes_available_types.mechanical',\n",
       "       'num_bikes_available_types.ebike', 'post_code', 'capacity'],\n",
       "      dtype='object')"
      ]
     },
     "execution_count": 15,
     "metadata": {},
     "output_type": "execute_result"
    }
   ],
   "source": [
    "dades_2019_Gener_info_old.columns"
   ]
  },
  {
   "cell_type": "code",
   "execution_count": 25,
   "id": "420045f9",
   "metadata": {},
   "outputs": [],
   "source": [
    "def correct_columns(df, prim_column , column, drop=True, correct_column:pd.DataFrame=pd.DataFrame()):\n",
    "    #print(df.shape)\n",
    "    #print(column)\n",
    "    \n",
    "    if correct_column.empty:\n",
    "        correct_column = df.dropna().groupby([prim_column])[column].max()\n",
    "        correct_column = pd.DataFrame(correct_column.reset_index())\n",
    "\n",
    "    if drop:\n",
    "        df.drop(column, axis=1, inplace=True)\n",
    "        \n",
    "    df = df.merge(\n",
    "        correct_column, \n",
    "        left_on=[\n",
    "            prim_column,\n",
    "        ], \n",
    "        right_on=[\n",
    "            prim_column,\n",
    "        ],\n",
    "        how='left',\n",
    "        suffixes=(\"_old\", \"_correct\")\n",
    "    ).copy()\n",
    "\n",
    "    #print(df.shape)\n",
    "    \n",
    "    return df"
   ]
  },
  {
   "cell_type": "code",
   "execution_count": 26,
   "id": "876fa53e",
   "metadata": {},
   "outputs": [],
   "source": [
    "# replace nans with string of 0\n",
    "dades_2019_Gener_info_old.street_number = dades_2019_Gener_info_old.street_number.astype(str)\n",
    "dades_2019_Gener_info_old.street_number.fillna('0', inplace=True)\n",
    "dades_2019_Gener_info_old.loc[dades_2019_Gener_info_old.street_number.isin(['nan', '.']),['street_number']] = '0' \n",
    "\n",
    "# extract the correct column\n",
    "correct_column = dades_2019_Gener_info_old[dades_2019_Gener_info_old.street_number != '0'].groupby(['station_id'])['street_number'].max()\n",
    "correct_column = pd.DataFrame(correct_column.reset_index())\n",
    "# correct the data according to the data in the correct column\n",
    "dades_2019_Gener_info_old = correct_columns(dades_2019_Gener_info_old.copy(), 'station_id', 'street_number', correct_column=correct_column)\n",
    "\n",
    "dades_2019_Gener_info_old.street_number.fillna('0', inplace=True)\n",
    "\n",
    "dades_2019_Gener_info_old = correct_columns(dades_2019_Gener_info_old.copy(), 'station_id', 'capacity')\n",
    "\n",
    "dades_2019_Gener_info_old.loc[dades_2019_Gener_info_old.capacity.isna(),['capacity']] = 0\n",
    "\n",
    "dades_2019_Gener_info_old = correct_columns(dades_2019_Gener_info_old.copy(), 'station_id', 'altitude')"
   ]
  },
  {
   "cell_type": "code",
   "execution_count": 30,
   "id": "be9eb69a",
   "metadata": {},
   "outputs": [],
   "source": [
    "cond = (dades_2019_Gener_info_old.num_bikes_available + dades_2019_Gener_info_old.num_docks_available) > dades_2019_Gener_info_old.capacity\n",
    "dades_2019_Gener_info_old.loc[cond, ['capacity']] = dades_2019_Gener_info_old[cond]['num_bikes_available'] + dades_2019_Gener_info_old[cond]['num_docks_available']"
   ]
  },
  {
   "cell_type": "code",
   "execution_count": 31,
   "id": "df598ccf",
   "metadata": {
    "scrolled": true
   },
   "outputs": [
    {
     "data": {
      "text/plain": [
       "{}"
      ]
     },
     "execution_count": 31,
     "metadata": {},
     "output_type": "execute_result"
    }
   ],
   "source": [
    "get_features_nans(dades_2019_Gener_info_old)"
   ]
  },
  {
   "cell_type": "code",
   "execution_count": 32,
   "id": "fdb91f08",
   "metadata": {},
   "outputs": [
    {
     "data": {
      "text/plain": [
       "{'physical_configuration': 90.32192978466739,\n",
       " 'num_docks_available': 3.3194022980303495,\n",
       " 'num_bikes_available': 23.09616233605195,\n",
       " 'status': 14.145181103877716,\n",
       " 'num_bikes_available_types.mechanical': 23.09616233605195,\n",
       " 'num_bikes_available_types.ebike': 100.0,\n",
       " 'capacity': 0.0172871140896764,\n",
       " 'altitude': 3.6940904452763585}"
      ]
     },
     "execution_count": 32,
     "metadata": {},
     "output_type": "execute_result"
    }
   ],
   "source": [
    "get_features_zero(dades_2019_Gener_info_old)"
   ]
  },
  {
   "cell_type": "code",
   "execution_count": 33,
   "id": "501f058b",
   "metadata": {},
   "outputs": [
    {
     "data": {
      "text/plain": [
       "{'station_id': 463,\n",
       " 'physical_configuration': 2,\n",
       " 'lat': 462,\n",
       " 'lon': 463,\n",
       " 'street_name': 338,\n",
       " 'num_docks_available': 40,\n",
       " 'num_bikes_available': 40,\n",
       " 'status': 2,\n",
       " 'last_updated': 8650,\n",
       " 'is_installed': 1,\n",
       " 'is_renting': 1,\n",
       " 'is_returning': 1,\n",
       " 'is_charging_station': 1,\n",
       " 'num_bikes_available_types.mechanical': 40,\n",
       " 'num_bikes_available_types.ebike': 1,\n",
       " 'post_code': 1,\n",
       " 'ttl': 1,\n",
       " 'street_number': 217,\n",
       " 'capacity': 40,\n",
       " 'altitude': 71}"
      ]
     },
     "execution_count": 33,
     "metadata": {},
     "output_type": "execute_result"
    }
   ],
   "source": [
    "get_columns(dades_2019_Gener_info_old)"
   ]
  },
  {
   "cell_type": "code",
   "execution_count": 34,
   "id": "baca1214",
   "metadata": {},
   "outputs": [],
   "source": [
    "dades_2019_Gener_info_old['ttl'] = 30."
   ]
  },
  {
   "cell_type": "code",
   "execution_count": 35,
   "id": "f7573531",
   "metadata": {},
   "outputs": [
    {
     "data": {
      "application/vnd.jupyter.widget-view+json": {
       "model_id": "4b8be02ad3e34af98ae230960c1548cc",
       "version_major": 2,
       "version_minor": 0
      },
      "text/plain": [
       "  0%|          | 0/463 [00:00<?, ?it/s]"
      ]
     },
     "metadata": {},
     "output_type": "display_data"
    }
   ],
   "source": [
    "### will remove the duplicate for last reported for all stations in the dataset\n",
    "dades_2019_Gener_info_old = remove_duplicates_all(dades_2019_Gener_info_old.copy(), 'last_updated')\n",
    "# (3979843, 19)"
   ]
  },
  {
   "cell_type": "code",
   "execution_count": 37,
   "id": "4768b3ea",
   "metadata": {},
   "outputs": [
    {
     "data": {
      "text/plain": [
       "(3913554, 20)"
      ]
     },
     "execution_count": 37,
     "metadata": {},
     "output_type": "execute_result"
    }
   ],
   "source": [
    "dades_2019_Gener_info_old.shape"
   ]
  },
  {
   "cell_type": "code",
   "execution_count": 38,
   "id": "026a836d",
   "metadata": {},
   "outputs": [
    {
     "data": {
      "text/plain": [
       "'66289 deleted'"
      ]
     },
     "execution_count": 38,
     "metadata": {},
     "output_type": "execute_result"
    }
   ],
   "source": [
    "f'{3979843-3913554} deleted'"
   ]
  },
  {
   "cell_type": "code",
   "execution_count": 39,
   "id": "9fa54117",
   "metadata": {},
   "outputs": [],
   "source": [
    "dades_2019_Gener_info_old.to_csv('../dades/2019/BicingNou_ESTACIONS/2019_01_Gener_BicingNou_ESTACIONS.csv')"
   ]
  },
  {
   "cell_type": "code",
   "execution_count": null,
   "id": "66acd882",
   "metadata": {},
   "outputs": [],
   "source": []
  }
 ],
 "metadata": {
  "kernelspec": {
   "display_name": "Python 3",
   "language": "python",
   "name": "python3"
  },
  "language_info": {
   "codemirror_mode": {
    "name": "ipython",
    "version": 3
   },
   "file_extension": ".py",
   "mimetype": "text/x-python",
   "name": "python",
   "nbconvert_exporter": "python",
   "pygments_lexer": "ipython3",
   "version": "3.6.13"
  }
 },
 "nbformat": 4,
 "nbformat_minor": 5
}
