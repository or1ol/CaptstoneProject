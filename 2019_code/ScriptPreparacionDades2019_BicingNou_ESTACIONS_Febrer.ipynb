{
 "cells": [
  {
   "cell_type": "code",
   "execution_count": 1,
   "id": "010d22d6",
   "metadata": {},
   "outputs": [
    {
     "data": {
      "text/html": [
       "<style>.container { width:80% !important; }</style>"
      ],
      "text/plain": [
       "<IPython.core.display.HTML object>"
      ]
     },
     "metadata": {},
     "output_type": "display_data"
    },
    {
     "name": "stdout",
     "output_type": "stream",
     "text": [
      "ranks:  [4.0, 1.0, 2.0, 3.0]\n",
      "Pearson rank coefficient: 0.27\n",
      "Spearman rank coefficient: 0.80\n"
     ]
    },
    {
     "data": {
      "image/png": "[encoded data removed]",
      "text/plain": [
       "<Figure size 432x288 with 1 Axes>"
      ]
     },
     "metadata": {
      "needs_background": "light"
     },
     "output_type": "display_data"
    }
   ],
   "source": [
    "from IPython.core.display import display, HTML\n",
    "display(HTML(\"<style>.container { width:80% !important; }</style>\"))\n",
    "\n",
    "# Python ≥3.5 is required\n",
    "import sys\n",
    "assert sys.version_info >= (3, 5)\n",
    "\n",
    "# Scikit-Learn ≥0.20 is required\n",
    "import sklearn\n",
    "assert sklearn.__version__ >= \"0.20\"\n",
    "\n",
    "from sklearn.ensemble import RandomForestRegressor\n",
    "from sklearn.ensemble import GradientBoostingRegressor\n",
    "from sklearn.model_selection import cross_val_score\n",
    "from sklearn.metrics import mean_squared_error, r2_score\n",
    "from sklearn.metrics import mean_absolute_error\n",
    "\n",
    "import pandas as pd\n",
    "import numpy as np\n",
    "pd.set_option('display.max_columns', None)\n",
    "\n",
    "# To plot pretty figures\n",
    "%matplotlib inline\n",
    "import matplotlib as mpl\n",
    "import matplotlib.pyplot as plt\n",
    "\n",
    "import scipy.stats as stats\n",
    "\n",
    "import seaborn as sns\n",
    "\n",
    "from datetime import datetime\n",
    "\n",
    "import re\n",
    "\n",
    "from tqdm.notebook import tqdm\n",
    "\n",
    "from tools import * \n",
    "\n",
    "config = pd.Series({\n",
    "    'devide_by':5\n",
    "})\n",
    "\n",
    "\n",
    "l = [7, 1, 2, 5]\n",
    "print(\"ranks: \", list2rank(l))\n",
    "\n",
    "X = [1, 2, 3, 4, 100]\n",
    "Y = [5, -100, 7, 10, 9]\n",
    "plt.plot(X,'ro')\n",
    "plt.plot(Y,'go')\n",
    "\n",
    "print(\"Pearson rank coefficient: %.2f\" % PearsonCorr(X, Y))\n",
    "print(\"Spearman rank coefficient: %.2f\" % spearmanRank(X, Y))"
   ]
  },
  {
   "cell_type": "markdown",
   "id": "6901a7c2",
   "metadata": {},
   "source": [
    "# Old data Febrer 2019 "
   ]
  },
  {
   "cell_type": "code",
   "execution_count": null,
   "id": "7ac5c877",
   "metadata": {},
   "outputs": [
    {
     "name": "stdout",
     "output_type": "stream",
     "text": [
      "(3729928, 12)\n"
     ]
    }
   ],
   "source": [
    "dades_2019_Febrer_info_old = pd.read_csv('../dades/2019/BICING_ESTACIONS/2019_02_Febrer_BICING_ESTACIONS.csv')\n",
    "\n",
    "print(dades_2019_Febrer_info_old.shape)\n",
    "\n",
    "dades_2019_Febrer_info_old.rename(\n",
    "    columns={\n",
    "        'id': 'station_id',\n",
    "        'latitude':'lat',\n",
    "        'longitude':'lon',\n",
    "        'type':'physical_configuration',\n",
    "        'updateTime':'last_updated',\n",
    "        'bikes':'num_bikes_available',\n",
    "        'slots':'num_docks_available',\n",
    "        'streetName':'street_name',\n",
    "        'streetNumber':'street_number',\n",
    "    }, \n",
    "    inplace=True\n",
    ")\n",
    "\n",
    "# STATUS = IN_SERVICE=En servei, CLOSED=Tancada\n",
    "# replace IN_SERVICE with 1 and CLOSED with 0\n",
    "dades_2019_Febrer_info_old['status'].replace(to_replace=['CLS', 'OPN'], value=[0, 1], inplace=True)\n",
    "\n",
    "dades_2019_Febrer_info_old['physical_configuration'].replace(to_replace=['BIKE', 'BIKE-ELECTRIC'], value=[0, 1], inplace=True)\n",
    "\n",
    "dades_2019_Febrer_info_old['is_installed'] = 1\n",
    "dades_2019_Febrer_info_old['is_renting'] = 1\n",
    "dades_2019_Febrer_info_old['is_returning'] = 1\n",
    "dades_2019_Febrer_info_old['is_charging_station'] = 1\n",
    "dades_2019_Febrer_info_old['num_bikes_available_types.mechanical'] = dades_2019_Febrer_info_old['num_bikes_available']\n",
    "dades_2019_Febrer_info_old['num_bikes_available_types.ebike'] = 0\n",
    "dades_2019_Febrer_info_old['post_code'] = ''\n",
    "dades_2019_Febrer_info_old['capacity'] = 0\n",
    "\n",
    "# we don't have this column anywhere in the new dataset so it got removed\n",
    "dades_2019_Febrer_info_old.drop('nearbyStations', axis=1, inplace=True)\n",
    "\n",
    "dades_2019_Febrer_info_old = convert_timestamp(dades_2019_Febrer_info_old.copy(), ['last_updated'], sort=True, add=True, pattern='%d/%m/%y %H:%M:%S')\n",
    "\n",
    "# convert timestamps to multimple of 5\n",
    "dades_2019_Febrer_info_old = timestamp_multipleof(\n",
    "    devide_by=config.devide_by, \n",
    "    column='minutes_last_updated_date',\n",
    "    df=dades_2019_Febrer_info_old.copy(), \n",
    "    new_column='last_updated', \n",
    "    year_column='year_last_updated_date',\n",
    "    month_column='month_last_updated_date',\n",
    "    day_column='dayofmonth_last_updated_date',\n",
    "    hour_column='hour_last_updated_date',\n",
    "    minutes_column='minutes_last_updated_date'\n",
    ")    \n",
    "\n",
    "# drop not needed columns\n",
    "dades_2019_Febrer_info_old.drop(\n",
    "    [\n",
    "        'year_last_updated_date', 'month_last_updated_date',\n",
    "        'week_last_updated_date', 'dayofweek_last_updated_date',\n",
    "        'dayofmonth_last_updated_date', 'dayofyear_last_updated_date',\n",
    "        'hour_last_updated_date', 'minutes_last_updated_date'\n",
    "    ], \n",
    "    axis=1, \n",
    "    inplace=True\n",
    ")\n",
    "\n",
    "print(dades_2019_Febrer_info_old.shape)"
   ]
  },
  {
   "cell_type": "code",
   "execution_count": null,
   "id": "2b0bfbd9",
   "metadata": {},
   "outputs": [],
   "source": [
    "print_duplicates(dades_2019_Febrer_info_old, ['station_id', 'last_updated'])"
   ]
  },
  {
   "cell_type": "code",
   "execution_count": null,
   "id": "8ee9dc19",
   "metadata": {
    "scrolled": true
   },
   "outputs": [],
   "source": [
    "dades_2019_Febrer_info_old.columns"
   ]
  },
  {
   "cell_type": "code",
   "execution_count": null,
   "id": "fb3ad37d",
   "metadata": {},
   "outputs": [],
   "source": [
    "# replace nans with string of 0\n",
    "dades_2019_Febrer_info_old.street_number = dades_2019_Febrer_info_old.street_number.astype(str)\n",
    "dades_2019_Febrer_info_old.street_number.fillna('0', inplace=True)\n",
    "dades_2019_Febrer_info_old.loc[dades_2019_Febrer_info_old.street_number.isin(['nan', '.']),['street_number']] = '0' \n",
    "\n",
    "# extract the correct column\n",
    "correct_column = dades_2019_Febrer_info_old[dades_2019_Febrer_info_old.street_number != '0'].groupby(['station_id'])['street_number'].max()\n",
    "correct_column = pd.DataFrame(correct_column.reset_index())\n",
    "# correct the data according to the data in the correct column\n",
    "dades_2019_Febrer_info_old = correct_columns(dades_2019_Febrer_info_old.copy(), 'station_id', 'street_number', correct_column=correct_column)\n",
    "\n",
    "dades_2019_Febrer_info_old.street_number.fillna('0', inplace=True)\n",
    "\n",
    "dades_2019_Febrer_info_old = correct_columns(dades_2019_Febrer_info_old.copy(), 'station_id', 'capacity')\n",
    "\n",
    "dades_2019_Febrer_info_old.loc[dades_2019_Febrer_info_old.capacity.isna(),['capacity']] = 0\n",
    "\n",
    "dades_2019_Febrer_info_old = correct_columns(dades_2019_Febrer_info_old.copy(), 'station_id', 'altitude')"
   ]
  },
  {
   "cell_type": "code",
   "execution_count": null,
   "id": "8c9564cb",
   "metadata": {},
   "outputs": [],
   "source": [
    "cond = (dades_2019_Febrer_info_old.num_bikes_available + dades_2019_Febrer_info_old.num_docks_available) > dades_2019_Febrer_info_old.capacity\n",
    "dades_2019_Febrer_info_old.loc[cond, ['capacity']] = dades_2019_Febrer_info_old[cond]['num_bikes_available'] + dades_2019_Febrer_info_old[cond]['num_docks_available']"
   ]
  },
  {
   "cell_type": "code",
   "execution_count": null,
   "id": "63068e43",
   "metadata": {
    "scrolled": true
   },
   "outputs": [],
   "source": [
    "get_features_nans(dades_2019_Febrer_info_old)"
   ]
  },
  {
   "cell_type": "code",
   "execution_count": null,
   "id": "ae257041",
   "metadata": {},
   "outputs": [],
   "source": [
    "get_features_zero(dades_2019_Febrer_info_old)"
   ]
  },
  {
   "cell_type": "code",
   "execution_count": null,
   "id": "db396032",
   "metadata": {},
   "outputs": [],
   "source": [
    "get_columns(dades_2019_Febrer_info_old)"
   ]
  },
  {
   "cell_type": "code",
   "execution_count": null,
   "id": "539ebbfd",
   "metadata": {},
   "outputs": [],
   "source": [
    "dades_2019_Febrer_info_old['ttl'] = 30."
   ]
  },
  {
   "cell_type": "code",
   "execution_count": null,
   "id": "73b64ef5",
   "metadata": {},
   "outputs": [],
   "source": [
    "### will remove the duplicate for last reported for all stations in the dataset\n",
    "dades_2019_Febrer_info_old = remove_duplicates_all(dades_2019_Febrer_info_old.copy(), 'last_updated')\n",
    "# (3729928, 19)"
   ]
  },
  {
   "cell_type": "code",
   "execution_count": null,
   "id": "135be156",
   "metadata": {},
   "outputs": [],
   "source": [
    "dades_2019_Febrer_info_old.shape"
   ]
  },
  {
   "cell_type": "code",
   "execution_count": null,
   "id": "51dd8642",
   "metadata": {},
   "outputs": [],
   "source": [
    "f'{3729928-3728539} deleted'"
   ]
  },
  {
   "cell_type": "code",
   "execution_count": null,
   "id": "afafea8b",
   "metadata": {},
   "outputs": [],
   "source": [
    "dades_2019_Febrer_info_old.to_csv('../dades/2019/BicingNou_ESTACIONS/2019_02_Febrer_BicingNou_ESTACIONS.csv')"
   ]
  },
  {
   "cell_type": "code",
   "execution_count": null,
   "id": "395c88c0",
   "metadata": {},
   "outputs": [],
   "source": []
  }
 ],
 "metadata": {
  "kernelspec": {
   "display_name": "Python 3",
   "language": "python",
   "name": "python3"
  },
  "language_info": {
   "codemirror_mode": {
    "name": "ipython",
    "version": 3
   },
   "file_extension": ".py",
   "mimetype": "text/x-python",
   "name": "python",
   "nbconvert_exporter": "python",
   "pygments_lexer": "ipython3",
   "version": "3.6.13"
  }
 },
 "nbformat": 4,
 "nbformat_minor": 5
}
