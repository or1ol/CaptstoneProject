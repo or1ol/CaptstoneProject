{
 "cells": [
  {
   "cell_type": "code",
   "execution_count": 7,
   "id": "ed452a81",
   "metadata": {},
   "outputs": [
    {
     "data": {
      "text/html": [
       "<style>.container { width:80% !important; }</style>"
      ],
      "text/plain": [
       "<IPython.core.display.HTML object>"
      ]
     },
     "metadata": {},
     "output_type": "display_data"
    },
    {
     "name": "stdout",
     "output_type": "stream",
     "text": [
      "ranks:  [4.0, 1.0, 2.0, 3.0]\n",
      "Pearson rank coefficient: 0.27\n",
      "Spearman rank coefficient: 0.80\n"
     ]
    },
    {
     "data": {
      "image/png": "[encoded data removed]",
      "text/plain": [
       "<Figure size 432x288 with 1 Axes>"
      ]
     },
     "metadata": {
      "needs_background": "light"
     },
     "output_type": "display_data"
    }
   ],
   "source": [
    "from IPython.core.display import display, HTML\n",
    "display(HTML(\"<style>.container { width:80% !important; }</style>\"))\n",
    "\n",
    "# Python ≥3.5 is required\n",
    "import sys\n",
    "assert sys.version_info >= (3, 5)\n",
    "\n",
    "# Scikit-Learn ≥0.20 is required\n",
    "import sklearn\n",
    "assert sklearn.__version__ >= \"0.20\"\n",
    "\n",
    "from sklearn.ensemble import RandomForestRegressor\n",
    "from sklearn.ensemble import GradientBoostingRegressor\n",
    "from sklearn.model_selection import cross_val_score\n",
    "from sklearn.metrics import mean_squared_error, r2_score\n",
    "from sklearn.metrics import mean_absolute_error\n",
    "\n",
    "import pandas as pd\n",
    "import numpy as np\n",
    "pd.set_option('display.max_columns', None)\n",
    "\n",
    "# To plot pretty figures\n",
    "%matplotlib inline\n",
    "import matplotlib as mpl\n",
    "import matplotlib.pyplot as plt\n",
    "\n",
    "import scipy.stats as stats\n",
    "\n",
    "import seaborn as sns\n",
    "\n",
    "from datetime import datetime\n",
    "\n",
    "import re\n",
    "\n",
    "from tqdm.notebook import tqdm\n",
    "\n",
    "from tools import * \n",
    "\n",
    "config = pd.Series({\n",
    "    'devide_by':5\n",
    "})\n",
    "\n",
    "\n",
    "l = [7, 1, 2, 5]\n",
    "print(\"ranks: \", list2rank(l))\n",
    "\n",
    "X = [1, 2, 3, 4, 100]\n",
    "Y = [5, -100, 7, 10, 9]\n",
    "plt.plot(X,'ro')\n",
    "plt.plot(Y,'go')\n",
    "\n",
    "print(\"Pearson rank coefficient: %.2f\" % PearsonCorr(X, Y))\n",
    "print(\"Spearman rank coefficient: %.2f\" % spearmanRank(X, Y))"
   ]
  },
  {
   "cell_type": "code",
   "execution_count": 8,
   "id": "a3090df3",
   "metadata": {},
   "outputs": [
    {
     "data": {
      "text/html": [
       "<style>\n",
       "    p {\n",
       "        float:left\n",
       "    }  \n",
       "    table {\n",
       "        display: inline-block\n",
       "    }\n",
       "</style>\n"
      ],
      "text/plain": [
       "<IPython.core.display.HTML object>"
      ]
     },
     "metadata": {},
     "output_type": "display_data"
    }
   ],
   "source": [
    "%%html\n",
    "<style>\n",
    "    p {\n",
    "        float:left\n",
    "    }  \n",
    "    table {\n",
    "        display: inline-block\n",
    "    }\n",
    "</style>"
   ]
  },
  {
   "cell_type": "markdown",
   "id": "6043ca68",
   "metadata": {},
   "source": [
    "<div>\n",
    "    <table>\n",
    "        <tr>\n",
    "            <th><p>Camp<p><th>\n",
    "            <th><p>Descripció<p><th>\n",
    "        <tr>\n",
    "        <tr>\n",
    "            <td><p>last_updated<p><td>\n",
    "            <td><p>Timestamp de l'arxiu<p><td>\n",
    "        <tr>\n",
    "        <tr>\n",
    "            <td><p>ttl<p><td>\n",
    "            <td><p>TimeToLive de la resposta<p><td>\n",
    "        <tr>\n",
    "        <tr>\n",
    "            <td><p>data<p><td>\n",
    "            <td><p>Contenidor d'arrays d'informació d'estacions<p><td>\n",
    "        <tr>\n",
    "        <tr>\n",
    "            <td><p>stations<p><td>\n",
    "            <td><p>Array de dades de cada estació<p><td>\n",
    "        <tr>\n",
    "        <tr>\n",
    "            <td><p>station_id<p><td>\n",
    "            <td><p>Identificador de l'estació<p><td>\n",
    "        <tr>\n",
    "        <tr>\n",
    "            <td><p>num_bikes_available<p><td>\n",
    "            <td><p>Nombre de bicicletes disponibles<p><td>\n",
    "        <tr>\n",
    "        <tr>\n",
    "            <td><p>num_bikes_available_types<p><td>\n",
    "            <td><p>Array de tipus de bicicletes disponibles<p><td>\n",
    "        <tr>\n",
    "        <tr>\n",
    "            <td><p>mechanical<p><td>\n",
    "            <td><p>Nombre de bicicletes mecàniques disponibles<p><td>\n",
    "        <tr>\n",
    "        <tr>\n",
    "            <td><p>ebike<p><td>\n",
    "            <td><p>Nombre de bicicletes elèctriques disponibles<p><td>\n",
    "        <tr>\n",
    "        <tr>\n",
    "            <td><p>num_docks_available<p><td>\n",
    "            <td><p>Nombre de ancoratges disponibles<p><td>\n",
    "        <tr>\n",
    "        <tr>\n",
    "            <td><p>is_installed<p><td>\n",
    "            <td><p>L'estació està correctament instalada (0-NO,1-SI)<p><td>\n",
    "        <tr>\n",
    "        <tr>\n",
    "            <td><p>is_renting<p><td>\n",
    "            <td><p>L'estació està proporcionant bicicletes correctament<p><td>\n",
    "        <tr>\n",
    "        <tr>\n",
    "            <td><p>is_returning<p><td>\n",
    "            <td><p>L'estació està ancorant bicicletes correctament<p><td>\n",
    "        <tr>\n",
    "        <tr>\n",
    "            <td><p>last_reported<p><td>\n",
    "            <td><p>Timestamp de la informació de l'estació<p><td>\n",
    "        <tr>\n",
    "        <tr>\n",
    "            <td><p>is_charging_station<p><td>\n",
    "            <td><p>L'estació té capacitat de càrrega de bicicletes elèctriques<p><td>\n",
    "        <tr>\n",
    "        <tr>\n",
    "            <td><p>status<p><td>\n",
    "            <td><p>Estat de l'estació (IN_SERVICE=En servei, CLOSED=Tancada)<p><td>\n",
    "        <tr>\n",
    "    <table>\n",
    "<div>"
   ]
  },
  {
   "cell_type": "markdown",
   "id": "1880ab71",
   "metadata": {},
   "source": [
    "# Read data 2019 marc\n",
    "\n",
    "|  | info |\n",
    "| -- | -- |\n",
    "|  | The data for 2019 marc are from 2019-03-28 17:54:30 until 2019-03-31 21:53:56 |"
   ]
  },
  {
   "cell_type": "markdown",
   "id": "ff2b4f9c",
   "metadata": {},
   "source": [
    "## New data 2019 Marc "
   ]
  },
  {
   "cell_type": "markdown",
   "id": "045d8f0a",
   "metadata": {},
   "source": [
    "### dades_2019_Marc_info"
   ]
  },
  {
   "cell_type": "markdown",
   "id": "faa64d7a",
   "metadata": {},
   "source": [
    "#### Preprocessing the data "
   ]
  },
  {
   "cell_type": "code",
   "execution_count": 10,
   "id": "40d89240",
   "metadata": {
    "scrolled": true
   },
   "outputs": [
    {
     "name": "stdout",
     "output_type": "stream",
     "text": [
      "(355467, 13)\n"
     ]
    },
    {
     "data": {
      "application/vnd.jupyter.widget-view+json": {
       "model_id": "2ebcb2fa29264851bb2f19a3f721c051",
       "version_major": 2,
       "version_minor": 0
      },
      "text/plain": [
       "  0%|          | 0/399 [00:00<?, ?it/s]"
      ]
     },
     "metadata": {},
     "output_type": "display_data"
    },
    {
     "name": "stdout",
     "output_type": "stream",
     "text": [
      "(349863, 13)\n"
     ]
    }
   ],
   "source": [
    "dades_2019_Marc_info = pd.read_csv('../dades/2019/BicingNou_ESTACIONS/2019_03_Marc_BicingNou_ESTACIONS_old.csv')\n",
    "\n",
    "print(dades_2019_Marc_info.shape)\n",
    "\n",
    "# change column to one hot enconding\n",
    "dades_2019_Marc_info['is_charging_station'] = dades_2019_Marc_info.is_charging_station.astype(np.int)\n",
    "\n",
    "# STATUS = IN_SERVICE=En servei, CLOSED=Tancada\n",
    "# replace IN_SERVICE with 1 and CLOSED with 0\n",
    "dades_2019_Marc_info['status'].replace(to_replace=['CLOSED', 'IN_SERVICE'], value=[0, 1], inplace=True)\n",
    "\n",
    "# will remove the duplicate for last reported for all stations in the dataset\n",
    "dades_2019_Marc_info = remove_duplicates_all(dades_2019_Marc_info.copy(), 'last_reported')\n",
    "\n",
    "# convert timestamps of last_updated\n",
    "dades_2019_Marc_info = convert_timestamp(dades_2019_Marc_info.copy(), ['last_updated'], sort=True, add=True)\n",
    "\n",
    "# convert timestamps to multimple of 3\n",
    "dades_2019_Marc_info = timestamp_multipleof(\n",
    "    devide_by=config.devide_by, \n",
    "    column='minutes_last_updated_date',\n",
    "    df=dades_2019_Marc_info.copy(), \n",
    "    new_column='last_updated', \n",
    "    year_column='year_last_updated_date',\n",
    "    month_column='month_last_updated_date',\n",
    "    day_column='dayofmonth_last_updated_date',\n",
    "    hour_column='hour_last_updated_date',\n",
    "    minutes_column='minutes_last_updated_date'\n",
    ")    \n",
    "\n",
    "# drop not needed columns\n",
    "dades_2019_Marc_info.drop(\n",
    "    [\n",
    "        'year_last_updated_date', 'month_last_updated_date',\n",
    "        'week_last_updated_date', 'dayofweek_last_updated_date',\n",
    "        'dayofmonth_last_updated_date', 'dayofyear_last_updated_date',\n",
    "        'hour_last_updated_date', 'minutes_last_updated_date'\n",
    "    ], \n",
    "    axis=1, \n",
    "    inplace=True\n",
    ")\n",
    "\n",
    "# we don't have this column anywhere in the new dataset so it got removed\n",
    "# dades_2019_Marc_info.drop('last_reported', axis=1, inplace=True)\n",
    "\n",
    "print(dades_2019_Marc_info.shape)"
   ]
  },
  {
   "cell_type": "markdown",
   "id": "790d1502",
   "metadata": {},
   "source": [
    "### dades_2019_Marc_us"
   ]
  },
  {
   "cell_type": "markdown",
   "id": "a036c588",
   "metadata": {},
   "source": [
    "#### Preprocessing the data "
   ]
  },
  {
   "cell_type": "code",
   "execution_count": 11,
   "id": "a95e8737",
   "metadata": {},
   "outputs": [
    {
     "name": "stdout",
     "output_type": "stream",
     "text": [
      "(352674, 11)\n",
      "(884, 11)\n",
      "(352674, 11)\n"
     ]
    }
   ],
   "source": [
    "dades_2019_Marc_us = pd.read_csv('../dades/2019/BicingNou_INFORMACIO/2019_03_Marc_BicingNou_INFORMACIO.csv')\n",
    "\n",
    "print(dades_2019_Marc_us.shape)\n",
    "\n",
    "# dades_2019_Marc_us[~(dades_2019_Marc_us.altitude == \"0\")] # 884 row  does not have 0 in the altitud column\n",
    "cond = (~(dades_2019_Marc_us.altitude == \"0\") & (dades_2019_Marc_us.capacity == 1))\n",
    "print(dades_2019_Marc_us[cond].shape) \n",
    "# 884 row does not have 0 in the altitud column\n",
    "# capacity is filled with values 1 to fix this we need to shift the data \n",
    "\n",
    "# Fix data \n",
    "dades_2019_Marc_us.loc[cond, ['capacity']] = dades_2019_Marc_us[cond].post_code\n",
    "dades_2019_Marc_us.loc[cond, ['post_code']] = dades_2019_Marc_us[cond].address\n",
    "dades_2019_Marc_us.loc[cond, ['address']] = dades_2019_Marc_us[cond].altitude\n",
    "dades_2019_Marc_us.loc[cond, ['altitude']] = '0'\n",
    "\n",
    "# post code is wrong need fixing using long & lat. \n",
    "# can be fixed using post code data from old dataset after the merge\n",
    "dades_2019_Marc_us['post_code'] = '08908'\n",
    "\n",
    "dades_2019_Marc_us = convert_timestamp(dades_2019_Marc_us.copy(), ['last_updated'], sort=True, add=True)\n",
    "\n",
    "# convert timestamps to multimple of 3\n",
    "dades_2019_Marc_us = timestamp_multipleof(\n",
    "    devide_by=config.devide_by, \n",
    "    column='minutes_last_updated_date',\n",
    "    df=dades_2019_Marc_us.copy(), \n",
    "    new_column='last_updated', \n",
    "    year_column='year_last_updated_date',\n",
    "    month_column='month_last_updated_date',\n",
    "    day_column='dayofmonth_last_updated_date',\n",
    "    hour_column='hour_last_updated_date',\n",
    "    minutes_column='minutes_last_updated_date'\n",
    ")    \n",
    "\n",
    "# drop not needed columns\n",
    "dades_2019_Marc_us.drop(\n",
    "    [\n",
    "        'year_last_updated_date', 'month_last_updated_date',\n",
    "        'week_last_updated_date', 'dayofweek_last_updated_date',\n",
    "        'dayofmonth_last_updated_date', 'dayofyear_last_updated_date',\n",
    "        'hour_last_updated_date', 'minutes_last_updated_date'\n",
    "    ], \n",
    "    axis=1, \n",
    "    inplace=True\n",
    ")\n",
    "\n",
    "dades_2019_Marc_us['physical_configuration'].replace(to_replace=['BIKESTATION', 'ELECTRICBIKESTATION'], value=[0, 1], inplace=True)\n",
    "\n",
    "# create mew column of last reported and last updated \n",
    "dades_2019_Marc_us['street_name'] = dades_2019_Marc_us.apply(\n",
    "    lambda x: \" \".join(re.findall(\"[a-zA-Z]+\", x['name'])),\n",
    "    axis=1\n",
    ")\n",
    "\n",
    "def lambda_fun(name):\n",
    "    ret = 'nan'\n",
    "    try:\n",
    "        ret = re.findall(\"\\d+$\", name)[0]\n",
    "    except:\n",
    "        ret = 'nan'\n",
    "        \n",
    "    return ret\n",
    "\n",
    "# create mew column of last reported and last updated \n",
    "dades_2019_Marc_us['street_number'] = dades_2019_Marc_us.apply(\n",
    "    lambda x: lambda_fun(x['name']),\n",
    "    axis=1\n",
    ")\n",
    "\n",
    "# we don't have this column anywhere in the new dataset so it got removed\n",
    "dades_2019_Marc_us.drop(['address', 'name'], axis=1, inplace=True)\n",
    "\n",
    "print(dades_2019_Marc_us.shape)\n"
   ]
  },
  {
   "cell_type": "markdown",
   "id": "6d8ad813",
   "metadata": {},
   "source": [
    "# merge data us with data info"
   ]
  },
  {
   "cell_type": "code",
   "execution_count": 12,
   "id": "45d68075",
   "metadata": {
    "scrolled": true
   },
   "outputs": [
    {
     "data": {
      "text/plain": [
       "(351050, 22)"
      ]
     },
     "execution_count": 12,
     "metadata": {},
     "output_type": "execute_result"
    }
   ],
   "source": [
    "merged_data = dades_2019_Marc_info.merge(\n",
    "    dades_2019_Marc_us.copy(), \n",
    "    left_on=[\n",
    "        'station_id',\n",
    "        'last_updated'\n",
    "    ], \n",
    "    right_on=[\n",
    "        'station_id',\n",
    "        'last_updated'\n",
    "    ],\n",
    "    how='left',\n",
    "    suffixes=(\"_stat\", \"_us\")\n",
    ").copy()\n",
    "\n",
    "merged_data.shape"
   ]
  },
  {
   "cell_type": "code",
   "execution_count": 13,
   "id": "f1f56f12",
   "metadata": {
    "scrolled": true
   },
   "outputs": [
    {
     "data": {
      "text/plain": [
       "(0, 351050, 0.0)"
      ]
     },
     "execution_count": 13,
     "metadata": {},
     "output_type": "execute_result"
    }
   ],
   "source": [
    "merged_data[merged_data.last_reported.isna()].shape[0], merged_data.shape[0],(merged_data[merged_data.last_reported.isna()].shape[0]/merged_data.shape[0])*100"
   ]
  },
  {
   "cell_type": "code",
   "execution_count": 14,
   "id": "28b7312e",
   "metadata": {},
   "outputs": [],
   "source": [
    "merged_data.drop(\n",
    "    ['ttl_us', 'ttl_stat', 'last_reported'],\n",
    "    axis=1, \n",
    "    inplace=True\n",
    ")"
   ]
  },
  {
   "cell_type": "code",
   "execution_count": 15,
   "id": "66145caf",
   "metadata": {},
   "outputs": [],
   "source": [
    "merged_data[[\n",
    "    'num_bikes_available',\n",
    "    'num_bikes_available_types.mechanical', \n",
    "    'num_bikes_available_types.ebike', \n",
    "    'num_docks_available', \n",
    "    'is_installed', \n",
    "    'is_renting', \n",
    "    'is_returning', \n",
    "    'is_charging_station', \n",
    "    'status',\n",
    "    'last_updated'\n",
    "]] = merged_data[[\n",
    "    'num_bikes_available',\n",
    "    'num_bikes_available_types.mechanical', \n",
    "    'num_bikes_available_types.ebike', \n",
    "    'num_docks_available', \n",
    "    'is_installed', \n",
    "    'is_renting', \n",
    "    'is_returning', \n",
    "    'is_charging_station', \n",
    "    'status', \n",
    "    'last_updated'\n",
    "]].astype(np.int)"
   ]
  },
  {
   "cell_type": "code",
   "execution_count": 92,
   "id": "f53f0877",
   "metadata": {
    "scrolled": false
   },
   "outputs": [],
   "source": [
    "merged_data.post_code.fillna('08908', inplace=True)\n",
    "\n",
    "merged_data.altitude = merged_data.altitude.fillna('0').astype(np.int)\n",
    "\n",
    "merged_data.physical_configuration.fillna(1., inplace=True)\n",
    "\n",
    "merged_data = correct_columns(merged_data, 'station_id', 'capacity')\n",
    "\n",
    "merged_data = correct_columns(merged_data, 'station_id', 'lat')\n",
    "\n",
    "merged_data = correct_columns(merged_data, 'station_id', 'lon')\n",
    "\n",
    "merged_data = correct_columns(merged_data, 'station_id', 'street_name')\n",
    "\n",
    "merged_data = correct_columns(merged_data, 'station_id', 'street_number')\n"
   ]
  },
  {
   "cell_type": "code",
   "execution_count": 93,
   "id": "edb0842b",
   "metadata": {},
   "outputs": [
    {
     "data": {
      "text/plain": [
       "((351050, 19),\n",
       " Index(['station_id', 'num_bikes_available',\n",
       "        'num_bikes_available_types.mechanical',\n",
       "        'num_bikes_available_types.ebike', 'num_docks_available',\n",
       "        'is_installed', 'is_renting', 'is_returning', 'is_charging_station',\n",
       "        'status', 'last_updated', 'physical_configuration', 'altitude',\n",
       "        'post_code', 'capacity', 'lat', 'lon', 'street_name', 'street_number'],\n",
       "       dtype='object'))"
      ]
     },
     "execution_count": 93,
     "metadata": {},
     "output_type": "execute_result"
    }
   ],
   "source": [
    "merged_data.shape,merged_data.columns"
   ]
  },
  {
   "cell_type": "markdown",
   "id": "3867e19e",
   "metadata": {},
   "source": [
    "# Old data 2019 Gener, Febrer, Marc "
   ]
  },
  {
   "cell_type": "code",
   "execution_count": 94,
   "id": "9dda155d",
   "metadata": {},
   "outputs": [
    {
     "name": "stderr",
     "output_type": "stream",
     "text": [
      "/home/user/miniconda3/envs/tensorflow/lib/python3.6/site-packages/IPython/core/interactiveshell.py:3072: DtypeWarning: Columns (9) have mixed types.Specify dtype option on import or set low_memory=False.\n",
      "  interactivity=interactivity, compiler=compiler, result=result)\n"
     ]
    },
    {
     "name": "stdout",
     "output_type": "stream",
     "text": [
      "(3954821, 12)\n",
      "(3954821, 19)\n"
     ]
    }
   ],
   "source": [
    "dades_2019_Marc_info_old = pd.read_csv('../dades/2019/BICING_ESTACIONS/2019_03_Marc_BICING_ESTACIONS.csv')\n",
    "\n",
    "print(dades_2019_Marc_info_old.shape)\n",
    "\n",
    "dades_2019_Marc_info_old.rename(\n",
    "    columns={\n",
    "        'id': 'station_id',\n",
    "        'latitude':'lat',\n",
    "        'longitude':'lon',\n",
    "        'type':'physical_configuration',\n",
    "        'updateTime':'last_updated',\n",
    "        'bikes':'num_bikes_available',\n",
    "        'slots':'num_docks_available',\n",
    "        'streetName':'street_name',\n",
    "        'streetNumber':'street_number',\n",
    "    }, \n",
    "    inplace=True\n",
    ")\n",
    "\n",
    "# STATUS = IN_SERVICE=En servei, CLOSED=Tancada\n",
    "# replace IN_SERVICE with 1 and CLOSED with 0\n",
    "dades_2019_Marc_info_old['status'].replace(to_replace=['CLS', 'OPN'], value=[0, 1], inplace=True)\n",
    "\n",
    "dades_2019_Marc_info_old['physical_configuration'].replace(to_replace=['BIKE', 'BIKE-ELECTRIC'], value=[0, 1], inplace=True)\n",
    "\n",
    "dades_2019_Marc_info_old['is_installed'] = 1\n",
    "dades_2019_Marc_info_old['is_renting'] = 1\n",
    "dades_2019_Marc_info_old['is_returning'] = 1\n",
    "dades_2019_Marc_info_old['is_charging_station'] = 1\n",
    "dades_2019_Marc_info_old['num_bikes_available_types.mechanical'] = dades_2019_Marc_info_old['num_bikes_available']\n",
    "dades_2019_Marc_info_old['num_bikes_available_types.ebike'] = 0\n",
    "dades_2019_Marc_info_old['post_code'] = ''\n",
    "dades_2019_Marc_info_old['capacity'] = 0\n",
    "\n",
    "# we don't have this column anywhere in the new dataset so it got removed\n",
    "dades_2019_Marc_info_old.drop('nearbyStations', axis=1, inplace=True)\n",
    "\n",
    "dades_2019_Marc_info_old = convert_timestamp(dades_2019_Marc_info_old.copy(), ['last_updated'], sort=True, add=True, pattern='%d/%m/%y %H:%M:%S')\n",
    "\n",
    "# convert timestamps to multimple of 3\n",
    "dades_2019_Marc_info_old = timestamp_multipleof(\n",
    "    devide_by=config.devide_by, \n",
    "    column='minutes_last_updated_date',\n",
    "    df=dades_2019_Marc_info_old.copy(), \n",
    "    new_column='last_updated', \n",
    "    year_column='year_last_updated_date',\n",
    "    month_column='month_last_updated_date',\n",
    "    day_column='dayofmonth_last_updated_date',\n",
    "    hour_column='hour_last_updated_date',\n",
    "    minutes_column='minutes_last_updated_date'\n",
    ")    \n",
    "\n",
    "# drop not needed columns\n",
    "dades_2019_Marc_info_old.drop(\n",
    "    [\n",
    "        'year_last_updated_date', 'month_last_updated_date',\n",
    "        'week_last_updated_date', 'dayofweek_last_updated_date',\n",
    "        'dayofmonth_last_updated_date', 'dayofyear_last_updated_date',\n",
    "        'hour_last_updated_date', 'minutes_last_updated_date'\n",
    "    ], \n",
    "    axis=1, \n",
    "    inplace=True\n",
    ")\n",
    "\n",
    "print(dades_2019_Marc_info_old.shape)\n"
   ]
  },
  {
   "cell_type": "code",
   "execution_count": 95,
   "id": "70454f19",
   "metadata": {
    "scrolled": true
   },
   "outputs": [
    {
     "data": {
      "text/plain": [
       "physical_configuration                  1\n",
       "lat                                     1\n",
       "lon                                     1\n",
       "street_name                             1\n",
       "street_number                           1\n",
       "altitude                                1\n",
       "num_docks_available                     1\n",
       "num_bikes_available                     1\n",
       "status                                  1\n",
       "is_installed                            1\n",
       "is_renting                              1\n",
       "is_returning                            1\n",
       "is_charging_station                     1\n",
       "num_bikes_available_types.mechanical    1\n",
       "num_bikes_available_types.ebike         1\n",
       "post_code                               1\n",
       "capacity                                1\n",
       "dtype: int64"
      ]
     },
     "execution_count": 95,
     "metadata": {},
     "output_type": "execute_result"
    }
   ],
   "source": [
    "print_duplicates(dades_2019_Marc_info_old, ['station_id', 'last_updated'])"
   ]
  },
  {
   "cell_type": "code",
   "execution_count": 96,
   "id": "6350e0d6",
   "metadata": {},
   "outputs": [
    {
     "data": {
      "text/plain": [
       "Index(['station_id', 'physical_configuration', 'lat', 'lon', 'street_name',\n",
       "       'street_number', 'altitude', 'num_docks_available',\n",
       "       'num_bikes_available', 'status', 'last_updated', 'is_installed',\n",
       "       'is_renting', 'is_returning', 'is_charging_station',\n",
       "       'num_bikes_available_types.mechanical',\n",
       "       'num_bikes_available_types.ebike', 'post_code', 'capacity'],\n",
       "      dtype='object')"
      ]
     },
     "execution_count": 96,
     "metadata": {},
     "output_type": "execute_result"
    }
   ],
   "source": [
    "dades_2019_Marc_info_old.columns"
   ]
  },
  {
   "cell_type": "markdown",
   "id": "6fd327ec",
   "metadata": {},
   "source": [
    "# Merge data Marc old with new"
   ]
  },
  {
   "cell_type": "code",
   "execution_count": 97,
   "id": "7cb3de4f",
   "metadata": {},
   "outputs": [
    {
     "data": {
      "text/plain": [
       "Index(['station_id', 'physical_configuration', 'lat', 'lon', 'street_name',\n",
       "       'street_number', 'altitude', 'num_docks_available',\n",
       "       'num_bikes_available', 'status', 'last_updated', 'is_installed',\n",
       "       'is_renting', 'is_returning', 'is_charging_station',\n",
       "       'num_bikes_available_types.mechanical',\n",
       "       'num_bikes_available_types.ebike', 'post_code', 'capacity'],\n",
       "      dtype='object')"
      ]
     },
     "execution_count": 97,
     "metadata": {},
     "output_type": "execute_result"
    }
   ],
   "source": [
    "dades_2019_Marc_info_old.columns"
   ]
  },
  {
   "cell_type": "code",
   "execution_count": 98,
   "id": "15818d9b",
   "metadata": {},
   "outputs": [
    {
     "data": {
      "text/plain": [
       "Index(['station_id', 'num_bikes_available',\n",
       "       'num_bikes_available_types.mechanical',\n",
       "       'num_bikes_available_types.ebike', 'num_docks_available',\n",
       "       'is_installed', 'is_renting', 'is_returning', 'is_charging_station',\n",
       "       'status', 'last_updated', 'physical_configuration', 'altitude',\n",
       "       'post_code', 'capacity', 'lat', 'lon', 'street_name', 'street_number'],\n",
       "      dtype='object')"
      ]
     },
     "execution_count": 98,
     "metadata": {},
     "output_type": "execute_result"
    }
   ],
   "source": [
    "merged_data.columns"
   ]
  },
  {
   "cell_type": "code",
   "execution_count": 99,
   "id": "c1db5a63",
   "metadata": {},
   "outputs": [
    {
     "name": "stdout",
     "output_type": "stream",
     "text": [
      "CPU times: user 232 ms, sys: 150 ms, total: 382 ms\n",
      "Wall time: 380 ms\n"
     ]
    }
   ],
   "source": [
    "%%time\n",
    "\n",
    "dades_2019_Marc_tot = pd.concat([merged_data,dades_2019_Marc_info_old])"
   ]
  },
  {
   "cell_type": "code",
   "execution_count": 100,
   "id": "0f0ab6e8",
   "metadata": {},
   "outputs": [
    {
     "data": {
      "text/html": [
       "<div>\n",
       "<style scoped>\n",
       "    .dataframe tbody tr th:only-of-type {\n",
       "        vertical-align: middle;\n",
       "    }\n",
       "\n",
       "    .dataframe tbody tr th {\n",
       "        vertical-align: top;\n",
       "    }\n",
       "\n",
       "    .dataframe thead th {\n",
       "        text-align: right;\n",
       "    }\n",
       "</style>\n",
       "<table border=\"1\" class=\"dataframe\">\n",
       "  <thead>\n",
       "    <tr style=\"text-align: right;\">\n",
       "      <th></th>\n",
       "      <th>station_id</th>\n",
       "      <th>num_bikes_available</th>\n",
       "      <th>num_bikes_available_types.mechanical</th>\n",
       "      <th>num_bikes_available_types.ebike</th>\n",
       "      <th>num_docks_available</th>\n",
       "      <th>is_installed</th>\n",
       "      <th>is_renting</th>\n",
       "      <th>is_returning</th>\n",
       "      <th>is_charging_station</th>\n",
       "      <th>status</th>\n",
       "      <th>last_updated</th>\n",
       "      <th>physical_configuration</th>\n",
       "      <th>altitude</th>\n",
       "      <th>post_code</th>\n",
       "      <th>capacity</th>\n",
       "      <th>lat</th>\n",
       "      <th>lon</th>\n",
       "      <th>street_name</th>\n",
       "      <th>street_number</th>\n",
       "    </tr>\n",
       "  </thead>\n",
       "  <tbody>\n",
       "    <tr>\n",
       "      <th>0</th>\n",
       "      <td>1</td>\n",
       "      <td>16</td>\n",
       "      <td>16</td>\n",
       "      <td>0</td>\n",
       "      <td>14</td>\n",
       "      <td>1</td>\n",
       "      <td>1</td>\n",
       "      <td>1</td>\n",
       "      <td>1</td>\n",
       "      <td>1</td>\n",
       "      <td>1553795700</td>\n",
       "      <td>1.0</td>\n",
       "      <td>0</td>\n",
       "      <td>08908</td>\n",
       "      <td>30.0</td>\n",
       "      <td>41.397952</td>\n",
       "      <td>2.180042</td>\n",
       "      <td>C GRAN VIA CORTS CATALANES</td>\n",
       "      <td>760</td>\n",
       "    </tr>\n",
       "    <tr>\n",
       "      <th>1</th>\n",
       "      <td>41</td>\n",
       "      <td>13</td>\n",
       "      <td>13</td>\n",
       "      <td>0</td>\n",
       "      <td>7</td>\n",
       "      <td>1</td>\n",
       "      <td>1</td>\n",
       "      <td>1</td>\n",
       "      <td>1</td>\n",
       "      <td>1</td>\n",
       "      <td>1553795700</td>\n",
       "      <td>1.0</td>\n",
       "      <td>0</td>\n",
       "      <td>08908</td>\n",
       "      <td>21.0</td>\n",
       "      <td>41.379326</td>\n",
       "      <td>2.189906</td>\n",
       "      <td>PL POETA BOSC ATL NTIDA</td>\n",
       "      <td>nan</td>\n",
       "    </tr>\n",
       "    <tr>\n",
       "      <th>2</th>\n",
       "      <td>327</td>\n",
       "      <td>0</td>\n",
       "      <td>0</td>\n",
       "      <td>0</td>\n",
       "      <td>24</td>\n",
       "      <td>1</td>\n",
       "      <td>1</td>\n",
       "      <td>1</td>\n",
       "      <td>1</td>\n",
       "      <td>1</td>\n",
       "      <td>1553795700</td>\n",
       "      <td>1.0</td>\n",
       "      <td>0</td>\n",
       "      <td>08908</td>\n",
       "      <td>24.0</td>\n",
       "      <td>41.405000</td>\n",
       "      <td>2.134530</td>\n",
       "      <td>C REUS</td>\n",
       "      <td>23</td>\n",
       "    </tr>\n",
       "    <tr>\n",
       "      <th>3</th>\n",
       "      <td>326</td>\n",
       "      <td>0</td>\n",
       "      <td>0</td>\n",
       "      <td>0</td>\n",
       "      <td>32</td>\n",
       "      <td>1</td>\n",
       "      <td>1</td>\n",
       "      <td>1</td>\n",
       "      <td>1</td>\n",
       "      <td>1</td>\n",
       "      <td>1553795700</td>\n",
       "      <td>1.0</td>\n",
       "      <td>0</td>\n",
       "      <td>08908</td>\n",
       "      <td>32.0</td>\n",
       "      <td>41.407384</td>\n",
       "      <td>2.138300</td>\n",
       "      <td>C BALMES</td>\n",
       "      <td>409</td>\n",
       "    </tr>\n",
       "    <tr>\n",
       "      <th>4</th>\n",
       "      <td>42</td>\n",
       "      <td>8</td>\n",
       "      <td>8</td>\n",
       "      <td>0</td>\n",
       "      <td>14</td>\n",
       "      <td>1</td>\n",
       "      <td>1</td>\n",
       "      <td>1</td>\n",
       "      <td>1</td>\n",
       "      <td>1</td>\n",
       "      <td>1553795700</td>\n",
       "      <td>1.0</td>\n",
       "      <td>0</td>\n",
       "      <td>08908</td>\n",
       "      <td>24.0</td>\n",
       "      <td>41.404511</td>\n",
       "      <td>2.189881</td>\n",
       "      <td>C CIUTAT DE GRANADA AV DIAGONAL</td>\n",
       "      <td>nan</td>\n",
       "    </tr>\n",
       "    <tr>\n",
       "      <th>...</th>\n",
       "      <td>...</td>\n",
       "      <td>...</td>\n",
       "      <td>...</td>\n",
       "      <td>...</td>\n",
       "      <td>...</td>\n",
       "      <td>...</td>\n",
       "      <td>...</td>\n",
       "      <td>...</td>\n",
       "      <td>...</td>\n",
       "      <td>...</td>\n",
       "      <td>...</td>\n",
       "      <td>...</td>\n",
       "      <td>...</td>\n",
       "      <td>...</td>\n",
       "      <td>...</td>\n",
       "      <td>...</td>\n",
       "      <td>...</td>\n",
       "      <td>...</td>\n",
       "      <td>...</td>\n",
       "    </tr>\n",
       "    <tr>\n",
       "      <th>4305866</th>\n",
       "      <td>136</td>\n",
       "      <td>22</td>\n",
       "      <td>22</td>\n",
       "      <td>0</td>\n",
       "      <td>4</td>\n",
       "      <td>1</td>\n",
       "      <td>1</td>\n",
       "      <td>1</td>\n",
       "      <td>1</td>\n",
       "      <td>0</td>\n",
       "      <td>1554076200</td>\n",
       "      <td>0.0</td>\n",
       "      <td>9</td>\n",
       "      <td></td>\n",
       "      <td>0.0</td>\n",
       "      <td>41.414226</td>\n",
       "      <td>2.201734</td>\n",
       "      <td>Gran Vía</td>\n",
       "      <td>1062</td>\n",
       "    </tr>\n",
       "    <tr>\n",
       "      <th>4305867</th>\n",
       "      <td>135</td>\n",
       "      <td>0</td>\n",
       "      <td>0</td>\n",
       "      <td>0</td>\n",
       "      <td>21</td>\n",
       "      <td>1</td>\n",
       "      <td>1</td>\n",
       "      <td>1</td>\n",
       "      <td>1</td>\n",
       "      <td>0</td>\n",
       "      <td>1554076200</td>\n",
       "      <td>0.0</td>\n",
       "      <td>13</td>\n",
       "      <td></td>\n",
       "      <td>0.0</td>\n",
       "      <td>41.411908</td>\n",
       "      <td>2.197936</td>\n",
       "      <td>Gran Vía</td>\n",
       "      <td>981</td>\n",
       "    </tr>\n",
       "    <tr>\n",
       "      <th>4305868</th>\n",
       "      <td>134</td>\n",
       "      <td>0</td>\n",
       "      <td>0</td>\n",
       "      <td>0</td>\n",
       "      <td>20</td>\n",
       "      <td>1</td>\n",
       "      <td>1</td>\n",
       "      <td>1</td>\n",
       "      <td>1</td>\n",
       "      <td>0</td>\n",
       "      <td>1554076200</td>\n",
       "      <td>0.0</td>\n",
       "      <td>10</td>\n",
       "      <td></td>\n",
       "      <td>0.0</td>\n",
       "      <td>41.411433</td>\n",
       "      <td>2.198735</td>\n",
       "      <td>Bac de Roda</td>\n",
       "      <td>157</td>\n",
       "    </tr>\n",
       "    <tr>\n",
       "      <th>4305869</th>\n",
       "      <td>105</td>\n",
       "      <td>0</td>\n",
       "      <td>0</td>\n",
       "      <td>0</td>\n",
       "      <td>18</td>\n",
       "      <td>1</td>\n",
       "      <td>1</td>\n",
       "      <td>1</td>\n",
       "      <td>1</td>\n",
       "      <td>0</td>\n",
       "      <td>1554076200</td>\n",
       "      <td>0.0</td>\n",
       "      <td>32</td>\n",
       "      <td></td>\n",
       "      <td>0.0</td>\n",
       "      <td>41.389197</td>\n",
       "      <td>2.173555</td>\n",
       "      <td>PL. Urquinaona</td>\n",
       "      <td>9</td>\n",
       "    </tr>\n",
       "    <tr>\n",
       "      <th>4305870</th>\n",
       "      <td>428</td>\n",
       "      <td>0</td>\n",
       "      <td>0</td>\n",
       "      <td>0</td>\n",
       "      <td>27</td>\n",
       "      <td>1</td>\n",
       "      <td>1</td>\n",
       "      <td>1</td>\n",
       "      <td>1</td>\n",
       "      <td>0</td>\n",
       "      <td>1554076200</td>\n",
       "      <td>0.0</td>\n",
       "      <td>11</td>\n",
       "      <td></td>\n",
       "      <td>0.0</td>\n",
       "      <td>41.398389</td>\n",
       "      <td>2.196261</td>\n",
       "      <td>Carrer Pujades</td>\n",
       "      <td>103</td>\n",
       "    </tr>\n",
       "  </tbody>\n",
       "</table>\n",
       "<p>4305871 rows × 19 columns</p>\n",
       "</div>"
      ],
      "text/plain": [
       "         station_id  num_bikes_available  \\\n",
       "0                 1                   16   \n",
       "1                41                   13   \n",
       "2               327                    0   \n",
       "3               326                    0   \n",
       "4                42                    8   \n",
       "...             ...                  ...   \n",
       "4305866         136                   22   \n",
       "4305867         135                    0   \n",
       "4305868         134                    0   \n",
       "4305869         105                    0   \n",
       "4305870         428                    0   \n",
       "\n",
       "         num_bikes_available_types.mechanical  \\\n",
       "0                                          16   \n",
       "1                                          13   \n",
       "2                                           0   \n",
       "3                                           0   \n",
       "4                                           8   \n",
       "...                                       ...   \n",
       "4305866                                    22   \n",
       "4305867                                     0   \n",
       "4305868                                     0   \n",
       "4305869                                     0   \n",
       "4305870                                     0   \n",
       "\n",
       "         num_bikes_available_types.ebike  num_docks_available  is_installed  \\\n",
       "0                                      0                   14             1   \n",
       "1                                      0                    7             1   \n",
       "2                                      0                   24             1   \n",
       "3                                      0                   32             1   \n",
       "4                                      0                   14             1   \n",
       "...                                  ...                  ...           ...   \n",
       "4305866                                0                    4             1   \n",
       "4305867                                0                   21             1   \n",
       "4305868                                0                   20             1   \n",
       "4305869                                0                   18             1   \n",
       "4305870                                0                   27             1   \n",
       "\n",
       "         is_renting  is_returning  is_charging_station  status  last_updated  \\\n",
       "0                 1             1                    1       1    1553795700   \n",
       "1                 1             1                    1       1    1553795700   \n",
       "2                 1             1                    1       1    1553795700   \n",
       "3                 1             1                    1       1    1553795700   \n",
       "4                 1             1                    1       1    1553795700   \n",
       "...             ...           ...                  ...     ...           ...   \n",
       "4305866           1             1                    1       0    1554076200   \n",
       "4305867           1             1                    1       0    1554076200   \n",
       "4305868           1             1                    1       0    1554076200   \n",
       "4305869           1             1                    1       0    1554076200   \n",
       "4305870           1             1                    1       0    1554076200   \n",
       "\n",
       "         physical_configuration  altitude post_code  capacity        lat  \\\n",
       "0                           1.0         0     08908      30.0  41.397952   \n",
       "1                           1.0         0     08908      21.0  41.379326   \n",
       "2                           1.0         0     08908      24.0  41.405000   \n",
       "3                           1.0         0     08908      32.0  41.407384   \n",
       "4                           1.0         0     08908      24.0  41.404511   \n",
       "...                         ...       ...       ...       ...        ...   \n",
       "4305866                     0.0         9                 0.0  41.414226   \n",
       "4305867                     0.0        13                 0.0  41.411908   \n",
       "4305868                     0.0        10                 0.0  41.411433   \n",
       "4305869                     0.0        32                 0.0  41.389197   \n",
       "4305870                     0.0        11                 0.0  41.398389   \n",
       "\n",
       "              lon                      street_name street_number  \n",
       "0        2.180042       C GRAN VIA CORTS CATALANES           760  \n",
       "1        2.189906          PL POETA BOSC ATL NTIDA           nan  \n",
       "2        2.134530                           C REUS            23  \n",
       "3        2.138300                         C BALMES           409  \n",
       "4        2.189881  C CIUTAT DE GRANADA AV DIAGONAL           nan  \n",
       "...           ...                              ...           ...  \n",
       "4305866  2.201734                         Gran Vía          1062  \n",
       "4305867  2.197936                         Gran Vía           981  \n",
       "4305868  2.198735                      Bac de Roda           157  \n",
       "4305869  2.173555                   PL. Urquinaona             9  \n",
       "4305870  2.196261                   Carrer Pujades           103  \n",
       "\n",
       "[4305871 rows x 19 columns]"
      ]
     },
     "execution_count": 100,
     "metadata": {},
     "output_type": "execute_result"
    }
   ],
   "source": [
    "dades_2019_Marc_tot.reset_index(drop = True)"
   ]
  },
  {
   "cell_type": "code",
   "execution_count": 101,
   "id": "e54afa46",
   "metadata": {},
   "outputs": [
    {
     "data": {
      "text/plain": [
       "(4305871, 19)"
      ]
     },
     "execution_count": 101,
     "metadata": {},
     "output_type": "execute_result"
    }
   ],
   "source": [
    "dades_2019_Marc_tot.shape"
   ]
  },
  {
   "cell_type": "code",
   "execution_count": 102,
   "id": "c2441830",
   "metadata": {},
   "outputs": [],
   "source": [
    "# replace nans with string of 0\n",
    "dades_2019_Marc_tot.street_number = dades_2019_Marc_tot.street_number.astype(str)\n",
    "dades_2019_Marc_tot.street_number.fillna('0', inplace=True)\n",
    "dades_2019_Marc_tot.loc[dades_2019_Marc_tot.street_number.isin(['nan', '.']),['street_number']] = '0' \n",
    "\n",
    "# extract the correct column\n",
    "correct_column = dades_2019_Marc_tot[dades_2019_Marc_tot.street_number != '0'].groupby(['station_id'])['street_number'].max()\n",
    "correct_column = pd.DataFrame(correct_column.reset_index())\n",
    "# correct the data according to the data in the correct column\n",
    "dades_2019_Marc_tot = correct_columns(dades_2019_Marc_tot.copy(), 'station_id', 'street_number', correct_column=correct_column)\n",
    "\n",
    "dades_2019_Marc_tot.street_number.fillna('0', inplace=True)\n",
    "\n",
    "dades_2019_Marc_tot = correct_columns(dades_2019_Marc_tot.copy(), 'station_id', 'capacity')\n",
    "\n",
    "dades_2019_Marc_tot.loc[dades_2019_Marc_tot.capacity.isna(),['capacity']] = 0\n",
    "\n",
    "dades_2019_Marc_tot = correct_columns(dades_2019_Marc_tot.copy(), 'station_id', 'altitude')\n",
    "\n",
    "cond = (dades_2019_Marc_tot.num_bikes_available + dades_2019_Marc_tot.num_docks_available) > dades_2019_Marc_tot.capacity\n",
    "dades_2019_Marc_tot.loc[cond, ['capacity']] = dades_2019_Marc_tot[cond]['num_bikes_available'] + dades_2019_Marc_tot[cond]['num_docks_available']"
   ]
  },
  {
   "cell_type": "code",
   "execution_count": 103,
   "id": "267a6c20",
   "metadata": {
    "scrolled": true
   },
   "outputs": [
    {
     "data": {
      "text/plain": [
       "{}"
      ]
     },
     "execution_count": 103,
     "metadata": {},
     "output_type": "execute_result"
    }
   ],
   "source": [
    "# check again for nans\n",
    "get_features_nans(dades_2019_Marc_tot)"
   ]
  },
  {
   "cell_type": "code",
   "execution_count": 104,
   "id": "199831ba",
   "metadata": {},
   "outputs": [
    {
     "data": {
      "text/plain": [
       "{'num_bikes_available': 72.81265509347587,\n",
       " 'num_bikes_available_types.mechanical': 72.81265509347587,\n",
       " 'num_bikes_available_types.ebike': 100.0,\n",
       " 'num_docks_available': 2.337970645195827,\n",
       " 'status': 76.64804635345554,\n",
       " 'physical_configuration': 83.2767168361523,\n",
       " 'capacity': 0.36355013886853554,\n",
       " 'altitude': 3.4442044362220794}"
      ]
     },
     "execution_count": 104,
     "metadata": {},
     "output_type": "execute_result"
    }
   ],
   "source": [
    "get_features_zero(dades_2019_Marc_tot)"
   ]
  },
  {
   "cell_type": "raw",
   "id": "6c949d8a",
   "metadata": {
    "scrolled": true
   },
   "source": [
    "get_columns(dades_2019_Marc_tot)"
   ]
  },
  {
   "cell_type": "markdown",
   "id": "20859489",
   "metadata": {},
   "source": [
    "### Study on TTL for station 1\n",
    "Taking one station ID and looking for the best TTL for multiple answers from the same time\n"
   ]
  },
  {
   "cell_type": "code",
   "execution_count": 105,
   "id": "45776f2e",
   "metadata": {},
   "outputs": [],
   "source": [
    "dades_2019_Marc_tot_s1 = dades_2019_Marc_tot[dades_2019_Marc_tot.station_id == 1]"
   ]
  },
  {
   "cell_type": "code",
   "execution_count": 106,
   "id": "001ce37e",
   "metadata": {
    "scrolled": true
   },
   "outputs": [
    {
     "data": {
      "text/plain": [
       "(9430, 19)"
      ]
     },
     "execution_count": 106,
     "metadata": {},
     "output_type": "execute_result"
    }
   ],
   "source": [
    "dades_2019_Marc_tot_s1.shape"
   ]
  },
  {
   "cell_type": "code",
   "execution_count": 107,
   "id": "fa9ef2f6",
   "metadata": {},
   "outputs": [
    {
     "data": {
      "text/plain": [
       "{}"
      ]
     },
     "execution_count": 107,
     "metadata": {},
     "output_type": "execute_result"
    }
   ],
   "source": [
    "get_features_nans(dades_2019_Marc_tot_s1)"
   ]
  },
  {
   "cell_type": "code",
   "execution_count": 108,
   "id": "4f8a7a38",
   "metadata": {},
   "outputs": [
    {
     "data": {
      "text/plain": [
       "{'num_bikes_available': 90.63626723223754,\n",
       " 'num_bikes_available_types.mechanical': 90.63626723223754,\n",
       " 'num_bikes_available_types.ebike': 100.0,\n",
       " 'num_docks_available': 2.757158006362672,\n",
       " 'status': 90.59384941675503,\n",
       " 'physical_configuration': 90.59384941675503}"
      ]
     },
     "execution_count": 108,
     "metadata": {},
     "output_type": "execute_result"
    }
   ],
   "source": [
    "get_features_zero(dades_2019_Marc_tot_s1)"
   ]
  },
  {
   "cell_type": "code",
   "execution_count": 109,
   "id": "131e3be8",
   "metadata": {
    "scrolled": false
   },
   "outputs": [
    {
     "data": {
      "text/plain": [
       "{'station_id': 1,\n",
       " 'num_bikes_available': 29,\n",
       " 'num_bikes_available_types.mechanical': 29,\n",
       " 'num_bikes_available_types.ebike': 1,\n",
       " 'num_docks_available': 28,\n",
       " 'is_installed': 1,\n",
       " 'is_renting': 1,\n",
       " 'is_returning': 1,\n",
       " 'is_charging_station': 1,\n",
       " 'status': 2,\n",
       " 'last_updated': 8555,\n",
       " 'physical_configuration': 2,\n",
       " 'post_code': 2,\n",
       " 'lat': 1,\n",
       " 'lon': 1,\n",
       " 'street_name': 2,\n",
       " 'street_number': 1,\n",
       " 'capacity': 1,\n",
       " 'altitude': 1}"
      ]
     },
     "execution_count": 109,
     "metadata": {},
     "output_type": "execute_result"
    }
   ],
   "source": [
    "get_columns(dades_2019_Marc_tot_s1)"
   ]
  },
  {
   "cell_type": "code",
   "execution_count": 110,
   "id": "42b01fa3",
   "metadata": {
    "scrolled": true
   },
   "outputs": [
    {
     "data": {
      "text/plain": [
       "array(['C GRAN VIA CORTS CATALANES', 'Gran Via Corts Catalanes'],\n",
       "      dtype=object)"
      ]
     },
     "execution_count": 110,
     "metadata": {},
     "output_type": "execute_result"
    }
   ],
   "source": [
    "dades_2019_Marc_tot_s1.street_name.unique()"
   ]
  },
  {
   "cell_type": "code",
   "execution_count": 111,
   "id": "14197779",
   "metadata": {},
   "outputs": [
    {
     "data": {
      "text/plain": [
       "array(['08908', ''], dtype=object)"
      ]
     },
     "execution_count": 111,
     "metadata": {},
     "output_type": "execute_result"
    }
   ],
   "source": [
    "dades_2019_Marc_tot_s1.post_code.unique()"
   ]
  },
  {
   "cell_type": "code",
   "execution_count": 112,
   "id": "d5e8ed26",
   "metadata": {
    "scrolled": true
   },
   "outputs": [
    {
     "data": {
      "text/html": [
       "<div>\n",
       "<style scoped>\n",
       "    .dataframe tbody tr th:only-of-type {\n",
       "        vertical-align: middle;\n",
       "    }\n",
       "\n",
       "    .dataframe tbody tr th {\n",
       "        vertical-align: top;\n",
       "    }\n",
       "\n",
       "    .dataframe thead th {\n",
       "        text-align: right;\n",
       "    }\n",
       "</style>\n",
       "<table border=\"1\" class=\"dataframe\">\n",
       "  <thead>\n",
       "    <tr style=\"text-align: right;\">\n",
       "      <th></th>\n",
       "      <th>station_id</th>\n",
       "      <th>num_bikes_available</th>\n",
       "      <th>num_bikes_available_types.mechanical</th>\n",
       "      <th>num_bikes_available_types.ebike</th>\n",
       "      <th>num_docks_available</th>\n",
       "      <th>is_installed</th>\n",
       "      <th>is_renting</th>\n",
       "      <th>is_returning</th>\n",
       "      <th>is_charging_station</th>\n",
       "      <th>status</th>\n",
       "      <th>last_updated</th>\n",
       "      <th>physical_configuration</th>\n",
       "      <th>post_code</th>\n",
       "      <th>lat</th>\n",
       "      <th>lon</th>\n",
       "      <th>street_name</th>\n",
       "      <th>street_number</th>\n",
       "      <th>capacity</th>\n",
       "      <th>altitude</th>\n",
       "    </tr>\n",
       "  </thead>\n",
       "  <tbody>\n",
       "    <tr>\n",
       "      <th>0</th>\n",
       "      <td>1</td>\n",
       "      <td>16</td>\n",
       "      <td>16</td>\n",
       "      <td>0</td>\n",
       "      <td>14</td>\n",
       "      <td>1</td>\n",
       "      <td>1</td>\n",
       "      <td>1</td>\n",
       "      <td>1</td>\n",
       "      <td>1</td>\n",
       "      <td>1553795700</td>\n",
       "      <td>1.0</td>\n",
       "      <td>08908</td>\n",
       "      <td>41.397952</td>\n",
       "      <td>2.180042</td>\n",
       "      <td>C GRAN VIA CORTS CATALANES</td>\n",
       "      <td>760</td>\n",
       "      <td>30.0</td>\n",
       "      <td>21</td>\n",
       "    </tr>\n",
       "    <tr>\n",
       "      <th>780</th>\n",
       "      <td>1</td>\n",
       "      <td>18</td>\n",
       "      <td>18</td>\n",
       "      <td>0</td>\n",
       "      <td>12</td>\n",
       "      <td>1</td>\n",
       "      <td>1</td>\n",
       "      <td>1</td>\n",
       "      <td>1</td>\n",
       "      <td>1</td>\n",
       "      <td>1553796600</td>\n",
       "      <td>1.0</td>\n",
       "      <td>08908</td>\n",
       "      <td>41.397952</td>\n",
       "      <td>2.180042</td>\n",
       "      <td>C GRAN VIA CORTS CATALANES</td>\n",
       "      <td>760</td>\n",
       "      <td>30.0</td>\n",
       "      <td>21</td>\n",
       "    </tr>\n",
       "    <tr>\n",
       "      <th>1166</th>\n",
       "      <td>1</td>\n",
       "      <td>18</td>\n",
       "      <td>18</td>\n",
       "      <td>0</td>\n",
       "      <td>12</td>\n",
       "      <td>1</td>\n",
       "      <td>1</td>\n",
       "      <td>1</td>\n",
       "      <td>1</td>\n",
       "      <td>1</td>\n",
       "      <td>1553796900</td>\n",
       "      <td>1.0</td>\n",
       "      <td>08908</td>\n",
       "      <td>41.397952</td>\n",
       "      <td>2.180042</td>\n",
       "      <td>C GRAN VIA CORTS CATALANES</td>\n",
       "      <td>760</td>\n",
       "      <td>30.0</td>\n",
       "      <td>21</td>\n",
       "    </tr>\n",
       "    <tr>\n",
       "      <th>1260</th>\n",
       "      <td>1</td>\n",
       "      <td>19</td>\n",
       "      <td>19</td>\n",
       "      <td>0</td>\n",
       "      <td>11</td>\n",
       "      <td>1</td>\n",
       "      <td>1</td>\n",
       "      <td>1</td>\n",
       "      <td>1</td>\n",
       "      <td>1</td>\n",
       "      <td>1553797200</td>\n",
       "      <td>1.0</td>\n",
       "      <td>08908</td>\n",
       "      <td>41.397952</td>\n",
       "      <td>2.180042</td>\n",
       "      <td>C GRAN VIA CORTS CATALANES</td>\n",
       "      <td>760</td>\n",
       "      <td>30.0</td>\n",
       "      <td>21</td>\n",
       "    </tr>\n",
       "    <tr>\n",
       "      <th>1816</th>\n",
       "      <td>1</td>\n",
       "      <td>18</td>\n",
       "      <td>18</td>\n",
       "      <td>0</td>\n",
       "      <td>12</td>\n",
       "      <td>1</td>\n",
       "      <td>1</td>\n",
       "      <td>1</td>\n",
       "      <td>1</td>\n",
       "      <td>1</td>\n",
       "      <td>1553797500</td>\n",
       "      <td>1.0</td>\n",
       "      <td>08908</td>\n",
       "      <td>41.397952</td>\n",
       "      <td>2.180042</td>\n",
       "      <td>C GRAN VIA CORTS CATALANES</td>\n",
       "      <td>760</td>\n",
       "      <td>30.0</td>\n",
       "      <td>21</td>\n",
       "    </tr>\n",
       "  </tbody>\n",
       "</table>\n",
       "</div>"
      ],
      "text/plain": [
       "      station_id  num_bikes_available  num_bikes_available_types.mechanical  \\\n",
       "0              1                   16                                    16   \n",
       "780            1                   18                                    18   \n",
       "1166           1                   18                                    18   \n",
       "1260           1                   19                                    19   \n",
       "1816           1                   18                                    18   \n",
       "\n",
       "      num_bikes_available_types.ebike  num_docks_available  is_installed  \\\n",
       "0                                   0                   14             1   \n",
       "780                                 0                   12             1   \n",
       "1166                                0                   12             1   \n",
       "1260                                0                   11             1   \n",
       "1816                                0                   12             1   \n",
       "\n",
       "      is_renting  is_returning  is_charging_station  status  last_updated  \\\n",
       "0              1             1                    1       1    1553795700   \n",
       "780            1             1                    1       1    1553796600   \n",
       "1166           1             1                    1       1    1553796900   \n",
       "1260           1             1                    1       1    1553797200   \n",
       "1816           1             1                    1       1    1553797500   \n",
       "\n",
       "      physical_configuration post_code        lat       lon  \\\n",
       "0                        1.0     08908  41.397952  2.180042   \n",
       "780                      1.0     08908  41.397952  2.180042   \n",
       "1166                     1.0     08908  41.397952  2.180042   \n",
       "1260                     1.0     08908  41.397952  2.180042   \n",
       "1816                     1.0     08908  41.397952  2.180042   \n",
       "\n",
       "                     street_name street_number  capacity  altitude  \n",
       "0     C GRAN VIA CORTS CATALANES           760      30.0        21  \n",
       "780   C GRAN VIA CORTS CATALANES           760      30.0        21  \n",
       "1166  C GRAN VIA CORTS CATALANES           760      30.0        21  \n",
       "1260  C GRAN VIA CORTS CATALANES           760      30.0        21  \n",
       "1816  C GRAN VIA CORTS CATALANES           760      30.0        21  "
      ]
     },
     "execution_count": 112,
     "metadata": {},
     "output_type": "execute_result"
    }
   ],
   "source": [
    "dades_2019_Marc_tot_s1.head(5)"
   ]
  },
  {
   "cell_type": "markdown",
   "id": "521ea0ee",
   "metadata": {},
   "source": [
    "### last_updated \n",
    "\n",
    "|  | info |\n",
    "| -- | -- |\n",
    "|  | last updates is the timestamp for the file |\n",
    "|  | a station id will never have repeated last_updated timestamp in the dataset |"
   ]
  },
  {
   "cell_type": "code",
   "execution_count": 113,
   "id": "93ac8598",
   "metadata": {},
   "outputs": [
    {
     "data": {
      "text/plain": [
       "True"
      ]
     },
     "execution_count": 113,
     "metadata": {},
     "output_type": "execute_result"
    }
   ],
   "source": [
    "(dades_2019_Marc_tot_s1.last_updated.value_counts() > 1).any()  # give insight if there any last_updated timestamps is repeated "
   ]
  },
  {
   "cell_type": "code",
   "execution_count": 114,
   "id": "ce0fc418",
   "metadata": {},
   "outputs": [
    {
     "data": {
      "image/png": "[encoded data removed]",
      "text/plain": [
       "<Figure size 1440x720 with 6 Axes>"
      ]
     },
     "metadata": {
      "needs_background": "light"
     },
     "output_type": "display_data"
    }
   ],
   "source": [
    "show_column_counts(dades_2019_Marc_tot_s1, 'last_updated')"
   ]
  },
  {
   "cell_type": "markdown",
   "id": "3ea94c7e",
   "metadata": {},
   "source": [
    "## study finished"
   ]
  },
  {
   "cell_type": "markdown",
   "id": "a564af9e",
   "metadata": {},
   "source": [
    "## station_id"
   ]
  },
  {
   "cell_type": "code",
   "execution_count": 115,
   "id": "4799edd7",
   "metadata": {},
   "outputs": [
    {
     "name": "stdout",
     "output_type": "stream",
     "text": [
      "DescribeResult(nobs=4305871, minmax=(1, 496), mean=235.5680279320955, variance=18963.95824561403, skewness=0.09424896880768865, kurtosis=-1.080197568938587)\n"
     ]
    },
    {
     "data": {
      "text/plain": [
       "count    4.305871e+06\n",
       "mean     2.355680e+02\n",
       "std      1.377097e+02\n",
       "min      1.000000e+00\n",
       "25%      1.180000e+02\n",
       "50%      2.330000e+02\n",
       "75%      3.470000e+02\n",
       "max      4.960000e+02\n",
       "Name: station_id, dtype: float64"
      ]
     },
     "execution_count": 115,
     "metadata": {},
     "output_type": "execute_result"
    }
   ],
   "source": [
    "print(stats.describe(dades_2019_Marc_tot.station_id))\n",
    "dades_2019_Marc_tot.station_id.describe()"
   ]
  },
  {
   "cell_type": "code",
   "execution_count": 116,
   "id": "40604df6",
   "metadata": {},
   "outputs": [
    {
     "data": {
      "image/png": "[encoded data removed]",
      "text/plain": [
       "<Figure size 1440x720 with 6 Axes>"
      ]
     },
     "metadata": {
      "needs_background": "light"
     },
     "output_type": "display_data"
    }
   ],
   "source": [
    "# station_id \n",
    "# Most values are repeated equally in the dataset\n",
    "show_column_counts(dades_2019_Marc_tot, 'station_id')"
   ]
  },
  {
   "cell_type": "markdown",
   "id": "7569eedd",
   "metadata": {},
   "source": [
    "## num_bikes_available"
   ]
  },
  {
   "cell_type": "code",
   "execution_count": 117,
   "id": "23f3f261",
   "metadata": {},
   "outputs": [
    {
     "name": "stdout",
     "output_type": "stream",
     "text": [
      "DescribeResult(nobs=4305871, minmax=(0, 54), mean=2.881951410063144, variance=41.78936420877502, skewness=2.5975587391806525, kurtosis=6.634641980654209)\n"
     ]
    },
    {
     "data": {
      "text/plain": [
       "count    4.305871e+06\n",
       "mean     2.881951e+00\n",
       "std      6.464469e+00\n",
       "min      0.000000e+00\n",
       "25%      0.000000e+00\n",
       "50%      0.000000e+00\n",
       "75%      1.000000e+00\n",
       "max      5.400000e+01\n",
       "Name: num_bikes_available, dtype: float64"
      ]
     },
     "execution_count": 117,
     "metadata": {},
     "output_type": "execute_result"
    }
   ],
   "source": [
    "# num_bikes_available\n",
    "# by looking at the differance between the 75% and max number \n",
    "# existance of outliers is possible. 54 is too big for a station size\n",
    "# TODO, check max size of a station? Replace outliers with the maximum size\n",
    "print(stats.describe(dades_2019_Marc_tot.num_bikes_available))\n",
    "dades_2019_Marc_tot.num_bikes_available.describe()"
   ]
  },
  {
   "cell_type": "code",
   "execution_count": 118,
   "id": "7125da97",
   "metadata": {
    "scrolled": false
   },
   "outputs": [
    {
     "data": {
      "image/png": "[encoded data removed]",
      "text/plain": [
       "<Figure size 1440x720 with 6 Axes>"
      ]
     },
     "metadata": {
      "needs_background": "light"
     },
     "output_type": "display_data"
    }
   ],
   "source": [
    "show_column_counts(dades_2019_Marc_tot, 'num_bikes_available')"
   ]
  },
  {
   "cell_type": "markdown",
   "id": "2cfecdcb",
   "metadata": {},
   "source": [
    "## num_docks_available"
   ]
  },
  {
   "cell_type": "code",
   "execution_count": 119,
   "id": "e895d0f5",
   "metadata": {},
   "outputs": [
    {
     "name": "stdout",
     "output_type": "stream",
     "text": [
      "DescribeResult(nobs=4305871, minmax=(0, 54), mean=21.432002491481978, variance=75.74091527646604, skewness=-0.9227206079031215, kurtosis=0.08759616706663609)\n"
     ]
    },
    {
     "data": {
      "text/plain": [
       "count    4.305871e+06\n",
       "mean     2.143200e+01\n",
       "std      8.702926e+00\n",
       "min      0.000000e+00\n",
       "25%      1.800000e+01\n",
       "50%      2.400000e+01\n",
       "75%      2.700000e+01\n",
       "max      5.400000e+01\n",
       "Name: num_docks_available, dtype: float64"
      ]
     },
     "execution_count": 119,
     "metadata": {},
     "output_type": "execute_result"
    }
   ],
   "source": [
    "print(stats.describe(dades_2019_Marc_tot.num_docks_available))\n",
    "dades_2019_Marc_tot.num_docks_available.describe()"
   ]
  },
  {
   "cell_type": "code",
   "execution_count": 120,
   "id": "f1de7b00",
   "metadata": {
    "scrolled": false
   },
   "outputs": [
    {
     "data": {
      "image/png": "[encoded data removed]",
      "text/plain": [
       "<Figure size 1440x720 with 6 Axes>"
      ]
     },
     "metadata": {
      "needs_background": "light"
     },
     "output_type": "display_data"
    }
   ],
   "source": [
    "show_column_counts(dades_2019_Marc_tot, 'num_docks_available')"
   ]
  },
  {
   "cell_type": "markdown",
   "id": "7d04e846",
   "metadata": {},
   "source": [
    "## capacity"
   ]
  },
  {
   "cell_type": "code",
   "execution_count": 121,
   "id": "9ea9775f",
   "metadata": {},
   "outputs": [
    {
     "name": "stdout",
     "output_type": "stream",
     "text": [
      "DescribeResult(nobs=4305871, minmax=(0.0, 54.0), mean=25.54936829273334, variance=46.459249201491104, skewness=-0.023900109869524445, kurtosis=3.400762169311111)\n"
     ]
    },
    {
     "data": {
      "text/plain": [
       "count    4.305871e+06\n",
       "mean     2.554937e+01\n",
       "std      6.816102e+00\n",
       "min      0.000000e+00\n",
       "25%      2.100000e+01\n",
       "50%      2.700000e+01\n",
       "75%      2.700000e+01\n",
       "max      5.400000e+01\n",
       "Name: capacity, dtype: float64"
      ]
     },
     "execution_count": 121,
     "metadata": {},
     "output_type": "execute_result"
    }
   ],
   "source": [
    "print(stats.describe(dades_2019_Marc_tot.capacity))\n",
    "dades_2019_Marc_tot.capacity.describe()"
   ]
  },
  {
   "cell_type": "code",
   "execution_count": 122,
   "id": "b531e26c",
   "metadata": {},
   "outputs": [
    {
     "data": {
      "image/png": "[encoded data removed]",
      "text/plain": [
       "<Figure size 1440x720 with 6 Axes>"
      ]
     },
     "metadata": {
      "needs_background": "light"
     },
     "output_type": "display_data"
    }
   ],
   "source": [
    "show_column_counts(dades_2019_Marc_tot, 'capacity')"
   ]
  },
  {
   "cell_type": "markdown",
   "id": "8a08113c",
   "metadata": {},
   "source": [
    "## Cleaning and store of new file"
   ]
  },
  {
   "cell_type": "code",
   "execution_count": 123,
   "id": "da0f8583",
   "metadata": {},
   "outputs": [
    {
     "data": {
      "text/plain": [
       "num_bikes_available                     3\n",
       "num_bikes_available_types.mechanical    3\n",
       "num_bikes_available_types.ebike         1\n",
       "num_docks_available                     3\n",
       "is_installed                            1\n",
       "is_renting                              1\n",
       "is_returning                            1\n",
       "is_charging_station                     1\n",
       "status                                  2\n",
       "physical_configuration                  2\n",
       "post_code                               2\n",
       "lat                                     2\n",
       "lon                                     2\n",
       "street_name                             2\n",
       "street_number                           1\n",
       "capacity                                2\n",
       "altitude                                1\n",
       "dtype: int64"
      ]
     },
     "execution_count": 123,
     "metadata": {},
     "output_type": "execute_result"
    }
   ],
   "source": [
    "print_duplicates(dades_2019_Marc_tot, ['station_id', 'last_updated'])"
   ]
  },
  {
   "cell_type": "code",
   "execution_count": 124,
   "id": "d751ed4c",
   "metadata": {},
   "outputs": [],
   "source": [
    "dades_2019_Marc_tot['ttl'] = 30."
   ]
  },
  {
   "cell_type": "code",
   "execution_count": 125,
   "id": "95cd566b",
   "metadata": {
    "scrolled": true
   },
   "outputs": [
    {
     "data": {
      "application/vnd.jupyter.widget-view+json": {
       "model_id": "883e746136194d4abee0627dfbfe19d3",
       "version_major": 2,
       "version_minor": 0
      },
      "text/plain": [
       "  0%|          | 0/467 [00:00<?, ?it/s]"
      ]
     },
     "metadata": {},
     "output_type": "display_data"
    }
   ],
   "source": [
    "### will remove the duplicate for last reported for all stations in the dataset\n",
    "dades_2019_Marc_tot = remove_duplicates_all(dades_2019_Marc_tot.copy(), 'last_updated')\n",
    "# (4305871, 19)"
   ]
  },
  {
   "cell_type": "code",
   "execution_count": 126,
   "id": "b0392415",
   "metadata": {},
   "outputs": [
    {
     "data": {
      "text/plain": [
       "(3962162, 20)"
      ]
     },
     "execution_count": 126,
     "metadata": {},
     "output_type": "execute_result"
    }
   ],
   "source": [
    "dades_2019_Marc_tot.shape"
   ]
  },
  {
   "cell_type": "code",
   "execution_count": 127,
   "id": "e8ba4755",
   "metadata": {},
   "outputs": [
    {
     "data": {
      "text/plain": [
       "'17681 deleted'"
      ]
     },
     "execution_count": 127,
     "metadata": {},
     "output_type": "execute_result"
    }
   ],
   "source": [
    "f'{3979843-3962162} deleted'"
   ]
  },
  {
   "cell_type": "code",
   "execution_count": 128,
   "id": "cfea7219",
   "metadata": {},
   "outputs": [],
   "source": [
    "dades_2019_Marc_tot.to_csv('../dades/2019/BicingNou_ESTACIONS/2019_03_Marc_BicingNou_ESTACIONS.csv')"
   ]
  },
  {
   "cell_type": "markdown",
   "id": "537b47a7",
   "metadata": {},
   "source": [
    "# Study of station id 1 year 2019 complete"
   ]
  },
  {
   "cell_type": "raw",
   "id": "44a2e5d5",
   "metadata": {},
   "source": [
    "from script import *"
   ]
  },
  {
   "cell_type": "raw",
   "id": "4ae735c8",
   "metadata": {},
   "source": [
    "def read_informacion_estacion_monthly(dataset:str, month:int, month_name:str, year:int, station_id:int) -> pd.DataFrame:\n",
    "    assert dataset != \"\"\n",
    "    assert month >= 1 and month <= 12\n",
    "    assert month_name in month_names\n",
    "    assert year >= 2018 and year <= 2023\n",
    "    assert station_id > 0\n",
    "    \n",
    "    # \n",
    "    df = pd.read_csv(f'dades/{year}/{dataset}/{year}_{month:02d}_{month_name}_{dataset}.csv')\n",
    "    \n",
    "    # convert to datetime\n",
    "    df['last_reported'] = pd.to_datetime(df['last_reported'], unit='s')\n",
    "    df['last_updated'] = pd.to_datetime(df['last_updated'], unit='s')\n",
    "    \n",
    "    # sort by date of station information and date of archive\n",
    "    df = df.sort_values(['last_reported', 'last_updated'], ascending=[True, True]).reset_index(drop=True)\n",
    "\n",
    "    # filter by station ID\n",
    "    df_s = df[df.station_id == station_id]\n",
    "    \n",
    "    return df_s\n",
    "\n",
    "def read_informacion_estacion_anual(dataset:str, year:int, station_id:int) -> pd.DataFrame:\n",
    "    assert dataset != \"\"\n",
    "    assert year >= 2018 and year <= 2023\n",
    "    assert station_id > 0\n",
    "    year_s = {}\n",
    "    \n",
    "    for month, month_name in i2m[2:]:\n",
    "        df_mon_s = read_informacion_estacion_monthly(dataset, month, month_name, year, station_id)\n",
    "        year_s[month] = df_mon_s.copy()\n",
    "    \n",
    "    df_year_s = pd.concat(list(year_s.values()), axis=0)\n",
    "    \n",
    "    return df_year_s\n"
   ]
  },
  {
   "cell_type": "raw",
   "id": "12a43154",
   "metadata": {},
   "source": [
    "df_year_s1 = read_informacion_estacion_anual(\"BicingNou_ESTACIONS\", 2019, 1)"
   ]
  },
  {
   "cell_type": "raw",
   "id": "ad030e0a",
   "metadata": {},
   "source": [
    "df_year_s1"
   ]
  }
 ],
 "metadata": {
  "kernelspec": {
   "display_name": "Python 3",
   "language": "python",
   "name": "python3"
  },
  "language_info": {
   "codemirror_mode": {
    "name": "ipython",
    "version": 3
   },
   "file_extension": ".py",
   "mimetype": "text/x-python",
   "name": "python",
   "nbconvert_exporter": "python",
   "pygments_lexer": "ipython3",
   "version": "3.6.13"
  }
 },
 "nbformat": 4,
 "nbformat_minor": 5
}
