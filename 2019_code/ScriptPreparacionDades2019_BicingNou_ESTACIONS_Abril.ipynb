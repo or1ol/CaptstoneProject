{
 "cells": [
  {
   "cell_type": "code",
   "execution_count": 1,
   "id": "ed452a81",
   "metadata": {},
   "outputs": [
    {
     "data": {
      "text/html": [
       "<style>.container { width:80% !important; }</style>"
      ],
      "text/plain": [
       "<IPython.core.display.HTML object>"
      ]
     },
     "metadata": {},
     "output_type": "display_data"
    },
    {
     "data": {
      "text/plain": [
       "0"
      ]
     },
     "execution_count": 1,
     "metadata": {},
     "output_type": "execute_result"
    }
   ],
   "source": [
    "from IPython.core.display import display, HTML\n",
    "display(HTML(\"<style>.container { width:80% !important; }</style>\"))\n",
    "\n",
    "import os\n",
    "\n",
    "# Python ≥3.5 is required\n",
    "import sys\n",
    "assert sys.version_info >= (3, 5)\n",
    "\n",
    "# Scikit-Learn ≥0.20 is required\n",
    "import sklearn\n",
    "assert sklearn.__version__ >= \"0.20\"\n",
    "\n",
    "from sklearn.ensemble import RandomForestRegressor\n",
    "from sklearn.ensemble import GradientBoostingRegressor\n",
    "from sklearn.model_selection import cross_val_score\n",
    "from sklearn.metrics import mean_squared_error, r2_score\n",
    "from sklearn.metrics import mean_absolute_error\n",
    "\n",
    "import pandas as pd\n",
    "import numpy as np\n",
    "pd.set_option('display.max_columns', None)\n",
    "\n",
    "# To plot pretty figures\n",
    "%matplotlib inline\n",
    "import matplotlib as mpl\n",
    "import matplotlib.pyplot as plt\n",
    "\n",
    "import scipy.stats as stats\n",
    "\n",
    "import seaborn as sns\n",
    "\n",
    "from datetime import datetime\n",
    "\n",
    "import re\n",
    "\n",
    "from tqdm.notebook import tqdm\n",
    "\n",
    "from tools import * \n",
    "\n",
    "config = pd.Series({\n",
    "    'devide_by':5,\n",
    "    'year':2019,\n",
    "    'datafrom': ['BicingNou_ESTACIONS', 'BicingNou_INFORMACIO'],\n",
    "    'dataset': 'BicingNou_MOD',\n",
    "    'ttl': 30,\n",
    "    'month': 4,\n",
    "    'monthname': 'Abril'\n",
    "})\n",
    "\n",
    "os.system(f\"mkdir -p ../dades/{config.year}/{config.dataset}\")\n"
   ]
  },
  {
   "cell_type": "code",
   "execution_count": 2,
   "id": "a3090df3",
   "metadata": {},
   "outputs": [
    {
     "data": {
      "text/html": [
       "<style>\n",
       "    p {\n",
       "        float:left\n",
       "    }  \n",
       "    table {\n",
       "        display: inline-block\n",
       "    }\n",
       "</style>\n"
      ],
      "text/plain": [
       "<IPython.core.display.HTML object>"
      ]
     },
     "metadata": {},
     "output_type": "display_data"
    }
   ],
   "source": [
    "%%html\n",
    "<style>\n",
    "    p {\n",
    "        float:left\n",
    "    }  \n",
    "    table {\n",
    "        display: inline-block\n",
    "    }\n",
    "</style>"
   ]
  },
  {
   "cell_type": "markdown",
   "id": "6043ca68",
   "metadata": {},
   "source": [
    "<div>\n",
    "    <table>\n",
    "        <tr>\n",
    "            <th><p>Camp<p><th>\n",
    "            <th><p>Descripció<p><th>\n",
    "        <tr>\n",
    "        <tr>\n",
    "            <td><p>last_updated<p><td>\n",
    "            <td><p>Timestamp de l'arxiu<p><td>\n",
    "        <tr>\n",
    "        <tr>\n",
    "            <td><p>ttl<p><td>\n",
    "            <td><p>TimeToLive de la resposta<p><td>\n",
    "        <tr>\n",
    "        <tr>\n",
    "            <td><p>data<p><td>\n",
    "            <td><p>Contenidor d'arrays d'informació d'estacions<p><td>\n",
    "        <tr>\n",
    "        <tr>\n",
    "            <td><p>stations<p><td>\n",
    "            <td><p>Array de dades de cada estació<p><td>\n",
    "        <tr>\n",
    "        <tr>\n",
    "            <td><p>station_id<p><td>\n",
    "            <td><p>Identificador de l'estació<p><td>\n",
    "        <tr>\n",
    "        <tr>\n",
    "            <td><p>num_bikes_available<p><td>\n",
    "            <td><p>Nombre de bicicletes disponibles<p><td>\n",
    "        <tr>\n",
    "        <tr>\n",
    "            <td><p>num_bikes_available_types<p><td>\n",
    "            <td><p>Array de tipus de bicicletes disponibles<p><td>\n",
    "        <tr>\n",
    "        <tr>\n",
    "            <td><p>mechanical<p><td>\n",
    "            <td><p>Nombre de bicicletes mecàniques disponibles<p><td>\n",
    "        <tr>\n",
    "        <tr>\n",
    "            <td><p>ebike<p><td>\n",
    "            <td><p>Nombre de bicicletes elèctriques disponibles<p><td>\n",
    "        <tr>\n",
    "        <tr>\n",
    "            <td><p>num_docks_available<p><td>\n",
    "            <td><p>Nombre de ancoratges disponibles<p><td>\n",
    "        <tr>\n",
    "        <tr>\n",
    "            <td><p>is_installed<p><td>\n",
    "            <td><p>L'estació està correctament instalada (0-NO,1-SI)<p><td>\n",
    "        <tr>\n",
    "        <tr>\n",
    "            <td><p>is_renting<p><td>\n",
    "            <td><p>L'estació està proporcionant bicicletes correctament<p><td>\n",
    "        <tr>\n",
    "        <tr>\n",
    "            <td><p>is_returning<p><td>\n",
    "            <td><p>L'estació està ancorant bicicletes correctament<p><td>\n",
    "        <tr>\n",
    "        <tr>\n",
    "            <td><p>last_reported<p><td>\n",
    "            <td><p>Timestamp de la informació de l'estació<p><td>\n",
    "        <tr>\n",
    "        <tr>\n",
    "            <td><p>is_charging_station<p><td>\n",
    "            <td><p>L'estació té capacitat de càrrega de bicicletes elèctriques<p><td>\n",
    "        <tr>\n",
    "        <tr>\n",
    "            <td><p>status<p><td>\n",
    "            <td><p>Estat de l'estació (IN_SERVICE=En servei, CLOSED=Tancada)<p><td>\n",
    "        <tr>\n",
    "    <table>\n",
    "<div>"
   ]
  },
  {
   "cell_type": "markdown",
   "id": "ff2b4f9c",
   "metadata": {},
   "source": [
    "# New data 2019 Abril "
   ]
  },
  {
   "cell_type": "markdown",
   "id": "045d8f0a",
   "metadata": {},
   "source": [
    "## dades_2019_Abril_info"
   ]
  },
  {
   "cell_type": "markdown",
   "id": "faa64d7a",
   "metadata": {},
   "source": [
    "### Preprocessing the data "
   ]
  },
  {
   "cell_type": "code",
   "execution_count": null,
   "id": "40d89240",
   "metadata": {
    "scrolled": true
   },
   "outputs": [],
   "source": [
    "%%time\n",
    "\n",
    "dades_2019_Abril_info = pd.read_csv(f'../dades/{config.year}/{config.datafrom[0]}/{config.year}_{config.month:02d}_{config.monthname}_{config.datafrom[0]}.csv', low_memory=False)\n",
    "\n",
    "intial_size = dades_2019_Abril_info.shape[0]\n",
    "print(dades_2019_Abril_info.shape)\n",
    "\n",
    "# change column to one hot enconding\n",
    "dades_2019_Abril_info['is_charging_station'] = dades_2019_Abril_info.is_charging_station.astype(np.int)\n",
    "\n",
    "# STATUS = IN_SERVICE=En servei, CLOSED=Tancada\n",
    "# replace IN_SERVICE with 1 and CLOSED with 0\n",
    "dades_2019_Abril_info['status'].replace(to_replace=['NOT_IN_SERVICE', 'IN_SERVICE'], value=[0, 1], inplace=True)\n",
    "\n",
    "dades_2019_Abril_info.loc[dades_2019_Abril_info.last_reported.isna(), 'last_reported'] = dades_2019_Abril_info.loc[dades_2019_Abril_info.last_reported.isna(), 'last_updated']\n",
    "\n",
    "# will remove the duplicate for last reported for all stations in the dataset\n",
    "dades_2019_Abril_info = remove_duplicates_all(dades_2019_Abril_info.copy(), 'last_reported')\n",
    "\n",
    "# convert timestamps of last_updated\n",
    "dades_2019_Abril_info = convert_timestamp(dades_2019_Abril_info.copy(), ['last_updated'], sort=True, add=True)\n",
    "\n",
    "# convert timestamps to multimple of 3\n",
    "dades_2019_Abril_info = timestamp_multipleof(\n",
    "    devide_by=config.devide_by, \n",
    "    column='minutes_last_updated_date',\n",
    "    df=dades_2019_Abril_info.copy(), \n",
    "    new_column='last_updated', \n",
    "    year_column='year_last_updated_date',\n",
    "    month_column='month_last_updated_date',\n",
    "    day_column='dayofmonth_last_updated_date',\n",
    "    hour_column='hour_last_updated_date',\n",
    "    minutes_column='minutes_last_updated_date'\n",
    ")    \n",
    "\n",
    "# drop not needed columns\n",
    "dades_2019_Abril_info.drop(\n",
    "    [\n",
    "        'year_last_updated_date', 'month_last_updated_date',\n",
    "        'week_last_updated_date', 'dayofweek_last_updated_date',\n",
    "        'dayofmonth_last_updated_date', 'dayofyear_last_updated_date',\n",
    "        'hour_last_updated_date', 'minutes_last_updated_date'\n",
    "    ], \n",
    "    axis=1, \n",
    "    inplace=True\n",
    ")\n",
    "\n",
    "print(dades_2019_Abril_info.shape)\n",
    "print('removed:', intial_size-dades_2019_Abril_info.shape[0])"
   ]
  },
  {
   "cell_type": "markdown",
   "id": "790d1502",
   "metadata": {},
   "source": [
    "## dades_2019_Abril_us"
   ]
  },
  {
   "cell_type": "markdown",
   "id": "a036c588",
   "metadata": {},
   "source": [
    "### Preprocessing the data "
   ]
  },
  {
   "cell_type": "code",
   "execution_count": null,
   "id": "a95e8737",
   "metadata": {},
   "outputs": [],
   "source": [
    "%%time\n",
    "\n",
    "dades_2019_Abril_us = pd.read_csv(f'../dades/{config.year}/{config.datafrom[1]}/{config.year}_{config.month:02d}_{config.monthname}_{config.datafrom[1]}.csv', low_memory=False)\n",
    "\n",
    "intial_size = dades_2019_Abril_us.shape[0]\n",
    "print(dades_2019_Abril_us.shape)\n",
    "\n",
    "dades_2019_Abril_us.loc[dades_2019_Abril_us.altitude.isin(['0.1', 'nan', np.nan]), 'altitude'] = '0'\n",
    "\n",
    "cond = (~dades_2019_Abril_us.altitude.isin([str(x) for x in range(200)] + [np.nan]))\n",
    "print(dades_2019_Abril_us[cond].shape)\n",
    "# 485 row does not have 0 in the altitud column\n",
    "# capacity is filled with values 1 to fix this we need to shift the data \n",
    "\n",
    "# Fix data \n",
    "dades_2019_Abril_us.loc[cond, ['capacity']] = dades_2019_Abril_us[cond].post_code\n",
    "dades_2019_Abril_us.loc[cond, ['post_code']] = dades_2019_Abril_us[cond].address\n",
    "dades_2019_Abril_us.loc[cond, ['address']] = dades_2019_Abril_us[cond].altitude\n",
    "dades_2019_Abril_us.loc[cond, ['altitude']] = '0'\n",
    "dades_2019_Abril_us.altitude.fillna('0', inplace=True)\n",
    "\n",
    "# will remove the duplicate for last reported for all stations in the dataset\n",
    "dades_2019_Abril_us = remove_duplicates_all(dades_2019_Abril_us.copy(), 'last_updated')\n",
    "\n",
    "# post code is wrong need fixing using long & lat. \n",
    "# can be fixed using post code data from old dataset after the merge\n",
    "dades_2019_Abril_us['post_code'] = '0'\n",
    "\n",
    "dades_2019_Abril_us = convert_timestamp(dades_2019_Abril_us.copy(), ['last_updated'], sort=True, add=True)\n",
    "\n",
    "# convert timestamps to multimple of 3\n",
    "dades_2019_Abril_us = timestamp_multipleof(\n",
    "    devide_by=config.devide_by, \n",
    "    column='minutes_last_updated_date',\n",
    "    df=dades_2019_Abril_us.copy(), \n",
    "    new_column='last_updated', \n",
    "    year_column='year_last_updated_date',\n",
    "    month_column='month_last_updated_date',\n",
    "    day_column='dayofmonth_last_updated_date',\n",
    "    hour_column='hour_last_updated_date',\n",
    "    minutes_column='minutes_last_updated_date'\n",
    ")\n",
    "\n",
    "# drop not needed columns\n",
    "dades_2019_Abril_us.drop(\n",
    "    [\n",
    "        'year_last_updated_date', 'month_last_updated_date',\n",
    "        'week_last_updated_date', 'dayofweek_last_updated_date',\n",
    "        'dayofmonth_last_updated_date', 'dayofyear_last_updated_date',\n",
    "        'hour_last_updated_date', 'minutes_last_updated_date'\n",
    "    ],\n",
    "    axis=1,\n",
    "    inplace=True\n",
    ")\n",
    "\n",
    "dades_2019_Abril_us['physical_configuration'].replace(to_replace=['BIKESTATION', 'ELECTRICBIKESTATION'], value=[0, 1], inplace=True)\n",
    "\n",
    "# create mew column of last reported and last updated \n",
    "dades_2019_Abril_us['street_name'] = dades_2019_Abril_us.apply(\n",
    "    lambda x: \" \".join(re.findall(\"[a-zA-Z]+\", x['name'])),\n",
    "    axis=1\n",
    ")\n",
    "\n",
    "def lambda_fun(name):\n",
    "    ret = 'nan'\n",
    "    try:\n",
    "        ret = re.findall(\"\\d+$\", name)[0]\n",
    "    except:\n",
    "        ret = 'nan'\n",
    "        \n",
    "    return ret\n",
    "\n",
    "# create mew column of last reported and last updated \n",
    "dades_2019_Abril_us['street_number'] = dades_2019_Abril_us.apply(\n",
    "    lambda x: lambda_fun(x['name']),\n",
    "    axis=1\n",
    ")\n",
    "\n",
    "# we don't have this column anywhere in the new dataset so it got removed\n",
    "dades_2019_Abril_us.drop(['address', 'name'], axis=1, inplace=True)\n",
    "\n",
    "print(dades_2019_Abril_us.shape)\n",
    "\n",
    "print('removed:', intial_size-dades_2019_Abril_us.shape[0])"
   ]
  },
  {
   "cell_type": "markdown",
   "id": "6d8ad813",
   "metadata": {},
   "source": [
    "## merge data us with data info"
   ]
  },
  {
   "cell_type": "code",
   "execution_count": null,
   "id": "45d68075",
   "metadata": {
    "scrolled": true
   },
   "outputs": [],
   "source": [
    "%%time\n",
    "\n",
    "merged_data = dades_2019_Abril_info.merge(\n",
    "    dades_2019_Abril_us.copy(), \n",
    "    left_on=[\n",
    "        'station_id',\n",
    "        'last_updated'\n",
    "    ], \n",
    "    right_on=[\n",
    "        'station_id',\n",
    "        'last_updated'\n",
    "    ],\n",
    "    how='left',\n",
    "    suffixes=(\"_stat\", \"_us\")\n",
    ").copy()\n",
    "\n",
    "merged_data.shape"
   ]
  },
  {
   "cell_type": "code",
   "execution_count": null,
   "id": "f1f56f12",
   "metadata": {
    "scrolled": true
   },
   "outputs": [],
   "source": [
    "# confirm data is correct\n",
    "merged_data[merged_data.last_reported.isna()].shape[0], merged_data.shape[0],(merged_data[merged_data.last_reported.isna()].shape[0]/merged_data.shape[0])*100"
   ]
  },
  {
   "cell_type": "code",
   "execution_count": null,
   "id": "b5a11916",
   "metadata": {},
   "outputs": [],
   "source": [
    "merged_data.status.unique()"
   ]
  },
  {
   "cell_type": "code",
   "execution_count": null,
   "id": "f53f0877",
   "metadata": {
    "scrolled": false
   },
   "outputs": [],
   "source": [
    "%%time\n",
    "\n",
    "# we don't have this column anywhere in the new dataset so it got removed\n",
    "merged_data.drop(\n",
    "    ['ttl_us', 'ttl_stat', 'last_reported'],\n",
    "    axis=1, \n",
    "    inplace=True\n",
    ")\n",
    "\n",
    "merged_data[[\n",
    "    'num_bikes_available',\n",
    "    'num_bikes_available_types.mechanical', \n",
    "    'num_bikes_available_types.ebike', \n",
    "    'num_docks_available', \n",
    "    'is_installed', \n",
    "    'is_renting', \n",
    "    'is_returning', \n",
    "    'is_charging_station', \n",
    "    'status',\n",
    "    'last_updated'\n",
    "]] = merged_data[[\n",
    "    'num_bikes_available',\n",
    "    'num_bikes_available_types.mechanical', \n",
    "    'num_bikes_available_types.ebike', \n",
    "    'num_docks_available', \n",
    "    'is_installed', \n",
    "    'is_renting', \n",
    "    'is_returning', \n",
    "    'is_charging_station', \n",
    "    'status', \n",
    "    'last_updated'\n",
    "]].astype(np.int)\n",
    "\n",
    "merged_data.altitude = merged_data.altitude.fillna('0').astype(np.int)\n",
    "\n",
    "merged_data.physical_configuration.fillna(1., inplace=True)\n",
    "\n",
    "merged_data = correct_columns(merged_data, 'station_id', 'capacity')\n",
    "\n",
    "merged_data = correct_columns(merged_data, 'station_id', 'lat', take='first')\n",
    "\n",
    "merged_data = correct_columns(merged_data, 'station_id', 'lon', take='first')\n",
    "\n",
    "merged_data = correct_columns(merged_data, 'station_id', 'street_name', take='first')\n",
    "\n",
    "merged_data = correct_columns(merged_data, 'station_id', 'street_number', take='first')\n",
    "\n",
    "merged_data['post_code'] = '0'\n",
    "\n",
    "merged_data.post_code.fillna('0', inplace=True)"
   ]
  },
  {
   "cell_type": "code",
   "execution_count": null,
   "id": "9121467e",
   "metadata": {
    "scrolled": true
   },
   "outputs": [],
   "source": [
    "print_duplicates(merged_data, ['station_id', 'last_updated'])"
   ]
  },
  {
   "cell_type": "code",
   "execution_count": null,
   "id": "ab712162",
   "metadata": {},
   "outputs": [],
   "source": [
    "get_features_nans(merged_data)"
   ]
  },
  {
   "cell_type": "code",
   "execution_count": null,
   "id": "7911de4e",
   "metadata": {
    "scrolled": true
   },
   "outputs": [],
   "source": [
    "get_features_zero(merged_data)"
   ]
  },
  {
   "cell_type": "markdown",
   "id": "8a08113c",
   "metadata": {},
   "source": [
    "# Cleaning and store of new file"
   ]
  },
  {
   "cell_type": "code",
   "execution_count": null,
   "id": "95cd566b",
   "metadata": {
    "scrolled": true
   },
   "outputs": [],
   "source": [
    "%%time\n",
    "\n",
    "merged_data['ttl'] = config.ttl\n",
    "\n",
    "intial_size = merged_data.shape[0]\n",
    "print(merged_data.shape)\n",
    "\n",
    "### will remove the duplicate for last reported for all stations in the dataset\n",
    "merged_data = remove_duplicates_all(merged_data.copy(), 'last_updated')\n",
    "# (4305871, 19)\n",
    "\n",
    "print(merged_data.shape)\n",
    "\n",
    "print('removed:', intial_size-merged_data.shape[0])"
   ]
  },
  {
   "cell_type": "code",
   "execution_count": null,
   "id": "e2937f7f",
   "metadata": {},
   "outputs": [],
   "source": [
    "%%time\n",
    "\n",
    "merged_data.reset_index(drop=True, inplace=True)\n",
    "\n",
    "merged_data.drop(['ttl'], axis=1, inplace=True)\n",
    "\n",
    "# save checkpoint\n",
    "\n",
    "merged_data.to_csv(f'../dades/{config.year}/{config.dataset}/{config.year}_{config.month:02d}_{config.monthname}_{config.dataset}.csv', index=False)\n",
    "\n",
    "# re read file\n",
    "merged_data = pd.read_csv(f'../dades/{config.year}/{config.dataset}/{config.year}_{config.month:02d}_{config.monthname}_{config.dataset}.csv', low_memory=False)"
   ]
  },
  {
   "cell_type": "code",
   "execution_count": null,
   "id": "1a922386",
   "metadata": {},
   "outputs": [],
   "source": [
    "merged_data.street_name.unique()"
   ]
  },
  {
   "cell_type": "code",
   "execution_count": null,
   "id": "36473653",
   "metadata": {},
   "outputs": [],
   "source": [
    "print_duplicates(merged_data.copy(), ['station_id', 'last_updated'])"
   ]
  },
  {
   "cell_type": "code",
   "execution_count": null,
   "id": "7c1e563c",
   "metadata": {},
   "outputs": [],
   "source": [
    "get_features_nans(merged_data)"
   ]
  },
  {
   "cell_type": "code",
   "execution_count": null,
   "id": "8005766e",
   "metadata": {},
   "outputs": [],
   "source": [
    "get_features_zero(merged_data)"
   ]
  },
  {
   "cell_type": "code",
   "execution_count": null,
   "id": "5d456d33",
   "metadata": {},
   "outputs": [],
   "source": [
    "merged_data"
   ]
  },
  {
   "cell_type": "markdown",
   "id": "10e6e380",
   "metadata": {},
   "source": [
    "# Visualize data"
   ]
  },
  {
   "cell_type": "code",
   "execution_count": null,
   "id": "886ae238",
   "metadata": {},
   "outputs": [],
   "source": [
    "\n",
    "# re read file\n",
    "merged_data = pd.read_csv(f'../dades/{config.year}/{config.dataset}/{config.year}_{config.month:02d}_{config.monthname}_{config.dataset}.csv', low_memory=False)"
   ]
  },
  {
   "cell_type": "markdown",
   "id": "20859489",
   "metadata": {},
   "source": [
    "## Study on TTL for station 1\n",
    "Taking one station ID and looking for the best TTL for multiple answers from the same time\n"
   ]
  },
  {
   "cell_type": "code",
   "execution_count": null,
   "id": "45776f2e",
   "metadata": {},
   "outputs": [],
   "source": [
    "merged_data_s1 = merged_data[merged_data.station_id == 1]"
   ]
  },
  {
   "cell_type": "code",
   "execution_count": null,
   "id": "001ce37e",
   "metadata": {
    "scrolled": true
   },
   "outputs": [],
   "source": [
    "merged_data_s1.shape"
   ]
  },
  {
   "cell_type": "code",
   "execution_count": null,
   "id": "fa9ef2f6",
   "metadata": {},
   "outputs": [],
   "source": [
    "get_features_nans(merged_data_s1)"
   ]
  },
  {
   "cell_type": "code",
   "execution_count": null,
   "id": "4f8a7a38",
   "metadata": {},
   "outputs": [],
   "source": [
    "get_features_zero(merged_data_s1)"
   ]
  },
  {
   "cell_type": "raw",
   "id": "b5a3d045",
   "metadata": {
    "scrolled": false
   },
   "source": [
    "get_columns(merged_data_s1)"
   ]
  },
  {
   "cell_type": "code",
   "execution_count": null,
   "id": "42b01fa3",
   "metadata": {
    "scrolled": true
   },
   "outputs": [],
   "source": [
    "merged_data_s1.street_name.unique()"
   ]
  },
  {
   "cell_type": "code",
   "execution_count": null,
   "id": "14197779",
   "metadata": {},
   "outputs": [],
   "source": [
    "merged_data_s1.post_code.unique()"
   ]
  },
  {
   "cell_type": "code",
   "execution_count": null,
   "id": "d5e8ed26",
   "metadata": {
    "scrolled": true
   },
   "outputs": [],
   "source": [
    "merged_data_s1.head(5)"
   ]
  },
  {
   "cell_type": "markdown",
   "id": "521ea0ee",
   "metadata": {},
   "source": [
    "### last_updated \n",
    "\n",
    "|  | info |\n",
    "| -- | -- |\n",
    "|  | last updates is the timestamp for the file |\n",
    "|  | a station id will never have repeated last_updated timestamp in the dataset |"
   ]
  },
  {
   "cell_type": "code",
   "execution_count": null,
   "id": "93ac8598",
   "metadata": {},
   "outputs": [],
   "source": [
    "(merged_data_s1.last_updated.value_counts() > 1).any()  # give insight if there any last_updated timestamps is repeated "
   ]
  },
  {
   "cell_type": "code",
   "execution_count": null,
   "id": "ce0fc418",
   "metadata": {},
   "outputs": [],
   "source": [
    "show_column_counts(merged_data_s1, 'last_updated')"
   ]
  },
  {
   "cell_type": "markdown",
   "id": "3ea94c7e",
   "metadata": {},
   "source": [
    "## study finished"
   ]
  },
  {
   "cell_type": "code",
   "execution_count": null,
   "id": "9cd8e12b",
   "metadata": {},
   "outputs": [],
   "source": [
    "merged_data.columns"
   ]
  },
  {
   "cell_type": "markdown",
   "id": "a564af9e",
   "metadata": {},
   "source": [
    "## station_id"
   ]
  },
  {
   "cell_type": "code",
   "execution_count": null,
   "id": "4799edd7",
   "metadata": {},
   "outputs": [],
   "source": [
    "print(stats.describe(merged_data.station_id))\n",
    "merged_data.station_id.describe()"
   ]
  },
  {
   "cell_type": "code",
   "execution_count": null,
   "id": "40604df6",
   "metadata": {},
   "outputs": [],
   "source": [
    "# station_id \n",
    "# Most values are repeated equally in the dataset\n",
    "show_column_counts(merged_data, 'station_id')"
   ]
  },
  {
   "cell_type": "markdown",
   "id": "7569eedd",
   "metadata": {},
   "source": [
    "## num_bikes_available"
   ]
  },
  {
   "cell_type": "code",
   "execution_count": null,
   "id": "23f3f261",
   "metadata": {},
   "outputs": [],
   "source": [
    "# num_bikes_available\n",
    "# by looking at the differance between the 75% and max number \n",
    "# existance of outliers is possible. 54 is too big for a station size\n",
    "# TODO, check max size of a station? Replace outliers with the maximum size\n",
    "print(stats.describe(merged_data.num_bikes_available))\n",
    "merged_data.num_bikes_available.describe()"
   ]
  },
  {
   "cell_type": "code",
   "execution_count": null,
   "id": "7125da97",
   "metadata": {
    "scrolled": false
   },
   "outputs": [],
   "source": [
    "show_column_counts(merged_data, 'num_bikes_available')"
   ]
  },
  {
   "cell_type": "markdown",
   "id": "2cfecdcb",
   "metadata": {},
   "source": [
    "## num_docks_available"
   ]
  },
  {
   "cell_type": "code",
   "execution_count": null,
   "id": "e895d0f5",
   "metadata": {},
   "outputs": [],
   "source": [
    "print(stats.describe(merged_data.num_docks_available))\n",
    "merged_data.num_docks_available.describe()"
   ]
  },
  {
   "cell_type": "code",
   "execution_count": null,
   "id": "f1de7b00",
   "metadata": {
    "scrolled": false
   },
   "outputs": [],
   "source": [
    "show_column_counts(merged_data, 'num_docks_available')"
   ]
  },
  {
   "cell_type": "markdown",
   "id": "7d04e846",
   "metadata": {},
   "source": [
    "## capacity"
   ]
  },
  {
   "cell_type": "code",
   "execution_count": null,
   "id": "9ea9775f",
   "metadata": {},
   "outputs": [],
   "source": [
    "print(stats.describe(merged_data.capacity))\n",
    "merged_data.capacity.describe()"
   ]
  },
  {
   "cell_type": "code",
   "execution_count": null,
   "id": "b531e26c",
   "metadata": {
    "scrolled": false
   },
   "outputs": [],
   "source": [
    "show_column_counts(merged_data, 'capacity')"
   ]
  },
  {
   "cell_type": "markdown",
   "id": "4486f17b",
   "metadata": {},
   "source": [
    "## num_bikes_available_types.mechanical"
   ]
  },
  {
   "cell_type": "code",
   "execution_count": null,
   "id": "9b0f5db2",
   "metadata": {},
   "outputs": [],
   "source": [
    "print(stats.describe(merged_data['num_bikes_available_types.mechanical']))\n",
    "merged_data['num_bikes_available_types.mechanical'].describe()"
   ]
  },
  {
   "cell_type": "code",
   "execution_count": null,
   "id": "2a6dccd0",
   "metadata": {
    "scrolled": false
   },
   "outputs": [],
   "source": [
    "show_column_counts(merged_data, 'num_bikes_available_types.mechanical')"
   ]
  },
  {
   "cell_type": "markdown",
   "id": "89d978f4",
   "metadata": {},
   "source": [
    "## num_bikes_available_types.ebike"
   ]
  },
  {
   "cell_type": "code",
   "execution_count": null,
   "id": "9fe06990",
   "metadata": {},
   "outputs": [],
   "source": [
    "print(stats.describe(merged_data['num_bikes_available_types.ebike']))\n",
    "merged_data['num_bikes_available_types.ebike'].describe()"
   ]
  },
  {
   "cell_type": "code",
   "execution_count": null,
   "id": "0e61805b",
   "metadata": {
    "scrolled": false
   },
   "outputs": [],
   "source": [
    "show_column_counts(merged_data, 'num_bikes_available_types.ebike')"
   ]
  },
  {
   "cell_type": "markdown",
   "id": "cfd8266a",
   "metadata": {},
   "source": [
    "## is_installed"
   ]
  },
  {
   "cell_type": "code",
   "execution_count": null,
   "id": "fed6ae8a",
   "metadata": {},
   "outputs": [],
   "source": [
    "print(stats.describe(merged_data.is_installed))\n",
    "merged_data.is_installed.describe()"
   ]
  },
  {
   "cell_type": "code",
   "execution_count": null,
   "id": "0beeb856",
   "metadata": {
    "scrolled": false
   },
   "outputs": [],
   "source": [
    "show_column_counts(merged_data, 'is_installed')"
   ]
  },
  {
   "cell_type": "markdown",
   "id": "82b07285",
   "metadata": {},
   "source": [
    "## is_renting"
   ]
  },
  {
   "cell_type": "code",
   "execution_count": null,
   "id": "1dfdbc32",
   "metadata": {},
   "outputs": [],
   "source": [
    "print(stats.describe(merged_data.is_renting))\n",
    "merged_data.is_renting.describe()"
   ]
  },
  {
   "cell_type": "code",
   "execution_count": null,
   "id": "c33f7a68",
   "metadata": {
    "scrolled": false
   },
   "outputs": [],
   "source": [
    "show_column_counts(merged_data, 'is_renting')"
   ]
  },
  {
   "cell_type": "markdown",
   "id": "e643ed25",
   "metadata": {},
   "source": [
    "## is_returning"
   ]
  },
  {
   "cell_type": "code",
   "execution_count": null,
   "id": "b456dc7d",
   "metadata": {},
   "outputs": [],
   "source": [
    "print(stats.describe(merged_data.is_returning))\n",
    "merged_data.is_returning.describe()"
   ]
  },
  {
   "cell_type": "code",
   "execution_count": null,
   "id": "a9c1a311",
   "metadata": {
    "scrolled": false
   },
   "outputs": [],
   "source": [
    "show_column_counts(merged_data, 'is_returning')"
   ]
  },
  {
   "cell_type": "markdown",
   "id": "11917267",
   "metadata": {},
   "source": [
    "## is_charging_station"
   ]
  },
  {
   "cell_type": "code",
   "execution_count": null,
   "id": "51f916a1",
   "metadata": {},
   "outputs": [],
   "source": [
    "print(stats.describe(merged_data.is_charging_station))\n",
    "merged_data.is_charging_station.describe()"
   ]
  },
  {
   "cell_type": "code",
   "execution_count": null,
   "id": "70d12239",
   "metadata": {
    "scrolled": false
   },
   "outputs": [],
   "source": [
    "show_column_counts(merged_data, 'is_charging_station')"
   ]
  },
  {
   "cell_type": "markdown",
   "id": "e7994df2",
   "metadata": {},
   "source": [
    "## status"
   ]
  },
  {
   "cell_type": "code",
   "execution_count": null,
   "id": "ec3fef2f",
   "metadata": {},
   "outputs": [],
   "source": [
    "print(stats.describe(merged_data.status))\n",
    "merged_data.status.describe()"
   ]
  },
  {
   "cell_type": "code",
   "execution_count": null,
   "id": "eb2c23a0",
   "metadata": {
    "scrolled": false
   },
   "outputs": [],
   "source": [
    "show_column_counts(merged_data, 'status')"
   ]
  },
  {
   "cell_type": "markdown",
   "id": "0b2bf934",
   "metadata": {},
   "source": [
    "## last_updated"
   ]
  },
  {
   "cell_type": "code",
   "execution_count": null,
   "id": "23455cc1",
   "metadata": {},
   "outputs": [],
   "source": [
    "print(stats.describe(merged_data.last_updated))\n",
    "merged_data.last_updated.describe()"
   ]
  },
  {
   "cell_type": "code",
   "execution_count": null,
   "id": "74167f8e",
   "metadata": {
    "scrolled": false
   },
   "outputs": [],
   "source": [
    "show_column_counts(merged_data, 'last_updated')"
   ]
  },
  {
   "cell_type": "markdown",
   "id": "f4e2f45a",
   "metadata": {},
   "source": [
    "## physical_configuration"
   ]
  },
  {
   "cell_type": "code",
   "execution_count": null,
   "id": "e70b4861",
   "metadata": {},
   "outputs": [],
   "source": [
    "print(stats.describe(merged_data.physical_configuration))\n",
    "merged_data.physical_configuration.describe()"
   ]
  },
  {
   "cell_type": "code",
   "execution_count": null,
   "id": "dbf8f71b",
   "metadata": {
    "scrolled": false
   },
   "outputs": [],
   "source": [
    "show_column_counts(merged_data, 'physical_configuration')"
   ]
  },
  {
   "cell_type": "markdown",
   "id": "91281bec",
   "metadata": {},
   "source": [
    "## altitude"
   ]
  },
  {
   "cell_type": "code",
   "execution_count": null,
   "id": "475a242e",
   "metadata": {
    "scrolled": true
   },
   "outputs": [],
   "source": [
    "print(stats.describe(merged_data.altitude))\n",
    "merged_data.altitude.describe()"
   ]
  },
  {
   "cell_type": "code",
   "execution_count": null,
   "id": "c36c6c5f",
   "metadata": {
    "scrolled": false
   },
   "outputs": [],
   "source": [
    "show_column_counts(merged_data, 'altitude')"
   ]
  },
  {
   "cell_type": "markdown",
   "id": "7f33aedf",
   "metadata": {},
   "source": [
    "## post_code"
   ]
  },
  {
   "cell_type": "code",
   "execution_count": null,
   "id": "29e9d037",
   "metadata": {},
   "outputs": [],
   "source": [
    "print(stats.describe(merged_data.post_code))\n",
    "merged_data.post_code.describe()"
   ]
  },
  {
   "cell_type": "code",
   "execution_count": null,
   "id": "76688829",
   "metadata": {
    "scrolled": false
   },
   "outputs": [],
   "source": [
    "show_column_counts(merged_data, 'post_code')"
   ]
  },
  {
   "cell_type": "markdown",
   "id": "093033d5",
   "metadata": {},
   "source": [
    "## lat"
   ]
  },
  {
   "cell_type": "code",
   "execution_count": null,
   "id": "566daa79",
   "metadata": {},
   "outputs": [],
   "source": [
    "print(stats.describe(merged_data.lat))\n",
    "merged_data.lat.describe()"
   ]
  },
  {
   "cell_type": "code",
   "execution_count": null,
   "id": "a1cecae1",
   "metadata": {
    "scrolled": false
   },
   "outputs": [],
   "source": [
    "show_column_counts(merged_data, 'lat')"
   ]
  },
  {
   "cell_type": "markdown",
   "id": "be10bb55",
   "metadata": {},
   "source": [
    "## lon"
   ]
  },
  {
   "cell_type": "code",
   "execution_count": null,
   "id": "e73d9549",
   "metadata": {},
   "outputs": [],
   "source": [
    "print(stats.describe(merged_data.lon))\n",
    "merged_data.lon.describe()"
   ]
  },
  {
   "cell_type": "code",
   "execution_count": null,
   "id": "343f942c",
   "metadata": {
    "scrolled": false
   },
   "outputs": [],
   "source": [
    "show_column_counts(merged_data, 'lon')"
   ]
  },
  {
   "cell_type": "markdown",
   "id": "d3a1b95a",
   "metadata": {},
   "source": [
    "## street_name"
   ]
  },
  {
   "cell_type": "code",
   "execution_count": null,
   "id": "2515d3e6",
   "metadata": {},
   "outputs": [],
   "source": [
    "print(stats.describe(merged_data.street_name))\n",
    "merged_data.street_name.describe()"
   ]
  },
  {
   "cell_type": "code",
   "execution_count": null,
   "id": "6369c19e",
   "metadata": {
    "scrolled": false
   },
   "outputs": [],
   "source": [
    "show_column_counts(merged_data, 'street_name')"
   ]
  },
  {
   "cell_type": "markdown",
   "id": "5f025f81",
   "metadata": {},
   "source": [
    "## street_number"
   ]
  },
  {
   "cell_type": "code",
   "execution_count": null,
   "id": "a9bddf58",
   "metadata": {},
   "outputs": [],
   "source": [
    "print(stats.describe(merged_data.street_number))\n",
    "merged_data.street_number.describe()"
   ]
  },
  {
   "cell_type": "code",
   "execution_count": null,
   "id": "29ca09af",
   "metadata": {
    "scrolled": false
   },
   "outputs": [],
   "source": [
    "show_column_counts(merged_data, 'street_number')"
   ]
  }
 ],
 "metadata": {
  "kernelspec": {
   "display_name": "Python 3",
   "language": "python",
   "name": "python3"
  },
  "language_info": {
   "codemirror_mode": {
    "name": "ipython",
    "version": 3
   },
   "file_extension": ".py",
   "mimetype": "text/x-python",
   "name": "python",
   "nbconvert_exporter": "python",
   "pygments_lexer": "ipython3",
   "version": "3.6.13"
  }
 },
 "nbformat": 4,
 "nbformat_minor": 5
}
