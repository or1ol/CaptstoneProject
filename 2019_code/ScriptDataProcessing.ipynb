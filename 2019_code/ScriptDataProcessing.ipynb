{
 "cells": [
  {
   "cell_type": "code",
   "execution_count": 1,
   "id": "e494720a",
   "metadata": {},
   "outputs": [
    {
     "data": {
      "text/html": [
       "<style>.container { width:80% !important; }</style>"
      ],
      "text/plain": [
       "<IPython.core.display.HTML object>"
      ]
     },
     "metadata": {},
     "output_type": "display_data"
    }
   ],
   "source": [
    "from IPython.core.display import display, HTML\n",
    "display(HTML(\"<style>.container { width:80% !important; }</style>\"))\n",
    "\n",
    "import os\n",
    "\n",
    "# Python ≥3.5 is required\n",
    "import sys\n",
    "assert sys.version_info >= (3, 5)\n",
    "\n",
    "# Scikit-Learn ≥0.20 is required\n",
    "import sklearn\n",
    "assert sklearn.__version__ >= \"0.20\"\n",
    "\n",
    "from sklearn.ensemble import RandomForestRegressor\n",
    "from sklearn.ensemble import GradientBoostingRegressor\n",
    "from sklearn.model_selection import cross_val_score\n",
    "from sklearn.metrics import mean_squared_error, r2_score\n",
    "from sklearn.metrics import mean_absolute_error\n",
    "\n",
    "import pandas as pd\n",
    "import numpy as np\n",
    "pd.set_option('display.max_columns', None)\n",
    "\n",
    "# To plot pretty figures\n",
    "%matplotlib inline\n",
    "import matplotlib as mpl\n",
    "import matplotlib.pyplot as plt\n",
    "\n",
    "import scipy.stats as stats\n",
    "\n",
    "import seaborn as sns\n",
    "\n",
    "from datetime import datetime\n",
    "\n",
    "import re\n",
    "\n",
    "from tqdm.notebook import tqdm\n",
    "\n",
    "import dask.dataframe as dd\n",
    "from dask.distributed import Client\n",
    "\n",
    "sys.path.insert(0, '../tools/')\n",
    "\n",
    "from tools import * "
   ]
  },
  {
   "cell_type": "code",
   "execution_count": 2,
   "id": "a4287a45",
   "metadata": {},
   "outputs": [],
   "source": [
    "config = pd.Series({\n",
    "    'path': os.path.abspath('../dades'),\n",
    "    'file_type':'csv',\n",
    "    'years':[2019],\n",
    "    'dataset': 'BicingNou_ESTACIONS_CLEAN'\n",
    "})\n"
   ]
  },
  {
   "cell_type": "code",
   "execution_count": 3,
   "id": "2bd014c8",
   "metadata": {},
   "outputs": [
    {
     "data": {
      "text/html": [
       "<table style=\"border: 2px solid white;\">\n",
       "<tr>\n",
       "<td style=\"vertical-align: top; border: 0px solid white\">\n",
       "<h3 style=\"text-align: left;\">Client</h3>\n",
       "<ul style=\"text-align: left; list-style: none; margin: 0; padding: 0;\">\n",
       "  <li><b>Scheduler: </b>tcp://127.0.0.1:37479</li>\n",
       "  <li><b>Dashboard: </b><a href='http://127.0.0.1:8787/status' target='_blank'>http://127.0.0.1:8787/status</a></li>\n",
       "</ul>\n",
       "</td>\n",
       "<td style=\"vertical-align: top; border: 0px solid white\">\n",
       "<h3 style=\"text-align: left;\">Cluster</h3>\n",
       "<ul style=\"text-align: left; list-style:none; margin: 0; padding: 0;\">\n",
       "  <li><b>Workers: </b>4</li>\n",
       "  <li><b>Cores: </b>16</li>\n",
       "  <li><b>Memory: </b>16.44 GB</li>\n",
       "</ul>\n",
       "</td>\n",
       "</tr>\n",
       "</table>"
      ],
      "text/plain": [
       "<Client: 'tcp://127.0.0.1:37479' processes=4 threads=16, memory=16.44 GB>"
      ]
     },
     "execution_count": 3,
     "metadata": {},
     "output_type": "execute_result"
    }
   ],
   "source": [
    "client = Client()\n",
    "client"
   ]
  },
  {
   "cell_type": "markdown",
   "id": "9349a524",
   "metadata": {},
   "source": [
    "# Read data"
   ]
  },
  {
   "cell_type": "code",
   "execution_count": 4,
   "id": "5424d9d1",
   "metadata": {},
   "outputs": [
    {
     "data": {
      "application/vnd.jupyter.widget-view+json": {
       "model_id": "a2b2ec13c4194e308e485fdcfd8e43f3",
       "version_major": 2,
       "version_minor": 0
      },
      "text/plain": [
       "  0%|          | 0/1 [00:00<?, ?it/s]"
      ]
     },
     "metadata": {},
     "output_type": "display_data"
    },
    {
     "data": {
      "application/vnd.jupyter.widget-view+json": {
       "model_id": "8edd34dbd71f442cab46e681ecd31136",
       "version_major": 2,
       "version_minor": 0
      },
      "text/plain": [
       "  0%|          | 0/12 [00:00<?, ?it/s]"
      ]
     },
     "metadata": {},
     "output_type": "display_data"
    },
    {
     "name": "stdout",
     "output_type": "stream",
     "text": [
      "CPU times: user 365 ms, sys: 49.7 ms, total: 415 ms\n",
      "Wall time: 397 ms\n"
     ]
    }
   ],
   "source": [
    "%%time\n",
    "\n",
    "data = read_dask_dataframes(config.path, config.file_type, config.dataset, config.years)"
   ]
  },
  {
   "cell_type": "markdown",
   "id": "220d2efd",
   "metadata": {},
   "source": [
    "# 2019 "
   ]
  },
  {
   "cell_type": "code",
   "execution_count": 5,
   "id": "3b7ad367",
   "metadata": {},
   "outputs": [],
   "source": [
    "config_year = pd.Series({\n",
    "    'path':config.path,\n",
    "    'file_type':config.file_type,\n",
    "    'year':2019,\n",
    "    'dataset': 'BicingNou_ESTACIONS_MOD'\n",
    "})"
   ]
  },
  {
   "cell_type": "code",
   "execution_count": 6,
   "id": "9f9c6856",
   "metadata": {},
   "outputs": [
    {
     "data": {
      "text/plain": [
       "13"
      ]
     },
     "execution_count": 6,
     "metadata": {},
     "output_type": "execute_result"
    }
   ],
   "source": [
    "len(data[config_year.year].divisions) # divisions mark the start and end of each partiotion\n",
    "# in our case we have nones but that is okay"
   ]
  },
  {
   "cell_type": "code",
   "execution_count": 7,
   "id": "e45166fb",
   "metadata": {},
   "outputs": [],
   "source": [
    "first_size = get_ddf_shape(data[config_year.year])"
   ]
  },
  {
   "cell_type": "code",
   "execution_count": 8,
   "id": "2bdc2972",
   "metadata": {
    "scrolled": true
   },
   "outputs": [
    {
     "data": {
      "text/html": [
       "<div><strong>Dask DataFrame Structure:</strong></div>\n",
       "<div>\n",
       "<style scoped>\n",
       "    .dataframe tbody tr th:only-of-type {\n",
       "        vertical-align: middle;\n",
       "    }\n",
       "\n",
       "    .dataframe tbody tr th {\n",
       "        vertical-align: top;\n",
       "    }\n",
       "\n",
       "    .dataframe thead th {\n",
       "        text-align: right;\n",
       "    }\n",
       "</style>\n",
       "<table border=\"1\" class=\"dataframe\">\n",
       "  <thead>\n",
       "    <tr style=\"text-align: right;\">\n",
       "      <th></th>\n",
       "      <th>station_id</th>\n",
       "      <th>physical_configuration</th>\n",
       "      <th>lat</th>\n",
       "      <th>lon</th>\n",
       "      <th>street_name</th>\n",
       "      <th>num_docks_available</th>\n",
       "      <th>num_bikes_available</th>\n",
       "      <th>status</th>\n",
       "      <th>last_updated</th>\n",
       "      <th>is_installed</th>\n",
       "      <th>is_renting</th>\n",
       "      <th>is_returning</th>\n",
       "      <th>is_charging_station</th>\n",
       "      <th>num_bikes_available_types.mechanical</th>\n",
       "      <th>num_bikes_available_types.ebike</th>\n",
       "      <th>post_code</th>\n",
       "      <th>year_last_updated_date</th>\n",
       "      <th>month_last_updated_date</th>\n",
       "      <th>dayofweek_last_updated_date</th>\n",
       "      <th>dayofmonth_last_updated_date</th>\n",
       "      <th>dayofyear_last_updated_date</th>\n",
       "      <th>hour_last_updated_date</th>\n",
       "      <th>street_number</th>\n",
       "      <th>capacity</th>\n",
       "      <th>altitude</th>\n",
       "      <th>last_reported</th>\n",
       "    </tr>\n",
       "    <tr>\n",
       "      <th>npartitions=12</th>\n",
       "      <th></th>\n",
       "      <th></th>\n",
       "      <th></th>\n",
       "      <th></th>\n",
       "      <th></th>\n",
       "      <th></th>\n",
       "      <th></th>\n",
       "      <th></th>\n",
       "      <th></th>\n",
       "      <th></th>\n",
       "      <th></th>\n",
       "      <th></th>\n",
       "      <th></th>\n",
       "      <th></th>\n",
       "      <th></th>\n",
       "      <th></th>\n",
       "      <th></th>\n",
       "      <th></th>\n",
       "      <th></th>\n",
       "      <th></th>\n",
       "      <th></th>\n",
       "      <th></th>\n",
       "      <th></th>\n",
       "      <th></th>\n",
       "      <th></th>\n",
       "      <th></th>\n",
       "    </tr>\n",
       "  </thead>\n",
       "  <tbody>\n",
       "    <tr>\n",
       "      <th></th>\n",
       "      <td>float64</td>\n",
       "      <td>float64</td>\n",
       "      <td>float64</td>\n",
       "      <td>float64</td>\n",
       "      <td>object</td>\n",
       "      <td>float64</td>\n",
       "      <td>float64</td>\n",
       "      <td>float64</td>\n",
       "      <td>float64</td>\n",
       "      <td>float64</td>\n",
       "      <td>float64</td>\n",
       "      <td>float64</td>\n",
       "      <td>float64</td>\n",
       "      <td>float64</td>\n",
       "      <td>float64</td>\n",
       "      <td>float64</td>\n",
       "      <td>float64</td>\n",
       "      <td>float64</td>\n",
       "      <td>float64</td>\n",
       "      <td>float64</td>\n",
       "      <td>float64</td>\n",
       "      <td>float64</td>\n",
       "      <td>object</td>\n",
       "      <td>float64</td>\n",
       "      <td>float64</td>\n",
       "      <td>float64</td>\n",
       "    </tr>\n",
       "    <tr>\n",
       "      <th></th>\n",
       "      <td>...</td>\n",
       "      <td>...</td>\n",
       "      <td>...</td>\n",
       "      <td>...</td>\n",
       "      <td>...</td>\n",
       "      <td>...</td>\n",
       "      <td>...</td>\n",
       "      <td>...</td>\n",
       "      <td>...</td>\n",
       "      <td>...</td>\n",
       "      <td>...</td>\n",
       "      <td>...</td>\n",
       "      <td>...</td>\n",
       "      <td>...</td>\n",
       "      <td>...</td>\n",
       "      <td>...</td>\n",
       "      <td>...</td>\n",
       "      <td>...</td>\n",
       "      <td>...</td>\n",
       "      <td>...</td>\n",
       "      <td>...</td>\n",
       "      <td>...</td>\n",
       "      <td>...</td>\n",
       "      <td>...</td>\n",
       "      <td>...</td>\n",
       "      <td>...</td>\n",
       "    </tr>\n",
       "    <tr>\n",
       "      <th>...</th>\n",
       "      <td>...</td>\n",
       "      <td>...</td>\n",
       "      <td>...</td>\n",
       "      <td>...</td>\n",
       "      <td>...</td>\n",
       "      <td>...</td>\n",
       "      <td>...</td>\n",
       "      <td>...</td>\n",
       "      <td>...</td>\n",
       "      <td>...</td>\n",
       "      <td>...</td>\n",
       "      <td>...</td>\n",
       "      <td>...</td>\n",
       "      <td>...</td>\n",
       "      <td>...</td>\n",
       "      <td>...</td>\n",
       "      <td>...</td>\n",
       "      <td>...</td>\n",
       "      <td>...</td>\n",
       "      <td>...</td>\n",
       "      <td>...</td>\n",
       "      <td>...</td>\n",
       "      <td>...</td>\n",
       "      <td>...</td>\n",
       "      <td>...</td>\n",
       "      <td>...</td>\n",
       "    </tr>\n",
       "    <tr>\n",
       "      <th></th>\n",
       "      <td>...</td>\n",
       "      <td>...</td>\n",
       "      <td>...</td>\n",
       "      <td>...</td>\n",
       "      <td>...</td>\n",
       "      <td>...</td>\n",
       "      <td>...</td>\n",
       "      <td>...</td>\n",
       "      <td>...</td>\n",
       "      <td>...</td>\n",
       "      <td>...</td>\n",
       "      <td>...</td>\n",
       "      <td>...</td>\n",
       "      <td>...</td>\n",
       "      <td>...</td>\n",
       "      <td>...</td>\n",
       "      <td>...</td>\n",
       "      <td>...</td>\n",
       "      <td>...</td>\n",
       "      <td>...</td>\n",
       "      <td>...</td>\n",
       "      <td>...</td>\n",
       "      <td>...</td>\n",
       "      <td>...</td>\n",
       "      <td>...</td>\n",
       "      <td>...</td>\n",
       "    </tr>\n",
       "    <tr>\n",
       "      <th></th>\n",
       "      <td>...</td>\n",
       "      <td>...</td>\n",
       "      <td>...</td>\n",
       "      <td>...</td>\n",
       "      <td>...</td>\n",
       "      <td>...</td>\n",
       "      <td>...</td>\n",
       "      <td>...</td>\n",
       "      <td>...</td>\n",
       "      <td>...</td>\n",
       "      <td>...</td>\n",
       "      <td>...</td>\n",
       "      <td>...</td>\n",
       "      <td>...</td>\n",
       "      <td>...</td>\n",
       "      <td>...</td>\n",
       "      <td>...</td>\n",
       "      <td>...</td>\n",
       "      <td>...</td>\n",
       "      <td>...</td>\n",
       "      <td>...</td>\n",
       "      <td>...</td>\n",
       "      <td>...</td>\n",
       "      <td>...</td>\n",
       "      <td>...</td>\n",
       "      <td>...</td>\n",
       "    </tr>\n",
       "  </tbody>\n",
       "</table>\n",
       "</div>\n",
       "<div>Dask Name: concat, 33 tasks</div>"
      ],
      "text/plain": [
       "Dask DataFrame Structure:\n",
       "               station_id physical_configuration      lat      lon street_name num_docks_available num_bikes_available   status last_updated is_installed is_renting is_returning is_charging_station num_bikes_available_types.mechanical num_bikes_available_types.ebike post_code year_last_updated_date month_last_updated_date dayofweek_last_updated_date dayofmonth_last_updated_date dayofyear_last_updated_date hour_last_updated_date street_number capacity altitude last_reported\n",
       "npartitions=12                                                                                                                                                                                                                                                                                                                                                                                                                                                                               \n",
       "                  float64                float64  float64  float64      object             float64             float64  float64      float64      float64    float64      float64             float64                              float64                         float64   float64                float64                 float64                     float64                      float64                     float64                float64        object  float64  float64       float64\n",
       "                      ...                    ...      ...      ...         ...                 ...                 ...      ...          ...          ...        ...          ...                 ...                                  ...                             ...       ...                    ...                     ...                         ...                          ...                         ...                    ...           ...      ...      ...           ...\n",
       "...                   ...                    ...      ...      ...         ...                 ...                 ...      ...          ...          ...        ...          ...                 ...                                  ...                             ...       ...                    ...                     ...                         ...                          ...                         ...                    ...           ...      ...      ...           ...\n",
       "                      ...                    ...      ...      ...         ...                 ...                 ...      ...          ...          ...        ...          ...                 ...                                  ...                             ...       ...                    ...                     ...                         ...                          ...                         ...                    ...           ...      ...      ...           ...\n",
       "                      ...                    ...      ...      ...         ...                 ...                 ...      ...          ...          ...        ...          ...                 ...                                  ...                             ...       ...                    ...                     ...                         ...                          ...                         ...                    ...           ...      ...      ...           ...\n",
       "Dask Name: concat, 33 tasks"
      ]
     },
     "execution_count": 8,
     "metadata": {},
     "output_type": "execute_result"
    }
   ],
   "source": [
    "data[config_year.year]"
   ]
  },
  {
   "cell_type": "markdown",
   "id": "35838ed0",
   "metadata": {},
   "source": [
    "## Preprocessing"
   ]
  },
  {
   "cell_type": "code",
   "execution_count": 9,
   "id": "73ab97db",
   "metadata": {},
   "outputs": [
    {
     "name": "stdout",
     "output_type": "stream",
     "text": [
      "CPU times: user 1.24 s, sys: 12.4 ms, total: 1.25 s\n",
      "Wall time: 3.02 s\n"
     ]
    }
   ],
   "source": [
    "%%time\n",
    "\n",
    "# do not execute everytime, takes 17s and eat the memory. Once executed disable the cell and restart the notebook. Since this cell saves a checkpoint you can continue without it.\n",
    "\n",
    "data[config_year.year] = data[config_year.year].drop(['physical_configuration','lat','lon','post_code', 'last_reported', 'street_number', 'street_name', 'altitude', 'capacity'], axis=1)\n",
    "\n",
    "data[config_year.year]['station_id']=data[config_year.year]['station_id'].astype(int)\n",
    "data[config_year.year]['is_charging_station']=data[config_year.year]['is_charging_station'].astype(int)\n",
    "data[config_year.year]['last_updated']=data[config_year.year]['last_updated'].astype(int)\n",
    "data[config_year.year]['year_last_updated_date']=data[config_year.year]['year_last_updated_date'].astype(int)\n",
    "data[config_year.year]['month_last_updated_date']=data[config_year.year]['month_last_updated_date'].astype(int)\n",
    "data[config_year.year]['dayofweek_last_updated_date']=data[config_year.year]['dayofweek_last_updated_date'].astype(int)\n",
    "data[config_year.year]['dayofmonth_last_updated_date']=data[config_year.year]['dayofmonth_last_updated_date'].astype(int)\n",
    "data[config_year.year]['dayofyear_last_updated_date']=data[config_year.year]['dayofyear_last_updated_date'].astype(int)\n",
    "data[config_year.year]['hour_last_updated_date']=data[config_year.year]['hour_last_updated_date'].astype(int)\n",
    "\n",
    "data[config_year.year]['status']=data[config_year.year]['status'].round().astype(int)\n",
    "data[config_year.year]['is_installed']=data[config_year.year]['is_installed'].round().astype(int)\n",
    "data[config_year.year]['is_renting']=data[config_year.year]['is_renting'].round().astype(int)\n",
    "data[config_year.year]['is_returning']=data[config_year.year]['is_returning'].round().astype(int)\n",
    "\n",
    "# Found two station with alot of missing values \n",
    "# best solution is to remove\n",
    "# condition = (data[config_year.year]['station_id'].isin([520.0, 527.0, 532.0]))\n",
    "# data[config_year.year] = data[config_year.year].mask(condition, np.nan)\n",
    "# data[config_year.year] = data[config_year.year].dropna(subset=['station_id'])\n",
    "\n",
    "last_size = get_ddf_shape(data[config_year.year])\n",
    "\n",
    "new_columns = {\n",
    "    'last_updated': 'timestamp',\n",
    "    'year_last_updated_date':'year', \n",
    "    'month_last_updated_date':'month',\n",
    "    'dayofweek_last_updated_date':'dayofweek', \n",
    "    'dayofmonth_last_updated_date':'day', \n",
    "    'dayofyear_last_updated_date':'dayofyear',\n",
    "    'hour_last_updated_date':'hour'\n",
    "}\n",
    "\n",
    "data[config_year.year] = data[config_year.year].rename(columns=new_columns)"
   ]
  },
  {
   "cell_type": "code",
   "execution_count": 10,
   "id": "b1117035",
   "metadata": {},
   "outputs": [
    {
     "name": "stdout",
     "output_type": "stream",
     "text": [
      "checkpoint saved.\n"
     ]
    }
   ],
   "source": [
    "save_checkpoint(data[config_year.year], config_year)\n",
    "\n",
    "# checkpoint saved.\n",
    "# CPU times: user 2.12 s, sys: 250 ms, total: 2.37 s\n",
    "# Wall time: 17.3 s"
   ]
  },
  {
   "cell_type": "code",
   "execution_count": 11,
   "id": "a9366d9b",
   "metadata": {},
   "outputs": [
    {
     "name": "stdout",
     "output_type": "stream",
     "text": [
      "checkpoint reloaded.\n",
      "CPU times: user 16.9 ms, sys: 0 ns, total: 16.9 ms\n",
      "Wall time: 15.8 ms\n"
     ]
    }
   ],
   "source": [
    "%%time\n",
    "\n",
    "data[config_year.year] = load_checkpoint(config_year)\n",
    "\n",
    "# checkpoint reloaded."
   ]
  },
  {
   "cell_type": "code",
   "execution_count": 12,
   "id": "2c3a647b",
   "metadata": {},
   "outputs": [
    {
     "name": "stdout",
     "output_type": "stream",
     "text": [
      "Changes to dataframe durinf preprocessing\n",
      "dropeed 00 rows\n",
      "dropped -9 columns\n",
      "CPU times: user 119 ms, sys: 31.8 ms, total: 151 ms\n",
      "Wall time: 724 ms\n"
     ]
    }
   ],
   "source": [
    "%%time\n",
    "\n",
    "last_size = get_ddf_shape(data[config_year.year])\n",
    "\n",
    "print('Changes to dataframe durinf preprocessing')\n",
    "print(f'dropeed {(last_size[0]-first_size[0]):02d} rows')\n",
    "print(f'dropped {(last_size[1]-first_size[1]):02d} columns')"
   ]
  },
  {
   "cell_type": "code",
   "execution_count": 13,
   "id": "61db0537",
   "metadata": {},
   "outputs": [
    {
     "data": {
      "text/plain": [
       "13"
      ]
     },
     "execution_count": 13,
     "metadata": {},
     "output_type": "execute_result"
    }
   ],
   "source": [
    "len(data[config_year.year].divisions) # divisions mark the start and end of each partiotion\n",
    "# in our case we have nones but that is okay"
   ]
  },
  {
   "cell_type": "raw",
   "id": "5cc068bf",
   "metadata": {},
   "source": [
    "print_partitions(data[config_year.year])"
   ]
  },
  {
   "cell_type": "code",
   "execution_count": 14,
   "id": "17180ed3",
   "metadata": {},
   "outputs": [
    {
     "name": "stdout",
     "output_type": "stream",
     "text": [
      "CPU times: user 568 ms, sys: 24.4 ms, total: 592 ms\n",
      "Wall time: 2.96 s\n"
     ]
    }
   ],
   "source": [
    "%%time\n",
    "\n",
    "nans = get_features_nans(data[config_year.year])\n",
    "\n",
    "zeros = get_features_zero(data[config_year.year])"
   ]
  },
  {
   "cell_type": "code",
   "execution_count": 15,
   "id": "a71ccd91",
   "metadata": {},
   "outputs": [
    {
     "data": {
      "text/plain": [
       "{}"
      ]
     },
     "execution_count": 15,
     "metadata": {},
     "output_type": "execute_result"
    }
   ],
   "source": [
    "nans"
   ]
  },
  {
   "cell_type": "code",
   "execution_count": 16,
   "id": "40239ba4",
   "metadata": {},
   "outputs": [
    {
     "data": {
      "text/plain": [
       "{'num_docks_available': 2.0920439012623624,\n",
       " 'num_bikes_available': 16.179852009684364,\n",
       " 'status': 84.895149330403,\n",
       " 'is_installed': 0.007230888120572128,\n",
       " 'is_renting': 0.06521758551990922,\n",
       " 'is_returning': 0.06496631913734109,\n",
       " 'is_charging_station': 0.00013959243476007968,\n",
       " 'num_bikes_available_types.mechanical': 19.451675332565017,\n",
       " 'num_bikes_available_types.ebike': 57.08051914984858,\n",
       " 'dayofweek': 14.432545585305496,\n",
       " 'hour': 4.15092064002573}"
      ]
     },
     "execution_count": 16,
     "metadata": {},
     "output_type": "execute_result"
    }
   ],
   "source": [
    "zeros"
   ]
  },
  {
   "cell_type": "code",
   "execution_count": 17,
   "id": "ad9ea960",
   "metadata": {},
   "outputs": [],
   "source": [
    "# nuniques = get_columns_nunique(data[config_year.year])\n",
    "\n",
    "# pd.Series(nuniques)\n",
    "# station_id                                  511\n",
    "# num_bikes_available                        5413\n",
    "# num_bikes_available_types.mechanical       4950\n",
    "# num_bikes_available_types.ebike            2412\n",
    "# num_docks_available                        5641\n",
    "# last_reported                           3085646\n",
    "# is_charging_station                           2\n",
    "# status                                      264\n",
    "# is_installed                                 50\n",
    "# is_renting                                  230\n",
    "# is_returning                                230\n",
    "# timestamp                                  8700\n",
    "# year                                          2\n",
    "# month                                        12\n",
    "# week                                         53\n",
    "# dayofweek                                     7\n",
    "# day                                          31\n",
    "# dayofyear                                   366\n",
    "# hour                                         24\n",
    "# traffic                                    1741\n",
    "# dtype: int64\n",
    "    \n",
    "uniques = get_columns_unique(data[config_year.year])"
   ]
  },
  {
   "cell_type": "code",
   "execution_count": 18,
   "id": "1eb3676a",
   "metadata": {},
   "outputs": [
    {
     "data": {
      "text/plain": [
       "{'station_id': 0        1\n",
       " 1      320\n",
       " 2      319\n",
       " 3      318\n",
       " 4      317\n",
       "       ... \n",
       " 466     52\n",
       " 467    497\n",
       " 468    499\n",
       " 469    501\n",
       " 470    514\n",
       " Name: station_id, Length: 471, dtype: int64,\n",
       " 'num_docks_available': 0         8.363636\n",
       " 1         7.181818\n",
       " 2         7.545455\n",
       " 3         8.818182\n",
       " 4         4.818182\n",
       "            ...    \n",
       " 10191    45.272727\n",
       " 10192    38.722222\n",
       " 10193    35.944444\n",
       " 10194    28.513236\n",
       " 10195    24.173562\n",
       " Name: num_docks_available, Length: 10196, dtype: float64,\n",
       " 'num_bikes_available': 0       17.636364\n",
       " 1       17.818182\n",
       " 2       16.818182\n",
       " 3       15.636364\n",
       " 4       21.181818\n",
       "           ...    \n",
       " 7518    45.083333\n",
       " 7519    30.136364\n",
       " 7520    44.909091\n",
       " 7521    45.850000\n",
       " 7522    23.050000\n",
       " Name: num_bikes_available, Length: 7523, dtype: float64,\n",
       " 'status': 0    1\n",
       " 1    0\n",
       " 2    2\n",
       " 3    3\n",
       " Name: status, dtype: int64,\n",
       " 'timestamp': 0       1546300800\n",
       " 1       1546304400\n",
       " 2       1546308000\n",
       " 3       1546311600\n",
       " 4       1546315200\n",
       "            ...    \n",
       " 8587    1577815200\n",
       " 8588    1577818800\n",
       " 8589    1577822400\n",
       " 8590    1577826000\n",
       " 8591    1577829600\n",
       " Name: timestamp, Length: 8592, dtype: int64,\n",
       " 'is_installed': 0    1\n",
       " 1    0\n",
       " Name: is_installed, dtype: int64,\n",
       " 'is_renting': 0    1\n",
       " 1    0\n",
       " Name: is_renting, dtype: int64,\n",
       " 'is_returning': 0    1\n",
       " 1    0\n",
       " Name: is_returning, dtype: int64,\n",
       " 'is_charging_station': 0    1\n",
       " 1    0\n",
       " Name: is_charging_station, dtype: int64,\n",
       " 'num_bikes_available_types.mechanical': 0       17.636364\n",
       " 1       17.818182\n",
       " 2       16.818182\n",
       " 3       15.636364\n",
       " 4       21.181818\n",
       "           ...    \n",
       " 7280    19.518519\n",
       " 7281     9.114286\n",
       " 7282    18.791667\n",
       " 7283    44.850000\n",
       " 7284    15.590909\n",
       " Name: num_bikes_available_types.mechanical, Length: 7285, dtype: float64,\n",
       " 'num_bikes_available_types.ebike': 0        0.000000\n",
       " 1        0.888889\n",
       " 2        1.000000\n",
       " 3        1.222222\n",
       " 4        2.000000\n",
       "           ...    \n",
       " 1607    10.033333\n",
       " 1608     7.611111\n",
       " 1609     4.318182\n",
       " 1610    10.071429\n",
       " 1611     0.171429\n",
       " Name: num_bikes_available_types.ebike, Length: 1612, dtype: float64,\n",
       " 'year': 0    2019\n",
       " Name: year, dtype: int64,\n",
       " 'month': 0      1\n",
       " 1      2\n",
       " 2      3\n",
       " 3      4\n",
       " 4      5\n",
       " 5      6\n",
       " 6      7\n",
       " 7      8\n",
       " 8      9\n",
       " 9     10\n",
       " 10    11\n",
       " 11    12\n",
       " Name: month, dtype: int64,\n",
       " 'dayofweek': 0    1\n",
       " 1    2\n",
       " 2    3\n",
       " 3    4\n",
       " 4    5\n",
       " 5    6\n",
       " 6    0\n",
       " Name: dayofweek, dtype: int64,\n",
       " 'day': 0      1\n",
       " 1      2\n",
       " 2      3\n",
       " 3      4\n",
       " 4      5\n",
       " 5      6\n",
       " 6      7\n",
       " 7      8\n",
       " 8      9\n",
       " 9     10\n",
       " 10    11\n",
       " 11    12\n",
       " 12    13\n",
       " 13    14\n",
       " 14    15\n",
       " 15    16\n",
       " 16    17\n",
       " 17    18\n",
       " 18    19\n",
       " 19    20\n",
       " 20    21\n",
       " 21    22\n",
       " 22    23\n",
       " 23    24\n",
       " 24    25\n",
       " 25    26\n",
       " 26    27\n",
       " 27    28\n",
       " 28    29\n",
       " 29    30\n",
       " 30    31\n",
       " Name: day, dtype: int64,\n",
       " 'dayofyear': 0        1\n",
       " 1        2\n",
       " 2        3\n",
       " 3        4\n",
       " 4        5\n",
       "       ... \n",
       " 355    361\n",
       " 356    362\n",
       " 357    363\n",
       " 358    364\n",
       " 359    365\n",
       " Name: dayofyear, Length: 360, dtype: int64,\n",
       " 'hour': 0      0\n",
       " 1      1\n",
       " 2      2\n",
       " 3      3\n",
       " 4      4\n",
       " 5      5\n",
       " 6      6\n",
       " 7      7\n",
       " 8      8\n",
       " 9      9\n",
       " 10    10\n",
       " 11    11\n",
       " 12    12\n",
       " 13    13\n",
       " 14    14\n",
       " 15    15\n",
       " 16    16\n",
       " 17    17\n",
       " 18    18\n",
       " 19    19\n",
       " 20    20\n",
       " 21    21\n",
       " 22    22\n",
       " 23    23\n",
       " Name: hour, dtype: int64}"
      ]
     },
     "execution_count": 18,
     "metadata": {},
     "output_type": "execute_result"
    }
   ],
   "source": [
    "uniques"
   ]
  },
  {
   "cell_type": "markdown",
   "id": "5e2f83e8",
   "metadata": {},
   "source": [
    "### Finding max capacity for a station"
   ]
  },
  {
   "cell_type": "code",
   "execution_count": 19,
   "id": "a1c21565",
   "metadata": {},
   "outputs": [
    {
     "name": "stdout",
     "output_type": "stream",
     "text": [
      "DescribeResult(nobs=3581856, minmax=(0.0, 54.0), mean=15.634224998829618, variance=91.70723727517974, skewness=0.01475361040839562, kurtosis=-0.8341695571232961)\n",
      "CPU times: user 428 ms, sys: 189 ms, total: 617 ms\n",
      "Wall time: 1.73 s\n"
     ]
    },
    {
     "data": {
      "text/plain": [
       "count    3.581856e+06\n",
       "mean     1.563422e+01\n",
       "std      9.576390e+00\n",
       "min      0.000000e+00\n",
       "25%      1.225000e+01\n",
       "50%      2.090000e+01\n",
       "75%      2.700000e+01\n",
       "max      5.400000e+01\n",
       "Name: num_docks_available, dtype: float64"
      ]
     },
     "execution_count": 19,
     "metadata": {},
     "output_type": "execute_result"
    }
   ],
   "source": [
    "%%time\n",
    "\n",
    "print(stats.describe(data[config_year.year].num_docks_available))\n",
    "data[config_year.year].num_docks_available.describe().compute()"
   ]
  },
  {
   "cell_type": "code",
   "execution_count": 20,
   "id": "61fddc38",
   "metadata": {},
   "outputs": [
    {
     "name": "stdout",
     "output_type": "stream",
     "text": [
      "DescribeResult(nobs=3581856, minmax=(-0.16666666666666666, 54.0), mean=9.497126711750058, variance=84.40007783727643, skewness=0.7965349898848783, kurtosis=-0.09257369780653013)\n",
      "CPU times: user 488 ms, sys: 133 ms, total: 621 ms\n",
      "Wall time: 1.83 s\n"
     ]
    },
    {
     "data": {
      "text/plain": [
       "count    3.581856e+06\n",
       "mean     9.497127e+00\n",
       "std      9.186951e+00\n",
       "min     -1.666667e-01\n",
       "25%      2.333333e+00\n",
       "50%      9.000000e+00\n",
       "75%      2.050000e+01\n",
       "max      5.400000e+01\n",
       "Name: num_bikes_available, dtype: float64"
      ]
     },
     "execution_count": 20,
     "metadata": {},
     "output_type": "execute_result"
    }
   ],
   "source": [
    "%%time\n",
    "\n",
    "print(stats.describe(data[config_year.year].num_bikes_available))\n",
    "data[config_year.year].num_bikes_available.describe().compute()"
   ]
  },
  {
   "cell_type": "code",
   "execution_count": 21,
   "id": "870ab196",
   "metadata": {},
   "outputs": [
    {
     "name": "stdout",
     "output_type": "stream",
     "text": [
      "DescribeResult(nobs=3581856, minmax=(-0.16666666666666666, 54.0), mean=8.88788799761759, variance=81.11375302036305, skewness=0.8498825640000149, kurtosis=-0.010193291632144774)\n",
      "CPU times: user 524 ms, sys: 83.9 ms, total: 608 ms\n",
      "Wall time: 1.69 s\n"
     ]
    },
    {
     "data": {
      "text/plain": [
       "count    3.581856e+06\n",
       "mean     8.887888e+00\n",
       "std      9.006317e+00\n",
       "min     -1.666667e-01\n",
       "25%      1.571429e+00\n",
       "50%      8.000000e+00\n",
       "75%      1.950000e+01\n",
       "max      5.400000e+01\n",
       "Name: num_bikes_available_types.mechanical, dtype: float64"
      ]
     },
     "execution_count": 21,
     "metadata": {},
     "output_type": "execute_result"
    }
   ],
   "source": [
    "%%time\n",
    "\n",
    "print(stats.describe(data[config_year.year]['num_bikes_available_types.mechanical']))\n",
    "data[config_year.year]['num_bikes_available_types.mechanical'].describe().compute()"
   ]
  },
  {
   "cell_type": "code",
   "execution_count": 22,
   "id": "c5907eb8",
   "metadata": {},
   "outputs": [
    {
     "name": "stdout",
     "output_type": "stream",
     "text": [
      "DescribeResult(nobs=3581856, minmax=(0.0, 31.125), mean=0.6169135677939618, variance=1.8445241975570645, skewness=4.6598751231432045, kurtosis=34.87406855452118)\n"
     ]
    },
    {
     "data": {
      "text/plain": [
       "count    3.581856e+06\n",
       "mean     6.169136e-01\n",
       "std      1.358133e+00\n",
       "min      0.000000e+00\n",
       "25%      0.000000e+00\n",
       "50%      1.250000e-01\n",
       "75%      1.000000e+00\n",
       "max      3.112500e+01\n",
       "Name: num_bikes_available_types.ebike, dtype: float64"
      ]
     },
     "execution_count": 22,
     "metadata": {},
     "output_type": "execute_result"
    }
   ],
   "source": [
    "print(stats.describe(data[config_year.year]['num_bikes_available_types.ebike']))\n",
    "data[config_year.year]['num_bikes_available_types.ebike'].describe().compute()"
   ]
  },
  {
   "cell_type": "code",
   "execution_count": 23,
   "id": "68378bb4",
   "metadata": {},
   "outputs": [
    {
     "name": "stdout",
     "output_type": "stream",
     "text": [
      "correct data 3576136 incorrect data 5720\n",
      "CPU times: user 1.7 s, sys: 213 ms, total: 1.92 s\n",
      "Wall time: 5.69 s\n"
     ]
    },
    {
     "data": {
      "text/plain": [
       "<matplotlib.legend.Legend at 0x7f6c78b88ac8>"
      ]
     },
     "execution_count": 23,
     "metadata": {},
     "output_type": "execute_result"
    },
    {
     "data": {
      "image/png": "[encoded data removed]",
      "text/plain": [
       "<Figure size 720x720 with 1 Axes>"
      ]
     },
     "metadata": {
      "needs_background": "light"
     },
     "output_type": "display_data"
    }
   ],
   "source": [
    "%%time\n",
    "\n",
    "cond = data[config_year.year].num_bikes_available.round().astype(int) == (data[config_year.year]['num_bikes_available_types.ebike'] + data[config_year.year]['num_bikes_available_types.mechanical']).round().astype(int)\n",
    "\n",
    "print('correct data',data[config_year.year][cond].shape[0].compute(), 'incorrect data', data[config_year.year][~cond].shape[0].compute())\n",
    "    \n",
    "plt.rcParams[\"figure.figsize\"] = (10,10)\n",
    "    \n",
    "plt.scatter(\n",
    "    data[config_year.year][cond].num_bikes_available.compute(), \n",
    "    (data[config_year.year][cond]['num_bikes_available_types.ebike'] + data[config_year.year][cond]['num_bikes_available_types.mechanical']).compute(),\n",
    "    label='cond'\n",
    ")\n",
    "\n",
    "plt.scatter(\n",
    "    data[config_year.year][~cond].num_bikes_available.compute(), \n",
    "    (data[config_year.year][~cond]['num_bikes_available_types.ebike'] + data[config_year.year][~cond]['num_bikes_available_types.mechanical']).compute(),\n",
    "    label='~cond'\n",
    ")\n",
    "\n",
    "plt.ylabel('Electric + Mecanic')\n",
    "plt.xlabel('num_bikes_available')\n",
    "plt.legend()"
   ]
  },
  {
   "cell_type": "code",
   "execution_count": 24,
   "id": "b9ec3260",
   "metadata": {},
   "outputs": [
    {
     "name": "stdout",
     "output_type": "stream",
     "text": [
      "CPU times: user 10.5 ms, sys: 0 ns, total: 10.5 ms\n",
      "Wall time: 9.82 ms\n"
     ]
    }
   ],
   "source": [
    "%%time\n",
    "\n",
    "data[config_year.year]['num_bikes_available'] = data[config_year.year]['num_bikes_available'].mask(~cond, (data[config_year.year]['num_bikes_available_types.ebike'] + data[config_year.year]['num_bikes_available_types.mechanical']))\n"
   ]
  },
  {
   "cell_type": "code",
   "execution_count": 25,
   "id": "d415c0fa",
   "metadata": {},
   "outputs": [
    {
     "name": "stdout",
     "output_type": "stream",
     "text": [
      "correct data 3581856 incorrect data 0\n",
      "CPU times: user 1.84 s, sys: 0 ns, total: 1.84 s\n",
      "Wall time: 5.81 s\n"
     ]
    },
    {
     "data": {
      "text/plain": [
       "<matplotlib.legend.Legend at 0x7f6b9da1feb8>"
      ]
     },
     "execution_count": 25,
     "metadata": {},
     "output_type": "execute_result"
    },
    {
     "data": {
      "image/png": "[encoded data removed]",
      "text/plain": [
       "<Figure size 720x720 with 1 Axes>"
      ]
     },
     "metadata": {
      "needs_background": "light"
     },
     "output_type": "display_data"
    }
   ],
   "source": [
    "%%time\n",
    "\n",
    "cond = data[config_year.year].num_bikes_available.round().astype(int) == (data[config_year.year]['num_bikes_available_types.ebike'] + data[config_year.year]['num_bikes_available_types.mechanical']).round().astype(int)\n",
    "\n",
    "print('correct data',data[config_year.year][cond].shape[0].compute(), 'incorrect data', data[config_year.year][~cond].shape[0].compute())\n",
    "\n",
    "plt.rcParams[\"figure.figsize\"] = (10,10)\n",
    "    \n",
    "plt.scatter(\n",
    "    data[config_year.year][cond].num_bikes_available.compute(), \n",
    "    (data[config_year.year][cond]['num_bikes_available_types.ebike'] + data[config_year.year][cond]['num_bikes_available_types.mechanical']).compute(),\n",
    "    label='cond'\n",
    ")\n",
    "\n",
    "plt.scatter(\n",
    "    data[config_year.year][~cond].num_bikes_available.compute(), \n",
    "    (data[config_year.year][~cond]['num_bikes_available_types.ebike'] + data[config_year.year][~cond]['num_bikes_available_types.mechanical']).compute(),\n",
    "    label='~cond'\n",
    ")\n",
    "\n",
    "plt.ylabel('Electric + Mecanic')\n",
    "plt.xlabel('num_bikes_available')\n",
    "plt.legend()"
   ]
  },
  {
   "cell_type": "code",
   "execution_count": 26,
   "id": "eb2571b9",
   "metadata": {},
   "outputs": [],
   "source": [
    "# Now capacity of a station must be something similar to the sum of available bikes and available docks"
   ]
  },
  {
   "cell_type": "code",
   "execution_count": 27,
   "id": "de05960d",
   "metadata": {},
   "outputs": [
    {
     "name": "stdout",
     "output_type": "stream",
     "text": [
      "CPU times: user 31.5 ms, sys: 0 ns, total: 31.5 ms\n",
      "Wall time: 30.4 ms\n"
     ]
    }
   ],
   "source": [
    "%%time\n",
    "\n",
    "data[config_year.year]['capacity'] = data[config_year.year].num_bikes_available + data[config_year.year].num_docks_available\n",
    "\n",
    "stations_max_capacity = data[config_year.year].groupby(['station_id'])['capacity'].max().reset_index()\n",
    "\n",
    "# drop capacity \n",
    "data[config_year.year] = data[config_year.year].drop(['capacity'], axis=1)\n",
    "\n",
    "# merge with stations_max_capacity\n",
    "data[config_year.year] = data[config_year.year].merge(stations_max_capacity.copy(), how='left', on=['station_id'])\n"
   ]
  },
  {
   "cell_type": "code",
   "execution_count": 28,
   "id": "1bbb1dae",
   "metadata": {},
   "outputs": [
    {
     "name": "stdout",
     "output_type": "stream",
     "text": [
      "DescribeResult(nobs=3581856, minmax=(0.0, 54.000000000000014), mean=26.893874020264157, variance=34.516234396592594, skewness=0.8775981803887362, kurtosis=5.10355749754719)\n",
      "CPU times: user 749 ms, sys: 0 ns, total: 749 ms\n",
      "Wall time: 2.63 s\n"
     ]
    },
    {
     "data": {
      "text/plain": [
       "count    3.581856e+06\n",
       "mean     2.689387e+01\n",
       "std      5.875052e+00\n",
       "min      0.000000e+00\n",
       "25%      2.400000e+01\n",
       "50%      2.700000e+01\n",
       "75%      2.800000e+01\n",
       "max      5.400000e+01\n",
       "Name: capacity, dtype: float64"
      ]
     },
     "execution_count": 28,
     "metadata": {},
     "output_type": "execute_result"
    }
   ],
   "source": [
    "%%time\n",
    "\n",
    "print(stats.describe(data[config_year.year]['capacity']))\n",
    "data[config_year.year]['capacity'].describe().compute()"
   ]
  },
  {
   "cell_type": "code",
   "execution_count": 29,
   "id": "f744beb7",
   "metadata": {},
   "outputs": [
    {
     "data": {
      "image/png": "[encoded data removed]",
      "text/plain": [
       "<Figure size 1440x720 with 6 Axes>"
      ]
     },
     "metadata": {
      "needs_background": "light"
     },
     "output_type": "display_data"
    },
    {
     "name": "stdout",
     "output_type": "stream",
     "text": [
      "CPU times: user 8.7 s, sys: 326 ms, total: 9.03 s\n",
      "Wall time: 8.54 s\n"
     ]
    }
   ],
   "source": [
    "%%time\n",
    "\n",
    "show_counts(data[config_year.year]['capacity'].compute())"
   ]
  },
  {
   "cell_type": "markdown",
   "id": "86237b11",
   "metadata": {},
   "source": [
    "## find the percentage of docks available"
   ]
  },
  {
   "cell_type": "code",
   "execution_count": 30,
   "id": "896be915",
   "metadata": {},
   "outputs": [
    {
     "name": "stdout",
     "output_type": "stream",
     "text": [
      "CPU times: user 15.7 ms, sys: 0 ns, total: 15.7 ms\n",
      "Wall time: 14.1 ms\n"
     ]
    }
   ],
   "source": [
    "%%time\n",
    "\n",
    "data[config_year.year]['ctx0'] = data[config_year.year].num_docks_available / data[config_year.year].capacity\n"
   ]
  },
  {
   "cell_type": "code",
   "execution_count": 31,
   "id": "52f78540",
   "metadata": {},
   "outputs": [
    {
     "name": "stdout",
     "output_type": "stream",
     "text": [
      "DescribeResult(nobs=3581856, minmax=(nan, nan), mean=nan, variance=nan, skewness=nan, kurtosis=nan)\n",
      "CPU times: user 859 ms, sys: 58.3 ms, total: 917 ms\n",
      "Wall time: 2.75 s\n"
     ]
    },
    {
     "data": {
      "text/plain": [
       "count    3.580548e+06\n",
       "mean     5.817614e-01\n",
       "std      3.297836e-01\n",
       "min      0.000000e+00\n",
       "25%      4.642857e-01\n",
       "50%      7.893519e-01\n",
       "75%      1.000000e+00\n",
       "max      1.000000e+00\n",
       "Name: ctx0, dtype: float64"
      ]
     },
     "execution_count": 31,
     "metadata": {},
     "output_type": "execute_result"
    }
   ],
   "source": [
    "%%time\n",
    "\n",
    "print(stats.describe(data[config_year.year]['ctx0']))\n",
    "data[config_year.year]['ctx0'].describe().compute()"
   ]
  },
  {
   "cell_type": "code",
   "execution_count": 32,
   "id": "9626a4f6",
   "metadata": {},
   "outputs": [
    {
     "data": {
      "image/png": "[encoded data removed]",
      "text/plain": [
       "<Figure size 1440x720 with 6 Axes>"
      ]
     },
     "metadata": {
      "needs_background": "light"
     },
     "output_type": "display_data"
    },
    {
     "name": "stdout",
     "output_type": "stream",
     "text": [
      "CPU times: user 1min 48s, sys: 14.7 s, total: 2min 3s\n",
      "Wall time: 2min\n"
     ]
    }
   ],
   "source": [
    "%%time\n",
    "\n",
    "show_counts(data[config_year.year]['ctx0'].compute())"
   ]
  },
  {
   "cell_type": "markdown",
   "id": "a7e1a1e4",
   "metadata": {},
   "source": [
    "### Generating new columns of past 4 hours"
   ]
  },
  {
   "cell_type": "code",
   "execution_count": 33,
   "id": "0b3dd58e",
   "metadata": {},
   "outputs": [
    {
     "name": "stdout",
     "output_type": "stream",
     "text": [
      "Index(['station_id', 'timestamp', 'ctx0'], dtype='object')\n",
      "Index(['station_id', 'timestamp', 'ctx1'], dtype='object')\n",
      "Index(['station_id', 'timestamp', 'ctx2'], dtype='object')\n",
      "Index(['station_id', 'timestamp', 'ctx3'], dtype='object')\n",
      "Index(['station_id', 'timestamp', 'ctx4'], dtype='object')\n",
      "CPU times: user 209 ms, sys: 6.57 ms, total: 216 ms\n",
      "Wall time: 210 ms\n"
     ]
    }
   ],
   "source": [
    "%%time\n",
    "\n",
    "ctx = data[config_year.year][['station_id', 'timestamp', 'ctx0']].copy()\n",
    "# ctx = ctx.rename(columns={'num_docks_available': 'ctx0'})\n",
    "print(ctx.columns)\n",
    "\n",
    "for i in range(1,5): \n",
    "    ctx = ctx.rename(columns={f'ctx{i-1}': f'ctx{i}'})\n",
    "    print(ctx.columns)\n",
    "    \n",
    "    ctx.timestamp = ctx.timestamp + 3600 \n",
    "    data[config_year.year] = data[config_year.year].merge(ctx.copy(), how='left', on=['station_id','timestamp'])\n",
    "    \n",
    "    cond = data[config_year.year][f'ctx{i}'].isna()\n",
    "    data[config_year.year][f'ctx{i}'] = data[config_year.year][f'ctx{i}'].mask(cond, data[config_year.year][f'ctx{i-1}'])\n"
   ]
  },
  {
   "cell_type": "code",
   "execution_count": 34,
   "id": "d7c2d60a",
   "metadata": {},
   "outputs": [
    {
     "data": {
      "text/plain": [
       "Index(['station_id', 'num_docks_available', 'num_bikes_available', 'status',\n",
       "       'timestamp', 'is_installed', 'is_renting', 'is_returning',\n",
       "       'is_charging_station', 'num_bikes_available_types.mechanical',\n",
       "       'num_bikes_available_types.ebike', 'year', 'month', 'dayofweek', 'day',\n",
       "       'dayofyear', 'hour', 'capacity', 'ctx0', 'ctx1', 'ctx2', 'ctx3',\n",
       "       'ctx4'],\n",
       "      dtype='object')"
      ]
     },
     "execution_count": 34,
     "metadata": {},
     "output_type": "execute_result"
    }
   ],
   "source": [
    "data[config_year.year].columns"
   ]
  },
  {
   "cell_type": "code",
   "execution_count": 35,
   "id": "459e7ab1",
   "metadata": {
    "scrolled": true
   },
   "outputs": [
    {
     "name": "stdout",
     "output_type": "stream",
     "text": [
      "CPU times: user 10.1 s, sys: 325 ms, total: 10.5 s\n",
      "Wall time: 21 s\n"
     ]
    },
    {
     "data": {
      "text/plain": [
       "{'ctx0': 0.03634491322651968,\n",
       " 'ctx1': 0.03634491322651968,\n",
       " 'ctx2': 0.03634491322651968,\n",
       " 'ctx3': 0.03634491322651968,\n",
       " 'ctx4': 0.03634491322651968}"
      ]
     },
     "execution_count": 35,
     "metadata": {},
     "output_type": "execute_result"
    }
   ],
   "source": [
    "%%time\n",
    "\n",
    "get_features_nans(data[config_year.year])"
   ]
  },
  {
   "cell_type": "code",
   "execution_count": 36,
   "id": "1270f3df",
   "metadata": {},
   "outputs": [
    {
     "name": "stdout",
     "output_type": "stream",
     "text": [
      "checkpoint saved.\n",
      "CPU times: user 3.26 s, sys: 232 ms, total: 3.49 s\n",
      "Wall time: 28 s\n"
     ]
    }
   ],
   "source": [
    "%%time\n",
    "\n",
    "save_checkpoint(data[config_year.year], config_year)\n",
    "\n",
    "# checkpoint saved."
   ]
  },
  {
   "cell_type": "code",
   "execution_count": null,
   "id": "6d081b9e",
   "metadata": {},
   "outputs": [],
   "source": []
  }
 ],
 "metadata": {
  "kernelspec": {
   "display_name": "Python 3",
   "language": "python",
   "name": "python3"
  },
  "language_info": {
   "codemirror_mode": {
    "name": "ipython",
    "version": 3
   },
   "file_extension": ".py",
   "mimetype": "text/x-python",
   "name": "python",
   "nbconvert_exporter": "python",
   "pygments_lexer": "ipython3",
   "version": "3.6.13"
  }
 },
 "nbformat": 4,
 "nbformat_minor": 5
}
