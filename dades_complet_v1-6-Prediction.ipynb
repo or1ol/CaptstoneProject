{
 "cells": [
  {
   "cell_type": "markdown",
   "id": "da37d8d8",
   "metadata": {},
   "source": [
    "# Import"
   ]
  },
  {
   "cell_type": "code",
   "execution_count": 1,
   "id": "886f34aa",
   "metadata": {},
   "outputs": [
    {
     "data": {
      "text/html": [
       "<style>.container { width:80% !important; }</style>"
      ],
      "text/plain": [
       "<IPython.core.display.HTML object>"
      ]
     },
     "metadata": {},
     "output_type": "display_data"
    }
   ],
   "source": [
    "from IPython.display import display, HTML\n",
    "display(HTML(\"<style>.container { width:80% !important; }</style>\"))\n",
    "\n",
    "import os\n",
    "import time\n",
    "# Python ≥3.5 is required\n",
    "import sys\n",
    "assert sys.version_info >= (3, 5)\n",
    "\n",
    "# Scikit-Learn ≥0.20 is required\n",
    "import sklearn\n",
    "assert sklearn.__version__ >= \"0.20\"\n",
    "\n",
    "from sklearn.ensemble import RandomForestRegressor\n",
    "from sklearn.ensemble import GradientBoostingRegressor\n",
    "from sklearn.model_selection import cross_val_score\n",
    "from sklearn.metrics import mean_squared_error, r2_score\n",
    "from sklearn.metrics import mean_absolute_error\n",
    "\n",
    "import pandas as pd\n",
    "import numpy as np\n",
    "pd.set_option('display.max_columns', None)\n",
    "\n",
    "# To plot pretty figures\n",
    "%matplotlib inline\n",
    "import matplotlib as mpl\n",
    "import matplotlib.pyplot as plt\n",
    "\n",
    "import scipy.stats as stats\n",
    "\n",
    "import seaborn as sns\n",
    "\n",
    "from datetime import datetime\n",
    "\n",
    "import re\n",
    "import random\n",
    "\n",
    "from tqdm.notebook import tqdm\n",
    "\n",
    "import dask.dataframe as dd\n",
    "from dask.distributed import LocalCluster, Client\n",
    "\n",
    "sys.path.insert(0, 'tools/')\n",
    "\n",
    "from tools import * "
   ]
  },
  {
   "cell_type": "code",
   "execution_count": 2,
   "id": "c1e0195a",
   "metadata": {},
   "outputs": [],
   "source": [
    "import warnings\n",
    "warnings.simplefilter('ignore')"
   ]
  },
  {
   "cell_type": "code",
   "execution_count": 3,
   "id": "d411c3ed",
   "metadata": {},
   "outputs": [],
   "source": [
    "from sklearn.model_selection import train_test_split\n",
    "from sklearn.pipeline import Pipeline\n",
    "from sklearn.preprocessing import FunctionTransformer\n",
    "from sklearn.impute import SimpleImputer\n",
    "from sklearn.preprocessing import OneHotEncoder\n",
    "from sklearn.preprocessing import OrdinalEncoder\n",
    "from sklearn.model_selection import cross_val_score\n",
    "\n",
    "from sklearn.compose import ColumnTransformer\n",
    "from sklearn.preprocessing import StandardScaler\n",
    "\n",
    "from sklearn import neighbors\n",
    "from sklearn import linear_model\n",
    "from sklearn.linear_model import LinearRegression\n",
    "from sklearn.ensemble import GradientBoostingRegressor\n",
    "from sklearn.ensemble import RandomForestRegressor\n",
    "\n",
    "from sklearn.model_selection import GridSearchCV\n",
    "from sklearn.model_selection import validation_curve\n",
    "\n",
    "from sklearn.metrics import mean_squared_error, r2_score\n",
    "from sklearn.metrics import mean_absolute_error"
   ]
  },
  {
   "cell_type": "markdown",
   "id": "76fc5410",
   "metadata": {},
   "source": [
    "# Read files"
   ]
  },
  {
   "cell_type": "code",
   "execution_count": 4,
   "id": "85969754",
   "metadata": {},
   "outputs": [
    {
     "name": "stdout",
     "output_type": "stream",
     "text": [
      "CPU times: user 34.2 s, sys: 3.1 s, total: 37.3 s\n",
      "Wall time: 37.3 s\n"
     ]
    }
   ],
   "source": [
    "%%time\n",
    "\n",
    "X_train = pd.read_csv('dades/processed/training_data.csv', index_col='index')\n",
    "# y_train = pd.read_csv('dades/processed/training_label.csv', index_col='index')\n",
    "X_train = X_train.reset_index(drop=True)\n",
    "y_train = X_train.ctx0.copy()\n",
    "#X_train.drop(columns=['ctx0'], axis=1, inplace=True)\n",
    "\n",
    "X_val1 = pd.read_csv('dades/processed/validation_data.csv', index_col='index')\n",
    "# y_val1 = pd.read_csv('dades/processed/validation_label.csv', index_col='index')\n",
    "X_val1 = X_val1.reset_index(drop=True)\n",
    "y_val1 = X_val1.ctx0.copy()\n",
    "#X_val1.drop(columns=['ctx0'], axis=1, inplace=True)\n",
    "\n",
    "X_val2 = pd.read_csv('dades/processed/testing_data.csv', index_col='index')\n",
    "# y_val2 = pd.read_csv('dades/processed/testing_label.csv', index_col='index')\n",
    "X_val2 = X_val2.reset_index(drop=True)\n",
    "y_val2 = X_val2.ctx0.copy()\n",
    "#X_val2.drop(columns=['ctx0'], axis=1, inplace=True)\n"
   ]
  },
  {
   "cell_type": "code",
   "execution_count": 5,
   "id": "631e1a3f",
   "metadata": {},
   "outputs": [],
   "source": [
    "cat_y_train = ((y_train.copy()*100)/1).round()/100\n",
    "cat_y_val1 = ((y_val1.copy()*100)/1).round()/100\n",
    "cat_y_val2 = ((y_val2.copy()*100)/1).round()/100"
   ]
  },
  {
   "cell_type": "code",
   "execution_count": 6,
   "id": "92552898",
   "metadata": {},
   "outputs": [],
   "source": [
    "month = X_train.month.unique().tolist()"
   ]
  },
  {
   "cell_type": "markdown",
   "id": "da9dfc01",
   "metadata": {},
   "source": [
    "# Run pipeline"
   ]
  },
  {
   "cell_type": "code",
   "execution_count": 7,
   "id": "48c1ab6e",
   "metadata": {},
   "outputs": [
    {
     "data": {
      "text/plain": [
       "Index(['station_id', 'year', 'month', 'dayofweek', 'day', 'dayofyear', 'hour',\n",
       "       'capacity', 'ctx0', 'ctx1', 'ctx2', 'ctx3', 'ctx4', 'festius',\n",
       "       'festius_sun', 'festius_sun_sat', 'weekend', 'VALOR_TM_D5',\n",
       "       'VALOR_TX_D5', 'VALOR_TN_D5', 'VALOR_HRM_D5', 'VALOR_PPT_D5',\n",
       "       'VALOR_PM_D5', 'VALOR_RS24h_D5', 'VALOR_VVM10_D5', 'VALOR_DVM10_D5',\n",
       "       'VALOR_VVX10_D5', 'VALOR_DVVX10_D5', 'VALOR_HRX_D5', 'VALOR_HRN_D5',\n",
       "       'VALOR_PX_D5', 'VALOR_PN_D5', 'VALOR_TM_X2', 'VALOR_TX_X2',\n",
       "       'VALOR_TN_X2', 'VALOR_HRM_X2', 'VALOR_HRX_X2', 'VALOR_HRN_X2',\n",
       "       'VALOR_TM_X4', 'VALOR_TX_X4', 'VALOR_TN_X4', 'VALOR_HRM_X4',\n",
       "       'VALOR_PPT_X4', 'VALOR_PM_X4', 'VALOR_RS24h_X4', 'VALOR_VVM10_X4',\n",
       "       'VALOR_DVM10_X4', 'VALOR_VVX10_X4', 'VALOR_DVVX10_X4', 'VALOR_HRX_X4',\n",
       "       'VALOR_HRN_X4', 'VALOR_PX_X4', 'VALOR_PN_X4', 'VALOR_TM_X8',\n",
       "       'VALOR_TX_X8', 'VALOR_TN_X8', 'VALOR_HRM_X8', 'VALOR_PPT_X8',\n",
       "       'VALOR_PM_X8', 'VALOR_RS24h_X8', 'VALOR_VVM10_X8', 'VALOR_DVM10_X8',\n",
       "       'VALOR_VVX10_X8', 'VALOR_DVVX10_X8', 'VALOR_HRX_X8', 'VALOR_HRN_X8',\n",
       "       'VALOR_PX_X8', 'VALOR_PN_X8'],\n",
       "      dtype='object')"
      ]
     },
     "execution_count": 7,
     "metadata": {},
     "output_type": "execute_result"
    }
   ],
   "source": [
    "X_train.columns"
   ]
  },
  {
   "cell_type": "raw",
   "id": "57d653da",
   "metadata": {
    "scrolled": true
   },
   "source": [
    "%%time \n",
    "\n",
    "correlations = np.abs(\n",
    "    X_train.corr(method='pearson').ctx0\n",
    ").sort_values(ascending=False)\n",
    "\n",
    "# num_docks_available                     0.880782\n",
    "# timestamp                               0.024289\n",
    "# num_bikes_available_types.ebike        -0.393887\n",
    "# num_bikes_available_types.mechanical   -0.755995\n",
    "# num_bikes_available                    -0.865541\n",
    "# is_returning                            0.006442\n",
    "# is_renting                              0.006442\n",
    "# status                                  0.006277\n",
    "\n",
    "correlations.to_dict()"
   ]
  },
  {
   "cell_type": "raw",
   "id": "53994bcf",
   "metadata": {},
   "source": [
    "columns_meteo = correlations.index[['VALOR' in i for i in correlations.index]].to_list()"
   ]
  },
  {
   "cell_type": "code",
   "execution_count": 8,
   "id": "990d43cd",
   "metadata": {},
   "outputs": [],
   "source": [
    "columns_meteo = ['VALOR_TN_X4','VALOR_TM_X4', 'VALOR_TX_X4', 'VALOR_PPT_X4']\n",
    "\n",
    "class Config:\n",
    "    num_attribs0 = ['year', 'capacity', 'ctx1', 'ctx2', 'ctx3', 'ctx4'] + columns_meteo\n",
    "    cat_attribs0 = ['month', 'dayofyear', 'day', 'hour']\n",
    "    cat_attribs1 = ['station_id'] # dayofweek\n",
    "    gen_attribs0 = ['festius_sun', 'weekend']\n",
    "    target_col = ['ctx0']\n",
    "\n",
    "    seed=42\n",
    "\n",
    "def seed_everything(seed=42):\n",
    "    random.seed(seed)\n",
    "    os.environ['PYTHONHASHSEED'] = str(seed)\n",
    "    np.random.seed(seed)\n",
    "    "
   ]
  },
  {
   "cell_type": "code",
   "execution_count": 9,
   "id": "54e6aa5f",
   "metadata": {},
   "outputs": [],
   "source": [
    "config=Config()\n",
    "seed_everything(config.seed)"
   ]
  },
  {
   "cell_type": "code",
   "execution_count": 10,
   "id": "ae0c692a",
   "metadata": {},
   "outputs": [],
   "source": [
    "def build_preprocessor(config):\n",
    "    num_attribs0 = config.num_attribs0\n",
    "    cat_attribs0 = config.cat_attribs0\n",
    "    cat_attribs1 = config.cat_attribs1\n",
    "    gen_attribs0 = config.gen_attribs0\n",
    "\n",
    "    num_transformer0 = Pipeline(steps=[\n",
    "        (\"imputer\", SimpleImputer(strategy=\"mean\")),\n",
    "        ('std_scaler', (StandardScaler())),\n",
    "    ])\n",
    "\n",
    "    categorical_transformer0 = Pipeline(steps=[\n",
    "        (\"imputer\", SimpleImputer(strategy=\"constant\",fill_value=0)),\n",
    "        ('ordinal_encoder', (OrdinalEncoder())),\n",
    "    ])\n",
    "    \n",
    "    categorical_transformer1 = Pipeline(steps=[\n",
    "        (\"imputer\", SimpleImputer(strategy=\"constant\",fill_value=0)),\n",
    "        ('one_hot_encoder', (OneHotEncoder(handle_unknown='ignore'))),\n",
    "    ])\n",
    "    \n",
    "    generic_transformer0 = Pipeline([\n",
    "        (\"imputer\", SimpleImputer(strategy=\"constant\",fill_value=0)),\n",
    "    ])\n",
    "    \n",
    "    preprocessor = ColumnTransformer(\n",
    "        transformers=[\n",
    "            (\"num0\", num_transformer0, num_attribs0),\n",
    "            (\"gen1\", generic_transformer0, gen_attribs0),\n",
    "            (\"cat0\", categorical_transformer0, cat_attribs0),\n",
    "            (\"cat1\", categorical_transformer1, cat_attribs1),\n",
    "        ],\n",
    "        remainder=\"drop\"\n",
    "    )\n",
    "    \n",
    "    return preprocessor"
   ]
  },
  {
   "cell_type": "code",
   "execution_count": 11,
   "id": "f5d5d893",
   "metadata": {},
   "outputs": [
    {
     "name": "stdout",
     "output_type": "stream",
     "text": [
      "CPU times: user 68 µs, sys: 11 µs, total: 79 µs\n",
      "Wall time: 85.4 µs\n"
     ]
    }
   ],
   "source": [
    "%%time \n",
    "\n",
    "full_pipeline = build_preprocessor(config)"
   ]
  },
  {
   "cell_type": "code",
   "execution_count": 12,
   "id": "28a09448",
   "metadata": {},
   "outputs": [
    {
     "data": {
      "text/html": [
       "<style>#sk-container-id-1 {color: black;background-color: white;}#sk-container-id-1 pre{padding: 0;}#sk-container-id-1 div.sk-toggleable {background-color: white;}#sk-container-id-1 label.sk-toggleable__label {cursor: pointer;display: block;width: 100%;margin-bottom: 0;padding: 0.3em;box-sizing: border-box;text-align: center;}#sk-container-id-1 label.sk-toggleable__label-arrow:before {content: \"▸\";float: left;margin-right: 0.25em;color: #696969;}#sk-container-id-1 label.sk-toggleable__label-arrow:hover:before {color: black;}#sk-container-id-1 div.sk-estimator:hover label.sk-toggleable__label-arrow:before {color: black;}#sk-container-id-1 div.sk-toggleable__content {max-height: 0;max-width: 0;overflow: hidden;text-align: left;background-color: #f0f8ff;}#sk-container-id-1 div.sk-toggleable__content pre {margin: 0.2em;color: black;border-radius: 0.25em;background-color: #f0f8ff;}#sk-container-id-1 input.sk-toggleable__control:checked~div.sk-toggleable__content {max-height: 200px;max-width: 100%;overflow: auto;}#sk-container-id-1 input.sk-toggleable__control:checked~label.sk-toggleable__label-arrow:before {content: \"▾\";}#sk-container-id-1 div.sk-estimator input.sk-toggleable__control:checked~label.sk-toggleable__label {background-color: #d4ebff;}#sk-container-id-1 div.sk-label input.sk-toggleable__control:checked~label.sk-toggleable__label {background-color: #d4ebff;}#sk-container-id-1 input.sk-hidden--visually {border: 0;clip: rect(1px 1px 1px 1px);clip: rect(1px, 1px, 1px, 1px);height: 1px;margin: -1px;overflow: hidden;padding: 0;position: absolute;width: 1px;}#sk-container-id-1 div.sk-estimator {font-family: monospace;background-color: #f0f8ff;border: 1px dotted black;border-radius: 0.25em;box-sizing: border-box;margin-bottom: 0.5em;}#sk-container-id-1 div.sk-estimator:hover {background-color: #d4ebff;}#sk-container-id-1 div.sk-parallel-item::after {content: \"\";width: 100%;border-bottom: 1px solid gray;flex-grow: 1;}#sk-container-id-1 div.sk-label:hover label.sk-toggleable__label {background-color: #d4ebff;}#sk-container-id-1 div.sk-serial::before {content: \"\";position: absolute;border-left: 1px solid gray;box-sizing: border-box;top: 0;bottom: 0;left: 50%;z-index: 0;}#sk-container-id-1 div.sk-serial {display: flex;flex-direction: column;align-items: center;background-color: white;padding-right: 0.2em;padding-left: 0.2em;position: relative;}#sk-container-id-1 div.sk-item {position: relative;z-index: 1;}#sk-container-id-1 div.sk-parallel {display: flex;align-items: stretch;justify-content: center;background-color: white;position: relative;}#sk-container-id-1 div.sk-item::before, #sk-container-id-1 div.sk-parallel-item::before {content: \"\";position: absolute;border-left: 1px solid gray;box-sizing: border-box;top: 0;bottom: 0;left: 50%;z-index: -1;}#sk-container-id-1 div.sk-parallel-item {display: flex;flex-direction: column;z-index: 1;position: relative;background-color: white;}#sk-container-id-1 div.sk-parallel-item:first-child::after {align-self: flex-end;width: 50%;}#sk-container-id-1 div.sk-parallel-item:last-child::after {align-self: flex-start;width: 50%;}#sk-container-id-1 div.sk-parallel-item:only-child::after {width: 0;}#sk-container-id-1 div.sk-dashed-wrapped {border: 1px dashed gray;margin: 0 0.4em 0.5em 0.4em;box-sizing: border-box;padding-bottom: 0.4em;background-color: white;}#sk-container-id-1 div.sk-label label {font-family: monospace;font-weight: bold;display: inline-block;line-height: 1.2em;}#sk-container-id-1 div.sk-label-container {text-align: center;}#sk-container-id-1 div.sk-container {/* jupyter's `normalize.less` sets `[hidden] { display: none; }` but bootstrap.min.css set `[hidden] { display: none !important; }` so we also need the `!important` here to be able to override the default hidden behavior on the sphinx rendered scikit-learn.org. See: https://github.com/scikit-learn/scikit-learn/issues/21755 */display: inline-block !important;position: relative;}#sk-container-id-1 div.sk-text-repr-fallback {display: none;}</style><div id=\"sk-container-id-1\" class=\"sk-top-container\"><div class=\"sk-text-repr-fallback\"><pre>ColumnTransformer(transformers=[(&#x27;num0&#x27;,\n",
       "                                 Pipeline(steps=[(&#x27;imputer&#x27;, SimpleImputer()),\n",
       "                                                 (&#x27;std_scaler&#x27;,\n",
       "                                                  StandardScaler())]),\n",
       "                                 [&#x27;year&#x27;, &#x27;capacity&#x27;, &#x27;ctx1&#x27;, &#x27;ctx2&#x27;, &#x27;ctx3&#x27;,\n",
       "                                  &#x27;ctx4&#x27;, &#x27;VALOR_TN_X4&#x27;, &#x27;VALOR_TM_X4&#x27;,\n",
       "                                  &#x27;VALOR_TX_X4&#x27;, &#x27;VALOR_PPT_X4&#x27;]),\n",
       "                                (&#x27;gen1&#x27;,\n",
       "                                 Pipeline(steps=[(&#x27;imputer&#x27;,\n",
       "                                                  SimpleImputer(fill_value=0,\n",
       "                                                                strategy=&#x27;constant&#x27;))]),\n",
       "                                 [&#x27;festius_sun&#x27;, &#x27;weekend&#x27;]),\n",
       "                                (&#x27;cat0&#x27;,\n",
       "                                 Pipeline(steps=[(&#x27;imputer&#x27;,\n",
       "                                                  SimpleImputer(fill_value=0,\n",
       "                                                                strategy=&#x27;constant&#x27;)),\n",
       "                                                 (&#x27;ordinal_encoder&#x27;,\n",
       "                                                  OrdinalEncoder())]),\n",
       "                                 [&#x27;month&#x27;, &#x27;dayofyear&#x27;, &#x27;day&#x27;, &#x27;hour&#x27;]),\n",
       "                                (&#x27;cat1&#x27;,\n",
       "                                 Pipeline(steps=[(&#x27;imputer&#x27;,\n",
       "                                                  SimpleImputer(fill_value=0,\n",
       "                                                                strategy=&#x27;constant&#x27;)),\n",
       "                                                 (&#x27;one_hot_encoder&#x27;,\n",
       "                                                  OneHotEncoder(handle_unknown=&#x27;ignore&#x27;))]),\n",
       "                                 [&#x27;station_id&#x27;])])</pre><b>In a Jupyter environment, please rerun this cell to show the HTML representation or trust the notebook. <br />On GitHub, the HTML representation is unable to render, please try loading this page with nbviewer.org.</b></div><div class=\"sk-container\" hidden><div class=\"sk-item sk-dashed-wrapped\"><div class=\"sk-label-container\"><div class=\"sk-label sk-toggleable\"><input class=\"sk-toggleable__control sk-hidden--visually\" id=\"sk-estimator-id-1\" type=\"checkbox\" ><label for=\"sk-estimator-id-1\" class=\"sk-toggleable__label sk-toggleable__label-arrow\">ColumnTransformer</label><div class=\"sk-toggleable__content\"><pre>ColumnTransformer(transformers=[(&#x27;num0&#x27;,\n",
       "                                 Pipeline(steps=[(&#x27;imputer&#x27;, SimpleImputer()),\n",
       "                                                 (&#x27;std_scaler&#x27;,\n",
       "                                                  StandardScaler())]),\n",
       "                                 [&#x27;year&#x27;, &#x27;capacity&#x27;, &#x27;ctx1&#x27;, &#x27;ctx2&#x27;, &#x27;ctx3&#x27;,\n",
       "                                  &#x27;ctx4&#x27;, &#x27;VALOR_TN_X4&#x27;, &#x27;VALOR_TM_X4&#x27;,\n",
       "                                  &#x27;VALOR_TX_X4&#x27;, &#x27;VALOR_PPT_X4&#x27;]),\n",
       "                                (&#x27;gen1&#x27;,\n",
       "                                 Pipeline(steps=[(&#x27;imputer&#x27;,\n",
       "                                                  SimpleImputer(fill_value=0,\n",
       "                                                                strategy=&#x27;constant&#x27;))]),\n",
       "                                 [&#x27;festius_sun&#x27;, &#x27;weekend&#x27;]),\n",
       "                                (&#x27;cat0&#x27;,\n",
       "                                 Pipeline(steps=[(&#x27;imputer&#x27;,\n",
       "                                                  SimpleImputer(fill_value=0,\n",
       "                                                                strategy=&#x27;constant&#x27;)),\n",
       "                                                 (&#x27;ordinal_encoder&#x27;,\n",
       "                                                  OrdinalEncoder())]),\n",
       "                                 [&#x27;month&#x27;, &#x27;dayofyear&#x27;, &#x27;day&#x27;, &#x27;hour&#x27;]),\n",
       "                                (&#x27;cat1&#x27;,\n",
       "                                 Pipeline(steps=[(&#x27;imputer&#x27;,\n",
       "                                                  SimpleImputer(fill_value=0,\n",
       "                                                                strategy=&#x27;constant&#x27;)),\n",
       "                                                 (&#x27;one_hot_encoder&#x27;,\n",
       "                                                  OneHotEncoder(handle_unknown=&#x27;ignore&#x27;))]),\n",
       "                                 [&#x27;station_id&#x27;])])</pre></div></div></div><div class=\"sk-parallel\"><div class=\"sk-parallel-item\"><div class=\"sk-item\"><div class=\"sk-label-container\"><div class=\"sk-label sk-toggleable\"><input class=\"sk-toggleable__control sk-hidden--visually\" id=\"sk-estimator-id-2\" type=\"checkbox\" ><label for=\"sk-estimator-id-2\" class=\"sk-toggleable__label sk-toggleable__label-arrow\">num0</label><div class=\"sk-toggleable__content\"><pre>[&#x27;year&#x27;, &#x27;capacity&#x27;, &#x27;ctx1&#x27;, &#x27;ctx2&#x27;, &#x27;ctx3&#x27;, &#x27;ctx4&#x27;, &#x27;VALOR_TN_X4&#x27;, &#x27;VALOR_TM_X4&#x27;, &#x27;VALOR_TX_X4&#x27;, &#x27;VALOR_PPT_X4&#x27;]</pre></div></div></div><div class=\"sk-serial\"><div class=\"sk-item\"><div class=\"sk-serial\"><div class=\"sk-item\"><div class=\"sk-estimator sk-toggleable\"><input class=\"sk-toggleable__control sk-hidden--visually\" id=\"sk-estimator-id-3\" type=\"checkbox\" ><label for=\"sk-estimator-id-3\" class=\"sk-toggleable__label sk-toggleable__label-arrow\">SimpleImputer</label><div class=\"sk-toggleable__content\"><pre>SimpleImputer()</pre></div></div></div><div class=\"sk-item\"><div class=\"sk-estimator sk-toggleable\"><input class=\"sk-toggleable__control sk-hidden--visually\" id=\"sk-estimator-id-4\" type=\"checkbox\" ><label for=\"sk-estimator-id-4\" class=\"sk-toggleable__label sk-toggleable__label-arrow\">StandardScaler</label><div class=\"sk-toggleable__content\"><pre>StandardScaler()</pre></div></div></div></div></div></div></div></div><div class=\"sk-parallel-item\"><div class=\"sk-item\"><div class=\"sk-label-container\"><div class=\"sk-label sk-toggleable\"><input class=\"sk-toggleable__control sk-hidden--visually\" id=\"sk-estimator-id-5\" type=\"checkbox\" ><label for=\"sk-estimator-id-5\" class=\"sk-toggleable__label sk-toggleable__label-arrow\">gen1</label><div class=\"sk-toggleable__content\"><pre>[&#x27;festius_sun&#x27;, &#x27;weekend&#x27;]</pre></div></div></div><div class=\"sk-serial\"><div class=\"sk-item\"><div class=\"sk-serial\"><div class=\"sk-item\"><div class=\"sk-estimator sk-toggleable\"><input class=\"sk-toggleable__control sk-hidden--visually\" id=\"sk-estimator-id-6\" type=\"checkbox\" ><label for=\"sk-estimator-id-6\" class=\"sk-toggleable__label sk-toggleable__label-arrow\">SimpleImputer</label><div class=\"sk-toggleable__content\"><pre>SimpleImputer(fill_value=0, strategy=&#x27;constant&#x27;)</pre></div></div></div></div></div></div></div></div><div class=\"sk-parallel-item\"><div class=\"sk-item\"><div class=\"sk-label-container\"><div class=\"sk-label sk-toggleable\"><input class=\"sk-toggleable__control sk-hidden--visually\" id=\"sk-estimator-id-7\" type=\"checkbox\" ><label for=\"sk-estimator-id-7\" class=\"sk-toggleable__label sk-toggleable__label-arrow\">cat0</label><div class=\"sk-toggleable__content\"><pre>[&#x27;month&#x27;, &#x27;dayofyear&#x27;, &#x27;day&#x27;, &#x27;hour&#x27;]</pre></div></div></div><div class=\"sk-serial\"><div class=\"sk-item\"><div class=\"sk-serial\"><div class=\"sk-item\"><div class=\"sk-estimator sk-toggleable\"><input class=\"sk-toggleable__control sk-hidden--visually\" id=\"sk-estimator-id-8\" type=\"checkbox\" ><label for=\"sk-estimator-id-8\" class=\"sk-toggleable__label sk-toggleable__label-arrow\">SimpleImputer</label><div class=\"sk-toggleable__content\"><pre>SimpleImputer(fill_value=0, strategy=&#x27;constant&#x27;)</pre></div></div></div><div class=\"sk-item\"><div class=\"sk-estimator sk-toggleable\"><input class=\"sk-toggleable__control sk-hidden--visually\" id=\"sk-estimator-id-9\" type=\"checkbox\" ><label for=\"sk-estimator-id-9\" class=\"sk-toggleable__label sk-toggleable__label-arrow\">OrdinalEncoder</label><div class=\"sk-toggleable__content\"><pre>OrdinalEncoder()</pre></div></div></div></div></div></div></div></div><div class=\"sk-parallel-item\"><div class=\"sk-item\"><div class=\"sk-label-container\"><div class=\"sk-label sk-toggleable\"><input class=\"sk-toggleable__control sk-hidden--visually\" id=\"sk-estimator-id-10\" type=\"checkbox\" ><label for=\"sk-estimator-id-10\" class=\"sk-toggleable__label sk-toggleable__label-arrow\">cat1</label><div class=\"sk-toggleable__content\"><pre>[&#x27;station_id&#x27;]</pre></div></div></div><div class=\"sk-serial\"><div class=\"sk-item\"><div class=\"sk-serial\"><div class=\"sk-item\"><div class=\"sk-estimator sk-toggleable\"><input class=\"sk-toggleable__control sk-hidden--visually\" id=\"sk-estimator-id-11\" type=\"checkbox\" ><label for=\"sk-estimator-id-11\" class=\"sk-toggleable__label sk-toggleable__label-arrow\">SimpleImputer</label><div class=\"sk-toggleable__content\"><pre>SimpleImputer(fill_value=0, strategy=&#x27;constant&#x27;)</pre></div></div></div><div class=\"sk-item\"><div class=\"sk-estimator sk-toggleable\"><input class=\"sk-toggleable__control sk-hidden--visually\" id=\"sk-estimator-id-12\" type=\"checkbox\" ><label for=\"sk-estimator-id-12\" class=\"sk-toggleable__label sk-toggleable__label-arrow\">OneHotEncoder</label><div class=\"sk-toggleable__content\"><pre>OneHotEncoder(handle_unknown=&#x27;ignore&#x27;)</pre></div></div></div></div></div></div></div></div></div></div></div></div>"
      ],
      "text/plain": [
       "ColumnTransformer(transformers=[('num0',\n",
       "                                 Pipeline(steps=[('imputer', SimpleImputer()),\n",
       "                                                 ('std_scaler',\n",
       "                                                  StandardScaler())]),\n",
       "                                 ['year', 'capacity', 'ctx1', 'ctx2', 'ctx3',\n",
       "                                  'ctx4', 'VALOR_TN_X4', 'VALOR_TM_X4',\n",
       "                                  'VALOR_TX_X4', 'VALOR_PPT_X4']),\n",
       "                                ('gen1',\n",
       "                                 Pipeline(steps=[('imputer',\n",
       "                                                  SimpleImputer(fill_value=0,\n",
       "                                                                strategy='constant'))]),\n",
       "                                 ['festius_sun', 'weekend']),\n",
       "                                ('cat0',\n",
       "                                 Pipeline(steps=[('imputer',\n",
       "                                                  SimpleImputer(fill_value=0,\n",
       "                                                                strategy='constant')),\n",
       "                                                 ('ordinal_encoder',\n",
       "                                                  OrdinalEncoder())]),\n",
       "                                 ['month', 'dayofyear', 'day', 'hour']),\n",
       "                                ('cat1',\n",
       "                                 Pipeline(steps=[('imputer',\n",
       "                                                  SimpleImputer(fill_value=0,\n",
       "                                                                strategy='constant')),\n",
       "                                                 ('one_hot_encoder',\n",
       "                                                  OneHotEncoder(handle_unknown='ignore'))]),\n",
       "                                 ['station_id'])])"
      ]
     },
     "execution_count": 12,
     "metadata": {},
     "output_type": "execute_result"
    }
   ],
   "source": [
    "full_pipeline.fit(X_train)"
   ]
  },
  {
   "cell_type": "code",
   "execution_count": 13,
   "id": "b79705b8",
   "metadata": {},
   "outputs": [
    {
     "name": "stdout",
     "output_type": "stream",
     "text": [
      "x_train_prepared: (1693038, 424) y_train:  (6993034,)\n",
      "x_test_prepared: (219387, 424) y_test:  (899816,)\n",
      "x_test_prepared: (1000367, 424) y_test:  (1694015,)\n"
     ]
    }
   ],
   "source": [
    "X_train_prepared = full_pipeline.transform(X_train[X_train.month.isin([2, 3, 4])].copy())\n",
    "X_val_prepared1 = full_pipeline.transform(X_val1[X_val1.month.isin([2, 3, 4])].copy())\n",
    "X_val_prepared2 = full_pipeline.transform(X_val2[X_val2.month.isin([2, 3, 4])].copy())\n",
    "\n",
    "cat_y_train_prepared = cat_y_train[X_train.month.isin([2, 3, 4])].copy()\n",
    "cat_y_val1_prepared = cat_y_val1[X_val1.month.isin([2, 3, 4])].copy()\n",
    "cat_y_val2_prepared = cat_y_val2[X_val2.month.isin([2, 3, 4])].copy()\n",
    "\n",
    "print(\"x_train_prepared:\",X_train_prepared.shape,\"y_train: \",y_train.shape)\n",
    "print(\"x_test_prepared:\",X_val_prepared1.shape,\"y_test: \",y_val1.shape)\n",
    "print(\"x_test_prepared:\",X_val_prepared2.shape,\"y_test: \",y_val2.shape)"
   ]
  },
  {
   "cell_type": "markdown",
   "id": "7f8f1ba6",
   "metadata": {},
   "source": [
    "# Predicción______________________________\n",
    "\n",
    "a) Regresión lineal: relación lineal entre las variables de entrada y la variable de salida. \n",
    "\n",
    "b) Regresión Redes Neuronales (RNN -redes neuronales recurrentes-): pueden capturar relaciones no lineales entre las variables de entrada y salida."
   ]
  },
  {
   "cell_type": "markdown",
   "id": "313dac49",
   "metadata": {},
   "source": [
    "## LinearRegression"
   ]
  },
  {
   "cell_type": "code",
   "execution_count": 14,
   "id": "2b83993e",
   "metadata": {
    "scrolled": true
   },
   "outputs": [
    {
     "data": {
      "application/vnd.jupyter.widget-view+json": {
       "model_id": "0c216ffce7d14d94905c2f36c57d4640",
       "version_major": 2,
       "version_minor": 0
      },
      "text/plain": [
       "  0%|          | 0/12 [00:00<?, ?months/s]"
      ]
     },
     "metadata": {},
     "output_type": "display_data"
    },
    {
     "name": "stdout",
     "output_type": "stream",
     "text": [
      "///////////////////////////////////////////////////////////\n",
      "Month 11-12-1\n",
      "x_train_prepared: (1776741, 424) y_train:  (6993034,)\n",
      "x_test_prepared: (225462, 424) y_test:  (899816,)\n",
      "///////////////////////////////////////////////////////////\n",
      "[mse_t     0.012477\n",
      "rmse_t    0.111701\n",
      "mae_t     0.072535\n",
      "r2_t      0.846247\n",
      "dtype: object, mse_t     0.009103\n",
      "rmse_t     0.09541\n",
      "mae_t     0.062124\n",
      "r2_t      0.858594\n",
      "mse_v     0.013345\n",
      "rmse_v    0.115519\n",
      "mae_v     0.076697\n",
      "r2_v      0.816071\n",
      "dtype: object]\n",
      "///////////////////////////////////////////////////////////\n",
      "///////////////////////////////////////////////////////////\n",
      "Month 12-1-2\n",
      "x_train_prepared: (1744743, 424) y_train:  (6993034,)\n",
      "x_test_prepared: (220593, 424) y_test:  (899816,)\n",
      "///////////////////////////////////////////////////////////\n",
      "[mse_t     0.011437\n",
      "rmse_t    0.106942\n",
      "mae_t     0.067241\n",
      "r2_t      0.860103\n",
      "dtype: object, mse_t     0.008996\n",
      "rmse_t    0.094847\n",
      "mae_t     0.060245\n",
      "r2_t      0.860396\n",
      "mse_v     0.013391\n",
      "rmse_v    0.115717\n",
      "mae_v     0.076264\n",
      "r2_v      0.815439\n",
      "dtype: object]\n",
      "///////////////////////////////////////////////////////////\n",
      "///////////////////////////////////////////////////////////\n",
      "Month 1-2-3\n",
      "x_train_prepared: (1740536, 424) y_train:  (6993034,)\n",
      "x_test_prepared: (220244, 424) y_test:  (899816,)\n",
      "///////////////////////////////////////////////////////////\n",
      "[mse_t     0.010452\n",
      "rmse_t    0.102236\n",
      "mae_t     0.060319\n",
      "r2_t      0.879884\n",
      "dtype: object, mse_t     0.009559\n",
      "rmse_t    0.097769\n",
      "mae_t     0.061011\n",
      "r2_t      0.854228\n",
      "mse_v     0.013463\n",
      "rmse_v    0.116028\n",
      "mae_v     0.076118\n",
      "r2_v      0.814446\n",
      "dtype: object]\n",
      "///////////////////////////////////////////////////////////\n",
      "///////////////////////////////////////////////////////////\n",
      "Month 2-3-4\n",
      "x_train_prepared: (1693038, 424) y_train:  (6993034,)\n",
      "x_test_prepared: (219387, 424) y_test:  (899816,)\n",
      "///////////////////////////////////////////////////////////\n",
      "[mse_t     0.010747\n",
      "rmse_t    0.103667\n",
      "mae_t     0.062073\n",
      "r2_t      0.884233\n",
      "dtype: object, mse_t     0.009735\n",
      "rmse_t    0.098664\n",
      "mae_t     0.061734\n",
      "r2_t      0.855257\n",
      "mse_v     0.013506\n",
      "rmse_v    0.116216\n",
      "mae_v     0.076204\n",
      "r2_v      0.813845\n",
      "dtype: object]\n",
      "///////////////////////////////////////////////////////////\n",
      "///////////////////////////////////////////////////////////\n",
      "Month 3-4-5\n",
      "x_train_prepared: (1743633, 424) y_train:  (6993034,)\n",
      "x_test_prepared: (226867, 424) y_test:  (899816,)\n",
      "///////////////////////////////////////////////////////////\n",
      "[mse_t     0.011889\n",
      "rmse_t    0.109039\n",
      "mae_t     0.068265\n",
      "r2_t      0.877721\n",
      "dtype: object, mse_t     0.009565\n",
      "rmse_t    0.097799\n",
      "mae_t      0.06228\n",
      "r2_t      0.857721\n",
      "mse_v     0.013606\n",
      "rmse_v    0.116644\n",
      "mae_v     0.077141\n",
      "r2_v      0.812472\n",
      "dtype: object]\n",
      "///////////////////////////////////////////////////////////\n",
      "///////////////////////////////////////////////////////////\n",
      "Month 4-5-6\n",
      "x_train_prepared: (1723800, 424) y_train:  (6993034,)\n",
      "x_test_prepared: (224224, 424) y_test:  (899816,)\n",
      "///////////////////////////////////////////////////////////\n",
      "[mse_t      0.01334\n",
      "rmse_t      0.1155\n",
      "mae_t     0.076292\n",
      "r2_t      0.855927\n",
      "dtype: object, mse_t     0.009401\n",
      "rmse_t    0.096958\n",
      "mae_t     0.064687\n",
      "r2_t      0.858867\n",
      "mse_v     0.013429\n",
      "rmse_v    0.115885\n",
      "mae_v     0.077561\n",
      "r2_v      0.814904\n",
      "dtype: object]\n",
      "///////////////////////////////////////////////////////////\n",
      "///////////////////////////////////////////////////////////\n",
      "Month 5-6-7\n",
      "x_train_prepared: (1743424, 424) y_train:  (6993034,)\n",
      "x_test_prepared: (226697, 424) y_test:  (899816,)\n",
      "///////////////////////////////////////////////////////////\n",
      "[mse_t     0.012967\n",
      "rmse_t    0.113871\n",
      "mae_t     0.075346\n",
      "r2_t      0.857622\n",
      "dtype: object, mse_t     0.008822\n",
      "rmse_t    0.093925\n",
      "mae_t     0.063521\n",
      "r2_t      0.865051\n",
      "mse_v     0.013469\n",
      "rmse_v    0.116054\n",
      "mae_v     0.078047\n",
      "r2_v      0.814364\n",
      "dtype: object]\n",
      "///////////////////////////////////////////////////////////\n",
      "///////////////////////////////////////////////////////////\n",
      "Month 6-7-8\n",
      "x_train_prepared: (1745781, 424) y_train:  (6993034,)\n",
      "x_test_prepared: (227197, 424) y_test:  (899816,)\n",
      "///////////////////////////////////////////////////////////\n",
      "[mse_t     0.012287\n",
      "rmse_t    0.110847\n",
      "mae_t     0.073204\n",
      "r2_t      0.856131\n",
      "dtype: object, mse_t     0.008096\n",
      "rmse_t    0.089979\n",
      "mae_t     0.060487\n",
      "r2_t      0.870567\n",
      "mse_v     0.013451\n",
      "rmse_v     0.11598\n",
      "mae_v     0.077794\n",
      "r2_v      0.814601\n",
      "dtype: object]\n",
      "///////////////////////////////////////////////////////////\n",
      "///////////////////////////////////////////////////////////\n",
      "Month 7-8-9\n",
      "x_train_prepared: (1748532, 424) y_train:  (6993034,)\n",
      "x_test_prepared: (227782, 424) y_test:  (899816,)\n",
      "///////////////////////////////////////////////////////////\n",
      "[mse_t      0.01225\n",
      "rmse_t    0.110679\n",
      "mae_t     0.072911\n",
      "r2_t      0.856168\n",
      "dtype: object, mse_t     0.008172\n",
      "rmse_t      0.0904\n",
      "mae_t     0.061177\n",
      "r2_t      0.874491\n",
      "mse_v     0.013435\n",
      "rmse_v    0.115909\n",
      "mae_v     0.077629\n",
      "r2_v      0.814828\n",
      "dtype: object]\n",
      "///////////////////////////////////////////////////////////\n",
      "///////////////////////////////////////////////////////////\n",
      "Month 8-9-10\n",
      "x_train_prepared: (1779831, 424) y_train:  (6993034,)\n",
      "x_test_prepared: (228270, 424) y_test:  (899816,)\n",
      "///////////////////////////////////////////////////////////\n",
      "[mse_t     0.012899\n",
      "rmse_t    0.113572\n",
      "mae_t     0.074794\n",
      "r2_t      0.851734\n",
      "dtype: object, mse_t     0.008916\n",
      "rmse_t    0.094424\n",
      "mae_t     0.063606\n",
      "r2_t      0.864955\n",
      "mse_v     0.013515\n",
      "rmse_v    0.116254\n",
      "mae_v     0.078488\n",
      "r2_v      0.813724\n",
      "dtype: object]\n",
      "///////////////////////////////////////////////////////////\n",
      "///////////////////////////////////////////////////////////\n",
      "Month 9-10-11\n",
      "x_train_prepared: (1758877, 424) y_train:  (6993034,)\n",
      "x_test_prepared: (225159, 424) y_test:  (899816,)\n",
      "///////////////////////////////////////////////////////////\n",
      "[mse_t       0.0136\n",
      "rmse_t    0.116618\n",
      "mae_t     0.077027\n",
      "r2_t      0.848478\n",
      "dtype: object, mse_t     0.009875\n",
      "rmse_t    0.099373\n",
      "mae_t     0.067395\n",
      "r2_t      0.856566\n",
      "mse_v     0.013519\n",
      "rmse_v     0.11627\n",
      "mae_v     0.078793\n",
      "r2_v      0.813672\n",
      "dtype: object]\n",
      "///////////////////////////////////////////////////////////\n",
      "///////////////////////////////////////////////////////////\n",
      "Month 10-11-12\n",
      "x_train_prepared: (1780166, 424) y_train:  (6993034,)\n",
      "x_test_prepared: (227566, 424) y_test:  (899816,)\n",
      "///////////////////////////////////////////////////////////\n",
      "[mse_t      0.01302\n",
      "rmse_t    0.114107\n",
      "mae_t     0.075041\n",
      "r2_t      0.843825\n",
      "dtype: object, mse_t     0.009455\n",
      "rmse_t    0.097235\n",
      "mae_t     0.064992\n",
      "r2_t      0.856477\n",
      "mse_v      0.01339\n",
      "rmse_v    0.115714\n",
      "mae_v     0.077701\n",
      "r2_v      0.815451\n",
      "dtype: object]\n",
      "///////////////////////////////////////////////////////////\n"
     ]
    }
   ],
   "source": [
    "res = {}\n",
    "\n",
    "with tqdm(range (12), unit=\"months\", mininterval=0, disable=False) as bar:\n",
    "    for index in bar:\n",
    "        bar.set_description(f\"Month {month[index-2]}-{month[index-1]}-{month[index]}\")\n",
    "        \n",
    "        print('///////////////////////////////////////////////////////////')\n",
    "        \n",
    "        print(f\"Month {month[index-2]}-{month[index-1]}-{month[index]}\")\n",
    "        \n",
    "        X_train_prepared = full_pipeline.transform(X_train[X_train.month.isin([month[index-2], month[index-1], month[index]])].copy())\n",
    "        X_val_prepared1 = full_pipeline.transform(X_val1[X_val1.month.isin([month[index-2], month[index-1], month[index]])].copy())\n",
    "        \n",
    "        cat_y_train_prepared = cat_y_train[X_train.month.isin([month[index-2], month[index-1], month[index]])].copy()\n",
    "        cat_y_val1_prepared = cat_y_val1[X_val1.month.isin([month[index-2], month[index-1], month[index]])].copy()\n",
    "        \n",
    "        print(\"x_train_prepared:\",X_train_prepared.shape,\"y_train: \",y_train.shape)\n",
    "        print(\"x_test_prepared:\",X_val_prepared1.shape,\"y_test: \",y_val1.shape)\n",
    "        \n",
    "        # define model \n",
    "        lin_reg = LinearRegression(n_jobs=5)\n",
    "        \n",
    "        # cros validate trainig\n",
    "#         cross_val_evaluation(lin_reg, X_train_prepared, cat_y_train_prepared, 'LinearRegression', n_jobs=15)\n",
    "        \n",
    "        lin_reg.fit(X_train_prepared, cat_y_train_prepared)\n",
    "        \n",
    "        res[index] = [\n",
    "            test_model(lin_reg, X_train_prepared, cat_y_train_prepared, show=False)[['mse_t','rmse_t','mae_t','r2_t']],\n",
    "            test_model(lin_reg, X_val_prepared1, cat_y_val1_prepared, X_val_prepared2, cat_y_val2_prepared, show=False)[['mse_t','rmse_t','mae_t','r2_t', 'mse_v','rmse_v','mae_v','r2_v']]\n",
    "        ]\n",
    "        \n",
    "        print('///////////////////////////////////////////////////////////')\n",
    "        \n",
    "        print(res[index])\n",
    "        \n",
    "        print('///////////////////////////////////////////////////////////')"
   ]
  },
  {
   "cell_type": "code",
   "execution_count": 15,
   "id": "86267e45",
   "metadata": {
    "scrolled": true
   },
   "outputs": [
    {
     "data": {
      "text/plain": [
       "{0: [mse_t     0.012477\n",
       "  rmse_t    0.111701\n",
       "  mae_t     0.072535\n",
       "  r2_t      0.846247\n",
       "  dtype: object,\n",
       "  mse_t     0.009103\n",
       "  rmse_t     0.09541\n",
       "  mae_t     0.062124\n",
       "  r2_t      0.858594\n",
       "  mse_v     0.013345\n",
       "  rmse_v    0.115519\n",
       "  mae_v     0.076697\n",
       "  r2_v      0.816071\n",
       "  dtype: object],\n",
       " 1: [mse_t     0.011437\n",
       "  rmse_t    0.106942\n",
       "  mae_t     0.067241\n",
       "  r2_t      0.860103\n",
       "  dtype: object,\n",
       "  mse_t     0.008996\n",
       "  rmse_t    0.094847\n",
       "  mae_t     0.060245\n",
       "  r2_t      0.860396\n",
       "  mse_v     0.013391\n",
       "  rmse_v    0.115717\n",
       "  mae_v     0.076264\n",
       "  r2_v      0.815439\n",
       "  dtype: object],\n",
       " 2: [mse_t     0.010452\n",
       "  rmse_t    0.102236\n",
       "  mae_t     0.060319\n",
       "  r2_t      0.879884\n",
       "  dtype: object,\n",
       "  mse_t     0.009559\n",
       "  rmse_t    0.097769\n",
       "  mae_t     0.061011\n",
       "  r2_t      0.854228\n",
       "  mse_v     0.013463\n",
       "  rmse_v    0.116028\n",
       "  mae_v     0.076118\n",
       "  r2_v      0.814446\n",
       "  dtype: object],\n",
       " 3: [mse_t     0.010747\n",
       "  rmse_t    0.103667\n",
       "  mae_t     0.062073\n",
       "  r2_t      0.884233\n",
       "  dtype: object,\n",
       "  mse_t     0.009735\n",
       "  rmse_t    0.098664\n",
       "  mae_t     0.061734\n",
       "  r2_t      0.855257\n",
       "  mse_v     0.013506\n",
       "  rmse_v    0.116216\n",
       "  mae_v     0.076204\n",
       "  r2_v      0.813845\n",
       "  dtype: object],\n",
       " 4: [mse_t     0.011889\n",
       "  rmse_t    0.109039\n",
       "  mae_t     0.068265\n",
       "  r2_t      0.877721\n",
       "  dtype: object,\n",
       "  mse_t     0.009565\n",
       "  rmse_t    0.097799\n",
       "  mae_t      0.06228\n",
       "  r2_t      0.857721\n",
       "  mse_v     0.013606\n",
       "  rmse_v    0.116644\n",
       "  mae_v     0.077141\n",
       "  r2_v      0.812472\n",
       "  dtype: object],\n",
       " 5: [mse_t      0.01334\n",
       "  rmse_t      0.1155\n",
       "  mae_t     0.076292\n",
       "  r2_t      0.855927\n",
       "  dtype: object,\n",
       "  mse_t     0.009401\n",
       "  rmse_t    0.096958\n",
       "  mae_t     0.064687\n",
       "  r2_t      0.858867\n",
       "  mse_v     0.013429\n",
       "  rmse_v    0.115885\n",
       "  mae_v     0.077561\n",
       "  r2_v      0.814904\n",
       "  dtype: object],\n",
       " 6: [mse_t     0.012967\n",
       "  rmse_t    0.113871\n",
       "  mae_t     0.075346\n",
       "  r2_t      0.857622\n",
       "  dtype: object,\n",
       "  mse_t     0.008822\n",
       "  rmse_t    0.093925\n",
       "  mae_t     0.063521\n",
       "  r2_t      0.865051\n",
       "  mse_v     0.013469\n",
       "  rmse_v    0.116054\n",
       "  mae_v     0.078047\n",
       "  r2_v      0.814364\n",
       "  dtype: object],\n",
       " 7: [mse_t     0.012287\n",
       "  rmse_t    0.110847\n",
       "  mae_t     0.073204\n",
       "  r2_t      0.856131\n",
       "  dtype: object,\n",
       "  mse_t     0.008096\n",
       "  rmse_t    0.089979\n",
       "  mae_t     0.060487\n",
       "  r2_t      0.870567\n",
       "  mse_v     0.013451\n",
       "  rmse_v     0.11598\n",
       "  mae_v     0.077794\n",
       "  r2_v      0.814601\n",
       "  dtype: object],\n",
       " 8: [mse_t      0.01225\n",
       "  rmse_t    0.110679\n",
       "  mae_t     0.072911\n",
       "  r2_t      0.856168\n",
       "  dtype: object,\n",
       "  mse_t     0.008172\n",
       "  rmse_t      0.0904\n",
       "  mae_t     0.061177\n",
       "  r2_t      0.874491\n",
       "  mse_v     0.013435\n",
       "  rmse_v    0.115909\n",
       "  mae_v     0.077629\n",
       "  r2_v      0.814828\n",
       "  dtype: object],\n",
       " 9: [mse_t     0.012899\n",
       "  rmse_t    0.113572\n",
       "  mae_t     0.074794\n",
       "  r2_t      0.851734\n",
       "  dtype: object,\n",
       "  mse_t     0.008916\n",
       "  rmse_t    0.094424\n",
       "  mae_t     0.063606\n",
       "  r2_t      0.864955\n",
       "  mse_v     0.013515\n",
       "  rmse_v    0.116254\n",
       "  mae_v     0.078488\n",
       "  r2_v      0.813724\n",
       "  dtype: object],\n",
       " 10: [mse_t       0.0136\n",
       "  rmse_t    0.116618\n",
       "  mae_t     0.077027\n",
       "  r2_t      0.848478\n",
       "  dtype: object,\n",
       "  mse_t     0.009875\n",
       "  rmse_t    0.099373\n",
       "  mae_t     0.067395\n",
       "  r2_t      0.856566\n",
       "  mse_v     0.013519\n",
       "  rmse_v     0.11627\n",
       "  mae_v     0.078793\n",
       "  r2_v      0.813672\n",
       "  dtype: object],\n",
       " 11: [mse_t      0.01302\n",
       "  rmse_t    0.114107\n",
       "  mae_t     0.075041\n",
       "  r2_t      0.843825\n",
       "  dtype: object,\n",
       "  mse_t     0.009455\n",
       "  rmse_t    0.097235\n",
       "  mae_t     0.064992\n",
       "  r2_t      0.856477\n",
       "  mse_v      0.01339\n",
       "  rmse_v    0.115714\n",
       "  mae_v     0.077701\n",
       "  r2_v      0.815451\n",
       "  dtype: object]}"
      ]
     },
     "execution_count": 15,
     "metadata": {},
     "output_type": "execute_result"
    }
   ],
   "source": [
    "res"
   ]
  },
  {
   "cell_type": "code",
   "execution_count": 16,
   "id": "67d83c67",
   "metadata": {},
   "outputs": [],
   "source": [
    "# first thre are the best ones"
   ]
  },
  {
   "cell_type": "raw",
   "id": "27bc44ad",
   "metadata": {},
   "source": [
    "%%time \n",
    "\n",
    "lin_reg = LinearRegression(n_jobs=5)\n",
    "cross_val_evaluation(lin_reg,X_train_prepared, cat_y_train_prepared, 'Linear Regression', n_jobs=5)"
   ]
  },
  {
   "cell_type": "raw",
   "id": "82cf02f0",
   "metadata": {},
   "source": [
    "lin_reg.fit(X_train_prepared,cat_y_train_prepared)"
   ]
  },
  {
   "cell_type": "raw",
   "id": "1c9611fe",
   "metadata": {
    "scrolled": true
   },
   "source": [
    "test_model(lin_reg, X_train_prepared, cat_y_train_prepared)"
   ]
  },
  {
   "cell_type": "raw",
   "id": "058621ad",
   "metadata": {
    "scrolled": true
   },
   "source": [
    "test_model(lin_reg, X_val_prepared1, cat_y_val1_prepared, X_val_prepared2, cat_y_val2_prepared)"
   ]
  },
  {
   "cell_type": "raw",
   "id": "12ee2095",
   "metadata": {},
   "source": [
    "from sklearn.linear_model import RANSACRegressor"
   ]
  },
  {
   "cell_type": "raw",
   "id": "5279c70f",
   "metadata": {
    "scrolled": true
   },
   "source": [
    "%%time \n",
    "\n",
    "# Set RANSAC hyperparameters\n",
    "ransac = RANSACRegressor(LinearRegression(n_jobs=5),\n",
    "    max_trials=8, # Number of Iterations\n",
    "    min_samples=2, # Minimum size of the sample\n",
    "    loss='absolute_error',# Metrics for loss\n",
    "    residual_threshold=10 # Threshold\n",
    ")\n",
    "\n",
    "cross_val_evaluation(ransac,X_train_prepared, y_train,'Linear Regression', n_jobs=5)"
   ]
  },
  {
   "cell_type": "raw",
   "id": "c84956bc",
   "metadata": {},
   "source": [
    "%%time \n",
    "\n",
    "ransac.fit(X_train_prepared,y_train)"
   ]
  },
  {
   "cell_type": "raw",
   "id": "8bb1a772",
   "metadata": {},
   "source": [
    "test_model(ransac, X_train_prepared, y_train)"
   ]
  },
  {
   "cell_type": "raw",
   "id": "29572a8f",
   "metadata": {
    "scrolled": true
   },
   "source": [
    "test_model(ransac, X_val_prepared1, y_val1, X_val_prepared2, y_val2)"
   ]
  },
  {
   "cell_type": "markdown",
   "id": "184a9875",
   "metadata": {},
   "source": [
    "## KNN3\n",
    "### Not ideal to store and sort large data.\n",
    "https://www.kaggle.com/general/352216"
   ]
  },
  {
   "cell_type": "markdown",
   "id": "6cceaa56",
   "metadata": {},
   "source": [
    "## SVM \n",
    "### SVM is not suitable for large datasets because of its high training time and it also takes more time in training compared to Naïve Bayes. \n",
    "https://www.datacamp.com/tutorial/svm-classification-scikit-learn-python#advantages"
   ]
  },
  {
   "cell_type": "markdown",
   "id": "907d8631",
   "metadata": {},
   "source": [
    "# Decision Tree"
   ]
  },
  {
   "cell_type": "code",
   "execution_count": 17,
   "id": "956a306e",
   "metadata": {},
   "outputs": [],
   "source": [
    "from sklearn.tree import DecisionTreeRegressor"
   ]
  },
  {
   "cell_type": "code",
   "execution_count": 18,
   "id": "69a29fac",
   "metadata": {},
   "outputs": [
    {
     "name": "stdout",
     "output_type": "stream",
     "text": [
      "x_train_prepared: (1693038, 424) y_train:  (6993034,)\n",
      "x_test_prepared: (219387, 424) y_test:  (899816,)\n",
      "x_test_prepared: (1000367, 424) y_test:  (1694015,)\n"
     ]
    }
   ],
   "source": [
    "X_train_prepared = full_pipeline.transform(X_train[X_train.month.isin([2, 3, 4])].copy())\n",
    "X_val_prepared1 = full_pipeline.transform(X_val1[X_val1.month.isin([2, 3, 4])].copy())\n",
    "X_val_prepared2 = full_pipeline.transform(X_val2[X_val2.month.isin([2, 3, 4])].copy())\n",
    "\n",
    "cat_y_train_prepared = cat_y_train[X_train.month.isin([2, 3, 4])].copy()\n",
    "cat_y_val1_prepared = cat_y_val1[X_val1.month.isin([2, 3, 4])].copy()\n",
    "cat_y_val2_prepared = cat_y_val2[X_val2.month.isin([2, 3, 4])].copy()\n",
    "\n",
    "print(\"x_train_prepared:\",X_train_prepared.shape,\"y_train: \",y_train.shape)\n",
    "print(\"x_test_prepared:\",X_val_prepared1.shape,\"y_test: \",y_val1.shape)\n",
    "print(\"x_test_prepared:\",X_val_prepared2.shape,\"y_test: \",y_val2.shape)"
   ]
  },
  {
   "cell_type": "code",
   "execution_count": 19,
   "id": "f77a8d2f",
   "metadata": {},
   "outputs": [
    {
     "data": {
      "application/vnd.jupyter.widget-view+json": {
       "model_id": "9ad557247b8843028893c62ab8ed2741",
       "version_major": 2,
       "version_minor": 0
      },
      "text/plain": [
       "  0%|          | 0/7 [00:00<?, ?it/s]"
      ]
     },
     "metadata": {},
     "output_type": "display_data"
    },
    {
     "name": "stdout",
     "output_type": "stream",
     "text": [
      "///////////////////////////////////////////////////////////\n",
      "///////////////////////////////////////////////////////////\n",
      "mse_t     0.009622\n",
      "rmse_t    0.098092\n",
      "mae_t     0.056461\n",
      "r2_t      0.896349\n",
      "dtype: object\n",
      "mse_t     0.009191\n",
      "rmse_t     0.09587\n",
      "mae_t     0.060656\n",
      "r2_t       0.86334\n",
      "mse_v     0.012909\n",
      "rmse_v    0.113619\n",
      "mae_v     0.076038\n",
      "r2_v      0.822072\n",
      "dtype: object\n",
      "///////////////////////////////////////////////////////////\n",
      "///////////////////////////////////////////////////////////\n",
      "///////////////////////////////////////////////////////////\n",
      "mse_t     0.009411\n",
      "rmse_t    0.097009\n",
      "mae_t     0.055819\n",
      "r2_t      0.898624\n",
      "dtype: object\n",
      "mse_t     0.009178\n",
      "rmse_t    0.095803\n",
      "mae_t     0.060515\n",
      "r2_t      0.863531\n",
      "mse_v     0.013021\n",
      "rmse_v    0.114112\n",
      "mae_v     0.076091\n",
      "r2_v      0.820525\n",
      "dtype: object\n",
      "///////////////////////////////////////////////////////////\n",
      "///////////////////////////////////////////////////////////\n",
      "///////////////////////////////////////////////////////////\n",
      "mse_t     0.009173\n",
      "rmse_t    0.095778\n",
      "mae_t     0.055111\n",
      "r2_t      0.901181\n",
      "dtype: object\n",
      "mse_t     0.009223\n",
      "rmse_t    0.096035\n",
      "mae_t     0.060442\n",
      "r2_t      0.862869\n",
      "mse_v     0.013167\n",
      "rmse_v    0.114748\n",
      "mae_v     0.076199\n",
      "r2_v      0.818517\n",
      "dtype: object\n",
      "///////////////////////////////////////////////////////////\n",
      "///////////////////////////////////////////////////////////\n",
      "///////////////////////////////////////////////////////////\n",
      "mse_t     0.008914\n",
      "rmse_t    0.094416\n",
      "mae_t     0.054332\n",
      "r2_t      0.903972\n",
      "dtype: object\n",
      "mse_t     0.009258\n",
      "rmse_t    0.096218\n",
      "mae_t     0.060431\n",
      "r2_t      0.862347\n",
      "mse_v     0.013376\n",
      "rmse_v    0.115654\n",
      "mae_v     0.076503\n",
      "r2_v       0.81564\n",
      "dtype: object\n",
      "///////////////////////////////////////////////////////////\n",
      "///////////////////////////////////////////////////////////\n",
      "///////////////////////////////////////////////////////////\n",
      "mse_t     0.008634\n",
      "rmse_t     0.09292\n",
      "mae_t      0.05345\n",
      "r2_t      0.906991\n",
      "dtype: object\n",
      "mse_t     0.009294\n",
      "rmse_t    0.096405\n",
      "mae_t     0.060379\n",
      "r2_t      0.861811\n",
      "mse_v     0.013573\n",
      "rmse_v    0.116504\n",
      "mae_v     0.076781\n",
      "r2_v      0.812922\n",
      "dtype: object\n",
      "///////////////////////////////////////////////////////////\n",
      "///////////////////////////////////////////////////////////\n",
      "///////////////////////////////////////////////////////////\n",
      "mse_t     0.008344\n",
      "rmse_t    0.091344\n",
      "mae_t     0.052488\n",
      "r2_t       0.91012\n",
      "dtype: object\n",
      "mse_t     0.009374\n",
      "rmse_t    0.096817\n",
      "mae_t     0.060422\n",
      "r2_t      0.860627\n",
      "mse_v     0.013793\n",
      "rmse_v    0.117442\n",
      "mae_v     0.077061\n",
      "r2_v      0.809895\n",
      "dtype: object\n",
      "///////////////////////////////////////////////////////////\n",
      "///////////////////////////////////////////////////////////\n",
      "///////////////////////////////////////////////////////////\n",
      "mse_t     0.008045\n",
      "rmse_t    0.089693\n",
      "mae_t     0.051456\n",
      "r2_t      0.913338\n",
      "dtype: object\n",
      "mse_t     0.009473\n",
      "rmse_t    0.097327\n",
      "mae_t     0.060557\n",
      "r2_t      0.859155\n",
      "mse_v     0.014047\n",
      "rmse_v     0.11852\n",
      "mae_v     0.077474\n",
      "r2_v       0.80639\n",
      "dtype: object\n",
      "///////////////////////////////////////////////////////////\n",
      "CPU times: user 14min 30s, sys: 0 ns, total: 14min 30s\n",
      "Wall time: 14min 30s\n"
     ]
    }
   ],
   "source": [
    "%%time \n",
    "\n",
    "for i in tqdm(range(10,17)):\n",
    "    print('///////////////////////////////////////////////////////////')\n",
    "        \n",
    "    # Build decision tree\n",
    "    tree = DecisionTreeRegressor(max_depth=i+1)\n",
    "\n",
    "#     cross_val_evaluation(tree, X_train_prepared, y_train,'Decision Tree')\n",
    "    tree.fit(X_train_prepared, cat_y_train_prepared)\n",
    "\n",
    "    res[index] = [\n",
    "        test_model(tree, X_train_prepared, cat_y_train_prepared, show=False)[['mse_t','rmse_t','mae_t','r2_t']],\n",
    "        test_model(tree, X_val_prepared1, cat_y_val1_prepared, X_val_prepared2, cat_y_val2_prepared, show=False)[['mse_t','rmse_t','mae_t','r2_t', 'mse_v','rmse_v','mae_v','r2_v']]\n",
    "    ]\n",
    "\n",
    "    print('///////////////////////////////////////////////////////////')\n",
    "\n",
    "    print(res[index][0])\n",
    "    print(res[index][1])\n",
    "    \n",
    "    print('///////////////////////////////////////////////////////////')\n",
    "\n",
    "# depth = 11 0.1099 "
   ]
  },
  {
   "cell_type": "code",
   "execution_count": 20,
   "id": "375ad5ee",
   "metadata": {
    "scrolled": false
   },
   "outputs": [
    {
     "data": {
      "application/vnd.jupyter.widget-view+json": {
       "model_id": "a66c0bb321044e088db2cf0a4cf2fd7f",
       "version_major": 2,
       "version_minor": 0
      },
      "text/plain": [
       "  0%|          | 0/12 [00:00<?, ?months/s]"
      ]
     },
     "metadata": {},
     "output_type": "display_data"
    },
    {
     "name": "stdout",
     "output_type": "stream",
     "text": [
      "///////////////////////////////////////////////////////////\n",
      "Month 11-12-1\n",
      "x_train_prepared: (1776741, 424) y_train:  (6993034,)\n",
      "x_test_prepared: (225462, 424) y_test:  (899816,)\n",
      "///////////////////////////////////////////////////////////\n",
      "Month 12-1-2\n",
      "x_train_prepared: (1744743, 424) y_train:  (6993034,)\n",
      "x_test_prepared: (220593, 424) y_test:  (899816,)\n",
      "///////////////////////////////////////////////////////////\n",
      "Month 1-2-3\n",
      "x_train_prepared: (1740536, 424) y_train:  (6993034,)\n",
      "x_test_prepared: (220244, 424) y_test:  (899816,)\n",
      "///////////////////////////////////////////////////////////\n",
      "Month 2-3-4\n",
      "x_train_prepared: (1693038, 424) y_train:  (6993034,)\n",
      "x_test_prepared: (219387, 424) y_test:  (899816,)\n",
      "///////////////////////////////////////////////////////////\n",
      "Month 3-4-5\n",
      "x_train_prepared: (1743633, 424) y_train:  (6993034,)\n",
      "x_test_prepared: (226867, 424) y_test:  (899816,)\n",
      "///////////////////////////////////////////////////////////\n",
      "Month 4-5-6\n",
      "x_train_prepared: (1723800, 424) y_train:  (6993034,)\n",
      "x_test_prepared: (224224, 424) y_test:  (899816,)\n",
      "///////////////////////////////////////////////////////////\n",
      "Month 5-6-7\n",
      "x_train_prepared: (1743424, 424) y_train:  (6993034,)\n",
      "x_test_prepared: (226697, 424) y_test:  (899816,)\n",
      "///////////////////////////////////////////////////////////\n",
      "Month 6-7-8\n",
      "x_train_prepared: (1745781, 424) y_train:  (6993034,)\n",
      "x_test_prepared: (227197, 424) y_test:  (899816,)\n",
      "///////////////////////////////////////////////////////////\n",
      "Month 7-8-9\n",
      "x_train_prepared: (1748532, 424) y_train:  (6993034,)\n",
      "x_test_prepared: (227782, 424) y_test:  (899816,)\n",
      "///////////////////////////////////////////////////////////\n",
      "Month 8-9-10\n",
      "x_train_prepared: (1779831, 424) y_train:  (6993034,)\n",
      "x_test_prepared: (228270, 424) y_test:  (899816,)\n",
      "///////////////////////////////////////////////////////////\n",
      "Month 9-10-11\n",
      "x_train_prepared: (1758877, 424) y_train:  (6993034,)\n",
      "x_test_prepared: (225159, 424) y_test:  (899816,)\n",
      "///////////////////////////////////////////////////////////\n",
      "Month 10-11-12\n",
      "x_train_prepared: (1780166, 424) y_train:  (6993034,)\n",
      "x_test_prepared: (227566, 424) y_test:  (899816,)\n",
      "///////////////////////////////////////////////////////////\n",
      "mse_t     0.012025\n",
      "rmse_t    0.109657\n",
      "mae_t     0.071779\n",
      "r2_t      0.855769\n",
      "dtype: object\n",
      "mse_t     0.008801\n",
      "rmse_t    0.093813\n",
      "mae_t     0.060164\n",
      "r2_t        0.8664\n",
      "mse_v     0.012785\n",
      "rmse_v    0.113071\n",
      "mae_v     0.074978\n",
      "r2_v      0.823785\n",
      "dtype: object\n",
      "///////////////////////////////////////////////////////////\n"
     ]
    }
   ],
   "source": [
    "res = {}\n",
    "\n",
    "with tqdm(range (12), unit=\"months\", mininterval=0, disable=False) as bar:\n",
    "    for index in bar:\n",
    "        bar.set_description(f\"Month {month[index-2]}-{month[index-1]}-{month[index]}\")\n",
    "        \n",
    "        print('///////////////////////////////////////////////////////////')\n",
    "        \n",
    "        print(f\"Month {month[index-2]}-{month[index-1]}-{month[index]}\")\n",
    "        \n",
    "        X_train_prepared = full_pipeline.transform(X_train[X_train.month.isin([month[index-2], month[index-1], month[index]])].copy())\n",
    "        X_val_prepared1 = full_pipeline.transform(X_val1[X_val1.month.isin([month[index-2], month[index-1], month[index]])].copy())\n",
    "        \n",
    "        cat_y_train_prepared = cat_y_train[X_train.month.isin([month[index-2], month[index-1], month[index]])].copy()\n",
    "        cat_y_val1_prepared = cat_y_val1[X_val1.month.isin([month[index-2], month[index-1], month[index]])].copy()\n",
    "        \n",
    "        print(\"x_train_prepared:\",X_train_prepared.shape,\"y_train: \",y_train.shape)\n",
    "        print(\"x_test_prepared:\",X_val_prepared1.shape,\"y_test: \",y_val1.shape)\n",
    "        \n",
    "        # define model \n",
    "        tree = DecisionTreeRegressor(criterion='friedman_mse', max_depth=11, random_state=config.seed)\n",
    "        \n",
    "        # cros validate trainig\n",
    "#         cross_val_evaluation(tree, X_train_prepared, cat_y_train_prepared, 'DecisionTreeRegressor', n_jobs=15)\n",
    "        \n",
    "        tree.fit(X_train_prepared, cat_y_train_prepared)\n",
    "        \n",
    "        res[index] = [\n",
    "            test_model(tree, X_train_prepared, cat_y_train_prepared, show=False)[['mse_t','rmse_t','mae_t','r2_t']],\n",
    "            test_model(tree, X_val_prepared1, cat_y_val1_prepared, X_val_prepared2, cat_y_val2_prepared, show=False)[['mse_t','rmse_t','mae_t','r2_t', 'mse_v','rmse_v','mae_v','r2_v']]\n",
    "        ]\n",
    "\n",
    "\n",
    "    print('///////////////////////////////////////////////////////////')\n",
    "\n",
    "    print(res[index][0])\n",
    "    print(res[index][1])\n",
    "\n",
    "    print('///////////////////////////////////////////////////////////')\n"
   ]
  },
  {
   "cell_type": "code",
   "execution_count": 21,
   "id": "6be525a9",
   "metadata": {
    "scrolled": false
   },
   "outputs": [
    {
     "data": {
      "text/plain": [
       "{0: [mse_t     0.011462\n",
       "  rmse_t    0.107059\n",
       "  mae_t     0.068714\n",
       "  r2_t       0.85876\n",
       "  dtype: object,\n",
       "  mse_t     0.008569\n",
       "  rmse_t    0.092568\n",
       "  mae_t     0.058568\n",
       "  r2_t      0.866893\n",
       "  mse_v     0.012806\n",
       "  rmse_v    0.113163\n",
       "  mae_v     0.075142\n",
       "  r2_v      0.823497\n",
       "  dtype: object],\n",
       " 1: [mse_t      0.01039\n",
       "  rmse_t    0.101933\n",
       "  mae_t     0.062323\n",
       "  r2_t        0.8729\n",
       "  dtype: object,\n",
       "  mse_t     0.008529\n",
       "  rmse_t    0.092355\n",
       "  mae_t      0.05812\n",
       "  r2_t      0.867636\n",
       "  mse_v     0.012872\n",
       "  rmse_v    0.113456\n",
       "  mae_v     0.075574\n",
       "  r2_v      0.822581\n",
       "  dtype: object],\n",
       " 2: [mse_t     0.009335\n",
       "  rmse_t     0.09662\n",
       "  mae_t     0.054526\n",
       "  r2_t      0.892718\n",
       "  dtype: object,\n",
       "  mse_t     0.009055\n",
       "  rmse_t    0.095157\n",
       "  mae_t     0.059947\n",
       "  r2_t      0.861911\n",
       "  mse_v     0.013029\n",
       "  rmse_v    0.114144\n",
       "  mae_v     0.076489\n",
       "  r2_v      0.820423\n",
       "  dtype: object],\n",
       " 3: [mse_t     0.009622\n",
       "  rmse_t    0.098092\n",
       "  mae_t     0.056461\n",
       "  r2_t      0.896349\n",
       "  dtype: object,\n",
       "  mse_t     0.009192\n",
       "  rmse_t    0.095876\n",
       "  mae_t     0.060658\n",
       "  r2_t      0.863324\n",
       "  mse_v     0.012911\n",
       "  rmse_v    0.113625\n",
       "  mae_v      0.07604\n",
       "  r2_v      0.822053\n",
       "  dtype: object],\n",
       " 4: [mse_t     0.010645\n",
       "  rmse_t    0.103174\n",
       "  mae_t     0.062753\n",
       "  r2_t      0.890521\n",
       "  dtype: object,\n",
       "  mse_t     0.008963\n",
       "  rmse_t    0.094674\n",
       "  mae_t     0.060237\n",
       "  r2_t      0.866667\n",
       "  mse_v     0.012848\n",
       "  rmse_v    0.113348\n",
       "  mae_v     0.075771\n",
       "  r2_v      0.822921\n",
       "  dtype: object],\n",
       " 5: [mse_t     0.012164\n",
       "  rmse_t    0.110289\n",
       "  mae_t     0.072219\n",
       "  r2_t      0.868635\n",
       "  dtype: object,\n",
       "  mse_t     0.008732\n",
       "  rmse_t    0.093446\n",
       "  mae_t     0.059954\n",
       "  r2_t      0.868907\n",
       "  mse_v     0.013005\n",
       "  rmse_v    0.114038\n",
       "  mae_v     0.075704\n",
       "  r2_v      0.820758\n",
       "  dtype: object],\n",
       " 6: [mse_t     0.011868\n",
       "  rmse_t     0.10894\n",
       "  mae_t     0.071583\n",
       "  r2_t      0.869685\n",
       "  dtype: object,\n",
       "  mse_t     0.008129\n",
       "  rmse_t    0.090164\n",
       "  mae_t     0.057767\n",
       "  r2_t      0.875643\n",
       "  mse_v        0.013\n",
       "  rmse_v    0.114018\n",
       "  mae_v     0.075557\n",
       "  r2_v       0.82082\n",
       "  dtype: object],\n",
       " 7: [mse_t     0.011316\n",
       "  rmse_t    0.106378\n",
       "  mae_t     0.069936\n",
       "  r2_t      0.867498\n",
       "  dtype: object,\n",
       "  mse_t     0.007566\n",
       "  rmse_t    0.086984\n",
       "  mae_t      0.05536\n",
       "  r2_t      0.879042\n",
       "  mse_v     0.013204\n",
       "  rmse_v    0.114907\n",
       "  mae_v     0.075751\n",
       "  r2_v      0.818015\n",
       "  dtype: object],\n",
       " 8: [mse_t     0.011329\n",
       "  rmse_t    0.106438\n",
       "  mae_t     0.069804\n",
       "  r2_t      0.866979\n",
       "  dtype: object,\n",
       "  mse_t     0.007627\n",
       "  rmse_t    0.087334\n",
       "  mae_t     0.055471\n",
       "  r2_t       0.88286\n",
       "  mse_v     0.013033\n",
       "  rmse_v    0.114161\n",
       "  mae_v      0.07512\n",
       "  r2_v       0.82037\n",
       "  dtype: object],\n",
       " 9: [mse_t     0.011908\n",
       "  rmse_t    0.109123\n",
       "  mae_t     0.071504\n",
       "  r2_t      0.863121\n",
       "  dtype: object,\n",
       "  mse_t       0.0083\n",
       "  rmse_t    0.091106\n",
       "  mae_t     0.058196\n",
       "  r2_t       0.87428\n",
       "  mse_v     0.013012\n",
       "  rmse_v     0.11407\n",
       "  mae_v     0.075395\n",
       "  r2_v      0.820657\n",
       "  dtype: object],\n",
       " 10: [mse_t      0.01255\n",
       "  rmse_t    0.112025\n",
       "  mae_t     0.073549\n",
       "  r2_t      0.860179\n",
       "  dtype: object,\n",
       "  mse_t     0.009129\n",
       "  rmse_t    0.095547\n",
       "  mae_t     0.061541\n",
       "  r2_t        0.8674\n",
       "  mse_v     0.012822\n",
       "  rmse_v    0.113232\n",
       "  mae_v     0.075087\n",
       "  r2_v      0.823281\n",
       "  dtype: object],\n",
       " 11: [mse_t     0.012025\n",
       "  rmse_t    0.109657\n",
       "  mae_t     0.071779\n",
       "  r2_t      0.855769\n",
       "  dtype: object,\n",
       "  mse_t     0.008801\n",
       "  rmse_t    0.093813\n",
       "  mae_t     0.060164\n",
       "  r2_t        0.8664\n",
       "  mse_v     0.012785\n",
       "  rmse_v    0.113071\n",
       "  mae_v     0.074978\n",
       "  r2_v      0.823785\n",
       "  dtype: object]}"
      ]
     },
     "execution_count": 21,
     "metadata": {},
     "output_type": "execute_result"
    }
   ],
   "source": [
    "res"
   ]
  },
  {
   "cell_type": "code",
   "execution_count": 22,
   "id": "2501f652",
   "metadata": {},
   "outputs": [],
   "source": [
    "# find best months and then iterate for 20 depth to find best depth\n",
    "# next go to random forest to test using the same depth and months with different random seeds"
   ]
  },
  {
   "cell_type": "raw",
   "id": "48c95e89",
   "metadata": {},
   "source": [
    "tree = DecisionTreeRegressor(max_depth=11)\n"
   ]
  },
  {
   "cell_type": "raw",
   "id": "c48282b2",
   "metadata": {},
   "source": [
    "cross_val_evaluation(tree, X_train_prepared, y_train,'Decision Tree')"
   ]
  },
  {
   "cell_type": "raw",
   "id": "c9906d98",
   "metadata": {},
   "source": [
    "%%time \n",
    "\n",
    "tree.fit(X_train_prepared,y_train)"
   ]
  },
  {
   "cell_type": "raw",
   "id": "d4c22c77",
   "metadata": {
    "scrolled": false
   },
   "source": [
    "test_model(tree, X_train_prepared, y_train)"
   ]
  },
  {
   "cell_type": "raw",
   "id": "e7fd0712",
   "metadata": {
    "scrolled": false
   },
   "source": [
    "test_model(tree, X_val_prepared1, y_val1, X_val_prepared2, y_val2)"
   ]
  },
  {
   "cell_type": "raw",
   "id": "fa539c86",
   "metadata": {},
   "source": [
    "import graphviz \n",
    "from sklearn.tree import export_graphviz\n",
    "\n",
    "dot_data = export_graphviz(tree, out_file=None) \n",
    "graph = graphviz.Source(dot_data)"
   ]
  },
  {
   "cell_type": "markdown",
   "id": "ce966eb7",
   "metadata": {},
   "source": [
    "## Random Forest"
   ]
  },
  {
   "cell_type": "code",
   "execution_count": 23,
   "id": "aa597c30",
   "metadata": {},
   "outputs": [
    {
     "name": "stdout",
     "output_type": "stream",
     "text": [
      "x_train_prepared: (1693038, 424) y_train:  (6993034,)\n",
      "x_test_prepared: (219387, 424) y_test:  (899816,)\n",
      "x_test_prepared: (1000367, 424) y_test:  (1694015,)\n"
     ]
    }
   ],
   "source": [
    "X_train_prepared = full_pipeline.transform(X_train[X_train.month.isin([2, 3, 4])].copy())\n",
    "X_val_prepared1 = full_pipeline.transform(X_val1[X_val1.month.isin([2, 3, 4])].copy())\n",
    "X_val_prepared2 = full_pipeline.transform(X_val2[X_val2.month.isin([2, 3, 4])].copy())\n",
    "\n",
    "cat_y_train_prepared = cat_y_train[X_train.month.isin([2, 3, 4])].copy()\n",
    "cat_y_val1_prepared = cat_y_val1[X_val1.month.isin([2, 3, 4])].copy()\n",
    "cat_y_val2_prepared = cat_y_val2[X_val2.month.isin([2, 3, 4])].copy()\n",
    "\n",
    "print(\"x_train_prepared:\",X_train_prepared.shape,\"y_train: \",y_train.shape)\n",
    "print(\"x_test_prepared:\",X_val_prepared1.shape,\"y_test: \",y_val1.shape)\n",
    "print(\"x_test_prepared:\",X_val_prepared2.shape,\"y_test: \",y_val2.shape)"
   ]
  },
  {
   "cell_type": "code",
   "execution_count": 24,
   "id": "dbdb740e",
   "metadata": {
    "scrolled": false
   },
   "outputs": [
    {
     "data": {
      "application/vnd.jupyter.widget-view+json": {
       "model_id": "df24f04b27b845e6947824138c326d9e",
       "version_major": 2,
       "version_minor": 0
      },
      "text/plain": [
       "  0%|          | 0/7 [00:00<?, ?it/s]"
      ]
     },
     "metadata": {},
     "output_type": "display_data"
    },
    {
     "name": "stdout",
     "output_type": "stream",
     "text": [
      "///////////////////////////////////////////////////////////\n",
      "///////////////////////////////////////////////////////////\n",
      "mse_t     0.009441\n",
      "rmse_t    0.097165\n",
      "mae_t     0.056063\n",
      "r2_t        0.8983\n",
      "dtype: object\n",
      "mse_t     0.009046\n",
      "rmse_t     0.09511\n",
      "mae_t     0.060023\n",
      "r2_t      0.865498\n",
      "mse_v     0.012595\n",
      "rmse_v    0.112229\n",
      "mae_v     0.075283\n",
      "r2_v      0.826398\n",
      "dtype: object\n",
      "///////////////////////////////////////////////////////////\n",
      "///////////////////////////////////////////////////////////\n",
      "///////////////////////////////////////////////////////////\n",
      "mse_t     0.009213\n",
      "rmse_t    0.095983\n",
      "mae_t     0.055513\n",
      "r2_t      0.900757\n",
      "dtype: object\n",
      "mse_t     0.009025\n",
      "rmse_t    0.095002\n",
      "mae_t     0.059863\n",
      "r2_t      0.865804\n",
      "mse_v     0.012559\n",
      "rmse_v    0.112069\n",
      "mae_v      0.07513\n",
      "r2_v      0.826893\n",
      "dtype: object\n",
      "///////////////////////////////////////////////////////////\n",
      "///////////////////////////////////////////////////////////\n",
      "///////////////////////////////////////////////////////////\n",
      "mse_t     0.008962\n",
      "rmse_t    0.094667\n",
      "mae_t     0.054915\n",
      "r2_t      0.903461\n",
      "dtype: object\n",
      "mse_t     0.009004\n",
      "rmse_t    0.094892\n",
      "mae_t     0.059685\n",
      "r2_t      0.866116\n",
      "mse_v     0.012546\n",
      "rmse_v    0.112008\n",
      "mae_v     0.075044\n",
      "r2_v      0.827082\n",
      "dtype: object\n",
      "///////////////////////////////////////////////////////////\n",
      "///////////////////////////////////////////////////////////\n",
      "///////////////////////////////////////////////////////////\n",
      "mse_t     0.008701\n",
      "rmse_t    0.093279\n",
      "mae_t     0.054299\n",
      "r2_t      0.906272\n",
      "dtype: object\n",
      "mse_t     0.008992\n",
      "rmse_t    0.094824\n",
      "mae_t     0.059538\n",
      "r2_t      0.866307\n",
      "mse_v     0.012546\n",
      "rmse_v    0.112011\n",
      "mae_v     0.074984\n",
      "r2_v      0.827073\n",
      "dtype: object\n",
      "///////////////////////////////////////////////////////////\n",
      "///////////////////////////////////////////////////////////\n",
      "///////////////////////////////////////////////////////////\n",
      "mse_t     0.008431\n",
      "rmse_t     0.09182\n",
      "mae_t     0.053627\n",
      "r2_t      0.909181\n",
      "dtype: object\n",
      "mse_t     0.008976\n",
      "rmse_t    0.094742\n",
      "mae_t     0.059384\n",
      "r2_t      0.866537\n",
      "mse_v     0.012547\n",
      "rmse_v    0.112013\n",
      "mae_v      0.07494\n",
      "r2_v      0.827066\n",
      "dtype: object\n",
      "///////////////////////////////////////////////////////////\n",
      "///////////////////////////////////////////////////////////\n",
      "///////////////////////////////////////////////////////////\n",
      "mse_t     0.008158\n",
      "rmse_t    0.090321\n",
      "mae_t     0.052921\n",
      "r2_t      0.912122\n",
      "dtype: object\n",
      "mse_t     0.008971\n",
      "rmse_t    0.094716\n",
      "mae_t     0.059273\n",
      "r2_t       0.86661\n",
      "mse_v     0.012559\n",
      "rmse_v    0.112066\n",
      "mae_v     0.074936\n",
      "r2_v      0.826902\n",
      "dtype: object\n",
      "///////////////////////////////////////////////////////////\n",
      "///////////////////////////////////////////////////////////\n",
      "///////////////////////////////////////////////////////////\n",
      "mse_t     0.007881\n",
      "rmse_t    0.088777\n",
      "mae_t     0.052191\n",
      "r2_t      0.915099\n",
      "dtype: object\n",
      "mse_t     0.008971\n",
      "rmse_t    0.094715\n",
      "mae_t     0.059162\n",
      "r2_t      0.866612\n",
      "mse_v     0.012576\n",
      "rmse_v    0.112143\n",
      "mae_v     0.074941\n",
      "r2_v      0.826664\n",
      "dtype: object\n",
      "///////////////////////////////////////////////////////////\n",
      "CPU times: user 3h 25min 11s, sys: 1.42 s, total: 3h 25min 12s\n",
      "Wall time: 20min 44s\n"
     ]
    }
   ],
   "source": [
    "%%time \n",
    "\n",
    "for i in tqdm(range(10,17)):\n",
    "    print('///////////////////////////////////////////////////////////')\n",
    "        \n",
    "\n",
    "    # define model\n",
    "    forest=RandomForestRegressor(n_estimators=10,\n",
    "                                 max_depth=i+1,\n",
    "                                 criterion='friedman_mse',\n",
    "                                 n_jobs=15,\n",
    "                                 random_state=config.seed\n",
    "                                )\n",
    "\n",
    "#     cross_val_evaluation(tree, X_train_prepared, y_train,'Decision Tree')\n",
    "    forest.fit(X_train_prepared, cat_y_train_prepared)\n",
    "\n",
    "    res[index] = [\n",
    "        test_model(forest, X_train_prepared, cat_y_train_prepared, show=False)[['mse_t','rmse_t','mae_t','r2_t']],\n",
    "        test_model(forest, X_val_prepared1, cat_y_val1_prepared, X_val_prepared2, cat_y_val2_prepared, show=False)[['mse_t','rmse_t','mae_t','r2_t', 'mse_v','rmse_v','mae_v','r2_v']]\n",
    "    ]\n",
    "\n",
    "    print('///////////////////////////////////////////////////////////')\n",
    "\n",
    "    print(res[index][0])\n",
    "    print(res[index][1])\n",
    "    \n",
    "    print('///////////////////////////////////////////////////////////')\n",
    "\n",
    "# depth = 11 0.1099 \n",
    "\n",
    "\n",
    "# ///////////////////////////////////////////////////////////\n",
    "# ///////////////////////////////////////////////////////////\n",
    "# mse_t     0.009441\n",
    "# rmse_t    0.097165\n",
    "# mae_t     0.056063\n",
    "# r2_t        0.8983\n",
    "# dtype: object\n",
    "# mse_t     0.009046\n",
    "# rmse_t     0.09511\n",
    "# mae_t     0.060023\n",
    "# r2_t      0.865498\n",
    "# mse_v     0.012595\n",
    "# rmse_v    0.112229\n",
    "# mae_v     0.075283\n",
    "# r2_v      0.826398\n",
    "# dtype: object\n",
    "# ///////////////////////////////////////////////////////////\n",
    "# ///////////////////////////////////////////////////////////\n",
    "# ///////////////////////////////////////////////////////////\n",
    "# mse_t     0.009213\n",
    "# rmse_t    0.095983\n",
    "# mae_t     0.055513\n",
    "# r2_t      0.900757\n",
    "# dtype: object\n",
    "# mse_t     0.009025\n",
    "# rmse_t    0.095002\n",
    "# mae_t     0.059863\n",
    "# r2_t      0.865804\n",
    "# mse_v     0.012559\n",
    "# rmse_v    0.112069\n",
    "# mae_v      0.07513\n",
    "# r2_v      0.826893\n",
    "# dtype: object\n",
    "# ///////////////////////////////////////////////////////////\n",
    "# ///////////////////////////////////////////////////////////\n",
    "# ///////////////////////////////////////////////////////////\n",
    "# mse_t     0.008962\n",
    "# rmse_t    0.094667\n",
    "# mae_t     0.054915\n",
    "# r2_t      0.903461\n",
    "# dtype: object\n",
    "# mse_t     0.009004\n",
    "# rmse_t    0.094892\n",
    "# mae_t     0.059685\n",
    "# r2_t      0.866116\n",
    "# mse_v     0.012546\n",
    "# rmse_v    0.112008\n",
    "# mae_v     0.075044\n",
    "# r2_v      0.827082\n",
    "# dtype: object\n",
    "# ///////////////////////////////////////////////////////////\n",
    "# ///////////////////////////////////////////////////////////\n",
    "# ///////////////////////////////////////////////////////////\n",
    "# mse_t     0.008701\n",
    "# rmse_t    0.093279\n",
    "# mae_t     0.054299\n",
    "# r2_t      0.906272\n",
    "# dtype: object\n",
    "# mse_t     0.008992\n",
    "# rmse_t    0.094824\n",
    "# mae_t     0.059538\n",
    "# r2_t      0.866307\n",
    "# mse_v     0.012546\n",
    "# rmse_v    0.112011\n",
    "# mae_v     0.074984\n",
    "# r2_v      0.827073\n",
    "# dtype: object\n",
    "# ///////////////////////////////////////////////////////////\n",
    "# ///////////////////////////////////////////////////////////\n",
    "# ///////////////////////////////////////////////////////////\n",
    "# mse_t     0.008431\n",
    "# rmse_t     0.09182\n",
    "# mae_t     0.053627\n",
    "# r2_t      0.909181\n",
    "# dtype: object\n",
    "# mse_t     0.008976\n",
    "# rmse_t    0.094742\n",
    "# mae_t     0.059384\n",
    "# r2_t      0.866537\n",
    "# mse_v     0.012547\n",
    "# rmse_v    0.112013\n",
    "# mae_v      0.07494\n",
    "# r2_v      0.827066\n",
    "# dtype: object\n",
    "# ///////////////////////////////////////////////////////////\n",
    "# ///////////////////////////////////////////////////////////\n",
    "# ///////////////////////////////////////////////////////////\n",
    "# mse_t     0.008158\n",
    "# rmse_t    0.090321\n",
    "# mae_t     0.052921\n",
    "# r2_t      0.912122\n",
    "# dtype: object\n",
    "# mse_t     0.008971\n",
    "# rmse_t    0.094716\n",
    "# mae_t     0.059273\n",
    "# r2_t       0.86661\n",
    "# mse_v     0.012559\n",
    "# rmse_v    0.112066\n",
    "# mae_v     0.074936\n",
    "# r2_v      0.826902\n",
    "# dtype: object\n",
    "# ///////////////////////////////////////////////////////////\n",
    "# ///////////////////////////////////////////////////////////\n",
    "# ///////////////////////////////////////////////////////////\n",
    "# mse_t     0.007881\n",
    "# rmse_t    0.088777\n",
    "# mae_t     0.052191\n",
    "# r2_t      0.915099\n",
    "# dtype: object\n",
    "# mse_t     0.008971\n",
    "# rmse_t    0.094715\n",
    "# mae_t     0.059162\n",
    "# r2_t      0.866612\n",
    "# mse_v     0.012576\n",
    "# rmse_v    0.112143\n",
    "# mae_v     0.074941\n",
    "# r2_v      0.826664\n",
    "# dtype: object\n",
    "# ///////////////////////////////////////////////////////////"
   ]
  },
  {
   "cell_type": "code",
   "execution_count": 24,
   "id": "95510b05",
   "metadata": {},
   "outputs": [],
   "source": [
    "sample_data = pd.read_csv('dades/processed/kaggle_sample_data.csv')"
   ]
  },
  {
   "cell_type": "code",
   "execution_count": 25,
   "id": "8acb734f",
   "metadata": {},
   "outputs": [
    {
     "data": {
      "text/plain": [
       "(54999, 68)"
      ]
     },
     "execution_count": 25,
     "metadata": {},
     "output_type": "execute_result"
    }
   ],
   "source": [
    "sample_data.shape"
   ]
  },
  {
   "cell_type": "code",
   "execution_count": 26,
   "id": "71f282bf",
   "metadata": {},
   "outputs": [
    {
     "name": "stdout",
     "output_type": "stream",
     "text": [
      "x_test_prepared: (54999, 424)\n"
     ]
    }
   ],
   "source": [
    "X_test_prepared = full_pipeline.transform(sample_data)\n",
    "\n",
    "print(\"x_test_prepared:\",X_test_prepared.shape)"
   ]
  },
  {
   "cell_type": "code",
   "execution_count": 21,
   "id": "10848719",
   "metadata": {},
   "outputs": [],
   "source": [
    "from sklearn.ensemble import RandomForestRegressor"
   ]
  },
  {
   "cell_type": "code",
   "execution_count": 27,
   "id": "160aaa14",
   "metadata": {
    "scrolled": true
   },
   "outputs": [
    {
     "data": {
      "application/vnd.jupyter.widget-view+json": {
       "model_id": "99d01d0ab04a4780a724eb54724e7526",
       "version_major": 2,
       "version_minor": 0
      },
      "text/plain": [
       "  0%|          | 0/12 [00:00<?, ?months/s]"
      ]
     },
     "metadata": {},
     "output_type": "display_data"
    },
    {
     "name": "stdout",
     "output_type": "stream",
     "text": [
      "///////////////////////////////////////////////////////////\n",
      "Month 11-12-1\n",
      "x_train_prepared: (884790, 424) y_train:  (3541851,)\n",
      "x_test_prepared: (221050, 424) y_test:  (882910,)\n",
      "///////////////////////////////////////////////////////////\n",
      "[mse_t     0.011133\n",
      "rmse_t    0.105515\n",
      "mae_t     0.070008\n",
      "r2_t      0.834626\n",
      "dtype: object, mse_t     0.008431\n",
      "rmse_t    0.091819\n",
      "mae_t     0.058058\n",
      "r2_t      0.868086\n",
      "mse_v     0.012533\n",
      "rmse_v    0.111949\n",
      "mae_v     0.074582\n",
      "r2_v      0.827264\n",
      "dtype: object]\n",
      "///////////////////////////////////////////////////////////\n",
      "(54999,)\n",
      "///////////////////////////////////////////////////////////\n",
      "Month 12-1-2\n",
      "x_train_prepared: (868540, 424) y_train:  (3541851,)\n",
      "x_test_prepared: (216275, 424) y_test:  (882910,)\n",
      "///////////////////////////////////////////////////////////\n",
      "[mse_t     0.011213\n",
      "rmse_t    0.105892\n",
      "mae_t     0.069874\n",
      "r2_t      0.830229\n",
      "dtype: object, mse_t     0.008429\n",
      "rmse_t    0.091808\n",
      "mae_t     0.057719\n",
      "r2_t      0.868058\n",
      "mse_v     0.012578\n",
      "rmse_v     0.11215\n",
      "mae_v     0.074943\n",
      "r2_v      0.826643\n",
      "dtype: object]\n",
      "///////////////////////////////////////////////////////////\n",
      "(54999,)\n",
      "///////////////////////////////////////////////////////////\n",
      "Month 1-2-3\n",
      "x_train_prepared: (871325, 424) y_train:  (3541851,)\n",
      "x_test_prepared: (215984, 424) y_test:  (882910,)\n",
      "///////////////////////////////////////////////////////////\n",
      "[mse_t     0.011984\n",
      "rmse_t    0.109472\n",
      "mae_t     0.072423\n",
      "r2_t      0.817319\n",
      "dtype: object, mse_t     0.008971\n",
      "rmse_t    0.094713\n",
      "mae_t     0.059834\n",
      "r2_t      0.861264\n",
      "mse_v     0.012618\n",
      "rmse_v    0.112331\n",
      "mae_v     0.075759\n",
      "r2_v      0.826084\n",
      "dtype: object]\n",
      "///////////////////////////////////////////////////////////\n",
      "(54999,)\n",
      "///////////////////////////////////////////////////////////\n",
      "Month 2-3-4\n",
      "x_train_prepared: (869622, 424) y_train:  (3541851,)\n",
      "x_test_prepared: (215354, 424) y_test:  (882910,)\n",
      "///////////////////////////////////////////////////////////\n",
      "[mse_t     0.012245\n",
      "rmse_t    0.110659\n",
      "mae_t     0.073749\n",
      "r2_t      0.819959\n",
      "dtype: object, mse_t     0.009076\n",
      "rmse_t    0.095266\n",
      "mae_t     0.060577\n",
      "r2_t      0.862677\n",
      "mse_v     0.012526\n",
      "rmse_v    0.111921\n",
      "mae_v     0.075232\n",
      "r2_v       0.82735\n",
      "dtype: object]\n",
      "///////////////////////////////////////////////////////////\n",
      "(54999,)\n",
      "///////////////////////////////////////////////////////////\n",
      "Month 3-4-5\n",
      "x_train_prepared: (899009, 424) y_train:  (3541851,)\n",
      "x_test_prepared: (222692, 424) y_test:  (882910,)\n"
     ]
    },
    {
     "name": "stderr",
     "output_type": "stream",
     "text": [
      "\n",
      "KeyboardInterrupt\n",
      "\n"
     ]
    }
   ],
   "source": [
    "res = {}\n",
    "\n",
    "with tqdm(range (12), unit=\"months\", mininterval=0, disable=False) as bar:\n",
    "    for index in bar:\n",
    "        bar.set_description(f\"Month {month[index-2]}-{month[index-1]}-{month[index]}\")\n",
    "        \n",
    "        print('///////////////////////////////////////////////////////////')\n",
    "        \n",
    "        print(f\"Month {month[index-2]}-{month[index-1]}-{month[index]}\")\n",
    "        \n",
    "        X_train_prepared = full_pipeline.transform(X_train[X_train.month.isin([month[index-2], month[index-1], month[index]])].copy())\n",
    "        X_val_prepared1 = full_pipeline.transform(X_val1[X_val1.month.isin([month[index-2], month[index-1], month[index]])].copy())\n",
    "        \n",
    "        cat_y_train_prepared = cat_y_train[X_train.month.isin([month[index-2], month[index-1], month[index]])].copy()\n",
    "        cat_y_val1_prepared = cat_y_val1[X_val1.month.isin([month[index-2], month[index-1], month[index]])].copy()\n",
    "        \n",
    "        print(\"x_train_prepared:\",X_train_prepared.shape,\"y_train: \",y_train.shape)\n",
    "        print(\"x_test_prepared:\",X_val_prepared1.shape,\"y_test: \",y_val1.shape)\n",
    "        \n",
    "        # define model\n",
    "        forest=RandomForestRegressor(n_estimators=10,\n",
    "                                     max_depth=11,\n",
    "                                     criterion='friedman_mse',\n",
    "                                     n_jobs=15,\n",
    "                                     random_state=config.seed\n",
    "                                    )\n",
    "        \n",
    "        # cros validate trainig\n",
    "#         cross_val_evaluation(forest, X_train_prepared, cat_y_train_prepared, 'RandomForestRegressor', n_jobs=15)\n",
    "        \n",
    "        forest.fit(X_train_prepared, cat_y_train_prepared)\n",
    "        \n",
    "        res[index] = [\n",
    "            test_model(forest, X_train_prepared, cat_y_train_prepared, show=False)[['mse_t','rmse_t','mae_t','r2_t']],\n",
    "            test_model(forest, X_val_prepared1, cat_y_val1_prepared, X_val_prepared2, cat_y_val2_prepared, show=False)[['mse_t','rmse_t','mae_t','r2_t', 'mse_v','rmse_v','mae_v','r2_v']]\n",
    "        ]\n",
    "\n",
    "        print('///////////////////////////////////////////////////////////')\n",
    "\n",
    "        print(res[index][0])\n",
    "        print(res[index][1])\n",
    "\n",
    "        print('///////////////////////////////////////////////////////////')\n",
    "        \n",
    "        yhat = forest.predict(X_test_prepared)\n",
    "\n",
    "        print(yhat.shape)\n",
    "\n",
    "        sample_data['percentage_docks_available'] = yhat\n",
    "\n",
    "        sample_data['percentage_docks_available'].to_csv(f'predicton_RandomForest{index}.csv', header=True, index_label='index')\n",
    "        "
   ]
  },
  {
   "cell_type": "code",
   "execution_count": null,
   "id": "cd874997",
   "metadata": {},
   "outputs": [],
   "source": [
    "res"
   ]
  },
  {
   "cell_type": "raw",
   "id": "e200686f",
   "metadata": {},
   "source": [
    "%%time \n",
    "\n",
    "# define used regressor\n",
    "forest=RandomForestRegressor(n_estimators=12,\n",
    "                             max_depth=11,\n",
    "                             criterion='friedman_mse',\n",
    "                             n_jobs=10,\n",
    "                             random_state=config.seed\n",
    "                            )"
   ]
  },
  {
   "cell_type": "raw",
   "id": "8456455a",
   "metadata": {},
   "source": [
    "cross_val_evaluation(forest, X_train_prepared, y_train,'Random Forest')"
   ]
  },
  {
   "cell_type": "raw",
   "id": "d8aebd76",
   "metadata": {},
   "source": [
    "forest.fit(X_train_prepared,y_train)"
   ]
  },
  {
   "cell_type": "raw",
   "id": "e9c405b3",
   "metadata": {},
   "source": [
    "test_model(forest, X_train_prepared, y_train)"
   ]
  },
  {
   "cell_type": "raw",
   "id": "7f810947",
   "metadata": {},
   "source": [
    "test_model(forest, X_val_prepared1, y_val1, X_val_prepared2, y_val2)"
   ]
  },
  {
   "cell_type": "markdown",
   "id": "ebf0bf30",
   "metadata": {},
   "source": [
    "# Gaussian Process"
   ]
  },
  {
   "cell_type": "raw",
   "id": "9517f3d0",
   "metadata": {},
   "source": [
    "from sklearn.gaussian_process.kernels import ExpSineSquared\n",
    "from sklearn.gaussian_process import GaussianProcessClassifier, GaussianProcessRegressor\n"
   ]
  },
  {
   "cell_type": "raw",
   "id": "e6061039",
   "metadata": {},
   "source": [
    "from sklearn.gaussian_process.kernels import (RBF, Matern, RationalQuadratic,ExpSineSquared, DotProduct,ConstantKernel)\n",
    "     "
   ]
  },
  {
   "cell_type": "raw",
   "id": "8ec975c1",
   "metadata": {},
   "source": [
    "                                         \n",
    "# Determination of the kernel used and the value lenght_scale at which the optimization process starts\n",
    "kernel = 1.0 * RBF(length_scale=1.0, length_scale_bounds=(1e-2, 1e3))\n",
    "\n",
    "# Application of the regressor (alpha makes a statement about a possible noise of the training data)\n",
    "gp = GaussianProcessRegressor(kernel=kernel, alpha=0.1)\n",
    "\n",
    "# # Prediction of the dependent variable for the test dataset\n",
    "# y_pred, sigma = gp.predict(X_val_prepared1, return_std=True)"
   ]
  },
  {
   "cell_type": "raw",
   "id": "74f836d1",
   "metadata": {},
   "source": [
    "cross_val_evaluation(gp, X_train_prepared, y_train,'GaussianProcessRegressor')"
   ]
  },
  {
   "cell_type": "raw",
   "id": "3a3ebe61",
   "metadata": {},
   "source": [
    "gp.fit(X_train_prepared, y_train)\n"
   ]
  },
  {
   "cell_type": "raw",
   "id": "f4d42102",
   "metadata": {
    "scrolled": false
   },
   "source": [
    "test_model(forest, X_train_prepared, y_train)"
   ]
  },
  {
   "cell_type": "raw",
   "id": "69364e33",
   "metadata": {
    "scrolled": true
   },
   "source": [
    "test_model(forest, X_val_prepared1, y_val1, X_val_prepared2, y_val2)"
   ]
  },
  {
   "cell_type": "markdown",
   "id": "18557956",
   "metadata": {},
   "source": [
    "## Gradiend Boosting"
   ]
  },
  {
   "cell_type": "code",
   "execution_count": null,
   "id": "5abab55c",
   "metadata": {},
   "outputs": [],
   "source": []
  },
  {
   "cell_type": "markdown",
   "id": "de7c283b",
   "metadata": {},
   "source": [
    "## Generate Sample"
   ]
  },
  {
   "cell_type": "code",
   "execution_count": null,
   "id": "597e669c",
   "metadata": {},
   "outputs": [],
   "source": [
    "sample_data = pd.read_csv('dades/processed/kaggle_sample_data.csv')"
   ]
  },
  {
   "cell_type": "code",
   "execution_count": null,
   "id": "7f468dce",
   "metadata": {},
   "outputs": [],
   "source": [
    "sample_data"
   ]
  },
  {
   "cell_type": "markdown",
   "id": "2ca651fe",
   "metadata": {},
   "source": [
    "# apply pipeline"
   ]
  },
  {
   "cell_type": "raw",
   "id": "b93c0ad9",
   "metadata": {},
   "source": [
    "full_pipeline = build_preprocessor(config)\n",
    "\n",
    "X_train_prepared = full_pipeline.fit_transform(X_train)\n",
    "X_val_prepared1 = full_pipeline.transform(X_val1)\n",
    "X_val_prepared2 = full_pipeline.transform(X_val2)\n",
    "X_test_prepared = full_pipeline.transform(sample_data)\n",
    "\n",
    "print(\"x_train_prepared:\",X_train_prepared.shape,\"y_train: \",y_train.shape)\n",
    "print(\"x_test_prepared:\",X_val_prepared1.shape,\"y_test: \",y_val1.shape)\n",
    "print(\"x_test_prepared:\",X_val_prepared2.shape,\"y_test: \",y_val2.shape)\n",
    "print(\"x_test_prepared:\",X_test_prepared.shape)"
   ]
  },
  {
   "cell_type": "raw",
   "id": "de00fc47",
   "metadata": {},
   "source": [
    "%%time \n",
    "\n",
    "lin_reg = LinearRegression()\n",
    "cross_val_evaluation(lin_reg,X_train_prepared, y_train,'Linear Regression')\n"
   ]
  },
  {
   "cell_type": "raw",
   "id": "6c75645c",
   "metadata": {},
   "source": [
    "lin_reg.fit(X_train_prepared,y_train)"
   ]
  },
  {
   "cell_type": "raw",
   "id": "bb65afc2",
   "metadata": {},
   "source": [
    "test_model(lin_reg, X_train_prepared, y_train)"
   ]
  },
  {
   "cell_type": "raw",
   "id": "72aca1c7",
   "metadata": {},
   "source": [
    "test_model(lin_reg, X_val_prepared1, y_val1, X_val_prepared2, y_val2)"
   ]
  },
  {
   "cell_type": "markdown",
   "id": "677e4e64",
   "metadata": {},
   "source": [
    "# Prediction "
   ]
  },
  {
   "cell_type": "code",
   "execution_count": null,
   "id": "c50c7c2b",
   "metadata": {},
   "outputs": [],
   "source": [
    "X_test_prepared = full_pipeline.transform(sample_data)\n",
    "\n",
    "print(\"x_train_prepared:\",X_train_prepared.shape,\"y_train: \",y_train.shape)\n",
    "print(\"x_test_prepared:\",X_val_prepared1.shape,\"y_test: \",y_val1.shape)\n",
    "print(\"x_test_prepared:\",X_val_prepared2.shape,\"y_test: \",y_val2.shape)\n",
    "print(\"x_test_prepared:\",X_test_prepared.shape)"
   ]
  },
  {
   "cell_type": "code",
   "execution_count": null,
   "id": "35546150",
   "metadata": {},
   "outputs": [],
   "source": [
    "yhat = forest.predict(X_test_prepared)\n"
   ]
  },
  {
   "cell_type": "code",
   "execution_count": null,
   "id": "524e4aa3",
   "metadata": {},
   "outputs": [],
   "source": [
    "yhat.shape"
   ]
  },
  {
   "cell_type": "code",
   "execution_count": null,
   "id": "cbe4e5ca",
   "metadata": {},
   "outputs": [],
   "source": [
    "sample_data['percentage_docks_available'] = yhat"
   ]
  },
  {
   "cell_type": "code",
   "execution_count": null,
   "id": "22424a27",
   "metadata": {},
   "outputs": [],
   "source": [
    "sample_data['percentage_docks_available'].to_csv('predicton_RandomForest.csv', header=True, index_label='index')"
   ]
  },
  {
   "cell_type": "code",
   "execution_count": null,
   "id": "2a3b51da",
   "metadata": {},
   "outputs": [],
   "source": []
  }
 ],
 "metadata": {
  "kernelspec": {
   "display_name": "Python 3 (ipykernel)",
   "language": "python",
   "name": "python3"
  },
  "language_info": {
   "codemirror_mode": {
    "name": "ipython",
    "version": 3
   },
   "file_extension": ".py",
   "mimetype": "text/x-python",
   "name": "python",
   "nbconvert_exporter": "python",
   "pygments_lexer": "ipython3",
   "version": "3.8.16"
  }
 },
 "nbformat": 4,
 "nbformat_minor": 5
}
