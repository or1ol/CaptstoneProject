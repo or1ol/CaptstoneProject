{
 "cells": [
  {
   "cell_type": "code",
   "execution_count": 1,
   "id": "886f34aa",
   "metadata": {},
   "outputs": [
    {
     "data": {
      "text/html": [
       "<style>.container { width:80% !important; }</style>"
      ],
      "text/plain": [
       "<IPython.core.display.HTML object>"
      ]
     },
     "metadata": {},
     "output_type": "display_data"
    }
   ],
   "source": [
    "from IPython.display import display, HTML\n",
    "display(HTML(\"<style>.container { width:80% !important; }</style>\"))\n",
    "\n",
    "import os\n",
    "\n",
    "# Python ≥3.5 is required\n",
    "import sys\n",
    "assert sys.version_info >= (3, 5)\n",
    "\n",
    "# Scikit-Learn ≥0.20 is required\n",
    "import sklearn\n",
    "assert sklearn.__version__ >= \"0.20\"\n",
    "\n",
    "from sklearn.ensemble import RandomForestRegressor\n",
    "from sklearn.ensemble import GradientBoostingRegressor\n",
    "from sklearn.model_selection import cross_val_score\n",
    "from sklearn.metrics import mean_squared_error, r2_score\n",
    "from sklearn.metrics import mean_absolute_error\n",
    "\n",
    "import pandas as pd\n",
    "import numpy as np\n",
    "pd.set_option('display.max_columns', None)\n",
    "\n",
    "# To plot pretty figures\n",
    "%matplotlib inline\n",
    "import matplotlib as mpl\n",
    "import matplotlib.pyplot as plt\n",
    "\n",
    "import scipy.stats as stats\n",
    "\n",
    "import seaborn as sns\n",
    "\n",
    "from datetime import datetime\n",
    "\n",
    "import re\n",
    "\n",
    "from tqdm.notebook import tqdm\n",
    "\n",
    "import dask.dataframe as dd\n",
    "from dask.distributed import Client\n",
    "\n",
    "sys.path.insert(0, 'tools/')\n",
    "\n",
    "from tools import * "
   ]
  },
  {
   "cell_type": "code",
   "execution_count": 2,
   "id": "ff432c75",
   "metadata": {},
   "outputs": [
    {
     "data": {
      "text/html": [
       "<div>\n",
       "    <div style=\"width: 24px; height: 24px; background-color: #e1e1e1; border: 3px solid #9D9D9D; border-radius: 5px; position: absolute;\"> </div>\n",
       "    <div style=\"margin-left: 48px;\">\n",
       "        <h3 style=\"margin-bottom: 0px;\">Client</h3>\n",
       "        <p style=\"color: #9D9D9D; margin-bottom: 0px;\">Client-7903975b-03f8-11ee-a165-4db15db7c89b</p>\n",
       "        <table style=\"width: 100%; text-align: left;\">\n",
       "\n",
       "        <tr>\n",
       "        \n",
       "            <td style=\"text-align: left;\"><strong>Connection method:</strong> Cluster object</td>\n",
       "            <td style=\"text-align: left;\"><strong>Cluster type:</strong> distributed.LocalCluster</td>\n",
       "        \n",
       "        </tr>\n",
       "\n",
       "        \n",
       "            <tr>\n",
       "                <td style=\"text-align: left;\">\n",
       "                    <strong>Dashboard: </strong> <a href=\"http://127.0.0.1:8787/status\" target=\"_blank\">http://127.0.0.1:8787/status</a>\n",
       "                </td>\n",
       "                <td style=\"text-align: left;\"></td>\n",
       "            </tr>\n",
       "        \n",
       "\n",
       "        </table>\n",
       "\n",
       "        \n",
       "\n",
       "        \n",
       "            <details>\n",
       "            <summary style=\"margin-bottom: 20px;\"><h3 style=\"display: inline;\">Cluster Info</h3></summary>\n",
       "            <div class=\"jp-RenderedHTMLCommon jp-RenderedHTML jp-mod-trusted jp-OutputArea-output\">\n",
       "    <div style=\"width: 24px; height: 24px; background-color: #e1e1e1; border: 3px solid #9D9D9D; border-radius: 5px; position: absolute;\">\n",
       "    </div>\n",
       "    <div style=\"margin-left: 48px;\">\n",
       "        <h3 style=\"margin-bottom: 0px; margin-top: 0px;\">LocalCluster</h3>\n",
       "        <p style=\"color: #9D9D9D; margin-bottom: 0px;\">a73b14fa</p>\n",
       "        <table style=\"width: 100%; text-align: left;\">\n",
       "            <tr>\n",
       "                <td style=\"text-align: left;\">\n",
       "                    <strong>Dashboard:</strong> <a href=\"http://127.0.0.1:8787/status\" target=\"_blank\">http://127.0.0.1:8787/status</a>\n",
       "                </td>\n",
       "                <td style=\"text-align: left;\">\n",
       "                    <strong>Workers:</strong> 5\n",
       "                </td>\n",
       "            </tr>\n",
       "            <tr>\n",
       "                <td style=\"text-align: left;\">\n",
       "                    <strong>Total threads:</strong> 20\n",
       "                </td>\n",
       "                <td style=\"text-align: left;\">\n",
       "                    <strong>Total memory:</strong> 31.04 GiB\n",
       "                </td>\n",
       "            </tr>\n",
       "            \n",
       "            <tr>\n",
       "    <td style=\"text-align: left;\"><strong>Status:</strong> running</td>\n",
       "    <td style=\"text-align: left;\"><strong>Using processes:</strong> True</td>\n",
       "</tr>\n",
       "\n",
       "            \n",
       "        </table>\n",
       "\n",
       "        <details>\n",
       "            <summary style=\"margin-bottom: 20px;\">\n",
       "                <h3 style=\"display: inline;\">Scheduler Info</h3>\n",
       "            </summary>\n",
       "\n",
       "            <div style=\"\">\n",
       "    <div>\n",
       "        <div style=\"width: 24px; height: 24px; background-color: #FFF7E5; border: 3px solid #FF6132; border-radius: 5px; position: absolute;\"> </div>\n",
       "        <div style=\"margin-left: 48px;\">\n",
       "            <h3 style=\"margin-bottom: 0px;\">Scheduler</h3>\n",
       "            <p style=\"color: #9D9D9D; margin-bottom: 0px;\">Scheduler-372ca1bd-1f0d-47fd-8909-bbc700e78b22</p>\n",
       "            <table style=\"width: 100%; text-align: left;\">\n",
       "                <tr>\n",
       "                    <td style=\"text-align: left;\">\n",
       "                        <strong>Comm:</strong> tcp://127.0.0.1:39891\n",
       "                    </td>\n",
       "                    <td style=\"text-align: left;\">\n",
       "                        <strong>Workers:</strong> 5\n",
       "                    </td>\n",
       "                </tr>\n",
       "                <tr>\n",
       "                    <td style=\"text-align: left;\">\n",
       "                        <strong>Dashboard:</strong> <a href=\"http://127.0.0.1:8787/status\" target=\"_blank\">http://127.0.0.1:8787/status</a>\n",
       "                    </td>\n",
       "                    <td style=\"text-align: left;\">\n",
       "                        <strong>Total threads:</strong> 20\n",
       "                    </td>\n",
       "                </tr>\n",
       "                <tr>\n",
       "                    <td style=\"text-align: left;\">\n",
       "                        <strong>Started:</strong> Just now\n",
       "                    </td>\n",
       "                    <td style=\"text-align: left;\">\n",
       "                        <strong>Total memory:</strong> 31.04 GiB\n",
       "                    </td>\n",
       "                </tr>\n",
       "            </table>\n",
       "        </div>\n",
       "    </div>\n",
       "\n",
       "    <details style=\"margin-left: 48px;\">\n",
       "        <summary style=\"margin-bottom: 20px;\">\n",
       "            <h3 style=\"display: inline;\">Workers</h3>\n",
       "        </summary>\n",
       "\n",
       "        \n",
       "        <div style=\"margin-bottom: 20px;\">\n",
       "            <div style=\"width: 24px; height: 24px; background-color: #DBF5FF; border: 3px solid #4CC9FF; border-radius: 5px; position: absolute;\"> </div>\n",
       "            <div style=\"margin-left: 48px;\">\n",
       "            <details>\n",
       "                <summary>\n",
       "                    <h4 style=\"margin-bottom: 0px; display: inline;\">Worker: 0</h4>\n",
       "                </summary>\n",
       "                <table style=\"width: 100%; text-align: left;\">\n",
       "                    <tr>\n",
       "                        <td style=\"text-align: left;\">\n",
       "                            <strong>Comm: </strong> tcp://127.0.0.1:38845\n",
       "                        </td>\n",
       "                        <td style=\"text-align: left;\">\n",
       "                            <strong>Total threads: </strong> 4\n",
       "                        </td>\n",
       "                    </tr>\n",
       "                    <tr>\n",
       "                        <td style=\"text-align: left;\">\n",
       "                            <strong>Dashboard: </strong> <a href=\"http://127.0.0.1:38175/status\" target=\"_blank\">http://127.0.0.1:38175/status</a>\n",
       "                        </td>\n",
       "                        <td style=\"text-align: left;\">\n",
       "                            <strong>Memory: </strong> 6.21 GiB\n",
       "                        </td>\n",
       "                    </tr>\n",
       "                    <tr>\n",
       "                        <td style=\"text-align: left;\">\n",
       "                            <strong>Nanny: </strong> tcp://127.0.0.1:43831\n",
       "                        </td>\n",
       "                        <td style=\"text-align: left;\"></td>\n",
       "                    </tr>\n",
       "                    <tr>\n",
       "                        <td colspan=\"2\" style=\"text-align: left;\">\n",
       "                            <strong>Local directory: </strong> /tmp/dask-scratch-space/worker-6_7x42f5\n",
       "                        </td>\n",
       "                    </tr>\n",
       "\n",
       "                    \n",
       "\n",
       "                    \n",
       "\n",
       "                </table>\n",
       "            </details>\n",
       "            </div>\n",
       "        </div>\n",
       "        \n",
       "        <div style=\"margin-bottom: 20px;\">\n",
       "            <div style=\"width: 24px; height: 24px; background-color: #DBF5FF; border: 3px solid #4CC9FF; border-radius: 5px; position: absolute;\"> </div>\n",
       "            <div style=\"margin-left: 48px;\">\n",
       "            <details>\n",
       "                <summary>\n",
       "                    <h4 style=\"margin-bottom: 0px; display: inline;\">Worker: 1</h4>\n",
       "                </summary>\n",
       "                <table style=\"width: 100%; text-align: left;\">\n",
       "                    <tr>\n",
       "                        <td style=\"text-align: left;\">\n",
       "                            <strong>Comm: </strong> tcp://127.0.0.1:41229\n",
       "                        </td>\n",
       "                        <td style=\"text-align: left;\">\n",
       "                            <strong>Total threads: </strong> 4\n",
       "                        </td>\n",
       "                    </tr>\n",
       "                    <tr>\n",
       "                        <td style=\"text-align: left;\">\n",
       "                            <strong>Dashboard: </strong> <a href=\"http://127.0.0.1:45843/status\" target=\"_blank\">http://127.0.0.1:45843/status</a>\n",
       "                        </td>\n",
       "                        <td style=\"text-align: left;\">\n",
       "                            <strong>Memory: </strong> 6.21 GiB\n",
       "                        </td>\n",
       "                    </tr>\n",
       "                    <tr>\n",
       "                        <td style=\"text-align: left;\">\n",
       "                            <strong>Nanny: </strong> tcp://127.0.0.1:36095\n",
       "                        </td>\n",
       "                        <td style=\"text-align: left;\"></td>\n",
       "                    </tr>\n",
       "                    <tr>\n",
       "                        <td colspan=\"2\" style=\"text-align: left;\">\n",
       "                            <strong>Local directory: </strong> /tmp/dask-scratch-space/worker-0vs_8ozt\n",
       "                        </td>\n",
       "                    </tr>\n",
       "\n",
       "                    \n",
       "\n",
       "                    \n",
       "\n",
       "                </table>\n",
       "            </details>\n",
       "            </div>\n",
       "        </div>\n",
       "        \n",
       "        <div style=\"margin-bottom: 20px;\">\n",
       "            <div style=\"width: 24px; height: 24px; background-color: #DBF5FF; border: 3px solid #4CC9FF; border-radius: 5px; position: absolute;\"> </div>\n",
       "            <div style=\"margin-left: 48px;\">\n",
       "            <details>\n",
       "                <summary>\n",
       "                    <h4 style=\"margin-bottom: 0px; display: inline;\">Worker: 2</h4>\n",
       "                </summary>\n",
       "                <table style=\"width: 100%; text-align: left;\">\n",
       "                    <tr>\n",
       "                        <td style=\"text-align: left;\">\n",
       "                            <strong>Comm: </strong> tcp://127.0.0.1:38091\n",
       "                        </td>\n",
       "                        <td style=\"text-align: left;\">\n",
       "                            <strong>Total threads: </strong> 4\n",
       "                        </td>\n",
       "                    </tr>\n",
       "                    <tr>\n",
       "                        <td style=\"text-align: left;\">\n",
       "                            <strong>Dashboard: </strong> <a href=\"http://127.0.0.1:36697/status\" target=\"_blank\">http://127.0.0.1:36697/status</a>\n",
       "                        </td>\n",
       "                        <td style=\"text-align: left;\">\n",
       "                            <strong>Memory: </strong> 6.21 GiB\n",
       "                        </td>\n",
       "                    </tr>\n",
       "                    <tr>\n",
       "                        <td style=\"text-align: left;\">\n",
       "                            <strong>Nanny: </strong> tcp://127.0.0.1:33843\n",
       "                        </td>\n",
       "                        <td style=\"text-align: left;\"></td>\n",
       "                    </tr>\n",
       "                    <tr>\n",
       "                        <td colspan=\"2\" style=\"text-align: left;\">\n",
       "                            <strong>Local directory: </strong> /tmp/dask-scratch-space/worker-lydesid7\n",
       "                        </td>\n",
       "                    </tr>\n",
       "\n",
       "                    \n",
       "\n",
       "                    \n",
       "\n",
       "                </table>\n",
       "            </details>\n",
       "            </div>\n",
       "        </div>\n",
       "        \n",
       "        <div style=\"margin-bottom: 20px;\">\n",
       "            <div style=\"width: 24px; height: 24px; background-color: #DBF5FF; border: 3px solid #4CC9FF; border-radius: 5px; position: absolute;\"> </div>\n",
       "            <div style=\"margin-left: 48px;\">\n",
       "            <details>\n",
       "                <summary>\n",
       "                    <h4 style=\"margin-bottom: 0px; display: inline;\">Worker: 3</h4>\n",
       "                </summary>\n",
       "                <table style=\"width: 100%; text-align: left;\">\n",
       "                    <tr>\n",
       "                        <td style=\"text-align: left;\">\n",
       "                            <strong>Comm: </strong> tcp://127.0.0.1:35263\n",
       "                        </td>\n",
       "                        <td style=\"text-align: left;\">\n",
       "                            <strong>Total threads: </strong> 4\n",
       "                        </td>\n",
       "                    </tr>\n",
       "                    <tr>\n",
       "                        <td style=\"text-align: left;\">\n",
       "                            <strong>Dashboard: </strong> <a href=\"http://127.0.0.1:45739/status\" target=\"_blank\">http://127.0.0.1:45739/status</a>\n",
       "                        </td>\n",
       "                        <td style=\"text-align: left;\">\n",
       "                            <strong>Memory: </strong> 6.21 GiB\n",
       "                        </td>\n",
       "                    </tr>\n",
       "                    <tr>\n",
       "                        <td style=\"text-align: left;\">\n",
       "                            <strong>Nanny: </strong> tcp://127.0.0.1:37295\n",
       "                        </td>\n",
       "                        <td style=\"text-align: left;\"></td>\n",
       "                    </tr>\n",
       "                    <tr>\n",
       "                        <td colspan=\"2\" style=\"text-align: left;\">\n",
       "                            <strong>Local directory: </strong> /tmp/dask-scratch-space/worker-v6wxar1n\n",
       "                        </td>\n",
       "                    </tr>\n",
       "\n",
       "                    \n",
       "\n",
       "                    \n",
       "\n",
       "                </table>\n",
       "            </details>\n",
       "            </div>\n",
       "        </div>\n",
       "        \n",
       "        <div style=\"margin-bottom: 20px;\">\n",
       "            <div style=\"width: 24px; height: 24px; background-color: #DBF5FF; border: 3px solid #4CC9FF; border-radius: 5px; position: absolute;\"> </div>\n",
       "            <div style=\"margin-left: 48px;\">\n",
       "            <details>\n",
       "                <summary>\n",
       "                    <h4 style=\"margin-bottom: 0px; display: inline;\">Worker: 4</h4>\n",
       "                </summary>\n",
       "                <table style=\"width: 100%; text-align: left;\">\n",
       "                    <tr>\n",
       "                        <td style=\"text-align: left;\">\n",
       "                            <strong>Comm: </strong> tcp://127.0.0.1:44169\n",
       "                        </td>\n",
       "                        <td style=\"text-align: left;\">\n",
       "                            <strong>Total threads: </strong> 4\n",
       "                        </td>\n",
       "                    </tr>\n",
       "                    <tr>\n",
       "                        <td style=\"text-align: left;\">\n",
       "                            <strong>Dashboard: </strong> <a href=\"http://127.0.0.1:42447/status\" target=\"_blank\">http://127.0.0.1:42447/status</a>\n",
       "                        </td>\n",
       "                        <td style=\"text-align: left;\">\n",
       "                            <strong>Memory: </strong> 6.21 GiB\n",
       "                        </td>\n",
       "                    </tr>\n",
       "                    <tr>\n",
       "                        <td style=\"text-align: left;\">\n",
       "                            <strong>Nanny: </strong> tcp://127.0.0.1:42973\n",
       "                        </td>\n",
       "                        <td style=\"text-align: left;\"></td>\n",
       "                    </tr>\n",
       "                    <tr>\n",
       "                        <td colspan=\"2\" style=\"text-align: left;\">\n",
       "                            <strong>Local directory: </strong> /tmp/dask-scratch-space/worker-znbwowfy\n",
       "                        </td>\n",
       "                    </tr>\n",
       "\n",
       "                    \n",
       "\n",
       "                    \n",
       "\n",
       "                </table>\n",
       "            </details>\n",
       "            </div>\n",
       "        </div>\n",
       "        \n",
       "\n",
       "    </details>\n",
       "</div>\n",
       "\n",
       "        </details>\n",
       "    </div>\n",
       "</div>\n",
       "            </details>\n",
       "        \n",
       "\n",
       "    </div>\n",
       "</div>"
      ],
      "text/plain": [
       "<Client: 'tcp://127.0.0.1:39891' processes=5 threads=20, memory=31.04 GiB>"
      ]
     },
     "execution_count": 2,
     "metadata": {},
     "output_type": "execute_result"
    }
   ],
   "source": [
    "client = Client()\n",
    "client"
   ]
  },
  {
   "cell_type": "markdown",
   "id": "900c12e0",
   "metadata": {},
   "source": [
    "# Merge"
   ]
  },
  {
   "cell_type": "code",
   "execution_count": 3,
   "id": "32f3bf4e",
   "metadata": {},
   "outputs": [],
   "source": [
    "config = pd.Series({\n",
    "    'path': os.path.abspath('dades'),\n",
    "    'file_type':'csv',\n",
    "    'years':[2019, 2021, 2022, 2023],\n",
    "    'dataset': 'BicingNou_ESTACIONS_MOD'\n",
    "})"
   ]
  },
  {
   "cell_type": "code",
   "execution_count": 4,
   "id": "24cb2875",
   "metadata": {},
   "outputs": [
    {
     "name": "stdout",
     "output_type": "stream",
     "text": [
      "checkpoint reloaded.\n",
      "checkpoint reloaded.\n",
      "checkpoint reloaded.\n",
      "checkpoint reloaded.\n",
      "CPU times: user 49.5 ms, sys: 13.7 ms, total: 63.2 ms\n",
      "Wall time: 60 ms\n"
     ]
    }
   ],
   "source": [
    "%%time\n",
    "\n",
    "def read_data_all(cnfg:dict):\n",
    "\n",
    "    data = dict()\n",
    "\n",
    "    for year in cnfg.years:\n",
    "        cnfg['year'] = year\n",
    "        data[year] = load_checkpoint(cnfg)\n",
    "    \n",
    "    return dd.concat(list(data.values()), interleave_partitions=False)\n",
    "    \n",
    "bbdd_completa = read_data_all(config)   "
   ]
  },
  {
   "cell_type": "code",
   "execution_count": 5,
   "id": "f7d9f27c",
   "metadata": {},
   "outputs": [
    {
     "name": "stdout",
     "output_type": "stream",
     "text": [
      "(14138683, 23)\n",
      "1\n",
      "2\n",
      "3\n",
      "4\n",
      "5\n",
      "6\n",
      "7\n",
      "8\n",
      "(14138178, 21)\n",
      "Changes to dataframe durinf preprocessing\n",
      "dropeed -505 rows\n",
      "dropped -2 columns\n",
      "CPU times: user 3.58 s, sys: 235 ms, total: 3.81 s\n",
      "Wall time: 15.9 s\n"
     ]
    }
   ],
   "source": [
    "%%time\n",
    "\n",
    "index=0\n",
    "before = get_ddf_shape(bbdd_completa)\n",
    "print(before)\n",
    "\n",
    "index+=1\n",
    "print(index)\n",
    "# 1 Error fix. # 2019 gener, febrer and marc have the status reversed\n",
    "cond = (bbdd_completa.year == 2019) & (bbdd_completa.month.isin([1,2,3]))\n",
    "bbdd_completa['status'] = bbdd_completa['status'].mask(cond, ((bbdd_completa['status'] + 1) %2))\n",
    "index+=1\n",
    "print(index)\n",
    "# 2 Remove not needed status, manitenance, planned. open = 0, closed = 1 \n",
    "cond = (bbdd_completa['status'].isin([2.0,3.0]))\n",
    "bbdd_completa['status'] = bbdd_completa['status'].mask(cond, 1.0)\n",
    "# bbdd_completa = bbdd_completa.dropna(subset=['status'])\n",
    "index+=1\n",
    "print(index)\n",
    "# 3 Remove data from 2020\n",
    "cond = (bbdd_completa['year'].isin([2020]))\n",
    "bbdd_completa = bbdd_completa.mask(cond, np.nan)\n",
    "bbdd_completa = bbdd_completa.dropna(subset=['year'])\n",
    "index+=1\n",
    "print(index)\n",
    "# 4 2019 to 2020 to have continuos data \n",
    "cond = (bbdd_completa['year'].isin([2019]))\n",
    "bbdd_completa['year'] = bbdd_completa['year'].mask(cond, bbdd_completa['year']+1)\n",
    "index+=1\n",
    "print(index)\n",
    "# 5 status reversed \n",
    "bbdd_completa['status'] = (bbdd_completa['status'] + 1)%2\n",
    "index+=1\n",
    "print(index)\n",
    "# 6 Column has all ones\n",
    "bbdd_completa = bbdd_completa.drop(columns=['is_installed'])\n",
    "index+=1\n",
    "print(index)\n",
    "# 7 Column has all ones\n",
    "bbdd_completa = bbdd_completa.drop(columns=['is_charging_station'])\n",
    "index+=1\n",
    "print(index)\n",
    "# 8 Remove row where status = closed and is renting and is returning\n",
    "# cond = (bbdd_completa['status'].isin([0.0])) & (bbdd_completa['is_renting'].isin([1.0])) & (bbdd_completa['is_returning'].isin([1.0]))\n",
    "# bbdd_completa = bbdd_completa.mask(cond, np.nan)\n",
    "# bbdd_completa = bbdd_completa.dropna(subset=['status'])\n",
    "\n",
    "after = get_ddf_shape(bbdd_completa)\n",
    "print(after)\n",
    "\n",
    "print('Changes to dataframe durinf preprocessing')\n",
    "print(f'dropeed {(after[0]-before[0]):02d} rows')\n",
    "print(f'dropped {(after[1]-before[1]):02d} columns')"
   ]
  },
  {
   "cell_type": "code",
   "execution_count": 6,
   "id": "9bb976d6",
   "metadata": {
    "scrolled": true
   },
   "outputs": [
    {
     "name": "stdout",
     "output_type": "stream",
     "text": [
      "year\n",
      "2020.0    [1, 320, 319, 318, 317, 316, 315, 314, 313, 31...\n",
      "2021.0    [1.0, 271.0, 400.0, 510.0, 26.0, 270.0, 269.0,...\n",
      "2022.0    [1, 380, 28, 379, 378, 377, 376, 375, 29, 374,...\n",
      "2023.0    [1, 34, 386, 385, 384, 383, 35, 382, 381, 380,...\n",
      "Name: station_id, dtype: object\n",
      "2020.0 (410,)\n",
      "2021.0 (509,)\n",
      "2022.0 (510,)\n",
      "2023.0 (508,)\n",
      "405\n",
      "CPU times: user 1.31 s, sys: 108 ms, total: 1.42 s\n",
      "Wall time: 8.24 s\n"
     ]
    }
   ],
   "source": [
    "%%time\n",
    "\n",
    "unique_ids_by_year = bbdd_completa.groupby('year')['station_id'].unique().compute()\n",
    "print(unique_ids_by_year)\n",
    "\n",
    "# Calcula los station_id comunes en todos los años\n",
    "common_ids = set(unique_ids_by_year[2020])\n",
    "for year, ids in unique_ids_by_year.items():\n",
    "    print(year, ids.shape)\n",
    "    common_ids = common_ids.intersection(set(ids))\n",
    "# common_ids\n",
    "print(len(common_ids))\n",
    "\n",
    "filtered_bbdd = bbdd_completa[bbdd_completa['station_id'].isin(common_ids)]\n",
    "nonfiltered_bbdd = bbdd_completa[~bbdd_completa['station_id'].isin(common_ids)]"
   ]
  },
  {
   "cell_type": "code",
   "execution_count": 7,
   "id": "cd1ca3bf",
   "metadata": {},
   "outputs": [
    {
     "name": "stdout",
     "output_type": "stream",
     "text": [
      "(11935569, 21)\n"
     ]
    },
    {
     "name": "stderr",
     "output_type": "stream",
     "text": [
      "2023-06-06 01:27:52,837 - distributed.worker.memory - WARNING - Unmanaged memory use is high. This may indicate a memory leak or the memory may not be released to the OS; see https://distributed.dask.org/en/latest/worker-memory.html#memory-not-released-back-to-the-os for more information. -- Unmanaged memory: 4.01 GiB -- Worker memory limit: 6.21 GiB\n"
     ]
    },
    {
     "name": "stdout",
     "output_type": "stream",
     "text": [
      "(11815577, 21)\n",
      "Changes to dataframe durinf preprocessing\n",
      "dropeed -119992 rows\n",
      "dropped 00 columns\n",
      "CPU times: user 6.63 s, sys: 461 ms, total: 7.1 s\n",
      "Wall time: 26.5 s\n"
     ]
    }
   ],
   "source": [
    "%%time\n",
    "\n",
    "before = get_ddf_shape(filtered_bbdd)\n",
    "print(before)\n",
    "\n",
    "filtered_bbdd = filtered_bbdd.drop_duplicates(subset=['timestamp', 'station_id'], keep='last')\n",
    "\n",
    "after = get_ddf_shape(filtered_bbdd)\n",
    "print(after)\n",
    "\n",
    "print('Changes to dataframe durinf preprocessing')\n",
    "print(f'dropeed {(after[0]-before[0]):02d} rows')\n",
    "print(f'dropped {(after[1]-before[1]):02d} columns')"
   ]
  },
  {
   "cell_type": "code",
   "execution_count": 8,
   "id": "2b125d0a",
   "metadata": {},
   "outputs": [
    {
     "name": "stdout",
     "output_type": "stream",
     "text": [
      "(2202609, 21)\n",
      "(2176820, 21)\n",
      "Changes to dataframe durinf preprocessing\n",
      "dropeed -25789 rows\n",
      "dropped 00 columns\n",
      "CPU times: user 6.29 s, sys: 437 ms, total: 6.72 s\n",
      "Wall time: 23.1 s\n"
     ]
    }
   ],
   "source": [
    "%%time\n",
    "\n",
    "before = get_ddf_shape(nonfiltered_bbdd)\n",
    "print(before)\n",
    "\n",
    "nonfiltered_bbdd = nonfiltered_bbdd.drop_duplicates(subset=['timestamp', 'station_id'], keep='last')\n",
    "\n",
    "after = get_ddf_shape(nonfiltered_bbdd)\n",
    "print(after)\n",
    "\n",
    "print('Changes to dataframe durinf preprocessing')\n",
    "print(f'dropeed {(after[0]-before[0]):02d} rows')\n",
    "print(f'dropped {(after[1]-before[1]):02d} columns')"
   ]
  },
  {
   "cell_type": "markdown",
   "id": "7f8f1ba6",
   "metadata": {},
   "source": [
    "# Predicción__________________________________\n",
    "a) Regresión lineal: relación lineal entre las variables de entrada y la variable de salida. \n",
    "\n",
    "b) Regresión Redes Neuronales (RNN -redes neuronales recurrentes-): pueden capturar relaciones no lineales entre las variables de entrada y salida."
   ]
  },
  {
   "cell_type": "code",
   "execution_count": 9,
   "id": "c1e0195a",
   "metadata": {},
   "outputs": [],
   "source": [
    "import os\n",
    "import csv\n",
    "import pandas as pd\n",
    "import random\n",
    "import numpy as np\n",
    "import warnings\n",
    "warnings.simplefilter('ignore')"
   ]
  },
  {
   "cell_type": "code",
   "execution_count": 10,
   "id": "d411c3ed",
   "metadata": {},
   "outputs": [],
   "source": [
    "from sklearn.model_selection import train_test_split\n",
    "from sklearn.pipeline import Pipeline\n",
    "from sklearn.preprocessing import FunctionTransformer\n",
    "from sklearn.impute import SimpleImputer\n",
    "from sklearn.preprocessing import OneHotEncoder\n",
    "from sklearn.preprocessing import OrdinalEncoder\n",
    "from sklearn.model_selection import cross_val_score\n",
    "\n",
    "\n",
    "from sklearn.compose import ColumnTransformer\n",
    "from sklearn.preprocessing import StandardScaler\n",
    "\n",
    "from sklearn import neighbors\n",
    "from sklearn import linear_model\n",
    "from sklearn.linear_model import LinearRegression\n",
    "\n",
    "from sklearn.model_selection import GridSearchCV\n",
    "from sklearn.model_selection import validation_curve\n",
    "\n",
    "from sklearn.ensemble import GradientBoostingRegressor\n",
    "from sklearn.ensemble import RandomForestRegressor\n",
    "\n",
    "from sklearn.metrics import mean_squared_error, r2_score\n",
    "from sklearn.metrics import mean_absolute_error\n",
    "\n",
    "DATA_DIR = 'dades'\n",
    "OUTPUT_DIR = './'"
   ]
  },
  {
   "cell_type": "code",
   "execution_count": 11,
   "id": "94a63fa9",
   "metadata": {},
   "outputs": [],
   "source": [
    "class Config:\n",
    "    num_attribs0 = ['year', 'ctx1', 'ctx2', 'ctx3', 'ctx4']\n",
    "    cat_attribs0 = ['month', 'dayofweek', 'day', 'hour'] # dayofyear\n",
    "    cat_attribs1 = ['station_id']\n",
    "    gen_attribs0 = [] # ['status']\n",
    "    target_col = ['ctx0']\n",
    "\n",
    "    epochs=5\n",
    "    batch_size=128\n",
    "    seed=42\n",
    "    embedding_dim=8\n",
    "    lr=1e-4\n",
    "\n",
    "def seed_everything(seed=42):\n",
    "    random.seed(seed)\n",
    "    os.environ['PYTHONHASHSEED'] = str(seed)\n",
    "    np.random.seed(seed)\n",
    "    "
   ]
  },
  {
   "cell_type": "code",
   "execution_count": 12,
   "id": "ef40396f",
   "metadata": {},
   "outputs": [],
   "source": [
    "config=Config()\n",
    "seed_everything(config.seed)"
   ]
  },
  {
   "cell_type": "code",
   "execution_count": 13,
   "id": "fe46f892",
   "metadata": {},
   "outputs": [
    {
     "data": {
      "text/plain": [
       "Index(['station_id', 'num_docks_available', 'num_bikes_available', 'status',\n",
       "       'timestamp', 'is_renting', 'is_returning',\n",
       "       'num_bikes_available_types.mechanical',\n",
       "       'num_bikes_available_types.ebike', 'year', 'month', 'dayofweek', 'day',\n",
       "       'dayofyear', 'hour', 'capacity', 'ctx0', 'ctx1', 'ctx2', 'ctx3',\n",
       "       'ctx4'],\n",
       "      dtype='object')"
      ]
     },
     "execution_count": 13,
     "metadata": {},
     "output_type": "execute_result"
    }
   ],
   "source": [
    "filtered_bbdd.columns"
   ]
  },
  {
   "cell_type": "code",
   "execution_count": 14,
   "id": "cc365d22",
   "metadata": {},
   "outputs": [],
   "source": [
    "\n",
    "def build_preprocessor(config): \n",
    "    num_attribs0 = config.num_attribs0 # ['year', 'ctx1', 'ctx2', 'ctx3', 'ctx4']\n",
    "    cat_attribs0 = config.cat_attribs0 #['month', 'dayofweek', 'day', 'dayofyear', 'hour' ]\n",
    "    cat_attribs1 = config.cat_attribs1 #['station_id']\n",
    "#     gen_attribs0 = config.gen_attribs0 #['status']\n",
    "    \n",
    "    num_transformer0 = Pipeline(steps=[\n",
    "        (\"imputer\", SimpleImputer(strategy=\"mean\")),\n",
    "        ('std_scaler', (StandardScaler())),\n",
    "    ])\n",
    "\n",
    "    categorical_transformer0 = Pipeline(steps=[\n",
    "        (\"imputer\", SimpleImputer(strategy=\"constant\",fill_value=0)),\n",
    "        ('ordinal_encoder', (OrdinalEncoder())),\n",
    "    ])\n",
    "    \n",
    "    categorical_transformer1 = Pipeline(steps=[\n",
    "        (\"imputer\", SimpleImputer(strategy=\"constant\",fill_value=0)),\n",
    "        ('one_hot_encoder', (OneHotEncoder(handle_unknown='ignore'))),\n",
    "    ])\n",
    "    \n",
    "#     generic_transformer0 = Pipeline([\n",
    "#         (\"imputer\", SimpleImputer(strategy=\"mean\")),\n",
    "#     ])\n",
    "    \n",
    "    preprocessor = ColumnTransformer(\n",
    "        transformers=[\n",
    "            (\"num0\", num_transformer0, num_attribs0),\n",
    "#             (\"gen1\", generic_transformer0, gen_attribs0),\n",
    "            (\"cat0\", categorical_transformer0, cat_attribs0),\n",
    "            (\"cat1\", categorical_transformer1, cat_attribs1),\n",
    "        ],\n",
    "        remainder=\"drop\"\n",
    "    )\n",
    "    \n",
    "    return preprocessor\n",
    "\n",
    "def apply_pipeline(config, x_train,x_test,y_train,y_test, show=True):\n",
    "    \n",
    "    full_pipeline = build_preprocessor(config)\n",
    "\n",
    "    x_train_prepared = full_pipeline.fit_transform(x_train)\n",
    "    x_test_prepared = full_pipeline.transform(x_test)\n",
    "    \n",
    "    if show:\n",
    "        print(\"x_train_prepared:\",x_train_prepared.shape,\"y_train: \",y_train.shape)\n",
    "        print(\"x_test_prepared:\",x_test_prepared.shape,\"y_test: \",y_test.shape)\n",
    "\n",
    "    return x_train_prepared,x_test_prepared,y_train,y_test\n"
   ]
  },
  {
   "cell_type": "code",
   "execution_count": 15,
   "id": "95860e65",
   "metadata": {},
   "outputs": [
    {
     "name": "stderr",
     "output_type": "stream",
     "text": [
      "2023-06-06 01:28:30,497 - distributed.nanny.memory - WARNING - Worker tcp://127.0.0.1:38845 (pid=8614) exceeded 95% memory budget. Restarting...\n",
      "2023-06-06 01:28:30,756 - distributed.nanny - WARNING - Restarting worker\n",
      "2023-06-06 01:28:45,252 - distributed.worker.memory - WARNING - Worker is at 81% memory usage. Pausing worker.  Process memory: 5.06 GiB -- Worker memory limit: 6.21 GiB\n",
      "2023-06-06 01:28:45,437 - distributed.worker.memory - WARNING - Worker is at 64% memory usage. Resuming worker. Process memory: 4.00 GiB -- Worker memory limit: 6.21 GiB\n",
      "2023-06-06 01:28:45,795 - distributed.worker.memory - WARNING - Unmanaged memory use is high. This may indicate a memory leak or the memory may not be released to the OS; see https://distributed.dask.org/en/latest/worker-memory.html#memory-not-released-back-to-the-os for more information. -- Unmanaged memory: 4.00 GiB -- Worker memory limit: 6.21 GiB\n"
     ]
    },
    {
     "data": {
      "text/plain": [
       "(3528441, 21)"
      ]
     },
     "execution_count": 15,
     "metadata": {},
     "output_type": "execute_result"
    }
   ],
   "source": [
    "train_data2022 = filtered_bbdd[filtered_bbdd.year.isin([2022])]\n",
    "get_ddf_shape(train_data2022)"
   ]
  },
  {
   "cell_type": "code",
   "execution_count": 16,
   "id": "1d0d8585",
   "metadata": {},
   "outputs": [
    {
     "data": {
      "text/plain": [
       "(896320, 21)"
      ]
     },
     "execution_count": 16,
     "metadata": {},
     "output_type": "execute_result"
    }
   ],
   "source": [
    "val_data2022= nonfiltered_bbdd[nonfiltered_bbdd.year.isin([2022])]\n",
    "get_ddf_shape(val_data2022)"
   ]
  },
  {
   "cell_type": "code",
   "execution_count": 17,
   "id": "77d7c313",
   "metadata": {},
   "outputs": [
    {
     "data": {
      "text/plain": [
       "(1717677, 21)"
      ]
     },
     "execution_count": 17,
     "metadata": {},
     "output_type": "execute_result"
    }
   ],
   "source": [
    "val_data2023 = bbdd_completa[bbdd_completa.year.isin([2023])]\n",
    "get_ddf_shape(val_data2023)"
   ]
  },
  {
   "cell_type": "code",
   "execution_count": 25,
   "id": "35cb6346",
   "metadata": {},
   "outputs": [
    {
     "name": "stderr",
     "output_type": "stream",
     "text": [
      "2023-06-06 01:30:04,355 - distributed.worker.memory - WARNING - Worker is at 89% memory usage. Pausing worker.  Process memory: 5.56 GiB -- Worker memory limit: 6.21 GiB\n",
      "2023-06-06 01:30:04,463 - distributed.nanny.memory - WARNING - Worker tcp://127.0.0.1:44169 (pid=8622) exceeded 95% memory budget. Restarting...\n",
      "2023-06-06 01:30:04,692 - distributed.nanny - WARNING - Restarting worker\n",
      "2023-06-06 01:30:17,941 - distributed.worker.memory - WARNING - Unmanaged memory use is high. This may indicate a memory leak or the memory may not be released to the OS; see https://distributed.dask.org/en/latest/worker-memory.html#memory-not-released-back-to-the-os for more information. -- Unmanaged memory: 4.03 GiB -- Worker memory limit: 6.21 GiB\n",
      "2023-06-06 01:30:33,862 - distributed.worker.memory - WARNING - Unmanaged memory use is high. This may indicate a memory leak or the memory may not be released to the OS; see https://distributed.dask.org/en/latest/worker-memory.html#memory-not-released-back-to-the-os for more information. -- Unmanaged memory: 4.03 GiB -- Worker memory limit: 6.21 GiB\n"
     ]
    },
    {
     "name": "stdout",
     "output_type": "stream",
     "text": [
      "CPU times: user 6.29 s, sys: 1.49 s, total: 7.78 s\n",
      "Wall time: 43.5 s\n"
     ]
    }
   ],
   "source": [
    "%%time \n",
    "\n",
    "X_train, y_train = train_data2022.compute().copy(), train_data2022.ctx0.compute().copy()"
   ]
  },
  {
   "cell_type": "code",
   "execution_count": 19,
   "id": "f5ce48fe",
   "metadata": {},
   "outputs": [
    {
     "name": "stdout",
     "output_type": "stream",
     "text": [
      "CPU times: user 3.12 s, sys: 401 ms, total: 3.52 s\n",
      "Wall time: 20 s\n"
     ]
    }
   ],
   "source": [
    "%%time \n",
    "\n",
    "X_val1, y_val1 = val_data2022.compute().copy(), val_data2022.ctx0.compute().copy()"
   ]
  },
  {
   "cell_type": "code",
   "execution_count": 20,
   "id": "55c641cc",
   "metadata": {},
   "outputs": [
    {
     "name": "stdout",
     "output_type": "stream",
     "text": [
      "CPU times: user 2.95 s, sys: 645 ms, total: 3.6 s\n",
      "Wall time: 17.4 s\n"
     ]
    }
   ],
   "source": [
    "%%time \n",
    "\n",
    "X_val2, y_val2 = val_data2023.compute().copy(), val_data2023.ctx0.compute().copy()"
   ]
  },
  {
   "cell_type": "code",
   "execution_count": 26,
   "id": "f3d3d686",
   "metadata": {},
   "outputs": [
    {
     "name": "stdout",
     "output_type": "stream",
     "text": [
      "x_train_prepared: (3528441, 414) y_train:  (3528441,)\n",
      "x_test_prepared: (896320, 414) y_test:  (896320,)\n",
      "x_test_prepared: (1717677, 414) y_test:  (1717677,)\n",
      "CPU times: user 3.78 s, sys: 591 ms, total: 4.37 s\n",
      "Wall time: 3.95 s\n"
     ]
    }
   ],
   "source": [
    "%%time \n",
    "\n",
    "full_pipeline = build_preprocessor(config)\n",
    "\n",
    "X_train_prepared = full_pipeline.fit_transform(X_train)\n",
    "X_val_prepared1 = full_pipeline.transform(X_val1)\n",
    "X_val_prepared2 = full_pipeline.transform(X_val2)\n",
    "\n",
    "print(\"x_train_prepared:\",X_train_prepared.shape,\"y_train: \",y_train.shape)\n",
    "print(\"x_test_prepared:\",X_val_prepared1.shape,\"y_test: \",y_val1.shape)\n",
    "print(\"x_test_prepared:\",X_val_prepared2.shape,\"y_test: \",y_val2.shape)\n"
   ]
  },
  {
   "cell_type": "code",
   "execution_count": 27,
   "id": "3663606c",
   "metadata": {},
   "outputs": [
    {
     "name": "stdout",
     "output_type": "stream",
     "text": [
      "\n",
      "  Linear Regression\n",
      "Scores: [0.81376396 0.81734464 0.81327889 0.81496388 0.81662265]\n",
      "Mean: 0.8151948035212062\n",
      "Standard deviation: 0.0015768274641091901\n",
      "CPU times: user 41.1 s, sys: 2min 6s, total: 2min 47s\n",
      "Wall time: 12.5 s\n"
     ]
    }
   ],
   "source": [
    "%%time \n",
    "\n",
    "lin_reg = LinearRegression()\n",
    "cross_val_evaluation(lin_reg,X_train_prepared, y_train,'Linear Regression')\n",
    "#  Linear Regression\n",
    "# Scores: [0.86876116 0.85690033 0.83716171 0.82008556 0.8135665 ]\n",
    "# Mean: 0.8392950517172396\n",
    "# Standard deviation: 0.021041440859117303"
   ]
  },
  {
   "cell_type": "code",
   "execution_count": 28,
   "id": "18b104f1",
   "metadata": {},
   "outputs": [
    {
     "name": "stdout",
     "output_type": "stream",
     "text": [
      "CPU times: user 8.51 s, sys: 26.9 s, total: 35.4 s\n",
      "Wall time: 2.71 s\n"
     ]
    },
    {
     "data": {
      "text/html": [
       "<style>#sk-container-id-1 {color: black;background-color: white;}#sk-container-id-1 pre{padding: 0;}#sk-container-id-1 div.sk-toggleable {background-color: white;}#sk-container-id-1 label.sk-toggleable__label {cursor: pointer;display: block;width: 100%;margin-bottom: 0;padding: 0.3em;box-sizing: border-box;text-align: center;}#sk-container-id-1 label.sk-toggleable__label-arrow:before {content: \"▸\";float: left;margin-right: 0.25em;color: #696969;}#sk-container-id-1 label.sk-toggleable__label-arrow:hover:before {color: black;}#sk-container-id-1 div.sk-estimator:hover label.sk-toggleable__label-arrow:before {color: black;}#sk-container-id-1 div.sk-toggleable__content {max-height: 0;max-width: 0;overflow: hidden;text-align: left;background-color: #f0f8ff;}#sk-container-id-1 div.sk-toggleable__content pre {margin: 0.2em;color: black;border-radius: 0.25em;background-color: #f0f8ff;}#sk-container-id-1 input.sk-toggleable__control:checked~div.sk-toggleable__content {max-height: 200px;max-width: 100%;overflow: auto;}#sk-container-id-1 input.sk-toggleable__control:checked~label.sk-toggleable__label-arrow:before {content: \"▾\";}#sk-container-id-1 div.sk-estimator input.sk-toggleable__control:checked~label.sk-toggleable__label {background-color: #d4ebff;}#sk-container-id-1 div.sk-label input.sk-toggleable__control:checked~label.sk-toggleable__label {background-color: #d4ebff;}#sk-container-id-1 input.sk-hidden--visually {border: 0;clip: rect(1px 1px 1px 1px);clip: rect(1px, 1px, 1px, 1px);height: 1px;margin: -1px;overflow: hidden;padding: 0;position: absolute;width: 1px;}#sk-container-id-1 div.sk-estimator {font-family: monospace;background-color: #f0f8ff;border: 1px dotted black;border-radius: 0.25em;box-sizing: border-box;margin-bottom: 0.5em;}#sk-container-id-1 div.sk-estimator:hover {background-color: #d4ebff;}#sk-container-id-1 div.sk-parallel-item::after {content: \"\";width: 100%;border-bottom: 1px solid gray;flex-grow: 1;}#sk-container-id-1 div.sk-label:hover label.sk-toggleable__label {background-color: #d4ebff;}#sk-container-id-1 div.sk-serial::before {content: \"\";position: absolute;border-left: 1px solid gray;box-sizing: border-box;top: 0;bottom: 0;left: 50%;z-index: 0;}#sk-container-id-1 div.sk-serial {display: flex;flex-direction: column;align-items: center;background-color: white;padding-right: 0.2em;padding-left: 0.2em;position: relative;}#sk-container-id-1 div.sk-item {position: relative;z-index: 1;}#sk-container-id-1 div.sk-parallel {display: flex;align-items: stretch;justify-content: center;background-color: white;position: relative;}#sk-container-id-1 div.sk-item::before, #sk-container-id-1 div.sk-parallel-item::before {content: \"\";position: absolute;border-left: 1px solid gray;box-sizing: border-box;top: 0;bottom: 0;left: 50%;z-index: -1;}#sk-container-id-1 div.sk-parallel-item {display: flex;flex-direction: column;z-index: 1;position: relative;background-color: white;}#sk-container-id-1 div.sk-parallel-item:first-child::after {align-self: flex-end;width: 50%;}#sk-container-id-1 div.sk-parallel-item:last-child::after {align-self: flex-start;width: 50%;}#sk-container-id-1 div.sk-parallel-item:only-child::after {width: 0;}#sk-container-id-1 div.sk-dashed-wrapped {border: 1px dashed gray;margin: 0 0.4em 0.5em 0.4em;box-sizing: border-box;padding-bottom: 0.4em;background-color: white;}#sk-container-id-1 div.sk-label label {font-family: monospace;font-weight: bold;display: inline-block;line-height: 1.2em;}#sk-container-id-1 div.sk-label-container {text-align: center;}#sk-container-id-1 div.sk-container {/* jupyter's `normalize.less` sets `[hidden] { display: none; }` but bootstrap.min.css set `[hidden] { display: none !important; }` so we also need the `!important` here to be able to override the default hidden behavior on the sphinx rendered scikit-learn.org. See: https://github.com/scikit-learn/scikit-learn/issues/21755 */display: inline-block !important;position: relative;}#sk-container-id-1 div.sk-text-repr-fallback {display: none;}</style><div id=\"sk-container-id-1\" class=\"sk-top-container\"><div class=\"sk-text-repr-fallback\"><pre>LinearRegression()</pre><b>In a Jupyter environment, please rerun this cell to show the HTML representation or trust the notebook. <br />On GitHub, the HTML representation is unable to render, please try loading this page with nbviewer.org.</b></div><div class=\"sk-container\" hidden><div class=\"sk-item\"><div class=\"sk-estimator sk-toggleable\"><input class=\"sk-toggleable__control sk-hidden--visually\" id=\"sk-estimator-id-1\" type=\"checkbox\" checked><label for=\"sk-estimator-id-1\" class=\"sk-toggleable__label sk-toggleable__label-arrow\">LinearRegression</label><div class=\"sk-toggleable__content\"><pre>LinearRegression()</pre></div></div></div></div></div>"
      ],
      "text/plain": [
       "LinearRegression()"
      ]
     },
     "execution_count": 28,
     "metadata": {},
     "output_type": "execute_result"
    }
   ],
   "source": [
    "%%time \n",
    "\n",
    "lin_reg.fit(X_train_prepared,y_train)"
   ]
  },
  {
   "cell_type": "code",
   "execution_count": 29,
   "id": "cea6190e",
   "metadata": {},
   "outputs": [
    {
     "name": "stdout",
     "output_type": "stream",
     "text": [
      "\n",
      "Training time: 0.06 s\n",
      "----- EVALUATION ON VAL SET ------\n",
      "MSE: 0.012614436378654765\n",
      "RMSE 0.11231400793603069\n",
      "MAE: 0.07490800229416943\n",
      "R^2:  0.8152555228518599\n",
      "\n"
     ]
    },
    {
     "data": {
      "image/png": "[encoded data removed]",
      "text/plain": [
       "<Figure size 640x480 with 1 Axes>"
      ]
     },
     "metadata": {},
     "output_type": "display_data"
    },
    {
     "data": {
      "text/plain": [
       "y_hat_t    [0.5938802737395218, 0.5960703506612646, 0.596...\n",
       "mse_t                                               0.012614\n",
       "rmse_t                                              0.112314\n",
       "mae_t                                               0.074908\n",
       "r2_t                                                0.815256\n",
       "dtype: object"
      ]
     },
     "execution_count": 29,
     "metadata": {},
     "output_type": "execute_result"
    }
   ],
   "source": [
    "test_model(lin_reg, X_train_prepared, y_train)"
   ]
  },
  {
   "cell_type": "code",
   "execution_count": 30,
   "id": "7fa6303a",
   "metadata": {},
   "outputs": [
    {
     "name": "stdout",
     "output_type": "stream",
     "text": [
      "\n",
      "Training time: 0.011 s\n",
      "----- EVALUATION ON VAL SET ------\n",
      "MSE: 0.009295025204184636\n",
      "RMSE 0.09641071104490744\n",
      "MAE: 0.06525489836910126\n",
      "R^2:  0.8568434837101825\n",
      "\n"
     ]
    },
    {
     "data": {
      "image/png": "[encoded data removed]",
      "text/plain": [
       "<Figure size 640x480 with 1 Axes>"
      ]
     },
     "metadata": {},
     "output_type": "display_data"
    },
    {
     "name": "stdout",
     "output_type": "stream",
     "text": [
      "\n",
      "Testing time: 0.025 s\n",
      "----- EVALUATION ON VAL SET ------\n",
      "MSE: 0.01300678644104816\n",
      "RMSE 0.11404729913964715\n",
      "MAE: 0.07710885103814304\n",
      "R^2:  0.8192889366434029\n",
      "\n"
     ]
    },
    {
     "data": {
      "image/png": "[encoded data removed]",
      "text/plain": [
       "<Figure size 640x480 with 1 Axes>"
      ]
     },
     "metadata": {},
     "output_type": "display_data"
    },
    {
     "data": {
      "text/plain": [
       "y_hat_t    [0.811169587637445, 0.7306573569954977, 0.8430...\n",
       "mse_t                                               0.009295\n",
       "rmse_t                                              0.096411\n",
       "mae_t                                               0.065255\n",
       "r2_t                                                0.856843\n",
       "y_hat_v    [0.2056410297551841, 0.209345569557145, 0.2883...\n",
       "mse_v                                               0.013007\n",
       "rmse_v                                              0.114047\n",
       "mae_v                                               0.077109\n",
       "r2_v                                                0.819289\n",
       "dtype: object"
      ]
     },
     "execution_count": 30,
     "metadata": {},
     "output_type": "execute_result"
    }
   ],
   "source": [
    "test_model(lin_reg, X_val_prepared1, y_val1, X_val_prepared2, y_val2)"
   ]
  },
  {
   "cell_type": "raw",
   "id": "409a3366",
   "metadata": {},
   "source": [
    "%%time \n",
    "\n",
    "ridge_reg = linear_model.Ridge(alpha=0.01) # Create a Ridge regressor\n",
    "cross_val_evaluation(ridge_reg,x_train_prepared, y_train,'Ridge Regression')\n",
    "#   Ridge Regression\n",
    "# Scores: [0.86875691 0.85689315 0.83715539 0.82008539 0.81356727]\n",
    "# Mean: 0.839291622628996\n",
    "# Standard deviation: 0.021039020876520598"
   ]
  },
  {
   "cell_type": "raw",
   "id": "bbcee643",
   "metadata": {},
   "source": [
    "ridge_reg.fit(x_train_prepared,y_train)\n",
    "test_model(ridge_reg, x_train_prepared, y_train, x_test_prepared, y_test)"
   ]
  },
  {
   "cell_type": "raw",
   "id": "dce4649b",
   "metadata": {},
   "source": [
    "%%time \n",
    "\n",
    "lasso_reg = linear_model.Lasso(alpha=0.01) # Create a Ridge regressor\n",
    "cross_val_evaluation(lasso_reg,x_train_prepared, y_train,'Lasso Regression')\n",
    "#   Lasso Regression\n",
    "# Scores: [0.85542452 0.844529   0.82666133 0.81003802 0.80356838]\n",
    "# Mean: 0.8280442480533837\n",
    "# Standard deviation: 0.0197313499648892\n",
    "# CPU times: user 2min 14s, sys: 3min 2s, total: 5min 16s\n",
    "# Wall time: 1min 28s"
   ]
  },
  {
   "cell_type": "raw",
   "id": "89f9ecc3",
   "metadata": {},
   "source": [
    "lasso_reg.fit(x_train_prepared,y_train)\n",
    "test_model(lasso_reg, x_train_prepared, y_train, x_test_prepared, y_test)"
   ]
  },
  {
   "cell_type": "raw",
   "id": "3c85a9bc",
   "metadata": {},
   "source": [
    "names = [ i for i in range(x_train_prepared.shape[1])]"
   ]
  },
  {
   "cell_type": "raw",
   "id": "30955727",
   "metadata": {},
   "source": [
    "coefs_lin_reg = pd.Series(np.abs(lin_reg.coef_), names).sort_values()\n",
    "coefs_ridge_reg = pd.Series(np.abs(ridge_reg.coef_), names).sort_values()\n",
    "coefs_lasso_reg = pd.Series(np.abs(lasso_reg.coef_), names).sort_values()"
   ]
  },
  {
   "cell_type": "raw",
   "id": "ce8cb578",
   "metadata": {},
   "source": [
    "f = plt.figure(figsize=(15,5))\n",
    "ax1 = f.add_subplot(131)\n",
    "ax2 = f.add_subplot(132)\n",
    "ax3 = f.add_subplot(133)\n",
    "\n",
    "coefs_lin_reg.plot(kind=\"barh\", title='coefs_lr', ax=ax1)\n",
    "coefs_ridge_reg.plot(kind=\"barh\", title='coefs_ridge', ax=ax2)\n",
    "coefs_lasso_reg.plot(kind=\"barh\", title='coefs_lasso', ax=ax3)\n",
    "\n"
   ]
  },
  {
   "cell_type": "raw",
   "id": "74b18449",
   "metadata": {},
   "source": [
    "n_alphas = 100\n",
    "alphas = np.logspace(-2, 2, n_alphas)"
   ]
  },
  {
   "cell_type": "raw",
   "id": "bc9c0ded",
   "metadata": {},
   "source": [
    "%%time \n",
    "\n",
    "coefs_ridge = []\n",
    "rmse_ridge = []\n",
    "\n",
    "for l in tqdm(alphas):\n",
    "    regr_ridge = linear_model.Ridge(alpha=l) # Create a Ridge regressor\n",
    "    \n",
    "    regr_ridge.fit(x_train_prepared, y_train)  # Perform the fitting\n",
    "    \n",
    "    coefs_ridge.append(regr_ridge.coef_)\n",
    "    yhat = ridge_reg.predict(x_test_prepared)\n",
    "    mse = mean_squared_error(y_test,yhat)\n",
    "    rmse_ridge.append(np.sqrt(mse))"
   ]
  },
  {
   "cell_type": "raw",
   "id": "69eded44",
   "metadata": {},
   "source": [
    "%%time \n",
    "\n",
    "coefs_lasso = []\n",
    "rmse_lasso = []\n",
    "for l in tqdm(alphas):\n",
    "    regr_lasso = linear_model.Lasso(alpha=l,tol=0.001) # Create a Ridge regressor\n",
    "    regr_lasso.fit(x_train_prepared, y_train)  # Perform the fitting\n",
    "    coefs_lasso.append(regr_lasso.coef_)\n",
    "    yhat = regr_lasso.predict(x_test_prepared)\n",
    "    mse = mean_squared_error(y_test,yhat)\n",
    "    rmse_lasso.append(np.sqrt(mse))"
   ]
  },
  {
   "cell_type": "raw",
   "id": "d600c78d",
   "metadata": {},
   "source": [
    "# Display results\n",
    "\n",
    "fig, axs = plt.subplots(2, 2, figsize=(20, 20), sharey='row')\n",
    "\n",
    "axs[0,0].plot(alphas, np.abs(coefs_ridge))\n",
    "axs[0,0].set_xscale('log')\n",
    "axs[0,0].set_title('Ridge coefficients as a function of the regularization')\n",
    "axs[0,0].axis('tight')\n",
    "axs[0,0].set_xlabel('alpha')\n",
    "axs[0,0].set_ylabel('weights')\n",
    "#axs[0,0].legend(names)\n",
    "\n",
    "axs[0,1].plot(alphas, np.abs(coefs_lasso))\n",
    "axs[0,1].set_xscale('log')\n",
    "axs[0,1].set_title('Lasso coefficients as a function of the regularization')\n",
    "axs[0,1].axis('tight')\n",
    "axs[0,1].set_xlabel('alpha')\n",
    "axs[0,1].set_ylabel('weights')\n",
    "#axs[0,1].legend(names)\n",
    "\n",
    "axs[1,0].plot(alphas, rmse_ridge)\n",
    "axs[1,0].set_xscale('log')\n",
    "axs[1,0].set_title('Ridge scores as a function of the regularization')\n",
    "axs[1,0].axis('tight')\n",
    "axs[1,0].set_xlabel('alpha')\n",
    "axs[1,0].set_ylabel('r2')\n",
    "\n",
    "axs[1,1].plot(alphas, rmse_lasso)\n",
    "axs[1,1].set_xscale('log')\n",
    "axs[1,1].set_title('Lasso scores as a function of the regularization')\n",
    "axs[1,1].axis('tight')\n",
    "axs[1,1].set_xlabel('alpha')\n",
    "axs[1,1].set_ylabel('r2')\n",
    "\n",
    "plt.show()"
   ]
  },
  {
   "cell_type": "raw",
   "id": "e885f8e4",
   "metadata": {},
   "source": [
    "\n",
    "# Find optimal alphas\n",
    "best_rmse_ridge = min(rmse_ridge)\n",
    "max_index_ridge = rmse_ridge.index(best_rmse_ridge)\n",
    "best_alpha_ridge = alphas[max_index_ridge]\n",
    "print('Ridge')\n",
    "print(max_index_ridge, best_alpha_ridge, best_rmse_ridge)\n",
    "\n",
    "best_rmse_lasso = min(rmse_lasso)\n",
    "max_index_lasso = rmse_lasso.index(best_rmse_lasso)\n",
    "best_alpha_lasso = alphas[max_index_lasso]\n",
    "print('Lasso')\n",
    "print(max_index_lasso, best_alpha_lasso, best_rmse_lasso)\n"
   ]
  },
  {
   "cell_type": "markdown",
   "id": "184a9875",
   "metadata": {},
   "source": [
    "## KNN3"
   ]
  },
  {
   "cell_type": "raw",
   "id": "e3e23e13",
   "metadata": {},
   "source": [
    "%%time \n",
    "\n",
    "knn_reg = neighbors.KNeighborsRegressor(3)\n",
    "cross_val_evaluation(knn_reg,x_train_prepared, y_train,'KNN Regression')"
   ]
  },
  {
   "cell_type": "raw",
   "id": "bfb37c68",
   "metadata": {},
   "source": [
    "%%time \n",
    "\n",
    "knn_reg.fit(x_train_prepared,y_train)\n",
    "test_model(knn_reg, x_train_prepared, y_train, x_test_prepared, y_test)"
   ]
  },
  {
   "cell_type": "markdown",
   "id": "78e6b975",
   "metadata": {},
   "source": [
    "## SVM "
   ]
  },
  {
   "cell_type": "raw",
   "id": "63c38de8",
   "metadata": {},
   "source": [
    "from sklearn.svm import SVC"
   ]
  },
  {
   "cell_type": "raw",
   "id": "be37c059",
   "metadata": {},
   "source": [
    "%%time \n",
    "\n",
    "SVC_reg = SVC(kernel='linear')\n",
    "cross_val_evaluation(SVC_reg,x_train_prepared, y_train,'SVC Regression')"
   ]
  },
  {
   "cell_type": "raw",
   "id": "32b3d7ad",
   "metadata": {},
   "source": [
    "%%time \n",
    "\n",
    "SVC_reg.fit(x_train_prepared,y_train)\n",
    "test_model(SVC_reg, x_train_prepared, y_train, x_test_prepared, y_test)"
   ]
  },
  {
   "cell_type": "markdown",
   "id": "ce966eb7",
   "metadata": {},
   "source": [
    "## Random forest"
   ]
  },
  {
   "cell_type": "code",
   "execution_count": null,
   "id": "63d41825",
   "metadata": {},
   "outputs": [],
   "source": []
  },
  {
   "cell_type": "markdown",
   "id": "18557956",
   "metadata": {},
   "source": [
    "## Gradiend Boosting"
   ]
  },
  {
   "cell_type": "code",
   "execution_count": null,
   "id": "5abab55c",
   "metadata": {},
   "outputs": [],
   "source": []
  },
  {
   "cell_type": "markdown",
   "id": "60ea8443",
   "metadata": {},
   "source": [
    "## NN "
   ]
  },
  {
   "cell_type": "code",
   "execution_count": null,
   "id": "d93dc98d",
   "metadata": {},
   "outputs": [],
   "source": []
  },
  {
   "cell_type": "markdown",
   "id": "de7c283b",
   "metadata": {},
   "source": [
    "## Generate Sample"
   ]
  },
  {
   "cell_type": "code",
   "execution_count": null,
   "id": "597e669c",
   "metadata": {},
   "outputs": [],
   "source": [
    "sample_data = pd.read_csv('dades/metadata_sample_submission.csv/metadata_sample_submission.csv')"
   ]
  },
  {
   "cell_type": "code",
   "execution_count": null,
   "id": "268849f2",
   "metadata": {},
   "outputs": [],
   "source": [
    "sample_data['year'] = 2023"
   ]
  },
  {
   "cell_type": "code",
   "execution_count": null,
   "id": "fd1f3b9c",
   "metadata": {},
   "outputs": [],
   "source": [
    "sample_data['datetime'] = pd.to_datetime(sample_data[['year','month','day']])\n",
    "sample_data['dayofweek'] = sample_data.datetime.dt.dayofweek\n"
   ]
  },
  {
   "cell_type": "code",
   "execution_count": null,
   "id": "564ce166",
   "metadata": {},
   "outputs": [],
   "source": [
    "sample_data.drop(['datetime', 'index'], axis=1, inplace=True)"
   ]
  },
  {
   "cell_type": "code",
   "execution_count": null,
   "id": "13acc112",
   "metadata": {},
   "outputs": [],
   "source": [
    "sample_data.rename(\n",
    "    columns = {\n",
    "        'ctx-4':'ctx4',\n",
    "        'ctx-3':'ctx3',\n",
    "        'ctx-2':'ctx2',\n",
    "        'ctx-1':'ctx1'\n",
    "    },\n",
    "    inplace=True\n",
    ")"
   ]
  },
  {
   "cell_type": "code",
   "execution_count": null,
   "id": "7f468dce",
   "metadata": {},
   "outputs": [],
   "source": [
    "sample_data"
   ]
  },
  {
   "cell_type": "code",
   "execution_count": null,
   "id": "696eab39",
   "metadata": {},
   "outputs": [],
   "source": [
    "# (config, x_train,x_val,y_train,y_val)\n",
    "show = True\n",
    "full_pipeline = build_preprocessor(config)\n",
    "\n",
    "X_train_prepared = full_pipeline.fit_transform(X_train)\n",
    "X_val_prepared1 = full_pipeline.transform(X_val1)\n",
    "X_val_prepared2 = full_pipeline.transform(X_val2)\n",
    "X_test_prepared = full_pipeline.transform(sample_data)\n",
    "\n",
    "if show:\n",
    "    print(\"x_train_prepared:\",x_train_prepared.shape,\"y_train: \",y_train.shape)\n",
    "    print(\"x_test_prepared:\",x_val_prepared.shape,\"y_test: \",y_val.shape)\n",
    "    print(\"x_test_prepared:\",x_test_prepared.shape)\n"
   ]
  },
  {
   "cell_type": "code",
   "execution_count": null,
   "id": "a5250b8b",
   "metadata": {},
   "outputs": [],
   "source": [
    "%%time \n",
    "\n",
    "lin_reg = LinearRegression()\n",
    "cross_val_evaluation(lin_reg,x_train_prepared, y_train,'Linear Regression')\n"
   ]
  },
  {
   "cell_type": "code",
   "execution_count": null,
   "id": "7d2f5c49",
   "metadata": {},
   "outputs": [],
   "source": [
    "lin_reg.fit(x_train_prepared,y_train)\n",
    "test_model(lin_reg, x_train_prepared, y_train, x_val_prepared, y_val)"
   ]
  },
  {
   "cell_type": "code",
   "execution_count": null,
   "id": "35546150",
   "metadata": {},
   "outputs": [],
   "source": [
    "yhat = lin_reg.predict(x_test_prepared)\n"
   ]
  },
  {
   "cell_type": "code",
   "execution_count": null,
   "id": "524e4aa3",
   "metadata": {},
   "outputs": [],
   "source": [
    "yhat.shape"
   ]
  },
  {
   "cell_type": "code",
   "execution_count": null,
   "id": "cbe4e5ca",
   "metadata": {},
   "outputs": [],
   "source": [
    "sample_data['percentage_docks_available'] = yhat"
   ]
  },
  {
   "cell_type": "code",
   "execution_count": null,
   "id": "22424a27",
   "metadata": {},
   "outputs": [],
   "source": [
    "sample_data['percentage_docks_available'].to_csv('predicton_lr.csv', header=True)"
   ]
  },
  {
   "cell_type": "code",
   "execution_count": null,
   "id": "2a3b51da",
   "metadata": {},
   "outputs": [],
   "source": []
  }
 ],
 "metadata": {
  "kernelspec": {
   "display_name": "Python 3 (ipykernel)",
   "language": "python",
   "name": "python3"
  },
  "language_info": {
   "codemirror_mode": {
    "name": "ipython",
    "version": 3
   },
   "file_extension": ".py",
   "mimetype": "text/x-python",
   "name": "python",
   "nbconvert_exporter": "python",
   "pygments_lexer": "ipython3",
   "version": "3.8.16"
  }
 },
 "nbformat": 4,
 "nbformat_minor": 5
}
