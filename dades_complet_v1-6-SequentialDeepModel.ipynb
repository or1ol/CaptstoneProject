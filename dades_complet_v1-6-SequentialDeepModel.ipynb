{
 "cells": [
  {
   "cell_type": "markdown",
   "id": "da37d8d8",
   "metadata": {},
   "source": [
    "# Import"
   ]
  },
  {
   "cell_type": "code",
   "execution_count": 1,
   "id": "886f34aa",
   "metadata": {},
   "outputs": [
    {
     "data": {
      "text/html": [
       "<style>.container { width:80% !important; }</style>"
      ],
      "text/plain": [
       "<IPython.core.display.HTML object>"
      ]
     },
     "metadata": {},
     "output_type": "display_data"
    }
   ],
   "source": [
    "from IPython.display import display, HTML\n",
    "display(HTML(\"<style>.container { width:80% !important; }</style>\"))\n",
    "\n",
    "import os\n",
    "import time\n",
    "# Python ≥3.5 is required\n",
    "import sys\n",
    "assert sys.version_info >= (3, 5)\n",
    "\n",
    "# Scikit-Learn ≥0.20 is required\n",
    "import sklearn\n",
    "assert sklearn.__version__ >= \"0.20\"\n",
    "\n",
    "from sklearn.ensemble import RandomForestRegressor\n",
    "from sklearn.ensemble import GradientBoostingRegressor\n",
    "from sklearn.model_selection import cross_val_score\n",
    "from sklearn.metrics import mean_squared_error, r2_score\n",
    "from sklearn.metrics import mean_absolute_error\n",
    "\n",
    "import pandas as pd\n",
    "import numpy as np\n",
    "pd.set_option('display.max_columns', None)\n",
    "\n",
    "# To plot pretty figures\n",
    "%matplotlib inline\n",
    "import matplotlib as mpl\n",
    "import matplotlib.pyplot as plt\n",
    "\n",
    "import scipy.stats as stats\n",
    "\n",
    "import seaborn as sns\n",
    "\n",
    "from datetime import datetime\n",
    "\n",
    "import re\n",
    "import random\n",
    "\n",
    "from tqdm.notebook import tqdm\n",
    "\n",
    "import dask.dataframe as dd\n",
    "from dask.distributed import LocalCluster, Client\n",
    "\n",
    "sys.path.insert(0, 'tools/')\n",
    "\n",
    "from tools import * "
   ]
  },
  {
   "cell_type": "code",
   "execution_count": 2,
   "id": "c1e0195a",
   "metadata": {},
   "outputs": [],
   "source": [
    "import warnings\n",
    "warnings.simplefilter('ignore')"
   ]
  },
  {
   "cell_type": "code",
   "execution_count": 3,
   "id": "d411c3ed",
   "metadata": {},
   "outputs": [],
   "source": [
    "from sklearn.model_selection import train_test_split\n",
    "from sklearn.pipeline import Pipeline\n",
    "from sklearn.preprocessing import FunctionTransformer\n",
    "from sklearn.impute import SimpleImputer\n",
    "from sklearn.preprocessing import OneHotEncoder\n",
    "from sklearn.preprocessing import OrdinalEncoder\n",
    "from sklearn.model_selection import cross_val_score\n",
    "\n",
    "from sklearn.compose import ColumnTransformer\n",
    "from sklearn.preprocessing import StandardScaler\n",
    "\n",
    "from sklearn import neighbors\n",
    "from sklearn import linear_model\n",
    "from sklearn.linear_model import LinearRegression\n",
    "from sklearn.ensemble import GradientBoostingRegressor\n",
    "from sklearn.ensemble import RandomForestRegressor\n",
    "\n",
    "from sklearn.model_selection import GridSearchCV\n",
    "from sklearn.model_selection import validation_curve\n",
    "\n",
    "from sklearn.metrics import mean_squared_error, r2_score\n",
    "from sklearn.metrics import mean_absolute_error"
   ]
  },
  {
   "cell_type": "code",
   "execution_count": 4,
   "id": "aedbc502",
   "metadata": {},
   "outputs": [
    {
     "name": "stderr",
     "output_type": "stream",
     "text": [
      "2023-06-12 02:03:33.931094: I tensorflow/core/util/port.cc:110] oneDNN custom operations are on. You may see slightly different numerical results due to floating-point round-off errors from different computation orders. To turn them off, set the environment variable `TF_ENABLE_ONEDNN_OPTS=0`.\n",
      "2023-06-12 02:03:33.967417: I tensorflow/core/platform/cpu_feature_guard.cc:182] This TensorFlow binary is optimized to use available CPU instructions in performance-critical operations.\n",
      "To enable the following instructions: AVX2 AVX512F AVX512_VNNI FMA, in other operations, rebuild TensorFlow with the appropriate compiler flags.\n",
      "2023-06-12 02:03:34.535255: W tensorflow/compiler/tf2tensorrt/utils/py_utils.cc:38] TF-TRT Warning: Could not find TensorRT\n"
     ]
    }
   ],
   "source": [
    "import tensorflow as tf\n",
    "from tensorflow import keras"
   ]
  },
  {
   "cell_type": "markdown",
   "id": "76fc5410",
   "metadata": {},
   "source": [
    "# Read files"
   ]
  },
  {
   "cell_type": "code",
   "execution_count": 5,
   "id": "85969754",
   "metadata": {},
   "outputs": [
    {
     "name": "stdout",
     "output_type": "stream",
     "text": [
      "CPU times: user 16.6 s, sys: 1.62 s, total: 18.2 s\n",
      "Wall time: 18.2 s\n"
     ]
    }
   ],
   "source": [
    "%%time\n",
    "\n",
    "X_train = pd.read_csv('dades/processed/training_data.csv', index_col='index')\n",
    "# y_train = pd.read_csv('dades/processed/training_label.csv', index_col='index')\n",
    "X_train = X_train.reset_index(drop=True)\n",
    "y_train = X_train.ctx0.copy()\n",
    "#X_train.drop(columns=['ctx0'], axis=1, inplace=True)\n",
    "\n",
    "X_val1 = pd.read_csv('dades/processed/validation_data.csv', index_col='index')\n",
    "# y_val1 = pd.read_csv('dades/processed/validation_label.csv', index_col='index')\n",
    "X_val1 = X_val1.reset_index(drop=True)\n",
    "y_val1 = X_val1.ctx0.copy()\n",
    "#X_val1.drop(columns=['ctx0'], axis=1, inplace=True)\n",
    "\n",
    "# X_val2 = pd.read_csv('dades/processed/testing_data.csv', index_col='index')\n",
    "# # y_val2 = pd.read_csv('dades/processed/testing_label.csv', index_col='index')\n",
    "# X_val2 = X_val2.reset_index(drop=True)\n",
    "# y_val2 = X_val2.ctx0.copy()\n",
    "# #X_val2.drop(columns=['ctx0'], axis=1, inplace=True)\n"
   ]
  },
  {
   "cell_type": "raw",
   "id": "9922305e",
   "metadata": {},
   "source": [
    "cat_y_train = ((y_train.copy()*100)/1).round()\n",
    "cat_y_val1 = ((y_val1.copy()*100)/1).round()\n",
    "cat_y_val2 = ((y_val2.copy()*100)/1).round()"
   ]
  },
  {
   "cell_type": "markdown",
   "id": "da9dfc01",
   "metadata": {},
   "source": [
    "# Run pipeline"
   ]
  },
  {
   "cell_type": "code",
   "execution_count": 6,
   "id": "5dec9ba7",
   "metadata": {},
   "outputs": [
    {
     "data": {
      "text/plain": [
       "Index(['station_id', 'year', 'month', 'dayofweek', 'day', 'dayofyear', 'hour',\n",
       "       'capacity', 'ctx0', 'ctx1', 'ctx2', 'ctx3', 'ctx4', 'festius',\n",
       "       'festius_sun', 'festius_sun_sat', 'weekend', 'VALOR_TM_D5',\n",
       "       'VALOR_TX_D5', 'VALOR_TN_D5', 'VALOR_HRM_D5', 'VALOR_PPT_D5',\n",
       "       'VALOR_PM_D5', 'VALOR_RS24h_D5', 'VALOR_VVM10_D5', 'VALOR_DVM10_D5',\n",
       "       'VALOR_VVX10_D5', 'VALOR_DVVX10_D5', 'VALOR_HRX_D5', 'VALOR_HRN_D5',\n",
       "       'VALOR_PX_D5', 'VALOR_PN_D5', 'VALOR_TM_X2', 'VALOR_TX_X2',\n",
       "       'VALOR_TN_X2', 'VALOR_HRM_X2', 'VALOR_HRX_X2', 'VALOR_HRN_X2',\n",
       "       'VALOR_TM_X4', 'VALOR_TX_X4', 'VALOR_TN_X4', 'VALOR_HRM_X4',\n",
       "       'VALOR_PPT_X4', 'VALOR_PM_X4', 'VALOR_RS24h_X4', 'VALOR_VVM10_X4',\n",
       "       'VALOR_DVM10_X4', 'VALOR_VVX10_X4', 'VALOR_DVVX10_X4', 'VALOR_HRX_X4',\n",
       "       'VALOR_HRN_X4', 'VALOR_PX_X4', 'VALOR_PN_X4', 'VALOR_TM_X8',\n",
       "       'VALOR_TX_X8', 'VALOR_TN_X8', 'VALOR_HRM_X8', 'VALOR_PPT_X8',\n",
       "       'VALOR_PM_X8', 'VALOR_RS24h_X8', 'VALOR_VVM10_X8', 'VALOR_DVM10_X8',\n",
       "       'VALOR_VVX10_X8', 'VALOR_DVVX10_X8', 'VALOR_HRX_X8', 'VALOR_HRN_X8',\n",
       "       'VALOR_PX_X8', 'VALOR_PN_X8'],\n",
       "      dtype='object')"
      ]
     },
     "execution_count": 6,
     "metadata": {},
     "output_type": "execute_result"
    }
   ],
   "source": [
    "X_train.columns"
   ]
  },
  {
   "cell_type": "raw",
   "id": "8548d447",
   "metadata": {
    "scrolled": true
   },
   "source": [
    "%%time \n",
    "\n",
    "correlations = np.abs(\n",
    "    X_train.corr(method='pearson').ctx0\n",
    ").sort_values(ascending=False)\n",
    "\n",
    "# num_docks_available                     0.880782\n",
    "# timestamp                               0.024289\n",
    "# num_bikes_available_types.ebike        -0.393887\n",
    "# num_bikes_available_types.mechanical   -0.755995\n",
    "# num_bikes_available                    -0.865541\n",
    "# is_returning                            0.006442\n",
    "# is_renting                              0.006442\n",
    "# status                                  0.006277\n",
    "\n",
    "correlations.to_dict()"
   ]
  },
  {
   "cell_type": "raw",
   "id": "75f88973",
   "metadata": {},
   "source": [
    "columns_meteo = correlations.index[[('VALOR' in i)&('X8' in i) for i in correlations.index]].to_list()"
   ]
  },
  {
   "cell_type": "raw",
   "id": "70f8aa7d",
   "metadata": {},
   "source": [
    "correlations.index[[('VALOR' not in i) for i in correlations.index]].to_list()"
   ]
  },
  {
   "cell_type": "code",
   "execution_count": 7,
   "id": "94a63fa9",
   "metadata": {},
   "outputs": [],
   "source": [
    "columns_meteo = ['VALOR_TM_X4', 'VALOR_PPT_X4']\n",
    "\n",
    "class Config:\n",
    "    num_attribs0 = ['capacity', 'ctx1', 'ctx2', 'ctx3', 'ctx4'] + columns_meteo\n",
    "    cat_attribs0 = ['month', 'dayofyear', 'day', 'hour']\n",
    "    cat_attribs1 = ['dayofweek']\n",
    "    gen_attribs0 = ['station_id', 'festius_sun', 'weekend'] # year\n",
    "    target_col = ['ctx0']\n",
    "\n",
    "    epochs=50\n",
    "    batch_size=128\n",
    "    seed=42\n",
    "    lr=1e-4\n",
    "\n",
    "def seed_everything(seed=42):\n",
    "    random.seed(seed)\n",
    "    os.environ['PYTHONHASHSEED'] = str(seed)\n",
    "    np.random.seed(seed)\n",
    "    tf.random.set_seed(seed)\n",
    "    os.environ['TF_DETERMINISTIC_OPS'] = '1'\n",
    "    os.environ['TF_CUDNN_DETERMINISTIC'] = '1'\n",
    "\n",
    "    tf.config.threading.set_inter_op_parallelism_threads(1)\n",
    "    tf.config.threading.set_intra_op_parallelism_threads(1)\n",
    "    "
   ]
  },
  {
   "cell_type": "code",
   "execution_count": 8,
   "id": "ef40396f",
   "metadata": {},
   "outputs": [],
   "source": [
    "config=Config()\n",
    "seed_everything(config.seed)"
   ]
  },
  {
   "cell_type": "code",
   "execution_count": 9,
   "id": "cc365d22",
   "metadata": {},
   "outputs": [],
   "source": [
    "\n",
    "def build_preprocessor(config):\n",
    "    num_attribs0 = config.num_attribs0\n",
    "    cat_attribs0 = config.cat_attribs0\n",
    "    cat_attribs1 = config.cat_attribs1\n",
    "    gen_attribs0 = config.gen_attribs0\n",
    "\n",
    "    num_transformer0 = Pipeline(steps=[\n",
    "        (\"imputer\", SimpleImputer(strategy=\"mean\")),\n",
    "        ('std_scaler', (StandardScaler())),\n",
    "    ])\n",
    "\n",
    "    categorical_transformer0 = Pipeline(steps=[\n",
    "        (\"imputer\", SimpleImputer(strategy=\"constant\",fill_value=0)),\n",
    "        ('ordinal_encoder', (OrdinalEncoder(handle_unknown='use_encoded_value', unknown_value=np.nan))),\n",
    "    ])\n",
    "    \n",
    "    categorical_transformer1 = Pipeline(steps=[\n",
    "        (\"imputer\", SimpleImputer(strategy=\"constant\",fill_value=0)),\n",
    "        ('one_hot_encoder', (OneHotEncoder(handle_unknown='ignore'))),\n",
    "    ])\n",
    "    \n",
    "    generic_transformer0 = Pipeline([\n",
    "        (\"imputer\", SimpleImputer(strategy=\"constant\",fill_value=0)),\n",
    "    ])\n",
    "    \n",
    "    preprocessor = ColumnTransformer(\n",
    "        transformers=[\n",
    "            (\"num0\", num_transformer0, num_attribs0),\n",
    "            (\"gen1\", generic_transformer0, gen_attribs0),\n",
    "            (\"cat0\", categorical_transformer0, cat_attribs0),\n",
    "            (\"cat1\", categorical_transformer1, cat_attribs1),\n",
    "        ],\n",
    "        remainder=\"drop\"\n",
    "    )\n",
    "    \n",
    "    return preprocessor"
   ]
  },
  {
   "cell_type": "code",
   "execution_count": 10,
   "id": "f3d3d686",
   "metadata": {},
   "outputs": [
    {
     "name": "stdout",
     "output_type": "stream",
     "text": [
      "x_train_prepared: (3541851, 21) y_train:  (3541851,)\n",
      "x_test_prepared: (882910, 21) y_test:  (882910,)\n",
      "CPU times: user 2 s, sys: 40.4 ms, total: 2.04 s\n",
      "Wall time: 2.04 s\n"
     ]
    }
   ],
   "source": [
    "%%time \n",
    "\n",
    "full_pipeline = build_preprocessor(config)\n",
    "\n",
    "X_train_prepared = full_pipeline.fit_transform(X_train)\n",
    "X_val_prepared1 = full_pipeline.transform(X_val1)\n",
    "# X_val_prepared2 = full_pipeline.transform(X_val2)\n",
    "\n",
    "print(\"x_train_prepared:\",X_train_prepared.shape,\"y_train: \",y_train.shape)\n",
    "print(\"x_test_prepared:\",X_val_prepared1.shape,\"y_test: \",y_val1.shape)\n",
    "# print(\"x_test_prepared:\",X_val_prepared2.shape,\"y_test: \",y_val2.shape)\n"
   ]
  },
  {
   "cell_type": "code",
   "execution_count": 11,
   "id": "96db76b0",
   "metadata": {},
   "outputs": [
    {
     "data": {
      "text/plain": [
       "array([[ 2.94981964,  0.05071035,  0.05071967, ...,  0.        ,\n",
       "         0.        ,  1.        ],\n",
       "       [ 2.94981964,  0.05071035,  0.05071967, ...,  0.        ,\n",
       "         0.        ,  1.        ],\n",
       "       [ 2.94981964,  0.05071035,  0.05071967, ...,  0.        ,\n",
       "         0.        ,  1.        ],\n",
       "       ...,\n",
       "       [-0.06288951, -0.21123279, -0.21120568, ...,  0.        ,\n",
       "         1.        ,  0.        ],\n",
       "       [-0.06288951, -0.49474773, -0.49470136, ...,  0.        ,\n",
       "         1.        ,  0.        ],\n",
       "       [-0.06288951, -0.35299026, -0.35295352, ...,  0.        ,\n",
       "         1.        ,  0.        ]])"
      ]
     },
     "execution_count": 11,
     "metadata": {},
     "output_type": "execute_result"
    }
   ],
   "source": [
    "X_train_prepared"
   ]
  },
  {
   "cell_type": "code",
   "execution_count": 12,
   "id": "45f59594",
   "metadata": {
    "scrolled": true
   },
   "outputs": [
    {
     "data": {
      "text/plain": [
       "(3541851, 21)"
      ]
     },
     "execution_count": 12,
     "metadata": {},
     "output_type": "execute_result"
    }
   ],
   "source": [
    "X_train_prepared.shape"
   ]
  },
  {
   "cell_type": "markdown",
   "id": "a60023b9",
   "metadata": {},
   "source": [
    "# Needed for NN"
   ]
  },
  {
   "cell_type": "raw",
   "id": "683f3f90",
   "metadata": {
    "scrolled": true
   },
   "source": [
    "%%time \n",
    "\n",
    "X_train_prepared = X_train_prepared.toarray()\n"
   ]
  },
  {
   "cell_type": "raw",
   "id": "660f973a",
   "metadata": {},
   "source": [
    "%%time \n",
    "\n",
    "X_val_prepared1 = X_val_prepared1.toarray()\n"
   ]
  },
  {
   "cell_type": "raw",
   "id": "3fa04d7b",
   "metadata": {},
   "source": [
    "%%time \n",
    "\n",
    "X_val2_df = pd.DataFrame(X_val_prepared2)\n"
   ]
  },
  {
   "cell_type": "markdown",
   "id": "7f8f1ba6",
   "metadata": {},
   "source": [
    "# Predicción______________________________\n",
    "\n",
    "a) Regresión lineal: relación lineal entre las variables de entrada y la variable de salida. \n",
    "\n",
    "b) Regresión Redes Neuronales (RNN -redes neuronales recurrentes-): pueden capturar relaciones no lineales entre las variables de entrada y salida."
   ]
  },
  {
   "cell_type": "code",
   "execution_count": 13,
   "id": "d93dc98d",
   "metadata": {},
   "outputs": [
    {
     "name": "stdout",
     "output_type": "stream",
     "text": [
      "2.12.0\n",
      "2.12.0\n",
      "/device:GPU:0\n"
     ]
    },
    {
     "name": "stderr",
     "output_type": "stream",
     "text": [
      "2023-06-12 02:03:55.734016: I tensorflow/core/common_runtime/gpu/gpu_device.cc:1635] Created device /device:GPU:0 with 9784 MB memory:  -> device: 0, name: NVIDIA RTX A2000 12GB, pci bus id: 0000:68:00.0, compute capability: 8.6\n"
     ]
    }
   ],
   "source": [
    "print(keras.__version__)\n",
    "print(tf.__version__)\n",
    "print(tf.test.gpu_device_name())"
   ]
  },
  {
   "cell_type": "code",
   "execution_count": 14,
   "id": "08fde246",
   "metadata": {},
   "outputs": [
    {
     "name": "stderr",
     "output_type": "stream",
     "text": [
      "2023-06-12 02:03:55.746857: I tensorflow/core/common_runtime/gpu/gpu_device.cc:1635] Created device /device:GPU:0 with 9784 MB memory:  -> device: 0, name: NVIDIA RTX A2000 12GB, pci bus id: 0000:68:00.0, compute capability: 8.6\n"
     ]
    },
    {
     "data": {
      "text/plain": [
       "[name: \"/device:CPU:0\"\n",
       " device_type: \"CPU\"\n",
       " memory_limit: 268435456\n",
       " locality {\n",
       " }\n",
       " incarnation: 18235321282777707810\n",
       " xla_global_id: -1,\n",
       " name: \"/device:GPU:0\"\n",
       " device_type: \"GPU\"\n",
       " memory_limit: 10259922944\n",
       " locality {\n",
       "   bus_id: 1\n",
       "   links {\n",
       "   }\n",
       " }\n",
       " incarnation: 16721110273464604421\n",
       " physical_device_desc: \"device: 0, name: NVIDIA RTX A2000 12GB, pci bus id: 0000:68:00.0, compute capability: 8.6\"\n",
       " xla_global_id: 416903419]"
      ]
     },
     "execution_count": 14,
     "metadata": {},
     "output_type": "execute_result"
    }
   ],
   "source": [
    "from tensorflow.python.client import device_lib\n",
    "device_lib.list_local_devices()"
   ]
  },
  {
   "cell_type": "code",
   "execution_count": 15,
   "id": "2c9c2f86",
   "metadata": {},
   "outputs": [],
   "source": [
    "# clear previous session\n",
    "keras.backend.clear_session()\n",
    "np.random.seed(42)\n",
    "tf.random.set_seed(42)"
   ]
  },
  {
   "cell_type": "code",
   "execution_count": 16,
   "id": "d02550e8",
   "metadata": {},
   "outputs": [],
   "source": [
    "import concurrent.futures\n",
    "import logging\n",
    "import sys\n",
    "import random\n",
    "from tensorflow.keras.models import Sequential\n",
    "from tensorflow.keras.layers import Dense, Dropout\n",
    "from tensorflow.keras.optimizers import Adam"
   ]
  },
  {
   "cell_type": "code",
   "execution_count": 17,
   "id": "d5407b1f",
   "metadata": {},
   "outputs": [
    {
     "name": "stderr",
     "output_type": "stream",
     "text": [
      "2023-06-12 02:03:55.761821: I tensorflow/core/common_runtime/gpu/gpu_device.cc:1635] Created device /job:localhost/replica:0/task:0/device:GPU:0 with 9784 MB memory:  -> device: 0, name: NVIDIA RTX A2000 12GB, pci bus id: 0000:68:00.0, compute capability: 8.6\n"
     ]
    },
    {
     "name": "stdout",
     "output_type": "stream",
     "text": [
      "WARNING:tensorflow:From /tmp/ipykernel_64313/2320514670.py:9: The name tf.keras.backend.set_session is deprecated. Please use tf.compat.v1.keras.backend.set_session instead.\n",
      "\n"
     ]
    }
   ],
   "source": [
    "from keras import backend as K\n",
    "# Configuring a session\n",
    "session_conf = tf.compat.v1.ConfigProto(\n",
    "    intra_op_parallelism_threads=3,\n",
    "    inter_op_parallelism_threads=3\n",
    ")\n",
    "sess = tf.compat.v1.Session(graph=tf.compat.v1.get_default_graph(), config=session_conf)\n",
    "#K.set_session(sess)\n",
    "tf.compat.v1.keras.backend.set_session(sess)"
   ]
  },
  {
   "cell_type": "code",
   "execution_count": 18,
   "id": "88f8b667",
   "metadata": {},
   "outputs": [],
   "source": [
    "from keras.callbacks_v1 import TensorBoard\n",
    "from keras.callbacks import ReduceLROnPlateau"
   ]
  },
  {
   "cell_type": "code",
   "execution_count": 19,
   "id": "f036d258",
   "metadata": {},
   "outputs": [
    {
     "data": {
      "text/plain": [
       "21"
      ]
     },
     "execution_count": 19,
     "metadata": {},
     "output_type": "execute_result"
    }
   ],
   "source": [
    "X_train_prepared.shape[1] # 408 + 11 "
   ]
  },
  {
   "cell_type": "code",
   "execution_count": 20,
   "id": "a5610486",
   "metadata": {},
   "outputs": [
    {
     "name": "stdout",
     "output_type": "stream",
     "text": [
      "21\n"
     ]
    }
   ],
   "source": [
    "# indicate the input shape\n",
    "input_shape = X_train_prepared.shape[1]\n",
    "print(input_shape)"
   ]
  },
  {
   "cell_type": "code",
   "execution_count": 21,
   "id": "c11e72a9",
   "metadata": {},
   "outputs": [],
   "source": [
    "def root_mean_squared_error(y_true, y_pred):\n",
    "    y = K.cast(y_true, K.np.float32)\n",
    "    y_hat = K.cast(y_pred, K.np.float32)\n",
    "    return K.sqrt(K.mean(K.square(y_hat - y)))"
   ]
  },
  {
   "cell_type": "code",
   "execution_count": 23,
   "id": "9b2e060b",
   "metadata": {},
   "outputs": [
    {
     "name": "stderr",
     "output_type": "stream",
     "text": [
      "2023-06-12 02:05:29.458895: I tensorflow/core/common_runtime/gpu/gpu_device.cc:1635] Created device /job:localhost/replica:0/task:0/device:GPU:0 with 9784 MB memory:  -> device: 0, name: NVIDIA RTX A2000 12GB, pci bus id: 0000:68:00.0, compute capability: 8.6\n"
     ]
    }
   ],
   "source": [
    "from keras.callbacks_v1 import TensorBoard\n",
    "from keras.callbacks import ReduceLROnPlateau\n",
    "from tensorflow.keras.models import Model\n",
    "from tensorflow.keras.layers import Dense, Input\n",
    "\n",
    "final_model = keras.models.Sequential([\n",
    "    keras.layers.Input(\n",
    "        shape=(input_shape,)\n",
    "    ),\n",
    "    keras.layers.Dense(\n",
    "        input_shape//0.85, activation=\"relu\"\n",
    "    ),\n",
    "    keras.layers.Dropout(0.5),\n",
    "    keras.layers.Dense(\n",
    "        input_shape//0.95, activation=\"relu\"\n",
    "    ),\n",
    "    keras.layers.Dropout(0.5),\n",
    "    keras.layers.Dense(\n",
    "        input_shape//2, activation=\"relu\"\n",
    "    ),\n",
    "    keras.layers.Dropout(0.2),\n",
    "    keras.layers.Dense(\n",
    "        input_shape//4, activation=\"relu\"\n",
    "    ),\n",
    "    keras.layers.Dropout(0.2),\n",
    "    keras.layers.Dense(\n",
    "        input_shape//8, activation=\"relu\"\n",
    "    ),\n",
    "    keras.layers.Dense(1)\n",
    "])\n",
    "\n",
    "final_model.compile(\n",
    "    optimizer=keras.optimizers.Adam(learning_rate=0.0001, beta_1=0.9, beta_2=0.999),\n",
    "    loss=root_mean_squared_error,\n",
    "    metrics=[\n",
    "        'RootMeanSquaredError',\n",
    "        'MeanAbsoluteError',\n",
    "        'MeanSquaredError'       \n",
    "    ]\n",
    ")\n",
    "\n",
    "# tensorboard=TensorBoard(log_dir=\"Model_log\")\n",
    "# define a call back\n",
    "checkpoint_cb = keras.callbacks.ModelCheckpoint(\"./checkpoints/year_22_nn.h5\", verbose=2, monitor='val_loss', save_best_only=True)\n",
    "early_stopping_cb = keras.callbacks.EarlyStopping(monitor='val_loss', patience=10, verbose=2, restore_best_weights=True)\n",
    "\n",
    "# Set a learning rate annealer - to have a decreasing learning rate during the training to reach efficiently the global minimum of the loss function.\n",
    "# The LR is decreased dynamically when the score is not improved. This keeps the advantage of the fast computation time with a high LR at the start.\n",
    "learning_rate_reduction = ReduceLROnPlateau(\n",
    "    monitor='val_loss',  # Track the score on the validation set\n",
    "    patience=5,  # Number of epochs in which no improvement is seen.\n",
    "    verbose=2,\n",
    "    factor=0.8,  # Factor by which the LR is multiplied.\n",
    "    min_lr=0.0000001  # Don't go below this value for LR.\n",
    ")"
   ]
  },
  {
   "cell_type": "code",
   "execution_count": 24,
   "id": "a4e19935",
   "metadata": {},
   "outputs": [
    {
     "name": "stdout",
     "output_type": "stream",
     "text": [
      "Model: \"sequential\"\n",
      "_________________________________________________________________\n",
      " Layer (type)                Output Shape              Param #   \n",
      "=================================================================\n",
      " dense (Dense)               (None, 24)                528       \n",
      "                                                                 \n",
      " dropout (Dropout)           (None, 24)                0         \n",
      "                                                                 \n",
      " dense_1 (Dense)             (None, 22)                550       \n",
      "                                                                 \n",
      " dropout_1 (Dropout)         (None, 22)                0         \n",
      "                                                                 \n",
      " dense_2 (Dense)             (None, 10)                230       \n",
      "                                                                 \n",
      " dropout_2 (Dropout)         (None, 10)                0         \n",
      "                                                                 \n",
      " dense_3 (Dense)             (None, 5)                 55        \n",
      "                                                                 \n",
      " dropout_3 (Dropout)         (None, 5)                 0         \n",
      "                                                                 \n",
      " dense_4 (Dense)             (None, 2)                 12        \n",
      "                                                                 \n",
      " dense_5 (Dense)             (None, 1)                 3         \n",
      "                                                                 \n",
      "=================================================================\n",
      "Total params: 1,378\n",
      "Trainable params: 1,378\n",
      "Non-trainable params: 0\n",
      "_________________________________________________________________\n"
     ]
    }
   ],
   "source": [
    "final_model.summary()"
   ]
  },
  {
   "cell_type": "code",
   "execution_count": 25,
   "id": "abb72103",
   "metadata": {},
   "outputs": [
    {
     "data": {
      "image/png": "[encoded data removed]",
      "text/plain": [
       "<IPython.core.display.Image object>"
      ]
     },
     "execution_count": 25,
     "metadata": {},
     "output_type": "execute_result"
    }
   ],
   "source": [
    "keras.utils.plot_model(final_model, \"model.png\", show_shapes=True)"
   ]
  },
  {
   "cell_type": "code",
   "execution_count": 26,
   "id": "8556984b",
   "metadata": {
    "scrolled": false
   },
   "outputs": [
    {
     "name": "stdout",
     "output_type": "stream",
     "text": [
      "Epoch 1/50\n"
     ]
    },
    {
     "name": "stderr",
     "output_type": "stream",
     "text": [
      "2023-06-12 02:05:30.754467: I tensorflow/core/common_runtime/executor.cc:1197] [/device:CPU:0] (DEBUG INFO) Executor start aborting (this does not indicate an error and you can ignore this message): INVALID_ARGUMENT: You must feed a value for placeholder tensor 'Placeholder/_11' with dtype float and shape [3541851,1]\n",
      "\t [[{{node Placeholder/_11}}]]\n",
      "2023-06-12 02:05:30.754685: I tensorflow/core/common_runtime/executor.cc:1197] [/device:CPU:0] (DEBUG INFO) Executor start aborting (this does not indicate an error and you can ignore this message): INVALID_ARGUMENT: You must feed a value for placeholder tensor 'Placeholder/_11' with dtype float and shape [3541851,1]\n",
      "\t [[{{node Placeholder/_11}}]]\n",
      "2023-06-12 02:05:32.192395: I tensorflow/compiler/xla/stream_executor/cuda/cuda_blas.cc:637] TensorFloat-32 will be used for the matrix multiplication. This will only be logged once.\n",
      "2023-06-12 02:05:32.195058: I tensorflow/compiler/xla/service/service.cc:169] XLA service 0x7f94c102fe60 initialized for platform CUDA (this does not guarantee that XLA will be used). Devices:\n",
      "2023-06-12 02:05:32.195075: I tensorflow/compiler/xla/service/service.cc:177]   StreamExecutor device (0): NVIDIA RTX A2000 12GB, Compute Capability 8.6\n",
      "2023-06-12 02:05:32.198391: I tensorflow/compiler/mlir/tensorflow/utils/dump_mlir_util.cc:269] disabling MLIR crash reproducer, set env var `MLIR_CRASH_REPRODUCER_DIRECTORY` to enable.\n",
      "2023-06-12 02:05:32.318435: I tensorflow/compiler/xla/stream_executor/cuda/cuda_dnn.cc:424] Loaded cuDNN version 8901\n",
      "2023-06-12 02:05:32.418108: I ./tensorflow/compiler/jit/device_compiler.h:180] Compiled cluster using XLA!  This line is logged at most once for the lifetime of the process.\n"
     ]
    },
    {
     "name": "stdout",
     "output_type": "stream",
     "text": [
      "27658/27671 [============================>.] - ETA: 0s - loss: 1.4391 - root_mean_squared_error: 6.2485 - mean_absolute_error: 0.7755 - mean_squared_error: 39.0441"
     ]
    },
    {
     "name": "stderr",
     "output_type": "stream",
     "text": [
      "2023-06-12 02:06:37.998516: I tensorflow/core/common_runtime/executor.cc:1197] [/device:CPU:0] (DEBUG INFO) Executor start aborting (this does not indicate an error and you can ignore this message): INVALID_ARGUMENT: You must feed a value for placeholder tensor 'Placeholder/_11' with dtype float and shape [882910,1]\n",
      "\t [[{{node Placeholder/_11}}]]\n",
      "2023-06-12 02:06:37.998711: I tensorflow/core/common_runtime/executor.cc:1197] [/device:CPU:0] (DEBUG INFO) Executor start aborting (this does not indicate an error and you can ignore this message): INVALID_ARGUMENT: You must feed a value for placeholder tensor 'Placeholder/_11' with dtype float and shape [882910,1]\n",
      "\t [[{{node Placeholder/_11}}]]\n"
     ]
    },
    {
     "name": "stdout",
     "output_type": "stream",
     "text": [
      "\n",
      "Epoch 1: val_loss improved from inf to 0.26114, saving model to ./checkpoints/year_22_nn.h5\n",
      "27671/27671 [==============================] - 74s 3ms/step - loss: 1.4385 - root_mean_squared_error: 6.2471 - mean_absolute_error: 0.7752 - mean_squared_error: 39.0262 - val_loss: 0.2611 - val_root_mean_squared_error: 0.2631 - val_mean_absolute_error: 0.2259 - val_mean_squared_error: 0.0692 - lr: 1.0000e-04\n",
      "Epoch 2/50\n",
      "27670/27671 [============================>.] - ETA: 0s - loss: 0.2610 - root_mean_squared_error: 0.2613 - mean_absolute_error: 0.2199 - mean_squared_error: 0.0683\n",
      "Epoch 2: val_loss improved from 0.26114 to 0.26029, saving model to ./checkpoints/year_22_nn.h5\n",
      "27671/27671 [==============================] - 71s 3ms/step - loss: 0.2610 - root_mean_squared_error: 0.2613 - mean_absolute_error: 0.2199 - mean_squared_error: 0.0683 - val_loss: 0.2603 - val_root_mean_squared_error: 0.2622 - val_mean_absolute_error: 0.2249 - val_mean_squared_error: 0.0688 - lr: 1.0000e-04\n",
      "Epoch 3/50\n",
      "27647/27671 [============================>.] - ETA: 0s - loss: 0.2610 - root_mean_squared_error: 0.2613 - mean_absolute_error: 0.2199 - mean_squared_error: 0.0683\n",
      "Epoch 3: val_loss did not improve from 0.26029\n",
      "27671/27671 [==============================] - 71s 3ms/step - loss: 0.2610 - root_mean_squared_error: 0.2613 - mean_absolute_error: 0.2199 - mean_squared_error: 0.0683 - val_loss: 0.2608 - val_root_mean_squared_error: 0.2627 - val_mean_absolute_error: 0.2254 - val_mean_squared_error: 0.0690 - lr: 1.0000e-04\n",
      "Epoch 4/50\n",
      " 9292/27671 [=========>....................] - ETA: 43s - loss: 0.2608 - root_mean_squared_error: 0.2611 - mean_absolute_error: 0.2198 - mean_squared_error: 0.0682"
     ]
    },
    {
     "name": "stderr",
     "output_type": "stream",
     "text": [
      "\n",
      "KeyboardInterrupt\n",
      "\n"
     ]
    }
   ],
   "source": [
    "history = final_model.fit(X_train_prepared, y_train, \n",
    "                          batch_size=config.batch_size,\n",
    "                          epochs=config.epochs, \n",
    "                          validation_data=(X_val_prepared1, y_val1), \n",
    "                          callbacks=[checkpoint_cb, early_stopping_cb, learning_rate_reduction]\n",
    "                         )\n"
   ]
  },
  {
   "cell_type": "markdown",
   "id": "de7c283b",
   "metadata": {},
   "source": [
    "## Generate Sample"
   ]
  },
  {
   "cell_type": "code",
   "execution_count": null,
   "id": "597e669c",
   "metadata": {},
   "outputs": [],
   "source": [
    "sample_data = pd.read_csv('dades/processed/kaggle_sample_data.csv')"
   ]
  },
  {
   "cell_type": "code",
   "execution_count": null,
   "id": "7f468dce",
   "metadata": {},
   "outputs": [],
   "source": [
    "sample_data"
   ]
  },
  {
   "cell_type": "markdown",
   "id": "a8268990",
   "metadata": {},
   "source": [
    "# apply pipeline"
   ]
  },
  {
   "cell_type": "raw",
   "id": "38dac3bd",
   "metadata": {},
   "source": [
    "full_pipeline = build_preprocessor(config)\n",
    "\n",
    "X_train_prepared = full_pipeline.fit_transform(X_train)\n",
    "X_val_prepared1 = full_pipeline.transform(X_val1)\n",
    "X_val_prepared2 = full_pipeline.transform(X_val2)\n",
    "X_test_prepared = full_pipeline.transform(sample_data)\n",
    "\n",
    "print(\"x_train_prepared:\",X_train_prepared.shape,\"y_train: \",y_train.shape)\n",
    "print(\"x_test_prepared:\",X_val_prepared1.shape,\"y_test: \",y_val1.shape)\n",
    "print(\"x_test_prepared:\",X_val_prepared2.shape,\"y_test: \",y_val2.shape)\n",
    "print(\"x_test_prepared:\",X_test_prepared.shape)"
   ]
  },
  {
   "cell_type": "raw",
   "id": "7be9046e",
   "metadata": {},
   "source": [
    "%%time \n",
    "\n",
    "lin_reg = LinearRegression()\n",
    "cross_val_evaluation(lin_reg,X_train_prepared, y_train,'Linear Regression')\n"
   ]
  },
  {
   "cell_type": "raw",
   "id": "c5ceee46",
   "metadata": {},
   "source": [
    "lin_reg.fit(X_train_prepared,y_train)"
   ]
  },
  {
   "cell_type": "raw",
   "id": "27c93027",
   "metadata": {},
   "source": [
    "test_model(lin_reg, X_train_prepared, y_train)"
   ]
  },
  {
   "cell_type": "raw",
   "id": "55f662bd",
   "metadata": {},
   "source": [
    "test_model(lin_reg, X_val_prepared1, y_val1, X_val_prepared2, y_val2)"
   ]
  },
  {
   "cell_type": "markdown",
   "id": "cda7dfe9",
   "metadata": {},
   "source": [
    "# Prediction "
   ]
  },
  {
   "cell_type": "code",
   "execution_count": null,
   "id": "34a639da",
   "metadata": {},
   "outputs": [],
   "source": [
    "X_test_prepared = full_pipeline.transform(sample_data)\n",
    "\n",
    "print(\"x_train_prepared:\",X_train_prepared.shape,\"y_train: \",y_train.shape)\n",
    "print(\"x_test_prepared:\",X_val_prepared1.shape,\"y_test: \",y_val1.shape)\n",
    "print(\"x_test_prepared:\",X_val_prepared2.shape,\"y_test: \",y_val2.shape)\n",
    "print(\"x_test_prepared:\",X_test_prepared.shape)"
   ]
  },
  {
   "cell_type": "code",
   "execution_count": null,
   "id": "35546150",
   "metadata": {},
   "outputs": [],
   "source": [
    "yhat = lin_reg.predict(X_test_prepared)\n"
   ]
  },
  {
   "cell_type": "code",
   "execution_count": null,
   "id": "524e4aa3",
   "metadata": {},
   "outputs": [],
   "source": [
    "yhat.shape"
   ]
  },
  {
   "cell_type": "code",
   "execution_count": null,
   "id": "cbe4e5ca",
   "metadata": {},
   "outputs": [],
   "source": [
    "sample_data['percentage_docks_available'] = yhat"
   ]
  },
  {
   "cell_type": "code",
   "execution_count": null,
   "id": "22424a27",
   "metadata": {},
   "outputs": [],
   "source": [
    "sample_data['percentage_docks_available'].to_csv('predicton_RandomForest.csv', header=True, index_label='index')"
   ]
  },
  {
   "cell_type": "code",
   "execution_count": null,
   "id": "2a3b51da",
   "metadata": {},
   "outputs": [],
   "source": []
  }
 ],
 "metadata": {
  "kernelspec": {
   "display_name": "Python 3 (ipykernel)",
   "language": "python",
   "name": "python3"
  },
  "language_info": {
   "codemirror_mode": {
    "name": "ipython",
    "version": 3
   },
   "file_extension": ".py",
   "mimetype": "text/x-python",
   "name": "python",
   "nbconvert_exporter": "python",
   "pygments_lexer": "ipython3",
   "version": "3.8.16"
  }
 },
 "nbformat": 4,
 "nbformat_minor": 5
}
