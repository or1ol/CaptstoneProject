{
 "cells": [
  {
   "cell_type": "markdown",
   "id": "da37d8d8",
   "metadata": {},
   "source": [
    "# Import"
   ]
  },
  {
   "cell_type": "code",
   "execution_count": 1,
   "id": "886f34aa",
   "metadata": {},
   "outputs": [
    {
     "data": {
      "text/html": [
       "<style>.container { width:80% !important; }</style>"
      ],
      "text/plain": [
       "<IPython.core.display.HTML object>"
      ]
     },
     "metadata": {},
     "output_type": "display_data"
    }
   ],
   "source": [
    "from IPython.display import display, HTML\n",
    "display(HTML(\"<style>.container { width:80% !important; }</style>\"))\n",
    "\n",
    "import os\n",
    "import time\n",
    "# Python ≥3.5 is required\n",
    "import sys\n",
    "assert sys.version_info >= (3, 5)\n",
    "\n",
    "# Scikit-Learn ≥0.20 is required\n",
    "import sklearn\n",
    "assert sklearn.__version__ >= \"0.20\"\n",
    "\n",
    "from sklearn.ensemble import RandomForestRegressor\n",
    "from sklearn.ensemble import GradientBoostingRegressor\n",
    "from sklearn.model_selection import cross_val_score\n",
    "from sklearn.metrics import mean_squared_error, r2_score\n",
    "from sklearn.metrics import mean_absolute_error\n",
    "\n",
    "import pandas as pd\n",
    "import numpy as np\n",
    "pd.set_option('display.max_columns', None)\n",
    "\n",
    "# To plot pretty figures\n",
    "%matplotlib inline\n",
    "import matplotlib as mpl\n",
    "import matplotlib.pyplot as plt\n",
    "\n",
    "import scipy.stats as stats\n",
    "\n",
    "import seaborn as sns\n",
    "\n",
    "from datetime import datetime\n",
    "\n",
    "import re\n",
    "import random\n",
    "\n",
    "from tqdm.notebook import tqdm\n",
    "\n",
    "import dask.dataframe as dd\n",
    "from dask.distributed import LocalCluster, Client\n",
    "\n",
    "sys.path.insert(0, 'tools/')\n",
    "\n",
    "from tools import * "
   ]
  },
  {
   "cell_type": "code",
   "execution_count": 2,
   "id": "c1e0195a",
   "metadata": {},
   "outputs": [],
   "source": [
    "import warnings\n",
    "warnings.simplefilter('ignore')"
   ]
  },
  {
   "cell_type": "code",
   "execution_count": 3,
   "id": "d411c3ed",
   "metadata": {},
   "outputs": [],
   "source": [
    "from sklearn.model_selection import train_test_split\n",
    "from sklearn.pipeline import Pipeline\n",
    "from sklearn.preprocessing import FunctionTransformer\n",
    "from sklearn.impute import SimpleImputer\n",
    "from sklearn.preprocessing import OneHotEncoder\n",
    "from sklearn.preprocessing import OrdinalEncoder\n",
    "from sklearn.model_selection import cross_val_score\n",
    "\n",
    "from sklearn.compose import ColumnTransformer\n",
    "from sklearn.preprocessing import StandardScaler\n",
    "\n",
    "from sklearn import neighbors\n",
    "from sklearn import linear_model\n",
    "from sklearn.ensemble import GradientBoostingRegressor\n",
    "from sklearn.ensemble import RandomForestRegressor\n",
    "\n",
    "from sklearn.model_selection import GridSearchCV\n",
    "from sklearn.model_selection import validation_curve\n",
    "\n",
    "from sklearn.metrics import mean_squared_error, r2_score\n",
    "from sklearn.metrics import mean_absolute_error"
   ]
  },
  {
   "cell_type": "markdown",
   "id": "76fc5410",
   "metadata": {},
   "source": [
    "# Read files"
   ]
  },
  {
   "cell_type": "code",
   "execution_count": 4,
   "id": "85969754",
   "metadata": {},
   "outputs": [
    {
     "name": "stdout",
     "output_type": "stream",
     "text": [
      "CPU times: user 39.9 s, sys: 3.89 s, total: 43.8 s\n",
      "Wall time: 44.4 s\n"
     ]
    }
   ],
   "source": [
    "%%time\n",
    "\n",
    "X_train = pd.read_csv('dades/processed/training_data.csv', index_col='index')\n",
    "X_train = X_train.reset_index(drop=True)\n",
    "y_train = X_train.ctx0.copy()\n",
    "\n",
    "X_val = pd.read_csv('dades/processed/validation_data.csv', index_col='index')\n",
    "X_val = X_val.reset_index(drop=True)\n",
    "y_val = X_val.ctx0.copy()\n",
    "\n",
    "X_test = pd.read_csv('dades/processed/testing_data.csv', index_col='index')\n",
    "X_test = X_test.reset_index(drop=True)\n",
    "y_test = X_test.ctx0.copy()\n"
   ]
  },
  {
   "cell_type": "code",
   "execution_count": 5,
   "id": "631e1a3f",
   "metadata": {},
   "outputs": [],
   "source": [
    "cat_y_train = ((y_train.copy()*100)/5).round().astype(int)\n",
    "cat_y_val = ((y_val.copy()*100)/5).round().astype(int)\n",
    "cat_y_test = ((y_test.copy()*100)/5).round().astype(int)"
   ]
  },
  {
   "cell_type": "markdown",
   "id": "33fca60c",
   "metadata": {},
   "source": [
    "# View"
   ]
  },
  {
   "cell_type": "code",
   "execution_count": 6,
   "id": "179a6d68",
   "metadata": {},
   "outputs": [
    {
     "data": {
      "text/plain": [
       "[2019, 2020, 2021, 2022]"
      ]
     },
     "execution_count": 6,
     "metadata": {},
     "output_type": "execute_result"
    }
   ],
   "source": [
    "years = X_train.year.unique().tolist()\n",
    "years"
   ]
  },
  {
   "cell_type": "code",
   "execution_count": 7,
   "id": "92552898",
   "metadata": {},
   "outputs": [
    {
     "data": {
      "text/plain": [
       "[1, 2, 3, 4, 5, 6, 7, 8, 9, 10, 11, 12]"
      ]
     },
     "execution_count": 7,
     "metadata": {},
     "output_type": "execute_result"
    }
   ],
   "source": [
    "months = X_train.month.unique().tolist()\n",
    "months"
   ]
  },
  {
   "cell_type": "markdown",
   "id": "da9dfc01",
   "metadata": {},
   "source": [
    "# Run pipeline"
   ]
  },
  {
   "cell_type": "code",
   "execution_count": 8,
   "id": "48c1ab6e",
   "metadata": {},
   "outputs": [
    {
     "data": {
      "text/plain": [
       "Index(['station_id', 'num_docks_available', 'num_bikes_available', 'timestamp',\n",
       "       'num_bikes_available_types.mechanical',\n",
       "       'num_bikes_available_types.ebike', 'year', 'month', 'dayofweek', 'day',\n",
       "       'dayofyear', 'hour', 'capacity', 'ctx0', 'ctx1', 'ctx2', 'ctx3', 'ctx4',\n",
       "       'lon', 'lat', 'festius', 'festius_sun', 'festius_sun_sat', 'weekend',\n",
       "       'VALOR_TN_X4', 'VALOR_TM_X4', 'VALOR_TX_X4', 'VALOR_PPT_X4',\n",
       "       'ctx1_ctx2_mean', 'ctx1_ctx2_std', 'ctx1_ctx2_ctx3_mean',\n",
       "       'ctx1_ctx2_ctx3_std', 'ctx1_ctx2_ctx3_ctx4_mean',\n",
       "       'ctx1_ctx2_ctx3_ctx4_std'],\n",
       "      dtype='object')"
      ]
     },
     "execution_count": 8,
     "metadata": {},
     "output_type": "execute_result"
    }
   ],
   "source": [
    "X_train.columns"
   ]
  },
  {
   "cell_type": "code",
   "execution_count": 10,
   "id": "2a86e13f",
   "metadata": {},
   "outputs": [
    {
     "name": "stdout",
     "output_type": "stream",
     "text": [
      "CPU times: user 20.7 s, sys: 567 ms, total: 21.3 s\n",
      "Wall time: 21.3 s\n"
     ]
    },
    {
     "data": {
      "text/plain": [
       "{'ctx0': 1.0,\n",
       " 'ctx1': 0.9129730514796786,\n",
       " 'num_docks_available': 0.9055683555185408,\n",
       " 'num_bikes_available': 0.8893401764262853,\n",
       " 'ctx1_ctx2_mean': 0.8749838959980545,\n",
       " 'num_bikes_available_types.mechanical': 0.8419660611344777,\n",
       " 'ctx1_ctx2_ctx3_mean': 0.8385814221879833,\n",
       " 'ctx1_ctx2_ctx3_ctx4_mean': 0.8038040173697454,\n",
       " 'ctx2': 0.798489435958584,\n",
       " 'ctx3': 0.6970754741833134,\n",
       " 'ctx4': 0.6062960341913912,\n",
       " 'lon': 0.263030547218921,\n",
       " 'num_bikes_available_types.ebike': 0.2176339648798674,\n",
       " 'ctx1_ctx2_ctx3_ctx4_std': 0.12158394131660635,\n",
       " 'ctx1_ctx2_ctx3_std': 0.10959527196946488,\n",
       " 'ctx1_ctx2_std': 0.0907243095776992,\n",
       " 'lat': 0.07074776190628096,\n",
       " 'station_id': 0.06967142131249375,\n",
       " 'timestamp': 0.061366489615208346,\n",
       " 'year': 0.051252756351171845,\n",
       " 'dayofyear': 0.04284937914584141,\n",
       " 'month': 0.042743878873176405,\n",
       " 'hour': 0.02565808047205957,\n",
       " 'weekend': 0.019847936776268647,\n",
       " 'dayofweek': 0.016400115218987096,\n",
       " 'festius_sun_sat': 0.015699847602472793,\n",
       " 'festius_sun': 0.014513830749086876,\n",
       " 'festius': 0.00571460332561782,\n",
       " 'day': 0.00200156855739634,\n",
       " 'capacity': 0.0019732151745181494}"
      ]
     },
     "execution_count": 10,
     "metadata": {},
     "output_type": "execute_result"
    }
   ],
   "source": [
    "%%time \n",
    "\n",
    "columns = X_train.columns[['VALOR' not in i for i in X_train.columns]].to_list()\n",
    "\n",
    "correlations = np.abs(\n",
    "    X_train[columns].corr(method='pearson').ctx0\n",
    ").sort_values(ascending=False)\n",
    "\n",
    "correlations.to_dict()"
   ]
  },
  {
   "cell_type": "code",
   "execution_count": 11,
   "id": "8d473764",
   "metadata": {},
   "outputs": [
    {
     "name": "stdout",
     "output_type": "stream",
     "text": [
      "10\n",
      "4\n",
      "3\n",
      "2\n",
      "2\n"
     ]
    }
   ],
   "source": [
    "columns_ctx = X_train.columns[['ctx' in i for i in X_train.columns]].to_list()\n",
    "columns_ctx.remove('ctx0')\n",
    "print(len(columns_ctx))\n",
    "\n",
    "columns_meteo = ['VALOR_TN_X4','VALOR_TM_X4', 'VALOR_TX_X4', 'VALOR_PPT_X4']\n",
    "print(len(columns_meteo))\n",
    "\n",
    "columns_time = ['month', 'dayofyear', 'hour'] # dayofweek, day \n",
    "print(len(columns_time))\n",
    "\n",
    "columns_location = ['lon', 'lat']\n",
    "print(len(columns_location))\n",
    "\n",
    "columns_festius = ['festius_sun', 'weekend']\n",
    "print(len(columns_festius))\n"
   ]
  },
  {
   "cell_type": "code",
   "execution_count": 12,
   "id": "990d43cd",
   "metadata": {},
   "outputs": [],
   "source": [
    "class Config:\n",
    "    num_attribs0 = ['capacity'] + columns_ctx + columns_meteo\n",
    "    cat_attribs0 = columns_time\n",
    "    cat_attribs1 = ['']\n",
    "    gen_attribs0 = ['station_id'] + columns_festius + columns_location\n",
    "    target_col = ['ctx0']\n",
    "    \n",
    "    seed=42\n",
    "    \n",
    "def seed_everything(seed=42):\n",
    "    random.seed(seed)\n",
    "    os.environ['PYTHONHASHSEED'] = str(seed)\n",
    "    np.random.seed(seed)\n",
    "    "
   ]
  },
  {
   "cell_type": "code",
   "execution_count": 13,
   "id": "54e6aa5f",
   "metadata": {},
   "outputs": [],
   "source": [
    "config=Config()\n",
    "seed_everything(config.seed)"
   ]
  },
  {
   "cell_type": "code",
   "execution_count": 14,
   "id": "ae0c692a",
   "metadata": {},
   "outputs": [],
   "source": [
    "\n",
    "def build_preprocessor(config):\n",
    "    num_attribs0 = config.num_attribs0\n",
    "    cat_attribs0 = config.cat_attribs0\n",
    "    cat_attribs1 = config.cat_attribs1\n",
    "    gen_attribs0 = config.gen_attribs0\n",
    "\n",
    "    num_transformer0 = Pipeline(steps=[\n",
    "        (\"imputer\", SimpleImputer(strategy=\"mean\")),\n",
    "        ('std_scaler', (StandardScaler())),\n",
    "    ])\n",
    "\n",
    "    categorical_transformer0 = Pipeline(steps=[\n",
    "        (\"imputer\", SimpleImputer(strategy=\"constant\",fill_value=0)),\n",
    "        ('ordinal_encoder', (OrdinalEncoder(handle_unknown='use_encoded_value', unknown_value=np.nan))),\n",
    "    ])\n",
    "    \n",
    "    categorical_transformer1 = Pipeline(steps=[\n",
    "        (\"imputer\", SimpleImputer(strategy=\"constant\",fill_value=0)),\n",
    "        ('one_hot_encoder', (OneHotEncoder(handle_unknown='ignore'))),\n",
    "    ])\n",
    "    \n",
    "    generic_transformer0 = Pipeline([\n",
    "        (\"imputer\", SimpleImputer(strategy=\"constant\",fill_value=0)),\n",
    "    ])\n",
    "    \n",
    "    preprocessor = ColumnTransformer(\n",
    "        transformers=[\n",
    "            (\"num0\", num_transformer0, num_attribs0),\n",
    "            (\"gen1\", generic_transformer0, gen_attribs0),\n",
    "            (\"cat0\", categorical_transformer0, cat_attribs0),\n",
    "#             (\"cat1\", categorical_transformer1, cat_attribs1),\n",
    "        ],\n",
    "        remainder=\"drop\"\n",
    "    )\n",
    "    \n",
    "    return preprocessor"
   ]
  },
  {
   "cell_type": "code",
   "execution_count": 15,
   "id": "f5d5d893",
   "metadata": {},
   "outputs": [
    {
     "name": "stdout",
     "output_type": "stream",
     "text": [
      "CPU times: user 95 µs, sys: 10 µs, total: 105 µs\n",
      "Wall time: 112 µs\n"
     ]
    }
   ],
   "source": [
    "%%time \n",
    "\n",
    "full_pipeline = build_preprocessor(config)"
   ]
  },
  {
   "cell_type": "code",
   "execution_count": 16,
   "id": "28a09448",
   "metadata": {},
   "outputs": [
    {
     "data": {
      "text/html": [
       "<style>#sk-container-id-1 {color: black;background-color: white;}#sk-container-id-1 pre{padding: 0;}#sk-container-id-1 div.sk-toggleable {background-color: white;}#sk-container-id-1 label.sk-toggleable__label {cursor: pointer;display: block;width: 100%;margin-bottom: 0;padding: 0.3em;box-sizing: border-box;text-align: center;}#sk-container-id-1 label.sk-toggleable__label-arrow:before {content: \"▸\";float: left;margin-right: 0.25em;color: #696969;}#sk-container-id-1 label.sk-toggleable__label-arrow:hover:before {color: black;}#sk-container-id-1 div.sk-estimator:hover label.sk-toggleable__label-arrow:before {color: black;}#sk-container-id-1 div.sk-toggleable__content {max-height: 0;max-width: 0;overflow: hidden;text-align: left;background-color: #f0f8ff;}#sk-container-id-1 div.sk-toggleable__content pre {margin: 0.2em;color: black;border-radius: 0.25em;background-color: #f0f8ff;}#sk-container-id-1 input.sk-toggleable__control:checked~div.sk-toggleable__content {max-height: 200px;max-width: 100%;overflow: auto;}#sk-container-id-1 input.sk-toggleable__control:checked~label.sk-toggleable__label-arrow:before {content: \"▾\";}#sk-container-id-1 div.sk-estimator input.sk-toggleable__control:checked~label.sk-toggleable__label {background-color: #d4ebff;}#sk-container-id-1 div.sk-label input.sk-toggleable__control:checked~label.sk-toggleable__label {background-color: #d4ebff;}#sk-container-id-1 input.sk-hidden--visually {border: 0;clip: rect(1px 1px 1px 1px);clip: rect(1px, 1px, 1px, 1px);height: 1px;margin: -1px;overflow: hidden;padding: 0;position: absolute;width: 1px;}#sk-container-id-1 div.sk-estimator {font-family: monospace;background-color: #f0f8ff;border: 1px dotted black;border-radius: 0.25em;box-sizing: border-box;margin-bottom: 0.5em;}#sk-container-id-1 div.sk-estimator:hover {background-color: #d4ebff;}#sk-container-id-1 div.sk-parallel-item::after {content: \"\";width: 100%;border-bottom: 1px solid gray;flex-grow: 1;}#sk-container-id-1 div.sk-label:hover label.sk-toggleable__label {background-color: #d4ebff;}#sk-container-id-1 div.sk-serial::before {content: \"\";position: absolute;border-left: 1px solid gray;box-sizing: border-box;top: 0;bottom: 0;left: 50%;z-index: 0;}#sk-container-id-1 div.sk-serial {display: flex;flex-direction: column;align-items: center;background-color: white;padding-right: 0.2em;padding-left: 0.2em;position: relative;}#sk-container-id-1 div.sk-item {position: relative;z-index: 1;}#sk-container-id-1 div.sk-parallel {display: flex;align-items: stretch;justify-content: center;background-color: white;position: relative;}#sk-container-id-1 div.sk-item::before, #sk-container-id-1 div.sk-parallel-item::before {content: \"\";position: absolute;border-left: 1px solid gray;box-sizing: border-box;top: 0;bottom: 0;left: 50%;z-index: -1;}#sk-container-id-1 div.sk-parallel-item {display: flex;flex-direction: column;z-index: 1;position: relative;background-color: white;}#sk-container-id-1 div.sk-parallel-item:first-child::after {align-self: flex-end;width: 50%;}#sk-container-id-1 div.sk-parallel-item:last-child::after {align-self: flex-start;width: 50%;}#sk-container-id-1 div.sk-parallel-item:only-child::after {width: 0;}#sk-container-id-1 div.sk-dashed-wrapped {border: 1px dashed gray;margin: 0 0.4em 0.5em 0.4em;box-sizing: border-box;padding-bottom: 0.4em;background-color: white;}#sk-container-id-1 div.sk-label label {font-family: monospace;font-weight: bold;display: inline-block;line-height: 1.2em;}#sk-container-id-1 div.sk-label-container {text-align: center;}#sk-container-id-1 div.sk-container {/* jupyter's `normalize.less` sets `[hidden] { display: none; }` but bootstrap.min.css set `[hidden] { display: none !important; }` so we also need the `!important` here to be able to override the default hidden behavior on the sphinx rendered scikit-learn.org. See: https://github.com/scikit-learn/scikit-learn/issues/21755 */display: inline-block !important;position: relative;}#sk-container-id-1 div.sk-text-repr-fallback {display: none;}</style><div id=\"sk-container-id-1\" class=\"sk-top-container\"><div class=\"sk-text-repr-fallback\"><pre>ColumnTransformer(transformers=[(&#x27;num0&#x27;,\n",
       "                                 Pipeline(steps=[(&#x27;imputer&#x27;, SimpleImputer()),\n",
       "                                                 (&#x27;std_scaler&#x27;,\n",
       "                                                  StandardScaler())]),\n",
       "                                 [&#x27;capacity&#x27;, &#x27;ctx1&#x27;, &#x27;ctx2&#x27;, &#x27;ctx3&#x27;, &#x27;ctx4&#x27;,\n",
       "                                  &#x27;ctx1_ctx2_mean&#x27;, &#x27;ctx1_ctx2_std&#x27;,\n",
       "                                  &#x27;ctx1_ctx2_ctx3_mean&#x27;, &#x27;ctx1_ctx2_ctx3_std&#x27;,\n",
       "                                  &#x27;ctx1_ctx2_ctx3_ctx4_mean&#x27;,\n",
       "                                  &#x27;ctx1_ctx2_ctx3_ctx4_std&#x27;, &#x27;VALOR_TN_X4&#x27;,\n",
       "                                  &#x27;VALOR_TM_X4&#x27;, &#x27;VALOR_TX_X4&#x27;,\n",
       "                                  &#x27;VALOR_PPT_X4&#x27;]),\n",
       "                                (&#x27;gen1&#x27;,\n",
       "                                 Pipeline(steps=[(&#x27;imputer&#x27;,\n",
       "                                                  SimpleImputer(fill_value=0,\n",
       "                                                                strategy=&#x27;constant&#x27;))]),\n",
       "                                 [&#x27;station_id&#x27;, &#x27;festius_sun&#x27;, &#x27;weekend&#x27;, &#x27;lon&#x27;,\n",
       "                                  &#x27;lat&#x27;]),\n",
       "                                (&#x27;cat0&#x27;,\n",
       "                                 Pipeline(steps=[(&#x27;imputer&#x27;,\n",
       "                                                  SimpleImputer(fill_value=0,\n",
       "                                                                strategy=&#x27;constant&#x27;)),\n",
       "                                                 (&#x27;ordinal_encoder&#x27;,\n",
       "                                                  OrdinalEncoder(handle_unknown=&#x27;use_encoded_value&#x27;,\n",
       "                                                                 unknown_value=nan))]),\n",
       "                                 [&#x27;month&#x27;, &#x27;dayofyear&#x27;, &#x27;hour&#x27;])])</pre><b>In a Jupyter environment, please rerun this cell to show the HTML representation or trust the notebook. <br />On GitHub, the HTML representation is unable to render, please try loading this page with nbviewer.org.</b></div><div class=\"sk-container\" hidden><div class=\"sk-item sk-dashed-wrapped\"><div class=\"sk-label-container\"><div class=\"sk-label sk-toggleable\"><input class=\"sk-toggleable__control sk-hidden--visually\" id=\"sk-estimator-id-1\" type=\"checkbox\" ><label for=\"sk-estimator-id-1\" class=\"sk-toggleable__label sk-toggleable__label-arrow\">ColumnTransformer</label><div class=\"sk-toggleable__content\"><pre>ColumnTransformer(transformers=[(&#x27;num0&#x27;,\n",
       "                                 Pipeline(steps=[(&#x27;imputer&#x27;, SimpleImputer()),\n",
       "                                                 (&#x27;std_scaler&#x27;,\n",
       "                                                  StandardScaler())]),\n",
       "                                 [&#x27;capacity&#x27;, &#x27;ctx1&#x27;, &#x27;ctx2&#x27;, &#x27;ctx3&#x27;, &#x27;ctx4&#x27;,\n",
       "                                  &#x27;ctx1_ctx2_mean&#x27;, &#x27;ctx1_ctx2_std&#x27;,\n",
       "                                  &#x27;ctx1_ctx2_ctx3_mean&#x27;, &#x27;ctx1_ctx2_ctx3_std&#x27;,\n",
       "                                  &#x27;ctx1_ctx2_ctx3_ctx4_mean&#x27;,\n",
       "                                  &#x27;ctx1_ctx2_ctx3_ctx4_std&#x27;, &#x27;VALOR_TN_X4&#x27;,\n",
       "                                  &#x27;VALOR_TM_X4&#x27;, &#x27;VALOR_TX_X4&#x27;,\n",
       "                                  &#x27;VALOR_PPT_X4&#x27;]),\n",
       "                                (&#x27;gen1&#x27;,\n",
       "                                 Pipeline(steps=[(&#x27;imputer&#x27;,\n",
       "                                                  SimpleImputer(fill_value=0,\n",
       "                                                                strategy=&#x27;constant&#x27;))]),\n",
       "                                 [&#x27;station_id&#x27;, &#x27;festius_sun&#x27;, &#x27;weekend&#x27;, &#x27;lon&#x27;,\n",
       "                                  &#x27;lat&#x27;]),\n",
       "                                (&#x27;cat0&#x27;,\n",
       "                                 Pipeline(steps=[(&#x27;imputer&#x27;,\n",
       "                                                  SimpleImputer(fill_value=0,\n",
       "                                                                strategy=&#x27;constant&#x27;)),\n",
       "                                                 (&#x27;ordinal_encoder&#x27;,\n",
       "                                                  OrdinalEncoder(handle_unknown=&#x27;use_encoded_value&#x27;,\n",
       "                                                                 unknown_value=nan))]),\n",
       "                                 [&#x27;month&#x27;, &#x27;dayofyear&#x27;, &#x27;hour&#x27;])])</pre></div></div></div><div class=\"sk-parallel\"><div class=\"sk-parallel-item\"><div class=\"sk-item\"><div class=\"sk-label-container\"><div class=\"sk-label sk-toggleable\"><input class=\"sk-toggleable__control sk-hidden--visually\" id=\"sk-estimator-id-2\" type=\"checkbox\" ><label for=\"sk-estimator-id-2\" class=\"sk-toggleable__label sk-toggleable__label-arrow\">num0</label><div class=\"sk-toggleable__content\"><pre>[&#x27;capacity&#x27;, &#x27;ctx1&#x27;, &#x27;ctx2&#x27;, &#x27;ctx3&#x27;, &#x27;ctx4&#x27;, &#x27;ctx1_ctx2_mean&#x27;, &#x27;ctx1_ctx2_std&#x27;, &#x27;ctx1_ctx2_ctx3_mean&#x27;, &#x27;ctx1_ctx2_ctx3_std&#x27;, &#x27;ctx1_ctx2_ctx3_ctx4_mean&#x27;, &#x27;ctx1_ctx2_ctx3_ctx4_std&#x27;, &#x27;VALOR_TN_X4&#x27;, &#x27;VALOR_TM_X4&#x27;, &#x27;VALOR_TX_X4&#x27;, &#x27;VALOR_PPT_X4&#x27;]</pre></div></div></div><div class=\"sk-serial\"><div class=\"sk-item\"><div class=\"sk-serial\"><div class=\"sk-item\"><div class=\"sk-estimator sk-toggleable\"><input class=\"sk-toggleable__control sk-hidden--visually\" id=\"sk-estimator-id-3\" type=\"checkbox\" ><label for=\"sk-estimator-id-3\" class=\"sk-toggleable__label sk-toggleable__label-arrow\">SimpleImputer</label><div class=\"sk-toggleable__content\"><pre>SimpleImputer()</pre></div></div></div><div class=\"sk-item\"><div class=\"sk-estimator sk-toggleable\"><input class=\"sk-toggleable__control sk-hidden--visually\" id=\"sk-estimator-id-4\" type=\"checkbox\" ><label for=\"sk-estimator-id-4\" class=\"sk-toggleable__label sk-toggleable__label-arrow\">StandardScaler</label><div class=\"sk-toggleable__content\"><pre>StandardScaler()</pre></div></div></div></div></div></div></div></div><div class=\"sk-parallel-item\"><div class=\"sk-item\"><div class=\"sk-label-container\"><div class=\"sk-label sk-toggleable\"><input class=\"sk-toggleable__control sk-hidden--visually\" id=\"sk-estimator-id-5\" type=\"checkbox\" ><label for=\"sk-estimator-id-5\" class=\"sk-toggleable__label sk-toggleable__label-arrow\">gen1</label><div class=\"sk-toggleable__content\"><pre>[&#x27;station_id&#x27;, &#x27;festius_sun&#x27;, &#x27;weekend&#x27;, &#x27;lon&#x27;, &#x27;lat&#x27;]</pre></div></div></div><div class=\"sk-serial\"><div class=\"sk-item\"><div class=\"sk-serial\"><div class=\"sk-item\"><div class=\"sk-estimator sk-toggleable\"><input class=\"sk-toggleable__control sk-hidden--visually\" id=\"sk-estimator-id-6\" type=\"checkbox\" ><label for=\"sk-estimator-id-6\" class=\"sk-toggleable__label sk-toggleable__label-arrow\">SimpleImputer</label><div class=\"sk-toggleable__content\"><pre>SimpleImputer(fill_value=0, strategy=&#x27;constant&#x27;)</pre></div></div></div></div></div></div></div></div><div class=\"sk-parallel-item\"><div class=\"sk-item\"><div class=\"sk-label-container\"><div class=\"sk-label sk-toggleable\"><input class=\"sk-toggleable__control sk-hidden--visually\" id=\"sk-estimator-id-7\" type=\"checkbox\" ><label for=\"sk-estimator-id-7\" class=\"sk-toggleable__label sk-toggleable__label-arrow\">cat0</label><div class=\"sk-toggleable__content\"><pre>[&#x27;month&#x27;, &#x27;dayofyear&#x27;, &#x27;hour&#x27;]</pre></div></div></div><div class=\"sk-serial\"><div class=\"sk-item\"><div class=\"sk-serial\"><div class=\"sk-item\"><div class=\"sk-estimator sk-toggleable\"><input class=\"sk-toggleable__control sk-hidden--visually\" id=\"sk-estimator-id-8\" type=\"checkbox\" ><label for=\"sk-estimator-id-8\" class=\"sk-toggleable__label sk-toggleable__label-arrow\">SimpleImputer</label><div class=\"sk-toggleable__content\"><pre>SimpleImputer(fill_value=0, strategy=&#x27;constant&#x27;)</pre></div></div></div><div class=\"sk-item\"><div class=\"sk-estimator sk-toggleable\"><input class=\"sk-toggleable__control sk-hidden--visually\" id=\"sk-estimator-id-9\" type=\"checkbox\" ><label for=\"sk-estimator-id-9\" class=\"sk-toggleable__label sk-toggleable__label-arrow\">OrdinalEncoder</label><div class=\"sk-toggleable__content\"><pre>OrdinalEncoder(handle_unknown=&#x27;use_encoded_value&#x27;, unknown_value=nan)</pre></div></div></div></div></div></div></div></div></div></div></div></div>"
      ],
      "text/plain": [
       "ColumnTransformer(transformers=[('num0',\n",
       "                                 Pipeline(steps=[('imputer', SimpleImputer()),\n",
       "                                                 ('std_scaler',\n",
       "                                                  StandardScaler())]),\n",
       "                                 ['capacity', 'ctx1', 'ctx2', 'ctx3', 'ctx4',\n",
       "                                  'ctx1_ctx2_mean', 'ctx1_ctx2_std',\n",
       "                                  'ctx1_ctx2_ctx3_mean', 'ctx1_ctx2_ctx3_std',\n",
       "                                  'ctx1_ctx2_ctx3_ctx4_mean',\n",
       "                                  'ctx1_ctx2_ctx3_ctx4_std', 'VALOR_TN_X4',\n",
       "                                  'VALOR_TM_X4', 'VALOR_TX_X4',\n",
       "                                  'VALOR_PPT_X4']),\n",
       "                                ('gen1',\n",
       "                                 Pipeline(steps=[('imputer',\n",
       "                                                  SimpleImputer(fill_value=0,\n",
       "                                                                strategy='constant'))]),\n",
       "                                 ['station_id', 'festius_sun', 'weekend', 'lon',\n",
       "                                  'lat']),\n",
       "                                ('cat0',\n",
       "                                 Pipeline(steps=[('imputer',\n",
       "                                                  SimpleImputer(fill_value=0,\n",
       "                                                                strategy='constant')),\n",
       "                                                 ('ordinal_encoder',\n",
       "                                                  OrdinalEncoder(handle_unknown='use_encoded_value',\n",
       "                                                                 unknown_value=nan))]),\n",
       "                                 ['month', 'dayofyear', 'hour'])])"
      ]
     },
     "execution_count": 16,
     "metadata": {},
     "output_type": "execute_result"
    }
   ],
   "source": [
    "full_pipeline.fit(X_train)"
   ]
  },
  {
   "cell_type": "code",
   "execution_count": 53,
   "id": "66c0c43e",
   "metadata": {},
   "outputs": [],
   "source": [
    "def apply_pipeline(pipline, X, y, args=None, show=True):\n",
    "    assert X.shape[0] == y.shape[0]\n",
    "    \n",
    "    X_prepared = full_pipeline.transform(X)\n",
    "    \n",
    "    if show:\n",
    "        print(\"X\", X.shape, \n",
    "              \"X_prepared:\", X_prepared.shape,\n",
    "              \"y: \", y.shape\n",
    "             )\n",
    "        \n",
    "    if args:\n",
    "        return X_prepared, y, *args\n",
    "    else:\n",
    "        return X_prepared, y\n",
    "\n",
    "def prepare_splits(\n",
    "    pipeline,\n",
    "    data_train,\n",
    "    data_val,\n",
    "    data_test,\n",
    "    years, \n",
    "    months, \n",
    "    show=True\n",
    "):\n",
    "    if show:\n",
    "        print(\"train\")\n",
    "    \n",
    "    train_cond = (data_train[0].year.isin(years) & data_train[0].month.isin(months))\n",
    "    Xtr, ytr = apply_pipeline(\n",
    "        pipeline,\n",
    "        data_train[0][train_cond], \n",
    "        data_train[1][train_cond],\n",
    "        show=show\n",
    "    )\n",
    "\n",
    "    if show:\n",
    "        print(\"val\")\n",
    "    \n",
    "    val_cond = (data_val[0].year.isin(years) & data_val[0].month.isin(months))\n",
    "    Xva, yva = apply_pipeline(\n",
    "        pipeline, \n",
    "        data_val[0][val_cond], \n",
    "        data_val[1][val_cond],\n",
    "        show=show\n",
    "    )\n",
    "\n",
    "    if show:\n",
    "        print(\"test\")\n",
    "    \n",
    "    test_cond = (data_test[0].year.isin([2023]) & data_test[0].month.isin([3]))\n",
    "    Xte, yte = apply_pipeline(\n",
    "        pipeline, \n",
    "        data_test[0][test_cond],\n",
    "        data_test[1][test_cond],\n",
    "        show=show\n",
    "    )\n",
    "    \n",
    "    return Xtr, ytr, Xva, yva, Xte, yte\n",
    "\n",
    "def test_model_train_val_test(\n",
    "    model,\n",
    "    data_train,\n",
    "    data_val,\n",
    "    data_test,\n",
    "    skip_cv=False,\n",
    "    show=False,\n",
    "    error_score='raise'\n",
    "):\n",
    "    if skip_cv==False:\n",
    "        cross_val_evaluation(\n",
    "            model, \n",
    "            data_train[0], \n",
    "            data_train[1], \n",
    "            'model test', \n",
    "            n_jobs=5,\n",
    "            error_score=error_score\n",
    "        )\n",
    "    \n",
    "    model.fit(data_train[0], data_train[1])\n",
    "    \n",
    "    return {\n",
    "        'train':test_model(model, data_train[0], data_train[1], show=show)[['mse_t','rmse_t','mae_t','r2_t']],\n",
    "        'test':test_model(model, data_val[0], data_val[1], data_test[0], data_test[1], show=show)[['mse_t','rmse_t','mae_t','r2_t', 'mse_v','rmse_v','mae_v','r2_v']]\n",
    "    }\n",
    "\n",
    "\n",
    "def do_test_per_month(\n",
    "    model, \n",
    "    modelargs,\n",
    "    data_train,\n",
    "    data_val,\n",
    "    data_test,\n",
    "    years,\n",
    "    months\n",
    "):\n",
    "    result = {}\n",
    "    with tqdm(range (len(years)*len(months)), unit=\"months\", mininterval=0, disable=False) as bar:\n",
    "        for index in bar:\n",
    "            month = months[(index%len(months))]\n",
    "            year = years[int(index>=len(months))]\n",
    "            bar.set_description(f\"Month {year}-{month}\")\n",
    "\n",
    "            Xtr, ytr, Xva, yva, Xte, yte = prepare_splits(\n",
    "                full_pipeline,\n",
    "                data_train,\n",
    "                data_val,\n",
    "                data_test,\n",
    "                [year], [month], False)\n",
    "            \n",
    "            # define model \n",
    "            m = model(**modelargs)\n",
    "\n",
    "            result[index] = test_model_train_val_test(\n",
    "                m,\n",
    "                (Xtr, ytr),\n",
    "                (Xva, yva),\n",
    "                (Xte, yte),\n",
    "                skip_cv=True,\n",
    "                show=False,\n",
    "                error_score='raise'\n",
    "            )\n",
    "                \n",
    "    result=pd.DataFrame(result)\n",
    "    aux=pd.DataFrame(result.T.unstack().reset_index()[0].to_dict()).T\n",
    "    aux['type']=pd.DataFrame(result.T.unstack().reset_index().level_0)\n",
    "    aux['order']=pd.DataFrame(result.T.unstack().reset_index().level_1)\n",
    "    aux = pd.DataFrame(aux.set_index(['type', 'order']).unstack(['type']).reindex()).reset_index()\n",
    "    aux.columns = ['_'.join(col) for col in aux.columns.values]\n",
    "    \n",
    "    return aux\n",
    "\n",
    "def do_test_per_month_combos(\n",
    "    model, \n",
    "    modelargs,\n",
    "    data_train,\n",
    "    data_val,\n",
    "    data_test,\n",
    "    years,\n",
    "    months\n",
    "):\n",
    "    result = {}\n",
    "    with tqdm(range (len(years)*len(months)), unit=\"months\", mininterval=0, disable=False) as bar:\n",
    "        for index in bar:\n",
    "            month_combo = months[(index%len(months))]\n",
    "            year = years[int(index>=len(months))]\n",
    "            bar.set_description(f\"Month {year}-{month_combo}\")\n",
    "\n",
    "            Xtr, ytr, Xva, yva, Xte, yte = prepare_splits(\n",
    "                full_pipeline,\n",
    "                data_train,\n",
    "                data_val,\n",
    "                data_test,\n",
    "                [year], month_combo, False)\n",
    "            \n",
    "            # define model \n",
    "            m = model(**modelargs)\n",
    "\n",
    "            result[index] = test_model_train_val_test(\n",
    "                m,\n",
    "                (Xtr, ytr),\n",
    "                (Xva, yva),\n",
    "                (Xte, yte),\n",
    "                skip_cv=True,\n",
    "                show=False,\n",
    "                error_score='raise'\n",
    "            )\n",
    "            \n",
    "    result=pd.DataFrame(result)\n",
    "    aux=pd.DataFrame(result.T.unstack().reset_index()[0].to_dict()).T\n",
    "    aux['type']=pd.DataFrame(result.T.unstack().reset_index().level_0)\n",
    "    aux['order']=pd.DataFrame(result.T.unstack().reset_index().level_1)\n",
    "    aux = pd.DataFrame(aux.set_index(['type', 'order']).unstack(['type']).reindex()).reset_index()\n",
    "    aux.columns = ['_'.join(col) for col in aux.columns.values]\n",
    "    \n",
    "    return aux\n",
    "\n",
    "def print_grid_result(result, parm):    \n",
    "    #plot the results\n",
    "    plt.figure(figsize=(8, 8))\n",
    "    plt.title(\"GridSearchCV\",\n",
    "              fontsize=16)\n",
    "\n",
    "    plt.xlabel(\"residual_threshold\")\n",
    "    plt.ylabel(\"Score\")\n",
    "\n",
    "    ax = plt.gca()\n",
    "    ax.set_xlim(results[parm].data.min(),results[parm].data.max())\n",
    "\n",
    "\n",
    "    # Get the regular numpy array from the MaskedArray\n",
    "    X_axis = np.array(results[parm].data, dtype=float)\n",
    "\n",
    "    for sample, style in (('train', '--'), ('test', '-')):\n",
    "\n",
    "        sample_score_mean = (-results['mean_%s_score' % (sample)])\n",
    "        sample_score_std = (results['std_%s_score' % (sample)])\n",
    "\n",
    "        ax.fill_between(X_axis, sample_score_mean - sample_score_std,\n",
    "                        sample_score_mean + sample_score_std,\n",
    "                        alpha=0.1 if sample == 'test' else 0)\n",
    "        ax.plot(X_axis, sample_score_mean, style,\n",
    "                alpha=1 if sample == 'test' else 0.7,\n",
    "                label=\"(%s)\" % ( sample))\n",
    "\n",
    "    best_index = np.nonzero(results['rank_test_score' ] == 1)[0][0]\n",
    "    best_score =  (-results['mean_test_score' ][best_index])\n",
    "\n",
    "    # Plot a dotted vertical line at the best score for that scorer marked by x\n",
    "    ax.plot([X_axis[best_index], ] * 2, [best_score, best_score],\n",
    "            linestyle='-.',  marker='x', markeredgewidth=3, ms=8)\n",
    "\n",
    "    # Annotate the best score for that scorer\n",
    "    ax.annotate(\"%0.2f\" % best_score,\n",
    "                (X_axis[best_index], best_score + 0.005))\n",
    "\n",
    "    plt.legend(loc=\"best\")\n",
    "    plt.grid(False)\n",
    "    plt.show()\n"
   ]
  },
  {
   "cell_type": "code",
   "execution_count": 18,
   "id": "61413a70",
   "metadata": {},
   "outputs": [
    {
     "data": {
      "text/plain": [
       "[None, None, None, None, None]"
      ]
     },
     "execution_count": 18,
     "metadata": {},
     "output_type": "execute_result"
    }
   ],
   "source": [
    "[months.remove(x) for x in [6,7,8,9,10]]"
   ]
  },
  {
   "cell_type": "code",
   "execution_count": 19,
   "id": "8b1452b4",
   "metadata": {},
   "outputs": [
    {
     "data": {
      "text/plain": [
       "([2019, 2020, 2021, 2022], [1, 2, 3, 4, 5, 11, 12])"
      ]
     },
     "execution_count": 19,
     "metadata": {},
     "output_type": "execute_result"
    }
   ],
   "source": [
    "years, months"
   ]
  },
  {
   "cell_type": "code",
   "execution_count": 20,
   "id": "3253dad6",
   "metadata": {},
   "outputs": [
    {
     "name": "stdout",
     "output_type": "stream",
     "text": [
      "train\n",
      "X (4108638, 34) X_prepared: (4108638, 23) y:  (4108638,)\n",
      "val\n",
      "X (1016614, 34) X_prepared: (1016614, 23) y:  (1016614,)\n",
      "test\n",
      "X (358887, 34) X_prepared: (358887, 23) y:  (358887,)\n"
     ]
    }
   ],
   "source": [
    "# Take data of 2022 \n",
    "\n",
    "X_train_prepared, y_train_prepared, X_val_prepared, y_val_prepared, X_test_prepared, y_test_prepared = prepare_splits(\n",
    "    full_pipeline,\n",
    "    (X_train, y_train),\n",
    "    (X_val, y_val),\n",
    "    (X_test, y_test),\n",
    "    [2021, 2022], months, True)\n"
   ]
  },
  {
   "cell_type": "raw",
   "id": "21a6667e",
   "metadata": {},
   "source": [
    "X_train_prepared_list = X_train_prepared.toarray()"
   ]
  },
  {
   "cell_type": "raw",
   "id": "8ddf7c86",
   "metadata": {},
   "source": [
    "X_val_prepared_list = X_val_prepared.toarray()"
   ]
  },
  {
   "cell_type": "raw",
   "id": "ed64d33e",
   "metadata": {},
   "source": [
    "X_test_prepared_list = X_test_prepared.toarray()"
   ]
  },
  {
   "cell_type": "code",
   "execution_count": 21,
   "id": "d33ce2e1",
   "metadata": {},
   "outputs": [
    {
     "data": {
      "text/plain": [
       "72"
      ]
     },
     "execution_count": 21,
     "metadata": {},
     "output_type": "execute_result"
    }
   ],
   "source": [
    "import gc\n",
    "\n",
    "gc.collect()"
   ]
  },
  {
   "cell_type": "markdown",
   "id": "7f8f1ba6",
   "metadata": {},
   "source": [
    "# Prediction\n",
    "\n",
    "a) Regresión lineal: relación lineal entre las variables de entrada y la variable de salida. \n",
    "\n",
    "b) Regresión Redes Neuronales (RNN -redes neuronales recurrentes-): pueden capturar relaciones no lineales entre las variables de entrada y salida."
   ]
  },
  {
   "cell_type": "markdown",
   "id": "313dac49",
   "metadata": {},
   "source": [
    "## LinearRegression"
   ]
  },
  {
   "cell_type": "code",
   "execution_count": 22,
   "id": "93dbf497",
   "metadata": {},
   "outputs": [],
   "source": [
    "from sklearn.linear_model import LinearRegression, Ridge, Lasso, ElasticNet"
   ]
  },
  {
   "cell_type": "code",
   "execution_count": 23,
   "id": "0db3c522",
   "metadata": {},
   "outputs": [],
   "source": [
    "lin_reg = LinearRegression(n_jobs=5)"
   ]
  },
  {
   "cell_type": "code",
   "execution_count": 24,
   "id": "7e3996a7",
   "metadata": {},
   "outputs": [],
   "source": [
    "ridge_reg = Ridge(alpha=.3, random_state=config.seed)"
   ]
  },
  {
   "cell_type": "code",
   "execution_count": 25,
   "id": "025117b8",
   "metadata": {},
   "outputs": [],
   "source": [
    "lasso_reg = Lasso(alpha=0.01, random_state=config.seed)"
   ]
  },
  {
   "cell_type": "code",
   "execution_count": 26,
   "id": "f612e771",
   "metadata": {},
   "outputs": [],
   "source": [
    "# Elastic net regression is a linear regression model\n",
    "# reduce overfitting\n",
    "# and select relevant features\n",
    "# uses a penalty term to shrink the coefficients of the predictors.\n",
    "# combination of the l1-norm (absolute value) and the l2-norm (square) of the coefficients\n",
    "\n",
    "# The main difference between elastic net and lasso or ridge is that elastic net has an additional parameter called lambda, \n",
    "# which controls the balance between the l1-norm and the l2-norm penalties. When lambda is zero, elastic net is equivalent to lasso.\n",
    "# When lambda is one, elastic net is equivalent to ridge. When lambda is between zero and one, elastic net is a compromise between \n",
    "# lasso and ridge. This allows elastic net to adapt to different situations and data sets.\n",
    "\n",
    "elasticNet_reg = ElasticNet(alpha=0.01, l1_ratio=0.3, random_state=config.seed) "
   ]
  },
  {
   "cell_type": "markdown",
   "id": "b271ff02",
   "metadata": {},
   "source": [
    "### Train and test, validate model"
   ]
  },
  {
   "cell_type": "code",
   "execution_count": 27,
   "id": "e9aa3ed8",
   "metadata": {
    "scrolled": false
   },
   "outputs": [
    {
     "name": "stderr",
     "output_type": "stream",
     "text": [
      "[Parallel(n_jobs=5)]: Using backend LokyBackend with 5 concurrent workers.\n",
      "[Parallel(n_jobs=5)]: Done   2 out of   5 | elapsed:    9.0s remaining:   13.5s\n",
      "[Parallel(n_jobs=5)]: Done   5 out of   5 | elapsed:    9.1s remaining:    0.0s\n",
      "[Parallel(n_jobs=5)]: Done   5 out of   5 | elapsed:    9.1s finished\n"
     ]
    },
    {
     "name": "stdout",
     "output_type": "stream",
     "text": [
      "\n",
      "  model test\n",
      "Scores: [-0.11166485 -0.11151498 -0.1136203  -0.11551754 -0.11575034]\n",
      "Mean: -0.1136136014254431\n",
      "Standard deviation: 0.001810663797812048\n",
      "\n",
      "Training time: 0.094 s\n",
      "----- EVALUATION ON VAL SET ------\n",
      "MSE: 0.012905136789047601\n",
      "RMSE 0.11360077811814319\n",
      "MAE: 0.07454549632332041\n",
      "R^2:  0.8237404277743079\n",
      "\n"
     ]
    },
    {
     "data": {
      "image/png": "[encoded data removed]",
      "text/plain": [
       "<Figure size 640x480 with 1 Axes>"
      ]
     },
     "metadata": {},
     "output_type": "display_data"
    },
    {
     "name": "stdout",
     "output_type": "stream",
     "text": [
      "\n",
      "Training time: 0.025 s\n",
      "----- EVALUATION ON VAL SET ------\n",
      "MSE: 0.008941967980479427\n",
      "RMSE 0.09456197957149283\n",
      "MAE: 0.05939220089304241\n",
      "R^2:  0.8710442988582237\n",
      "\n"
     ]
    },
    {
     "data": {
      "image/png": "[encoded data removed]",
      "text/plain": [
       "<Figure size 640x480 with 1 Axes>"
      ]
     },
     "metadata": {},
     "output_type": "display_data"
    },
    {
     "name": "stdout",
     "output_type": "stream",
     "text": [
      "\n",
      "Testing time: 0.009 s\n",
      "----- EVALUATION ON VAL SET ------\n",
      "MSE: 0.013933886181893099\n",
      "RMSE 0.11804188316819204\n",
      "MAE: 0.07893765816828933\n",
      "R^2:  0.8094805357275153\n",
      "\n"
     ]
    },
    {
     "data": {
      "image/png": "[encoded data removed]",
      "text/plain": [
       "<Figure size 640x480 with 1 Axes>"
      ]
     },
     "metadata": {},
     "output_type": "display_data"
    },
    {
     "name": "stdout",
     "output_type": "stream",
     "text": [
      "CPU times: user 18.8 s, sys: 18.5 s, total: 37.4 s\n",
      "Wall time: 20.3 s\n"
     ]
    },
    {
     "data": {
      "text/plain": [
       "{'train': mse_t     0.012905\n",
       " rmse_t    0.113601\n",
       " mae_t     0.074545\n",
       " r2_t       0.82374\n",
       " dtype: object,\n",
       " 'test': mse_t     0.008942\n",
       " rmse_t    0.094562\n",
       " mae_t     0.059392\n",
       " r2_t      0.871044\n",
       " mse_v     0.013934\n",
       " rmse_v    0.118042\n",
       " mae_v     0.078938\n",
       " r2_v      0.809481\n",
       " dtype: object}"
      ]
     },
     "execution_count": 27,
     "metadata": {},
     "output_type": "execute_result"
    }
   ],
   "source": [
    "%%time \n",
    "\n",
    "test_model_train_val_test(\n",
    "    lin_reg, \n",
    "    (X_train_prepared, y_train_prepared),\n",
    "    (X_val_prepared, y_val_prepared),\n",
    "    (X_test_prepared,  y_test_prepared),\n",
    "    show=True\n",
    ")\n",
    "\n",
    "# {'train': mse_t     0.013319\n",
    "#  rmse_t    0.115408\n",
    "#  mae_t     0.076947\n",
    "#  r2_t      0.805179\n",
    "#  dtype: object,\n",
    "#  'test': mse_t     0.009486\n",
    "#  rmse_t    0.097396\n",
    "#  mae_t      0.06385\n",
    "#  r2_t      0.854869\n",
    "#  mse_v     0.014026\n",
    "#  rmse_v    0.118431\n",
    "#  mae_v     0.079915\n",
    "#  r2_v      0.808233\n",
    "#  dtype: object}"
   ]
  },
  {
   "cell_type": "code",
   "execution_count": 28,
   "id": "40a1a020",
   "metadata": {
    "scrolled": false
   },
   "outputs": [
    {
     "name": "stderr",
     "output_type": "stream",
     "text": [
      "[Parallel(n_jobs=5)]: Using backend LokyBackend with 5 concurrent workers.\n",
      "[Parallel(n_jobs=5)]: Done   2 out of   5 | elapsed:    3.8s remaining:    5.7s\n",
      "[Parallel(n_jobs=5)]: Done   5 out of   5 | elapsed:    3.9s remaining:    0.0s\n",
      "[Parallel(n_jobs=5)]: Done   5 out of   5 | elapsed:    3.9s finished\n"
     ]
    },
    {
     "name": "stdout",
     "output_type": "stream",
     "text": [
      "\n",
      "  model test\n",
      "Scores: [-0.11558634 -0.11541634 -0.11693974 -0.11855586 -0.11879798]\n",
      "Mean: -0.11705925267850711\n",
      "Standard deviation: 0.0014244941427146323\n",
      "\n",
      "Training time: 0.095 s\n",
      "----- EVALUATION ON VAL SET ------\n",
      "MSE: 0.013699732716607986\n",
      "RMSE 0.11704585732356351\n",
      "MAE: 0.07924787345385471\n",
      "R^2:  0.8128877618496093\n",
      "\n"
     ]
    },
    {
     "data": {
      "image/png": "[encoded data removed]",
      "text/plain": [
       "<Figure size 640x480 with 1 Axes>"
      ]
     },
     "metadata": {},
     "output_type": "display_data"
    },
    {
     "name": "stdout",
     "output_type": "stream",
     "text": [
      "\n",
      "Training time: 0.028 s\n",
      "----- EVALUATION ON VAL SET ------\n",
      "MSE: 0.009821850766853117\n",
      "RMSE 0.09910525095499792\n",
      "MAE: 0.06555531868412684\n",
      "R^2:  0.8583551568385811\n",
      "\n"
     ]
    },
    {
     "data": {
      "image/png": "[encoded data removed]",
      "text/plain": [
       "<Figure size 640x480 with 1 Axes>"
      ]
     },
     "metadata": {},
     "output_type": "display_data"
    },
    {
     "name": "stdout",
     "output_type": "stream",
     "text": [
      "\n",
      "Testing time: 0.009 s\n",
      "----- EVALUATION ON VAL SET ------\n",
      "MSE: 0.01472961113720383\n",
      "RMSE 0.121365609367744\n",
      "MAE: 0.08339452832727937\n",
      "R^2:  0.7986005062644462\n",
      "\n"
     ]
    },
    {
     "data": {
      "image/png": "[encoded data removed]",
      "text/plain": [
       "<Figure size 640x480 with 1 Axes>"
      ]
     },
     "metadata": {},
     "output_type": "display_data"
    },
    {
     "name": "stdout",
     "output_type": "stream",
     "text": [
      "CPU times: user 13.2 s, sys: 5.49 s, total: 18.7 s\n",
      "Wall time: 12.7 s\n"
     ]
    },
    {
     "data": {
      "text/plain": [
       "{'train': mse_t       0.0137\n",
       " rmse_t    0.117046\n",
       " mae_t     0.079248\n",
       " r2_t      0.812888\n",
       " dtype: object,\n",
       " 'test': mse_t     0.009822\n",
       " rmse_t    0.099105\n",
       " mae_t     0.065555\n",
       " r2_t      0.858355\n",
       " mse_v      0.01473\n",
       " rmse_v    0.121366\n",
       " mae_v     0.083395\n",
       " r2_v      0.798601\n",
       " dtype: object}"
      ]
     },
     "execution_count": 28,
     "metadata": {},
     "output_type": "execute_result"
    }
   ],
   "source": [
    "%%time \n",
    "\n",
    "test_model_train_val_test(\n",
    "    lasso_reg, \n",
    "    (X_train_prepared, y_train_prepared),\n",
    "    (X_val_prepared, y_val_prepared),\n",
    "    (X_test_prepared,  y_test_prepared),\n",
    "    show=True\n",
    ")\n"
   ]
  },
  {
   "cell_type": "code",
   "execution_count": 29,
   "id": "78f3d896",
   "metadata": {
    "scrolled": false
   },
   "outputs": [
    {
     "name": "stderr",
     "output_type": "stream",
     "text": [
      "[Parallel(n_jobs=5)]: Using backend LokyBackend with 5 concurrent workers.\n",
      "[Parallel(n_jobs=5)]: Done   2 out of   5 | elapsed:    2.0s remaining:    3.0s\n",
      "[Parallel(n_jobs=5)]: Done   5 out of   5 | elapsed:    2.1s remaining:    0.0s\n",
      "[Parallel(n_jobs=5)]: Done   5 out of   5 | elapsed:    2.1s finished\n"
     ]
    },
    {
     "name": "stdout",
     "output_type": "stream",
     "text": [
      "\n",
      "  model test\n",
      "Scores: [-0.11166495 -0.11151506 -0.11362028 -0.11551743 -0.11575026]\n",
      "Mean: -0.11361359928184152\n",
      "Standard deviation: 0.00181058094851334\n",
      "\n",
      "Training time: 0.097 s\n",
      "----- EVALUATION ON VAL SET ------\n",
      "MSE: 0.012905136800137594\n",
      "RMSE 0.11360077816695445\n",
      "MAE: 0.07454537419775233\n",
      "R^2:  0.8237404276228397\n",
      "\n"
     ]
    },
    {
     "data": {
      "image/png": "[encoded data removed]",
      "text/plain": [
       "<Figure size 640x480 with 1 Axes>"
      ]
     },
     "metadata": {},
     "output_type": "display_data"
    },
    {
     "name": "stdout",
     "output_type": "stream",
     "text": [
      "\n",
      "Training time: 0.025 s\n",
      "----- EVALUATION ON VAL SET ------\n",
      "MSE: 0.008941986551667816\n",
      "RMSE 0.0945620777672943\n",
      "MAE: 0.0593925094078251\n",
      "R^2:  0.8710440310356788\n",
      "\n"
     ]
    },
    {
     "data": {
      "image/png": "[encoded data removed]",
      "text/plain": [
       "<Figure size 640x480 with 1 Axes>"
      ]
     },
     "metadata": {},
     "output_type": "display_data"
    },
    {
     "name": "stdout",
     "output_type": "stream",
     "text": [
      "\n",
      "Testing time: 0.009 s\n",
      "----- EVALUATION ON VAL SET ------\n",
      "MSE: 0.013933883772851468\n",
      "RMSE 0.11804187296400998\n",
      "MAE: 0.07893751378190234\n",
      "R^2:  0.8094805686665902\n",
      "\n"
     ]
    },
    {
     "data": {
      "image/png": "[encoded data removed]",
      "text/plain": [
       "<Figure size 640x480 with 1 Axes>"
      ]
     },
     "metadata": {},
     "output_type": "display_data"
    },
    {
     "name": "stdout",
     "output_type": "stream",
     "text": [
      "CPU times: user 10.9 s, sys: 4.65 s, total: 15.6 s\n",
      "Wall time: 10.3 s\n"
     ]
    },
    {
     "data": {
      "text/plain": [
       "{'train': mse_t     0.012905\n",
       " rmse_t    0.113601\n",
       " mae_t     0.074545\n",
       " r2_t       0.82374\n",
       " dtype: object,\n",
       " 'test': mse_t     0.008942\n",
       " rmse_t    0.094562\n",
       " mae_t     0.059393\n",
       " r2_t      0.871044\n",
       " mse_v     0.013934\n",
       " rmse_v    0.118042\n",
       " mae_v     0.078938\n",
       " r2_v      0.809481\n",
       " dtype: object}"
      ]
     },
     "execution_count": 29,
     "metadata": {},
     "output_type": "execute_result"
    }
   ],
   "source": [
    "%%time \n",
    "\n",
    "test_model_train_val_test(\n",
    "    ridge_reg, \n",
    "    (X_train_prepared, y_train_prepared),\n",
    "    (X_val_prepared, y_val_prepared),\n",
    "    (X_test_prepared,  y_test_prepared),\n",
    "    show=True\n",
    ")\n"
   ]
  },
  {
   "cell_type": "code",
   "execution_count": 30,
   "id": "7726d820",
   "metadata": {
    "scrolled": false
   },
   "outputs": [
    {
     "name": "stderr",
     "output_type": "stream",
     "text": [
      "[Parallel(n_jobs=5)]: Using backend LokyBackend with 5 concurrent workers.\n",
      "[Parallel(n_jobs=5)]: Done   2 out of   5 | elapsed:    9.3s remaining:   13.9s\n",
      "[Parallel(n_jobs=5)]: Done   5 out of   5 | elapsed:    9.5s remaining:    0.0s\n",
      "[Parallel(n_jobs=5)]: Done   5 out of   5 | elapsed:    9.5s finished\n"
     ]
    },
    {
     "name": "stdout",
     "output_type": "stream",
     "text": [
      "\n",
      "  model test\n",
      "Scores: [-0.11402518 -0.11387279 -0.11560933 -0.1173843  -0.11764193]\n",
      "Mean: -0.11570670602735504\n",
      "Standard deviation: 0.0015974769697069742\n",
      "\n",
      "Training time: 0.103 s\n",
      "----- EVALUATION ON VAL SET ------\n",
      "MSE: 0.013384990745667447\n",
      "RMSE 0.1156935207592346\n",
      "MAE: 0.07683718048833174\n",
      "R^2:  0.8171865372958744\n",
      "\n"
     ]
    },
    {
     "data": {
      "image/png": "[encoded data removed]",
      "text/plain": [
       "<Figure size 640x480 with 1 Axes>"
      ]
     },
     "metadata": {},
     "output_type": "display_data"
    },
    {
     "name": "stdout",
     "output_type": "stream",
     "text": [
      "\n",
      "Training time: 0.025 s\n",
      "----- EVALUATION ON VAL SET ------\n",
      "MSE: 0.009485369965622398\n",
      "RMSE 0.09739286403850335\n",
      "MAE: 0.06284686141119913\n",
      "R^2:  0.8632076812200348\n",
      "\n"
     ]
    },
    {
     "data": {
      "image/png": "[encoded data removed]",
      "text/plain": [
       "<Figure size 640x480 with 1 Axes>"
      ]
     },
     "metadata": {},
     "output_type": "display_data"
    },
    {
     "name": "stdout",
     "output_type": "stream",
     "text": [
      "\n",
      "Testing time: 0.009 s\n",
      "----- EVALUATION ON VAL SET ------\n",
      "MSE: 0.014418843773090384\n",
      "RMSE 0.12007849005167572\n",
      "MAE: 0.08114910192830199\n",
      "R^2:  0.802849660516991\n",
      "\n"
     ]
    },
    {
     "data": {
      "image/png": "[encoded data removed]",
      "text/plain": [
       "<Figure size 640x480 with 1 Axes>"
      ]
     },
     "metadata": {},
     "output_type": "display_data"
    },
    {
     "name": "stdout",
     "output_type": "stream",
     "text": [
      "CPU times: user 35.3 s, sys: 10.3 s, total: 45.6 s\n",
      "Wall time: 19.8 s\n"
     ]
    },
    {
     "data": {
      "text/plain": [
       "{'train': mse_t     0.013385\n",
       " rmse_t    0.115694\n",
       " mae_t     0.076837\n",
       " r2_t      0.817187\n",
       " dtype: object,\n",
       " 'test': mse_t     0.009485\n",
       " rmse_t    0.097393\n",
       " mae_t     0.062847\n",
       " r2_t      0.863208\n",
       " mse_v     0.014419\n",
       " rmse_v    0.120078\n",
       " mae_v     0.081149\n",
       " r2_v       0.80285\n",
       " dtype: object}"
      ]
     },
     "execution_count": 30,
     "metadata": {},
     "output_type": "execute_result"
    }
   ],
   "source": [
    "%%time \n",
    "\n",
    "test_model_train_val_test(\n",
    "    elasticNet_reg, \n",
    "    (X_train_prepared, y_train_prepared),\n",
    "    (X_val_prepared, y_val_prepared),\n",
    "    (X_test_prepared,  y_test_prepared),\n",
    "    show=True\n",
    ")\n"
   ]
  },
  {
   "cell_type": "markdown",
   "id": "184a9875",
   "metadata": {},
   "source": [
    "## KNN3\n",
    "### Not ideal to store and sort large data.\n",
    "https://www.kaggle.com/general/352216"
   ]
  },
  {
   "cell_type": "markdown",
   "id": "6cceaa56",
   "metadata": {},
   "source": [
    "## SVM \n",
    "### SVM is not suitable for large datasets because of its high training time and it also takes more time in training compared to Naïve Bayes. \n",
    "https://www.datacamp.com/tutorial/svm-classification-scikit-learn-python#advantages"
   ]
  },
  {
   "cell_type": "markdown",
   "id": "907d8631",
   "metadata": {},
   "source": [
    "## Decision Tree"
   ]
  },
  {
   "cell_type": "code",
   "execution_count": 55,
   "id": "956a306e",
   "metadata": {},
   "outputs": [],
   "source": [
    "from sklearn.tree import DecisionTreeRegressor"
   ]
  },
  {
   "cell_type": "code",
   "execution_count": 56,
   "id": "3db82ccf",
   "metadata": {},
   "outputs": [
    {
     "name": "stdout",
     "output_type": "stream",
     "text": [
      "CPU times: user 19 µs, sys: 1 µs, total: 20 µs\n",
      "Wall time: 23.4 µs\n"
     ]
    }
   ],
   "source": [
    "%%time \n",
    "\n",
    "# define model \n",
    "tree_reg = DecisionTreeRegressor(\n",
    "    criterion='friedman_mse',\n",
    "    max_depth=12, \n",
    "    random_state=config.seed\n",
    ")\n"
   ]
  },
  {
   "cell_type": "markdown",
   "id": "1139b326",
   "metadata": {},
   "source": [
    "### Train and test, validate model"
   ]
  },
  {
   "cell_type": "code",
   "execution_count": 57,
   "id": "549c02fa",
   "metadata": {
    "scrolled": false
   },
   "outputs": [
    {
     "name": "stderr",
     "output_type": "stream",
     "text": [
      "[Parallel(n_jobs=5)]: Using backend LokyBackend with 5 concurrent workers.\n",
      "[Parallel(n_jobs=5)]: Done   2 out of   5 | elapsed:   51.2s remaining:  1.3min\n",
      "[Parallel(n_jobs=5)]: Done   5 out of   5 | elapsed:   51.9s remaining:    0.0s\n",
      "[Parallel(n_jobs=5)]: Done   5 out of   5 | elapsed:   51.9s finished\n"
     ]
    },
    {
     "name": "stdout",
     "output_type": "stream",
     "text": [
      "\n",
      "  model test\n",
      "Scores: [-0.10715108 -0.10703776 -0.10914086 -0.11120652 -0.11138029]\n",
      "Mean: -0.1091833029094543\n",
      "Standard deviation: 0.0018791105968966383\n",
      "\n",
      "Training time: 0.439 s\n",
      "----- EVALUATION ON VAL SET ------\n",
      "MSE: 0.011561245740577038\n",
      "RMSE 0.10752323349200878\n",
      "MAE: 0.06970079963488081\n",
      "R^2:  0.8420954181315112\n",
      "\n"
     ]
    },
    {
     "data": {
      "image/png": "[encoded data removed]",
      "text/plain": [
       "<Figure size 640x480 with 1 Axes>"
      ]
     },
     "metadata": {},
     "output_type": "display_data"
    },
    {
     "name": "stdout",
     "output_type": "stream",
     "text": [
      "\n",
      "Training time: 0.104 s\n",
      "----- EVALUATION ON VAL SET ------\n",
      "MSE: 0.00873883351059196\n",
      "RMSE 0.09348172821782855\n",
      "MAE: 0.057321347108693216\n",
      "R^2:  0.8739737823955821\n",
      "\n"
     ]
    },
    {
     "data": {
      "image/png": "[encoded data removed]",
      "text/plain": [
       "<Figure size 640x480 with 1 Axes>"
      ]
     },
     "metadata": {},
     "output_type": "display_data"
    },
    {
     "name": "stdout",
     "output_type": "stream",
     "text": [
      "\n",
      "Testing time: 0.04 s\n",
      "----- EVALUATION ON VAL SET ------\n",
      "MSE: 0.012954061600047589\n",
      "RMSE 0.11381591101444292\n",
      "MAE: 0.07558981712914724\n",
      "R^2:  0.8228777783902838\n",
      "\n"
     ]
    },
    {
     "data": {
      "image/png": "[encoded data removed]",
      "text/plain": [
       "<Figure size 640x480 with 1 Axes>"
      ]
     },
     "metadata": {},
     "output_type": "display_data"
    },
    {
     "name": "stdout",
     "output_type": "stream",
     "text": [
      "CPU times: user 1min 5s, sys: 1.85 s, total: 1min 7s\n",
      "Wall time: 1min 57s\n"
     ]
    },
    {
     "data": {
      "text/plain": [
       "{'train': mse_t     0.011561\n",
       " rmse_t    0.107523\n",
       " mae_t     0.069701\n",
       " r2_t      0.842095\n",
       " dtype: object,\n",
       " 'test': mse_t     0.008739\n",
       " rmse_t    0.093482\n",
       " mae_t     0.057321\n",
       " r2_t      0.873974\n",
       " mse_v     0.012954\n",
       " rmse_v    0.113816\n",
       " mae_v      0.07559\n",
       " r2_v      0.822878\n",
       " dtype: object}"
      ]
     },
     "execution_count": 57,
     "metadata": {},
     "output_type": "execute_result"
    }
   ],
   "source": [
    "%%time \n",
    "\n",
    "test_model_train_val_test(\n",
    "    tree_reg, \n",
    "    (X_train_prepared, y_train_prepared),\n",
    "    (X_val_prepared, y_val_prepared),\n",
    "    (X_test_prepared,  y_test_prepared),\n",
    "    show=True\n",
    ")\n"
   ]
  },
  {
   "cell_type": "markdown",
   "id": "4003c50d",
   "metadata": {},
   "source": [
    "### Testing each month"
   ]
  },
  {
   "cell_type": "code",
   "execution_count": 58,
   "id": "9c02fe21",
   "metadata": {
    "scrolled": true
   },
   "outputs": [
    {
     "data": {
      "application/vnd.jupyter.widget-view+json": {
       "model_id": "",
       "version_major": 2,
       "version_minor": 0
      },
      "text/plain": [
       "  0%|          | 0/14 [00:00<?, ?months/s]"
      ]
     },
     "metadata": {},
     "output_type": "display_data"
    },
    {
     "name": "stdout",
     "output_type": "stream",
     "text": [
      "CPU times: user 49.2 s, sys: 15.8 ms, total: 49.3 s\n",
      "Wall time: 49.3 s\n"
     ]
    }
   ],
   "source": [
    "%%time \n",
    "\n",
    "result = do_test_per_month(\n",
    "    DecisionTreeRegressor, dict(criterion='friedman_mse', max_depth=12, random_state=config.seed),\n",
    "    (X_train, y_train),\n",
    "    (X_val, y_val),\n",
    "    (X_test,  y_test),\n",
    "    [2021, 2022],\n",
    "    months\n",
    ")"
   ]
  },
  {
   "cell_type": "code",
   "execution_count": 59,
   "id": "5f48990a",
   "metadata": {},
   "outputs": [
    {
     "data": {
      "text/html": [
       "<div>\n",
       "<style scoped>\n",
       "    .dataframe tbody tr th:only-of-type {\n",
       "        vertical-align: middle;\n",
       "    }\n",
       "\n",
       "    .dataframe tbody tr th {\n",
       "        vertical-align: top;\n",
       "    }\n",
       "\n",
       "    .dataframe thead th {\n",
       "        text-align: right;\n",
       "    }\n",
       "</style>\n",
       "<table border=\"1\" class=\"dataframe\">\n",
       "  <thead>\n",
       "    <tr style=\"text-align: right;\">\n",
       "      <th></th>\n",
       "      <th>order_</th>\n",
       "      <th>mae_t_test</th>\n",
       "      <th>mae_t_train</th>\n",
       "      <th>mae_v_test</th>\n",
       "      <th>mae_v_train</th>\n",
       "      <th>mse_t_test</th>\n",
       "      <th>mse_t_train</th>\n",
       "      <th>mse_v_test</th>\n",
       "      <th>mse_v_train</th>\n",
       "      <th>r2_t_test</th>\n",
       "      <th>r2_t_train</th>\n",
       "      <th>r2_v_test</th>\n",
       "      <th>r2_v_train</th>\n",
       "      <th>rmse_t_test</th>\n",
       "      <th>rmse_t_train</th>\n",
       "      <th>rmse_v_test</th>\n",
       "      <th>rmse_v_train</th>\n",
       "    </tr>\n",
       "  </thead>\n",
       "  <tbody>\n",
       "    <tr>\n",
       "      <th>0</th>\n",
       "      <td>0</td>\n",
       "      <td>0.062646</td>\n",
       "      <td>0.058257</td>\n",
       "      <td>0.084839</td>\n",
       "      <td>NaN</td>\n",
       "      <td>0.011217</td>\n",
       "      <td>0.008772</td>\n",
       "      <td>0.016764</td>\n",
       "      <td>NaN</td>\n",
       "      <td>0.828368</td>\n",
       "      <td>0.87452</td>\n",
       "      <td>0.770789</td>\n",
       "      <td>NaN</td>\n",
       "      <td>0.105911</td>\n",
       "      <td>0.093658</td>\n",
       "      <td>0.129475</td>\n",
       "      <td>NaN</td>\n",
       "    </tr>\n",
       "    <tr>\n",
       "      <th>1</th>\n",
       "      <td>1</td>\n",
       "      <td>0.065679</td>\n",
       "      <td>0.063789</td>\n",
       "      <td>0.083888</td>\n",
       "      <td>NaN</td>\n",
       "      <td>0.014095</td>\n",
       "      <td>0.009967</td>\n",
       "      <td>0.016543</td>\n",
       "      <td>NaN</td>\n",
       "      <td>0.813384</td>\n",
       "      <td>0.879183</td>\n",
       "      <td>0.77381</td>\n",
       "      <td>NaN</td>\n",
       "      <td>0.118724</td>\n",
       "      <td>0.099835</td>\n",
       "      <td>0.128618</td>\n",
       "      <td>NaN</td>\n",
       "    </tr>\n",
       "    <tr>\n",
       "      <th>2</th>\n",
       "      <td>2</td>\n",
       "      <td>0.067123</td>\n",
       "      <td>0.064489</td>\n",
       "      <td>0.083781</td>\n",
       "      <td>NaN</td>\n",
       "      <td>0.014349</td>\n",
       "      <td>0.010224</td>\n",
       "      <td>0.016351</td>\n",
       "      <td>NaN</td>\n",
       "      <td>0.812553</td>\n",
       "      <td>0.877989</td>\n",
       "      <td>0.77643</td>\n",
       "      <td>NaN</td>\n",
       "      <td>0.119788</td>\n",
       "      <td>0.101114</td>\n",
       "      <td>0.127871</td>\n",
       "      <td>NaN</td>\n",
       "    </tr>\n",
       "    <tr>\n",
       "      <th>3</th>\n",
       "      <td>3</td>\n",
       "      <td>0.062667</td>\n",
       "      <td>0.062931</td>\n",
       "      <td>0.083618</td>\n",
       "      <td>NaN</td>\n",
       "      <td>0.011436</td>\n",
       "      <td>0.009934</td>\n",
       "      <td>0.016268</td>\n",
       "      <td>NaN</td>\n",
       "      <td>0.853648</td>\n",
       "      <td>0.882984</td>\n",
       "      <td>0.777566</td>\n",
       "      <td>NaN</td>\n",
       "      <td>0.106938</td>\n",
       "      <td>0.09967</td>\n",
       "      <td>0.127546</td>\n",
       "      <td>NaN</td>\n",
       "    </tr>\n",
       "    <tr>\n",
       "      <th>4</th>\n",
       "      <td>4</td>\n",
       "      <td>0.063296</td>\n",
       "      <td>0.066703</td>\n",
       "      <td>0.083191</td>\n",
       "      <td>NaN</td>\n",
       "      <td>0.011295</td>\n",
       "      <td>0.010625</td>\n",
       "      <td>0.016288</td>\n",
       "      <td>NaN</td>\n",
       "      <td>0.85921</td>\n",
       "      <td>0.880399</td>\n",
       "      <td>0.777293</td>\n",
       "      <td>NaN</td>\n",
       "      <td>0.106279</td>\n",
       "      <td>0.103078</td>\n",
       "      <td>0.127624</td>\n",
       "      <td>NaN</td>\n",
       "    </tr>\n",
       "    <tr>\n",
       "      <th>5</th>\n",
       "      <td>5</td>\n",
       "      <td>0.06272</td>\n",
       "      <td>0.066411</td>\n",
       "      <td>0.082415</td>\n",
       "      <td>NaN</td>\n",
       "      <td>0.010774</td>\n",
       "      <td>0.010231</td>\n",
       "      <td>0.01586</td>\n",
       "      <td>NaN</td>\n",
       "      <td>0.843745</td>\n",
       "      <td>0.855747</td>\n",
       "      <td>0.783147</td>\n",
       "      <td>NaN</td>\n",
       "      <td>0.103796</td>\n",
       "      <td>0.101146</td>\n",
       "      <td>0.125936</td>\n",
       "      <td>NaN</td>\n",
       "    </tr>\n",
       "    <tr>\n",
       "      <th>6</th>\n",
       "      <td>6</td>\n",
       "      <td>0.060898</td>\n",
       "      <td>0.060983</td>\n",
       "      <td>0.083967</td>\n",
       "      <td>NaN</td>\n",
       "      <td>0.010255</td>\n",
       "      <td>0.008814</td>\n",
       "      <td>0.01653</td>\n",
       "      <td>NaN</td>\n",
       "      <td>0.83974</td>\n",
       "      <td>0.860764</td>\n",
       "      <td>0.77398</td>\n",
       "      <td>NaN</td>\n",
       "      <td>0.101266</td>\n",
       "      <td>0.093882</td>\n",
       "      <td>0.12857</td>\n",
       "      <td>NaN</td>\n",
       "    </tr>\n",
       "    <tr>\n",
       "      <th>7</th>\n",
       "      <td>7</td>\n",
       "      <td>0.063002</td>\n",
       "      <td>0.064226</td>\n",
       "      <td>0.085723</td>\n",
       "      <td>NaN</td>\n",
       "      <td>0.010914</td>\n",
       "      <td>0.009739</td>\n",
       "      <td>0.016414</td>\n",
       "      <td>NaN</td>\n",
       "      <td>0.815068</td>\n",
       "      <td>0.840329</td>\n",
       "      <td>0.775574</td>\n",
       "      <td>NaN</td>\n",
       "      <td>0.104468</td>\n",
       "      <td>0.098686</td>\n",
       "      <td>0.128116</td>\n",
       "      <td>NaN</td>\n",
       "    </tr>\n",
       "    <tr>\n",
       "      <th>8</th>\n",
       "      <td>8</td>\n",
       "      <td>0.070682</td>\n",
       "      <td>0.072424</td>\n",
       "      <td>0.084653</td>\n",
       "      <td>NaN</td>\n",
       "      <td>0.013344</td>\n",
       "      <td>0.011753</td>\n",
       "      <td>0.01665</td>\n",
       "      <td>NaN</td>\n",
       "      <td>0.810305</td>\n",
       "      <td>0.834687</td>\n",
       "      <td>0.772343</td>\n",
       "      <td>NaN</td>\n",
       "      <td>0.115518</td>\n",
       "      <td>0.108412</td>\n",
       "      <td>0.129035</td>\n",
       "      <td>NaN</td>\n",
       "    </tr>\n",
       "    <tr>\n",
       "      <th>9</th>\n",
       "      <td>9</td>\n",
       "      <td>0.071045</td>\n",
       "      <td>0.070797</td>\n",
       "      <td>0.084096</td>\n",
       "      <td>NaN</td>\n",
       "      <td>0.01297</td>\n",
       "      <td>0.011292</td>\n",
       "      <td>0.015953</td>\n",
       "      <td>NaN</td>\n",
       "      <td>0.80046</td>\n",
       "      <td>0.826308</td>\n",
       "      <td>0.781868</td>\n",
       "      <td>NaN</td>\n",
       "      <td>0.113886</td>\n",
       "      <td>0.106263</td>\n",
       "      <td>0.126307</td>\n",
       "      <td>NaN</td>\n",
       "    </tr>\n",
       "    <tr>\n",
       "      <th>10</th>\n",
       "      <td>10</td>\n",
       "      <td>0.0654</td>\n",
       "      <td>0.067259</td>\n",
       "      <td>0.082119</td>\n",
       "      <td>NaN</td>\n",
       "      <td>0.011458</td>\n",
       "      <td>0.010234</td>\n",
       "      <td>0.015508</td>\n",
       "      <td>NaN</td>\n",
       "      <td>0.818924</td>\n",
       "      <td>0.84978</td>\n",
       "      <td>0.787956</td>\n",
       "      <td>NaN</td>\n",
       "      <td>0.107042</td>\n",
       "      <td>0.101166</td>\n",
       "      <td>0.124532</td>\n",
       "      <td>NaN</td>\n",
       "    </tr>\n",
       "    <tr>\n",
       "      <th>11</th>\n",
       "      <td>11</td>\n",
       "      <td>0.06921</td>\n",
       "      <td>0.071726</td>\n",
       "      <td>0.083435</td>\n",
       "      <td>NaN</td>\n",
       "      <td>0.01217</td>\n",
       "      <td>0.011324</td>\n",
       "      <td>0.015909</td>\n",
       "      <td>NaN</td>\n",
       "      <td>0.822353</td>\n",
       "      <td>0.8472</td>\n",
       "      <td>0.782476</td>\n",
       "      <td>NaN</td>\n",
       "      <td>0.11032</td>\n",
       "      <td>0.106414</td>\n",
       "      <td>0.12613</td>\n",
       "      <td>NaN</td>\n",
       "    </tr>\n",
       "    <tr>\n",
       "      <th>12</th>\n",
       "      <td>12</td>\n",
       "      <td>0.070816</td>\n",
       "      <td>0.072348</td>\n",
       "      <td>0.081413</td>\n",
       "      <td>NaN</td>\n",
       "      <td>0.012391</td>\n",
       "      <td>0.011395</td>\n",
       "      <td>0.015297</td>\n",
       "      <td>NaN</td>\n",
       "      <td>0.822968</td>\n",
       "      <td>0.847209</td>\n",
       "      <td>0.790838</td>\n",
       "      <td>NaN</td>\n",
       "      <td>0.111315</td>\n",
       "      <td>0.106749</td>\n",
       "      <td>0.123682</td>\n",
       "      <td>NaN</td>\n",
       "    </tr>\n",
       "    <tr>\n",
       "      <th>13</th>\n",
       "      <td>13</td>\n",
       "      <td>0.061469</td>\n",
       "      <td>0.06411</td>\n",
       "      <td>0.081132</td>\n",
       "      <td>NaN</td>\n",
       "      <td>0.009883</td>\n",
       "      <td>0.009248</td>\n",
       "      <td>0.015257</td>\n",
       "      <td>NaN</td>\n",
       "      <td>0.842472</td>\n",
       "      <td>0.860359</td>\n",
       "      <td>0.791387</td>\n",
       "      <td>NaN</td>\n",
       "      <td>0.099411</td>\n",
       "      <td>0.096165</td>\n",
       "      <td>0.12352</td>\n",
       "      <td>NaN</td>\n",
       "    </tr>\n",
       "  </tbody>\n",
       "</table>\n",
       "</div>"
      ],
      "text/plain": [
       "    order_ mae_t_test mae_t_train mae_v_test mae_v_train mse_t_test  \\\n",
       "0        0   0.062646    0.058257   0.084839         NaN   0.011217   \n",
       "1        1   0.065679    0.063789   0.083888         NaN   0.014095   \n",
       "2        2   0.067123    0.064489   0.083781         NaN   0.014349   \n",
       "3        3   0.062667    0.062931   0.083618         NaN   0.011436   \n",
       "4        4   0.063296    0.066703   0.083191         NaN   0.011295   \n",
       "5        5    0.06272    0.066411   0.082415         NaN   0.010774   \n",
       "6        6   0.060898    0.060983   0.083967         NaN   0.010255   \n",
       "7        7   0.063002    0.064226   0.085723         NaN   0.010914   \n",
       "8        8   0.070682    0.072424   0.084653         NaN   0.013344   \n",
       "9        9   0.071045    0.070797   0.084096         NaN    0.01297   \n",
       "10      10     0.0654    0.067259   0.082119         NaN   0.011458   \n",
       "11      11    0.06921    0.071726   0.083435         NaN    0.01217   \n",
       "12      12   0.070816    0.072348   0.081413         NaN   0.012391   \n",
       "13      13   0.061469     0.06411   0.081132         NaN   0.009883   \n",
       "\n",
       "   mse_t_train mse_v_test mse_v_train r2_t_test r2_t_train r2_v_test  \\\n",
       "0     0.008772   0.016764         NaN  0.828368    0.87452  0.770789   \n",
       "1     0.009967   0.016543         NaN  0.813384   0.879183   0.77381   \n",
       "2     0.010224   0.016351         NaN  0.812553   0.877989   0.77643   \n",
       "3     0.009934   0.016268         NaN  0.853648   0.882984  0.777566   \n",
       "4     0.010625   0.016288         NaN   0.85921   0.880399  0.777293   \n",
       "5     0.010231    0.01586         NaN  0.843745   0.855747  0.783147   \n",
       "6     0.008814    0.01653         NaN   0.83974   0.860764   0.77398   \n",
       "7     0.009739   0.016414         NaN  0.815068   0.840329  0.775574   \n",
       "8     0.011753    0.01665         NaN  0.810305   0.834687  0.772343   \n",
       "9     0.011292   0.015953         NaN   0.80046   0.826308  0.781868   \n",
       "10    0.010234   0.015508         NaN  0.818924    0.84978  0.787956   \n",
       "11    0.011324   0.015909         NaN  0.822353     0.8472  0.782476   \n",
       "12    0.011395   0.015297         NaN  0.822968   0.847209  0.790838   \n",
       "13    0.009248   0.015257         NaN  0.842472   0.860359  0.791387   \n",
       "\n",
       "   r2_v_train rmse_t_test rmse_t_train rmse_v_test rmse_v_train  \n",
       "0         NaN    0.105911     0.093658    0.129475          NaN  \n",
       "1         NaN    0.118724     0.099835    0.128618          NaN  \n",
       "2         NaN    0.119788     0.101114    0.127871          NaN  \n",
       "3         NaN    0.106938      0.09967    0.127546          NaN  \n",
       "4         NaN    0.106279     0.103078    0.127624          NaN  \n",
       "5         NaN    0.103796     0.101146    0.125936          NaN  \n",
       "6         NaN    0.101266     0.093882     0.12857          NaN  \n",
       "7         NaN    0.104468     0.098686    0.128116          NaN  \n",
       "8         NaN    0.115518     0.108412    0.129035          NaN  \n",
       "9         NaN    0.113886     0.106263    0.126307          NaN  \n",
       "10        NaN    0.107042     0.101166    0.124532          NaN  \n",
       "11        NaN     0.11032     0.106414     0.12613          NaN  \n",
       "12        NaN    0.111315     0.106749    0.123682          NaN  \n",
       "13        NaN    0.099411     0.096165     0.12352          NaN  "
      ]
     },
     "execution_count": 59,
     "metadata": {},
     "output_type": "execute_result"
    }
   ],
   "source": [
    "result"
   ]
  },
  {
   "cell_type": "code",
   "execution_count": 60,
   "id": "e7f1d73d",
   "metadata": {},
   "outputs": [
    {
     "data": {
      "text/plain": [
       "<matplotlib.collections.PathCollection at 0x7f0fb00af040>"
      ]
     },
     "execution_count": 60,
     "metadata": {},
     "output_type": "execute_result"
    },
    {
     "data": {
      "image/png": "[encoded data removed]",
      "text/plain": [
       "<Figure size 640x480 with 1 Axes>"
      ]
     },
     "metadata": {},
     "output_type": "display_data"
    }
   ],
   "source": [
    "result[['rmse_t_test','rmse_t_train','rmse_v_test']].plot()\n",
    "\n",
    "aux=result[result.rmse_t_test == result.rmse_t_test.min()]\n",
    "plt.scatter(aux.order_.to_list(), aux['rmse_t_test'].to_list())\n",
    "\n",
    "aux=result[result.rmse_t_train == result.rmse_t_train.min()]\n",
    "plt.scatter(aux.order_.to_list(), aux['rmse_t_train'].to_list())\n",
    "\n",
    "aux=result[result.rmse_v_test == result.rmse_v_test.min()]\n",
    "plt.scatter(aux.order_.to_list(), aux['rmse_v_test'].to_list())"
   ]
  },
  {
   "cell_type": "code",
   "execution_count": 61,
   "id": "ade99246",
   "metadata": {},
   "outputs": [
    {
     "data": {
      "text/plain": [
       "rmse_t_test     0.099411\n",
       "rmse_t_train    0.093658\n",
       "rmse_v_test      0.12352\n",
       "dtype: object"
      ]
     },
     "execution_count": 61,
     "metadata": {},
     "output_type": "execute_result"
    }
   ],
   "source": [
    "result[['rmse_t_test','rmse_t_train','rmse_v_test']].min()\n",
    "\n",
    "# rmse_t_test     0.091301\n",
    "# rmse_t_train     0.09943\n",
    "# rmse_v_test     0.119586\n",
    "# dtype: object"
   ]
  },
  {
   "cell_type": "code",
   "execution_count": 62,
   "id": "31d2fc42",
   "metadata": {},
   "outputs": [
    {
     "data": {
      "text/plain": [
       "r2_t_test      0.85921\n",
       "r2_t_train    0.882984\n",
       "r2_v_test     0.791387\n",
       "dtype: object"
      ]
     },
     "execution_count": 62,
     "metadata": {},
     "output_type": "execute_result"
    }
   ],
   "source": [
    "result[['r2_t_test','r2_t_train','r2_v_test']].max()\n",
    "\n",
    "# r2_t_test     0.867151\n",
    "# r2_t_train    0.850738\n",
    "# r2_v_test     0.804474\n",
    "# dtype: object"
   ]
  },
  {
   "cell_type": "markdown",
   "id": "3cf8ef20",
   "metadata": {},
   "source": [
    "### Testing combination of three consecutive months"
   ]
  },
  {
   "cell_type": "code",
   "execution_count": 63,
   "id": "fd41e70d",
   "metadata": {},
   "outputs": [
    {
     "data": {
      "application/vnd.jupyter.widget-view+json": {
       "model_id": "",
       "version_major": 2,
       "version_minor": 0
      },
      "text/plain": [
       "  0%|          | 0/14 [00:00<?, ?months/s]"
      ]
     },
     "metadata": {},
     "output_type": "display_data"
    },
    {
     "name": "stdout",
     "output_type": "stream",
     "text": [
      "CPU times: user 2min 18s, sys: 4.13 ms, total: 2min 18s\n",
      "Wall time: 2min 18s\n"
     ]
    }
   ],
   "source": [
    "%%time\n",
    "\n",
    "result = do_test_per_month_combos(\n",
    "    DecisionTreeRegressor, dict(criterion='friedman_mse', max_depth=12, random_state=config.seed),\n",
    "    (X_train, y_train),\n",
    "    (X_val, y_val),\n",
    "    (X_test,  y_test),\n",
    "    [2021,2022],\n",
    "    [[11,12,1], [12,1,2],[1,2,3], [2,3,4], [3,4,5], [2,3], [3,4]]\n",
    ")"
   ]
  },
  {
   "cell_type": "code",
   "execution_count": 64,
   "id": "fafb8e80",
   "metadata": {},
   "outputs": [
    {
     "data": {
      "text/plain": [
       "<matplotlib.collections.PathCollection at 0x7f10353ef2b0>"
      ]
     },
     "execution_count": 64,
     "metadata": {},
     "output_type": "execute_result"
    },
    {
     "data": {
      "image/png": "[encoded data removed]",
      "text/plain": [
       "<Figure size 640x480 with 1 Axes>"
      ]
     },
     "metadata": {},
     "output_type": "display_data"
    }
   ],
   "source": [
    "result[['rmse_t_test','rmse_t_train','rmse_v_test']].plot()\n",
    "\n",
    "aux=result[result.rmse_t_test == result.rmse_t_test.min()]\n",
    "plt.scatter(aux.order_.to_list(), aux['rmse_t_test'].to_list())\n",
    "\n",
    "aux=result[result.rmse_t_train == result.rmse_t_train.min()]\n",
    "plt.scatter(aux.order_.to_list(), aux['rmse_t_train'].to_list())\n",
    "\n",
    "aux=result[result.rmse_v_test == result.rmse_v_test.min()]\n",
    "plt.scatter(aux.order_.to_list(), aux['rmse_v_test'].to_list())"
   ]
  },
  {
   "cell_type": "code",
   "execution_count": 65,
   "id": "cbd3da28",
   "metadata": {},
   "outputs": [
    {
     "data": {
      "text/plain": [
       "rmse_t_test     0.093267\n",
       "rmse_t_train    0.099683\n",
       "rmse_v_test     0.116482\n",
       "dtype: object"
      ]
     },
     "execution_count": 65,
     "metadata": {},
     "output_type": "execute_result"
    }
   ],
   "source": [
    "result[['rmse_t_test','rmse_t_train','rmse_v_test']].min()\n",
    "\n",
    "# rmse_t_test     0.093224\n",
    "# rmse_t_train    0.106735\n",
    "# rmse_v_test     0.115668\n",
    "# dtype: object"
   ]
  },
  {
   "cell_type": "code",
   "execution_count": 66,
   "id": "0294b849",
   "metadata": {
    "scrolled": false
   },
   "outputs": [
    {
     "data": {
      "text/plain": [
       "r2_t_test     0.876389\n",
       "r2_t_train    0.874299\n",
       "r2_v_test     0.814484\n",
       "dtype: object"
      ]
     },
     "execution_count": 66,
     "metadata": {},
     "output_type": "execute_result"
    },
    {
     "name": "stdout",
     "output_type": "stream",
     "text": [
      "[CV] END .................................................... total time=  49.6s\n",
      "[CV] END .................................................... total time=  50.3s\n",
      "[CV] END .................................................... total time=  50.7s\n",
      "[CV] END .................................................... total time=  50.8s\n",
      "[CV] END .................................................... total time=  50.9s\n"
     ]
    }
   ],
   "source": [
    "result[['r2_t_test','r2_t_train','r2_v_test']].max()\n",
    "\n",
    "# r2_t_test     0.864013\n",
    "# r2_t_train     0.83079\n",
    "# r2_v_test     0.817077\n",
    "# dtype: object"
   ]
  },
  {
   "cell_type": "markdown",
   "id": "6fd80162",
   "metadata": {},
   "source": [
    "### Fine tuning parameters"
   ]
  },
  {
   "cell_type": "code",
   "execution_count": 43,
   "id": "12746d90",
   "metadata": {},
   "outputs": [],
   "source": [
    "# define model \n",
    "tree_reg = DecisionTreeRegressor(criterion='friedman_mse', random_state=config.seed)\n",
    "\n",
    "param_grid = [\n",
    "    {\n",
    "        'max_depth':[8, 9, 10, 11, 12, 13]\n",
    "    }\n",
    "]\n",
    "\n",
    "grid_search = GridSearchCV(\n",
    "    tree_reg, param_grid, cv=5,\n",
    "    scoring='neg_root_mean_squared_error',\n",
    "    verbose=2,\n",
    "    return_train_score=True,\n",
    "    error_score='raise'\n",
    ")"
   ]
  },
  {
   "cell_type": "code",
   "execution_count": 44,
   "id": "2f73bc9a",
   "metadata": {
    "scrolled": true
   },
   "outputs": [
    {
     "name": "stdout",
     "output_type": "stream",
     "text": [
      "Fitting 5 folds for each of 6 candidates, totalling 30 fits\n",
      "[CV] END ........................................max_depth=8; total time=  34.1s\n",
      "[CV] END ........................................max_depth=8; total time=  34.5s\n",
      "[CV] END ........................................max_depth=8; total time=  34.4s\n",
      "[CV] END ........................................max_depth=8; total time=  34.6s\n",
      "[CV] END ........................................max_depth=8; total time=  34.5s\n",
      "[CV] END ........................................max_depth=9; total time=  37.5s\n",
      "[CV] END ........................................max_depth=9; total time=  38.4s\n",
      "[CV] END ........................................max_depth=9; total time=  38.7s\n",
      "[CV] END ........................................max_depth=9; total time=  37.0s\n",
      "[CV] END ........................................max_depth=9; total time=  36.9s\n",
      "[CV] END .......................................max_depth=10; total time=  39.2s\n",
      "[CV] END .......................................max_depth=10; total time=  39.9s\n",
      "[CV] END .......................................max_depth=10; total time=  39.5s\n",
      "[CV] END .......................................max_depth=10; total time=  39.0s\n",
      "[CV] END .......................................max_depth=10; total time=  39.1s\n",
      "[CV] END .......................................max_depth=11; total time=  41.8s\n",
      "[CV] END .......................................max_depth=11; total time=  42.2s\n",
      "[CV] END .......................................max_depth=11; total time=  42.3s\n",
      "[CV] END .......................................max_depth=11; total time=  42.2s\n",
      "[CV] END .......................................max_depth=11; total time=  41.9s\n",
      "[CV] END .......................................max_depth=12; total time=  45.2s\n",
      "[CV] END .......................................max_depth=12; total time=  45.3s\n",
      "[CV] END .......................................max_depth=12; total time=  44.8s\n",
      "[CV] END .......................................max_depth=12; total time=  44.8s\n",
      "[CV] END .......................................max_depth=12; total time=  44.7s\n",
      "[CV] END .......................................max_depth=13; total time=  47.8s\n",
      "[CV] END .......................................max_depth=13; total time=  47.9s\n",
      "[CV] END .......................................max_depth=13; total time=  47.1s\n",
      "[CV] END .......................................max_depth=13; total time=  47.1s\n",
      "[CV] END .......................................max_depth=13; total time=  46.8s\n"
     ]
    },
    {
     "data": {
      "text/html": [
       "<style>#sk-container-id-2 {color: black;background-color: white;}#sk-container-id-2 pre{padding: 0;}#sk-container-id-2 div.sk-toggleable {background-color: white;}#sk-container-id-2 label.sk-toggleable__label {cursor: pointer;display: block;width: 100%;margin-bottom: 0;padding: 0.3em;box-sizing: border-box;text-align: center;}#sk-container-id-2 label.sk-toggleable__label-arrow:before {content: \"▸\";float: left;margin-right: 0.25em;color: #696969;}#sk-container-id-2 label.sk-toggleable__label-arrow:hover:before {color: black;}#sk-container-id-2 div.sk-estimator:hover label.sk-toggleable__label-arrow:before {color: black;}#sk-container-id-2 div.sk-toggleable__content {max-height: 0;max-width: 0;overflow: hidden;text-align: left;background-color: #f0f8ff;}#sk-container-id-2 div.sk-toggleable__content pre {margin: 0.2em;color: black;border-radius: 0.25em;background-color: #f0f8ff;}#sk-container-id-2 input.sk-toggleable__control:checked~div.sk-toggleable__content {max-height: 200px;max-width: 100%;overflow: auto;}#sk-container-id-2 input.sk-toggleable__control:checked~label.sk-toggleable__label-arrow:before {content: \"▾\";}#sk-container-id-2 div.sk-estimator input.sk-toggleable__control:checked~label.sk-toggleable__label {background-color: #d4ebff;}#sk-container-id-2 div.sk-label input.sk-toggleable__control:checked~label.sk-toggleable__label {background-color: #d4ebff;}#sk-container-id-2 input.sk-hidden--visually {border: 0;clip: rect(1px 1px 1px 1px);clip: rect(1px, 1px, 1px, 1px);height: 1px;margin: -1px;overflow: hidden;padding: 0;position: absolute;width: 1px;}#sk-container-id-2 div.sk-estimator {font-family: monospace;background-color: #f0f8ff;border: 1px dotted black;border-radius: 0.25em;box-sizing: border-box;margin-bottom: 0.5em;}#sk-container-id-2 div.sk-estimator:hover {background-color: #d4ebff;}#sk-container-id-2 div.sk-parallel-item::after {content: \"\";width: 100%;border-bottom: 1px solid gray;flex-grow: 1;}#sk-container-id-2 div.sk-label:hover label.sk-toggleable__label {background-color: #d4ebff;}#sk-container-id-2 div.sk-serial::before {content: \"\";position: absolute;border-left: 1px solid gray;box-sizing: border-box;top: 0;bottom: 0;left: 50%;z-index: 0;}#sk-container-id-2 div.sk-serial {display: flex;flex-direction: column;align-items: center;background-color: white;padding-right: 0.2em;padding-left: 0.2em;position: relative;}#sk-container-id-2 div.sk-item {position: relative;z-index: 1;}#sk-container-id-2 div.sk-parallel {display: flex;align-items: stretch;justify-content: center;background-color: white;position: relative;}#sk-container-id-2 div.sk-item::before, #sk-container-id-2 div.sk-parallel-item::before {content: \"\";position: absolute;border-left: 1px solid gray;box-sizing: border-box;top: 0;bottom: 0;left: 50%;z-index: -1;}#sk-container-id-2 div.sk-parallel-item {display: flex;flex-direction: column;z-index: 1;position: relative;background-color: white;}#sk-container-id-2 div.sk-parallel-item:first-child::after {align-self: flex-end;width: 50%;}#sk-container-id-2 div.sk-parallel-item:last-child::after {align-self: flex-start;width: 50%;}#sk-container-id-2 div.sk-parallel-item:only-child::after {width: 0;}#sk-container-id-2 div.sk-dashed-wrapped {border: 1px dashed gray;margin: 0 0.4em 0.5em 0.4em;box-sizing: border-box;padding-bottom: 0.4em;background-color: white;}#sk-container-id-2 div.sk-label label {font-family: monospace;font-weight: bold;display: inline-block;line-height: 1.2em;}#sk-container-id-2 div.sk-label-container {text-align: center;}#sk-container-id-2 div.sk-container {/* jupyter's `normalize.less` sets `[hidden] { display: none; }` but bootstrap.min.css set `[hidden] { display: none !important; }` so we also need the `!important` here to be able to override the default hidden behavior on the sphinx rendered scikit-learn.org. See: https://github.com/scikit-learn/scikit-learn/issues/21755 */display: inline-block !important;position: relative;}#sk-container-id-2 div.sk-text-repr-fallback {display: none;}</style><div id=\"sk-container-id-2\" class=\"sk-top-container\"><div class=\"sk-text-repr-fallback\"><pre>GridSearchCV(cv=5, error_score=&#x27;raise&#x27;,\n",
       "             estimator=DecisionTreeRegressor(criterion=&#x27;friedman_mse&#x27;,\n",
       "                                             random_state=42),\n",
       "             param_grid=[{&#x27;max_depth&#x27;: [8, 9, 10, 11, 12, 13]}],\n",
       "             return_train_score=True, scoring=&#x27;neg_root_mean_squared_error&#x27;,\n",
       "             verbose=2)</pre><b>In a Jupyter environment, please rerun this cell to show the HTML representation or trust the notebook. <br />On GitHub, the HTML representation is unable to render, please try loading this page with nbviewer.org.</b></div><div class=\"sk-container\" hidden><div class=\"sk-item sk-dashed-wrapped\"><div class=\"sk-label-container\"><div class=\"sk-label sk-toggleable\"><input class=\"sk-toggleable__control sk-hidden--visually\" id=\"sk-estimator-id-10\" type=\"checkbox\" ><label for=\"sk-estimator-id-10\" class=\"sk-toggleable__label sk-toggleable__label-arrow\">GridSearchCV</label><div class=\"sk-toggleable__content\"><pre>GridSearchCV(cv=5, error_score=&#x27;raise&#x27;,\n",
       "             estimator=DecisionTreeRegressor(criterion=&#x27;friedman_mse&#x27;,\n",
       "                                             random_state=42),\n",
       "             param_grid=[{&#x27;max_depth&#x27;: [8, 9, 10, 11, 12, 13]}],\n",
       "             return_train_score=True, scoring=&#x27;neg_root_mean_squared_error&#x27;,\n",
       "             verbose=2)</pre></div></div></div><div class=\"sk-parallel\"><div class=\"sk-parallel-item\"><div class=\"sk-item\"><div class=\"sk-label-container\"><div class=\"sk-label sk-toggleable\"><input class=\"sk-toggleable__control sk-hidden--visually\" id=\"sk-estimator-id-11\" type=\"checkbox\" ><label for=\"sk-estimator-id-11\" class=\"sk-toggleable__label sk-toggleable__label-arrow\">estimator: DecisionTreeRegressor</label><div class=\"sk-toggleable__content\"><pre>DecisionTreeRegressor(criterion=&#x27;friedman_mse&#x27;, random_state=42)</pre></div></div></div><div class=\"sk-serial\"><div class=\"sk-item\"><div class=\"sk-estimator sk-toggleable\"><input class=\"sk-toggleable__control sk-hidden--visually\" id=\"sk-estimator-id-12\" type=\"checkbox\" ><label for=\"sk-estimator-id-12\" class=\"sk-toggleable__label sk-toggleable__label-arrow\">DecisionTreeRegressor</label><div class=\"sk-toggleable__content\"><pre>DecisionTreeRegressor(criterion=&#x27;friedman_mse&#x27;, random_state=42)</pre></div></div></div></div></div></div></div></div></div></div>"
      ],
      "text/plain": [
       "GridSearchCV(cv=5, error_score='raise',\n",
       "             estimator=DecisionTreeRegressor(criterion='friedman_mse',\n",
       "                                             random_state=42),\n",
       "             param_grid=[{'max_depth': [8, 9, 10, 11, 12, 13]}],\n",
       "             return_train_score=True, scoring='neg_root_mean_squared_error',\n",
       "             verbose=2)"
      ]
     },
     "execution_count": 44,
     "metadata": {},
     "output_type": "execute_result"
    }
   ],
   "source": [
    "grid_search.fit(X_train_prepared, y_train_prepared)"
   ]
  },
  {
   "cell_type": "code",
   "execution_count": 45,
   "id": "7b1b7822",
   "metadata": {},
   "outputs": [
    {
     "name": "stdout",
     "output_type": "stream",
     "text": [
      "the best parameters are:\n",
      "{'max_depth': 12}\n"
     ]
    }
   ],
   "source": [
    "\n",
    "print(\"the best parameters are:\")\n",
    "print(grid_search.best_params_)\n"
   ]
  },
  {
   "cell_type": "code",
   "execution_count": 46,
   "id": "5ea9c4fc",
   "metadata": {},
   "outputs": [
    {
     "name": "stdout",
     "output_type": "stream",
     "text": [
      "the best trained model:\n"
     ]
    },
    {
     "data": {
      "text/html": [
       "<style>#sk-container-id-3 {color: black;background-color: white;}#sk-container-id-3 pre{padding: 0;}#sk-container-id-3 div.sk-toggleable {background-color: white;}#sk-container-id-3 label.sk-toggleable__label {cursor: pointer;display: block;width: 100%;margin-bottom: 0;padding: 0.3em;box-sizing: border-box;text-align: center;}#sk-container-id-3 label.sk-toggleable__label-arrow:before {content: \"▸\";float: left;margin-right: 0.25em;color: #696969;}#sk-container-id-3 label.sk-toggleable__label-arrow:hover:before {color: black;}#sk-container-id-3 div.sk-estimator:hover label.sk-toggleable__label-arrow:before {color: black;}#sk-container-id-3 div.sk-toggleable__content {max-height: 0;max-width: 0;overflow: hidden;text-align: left;background-color: #f0f8ff;}#sk-container-id-3 div.sk-toggleable__content pre {margin: 0.2em;color: black;border-radius: 0.25em;background-color: #f0f8ff;}#sk-container-id-3 input.sk-toggleable__control:checked~div.sk-toggleable__content {max-height: 200px;max-width: 100%;overflow: auto;}#sk-container-id-3 input.sk-toggleable__control:checked~label.sk-toggleable__label-arrow:before {content: \"▾\";}#sk-container-id-3 div.sk-estimator input.sk-toggleable__control:checked~label.sk-toggleable__label {background-color: #d4ebff;}#sk-container-id-3 div.sk-label input.sk-toggleable__control:checked~label.sk-toggleable__label {background-color: #d4ebff;}#sk-container-id-3 input.sk-hidden--visually {border: 0;clip: rect(1px 1px 1px 1px);clip: rect(1px, 1px, 1px, 1px);height: 1px;margin: -1px;overflow: hidden;padding: 0;position: absolute;width: 1px;}#sk-container-id-3 div.sk-estimator {font-family: monospace;background-color: #f0f8ff;border: 1px dotted black;border-radius: 0.25em;box-sizing: border-box;margin-bottom: 0.5em;}#sk-container-id-3 div.sk-estimator:hover {background-color: #d4ebff;}#sk-container-id-3 div.sk-parallel-item::after {content: \"\";width: 100%;border-bottom: 1px solid gray;flex-grow: 1;}#sk-container-id-3 div.sk-label:hover label.sk-toggleable__label {background-color: #d4ebff;}#sk-container-id-3 div.sk-serial::before {content: \"\";position: absolute;border-left: 1px solid gray;box-sizing: border-box;top: 0;bottom: 0;left: 50%;z-index: 0;}#sk-container-id-3 div.sk-serial {display: flex;flex-direction: column;align-items: center;background-color: white;padding-right: 0.2em;padding-left: 0.2em;position: relative;}#sk-container-id-3 div.sk-item {position: relative;z-index: 1;}#sk-container-id-3 div.sk-parallel {display: flex;align-items: stretch;justify-content: center;background-color: white;position: relative;}#sk-container-id-3 div.sk-item::before, #sk-container-id-3 div.sk-parallel-item::before {content: \"\";position: absolute;border-left: 1px solid gray;box-sizing: border-box;top: 0;bottom: 0;left: 50%;z-index: -1;}#sk-container-id-3 div.sk-parallel-item {display: flex;flex-direction: column;z-index: 1;position: relative;background-color: white;}#sk-container-id-3 div.sk-parallel-item:first-child::after {align-self: flex-end;width: 50%;}#sk-container-id-3 div.sk-parallel-item:last-child::after {align-self: flex-start;width: 50%;}#sk-container-id-3 div.sk-parallel-item:only-child::after {width: 0;}#sk-container-id-3 div.sk-dashed-wrapped {border: 1px dashed gray;margin: 0 0.4em 0.5em 0.4em;box-sizing: border-box;padding-bottom: 0.4em;background-color: white;}#sk-container-id-3 div.sk-label label {font-family: monospace;font-weight: bold;display: inline-block;line-height: 1.2em;}#sk-container-id-3 div.sk-label-container {text-align: center;}#sk-container-id-3 div.sk-container {/* jupyter's `normalize.less` sets `[hidden] { display: none; }` but bootstrap.min.css set `[hidden] { display: none !important; }` so we also need the `!important` here to be able to override the default hidden behavior on the sphinx rendered scikit-learn.org. See: https://github.com/scikit-learn/scikit-learn/issues/21755 */display: inline-block !important;position: relative;}#sk-container-id-3 div.sk-text-repr-fallback {display: none;}</style><div id=\"sk-container-id-3\" class=\"sk-top-container\"><div class=\"sk-text-repr-fallback\"><pre>DecisionTreeRegressor(criterion=&#x27;friedman_mse&#x27;, max_depth=12, random_state=42)</pre><b>In a Jupyter environment, please rerun this cell to show the HTML representation or trust the notebook. <br />On GitHub, the HTML representation is unable to render, please try loading this page with nbviewer.org.</b></div><div class=\"sk-container\" hidden><div class=\"sk-item\"><div class=\"sk-estimator sk-toggleable\"><input class=\"sk-toggleable__control sk-hidden--visually\" id=\"sk-estimator-id-13\" type=\"checkbox\" checked><label for=\"sk-estimator-id-13\" class=\"sk-toggleable__label sk-toggleable__label-arrow\">DecisionTreeRegressor</label><div class=\"sk-toggleable__content\"><pre>DecisionTreeRegressor(criterion=&#x27;friedman_mse&#x27;, max_depth=12, random_state=42)</pre></div></div></div></div></div>"
      ],
      "text/plain": [
       "DecisionTreeRegressor(criterion='friedman_mse', max_depth=12, random_state=42)"
      ]
     },
     "execution_count": 46,
     "metadata": {},
     "output_type": "execute_result"
    }
   ],
   "source": [
    "print(\"the best trained model:\")\n",
    "grid_search.best_estimator_"
   ]
  },
  {
   "cell_type": "code",
   "execution_count": 47,
   "id": "2418322e",
   "metadata": {},
   "outputs": [
    {
     "name": "stdout",
     "output_type": "stream",
     "text": [
      "Best Score\n"
     ]
    },
    {
     "data": {
      "text/plain": [
       "0.1091833029094543"
      ]
     },
     "execution_count": 47,
     "metadata": {},
     "output_type": "execute_result"
    }
   ],
   "source": [
    "print(\"Best Score\")\n",
    "-grid_search.best_score_"
   ]
  },
  {
   "cell_type": "code",
   "execution_count": 48,
   "id": "129edcb9",
   "metadata": {},
   "outputs": [
    {
     "name": "stdout",
     "output_type": "stream",
     "text": [
      "0.11123987737024602 {'max_depth': 8}\n",
      "0.11045368198067747 {'max_depth': 9}\n",
      "0.1098171813435489 {'max_depth': 10}\n",
      "0.1093731745256125 {'max_depth': 11}\n",
      "0.1091833029094543 {'max_depth': 12}\n",
      "0.10932679581082005 {'max_depth': 13}\n"
     ]
    }
   ],
   "source": [
    "cvres = grid_search.cv_results_\n",
    "for mean_score, params in zip(cvres[\"mean_test_score\"], cvres[\"params\"]):\n",
    "    print(-mean_score, params)"
   ]
  },
  {
   "cell_type": "code",
   "execution_count": 49,
   "id": "b050bdab",
   "metadata": {},
   "outputs": [],
   "source": [
    "results = grid_search.cv_results_"
   ]
  },
  {
   "cell_type": "code",
   "execution_count": 51,
   "id": "b8a8b0af",
   "metadata": {
    "scrolled": true
   },
   "outputs": [
    {
     "data": {
      "text/plain": [
       "{'mean_fit_time': array([34.35725217, 37.64591603, 39.25999374, 41.98958454, 44.86360693,\n",
       "        47.24010792]),\n",
       " 'std_fit_time': array([0.1880694 , 0.72855779, 0.34509869, 0.18553055, 0.22876044,\n",
       "        0.42666296]),\n",
       " 'mean_score_time': array([0.06127453, 0.0679986 , 0.07609491, 0.0830843 , 0.09148617,\n",
       "        0.09783635]),\n",
       " 'std_score_time': array([0.00079588, 0.00108344, 0.00070637, 0.00067302, 0.00170417,\n",
       "        0.00057703]),\n",
       " 'param_max_depth': masked_array(data=[8, 9, 10, 11, 12, 13],\n",
       "              mask=[False, False, False, False, False, False],\n",
       "        fill_value='?',\n",
       "             dtype=object),\n",
       " 'params': [{'max_depth': 8},\n",
       "  {'max_depth': 9},\n",
       "  {'max_depth': 10},\n",
       "  {'max_depth': 11},\n",
       "  {'max_depth': 12},\n",
       "  {'max_depth': 13}],\n",
       " 'split0_test_score': array([-0.10931604, -0.10846211, -0.10779018, -0.10734557, -0.10715108,\n",
       "        -0.10730265]),\n",
       " 'split1_test_score': array([-0.10916636, -0.10835287, -0.10767338, -0.10727481, -0.10703776,\n",
       "        -0.10723041]),\n",
       " 'split2_test_score': array([-0.11122808, -0.11042497, -0.1097856 , -0.10934128, -0.10914086,\n",
       "        -0.10923452]),\n",
       " 'split3_test_score': array([-0.11315157, -0.11241923, -0.11183101, -0.11137597, -0.11120652,\n",
       "        -0.1113966 ]),\n",
       " 'split4_test_score': array([-0.11333732, -0.11260923, -0.11200573, -0.11152824, -0.11138029,\n",
       "        -0.1114698 ]),\n",
       " 'mean_test_score': array([-0.11123988, -0.11045368, -0.10981718, -0.10937317, -0.1091833 ,\n",
       "        -0.1093268 ]),\n",
       " 'std_test_score': array([0.0017919 , 0.00183795, 0.00187355, 0.00185315, 0.00187911,\n",
       "        0.00186425]),\n",
       " 'rank_test_score': array([6, 5, 4, 3, 1, 2], dtype=int32),\n",
       " 'split0_train_score': array([-0.11155867, -0.11064602, -0.10977657, -0.10888316, -0.10784819,\n",
       "        -0.10656106]),\n",
       " 'split1_train_score': array([-0.11156206, -0.11066195, -0.10979644, -0.10891395, -0.10785918,\n",
       "        -0.10658211]),\n",
       " 'split2_train_score': array([-0.11103404, -0.11016291, -0.10929024, -0.10842344, -0.10742583,\n",
       "        -0.10614132]),\n",
       " 'split3_train_score': array([-0.11058171, -0.10966602, -0.10881515, -0.10791593, -0.10688715,\n",
       "        -0.10560982]),\n",
       " 'split4_train_score': array([-0.11050939, -0.10961025, -0.10874412, -0.10783014, -0.1068016 ,\n",
       "        -0.10553148]),\n",
       " 'mean_train_score': array([-0.11104917, -0.11014943, -0.1092845 , -0.10839332, -0.10736439,\n",
       "        -0.10608516]),\n",
       " 'std_train_score': array([0.00045448, 0.00045472, 0.0004509 , 0.00045977, 0.00045324,\n",
       "        0.00044924])}"
      ]
     },
     "execution_count": 51,
     "metadata": {},
     "output_type": "execute_result"
    }
   ],
   "source": [
    "results"
   ]
  },
  {
   "cell_type": "code",
   "execution_count": 54,
   "id": "5a7fa15f",
   "metadata": {
    "scrolled": false
   },
   "outputs": [
    {
     "data": {
      "image/png": "[encoded data removed]",
      "text/plain": [
       "<Figure size 800x800 with 1 Axes>"
      ]
     },
     "metadata": {},
     "output_type": "display_data"
    }
   ],
   "source": [
    "print_grid_result(results, 'param_max_depth')"
   ]
  },
  {
   "cell_type": "markdown",
   "id": "ce966eb7",
   "metadata": {},
   "source": [
    "## Random Forest"
   ]
  },
  {
   "cell_type": "code",
   "execution_count": 67,
   "id": "10848719",
   "metadata": {},
   "outputs": [],
   "source": [
    "from sklearn.ensemble import RandomForestRegressor"
   ]
  },
  {
   "cell_type": "code",
   "execution_count": 68,
   "id": "f344a18e",
   "metadata": {},
   "outputs": [
    {
     "name": "stdout",
     "output_type": "stream",
     "text": [
      "CPU times: user 0 ns, sys: 122 µs, total: 122 µs\n",
      "Wall time: 130 µs\n"
     ]
    }
   ],
   "source": [
    "%%time \n",
    "\n",
    "# define used regressor\n",
    "forest=RandomForestRegressor(n_estimators=100,\n",
    "                             max_depth=12,\n",
    "                             criterion='friedman_mse',\n",
    "                             n_jobs=10,\n",
    "                             random_state=config.seed\n",
    "                            )"
   ]
  },
  {
   "cell_type": "markdown",
   "id": "d2c8ddc3",
   "metadata": {},
   "source": [
    "### Train and test, validate model"
   ]
  },
  {
   "cell_type": "code",
   "execution_count": null,
   "id": "3ea72cdb",
   "metadata": {
    "scrolled": false
   },
   "outputs": [
    {
     "name": "stderr",
     "output_type": "stream",
     "text": [
      "[Parallel(n_jobs=5)]: Using backend LokyBackend with 5 concurrent workers.\n"
     ]
    }
   ],
   "source": [
    "%%time\n",
    "\n",
    "test_model_train_val_test(\n",
    "    forest, \n",
    "    (X_train_prepared, y_train_prepared),\n",
    "    (X_val_prepared, y_val_prepared),\n",
    "    (X_test_prepared,  y_test_prepared),\n",
    "    show=True\n",
    ")"
   ]
  },
  {
   "cell_type": "markdown",
   "id": "9da81ddd",
   "metadata": {},
   "source": [
    "### Testing each month"
   ]
  },
  {
   "cell_type": "code",
   "execution_count": null,
   "id": "69c98328",
   "metadata": {
    "scrolled": true
   },
   "outputs": [],
   "source": [
    "%%time \n",
    "\n",
    "result = do_test_per_month(\n",
    "    RandomForestRegressor(n_estimators=100, max_depth=12, criterion='friedman_mse', n_jobs=10, random_state=config.seed),\n",
    "    (X_train, y_train),\n",
    "    (X_val, y_val),\n",
    "    (X_test,  y_test),\n",
    "    [2021, 2022],\n",
    "    months\n",
    ")"
   ]
  },
  {
   "cell_type": "code",
   "execution_count": null,
   "id": "6f99d3a5",
   "metadata": {},
   "outputs": [],
   "source": [
    "result"
   ]
  },
  {
   "cell_type": "code",
   "execution_count": null,
   "id": "56e6a707",
   "metadata": {},
   "outputs": [],
   "source": [
    "result[['rmse_t_test','rmse_t_train','rmse_v_test']].plot()\n",
    "\n",
    "aux=result[result.rmse_t_test == result.rmse_t_test.min()]\n",
    "plt.scatter(aux.order_.to_list(), aux['rmse_t_test'].to_list())\n",
    "\n",
    "aux=result[result.rmse_t_train == result.rmse_t_train.min()]\n",
    "plt.scatter(aux.order_.to_list(), aux['rmse_t_train'].to_list())\n",
    "\n",
    "aux=result[result.rmse_v_test == result.rmse_v_test.min()]\n",
    "plt.scatter(aux.order_.to_list(), aux['rmse_v_test'].to_list())"
   ]
  },
  {
   "cell_type": "code",
   "execution_count": null,
   "id": "a49b68f2",
   "metadata": {},
   "outputs": [],
   "source": [
    "result[['rmse_t_test','rmse_t_train','rmse_v_test']].min()\n",
    "\n",
    "# rmse_t_test     0.091301\n",
    "# rmse_t_train     0.09943\n",
    "# rmse_v_test     0.119586\n",
    "# dtype: object"
   ]
  },
  {
   "cell_type": "code",
   "execution_count": null,
   "id": "b5d10d90",
   "metadata": {},
   "outputs": [],
   "source": [
    "result[['r2_t_test','r2_t_train','r2_v_test']].max()\n",
    "\n",
    "# r2_t_test     0.867151\n",
    "# r2_t_train    0.850738\n",
    "# r2_v_test     0.804474\n",
    "# dtype: object"
   ]
  },
  {
   "cell_type": "markdown",
   "id": "eb5e70a9",
   "metadata": {},
   "source": [
    "### Testing combination of three consecutive months"
   ]
  },
  {
   "cell_type": "code",
   "execution_count": null,
   "id": "18350ad1",
   "metadata": {},
   "outputs": [],
   "source": [
    "%%time\n",
    "\n",
    "result = do_test_per_month_combos(\n",
    "    RandomForestRegressor(n_estimators=100, max_depth=12, criterion='friedman_mse', n_jobs=10, random_state=config.seed),\n",
    "    (X_train, y_train),\n",
    "    (X_val, y_val),\n",
    "    (X_test,  y_test),\n",
    "    [2021,2022],\n",
    "    [[11,12,1], [12,1,2],[1,2,3], [2,3,4], [3,4,5], [2,3], [3,4]]\n",
    ")"
   ]
  },
  {
   "cell_type": "code",
   "execution_count": null,
   "id": "2964706f",
   "metadata": {},
   "outputs": [],
   "source": [
    "result[['rmse_t_test','rmse_t_train','rmse_v_test']].plot()\n",
    "\n",
    "aux=result[result.rmse_t_test == result.rmse_t_test.min()]\n",
    "plt.scatter(aux.order_.to_list(), aux['rmse_t_test'].to_list())\n",
    "\n",
    "aux=result[result.rmse_t_train == result.rmse_t_train.min()]\n",
    "plt.scatter(aux.order_.to_list(), aux['rmse_t_train'].to_list())\n",
    "\n",
    "aux=result[result.rmse_v_test == result.rmse_v_test.min()]\n",
    "plt.scatter(aux.order_.to_list(), aux['rmse_v_test'].to_list())"
   ]
  },
  {
   "cell_type": "code",
   "execution_count": null,
   "id": "5db329eb",
   "metadata": {},
   "outputs": [],
   "source": [
    "result[['rmse_t_test','rmse_t_train','rmse_v_test']].min()\n",
    "\n",
    "# rmse_t_test     0.093224\n",
    "# rmse_t_train    0.106735\n",
    "# rmse_v_test     0.115668\n",
    "# dtype: object"
   ]
  },
  {
   "cell_type": "code",
   "execution_count": null,
   "id": "5a28e85d",
   "metadata": {
    "scrolled": false
   },
   "outputs": [],
   "source": [
    "result[['r2_t_test','r2_t_train','r2_v_test']].max()\n",
    "\n",
    "# r2_t_test     0.864013\n",
    "# r2_t_train     0.83079\n",
    "# r2_v_test     0.817077\n",
    "# dtype: object"
   ]
  },
  {
   "cell_type": "markdown",
   "id": "92c994ab",
   "metadata": {},
   "source": [
    "### Fine tuning parameters"
   ]
  },
  {
   "cell_type": "raw",
   "id": "28b61304",
   "metadata": {},
   "source": [
    "TODO choose one month to do the fine tunning"
   ]
  },
  {
   "cell_type": "code",
   "execution_count": null,
   "id": "5795e4b7",
   "metadata": {},
   "outputs": [],
   "source": [
    "# define model \n",
    "forest_reg = DecisionTreeRegressor(criterion='friedman_mse', n_jobs=10, random_state=config.seed)\n",
    "\n",
    "param_grid = [\n",
    "    {\n",
    "        'max_depth':[9, 10, 11, 12, 13, 14],\n",
    "        'n_estimators':[80, 100, 120, 140]\n",
    "    }\n",
    "]\n",
    "\n",
    "grid_search = GridSearchCV(\n",
    "    forest_reg, param_grid, cv=5,\n",
    "    scoring='neg_root_mean_squared_error',\n",
    "    verbose=2,\n",
    "    return_train_score=True,\n",
    "    error_score='raise'\n",
    ")"
   ]
  },
  {
   "cell_type": "code",
   "execution_count": null,
   "id": "f9c723d5",
   "metadata": {},
   "outputs": [],
   "source": [
    "grid_search.fit(X_train_prepared[], y_train_prepared)"
   ]
  },
  {
   "cell_type": "code",
   "execution_count": null,
   "id": "fb015dc6",
   "metadata": {},
   "outputs": [],
   "source": [
    "\n",
    "print(\"the best parameters are:\")\n",
    "print(grid_search.best_params_)\n"
   ]
  },
  {
   "cell_type": "code",
   "execution_count": null,
   "id": "dbe73f25",
   "metadata": {},
   "outputs": [],
   "source": [
    "print(\"the best trained model:\")\n",
    "grid_search.best_estimator_"
   ]
  },
  {
   "cell_type": "code",
   "execution_count": null,
   "id": "ec09803c",
   "metadata": {},
   "outputs": [],
   "source": [
    "print(\"Best Score\")\n",
    "-grid_search.best_score_"
   ]
  },
  {
   "cell_type": "code",
   "execution_count": null,
   "id": "b8f1408b",
   "metadata": {},
   "outputs": [],
   "source": [
    "cvres = grid_search.cv_results_\n",
    "for mean_score, params in zip(cvres[\"mean_test_score\"], cvres[\"params\"]):\n",
    "    print(-mean_score, params)"
   ]
  },
  {
   "cell_type": "code",
   "execution_count": null,
   "id": "cbb56c57",
   "metadata": {},
   "outputs": [],
   "source": [
    "results = grid_search.cv_results_"
   ]
  },
  {
   "cell_type": "code",
   "execution_count": null,
   "id": "93575d2a",
   "metadata": {},
   "outputs": [],
   "source": [
    "results"
   ]
  },
  {
   "cell_type": "code",
   "execution_count": null,
   "id": "7a9bbef7",
   "metadata": {},
   "outputs": [],
   "source": [
    "print_grid_result(results, 'param_max_depth')"
   ]
  },
  {
   "cell_type": "markdown",
   "id": "18557956",
   "metadata": {},
   "source": [
    "## Gradiend Boosting"
   ]
  },
  {
   "cell_type": "code",
   "execution_count": null,
   "id": "ad725228",
   "metadata": {},
   "outputs": [],
   "source": [
    "from sklearn.ensemble import GradientBoostingRegressor"
   ]
  },
  {
   "cell_type": "code",
   "execution_count": null,
   "id": "5abab55c",
   "metadata": {},
   "outputs": [],
   "source": [
    "%%time \n",
    "\n",
    "boosting = GradientBoostingRegressor(\n",
    "    n_estimators=100,\n",
    "    max_depth=11, \n",
    "    loss='squared_error',\n",
    "    criterion='friedman_mse',\n",
    "    random_state=config.seed,\n",
    "    verbose=2,\n",
    "    warm_start=True\n",
    ")\n"
   ]
  },
  {
   "cell_type": "markdown",
   "id": "387e7109",
   "metadata": {},
   "source": [
    "### Train and test, validate model"
   ]
  },
  {
   "cell_type": "code",
   "execution_count": null,
   "id": "f70e7a23",
   "metadata": {
    "scrolled": true
   },
   "outputs": [],
   "source": [
    "%%time \n",
    "\n",
    "test_model_train_val_test(\n",
    "    boosting, \n",
    "    (X_train_prepared, y_train_prepared),\n",
    "    (X_val_prepared, y_val_prepared),\n",
    "    (X_test_prepared,  y_test_prepared),\n",
    "    show=True\n",
    ")"
   ]
  },
  {
   "cell_type": "markdown",
   "id": "4eb13cfa",
   "metadata": {},
   "source": [
    "### Testing each month"
   ]
  },
  {
   "cell_type": "code",
   "execution_count": null,
   "id": "c0cfbe94",
   "metadata": {
    "scrolled": true
   },
   "outputs": [],
   "source": [
    "%%time \n",
    "\n",
    "result = do_test_per_month(\n",
    "    GradientBoostingRegressor, \n",
    "    dict(\n",
    "        n_estimators=100,\n",
    "        max_depth=11, \n",
    "        loss='squared_error',\n",
    "        criterion='friedman_mse',\n",
    "        random_state=config.seed,\n",
    "        verbose=0\n",
    "    ),\n",
    "    (X_train, y_train),\n",
    "    (X_val, y_val),\n",
    "    (X_test,  y_test),\n",
    "    [2021,2022],\n",
    "    months\n",
    ")\n",
    "\n",
    "# CPU times: user 38min 55s, sys: 196 ms, total: 38min 55s\n",
    "# Wall time: 38min 54s"
   ]
  },
  {
   "cell_type": "code",
   "execution_count": null,
   "id": "1506f662",
   "metadata": {},
   "outputs": [],
   "source": [
    "result[['rmse_t_test','rmse_t_train','rmse_v_test']].plot()\n",
    "\n",
    "aux=result[result.rmse_t_test == result.rmse_t_test.min()]\n",
    "plt.scatter(aux.order_.to_list(), aux['rmse_t_test'].to_list())\n",
    "\n",
    "aux=result[result.rmse_t_train == result.rmse_t_train.min()]\n",
    "plt.scatter(aux.order_.to_list(), aux['rmse_t_train'].to_list())\n",
    "\n",
    "aux=result[result.rmse_v_test == result.rmse_v_test.min()]\n",
    "plt.scatter(aux.order_.to_list(), aux['rmse_v_test'].to_list())"
   ]
  },
  {
   "cell_type": "code",
   "execution_count": null,
   "id": "97ddb545",
   "metadata": {},
   "outputs": [],
   "source": [
    "result[['rmse_t_test','rmse_t_train','rmse_v_test']].min()"
   ]
  },
  {
   "cell_type": "code",
   "execution_count": null,
   "id": "d74d2bef",
   "metadata": {},
   "outputs": [],
   "source": [
    "result[['r2_t_test','r2_t_train','r2_v_test']].max()"
   ]
  },
  {
   "cell_type": "markdown",
   "id": "8503ecdf",
   "metadata": {},
   "source": [
    "### Testing combination of three consecutive months"
   ]
  },
  {
   "cell_type": "code",
   "execution_count": null,
   "id": "5d354b10",
   "metadata": {
    "scrolled": true
   },
   "outputs": [],
   "source": [
    "%%time \n",
    "\n",
    "result = do_test_per_month_combos(\n",
    "    GradientBoostingRegressor, \n",
    "    dict(\n",
    "        n_estimators=100,\n",
    "        max_depth=11, \n",
    "        loss='squared_error',\n",
    "        criterion='friedman_mse',\n",
    "        random_state=config.seed,\n",
    "        verbose=2\n",
    "    ),\n",
    "    (X_train, y_train),\n",
    "    (X_val, y_val),\n",
    "    (X_test,  y_test),\n",
    "    [2021,2022],\n",
    "    [[11,12,1], [12,1,2],[1,2,3], [2,3,4], [3,4,5], [2,3], [3,4]]\n",
    ")"
   ]
  },
  {
   "cell_type": "code",
   "execution_count": null,
   "id": "df9d8f50",
   "metadata": {},
   "outputs": [],
   "source": [
    "result[['rmse_t_test','rmse_t_train','rmse_v_test']].plot()\n",
    "\n",
    "aux=result[result.rmse_t_test == result.rmse_t_test.min()]\n",
    "plt.scatter(aux.order_.to_list(), aux['rmse_t_test'].to_list())\n",
    "\n",
    "aux=result[result.rmse_t_train == result.rmse_t_train.min()]\n",
    "plt.scatter(aux.order_.to_list(), aux['rmse_t_train'].to_list())\n",
    "\n",
    "aux=result[result.rmse_v_test == result.rmse_v_test.min()]\n",
    "plt.scatter(aux.order_.to_list(), aux['rmse_v_test'].to_list())"
   ]
  },
  {
   "cell_type": "code",
   "execution_count": null,
   "id": "79ca911e",
   "metadata": {},
   "outputs": [],
   "source": [
    "result[['rmse_t_test','rmse_t_train','rmse_v_test']].min()"
   ]
  },
  {
   "cell_type": "code",
   "execution_count": null,
   "id": "0984ce83",
   "metadata": {
    "scrolled": false
   },
   "outputs": [],
   "source": [
    "result[['r2_t_test','r2_t_train','r2_v_test']].max()"
   ]
  },
  {
   "cell_type": "markdown",
   "id": "c2d3d318",
   "metadata": {},
   "source": [
    "### Fine tuning parameters"
   ]
  },
  {
   "cell_type": "raw",
   "id": "00368f82",
   "metadata": {},
   "source": [
    "TODO choose one month to do the fine tunning"
   ]
  },
  {
   "cell_type": "code",
   "execution_count": null,
   "id": "d34a4fa0",
   "metadata": {},
   "outputs": [],
   "source": [
    "# define model \n",
    "boosting = GradientBoostingRegressor(loss='squared_error', criterion='friedman_mse', random_state=config.seed)\n",
    "\n",
    "param_grid = [\n",
    "    {\n",
    "        'max_depth':[9, 10, 11, 12, 13, 14],\n",
    "        'n_estimators':[80, 100, 120, 140]\n",
    "    }\n",
    "]\n",
    "\n",
    "grid_search = GridSearchCV(\n",
    "    forest_reg, param_grid, cv=5,\n",
    "    scoring='neg_root_mean_squared_error',\n",
    "    verbose=2,\n",
    "    return_train_score=True,\n",
    "    error_score='raise'\n",
    ")"
   ]
  },
  {
   "cell_type": "code",
   "execution_count": null,
   "id": "43b555df",
   "metadata": {},
   "outputs": [],
   "source": [
    "grid_search.fit(X_train_prepared[], y_train_prepared)"
   ]
  },
  {
   "cell_type": "code",
   "execution_count": null,
   "id": "a1ee7aad",
   "metadata": {},
   "outputs": [],
   "source": [
    "\n",
    "print(\"the best parameters are:\")\n",
    "print(grid_search.best_params_)\n"
   ]
  },
  {
   "cell_type": "code",
   "execution_count": null,
   "id": "0f4899f0",
   "metadata": {},
   "outputs": [],
   "source": [
    "print(\"the best trained model:\")\n",
    "grid_search.best_estimator_"
   ]
  },
  {
   "cell_type": "code",
   "execution_count": null,
   "id": "9ec2f282",
   "metadata": {},
   "outputs": [],
   "source": [
    "print(\"Best Score\")\n",
    "-grid_search.best_score_"
   ]
  },
  {
   "cell_type": "code",
   "execution_count": null,
   "id": "8fb632c5",
   "metadata": {},
   "outputs": [],
   "source": [
    "cvres = grid_search.cv_results_\n",
    "for mean_score, params in zip(cvres[\"mean_test_score\"], cvres[\"params\"]):\n",
    "    print(-mean_score, params)"
   ]
  },
  {
   "cell_type": "code",
   "execution_count": null,
   "id": "848b0986",
   "metadata": {},
   "outputs": [],
   "source": [
    "results = grid_search.cv_results_"
   ]
  },
  {
   "cell_type": "code",
   "execution_count": null,
   "id": "9686012d",
   "metadata": {},
   "outputs": [],
   "source": [
    "results"
   ]
  },
  {
   "cell_type": "code",
   "execution_count": null,
   "id": "9dcc71fe",
   "metadata": {},
   "outputs": [],
   "source": [
    "print_grid_result(results, 'param_max_depth')"
   ]
  },
  {
   "cell_type": "markdown",
   "id": "f2e2fc55",
   "metadata": {},
   "source": [
    "## HistGradientBoostingRegressor"
   ]
  },
  {
   "cell_type": "raw",
   "id": "68da8222",
   "metadata": {},
   "source": [
    "from sklearn.ensemble import HistGradientBoostingRegressor"
   ]
  },
  {
   "cell_type": "raw",
   "id": "b699b7b9",
   "metadata": {},
   "source": [
    "%%time \n",
    "\n",
    "hist_boosting = HistGradientBoostingRegressor(\n",
    "    max_iter=100,\n",
    "    loss='squared_error',\n",
    "    random_state=config.seed,\n",
    "    verbose=2,\n",
    "    validation_fraction=0.2,\n",
    "    n_iter_no_change=10,\n",
    "    warm_start=True,\n",
    "    l2_regularization=0.001\n",
    ")\n"
   ]
  },
  {
   "cell_type": "raw",
   "id": "fc153431",
   "metadata": {},
   "source": [
    "# Failiing due to memory"
   ]
  },
  {
   "cell_type": "raw",
   "id": "d317a974",
   "metadata": {
    "scrolled": true
   },
   "source": [
    "%%time \n",
    "\n",
    "test_model_train_val_test(\n",
    "    hist_boosting, \n",
    "    (X_train_prepared.toarray(), y_train_prepared),\n",
    "    (X_val_prepared.toarray(), y_val_prepared),\n",
    "    (X_test_prepared.toarray(),  y_test_prepared),\n",
    "    show=True\n",
    ")"
   ]
  },
  {
   "cell_type": "raw",
   "id": "ec089fd4",
   "metadata": {},
   "source": [
    "GridSearchCV"
   ]
  },
  {
   "cell_type": "code",
   "execution_count": null,
   "id": "5e5e9f36",
   "metadata": {},
   "outputs": [],
   "source": []
  },
  {
   "cell_type": "markdown",
   "id": "de7c283b",
   "metadata": {},
   "source": [
    "# Generate Sample"
   ]
  },
  {
   "cell_type": "code",
   "execution_count": null,
   "id": "597e669c",
   "metadata": {},
   "outputs": [],
   "source": [
    "sample_data = pd.read_csv('dades/processed/kaggle_sample_data.csv')"
   ]
  },
  {
   "cell_type": "code",
   "execution_count": null,
   "id": "7f468dce",
   "metadata": {},
   "outputs": [],
   "source": [
    "sample_data"
   ]
  },
  {
   "cell_type": "markdown",
   "id": "2ca651fe",
   "metadata": {},
   "source": [
    "## apply pipeline"
   ]
  },
  {
   "cell_type": "code",
   "execution_count": null,
   "id": "c50c7c2b",
   "metadata": {},
   "outputs": [],
   "source": [
    "X_sample_prepared = full_pipeline.transform(sample_data)\n",
    "\n",
    "print(\"x_train_prepared:\",X_train_prepared.shape,\"y_train: \",y_train_prepared.shape)\n",
    "print(\"x_test_prepared:\",X_val_prepared.shape,\"y_test: \",y_val_prepared.shape)\n",
    "print(\"x_test_prepared:\",X_test_prepared.shape,\"y_test: \",y_test_prepared.shape)\n",
    "print(\"x_test_prepared:\",X_sample_prepared.shape)"
   ]
  },
  {
   "cell_type": "markdown",
   "id": "677e4e64",
   "metadata": {},
   "source": [
    "## Prediction "
   ]
  },
  {
   "cell_type": "code",
   "execution_count": null,
   "id": "a992a642",
   "metadata": {},
   "outputs": [],
   "source": [
    "%%time \n",
    "\n",
    "model = forest"
   ]
  },
  {
   "cell_type": "code",
   "execution_count": null,
   "id": "9e995553",
   "metadata": {},
   "outputs": [],
   "source": [
    "name = f'{model.__class__}'.split('.')[-1]\n",
    "name = name.translate( { ord(i): None for i in \"'<>\"})\n",
    "number = 1"
   ]
  },
  {
   "cell_type": "code",
   "execution_count": null,
   "id": "2c9f1648",
   "metadata": {},
   "outputs": [],
   "source": [
    "name"
   ]
  },
  {
   "cell_type": "raw",
   "id": "18f252f2",
   "metadata": {
    "scrolled": false
   },
   "source": [
    "test_model_train_val_test(\n",
    "    model, \n",
    "    (X_train_prepared, y_train_prepared),\n",
    "    (X_val_prepared, y_val_prepared),\n",
    "    (X_test_prepared,  y_test_prepared),\n",
    "    show=True\n",
    ")"
   ]
  },
  {
   "cell_type": "code",
   "execution_count": null,
   "id": "35546150",
   "metadata": {},
   "outputs": [],
   "source": [
    "yhat = model.predict(X_sample_prepared)"
   ]
  },
  {
   "cell_type": "code",
   "execution_count": null,
   "id": "524e4aa3",
   "metadata": {},
   "outputs": [],
   "source": [
    "yhat.shape"
   ]
  },
  {
   "cell_type": "code",
   "execution_count": null,
   "id": "cbe4e5ca",
   "metadata": {},
   "outputs": [],
   "source": [
    "sample_data['percentage_docks_available'] = yhat"
   ]
  },
  {
   "cell_type": "code",
   "execution_count": null,
   "id": "22424a27",
   "metadata": {},
   "outputs": [],
   "source": [
    "sample_data['percentage_docks_available'].to_csv(f'{name}{number}.csv', header=True, index_label='index')"
   ]
  },
  {
   "cell_type": "code",
   "execution_count": null,
   "id": "f3628c76",
   "metadata": {},
   "outputs": [],
   "source": [
    "\n",
    "aux = X_test[X_test.month.isin([3]) & X_test.station_id.isin(sample_data.station_id.unique())][['station_id', 'year', 'month','day','hour', 'ctx0', 'ctx1', 'ctx2', 'ctx3', 'ctx4']]\n"
   ]
  },
  {
   "cell_type": "code",
   "execution_count": null,
   "id": "13b8de1c",
   "metadata": {},
   "outputs": [],
   "source": [
    "sample_data = sample_data.merge(aux,\n",
    "                                on=['station_id','month','day','hour'],\n",
    "                                how='left')"
   ]
  },
  {
   "cell_type": "code",
   "execution_count": null,
   "id": "b26c4bfc",
   "metadata": {},
   "outputs": [],
   "source": [
    "sample_data"
   ]
  },
  {
   "cell_type": "code",
   "execution_count": null,
   "id": "2a3b51da",
   "metadata": {},
   "outputs": [],
   "source": [
    "\n",
    "sample_data[['station_id', 'month', 'day', 'hour', 'percentage_docks_available', 'ctx0', 'ctx1_x', 'ctx1_y', 'ctx4_x', 'ctx4_y', 'ctx3_x', 'ctx3_y', 'ctx2_x', 'ctx2_y']]\n",
    "\n"
   ]
  },
  {
   "cell_type": "code",
   "execution_count": null,
   "id": "be37fb5e",
   "metadata": {},
   "outputs": [],
   "source": [
    "np.abs(sample_data['percentage_docks_available'] - sample_data['ctx0']).plot()"
   ]
  },
  {
   "cell_type": "code",
   "execution_count": null,
   "id": "e0fefb1d",
   "metadata": {},
   "outputs": [],
   "source": []
  },
  {
   "cell_type": "code",
   "execution_count": null,
   "id": "fa8e6e99",
   "metadata": {},
   "outputs": [],
   "source": []
  }
 ],
 "metadata": {
  "kernelspec": {
   "display_name": "Python 3 (ipykernel)",
   "language": "python",
   "name": "python3"
  },
  "language_info": {
   "codemirror_mode": {
    "name": "ipython",
    "version": 3
   },
   "file_extension": ".py",
   "mimetype": "text/x-python",
   "name": "python",
   "nbconvert_exporter": "python",
   "pygments_lexer": "ipython3",
   "version": "3.8.16"
  }
 },
 "nbformat": 4,
 "nbformat_minor": 5
}
