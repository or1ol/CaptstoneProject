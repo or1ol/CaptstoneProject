{
 "cells": [
  {
   "cell_type": "markdown",
   "id": "da37d8d8",
   "metadata": {},
   "source": [
    "# Import"
   ]
  },
  {
   "cell_type": "code",
   "execution_count": 1,
   "id": "886f34aa",
   "metadata": {},
   "outputs": [
    {
     "data": {
      "text/html": [
       "<style>.container { width:80% !important; }</style>"
      ],
      "text/plain": [
       "<IPython.core.display.HTML object>"
      ]
     },
     "metadata": {},
     "output_type": "display_data"
    }
   ],
   "source": [
    "from IPython.display import display, HTML\n",
    "display(HTML(\"<style>.container { width:80% !important; }</style>\"))\n",
    "\n",
    "import os\n",
    "import time\n",
    "# Python ≥3.5 is required\n",
    "import sys\n",
    "assert sys.version_info >= (3, 5)\n",
    "\n",
    "# Scikit-Learn ≥0.20 is required\n",
    "import sklearn\n",
    "assert sklearn.__version__ >= \"0.20\"\n",
    "\n",
    "from sklearn.ensemble import RandomForestRegressor\n",
    "from sklearn.ensemble import GradientBoostingRegressor\n",
    "from sklearn.model_selection import cross_val_score\n",
    "from sklearn.metrics import mean_squared_error, r2_score\n",
    "from sklearn.metrics import mean_absolute_error\n",
    "\n",
    "import pandas as pd\n",
    "import numpy as np\n",
    "pd.set_option('display.max_columns', None)\n",
    "\n",
    "# To plot pretty figures\n",
    "%matplotlib inline\n",
    "import matplotlib as mpl\n",
    "import matplotlib.pyplot as plt\n",
    "\n",
    "import scipy.stats as stats\n",
    "\n",
    "import seaborn as sns\n",
    "\n",
    "from datetime import datetime\n",
    "\n",
    "import re\n",
    "import random\n",
    "\n",
    "from tqdm.notebook import tqdm\n",
    "\n",
    "import dask.dataframe as dd\n",
    "from dask.distributed import LocalCluster, Client\n",
    "\n",
    "sys.path.insert(0, 'tools/')\n",
    "\n",
    "from tools import * "
   ]
  },
  {
   "cell_type": "markdown",
   "id": "cbdfb034",
   "metadata": {},
   "source": [
    "# Run DASK dist client "
   ]
  },
  {
   "cell_type": "code",
   "execution_count": 2,
   "id": "1e6f86d8",
   "metadata": {},
   "outputs": [],
   "source": [
    "\n",
    "cluster = LocalCluster()\n",
    "client = Client(cluster)\n"
   ]
  },
  {
   "cell_type": "code",
   "execution_count": 3,
   "id": "3cd88af8",
   "metadata": {
    "scrolled": true
   },
   "outputs": [
    {
     "data": {
      "application/vnd.jupyter.widget-view+json": {
       "model_id": "ebabb933ee4e4f17947b9ec98647c177",
       "version_major": 2,
       "version_minor": 0
      },
      "text/html": [
       "<div class=\"jp-RenderedHTMLCommon jp-RenderedHTML jp-mod-trusted jp-OutputArea-output\">\n",
       "    <div style=\"width: 24px; height: 24px; background-color: #e1e1e1; border: 3px solid #9D9D9D; border-radius: 5px; position: absolute;\">\n",
       "    </div>\n",
       "    <div style=\"margin-left: 48px;\">\n",
       "        <h3 style=\"margin-bottom: 0px; margin-top: 0px;\">LocalCluster</h3>\n",
       "        <p style=\"color: #9D9D9D; margin-bottom: 0px;\">b76d69d8</p>\n",
       "        <table style=\"width: 100%; text-align: left;\">\n",
       "            <tr>\n",
       "                <td style=\"text-align: left;\">\n",
       "                    <strong>Dashboard:</strong> <a href=\"http://127.0.0.1:8787/status\" target=\"_blank\">http://127.0.0.1:8787/status</a>\n",
       "                </td>\n",
       "                <td style=\"text-align: left;\">\n",
       "                    <strong>Workers:</strong> 5\n",
       "                </td>\n",
       "            </tr>\n",
       "            <tr>\n",
       "                <td style=\"text-align: left;\">\n",
       "                    <strong>Total threads:</strong> 20\n",
       "                </td>\n",
       "                <td style=\"text-align: left;\">\n",
       "                    <strong>Total memory:</strong> 31.04 GiB\n",
       "                </td>\n",
       "            </tr>\n",
       "            \n",
       "            <tr>\n",
       "    <td style=\"text-align: left;\"><strong>Status:</strong> running</td>\n",
       "    <td style=\"text-align: left;\"><strong>Using processes:</strong> True</td>\n",
       "</tr>\n",
       "\n",
       "            \n",
       "        </table>\n",
       "\n",
       "        <details>\n",
       "            <summary style=\"margin-bottom: 20px;\">\n",
       "                <h3 style=\"display: inline;\">Scheduler Info</h3>\n",
       "            </summary>\n",
       "\n",
       "            <div style=\"\">\n",
       "    <div>\n",
       "        <div style=\"width: 24px; height: 24px; background-color: #FFF7E5; border: 3px solid #FF6132; border-radius: 5px; position: absolute;\"> </div>\n",
       "        <div style=\"margin-left: 48px;\">\n",
       "            <h3 style=\"margin-bottom: 0px;\">Scheduler</h3>\n",
       "            <p style=\"color: #9D9D9D; margin-bottom: 0px;\">Scheduler-e60708d3-10ad-490d-8817-397fc2e77aa0</p>\n",
       "            <table style=\"width: 100%; text-align: left;\">\n",
       "                <tr>\n",
       "                    <td style=\"text-align: left;\">\n",
       "                        <strong>Comm:</strong> tcp://127.0.0.1:45773\n",
       "                    </td>\n",
       "                    <td style=\"text-align: left;\">\n",
       "                        <strong>Workers:</strong> 5\n",
       "                    </td>\n",
       "                </tr>\n",
       "                <tr>\n",
       "                    <td style=\"text-align: left;\">\n",
       "                        <strong>Dashboard:</strong> <a href=\"http://127.0.0.1:8787/status\" target=\"_blank\">http://127.0.0.1:8787/status</a>\n",
       "                    </td>\n",
       "                    <td style=\"text-align: left;\">\n",
       "                        <strong>Total threads:</strong> 20\n",
       "                    </td>\n",
       "                </tr>\n",
       "                <tr>\n",
       "                    <td style=\"text-align: left;\">\n",
       "                        <strong>Started:</strong> Just now\n",
       "                    </td>\n",
       "                    <td style=\"text-align: left;\">\n",
       "                        <strong>Total memory:</strong> 31.04 GiB\n",
       "                    </td>\n",
       "                </tr>\n",
       "            </table>\n",
       "        </div>\n",
       "    </div>\n",
       "\n",
       "    <details style=\"margin-left: 48px;\">\n",
       "        <summary style=\"margin-bottom: 20px;\">\n",
       "            <h3 style=\"display: inline;\">Workers</h3>\n",
       "        </summary>\n",
       "\n",
       "        \n",
       "        <div style=\"margin-bottom: 20px;\">\n",
       "            <div style=\"width: 24px; height: 24px; background-color: #DBF5FF; border: 3px solid #4CC9FF; border-radius: 5px; position: absolute;\"> </div>\n",
       "            <div style=\"margin-left: 48px;\">\n",
       "            <details>\n",
       "                <summary>\n",
       "                    <h4 style=\"margin-bottom: 0px; display: inline;\">Worker: 0</h4>\n",
       "                </summary>\n",
       "                <table style=\"width: 100%; text-align: left;\">\n",
       "                    <tr>\n",
       "                        <td style=\"text-align: left;\">\n",
       "                            <strong>Comm: </strong> tcp://127.0.0.1:34529\n",
       "                        </td>\n",
       "                        <td style=\"text-align: left;\">\n",
       "                            <strong>Total threads: </strong> 4\n",
       "                        </td>\n",
       "                    </tr>\n",
       "                    <tr>\n",
       "                        <td style=\"text-align: left;\">\n",
       "                            <strong>Dashboard: </strong> <a href=\"http://127.0.0.1:43703/status\" target=\"_blank\">http://127.0.0.1:43703/status</a>\n",
       "                        </td>\n",
       "                        <td style=\"text-align: left;\">\n",
       "                            <strong>Memory: </strong> 6.21 GiB\n",
       "                        </td>\n",
       "                    </tr>\n",
       "                    <tr>\n",
       "                        <td style=\"text-align: left;\">\n",
       "                            <strong>Nanny: </strong> tcp://127.0.0.1:45709\n",
       "                        </td>\n",
       "                        <td style=\"text-align: left;\"></td>\n",
       "                    </tr>\n",
       "                    <tr>\n",
       "                        <td colspan=\"2\" style=\"text-align: left;\">\n",
       "                            <strong>Local directory: </strong> /tmp/dask-scratch-space/worker-i059jetn\n",
       "                        </td>\n",
       "                    </tr>\n",
       "\n",
       "                    \n",
       "\n",
       "                    \n",
       "\n",
       "                </table>\n",
       "            </details>\n",
       "            </div>\n",
       "        </div>\n",
       "        \n",
       "        <div style=\"margin-bottom: 20px;\">\n",
       "            <div style=\"width: 24px; height: 24px; background-color: #DBF5FF; border: 3px solid #4CC9FF; border-radius: 5px; position: absolute;\"> </div>\n",
       "            <div style=\"margin-left: 48px;\">\n",
       "            <details>\n",
       "                <summary>\n",
       "                    <h4 style=\"margin-bottom: 0px; display: inline;\">Worker: 1</h4>\n",
       "                </summary>\n",
       "                <table style=\"width: 100%; text-align: left;\">\n",
       "                    <tr>\n",
       "                        <td style=\"text-align: left;\">\n",
       "                            <strong>Comm: </strong> tcp://127.0.0.1:45319\n",
       "                        </td>\n",
       "                        <td style=\"text-align: left;\">\n",
       "                            <strong>Total threads: </strong> 4\n",
       "                        </td>\n",
       "                    </tr>\n",
       "                    <tr>\n",
       "                        <td style=\"text-align: left;\">\n",
       "                            <strong>Dashboard: </strong> <a href=\"http://127.0.0.1:38597/status\" target=\"_blank\">http://127.0.0.1:38597/status</a>\n",
       "                        </td>\n",
       "                        <td style=\"text-align: left;\">\n",
       "                            <strong>Memory: </strong> 6.21 GiB\n",
       "                        </td>\n",
       "                    </tr>\n",
       "                    <tr>\n",
       "                        <td style=\"text-align: left;\">\n",
       "                            <strong>Nanny: </strong> tcp://127.0.0.1:43449\n",
       "                        </td>\n",
       "                        <td style=\"text-align: left;\"></td>\n",
       "                    </tr>\n",
       "                    <tr>\n",
       "                        <td colspan=\"2\" style=\"text-align: left;\">\n",
       "                            <strong>Local directory: </strong> /tmp/dask-scratch-space/worker-wlsqrhes\n",
       "                        </td>\n",
       "                    </tr>\n",
       "\n",
       "                    \n",
       "\n",
       "                    \n",
       "\n",
       "                </table>\n",
       "            </details>\n",
       "            </div>\n",
       "        </div>\n",
       "        \n",
       "        <div style=\"margin-bottom: 20px;\">\n",
       "            <div style=\"width: 24px; height: 24px; background-color: #DBF5FF; border: 3px solid #4CC9FF; border-radius: 5px; position: absolute;\"> </div>\n",
       "            <div style=\"margin-left: 48px;\">\n",
       "            <details>\n",
       "                <summary>\n",
       "                    <h4 style=\"margin-bottom: 0px; display: inline;\">Worker: 2</h4>\n",
       "                </summary>\n",
       "                <table style=\"width: 100%; text-align: left;\">\n",
       "                    <tr>\n",
       "                        <td style=\"text-align: left;\">\n",
       "                            <strong>Comm: </strong> tcp://127.0.0.1:38431\n",
       "                        </td>\n",
       "                        <td style=\"text-align: left;\">\n",
       "                            <strong>Total threads: </strong> 4\n",
       "                        </td>\n",
       "                    </tr>\n",
       "                    <tr>\n",
       "                        <td style=\"text-align: left;\">\n",
       "                            <strong>Dashboard: </strong> <a href=\"http://127.0.0.1:42061/status\" target=\"_blank\">http://127.0.0.1:42061/status</a>\n",
       "                        </td>\n",
       "                        <td style=\"text-align: left;\">\n",
       "                            <strong>Memory: </strong> 6.21 GiB\n",
       "                        </td>\n",
       "                    </tr>\n",
       "                    <tr>\n",
       "                        <td style=\"text-align: left;\">\n",
       "                            <strong>Nanny: </strong> tcp://127.0.0.1:40899\n",
       "                        </td>\n",
       "                        <td style=\"text-align: left;\"></td>\n",
       "                    </tr>\n",
       "                    <tr>\n",
       "                        <td colspan=\"2\" style=\"text-align: left;\">\n",
       "                            <strong>Local directory: </strong> /tmp/dask-scratch-space/worker-_bqdoxmm\n",
       "                        </td>\n",
       "                    </tr>\n",
       "\n",
       "                    \n",
       "\n",
       "                    \n",
       "\n",
       "                </table>\n",
       "            </details>\n",
       "            </div>\n",
       "        </div>\n",
       "        \n",
       "        <div style=\"margin-bottom: 20px;\">\n",
       "            <div style=\"width: 24px; height: 24px; background-color: #DBF5FF; border: 3px solid #4CC9FF; border-radius: 5px; position: absolute;\"> </div>\n",
       "            <div style=\"margin-left: 48px;\">\n",
       "            <details>\n",
       "                <summary>\n",
       "                    <h4 style=\"margin-bottom: 0px; display: inline;\">Worker: 3</h4>\n",
       "                </summary>\n",
       "                <table style=\"width: 100%; text-align: left;\">\n",
       "                    <tr>\n",
       "                        <td style=\"text-align: left;\">\n",
       "                            <strong>Comm: </strong> tcp://127.0.0.1:33411\n",
       "                        </td>\n",
       "                        <td style=\"text-align: left;\">\n",
       "                            <strong>Total threads: </strong> 4\n",
       "                        </td>\n",
       "                    </tr>\n",
       "                    <tr>\n",
       "                        <td style=\"text-align: left;\">\n",
       "                            <strong>Dashboard: </strong> <a href=\"http://127.0.0.1:39651/status\" target=\"_blank\">http://127.0.0.1:39651/status</a>\n",
       "                        </td>\n",
       "                        <td style=\"text-align: left;\">\n",
       "                            <strong>Memory: </strong> 6.21 GiB\n",
       "                        </td>\n",
       "                    </tr>\n",
       "                    <tr>\n",
       "                        <td style=\"text-align: left;\">\n",
       "                            <strong>Nanny: </strong> tcp://127.0.0.1:35595\n",
       "                        </td>\n",
       "                        <td style=\"text-align: left;\"></td>\n",
       "                    </tr>\n",
       "                    <tr>\n",
       "                        <td colspan=\"2\" style=\"text-align: left;\">\n",
       "                            <strong>Local directory: </strong> /tmp/dask-scratch-space/worker-htbah07_\n",
       "                        </td>\n",
       "                    </tr>\n",
       "\n",
       "                    \n",
       "\n",
       "                    \n",
       "\n",
       "                </table>\n",
       "            </details>\n",
       "            </div>\n",
       "        </div>\n",
       "        \n",
       "        <div style=\"margin-bottom: 20px;\">\n",
       "            <div style=\"width: 24px; height: 24px; background-color: #DBF5FF; border: 3px solid #4CC9FF; border-radius: 5px; position: absolute;\"> </div>\n",
       "            <div style=\"margin-left: 48px;\">\n",
       "            <details>\n",
       "                <summary>\n",
       "                    <h4 style=\"margin-bottom: 0px; display: inline;\">Worker: 4</h4>\n",
       "                </summary>\n",
       "                <table style=\"width: 100%; text-align: left;\">\n",
       "                    <tr>\n",
       "                        <td style=\"text-align: left;\">\n",
       "                            <strong>Comm: </strong> tcp://127.0.0.1:44251\n",
       "                        </td>\n",
       "                        <td style=\"text-align: left;\">\n",
       "                            <strong>Total threads: </strong> 4\n",
       "                        </td>\n",
       "                    </tr>\n",
       "                    <tr>\n",
       "                        <td style=\"text-align: left;\">\n",
       "                            <strong>Dashboard: </strong> <a href=\"http://127.0.0.1:35265/status\" target=\"_blank\">http://127.0.0.1:35265/status</a>\n",
       "                        </td>\n",
       "                        <td style=\"text-align: left;\">\n",
       "                            <strong>Memory: </strong> 6.21 GiB\n",
       "                        </td>\n",
       "                    </tr>\n",
       "                    <tr>\n",
       "                        <td style=\"text-align: left;\">\n",
       "                            <strong>Nanny: </strong> tcp://127.0.0.1:39131\n",
       "                        </td>\n",
       "                        <td style=\"text-align: left;\"></td>\n",
       "                    </tr>\n",
       "                    <tr>\n",
       "                        <td colspan=\"2\" style=\"text-align: left;\">\n",
       "                            <strong>Local directory: </strong> /tmp/dask-scratch-space/worker-66q1qbx4\n",
       "                        </td>\n",
       "                    </tr>\n",
       "\n",
       "                    \n",
       "\n",
       "                    \n",
       "\n",
       "                </table>\n",
       "            </details>\n",
       "            </div>\n",
       "        </div>\n",
       "        \n",
       "\n",
       "    </details>\n",
       "</div>\n",
       "\n",
       "        </details>\n",
       "    </div>\n",
       "</div>"
      ],
      "text/plain": [
       "LocalCluster(b76d69d8, 'tcp://127.0.0.1:45773', workers=5, threads=20, memory=31.04 GiB)"
      ]
     },
     "metadata": {},
     "output_type": "display_data"
    }
   ],
   "source": [
    "cluster"
   ]
  },
  {
   "cell_type": "code",
   "execution_count": 4,
   "id": "2d41f2a5",
   "metadata": {},
   "outputs": [
    {
     "data": {
      "text/html": [
       "<div>\n",
       "    <div style=\"width: 24px; height: 24px; background-color: #e1e1e1; border: 3px solid #9D9D9D; border-radius: 5px; position: absolute;\"> </div>\n",
       "    <div style=\"margin-left: 48px;\">\n",
       "        <h3 style=\"margin-bottom: 0px;\">Client</h3>\n",
       "        <p style=\"color: #9D9D9D; margin-bottom: 0px;\">Client-ef541a62-0801-11ee-bf4e-05f3d5df5377</p>\n",
       "        <table style=\"width: 100%; text-align: left;\">\n",
       "\n",
       "        <tr>\n",
       "        \n",
       "            <td style=\"text-align: left;\"><strong>Connection method:</strong> Cluster object</td>\n",
       "            <td style=\"text-align: left;\"><strong>Cluster type:</strong> distributed.LocalCluster</td>\n",
       "        \n",
       "        </tr>\n",
       "\n",
       "        \n",
       "            <tr>\n",
       "                <td style=\"text-align: left;\">\n",
       "                    <strong>Dashboard: </strong> <a href=\"http://127.0.0.1:8787/status\" target=\"_blank\">http://127.0.0.1:8787/status</a>\n",
       "                </td>\n",
       "                <td style=\"text-align: left;\"></td>\n",
       "            </tr>\n",
       "        \n",
       "\n",
       "        </table>\n",
       "\n",
       "        \n",
       "\n",
       "        \n",
       "            <details>\n",
       "            <summary style=\"margin-bottom: 20px;\"><h3 style=\"display: inline;\">Cluster Info</h3></summary>\n",
       "            <div class=\"jp-RenderedHTMLCommon jp-RenderedHTML jp-mod-trusted jp-OutputArea-output\">\n",
       "    <div style=\"width: 24px; height: 24px; background-color: #e1e1e1; border: 3px solid #9D9D9D; border-radius: 5px; position: absolute;\">\n",
       "    </div>\n",
       "    <div style=\"margin-left: 48px;\">\n",
       "        <h3 style=\"margin-bottom: 0px; margin-top: 0px;\">LocalCluster</h3>\n",
       "        <p style=\"color: #9D9D9D; margin-bottom: 0px;\">b76d69d8</p>\n",
       "        <table style=\"width: 100%; text-align: left;\">\n",
       "            <tr>\n",
       "                <td style=\"text-align: left;\">\n",
       "                    <strong>Dashboard:</strong> <a href=\"http://127.0.0.1:8787/status\" target=\"_blank\">http://127.0.0.1:8787/status</a>\n",
       "                </td>\n",
       "                <td style=\"text-align: left;\">\n",
       "                    <strong>Workers:</strong> 5\n",
       "                </td>\n",
       "            </tr>\n",
       "            <tr>\n",
       "                <td style=\"text-align: left;\">\n",
       "                    <strong>Total threads:</strong> 20\n",
       "                </td>\n",
       "                <td style=\"text-align: left;\">\n",
       "                    <strong>Total memory:</strong> 31.04 GiB\n",
       "                </td>\n",
       "            </tr>\n",
       "            \n",
       "            <tr>\n",
       "    <td style=\"text-align: left;\"><strong>Status:</strong> running</td>\n",
       "    <td style=\"text-align: left;\"><strong>Using processes:</strong> True</td>\n",
       "</tr>\n",
       "\n",
       "            \n",
       "        </table>\n",
       "\n",
       "        <details>\n",
       "            <summary style=\"margin-bottom: 20px;\">\n",
       "                <h3 style=\"display: inline;\">Scheduler Info</h3>\n",
       "            </summary>\n",
       "\n",
       "            <div style=\"\">\n",
       "    <div>\n",
       "        <div style=\"width: 24px; height: 24px; background-color: #FFF7E5; border: 3px solid #FF6132; border-radius: 5px; position: absolute;\"> </div>\n",
       "        <div style=\"margin-left: 48px;\">\n",
       "            <h3 style=\"margin-bottom: 0px;\">Scheduler</h3>\n",
       "            <p style=\"color: #9D9D9D; margin-bottom: 0px;\">Scheduler-e60708d3-10ad-490d-8817-397fc2e77aa0</p>\n",
       "            <table style=\"width: 100%; text-align: left;\">\n",
       "                <tr>\n",
       "                    <td style=\"text-align: left;\">\n",
       "                        <strong>Comm:</strong> tcp://127.0.0.1:45773\n",
       "                    </td>\n",
       "                    <td style=\"text-align: left;\">\n",
       "                        <strong>Workers:</strong> 5\n",
       "                    </td>\n",
       "                </tr>\n",
       "                <tr>\n",
       "                    <td style=\"text-align: left;\">\n",
       "                        <strong>Dashboard:</strong> <a href=\"http://127.0.0.1:8787/status\" target=\"_blank\">http://127.0.0.1:8787/status</a>\n",
       "                    </td>\n",
       "                    <td style=\"text-align: left;\">\n",
       "                        <strong>Total threads:</strong> 20\n",
       "                    </td>\n",
       "                </tr>\n",
       "                <tr>\n",
       "                    <td style=\"text-align: left;\">\n",
       "                        <strong>Started:</strong> Just now\n",
       "                    </td>\n",
       "                    <td style=\"text-align: left;\">\n",
       "                        <strong>Total memory:</strong> 31.04 GiB\n",
       "                    </td>\n",
       "                </tr>\n",
       "            </table>\n",
       "        </div>\n",
       "    </div>\n",
       "\n",
       "    <details style=\"margin-left: 48px;\">\n",
       "        <summary style=\"margin-bottom: 20px;\">\n",
       "            <h3 style=\"display: inline;\">Workers</h3>\n",
       "        </summary>\n",
       "\n",
       "        \n",
       "        <div style=\"margin-bottom: 20px;\">\n",
       "            <div style=\"width: 24px; height: 24px; background-color: #DBF5FF; border: 3px solid #4CC9FF; border-radius: 5px; position: absolute;\"> </div>\n",
       "            <div style=\"margin-left: 48px;\">\n",
       "            <details>\n",
       "                <summary>\n",
       "                    <h4 style=\"margin-bottom: 0px; display: inline;\">Worker: 0</h4>\n",
       "                </summary>\n",
       "                <table style=\"width: 100%; text-align: left;\">\n",
       "                    <tr>\n",
       "                        <td style=\"text-align: left;\">\n",
       "                            <strong>Comm: </strong> tcp://127.0.0.1:34529\n",
       "                        </td>\n",
       "                        <td style=\"text-align: left;\">\n",
       "                            <strong>Total threads: </strong> 4\n",
       "                        </td>\n",
       "                    </tr>\n",
       "                    <tr>\n",
       "                        <td style=\"text-align: left;\">\n",
       "                            <strong>Dashboard: </strong> <a href=\"http://127.0.0.1:43703/status\" target=\"_blank\">http://127.0.0.1:43703/status</a>\n",
       "                        </td>\n",
       "                        <td style=\"text-align: left;\">\n",
       "                            <strong>Memory: </strong> 6.21 GiB\n",
       "                        </td>\n",
       "                    </tr>\n",
       "                    <tr>\n",
       "                        <td style=\"text-align: left;\">\n",
       "                            <strong>Nanny: </strong> tcp://127.0.0.1:45709\n",
       "                        </td>\n",
       "                        <td style=\"text-align: left;\"></td>\n",
       "                    </tr>\n",
       "                    <tr>\n",
       "                        <td colspan=\"2\" style=\"text-align: left;\">\n",
       "                            <strong>Local directory: </strong> /tmp/dask-scratch-space/worker-i059jetn\n",
       "                        </td>\n",
       "                    </tr>\n",
       "\n",
       "                    \n",
       "\n",
       "                    \n",
       "\n",
       "                </table>\n",
       "            </details>\n",
       "            </div>\n",
       "        </div>\n",
       "        \n",
       "        <div style=\"margin-bottom: 20px;\">\n",
       "            <div style=\"width: 24px; height: 24px; background-color: #DBF5FF; border: 3px solid #4CC9FF; border-radius: 5px; position: absolute;\"> </div>\n",
       "            <div style=\"margin-left: 48px;\">\n",
       "            <details>\n",
       "                <summary>\n",
       "                    <h4 style=\"margin-bottom: 0px; display: inline;\">Worker: 1</h4>\n",
       "                </summary>\n",
       "                <table style=\"width: 100%; text-align: left;\">\n",
       "                    <tr>\n",
       "                        <td style=\"text-align: left;\">\n",
       "                            <strong>Comm: </strong> tcp://127.0.0.1:45319\n",
       "                        </td>\n",
       "                        <td style=\"text-align: left;\">\n",
       "                            <strong>Total threads: </strong> 4\n",
       "                        </td>\n",
       "                    </tr>\n",
       "                    <tr>\n",
       "                        <td style=\"text-align: left;\">\n",
       "                            <strong>Dashboard: </strong> <a href=\"http://127.0.0.1:38597/status\" target=\"_blank\">http://127.0.0.1:38597/status</a>\n",
       "                        </td>\n",
       "                        <td style=\"text-align: left;\">\n",
       "                            <strong>Memory: </strong> 6.21 GiB\n",
       "                        </td>\n",
       "                    </tr>\n",
       "                    <tr>\n",
       "                        <td style=\"text-align: left;\">\n",
       "                            <strong>Nanny: </strong> tcp://127.0.0.1:43449\n",
       "                        </td>\n",
       "                        <td style=\"text-align: left;\"></td>\n",
       "                    </tr>\n",
       "                    <tr>\n",
       "                        <td colspan=\"2\" style=\"text-align: left;\">\n",
       "                            <strong>Local directory: </strong> /tmp/dask-scratch-space/worker-wlsqrhes\n",
       "                        </td>\n",
       "                    </tr>\n",
       "\n",
       "                    \n",
       "\n",
       "                    \n",
       "\n",
       "                </table>\n",
       "            </details>\n",
       "            </div>\n",
       "        </div>\n",
       "        \n",
       "        <div style=\"margin-bottom: 20px;\">\n",
       "            <div style=\"width: 24px; height: 24px; background-color: #DBF5FF; border: 3px solid #4CC9FF; border-radius: 5px; position: absolute;\"> </div>\n",
       "            <div style=\"margin-left: 48px;\">\n",
       "            <details>\n",
       "                <summary>\n",
       "                    <h4 style=\"margin-bottom: 0px; display: inline;\">Worker: 2</h4>\n",
       "                </summary>\n",
       "                <table style=\"width: 100%; text-align: left;\">\n",
       "                    <tr>\n",
       "                        <td style=\"text-align: left;\">\n",
       "                            <strong>Comm: </strong> tcp://127.0.0.1:38431\n",
       "                        </td>\n",
       "                        <td style=\"text-align: left;\">\n",
       "                            <strong>Total threads: </strong> 4\n",
       "                        </td>\n",
       "                    </tr>\n",
       "                    <tr>\n",
       "                        <td style=\"text-align: left;\">\n",
       "                            <strong>Dashboard: </strong> <a href=\"http://127.0.0.1:42061/status\" target=\"_blank\">http://127.0.0.1:42061/status</a>\n",
       "                        </td>\n",
       "                        <td style=\"text-align: left;\">\n",
       "                            <strong>Memory: </strong> 6.21 GiB\n",
       "                        </td>\n",
       "                    </tr>\n",
       "                    <tr>\n",
       "                        <td style=\"text-align: left;\">\n",
       "                            <strong>Nanny: </strong> tcp://127.0.0.1:40899\n",
       "                        </td>\n",
       "                        <td style=\"text-align: left;\"></td>\n",
       "                    </tr>\n",
       "                    <tr>\n",
       "                        <td colspan=\"2\" style=\"text-align: left;\">\n",
       "                            <strong>Local directory: </strong> /tmp/dask-scratch-space/worker-_bqdoxmm\n",
       "                        </td>\n",
       "                    </tr>\n",
       "\n",
       "                    \n",
       "\n",
       "                    \n",
       "\n",
       "                </table>\n",
       "            </details>\n",
       "            </div>\n",
       "        </div>\n",
       "        \n",
       "        <div style=\"margin-bottom: 20px;\">\n",
       "            <div style=\"width: 24px; height: 24px; background-color: #DBF5FF; border: 3px solid #4CC9FF; border-radius: 5px; position: absolute;\"> </div>\n",
       "            <div style=\"margin-left: 48px;\">\n",
       "            <details>\n",
       "                <summary>\n",
       "                    <h4 style=\"margin-bottom: 0px; display: inline;\">Worker: 3</h4>\n",
       "                </summary>\n",
       "                <table style=\"width: 100%; text-align: left;\">\n",
       "                    <tr>\n",
       "                        <td style=\"text-align: left;\">\n",
       "                            <strong>Comm: </strong> tcp://127.0.0.1:33411\n",
       "                        </td>\n",
       "                        <td style=\"text-align: left;\">\n",
       "                            <strong>Total threads: </strong> 4\n",
       "                        </td>\n",
       "                    </tr>\n",
       "                    <tr>\n",
       "                        <td style=\"text-align: left;\">\n",
       "                            <strong>Dashboard: </strong> <a href=\"http://127.0.0.1:39651/status\" target=\"_blank\">http://127.0.0.1:39651/status</a>\n",
       "                        </td>\n",
       "                        <td style=\"text-align: left;\">\n",
       "                            <strong>Memory: </strong> 6.21 GiB\n",
       "                        </td>\n",
       "                    </tr>\n",
       "                    <tr>\n",
       "                        <td style=\"text-align: left;\">\n",
       "                            <strong>Nanny: </strong> tcp://127.0.0.1:35595\n",
       "                        </td>\n",
       "                        <td style=\"text-align: left;\"></td>\n",
       "                    </tr>\n",
       "                    <tr>\n",
       "                        <td colspan=\"2\" style=\"text-align: left;\">\n",
       "                            <strong>Local directory: </strong> /tmp/dask-scratch-space/worker-htbah07_\n",
       "                        </td>\n",
       "                    </tr>\n",
       "\n",
       "                    \n",
       "\n",
       "                    \n",
       "\n",
       "                </table>\n",
       "            </details>\n",
       "            </div>\n",
       "        </div>\n",
       "        \n",
       "        <div style=\"margin-bottom: 20px;\">\n",
       "            <div style=\"width: 24px; height: 24px; background-color: #DBF5FF; border: 3px solid #4CC9FF; border-radius: 5px; position: absolute;\"> </div>\n",
       "            <div style=\"margin-left: 48px;\">\n",
       "            <details>\n",
       "                <summary>\n",
       "                    <h4 style=\"margin-bottom: 0px; display: inline;\">Worker: 4</h4>\n",
       "                </summary>\n",
       "                <table style=\"width: 100%; text-align: left;\">\n",
       "                    <tr>\n",
       "                        <td style=\"text-align: left;\">\n",
       "                            <strong>Comm: </strong> tcp://127.0.0.1:44251\n",
       "                        </td>\n",
       "                        <td style=\"text-align: left;\">\n",
       "                            <strong>Total threads: </strong> 4\n",
       "                        </td>\n",
       "                    </tr>\n",
       "                    <tr>\n",
       "                        <td style=\"text-align: left;\">\n",
       "                            <strong>Dashboard: </strong> <a href=\"http://127.0.0.1:35265/status\" target=\"_blank\">http://127.0.0.1:35265/status</a>\n",
       "                        </td>\n",
       "                        <td style=\"text-align: left;\">\n",
       "                            <strong>Memory: </strong> 6.21 GiB\n",
       "                        </td>\n",
       "                    </tr>\n",
       "                    <tr>\n",
       "                        <td style=\"text-align: left;\">\n",
       "                            <strong>Nanny: </strong> tcp://127.0.0.1:39131\n",
       "                        </td>\n",
       "                        <td style=\"text-align: left;\"></td>\n",
       "                    </tr>\n",
       "                    <tr>\n",
       "                        <td colspan=\"2\" style=\"text-align: left;\">\n",
       "                            <strong>Local directory: </strong> /tmp/dask-scratch-space/worker-66q1qbx4\n",
       "                        </td>\n",
       "                    </tr>\n",
       "\n",
       "                    \n",
       "\n",
       "                    \n",
       "\n",
       "                </table>\n",
       "            </details>\n",
       "            </div>\n",
       "        </div>\n",
       "        \n",
       "\n",
       "    </details>\n",
       "</div>\n",
       "\n",
       "        </details>\n",
       "    </div>\n",
       "</div>\n",
       "            </details>\n",
       "        \n",
       "\n",
       "    </div>\n",
       "</div>"
      ],
      "text/plain": [
       "<Client: 'tcp://127.0.0.1:45773' processes=5 threads=20, memory=31.04 GiB>"
      ]
     },
     "execution_count": 4,
     "metadata": {},
     "output_type": "execute_result"
    }
   ],
   "source": [
    "client"
   ]
  },
  {
   "cell_type": "code",
   "execution_count": 5,
   "id": "d2ffae84",
   "metadata": {},
   "outputs": [
    {
     "data": {
      "text/plain": [
       "{'tcp://127.0.0.1:33411': 1,\n",
       " 'tcp://127.0.0.1:34529': 1,\n",
       " 'tcp://127.0.0.1:38431': 1,\n",
       " 'tcp://127.0.0.1:44251': 1,\n",
       " 'tcp://127.0.0.1:45319': 1}"
      ]
     },
     "execution_count": 5,
     "metadata": {},
     "output_type": "execute_result"
    }
   ],
   "source": [
    "import ctypes\n",
    "\n",
    "def trim_memory() -> int:\n",
    "    libc = ctypes.CDLL(\"libc.so.6\")\n",
    "    return libc.malloc_trim(0)\n",
    "\n",
    "client.run(trim_memory)"
   ]
  },
  {
   "cell_type": "markdown",
   "id": "900c12e0",
   "metadata": {},
   "source": [
    "# Read and merge"
   ]
  },
  {
   "cell_type": "code",
   "execution_count": 6,
   "id": "32f3bf4e",
   "metadata": {},
   "outputs": [],
   "source": [
    "config = pd.Series({\n",
    "    'path': os.path.abspath('dades'),\n",
    "    'file_type':'csv',\n",
    "    'years':[2019, 2021, 2022, 2023],\n",
    "    'dataset': 'BicingNou_ESTACIONS_MOD'\n",
    "})"
   ]
  },
  {
   "cell_type": "code",
   "execution_count": 7,
   "id": "24cb2875",
   "metadata": {},
   "outputs": [
    {
     "name": "stdout",
     "output_type": "stream",
     "text": [
      "checkpoint reloaded.\n",
      "checkpoint reloaded.\n",
      "checkpoint reloaded.\n",
      "checkpoint reloaded.\n",
      "CPU times: user 69.9 ms, sys: 17.6 ms, total: 87.5 ms\n",
      "Wall time: 81.4 ms\n"
     ]
    }
   ],
   "source": [
    "%%time\n",
    "\n",
    "def read_data_all(cnfg:dict):\n",
    "\n",
    "    data = dict()\n",
    "\n",
    "    for year in cnfg.years:\n",
    "        cnfg['year'] = year\n",
    "        data[year] = load_checkpoint(cnfg)\n",
    "    \n",
    "    return dd.concat(list(data.values()), interleave_partitions=False)\n",
    "    \n",
    "bbdd_completa = read_data_all(config)   "
   ]
  },
  {
   "cell_type": "markdown",
   "id": "ba4e1a97",
   "metadata": {},
   "source": [
    "# Preprocessing"
   ]
  },
  {
   "cell_type": "code",
   "execution_count": 8,
   "id": "f7d9f27c",
   "metadata": {},
   "outputs": [
    {
     "name": "stdout",
     "output_type": "stream",
     "text": [
      "(14138683, 23)\n",
      "1\n",
      "2\n",
      "3\n",
      "4\n",
      "5\n",
      "6\n",
      "7\n",
      "(14138178, 21)\n",
      "Changes to dataframe durinf preprocessing\n",
      "dropeed -505 rows\n",
      "dropped -2 columns\n",
      "CPU times: user 3.93 s, sys: 484 ms, total: 4.42 s\n",
      "Wall time: 15.7 s\n"
     ]
    }
   ],
   "source": [
    "%%time\n",
    "\n",
    "index=0\n",
    "before = get_ddf_shape(bbdd_completa)\n",
    "print(before)\n",
    "\n",
    "index+=1\n",
    "print(index)\n",
    "# 1 Error fix. # 2019 gener, febrer and marc have the status reversed\n",
    "cond = (bbdd_completa.year == 2019) & (bbdd_completa.month.isin([1,2,3]))\n",
    "bbdd_completa['status'] = bbdd_completa['status'].mask(cond, ((bbdd_completa['status'] + 1) %2))\n",
    "index+=1\n",
    "print(index)\n",
    "# 2 Remove not needed status, manitenance, planned. open = 0, closed = 1 \n",
    "cond = (bbdd_completa['status'].isin([2.0,3.0]))\n",
    "bbdd_completa['status'] = bbdd_completa['status'].mask(cond, 1.0)\n",
    "# bbdd_completa = bbdd_completa.dropna(subset=['status'])\n",
    "index+=1\n",
    "print(index)\n",
    "# 3 Remove data from 2020\n",
    "cond = (bbdd_completa['year'].isin([2020]))\n",
    "bbdd_completa = bbdd_completa.mask(cond, np.nan)\n",
    "bbdd_completa = bbdd_completa.dropna(subset=['year'])\n",
    "index+=1\n",
    "print(index)\n",
    "# 4 2019 to 2020 to have continuos data \n",
    "# cond = (bbdd_completa['year'].isin([2019]))\n",
    "# bbdd_completa['year'] = bbdd_completa['year'].mask(cond, bbdd_completa['year']+1)\n",
    "# index+=1\n",
    "# print(index)\n",
    "# 5 status reversed \n",
    "bbdd_completa['status'] = (bbdd_completa['status'] + 1)%2\n",
    "index+=1\n",
    "print(index)\n",
    "# 6 Column has all ones\n",
    "bbdd_completa = bbdd_completa.drop(columns=['is_installed'])\n",
    "index+=1\n",
    "print(index)\n",
    "# 7 Column has all ones\n",
    "bbdd_completa = bbdd_completa.drop(columns=['is_charging_station'])\n",
    "index+=1\n",
    "print(index)\n",
    "# 8 Remove row where status = closed and is renting and is returning\n",
    "# cond = (bbdd_completa['status'].isin([0.0])) & (bbdd_completa['is_renting'].isin([1.0])) & (bbdd_completa['is_returning'].isin([1.0]))\n",
    "# bbdd_completa = bbdd_completa.mask(cond, np.nan)\n",
    "# bbdd_completa = bbdd_completa.dropna(subset=['status'])\n",
    "\n",
    "after = get_ddf_shape(bbdd_completa)\n",
    "print(after)\n",
    "\n",
    "print('Changes to dataframe durinf preprocessing')\n",
    "print(f'dropeed {(after[0]-before[0]):02d} rows')\n",
    "print(f'dropped {(after[1]-before[1]):02d} columns')\n",
    "# 14138178"
   ]
  },
  {
   "cell_type": "markdown",
   "id": "8b29ac42",
   "metadata": {},
   "source": [
    "## Drop duplicate data"
   ]
  },
  {
   "cell_type": "code",
   "execution_count": 9,
   "id": "53c9a92a",
   "metadata": {},
   "outputs": [
    {
     "data": {
      "text/plain": [
       "{'tcp://127.0.0.1:33411': 1,\n",
       " 'tcp://127.0.0.1:34529': 1,\n",
       " 'tcp://127.0.0.1:38431': 1,\n",
       " 'tcp://127.0.0.1:44251': 1,\n",
       " 'tcp://127.0.0.1:45319': 1}"
      ]
     },
     "execution_count": 9,
     "metadata": {},
     "output_type": "execute_result"
    }
   ],
   "source": [
    "client.run(trim_memory)"
   ]
  },
  {
   "cell_type": "code",
   "execution_count": 10,
   "id": "daaae984",
   "metadata": {},
   "outputs": [],
   "source": [
    "def drop_duplicates_per_year(ddf):\n",
    "    years = ddf.year.unique()\n",
    "    \n",
    "    before = get_ddf_shape(ddf)\n",
    "    print(before)\n",
    "    \n",
    "    data = list()\n",
    "    \n",
    "    for year in years:\n",
    "        print(year)\n",
    "        data_year = ddf[ddf.year.isin([year])]\n",
    "        \n",
    "        data_year = data_year.drop_duplicates(subset=['timestamp', 'station_id'], keep='last')\n",
    "        \n",
    "        data.append(data_year)\n",
    "        \n",
    "        client.run(trim_memory)\n",
    "        \n",
    "        time.sleep(1)\n",
    "        \n",
    "    ddf_clean = dd.concat(data, interleave_partitions=False)\n",
    "    \n",
    "    after = get_ddf_shape(ddf_clean)\n",
    "    print(after)\n",
    "\n",
    "    print('Changes to dataframe durinf preprocessing')\n",
    "    print(f'dropeed {(after[0]-before[0]):02d} rows')\n",
    "    print(f'dropped {(after[1]-before[1]):02d} columns')\n",
    "    return ddf_clean\n"
   ]
  },
  {
   "cell_type": "code",
   "execution_count": 11,
   "id": "fc06dbe9",
   "metadata": {},
   "outputs": [
    {
     "name": "stdout",
     "output_type": "stream",
     "text": [
      "(14138178, 21)\n",
      "2019.0\n",
      "2021.0\n",
      "2022.0\n",
      "2023.0\n",
      "(13992397, 21)\n",
      "Changes to dataframe durinf preprocessing\n",
      "dropeed -145781 rows\n",
      "dropped 00 columns\n",
      "CPU times: user 9.22 s, sys: 852 ms, total: 10.1 s\n",
      "Wall time: 34.6 s\n"
     ]
    }
   ],
   "source": [
    "%%time\n",
    "\n",
    "bbdd_completa = drop_duplicates_per_year(bbdd_completa)"
   ]
  },
  {
   "cell_type": "markdown",
   "id": "bfba1f13",
   "metadata": {},
   "source": [
    "## Drop not needed columns "
   ]
  },
  {
   "cell_type": "code",
   "execution_count": 12,
   "id": "c1b76c80",
   "metadata": {},
   "outputs": [],
   "source": [
    "bbdd_completa = bbdd_completa.drop(\n",
    "    columns=[\n",
    "        'num_docks_available',\n",
    "        'timestamp',\n",
    "        'num_bikes_available_types.ebike',\n",
    "        'num_bikes_available_types.mechanical',\n",
    "        'num_bikes_available',\n",
    "        'is_returning',\n",
    "        'is_renting',\n",
    "        'status'\n",
    "    ]\n",
    ")"
   ]
  },
  {
   "cell_type": "markdown",
   "id": "19ba58ef",
   "metadata": {},
   "source": [
    "# Additional datasets"
   ]
  },
  {
   "cell_type": "markdown",
   "id": "84eb4894",
   "metadata": {},
   "source": [
    "## Festius 2019 - 2023 "
   ]
  },
  {
   "cell_type": "code",
   "execution_count": 13,
   "id": "925963f2",
   "metadata": {},
   "outputs": [
    {
     "data": {
      "text/plain": [
       "{'tcp://127.0.0.1:33411': 1,\n",
       " 'tcp://127.0.0.1:34529': 1,\n",
       " 'tcp://127.0.0.1:38431': 1,\n",
       " 'tcp://127.0.0.1:44251': 1,\n",
       " 'tcp://127.0.0.1:45319': 1}"
      ]
     },
     "execution_count": 13,
     "metadata": {},
     "output_type": "execute_result"
    }
   ],
   "source": [
    "client.run(trim_memory)"
   ]
  },
  {
   "cell_type": "code",
   "execution_count": 14,
   "id": "b77abe8e",
   "metadata": {},
   "outputs": [],
   "source": [
    "df_calendari_festius = pd.read_csv('./Altres_dades/calendari_festius.csv',sep=';')"
   ]
  },
  {
   "cell_type": "code",
   "execution_count": 15,
   "id": "8f77f015",
   "metadata": {},
   "outputs": [
    {
     "data": {
      "text/plain": [
       "fecha              datetime64[ns]\n",
       "festius                    object\n",
       "festius_sun                object\n",
       "festius_sun_sat            object\n",
       "dtype: object"
      ]
     },
     "execution_count": 15,
     "metadata": {},
     "output_type": "execute_result"
    }
   ],
   "source": [
    "df_calendari_festius['fecha'] = pd.to_datetime(df_calendari_festius['fecha'], format='%d/%m/%y')\n",
    "df_calendari_festius.dtypes"
   ]
  },
  {
   "cell_type": "code",
   "execution_count": 16,
   "id": "8858cd8c",
   "metadata": {},
   "outputs": [],
   "source": [
    "df_calendari_festius['year'] = df_calendari_festius['fecha'].dt.year\n",
    "df_calendari_festius['month'] = df_calendari_festius['fecha'].dt.month\n",
    "df_calendari_festius['day'] = df_calendari_festius['fecha'].dt.day"
   ]
  },
  {
   "cell_type": "code",
   "execution_count": 17,
   "id": "214dfacf",
   "metadata": {},
   "outputs": [],
   "source": [
    "df_calendari_festius['dayofweek'] = df_calendari_festius['fecha'].dt.dayofweek"
   ]
  },
  {
   "cell_type": "code",
   "execution_count": 18,
   "id": "3236361f",
   "metadata": {},
   "outputs": [
    {
     "data": {
      "text/plain": [
       "pandas.core.frame.DataFrame"
      ]
     },
     "execution_count": 18,
     "metadata": {},
     "output_type": "execute_result"
    }
   ],
   "source": [
    "type(df_calendari_festius)"
   ]
  },
  {
   "cell_type": "code",
   "execution_count": 19,
   "id": "0733fa41",
   "metadata": {},
   "outputs": [],
   "source": [
    "df_calendari_festius.drop('fecha', axis=1, inplace=True)"
   ]
  },
  {
   "cell_type": "code",
   "execution_count": 20,
   "id": "02e14d61",
   "metadata": {},
   "outputs": [],
   "source": [
    "# replace IN_SERVICE with 0 and CLOSED with 1 \n",
    "df_calendari_festius['festius'].replace(\n",
    "    to_replace=['No', 'Yes'],                       \n",
    "    value=[0, 1], inplace=True)\n",
    "\n",
    "df_calendari_festius['festius_sun'].replace(\n",
    "    to_replace=['No', 'Yes'],                       \n",
    "    value=[0, 1], inplace=True)\n",
    "\n",
    "df_calendari_festius['festius_sun_sat'].replace(\n",
    "    to_replace=['No', 'Yes'],                       \n",
    "    value=[0, 1], inplace=True)\n"
   ]
  },
  {
   "cell_type": "code",
   "execution_count": 21,
   "id": "d70f9030",
   "metadata": {},
   "outputs": [],
   "source": [
    "df_calendari_festius.loc[df_calendari_festius.dayofweek.isin([5,6]), 'festius_sun_sat'] = 1\n",
    "\n",
    "df_calendari_festius.loc[df_calendari_festius.dayofweek.isin([6]), 'festius_sun'] = 1"
   ]
  },
  {
   "cell_type": "code",
   "execution_count": 22,
   "id": "03996784",
   "metadata": {},
   "outputs": [],
   "source": [
    "df_calendari_festius['weekend'] = 0\n",
    "\n",
    "df_calendari_festius.loc[df_calendari_festius.dayofweek.isin([5,6]), 'weekend'] = 1\n"
   ]
  },
  {
   "cell_type": "code",
   "execution_count": 23,
   "id": "416a2cbe",
   "metadata": {},
   "outputs": [
    {
     "data": {
      "text/html": [
       "<div>\n",
       "<style scoped>\n",
       "    .dataframe tbody tr th:only-of-type {\n",
       "        vertical-align: middle;\n",
       "    }\n",
       "\n",
       "    .dataframe tbody tr th {\n",
       "        vertical-align: top;\n",
       "    }\n",
       "\n",
       "    .dataframe thead th {\n",
       "        text-align: right;\n",
       "    }\n",
       "</style>\n",
       "<table border=\"1\" class=\"dataframe\">\n",
       "  <thead>\n",
       "    <tr style=\"text-align: right;\">\n",
       "      <th></th>\n",
       "      <th>festius</th>\n",
       "      <th>festius_sun</th>\n",
       "      <th>festius_sun_sat</th>\n",
       "      <th>year</th>\n",
       "      <th>month</th>\n",
       "      <th>day</th>\n",
       "      <th>dayofweek</th>\n",
       "      <th>weekend</th>\n",
       "    </tr>\n",
       "  </thead>\n",
       "  <tbody>\n",
       "    <tr>\n",
       "      <th>1096</th>\n",
       "      <td>1</td>\n",
       "      <td>1</td>\n",
       "      <td>1</td>\n",
       "      <td>2022</td>\n",
       "      <td>1</td>\n",
       "      <td>1</td>\n",
       "      <td>5</td>\n",
       "      <td>1</td>\n",
       "    </tr>\n",
       "    <tr>\n",
       "      <th>1101</th>\n",
       "      <td>1</td>\n",
       "      <td>1</td>\n",
       "      <td>1</td>\n",
       "      <td>2022</td>\n",
       "      <td>1</td>\n",
       "      <td>6</td>\n",
       "      <td>3</td>\n",
       "      <td>0</td>\n",
       "    </tr>\n",
       "    <tr>\n",
       "      <th>1200</th>\n",
       "      <td>1</td>\n",
       "      <td>1</td>\n",
       "      <td>1</td>\n",
       "      <td>2022</td>\n",
       "      <td>4</td>\n",
       "      <td>15</td>\n",
       "      <td>4</td>\n",
       "      <td>0</td>\n",
       "    </tr>\n",
       "    <tr>\n",
       "      <th>1203</th>\n",
       "      <td>1</td>\n",
       "      <td>1</td>\n",
       "      <td>1</td>\n",
       "      <td>2022</td>\n",
       "      <td>4</td>\n",
       "      <td>18</td>\n",
       "      <td>0</td>\n",
       "      <td>0</td>\n",
       "    </tr>\n",
       "    <tr>\n",
       "      <th>1252</th>\n",
       "      <td>1</td>\n",
       "      <td>1</td>\n",
       "      <td>1</td>\n",
       "      <td>2022</td>\n",
       "      <td>6</td>\n",
       "      <td>6</td>\n",
       "      <td>0</td>\n",
       "      <td>0</td>\n",
       "    </tr>\n",
       "    <tr>\n",
       "      <th>1270</th>\n",
       "      <td>1</td>\n",
       "      <td>1</td>\n",
       "      <td>1</td>\n",
       "      <td>2022</td>\n",
       "      <td>6</td>\n",
       "      <td>24</td>\n",
       "      <td>4</td>\n",
       "      <td>0</td>\n",
       "    </tr>\n",
       "    <tr>\n",
       "      <th>1322</th>\n",
       "      <td>1</td>\n",
       "      <td>1</td>\n",
       "      <td>1</td>\n",
       "      <td>2022</td>\n",
       "      <td>8</td>\n",
       "      <td>15</td>\n",
       "      <td>0</td>\n",
       "      <td>0</td>\n",
       "    </tr>\n",
       "    <tr>\n",
       "      <th>1362</th>\n",
       "      <td>1</td>\n",
       "      <td>1</td>\n",
       "      <td>1</td>\n",
       "      <td>2022</td>\n",
       "      <td>9</td>\n",
       "      <td>24</td>\n",
       "      <td>5</td>\n",
       "      <td>1</td>\n",
       "    </tr>\n",
       "    <tr>\n",
       "      <th>1364</th>\n",
       "      <td>1</td>\n",
       "      <td>1</td>\n",
       "      <td>1</td>\n",
       "      <td>2022</td>\n",
       "      <td>9</td>\n",
       "      <td>26</td>\n",
       "      <td>0</td>\n",
       "      <td>0</td>\n",
       "    </tr>\n",
       "    <tr>\n",
       "      <th>1380</th>\n",
       "      <td>1</td>\n",
       "      <td>1</td>\n",
       "      <td>1</td>\n",
       "      <td>2022</td>\n",
       "      <td>10</td>\n",
       "      <td>12</td>\n",
       "      <td>2</td>\n",
       "      <td>0</td>\n",
       "    </tr>\n",
       "    <tr>\n",
       "      <th>1400</th>\n",
       "      <td>1</td>\n",
       "      <td>1</td>\n",
       "      <td>1</td>\n",
       "      <td>2022</td>\n",
       "      <td>11</td>\n",
       "      <td>1</td>\n",
       "      <td>1</td>\n",
       "      <td>0</td>\n",
       "    </tr>\n",
       "    <tr>\n",
       "      <th>1435</th>\n",
       "      <td>1</td>\n",
       "      <td>1</td>\n",
       "      <td>1</td>\n",
       "      <td>2022</td>\n",
       "      <td>12</td>\n",
       "      <td>6</td>\n",
       "      <td>1</td>\n",
       "      <td>0</td>\n",
       "    </tr>\n",
       "    <tr>\n",
       "      <th>1437</th>\n",
       "      <td>1</td>\n",
       "      <td>1</td>\n",
       "      <td>1</td>\n",
       "      <td>2022</td>\n",
       "      <td>12</td>\n",
       "      <td>8</td>\n",
       "      <td>3</td>\n",
       "      <td>0</td>\n",
       "    </tr>\n",
       "    <tr>\n",
       "      <th>1455</th>\n",
       "      <td>1</td>\n",
       "      <td>1</td>\n",
       "      <td>1</td>\n",
       "      <td>2022</td>\n",
       "      <td>12</td>\n",
       "      <td>26</td>\n",
       "      <td>0</td>\n",
       "      <td>0</td>\n",
       "    </tr>\n",
       "  </tbody>\n",
       "</table>\n",
       "</div>"
      ],
      "text/plain": [
       "      festius  festius_sun  festius_sun_sat  year  month  day  dayofweek  \\\n",
       "1096        1            1                1  2022      1    1          5   \n",
       "1101        1            1                1  2022      1    6          3   \n",
       "1200        1            1                1  2022      4   15          4   \n",
       "1203        1            1                1  2022      4   18          0   \n",
       "1252        1            1                1  2022      6    6          0   \n",
       "1270        1            1                1  2022      6   24          4   \n",
       "1322        1            1                1  2022      8   15          0   \n",
       "1362        1            1                1  2022      9   24          5   \n",
       "1364        1            1                1  2022      9   26          0   \n",
       "1380        1            1                1  2022     10   12          2   \n",
       "1400        1            1                1  2022     11    1          1   \n",
       "1435        1            1                1  2022     12    6          1   \n",
       "1437        1            1                1  2022     12    8          3   \n",
       "1455        1            1                1  2022     12   26          0   \n",
       "\n",
       "      weekend  \n",
       "1096        1  \n",
       "1101        0  \n",
       "1200        0  \n",
       "1203        0  \n",
       "1252        0  \n",
       "1270        0  \n",
       "1322        0  \n",
       "1362        1  \n",
       "1364        0  \n",
       "1380        0  \n",
       "1400        0  \n",
       "1435        0  \n",
       "1437        0  \n",
       "1455        0  "
      ]
     },
     "execution_count": 23,
     "metadata": {},
     "output_type": "execute_result"
    }
   ],
   "source": [
    "df_calendari_festius[df_calendari_festius.festius.isin([1]) & df_calendari_festius.year.isin([2022])]"
   ]
  },
  {
   "cell_type": "code",
   "execution_count": 24,
   "id": "16d5226a",
   "metadata": {},
   "outputs": [],
   "source": [
    "df_calendari_festius.drop('dayofweek', axis=1, inplace=True)"
   ]
  },
  {
   "cell_type": "markdown",
   "id": "a0389c72",
   "metadata": {},
   "source": [
    "## Meteo 2019 - 2023 "
   ]
  },
  {
   "cell_type": "code",
   "execution_count": 25,
   "id": "de282020",
   "metadata": {},
   "outputs": [
    {
     "data": {
      "text/plain": [
       "{'tcp://127.0.0.1:33411': 1,\n",
       " 'tcp://127.0.0.1:34529': 1,\n",
       " 'tcp://127.0.0.1:38431': 1,\n",
       " 'tcp://127.0.0.1:44251': 1,\n",
       " 'tcp://127.0.0.1:45319': 1}"
      ]
     },
     "execution_count": 25,
     "metadata": {},
     "output_type": "execute_result"
    }
   ],
   "source": [
    "client.run(trim_memory)"
   ]
  },
  {
   "cell_type": "code",
   "execution_count": 26,
   "id": "795d1f63",
   "metadata": {},
   "outputs": [],
   "source": [
    "df_meteo_metadata = pd.read_csv('./Altres_dades/MetadataMeteo/MeteoCat_Metadades.csv',sep=',')"
   ]
  },
  {
   "cell_type": "code",
   "execution_count": 27,
   "id": "eb7ed3ae",
   "metadata": {},
   "outputs": [
    {
     "data": {
      "text/html": [
       "<div>\n",
       "<style scoped>\n",
       "    .dataframe tbody tr th:only-of-type {\n",
       "        vertical-align: middle;\n",
       "    }\n",
       "\n",
       "    .dataframe tbody tr th {\n",
       "        vertical-align: top;\n",
       "    }\n",
       "\n",
       "    .dataframe thead th {\n",
       "        text-align: right;\n",
       "    }\n",
       "</style>\n",
       "<table border=\"1\" class=\"dataframe\">\n",
       "  <thead>\n",
       "    <tr style=\"text-align: right;\">\n",
       "      <th></th>\n",
       "      <th>CODI_VARIABLE</th>\n",
       "      <th>NOM_VARIABLE</th>\n",
       "      <th>UNITAT</th>\n",
       "      <th>ACRÒNIM</th>\n",
       "    </tr>\n",
       "  </thead>\n",
       "  <tbody>\n",
       "    <tr>\n",
       "      <th>0</th>\n",
       "      <td>1000</td>\n",
       "      <td>Temperatura mitjana diària</td>\n",
       "      <td>°C</td>\n",
       "      <td>TM</td>\n",
       "    </tr>\n",
       "    <tr>\n",
       "      <th>1</th>\n",
       "      <td>1001</td>\n",
       "      <td>Temperatura màxima diària + hora</td>\n",
       "      <td>°C</td>\n",
       "      <td>TX</td>\n",
       "    </tr>\n",
       "    <tr>\n",
       "      <th>2</th>\n",
       "      <td>1002</td>\n",
       "      <td>Temperatura mínima diària + hora</td>\n",
       "      <td>°C</td>\n",
       "      <td>TN</td>\n",
       "    </tr>\n",
       "    <tr>\n",
       "      <th>3</th>\n",
       "      <td>1100</td>\n",
       "      <td>Humitat relativa mitjana diària</td>\n",
       "      <td>%</td>\n",
       "      <td>HRM</td>\n",
       "    </tr>\n",
       "    <tr>\n",
       "      <th>4</th>\n",
       "      <td>1101</td>\n",
       "      <td>Humitat relativa màxima diària + data</td>\n",
       "      <td>%</td>\n",
       "      <td>HRX</td>\n",
       "    </tr>\n",
       "    <tr>\n",
       "      <th>5</th>\n",
       "      <td>1102</td>\n",
       "      <td>Humitat relativa mínima diària + data</td>\n",
       "      <td>%</td>\n",
       "      <td>HRN</td>\n",
       "    </tr>\n",
       "    <tr>\n",
       "      <th>6</th>\n",
       "      <td>1200</td>\n",
       "      <td>Pressió atmosfèrica mitjana diària</td>\n",
       "      <td>hPa</td>\n",
       "      <td>PM</td>\n",
       "    </tr>\n",
       "    <tr>\n",
       "      <th>7</th>\n",
       "      <td>1201</td>\n",
       "      <td>Pressió atmosfèrica màxima diària + hora</td>\n",
       "      <td>hPa</td>\n",
       "      <td>PX</td>\n",
       "    </tr>\n",
       "    <tr>\n",
       "      <th>8</th>\n",
       "      <td>1202</td>\n",
       "      <td>Pressió atmosfèrica mínima diària + hora</td>\n",
       "      <td>hPa</td>\n",
       "      <td>PN</td>\n",
       "    </tr>\n",
       "    <tr>\n",
       "      <th>9</th>\n",
       "      <td>1300</td>\n",
       "      <td>Precipitació acumulada diària</td>\n",
       "      <td>mm</td>\n",
       "      <td>PPT</td>\n",
       "    </tr>\n",
       "    <tr>\n",
       "      <th>10</th>\n",
       "      <td>1400</td>\n",
       "      <td>Irradiació solar global diària</td>\n",
       "      <td>MJ/m2</td>\n",
       "      <td>RS24h</td>\n",
       "    </tr>\n",
       "    <tr>\n",
       "      <th>11</th>\n",
       "      <td>1503</td>\n",
       "      <td>Velocitat mitjana diària del vent 10 m (esc.)</td>\n",
       "      <td>m/s</td>\n",
       "      <td>VVM10</td>\n",
       "    </tr>\n",
       "    <tr>\n",
       "      <th>12</th>\n",
       "      <td>1509</td>\n",
       "      <td>Direcció mitjana diària del vent 10 m (m. 1)</td>\n",
       "      <td>°</td>\n",
       "      <td>DVM10</td>\n",
       "    </tr>\n",
       "    <tr>\n",
       "      <th>13</th>\n",
       "      <td>1512</td>\n",
       "      <td>Ratxa màxima diària del vent 10 m + hora</td>\n",
       "      <td>m/s</td>\n",
       "      <td>VVX10</td>\n",
       "    </tr>\n",
       "    <tr>\n",
       "      <th>14</th>\n",
       "      <td>1515</td>\n",
       "      <td>Direcció de la ratxa màx. diària de vent 10 m</td>\n",
       "      <td>°</td>\n",
       "      <td>DVVX10</td>\n",
       "    </tr>\n",
       "  </tbody>\n",
       "</table>\n",
       "</div>"
      ],
      "text/plain": [
       "    CODI_VARIABLE                                   NOM_VARIABLE UNITAT  \\\n",
       "0            1000                     Temperatura mitjana diària     °C   \n",
       "1            1001               Temperatura màxima diària + hora     °C   \n",
       "2            1002               Temperatura mínima diària + hora     °C   \n",
       "3            1100                Humitat relativa mitjana diària      %   \n",
       "4            1101          Humitat relativa màxima diària + data      %   \n",
       "5            1102          Humitat relativa mínima diària + data      %   \n",
       "6            1200             Pressió atmosfèrica mitjana diària    hPa   \n",
       "7            1201       Pressió atmosfèrica màxima diària + hora    hPa   \n",
       "8            1202       Pressió atmosfèrica mínima diària + hora    hPa   \n",
       "9            1300                  Precipitació acumulada diària     mm   \n",
       "10           1400                 Irradiació solar global diària  MJ/m2   \n",
       "11           1503  Velocitat mitjana diària del vent 10 m (esc.)    m/s   \n",
       "12           1509  Direcció mitjana diària del vent 10 m (m. 1)       °   \n",
       "13           1512      Ratxa màxima diària del vent 10 m + hora     m/s   \n",
       "14           1515  Direcció de la ratxa màx. diària de vent 10 m      °   \n",
       "\n",
       "   ACRÒNIM  \n",
       "0       TM  \n",
       "1       TX  \n",
       "2       TN  \n",
       "3      HRM  \n",
       "4      HRX  \n",
       "5      HRN  \n",
       "6       PM  \n",
       "7       PX  \n",
       "8       PN  \n",
       "9      PPT  \n",
       "10   RS24h  \n",
       "11   VVM10  \n",
       "12   DVM10  \n",
       "13   VVX10  \n",
       "14  DVVX10  "
      ]
     },
     "execution_count": 27,
     "metadata": {},
     "output_type": "execute_result"
    }
   ],
   "source": [
    "df_meteo_metadata"
   ]
  },
  {
   "cell_type": "code",
   "execution_count": 28,
   "id": "dae9383e",
   "metadata": {},
   "outputs": [],
   "source": [
    "df_estadistica_meteo_19_d5 = pd.read_csv('./Altres_dades/EstadísticsEstacionsMeteo/2019_d5_observatori_fabra.csv',sep=',')\n",
    "df_estadistica_meteo_19_x2 = pd.read_csv('./Altres_dades/EstadísticsEstacionsMeteo/2019_x2_barcelona_zoo.csv',sep=',')\n",
    "df_estadistica_meteo_19_x4 = pd.read_csv('./Altres_dades/EstadísticsEstacionsMeteo/2019_x4_barcelona_el_raval.csv',sep=',')\n",
    "df_estadistica_meteo_19_x8 = pd.read_csv('./Altres_dades/EstadísticsEstacionsMeteo/2019_x8_barcelona_zona_universitaria.csv',sep=',')"
   ]
  },
  {
   "cell_type": "code",
   "execution_count": 29,
   "id": "ddefd8de",
   "metadata": {},
   "outputs": [],
   "source": [
    "def convert_columns(data):\n",
    "    print(data.shape)\n",
    "    \n",
    "    data.rename(\n",
    "        columns={\n",
    "            'PPT24H':'PPT',\n",
    "            'DVX10':'DVVX10',\n",
    "            'RS24H':'RS24h',\n",
    "            'HPA':'PM'\n",
    "        },\n",
    "        inplace=True\n",
    "    )\n",
    "    \n",
    "    for acro in df_meteo_metadata['ACRÒNIM'].values:\n",
    "        if acro not in data.columns.values:\n",
    "            data[acro] = np.nan\n",
    "    \n",
    "    code = data.CODI_ESTACIO.unique().tolist().pop()\n",
    "    \n",
    "    data.drop('CODI_ESTACIO', axis=1, inplace=True)\n",
    "\n",
    "    data = data.set_index('DATA_LECTURA')\n",
    "\n",
    "    data.columns = [f'VALOR_{col}_{code}' for col in data.columns.values]\n",
    "\n",
    "    data = data.reset_index()\n",
    "\n",
    "    data['DATA_LECTURA'] = pd.to_datetime(data['DATA_LECTURA'], format='%d/%m/%Y')\n",
    "#     data['year'] = data['DATA_LECTURA'].dt.year\n",
    "    \n",
    "    print(data.shape)\n",
    "    \n",
    "    return data"
   ]
  },
  {
   "cell_type": "code",
   "execution_count": 30,
   "id": "3b1c1ff7",
   "metadata": {},
   "outputs": [
    {
     "name": "stdout",
     "output_type": "stream",
     "text": [
      "(8766, 13)\n",
      "(8766, 16)\n",
      "(4832, 6)\n",
      "(4832, 16)\n",
      "(4809, 13)\n",
      "(4809, 16)\n",
      "(4262, 13)\n",
      "(4262, 16)\n"
     ]
    }
   ],
   "source": [
    "df_estadistica_meteo_19_d5 = convert_columns(df_estadistica_meteo_19_d5)\n",
    "\n",
    "df_estadistica_meteo_19_x2 = convert_columns(df_estadistica_meteo_19_x2)\n",
    "\n",
    "df_estadistica_meteo_19_x4 = convert_columns(df_estadistica_meteo_19_x4)\n",
    "\n",
    "df_estadistica_meteo_19_x8 = convert_columns(df_estadistica_meteo_19_x8)"
   ]
  },
  {
   "cell_type": "code",
   "execution_count": 31,
   "id": "fcbce3b2",
   "metadata": {},
   "outputs": [],
   "source": [
    "df_estadistica_meteo_19 = pd.merge(\n",
    "    pd.merge(\n",
    "        df_estadistica_meteo_19_d5, df_estadistica_meteo_19_x2, \n",
    "        on='DATA_LECTURA',\n",
    "        how='outer',\n",
    "    ),\n",
    "    pd.merge(\n",
    "        df_estadistica_meteo_19_x4, df_estadistica_meteo_19_x8, \n",
    "        on='DATA_LECTURA',\n",
    "        how='outer',\n",
    "    ), \n",
    "    on='DATA_LECTURA',\n",
    "    how='outer',\n",
    ")\n"
   ]
  },
  {
   "cell_type": "code",
   "execution_count": 32,
   "id": "4c12262c",
   "metadata": {},
   "outputs": [],
   "source": [
    "df_estadistica_meteo_19['year'] = df_estadistica_meteo_19['DATA_LECTURA'].dt.year\n",
    "\n",
    "df_estadistica_meteo_19 = df_estadistica_meteo_19[df_estadistica_meteo_19.year.isin([2019])]"
   ]
  },
  {
   "cell_type": "code",
   "execution_count": 33,
   "id": "00b0cc63",
   "metadata": {},
   "outputs": [],
   "source": [
    "df_estadistica_meteo_20 = pd.read_csv('./Altres_dades/EstadísticsEstacionsMeteo/2020_MeteoCat_Detall_Estacions.csv',sep=',')\n",
    "df_estadistica_meteo_21 = pd.read_csv('./Altres_dades/EstadísticsEstacionsMeteo/2021_MeteoCat_Detall_Estacions.csv',sep=',')\n",
    "df_estadistica_meteo_22 = pd.read_csv('./Altres_dades/EstadísticsEstacionsMeteo/2022_MeteoCat_Detall_Estacions.csv',sep=',')\n",
    "df_estadistica_meteo_23 = pd.read_csv('./Altres_dades/EstadísticsEstacionsMeteo/2023_MeteoCat_Detall_Estacions.csv',sep=',')\n"
   ]
  },
  {
   "cell_type": "code",
   "execution_count": 34,
   "id": "c99ddb09",
   "metadata": {},
   "outputs": [
    {
     "name": "stdout",
     "output_type": "stream",
     "text": [
      "(18637, 4)\n",
      "(18615, 4)\n",
      "(18605, 4)\n",
      "(8007, 4)\n",
      "(63864, 4)\n",
      "is there duplicates:  False\n",
      "(1253, 62)\n",
      "CPU times: user 35.5 ms, sys: 7.97 ms, total: 43.5 ms\n",
      "Wall time: 38.6 ms\n"
     ]
    }
   ],
   "source": [
    "%%time \n",
    "\n",
    "df_estadistica_meteo_20.drop('DATA_EXTREM', axis=1, inplace=True)\n",
    "print(df_estadistica_meteo_20.shape)\n",
    "\n",
    "df_estadistica_meteo_21.drop('DATA_EXTREM', axis=1, inplace=True)\n",
    "print(df_estadistica_meteo_21.shape)\n",
    "\n",
    "df_estadistica_meteo_22.drop('DATA_EXTREM', axis=1, inplace=True)\n",
    "print(df_estadistica_meteo_22.shape)\n",
    "\n",
    "df_estadistica_meteo_23.drop('DATA_EXTREM', axis=1, inplace=True)\n",
    "print(df_estadistica_meteo_23.shape)\n",
    "\n",
    "df_20_21_22_23 = pd.concat([df_estadistica_meteo_20, df_estadistica_meteo_21, df_estadistica_meteo_22, df_estadistica_meteo_23])\n",
    "print(df_20_21_22_23.shape)\n",
    "#change indexing \n",
    "df_20_21_22_23 = pd.DataFrame(df_20_21_22_23.set_index(['ACRÒNIM', 'DATA_LECTURA', 'CODI_ESTACIO']).unstack(['ACRÒNIM']))\n",
    "df_20_21_22_23 = df_20_21_22_23.reindex()\n",
    "df_20_21_22_23 = df_20_21_22_23.unstack()\n",
    "df_20_21_22_23.columns = ['_'.join(col) for col in df_20_21_22_23.columns.values]\n",
    "df_20_21_22_23 = df_20_21_22_23.reset_index()\n",
    "\n",
    "df_20_21_22_23['DATA_LECTURA'] = pd.to_datetime(df_20_21_22_23['DATA_LECTURA'], format='%Y-%m-%d')\n",
    "df_20_21_22_23['year'] = df_20_21_22_23['DATA_LECTURA'].dt.year\n",
    "\n",
    "# checking duplicates \n",
    "print('is there duplicates: ', (df_20_21_22_23.groupby('DATA_LECTURA').count().reset_index().VALOR_DVM10_D5 > 1 ).any())\n",
    "\n",
    "print(df_20_21_22_23.shape)"
   ]
  },
  {
   "cell_type": "code",
   "execution_count": 35,
   "id": "e9bf4bee",
   "metadata": {},
   "outputs": [],
   "source": [
    "df_estadistica_meteo = pd.concat([df_estadistica_meteo_19, df_20_21_22_23])"
   ]
  },
  {
   "cell_type": "code",
   "execution_count": 36,
   "id": "e8800ba3",
   "metadata": {},
   "outputs": [
    {
     "data": {
      "text/html": [
       "<div>\n",
       "<style scoped>\n",
       "    .dataframe tbody tr th:only-of-type {\n",
       "        vertical-align: middle;\n",
       "    }\n",
       "\n",
       "    .dataframe tbody tr th {\n",
       "        vertical-align: top;\n",
       "    }\n",
       "\n",
       "    .dataframe thead th {\n",
       "        text-align: right;\n",
       "    }\n",
       "</style>\n",
       "<table border=\"1\" class=\"dataframe\">\n",
       "  <thead>\n",
       "    <tr style=\"text-align: right;\">\n",
       "      <th></th>\n",
       "      <th>DATA_LECTURA</th>\n",
       "      <th>VALOR_TM_D5</th>\n",
       "      <th>VALOR_TX_D5</th>\n",
       "      <th>VALOR_TN_D5</th>\n",
       "      <th>VALOR_HRM_D5</th>\n",
       "      <th>VALOR_PPT_D5</th>\n",
       "      <th>VALOR_PM_D5</th>\n",
       "      <th>VALOR_RS24h_D5</th>\n",
       "      <th>VALOR_VVM10_D5</th>\n",
       "      <th>VALOR_DVM10_D5</th>\n",
       "      <th>VALOR_VVX10_D5</th>\n",
       "      <th>VALOR_DVVX10_D5</th>\n",
       "      <th>VALOR_HRX_D5</th>\n",
       "      <th>VALOR_HRN_D5</th>\n",
       "      <th>VALOR_PX_D5</th>\n",
       "      <th>VALOR_PN_D5</th>\n",
       "      <th>VALOR_TM_X2</th>\n",
       "      <th>VALOR_TX_X2</th>\n",
       "      <th>VALOR_TN_X2</th>\n",
       "      <th>VALOR_HRM_X2</th>\n",
       "      <th>VALOR_HRX_X2</th>\n",
       "      <th>VALOR_HRN_X2</th>\n",
       "      <th>VALOR_PM_X2</th>\n",
       "      <th>VALOR_PX_X2</th>\n",
       "      <th>VALOR_PN_X2</th>\n",
       "      <th>VALOR_PPT_X2</th>\n",
       "      <th>VALOR_RS24h_X2</th>\n",
       "      <th>VALOR_VVM10_X2</th>\n",
       "      <th>VALOR_DVM10_X2</th>\n",
       "      <th>VALOR_VVX10_X2</th>\n",
       "      <th>VALOR_DVVX10_X2</th>\n",
       "      <th>VALOR_TM_X4</th>\n",
       "      <th>VALOR_TX_X4</th>\n",
       "      <th>VALOR_TN_X4</th>\n",
       "      <th>VALOR_HRM_X4</th>\n",
       "      <th>VALOR_PPT_X4</th>\n",
       "      <th>VALOR_PM_X4</th>\n",
       "      <th>VALOR_RS24h_X4</th>\n",
       "      <th>VALOR_VVM10_X4</th>\n",
       "      <th>VALOR_DVM10_X4</th>\n",
       "      <th>VALOR_VVX10_X4</th>\n",
       "      <th>VALOR_DVVX10_X4</th>\n",
       "      <th>VALOR_HRX_X4</th>\n",
       "      <th>VALOR_HRN_X4</th>\n",
       "      <th>VALOR_PX_X4</th>\n",
       "      <th>VALOR_PN_X4</th>\n",
       "      <th>VALOR_TM_X8</th>\n",
       "      <th>VALOR_TX_X8</th>\n",
       "      <th>VALOR_TN_X8</th>\n",
       "      <th>VALOR_HRM_X8</th>\n",
       "      <th>VALOR_PPT_X8</th>\n",
       "      <th>VALOR_PM_X8</th>\n",
       "      <th>VALOR_RS24h_X8</th>\n",
       "      <th>VALOR_VVM10_X8</th>\n",
       "      <th>VALOR_DVM10_X8</th>\n",
       "      <th>VALOR_VVX10_X8</th>\n",
       "      <th>VALOR_DVVX10_X8</th>\n",
       "      <th>VALOR_HRX_X8</th>\n",
       "      <th>VALOR_HRN_X8</th>\n",
       "      <th>VALOR_PX_X8</th>\n",
       "      <th>VALOR_PN_X8</th>\n",
       "      <th>year</th>\n",
       "    </tr>\n",
       "  </thead>\n",
       "  <tbody>\n",
       "    <tr>\n",
       "      <th>8401</th>\n",
       "      <td>2019-01-01</td>\n",
       "      <td>10.5</td>\n",
       "      <td>14.4</td>\n",
       "      <td>7.8</td>\n",
       "      <td>73.0</td>\n",
       "      <td>0.0</td>\n",
       "      <td>979.6</td>\n",
       "      <td>5.4</td>\n",
       "      <td>3.8</td>\n",
       "      <td>339.0</td>\n",
       "      <td>15.8</td>\n",
       "      <td>315.0</td>\n",
       "      <td>NaN</td>\n",
       "      <td>NaN</td>\n",
       "      <td>NaN</td>\n",
       "      <td>NaN</td>\n",
       "      <td>9.9</td>\n",
       "      <td>15.4</td>\n",
       "      <td>4.9</td>\n",
       "      <td>79.0</td>\n",
       "      <td>NaN</td>\n",
       "      <td>NaN</td>\n",
       "      <td>NaN</td>\n",
       "      <td>NaN</td>\n",
       "      <td>NaN</td>\n",
       "      <td>NaN</td>\n",
       "      <td>NaN</td>\n",
       "      <td>NaN</td>\n",
       "      <td>NaN</td>\n",
       "      <td>NaN</td>\n",
       "      <td>NaN</td>\n",
       "      <td>12.3</td>\n",
       "      <td>16.0</td>\n",
       "      <td>8.4</td>\n",
       "      <td>66.0</td>\n",
       "      <td>0.0</td>\n",
       "      <td>1024.5</td>\n",
       "      <td>8.2</td>\n",
       "      <td>1.3</td>\n",
       "      <td>307.0</td>\n",
       "      <td>7.9</td>\n",
       "      <td>301.0</td>\n",
       "      <td>NaN</td>\n",
       "      <td>NaN</td>\n",
       "      <td>NaN</td>\n",
       "      <td>NaN</td>\n",
       "      <td>11.2</td>\n",
       "      <td>17.0</td>\n",
       "      <td>7.0</td>\n",
       "      <td>71.0</td>\n",
       "      <td>0.0</td>\n",
       "      <td>1019.0</td>\n",
       "      <td>7.4</td>\n",
       "      <td>1.4</td>\n",
       "      <td>311.0</td>\n",
       "      <td>9.0</td>\n",
       "      <td>303.0</td>\n",
       "      <td>NaN</td>\n",
       "      <td>NaN</td>\n",
       "      <td>NaN</td>\n",
       "      <td>NaN</td>\n",
       "      <td>2019</td>\n",
       "    </tr>\n",
       "    <tr>\n",
       "      <th>8402</th>\n",
       "      <td>2019-01-02</td>\n",
       "      <td>8.9</td>\n",
       "      <td>12.9</td>\n",
       "      <td>5.9</td>\n",
       "      <td>48.0</td>\n",
       "      <td>0.0</td>\n",
       "      <td>976.5</td>\n",
       "      <td>9.4</td>\n",
       "      <td>8.3</td>\n",
       "      <td>324.0</td>\n",
       "      <td>17.3</td>\n",
       "      <td>318.0</td>\n",
       "      <td>NaN</td>\n",
       "      <td>NaN</td>\n",
       "      <td>NaN</td>\n",
       "      <td>NaN</td>\n",
       "      <td>8.8</td>\n",
       "      <td>14.5</td>\n",
       "      <td>5.1</td>\n",
       "      <td>63.0</td>\n",
       "      <td>NaN</td>\n",
       "      <td>NaN</td>\n",
       "      <td>NaN</td>\n",
       "      <td>NaN</td>\n",
       "      <td>NaN</td>\n",
       "      <td>NaN</td>\n",
       "      <td>NaN</td>\n",
       "      <td>NaN</td>\n",
       "      <td>NaN</td>\n",
       "      <td>NaN</td>\n",
       "      <td>NaN</td>\n",
       "      <td>11.2</td>\n",
       "      <td>16.3</td>\n",
       "      <td>8.1</td>\n",
       "      <td>47.0</td>\n",
       "      <td>0.0</td>\n",
       "      <td>1021.4</td>\n",
       "      <td>9.2</td>\n",
       "      <td>1.0</td>\n",
       "      <td>280.0</td>\n",
       "      <td>6.3</td>\n",
       "      <td>309.0</td>\n",
       "      <td>NaN</td>\n",
       "      <td>NaN</td>\n",
       "      <td>NaN</td>\n",
       "      <td>NaN</td>\n",
       "      <td>9.5</td>\n",
       "      <td>15.3</td>\n",
       "      <td>5.7</td>\n",
       "      <td>52.0</td>\n",
       "      <td>0.0</td>\n",
       "      <td>1015.9</td>\n",
       "      <td>9.1</td>\n",
       "      <td>1.7</td>\n",
       "      <td>293.0</td>\n",
       "      <td>10.2</td>\n",
       "      <td>304.0</td>\n",
       "      <td>NaN</td>\n",
       "      <td>NaN</td>\n",
       "      <td>NaN</td>\n",
       "      <td>NaN</td>\n",
       "      <td>2019</td>\n",
       "    </tr>\n",
       "    <tr>\n",
       "      <th>8403</th>\n",
       "      <td>2019-01-03</td>\n",
       "      <td>8.3</td>\n",
       "      <td>12.6</td>\n",
       "      <td>4.9</td>\n",
       "      <td>59.0</td>\n",
       "      <td>0.0</td>\n",
       "      <td>979.0</td>\n",
       "      <td>9.1</td>\n",
       "      <td>4.0</td>\n",
       "      <td>279.0</td>\n",
       "      <td>9.9</td>\n",
       "      <td>313.0</td>\n",
       "      <td>NaN</td>\n",
       "      <td>NaN</td>\n",
       "      <td>NaN</td>\n",
       "      <td>NaN</td>\n",
       "      <td>7.6</td>\n",
       "      <td>13.0</td>\n",
       "      <td>4.1</td>\n",
       "      <td>69.0</td>\n",
       "      <td>NaN</td>\n",
       "      <td>NaN</td>\n",
       "      <td>NaN</td>\n",
       "      <td>NaN</td>\n",
       "      <td>NaN</td>\n",
       "      <td>NaN</td>\n",
       "      <td>NaN</td>\n",
       "      <td>NaN</td>\n",
       "      <td>NaN</td>\n",
       "      <td>NaN</td>\n",
       "      <td>NaN</td>\n",
       "      <td>10.3</td>\n",
       "      <td>13.7</td>\n",
       "      <td>7.5</td>\n",
       "      <td>53.0</td>\n",
       "      <td>0.0</td>\n",
       "      <td>1024.3</td>\n",
       "      <td>8.9</td>\n",
       "      <td>1.1</td>\n",
       "      <td>264.0</td>\n",
       "      <td>4.6</td>\n",
       "      <td>263.0</td>\n",
       "      <td>NaN</td>\n",
       "      <td>NaN</td>\n",
       "      <td>NaN</td>\n",
       "      <td>NaN</td>\n",
       "      <td>8.8</td>\n",
       "      <td>13.4</td>\n",
       "      <td>4.4</td>\n",
       "      <td>59.0</td>\n",
       "      <td>0.0</td>\n",
       "      <td>1018.7</td>\n",
       "      <td>8.8</td>\n",
       "      <td>1.3</td>\n",
       "      <td>277.0</td>\n",
       "      <td>6.0</td>\n",
       "      <td>306.0</td>\n",
       "      <td>NaN</td>\n",
       "      <td>NaN</td>\n",
       "      <td>NaN</td>\n",
       "      <td>NaN</td>\n",
       "      <td>2019</td>\n",
       "    </tr>\n",
       "    <tr>\n",
       "      <th>8404</th>\n",
       "      <td>2019-01-04</td>\n",
       "      <td>7.2</td>\n",
       "      <td>11.3</td>\n",
       "      <td>5.3</td>\n",
       "      <td>69.0</td>\n",
       "      <td>0.0</td>\n",
       "      <td>980.6</td>\n",
       "      <td>8.0</td>\n",
       "      <td>2.0</td>\n",
       "      <td>205.0</td>\n",
       "      <td>7.8</td>\n",
       "      <td>290.0</td>\n",
       "      <td>NaN</td>\n",
       "      <td>NaN</td>\n",
       "      <td>NaN</td>\n",
       "      <td>NaN</td>\n",
       "      <td>7.0</td>\n",
       "      <td>11.7</td>\n",
       "      <td>3.3</td>\n",
       "      <td>73.0</td>\n",
       "      <td>NaN</td>\n",
       "      <td>NaN</td>\n",
       "      <td>NaN</td>\n",
       "      <td>NaN</td>\n",
       "      <td>NaN</td>\n",
       "      <td>NaN</td>\n",
       "      <td>NaN</td>\n",
       "      <td>NaN</td>\n",
       "      <td>NaN</td>\n",
       "      <td>NaN</td>\n",
       "      <td>NaN</td>\n",
       "      <td>9.4</td>\n",
       "      <td>12.3</td>\n",
       "      <td>6.4</td>\n",
       "      <td>59.0</td>\n",
       "      <td>0.0</td>\n",
       "      <td>1026.1</td>\n",
       "      <td>7.9</td>\n",
       "      <td>0.9</td>\n",
       "      <td>94.0</td>\n",
       "      <td>4.8</td>\n",
       "      <td>80.0</td>\n",
       "      <td>NaN</td>\n",
       "      <td>NaN</td>\n",
       "      <td>NaN</td>\n",
       "      <td>NaN</td>\n",
       "      <td>7.0</td>\n",
       "      <td>12.6</td>\n",
       "      <td>2.6</td>\n",
       "      <td>70.0</td>\n",
       "      <td>0.0</td>\n",
       "      <td>1020.5</td>\n",
       "      <td>7.7</td>\n",
       "      <td>1.2</td>\n",
       "      <td>292.0</td>\n",
       "      <td>4.1</td>\n",
       "      <td>164.0</td>\n",
       "      <td>NaN</td>\n",
       "      <td>NaN</td>\n",
       "      <td>NaN</td>\n",
       "      <td>NaN</td>\n",
       "      <td>2019</td>\n",
       "    </tr>\n",
       "    <tr>\n",
       "      <th>8405</th>\n",
       "      <td>2019-01-05</td>\n",
       "      <td>9.1</td>\n",
       "      <td>15.2</td>\n",
       "      <td>3.2</td>\n",
       "      <td>47.0</td>\n",
       "      <td>0.0</td>\n",
       "      <td>978.6</td>\n",
       "      <td>9.3</td>\n",
       "      <td>10.0</td>\n",
       "      <td>326.0</td>\n",
       "      <td>17.0</td>\n",
       "      <td>317.0</td>\n",
       "      <td>NaN</td>\n",
       "      <td>NaN</td>\n",
       "      <td>NaN</td>\n",
       "      <td>NaN</td>\n",
       "      <td>8.5</td>\n",
       "      <td>15.3</td>\n",
       "      <td>4.4</td>\n",
       "      <td>63.0</td>\n",
       "      <td>NaN</td>\n",
       "      <td>NaN</td>\n",
       "      <td>NaN</td>\n",
       "      <td>NaN</td>\n",
       "      <td>NaN</td>\n",
       "      <td>NaN</td>\n",
       "      <td>NaN</td>\n",
       "      <td>NaN</td>\n",
       "      <td>NaN</td>\n",
       "      <td>NaN</td>\n",
       "      <td>NaN</td>\n",
       "      <td>10.9</td>\n",
       "      <td>16.3</td>\n",
       "      <td>6.8</td>\n",
       "      <td>45.0</td>\n",
       "      <td>0.0</td>\n",
       "      <td>1023.6</td>\n",
       "      <td>9.2</td>\n",
       "      <td>2.0</td>\n",
       "      <td>282.0</td>\n",
       "      <td>7.5</td>\n",
       "      <td>267.0</td>\n",
       "      <td>NaN</td>\n",
       "      <td>NaN</td>\n",
       "      <td>NaN</td>\n",
       "      <td>NaN</td>\n",
       "      <td>9.4</td>\n",
       "      <td>14.1</td>\n",
       "      <td>5.4</td>\n",
       "      <td>50.0</td>\n",
       "      <td>0.0</td>\n",
       "      <td>1018.1</td>\n",
       "      <td>9.2</td>\n",
       "      <td>3.1</td>\n",
       "      <td>296.0</td>\n",
       "      <td>10.8</td>\n",
       "      <td>307.0</td>\n",
       "      <td>NaN</td>\n",
       "      <td>NaN</td>\n",
       "      <td>NaN</td>\n",
       "      <td>NaN</td>\n",
       "      <td>2019</td>\n",
       "    </tr>\n",
       "    <tr>\n",
       "      <th>...</th>\n",
       "      <td>...</td>\n",
       "      <td>...</td>\n",
       "      <td>...</td>\n",
       "      <td>...</td>\n",
       "      <td>...</td>\n",
       "      <td>...</td>\n",
       "      <td>...</td>\n",
       "      <td>...</td>\n",
       "      <td>...</td>\n",
       "      <td>...</td>\n",
       "      <td>...</td>\n",
       "      <td>...</td>\n",
       "      <td>...</td>\n",
       "      <td>...</td>\n",
       "      <td>...</td>\n",
       "      <td>...</td>\n",
       "      <td>...</td>\n",
       "      <td>...</td>\n",
       "      <td>...</td>\n",
       "      <td>...</td>\n",
       "      <td>...</td>\n",
       "      <td>...</td>\n",
       "      <td>...</td>\n",
       "      <td>...</td>\n",
       "      <td>...</td>\n",
       "      <td>...</td>\n",
       "      <td>...</td>\n",
       "      <td>...</td>\n",
       "      <td>...</td>\n",
       "      <td>...</td>\n",
       "      <td>...</td>\n",
       "      <td>...</td>\n",
       "      <td>...</td>\n",
       "      <td>...</td>\n",
       "      <td>...</td>\n",
       "      <td>...</td>\n",
       "      <td>...</td>\n",
       "      <td>...</td>\n",
       "      <td>...</td>\n",
       "      <td>...</td>\n",
       "      <td>...</td>\n",
       "      <td>...</td>\n",
       "      <td>...</td>\n",
       "      <td>...</td>\n",
       "      <td>...</td>\n",
       "      <td>...</td>\n",
       "      <td>...</td>\n",
       "      <td>...</td>\n",
       "      <td>...</td>\n",
       "      <td>...</td>\n",
       "      <td>...</td>\n",
       "      <td>...</td>\n",
       "      <td>...</td>\n",
       "      <td>...</td>\n",
       "      <td>...</td>\n",
       "      <td>...</td>\n",
       "      <td>...</td>\n",
       "      <td>...</td>\n",
       "      <td>...</td>\n",
       "      <td>...</td>\n",
       "      <td>...</td>\n",
       "      <td>...</td>\n",
       "    </tr>\n",
       "    <tr>\n",
       "      <th>1248</th>\n",
       "      <td>2023-06-02</td>\n",
       "      <td>18.9</td>\n",
       "      <td>24.7</td>\n",
       "      <td>15.4</td>\n",
       "      <td>80.0</td>\n",
       "      <td>0.0</td>\n",
       "      <td>966.5</td>\n",
       "      <td>24.3</td>\n",
       "      <td>2.0</td>\n",
       "      <td>202.0</td>\n",
       "      <td>7.1</td>\n",
       "      <td>157.0</td>\n",
       "      <td>100.0</td>\n",
       "      <td>56.0</td>\n",
       "      <td>967.5</td>\n",
       "      <td>965.2</td>\n",
       "      <td>20.1</td>\n",
       "      <td>24.1</td>\n",
       "      <td>16.9</td>\n",
       "      <td>79.0</td>\n",
       "      <td>93.0</td>\n",
       "      <td>62.0</td>\n",
       "      <td>NaN</td>\n",
       "      <td>NaN</td>\n",
       "      <td>NaN</td>\n",
       "      <td>NaN</td>\n",
       "      <td>NaN</td>\n",
       "      <td>NaN</td>\n",
       "      <td>NaN</td>\n",
       "      <td>NaN</td>\n",
       "      <td>NaN</td>\n",
       "      <td>20.8</td>\n",
       "      <td>23.2</td>\n",
       "      <td>18.2</td>\n",
       "      <td>74.0</td>\n",
       "      <td>0.0</td>\n",
       "      <td>1010.0</td>\n",
       "      <td>24.9</td>\n",
       "      <td>1.7</td>\n",
       "      <td>159.0</td>\n",
       "      <td>5.9</td>\n",
       "      <td>152.0</td>\n",
       "      <td>92.0</td>\n",
       "      <td>55.0</td>\n",
       "      <td>1011.0</td>\n",
       "      <td>1008.6</td>\n",
       "      <td>20.6</td>\n",
       "      <td>25.2</td>\n",
       "      <td>15.8</td>\n",
       "      <td>77.0</td>\n",
       "      <td>0.0</td>\n",
       "      <td>1004.4</td>\n",
       "      <td>23.5</td>\n",
       "      <td>1.5</td>\n",
       "      <td>207.0</td>\n",
       "      <td>6.1</td>\n",
       "      <td>174.0</td>\n",
       "      <td>99.0</td>\n",
       "      <td>54.0</td>\n",
       "      <td>1005.4</td>\n",
       "      <td>1003.0</td>\n",
       "      <td>2023</td>\n",
       "    </tr>\n",
       "    <tr>\n",
       "      <th>1249</th>\n",
       "      <td>2023-06-03</td>\n",
       "      <td>18.2</td>\n",
       "      <td>22.8</td>\n",
       "      <td>15.3</td>\n",
       "      <td>86.0</td>\n",
       "      <td>0.1</td>\n",
       "      <td>966.9</td>\n",
       "      <td>15.4</td>\n",
       "      <td>1.8</td>\n",
       "      <td>190.0</td>\n",
       "      <td>6.9</td>\n",
       "      <td>151.0</td>\n",
       "      <td>100.0</td>\n",
       "      <td>65.0</td>\n",
       "      <td>968.0</td>\n",
       "      <td>965.4</td>\n",
       "      <td>20.3</td>\n",
       "      <td>22.7</td>\n",
       "      <td>17.6</td>\n",
       "      <td>81.0</td>\n",
       "      <td>91.0</td>\n",
       "      <td>66.0</td>\n",
       "      <td>NaN</td>\n",
       "      <td>NaN</td>\n",
       "      <td>NaN</td>\n",
       "      <td>NaN</td>\n",
       "      <td>NaN</td>\n",
       "      <td>NaN</td>\n",
       "      <td>NaN</td>\n",
       "      <td>NaN</td>\n",
       "      <td>NaN</td>\n",
       "      <td>20.8</td>\n",
       "      <td>22.8</td>\n",
       "      <td>18.9</td>\n",
       "      <td>76.0</td>\n",
       "      <td>0.0</td>\n",
       "      <td>1010.5</td>\n",
       "      <td>18.2</td>\n",
       "      <td>1.6</td>\n",
       "      <td>149.0</td>\n",
       "      <td>6.6</td>\n",
       "      <td>174.0</td>\n",
       "      <td>91.0</td>\n",
       "      <td>59.0</td>\n",
       "      <td>1011.7</td>\n",
       "      <td>1009.0</td>\n",
       "      <td>20.5</td>\n",
       "      <td>25.3</td>\n",
       "      <td>16.9</td>\n",
       "      <td>78.0</td>\n",
       "      <td>0.0</td>\n",
       "      <td>1004.8</td>\n",
       "      <td>16.2</td>\n",
       "      <td>1.4</td>\n",
       "      <td>170.0</td>\n",
       "      <td>6.9</td>\n",
       "      <td>181.0</td>\n",
       "      <td>100.0</td>\n",
       "      <td>58.0</td>\n",
       "      <td>1006.1</td>\n",
       "      <td>1003.4</td>\n",
       "      <td>2023</td>\n",
       "    </tr>\n",
       "    <tr>\n",
       "      <th>1250</th>\n",
       "      <td>2023-06-04</td>\n",
       "      <td>19.1</td>\n",
       "      <td>25.7</td>\n",
       "      <td>16.2</td>\n",
       "      <td>82.0</td>\n",
       "      <td>0.0</td>\n",
       "      <td>967.8</td>\n",
       "      <td>21.6</td>\n",
       "      <td>1.8</td>\n",
       "      <td>184.0</td>\n",
       "      <td>7.0</td>\n",
       "      <td>167.0</td>\n",
       "      <td>100.0</td>\n",
       "      <td>51.0</td>\n",
       "      <td>969.0</td>\n",
       "      <td>966.6</td>\n",
       "      <td>20.5</td>\n",
       "      <td>24.5</td>\n",
       "      <td>17.9</td>\n",
       "      <td>81.0</td>\n",
       "      <td>91.0</td>\n",
       "      <td>69.0</td>\n",
       "      <td>NaN</td>\n",
       "      <td>NaN</td>\n",
       "      <td>NaN</td>\n",
       "      <td>NaN</td>\n",
       "      <td>NaN</td>\n",
       "      <td>NaN</td>\n",
       "      <td>NaN</td>\n",
       "      <td>NaN</td>\n",
       "      <td>NaN</td>\n",
       "      <td>21.0</td>\n",
       "      <td>23.9</td>\n",
       "      <td>18.9</td>\n",
       "      <td>76.0</td>\n",
       "      <td>0.0</td>\n",
       "      <td>1011.4</td>\n",
       "      <td>23.8</td>\n",
       "      <td>1.6</td>\n",
       "      <td>127.0</td>\n",
       "      <td>6.3</td>\n",
       "      <td>101.0</td>\n",
       "      <td>93.0</td>\n",
       "      <td>62.0</td>\n",
       "      <td>1012.6</td>\n",
       "      <td>1010.2</td>\n",
       "      <td>20.8</td>\n",
       "      <td>25.9</td>\n",
       "      <td>17.2</td>\n",
       "      <td>77.0</td>\n",
       "      <td>0.0</td>\n",
       "      <td>1005.7</td>\n",
       "      <td>22.5</td>\n",
       "      <td>1.4</td>\n",
       "      <td>176.0</td>\n",
       "      <td>6.3</td>\n",
       "      <td>132.0</td>\n",
       "      <td>99.0</td>\n",
       "      <td>51.0</td>\n",
       "      <td>1007.0</td>\n",
       "      <td>1004.6</td>\n",
       "      <td>2023</td>\n",
       "    </tr>\n",
       "    <tr>\n",
       "      <th>1251</th>\n",
       "      <td>2023-06-05</td>\n",
       "      <td>19.9</td>\n",
       "      <td>25.5</td>\n",
       "      <td>15.9</td>\n",
       "      <td>75.0</td>\n",
       "      <td>0.0</td>\n",
       "      <td>968.0</td>\n",
       "      <td>26.1</td>\n",
       "      <td>3.3</td>\n",
       "      <td>239.0</td>\n",
       "      <td>8.9</td>\n",
       "      <td>191.0</td>\n",
       "      <td>99.0</td>\n",
       "      <td>52.0</td>\n",
       "      <td>968.8</td>\n",
       "      <td>966.9</td>\n",
       "      <td>21.5</td>\n",
       "      <td>25.7</td>\n",
       "      <td>17.3</td>\n",
       "      <td>75.0</td>\n",
       "      <td>91.0</td>\n",
       "      <td>62.0</td>\n",
       "      <td>NaN</td>\n",
       "      <td>NaN</td>\n",
       "      <td>NaN</td>\n",
       "      <td>NaN</td>\n",
       "      <td>NaN</td>\n",
       "      <td>NaN</td>\n",
       "      <td>NaN</td>\n",
       "      <td>NaN</td>\n",
       "      <td>NaN</td>\n",
       "      <td>22.0</td>\n",
       "      <td>24.6</td>\n",
       "      <td>18.9</td>\n",
       "      <td>67.0</td>\n",
       "      <td>0.0</td>\n",
       "      <td>1011.5</td>\n",
       "      <td>28.6</td>\n",
       "      <td>1.8</td>\n",
       "      <td>193.0</td>\n",
       "      <td>7.7</td>\n",
       "      <td>155.0</td>\n",
       "      <td>80.0</td>\n",
       "      <td>56.0</td>\n",
       "      <td>1012.4</td>\n",
       "      <td>1010.0</td>\n",
       "      <td>21.8</td>\n",
       "      <td>26.5</td>\n",
       "      <td>16.7</td>\n",
       "      <td>70.0</td>\n",
       "      <td>0.0</td>\n",
       "      <td>1005.9</td>\n",
       "      <td>27.7</td>\n",
       "      <td>1.7</td>\n",
       "      <td>220.0</td>\n",
       "      <td>7.2</td>\n",
       "      <td>209.0</td>\n",
       "      <td>95.0</td>\n",
       "      <td>51.0</td>\n",
       "      <td>1006.8</td>\n",
       "      <td>1004.7</td>\n",
       "      <td>2023</td>\n",
       "    </tr>\n",
       "    <tr>\n",
       "      <th>1252</th>\n",
       "      <td>2023-06-06</td>\n",
       "      <td>20.3</td>\n",
       "      <td>25.6</td>\n",
       "      <td>16.6</td>\n",
       "      <td>75.0</td>\n",
       "      <td>0.0</td>\n",
       "      <td>968.1</td>\n",
       "      <td>30.9</td>\n",
       "      <td>4.4</td>\n",
       "      <td>244.0</td>\n",
       "      <td>10.2</td>\n",
       "      <td>198.0</td>\n",
       "      <td>99.0</td>\n",
       "      <td>49.0</td>\n",
       "      <td>969.1</td>\n",
       "      <td>967.1</td>\n",
       "      <td>22.5</td>\n",
       "      <td>26.2</td>\n",
       "      <td>18.7</td>\n",
       "      <td>73.0</td>\n",
       "      <td>83.0</td>\n",
       "      <td>59.0</td>\n",
       "      <td>NaN</td>\n",
       "      <td>NaN</td>\n",
       "      <td>NaN</td>\n",
       "      <td>NaN</td>\n",
       "      <td>NaN</td>\n",
       "      <td>NaN</td>\n",
       "      <td>NaN</td>\n",
       "      <td>NaN</td>\n",
       "      <td>NaN</td>\n",
       "      <td>23.0</td>\n",
       "      <td>26.3</td>\n",
       "      <td>20.2</td>\n",
       "      <td>66.0</td>\n",
       "      <td>0.0</td>\n",
       "      <td>1011.5</td>\n",
       "      <td>29.9</td>\n",
       "      <td>2.5</td>\n",
       "      <td>240.0</td>\n",
       "      <td>9.8</td>\n",
       "      <td>205.0</td>\n",
       "      <td>81.0</td>\n",
       "      <td>49.0</td>\n",
       "      <td>1012.6</td>\n",
       "      <td>1010.4</td>\n",
       "      <td>22.5</td>\n",
       "      <td>27.1</td>\n",
       "      <td>18.3</td>\n",
       "      <td>70.0</td>\n",
       "      <td>0.0</td>\n",
       "      <td>1005.9</td>\n",
       "      <td>29.5</td>\n",
       "      <td>2.4</td>\n",
       "      <td>238.0</td>\n",
       "      <td>9.4</td>\n",
       "      <td>207.0</td>\n",
       "      <td>88.0</td>\n",
       "      <td>51.0</td>\n",
       "      <td>1007.1</td>\n",
       "      <td>1005.0</td>\n",
       "      <td>2023</td>\n",
       "    </tr>\n",
       "  </tbody>\n",
       "</table>\n",
       "<p>1618 rows × 62 columns</p>\n",
       "</div>"
      ],
      "text/plain": [
       "     DATA_LECTURA  VALOR_TM_D5  VALOR_TX_D5  VALOR_TN_D5  VALOR_HRM_D5  \\\n",
       "8401   2019-01-01         10.5         14.4          7.8          73.0   \n",
       "8402   2019-01-02          8.9         12.9          5.9          48.0   \n",
       "8403   2019-01-03          8.3         12.6          4.9          59.0   \n",
       "8404   2019-01-04          7.2         11.3          5.3          69.0   \n",
       "8405   2019-01-05          9.1         15.2          3.2          47.0   \n",
       "...           ...          ...          ...          ...           ...   \n",
       "1248   2023-06-02         18.9         24.7         15.4          80.0   \n",
       "1249   2023-06-03         18.2         22.8         15.3          86.0   \n",
       "1250   2023-06-04         19.1         25.7         16.2          82.0   \n",
       "1251   2023-06-05         19.9         25.5         15.9          75.0   \n",
       "1252   2023-06-06         20.3         25.6         16.6          75.0   \n",
       "\n",
       "      VALOR_PPT_D5  VALOR_PM_D5  VALOR_RS24h_D5  VALOR_VVM10_D5  \\\n",
       "8401           0.0        979.6             5.4             3.8   \n",
       "8402           0.0        976.5             9.4             8.3   \n",
       "8403           0.0        979.0             9.1             4.0   \n",
       "8404           0.0        980.6             8.0             2.0   \n",
       "8405           0.0        978.6             9.3            10.0   \n",
       "...            ...          ...             ...             ...   \n",
       "1248           0.0        966.5            24.3             2.0   \n",
       "1249           0.1        966.9            15.4             1.8   \n",
       "1250           0.0        967.8            21.6             1.8   \n",
       "1251           0.0        968.0            26.1             3.3   \n",
       "1252           0.0        968.1            30.9             4.4   \n",
       "\n",
       "      VALOR_DVM10_D5  VALOR_VVX10_D5  VALOR_DVVX10_D5  VALOR_HRX_D5  \\\n",
       "8401           339.0            15.8            315.0           NaN   \n",
       "8402           324.0            17.3            318.0           NaN   \n",
       "8403           279.0             9.9            313.0           NaN   \n",
       "8404           205.0             7.8            290.0           NaN   \n",
       "8405           326.0            17.0            317.0           NaN   \n",
       "...              ...             ...              ...           ...   \n",
       "1248           202.0             7.1            157.0         100.0   \n",
       "1249           190.0             6.9            151.0         100.0   \n",
       "1250           184.0             7.0            167.0         100.0   \n",
       "1251           239.0             8.9            191.0          99.0   \n",
       "1252           244.0            10.2            198.0          99.0   \n",
       "\n",
       "      VALOR_HRN_D5  VALOR_PX_D5  VALOR_PN_D5  VALOR_TM_X2  VALOR_TX_X2  \\\n",
       "8401           NaN          NaN          NaN          9.9         15.4   \n",
       "8402           NaN          NaN          NaN          8.8         14.5   \n",
       "8403           NaN          NaN          NaN          7.6         13.0   \n",
       "8404           NaN          NaN          NaN          7.0         11.7   \n",
       "8405           NaN          NaN          NaN          8.5         15.3   \n",
       "...            ...          ...          ...          ...          ...   \n",
       "1248          56.0        967.5        965.2         20.1         24.1   \n",
       "1249          65.0        968.0        965.4         20.3         22.7   \n",
       "1250          51.0        969.0        966.6         20.5         24.5   \n",
       "1251          52.0        968.8        966.9         21.5         25.7   \n",
       "1252          49.0        969.1        967.1         22.5         26.2   \n",
       "\n",
       "      VALOR_TN_X2  VALOR_HRM_X2  VALOR_HRX_X2  VALOR_HRN_X2  VALOR_PM_X2  \\\n",
       "8401          4.9          79.0           NaN           NaN          NaN   \n",
       "8402          5.1          63.0           NaN           NaN          NaN   \n",
       "8403          4.1          69.0           NaN           NaN          NaN   \n",
       "8404          3.3          73.0           NaN           NaN          NaN   \n",
       "8405          4.4          63.0           NaN           NaN          NaN   \n",
       "...           ...           ...           ...           ...          ...   \n",
       "1248         16.9          79.0          93.0          62.0          NaN   \n",
       "1249         17.6          81.0          91.0          66.0          NaN   \n",
       "1250         17.9          81.0          91.0          69.0          NaN   \n",
       "1251         17.3          75.0          91.0          62.0          NaN   \n",
       "1252         18.7          73.0          83.0          59.0          NaN   \n",
       "\n",
       "      VALOR_PX_X2  VALOR_PN_X2  VALOR_PPT_X2  VALOR_RS24h_X2  VALOR_VVM10_X2  \\\n",
       "8401          NaN          NaN           NaN             NaN             NaN   \n",
       "8402          NaN          NaN           NaN             NaN             NaN   \n",
       "8403          NaN          NaN           NaN             NaN             NaN   \n",
       "8404          NaN          NaN           NaN             NaN             NaN   \n",
       "8405          NaN          NaN           NaN             NaN             NaN   \n",
       "...           ...          ...           ...             ...             ...   \n",
       "1248          NaN          NaN           NaN             NaN             NaN   \n",
       "1249          NaN          NaN           NaN             NaN             NaN   \n",
       "1250          NaN          NaN           NaN             NaN             NaN   \n",
       "1251          NaN          NaN           NaN             NaN             NaN   \n",
       "1252          NaN          NaN           NaN             NaN             NaN   \n",
       "\n",
       "      VALOR_DVM10_X2  VALOR_VVX10_X2  VALOR_DVVX10_X2  VALOR_TM_X4  \\\n",
       "8401             NaN             NaN              NaN         12.3   \n",
       "8402             NaN             NaN              NaN         11.2   \n",
       "8403             NaN             NaN              NaN         10.3   \n",
       "8404             NaN             NaN              NaN          9.4   \n",
       "8405             NaN             NaN              NaN         10.9   \n",
       "...              ...             ...              ...          ...   \n",
       "1248             NaN             NaN              NaN         20.8   \n",
       "1249             NaN             NaN              NaN         20.8   \n",
       "1250             NaN             NaN              NaN         21.0   \n",
       "1251             NaN             NaN              NaN         22.0   \n",
       "1252             NaN             NaN              NaN         23.0   \n",
       "\n",
       "      VALOR_TX_X4  VALOR_TN_X4  VALOR_HRM_X4  VALOR_PPT_X4  VALOR_PM_X4  \\\n",
       "8401         16.0          8.4          66.0           0.0       1024.5   \n",
       "8402         16.3          8.1          47.0           0.0       1021.4   \n",
       "8403         13.7          7.5          53.0           0.0       1024.3   \n",
       "8404         12.3          6.4          59.0           0.0       1026.1   \n",
       "8405         16.3          6.8          45.0           0.0       1023.6   \n",
       "...           ...          ...           ...           ...          ...   \n",
       "1248         23.2         18.2          74.0           0.0       1010.0   \n",
       "1249         22.8         18.9          76.0           0.0       1010.5   \n",
       "1250         23.9         18.9          76.0           0.0       1011.4   \n",
       "1251         24.6         18.9          67.0           0.0       1011.5   \n",
       "1252         26.3         20.2          66.0           0.0       1011.5   \n",
       "\n",
       "      VALOR_RS24h_X4  VALOR_VVM10_X4  VALOR_DVM10_X4  VALOR_VVX10_X4  \\\n",
       "8401             8.2             1.3           307.0             7.9   \n",
       "8402             9.2             1.0           280.0             6.3   \n",
       "8403             8.9             1.1           264.0             4.6   \n",
       "8404             7.9             0.9            94.0             4.8   \n",
       "8405             9.2             2.0           282.0             7.5   \n",
       "...              ...             ...             ...             ...   \n",
       "1248            24.9             1.7           159.0             5.9   \n",
       "1249            18.2             1.6           149.0             6.6   \n",
       "1250            23.8             1.6           127.0             6.3   \n",
       "1251            28.6             1.8           193.0             7.7   \n",
       "1252            29.9             2.5           240.0             9.8   \n",
       "\n",
       "      VALOR_DVVX10_X4  VALOR_HRX_X4  VALOR_HRN_X4  VALOR_PX_X4  VALOR_PN_X4  \\\n",
       "8401            301.0           NaN           NaN          NaN          NaN   \n",
       "8402            309.0           NaN           NaN          NaN          NaN   \n",
       "8403            263.0           NaN           NaN          NaN          NaN   \n",
       "8404             80.0           NaN           NaN          NaN          NaN   \n",
       "8405            267.0           NaN           NaN          NaN          NaN   \n",
       "...               ...           ...           ...          ...          ...   \n",
       "1248            152.0          92.0          55.0       1011.0       1008.6   \n",
       "1249            174.0          91.0          59.0       1011.7       1009.0   \n",
       "1250            101.0          93.0          62.0       1012.6       1010.2   \n",
       "1251            155.0          80.0          56.0       1012.4       1010.0   \n",
       "1252            205.0          81.0          49.0       1012.6       1010.4   \n",
       "\n",
       "      VALOR_TM_X8  VALOR_TX_X8  VALOR_TN_X8  VALOR_HRM_X8  VALOR_PPT_X8  \\\n",
       "8401         11.2         17.0          7.0          71.0           0.0   \n",
       "8402          9.5         15.3          5.7          52.0           0.0   \n",
       "8403          8.8         13.4          4.4          59.0           0.0   \n",
       "8404          7.0         12.6          2.6          70.0           0.0   \n",
       "8405          9.4         14.1          5.4          50.0           0.0   \n",
       "...           ...          ...          ...           ...           ...   \n",
       "1248         20.6         25.2         15.8          77.0           0.0   \n",
       "1249         20.5         25.3         16.9          78.0           0.0   \n",
       "1250         20.8         25.9         17.2          77.0           0.0   \n",
       "1251         21.8         26.5         16.7          70.0           0.0   \n",
       "1252         22.5         27.1         18.3          70.0           0.0   \n",
       "\n",
       "      VALOR_PM_X8  VALOR_RS24h_X8  VALOR_VVM10_X8  VALOR_DVM10_X8  \\\n",
       "8401       1019.0             7.4             1.4           311.0   \n",
       "8402       1015.9             9.1             1.7           293.0   \n",
       "8403       1018.7             8.8             1.3           277.0   \n",
       "8404       1020.5             7.7             1.2           292.0   \n",
       "8405       1018.1             9.2             3.1           296.0   \n",
       "...           ...             ...             ...             ...   \n",
       "1248       1004.4            23.5             1.5           207.0   \n",
       "1249       1004.8            16.2             1.4           170.0   \n",
       "1250       1005.7            22.5             1.4           176.0   \n",
       "1251       1005.9            27.7             1.7           220.0   \n",
       "1252       1005.9            29.5             2.4           238.0   \n",
       "\n",
       "      VALOR_VVX10_X8  VALOR_DVVX10_X8  VALOR_HRX_X8  VALOR_HRN_X8  \\\n",
       "8401             9.0            303.0           NaN           NaN   \n",
       "8402            10.2            304.0           NaN           NaN   \n",
       "8403             6.0            306.0           NaN           NaN   \n",
       "8404             4.1            164.0           NaN           NaN   \n",
       "8405            10.8            307.0           NaN           NaN   \n",
       "...              ...              ...           ...           ...   \n",
       "1248             6.1            174.0          99.0          54.0   \n",
       "1249             6.9            181.0         100.0          58.0   \n",
       "1250             6.3            132.0          99.0          51.0   \n",
       "1251             7.2            209.0          95.0          51.0   \n",
       "1252             9.4            207.0          88.0          51.0   \n",
       "\n",
       "      VALOR_PX_X8  VALOR_PN_X8  year  \n",
       "8401          NaN          NaN  2019  \n",
       "8402          NaN          NaN  2019  \n",
       "8403          NaN          NaN  2019  \n",
       "8404          NaN          NaN  2019  \n",
       "8405          NaN          NaN  2019  \n",
       "...           ...          ...   ...  \n",
       "1248       1005.4       1003.0  2023  \n",
       "1249       1006.1       1003.4  2023  \n",
       "1250       1007.0       1004.6  2023  \n",
       "1251       1006.8       1004.7  2023  \n",
       "1252       1007.1       1005.0  2023  \n",
       "\n",
       "[1618 rows x 62 columns]"
      ]
     },
     "execution_count": 36,
     "metadata": {},
     "output_type": "execute_result"
    }
   ],
   "source": [
    "df_estadistica_meteo"
   ]
  },
  {
   "cell_type": "code",
   "execution_count": 37,
   "id": "10dd0a96",
   "metadata": {},
   "outputs": [],
   "source": [
    "df_estadistica_meteo['month'] = df_estadistica_meteo['DATA_LECTURA'].dt.month\n",
    "df_estadistica_meteo['day'] = df_estadistica_meteo['DATA_LECTURA'].dt.day"
   ]
  },
  {
   "cell_type": "code",
   "execution_count": 38,
   "id": "6f0bd553",
   "metadata": {},
   "outputs": [],
   "source": [
    "df_estadistica_meteo.drop('DATA_LECTURA', axis=1, inplace=True)"
   ]
  },
  {
   "cell_type": "markdown",
   "id": "322d1915",
   "metadata": {},
   "source": [
    "# Split estaciones 2019 - 2022"
   ]
  },
  {
   "cell_type": "markdown",
   "id": "68a68a7f",
   "metadata": {},
   "source": [
    "## Part 1 "
   ]
  },
  {
   "cell_type": "code",
   "execution_count": 39,
   "id": "6f824fd7",
   "metadata": {},
   "outputs": [
    {
     "data": {
      "text/plain": [
       "{'tcp://127.0.0.1:33411': 1,\n",
       " 'tcp://127.0.0.1:34529': 1,\n",
       " 'tcp://127.0.0.1:38431': 1,\n",
       " 'tcp://127.0.0.1:44251': 1,\n",
       " 'tcp://127.0.0.1:45319': 1}"
      ]
     },
     "execution_count": 39,
     "metadata": {},
     "output_type": "execute_result"
    }
   ],
   "source": [
    "client.run(trim_memory)"
   ]
  },
  {
   "cell_type": "code",
   "execution_count": 40,
   "id": "58c27387",
   "metadata": {
    "scrolled": true
   },
   "outputs": [
    {
     "name": "stdout",
     "output_type": "stream",
     "text": [
      "CPU times: user 4.03 ms, sys: 0 ns, total: 4.03 ms\n",
      "Wall time: 3.95 ms\n"
     ]
    }
   ],
   "source": [
    "%%time\n",
    "\n",
    "bbdd_completa_19_22 = bbdd_completa[bbdd_completa.year.isin([2019, 2020, 2021, 2022])]"
   ]
  },
  {
   "cell_type": "code",
   "execution_count": 41,
   "id": "2f0a78fb",
   "metadata": {
    "scrolled": true
   },
   "outputs": [
    {
     "name": "stdout",
     "output_type": "stream",
     "text": [
      "year\n",
      "2019.0    [1, 320, 319, 318, 317, 316, 315, 314, 313, 31...\n",
      "2021.0    [1.0, 271.0, 400.0, 510.0, 26.0, 270.0, 269.0,...\n",
      "2022.0    [1, 380, 28, 379, 378, 377, 376, 375, 29, 374,...\n",
      "Name: station_id, dtype: object\n",
      "CPU times: user 2.86 s, sys: 334 ms, total: 3.2 s\n",
      "Wall time: 13.5 s\n"
     ]
    }
   ],
   "source": [
    "%%time\n",
    "\n",
    "unique_ids_by_year = bbdd_completa_19_22.groupby('year')['station_id'].unique().compute()\n",
    "print(unique_ids_by_year)"
   ]
  },
  {
   "cell_type": "code",
   "execution_count": 42,
   "id": "c9865fd4",
   "metadata": {},
   "outputs": [
    {
     "name": "stdout",
     "output_type": "stream",
     "text": [
      "2019.0 (410,)\n",
      "2021.0 (509,)\n",
      "2022.0 (510,)\n",
      "total: 408\n"
     ]
    }
   ],
   "source": [
    "# Calcula los station_id comunes en todos los años\n",
    "common_ids = set(unique_ids_by_year[2019])\n",
    "for year, ids in unique_ids_by_year.items():\n",
    "    print(year, ids.shape)\n",
    "    common_ids = common_ids.intersection(set(ids))\n",
    "# common_ids\n",
    "print('total:',len(common_ids))"
   ]
  },
  {
   "cell_type": "code",
   "execution_count": 43,
   "id": "9bb976d6",
   "metadata": {
    "scrolled": true
   },
   "outputs": [],
   "source": [
    "filtered_bbdd = bbdd_completa_19_22[bbdd_completa_19_22['station_id'].isin(common_ids)]\n",
    "nonfiltered_bbdd = bbdd_completa_19_22[~bbdd_completa_19_22['station_id'].isin(common_ids)]"
   ]
  },
  {
   "cell_type": "code",
   "execution_count": 44,
   "id": "4b8a4c8c",
   "metadata": {},
   "outputs": [],
   "source": [
    "bbdd_completa_19_22 = None"
   ]
  },
  {
   "cell_type": "markdown",
   "id": "97a27e23",
   "metadata": {},
   "source": [
    "## Part 2 "
   ]
  },
  {
   "cell_type": "code",
   "execution_count": 45,
   "id": "6eb33ff1",
   "metadata": {},
   "outputs": [
    {
     "data": {
      "text/plain": [
       "{'tcp://127.0.0.1:33411': 1,\n",
       " 'tcp://127.0.0.1:34529': 1,\n",
       " 'tcp://127.0.0.1:38431': 1,\n",
       " 'tcp://127.0.0.1:44251': 1,\n",
       " 'tcp://127.0.0.1:45319': 1}"
      ]
     },
     "execution_count": 45,
     "metadata": {},
     "output_type": "execute_result"
    }
   ],
   "source": [
    "client.run(trim_memory)"
   ]
  },
  {
   "cell_type": "code",
   "execution_count": 46,
   "id": "95860e65",
   "metadata": {},
   "outputs": [
    {
     "data": {
      "text/plain": [
       "(3541851, 13)"
      ]
     },
     "execution_count": 46,
     "metadata": {},
     "output_type": "execute_result"
    }
   ],
   "source": [
    "train_data2022 = filtered_bbdd[filtered_bbdd.year.isin([2022])]\n",
    "get_ddf_shape(train_data2022)\n",
    "#(3541851, 26)"
   ]
  },
  {
   "cell_type": "code",
   "execution_count": 47,
   "id": "1d0d8585",
   "metadata": {},
   "outputs": [
    {
     "data": {
      "text/plain": [
       "(882910, 13)"
      ]
     },
     "execution_count": 47,
     "metadata": {},
     "output_type": "execute_result"
    }
   ],
   "source": [
    "val_data2022= nonfiltered_bbdd[nonfiltered_bbdd.year.isin([2022])]\n",
    "get_ddf_shape(val_data2022)\n",
    "# (882910, 26)"
   ]
  },
  {
   "cell_type": "code",
   "execution_count": 48,
   "id": "77d7c313",
   "metadata": {},
   "outputs": [
    {
     "data": {
      "text/plain": [
       "(1694015, 13)"
      ]
     },
     "execution_count": 48,
     "metadata": {},
     "output_type": "execute_result"
    }
   ],
   "source": [
    "val_data2023 = bbdd_completa[bbdd_completa.year.isin([2023])]\n",
    "get_ddf_shape(val_data2023)\n",
    "# (1694015, 26)"
   ]
  },
  {
   "cell_type": "markdown",
   "id": "f2d9caf3",
   "metadata": {},
   "source": [
    "# Convert to Pandas "
   ]
  },
  {
   "cell_type": "code",
   "execution_count": 49,
   "id": "35cb6346",
   "metadata": {},
   "outputs": [
    {
     "name": "stdout",
     "output_type": "stream",
     "text": [
      "CPU times: user 6.93 s, sys: 1.37 s, total: 8.3 s\n",
      "Wall time: 33.6 s\n"
     ]
    }
   ],
   "source": [
    "%%time \n",
    "\n",
    "# conversion a pandas\n",
    "# datos de training de 2022\n",
    "X_train, y_train = train_data2022.compute().copy(), train_data2022.ctx0.compute().copy()"
   ]
  },
  {
   "cell_type": "code",
   "execution_count": 50,
   "id": "f5ce48fe",
   "metadata": {},
   "outputs": [
    {
     "name": "stdout",
     "output_type": "stream",
     "text": [
      "CPU times: user 6.81 s, sys: 1.01 s, total: 7.81 s\n",
      "Wall time: 33.8 s\n"
     ]
    }
   ],
   "source": [
    "%%time \n",
    "\n",
    "# conversion a pandas\n",
    "# datos de validacion de 2022\n",
    "X_val1, y_val1 = val_data2022.compute().copy(), val_data2022.ctx0.compute().copy()"
   ]
  },
  {
   "cell_type": "code",
   "execution_count": 51,
   "id": "55c641cc",
   "metadata": {},
   "outputs": [
    {
     "name": "stdout",
     "output_type": "stream",
     "text": [
      "CPU times: user 5.69 s, sys: 933 ms, total: 6.63 s\n",
      "Wall time: 25.9 s\n"
     ]
    }
   ],
   "source": [
    "%%time \n",
    "\n",
    "# conversion a pandas\n",
    "# datos de validacion de 2023\n",
    "X_val2, y_val2 = val_data2023.compute().copy(), val_data2023.ctx0.compute().copy()"
   ]
  },
  {
   "cell_type": "markdown",
   "id": "21cfd57c",
   "metadata": {},
   "source": [
    "# Shutdown DASK dist client"
   ]
  },
  {
   "cell_type": "code",
   "execution_count": 52,
   "id": "0f64af88",
   "metadata": {
    "scrolled": true
   },
   "outputs": [
    {
     "data": {
      "text/plain": [
       "{'tcp://127.0.0.1:33411': 1,\n",
       " 'tcp://127.0.0.1:34529': 1,\n",
       " 'tcp://127.0.0.1:38431': 1,\n",
       " 'tcp://127.0.0.1:44251': 1,\n",
       " 'tcp://127.0.0.1:45319': 1}"
      ]
     },
     "execution_count": 52,
     "metadata": {},
     "output_type": "execute_result"
    }
   ],
   "source": [
    "client.run(trim_memory)"
   ]
  },
  {
   "cell_type": "code",
   "execution_count": 53,
   "id": "725577c1",
   "metadata": {},
   "outputs": [],
   "source": [
    "client.shutdown()"
   ]
  },
  {
   "cell_type": "markdown",
   "id": "238eed64",
   "metadata": {},
   "source": [
    "# Merge additional data"
   ]
  },
  {
   "cell_type": "markdown",
   "id": "19eefa16",
   "metadata": {},
   "source": [
    "### Merge with data festius"
   ]
  },
  {
   "cell_type": "code",
   "execution_count": 54,
   "id": "6699dce0",
   "metadata": {},
   "outputs": [],
   "source": [
    "\n",
    "X_train = pd.merge(X_train, df_calendari_festius, on=['year', 'month', 'day'], how='left')\n",
    "X_val1 = pd.merge(X_val1, df_calendari_festius, on=['year', 'month', 'day'], how='left')\n",
    "X_val2 = pd.merge(X_val2, df_calendari_festius, on=['year', 'month', 'day'], how='left')\n"
   ]
  },
  {
   "cell_type": "markdown",
   "id": "f8011e71",
   "metadata": {},
   "source": [
    "### Merge with data meteo"
   ]
  },
  {
   "cell_type": "code",
   "execution_count": 55,
   "id": "f58eedf9",
   "metadata": {},
   "outputs": [],
   "source": [
    "\n",
    "X_train = pd.merge(X_train, df_estadistica_meteo, on=['year', 'month', 'day'], how='left')\n",
    "X_val1 = pd.merge(X_val1, df_estadistica_meteo, on=['year', 'month', 'day'], how='left')\n",
    "X_val2 = pd.merge(X_val2, df_estadistica_meteo, on=['year', 'month', 'day'], how='left')\n"
   ]
  },
  {
   "cell_type": "markdown",
   "id": "61e3fe15",
   "metadata": {},
   "source": [
    "# Final Cleaning & preprocessing"
   ]
  },
  {
   "cell_type": "code",
   "execution_count": 56,
   "id": "6949d318",
   "metadata": {
    "scrolled": true
   },
   "outputs": [
    {
     "data": {
      "text/plain": [
       "Index(['station_id', 'year', 'month', 'dayofweek', 'day', 'dayofyear', 'hour',\n",
       "       'capacity', 'ctx0', 'ctx1', 'ctx2', 'ctx3', 'ctx4', 'festius',\n",
       "       'festius_sun', 'festius_sun_sat', 'weekend', 'VALOR_TM_D5',\n",
       "       'VALOR_TX_D5', 'VALOR_TN_D5', 'VALOR_HRM_D5', 'VALOR_PPT_D5',\n",
       "       'VALOR_PM_D5', 'VALOR_RS24h_D5', 'VALOR_VVM10_D5', 'VALOR_DVM10_D5',\n",
       "       'VALOR_VVX10_D5', 'VALOR_DVVX10_D5', 'VALOR_HRX_D5', 'VALOR_HRN_D5',\n",
       "       'VALOR_PX_D5', 'VALOR_PN_D5', 'VALOR_TM_X2', 'VALOR_TX_X2',\n",
       "       'VALOR_TN_X2', 'VALOR_HRM_X2', 'VALOR_HRX_X2', 'VALOR_HRN_X2',\n",
       "       'VALOR_PM_X2', 'VALOR_PX_X2', 'VALOR_PN_X2', 'VALOR_PPT_X2',\n",
       "       'VALOR_RS24h_X2', 'VALOR_VVM10_X2', 'VALOR_DVM10_X2', 'VALOR_VVX10_X2',\n",
       "       'VALOR_DVVX10_X2', 'VALOR_TM_X4', 'VALOR_TX_X4', 'VALOR_TN_X4',\n",
       "       'VALOR_HRM_X4', 'VALOR_PPT_X4', 'VALOR_PM_X4', 'VALOR_RS24h_X4',\n",
       "       'VALOR_VVM10_X4', 'VALOR_DVM10_X4', 'VALOR_VVX10_X4', 'VALOR_DVVX10_X4',\n",
       "       'VALOR_HRX_X4', 'VALOR_HRN_X4', 'VALOR_PX_X4', 'VALOR_PN_X4',\n",
       "       'VALOR_TM_X8', 'VALOR_TX_X8', 'VALOR_TN_X8', 'VALOR_HRM_X8',\n",
       "       'VALOR_PPT_X8', 'VALOR_PM_X8', 'VALOR_RS24h_X8', 'VALOR_VVM10_X8',\n",
       "       'VALOR_DVM10_X8', 'VALOR_VVX10_X8', 'VALOR_DVVX10_X8', 'VALOR_HRX_X8',\n",
       "       'VALOR_HRN_X8', 'VALOR_PX_X8', 'VALOR_PN_X8'],\n",
       "      dtype='object')"
      ]
     },
     "execution_count": 56,
     "metadata": {},
     "output_type": "execute_result"
    }
   ],
   "source": [
    "X_train.columns"
   ]
  },
  {
   "cell_type": "code",
   "execution_count": 57,
   "id": "bf3080c4",
   "metadata": {},
   "outputs": [
    {
     "name": "stdout",
     "output_type": "stream",
     "text": [
      "CPU times: user 4.12 s, sys: 171 ms, total: 4.29 s\n",
      "Wall time: 4.26 s\n"
     ]
    }
   ],
   "source": [
    "%%time\n",
    "\n",
    "nans = get_features_nans(X_val2)\n",
    "\n",
    "zeros = get_features_zero(X_val2)"
   ]
  },
  {
   "cell_type": "code",
   "execution_count": 58,
   "id": "c4c8bc52",
   "metadata": {},
   "outputs": [
    {
     "data": {
      "text/plain": [
       "{'festius': 20.927736767383994,\n",
       " 'festius_sun': 20.927736767383994,\n",
       " 'festius_sun_sat': 20.927736767383994,\n",
       " 'weekend': 20.927736767383994,\n",
       " 'VALOR_PM_X2': 100.0,\n",
       " 'VALOR_PX_X2': 100.0,\n",
       " 'VALOR_PN_X2': 100.0,\n",
       " 'VALOR_PPT_X2': 100.0,\n",
       " 'VALOR_RS24h_X2': 100.0,\n",
       " 'VALOR_VVM10_X2': 100.0,\n",
       " 'VALOR_DVM10_X2': 100.0,\n",
       " 'VALOR_VVX10_X2': 100.0,\n",
       " 'VALOR_DVVX10_X2': 100.0}"
      ]
     },
     "execution_count": 58,
     "metadata": {},
     "output_type": "execute_result"
    }
   ],
   "source": [
    "nans"
   ]
  },
  {
   "cell_type": "code",
   "execution_count": 59,
   "id": "02da4659",
   "metadata": {
    "scrolled": true
   },
   "outputs": [
    {
     "data": {
      "text/plain": [
       "{'dayofweek': 14.185175455943424,\n",
       " 'hour': 4.079834003831135,\n",
       " 'ctx0': 0.535532448059787,\n",
       " 'ctx1': 0.5360046988958186,\n",
       " 'ctx2': 0.5380117649489526,\n",
       " 'ctx3': 0.5402549564201026,\n",
       " 'ctx4': 0.5420258970552209,\n",
       " 'festius': 77.80114107608256,\n",
       " 'festius_sun': 67.82761663857758,\n",
       " 'festius_sun_sat': 45.121265159989726,\n",
       " 'weekend': 58.52504257636444,\n",
       " 'VALOR_PPT_D5': 78.02894307311328,\n",
       " 'VALOR_PPT_X4': 77.99588551459108,\n",
       " 'VALOR_PPT_X8': 77.99381941718345}"
      ]
     },
     "execution_count": 59,
     "metadata": {},
     "output_type": "execute_result"
    }
   ],
   "source": [
    "zeros"
   ]
  },
  {
   "cell_type": "code",
   "execution_count": 60,
   "id": "af732882",
   "metadata": {},
   "outputs": [
    {
     "data": {
      "text/plain": [
       "array(['VALOR_PM_X2', 'VALOR_PX_X2', 'VALOR_PN_X2', 'VALOR_PPT_X2',\n",
       "       'VALOR_RS24h_X2', 'VALOR_VVM10_X2', 'VALOR_DVM10_X2',\n",
       "       'VALOR_VVX10_X2', 'VALOR_DVVX10_X2'], dtype=object)"
      ]
     },
     "execution_count": 60,
     "metadata": {},
     "output_type": "execute_result"
    }
   ],
   "source": [
    "nans = pd.Series(nans)\n",
    "\n",
    "nancolumns = nans[nans >= 90].index.values\n",
    "nancolumns"
   ]
  },
  {
   "cell_type": "code",
   "execution_count": 61,
   "id": "66685824",
   "metadata": {},
   "outputs": [],
   "source": [
    "X_train.drop(nancolumns, axis=1, inplace=True)\n",
    "X_val1.drop(nancolumns, axis=1, inplace=True)\n",
    "X_val2.drop(nancolumns, axis=1, inplace=True)"
   ]
  },
  {
   "cell_type": "raw",
   "id": "76a75267",
   "metadata": {},
   "source": [
    "y_val2[X_val2.festius.isna()] = np.nan\n",
    "y_val2.dropna(inplace=True)\n",
    "\n",
    "X_val2.dropna(inplace=True)\n"
   ]
  },
  {
   "cell_type": "code",
   "execution_count": 63,
   "id": "435fb1e8",
   "metadata": {},
   "outputs": [
    {
     "name": "stdout",
     "output_type": "stream",
     "text": [
      "CPU times: user 2.82 s, sys: 29 ms, total: 2.85 s\n",
      "Wall time: 2.83 s\n"
     ]
    }
   ],
   "source": [
    "%%time\n",
    "\n",
    "nans = get_features_nans(X_val2)\n",
    "\n",
    "zeros = get_features_zero(X_val2)"
   ]
  },
  {
   "cell_type": "code",
   "execution_count": 64,
   "id": "858390af",
   "metadata": {},
   "outputs": [
    {
     "data": {
      "text/plain": [
       "{}"
      ]
     },
     "execution_count": 64,
     "metadata": {},
     "output_type": "execute_result"
    }
   ],
   "source": [
    "nans"
   ]
  },
  {
   "cell_type": "code",
   "execution_count": 65,
   "id": "230935aa",
   "metadata": {
    "scrolled": true
   },
   "outputs": [
    {
     "data": {
      "text/plain": [
       "{'dayofweek': 13.561444005805168,\n",
       " 'hour': 4.103483698346244,\n",
       " 'ctx0': 0.528930284226306,\n",
       " 'ctx1': 0.5302740732335147,\n",
       " 'ctx2': 0.5328123413582422,\n",
       " 'ctx3': 0.5349026798139002,\n",
       " 'ctx4': 0.5366943984901784,\n",
       " 'festius': 98.3924550726542,\n",
       " 'festius_sun': 85.77927817626929,\n",
       " 'festius_sun_sat': 57.06332829661306,\n",
       " 'weekend': 74.01462938299181,\n",
       " 'VALOR_PPT_D5': 83.02682501478168,\n",
       " 'VALOR_PPT_X4': 81.21674122207159,\n",
       " 'VALOR_PPT_X8': 83.021375203808}"
      ]
     },
     "execution_count": 65,
     "metadata": {},
     "output_type": "execute_result"
    }
   ],
   "source": [
    "zeros"
   ]
  },
  {
   "cell_type": "code",
   "execution_count": 66,
   "id": "fba837df",
   "metadata": {},
   "outputs": [
    {
     "name": "stdout",
     "output_type": "stream",
     "text": [
      "CPU times: user 13.2 s, sys: 1.01 s, total: 14.2 s\n",
      "Wall time: 14.1 s\n"
     ]
    }
   ],
   "source": [
    "%%time\n",
    "\n",
    "nans = get_features_nans(pd.concat([X_train, X_val1, X_val2]))\n",
    "\n",
    "zeros = get_features_zero(pd.concat([X_train, X_val1, X_val2]))"
   ]
  },
  {
   "cell_type": "code",
   "execution_count": 67,
   "id": "0a85c879",
   "metadata": {},
   "outputs": [
    {
     "data": {
      "text/plain": [
       "{'VALOR_TM_D5': 0.21109398834923565,\n",
       " 'VALOR_HRM_D5': 0.21109398834923565,\n",
       " 'VALOR_VVM10_D5': 0.21109398834923565,\n",
       " 'VALOR_DVM10_D5': 1.0573956018963069,\n",
       " 'VALOR_VVX10_D5': 0.423332963814764}"
      ]
     },
     "execution_count": 67,
     "metadata": {},
     "output_type": "execute_result"
    }
   ],
   "source": [
    "nans"
   ]
  },
  {
   "cell_type": "code",
   "execution_count": 68,
   "id": "f5e2b37c",
   "metadata": {
    "scrolled": true
   },
   "outputs": [
    {
     "data": {
      "text/plain": [
       "{'dayofweek': 14.039866716560349,\n",
       " 'hour': 4.1511507901191775,\n",
       " 'ctx0': 0.5289146545686634,\n",
       " 'ctx1': 0.5297820690507034,\n",
       " 'ctx2': 0.5311352356426856,\n",
       " 'ctx3': 0.532384312496823,\n",
       " 'ctx4': 0.5334599064545525,\n",
       " 'festius': 96.68392648003031,\n",
       " 'festius_sun': 82.80446204948876,\n",
       " 'festius_sun_sat': 54.85177014140764,\n",
       " 'weekend': 71.85368383123793,\n",
       " 'VALOR_PPT_D5': 78.21748752701345,\n",
       " 'VALOR_DVM10_D5': 0.2081621273999407,\n",
       " 'VALOR_PPT_X4': 80.67466457515687,\n",
       " 'VALOR_PPT_X8': 79.06918445863882}"
      ]
     },
     "execution_count": 68,
     "metadata": {},
     "output_type": "execute_result"
    }
   ],
   "source": [
    "zeros"
   ]
  },
  {
   "cell_type": "markdown",
   "id": "6bedfbfc",
   "metadata": {},
   "source": [
    "# Save prepared data to a file "
   ]
  },
  {
   "cell_type": "code",
   "execution_count": 69,
   "id": "b3a13c19",
   "metadata": {},
   "outputs": [
    {
     "name": "stdout",
     "output_type": "stream",
     "text": [
      "CPU times: user 1min 38s, sys: 1.8 s, total: 1min 40s\n",
      "Wall time: 1min 39s\n"
     ]
    }
   ],
   "source": [
    "%%time \n",
    "\n",
    "X_train.to_csv('dades/processed/training_data.csv', header=True, index=True, index_label='index')\n",
    "y_train.to_csv('dades/processed/training_label.csv', header=True, index=True, index_label='index')"
   ]
  },
  {
   "cell_type": "code",
   "execution_count": 70,
   "id": "0ce2cccb",
   "metadata": {},
   "outputs": [
    {
     "name": "stdout",
     "output_type": "stream",
     "text": [
      "CPU times: user 23.9 s, sys: 534 ms, total: 24.4 s\n",
      "Wall time: 24.4 s\n"
     ]
    }
   ],
   "source": [
    "%%time \n",
    "\n",
    "X_val1.to_csv('dades/processed/validation_data.csv', header=True, index=True, index_label='index')\n",
    "y_val1.to_csv('dades/processed/validation_label.csv', header=True, index=True, index_label='index')"
   ]
  },
  {
   "cell_type": "code",
   "execution_count": 71,
   "id": "ffe8ac14",
   "metadata": {},
   "outputs": [
    {
     "name": "stdout",
     "output_type": "stream",
     "text": [
      "CPU times: user 36.2 s, sys: 929 ms, total: 37.2 s\n",
      "Wall time: 36.9 s\n"
     ]
    }
   ],
   "source": [
    "%%time \n",
    "\n",
    "X_val2.to_csv('dades/processed/testing_data.csv', header=True, index=True, index_label='index')\n",
    "y_val2.to_csv('dades/processed/testing_label.csv', header=True, index=True, index_label='index')"
   ]
  },
  {
   "cell_type": "markdown",
   "id": "da9dfc01",
   "metadata": {},
   "source": [
    "# Run pipeline"
   ]
  },
  {
   "cell_type": "code",
   "execution_count": 84,
   "id": "91669e7f",
   "metadata": {},
   "outputs": [],
   "source": [
    "from sklearn.model_selection import train_test_split\n",
    "from sklearn.pipeline import Pipeline\n",
    "from sklearn.preprocessing import FunctionTransformer\n",
    "from sklearn.impute import SimpleImputer\n",
    "from sklearn.preprocessing import OneHotEncoder\n",
    "from sklearn.preprocessing import OrdinalEncoder\n",
    "from sklearn.model_selection import cross_val_score\n",
    "\n",
    "from sklearn.compose import ColumnTransformer\n",
    "from sklearn.preprocessing import StandardScaler\n",
    "\n",
    "from sklearn import neighbors\n",
    "from sklearn import linear_model\n",
    "from sklearn.linear_model import LinearRegression\n",
    "from sklearn.ensemble import GradientBoostingRegressor\n",
    "from sklearn.ensemble import RandomForestRegressor\n",
    "\n",
    "from sklearn.model_selection import GridSearchCV\n",
    "from sklearn.model_selection import validation_curve\n",
    "\n",
    "from sklearn.metrics import mean_squared_error, r2_score\n",
    "from sklearn.metrics import mean_absolute_error"
   ]
  },
  {
   "cell_type": "code",
   "execution_count": 85,
   "id": "5a306039",
   "metadata": {},
   "outputs": [
    {
     "data": {
      "text/plain": [
       "Index(['station_id', 'year', 'month', 'dayofweek', 'day', 'dayofyear', 'hour',\n",
       "       'capacity', 'ctx0', 'ctx1', 'ctx2', 'ctx3', 'ctx4', 'festius',\n",
       "       'festius_sun', 'festius_sun_sat', 'weekend', 'VALOR_TM_D5',\n",
       "       'VALOR_TX_D5', 'VALOR_TN_D5', 'VALOR_HRM_D5', 'VALOR_PPT_D5',\n",
       "       'VALOR_PM_D5', 'VALOR_RS24h_D5', 'VALOR_VVM10_D5', 'VALOR_DVM10_D5',\n",
       "       'VALOR_VVX10_D5', 'VALOR_DVVX10_D5', 'VALOR_HRX_D5', 'VALOR_HRN_D5',\n",
       "       'VALOR_PX_D5', 'VALOR_PN_D5', 'VALOR_TM_X2', 'VALOR_TX_X2',\n",
       "       'VALOR_TN_X2', 'VALOR_HRM_X2', 'VALOR_HRX_X2', 'VALOR_HRN_X2',\n",
       "       'VALOR_TM_X4', 'VALOR_TX_X4', 'VALOR_TN_X4', 'VALOR_HRM_X4',\n",
       "       'VALOR_PPT_X4', 'VALOR_PM_X4', 'VALOR_RS24h_X4', 'VALOR_VVM10_X4',\n",
       "       'VALOR_DVM10_X4', 'VALOR_VVX10_X4', 'VALOR_DVVX10_X4', 'VALOR_HRX_X4',\n",
       "       'VALOR_HRN_X4', 'VALOR_PX_X4', 'VALOR_PN_X4', 'VALOR_TM_X8',\n",
       "       'VALOR_TX_X8', 'VALOR_TN_X8', 'VALOR_HRM_X8', 'VALOR_PPT_X8',\n",
       "       'VALOR_PM_X8', 'VALOR_RS24h_X8', 'VALOR_VVM10_X8', 'VALOR_DVM10_X8',\n",
       "       'VALOR_VVX10_X8', 'VALOR_DVVX10_X8', 'VALOR_HRX_X8', 'VALOR_HRN_X8',\n",
       "       'VALOR_PX_X8', 'VALOR_PN_X8'],\n",
       "      dtype='object')"
      ]
     },
     "execution_count": 85,
     "metadata": {},
     "output_type": "execute_result"
    }
   ],
   "source": [
    "X_train.columns"
   ]
  },
  {
   "cell_type": "code",
   "execution_count": 86,
   "id": "2811b0c0",
   "metadata": {
    "scrolled": false
   },
   "outputs": [
    {
     "name": "stdout",
     "output_type": "stream",
     "text": [
      "CPU times: user 27.5 s, sys: 180 ms, total: 27.7 s\n",
      "Wall time: 27.6 s\n"
     ]
    },
    {
     "data": {
      "text/plain": [
       "{'ctx0': 1.0,\n",
       " 'ctx1': 0.8965490623247431,\n",
       " 'ctx2': 0.7640937372918671,\n",
       " 'ctx3': 0.6477424812286972,\n",
       " 'ctx4': 0.5439513429677661,\n",
       " 'station_id': 0.055505341361917246,\n",
       " 'VALOR_TM_X8': 0.04155729299769302,\n",
       " 'VALOR_TN_X4': 0.04120025263945388,\n",
       " 'VALOR_TM_X4': 0.04103573761362486,\n",
       " 'VALOR_TN_D5': 0.04101404543310604,\n",
       " 'VALOR_TM_X2': 0.04094402698906208,\n",
       " 'VALOR_TN_X8': 0.04091974019452567,\n",
       " 'VALOR_TM_D5': 0.040904622073650754,\n",
       " 'VALOR_TN_X2': 0.040797086169454,\n",
       " 'VALOR_TX_X8': 0.0403202214331495,\n",
       " 'VALOR_TX_X2': 0.03964484836503035,\n",
       " 'VALOR_TX_X4': 0.0395159917180143,\n",
       " 'VALOR_TX_D5': 0.03910051505097271,\n",
       " 'VALOR_RS24h_X4': 0.0312165802880088,\n",
       " 'VALOR_RS24h_X8': 0.030921300501590854,\n",
       " 'VALOR_RS24h_D5': 0.029926724570324352,\n",
       " 'capacity': 0.029374265348430233,\n",
       " 'dayofyear': 0.024224639546615218,\n",
       " 'month': 0.02420464385942729,\n",
       " 'weekend': 0.02391734981930322,\n",
       " 'hour': 0.023584419368323294,\n",
       " 'dayofweek': 0.0198851244743519,\n",
       " 'festius_sun': 0.017031751166829964,\n",
       " 'festius_sun_sat': 0.016812978231854025,\n",
       " 'VALOR_PX_X4': 0.01533348660552599,\n",
       " 'VALOR_PX_X8': 0.01443003171315305,\n",
       " 'VALOR_VVM10_D5': 0.012644485444284533,\n",
       " 'VALOR_PM_X4': 0.012517526773081102,\n",
       " 'VALOR_DVVX10_X8': 0.012321487060971317,\n",
       " 'VALOR_PM_X8': 0.011796868195401647,\n",
       " 'VALOR_DVM10_X8': 0.011171182675931614,\n",
       " 'VALOR_VVX10_D5': 0.010988208999150626,\n",
       " 'VALOR_DVVX10_X4': 0.010840007959142858,\n",
       " 'VALOR_PN_X4': 0.010120972060417894,\n",
       " 'VALOR_DVVX10_D5': 0.009628802683345351,\n",
       " 'VALOR_PN_X8': 0.009352503027673223,\n",
       " 'VALOR_PX_D5': 0.009234214021042369,\n",
       " 'VALOR_DVM10_D5': 0.008598882421337375,\n",
       " 'VALOR_PPT_X8': 0.0084795260584029,\n",
       " 'VALOR_PPT_D5': 0.008391662057630478,\n",
       " 'VALOR_PPT_X4': 0.008139488227892682,\n",
       " 'VALOR_HRM_D5': 0.007943846511606314,\n",
       " 'VALOR_HRN_D5': 0.007376196849084412,\n",
       " 'VALOR_DVM10_X4': 0.0072263210990969615,\n",
       " 'festius': 0.007159351281916561,\n",
       " 'VALOR_HRN_X2': 0.006774326833651959,\n",
       " 'VALOR_PM_D5': 0.0064377700057627555,\n",
       " 'VALOR_HRX_X2': 0.0062754138740685845,\n",
       " 'VALOR_PN_D5': 0.00418724418481972,\n",
       " 'VALOR_VVM10_X8': 0.004075966530099214,\n",
       " 'VALOR_HRM_X8': 0.004037282747722031,\n",
       " 'VALOR_VVX10_X8': 0.0040013086019145385,\n",
       " 'day': 0.0037059393112894817,\n",
       " 'VALOR_VVM10_X4': 0.003563361020191542,\n",
       " 'VALOR_HRX_D5': 0.0035510056066535367,\n",
       " 'VALOR_HRX_X8': 0.0032653113998093435,\n",
       " 'VALOR_HRN_X8': 0.0027926231940001325,\n",
       " 'VALOR_HRM_X2': 0.00199427765825122,\n",
       " 'VALOR_HRM_X4': 0.0017909546586889961,\n",
       " 'VALOR_HRN_X4': 0.001645686198569304,\n",
       " 'VALOR_VVX10_X4': 0.0007077797923534157,\n",
       " 'VALOR_HRX_X4': 0.0006386713800433398,\n",
       " 'year': nan}"
      ]
     },
     "execution_count": 86,
     "metadata": {},
     "output_type": "execute_result"
    }
   ],
   "source": [
    "%%time \n",
    "\n",
    "correlations = np.abs(\n",
    "    X_train.corr(method='pearson').ctx0\n",
    ").sort_values(ascending=False)\n",
    "\n",
    "# num_docks_available                     0.880782\n",
    "# timestamp                               0.024289\n",
    "# num_bikes_available_types.ebike        -0.393887\n",
    "# num_bikes_available_types.mechanical   -0.755995\n",
    "# num_bikes_available                    -0.865541\n",
    "# is_returning                            0.006442\n",
    "# is_renting                              0.006442\n",
    "# status                                  0.006277\n",
    "\n",
    "correlations.to_dict()"
   ]
  },
  {
   "cell_type": "code",
   "execution_count": 87,
   "id": "f9e0938a",
   "metadata": {},
   "outputs": [],
   "source": [
    "columns_meteo = correlations.index[['VALOR' in i for i in correlations.index]].to_list()"
   ]
  },
  {
   "cell_type": "code",
   "execution_count": 88,
   "id": "94a63fa9",
   "metadata": {},
   "outputs": [],
   "source": [
    "class Config:\n",
    "    num_attribs0 = ['capacity', 'ctx1', 'ctx2', 'ctx3', 'ctx4'] + columns_meteo\n",
    "    cat_attribs0 = ['month', 'dayofyear', 'day', 'hour'] # dayofweek\n",
    "    cat_attribs1 = ['dayofweek'] # station_id\n",
    "    gen_attribs0 = ['year', 'festius_sun', 'weekend']\n",
    "    target_col = ['ctx0']\n",
    "\n",
    "    epochs=50\n",
    "    batch_size=128\n",
    "    seed=42\n",
    "    embedding_dim=8\n",
    "    lr=1e-4\n",
    "\n",
    "def seed_everything(seed=42):\n",
    "    random.seed(seed)\n",
    "    os.environ['PYTHONHASHSEED'] = str(seed)\n",
    "    np.random.seed(seed)\n",
    "    "
   ]
  },
  {
   "cell_type": "code",
   "execution_count": 89,
   "id": "ef40396f",
   "metadata": {},
   "outputs": [],
   "source": [
    "config=Config()\n",
    "seed_everything(config.seed)"
   ]
  },
  {
   "cell_type": "code",
   "execution_count": 90,
   "id": "cc365d22",
   "metadata": {},
   "outputs": [],
   "source": [
    "\n",
    "def build_preprocessor(config):\n",
    "    num_attribs0 = config.num_attribs0\n",
    "    cat_attribs0 = config.cat_attribs0\n",
    "    cat_attribs1 = config.cat_attribs1\n",
    "    gen_attribs0 = config.gen_attribs0\n",
    "\n",
    "    num_transformer0 = Pipeline(steps=[\n",
    "        (\"imputer\", SimpleImputer(strategy=\"mean\")),\n",
    "        ('std_scaler', (StandardScaler())),\n",
    "    ])\n",
    "\n",
    "    categorical_transformer0 = Pipeline(steps=[\n",
    "        (\"imputer\", SimpleImputer(strategy=\"constant\",fill_value=0)),\n",
    "        ('ordinal_encoder', (OrdinalEncoder())),\n",
    "    ])\n",
    "    \n",
    "    categorical_transformer1 = Pipeline(steps=[\n",
    "        (\"imputer\", SimpleImputer(strategy=\"constant\",fill_value=0)),\n",
    "        ('one_hot_encoder', (OneHotEncoder(handle_unknown='ignore'))),\n",
    "    ])\n",
    "    \n",
    "    generic_transformer0 = Pipeline([\n",
    "        (\"imputer\", SimpleImputer(strategy=\"constant\",fill_value=0)),\n",
    "    ])\n",
    "    \n",
    "    preprocessor = ColumnTransformer(\n",
    "        transformers=[\n",
    "            (\"num0\", num_transformer0, num_attribs0),\n",
    "            (\"gen1\", generic_transformer0, gen_attribs0),\n",
    "            (\"cat0\", categorical_transformer0, cat_attribs0),\n",
    "            (\"cat1\", categorical_transformer1, cat_attribs1),\n",
    "        ],\n",
    "        remainder=\"drop\"\n",
    "    )\n",
    "    \n",
    "    return preprocessor"
   ]
  },
  {
   "cell_type": "code",
   "execution_count": 91,
   "id": "f3d3d686",
   "metadata": {},
   "outputs": [
    {
     "name": "stdout",
     "output_type": "stream",
     "text": [
      "x_train_prepared: (3541851, 70) y_train:  (3541851,)\n",
      "x_test_prepared: (882910, 70) y_test:  (882910,)\n",
      "x_test_prepared: (1339496, 70) y_test:  (1345475,)\n",
      "CPU times: user 8.19 s, sys: 1.61 s, total: 9.8 s\n",
      "Wall time: 9.76 s\n"
     ]
    }
   ],
   "source": [
    "%%time \n",
    "\n",
    "full_pipeline = build_preprocessor(config)\n",
    "\n",
    "X_train_prepared = full_pipeline.fit_transform(X_train)\n",
    "X_val_prepared1 = full_pipeline.transform(X_val1)\n",
    "X_val_prepared2 = full_pipeline.transform(X_val2)\n",
    "\n",
    "print(\"x_train_prepared:\",X_train_prepared.shape,\"y_train: \",y_train.shape)\n",
    "print(\"x_test_prepared:\",X_val_prepared1.shape,\"y_test: \",y_val1.shape)\n",
    "print(\"x_test_prepared:\",X_val_prepared2.shape,\"y_test: \",y_val2.shape)\n"
   ]
  },
  {
   "cell_type": "raw",
   "id": "1ad9c07b",
   "metadata": {},
   "source": [
    "# Needed for NN"
   ]
  },
  {
   "cell_type": "raw",
   "id": "8a2d28b3",
   "metadata": {},
   "source": [
    "%%time \n",
    "\n",
    "X_train_df = pd.DataFrame(X_train_prepared)\n"
   ]
  },
  {
   "cell_type": "raw",
   "id": "1f4aa5c3",
   "metadata": {},
   "source": [
    "%%time \n",
    "\n",
    "X_val1_df = pd.DataFrame(X_val_prepared1)\n"
   ]
  },
  {
   "cell_type": "raw",
   "id": "6946436a",
   "metadata": {},
   "source": [
    "%%time \n",
    "\n",
    "X_val2_df = pd.DataFrame(X_val_prepared2)\n"
   ]
  },
  {
   "cell_type": "markdown",
   "id": "7f8f1ba6",
   "metadata": {},
   "source": [
    "# Predicción______________________________\n",
    "\n",
    "a) Regresión lineal: relación lineal entre las variables de entrada y la variable de salida. \n",
    "\n",
    "b) Regresión Redes Neuronales (RNN -redes neuronales recurrentes-): pueden capturar relaciones no lineales entre las variables de entrada y salida."
   ]
  },
  {
   "cell_type": "markdown",
   "id": "313dac49",
   "metadata": {},
   "source": [
    "## LinearRegression"
   ]
  },
  {
   "cell_type": "code",
   "execution_count": 92,
   "id": "3663606c",
   "metadata": {},
   "outputs": [
    {
     "name": "stdout",
     "output_type": "stream",
     "text": [
      "\n",
      "  Linear Regression\n",
      "Scores: [0.81097206 0.81412881 0.81052968 0.81194621 0.81356838]\n",
      "Mean: 0.812229027856209\n",
      "Standard deviation: 0.0014107285176643523\n",
      "CPU times: user 6min 1s, sys: 3min 24s, total: 9min 26s\n",
      "Wall time: 59.4 s\n"
     ]
    }
   ],
   "source": [
    "%%time \n",
    "\n",
    "lin_reg = LinearRegression()\n",
    "cross_val_evaluation(lin_reg,X_train_prepared, y_train,'Linear Regression')\n",
    "\n",
    "# Linear Regression\n",
    "# Scores: [0.86876116 0.85690033 0.83716171 0.82008556 0.8135665 ]\n",
    "# Mean: 0.8392950517172396\n",
    "# Standard deviation: 0.021041440859117303"
   ]
  },
  {
   "cell_type": "code",
   "execution_count": 93,
   "id": "18b104f1",
   "metadata": {},
   "outputs": [
    {
     "name": "stdout",
     "output_type": "stream",
     "text": [
      "CPU times: user 1min 40s, sys: 47.1 s, total: 2min 27s\n",
      "Wall time: 15.3 s\n"
     ]
    },
    {
     "data": {
      "text/html": [
       "<style>#sk-container-id-2 {color: black;background-color: white;}#sk-container-id-2 pre{padding: 0;}#sk-container-id-2 div.sk-toggleable {background-color: white;}#sk-container-id-2 label.sk-toggleable__label {cursor: pointer;display: block;width: 100%;margin-bottom: 0;padding: 0.3em;box-sizing: border-box;text-align: center;}#sk-container-id-2 label.sk-toggleable__label-arrow:before {content: \"▸\";float: left;margin-right: 0.25em;color: #696969;}#sk-container-id-2 label.sk-toggleable__label-arrow:hover:before {color: black;}#sk-container-id-2 div.sk-estimator:hover label.sk-toggleable__label-arrow:before {color: black;}#sk-container-id-2 div.sk-toggleable__content {max-height: 0;max-width: 0;overflow: hidden;text-align: left;background-color: #f0f8ff;}#sk-container-id-2 div.sk-toggleable__content pre {margin: 0.2em;color: black;border-radius: 0.25em;background-color: #f0f8ff;}#sk-container-id-2 input.sk-toggleable__control:checked~div.sk-toggleable__content {max-height: 200px;max-width: 100%;overflow: auto;}#sk-container-id-2 input.sk-toggleable__control:checked~label.sk-toggleable__label-arrow:before {content: \"▾\";}#sk-container-id-2 div.sk-estimator input.sk-toggleable__control:checked~label.sk-toggleable__label {background-color: #d4ebff;}#sk-container-id-2 div.sk-label input.sk-toggleable__control:checked~label.sk-toggleable__label {background-color: #d4ebff;}#sk-container-id-2 input.sk-hidden--visually {border: 0;clip: rect(1px 1px 1px 1px);clip: rect(1px, 1px, 1px, 1px);height: 1px;margin: -1px;overflow: hidden;padding: 0;position: absolute;width: 1px;}#sk-container-id-2 div.sk-estimator {font-family: monospace;background-color: #f0f8ff;border: 1px dotted black;border-radius: 0.25em;box-sizing: border-box;margin-bottom: 0.5em;}#sk-container-id-2 div.sk-estimator:hover {background-color: #d4ebff;}#sk-container-id-2 div.sk-parallel-item::after {content: \"\";width: 100%;border-bottom: 1px solid gray;flex-grow: 1;}#sk-container-id-2 div.sk-label:hover label.sk-toggleable__label {background-color: #d4ebff;}#sk-container-id-2 div.sk-serial::before {content: \"\";position: absolute;border-left: 1px solid gray;box-sizing: border-box;top: 0;bottom: 0;left: 50%;z-index: 0;}#sk-container-id-2 div.sk-serial {display: flex;flex-direction: column;align-items: center;background-color: white;padding-right: 0.2em;padding-left: 0.2em;position: relative;}#sk-container-id-2 div.sk-item {position: relative;z-index: 1;}#sk-container-id-2 div.sk-parallel {display: flex;align-items: stretch;justify-content: center;background-color: white;position: relative;}#sk-container-id-2 div.sk-item::before, #sk-container-id-2 div.sk-parallel-item::before {content: \"\";position: absolute;border-left: 1px solid gray;box-sizing: border-box;top: 0;bottom: 0;left: 50%;z-index: -1;}#sk-container-id-2 div.sk-parallel-item {display: flex;flex-direction: column;z-index: 1;position: relative;background-color: white;}#sk-container-id-2 div.sk-parallel-item:first-child::after {align-self: flex-end;width: 50%;}#sk-container-id-2 div.sk-parallel-item:last-child::after {align-self: flex-start;width: 50%;}#sk-container-id-2 div.sk-parallel-item:only-child::after {width: 0;}#sk-container-id-2 div.sk-dashed-wrapped {border: 1px dashed gray;margin: 0 0.4em 0.5em 0.4em;box-sizing: border-box;padding-bottom: 0.4em;background-color: white;}#sk-container-id-2 div.sk-label label {font-family: monospace;font-weight: bold;display: inline-block;line-height: 1.2em;}#sk-container-id-2 div.sk-label-container {text-align: center;}#sk-container-id-2 div.sk-container {/* jupyter's `normalize.less` sets `[hidden] { display: none; }` but bootstrap.min.css set `[hidden] { display: none !important; }` so we also need the `!important` here to be able to override the default hidden behavior on the sphinx rendered scikit-learn.org. See: https://github.com/scikit-learn/scikit-learn/issues/21755 */display: inline-block !important;position: relative;}#sk-container-id-2 div.sk-text-repr-fallback {display: none;}</style><div id=\"sk-container-id-2\" class=\"sk-top-container\"><div class=\"sk-text-repr-fallback\"><pre>LinearRegression()</pre><b>In a Jupyter environment, please rerun this cell to show the HTML representation or trust the notebook. <br />On GitHub, the HTML representation is unable to render, please try loading this page with nbviewer.org.</b></div><div class=\"sk-container\" hidden><div class=\"sk-item\"><div class=\"sk-estimator sk-toggleable\"><input class=\"sk-toggleable__control sk-hidden--visually\" id=\"sk-estimator-id-2\" type=\"checkbox\" checked><label for=\"sk-estimator-id-2\" class=\"sk-toggleable__label sk-toggleable__label-arrow\">LinearRegression</label><div class=\"sk-toggleable__content\"><pre>LinearRegression()</pre></div></div></div></div></div>"
      ],
      "text/plain": [
       "LinearRegression()"
      ]
     },
     "execution_count": 93,
     "metadata": {},
     "output_type": "execute_result"
    }
   ],
   "source": [
    "%%time \n",
    "\n",
    "lin_reg.fit(X_train_prepared,y_train)"
   ]
  },
  {
   "cell_type": "code",
   "execution_count": 94,
   "id": "cea6190e",
   "metadata": {
    "scrolled": false
   },
   "outputs": [
    {
     "name": "stdout",
     "output_type": "stream",
     "text": [
      "\n",
      "Training time: 0.212 s\n",
      "----- EVALUATION ON VAL SET ------\n",
      "MSE: 0.012814657118740587\n",
      "RMSE 0.11320184238227127\n",
      "MAE: 0.07528821058552938\n",
      "R^2:  0.8122454172708833\n",
      "\n"
     ]
    },
    {
     "data": {
      "image/png": "[encoded data removed]",
      "text/plain": [
       "<Figure size 640x480 with 1 Axes>"
      ]
     },
     "metadata": {},
     "output_type": "display_data"
    },
    {
     "data": {
      "text/plain": [
       "y_hat_t    [0.5838919678329509, 0.5850608009617778, 0.585...\n",
       "mse_t                                               0.012815\n",
       "rmse_t                                              0.113202\n",
       "mae_t                                               0.075288\n",
       "r2_t                                                0.812245\n",
       "dtype: object"
      ]
     },
     "execution_count": 94,
     "metadata": {},
     "output_type": "execute_result"
    }
   ],
   "source": [
    "test_model(lin_reg, X_train_prepared, y_train)"
   ]
  },
  {
   "cell_type": "code",
   "execution_count": 83,
   "id": "7fa6303a",
   "metadata": {
    "scrolled": false
   },
   "outputs": [
    {
     "name": "stdout",
     "output_type": "stream",
     "text": [
      "\n",
      "Training time: 0.08 s\n",
      "----- EVALUATION ON VAL SET ------\n",
      "MSE: 0.009229607120373202\n",
      "RMSE 0.09607084427844487\n",
      "MAE: 0.06505489334249212\n",
      "R^2:  0.8579687213612156\n",
      "\n"
     ]
    },
    {
     "data": {
      "image/png": "[encoded data removed]",
      "text/plain": [
       "<Figure size 640x480 with 1 Axes>"
      ]
     },
     "metadata": {},
     "output_type": "display_data"
    },
    {
     "name": "stdout",
     "output_type": "stream",
     "text": [
      "\n",
      "Testing time: 0.125 s\n"
     ]
    },
    {
     "ename": "ValueError",
     "evalue": "Found input variables with inconsistent numbers of samples: [1345475, 1339496]",
     "output_type": "error",
     "traceback": [
      "\u001b[0;31m---------------------------------------------------------------------------\u001b[0m",
      "\u001b[0;31mValueError\u001b[0m                                Traceback (most recent call last)",
      "Cell \u001b[0;32mIn[83], line 1\u001b[0m\n\u001b[0;32m----> 1\u001b[0m \u001b[43mtest_model\u001b[49m\u001b[43m(\u001b[49m\u001b[43mlin_reg\u001b[49m\u001b[43m,\u001b[49m\u001b[43m \u001b[49m\u001b[43mX_val_prepared1\u001b[49m\u001b[43m,\u001b[49m\u001b[43m \u001b[49m\u001b[43my_val1\u001b[49m\u001b[43m,\u001b[49m\u001b[43m \u001b[49m\u001b[43mX_val_prepared2\u001b[49m\u001b[43m,\u001b[49m\u001b[43m \u001b[49m\u001b[43my_val2\u001b[49m\u001b[43m)\u001b[49m\n",
      "File \u001b[0;32m~/Documents/github/CaptstoneProject/tools/tools.py:824\u001b[0m, in \u001b[0;36mtest_model\u001b[0;34m(model, Xt, yt, Xv, yv, show)\u001b[0m\n\u001b[1;32m    821\u001b[0m     ret[\u001b[38;5;124m'\u001b[39m\u001b[38;5;124mr2_t\u001b[39m\u001b[38;5;124m'\u001b[39m] \u001b[38;5;241m=\u001b[39m mdl_r2score1\n\u001b[1;32m    823\u001b[0m \u001b[38;5;28;01mif\u001b[39;00m Xv\u001b[38;5;241m.\u001b[39mshape[\u001b[38;5;241m0\u001b[39m] \u001b[38;5;241m>\u001b[39m \u001b[38;5;241m0\u001b[39m \u001b[38;5;129;01mand\u001b[39;00m yv\u001b[38;5;241m.\u001b[39mshape[\u001b[38;5;241m0\u001b[39m] \u001b[38;5;241m>\u001b[39m \u001b[38;5;241m0\u001b[39m:\n\u001b[0;32m--> 824\u001b[0m     y_hat2, mdl_mse2, mdl_rmse2, mdl_mae2, mdl_r2score2 \u001b[38;5;241m=\u001b[39m \u001b[43mrun_test\u001b[49m\u001b[43m(\u001b[49m\u001b[43mmodel\u001b[49m\u001b[43m,\u001b[49m\u001b[43m \u001b[49m\u001b[43mXv\u001b[49m\u001b[43m,\u001b[49m\u001b[43m \u001b[49m\u001b[43myv\u001b[49m\u001b[43m,\u001b[49m\u001b[43m \u001b[49m\u001b[38;5;124;43m'\u001b[39;49m\u001b[38;5;124;43mTesting\u001b[39;49m\u001b[38;5;124;43m'\u001b[39;49m\u001b[43m,\u001b[49m\u001b[43m \u001b[49m\u001b[43mshow\u001b[49m\u001b[43m)\u001b[49m\n\u001b[1;32m    825\u001b[0m     ret[\u001b[38;5;124m'\u001b[39m\u001b[38;5;124my_hat_v\u001b[39m\u001b[38;5;124m'\u001b[39m] \u001b[38;5;241m=\u001b[39m y_hat2\n\u001b[1;32m    826\u001b[0m     ret[\u001b[38;5;124m'\u001b[39m\u001b[38;5;124mmse_v\u001b[39m\u001b[38;5;124m'\u001b[39m] \u001b[38;5;241m=\u001b[39m mdl_mse2\n",
      "File \u001b[0;32m~/Documents/github/CaptstoneProject/tools/tools.py:800\u001b[0m, in \u001b[0;36mrun_test\u001b[0;34m(model, X, y, phase, show)\u001b[0m\n\u001b[1;32m    797\u001b[0m \u001b[38;5;28;01mif\u001b[39;00m show:\n\u001b[1;32m    798\u001b[0m     \u001b[38;5;28mprint\u001b[39m(\u001b[38;5;124mf\u001b[39m\u001b[38;5;124m\"\u001b[39m\u001b[38;5;132;01m{\u001b[39;00mphase\u001b[38;5;132;01m}\u001b[39;00m\u001b[38;5;124m time:\u001b[39m\u001b[38;5;124m\"\u001b[39m, \u001b[38;5;28mround\u001b[39m(time()\u001b[38;5;241m-\u001b[39mt0, \u001b[38;5;241m3\u001b[39m), \u001b[38;5;124m\"\u001b[39m\u001b[38;5;124ms\u001b[39m\u001b[38;5;124m\"\u001b[39m)\n\u001b[0;32m--> 800\u001b[0m mdl_mse,mdl_rmse,mdl_mae,mdl_r2score \u001b[38;5;241m=\u001b[39m \u001b[43mcalcualte_scores\u001b[49m\u001b[43m(\u001b[49m\u001b[43my\u001b[49m\u001b[43m,\u001b[49m\u001b[43m \u001b[49m\u001b[43my_hat\u001b[49m\u001b[43m,\u001b[49m\u001b[43m \u001b[49m\u001b[43mshow\u001b[49m\u001b[43m)\u001b[49m\n\u001b[1;32m    802\u001b[0m \u001b[38;5;28;01mreturn\u001b[39;00m y_hat, mdl_mse,mdl_rmse,mdl_mae,mdl_r2score\n",
      "File \u001b[0;32m~/Documents/github/CaptstoneProject/tools/tools.py:628\u001b[0m, in \u001b[0;36mcalcualte_scores\u001b[0;34m(y, y_hat, show)\u001b[0m\n\u001b[1;32m    626\u001b[0m \u001b[38;5;28;01mdef\u001b[39;00m \u001b[38;5;21mcalcualte_scores\u001b[39m(y, y_hat, show\u001b[38;5;241m=\u001b[39m\u001b[38;5;28;01mTrue\u001b[39;00m):\n\u001b[1;32m    627\u001b[0m     \u001b[38;5;66;03m## Evaluate the model and plot it\u001b[39;00m\n\u001b[0;32m--> 628\u001b[0m     mdl_mse \u001b[38;5;241m=\u001b[39m \u001b[43mmean_squared_error\u001b[49m\u001b[43m(\u001b[49m\u001b[43my\u001b[49m\u001b[43m,\u001b[49m\u001b[43m \u001b[49m\u001b[43my_hat\u001b[49m\u001b[43m)\u001b[49m\n\u001b[1;32m    629\u001b[0m     mdl_rmse \u001b[38;5;241m=\u001b[39m np\u001b[38;5;241m.\u001b[39msqrt(mdl_mse)\n\u001b[1;32m    630\u001b[0m     mdl_mae \u001b[38;5;241m=\u001b[39m mean_absolute_error(y, y_hat)\n",
      "File \u001b[0;32m~/miniconda3/envs/rcnn/lib/python3.8/site-packages/sklearn/metrics/_regression.py:442\u001b[0m, in \u001b[0;36mmean_squared_error\u001b[0;34m(y_true, y_pred, sample_weight, multioutput, squared)\u001b[0m\n\u001b[1;32m    382\u001b[0m \u001b[38;5;28;01mdef\u001b[39;00m \u001b[38;5;21mmean_squared_error\u001b[39m(\n\u001b[1;32m    383\u001b[0m     y_true, y_pred, \u001b[38;5;241m*\u001b[39m, sample_weight\u001b[38;5;241m=\u001b[39m\u001b[38;5;28;01mNone\u001b[39;00m, multioutput\u001b[38;5;241m=\u001b[39m\u001b[38;5;124m\"\u001b[39m\u001b[38;5;124muniform_average\u001b[39m\u001b[38;5;124m\"\u001b[39m, squared\u001b[38;5;241m=\u001b[39m\u001b[38;5;28;01mTrue\u001b[39;00m\n\u001b[1;32m    384\u001b[0m ):\n\u001b[1;32m    385\u001b[0m \u001b[38;5;250m    \u001b[39m\u001b[38;5;124;03m\"\"\"Mean squared error regression loss.\u001b[39;00m\n\u001b[1;32m    386\u001b[0m \n\u001b[1;32m    387\u001b[0m \u001b[38;5;124;03m    Read more in the :ref:`User Guide <mean_squared_error>`.\u001b[39;00m\n\u001b[0;32m   (...)\u001b[0m\n\u001b[1;32m    440\u001b[0m \u001b[38;5;124;03m    0.825...\u001b[39;00m\n\u001b[1;32m    441\u001b[0m \u001b[38;5;124;03m    \"\"\"\u001b[39;00m\n\u001b[0;32m--> 442\u001b[0m     y_type, y_true, y_pred, multioutput \u001b[38;5;241m=\u001b[39m \u001b[43m_check_reg_targets\u001b[49m\u001b[43m(\u001b[49m\n\u001b[1;32m    443\u001b[0m \u001b[43m        \u001b[49m\u001b[43my_true\u001b[49m\u001b[43m,\u001b[49m\u001b[43m \u001b[49m\u001b[43my_pred\u001b[49m\u001b[43m,\u001b[49m\u001b[43m \u001b[49m\u001b[43mmultioutput\u001b[49m\n\u001b[1;32m    444\u001b[0m \u001b[43m    \u001b[49m\u001b[43m)\u001b[49m\n\u001b[1;32m    445\u001b[0m     check_consistent_length(y_true, y_pred, sample_weight)\n\u001b[1;32m    446\u001b[0m     output_errors \u001b[38;5;241m=\u001b[39m np\u001b[38;5;241m.\u001b[39maverage((y_true \u001b[38;5;241m-\u001b[39m y_pred) \u001b[38;5;241m*\u001b[39m\u001b[38;5;241m*\u001b[39m \u001b[38;5;241m2\u001b[39m, axis\u001b[38;5;241m=\u001b[39m\u001b[38;5;241m0\u001b[39m, weights\u001b[38;5;241m=\u001b[39msample_weight)\n",
      "File \u001b[0;32m~/miniconda3/envs/rcnn/lib/python3.8/site-packages/sklearn/metrics/_regression.py:100\u001b[0m, in \u001b[0;36m_check_reg_targets\u001b[0;34m(y_true, y_pred, multioutput, dtype)\u001b[0m\n\u001b[1;32m     66\u001b[0m \u001b[38;5;28;01mdef\u001b[39;00m \u001b[38;5;21m_check_reg_targets\u001b[39m(y_true, y_pred, multioutput, dtype\u001b[38;5;241m=\u001b[39m\u001b[38;5;124m\"\u001b[39m\u001b[38;5;124mnumeric\u001b[39m\u001b[38;5;124m\"\u001b[39m):\n\u001b[1;32m     67\u001b[0m \u001b[38;5;250m    \u001b[39m\u001b[38;5;124;03m\"\"\"Check that y_true and y_pred belong to the same regression task.\u001b[39;00m\n\u001b[1;32m     68\u001b[0m \n\u001b[1;32m     69\u001b[0m \u001b[38;5;124;03m    Parameters\u001b[39;00m\n\u001b[0;32m   (...)\u001b[0m\n\u001b[1;32m     98\u001b[0m \u001b[38;5;124;03m        correct keyword.\u001b[39;00m\n\u001b[1;32m     99\u001b[0m \u001b[38;5;124;03m    \"\"\"\u001b[39;00m\n\u001b[0;32m--> 100\u001b[0m     \u001b[43mcheck_consistent_length\u001b[49m\u001b[43m(\u001b[49m\u001b[43my_true\u001b[49m\u001b[43m,\u001b[49m\u001b[43m \u001b[49m\u001b[43my_pred\u001b[49m\u001b[43m)\u001b[49m\n\u001b[1;32m    101\u001b[0m     y_true \u001b[38;5;241m=\u001b[39m check_array(y_true, ensure_2d\u001b[38;5;241m=\u001b[39m\u001b[38;5;28;01mFalse\u001b[39;00m, dtype\u001b[38;5;241m=\u001b[39mdtype)\n\u001b[1;32m    102\u001b[0m     y_pred \u001b[38;5;241m=\u001b[39m check_array(y_pred, ensure_2d\u001b[38;5;241m=\u001b[39m\u001b[38;5;28;01mFalse\u001b[39;00m, dtype\u001b[38;5;241m=\u001b[39mdtype)\n",
      "File \u001b[0;32m~/miniconda3/envs/rcnn/lib/python3.8/site-packages/sklearn/utils/validation.py:397\u001b[0m, in \u001b[0;36mcheck_consistent_length\u001b[0;34m(*arrays)\u001b[0m\n\u001b[1;32m    395\u001b[0m uniques \u001b[38;5;241m=\u001b[39m np\u001b[38;5;241m.\u001b[39munique(lengths)\n\u001b[1;32m    396\u001b[0m \u001b[38;5;28;01mif\u001b[39;00m \u001b[38;5;28mlen\u001b[39m(uniques) \u001b[38;5;241m>\u001b[39m \u001b[38;5;241m1\u001b[39m:\n\u001b[0;32m--> 397\u001b[0m     \u001b[38;5;28;01mraise\u001b[39;00m \u001b[38;5;167;01mValueError\u001b[39;00m(\n\u001b[1;32m    398\u001b[0m         \u001b[38;5;124m\"\u001b[39m\u001b[38;5;124mFound input variables with inconsistent numbers of samples: \u001b[39m\u001b[38;5;132;01m%r\u001b[39;00m\u001b[38;5;124m\"\u001b[39m\n\u001b[1;32m    399\u001b[0m         \u001b[38;5;241m%\u001b[39m [\u001b[38;5;28mint\u001b[39m(l) \u001b[38;5;28;01mfor\u001b[39;00m l \u001b[38;5;129;01min\u001b[39;00m lengths]\n\u001b[1;32m    400\u001b[0m     )\n",
      "\u001b[0;31mValueError\u001b[0m: Found input variables with inconsistent numbers of samples: [1345475, 1339496]"
     ]
    }
   ],
   "source": [
    "test_model(lin_reg, X_val_prepared1, y_val1, X_val_prepared2, y_val2)"
   ]
  },
  {
   "cell_type": "markdown",
   "id": "de7c283b",
   "metadata": {},
   "source": [
    "## Generate Sample"
   ]
  },
  {
   "cell_type": "code",
   "execution_count": null,
   "id": "597e669c",
   "metadata": {},
   "outputs": [],
   "source": [
    "sample_data = pd.read_csv('dades/metadata_sample_submission.csv/metadata_sample_submission.csv')"
   ]
  },
  {
   "cell_type": "code",
   "execution_count": null,
   "id": "268849f2",
   "metadata": {},
   "outputs": [],
   "source": [
    "sample_data['year'] = 2023"
   ]
  },
  {
   "cell_type": "code",
   "execution_count": null,
   "id": "fd1f3b9c",
   "metadata": {},
   "outputs": [],
   "source": [
    "sample_data['datetime'] = pd.to_datetime(sample_data[['year','month','day']])\n",
    "sample_data['dayofweek'] = sample_data.datetime.dt.dayofweek\n"
   ]
  },
  {
   "cell_type": "code",
   "execution_count": null,
   "id": "564ce166",
   "metadata": {},
   "outputs": [],
   "source": [
    "sample_data.drop(['datetime', 'index'], axis=1, inplace=True)"
   ]
  },
  {
   "cell_type": "code",
   "execution_count": null,
   "id": "13acc112",
   "metadata": {},
   "outputs": [],
   "source": [
    "sample_data.rename(\n",
    "    columns = {\n",
    "        'ctx-4':'ctx4',\n",
    "        'ctx-3':'ctx3',\n",
    "        'ctx-2':'ctx2',\n",
    "        'ctx-1':'ctx1'\n",
    "    },\n",
    "    inplace=True\n",
    ")"
   ]
  },
  {
   "cell_type": "code",
   "execution_count": null,
   "id": "7f468dce",
   "metadata": {},
   "outputs": [],
   "source": [
    "sample_data"
   ]
  },
  {
   "cell_type": "code",
   "execution_count": null,
   "id": "fd9c5046",
   "metadata": {},
   "outputs": [],
   "source": [
    "%%time\n",
    "\n",
    "X_train_df = pd.read_csv('dades/processed/training_data.csv', index_col='index')\n",
    "y_train_df = pd.read_csv('dades/processed/training_label.csv', index_col='index')\n",
    "\n",
    "X_val1_df = pd.read_csv('dades/processed/validation_data.csv', index_col='index')\n",
    "y_val1_df = pd.read_csv('dades/processed/validation_label.csv', index_col='index')\n",
    "\n",
    "X_val2_df = pd.read_csv('dades/processed/testing_data.csv', index_col='index')\n",
    "y_val2_df = pd.read_csv('dades/processed/testing_label.csv', index_col='index')\n"
   ]
  },
  {
   "cell_type": "code",
   "execution_count": null,
   "id": "c27a99a5",
   "metadata": {},
   "outputs": [],
   "source": [
    "X_train_df"
   ]
  },
  {
   "cell_type": "code",
   "execution_count": null,
   "id": "696eab39",
   "metadata": {},
   "outputs": [],
   "source": [
    "full_pipeline = build_preprocessor(config)\n",
    "\n",
    "X_train_prepared = full_pipeline.fit_transform(X_train)\n",
    "X_val_prepared1 = full_pipeline.transform(X_val1)\n",
    "X_val_prepared2 = full_pipeline.transform(X_val2)\n",
    "X_test_prepared = full_pipeline.transform(sample_data)\n",
    "\n",
    "print(\"x_train_prepared:\",x_train_prepared.shape,\"y_train: \",y_train.shape)\n",
    "print(\"x_test_prepared:\",x_val_prepared.shape,\"y_test: \",y_val.shape)\n",
    "print(\"x_test_prepared:\",x_test_prepared.shape)"
   ]
  },
  {
   "cell_type": "code",
   "execution_count": null,
   "id": "a5250b8b",
   "metadata": {},
   "outputs": [],
   "source": [
    "%%time \n",
    "\n",
    "lin_reg = LinearRegression()\n",
    "cross_val_evaluation(lin_reg,x_train_prepared, y_train,'Linear Regression')\n"
   ]
  },
  {
   "cell_type": "code",
   "execution_count": null,
   "id": "7d2f5c49",
   "metadata": {},
   "outputs": [],
   "source": [
    "lin_reg.fit(x_train_prepared,y_train)\n",
    "test_model(lin_reg, x_train_prepared, y_train, x_val_prepared, y_val)"
   ]
  },
  {
   "cell_type": "code",
   "execution_count": null,
   "id": "35546150",
   "metadata": {},
   "outputs": [],
   "source": [
    "yhat = lin_reg.predict(x_test_prepared)\n"
   ]
  },
  {
   "cell_type": "code",
   "execution_count": null,
   "id": "524e4aa3",
   "metadata": {},
   "outputs": [],
   "source": [
    "yhat.shape"
   ]
  },
  {
   "cell_type": "code",
   "execution_count": null,
   "id": "cbe4e5ca",
   "metadata": {},
   "outputs": [],
   "source": [
    "sample_data['percentage_docks_available'] = yhat"
   ]
  },
  {
   "cell_type": "code",
   "execution_count": null,
   "id": "22424a27",
   "metadata": {},
   "outputs": [],
   "source": [
    "sample_data['percentage_docks_available'].to_csv('predicton_lr.csv', header=True)"
   ]
  },
  {
   "cell_type": "code",
   "execution_count": null,
   "id": "2a3b51da",
   "metadata": {},
   "outputs": [],
   "source": []
  }
 ],
 "metadata": {
  "kernelspec": {
   "display_name": "Python 3 (ipykernel)",
   "language": "python",
   "name": "python3"
  },
  "language_info": {
   "codemirror_mode": {
    "name": "ipython",
    "version": 3
   },
   "file_extension": ".py",
   "mimetype": "text/x-python",
   "name": "python",
   "nbconvert_exporter": "python",
   "pygments_lexer": "ipython3",
   "version": "3.8.16"
  }
 },
 "nbformat": 4,
 "nbformat_minor": 5
}
