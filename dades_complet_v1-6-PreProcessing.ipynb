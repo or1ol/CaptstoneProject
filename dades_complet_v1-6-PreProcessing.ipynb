{
 "cells": [
  {
   "cell_type": "markdown",
   "id": "da37d8d8",
   "metadata": {},
   "source": [
    "# Import"
   ]
  },
  {
   "cell_type": "code",
   "execution_count": 1,
   "id": "886f34aa",
   "metadata": {},
   "outputs": [
    {
     "data": {
      "text/html": [
       "<style>.container { width:80% !important; }</style>"
      ],
      "text/plain": [
       "<IPython.core.display.HTML object>"
      ]
     },
     "metadata": {},
     "output_type": "display_data"
    }
   ],
   "source": [
    "from IPython.display import display, HTML\n",
    "display(HTML(\"<style>.container { width:80% !important; }</style>\"))\n",
    "\n",
    "import os\n",
    "import time\n",
    "# Python ≥3.5 is required\n",
    "import sys\n",
    "assert sys.version_info >= (3, 5)\n",
    "\n",
    "# Scikit-Learn ≥0.20 is required\n",
    "import sklearn\n",
    "assert sklearn.__version__ >= \"0.20\"\n",
    "\n",
    "from sklearn.ensemble import RandomForestRegressor\n",
    "from sklearn.ensemble import GradientBoostingRegressor\n",
    "from sklearn.model_selection import cross_val_score\n",
    "from sklearn.metrics import mean_squared_error, r2_score\n",
    "from sklearn.metrics import mean_absolute_error\n",
    "\n",
    "import pandas as pd\n",
    "import numpy as np\n",
    "pd.set_option('display.max_columns', None)\n",
    "\n",
    "# To plot pretty figures\n",
    "%matplotlib inline\n",
    "import matplotlib as mpl\n",
    "import matplotlib.pyplot as plt\n",
    "\n",
    "import scipy.stats as stats\n",
    "\n",
    "import seaborn as sns\n",
    "\n",
    "from datetime import datetime\n",
    "\n",
    "import re\n",
    "import random\n",
    "\n",
    "from tqdm.notebook import tqdm\n",
    "\n",
    "import dask.dataframe as dd\n",
    "from dask.distributed import LocalCluster, Client\n",
    "\n",
    "sys.path.insert(0, 'tools/')\n",
    "\n",
    "from tools import * "
   ]
  },
  {
   "cell_type": "markdown",
   "id": "cbdfb034",
   "metadata": {},
   "source": [
    "# Run DASK dist client "
   ]
  },
  {
   "cell_type": "code",
   "execution_count": 2,
   "id": "1e6f86d8",
   "metadata": {},
   "outputs": [
    {
     "name": "stderr",
     "output_type": "stream",
     "text": [
      "/home/homeros/miniconda3/envs/rcnn/lib/python3.8/site-packages/distributed/node.py:182: UserWarning: Port 8787 is already in use.\n",
      "Perhaps you already have a cluster running?\n",
      "Hosting the HTTP server on port 45013 instead\n",
      "  warnings.warn(\n"
     ]
    }
   ],
   "source": [
    "\n",
    "cluster = LocalCluster()\n",
    "client = Client(cluster)\n"
   ]
  },
  {
   "cell_type": "code",
   "execution_count": 3,
   "id": "3cd88af8",
   "metadata": {
    "scrolled": true
   },
   "outputs": [
    {
     "data": {
      "application/vnd.jupyter.widget-view+json": {
       "model_id": "4ac8c8d12bbe4b10a66f82ecf1254713",
       "version_major": 2,
       "version_minor": 0
      },
      "text/html": [
       "<div class=\"jp-RenderedHTMLCommon jp-RenderedHTML jp-mod-trusted jp-OutputArea-output\">\n",
       "    <div style=\"width: 24px; height: 24px; background-color: #e1e1e1; border: 3px solid #9D9D9D; border-radius: 5px; position: absolute;\">\n",
       "    </div>\n",
       "    <div style=\"margin-left: 48px;\">\n",
       "        <h3 style=\"margin-bottom: 0px; margin-top: 0px;\">LocalCluster</h3>\n",
       "        <p style=\"color: #9D9D9D; margin-bottom: 0px;\">55fcc579</p>\n",
       "        <table style=\"width: 100%; text-align: left;\">\n",
       "            <tr>\n",
       "                <td style=\"text-align: left;\">\n",
       "                    <strong>Dashboard:</strong> <a href=\"http://127.0.0.1:45013/status\" target=\"_blank\">http://127.0.0.1:45013/status</a>\n",
       "                </td>\n",
       "                <td style=\"text-align: left;\">\n",
       "                    <strong>Workers:</strong> 5\n",
       "                </td>\n",
       "            </tr>\n",
       "            <tr>\n",
       "                <td style=\"text-align: left;\">\n",
       "                    <strong>Total threads:</strong> 20\n",
       "                </td>\n",
       "                <td style=\"text-align: left;\">\n",
       "                    <strong>Total memory:</strong> 31.03 GiB\n",
       "                </td>\n",
       "            </tr>\n",
       "            \n",
       "            <tr>\n",
       "    <td style=\"text-align: left;\"><strong>Status:</strong> running</td>\n",
       "    <td style=\"text-align: left;\"><strong>Using processes:</strong> True</td>\n",
       "</tr>\n",
       "\n",
       "            \n",
       "        </table>\n",
       "\n",
       "        <details>\n",
       "            <summary style=\"margin-bottom: 20px;\">\n",
       "                <h3 style=\"display: inline;\">Scheduler Info</h3>\n",
       "            </summary>\n",
       "\n",
       "            <div style=\"\">\n",
       "    <div>\n",
       "        <div style=\"width: 24px; height: 24px; background-color: #FFF7E5; border: 3px solid #FF6132; border-radius: 5px; position: absolute;\"> </div>\n",
       "        <div style=\"margin-left: 48px;\">\n",
       "            <h3 style=\"margin-bottom: 0px;\">Scheduler</h3>\n",
       "            <p style=\"color: #9D9D9D; margin-bottom: 0px;\">Scheduler-27a7ac8a-3afc-4472-a230-08e3db2daa70</p>\n",
       "            <table style=\"width: 100%; text-align: left;\">\n",
       "                <tr>\n",
       "                    <td style=\"text-align: left;\">\n",
       "                        <strong>Comm:</strong> tcp://127.0.0.1:40153\n",
       "                    </td>\n",
       "                    <td style=\"text-align: left;\">\n",
       "                        <strong>Workers:</strong> 5\n",
       "                    </td>\n",
       "                </tr>\n",
       "                <tr>\n",
       "                    <td style=\"text-align: left;\">\n",
       "                        <strong>Dashboard:</strong> <a href=\"http://127.0.0.1:45013/status\" target=\"_blank\">http://127.0.0.1:45013/status</a>\n",
       "                    </td>\n",
       "                    <td style=\"text-align: left;\">\n",
       "                        <strong>Total threads:</strong> 20\n",
       "                    </td>\n",
       "                </tr>\n",
       "                <tr>\n",
       "                    <td style=\"text-align: left;\">\n",
       "                        <strong>Started:</strong> Just now\n",
       "                    </td>\n",
       "                    <td style=\"text-align: left;\">\n",
       "                        <strong>Total memory:</strong> 31.03 GiB\n",
       "                    </td>\n",
       "                </tr>\n",
       "            </table>\n",
       "        </div>\n",
       "    </div>\n",
       "\n",
       "    <details style=\"margin-left: 48px;\">\n",
       "        <summary style=\"margin-bottom: 20px;\">\n",
       "            <h3 style=\"display: inline;\">Workers</h3>\n",
       "        </summary>\n",
       "\n",
       "        \n",
       "        <div style=\"margin-bottom: 20px;\">\n",
       "            <div style=\"width: 24px; height: 24px; background-color: #DBF5FF; border: 3px solid #4CC9FF; border-radius: 5px; position: absolute;\"> </div>\n",
       "            <div style=\"margin-left: 48px;\">\n",
       "            <details>\n",
       "                <summary>\n",
       "                    <h4 style=\"margin-bottom: 0px; display: inline;\">Worker: 0</h4>\n",
       "                </summary>\n",
       "                <table style=\"width: 100%; text-align: left;\">\n",
       "                    <tr>\n",
       "                        <td style=\"text-align: left;\">\n",
       "                            <strong>Comm: </strong> tcp://127.0.0.1:37539\n",
       "                        </td>\n",
       "                        <td style=\"text-align: left;\">\n",
       "                            <strong>Total threads: </strong> 4\n",
       "                        </td>\n",
       "                    </tr>\n",
       "                    <tr>\n",
       "                        <td style=\"text-align: left;\">\n",
       "                            <strong>Dashboard: </strong> <a href=\"http://127.0.0.1:39951/status\" target=\"_blank\">http://127.0.0.1:39951/status</a>\n",
       "                        </td>\n",
       "                        <td style=\"text-align: left;\">\n",
       "                            <strong>Memory: </strong> 6.21 GiB\n",
       "                        </td>\n",
       "                    </tr>\n",
       "                    <tr>\n",
       "                        <td style=\"text-align: left;\">\n",
       "                            <strong>Nanny: </strong> tcp://127.0.0.1:34399\n",
       "                        </td>\n",
       "                        <td style=\"text-align: left;\"></td>\n",
       "                    </tr>\n",
       "                    <tr>\n",
       "                        <td colspan=\"2\" style=\"text-align: left;\">\n",
       "                            <strong>Local directory: </strong> /tmp/dask-scratch-space/worker-mmyjyldi\n",
       "                        </td>\n",
       "                    </tr>\n",
       "\n",
       "                    \n",
       "\n",
       "                    \n",
       "\n",
       "                </table>\n",
       "            </details>\n",
       "            </div>\n",
       "        </div>\n",
       "        \n",
       "        <div style=\"margin-bottom: 20px;\">\n",
       "            <div style=\"width: 24px; height: 24px; background-color: #DBF5FF; border: 3px solid #4CC9FF; border-radius: 5px; position: absolute;\"> </div>\n",
       "            <div style=\"margin-left: 48px;\">\n",
       "            <details>\n",
       "                <summary>\n",
       "                    <h4 style=\"margin-bottom: 0px; display: inline;\">Worker: 1</h4>\n",
       "                </summary>\n",
       "                <table style=\"width: 100%; text-align: left;\">\n",
       "                    <tr>\n",
       "                        <td style=\"text-align: left;\">\n",
       "                            <strong>Comm: </strong> tcp://127.0.0.1:39201\n",
       "                        </td>\n",
       "                        <td style=\"text-align: left;\">\n",
       "                            <strong>Total threads: </strong> 4\n",
       "                        </td>\n",
       "                    </tr>\n",
       "                    <tr>\n",
       "                        <td style=\"text-align: left;\">\n",
       "                            <strong>Dashboard: </strong> <a href=\"http://127.0.0.1:40293/status\" target=\"_blank\">http://127.0.0.1:40293/status</a>\n",
       "                        </td>\n",
       "                        <td style=\"text-align: left;\">\n",
       "                            <strong>Memory: </strong> 6.21 GiB\n",
       "                        </td>\n",
       "                    </tr>\n",
       "                    <tr>\n",
       "                        <td style=\"text-align: left;\">\n",
       "                            <strong>Nanny: </strong> tcp://127.0.0.1:39325\n",
       "                        </td>\n",
       "                        <td style=\"text-align: left;\"></td>\n",
       "                    </tr>\n",
       "                    <tr>\n",
       "                        <td colspan=\"2\" style=\"text-align: left;\">\n",
       "                            <strong>Local directory: </strong> /tmp/dask-scratch-space/worker-pf52hc12\n",
       "                        </td>\n",
       "                    </tr>\n",
       "\n",
       "                    \n",
       "\n",
       "                    \n",
       "\n",
       "                </table>\n",
       "            </details>\n",
       "            </div>\n",
       "        </div>\n",
       "        \n",
       "        <div style=\"margin-bottom: 20px;\">\n",
       "            <div style=\"width: 24px; height: 24px; background-color: #DBF5FF; border: 3px solid #4CC9FF; border-radius: 5px; position: absolute;\"> </div>\n",
       "            <div style=\"margin-left: 48px;\">\n",
       "            <details>\n",
       "                <summary>\n",
       "                    <h4 style=\"margin-bottom: 0px; display: inline;\">Worker: 2</h4>\n",
       "                </summary>\n",
       "                <table style=\"width: 100%; text-align: left;\">\n",
       "                    <tr>\n",
       "                        <td style=\"text-align: left;\">\n",
       "                            <strong>Comm: </strong> tcp://127.0.0.1:43489\n",
       "                        </td>\n",
       "                        <td style=\"text-align: left;\">\n",
       "                            <strong>Total threads: </strong> 4\n",
       "                        </td>\n",
       "                    </tr>\n",
       "                    <tr>\n",
       "                        <td style=\"text-align: left;\">\n",
       "                            <strong>Dashboard: </strong> <a href=\"http://127.0.0.1:34397/status\" target=\"_blank\">http://127.0.0.1:34397/status</a>\n",
       "                        </td>\n",
       "                        <td style=\"text-align: left;\">\n",
       "                            <strong>Memory: </strong> 6.21 GiB\n",
       "                        </td>\n",
       "                    </tr>\n",
       "                    <tr>\n",
       "                        <td style=\"text-align: left;\">\n",
       "                            <strong>Nanny: </strong> tcp://127.0.0.1:46457\n",
       "                        </td>\n",
       "                        <td style=\"text-align: left;\"></td>\n",
       "                    </tr>\n",
       "                    <tr>\n",
       "                        <td colspan=\"2\" style=\"text-align: left;\">\n",
       "                            <strong>Local directory: </strong> /tmp/dask-scratch-space/worker-4rz1q0k6\n",
       "                        </td>\n",
       "                    </tr>\n",
       "\n",
       "                    \n",
       "\n",
       "                    \n",
       "\n",
       "                </table>\n",
       "            </details>\n",
       "            </div>\n",
       "        </div>\n",
       "        \n",
       "        <div style=\"margin-bottom: 20px;\">\n",
       "            <div style=\"width: 24px; height: 24px; background-color: #DBF5FF; border: 3px solid #4CC9FF; border-radius: 5px; position: absolute;\"> </div>\n",
       "            <div style=\"margin-left: 48px;\">\n",
       "            <details>\n",
       "                <summary>\n",
       "                    <h4 style=\"margin-bottom: 0px; display: inline;\">Worker: 3</h4>\n",
       "                </summary>\n",
       "                <table style=\"width: 100%; text-align: left;\">\n",
       "                    <tr>\n",
       "                        <td style=\"text-align: left;\">\n",
       "                            <strong>Comm: </strong> tcp://127.0.0.1:41049\n",
       "                        </td>\n",
       "                        <td style=\"text-align: left;\">\n",
       "                            <strong>Total threads: </strong> 4\n",
       "                        </td>\n",
       "                    </tr>\n",
       "                    <tr>\n",
       "                        <td style=\"text-align: left;\">\n",
       "                            <strong>Dashboard: </strong> <a href=\"http://127.0.0.1:35989/status\" target=\"_blank\">http://127.0.0.1:35989/status</a>\n",
       "                        </td>\n",
       "                        <td style=\"text-align: left;\">\n",
       "                            <strong>Memory: </strong> 6.21 GiB\n",
       "                        </td>\n",
       "                    </tr>\n",
       "                    <tr>\n",
       "                        <td style=\"text-align: left;\">\n",
       "                            <strong>Nanny: </strong> tcp://127.0.0.1:46467\n",
       "                        </td>\n",
       "                        <td style=\"text-align: left;\"></td>\n",
       "                    </tr>\n",
       "                    <tr>\n",
       "                        <td colspan=\"2\" style=\"text-align: left;\">\n",
       "                            <strong>Local directory: </strong> /tmp/dask-scratch-space/worker-on52f6an\n",
       "                        </td>\n",
       "                    </tr>\n",
       "\n",
       "                    \n",
       "\n",
       "                    \n",
       "\n",
       "                </table>\n",
       "            </details>\n",
       "            </div>\n",
       "        </div>\n",
       "        \n",
       "        <div style=\"margin-bottom: 20px;\">\n",
       "            <div style=\"width: 24px; height: 24px; background-color: #DBF5FF; border: 3px solid #4CC9FF; border-radius: 5px; position: absolute;\"> </div>\n",
       "            <div style=\"margin-left: 48px;\">\n",
       "            <details>\n",
       "                <summary>\n",
       "                    <h4 style=\"margin-bottom: 0px; display: inline;\">Worker: 4</h4>\n",
       "                </summary>\n",
       "                <table style=\"width: 100%; text-align: left;\">\n",
       "                    <tr>\n",
       "                        <td style=\"text-align: left;\">\n",
       "                            <strong>Comm: </strong> tcp://127.0.0.1:39909\n",
       "                        </td>\n",
       "                        <td style=\"text-align: left;\">\n",
       "                            <strong>Total threads: </strong> 4\n",
       "                        </td>\n",
       "                    </tr>\n",
       "                    <tr>\n",
       "                        <td style=\"text-align: left;\">\n",
       "                            <strong>Dashboard: </strong> <a href=\"http://127.0.0.1:37487/status\" target=\"_blank\">http://127.0.0.1:37487/status</a>\n",
       "                        </td>\n",
       "                        <td style=\"text-align: left;\">\n",
       "                            <strong>Memory: </strong> 6.21 GiB\n",
       "                        </td>\n",
       "                    </tr>\n",
       "                    <tr>\n",
       "                        <td style=\"text-align: left;\">\n",
       "                            <strong>Nanny: </strong> tcp://127.0.0.1:45951\n",
       "                        </td>\n",
       "                        <td style=\"text-align: left;\"></td>\n",
       "                    </tr>\n",
       "                    <tr>\n",
       "                        <td colspan=\"2\" style=\"text-align: left;\">\n",
       "                            <strong>Local directory: </strong> /tmp/dask-scratch-space/worker-5122mln0\n",
       "                        </td>\n",
       "                    </tr>\n",
       "\n",
       "                    \n",
       "\n",
       "                    \n",
       "\n",
       "                </table>\n",
       "            </details>\n",
       "            </div>\n",
       "        </div>\n",
       "        \n",
       "\n",
       "    </details>\n",
       "</div>\n",
       "\n",
       "        </details>\n",
       "    </div>\n",
       "</div>"
      ],
      "text/plain": [
       "LocalCluster(55fcc579, 'tcp://127.0.0.1:40153', workers=5, threads=20, memory=31.03 GiB)"
      ]
     },
     "metadata": {},
     "output_type": "display_data"
    }
   ],
   "source": [
    "cluster"
   ]
  },
  {
   "cell_type": "code",
   "execution_count": 4,
   "id": "2d41f2a5",
   "metadata": {},
   "outputs": [
    {
     "data": {
      "text/html": [
       "<div>\n",
       "    <div style=\"width: 24px; height: 24px; background-color: #e1e1e1; border: 3px solid #9D9D9D; border-radius: 5px; position: absolute;\"> </div>\n",
       "    <div style=\"margin-left: 48px;\">\n",
       "        <h3 style=\"margin-bottom: 0px;\">Client</h3>\n",
       "        <p style=\"color: #9D9D9D; margin-bottom: 0px;\">Client-f0351d1a-0fc8-11ee-9658-1d2061152d61</p>\n",
       "        <table style=\"width: 100%; text-align: left;\">\n",
       "\n",
       "        <tr>\n",
       "        \n",
       "            <td style=\"text-align: left;\"><strong>Connection method:</strong> Cluster object</td>\n",
       "            <td style=\"text-align: left;\"><strong>Cluster type:</strong> distributed.LocalCluster</td>\n",
       "        \n",
       "        </tr>\n",
       "\n",
       "        \n",
       "            <tr>\n",
       "                <td style=\"text-align: left;\">\n",
       "                    <strong>Dashboard: </strong> <a href=\"http://127.0.0.1:45013/status\" target=\"_blank\">http://127.0.0.1:45013/status</a>\n",
       "                </td>\n",
       "                <td style=\"text-align: left;\"></td>\n",
       "            </tr>\n",
       "        \n",
       "\n",
       "        </table>\n",
       "\n",
       "        \n",
       "\n",
       "        \n",
       "            <details>\n",
       "            <summary style=\"margin-bottom: 20px;\"><h3 style=\"display: inline;\">Cluster Info</h3></summary>\n",
       "            <div class=\"jp-RenderedHTMLCommon jp-RenderedHTML jp-mod-trusted jp-OutputArea-output\">\n",
       "    <div style=\"width: 24px; height: 24px; background-color: #e1e1e1; border: 3px solid #9D9D9D; border-radius: 5px; position: absolute;\">\n",
       "    </div>\n",
       "    <div style=\"margin-left: 48px;\">\n",
       "        <h3 style=\"margin-bottom: 0px; margin-top: 0px;\">LocalCluster</h3>\n",
       "        <p style=\"color: #9D9D9D; margin-bottom: 0px;\">55fcc579</p>\n",
       "        <table style=\"width: 100%; text-align: left;\">\n",
       "            <tr>\n",
       "                <td style=\"text-align: left;\">\n",
       "                    <strong>Dashboard:</strong> <a href=\"http://127.0.0.1:45013/status\" target=\"_blank\">http://127.0.0.1:45013/status</a>\n",
       "                </td>\n",
       "                <td style=\"text-align: left;\">\n",
       "                    <strong>Workers:</strong> 5\n",
       "                </td>\n",
       "            </tr>\n",
       "            <tr>\n",
       "                <td style=\"text-align: left;\">\n",
       "                    <strong>Total threads:</strong> 20\n",
       "                </td>\n",
       "                <td style=\"text-align: left;\">\n",
       "                    <strong>Total memory:</strong> 31.03 GiB\n",
       "                </td>\n",
       "            </tr>\n",
       "            \n",
       "            <tr>\n",
       "    <td style=\"text-align: left;\"><strong>Status:</strong> running</td>\n",
       "    <td style=\"text-align: left;\"><strong>Using processes:</strong> True</td>\n",
       "</tr>\n",
       "\n",
       "            \n",
       "        </table>\n",
       "\n",
       "        <details>\n",
       "            <summary style=\"margin-bottom: 20px;\">\n",
       "                <h3 style=\"display: inline;\">Scheduler Info</h3>\n",
       "            </summary>\n",
       "\n",
       "            <div style=\"\">\n",
       "    <div>\n",
       "        <div style=\"width: 24px; height: 24px; background-color: #FFF7E5; border: 3px solid #FF6132; border-radius: 5px; position: absolute;\"> </div>\n",
       "        <div style=\"margin-left: 48px;\">\n",
       "            <h3 style=\"margin-bottom: 0px;\">Scheduler</h3>\n",
       "            <p style=\"color: #9D9D9D; margin-bottom: 0px;\">Scheduler-27a7ac8a-3afc-4472-a230-08e3db2daa70</p>\n",
       "            <table style=\"width: 100%; text-align: left;\">\n",
       "                <tr>\n",
       "                    <td style=\"text-align: left;\">\n",
       "                        <strong>Comm:</strong> tcp://127.0.0.1:40153\n",
       "                    </td>\n",
       "                    <td style=\"text-align: left;\">\n",
       "                        <strong>Workers:</strong> 5\n",
       "                    </td>\n",
       "                </tr>\n",
       "                <tr>\n",
       "                    <td style=\"text-align: left;\">\n",
       "                        <strong>Dashboard:</strong> <a href=\"http://127.0.0.1:45013/status\" target=\"_blank\">http://127.0.0.1:45013/status</a>\n",
       "                    </td>\n",
       "                    <td style=\"text-align: left;\">\n",
       "                        <strong>Total threads:</strong> 20\n",
       "                    </td>\n",
       "                </tr>\n",
       "                <tr>\n",
       "                    <td style=\"text-align: left;\">\n",
       "                        <strong>Started:</strong> Just now\n",
       "                    </td>\n",
       "                    <td style=\"text-align: left;\">\n",
       "                        <strong>Total memory:</strong> 31.03 GiB\n",
       "                    </td>\n",
       "                </tr>\n",
       "            </table>\n",
       "        </div>\n",
       "    </div>\n",
       "\n",
       "    <details style=\"margin-left: 48px;\">\n",
       "        <summary style=\"margin-bottom: 20px;\">\n",
       "            <h3 style=\"display: inline;\">Workers</h3>\n",
       "        </summary>\n",
       "\n",
       "        \n",
       "        <div style=\"margin-bottom: 20px;\">\n",
       "            <div style=\"width: 24px; height: 24px; background-color: #DBF5FF; border: 3px solid #4CC9FF; border-radius: 5px; position: absolute;\"> </div>\n",
       "            <div style=\"margin-left: 48px;\">\n",
       "            <details>\n",
       "                <summary>\n",
       "                    <h4 style=\"margin-bottom: 0px; display: inline;\">Worker: 0</h4>\n",
       "                </summary>\n",
       "                <table style=\"width: 100%; text-align: left;\">\n",
       "                    <tr>\n",
       "                        <td style=\"text-align: left;\">\n",
       "                            <strong>Comm: </strong> tcp://127.0.0.1:37539\n",
       "                        </td>\n",
       "                        <td style=\"text-align: left;\">\n",
       "                            <strong>Total threads: </strong> 4\n",
       "                        </td>\n",
       "                    </tr>\n",
       "                    <tr>\n",
       "                        <td style=\"text-align: left;\">\n",
       "                            <strong>Dashboard: </strong> <a href=\"http://127.0.0.1:39951/status\" target=\"_blank\">http://127.0.0.1:39951/status</a>\n",
       "                        </td>\n",
       "                        <td style=\"text-align: left;\">\n",
       "                            <strong>Memory: </strong> 6.21 GiB\n",
       "                        </td>\n",
       "                    </tr>\n",
       "                    <tr>\n",
       "                        <td style=\"text-align: left;\">\n",
       "                            <strong>Nanny: </strong> tcp://127.0.0.1:34399\n",
       "                        </td>\n",
       "                        <td style=\"text-align: left;\"></td>\n",
       "                    </tr>\n",
       "                    <tr>\n",
       "                        <td colspan=\"2\" style=\"text-align: left;\">\n",
       "                            <strong>Local directory: </strong> /tmp/dask-scratch-space/worker-mmyjyldi\n",
       "                        </td>\n",
       "                    </tr>\n",
       "\n",
       "                    \n",
       "\n",
       "                    \n",
       "\n",
       "                </table>\n",
       "            </details>\n",
       "            </div>\n",
       "        </div>\n",
       "        \n",
       "        <div style=\"margin-bottom: 20px;\">\n",
       "            <div style=\"width: 24px; height: 24px; background-color: #DBF5FF; border: 3px solid #4CC9FF; border-radius: 5px; position: absolute;\"> </div>\n",
       "            <div style=\"margin-left: 48px;\">\n",
       "            <details>\n",
       "                <summary>\n",
       "                    <h4 style=\"margin-bottom: 0px; display: inline;\">Worker: 1</h4>\n",
       "                </summary>\n",
       "                <table style=\"width: 100%; text-align: left;\">\n",
       "                    <tr>\n",
       "                        <td style=\"text-align: left;\">\n",
       "                            <strong>Comm: </strong> tcp://127.0.0.1:39201\n",
       "                        </td>\n",
       "                        <td style=\"text-align: left;\">\n",
       "                            <strong>Total threads: </strong> 4\n",
       "                        </td>\n",
       "                    </tr>\n",
       "                    <tr>\n",
       "                        <td style=\"text-align: left;\">\n",
       "                            <strong>Dashboard: </strong> <a href=\"http://127.0.0.1:40293/status\" target=\"_blank\">http://127.0.0.1:40293/status</a>\n",
       "                        </td>\n",
       "                        <td style=\"text-align: left;\">\n",
       "                            <strong>Memory: </strong> 6.21 GiB\n",
       "                        </td>\n",
       "                    </tr>\n",
       "                    <tr>\n",
       "                        <td style=\"text-align: left;\">\n",
       "                            <strong>Nanny: </strong> tcp://127.0.0.1:39325\n",
       "                        </td>\n",
       "                        <td style=\"text-align: left;\"></td>\n",
       "                    </tr>\n",
       "                    <tr>\n",
       "                        <td colspan=\"2\" style=\"text-align: left;\">\n",
       "                            <strong>Local directory: </strong> /tmp/dask-scratch-space/worker-pf52hc12\n",
       "                        </td>\n",
       "                    </tr>\n",
       "\n",
       "                    \n",
       "\n",
       "                    \n",
       "\n",
       "                </table>\n",
       "            </details>\n",
       "            </div>\n",
       "        </div>\n",
       "        \n",
       "        <div style=\"margin-bottom: 20px;\">\n",
       "            <div style=\"width: 24px; height: 24px; background-color: #DBF5FF; border: 3px solid #4CC9FF; border-radius: 5px; position: absolute;\"> </div>\n",
       "            <div style=\"margin-left: 48px;\">\n",
       "            <details>\n",
       "                <summary>\n",
       "                    <h4 style=\"margin-bottom: 0px; display: inline;\">Worker: 2</h4>\n",
       "                </summary>\n",
       "                <table style=\"width: 100%; text-align: left;\">\n",
       "                    <tr>\n",
       "                        <td style=\"text-align: left;\">\n",
       "                            <strong>Comm: </strong> tcp://127.0.0.1:43489\n",
       "                        </td>\n",
       "                        <td style=\"text-align: left;\">\n",
       "                            <strong>Total threads: </strong> 4\n",
       "                        </td>\n",
       "                    </tr>\n",
       "                    <tr>\n",
       "                        <td style=\"text-align: left;\">\n",
       "                            <strong>Dashboard: </strong> <a href=\"http://127.0.0.1:34397/status\" target=\"_blank\">http://127.0.0.1:34397/status</a>\n",
       "                        </td>\n",
       "                        <td style=\"text-align: left;\">\n",
       "                            <strong>Memory: </strong> 6.21 GiB\n",
       "                        </td>\n",
       "                    </tr>\n",
       "                    <tr>\n",
       "                        <td style=\"text-align: left;\">\n",
       "                            <strong>Nanny: </strong> tcp://127.0.0.1:46457\n",
       "                        </td>\n",
       "                        <td style=\"text-align: left;\"></td>\n",
       "                    </tr>\n",
       "                    <tr>\n",
       "                        <td colspan=\"2\" style=\"text-align: left;\">\n",
       "                            <strong>Local directory: </strong> /tmp/dask-scratch-space/worker-4rz1q0k6\n",
       "                        </td>\n",
       "                    </tr>\n",
       "\n",
       "                    \n",
       "\n",
       "                    \n",
       "\n",
       "                </table>\n",
       "            </details>\n",
       "            </div>\n",
       "        </div>\n",
       "        \n",
       "        <div style=\"margin-bottom: 20px;\">\n",
       "            <div style=\"width: 24px; height: 24px; background-color: #DBF5FF; border: 3px solid #4CC9FF; border-radius: 5px; position: absolute;\"> </div>\n",
       "            <div style=\"margin-left: 48px;\">\n",
       "            <details>\n",
       "                <summary>\n",
       "                    <h4 style=\"margin-bottom: 0px; display: inline;\">Worker: 3</h4>\n",
       "                </summary>\n",
       "                <table style=\"width: 100%; text-align: left;\">\n",
       "                    <tr>\n",
       "                        <td style=\"text-align: left;\">\n",
       "                            <strong>Comm: </strong> tcp://127.0.0.1:41049\n",
       "                        </td>\n",
       "                        <td style=\"text-align: left;\">\n",
       "                            <strong>Total threads: </strong> 4\n",
       "                        </td>\n",
       "                    </tr>\n",
       "                    <tr>\n",
       "                        <td style=\"text-align: left;\">\n",
       "                            <strong>Dashboard: </strong> <a href=\"http://127.0.0.1:35989/status\" target=\"_blank\">http://127.0.0.1:35989/status</a>\n",
       "                        </td>\n",
       "                        <td style=\"text-align: left;\">\n",
       "                            <strong>Memory: </strong> 6.21 GiB\n",
       "                        </td>\n",
       "                    </tr>\n",
       "                    <tr>\n",
       "                        <td style=\"text-align: left;\">\n",
       "                            <strong>Nanny: </strong> tcp://127.0.0.1:46467\n",
       "                        </td>\n",
       "                        <td style=\"text-align: left;\"></td>\n",
       "                    </tr>\n",
       "                    <tr>\n",
       "                        <td colspan=\"2\" style=\"text-align: left;\">\n",
       "                            <strong>Local directory: </strong> /tmp/dask-scratch-space/worker-on52f6an\n",
       "                        </td>\n",
       "                    </tr>\n",
       "\n",
       "                    \n",
       "\n",
       "                    \n",
       "\n",
       "                </table>\n",
       "            </details>\n",
       "            </div>\n",
       "        </div>\n",
       "        \n",
       "        <div style=\"margin-bottom: 20px;\">\n",
       "            <div style=\"width: 24px; height: 24px; background-color: #DBF5FF; border: 3px solid #4CC9FF; border-radius: 5px; position: absolute;\"> </div>\n",
       "            <div style=\"margin-left: 48px;\">\n",
       "            <details>\n",
       "                <summary>\n",
       "                    <h4 style=\"margin-bottom: 0px; display: inline;\">Worker: 4</h4>\n",
       "                </summary>\n",
       "                <table style=\"width: 100%; text-align: left;\">\n",
       "                    <tr>\n",
       "                        <td style=\"text-align: left;\">\n",
       "                            <strong>Comm: </strong> tcp://127.0.0.1:39909\n",
       "                        </td>\n",
       "                        <td style=\"text-align: left;\">\n",
       "                            <strong>Total threads: </strong> 4\n",
       "                        </td>\n",
       "                    </tr>\n",
       "                    <tr>\n",
       "                        <td style=\"text-align: left;\">\n",
       "                            <strong>Dashboard: </strong> <a href=\"http://127.0.0.1:37487/status\" target=\"_blank\">http://127.0.0.1:37487/status</a>\n",
       "                        </td>\n",
       "                        <td style=\"text-align: left;\">\n",
       "                            <strong>Memory: </strong> 6.21 GiB\n",
       "                        </td>\n",
       "                    </tr>\n",
       "                    <tr>\n",
       "                        <td style=\"text-align: left;\">\n",
       "                            <strong>Nanny: </strong> tcp://127.0.0.1:45951\n",
       "                        </td>\n",
       "                        <td style=\"text-align: left;\"></td>\n",
       "                    </tr>\n",
       "                    <tr>\n",
       "                        <td colspan=\"2\" style=\"text-align: left;\">\n",
       "                            <strong>Local directory: </strong> /tmp/dask-scratch-space/worker-5122mln0\n",
       "                        </td>\n",
       "                    </tr>\n",
       "\n",
       "                    \n",
       "\n",
       "                    \n",
       "\n",
       "                </table>\n",
       "            </details>\n",
       "            </div>\n",
       "        </div>\n",
       "        \n",
       "\n",
       "    </details>\n",
       "</div>\n",
       "\n",
       "        </details>\n",
       "    </div>\n",
       "</div>\n",
       "            </details>\n",
       "        \n",
       "\n",
       "    </div>\n",
       "</div>"
      ],
      "text/plain": [
       "<Client: 'tcp://127.0.0.1:40153' processes=5 threads=20, memory=31.03 GiB>"
      ]
     },
     "execution_count": 4,
     "metadata": {},
     "output_type": "execute_result"
    }
   ],
   "source": [
    "client"
   ]
  },
  {
   "cell_type": "code",
   "execution_count": 5,
   "id": "d2ffae84",
   "metadata": {},
   "outputs": [
    {
     "data": {
      "text/plain": [
       "{'tcp://127.0.0.1:37539': 1,\n",
       " 'tcp://127.0.0.1:39201': 1,\n",
       " 'tcp://127.0.0.1:39909': 1,\n",
       " 'tcp://127.0.0.1:41049': 1,\n",
       " 'tcp://127.0.0.1:43489': 1}"
      ]
     },
     "execution_count": 5,
     "metadata": {},
     "output_type": "execute_result"
    }
   ],
   "source": [
    "import ctypes\n",
    "\n",
    "def trim_memory() -> int:\n",
    "    libc = ctypes.CDLL(\"libc.so.6\")\n",
    "    return libc.malloc_trim(0)\n",
    "\n",
    "client.run(trim_memory)"
   ]
  },
  {
   "cell_type": "markdown",
   "id": "900c12e0",
   "metadata": {},
   "source": [
    "# Read and merge"
   ]
  },
  {
   "cell_type": "code",
   "execution_count": 6,
   "id": "32f3bf4e",
   "metadata": {},
   "outputs": [],
   "source": [
    "config = pd.Series({\n",
    "    'path': os.path.abspath('dades'),\n",
    "    'file_type':'csv',\n",
    "    'years':[2019, 2020, 2021, 2022, 2023],\n",
    "    'dataset': 'BicingNou_ESTACIONS_MOD'\n",
    "})"
   ]
  },
  {
   "cell_type": "code",
   "execution_count": 7,
   "id": "24cb2875",
   "metadata": {},
   "outputs": [
    {
     "name": "stdout",
     "output_type": "stream",
     "text": [
      "checkpoint reloaded.\n",
      "checkpoint reloaded.\n",
      "checkpoint reloaded.\n",
      "checkpoint reloaded.\n",
      "checkpoint reloaded.\n",
      "CPU times: user 62.4 ms, sys: 6.92 ms, total: 69.3 ms\n",
      "Wall time: 68.6 ms\n"
     ]
    }
   ],
   "source": [
    "%%time\n",
    "\n",
    "def read_data_all(cnfg:dict):\n",
    "\n",
    "    data = dict()\n",
    "\n",
    "    for year in cnfg.years:\n",
    "        cnfg['year'] = year\n",
    "        data[year] = load_checkpoint(cnfg)\n",
    "    \n",
    "    return dd.concat(list(data.values()), interleave_partitions=False)\n",
    "    \n",
    "bbdd_completa = read_data_all(config)   "
   ]
  },
  {
   "cell_type": "markdown",
   "id": "ba4e1a97",
   "metadata": {},
   "source": [
    "# Preprocessing"
   ]
  },
  {
   "cell_type": "code",
   "execution_count": 8,
   "id": "f7d9f27c",
   "metadata": {},
   "outputs": [
    {
     "name": "stdout",
     "output_type": "stream",
     "text": [
      "(17707721, 23)\n",
      "1\n",
      "2\n",
      "3\n",
      "4\n",
      "5\n",
      "6\n",
      "(17707721, 21)\n",
      "Changes to dataframe durinf preprocessing\n",
      "dropeed 00 rows\n",
      "dropped -2 columns\n",
      "CPU times: user 3.68 s, sys: 481 ms, total: 4.16 s\n",
      "Wall time: 15.8 s\n"
     ]
    }
   ],
   "source": [
    "%%time\n",
    "\n",
    "index=0\n",
    "before = get_ddf_shape(bbdd_completa)\n",
    "print(before)\n",
    "\n",
    "index+=1\n",
    "print(index)\n",
    "# 1 Error fix. # 2019 gener, febrer and marc have the status reversed\n",
    "cond = (bbdd_completa.year == 2019) & (bbdd_completa.month.isin([1,2,3]))\n",
    "bbdd_completa['status'] = bbdd_completa['status'].mask(cond, ((bbdd_completa['status'] + 1) %2))\n",
    "index+=1\n",
    "print(index)\n",
    "# 2 Remove not needed status, manitenance, planned. open = 0, closed = 1 \n",
    "cond = (bbdd_completa['status'].isin([2.0,3.0]))\n",
    "bbdd_completa['status'] = bbdd_completa['status'].mask(cond, 1.0)\n",
    "# bbdd_completa = bbdd_completa.dropna(subset=['status'])\n",
    "index+=1\n",
    "print(index)\n",
    "# 3 Remove data from 2020\n",
    "# cond = (bbdd_completa['year'].isin([2020]))\n",
    "# bbdd_completa = bbdd_completa.mask(cond, np.nan)\n",
    "# bbdd_completa = bbdd_completa.dropna(subset=['year'])\n",
    "# index+=1\n",
    "# print(index)\n",
    "# 4 2019 to 2020 to have continuos data \n",
    "# cond = (bbdd_completa['year'].isin([2019]))\n",
    "# bbdd_completa['year'] = bbdd_completa['year'].mask(cond, bbdd_completa['year']+1)\n",
    "# index+=1\n",
    "# print(index)\n",
    "# 5 status reversed \n",
    "bbdd_completa['status'] = (bbdd_completa['status'] + 1)%2\n",
    "index+=1\n",
    "print(index)\n",
    "# 6 Column has all ones\n",
    "bbdd_completa = bbdd_completa.drop(columns=['is_installed'])\n",
    "index+=1\n",
    "print(index)\n",
    "# 7 Column has all ones\n",
    "bbdd_completa = bbdd_completa.drop(columns=['is_charging_station'])\n",
    "index+=1\n",
    "print(index)\n",
    "# 8 Remove row where status = closed and is renting and is returning\n",
    "# cond = (bbdd_completa['status'].isin([0.0])) & (bbdd_completa['is_renting'].isin([1.0])) & (bbdd_completa['is_returning'].isin([1.0]))\n",
    "# bbdd_completa = bbdd_completa.mask(cond, np.nan)\n",
    "# bbdd_completa = bbdd_completa.dropna(subset=['status'])\n",
    "\n",
    "after = get_ddf_shape(bbdd_completa)\n",
    "print(after)\n",
    "\n",
    "print('Changes to dataframe durinf preprocessing')\n",
    "print(f'dropeed {(after[0]-before[0]):02d} rows')\n",
    "print(f'dropped {(after[1]-before[1]):02d} columns')\n",
    "# 14138178"
   ]
  },
  {
   "cell_type": "markdown",
   "id": "8b29ac42",
   "metadata": {},
   "source": [
    "## Drop duplicate data"
   ]
  },
  {
   "cell_type": "code",
   "execution_count": 9,
   "id": "53c9a92a",
   "metadata": {},
   "outputs": [
    {
     "data": {
      "text/plain": [
       "{'tcp://127.0.0.1:37539': 1,\n",
       " 'tcp://127.0.0.1:39201': 1,\n",
       " 'tcp://127.0.0.1:39909': 1,\n",
       " 'tcp://127.0.0.1:41049': 1,\n",
       " 'tcp://127.0.0.1:43489': 1}"
      ]
     },
     "execution_count": 9,
     "metadata": {},
     "output_type": "execute_result"
    }
   ],
   "source": [
    "client.run(trim_memory)"
   ]
  },
  {
   "cell_type": "code",
   "execution_count": 10,
   "id": "daaae984",
   "metadata": {},
   "outputs": [],
   "source": [
    "def drop_duplicates_per_year(ddf):\n",
    "    years = ddf.year.unique()\n",
    "    \n",
    "    before = get_ddf_shape(ddf)\n",
    "    print(before)\n",
    "    \n",
    "    data = list()\n",
    "    \n",
    "    for year in years:\n",
    "        print(year)\n",
    "        data_year = ddf[ddf.year.isin([year])]\n",
    "        \n",
    "        data_year = data_year.drop_duplicates(subset=['timestamp', 'station_id'], keep='last')\n",
    "        \n",
    "        data.append(data_year)\n",
    "        \n",
    "        client.run(trim_memory)\n",
    "        \n",
    "        time.sleep(1)\n",
    "        \n",
    "    ddf_clean = dd.concat(data, interleave_partitions=False)\n",
    "    \n",
    "    after = get_ddf_shape(ddf_clean)\n",
    "    print(after)\n",
    "\n",
    "    print('Changes to dataframe durinf preprocessing')\n",
    "    print(f'dropeed {(after[0]-before[0]):02d} rows')\n",
    "    print(f'dropped {(after[1]-before[1]):02d} columns')\n",
    "    return ddf_clean\n"
   ]
  },
  {
   "cell_type": "code",
   "execution_count": 11,
   "id": "fc06dbe9",
   "metadata": {},
   "outputs": [
    {
     "name": "stdout",
     "output_type": "stream",
     "text": [
      "(17707721, 21)\n",
      "2019\n",
      "2020\n",
      "2021\n",
      "2022\n",
      "2023\n",
      "(17561940, 21)\n",
      "Changes to dataframe durinf preprocessing\n",
      "dropeed -145781 rows\n",
      "dropped 00 columns\n",
      "CPU times: user 9.24 s, sys: 733 ms, total: 9.98 s\n",
      "Wall time: 35.9 s\n"
     ]
    }
   ],
   "source": [
    "%%time\n",
    "\n",
    "bbdd_completa = drop_duplicates_per_year(bbdd_completa)"
   ]
  },
  {
   "cell_type": "markdown",
   "id": "c9c47e7a",
   "metadata": {},
   "source": [
    "## Drop not needed data"
   ]
  },
  {
   "cell_type": "code",
   "execution_count": 12,
   "id": "4c65a875",
   "metadata": {},
   "outputs": [
    {
     "name": "stdout",
     "output_type": "stream",
     "text": [
      "(17561940, 21)\n",
      "(17103752, 21)\n",
      "Changes to dataframe durinf preprocessing\n",
      "dropeed -458188 rows\n",
      "dropped 00 columns\n"
     ]
    }
   ],
   "source": [
    "\n",
    "\n",
    "before = get_ddf_shape(bbdd_completa)\n",
    "print(before)\n",
    "# remove data where status is closed\n",
    "# remove data where status is open but is not returing nor renting\n",
    "cond = (bbdd_completa['status'].isin([0]))\n",
    "bbdd_completa['status'] = bbdd_completa['status'].mask(cond, np.nan)\n",
    "bbdd_completa = bbdd_completa.dropna(subset=['status'])\n",
    "\n",
    "cond = (bbdd_completa['status'].isin([1])) & (bbdd_completa['is_returning'].isin([0])) & (bbdd_completa['is_renting'].isin([0]))\n",
    "bbdd_completa['status'] = bbdd_completa['status'].mask(cond, np.nan)\n",
    "bbdd_completa = bbdd_completa.dropna(subset=['status'])\n",
    "\n",
    "after = get_ddf_shape(bbdd_completa)\n",
    "print(after)\n",
    "\n",
    "print('Changes to dataframe durinf preprocessing')\n",
    "print(f'dropeed {(after[0]-before[0]):02d} rows')\n",
    "print(f'dropped {(after[1]-before[1]):02d} columns')\n"
   ]
  },
  {
   "cell_type": "markdown",
   "id": "bfba1f13",
   "metadata": {},
   "source": [
    "## Drop not needed columns "
   ]
  },
  {
   "cell_type": "code",
   "execution_count": 13,
   "id": "c1b76c80",
   "metadata": {},
   "outputs": [],
   "source": [
    "bbdd_completa = bbdd_completa.drop(\n",
    "    columns=[\n",
    "        'num_docks_available',\n",
    "        'timestamp',\n",
    "        'num_bikes_available_types.ebike',\n",
    "        'num_bikes_available_types.mechanical',\n",
    "        'num_bikes_available',\n",
    "        'is_returning',\n",
    "        'is_renting',\n",
    "        'status'\n",
    "    ]\n",
    ")"
   ]
  },
  {
   "cell_type": "markdown",
   "id": "19ba58ef",
   "metadata": {},
   "source": [
    "# Additional datasets"
   ]
  },
  {
   "cell_type": "markdown",
   "id": "84eb4894",
   "metadata": {},
   "source": [
    "## Festius 2019 - 2023 "
   ]
  },
  {
   "cell_type": "code",
   "execution_count": 14,
   "id": "925963f2",
   "metadata": {},
   "outputs": [
    {
     "data": {
      "text/plain": [
       "{'tcp://127.0.0.1:37539': 1,\n",
       " 'tcp://127.0.0.1:39201': 1,\n",
       " 'tcp://127.0.0.1:39909': 1,\n",
       " 'tcp://127.0.0.1:41049': 1,\n",
       " 'tcp://127.0.0.1:43489': 1}"
      ]
     },
     "execution_count": 14,
     "metadata": {},
     "output_type": "execute_result"
    }
   ],
   "source": [
    "client.run(trim_memory)"
   ]
  },
  {
   "cell_type": "code",
   "execution_count": 15,
   "id": "b77abe8e",
   "metadata": {},
   "outputs": [],
   "source": [
    "df_calendari_festius = pd.read_csv('./Altres_dades/calendari_festius.csv',sep=';')"
   ]
  },
  {
   "cell_type": "code",
   "execution_count": 16,
   "id": "8f77f015",
   "metadata": {},
   "outputs": [
    {
     "data": {
      "text/plain": [
       "fecha              datetime64[ns]\n",
       "festius                    object\n",
       "festius_sun                object\n",
       "festius_sun_sat            object\n",
       "dtype: object"
      ]
     },
     "execution_count": 16,
     "metadata": {},
     "output_type": "execute_result"
    }
   ],
   "source": [
    "df_calendari_festius['fecha'] = pd.to_datetime(df_calendari_festius['fecha'], format='%d/%m/%y')\n",
    "df_calendari_festius.dtypes"
   ]
  },
  {
   "cell_type": "code",
   "execution_count": 17,
   "id": "8858cd8c",
   "metadata": {},
   "outputs": [],
   "source": [
    "df_calendari_festius['year'] = df_calendari_festius['fecha'].dt.year\n",
    "df_calendari_festius['month'] = df_calendari_festius['fecha'].dt.month\n",
    "df_calendari_festius['day'] = df_calendari_festius['fecha'].dt.day"
   ]
  },
  {
   "cell_type": "code",
   "execution_count": 18,
   "id": "214dfacf",
   "metadata": {},
   "outputs": [],
   "source": [
    "df_calendari_festius['dayofweek'] = df_calendari_festius['fecha'].dt.dayofweek"
   ]
  },
  {
   "cell_type": "code",
   "execution_count": 19,
   "id": "3236361f",
   "metadata": {},
   "outputs": [
    {
     "data": {
      "text/plain": [
       "pandas.core.frame.DataFrame"
      ]
     },
     "execution_count": 19,
     "metadata": {},
     "output_type": "execute_result"
    }
   ],
   "source": [
    "type(df_calendari_festius)"
   ]
  },
  {
   "cell_type": "code",
   "execution_count": 20,
   "id": "0733fa41",
   "metadata": {},
   "outputs": [],
   "source": [
    "df_calendari_festius.drop('fecha', axis=1, inplace=True)"
   ]
  },
  {
   "cell_type": "code",
   "execution_count": 21,
   "id": "02e14d61",
   "metadata": {},
   "outputs": [],
   "source": [
    "# replace IN_SERVICE with 0 and CLOSED with 1 \n",
    "df_calendari_festius['festius'].replace(\n",
    "    to_replace=['No', 'Yes'],                       \n",
    "    value=[0, 1], inplace=True)\n",
    "\n",
    "df_calendari_festius['festius_sun'].replace(\n",
    "    to_replace=['No', 'Yes'],                       \n",
    "    value=[0, 1], inplace=True)\n",
    "\n",
    "df_calendari_festius['festius_sun_sat'].replace(\n",
    "    to_replace=['No', 'Yes'],                       \n",
    "    value=[0, 1], inplace=True)\n"
   ]
  },
  {
   "cell_type": "code",
   "execution_count": 22,
   "id": "d70f9030",
   "metadata": {},
   "outputs": [],
   "source": [
    "df_calendari_festius.loc[df_calendari_festius.dayofweek.isin([5,6]), 'festius_sun_sat'] = 1\n",
    "df_calendari_festius.loc[df_calendari_festius.dayofweek.isin([6]), 'festius_sun'] = 1"
   ]
  },
  {
   "cell_type": "code",
   "execution_count": 23,
   "id": "03996784",
   "metadata": {},
   "outputs": [],
   "source": [
    "df_calendari_festius['weekend'] = df_calendari_festius.dayofweek.isin([5,6]).astype(int)"
   ]
  },
  {
   "cell_type": "code",
   "execution_count": 24,
   "id": "cec4cee2",
   "metadata": {},
   "outputs": [
    {
     "data": {
      "text/plain": [
       "(365, 8)"
      ]
     },
     "execution_count": 24,
     "metadata": {},
     "output_type": "execute_result"
    }
   ],
   "source": [
    "df_calendari_festius[df_calendari_festius.year.isin([2019])].shape"
   ]
  },
  {
   "cell_type": "code",
   "execution_count": 25,
   "id": "40eed64c",
   "metadata": {},
   "outputs": [],
   "source": [
    "df_calendari_festius.loc[(df_calendari_festius.festius == 1) & (df_calendari_festius.festius_sun != 1), 'festius'] = 0 "
   ]
  },
  {
   "cell_type": "code",
   "execution_count": 26,
   "id": "d7df1af3",
   "metadata": {},
   "outputs": [],
   "source": [
    "df_calendari_festius.loc[(df_calendari_festius.month == 1) & (df_calendari_festius.day.isin([1,6])), ['festius','festius_sun','festius_sun_sat']] = 1"
   ]
  },
  {
   "cell_type": "code",
   "execution_count": 27,
   "id": "6aa74ef3",
   "metadata": {},
   "outputs": [
    {
     "data": {
      "text/html": [
       "<div>\n",
       "<style scoped>\n",
       "    .dataframe tbody tr th:only-of-type {\n",
       "        vertical-align: middle;\n",
       "    }\n",
       "\n",
       "    .dataframe tbody tr th {\n",
       "        vertical-align: top;\n",
       "    }\n",
       "\n",
       "    .dataframe thead th {\n",
       "        text-align: right;\n",
       "    }\n",
       "</style>\n",
       "<table border=\"1\" class=\"dataframe\">\n",
       "  <thead>\n",
       "    <tr style=\"text-align: right;\">\n",
       "      <th></th>\n",
       "      <th>festius</th>\n",
       "      <th>festius_sun</th>\n",
       "      <th>festius_sun_sat</th>\n",
       "      <th>year</th>\n",
       "      <th>month</th>\n",
       "      <th>day</th>\n",
       "      <th>dayofweek</th>\n",
       "      <th>weekend</th>\n",
       "    </tr>\n",
       "  </thead>\n",
       "  <tbody>\n",
       "    <tr>\n",
       "      <th>0</th>\n",
       "      <td>1</td>\n",
       "      <td>1</td>\n",
       "      <td>1</td>\n",
       "      <td>2019</td>\n",
       "      <td>1</td>\n",
       "      <td>1</td>\n",
       "      <td>1</td>\n",
       "      <td>0</td>\n",
       "    </tr>\n",
       "    <tr>\n",
       "      <th>5</th>\n",
       "      <td>1</td>\n",
       "      <td>1</td>\n",
       "      <td>1</td>\n",
       "      <td>2019</td>\n",
       "      <td>1</td>\n",
       "      <td>6</td>\n",
       "      <td>6</td>\n",
       "      <td>1</td>\n",
       "    </tr>\n",
       "    <tr>\n",
       "      <th>108</th>\n",
       "      <td>1</td>\n",
       "      <td>1</td>\n",
       "      <td>1</td>\n",
       "      <td>2019</td>\n",
       "      <td>4</td>\n",
       "      <td>19</td>\n",
       "      <td>4</td>\n",
       "      <td>0</td>\n",
       "    </tr>\n",
       "    <tr>\n",
       "      <th>111</th>\n",
       "      <td>1</td>\n",
       "      <td>1</td>\n",
       "      <td>1</td>\n",
       "      <td>2019</td>\n",
       "      <td>4</td>\n",
       "      <td>22</td>\n",
       "      <td>0</td>\n",
       "      <td>0</td>\n",
       "    </tr>\n",
       "    <tr>\n",
       "      <th>120</th>\n",
       "      <td>1</td>\n",
       "      <td>1</td>\n",
       "      <td>1</td>\n",
       "      <td>2019</td>\n",
       "      <td>5</td>\n",
       "      <td>1</td>\n",
       "      <td>2</td>\n",
       "      <td>0</td>\n",
       "    </tr>\n",
       "    <tr>\n",
       "      <th>160</th>\n",
       "      <td>1</td>\n",
       "      <td>1</td>\n",
       "      <td>1</td>\n",
       "      <td>2019</td>\n",
       "      <td>6</td>\n",
       "      <td>10</td>\n",
       "      <td>0</td>\n",
       "      <td>0</td>\n",
       "    </tr>\n",
       "    <tr>\n",
       "      <th>174</th>\n",
       "      <td>1</td>\n",
       "      <td>1</td>\n",
       "      <td>1</td>\n",
       "      <td>2019</td>\n",
       "      <td>6</td>\n",
       "      <td>24</td>\n",
       "      <td>0</td>\n",
       "      <td>0</td>\n",
       "    </tr>\n",
       "    <tr>\n",
       "      <th>226</th>\n",
       "      <td>1</td>\n",
       "      <td>1</td>\n",
       "      <td>1</td>\n",
       "      <td>2019</td>\n",
       "      <td>8</td>\n",
       "      <td>15</td>\n",
       "      <td>3</td>\n",
       "      <td>0</td>\n",
       "    </tr>\n",
       "    <tr>\n",
       "      <th>253</th>\n",
       "      <td>1</td>\n",
       "      <td>1</td>\n",
       "      <td>1</td>\n",
       "      <td>2019</td>\n",
       "      <td>9</td>\n",
       "      <td>11</td>\n",
       "      <td>2</td>\n",
       "      <td>0</td>\n",
       "    </tr>\n",
       "    <tr>\n",
       "      <th>266</th>\n",
       "      <td>1</td>\n",
       "      <td>1</td>\n",
       "      <td>1</td>\n",
       "      <td>2019</td>\n",
       "      <td>9</td>\n",
       "      <td>24</td>\n",
       "      <td>1</td>\n",
       "      <td>0</td>\n",
       "    </tr>\n",
       "    <tr>\n",
       "      <th>284</th>\n",
       "      <td>1</td>\n",
       "      <td>1</td>\n",
       "      <td>1</td>\n",
       "      <td>2019</td>\n",
       "      <td>10</td>\n",
       "      <td>12</td>\n",
       "      <td>5</td>\n",
       "      <td>1</td>\n",
       "    </tr>\n",
       "    <tr>\n",
       "      <th>304</th>\n",
       "      <td>1</td>\n",
       "      <td>1</td>\n",
       "      <td>1</td>\n",
       "      <td>2019</td>\n",
       "      <td>11</td>\n",
       "      <td>1</td>\n",
       "      <td>4</td>\n",
       "      <td>0</td>\n",
       "    </tr>\n",
       "    <tr>\n",
       "      <th>339</th>\n",
       "      <td>1</td>\n",
       "      <td>1</td>\n",
       "      <td>1</td>\n",
       "      <td>2019</td>\n",
       "      <td>12</td>\n",
       "      <td>6</td>\n",
       "      <td>4</td>\n",
       "      <td>0</td>\n",
       "    </tr>\n",
       "    <tr>\n",
       "      <th>358</th>\n",
       "      <td>1</td>\n",
       "      <td>1</td>\n",
       "      <td>1</td>\n",
       "      <td>2019</td>\n",
       "      <td>12</td>\n",
       "      <td>25</td>\n",
       "      <td>2</td>\n",
       "      <td>0</td>\n",
       "    </tr>\n",
       "    <tr>\n",
       "      <th>359</th>\n",
       "      <td>1</td>\n",
       "      <td>1</td>\n",
       "      <td>1</td>\n",
       "      <td>2019</td>\n",
       "      <td>12</td>\n",
       "      <td>26</td>\n",
       "      <td>3</td>\n",
       "      <td>0</td>\n",
       "    </tr>\n",
       "  </tbody>\n",
       "</table>\n",
       "</div>"
      ],
      "text/plain": [
       "     festius  festius_sun  festius_sun_sat  year  month  day  dayofweek  \\\n",
       "0          1            1                1  2019      1    1          1   \n",
       "5          1            1                1  2019      1    6          6   \n",
       "108        1            1                1  2019      4   19          4   \n",
       "111        1            1                1  2019      4   22          0   \n",
       "120        1            1                1  2019      5    1          2   \n",
       "160        1            1                1  2019      6   10          0   \n",
       "174        1            1                1  2019      6   24          0   \n",
       "226        1            1                1  2019      8   15          3   \n",
       "253        1            1                1  2019      9   11          2   \n",
       "266        1            1                1  2019      9   24          1   \n",
       "284        1            1                1  2019     10   12          5   \n",
       "304        1            1                1  2019     11    1          4   \n",
       "339        1            1                1  2019     12    6          4   \n",
       "358        1            1                1  2019     12   25          2   \n",
       "359        1            1                1  2019     12   26          3   \n",
       "\n",
       "     weekend  \n",
       "0          0  \n",
       "5          1  \n",
       "108        0  \n",
       "111        0  \n",
       "120        0  \n",
       "160        0  \n",
       "174        0  \n",
       "226        0  \n",
       "253        0  \n",
       "266        0  \n",
       "284        1  \n",
       "304        0  \n",
       "339        0  \n",
       "358        0  \n",
       "359        0  "
      ]
     },
     "execution_count": 27,
     "metadata": {},
     "output_type": "execute_result"
    }
   ],
   "source": [
    "df_calendari_festius[df_calendari_festius.festius.isin([1]) & df_calendari_festius.year.isin([2019])]"
   ]
  },
  {
   "cell_type": "code",
   "execution_count": 28,
   "id": "416a2cbe",
   "metadata": {},
   "outputs": [
    {
     "data": {
      "text/html": [
       "<div>\n",
       "<style scoped>\n",
       "    .dataframe tbody tr th:only-of-type {\n",
       "        vertical-align: middle;\n",
       "    }\n",
       "\n",
       "    .dataframe tbody tr th {\n",
       "        vertical-align: top;\n",
       "    }\n",
       "\n",
       "    .dataframe thead th {\n",
       "        text-align: right;\n",
       "    }\n",
       "</style>\n",
       "<table border=\"1\" class=\"dataframe\">\n",
       "  <thead>\n",
       "    <tr style=\"text-align: right;\">\n",
       "      <th></th>\n",
       "      <th>festius</th>\n",
       "      <th>festius_sun</th>\n",
       "      <th>festius_sun_sat</th>\n",
       "      <th>year</th>\n",
       "      <th>month</th>\n",
       "      <th>day</th>\n",
       "      <th>dayofweek</th>\n",
       "      <th>weekend</th>\n",
       "    </tr>\n",
       "  </thead>\n",
       "  <tbody>\n",
       "    <tr>\n",
       "      <th>1096</th>\n",
       "      <td>1</td>\n",
       "      <td>1</td>\n",
       "      <td>1</td>\n",
       "      <td>2022</td>\n",
       "      <td>1</td>\n",
       "      <td>1</td>\n",
       "      <td>5</td>\n",
       "      <td>1</td>\n",
       "    </tr>\n",
       "    <tr>\n",
       "      <th>1101</th>\n",
       "      <td>1</td>\n",
       "      <td>1</td>\n",
       "      <td>1</td>\n",
       "      <td>2022</td>\n",
       "      <td>1</td>\n",
       "      <td>6</td>\n",
       "      <td>3</td>\n",
       "      <td>0</td>\n",
       "    </tr>\n",
       "    <tr>\n",
       "      <th>1200</th>\n",
       "      <td>1</td>\n",
       "      <td>1</td>\n",
       "      <td>1</td>\n",
       "      <td>2022</td>\n",
       "      <td>4</td>\n",
       "      <td>15</td>\n",
       "      <td>4</td>\n",
       "      <td>0</td>\n",
       "    </tr>\n",
       "    <tr>\n",
       "      <th>1203</th>\n",
       "      <td>1</td>\n",
       "      <td>1</td>\n",
       "      <td>1</td>\n",
       "      <td>2022</td>\n",
       "      <td>4</td>\n",
       "      <td>18</td>\n",
       "      <td>0</td>\n",
       "      <td>0</td>\n",
       "    </tr>\n",
       "    <tr>\n",
       "      <th>1252</th>\n",
       "      <td>1</td>\n",
       "      <td>1</td>\n",
       "      <td>1</td>\n",
       "      <td>2022</td>\n",
       "      <td>6</td>\n",
       "      <td>6</td>\n",
       "      <td>0</td>\n",
       "      <td>0</td>\n",
       "    </tr>\n",
       "    <tr>\n",
       "      <th>1270</th>\n",
       "      <td>1</td>\n",
       "      <td>1</td>\n",
       "      <td>1</td>\n",
       "      <td>2022</td>\n",
       "      <td>6</td>\n",
       "      <td>24</td>\n",
       "      <td>4</td>\n",
       "      <td>0</td>\n",
       "    </tr>\n",
       "    <tr>\n",
       "      <th>1322</th>\n",
       "      <td>1</td>\n",
       "      <td>1</td>\n",
       "      <td>1</td>\n",
       "      <td>2022</td>\n",
       "      <td>8</td>\n",
       "      <td>15</td>\n",
       "      <td>0</td>\n",
       "      <td>0</td>\n",
       "    </tr>\n",
       "    <tr>\n",
       "      <th>1362</th>\n",
       "      <td>1</td>\n",
       "      <td>1</td>\n",
       "      <td>1</td>\n",
       "      <td>2022</td>\n",
       "      <td>9</td>\n",
       "      <td>24</td>\n",
       "      <td>5</td>\n",
       "      <td>1</td>\n",
       "    </tr>\n",
       "    <tr>\n",
       "      <th>1364</th>\n",
       "      <td>1</td>\n",
       "      <td>1</td>\n",
       "      <td>1</td>\n",
       "      <td>2022</td>\n",
       "      <td>9</td>\n",
       "      <td>26</td>\n",
       "      <td>0</td>\n",
       "      <td>0</td>\n",
       "    </tr>\n",
       "    <tr>\n",
       "      <th>1380</th>\n",
       "      <td>1</td>\n",
       "      <td>1</td>\n",
       "      <td>1</td>\n",
       "      <td>2022</td>\n",
       "      <td>10</td>\n",
       "      <td>12</td>\n",
       "      <td>2</td>\n",
       "      <td>0</td>\n",
       "    </tr>\n",
       "    <tr>\n",
       "      <th>1400</th>\n",
       "      <td>1</td>\n",
       "      <td>1</td>\n",
       "      <td>1</td>\n",
       "      <td>2022</td>\n",
       "      <td>11</td>\n",
       "      <td>1</td>\n",
       "      <td>1</td>\n",
       "      <td>0</td>\n",
       "    </tr>\n",
       "    <tr>\n",
       "      <th>1435</th>\n",
       "      <td>1</td>\n",
       "      <td>1</td>\n",
       "      <td>1</td>\n",
       "      <td>2022</td>\n",
       "      <td>12</td>\n",
       "      <td>6</td>\n",
       "      <td>1</td>\n",
       "      <td>0</td>\n",
       "    </tr>\n",
       "    <tr>\n",
       "      <th>1437</th>\n",
       "      <td>1</td>\n",
       "      <td>1</td>\n",
       "      <td>1</td>\n",
       "      <td>2022</td>\n",
       "      <td>12</td>\n",
       "      <td>8</td>\n",
       "      <td>3</td>\n",
       "      <td>0</td>\n",
       "    </tr>\n",
       "    <tr>\n",
       "      <th>1455</th>\n",
       "      <td>1</td>\n",
       "      <td>1</td>\n",
       "      <td>1</td>\n",
       "      <td>2022</td>\n",
       "      <td>12</td>\n",
       "      <td>26</td>\n",
       "      <td>0</td>\n",
       "      <td>0</td>\n",
       "    </tr>\n",
       "  </tbody>\n",
       "</table>\n",
       "</div>"
      ],
      "text/plain": [
       "      festius  festius_sun  festius_sun_sat  year  month  day  dayofweek  \\\n",
       "1096        1            1                1  2022      1    1          5   \n",
       "1101        1            1                1  2022      1    6          3   \n",
       "1200        1            1                1  2022      4   15          4   \n",
       "1203        1            1                1  2022      4   18          0   \n",
       "1252        1            1                1  2022      6    6          0   \n",
       "1270        1            1                1  2022      6   24          4   \n",
       "1322        1            1                1  2022      8   15          0   \n",
       "1362        1            1                1  2022      9   24          5   \n",
       "1364        1            1                1  2022      9   26          0   \n",
       "1380        1            1                1  2022     10   12          2   \n",
       "1400        1            1                1  2022     11    1          1   \n",
       "1435        1            1                1  2022     12    6          1   \n",
       "1437        1            1                1  2022     12    8          3   \n",
       "1455        1            1                1  2022     12   26          0   \n",
       "\n",
       "      weekend  \n",
       "1096        1  \n",
       "1101        0  \n",
       "1200        0  \n",
       "1203        0  \n",
       "1252        0  \n",
       "1270        0  \n",
       "1322        0  \n",
       "1362        1  \n",
       "1364        0  \n",
       "1380        0  \n",
       "1400        0  \n",
       "1435        0  \n",
       "1437        0  \n",
       "1455        0  "
      ]
     },
     "execution_count": 28,
     "metadata": {},
     "output_type": "execute_result"
    }
   ],
   "source": [
    "df_calendari_festius[df_calendari_festius.festius.isin([1]) & df_calendari_festius.year.isin([2022])]"
   ]
  },
  {
   "cell_type": "code",
   "execution_count": 29,
   "id": "fabe1423",
   "metadata": {},
   "outputs": [
    {
     "data": {
      "text/html": [
       "<div>\n",
       "<style scoped>\n",
       "    .dataframe tbody tr th:only-of-type {\n",
       "        vertical-align: middle;\n",
       "    }\n",
       "\n",
       "    .dataframe tbody tr th {\n",
       "        vertical-align: top;\n",
       "    }\n",
       "\n",
       "    .dataframe thead th {\n",
       "        text-align: right;\n",
       "    }\n",
       "</style>\n",
       "<table border=\"1\" class=\"dataframe\">\n",
       "  <thead>\n",
       "    <tr style=\"text-align: right;\">\n",
       "      <th></th>\n",
       "      <th>festius</th>\n",
       "      <th>festius_sun</th>\n",
       "      <th>festius_sun_sat</th>\n",
       "      <th>year</th>\n",
       "      <th>month</th>\n",
       "      <th>day</th>\n",
       "      <th>dayofweek</th>\n",
       "      <th>weekend</th>\n",
       "    </tr>\n",
       "  </thead>\n",
       "  <tbody>\n",
       "    <tr>\n",
       "      <th>1461</th>\n",
       "      <td>1</td>\n",
       "      <td>1</td>\n",
       "      <td>1</td>\n",
       "      <td>2023</td>\n",
       "      <td>1</td>\n",
       "      <td>1</td>\n",
       "      <td>6</td>\n",
       "      <td>1</td>\n",
       "    </tr>\n",
       "    <tr>\n",
       "      <th>1466</th>\n",
       "      <td>1</td>\n",
       "      <td>1</td>\n",
       "      <td>1</td>\n",
       "      <td>2023</td>\n",
       "      <td>1</td>\n",
       "      <td>6</td>\n",
       "      <td>4</td>\n",
       "      <td>0</td>\n",
       "    </tr>\n",
       "    <tr>\n",
       "      <th>1557</th>\n",
       "      <td>1</td>\n",
       "      <td>1</td>\n",
       "      <td>1</td>\n",
       "      <td>2023</td>\n",
       "      <td>4</td>\n",
       "      <td>7</td>\n",
       "      <td>4</td>\n",
       "      <td>0</td>\n",
       "    </tr>\n",
       "    <tr>\n",
       "      <th>1560</th>\n",
       "      <td>1</td>\n",
       "      <td>1</td>\n",
       "      <td>1</td>\n",
       "      <td>2023</td>\n",
       "      <td>4</td>\n",
       "      <td>10</td>\n",
       "      <td>0</td>\n",
       "      <td>0</td>\n",
       "    </tr>\n",
       "  </tbody>\n",
       "</table>\n",
       "</div>"
      ],
      "text/plain": [
       "      festius  festius_sun  festius_sun_sat  year  month  day  dayofweek  \\\n",
       "1461        1            1                1  2023      1    1          6   \n",
       "1466        1            1                1  2023      1    6          4   \n",
       "1557        1            1                1  2023      4    7          4   \n",
       "1560        1            1                1  2023      4   10          0   \n",
       "\n",
       "      weekend  \n",
       "1461        1  \n",
       "1466        0  \n",
       "1557        0  \n",
       "1560        0  "
      ]
     },
     "execution_count": 29,
     "metadata": {},
     "output_type": "execute_result"
    }
   ],
   "source": [
    "df_calendari_festius[df_calendari_festius.festius.isin([1]) & df_calendari_festius.year.isin([2023])]"
   ]
  },
  {
   "cell_type": "code",
   "execution_count": 30,
   "id": "16d5226a",
   "metadata": {},
   "outputs": [],
   "source": [
    "df_calendari_festius.drop('dayofweek', axis=1, inplace=True)"
   ]
  },
  {
   "cell_type": "markdown",
   "id": "a0389c72",
   "metadata": {},
   "source": [
    "## Meteo 2019 - 2023 "
   ]
  },
  {
   "cell_type": "code",
   "execution_count": 31,
   "id": "de282020",
   "metadata": {},
   "outputs": [
    {
     "data": {
      "text/plain": [
       "{'tcp://127.0.0.1:37539': 1,\n",
       " 'tcp://127.0.0.1:39201': 1,\n",
       " 'tcp://127.0.0.1:39909': 1,\n",
       " 'tcp://127.0.0.1:41049': 1,\n",
       " 'tcp://127.0.0.1:43489': 1}"
      ]
     },
     "execution_count": 31,
     "metadata": {},
     "output_type": "execute_result"
    }
   ],
   "source": [
    "client.run(trim_memory)"
   ]
  },
  {
   "cell_type": "code",
   "execution_count": 32,
   "id": "795d1f63",
   "metadata": {},
   "outputs": [],
   "source": [
    "df_meteo_metadata = pd.read_csv('./Altres_dades/MetadataMeteo/MeteoCat_Metadades.csv',sep=',')"
   ]
  },
  {
   "cell_type": "code",
   "execution_count": 33,
   "id": "eb7ed3ae",
   "metadata": {},
   "outputs": [
    {
     "data": {
      "text/html": [
       "<div>\n",
       "<style scoped>\n",
       "    .dataframe tbody tr th:only-of-type {\n",
       "        vertical-align: middle;\n",
       "    }\n",
       "\n",
       "    .dataframe tbody tr th {\n",
       "        vertical-align: top;\n",
       "    }\n",
       "\n",
       "    .dataframe thead th {\n",
       "        text-align: right;\n",
       "    }\n",
       "</style>\n",
       "<table border=\"1\" class=\"dataframe\">\n",
       "  <thead>\n",
       "    <tr style=\"text-align: right;\">\n",
       "      <th></th>\n",
       "      <th>CODI_VARIABLE</th>\n",
       "      <th>NOM_VARIABLE</th>\n",
       "      <th>UNITAT</th>\n",
       "      <th>ACRÒNIM</th>\n",
       "    </tr>\n",
       "  </thead>\n",
       "  <tbody>\n",
       "    <tr>\n",
       "      <th>0</th>\n",
       "      <td>1000</td>\n",
       "      <td>Temperatura mitjana diària</td>\n",
       "      <td>°C</td>\n",
       "      <td>TM</td>\n",
       "    </tr>\n",
       "    <tr>\n",
       "      <th>1</th>\n",
       "      <td>1001</td>\n",
       "      <td>Temperatura màxima diària + hora</td>\n",
       "      <td>°C</td>\n",
       "      <td>TX</td>\n",
       "    </tr>\n",
       "    <tr>\n",
       "      <th>2</th>\n",
       "      <td>1002</td>\n",
       "      <td>Temperatura mínima diària + hora</td>\n",
       "      <td>°C</td>\n",
       "      <td>TN</td>\n",
       "    </tr>\n",
       "    <tr>\n",
       "      <th>3</th>\n",
       "      <td>1100</td>\n",
       "      <td>Humitat relativa mitjana diària</td>\n",
       "      <td>%</td>\n",
       "      <td>HRM</td>\n",
       "    </tr>\n",
       "    <tr>\n",
       "      <th>4</th>\n",
       "      <td>1101</td>\n",
       "      <td>Humitat relativa màxima diària + data</td>\n",
       "      <td>%</td>\n",
       "      <td>HRX</td>\n",
       "    </tr>\n",
       "    <tr>\n",
       "      <th>5</th>\n",
       "      <td>1102</td>\n",
       "      <td>Humitat relativa mínima diària + data</td>\n",
       "      <td>%</td>\n",
       "      <td>HRN</td>\n",
       "    </tr>\n",
       "    <tr>\n",
       "      <th>6</th>\n",
       "      <td>1200</td>\n",
       "      <td>Pressió atmosfèrica mitjana diària</td>\n",
       "      <td>hPa</td>\n",
       "      <td>PM</td>\n",
       "    </tr>\n",
       "    <tr>\n",
       "      <th>7</th>\n",
       "      <td>1201</td>\n",
       "      <td>Pressió atmosfèrica màxima diària + hora</td>\n",
       "      <td>hPa</td>\n",
       "      <td>PX</td>\n",
       "    </tr>\n",
       "    <tr>\n",
       "      <th>8</th>\n",
       "      <td>1202</td>\n",
       "      <td>Pressió atmosfèrica mínima diària + hora</td>\n",
       "      <td>hPa</td>\n",
       "      <td>PN</td>\n",
       "    </tr>\n",
       "    <tr>\n",
       "      <th>9</th>\n",
       "      <td>1300</td>\n",
       "      <td>Precipitació acumulada diària</td>\n",
       "      <td>mm</td>\n",
       "      <td>PPT</td>\n",
       "    </tr>\n",
       "    <tr>\n",
       "      <th>10</th>\n",
       "      <td>1400</td>\n",
       "      <td>Irradiació solar global diària</td>\n",
       "      <td>MJ/m2</td>\n",
       "      <td>RS24h</td>\n",
       "    </tr>\n",
       "    <tr>\n",
       "      <th>11</th>\n",
       "      <td>1503</td>\n",
       "      <td>Velocitat mitjana diària del vent 10 m (esc.)</td>\n",
       "      <td>m/s</td>\n",
       "      <td>VVM10</td>\n",
       "    </tr>\n",
       "    <tr>\n",
       "      <th>12</th>\n",
       "      <td>1509</td>\n",
       "      <td>Direcció mitjana diària del vent 10 m (m. 1)</td>\n",
       "      <td>°</td>\n",
       "      <td>DVM10</td>\n",
       "    </tr>\n",
       "    <tr>\n",
       "      <th>13</th>\n",
       "      <td>1512</td>\n",
       "      <td>Ratxa màxima diària del vent 10 m + hora</td>\n",
       "      <td>m/s</td>\n",
       "      <td>VVX10</td>\n",
       "    </tr>\n",
       "    <tr>\n",
       "      <th>14</th>\n",
       "      <td>1515</td>\n",
       "      <td>Direcció de la ratxa màx. diària de vent 10 m</td>\n",
       "      <td>°</td>\n",
       "      <td>DVVX10</td>\n",
       "    </tr>\n",
       "  </tbody>\n",
       "</table>\n",
       "</div>"
      ],
      "text/plain": [
       "    CODI_VARIABLE                                   NOM_VARIABLE UNITAT  \\\n",
       "0            1000                     Temperatura mitjana diària     °C   \n",
       "1            1001               Temperatura màxima diària + hora     °C   \n",
       "2            1002               Temperatura mínima diària + hora     °C   \n",
       "3            1100                Humitat relativa mitjana diària      %   \n",
       "4            1101          Humitat relativa màxima diària + data      %   \n",
       "5            1102          Humitat relativa mínima diària + data      %   \n",
       "6            1200             Pressió atmosfèrica mitjana diària    hPa   \n",
       "7            1201       Pressió atmosfèrica màxima diària + hora    hPa   \n",
       "8            1202       Pressió atmosfèrica mínima diària + hora    hPa   \n",
       "9            1300                  Precipitació acumulada diària     mm   \n",
       "10           1400                 Irradiació solar global diària  MJ/m2   \n",
       "11           1503  Velocitat mitjana diària del vent 10 m (esc.)    m/s   \n",
       "12           1509  Direcció mitjana diària del vent 10 m (m. 1)       °   \n",
       "13           1512      Ratxa màxima diària del vent 10 m + hora     m/s   \n",
       "14           1515  Direcció de la ratxa màx. diària de vent 10 m      °   \n",
       "\n",
       "   ACRÒNIM  \n",
       "0       TM  \n",
       "1       TX  \n",
       "2       TN  \n",
       "3      HRM  \n",
       "4      HRX  \n",
       "5      HRN  \n",
       "6       PM  \n",
       "7       PX  \n",
       "8       PN  \n",
       "9      PPT  \n",
       "10   RS24h  \n",
       "11   VVM10  \n",
       "12   DVM10  \n",
       "13   VVX10  \n",
       "14  DVVX10  "
      ]
     },
     "execution_count": 33,
     "metadata": {},
     "output_type": "execute_result"
    }
   ],
   "source": [
    "df_meteo_metadata"
   ]
  },
  {
   "cell_type": "code",
   "execution_count": 34,
   "id": "dae9383e",
   "metadata": {},
   "outputs": [],
   "source": [
    "df_estadistica_meteo_19_d5 = pd.read_csv('./Altres_dades/EstadísticsEstacionsMeteo/2019_d5_observatori_fabra.csv',sep=',')\n",
    "df_estadistica_meteo_19_x2 = pd.read_csv('./Altres_dades/EstadísticsEstacionsMeteo/2019_x2_barcelona_zoo.csv',sep=',')\n",
    "df_estadistica_meteo_19_x4 = pd.read_csv('./Altres_dades/EstadísticsEstacionsMeteo/2019_x4_barcelona_el_raval.csv',sep=',')\n",
    "df_estadistica_meteo_19_x8 = pd.read_csv('./Altres_dades/EstadísticsEstacionsMeteo/2019_x8_barcelona_zona_universitaria.csv',sep=',')"
   ]
  },
  {
   "cell_type": "code",
   "execution_count": 35,
   "id": "ddefd8de",
   "metadata": {},
   "outputs": [],
   "source": [
    "def convert_columns(data):\n",
    "    print(data.shape)\n",
    "    \n",
    "    data.rename(\n",
    "        columns={\n",
    "            'PPT24H':'PPT',\n",
    "            'DVX10':'DVVX10',\n",
    "            'RS24H':'RS24h',\n",
    "            'HPA':'PM'\n",
    "        },\n",
    "        inplace=True\n",
    "    )\n",
    "    \n",
    "    for acro in df_meteo_metadata['ACRÒNIM'].values:\n",
    "        if acro not in data.columns.values:\n",
    "            data[acro] = np.nan\n",
    "    \n",
    "    code = data.CODI_ESTACIO.unique().tolist().pop()\n",
    "    \n",
    "    data.drop('CODI_ESTACIO', axis=1, inplace=True)\n",
    "\n",
    "    data = data.set_index('DATA_LECTURA')\n",
    "\n",
    "    data.columns = [f'VALOR_{col}_{code}' for col in data.columns.values]\n",
    "\n",
    "    data = data.reset_index()\n",
    "\n",
    "    data['DATA_LECTURA'] = pd.to_datetime(data['DATA_LECTURA'], format='%d/%m/%Y')\n",
    "#     data['year'] = data['DATA_LECTURA'].dt.year\n",
    "    \n",
    "    print(data.shape)\n",
    "    \n",
    "    return data"
   ]
  },
  {
   "cell_type": "code",
   "execution_count": 36,
   "id": "3b1c1ff7",
   "metadata": {},
   "outputs": [
    {
     "name": "stdout",
     "output_type": "stream",
     "text": [
      "(8766, 13)\n",
      "(8766, 16)\n",
      "(4832, 6)\n",
      "(4832, 16)\n",
      "(4809, 13)\n",
      "(4809, 16)\n",
      "(4262, 13)\n",
      "(4262, 16)\n"
     ]
    }
   ],
   "source": [
    "df_estadistica_meteo_19_d5 = convert_columns(df_estadistica_meteo_19_d5)\n",
    "\n",
    "df_estadistica_meteo_19_x2 = convert_columns(df_estadistica_meteo_19_x2)\n",
    "\n",
    "df_estadistica_meteo_19_x4 = convert_columns(df_estadistica_meteo_19_x4)\n",
    "\n",
    "df_estadistica_meteo_19_x8 = convert_columns(df_estadistica_meteo_19_x8)"
   ]
  },
  {
   "cell_type": "code",
   "execution_count": 37,
   "id": "fcbce3b2",
   "metadata": {},
   "outputs": [],
   "source": [
    "df_estadistica_meteo_19 = pd.merge(\n",
    "    pd.merge(\n",
    "        df_estadistica_meteo_19_d5, df_estadistica_meteo_19_x2, \n",
    "        on='DATA_LECTURA',\n",
    "        how='outer',\n",
    "    ),\n",
    "    pd.merge(\n",
    "        df_estadistica_meteo_19_x4, df_estadistica_meteo_19_x8, \n",
    "        on='DATA_LECTURA',\n",
    "        how='outer',\n",
    "    ), \n",
    "    on='DATA_LECTURA',\n",
    "    how='outer',\n",
    ")\n"
   ]
  },
  {
   "cell_type": "code",
   "execution_count": 38,
   "id": "4c12262c",
   "metadata": {},
   "outputs": [],
   "source": [
    "df_estadistica_meteo_19['year'] = df_estadistica_meteo_19['DATA_LECTURA'].dt.year\n",
    "\n",
    "df_estadistica_meteo_19 = df_estadistica_meteo_19[df_estadistica_meteo_19.year.isin([2019])]"
   ]
  },
  {
   "cell_type": "code",
   "execution_count": 39,
   "id": "00b0cc63",
   "metadata": {},
   "outputs": [],
   "source": [
    "df_estadistica_meteo_20 = pd.read_csv('./Altres_dades/EstadísticsEstacionsMeteo/2020_MeteoCat_Detall_Estacions.csv',sep=',')\n",
    "df_estadistica_meteo_21 = pd.read_csv('./Altres_dades/EstadísticsEstacionsMeteo/2021_MeteoCat_Detall_Estacions.csv',sep=',')\n",
    "df_estadistica_meteo_22 = pd.read_csv('./Altres_dades/EstadísticsEstacionsMeteo/2022_MeteoCat_Detall_Estacions.csv',sep=',')\n",
    "df_estadistica_meteo_23 = pd.read_csv('./Altres_dades/EstadísticsEstacionsMeteo/2023_MeteoCat_Detall_Estacions.csv',sep=',')\n"
   ]
  },
  {
   "cell_type": "code",
   "execution_count": 40,
   "id": "c99ddb09",
   "metadata": {},
   "outputs": [
    {
     "name": "stdout",
     "output_type": "stream",
     "text": [
      "(18637, 4)\n",
      "(18615, 4)\n",
      "(18605, 4)\n",
      "(8007, 4)\n",
      "(63864, 4)\n",
      "is there duplicates:  False\n",
      "(1253, 62)\n",
      "CPU times: user 30.5 ms, sys: 0 ns, total: 30.5 ms\n",
      "Wall time: 29.9 ms\n"
     ]
    }
   ],
   "source": [
    "%%time \n",
    "\n",
    "df_estadistica_meteo_20.drop('DATA_EXTREM', axis=1, inplace=True)\n",
    "print(df_estadistica_meteo_20.shape)\n",
    "\n",
    "df_estadistica_meteo_21.drop('DATA_EXTREM', axis=1, inplace=True)\n",
    "print(df_estadistica_meteo_21.shape)\n",
    "\n",
    "df_estadistica_meteo_22.drop('DATA_EXTREM', axis=1, inplace=True)\n",
    "print(df_estadistica_meteo_22.shape)\n",
    "\n",
    "df_estadistica_meteo_23.drop('DATA_EXTREM', axis=1, inplace=True)\n",
    "print(df_estadistica_meteo_23.shape)\n",
    "\n",
    "df_20_21_22_23 = pd.concat([df_estadistica_meteo_20, df_estadistica_meteo_21, df_estadistica_meteo_22, df_estadistica_meteo_23])\n",
    "print(df_20_21_22_23.shape)\n",
    "#change indexing \n",
    "df_20_21_22_23 = pd.DataFrame(df_20_21_22_23.set_index(['ACRÒNIM', 'DATA_LECTURA', 'CODI_ESTACIO']).unstack(['ACRÒNIM']))\n",
    "df_20_21_22_23 = df_20_21_22_23.reindex()\n",
    "df_20_21_22_23 = df_20_21_22_23.unstack()\n",
    "df_20_21_22_23.columns = ['_'.join(col) for col in df_20_21_22_23.columns.values]\n",
    "df_20_21_22_23 = df_20_21_22_23.reset_index()\n",
    "\n",
    "df_20_21_22_23['DATA_LECTURA'] = pd.to_datetime(df_20_21_22_23['DATA_LECTURA'], format='%Y-%m-%d')\n",
    "df_20_21_22_23['year'] = df_20_21_22_23['DATA_LECTURA'].dt.year\n",
    "\n",
    "# checking duplicates \n",
    "print('is there duplicates: ', (df_20_21_22_23.groupby('DATA_LECTURA').count().reset_index().VALOR_DVM10_D5 > 1 ).any())\n",
    "\n",
    "print(df_20_21_22_23.shape)"
   ]
  },
  {
   "cell_type": "code",
   "execution_count": 41,
   "id": "e9bf4bee",
   "metadata": {},
   "outputs": [],
   "source": [
    "df_estadistica_meteo = pd.concat([df_estadistica_meteo_19, df_20_21_22_23])"
   ]
  },
  {
   "cell_type": "code",
   "execution_count": 42,
   "id": "e8800ba3",
   "metadata": {},
   "outputs": [
    {
     "data": {
      "text/html": [
       "<div>\n",
       "<style scoped>\n",
       "    .dataframe tbody tr th:only-of-type {\n",
       "        vertical-align: middle;\n",
       "    }\n",
       "\n",
       "    .dataframe tbody tr th {\n",
       "        vertical-align: top;\n",
       "    }\n",
       "\n",
       "    .dataframe thead th {\n",
       "        text-align: right;\n",
       "    }\n",
       "</style>\n",
       "<table border=\"1\" class=\"dataframe\">\n",
       "  <thead>\n",
       "    <tr style=\"text-align: right;\">\n",
       "      <th></th>\n",
       "      <th>DATA_LECTURA</th>\n",
       "      <th>VALOR_TM_D5</th>\n",
       "      <th>VALOR_TX_D5</th>\n",
       "      <th>VALOR_TN_D5</th>\n",
       "      <th>VALOR_HRM_D5</th>\n",
       "      <th>VALOR_PPT_D5</th>\n",
       "      <th>VALOR_PM_D5</th>\n",
       "      <th>VALOR_RS24h_D5</th>\n",
       "      <th>VALOR_VVM10_D5</th>\n",
       "      <th>VALOR_DVM10_D5</th>\n",
       "      <th>VALOR_VVX10_D5</th>\n",
       "      <th>VALOR_DVVX10_D5</th>\n",
       "      <th>VALOR_HRX_D5</th>\n",
       "      <th>VALOR_HRN_D5</th>\n",
       "      <th>VALOR_PX_D5</th>\n",
       "      <th>VALOR_PN_D5</th>\n",
       "      <th>VALOR_TM_X2</th>\n",
       "      <th>VALOR_TX_X2</th>\n",
       "      <th>VALOR_TN_X2</th>\n",
       "      <th>VALOR_HRM_X2</th>\n",
       "      <th>VALOR_HRX_X2</th>\n",
       "      <th>VALOR_HRN_X2</th>\n",
       "      <th>VALOR_PM_X2</th>\n",
       "      <th>VALOR_PX_X2</th>\n",
       "      <th>VALOR_PN_X2</th>\n",
       "      <th>VALOR_PPT_X2</th>\n",
       "      <th>VALOR_RS24h_X2</th>\n",
       "      <th>VALOR_VVM10_X2</th>\n",
       "      <th>VALOR_DVM10_X2</th>\n",
       "      <th>VALOR_VVX10_X2</th>\n",
       "      <th>VALOR_DVVX10_X2</th>\n",
       "      <th>VALOR_TM_X4</th>\n",
       "      <th>VALOR_TX_X4</th>\n",
       "      <th>VALOR_TN_X4</th>\n",
       "      <th>VALOR_HRM_X4</th>\n",
       "      <th>VALOR_PPT_X4</th>\n",
       "      <th>VALOR_PM_X4</th>\n",
       "      <th>VALOR_RS24h_X4</th>\n",
       "      <th>VALOR_VVM10_X4</th>\n",
       "      <th>VALOR_DVM10_X4</th>\n",
       "      <th>VALOR_VVX10_X4</th>\n",
       "      <th>VALOR_DVVX10_X4</th>\n",
       "      <th>VALOR_HRX_X4</th>\n",
       "      <th>VALOR_HRN_X4</th>\n",
       "      <th>VALOR_PX_X4</th>\n",
       "      <th>VALOR_PN_X4</th>\n",
       "      <th>VALOR_TM_X8</th>\n",
       "      <th>VALOR_TX_X8</th>\n",
       "      <th>VALOR_TN_X8</th>\n",
       "      <th>VALOR_HRM_X8</th>\n",
       "      <th>VALOR_PPT_X8</th>\n",
       "      <th>VALOR_PM_X8</th>\n",
       "      <th>VALOR_RS24h_X8</th>\n",
       "      <th>VALOR_VVM10_X8</th>\n",
       "      <th>VALOR_DVM10_X8</th>\n",
       "      <th>VALOR_VVX10_X8</th>\n",
       "      <th>VALOR_DVVX10_X8</th>\n",
       "      <th>VALOR_HRX_X8</th>\n",
       "      <th>VALOR_HRN_X8</th>\n",
       "      <th>VALOR_PX_X8</th>\n",
       "      <th>VALOR_PN_X8</th>\n",
       "      <th>year</th>\n",
       "    </tr>\n",
       "  </thead>\n",
       "  <tbody>\n",
       "    <tr>\n",
       "      <th>8401</th>\n",
       "      <td>2019-01-01</td>\n",
       "      <td>10.5</td>\n",
       "      <td>14.4</td>\n",
       "      <td>7.8</td>\n",
       "      <td>73.0</td>\n",
       "      <td>0.0</td>\n",
       "      <td>979.6</td>\n",
       "      <td>5.4</td>\n",
       "      <td>3.8</td>\n",
       "      <td>339.0</td>\n",
       "      <td>15.8</td>\n",
       "      <td>315.0</td>\n",
       "      <td>NaN</td>\n",
       "      <td>NaN</td>\n",
       "      <td>NaN</td>\n",
       "      <td>NaN</td>\n",
       "      <td>9.9</td>\n",
       "      <td>15.4</td>\n",
       "      <td>4.9</td>\n",
       "      <td>79.0</td>\n",
       "      <td>NaN</td>\n",
       "      <td>NaN</td>\n",
       "      <td>NaN</td>\n",
       "      <td>NaN</td>\n",
       "      <td>NaN</td>\n",
       "      <td>NaN</td>\n",
       "      <td>NaN</td>\n",
       "      <td>NaN</td>\n",
       "      <td>NaN</td>\n",
       "      <td>NaN</td>\n",
       "      <td>NaN</td>\n",
       "      <td>12.3</td>\n",
       "      <td>16.0</td>\n",
       "      <td>8.4</td>\n",
       "      <td>66.0</td>\n",
       "      <td>0.0</td>\n",
       "      <td>1024.5</td>\n",
       "      <td>8.2</td>\n",
       "      <td>1.3</td>\n",
       "      <td>307.0</td>\n",
       "      <td>7.9</td>\n",
       "      <td>301.0</td>\n",
       "      <td>NaN</td>\n",
       "      <td>NaN</td>\n",
       "      <td>NaN</td>\n",
       "      <td>NaN</td>\n",
       "      <td>11.2</td>\n",
       "      <td>17.0</td>\n",
       "      <td>7.0</td>\n",
       "      <td>71.0</td>\n",
       "      <td>0.0</td>\n",
       "      <td>1019.0</td>\n",
       "      <td>7.4</td>\n",
       "      <td>1.4</td>\n",
       "      <td>311.0</td>\n",
       "      <td>9.0</td>\n",
       "      <td>303.0</td>\n",
       "      <td>NaN</td>\n",
       "      <td>NaN</td>\n",
       "      <td>NaN</td>\n",
       "      <td>NaN</td>\n",
       "      <td>2019</td>\n",
       "    </tr>\n",
       "    <tr>\n",
       "      <th>8402</th>\n",
       "      <td>2019-01-02</td>\n",
       "      <td>8.9</td>\n",
       "      <td>12.9</td>\n",
       "      <td>5.9</td>\n",
       "      <td>48.0</td>\n",
       "      <td>0.0</td>\n",
       "      <td>976.5</td>\n",
       "      <td>9.4</td>\n",
       "      <td>8.3</td>\n",
       "      <td>324.0</td>\n",
       "      <td>17.3</td>\n",
       "      <td>318.0</td>\n",
       "      <td>NaN</td>\n",
       "      <td>NaN</td>\n",
       "      <td>NaN</td>\n",
       "      <td>NaN</td>\n",
       "      <td>8.8</td>\n",
       "      <td>14.5</td>\n",
       "      <td>5.1</td>\n",
       "      <td>63.0</td>\n",
       "      <td>NaN</td>\n",
       "      <td>NaN</td>\n",
       "      <td>NaN</td>\n",
       "      <td>NaN</td>\n",
       "      <td>NaN</td>\n",
       "      <td>NaN</td>\n",
       "      <td>NaN</td>\n",
       "      <td>NaN</td>\n",
       "      <td>NaN</td>\n",
       "      <td>NaN</td>\n",
       "      <td>NaN</td>\n",
       "      <td>11.2</td>\n",
       "      <td>16.3</td>\n",
       "      <td>8.1</td>\n",
       "      <td>47.0</td>\n",
       "      <td>0.0</td>\n",
       "      <td>1021.4</td>\n",
       "      <td>9.2</td>\n",
       "      <td>1.0</td>\n",
       "      <td>280.0</td>\n",
       "      <td>6.3</td>\n",
       "      <td>309.0</td>\n",
       "      <td>NaN</td>\n",
       "      <td>NaN</td>\n",
       "      <td>NaN</td>\n",
       "      <td>NaN</td>\n",
       "      <td>9.5</td>\n",
       "      <td>15.3</td>\n",
       "      <td>5.7</td>\n",
       "      <td>52.0</td>\n",
       "      <td>0.0</td>\n",
       "      <td>1015.9</td>\n",
       "      <td>9.1</td>\n",
       "      <td>1.7</td>\n",
       "      <td>293.0</td>\n",
       "      <td>10.2</td>\n",
       "      <td>304.0</td>\n",
       "      <td>NaN</td>\n",
       "      <td>NaN</td>\n",
       "      <td>NaN</td>\n",
       "      <td>NaN</td>\n",
       "      <td>2019</td>\n",
       "    </tr>\n",
       "    <tr>\n",
       "      <th>8403</th>\n",
       "      <td>2019-01-03</td>\n",
       "      <td>8.3</td>\n",
       "      <td>12.6</td>\n",
       "      <td>4.9</td>\n",
       "      <td>59.0</td>\n",
       "      <td>0.0</td>\n",
       "      <td>979.0</td>\n",
       "      <td>9.1</td>\n",
       "      <td>4.0</td>\n",
       "      <td>279.0</td>\n",
       "      <td>9.9</td>\n",
       "      <td>313.0</td>\n",
       "      <td>NaN</td>\n",
       "      <td>NaN</td>\n",
       "      <td>NaN</td>\n",
       "      <td>NaN</td>\n",
       "      <td>7.6</td>\n",
       "      <td>13.0</td>\n",
       "      <td>4.1</td>\n",
       "      <td>69.0</td>\n",
       "      <td>NaN</td>\n",
       "      <td>NaN</td>\n",
       "      <td>NaN</td>\n",
       "      <td>NaN</td>\n",
       "      <td>NaN</td>\n",
       "      <td>NaN</td>\n",
       "      <td>NaN</td>\n",
       "      <td>NaN</td>\n",
       "      <td>NaN</td>\n",
       "      <td>NaN</td>\n",
       "      <td>NaN</td>\n",
       "      <td>10.3</td>\n",
       "      <td>13.7</td>\n",
       "      <td>7.5</td>\n",
       "      <td>53.0</td>\n",
       "      <td>0.0</td>\n",
       "      <td>1024.3</td>\n",
       "      <td>8.9</td>\n",
       "      <td>1.1</td>\n",
       "      <td>264.0</td>\n",
       "      <td>4.6</td>\n",
       "      <td>263.0</td>\n",
       "      <td>NaN</td>\n",
       "      <td>NaN</td>\n",
       "      <td>NaN</td>\n",
       "      <td>NaN</td>\n",
       "      <td>8.8</td>\n",
       "      <td>13.4</td>\n",
       "      <td>4.4</td>\n",
       "      <td>59.0</td>\n",
       "      <td>0.0</td>\n",
       "      <td>1018.7</td>\n",
       "      <td>8.8</td>\n",
       "      <td>1.3</td>\n",
       "      <td>277.0</td>\n",
       "      <td>6.0</td>\n",
       "      <td>306.0</td>\n",
       "      <td>NaN</td>\n",
       "      <td>NaN</td>\n",
       "      <td>NaN</td>\n",
       "      <td>NaN</td>\n",
       "      <td>2019</td>\n",
       "    </tr>\n",
       "    <tr>\n",
       "      <th>8404</th>\n",
       "      <td>2019-01-04</td>\n",
       "      <td>7.2</td>\n",
       "      <td>11.3</td>\n",
       "      <td>5.3</td>\n",
       "      <td>69.0</td>\n",
       "      <td>0.0</td>\n",
       "      <td>980.6</td>\n",
       "      <td>8.0</td>\n",
       "      <td>2.0</td>\n",
       "      <td>205.0</td>\n",
       "      <td>7.8</td>\n",
       "      <td>290.0</td>\n",
       "      <td>NaN</td>\n",
       "      <td>NaN</td>\n",
       "      <td>NaN</td>\n",
       "      <td>NaN</td>\n",
       "      <td>7.0</td>\n",
       "      <td>11.7</td>\n",
       "      <td>3.3</td>\n",
       "      <td>73.0</td>\n",
       "      <td>NaN</td>\n",
       "      <td>NaN</td>\n",
       "      <td>NaN</td>\n",
       "      <td>NaN</td>\n",
       "      <td>NaN</td>\n",
       "      <td>NaN</td>\n",
       "      <td>NaN</td>\n",
       "      <td>NaN</td>\n",
       "      <td>NaN</td>\n",
       "      <td>NaN</td>\n",
       "      <td>NaN</td>\n",
       "      <td>9.4</td>\n",
       "      <td>12.3</td>\n",
       "      <td>6.4</td>\n",
       "      <td>59.0</td>\n",
       "      <td>0.0</td>\n",
       "      <td>1026.1</td>\n",
       "      <td>7.9</td>\n",
       "      <td>0.9</td>\n",
       "      <td>94.0</td>\n",
       "      <td>4.8</td>\n",
       "      <td>80.0</td>\n",
       "      <td>NaN</td>\n",
       "      <td>NaN</td>\n",
       "      <td>NaN</td>\n",
       "      <td>NaN</td>\n",
       "      <td>7.0</td>\n",
       "      <td>12.6</td>\n",
       "      <td>2.6</td>\n",
       "      <td>70.0</td>\n",
       "      <td>0.0</td>\n",
       "      <td>1020.5</td>\n",
       "      <td>7.7</td>\n",
       "      <td>1.2</td>\n",
       "      <td>292.0</td>\n",
       "      <td>4.1</td>\n",
       "      <td>164.0</td>\n",
       "      <td>NaN</td>\n",
       "      <td>NaN</td>\n",
       "      <td>NaN</td>\n",
       "      <td>NaN</td>\n",
       "      <td>2019</td>\n",
       "    </tr>\n",
       "    <tr>\n",
       "      <th>8405</th>\n",
       "      <td>2019-01-05</td>\n",
       "      <td>9.1</td>\n",
       "      <td>15.2</td>\n",
       "      <td>3.2</td>\n",
       "      <td>47.0</td>\n",
       "      <td>0.0</td>\n",
       "      <td>978.6</td>\n",
       "      <td>9.3</td>\n",
       "      <td>10.0</td>\n",
       "      <td>326.0</td>\n",
       "      <td>17.0</td>\n",
       "      <td>317.0</td>\n",
       "      <td>NaN</td>\n",
       "      <td>NaN</td>\n",
       "      <td>NaN</td>\n",
       "      <td>NaN</td>\n",
       "      <td>8.5</td>\n",
       "      <td>15.3</td>\n",
       "      <td>4.4</td>\n",
       "      <td>63.0</td>\n",
       "      <td>NaN</td>\n",
       "      <td>NaN</td>\n",
       "      <td>NaN</td>\n",
       "      <td>NaN</td>\n",
       "      <td>NaN</td>\n",
       "      <td>NaN</td>\n",
       "      <td>NaN</td>\n",
       "      <td>NaN</td>\n",
       "      <td>NaN</td>\n",
       "      <td>NaN</td>\n",
       "      <td>NaN</td>\n",
       "      <td>10.9</td>\n",
       "      <td>16.3</td>\n",
       "      <td>6.8</td>\n",
       "      <td>45.0</td>\n",
       "      <td>0.0</td>\n",
       "      <td>1023.6</td>\n",
       "      <td>9.2</td>\n",
       "      <td>2.0</td>\n",
       "      <td>282.0</td>\n",
       "      <td>7.5</td>\n",
       "      <td>267.0</td>\n",
       "      <td>NaN</td>\n",
       "      <td>NaN</td>\n",
       "      <td>NaN</td>\n",
       "      <td>NaN</td>\n",
       "      <td>9.4</td>\n",
       "      <td>14.1</td>\n",
       "      <td>5.4</td>\n",
       "      <td>50.0</td>\n",
       "      <td>0.0</td>\n",
       "      <td>1018.1</td>\n",
       "      <td>9.2</td>\n",
       "      <td>3.1</td>\n",
       "      <td>296.0</td>\n",
       "      <td>10.8</td>\n",
       "      <td>307.0</td>\n",
       "      <td>NaN</td>\n",
       "      <td>NaN</td>\n",
       "      <td>NaN</td>\n",
       "      <td>NaN</td>\n",
       "      <td>2019</td>\n",
       "    </tr>\n",
       "    <tr>\n",
       "      <th>...</th>\n",
       "      <td>...</td>\n",
       "      <td>...</td>\n",
       "      <td>...</td>\n",
       "      <td>...</td>\n",
       "      <td>...</td>\n",
       "      <td>...</td>\n",
       "      <td>...</td>\n",
       "      <td>...</td>\n",
       "      <td>...</td>\n",
       "      <td>...</td>\n",
       "      <td>...</td>\n",
       "      <td>...</td>\n",
       "      <td>...</td>\n",
       "      <td>...</td>\n",
       "      <td>...</td>\n",
       "      <td>...</td>\n",
       "      <td>...</td>\n",
       "      <td>...</td>\n",
       "      <td>...</td>\n",
       "      <td>...</td>\n",
       "      <td>...</td>\n",
       "      <td>...</td>\n",
       "      <td>...</td>\n",
       "      <td>...</td>\n",
       "      <td>...</td>\n",
       "      <td>...</td>\n",
       "      <td>...</td>\n",
       "      <td>...</td>\n",
       "      <td>...</td>\n",
       "      <td>...</td>\n",
       "      <td>...</td>\n",
       "      <td>...</td>\n",
       "      <td>...</td>\n",
       "      <td>...</td>\n",
       "      <td>...</td>\n",
       "      <td>...</td>\n",
       "      <td>...</td>\n",
       "      <td>...</td>\n",
       "      <td>...</td>\n",
       "      <td>...</td>\n",
       "      <td>...</td>\n",
       "      <td>...</td>\n",
       "      <td>...</td>\n",
       "      <td>...</td>\n",
       "      <td>...</td>\n",
       "      <td>...</td>\n",
       "      <td>...</td>\n",
       "      <td>...</td>\n",
       "      <td>...</td>\n",
       "      <td>...</td>\n",
       "      <td>...</td>\n",
       "      <td>...</td>\n",
       "      <td>...</td>\n",
       "      <td>...</td>\n",
       "      <td>...</td>\n",
       "      <td>...</td>\n",
       "      <td>...</td>\n",
       "      <td>...</td>\n",
       "      <td>...</td>\n",
       "      <td>...</td>\n",
       "      <td>...</td>\n",
       "      <td>...</td>\n",
       "    </tr>\n",
       "    <tr>\n",
       "      <th>1248</th>\n",
       "      <td>2023-06-02</td>\n",
       "      <td>18.9</td>\n",
       "      <td>24.7</td>\n",
       "      <td>15.4</td>\n",
       "      <td>80.0</td>\n",
       "      <td>0.0</td>\n",
       "      <td>966.5</td>\n",
       "      <td>24.3</td>\n",
       "      <td>2.0</td>\n",
       "      <td>202.0</td>\n",
       "      <td>7.1</td>\n",
       "      <td>157.0</td>\n",
       "      <td>100.0</td>\n",
       "      <td>56.0</td>\n",
       "      <td>967.5</td>\n",
       "      <td>965.2</td>\n",
       "      <td>20.1</td>\n",
       "      <td>24.1</td>\n",
       "      <td>16.9</td>\n",
       "      <td>79.0</td>\n",
       "      <td>93.0</td>\n",
       "      <td>62.0</td>\n",
       "      <td>NaN</td>\n",
       "      <td>NaN</td>\n",
       "      <td>NaN</td>\n",
       "      <td>NaN</td>\n",
       "      <td>NaN</td>\n",
       "      <td>NaN</td>\n",
       "      <td>NaN</td>\n",
       "      <td>NaN</td>\n",
       "      <td>NaN</td>\n",
       "      <td>20.8</td>\n",
       "      <td>23.2</td>\n",
       "      <td>18.2</td>\n",
       "      <td>74.0</td>\n",
       "      <td>0.0</td>\n",
       "      <td>1010.0</td>\n",
       "      <td>24.9</td>\n",
       "      <td>1.7</td>\n",
       "      <td>159.0</td>\n",
       "      <td>5.9</td>\n",
       "      <td>152.0</td>\n",
       "      <td>92.0</td>\n",
       "      <td>55.0</td>\n",
       "      <td>1011.0</td>\n",
       "      <td>1008.6</td>\n",
       "      <td>20.6</td>\n",
       "      <td>25.2</td>\n",
       "      <td>15.8</td>\n",
       "      <td>77.0</td>\n",
       "      <td>0.0</td>\n",
       "      <td>1004.4</td>\n",
       "      <td>23.5</td>\n",
       "      <td>1.5</td>\n",
       "      <td>207.0</td>\n",
       "      <td>6.1</td>\n",
       "      <td>174.0</td>\n",
       "      <td>99.0</td>\n",
       "      <td>54.0</td>\n",
       "      <td>1005.4</td>\n",
       "      <td>1003.0</td>\n",
       "      <td>2023</td>\n",
       "    </tr>\n",
       "    <tr>\n",
       "      <th>1249</th>\n",
       "      <td>2023-06-03</td>\n",
       "      <td>18.2</td>\n",
       "      <td>22.8</td>\n",
       "      <td>15.3</td>\n",
       "      <td>86.0</td>\n",
       "      <td>0.1</td>\n",
       "      <td>966.9</td>\n",
       "      <td>15.4</td>\n",
       "      <td>1.8</td>\n",
       "      <td>190.0</td>\n",
       "      <td>6.9</td>\n",
       "      <td>151.0</td>\n",
       "      <td>100.0</td>\n",
       "      <td>65.0</td>\n",
       "      <td>968.0</td>\n",
       "      <td>965.4</td>\n",
       "      <td>20.3</td>\n",
       "      <td>22.7</td>\n",
       "      <td>17.6</td>\n",
       "      <td>81.0</td>\n",
       "      <td>91.0</td>\n",
       "      <td>66.0</td>\n",
       "      <td>NaN</td>\n",
       "      <td>NaN</td>\n",
       "      <td>NaN</td>\n",
       "      <td>NaN</td>\n",
       "      <td>NaN</td>\n",
       "      <td>NaN</td>\n",
       "      <td>NaN</td>\n",
       "      <td>NaN</td>\n",
       "      <td>NaN</td>\n",
       "      <td>20.8</td>\n",
       "      <td>22.8</td>\n",
       "      <td>18.9</td>\n",
       "      <td>76.0</td>\n",
       "      <td>0.0</td>\n",
       "      <td>1010.5</td>\n",
       "      <td>18.2</td>\n",
       "      <td>1.6</td>\n",
       "      <td>149.0</td>\n",
       "      <td>6.6</td>\n",
       "      <td>174.0</td>\n",
       "      <td>91.0</td>\n",
       "      <td>59.0</td>\n",
       "      <td>1011.7</td>\n",
       "      <td>1009.0</td>\n",
       "      <td>20.5</td>\n",
       "      <td>25.3</td>\n",
       "      <td>16.9</td>\n",
       "      <td>78.0</td>\n",
       "      <td>0.0</td>\n",
       "      <td>1004.8</td>\n",
       "      <td>16.2</td>\n",
       "      <td>1.4</td>\n",
       "      <td>170.0</td>\n",
       "      <td>6.9</td>\n",
       "      <td>181.0</td>\n",
       "      <td>100.0</td>\n",
       "      <td>58.0</td>\n",
       "      <td>1006.1</td>\n",
       "      <td>1003.4</td>\n",
       "      <td>2023</td>\n",
       "    </tr>\n",
       "    <tr>\n",
       "      <th>1250</th>\n",
       "      <td>2023-06-04</td>\n",
       "      <td>19.1</td>\n",
       "      <td>25.7</td>\n",
       "      <td>16.2</td>\n",
       "      <td>82.0</td>\n",
       "      <td>0.0</td>\n",
       "      <td>967.8</td>\n",
       "      <td>21.6</td>\n",
       "      <td>1.8</td>\n",
       "      <td>184.0</td>\n",
       "      <td>7.0</td>\n",
       "      <td>167.0</td>\n",
       "      <td>100.0</td>\n",
       "      <td>51.0</td>\n",
       "      <td>969.0</td>\n",
       "      <td>966.6</td>\n",
       "      <td>20.5</td>\n",
       "      <td>24.5</td>\n",
       "      <td>17.9</td>\n",
       "      <td>81.0</td>\n",
       "      <td>91.0</td>\n",
       "      <td>69.0</td>\n",
       "      <td>NaN</td>\n",
       "      <td>NaN</td>\n",
       "      <td>NaN</td>\n",
       "      <td>NaN</td>\n",
       "      <td>NaN</td>\n",
       "      <td>NaN</td>\n",
       "      <td>NaN</td>\n",
       "      <td>NaN</td>\n",
       "      <td>NaN</td>\n",
       "      <td>21.0</td>\n",
       "      <td>23.9</td>\n",
       "      <td>18.9</td>\n",
       "      <td>76.0</td>\n",
       "      <td>0.0</td>\n",
       "      <td>1011.4</td>\n",
       "      <td>23.8</td>\n",
       "      <td>1.6</td>\n",
       "      <td>127.0</td>\n",
       "      <td>6.3</td>\n",
       "      <td>101.0</td>\n",
       "      <td>93.0</td>\n",
       "      <td>62.0</td>\n",
       "      <td>1012.6</td>\n",
       "      <td>1010.2</td>\n",
       "      <td>20.8</td>\n",
       "      <td>25.9</td>\n",
       "      <td>17.2</td>\n",
       "      <td>77.0</td>\n",
       "      <td>0.0</td>\n",
       "      <td>1005.7</td>\n",
       "      <td>22.5</td>\n",
       "      <td>1.4</td>\n",
       "      <td>176.0</td>\n",
       "      <td>6.3</td>\n",
       "      <td>132.0</td>\n",
       "      <td>99.0</td>\n",
       "      <td>51.0</td>\n",
       "      <td>1007.0</td>\n",
       "      <td>1004.6</td>\n",
       "      <td>2023</td>\n",
       "    </tr>\n",
       "    <tr>\n",
       "      <th>1251</th>\n",
       "      <td>2023-06-05</td>\n",
       "      <td>19.9</td>\n",
       "      <td>25.5</td>\n",
       "      <td>15.9</td>\n",
       "      <td>75.0</td>\n",
       "      <td>0.0</td>\n",
       "      <td>968.0</td>\n",
       "      <td>26.1</td>\n",
       "      <td>3.3</td>\n",
       "      <td>239.0</td>\n",
       "      <td>8.9</td>\n",
       "      <td>191.0</td>\n",
       "      <td>99.0</td>\n",
       "      <td>52.0</td>\n",
       "      <td>968.8</td>\n",
       "      <td>966.9</td>\n",
       "      <td>21.5</td>\n",
       "      <td>25.7</td>\n",
       "      <td>17.3</td>\n",
       "      <td>75.0</td>\n",
       "      <td>91.0</td>\n",
       "      <td>62.0</td>\n",
       "      <td>NaN</td>\n",
       "      <td>NaN</td>\n",
       "      <td>NaN</td>\n",
       "      <td>NaN</td>\n",
       "      <td>NaN</td>\n",
       "      <td>NaN</td>\n",
       "      <td>NaN</td>\n",
       "      <td>NaN</td>\n",
       "      <td>NaN</td>\n",
       "      <td>22.0</td>\n",
       "      <td>24.6</td>\n",
       "      <td>18.9</td>\n",
       "      <td>67.0</td>\n",
       "      <td>0.0</td>\n",
       "      <td>1011.5</td>\n",
       "      <td>28.6</td>\n",
       "      <td>1.8</td>\n",
       "      <td>193.0</td>\n",
       "      <td>7.7</td>\n",
       "      <td>155.0</td>\n",
       "      <td>80.0</td>\n",
       "      <td>56.0</td>\n",
       "      <td>1012.4</td>\n",
       "      <td>1010.0</td>\n",
       "      <td>21.8</td>\n",
       "      <td>26.5</td>\n",
       "      <td>16.7</td>\n",
       "      <td>70.0</td>\n",
       "      <td>0.0</td>\n",
       "      <td>1005.9</td>\n",
       "      <td>27.7</td>\n",
       "      <td>1.7</td>\n",
       "      <td>220.0</td>\n",
       "      <td>7.2</td>\n",
       "      <td>209.0</td>\n",
       "      <td>95.0</td>\n",
       "      <td>51.0</td>\n",
       "      <td>1006.8</td>\n",
       "      <td>1004.7</td>\n",
       "      <td>2023</td>\n",
       "    </tr>\n",
       "    <tr>\n",
       "      <th>1252</th>\n",
       "      <td>2023-06-06</td>\n",
       "      <td>20.3</td>\n",
       "      <td>25.6</td>\n",
       "      <td>16.6</td>\n",
       "      <td>75.0</td>\n",
       "      <td>0.0</td>\n",
       "      <td>968.1</td>\n",
       "      <td>30.9</td>\n",
       "      <td>4.4</td>\n",
       "      <td>244.0</td>\n",
       "      <td>10.2</td>\n",
       "      <td>198.0</td>\n",
       "      <td>99.0</td>\n",
       "      <td>49.0</td>\n",
       "      <td>969.1</td>\n",
       "      <td>967.1</td>\n",
       "      <td>22.5</td>\n",
       "      <td>26.2</td>\n",
       "      <td>18.7</td>\n",
       "      <td>73.0</td>\n",
       "      <td>83.0</td>\n",
       "      <td>59.0</td>\n",
       "      <td>NaN</td>\n",
       "      <td>NaN</td>\n",
       "      <td>NaN</td>\n",
       "      <td>NaN</td>\n",
       "      <td>NaN</td>\n",
       "      <td>NaN</td>\n",
       "      <td>NaN</td>\n",
       "      <td>NaN</td>\n",
       "      <td>NaN</td>\n",
       "      <td>23.0</td>\n",
       "      <td>26.3</td>\n",
       "      <td>20.2</td>\n",
       "      <td>66.0</td>\n",
       "      <td>0.0</td>\n",
       "      <td>1011.5</td>\n",
       "      <td>29.9</td>\n",
       "      <td>2.5</td>\n",
       "      <td>240.0</td>\n",
       "      <td>9.8</td>\n",
       "      <td>205.0</td>\n",
       "      <td>81.0</td>\n",
       "      <td>49.0</td>\n",
       "      <td>1012.6</td>\n",
       "      <td>1010.4</td>\n",
       "      <td>22.5</td>\n",
       "      <td>27.1</td>\n",
       "      <td>18.3</td>\n",
       "      <td>70.0</td>\n",
       "      <td>0.0</td>\n",
       "      <td>1005.9</td>\n",
       "      <td>29.5</td>\n",
       "      <td>2.4</td>\n",
       "      <td>238.0</td>\n",
       "      <td>9.4</td>\n",
       "      <td>207.0</td>\n",
       "      <td>88.0</td>\n",
       "      <td>51.0</td>\n",
       "      <td>1007.1</td>\n",
       "      <td>1005.0</td>\n",
       "      <td>2023</td>\n",
       "    </tr>\n",
       "  </tbody>\n",
       "</table>\n",
       "<p>1618 rows × 62 columns</p>\n",
       "</div>"
      ],
      "text/plain": [
       "     DATA_LECTURA  VALOR_TM_D5  VALOR_TX_D5  VALOR_TN_D5  VALOR_HRM_D5  \\\n",
       "8401   2019-01-01         10.5         14.4          7.8          73.0   \n",
       "8402   2019-01-02          8.9         12.9          5.9          48.0   \n",
       "8403   2019-01-03          8.3         12.6          4.9          59.0   \n",
       "8404   2019-01-04          7.2         11.3          5.3          69.0   \n",
       "8405   2019-01-05          9.1         15.2          3.2          47.0   \n",
       "...           ...          ...          ...          ...           ...   \n",
       "1248   2023-06-02         18.9         24.7         15.4          80.0   \n",
       "1249   2023-06-03         18.2         22.8         15.3          86.0   \n",
       "1250   2023-06-04         19.1         25.7         16.2          82.0   \n",
       "1251   2023-06-05         19.9         25.5         15.9          75.0   \n",
       "1252   2023-06-06         20.3         25.6         16.6          75.0   \n",
       "\n",
       "      VALOR_PPT_D5  VALOR_PM_D5  VALOR_RS24h_D5  VALOR_VVM10_D5  \\\n",
       "8401           0.0        979.6             5.4             3.8   \n",
       "8402           0.0        976.5             9.4             8.3   \n",
       "8403           0.0        979.0             9.1             4.0   \n",
       "8404           0.0        980.6             8.0             2.0   \n",
       "8405           0.0        978.6             9.3            10.0   \n",
       "...            ...          ...             ...             ...   \n",
       "1248           0.0        966.5            24.3             2.0   \n",
       "1249           0.1        966.9            15.4             1.8   \n",
       "1250           0.0        967.8            21.6             1.8   \n",
       "1251           0.0        968.0            26.1             3.3   \n",
       "1252           0.0        968.1            30.9             4.4   \n",
       "\n",
       "      VALOR_DVM10_D5  VALOR_VVX10_D5  VALOR_DVVX10_D5  VALOR_HRX_D5  \\\n",
       "8401           339.0            15.8            315.0           NaN   \n",
       "8402           324.0            17.3            318.0           NaN   \n",
       "8403           279.0             9.9            313.0           NaN   \n",
       "8404           205.0             7.8            290.0           NaN   \n",
       "8405           326.0            17.0            317.0           NaN   \n",
       "...              ...             ...              ...           ...   \n",
       "1248           202.0             7.1            157.0         100.0   \n",
       "1249           190.0             6.9            151.0         100.0   \n",
       "1250           184.0             7.0            167.0         100.0   \n",
       "1251           239.0             8.9            191.0          99.0   \n",
       "1252           244.0            10.2            198.0          99.0   \n",
       "\n",
       "      VALOR_HRN_D5  VALOR_PX_D5  VALOR_PN_D5  VALOR_TM_X2  VALOR_TX_X2  \\\n",
       "8401           NaN          NaN          NaN          9.9         15.4   \n",
       "8402           NaN          NaN          NaN          8.8         14.5   \n",
       "8403           NaN          NaN          NaN          7.6         13.0   \n",
       "8404           NaN          NaN          NaN          7.0         11.7   \n",
       "8405           NaN          NaN          NaN          8.5         15.3   \n",
       "...            ...          ...          ...          ...          ...   \n",
       "1248          56.0        967.5        965.2         20.1         24.1   \n",
       "1249          65.0        968.0        965.4         20.3         22.7   \n",
       "1250          51.0        969.0        966.6         20.5         24.5   \n",
       "1251          52.0        968.8        966.9         21.5         25.7   \n",
       "1252          49.0        969.1        967.1         22.5         26.2   \n",
       "\n",
       "      VALOR_TN_X2  VALOR_HRM_X2  VALOR_HRX_X2  VALOR_HRN_X2  VALOR_PM_X2  \\\n",
       "8401          4.9          79.0           NaN           NaN          NaN   \n",
       "8402          5.1          63.0           NaN           NaN          NaN   \n",
       "8403          4.1          69.0           NaN           NaN          NaN   \n",
       "8404          3.3          73.0           NaN           NaN          NaN   \n",
       "8405          4.4          63.0           NaN           NaN          NaN   \n",
       "...           ...           ...           ...           ...          ...   \n",
       "1248         16.9          79.0          93.0          62.0          NaN   \n",
       "1249         17.6          81.0          91.0          66.0          NaN   \n",
       "1250         17.9          81.0          91.0          69.0          NaN   \n",
       "1251         17.3          75.0          91.0          62.0          NaN   \n",
       "1252         18.7          73.0          83.0          59.0          NaN   \n",
       "\n",
       "      VALOR_PX_X2  VALOR_PN_X2  VALOR_PPT_X2  VALOR_RS24h_X2  VALOR_VVM10_X2  \\\n",
       "8401          NaN          NaN           NaN             NaN             NaN   \n",
       "8402          NaN          NaN           NaN             NaN             NaN   \n",
       "8403          NaN          NaN           NaN             NaN             NaN   \n",
       "8404          NaN          NaN           NaN             NaN             NaN   \n",
       "8405          NaN          NaN           NaN             NaN             NaN   \n",
       "...           ...          ...           ...             ...             ...   \n",
       "1248          NaN          NaN           NaN             NaN             NaN   \n",
       "1249          NaN          NaN           NaN             NaN             NaN   \n",
       "1250          NaN          NaN           NaN             NaN             NaN   \n",
       "1251          NaN          NaN           NaN             NaN             NaN   \n",
       "1252          NaN          NaN           NaN             NaN             NaN   \n",
       "\n",
       "      VALOR_DVM10_X2  VALOR_VVX10_X2  VALOR_DVVX10_X2  VALOR_TM_X4  \\\n",
       "8401             NaN             NaN              NaN         12.3   \n",
       "8402             NaN             NaN              NaN         11.2   \n",
       "8403             NaN             NaN              NaN         10.3   \n",
       "8404             NaN             NaN              NaN          9.4   \n",
       "8405             NaN             NaN              NaN         10.9   \n",
       "...              ...             ...              ...          ...   \n",
       "1248             NaN             NaN              NaN         20.8   \n",
       "1249             NaN             NaN              NaN         20.8   \n",
       "1250             NaN             NaN              NaN         21.0   \n",
       "1251             NaN             NaN              NaN         22.0   \n",
       "1252             NaN             NaN              NaN         23.0   \n",
       "\n",
       "      VALOR_TX_X4  VALOR_TN_X4  VALOR_HRM_X4  VALOR_PPT_X4  VALOR_PM_X4  \\\n",
       "8401         16.0          8.4          66.0           0.0       1024.5   \n",
       "8402         16.3          8.1          47.0           0.0       1021.4   \n",
       "8403         13.7          7.5          53.0           0.0       1024.3   \n",
       "8404         12.3          6.4          59.0           0.0       1026.1   \n",
       "8405         16.3          6.8          45.0           0.0       1023.6   \n",
       "...           ...          ...           ...           ...          ...   \n",
       "1248         23.2         18.2          74.0           0.0       1010.0   \n",
       "1249         22.8         18.9          76.0           0.0       1010.5   \n",
       "1250         23.9         18.9          76.0           0.0       1011.4   \n",
       "1251         24.6         18.9          67.0           0.0       1011.5   \n",
       "1252         26.3         20.2          66.0           0.0       1011.5   \n",
       "\n",
       "      VALOR_RS24h_X4  VALOR_VVM10_X4  VALOR_DVM10_X4  VALOR_VVX10_X4  \\\n",
       "8401             8.2             1.3           307.0             7.9   \n",
       "8402             9.2             1.0           280.0             6.3   \n",
       "8403             8.9             1.1           264.0             4.6   \n",
       "8404             7.9             0.9            94.0             4.8   \n",
       "8405             9.2             2.0           282.0             7.5   \n",
       "...              ...             ...             ...             ...   \n",
       "1248            24.9             1.7           159.0             5.9   \n",
       "1249            18.2             1.6           149.0             6.6   \n",
       "1250            23.8             1.6           127.0             6.3   \n",
       "1251            28.6             1.8           193.0             7.7   \n",
       "1252            29.9             2.5           240.0             9.8   \n",
       "\n",
       "      VALOR_DVVX10_X4  VALOR_HRX_X4  VALOR_HRN_X4  VALOR_PX_X4  VALOR_PN_X4  \\\n",
       "8401            301.0           NaN           NaN          NaN          NaN   \n",
       "8402            309.0           NaN           NaN          NaN          NaN   \n",
       "8403            263.0           NaN           NaN          NaN          NaN   \n",
       "8404             80.0           NaN           NaN          NaN          NaN   \n",
       "8405            267.0           NaN           NaN          NaN          NaN   \n",
       "...               ...           ...           ...          ...          ...   \n",
       "1248            152.0          92.0          55.0       1011.0       1008.6   \n",
       "1249            174.0          91.0          59.0       1011.7       1009.0   \n",
       "1250            101.0          93.0          62.0       1012.6       1010.2   \n",
       "1251            155.0          80.0          56.0       1012.4       1010.0   \n",
       "1252            205.0          81.0          49.0       1012.6       1010.4   \n",
       "\n",
       "      VALOR_TM_X8  VALOR_TX_X8  VALOR_TN_X8  VALOR_HRM_X8  VALOR_PPT_X8  \\\n",
       "8401         11.2         17.0          7.0          71.0           0.0   \n",
       "8402          9.5         15.3          5.7          52.0           0.0   \n",
       "8403          8.8         13.4          4.4          59.0           0.0   \n",
       "8404          7.0         12.6          2.6          70.0           0.0   \n",
       "8405          9.4         14.1          5.4          50.0           0.0   \n",
       "...           ...          ...          ...           ...           ...   \n",
       "1248         20.6         25.2         15.8          77.0           0.0   \n",
       "1249         20.5         25.3         16.9          78.0           0.0   \n",
       "1250         20.8         25.9         17.2          77.0           0.0   \n",
       "1251         21.8         26.5         16.7          70.0           0.0   \n",
       "1252         22.5         27.1         18.3          70.0           0.0   \n",
       "\n",
       "      VALOR_PM_X8  VALOR_RS24h_X8  VALOR_VVM10_X8  VALOR_DVM10_X8  \\\n",
       "8401       1019.0             7.4             1.4           311.0   \n",
       "8402       1015.9             9.1             1.7           293.0   \n",
       "8403       1018.7             8.8             1.3           277.0   \n",
       "8404       1020.5             7.7             1.2           292.0   \n",
       "8405       1018.1             9.2             3.1           296.0   \n",
       "...           ...             ...             ...             ...   \n",
       "1248       1004.4            23.5             1.5           207.0   \n",
       "1249       1004.8            16.2             1.4           170.0   \n",
       "1250       1005.7            22.5             1.4           176.0   \n",
       "1251       1005.9            27.7             1.7           220.0   \n",
       "1252       1005.9            29.5             2.4           238.0   \n",
       "\n",
       "      VALOR_VVX10_X8  VALOR_DVVX10_X8  VALOR_HRX_X8  VALOR_HRN_X8  \\\n",
       "8401             9.0            303.0           NaN           NaN   \n",
       "8402            10.2            304.0           NaN           NaN   \n",
       "8403             6.0            306.0           NaN           NaN   \n",
       "8404             4.1            164.0           NaN           NaN   \n",
       "8405            10.8            307.0           NaN           NaN   \n",
       "...              ...              ...           ...           ...   \n",
       "1248             6.1            174.0          99.0          54.0   \n",
       "1249             6.9            181.0         100.0          58.0   \n",
       "1250             6.3            132.0          99.0          51.0   \n",
       "1251             7.2            209.0          95.0          51.0   \n",
       "1252             9.4            207.0          88.0          51.0   \n",
       "\n",
       "      VALOR_PX_X8  VALOR_PN_X8  year  \n",
       "8401          NaN          NaN  2019  \n",
       "8402          NaN          NaN  2019  \n",
       "8403          NaN          NaN  2019  \n",
       "8404          NaN          NaN  2019  \n",
       "8405          NaN          NaN  2019  \n",
       "...           ...          ...   ...  \n",
       "1248       1005.4       1003.0  2023  \n",
       "1249       1006.1       1003.4  2023  \n",
       "1250       1007.0       1004.6  2023  \n",
       "1251       1006.8       1004.7  2023  \n",
       "1252       1007.1       1005.0  2023  \n",
       "\n",
       "[1618 rows x 62 columns]"
      ]
     },
     "execution_count": 42,
     "metadata": {},
     "output_type": "execute_result"
    }
   ],
   "source": [
    "df_estadistica_meteo"
   ]
  },
  {
   "cell_type": "code",
   "execution_count": 43,
   "id": "10dd0a96",
   "metadata": {},
   "outputs": [],
   "source": [
    "df_estadistica_meteo['month'] = df_estadistica_meteo['DATA_LECTURA'].dt.month\n",
    "df_estadistica_meteo['day'] = df_estadistica_meteo['DATA_LECTURA'].dt.day"
   ]
  },
  {
   "cell_type": "code",
   "execution_count": 44,
   "id": "6f0bd553",
   "metadata": {},
   "outputs": [],
   "source": [
    "df_estadistica_meteo.drop('DATA_LECTURA', axis=1, inplace=True)"
   ]
  },
  {
   "cell_type": "code",
   "execution_count": 45,
   "id": "dc4c6a39",
   "metadata": {},
   "outputs": [
    {
     "name": "stdout",
     "output_type": "stream",
     "text": [
      "CPU times: user 11.7 ms, sys: 0 ns, total: 11.7 ms\n",
      "Wall time: 10.7 ms\n"
     ]
    }
   ],
   "source": [
    "%%time\n",
    "\n",
    "nans = get_features_nans(df_estadistica_meteo)\n",
    "\n",
    "zeros = get_features_zero(df_estadistica_meteo)"
   ]
  },
  {
   "cell_type": "code",
   "execution_count": 46,
   "id": "c060d639",
   "metadata": {},
   "outputs": [
    {
     "data": {
      "text/plain": [
       "{'VALOR_TM_D5': 0.061804697156983925,\n",
       " 'VALOR_HRM_D5': 0.061804697156983925,\n",
       " 'VALOR_RS24h_D5': 0.4326328800988875,\n",
       " 'VALOR_VVM10_D5': 0.3708281829419036,\n",
       " 'VALOR_DVM10_D5': 0.6180469715698393,\n",
       " 'VALOR_VVX10_D5': 0.4326328800988875,\n",
       " 'VALOR_DVVX10_D5': 0.30902348578491967,\n",
       " 'VALOR_HRX_D5': 22.558714462299136,\n",
       " 'VALOR_HRN_D5': 22.558714462299136,\n",
       " 'VALOR_PX_D5': 22.558714462299136,\n",
       " 'VALOR_PN_D5': 22.558714462299136,\n",
       " 'VALOR_HRX_X2': 22.558714462299136,\n",
       " 'VALOR_HRN_X2': 22.558714462299136,\n",
       " 'VALOR_PM_X2': 100.0,\n",
       " 'VALOR_PX_X2': 100.0,\n",
       " 'VALOR_PN_X2': 100.0,\n",
       " 'VALOR_PPT_X2': 100.0,\n",
       " 'VALOR_RS24h_X2': 100.0,\n",
       " 'VALOR_VVM10_X2': 100.0,\n",
       " 'VALOR_DVM10_X2': 100.0,\n",
       " 'VALOR_VVX10_X2': 100.0,\n",
       " 'VALOR_DVVX10_X2': 100.0,\n",
       " 'VALOR_VVM10_X4': 0.061804697156983925,\n",
       " 'VALOR_DVM10_X4': 0.061804697156983925,\n",
       " 'VALOR_HRX_X4': 22.558714462299136,\n",
       " 'VALOR_HRN_X4': 22.558714462299136,\n",
       " 'VALOR_PX_X4': 22.558714462299136,\n",
       " 'VALOR_PN_X4': 22.558714462299136,\n",
       " 'VALOR_HRX_X8': 22.558714462299136,\n",
       " 'VALOR_HRN_X8': 22.558714462299136,\n",
       " 'VALOR_PX_X8': 22.558714462299136,\n",
       " 'VALOR_PN_X8': 22.558714462299136}"
      ]
     },
     "execution_count": 46,
     "metadata": {},
     "output_type": "execute_result"
    }
   ],
   "source": [
    "nans"
   ]
  },
  {
   "cell_type": "code",
   "execution_count": 47,
   "id": "e81caaaf",
   "metadata": {},
   "outputs": [
    {
     "data": {
      "text/plain": [
       "{'VALOR_PPT_D5': 77.07045735475896,\n",
       " 'VALOR_DVM10_D5': 0.12360939431396785,\n",
       " 'VALOR_DVVX10_D5': 0.30902348578491967,\n",
       " 'VALOR_PPT_X4': 79.41903584672436,\n",
       " 'VALOR_DVM10_X4': 0.061804697156983925,\n",
       " 'VALOR_PPT_X8': 77.99752781211372}"
      ]
     },
     "execution_count": 47,
     "metadata": {},
     "output_type": "execute_result"
    }
   ],
   "source": [
    "zeros"
   ]
  },
  {
   "cell_type": "code",
   "execution_count": 48,
   "id": "c236e14c",
   "metadata": {},
   "outputs": [
    {
     "data": {
      "text/plain": [
       "array(['VALOR_PM_X2', 'VALOR_PX_X2', 'VALOR_PN_X2', 'VALOR_PPT_X2',\n",
       "       'VALOR_RS24h_X2', 'VALOR_VVM10_X2', 'VALOR_DVM10_X2',\n",
       "       'VALOR_VVX10_X2', 'VALOR_DVVX10_X2'], dtype=object)"
      ]
     },
     "execution_count": 48,
     "metadata": {},
     "output_type": "execute_result"
    }
   ],
   "source": [
    "nans = pd.Series(nans)\n",
    "\n",
    "nancolumns = nans[nans >= 90].index.values\n",
    "nancolumns"
   ]
  },
  {
   "cell_type": "code",
   "execution_count": 49,
   "id": "43f9af19",
   "metadata": {},
   "outputs": [],
   "source": [
    "df_estadistica_meteo.drop(columns=nancolumns,axis=1, inplace=True)"
   ]
  },
  {
   "cell_type": "code",
   "execution_count": 50,
   "id": "73cc0759",
   "metadata": {},
   "outputs": [
    {
     "data": {
      "text/plain": [
       "Index(['VALOR_TM_D5', 'VALOR_TX_D5', 'VALOR_TN_D5', 'VALOR_HRM_D5',\n",
       "       'VALOR_PPT_D5', 'VALOR_PM_D5', 'VALOR_RS24h_D5', 'VALOR_VVM10_D5',\n",
       "       'VALOR_DVM10_D5', 'VALOR_VVX10_D5', 'VALOR_DVVX10_D5', 'VALOR_HRX_D5',\n",
       "       'VALOR_HRN_D5', 'VALOR_PX_D5', 'VALOR_PN_D5', 'VALOR_TM_X2',\n",
       "       'VALOR_TX_X2', 'VALOR_TN_X2', 'VALOR_HRM_X2', 'VALOR_HRX_X2',\n",
       "       'VALOR_HRN_X2', 'VALOR_TM_X4', 'VALOR_TX_X4', 'VALOR_TN_X4',\n",
       "       'VALOR_HRM_X4', 'VALOR_PPT_X4', 'VALOR_PM_X4', 'VALOR_RS24h_X4',\n",
       "       'VALOR_VVM10_X4', 'VALOR_DVM10_X4', 'VALOR_VVX10_X4', 'VALOR_DVVX10_X4',\n",
       "       'VALOR_HRX_X4', 'VALOR_HRN_X4', 'VALOR_PX_X4', 'VALOR_PN_X4',\n",
       "       'VALOR_TM_X8', 'VALOR_TX_X8', 'VALOR_TN_X8', 'VALOR_HRM_X8',\n",
       "       'VALOR_PPT_X8', 'VALOR_PM_X8', 'VALOR_RS24h_X8', 'VALOR_VVM10_X8',\n",
       "       'VALOR_DVM10_X8', 'VALOR_VVX10_X8', 'VALOR_DVVX10_X8', 'VALOR_HRX_X8',\n",
       "       'VALOR_HRN_X8', 'VALOR_PX_X8', 'VALOR_PN_X8', 'year', 'month', 'day'],\n",
       "      dtype='object')"
      ]
     },
     "execution_count": 50,
     "metadata": {},
     "output_type": "execute_result"
    }
   ],
   "source": [
    "df_estadistica_meteo.columns"
   ]
  },
  {
   "cell_type": "markdown",
   "id": "322d1915",
   "metadata": {},
   "source": [
    "# Split estaciones 2019 - 2022"
   ]
  },
  {
   "cell_type": "markdown",
   "id": "68a68a7f",
   "metadata": {},
   "source": [
    "## Part 1 "
   ]
  },
  {
   "cell_type": "code",
   "execution_count": 51,
   "id": "6f824fd7",
   "metadata": {},
   "outputs": [
    {
     "data": {
      "text/plain": [
       "{'tcp://127.0.0.1:37539': 1,\n",
       " 'tcp://127.0.0.1:39201': 1,\n",
       " 'tcp://127.0.0.1:39909': 1,\n",
       " 'tcp://127.0.0.1:41049': 1,\n",
       " 'tcp://127.0.0.1:43489': 1}"
      ]
     },
     "execution_count": 51,
     "metadata": {},
     "output_type": "execute_result"
    }
   ],
   "source": [
    "client.run(trim_memory)"
   ]
  },
  {
   "cell_type": "code",
   "execution_count": 52,
   "id": "58c27387",
   "metadata": {
    "scrolled": true
   },
   "outputs": [
    {
     "name": "stdout",
     "output_type": "stream",
     "text": [
      "CPU times: user 1.49 ms, sys: 0 ns, total: 1.49 ms\n",
      "Wall time: 1.47 ms\n"
     ]
    }
   ],
   "source": [
    "%%time\n",
    "\n",
    "bbdd_completa_19_22 = bbdd_completa[bbdd_completa.year.isin([2019, 2020, 2021, 2022])]"
   ]
  },
  {
   "cell_type": "code",
   "execution_count": 53,
   "id": "2f0a78fb",
   "metadata": {
    "scrolled": true
   },
   "outputs": [
    {
     "name": "stdout",
     "output_type": "stream",
     "text": [
      "year\n",
      "2019    [1, 320, 319, 318, 317, 316, 315, 314, 313, 31...\n",
      "2020    [1, 301, 300, 299, 14, 298, 297, 296, 295, 294...\n",
      "2021    [1, 271, 400, 510, 26, 270, 269, 401, 268, 267...\n",
      "2022    [1, 380, 28, 379, 378, 377, 376, 375, 29, 374,...\n",
      "Name: station_id, dtype: object\n",
      "CPU times: user 3.12 s, sys: 244 ms, total: 3.36 s\n",
      "Wall time: 15.8 s\n"
     ]
    }
   ],
   "source": [
    "%%time\n",
    "\n",
    "unique_ids_by_year = bbdd_completa_19_22.groupby('year')['station_id'].unique().compute()\n",
    "print(unique_ids_by_year)"
   ]
  },
  {
   "cell_type": "code",
   "execution_count": 54,
   "id": "c9865fd4",
   "metadata": {},
   "outputs": [
    {
     "name": "stdout",
     "output_type": "stream",
     "text": [
      "2019 (410,)\n",
      "2020 (508,)\n",
      "2021 (509,)\n",
      "2022 (510,)\n",
      "total: 408\n"
     ]
    }
   ],
   "source": [
    "# Calcula los station_id comunes en todos los años\n",
    "common_ids = set(unique_ids_by_year[2019])\n",
    "for year, ids in unique_ids_by_year.items():\n",
    "    print(year, ids.shape)\n",
    "    common_ids = common_ids.intersection(set(ids))\n",
    "# common_ids\n",
    "print('total:',len(common_ids))"
   ]
  },
  {
   "cell_type": "code",
   "execution_count": 55,
   "id": "9bb976d6",
   "metadata": {
    "scrolled": true
   },
   "outputs": [],
   "source": [
    "filtered_bbdd = bbdd_completa_19_22[bbdd_completa_19_22['station_id'].isin(common_ids)]\n",
    "nonfiltered_bbdd = bbdd_completa_19_22[~bbdd_completa_19_22['station_id'].isin(common_ids)]"
   ]
  },
  {
   "cell_type": "code",
   "execution_count": 56,
   "id": "4b8a4c8c",
   "metadata": {},
   "outputs": [],
   "source": [
    "bbdd_completa_19_22 = None"
   ]
  },
  {
   "cell_type": "markdown",
   "id": "97a27e23",
   "metadata": {},
   "source": [
    "## Part 2 "
   ]
  },
  {
   "cell_type": "code",
   "execution_count": 57,
   "id": "6eb33ff1",
   "metadata": {},
   "outputs": [
    {
     "data": {
      "text/plain": [
       "{'tcp://127.0.0.1:37539': 1,\n",
       " 'tcp://127.0.0.1:39201': 1,\n",
       " 'tcp://127.0.0.1:39909': 1,\n",
       " 'tcp://127.0.0.1:41049': 1,\n",
       " 'tcp://127.0.0.1:43489': 1}"
      ]
     },
     "execution_count": 57,
     "metadata": {},
     "output_type": "execute_result"
    }
   ],
   "source": [
    "client.run(trim_memory)"
   ]
  },
  {
   "cell_type": "markdown",
   "id": "d249ac11",
   "metadata": {},
   "source": [
    "2019"
   ]
  },
  {
   "cell_type": "code",
   "execution_count": 58,
   "id": "57f90e03",
   "metadata": {},
   "outputs": [
    {
     "data": {
      "text/plain": [
       "(3023314, 13)"
      ]
     },
     "execution_count": 58,
     "metadata": {},
     "output_type": "execute_result"
    }
   ],
   "source": [
    "train_data2019 = filtered_bbdd[filtered_bbdd.year.isin([2019])]\n",
    "get_ddf_shape(train_data2019)"
   ]
  },
  {
   "cell_type": "code",
   "execution_count": 59,
   "id": "ff8bf575",
   "metadata": {},
   "outputs": [
    {
     "data": {
      "text/plain": [
       "(14882, 13)"
      ]
     },
     "execution_count": 59,
     "metadata": {},
     "output_type": "execute_result"
    }
   ],
   "source": [
    "val_data2019 = nonfiltered_bbdd[nonfiltered_bbdd.year.isin([2019])]\n",
    "get_ddf_shape(val_data2019)"
   ]
  },
  {
   "cell_type": "markdown",
   "id": "9bcf2e4b",
   "metadata": {},
   "source": [
    "2020"
   ]
  },
  {
   "cell_type": "code",
   "execution_count": 60,
   "id": "b6d0f1af",
   "metadata": {},
   "outputs": [
    {
     "data": {
      "text/plain": [
       "(3048728, 13)"
      ]
     },
     "execution_count": 60,
     "metadata": {},
     "output_type": "execute_result"
    }
   ],
   "source": [
    "train_data2020 = filtered_bbdd[filtered_bbdd.year.isin([2020])]\n",
    "get_ddf_shape(train_data2020)"
   ]
  },
  {
   "cell_type": "code",
   "execution_count": 61,
   "id": "ff94af9a",
   "metadata": {},
   "outputs": [
    {
     "data": {
      "text/plain": [
       "(499114, 13)"
      ]
     },
     "execution_count": 61,
     "metadata": {},
     "output_type": "execute_result"
    }
   ],
   "source": [
    "val_data2020 = nonfiltered_bbdd[nonfiltered_bbdd.year.isin([2020])]\n",
    "get_ddf_shape(val_data2020)"
   ]
  },
  {
   "cell_type": "markdown",
   "id": "d6f236ce",
   "metadata": {},
   "source": [
    "2021"
   ]
  },
  {
   "cell_type": "code",
   "execution_count": 62,
   "id": "95860e65",
   "metadata": {},
   "outputs": [
    {
     "data": {
      "text/plain": [
       "(3531621, 13)"
      ]
     },
     "execution_count": 62,
     "metadata": {},
     "output_type": "execute_result"
    }
   ],
   "source": [
    "train_data2021 = filtered_bbdd[filtered_bbdd.year.isin([2021])]\n",
    "get_ddf_shape(train_data2021)"
   ]
  },
  {
   "cell_type": "code",
   "execution_count": 63,
   "id": "1d0d8585",
   "metadata": {},
   "outputs": [
    {
     "data": {
      "text/plain": [
       "(871184, 13)"
      ]
     },
     "execution_count": 63,
     "metadata": {},
     "output_type": "execute_result"
    }
   ],
   "source": [
    "val_data2021 = nonfiltered_bbdd[nonfiltered_bbdd.year.isin([2021])]\n",
    "get_ddf_shape(val_data2021)"
   ]
  },
  {
   "cell_type": "markdown",
   "id": "9c10b827",
   "metadata": {},
   "source": [
    "2021"
   ]
  },
  {
   "cell_type": "code",
   "execution_count": 64,
   "id": "c2f4e750",
   "metadata": {},
   "outputs": [
    {
     "data": {
      "text/plain": [
       "(3531621, 13)"
      ]
     },
     "execution_count": 64,
     "metadata": {},
     "output_type": "execute_result"
    }
   ],
   "source": [
    "train_data2021 = filtered_bbdd[filtered_bbdd.year.isin([2021])]\n",
    "get_ddf_shape(train_data2021)"
   ]
  },
  {
   "cell_type": "code",
   "execution_count": 65,
   "id": "68314cf1",
   "metadata": {},
   "outputs": [
    {
     "data": {
      "text/plain": [
       "(882341, 13)"
      ]
     },
     "execution_count": 65,
     "metadata": {},
     "output_type": "execute_result"
    }
   ],
   "source": [
    "val_data2022 = nonfiltered_bbdd[nonfiltered_bbdd.year.isin([2022])]\n",
    "get_ddf_shape(val_data2022)"
   ]
  },
  {
   "cell_type": "markdown",
   "id": "d81bf730",
   "metadata": {},
   "source": [
    "2023"
   ]
  },
  {
   "cell_type": "code",
   "execution_count": 66,
   "id": "77d7c313",
   "metadata": {},
   "outputs": [
    {
     "data": {
      "text/plain": [
       "(1692805, 13)"
      ]
     },
     "execution_count": 66,
     "metadata": {},
     "output_type": "execute_result"
    }
   ],
   "source": [
    "val_data2023 = bbdd_completa[bbdd_completa.year.isin([2023])]\n",
    "get_ddf_shape(val_data2023)"
   ]
  },
  {
   "cell_type": "markdown",
   "id": "f2d9caf3",
   "metadata": {},
   "source": [
    "# Convert to Pandas "
   ]
  },
  {
   "cell_type": "markdown",
   "id": "7a49151e",
   "metadata": {},
   "source": [
    "2019"
   ]
  },
  {
   "cell_type": "code",
   "execution_count": 67,
   "id": "0b80f614",
   "metadata": {},
   "outputs": [
    {
     "name": "stdout",
     "output_type": "stream",
     "text": [
      "CPU times: user 6.8 s, sys: 956 ms, total: 7.76 s\n",
      "Wall time: 34.9 s\n"
     ]
    }
   ],
   "source": [
    "%%time \n",
    "\n",
    "# conversion a pandas\n",
    "# datos de training de 2019\n",
    "X_train2019, y_train2019 = train_data2019.compute().copy(), train_data2019.ctx0.compute().copy()"
   ]
  },
  {
   "cell_type": "code",
   "execution_count": 68,
   "id": "0bd42a61",
   "metadata": {},
   "outputs": [
    {
     "name": "stdout",
     "output_type": "stream",
     "text": [
      "CPU times: user 6.16 s, sys: 568 ms, total: 6.73 s\n",
      "Wall time: 31.7 s\n"
     ]
    }
   ],
   "source": [
    "%%time \n",
    "\n",
    "# conversion a pandas\n",
    "# datos de validacion de 2019\n",
    "X_val2019, y_val2019 = val_data2019.compute().copy(), val_data2019.ctx0.compute().copy()"
   ]
  },
  {
   "cell_type": "markdown",
   "id": "7348da20",
   "metadata": {},
   "source": [
    "2020"
   ]
  },
  {
   "cell_type": "code",
   "execution_count": 69,
   "id": "a811c7a8",
   "metadata": {},
   "outputs": [
    {
     "name": "stdout",
     "output_type": "stream",
     "text": [
      "CPU times: user 6.7 s, sys: 887 ms, total: 7.59 s\n",
      "Wall time: 34.2 s\n"
     ]
    }
   ],
   "source": [
    "%%time \n",
    "\n",
    "# conversion a pandas\n",
    "# datos de training de 2020\n",
    "X_train2020, y_train2020 = train_data2020.compute().copy(), train_data2020.ctx0.compute().copy()"
   ]
  },
  {
   "cell_type": "code",
   "execution_count": 70,
   "id": "0bcc4c14",
   "metadata": {},
   "outputs": [
    {
     "name": "stdout",
     "output_type": "stream",
     "text": [
      "CPU times: user 6.29 s, sys: 569 ms, total: 6.85 s\n",
      "Wall time: 31.9 s\n"
     ]
    }
   ],
   "source": [
    "%%time \n",
    "\n",
    "# conversion a pandas\n",
    "# datos de validacion de 2020\n",
    "X_val2020, y_val2020 = val_data2020.compute().copy(), val_data2020.ctx0.compute().copy()"
   ]
  },
  {
   "cell_type": "markdown",
   "id": "70e54551",
   "metadata": {},
   "source": [
    "2021"
   ]
  },
  {
   "cell_type": "code",
   "execution_count": 71,
   "id": "0db26ea0",
   "metadata": {},
   "outputs": [
    {
     "name": "stderr",
     "output_type": "stream",
     "text": [
      "2023-06-21 02:23:33,098 - distributed.worker.memory - WARNING - Worker is at 81% memory usage. Pausing worker.  Process memory: 5.06 GiB -- Worker memory limit: 6.21 GiB\n",
      "2023-06-21 02:23:33,453 - distributed.worker.memory - WARNING - Worker is at 64% memory usage. Resuming worker. Process memory: 4.00 GiB -- Worker memory limit: 6.21 GiB\n",
      "2023-06-21 02:23:33,824 - distributed.worker.memory - WARNING - Worker is at 81% memory usage. Pausing worker.  Process memory: 5.08 GiB -- Worker memory limit: 6.21 GiB\n",
      "2023-06-21 02:23:34,020 - distributed.worker.memory - WARNING - Worker is at 64% memory usage. Resuming worker. Process memory: 3.98 GiB -- Worker memory limit: 6.21 GiB\n",
      "2023-06-21 02:23:37,322 - distributed.worker.memory - WARNING - Worker is at 81% memory usage. Pausing worker.  Process memory: 5.04 GiB -- Worker memory limit: 6.21 GiB\n",
      "2023-06-21 02:23:38,288 - distributed.nanny.memory - WARNING - Worker tcp://127.0.0.1:39201 (pid=5784) exceeded 95% memory budget. Restarting...\n",
      "2023-06-21 02:23:38,509 - distributed.nanny - WARNING - Restarting worker\n"
     ]
    },
    {
     "name": "stdout",
     "output_type": "stream",
     "text": [
      "CPU times: user 9.17 s, sys: 1.55 s, total: 10.7 s\n",
      "Wall time: 49.9 s\n"
     ]
    }
   ],
   "source": [
    "%%time \n",
    "\n",
    "# conversion a pandas\n",
    "# datos de training de 2021\n",
    "X_train2021, y_train2021 = train_data2021.compute().copy(), train_data2021.ctx0.compute().copy()"
   ]
  },
  {
   "cell_type": "code",
   "execution_count": 72,
   "id": "55203647",
   "metadata": {},
   "outputs": [
    {
     "name": "stderr",
     "output_type": "stream",
     "text": [
      "2023-06-21 02:24:26,154 - distributed.worker.memory - WARNING - Worker is at 82% memory usage. Pausing worker.  Process memory: 5.10 GiB -- Worker memory limit: 6.21 GiB\n",
      "2023-06-21 02:24:27,305 - distributed.worker.memory - WARNING - Worker is at 16% memory usage. Resuming worker. Process memory: 1.04 GiB -- Worker memory limit: 6.21 GiB\n"
     ]
    },
    {
     "name": "stdout",
     "output_type": "stream",
     "text": [
      "CPU times: user 6.74 s, sys: 600 ms, total: 7.34 s\n",
      "Wall time: 34 s\n"
     ]
    }
   ],
   "source": [
    "%%time \n",
    "\n",
    "# conversion a pandas\n",
    "# datos de validacion de 2021\n",
    "X_val2021, y_val2021 = val_data2021.compute().copy(), val_data2021.ctx0.compute().copy()"
   ]
  },
  {
   "cell_type": "markdown",
   "id": "dc5b4ac8",
   "metadata": {},
   "source": [
    "2022"
   ]
  },
  {
   "cell_type": "code",
   "execution_count": 73,
   "id": "35cb6346",
   "metadata": {},
   "outputs": [
    {
     "ename": "NameError",
     "evalue": "name 'train_data2022' is not defined",
     "output_type": "error",
     "traceback": [
      "\u001b[0;31m---------------------------------------------------------------------------\u001b[0m",
      "\u001b[0;31mNameError\u001b[0m                                 Traceback (most recent call last)",
      "File \u001b[0;32m<timed exec>:3\u001b[0m\n",
      "\u001b[0;31mNameError\u001b[0m: name 'train_data2022' is not defined"
     ]
    }
   ],
   "source": [
    "%%time \n",
    "\n",
    "# conversion a pandas\n",
    "# datos de training de 2022\n",
    "X_train2022, y_train2022 = train_data2022.compute().copy(), train_data2022.ctx0.compute().copy()"
   ]
  },
  {
   "cell_type": "code",
   "execution_count": 74,
   "id": "f5ce48fe",
   "metadata": {},
   "outputs": [
    {
     "name": "stdout",
     "output_type": "stream",
     "text": [
      "CPU times: user 6.49 s, sys: 614 ms, total: 7.1 s\n",
      "Wall time: 32.6 s\n"
     ]
    }
   ],
   "source": [
    "%%time \n",
    "\n",
    "# conversion a pandas\n",
    "# datos de validacion de 2022\n",
    "X_val2022, y_val2022 = val_data2022.compute().copy(), val_data2022.ctx0.compute().copy()"
   ]
  },
  {
   "cell_type": "markdown",
   "id": "1c49ecb3",
   "metadata": {},
   "source": [
    "2023"
   ]
  },
  {
   "cell_type": "code",
   "execution_count": 75,
   "id": "55c641cc",
   "metadata": {},
   "outputs": [
    {
     "name": "stdout",
     "output_type": "stream",
     "text": [
      "CPU times: user 6.73 s, sys: 670 ms, total: 7.4 s\n",
      "Wall time: 30.7 s\n"
     ]
    }
   ],
   "source": [
    "%%time \n",
    "\n",
    "# conversion a pandas\n",
    "# datos de validacion de 2023\n",
    "X_test, y_test = val_data2023.compute().copy(), val_data2023.ctx0.compute().copy()"
   ]
  },
  {
   "cell_type": "markdown",
   "id": "21cfd57c",
   "metadata": {},
   "source": [
    "# Shutdown DASK dist client"
   ]
  },
  {
   "cell_type": "code",
   "execution_count": 76,
   "id": "0f64af88",
   "metadata": {
    "scrolled": false
   },
   "outputs": [
    {
     "data": {
      "text/plain": [
       "{'tcp://127.0.0.1:33421': 1,\n",
       " 'tcp://127.0.0.1:37539': 1,\n",
       " 'tcp://127.0.0.1:39909': 1,\n",
       " 'tcp://127.0.0.1:41049': 1,\n",
       " 'tcp://127.0.0.1:43489': 1}"
      ]
     },
     "execution_count": 76,
     "metadata": {},
     "output_type": "execute_result"
    }
   ],
   "source": [
    "client.run(trim_memory)"
   ]
  },
  {
   "cell_type": "code",
   "execution_count": 77,
   "id": "725577c1",
   "metadata": {},
   "outputs": [],
   "source": [
    "client.shutdown()"
   ]
  },
  {
   "cell_type": "markdown",
   "id": "238eed64",
   "metadata": {},
   "source": [
    "# Merge additional data"
   ]
  },
  {
   "cell_type": "markdown",
   "id": "19eefa16",
   "metadata": {},
   "source": [
    "### Merge with data festius"
   ]
  },
  {
   "cell_type": "code",
   "execution_count": null,
   "id": "6699dce0",
   "metadata": {},
   "outputs": [],
   "source": [
    "\n",
    "X_train = pd.merge(X_train, df_calendari_festius, on=['year', 'month', 'day'], how='left')\n",
    "X_val = pd.merge(X_val, df_calendari_festius, on=['year', 'month', 'day'], how='left')\n",
    "X_test = pd.merge(X_test, df_calendari_festius, on=['year', 'month', 'day'], how='left')\n"
   ]
  },
  {
   "cell_type": "markdown",
   "id": "f8011e71",
   "metadata": {},
   "source": [
    "### Merge with data meteo"
   ]
  },
  {
   "cell_type": "code",
   "execution_count": null,
   "id": "f58eedf9",
   "metadata": {},
   "outputs": [],
   "source": [
    "\n",
    "X_train = pd.merge(X_train, df_estadistica_meteo, on=['year', 'month', 'day'], how='left')\n",
    "X_val = pd.merge(X_val, df_estadistica_meteo, on=['year', 'month', 'day'], how='left')\n",
    "X_test = pd.merge(X_test, df_estadistica_meteo, on=['year', 'month', 'day'], how='left')\n"
   ]
  },
  {
   "cell_type": "markdown",
   "id": "61e3fe15",
   "metadata": {},
   "source": [
    "# Final Cleaning & preprocessing"
   ]
  },
  {
   "cell_type": "code",
   "execution_count": null,
   "id": "6949d318",
   "metadata": {
    "scrolled": false
   },
   "outputs": [],
   "source": [
    "X_train.columns"
   ]
  },
  {
   "cell_type": "code",
   "execution_count": null,
   "id": "c36e357d",
   "metadata": {},
   "outputs": [],
   "source": [
    "X_test.festius.fillna(0, inplace=True)\n",
    "X_test.festius_sun.fillna(0, inplace=True)\n",
    "X_test.festius_sun_sat.fillna(0, inplace=True)\n",
    "X_test.weekend.fillna(0, inplace=True)\n",
    "\n",
    "X_test.loc[X_test.dayofweek.isin([5,6]),'weekend'] = 1\n",
    "X_test.loc[X_test.dayofweek.isin([5,6]),'festius_sun_sat'] = 1\n",
    "X_test.loc[X_test.dayofweek.isin([6]),'festius_sun'] = 1\n"
   ]
  },
  {
   "cell_type": "code",
   "execution_count": null,
   "id": "bf3080c4",
   "metadata": {},
   "outputs": [],
   "source": [
    "%%time\n",
    "\n",
    "nans = get_features_nans(X_test)\n",
    "\n",
    "zeros = get_features_zero(X_test)"
   ]
  },
  {
   "cell_type": "code",
   "execution_count": null,
   "id": "c4c8bc52",
   "metadata": {},
   "outputs": [],
   "source": [
    "nans"
   ]
  },
  {
   "cell_type": "code",
   "execution_count": null,
   "id": "02da4659",
   "metadata": {
    "scrolled": true
   },
   "outputs": [],
   "source": [
    "zeros"
   ]
  },
  {
   "cell_type": "code",
   "execution_count": null,
   "id": "fba837df",
   "metadata": {},
   "outputs": [],
   "source": [
    "%%time\n",
    "\n",
    "nans = get_features_nans(pd.concat([X_train, X_val, X_test]))\n",
    "\n",
    "zeros = get_features_zero(pd.concat([X_train, X_val, X_test]))"
   ]
  },
  {
   "cell_type": "code",
   "execution_count": null,
   "id": "0a85c879",
   "metadata": {},
   "outputs": [],
   "source": [
    "nans"
   ]
  },
  {
   "cell_type": "code",
   "execution_count": null,
   "id": "f5e2b37c",
   "metadata": {
    "scrolled": true
   },
   "outputs": [],
   "source": [
    "zeros"
   ]
  },
  {
   "cell_type": "markdown",
   "id": "9029af4a",
   "metadata": {},
   "source": [
    "## Feature extraction"
   ]
  },
  {
   "cell_type": "code",
   "execution_count": null,
   "id": "0b523f33",
   "metadata": {},
   "outputs": [],
   "source": [
    "columns = ['ctx1', 'ctx2', 'ctx3', 'ctx4']\n",
    "combination = [columns[:i] for i in range(2,len(columns)+1)]\n",
    "\n",
    "for comb in combination:\n",
    "    suffix = '_'.join(comb)\n",
    "    print(suffix)\n",
    "    X_train[f'{suffix}_mean'] = X_train[comb].mean(axis=1)\n",
    "    X_train[f'{suffix}_std'] = X_train[comb].std(axis=1)\n",
    "    \n",
    "    X_val[f'{suffix}_mean'] = X_val[comb].mean(axis=1)\n",
    "    X_val[f'{suffix}_std'] = X_val[comb].std(axis=1)\n",
    "    \n",
    "    X_test[f'{suffix}_mean'] = X_test[comb].mean(axis=1)\n",
    "    X_test[f'{suffix}_std'] = X_test[comb].std(axis=1)\n",
    "    "
   ]
  },
  {
   "cell_type": "markdown",
   "id": "6bedfbfc",
   "metadata": {},
   "source": [
    "# Save prepared data to a file "
   ]
  },
  {
   "cell_type": "code",
   "execution_count": null,
   "id": "b3a13c19",
   "metadata": {},
   "outputs": [],
   "source": [
    "%%time \n",
    "\n",
    "X_train.to_csv('dades/processed/training_data.csv', header=True, index=True, index_label='index')\n",
    "y_train.to_csv('dades/processed/training_label.csv', header=True, index=True, index_label='index')"
   ]
  },
  {
   "cell_type": "code",
   "execution_count": null,
   "id": "0ce2cccb",
   "metadata": {},
   "outputs": [],
   "source": [
    "%%time \n",
    "\n",
    "X_val.to_csv('dades/processed/validation_data.csv', header=True, index=True, index_label='index')\n",
    "y_val.to_csv('dades/processed/validation_label.csv', header=True, index=True, index_label='index')"
   ]
  },
  {
   "cell_type": "code",
   "execution_count": null,
   "id": "ffe8ac14",
   "metadata": {},
   "outputs": [],
   "source": [
    "%%time \n",
    "\n",
    "X_test.to_csv('dades/processed/testing_data.csv', header=True, index=True, index_label='index')\n",
    "X_test.to_csv('dades/processed/testing_label.csv', header=True, index=True, index_label='index')"
   ]
  },
  {
   "cell_type": "code",
   "execution_count": null,
   "id": "d929eba4",
   "metadata": {},
   "outputs": [],
   "source": [
    "years = X_train.year.unique().tolist()\n",
    "years"
   ]
  },
  {
   "cell_type": "code",
   "execution_count": null,
   "id": "228dcd0a",
   "metadata": {},
   "outputs": [],
   "source": [
    "months = X_train.month.unique().tolist()\n",
    "months"
   ]
  },
  {
   "cell_type": "markdown",
   "id": "da9dfc01",
   "metadata": {},
   "source": [
    "# Run pipeline"
   ]
  },
  {
   "cell_type": "code",
   "execution_count": null,
   "id": "91669e7f",
   "metadata": {},
   "outputs": [],
   "source": [
    "from sklearn.model_selection import train_test_split\n",
    "from sklearn.pipeline import Pipeline\n",
    "from sklearn.preprocessing import FunctionTransformer\n",
    "from sklearn.impute import SimpleImputer\n",
    "from sklearn.preprocessing import OneHotEncoder\n",
    "from sklearn.preprocessing import OrdinalEncoder\n",
    "from sklearn.model_selection import cross_val_score\n",
    "\n",
    "from sklearn.compose import ColumnTransformer\n",
    "from sklearn.preprocessing import StandardScaler\n",
    "\n",
    "from sklearn import neighbors\n",
    "from sklearn import linear_model\n",
    "from sklearn.linear_model import LinearRegression\n",
    "from sklearn.ensemble import GradientBoostingRegressor\n",
    "from sklearn.ensemble import RandomForestRegressor\n",
    "\n",
    "from sklearn.model_selection import GridSearchCV\n",
    "from sklearn.model_selection import validation_curve\n",
    "\n",
    "from sklearn.metrics import mean_squared_error, r2_score\n",
    "from sklearn.metrics import mean_absolute_error"
   ]
  },
  {
   "cell_type": "code",
   "execution_count": null,
   "id": "5a306039",
   "metadata": {},
   "outputs": [],
   "source": [
    "X_train.columns"
   ]
  },
  {
   "cell_type": "code",
   "execution_count": null,
   "id": "967c438d",
   "metadata": {},
   "outputs": [],
   "source": [
    "columns = X_train.columns[['VALOR' not in i for i in X_train.columns]].to_list()"
   ]
  },
  {
   "cell_type": "code",
   "execution_count": null,
   "id": "7b41ab7e",
   "metadata": {
    "scrolled": true
   },
   "outputs": [],
   "source": [
    "%%time \n",
    "\n",
    "correlations = np.abs(\n",
    "    X_train[columns].corr(method='pearson').ctx0\n",
    ").sort_values(ascending=False)\n",
    "\n",
    "correlations.to_dict()"
   ]
  },
  {
   "cell_type": "code",
   "execution_count": null,
   "id": "209e8d69",
   "metadata": {},
   "outputs": [],
   "source": [
    "columns_ctx = X_train.columns[['ctx' in i for i in X_train.columns]].to_list()\n",
    "columns_ctx.remove('ctx0')"
   ]
  },
  {
   "cell_type": "code",
   "execution_count": null,
   "id": "4c818ee9",
   "metadata": {},
   "outputs": [],
   "source": [
    "columns_meteo = ['VALOR_TN_X4','VALOR_TM_X4', 'VALOR_TX_X4', 'VALOR_PPT_X4']"
   ]
  },
  {
   "cell_type": "code",
   "execution_count": null,
   "id": "cd5c3f49",
   "metadata": {},
   "outputs": [],
   "source": [
    "class Config:\n",
    "    num_attribs0 = ['capacity'] + columns_ctx + columns_meteo\n",
    "    cat_attribs0 = ['month', 'dayofyear', 'hour', 'dayofweek', 'day'] \n",
    "    cat_attribs1 = ['']\n",
    "    gen_attribs0 = ['station_id', 'festius_sun', 'weekend']\n",
    "    target_col = ['ctx0']\n",
    "    \n",
    "    seed=42\n",
    "    \n",
    "def seed_everything(seed=42):\n",
    "    random.seed(seed)\n",
    "    os.environ['PYTHONHASHSEED'] = str(seed)\n",
    "    np.random.seed(seed)\n",
    "    "
   ]
  },
  {
   "cell_type": "code",
   "execution_count": null,
   "id": "8ae5e1ec",
   "metadata": {},
   "outputs": [],
   "source": [
    "config=Config()\n",
    "seed_everything(config.seed)"
   ]
  },
  {
   "cell_type": "code",
   "execution_count": null,
   "id": "f3570890",
   "metadata": {},
   "outputs": [],
   "source": [
    "\n",
    "def build_preprocessor(config):\n",
    "    num_attribs0 = config.num_attribs0\n",
    "    cat_attribs0 = config.cat_attribs0\n",
    "    cat_attribs1 = config.cat_attribs1\n",
    "    gen_attribs0 = config.gen_attribs0\n",
    "\n",
    "    num_transformer0 = Pipeline(steps=[\n",
    "        (\"imputer\", SimpleImputer(strategy=\"mean\")),\n",
    "        ('std_scaler', (StandardScaler())),\n",
    "    ])\n",
    "\n",
    "    categorical_transformer0 = Pipeline(steps=[\n",
    "        (\"imputer\", SimpleImputer(strategy=\"constant\",fill_value=0)),\n",
    "        ('ordinal_encoder', (OrdinalEncoder(handle_unknown='use_encoded_value', unknown_value=np.nan))),\n",
    "    ])\n",
    "    \n",
    "    categorical_transformer1 = Pipeline(steps=[\n",
    "        (\"imputer\", SimpleImputer(strategy=\"constant\",fill_value=0)),\n",
    "        ('one_hot_encoder', (OneHotEncoder(handle_unknown='ignore'))),\n",
    "    ])\n",
    "    \n",
    "    generic_transformer0 = Pipeline([\n",
    "        (\"imputer\", SimpleImputer(strategy=\"constant\",fill_value=0)),\n",
    "    ])\n",
    "    \n",
    "    preprocessor = ColumnTransformer(\n",
    "        transformers=[\n",
    "            (\"num0\", num_transformer0, num_attribs0),\n",
    "            (\"gen1\", generic_transformer0, gen_attribs0),\n",
    "            (\"cat0\", categorical_transformer0, cat_attribs0),\n",
    "#             (\"cat1\", categorical_transformer1, cat_attribs1),\n",
    "        ],\n",
    "        remainder=\"drop\"\n",
    "    )\n",
    "    \n",
    "    return preprocessor"
   ]
  },
  {
   "cell_type": "code",
   "execution_count": null,
   "id": "4f771f4d",
   "metadata": {},
   "outputs": [],
   "source": [
    "%%time \n",
    "\n",
    "full_pipeline = build_preprocessor(config)"
   ]
  },
  {
   "cell_type": "code",
   "execution_count": null,
   "id": "c68c3626",
   "metadata": {},
   "outputs": [],
   "source": [
    "full_pipeline.fit(X_train)"
   ]
  },
  {
   "cell_type": "code",
   "execution_count": null,
   "id": "53206a5d",
   "metadata": {},
   "outputs": [],
   "source": [
    "def apply_pipeline(pipline, X, y, args=None, show=True):\n",
    "    assert X.shape[0] == y.shape[0]\n",
    "    \n",
    "    X_prepared = full_pipeline.transform(X)\n",
    "    \n",
    "    if show:\n",
    "        print(\"X\", X.shape, \n",
    "              \"X_prepared:\", X_prepared.shape,\n",
    "              \"y: \", y.shape\n",
    "             )\n",
    "        \n",
    "    if args:\n",
    "        return X_prepared, y, *args\n",
    "    else:\n",
    "        return X_prepared, y"
   ]
  },
  {
   "cell_type": "code",
   "execution_count": null,
   "id": "9074be12",
   "metadata": {},
   "outputs": [],
   "source": [
    "def prepare_splits(\n",
    "    pipeline,\n",
    "    data_train,\n",
    "    data_val,\n",
    "    data_test,\n",
    "    years, \n",
    "    months, \n",
    "    show=True\n",
    "):\n",
    "    if show:\n",
    "        print(\"train\")\n",
    "    \n",
    "    train_cond = (data_train[0].year.isin(years) & data_train[0].month.isin(months))\n",
    "    Xtr, ytr = apply_pipeline(\n",
    "        pipeline,\n",
    "        data_train[0][train_cond], \n",
    "        data_train[1][train_cond],\n",
    "        show=show\n",
    "    )\n",
    "\n",
    "    if show:\n",
    "        print(\"val\")\n",
    "    \n",
    "    val_cond = (data_val[0].year.isin(years) & data_val[0].month.isin(months))\n",
    "    Xva, yva = apply_pipeline(\n",
    "        pipeline, \n",
    "        data_val[0][val_cond], \n",
    "        data_val[1][val_cond],\n",
    "        show=show\n",
    "    )\n",
    "\n",
    "    if show:\n",
    "        print(\"test\")\n",
    "    \n",
    "    test_cond = (data_test[0].year.isin([2023]) & data_test[0].month.isin([3]))\n",
    "    Xte, yte = apply_pipeline(\n",
    "        pipeline, \n",
    "        data_test[0][test_cond],\n",
    "        data_test[1][test_cond],\n",
    "        show=show\n",
    "    )\n",
    "    \n",
    "    return Xtr, ytr, Xva, yva, Xte, yte"
   ]
  },
  {
   "cell_type": "code",
   "execution_count": null,
   "id": "7df8f36c",
   "metadata": {},
   "outputs": [],
   "source": [
    "def test_model_train_val_test(\n",
    "    model,\n",
    "    data_train,\n",
    "    data_val,\n",
    "    data_test,\n",
    "    skip_cv=False,\n",
    "    show=False,\n",
    "    error_score='raise'\n",
    "):\n",
    "    if skip_cv==False:\n",
    "        cross_val_evaluation(\n",
    "            model, \n",
    "            data_train[0], \n",
    "            data_train[1], \n",
    "            'model test', \n",
    "            n_jobs=5,\n",
    "            error_score=error_score\n",
    "        )\n",
    "    \n",
    "    model.fit(data_train[0], data_train[1])\n",
    "    \n",
    "    return {\n",
    "        'train':test_model(model, data_train[0], data_train[1], show=show)[['mse_t','rmse_t','mae_t','r2_t']],\n",
    "        'test':test_model(model, data_val[0], data_val[1], data_test[0], data_test[1], show=show)[['mse_t','rmse_t','mae_t','r2_t', 'mse_v','rmse_v','mae_v','r2_v']]\n",
    "    }\n"
   ]
  },
  {
   "cell_type": "code",
   "execution_count": null,
   "id": "fc3a0836",
   "metadata": {},
   "outputs": [],
   "source": [
    "def do_test_per_month(\n",
    "    model, \n",
    "    modelargs,\n",
    "    data_train,\n",
    "    data_val,\n",
    "    data_test,\n",
    "    years,\n",
    "    months\n",
    "):\n",
    "    result = {}\n",
    "    with tqdm(range (len(years)*len(months)), unit=\"months\", mininterval=0, disable=False) as bar:\n",
    "        for index in bar:\n",
    "            month = months[(index%len(months))]\n",
    "            year = years[int(index>=len(months))]\n",
    "            bar.set_description(f\"Month {year}-{month}\")\n",
    "\n",
    "            Xtr, ytr, Xva, yva, Xte, yte = prepare_splits(\n",
    "                full_pipeline,\n",
    "                data_train,\n",
    "                data_val,\n",
    "                data_test,\n",
    "                [year], [month], False)\n",
    "            \n",
    "            # define model \n",
    "            m = model(**modelargs)\n",
    "\n",
    "            result[index] = test_model_train_val_test(\n",
    "                m,\n",
    "                (Xtr, ytr),\n",
    "                (Xva, yva),\n",
    "                (Xte, yte),\n",
    "                skip_cv=True,\n",
    "                show=False,\n",
    "                error_score='raise'\n",
    "            )\n",
    "                \n",
    "    result=pd.DataFrame(result)\n",
    "    aux=pd.DataFrame(result.T.unstack().reset_index()[0].to_dict()).T\n",
    "    aux['type']=pd.DataFrame(result.T.unstack().reset_index().level_0)\n",
    "    aux['order']=pd.DataFrame(result.T.unstack().reset_index().level_1)\n",
    "    aux = pd.DataFrame(aux.set_index(['type', 'order']).unstack(['type']).reindex()).reset_index()\n",
    "    aux.columns = ['_'.join(col) for col in aux.columns.values]\n",
    "    \n",
    "    return aux"
   ]
  },
  {
   "cell_type": "code",
   "execution_count": null,
   "id": "1580c330",
   "metadata": {},
   "outputs": [],
   "source": [
    "def do_test_per_month_combos(\n",
    "    model, \n",
    "    modelargs,\n",
    "    data_train,\n",
    "    data_val,\n",
    "    data_test,\n",
    "    years,\n",
    "    months\n",
    "):\n",
    "    result = {}\n",
    "    with tqdm(range (len(years)*len(months)), unit=\"months\", mininterval=0, disable=False) as bar:\n",
    "        for index in bar:\n",
    "            month_combo = months[(index%len(months))]\n",
    "            year = years[int(index>=len(months))]\n",
    "            bar.set_description(f\"Month {year}-{month_combo}\")\n",
    "\n",
    "            Xtr, ytr, Xva, yva, Xte, yte = prepare_splits(\n",
    "                full_pipeline,\n",
    "                data_train,\n",
    "                data_val,\n",
    "                data_test,\n",
    "                [year], month_combo, False)\n",
    "            \n",
    "            # define model \n",
    "            m = model(**modelargs)\n",
    "\n",
    "            result[index] = test_model_train_val_test(\n",
    "                m,\n",
    "                (Xtr, ytr),\n",
    "                (Xva, yva),\n",
    "                (Xte, yte),\n",
    "                skip_cv=True,\n",
    "                show=False,\n",
    "                error_score='raise'\n",
    "            )\n",
    "            \n",
    "    result=pd.DataFrame(result)\n",
    "    aux=pd.DataFrame(result.T.unstack().reset_index()[0].to_dict()).T\n",
    "    aux['type']=pd.DataFrame(result.T.unstack().reset_index().level_0)\n",
    "    aux['order']=pd.DataFrame(result.T.unstack().reset_index().level_1)\n",
    "    aux = pd.DataFrame(aux.set_index(['type', 'order']).unstack(['type']).reindex()).reset_index()\n",
    "    aux.columns = ['_'.join(col) for col in aux.columns.values]\n",
    "    \n",
    "    return aux"
   ]
  },
  {
   "cell_type": "code",
   "execution_count": null,
   "id": "20a31430",
   "metadata": {},
   "outputs": [],
   "source": [
    "[months.remove(x) for x in [6,7,8,9,10,11]]"
   ]
  },
  {
   "cell_type": "code",
   "execution_count": null,
   "id": "f8d0680e",
   "metadata": {},
   "outputs": [],
   "source": [
    "years, months"
   ]
  },
  {
   "cell_type": "code",
   "execution_count": null,
   "id": "b7f034f2",
   "metadata": {},
   "outputs": [],
   "source": [
    "X_train.shape,y_train.shape"
   ]
  },
  {
   "cell_type": "code",
   "execution_count": null,
   "id": "e297044e",
   "metadata": {},
   "outputs": [],
   "source": [
    "X_val.shape, y_val.shape"
   ]
  },
  {
   "cell_type": "code",
   "execution_count": null,
   "id": "94a63fa9",
   "metadata": {},
   "outputs": [],
   "source": [
    "# Take data of 2022 \n",
    "\n",
    "X_train_prepared, y_train_prepared, X_val_prepared, y_val_prepared, X_test_prepared, y_test_prepared = prepare_splits(\n",
    "    full_pipeline,\n",
    "    (X_train, y_train),\n",
    "    (X_val, y_val),\n",
    "    (X_test, y_test),\n",
    "    [2022], months, True)\n"
   ]
  },
  {
   "cell_type": "raw",
   "id": "6b82e9ee",
   "metadata": {},
   "source": [
    "X_train_prepared_list = X_train_prepared.toarray()\n",
    "\n",
    "X_val_prepared_list = X_val_prepared.toarray()\n",
    "\n",
    "X_test_prepared_list = X_test_prepared.toarray()"
   ]
  },
  {
   "cell_type": "code",
   "execution_count": null,
   "id": "25f39abc",
   "metadata": {},
   "outputs": [],
   "source": [
    "import gc\n",
    "\n",
    "gc.collect()"
   ]
  },
  {
   "cell_type": "markdown",
   "id": "7f8f1ba6",
   "metadata": {},
   "source": [
    "# Predicción______________________________\n",
    "\n",
    "a) Regresión lineal: relación lineal entre las variables de entrada y la variable de salida. \n",
    "\n",
    "b) Regresión Redes Neuronales (RNN -redes neuronales recurrentes-): pueden capturar relaciones no lineales entre las variables de entrada y salida."
   ]
  },
  {
   "cell_type": "markdown",
   "id": "313dac49",
   "metadata": {},
   "source": [
    "## LinearRegression"
   ]
  },
  {
   "cell_type": "code",
   "execution_count": null,
   "id": "51f4274a",
   "metadata": {},
   "outputs": [],
   "source": [
    "from sklearn.linear_model import LinearRegression, Ridge, Lasso, ElasticNet"
   ]
  },
  {
   "cell_type": "code",
   "execution_count": null,
   "id": "3663606c",
   "metadata": {
    "scrolled": true
   },
   "outputs": [],
   "source": [
    "lin_reg = LinearRegression(n_jobs=5)"
   ]
  },
  {
   "cell_type": "code",
   "execution_count": null,
   "id": "3966909f",
   "metadata": {},
   "outputs": [],
   "source": [
    "ridge_reg = Ridge(alpha=.3, random_state=config.seed)"
   ]
  },
  {
   "cell_type": "code",
   "execution_count": null,
   "id": "c07220a7",
   "metadata": {},
   "outputs": [],
   "source": [
    "lasso_reg = Lasso(alpha=0.01, random_state=config.seed)"
   ]
  },
  {
   "cell_type": "code",
   "execution_count": null,
   "id": "f9677284",
   "metadata": {},
   "outputs": [],
   "source": [
    "elasticNet_reg = ElasticNet(alpha=0.01, l1_ratio=0.3, random_state=config.seed) "
   ]
  },
  {
   "cell_type": "markdown",
   "id": "1a695b40",
   "metadata": {},
   "source": [
    "## Train and test, validate model"
   ]
  },
  {
   "cell_type": "code",
   "execution_count": null,
   "id": "18b104f1",
   "metadata": {
    "scrolled": true
   },
   "outputs": [],
   "source": [
    "%%time \n",
    "\n",
    "test_model_train_val_test(\n",
    "    lin_reg, \n",
    "    (X_train_prepared, y_train_prepared),\n",
    "    (X_val_prepared, y_val_prepared),\n",
    "    (X_test_prepared,  y_test_prepared),\n",
    "    show=True\n",
    ")\n"
   ]
  },
  {
   "cell_type": "code",
   "execution_count": null,
   "id": "41e46c13",
   "metadata": {},
   "outputs": [],
   "source": [
    "%%time \n",
    "\n",
    "test_model_train_val_test(\n",
    "    lasso_reg, \n",
    "    (X_train_prepared, y_train_prepared),\n",
    "    (X_val_prepared, y_val_prepared),\n",
    "    (X_test_prepared,  y_test_prepared),\n",
    "    show=True\n",
    ")\n"
   ]
  },
  {
   "cell_type": "code",
   "execution_count": null,
   "id": "03392a9c",
   "metadata": {},
   "outputs": [],
   "source": [
    "%%time \n",
    "\n",
    "test_model_train_val_test(\n",
    "    ridge_reg, \n",
    "    (X_train_prepared, y_train_prepared),\n",
    "    (X_val_prepared, y_val_prepared),\n",
    "    (X_test_prepared,  y_test_prepared),\n",
    "    show=True\n",
    ")\n"
   ]
  },
  {
   "cell_type": "code",
   "execution_count": null,
   "id": "0d4fb26c",
   "metadata": {},
   "outputs": [],
   "source": [
    "%%time \n",
    "\n",
    "test_model_train_val_test(\n",
    "    elasticNet_reg, \n",
    "    (X_train_prepared, y_train_prepared),\n",
    "    (X_val_prepared, y_val_prepared),\n",
    "    (X_test_prepared,  y_test_prepared),\n",
    "    show=True\n",
    ")\n"
   ]
  },
  {
   "cell_type": "markdown",
   "id": "9d52db03",
   "metadata": {},
   "source": [
    "## RANSACRegressor"
   ]
  },
  {
   "cell_type": "code",
   "execution_count": null,
   "id": "5de93dfc",
   "metadata": {},
   "outputs": [],
   "source": [
    "from sklearn.linear_model import RANSACRegressor"
   ]
  },
  {
   "cell_type": "code",
   "execution_count": null,
   "id": "c933b690",
   "metadata": {},
   "outputs": [],
   "source": [
    "%%time \n",
    "\n",
    "# Set RANSAC hyperparameters\n",
    "ransac = RANSACRegressor(\n",
    "    LinearRegression(n_jobs=5),\n",
    "    max_trials=5, # Number of Iterations\n",
    "    min_samples=2, # Minimum size of the sample\n",
    "    loss='absolute_error',# Metrics for loss\n",
    "    residual_threshold=0.5 # Threshold\n",
    ")\n"
   ]
  },
  {
   "cell_type": "code",
   "execution_count": null,
   "id": "d37e5049",
   "metadata": {},
   "outputs": [],
   "source": [
    "%%time \n",
    "\n",
    "test_model_train_val_test(\n",
    "    ransac, \n",
    "    (X_train_prepared, y_train_prepared),\n",
    "    (X_val_prepared, y_val_prepared),\n",
    "    (X_test_prepared,  y_test_prepared),\n",
    "    show=True\n",
    ")"
   ]
  },
  {
   "cell_type": "markdown",
   "id": "de7c283b",
   "metadata": {},
   "source": [
    "## Generate Sample"
   ]
  },
  {
   "cell_type": "code",
   "execution_count": null,
   "id": "597e669c",
   "metadata": {},
   "outputs": [],
   "source": [
    "sample_data = pd.read_csv('dades/metadata_sample_submission.csv/metadata_sample_submission.csv')"
   ]
  },
  {
   "cell_type": "code",
   "execution_count": null,
   "id": "268849f2",
   "metadata": {},
   "outputs": [],
   "source": [
    "sample_data['year'] = 2023"
   ]
  },
  {
   "cell_type": "code",
   "execution_count": null,
   "id": "fd1f3b9c",
   "metadata": {},
   "outputs": [],
   "source": [
    "sample_data['datetime'] = pd.to_datetime(sample_data[['year','month','day']])\n",
    "sample_data['dayofweek'] = sample_data.datetime.dt.dayofweek\n",
    "sample_data['dayofyear'] = sample_data.datetime.dt.dayofyear"
   ]
  },
  {
   "cell_type": "code",
   "execution_count": null,
   "id": "564ce166",
   "metadata": {},
   "outputs": [],
   "source": [
    "sample_data.drop(['datetime', 'index'], axis=1, inplace=True)"
   ]
  },
  {
   "cell_type": "code",
   "execution_count": null,
   "id": "13acc112",
   "metadata": {},
   "outputs": [],
   "source": [
    "sample_data.rename(\n",
    "    columns = {\n",
    "        'ctx-4':'ctx4',\n",
    "        'ctx-3':'ctx3',\n",
    "        'ctx-2':'ctx2',\n",
    "        'ctx-1':'ctx1'\n",
    "    },\n",
    "    inplace=True\n",
    ")"
   ]
  },
  {
   "cell_type": "code",
   "execution_count": null,
   "id": "035cacdd",
   "metadata": {},
   "outputs": [],
   "source": [
    "sample_data"
   ]
  },
  {
   "cell_type": "markdown",
   "id": "35934798",
   "metadata": {},
   "source": [
    "##  Feature extraction"
   ]
  },
  {
   "cell_type": "code",
   "execution_count": null,
   "id": "f91972a5",
   "metadata": {},
   "outputs": [],
   "source": [
    "columns = ['ctx1', 'ctx2', 'ctx3', 'ctx4']\n",
    "combination = [columns[:i] for i in range(2,len(columns)+1)]\n",
    "\n",
    "for comb in combination:\n",
    "    suffix = '_'.join(comb)\n",
    "    print(suffix)\n",
    "    sample_data[f'{suffix}_mean'] = sample_data[comb].mean(axis=1)\n",
    "    sample_data[f'{suffix}_std'] = sample_data[comb].std(axis=1)\n",
    "    "
   ]
  },
  {
   "cell_type": "markdown",
   "id": "8945b021",
   "metadata": {},
   "source": [
    "# Merge additional data"
   ]
  },
  {
   "cell_type": "markdown",
   "id": "717c3ac1",
   "metadata": {},
   "source": [
    "### Merge with data festius"
   ]
  },
  {
   "cell_type": "code",
   "execution_count": null,
   "id": "d791b972",
   "metadata": {},
   "outputs": [],
   "source": [
    "\n",
    "sample_data = pd.merge(sample_data, df_calendari_festius, on=['year', 'month', 'day'], how='left')\n"
   ]
  },
  {
   "cell_type": "markdown",
   "id": "461292e1",
   "metadata": {},
   "source": [
    "### Merge with data meteo"
   ]
  },
  {
   "cell_type": "code",
   "execution_count": null,
   "id": "65ae553e",
   "metadata": {},
   "outputs": [],
   "source": [
    "\n",
    "sample_data = pd.merge(sample_data, df_estadistica_meteo, on=['year', 'month', 'day'], how='left')\n"
   ]
  },
  {
   "cell_type": "markdown",
   "id": "38439f0b",
   "metadata": {},
   "source": [
    "# merge capacity "
   ]
  },
  {
   "cell_type": "code",
   "execution_count": null,
   "id": "95aabd22",
   "metadata": {},
   "outputs": [],
   "source": [
    "X_train.capacity = X_train.capacity.astype(int)"
   ]
  },
  {
   "cell_type": "code",
   "execution_count": null,
   "id": "f3e32918",
   "metadata": {},
   "outputs": [],
   "source": [
    "station_capacity = X_train.groupby(['station_id']).capacity.max()\n"
   ]
  },
  {
   "cell_type": "code",
   "execution_count": null,
   "id": "fc200de8",
   "metadata": {},
   "outputs": [],
   "source": [
    "station_capacity = station_capacity.reset_index()"
   ]
  },
  {
   "cell_type": "code",
   "execution_count": null,
   "id": "c666f0ee",
   "metadata": {},
   "outputs": [],
   "source": [
    "\n",
    "sample_data = pd.merge(sample_data, station_capacity, on=['station_id'], how='left')\n"
   ]
  },
  {
   "cell_type": "markdown",
   "id": "b2cae5f2",
   "metadata": {},
   "source": [
    "# check columns that does not intersect and save sample data modified to file "
   ]
  },
  {
   "cell_type": "code",
   "execution_count": null,
   "id": "cb25af7e",
   "metadata": {
    "scrolled": true
   },
   "outputs": [],
   "source": [
    "[x for x in X_train.columns if x not in sample_data.columns]"
   ]
  },
  {
   "cell_type": "code",
   "execution_count": null,
   "id": "1899a48d",
   "metadata": {},
   "outputs": [],
   "source": [
    "%%time \n",
    "\n",
    "sample_data.to_csv('dades/processed/kaggle_sample_data.csv', header=True, index=True, index_label='index')\n"
   ]
  },
  {
   "cell_type": "markdown",
   "id": "f677b355",
   "metadata": {},
   "source": [
    "# apply pipeline"
   ]
  },
  {
   "cell_type": "code",
   "execution_count": null,
   "id": "696eab39",
   "metadata": {},
   "outputs": [],
   "source": [
    "X_sample_prepared = full_pipeline.transform(sample_data)\n",
    "\n",
    "print(\"x_train_prepared:\",X_train_prepared.shape,\"y_train: \",y_train_prepared.shape)\n",
    "print(\"x_test_prepared:\",X_val_prepared.shape,\"y_test: \",y_val_prepared.shape)\n",
    "print(\"x_test_prepared:\",X_test_prepared.shape,\"y_test: \",y_test_prepared.shape)\n",
    "print(\"x_test_prepared:\",X_sample_prepared.shape)"
   ]
  },
  {
   "cell_type": "code",
   "execution_count": null,
   "id": "a5250b8b",
   "metadata": {},
   "outputs": [],
   "source": [
    "%%time \n",
    "\n",
    "model = forest"
   ]
  },
  {
   "cell_type": "code",
   "execution_count": null,
   "id": "aa6e7da3",
   "metadata": {},
   "outputs": [],
   "source": [
    "name = f'{model.__class__}'.split('.')[-1]\n",
    "name = name.translate( { ord(i): None for i in \"'<>\"})\n",
    "number = 1"
   ]
  },
  {
   "cell_type": "code",
   "execution_count": null,
   "id": "7d2f5c49",
   "metadata": {},
   "outputs": [],
   "source": [
    "test_model_train_val_test(\n",
    "    model, \n",
    "    (X_train_prepared, y_train_prepared),\n",
    "    (X_val_prepared, y_val_prepared),\n",
    "    (X_test_prepared,  y_test_prepared),\n",
    "    show=True\n",
    ")"
   ]
  },
  {
   "cell_type": "code",
   "execution_count": null,
   "id": "35546150",
   "metadata": {},
   "outputs": [],
   "source": [
    "yhat = lin_reg.predict(X_test_prepared)"
   ]
  },
  {
   "cell_type": "code",
   "execution_count": null,
   "id": "524e4aa3",
   "metadata": {},
   "outputs": [],
   "source": [
    "yhat.shape"
   ]
  },
  {
   "cell_type": "code",
   "execution_count": null,
   "id": "cbe4e5ca",
   "metadata": {},
   "outputs": [],
   "source": [
    "sample_data['percentage_docks_available'] = yhat"
   ]
  },
  {
   "cell_type": "code",
   "execution_count": null,
   "id": "22424a27",
   "metadata": {},
   "outputs": [],
   "source": [
    "sample_data['percentage_docks_available'].to_csv(f'{name}{number}.csv', header=True, index_label='index')"
   ]
  }
 ],
 "metadata": {
  "kernelspec": {
   "display_name": "Python 3 (ipykernel)",
   "language": "python",
   "name": "python3"
  },
  "language_info": {
   "codemirror_mode": {
    "name": "ipython",
    "version": 3
   },
   "file_extension": ".py",
   "mimetype": "text/x-python",
   "name": "python",
   "nbconvert_exporter": "python",
   "pygments_lexer": "ipython3",
   "version": "3.8.16"
  }
 },
 "nbformat": 4,
 "nbformat_minor": 5
}
