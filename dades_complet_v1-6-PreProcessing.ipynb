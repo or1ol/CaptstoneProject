{
 "cells": [
  {
   "cell_type": "markdown",
   "id": "da37d8d8",
   "metadata": {},
   "source": [
    "# Import"
   ]
  },
  {
   "cell_type": "code",
   "execution_count": 1,
   "id": "886f34aa",
   "metadata": {},
   "outputs": [
    {
     "data": {
      "text/html": [
       "<style>.container { width:80% !important; }</style>"
      ],
      "text/plain": [
       "<IPython.core.display.HTML object>"
      ]
     },
     "metadata": {},
     "output_type": "display_data"
    }
   ],
   "source": [
    "from IPython.display import display, HTML\n",
    "display(HTML(\"<style>.container { width:80% !important; }</style>\"))\n",
    "\n",
    "import os\n",
    "import time\n",
    "# Python ≥3.5 is required\n",
    "import sys\n",
    "assert sys.version_info >= (3, 5)\n",
    "\n",
    "# Scikit-Learn ≥0.20 is required\n",
    "import sklearn\n",
    "assert sklearn.__version__ >= \"0.20\"\n",
    "\n",
    "from sklearn.ensemble import RandomForestRegressor\n",
    "from sklearn.ensemble import GradientBoostingRegressor\n",
    "from sklearn.model_selection import cross_val_score\n",
    "from sklearn.metrics import mean_squared_error, r2_score\n",
    "from sklearn.metrics import mean_absolute_error\n",
    "\n",
    "import pandas as pd\n",
    "import numpy as np\n",
    "pd.set_option('display.max_columns', None)\n",
    "\n",
    "# To plot pretty figures\n",
    "%matplotlib inline\n",
    "import matplotlib as mpl\n",
    "import matplotlib.pyplot as plt\n",
    "\n",
    "import scipy.stats as stats\n",
    "\n",
    "import seaborn as sns\n",
    "\n",
    "from datetime import datetime\n",
    "\n",
    "import re\n",
    "import random\n",
    "\n",
    "from tqdm.notebook import tqdm\n",
    "\n",
    "import dask.dataframe as dd\n",
    "from dask.distributed import LocalCluster, Client\n",
    "\n",
    "sys.path.insert(0, 'tools/')\n",
    "\n",
    "from tools import * "
   ]
  },
  {
   "cell_type": "markdown",
   "id": "cbdfb034",
   "metadata": {},
   "source": [
    "# Run DASK dist client "
   ]
  },
  {
   "cell_type": "code",
   "execution_count": 2,
   "id": "1e6f86d8",
   "metadata": {},
   "outputs": [],
   "source": [
    "\n",
    "cluster = LocalCluster()\n",
    "client = Client(cluster)\n"
   ]
  },
  {
   "cell_type": "code",
   "execution_count": 3,
   "id": "3cd88af8",
   "metadata": {
    "scrolled": true
   },
   "outputs": [
    {
     "data": {
      "application/vnd.jupyter.widget-view+json": {
       "model_id": "a7b1faa7727e453eb0332c0c0b23122b",
       "version_major": 2,
       "version_minor": 0
      },
      "text/html": [
       "<div class=\"jp-RenderedHTMLCommon jp-RenderedHTML jp-mod-trusted jp-OutputArea-output\">\n",
       "    <div style=\"width: 24px; height: 24px; background-color: #e1e1e1; border: 3px solid #9D9D9D; border-radius: 5px; position: absolute;\">\n",
       "    </div>\n",
       "    <div style=\"margin-left: 48px;\">\n",
       "        <h3 style=\"margin-bottom: 0px; margin-top: 0px;\">LocalCluster</h3>\n",
       "        <p style=\"color: #9D9D9D; margin-bottom: 0px;\">81c15f36</p>\n",
       "        <table style=\"width: 100%; text-align: left;\">\n",
       "            <tr>\n",
       "                <td style=\"text-align: left;\">\n",
       "                    <strong>Dashboard:</strong> <a href=\"http://127.0.0.1:8787/status\" target=\"_blank\">http://127.0.0.1:8787/status</a>\n",
       "                </td>\n",
       "                <td style=\"text-align: left;\">\n",
       "                    <strong>Workers:</strong> 5\n",
       "                </td>\n",
       "            </tr>\n",
       "            <tr>\n",
       "                <td style=\"text-align: left;\">\n",
       "                    <strong>Total threads:</strong> 20\n",
       "                </td>\n",
       "                <td style=\"text-align: left;\">\n",
       "                    <strong>Total memory:</strong> 31.03 GiB\n",
       "                </td>\n",
       "            </tr>\n",
       "            \n",
       "            <tr>\n",
       "    <td style=\"text-align: left;\"><strong>Status:</strong> running</td>\n",
       "    <td style=\"text-align: left;\"><strong>Using processes:</strong> True</td>\n",
       "</tr>\n",
       "\n",
       "            \n",
       "        </table>\n",
       "\n",
       "        <details>\n",
       "            <summary style=\"margin-bottom: 20px;\">\n",
       "                <h3 style=\"display: inline;\">Scheduler Info</h3>\n",
       "            </summary>\n",
       "\n",
       "            <div style=\"\">\n",
       "    <div>\n",
       "        <div style=\"width: 24px; height: 24px; background-color: #FFF7E5; border: 3px solid #FF6132; border-radius: 5px; position: absolute;\"> </div>\n",
       "        <div style=\"margin-left: 48px;\">\n",
       "            <h3 style=\"margin-bottom: 0px;\">Scheduler</h3>\n",
       "            <p style=\"color: #9D9D9D; margin-bottom: 0px;\">Scheduler-e76a2a0b-05c5-469f-93d4-fc62ed38ebeb</p>\n",
       "            <table style=\"width: 100%; text-align: left;\">\n",
       "                <tr>\n",
       "                    <td style=\"text-align: left;\">\n",
       "                        <strong>Comm:</strong> tcp://127.0.0.1:35969\n",
       "                    </td>\n",
       "                    <td style=\"text-align: left;\">\n",
       "                        <strong>Workers:</strong> 5\n",
       "                    </td>\n",
       "                </tr>\n",
       "                <tr>\n",
       "                    <td style=\"text-align: left;\">\n",
       "                        <strong>Dashboard:</strong> <a href=\"http://127.0.0.1:8787/status\" target=\"_blank\">http://127.0.0.1:8787/status</a>\n",
       "                    </td>\n",
       "                    <td style=\"text-align: left;\">\n",
       "                        <strong>Total threads:</strong> 20\n",
       "                    </td>\n",
       "                </tr>\n",
       "                <tr>\n",
       "                    <td style=\"text-align: left;\">\n",
       "                        <strong>Started:</strong> Just now\n",
       "                    </td>\n",
       "                    <td style=\"text-align: left;\">\n",
       "                        <strong>Total memory:</strong> 31.03 GiB\n",
       "                    </td>\n",
       "                </tr>\n",
       "            </table>\n",
       "        </div>\n",
       "    </div>\n",
       "\n",
       "    <details style=\"margin-left: 48px;\">\n",
       "        <summary style=\"margin-bottom: 20px;\">\n",
       "            <h3 style=\"display: inline;\">Workers</h3>\n",
       "        </summary>\n",
       "\n",
       "        \n",
       "        <div style=\"margin-bottom: 20px;\">\n",
       "            <div style=\"width: 24px; height: 24px; background-color: #DBF5FF; border: 3px solid #4CC9FF; border-radius: 5px; position: absolute;\"> </div>\n",
       "            <div style=\"margin-left: 48px;\">\n",
       "            <details>\n",
       "                <summary>\n",
       "                    <h4 style=\"margin-bottom: 0px; display: inline;\">Worker: 0</h4>\n",
       "                </summary>\n",
       "                <table style=\"width: 100%; text-align: left;\">\n",
       "                    <tr>\n",
       "                        <td style=\"text-align: left;\">\n",
       "                            <strong>Comm: </strong> tcp://127.0.0.1:33985\n",
       "                        </td>\n",
       "                        <td style=\"text-align: left;\">\n",
       "                            <strong>Total threads: </strong> 4\n",
       "                        </td>\n",
       "                    </tr>\n",
       "                    <tr>\n",
       "                        <td style=\"text-align: left;\">\n",
       "                            <strong>Dashboard: </strong> <a href=\"http://127.0.0.1:33255/status\" target=\"_blank\">http://127.0.0.1:33255/status</a>\n",
       "                        </td>\n",
       "                        <td style=\"text-align: left;\">\n",
       "                            <strong>Memory: </strong> 6.21 GiB\n",
       "                        </td>\n",
       "                    </tr>\n",
       "                    <tr>\n",
       "                        <td style=\"text-align: left;\">\n",
       "                            <strong>Nanny: </strong> tcp://127.0.0.1:41085\n",
       "                        </td>\n",
       "                        <td style=\"text-align: left;\"></td>\n",
       "                    </tr>\n",
       "                    <tr>\n",
       "                        <td colspan=\"2\" style=\"text-align: left;\">\n",
       "                            <strong>Local directory: </strong> /tmp/dask-scratch-space/worker-hw_2zsol\n",
       "                        </td>\n",
       "                    </tr>\n",
       "\n",
       "                    \n",
       "\n",
       "                    \n",
       "\n",
       "                </table>\n",
       "            </details>\n",
       "            </div>\n",
       "        </div>\n",
       "        \n",
       "        <div style=\"margin-bottom: 20px;\">\n",
       "            <div style=\"width: 24px; height: 24px; background-color: #DBF5FF; border: 3px solid #4CC9FF; border-radius: 5px; position: absolute;\"> </div>\n",
       "            <div style=\"margin-left: 48px;\">\n",
       "            <details>\n",
       "                <summary>\n",
       "                    <h4 style=\"margin-bottom: 0px; display: inline;\">Worker: 1</h4>\n",
       "                </summary>\n",
       "                <table style=\"width: 100%; text-align: left;\">\n",
       "                    <tr>\n",
       "                        <td style=\"text-align: left;\">\n",
       "                            <strong>Comm: </strong> tcp://127.0.0.1:46321\n",
       "                        </td>\n",
       "                        <td style=\"text-align: left;\">\n",
       "                            <strong>Total threads: </strong> 4\n",
       "                        </td>\n",
       "                    </tr>\n",
       "                    <tr>\n",
       "                        <td style=\"text-align: left;\">\n",
       "                            <strong>Dashboard: </strong> <a href=\"http://127.0.0.1:33883/status\" target=\"_blank\">http://127.0.0.1:33883/status</a>\n",
       "                        </td>\n",
       "                        <td style=\"text-align: left;\">\n",
       "                            <strong>Memory: </strong> 6.21 GiB\n",
       "                        </td>\n",
       "                    </tr>\n",
       "                    <tr>\n",
       "                        <td style=\"text-align: left;\">\n",
       "                            <strong>Nanny: </strong> tcp://127.0.0.1:33251\n",
       "                        </td>\n",
       "                        <td style=\"text-align: left;\"></td>\n",
       "                    </tr>\n",
       "                    <tr>\n",
       "                        <td colspan=\"2\" style=\"text-align: left;\">\n",
       "                            <strong>Local directory: </strong> /tmp/dask-scratch-space/worker-e_2u9s9_\n",
       "                        </td>\n",
       "                    </tr>\n",
       "\n",
       "                    \n",
       "\n",
       "                    \n",
       "\n",
       "                </table>\n",
       "            </details>\n",
       "            </div>\n",
       "        </div>\n",
       "        \n",
       "        <div style=\"margin-bottom: 20px;\">\n",
       "            <div style=\"width: 24px; height: 24px; background-color: #DBF5FF; border: 3px solid #4CC9FF; border-radius: 5px; position: absolute;\"> </div>\n",
       "            <div style=\"margin-left: 48px;\">\n",
       "            <details>\n",
       "                <summary>\n",
       "                    <h4 style=\"margin-bottom: 0px; display: inline;\">Worker: 2</h4>\n",
       "                </summary>\n",
       "                <table style=\"width: 100%; text-align: left;\">\n",
       "                    <tr>\n",
       "                        <td style=\"text-align: left;\">\n",
       "                            <strong>Comm: </strong> tcp://127.0.0.1:34091\n",
       "                        </td>\n",
       "                        <td style=\"text-align: left;\">\n",
       "                            <strong>Total threads: </strong> 4\n",
       "                        </td>\n",
       "                    </tr>\n",
       "                    <tr>\n",
       "                        <td style=\"text-align: left;\">\n",
       "                            <strong>Dashboard: </strong> <a href=\"http://127.0.0.1:35067/status\" target=\"_blank\">http://127.0.0.1:35067/status</a>\n",
       "                        </td>\n",
       "                        <td style=\"text-align: left;\">\n",
       "                            <strong>Memory: </strong> 6.21 GiB\n",
       "                        </td>\n",
       "                    </tr>\n",
       "                    <tr>\n",
       "                        <td style=\"text-align: left;\">\n",
       "                            <strong>Nanny: </strong> tcp://127.0.0.1:43803\n",
       "                        </td>\n",
       "                        <td style=\"text-align: left;\"></td>\n",
       "                    </tr>\n",
       "                    <tr>\n",
       "                        <td colspan=\"2\" style=\"text-align: left;\">\n",
       "                            <strong>Local directory: </strong> /tmp/dask-scratch-space/worker-wy1j5ebq\n",
       "                        </td>\n",
       "                    </tr>\n",
       "\n",
       "                    \n",
       "\n",
       "                    \n",
       "\n",
       "                </table>\n",
       "            </details>\n",
       "            </div>\n",
       "        </div>\n",
       "        \n",
       "        <div style=\"margin-bottom: 20px;\">\n",
       "            <div style=\"width: 24px; height: 24px; background-color: #DBF5FF; border: 3px solid #4CC9FF; border-radius: 5px; position: absolute;\"> </div>\n",
       "            <div style=\"margin-left: 48px;\">\n",
       "            <details>\n",
       "                <summary>\n",
       "                    <h4 style=\"margin-bottom: 0px; display: inline;\">Worker: 3</h4>\n",
       "                </summary>\n",
       "                <table style=\"width: 100%; text-align: left;\">\n",
       "                    <tr>\n",
       "                        <td style=\"text-align: left;\">\n",
       "                            <strong>Comm: </strong> tcp://127.0.0.1:33793\n",
       "                        </td>\n",
       "                        <td style=\"text-align: left;\">\n",
       "                            <strong>Total threads: </strong> 4\n",
       "                        </td>\n",
       "                    </tr>\n",
       "                    <tr>\n",
       "                        <td style=\"text-align: left;\">\n",
       "                            <strong>Dashboard: </strong> <a href=\"http://127.0.0.1:44169/status\" target=\"_blank\">http://127.0.0.1:44169/status</a>\n",
       "                        </td>\n",
       "                        <td style=\"text-align: left;\">\n",
       "                            <strong>Memory: </strong> 6.21 GiB\n",
       "                        </td>\n",
       "                    </tr>\n",
       "                    <tr>\n",
       "                        <td style=\"text-align: left;\">\n",
       "                            <strong>Nanny: </strong> tcp://127.0.0.1:43543\n",
       "                        </td>\n",
       "                        <td style=\"text-align: left;\"></td>\n",
       "                    </tr>\n",
       "                    <tr>\n",
       "                        <td colspan=\"2\" style=\"text-align: left;\">\n",
       "                            <strong>Local directory: </strong> /tmp/dask-scratch-space/worker-jp47415n\n",
       "                        </td>\n",
       "                    </tr>\n",
       "\n",
       "                    \n",
       "\n",
       "                    \n",
       "\n",
       "                </table>\n",
       "            </details>\n",
       "            </div>\n",
       "        </div>\n",
       "        \n",
       "        <div style=\"margin-bottom: 20px;\">\n",
       "            <div style=\"width: 24px; height: 24px; background-color: #DBF5FF; border: 3px solid #4CC9FF; border-radius: 5px; position: absolute;\"> </div>\n",
       "            <div style=\"margin-left: 48px;\">\n",
       "            <details>\n",
       "                <summary>\n",
       "                    <h4 style=\"margin-bottom: 0px; display: inline;\">Worker: 4</h4>\n",
       "                </summary>\n",
       "                <table style=\"width: 100%; text-align: left;\">\n",
       "                    <tr>\n",
       "                        <td style=\"text-align: left;\">\n",
       "                            <strong>Comm: </strong> tcp://127.0.0.1:41537\n",
       "                        </td>\n",
       "                        <td style=\"text-align: left;\">\n",
       "                            <strong>Total threads: </strong> 4\n",
       "                        </td>\n",
       "                    </tr>\n",
       "                    <tr>\n",
       "                        <td style=\"text-align: left;\">\n",
       "                            <strong>Dashboard: </strong> <a href=\"http://127.0.0.1:35817/status\" target=\"_blank\">http://127.0.0.1:35817/status</a>\n",
       "                        </td>\n",
       "                        <td style=\"text-align: left;\">\n",
       "                            <strong>Memory: </strong> 6.21 GiB\n",
       "                        </td>\n",
       "                    </tr>\n",
       "                    <tr>\n",
       "                        <td style=\"text-align: left;\">\n",
       "                            <strong>Nanny: </strong> tcp://127.0.0.1:34427\n",
       "                        </td>\n",
       "                        <td style=\"text-align: left;\"></td>\n",
       "                    </tr>\n",
       "                    <tr>\n",
       "                        <td colspan=\"2\" style=\"text-align: left;\">\n",
       "                            <strong>Local directory: </strong> /tmp/dask-scratch-space/worker-d5az1bm7\n",
       "                        </td>\n",
       "                    </tr>\n",
       "\n",
       "                    \n",
       "\n",
       "                    \n",
       "\n",
       "                </table>\n",
       "            </details>\n",
       "            </div>\n",
       "        </div>\n",
       "        \n",
       "\n",
       "    </details>\n",
       "</div>\n",
       "\n",
       "        </details>\n",
       "    </div>\n",
       "</div>"
      ],
      "text/plain": [
       "LocalCluster(81c15f36, 'tcp://127.0.0.1:35969', workers=5, threads=20, memory=31.03 GiB)"
      ]
     },
     "metadata": {},
     "output_type": "display_data"
    }
   ],
   "source": [
    "cluster"
   ]
  },
  {
   "cell_type": "code",
   "execution_count": 4,
   "id": "2d41f2a5",
   "metadata": {},
   "outputs": [
    {
     "data": {
      "text/html": [
       "<div>\n",
       "    <div style=\"width: 24px; height: 24px; background-color: #e1e1e1; border: 3px solid #9D9D9D; border-radius: 5px; position: absolute;\"> </div>\n",
       "    <div style=\"margin-left: 48px;\">\n",
       "        <h3 style=\"margin-bottom: 0px;\">Client</h3>\n",
       "        <p style=\"color: #9D9D9D; margin-bottom: 0px;\">Client-4278620f-13a1-11ee-99c8-b9f76fea3119</p>\n",
       "        <table style=\"width: 100%; text-align: left;\">\n",
       "\n",
       "        <tr>\n",
       "        \n",
       "            <td style=\"text-align: left;\"><strong>Connection method:</strong> Cluster object</td>\n",
       "            <td style=\"text-align: left;\"><strong>Cluster type:</strong> distributed.LocalCluster</td>\n",
       "        \n",
       "        </tr>\n",
       "\n",
       "        \n",
       "            <tr>\n",
       "                <td style=\"text-align: left;\">\n",
       "                    <strong>Dashboard: </strong> <a href=\"http://127.0.0.1:8787/status\" target=\"_blank\">http://127.0.0.1:8787/status</a>\n",
       "                </td>\n",
       "                <td style=\"text-align: left;\"></td>\n",
       "            </tr>\n",
       "        \n",
       "\n",
       "        </table>\n",
       "\n",
       "        \n",
       "\n",
       "        \n",
       "            <details>\n",
       "            <summary style=\"margin-bottom: 20px;\"><h3 style=\"display: inline;\">Cluster Info</h3></summary>\n",
       "            <div class=\"jp-RenderedHTMLCommon jp-RenderedHTML jp-mod-trusted jp-OutputArea-output\">\n",
       "    <div style=\"width: 24px; height: 24px; background-color: #e1e1e1; border: 3px solid #9D9D9D; border-radius: 5px; position: absolute;\">\n",
       "    </div>\n",
       "    <div style=\"margin-left: 48px;\">\n",
       "        <h3 style=\"margin-bottom: 0px; margin-top: 0px;\">LocalCluster</h3>\n",
       "        <p style=\"color: #9D9D9D; margin-bottom: 0px;\">81c15f36</p>\n",
       "        <table style=\"width: 100%; text-align: left;\">\n",
       "            <tr>\n",
       "                <td style=\"text-align: left;\">\n",
       "                    <strong>Dashboard:</strong> <a href=\"http://127.0.0.1:8787/status\" target=\"_blank\">http://127.0.0.1:8787/status</a>\n",
       "                </td>\n",
       "                <td style=\"text-align: left;\">\n",
       "                    <strong>Workers:</strong> 5\n",
       "                </td>\n",
       "            </tr>\n",
       "            <tr>\n",
       "                <td style=\"text-align: left;\">\n",
       "                    <strong>Total threads:</strong> 20\n",
       "                </td>\n",
       "                <td style=\"text-align: left;\">\n",
       "                    <strong>Total memory:</strong> 31.03 GiB\n",
       "                </td>\n",
       "            </tr>\n",
       "            \n",
       "            <tr>\n",
       "    <td style=\"text-align: left;\"><strong>Status:</strong> running</td>\n",
       "    <td style=\"text-align: left;\"><strong>Using processes:</strong> True</td>\n",
       "</tr>\n",
       "\n",
       "            \n",
       "        </table>\n",
       "\n",
       "        <details>\n",
       "            <summary style=\"margin-bottom: 20px;\">\n",
       "                <h3 style=\"display: inline;\">Scheduler Info</h3>\n",
       "            </summary>\n",
       "\n",
       "            <div style=\"\">\n",
       "    <div>\n",
       "        <div style=\"width: 24px; height: 24px; background-color: #FFF7E5; border: 3px solid #FF6132; border-radius: 5px; position: absolute;\"> </div>\n",
       "        <div style=\"margin-left: 48px;\">\n",
       "            <h3 style=\"margin-bottom: 0px;\">Scheduler</h3>\n",
       "            <p style=\"color: #9D9D9D; margin-bottom: 0px;\">Scheduler-e76a2a0b-05c5-469f-93d4-fc62ed38ebeb</p>\n",
       "            <table style=\"width: 100%; text-align: left;\">\n",
       "                <tr>\n",
       "                    <td style=\"text-align: left;\">\n",
       "                        <strong>Comm:</strong> tcp://127.0.0.1:35969\n",
       "                    </td>\n",
       "                    <td style=\"text-align: left;\">\n",
       "                        <strong>Workers:</strong> 5\n",
       "                    </td>\n",
       "                </tr>\n",
       "                <tr>\n",
       "                    <td style=\"text-align: left;\">\n",
       "                        <strong>Dashboard:</strong> <a href=\"http://127.0.0.1:8787/status\" target=\"_blank\">http://127.0.0.1:8787/status</a>\n",
       "                    </td>\n",
       "                    <td style=\"text-align: left;\">\n",
       "                        <strong>Total threads:</strong> 20\n",
       "                    </td>\n",
       "                </tr>\n",
       "                <tr>\n",
       "                    <td style=\"text-align: left;\">\n",
       "                        <strong>Started:</strong> Just now\n",
       "                    </td>\n",
       "                    <td style=\"text-align: left;\">\n",
       "                        <strong>Total memory:</strong> 31.03 GiB\n",
       "                    </td>\n",
       "                </tr>\n",
       "            </table>\n",
       "        </div>\n",
       "    </div>\n",
       "\n",
       "    <details style=\"margin-left: 48px;\">\n",
       "        <summary style=\"margin-bottom: 20px;\">\n",
       "            <h3 style=\"display: inline;\">Workers</h3>\n",
       "        </summary>\n",
       "\n",
       "        \n",
       "        <div style=\"margin-bottom: 20px;\">\n",
       "            <div style=\"width: 24px; height: 24px; background-color: #DBF5FF; border: 3px solid #4CC9FF; border-radius: 5px; position: absolute;\"> </div>\n",
       "            <div style=\"margin-left: 48px;\">\n",
       "            <details>\n",
       "                <summary>\n",
       "                    <h4 style=\"margin-bottom: 0px; display: inline;\">Worker: 0</h4>\n",
       "                </summary>\n",
       "                <table style=\"width: 100%; text-align: left;\">\n",
       "                    <tr>\n",
       "                        <td style=\"text-align: left;\">\n",
       "                            <strong>Comm: </strong> tcp://127.0.0.1:33985\n",
       "                        </td>\n",
       "                        <td style=\"text-align: left;\">\n",
       "                            <strong>Total threads: </strong> 4\n",
       "                        </td>\n",
       "                    </tr>\n",
       "                    <tr>\n",
       "                        <td style=\"text-align: left;\">\n",
       "                            <strong>Dashboard: </strong> <a href=\"http://127.0.0.1:33255/status\" target=\"_blank\">http://127.0.0.1:33255/status</a>\n",
       "                        </td>\n",
       "                        <td style=\"text-align: left;\">\n",
       "                            <strong>Memory: </strong> 6.21 GiB\n",
       "                        </td>\n",
       "                    </tr>\n",
       "                    <tr>\n",
       "                        <td style=\"text-align: left;\">\n",
       "                            <strong>Nanny: </strong> tcp://127.0.0.1:41085\n",
       "                        </td>\n",
       "                        <td style=\"text-align: left;\"></td>\n",
       "                    </tr>\n",
       "                    <tr>\n",
       "                        <td colspan=\"2\" style=\"text-align: left;\">\n",
       "                            <strong>Local directory: </strong> /tmp/dask-scratch-space/worker-hw_2zsol\n",
       "                        </td>\n",
       "                    </tr>\n",
       "\n",
       "                    \n",
       "\n",
       "                    \n",
       "\n",
       "                </table>\n",
       "            </details>\n",
       "            </div>\n",
       "        </div>\n",
       "        \n",
       "        <div style=\"margin-bottom: 20px;\">\n",
       "            <div style=\"width: 24px; height: 24px; background-color: #DBF5FF; border: 3px solid #4CC9FF; border-radius: 5px; position: absolute;\"> </div>\n",
       "            <div style=\"margin-left: 48px;\">\n",
       "            <details>\n",
       "                <summary>\n",
       "                    <h4 style=\"margin-bottom: 0px; display: inline;\">Worker: 1</h4>\n",
       "                </summary>\n",
       "                <table style=\"width: 100%; text-align: left;\">\n",
       "                    <tr>\n",
       "                        <td style=\"text-align: left;\">\n",
       "                            <strong>Comm: </strong> tcp://127.0.0.1:46321\n",
       "                        </td>\n",
       "                        <td style=\"text-align: left;\">\n",
       "                            <strong>Total threads: </strong> 4\n",
       "                        </td>\n",
       "                    </tr>\n",
       "                    <tr>\n",
       "                        <td style=\"text-align: left;\">\n",
       "                            <strong>Dashboard: </strong> <a href=\"http://127.0.0.1:33883/status\" target=\"_blank\">http://127.0.0.1:33883/status</a>\n",
       "                        </td>\n",
       "                        <td style=\"text-align: left;\">\n",
       "                            <strong>Memory: </strong> 6.21 GiB\n",
       "                        </td>\n",
       "                    </tr>\n",
       "                    <tr>\n",
       "                        <td style=\"text-align: left;\">\n",
       "                            <strong>Nanny: </strong> tcp://127.0.0.1:33251\n",
       "                        </td>\n",
       "                        <td style=\"text-align: left;\"></td>\n",
       "                    </tr>\n",
       "                    <tr>\n",
       "                        <td colspan=\"2\" style=\"text-align: left;\">\n",
       "                            <strong>Local directory: </strong> /tmp/dask-scratch-space/worker-e_2u9s9_\n",
       "                        </td>\n",
       "                    </tr>\n",
       "\n",
       "                    \n",
       "\n",
       "                    \n",
       "\n",
       "                </table>\n",
       "            </details>\n",
       "            </div>\n",
       "        </div>\n",
       "        \n",
       "        <div style=\"margin-bottom: 20px;\">\n",
       "            <div style=\"width: 24px; height: 24px; background-color: #DBF5FF; border: 3px solid #4CC9FF; border-radius: 5px; position: absolute;\"> </div>\n",
       "            <div style=\"margin-left: 48px;\">\n",
       "            <details>\n",
       "                <summary>\n",
       "                    <h4 style=\"margin-bottom: 0px; display: inline;\">Worker: 2</h4>\n",
       "                </summary>\n",
       "                <table style=\"width: 100%; text-align: left;\">\n",
       "                    <tr>\n",
       "                        <td style=\"text-align: left;\">\n",
       "                            <strong>Comm: </strong> tcp://127.0.0.1:34091\n",
       "                        </td>\n",
       "                        <td style=\"text-align: left;\">\n",
       "                            <strong>Total threads: </strong> 4\n",
       "                        </td>\n",
       "                    </tr>\n",
       "                    <tr>\n",
       "                        <td style=\"text-align: left;\">\n",
       "                            <strong>Dashboard: </strong> <a href=\"http://127.0.0.1:35067/status\" target=\"_blank\">http://127.0.0.1:35067/status</a>\n",
       "                        </td>\n",
       "                        <td style=\"text-align: left;\">\n",
       "                            <strong>Memory: </strong> 6.21 GiB\n",
       "                        </td>\n",
       "                    </tr>\n",
       "                    <tr>\n",
       "                        <td style=\"text-align: left;\">\n",
       "                            <strong>Nanny: </strong> tcp://127.0.0.1:43803\n",
       "                        </td>\n",
       "                        <td style=\"text-align: left;\"></td>\n",
       "                    </tr>\n",
       "                    <tr>\n",
       "                        <td colspan=\"2\" style=\"text-align: left;\">\n",
       "                            <strong>Local directory: </strong> /tmp/dask-scratch-space/worker-wy1j5ebq\n",
       "                        </td>\n",
       "                    </tr>\n",
       "\n",
       "                    \n",
       "\n",
       "                    \n",
       "\n",
       "                </table>\n",
       "            </details>\n",
       "            </div>\n",
       "        </div>\n",
       "        \n",
       "        <div style=\"margin-bottom: 20px;\">\n",
       "            <div style=\"width: 24px; height: 24px; background-color: #DBF5FF; border: 3px solid #4CC9FF; border-radius: 5px; position: absolute;\"> </div>\n",
       "            <div style=\"margin-left: 48px;\">\n",
       "            <details>\n",
       "                <summary>\n",
       "                    <h4 style=\"margin-bottom: 0px; display: inline;\">Worker: 3</h4>\n",
       "                </summary>\n",
       "                <table style=\"width: 100%; text-align: left;\">\n",
       "                    <tr>\n",
       "                        <td style=\"text-align: left;\">\n",
       "                            <strong>Comm: </strong> tcp://127.0.0.1:33793\n",
       "                        </td>\n",
       "                        <td style=\"text-align: left;\">\n",
       "                            <strong>Total threads: </strong> 4\n",
       "                        </td>\n",
       "                    </tr>\n",
       "                    <tr>\n",
       "                        <td style=\"text-align: left;\">\n",
       "                            <strong>Dashboard: </strong> <a href=\"http://127.0.0.1:44169/status\" target=\"_blank\">http://127.0.0.1:44169/status</a>\n",
       "                        </td>\n",
       "                        <td style=\"text-align: left;\">\n",
       "                            <strong>Memory: </strong> 6.21 GiB\n",
       "                        </td>\n",
       "                    </tr>\n",
       "                    <tr>\n",
       "                        <td style=\"text-align: left;\">\n",
       "                            <strong>Nanny: </strong> tcp://127.0.0.1:43543\n",
       "                        </td>\n",
       "                        <td style=\"text-align: left;\"></td>\n",
       "                    </tr>\n",
       "                    <tr>\n",
       "                        <td colspan=\"2\" style=\"text-align: left;\">\n",
       "                            <strong>Local directory: </strong> /tmp/dask-scratch-space/worker-jp47415n\n",
       "                        </td>\n",
       "                    </tr>\n",
       "\n",
       "                    \n",
       "\n",
       "                    \n",
       "\n",
       "                </table>\n",
       "            </details>\n",
       "            </div>\n",
       "        </div>\n",
       "        \n",
       "        <div style=\"margin-bottom: 20px;\">\n",
       "            <div style=\"width: 24px; height: 24px; background-color: #DBF5FF; border: 3px solid #4CC9FF; border-radius: 5px; position: absolute;\"> </div>\n",
       "            <div style=\"margin-left: 48px;\">\n",
       "            <details>\n",
       "                <summary>\n",
       "                    <h4 style=\"margin-bottom: 0px; display: inline;\">Worker: 4</h4>\n",
       "                </summary>\n",
       "                <table style=\"width: 100%; text-align: left;\">\n",
       "                    <tr>\n",
       "                        <td style=\"text-align: left;\">\n",
       "                            <strong>Comm: </strong> tcp://127.0.0.1:41537\n",
       "                        </td>\n",
       "                        <td style=\"text-align: left;\">\n",
       "                            <strong>Total threads: </strong> 4\n",
       "                        </td>\n",
       "                    </tr>\n",
       "                    <tr>\n",
       "                        <td style=\"text-align: left;\">\n",
       "                            <strong>Dashboard: </strong> <a href=\"http://127.0.0.1:35817/status\" target=\"_blank\">http://127.0.0.1:35817/status</a>\n",
       "                        </td>\n",
       "                        <td style=\"text-align: left;\">\n",
       "                            <strong>Memory: </strong> 6.21 GiB\n",
       "                        </td>\n",
       "                    </tr>\n",
       "                    <tr>\n",
       "                        <td style=\"text-align: left;\">\n",
       "                            <strong>Nanny: </strong> tcp://127.0.0.1:34427\n",
       "                        </td>\n",
       "                        <td style=\"text-align: left;\"></td>\n",
       "                    </tr>\n",
       "                    <tr>\n",
       "                        <td colspan=\"2\" style=\"text-align: left;\">\n",
       "                            <strong>Local directory: </strong> /tmp/dask-scratch-space/worker-d5az1bm7\n",
       "                        </td>\n",
       "                    </tr>\n",
       "\n",
       "                    \n",
       "\n",
       "                    \n",
       "\n",
       "                </table>\n",
       "            </details>\n",
       "            </div>\n",
       "        </div>\n",
       "        \n",
       "\n",
       "    </details>\n",
       "</div>\n",
       "\n",
       "        </details>\n",
       "    </div>\n",
       "</div>\n",
       "            </details>\n",
       "        \n",
       "\n",
       "    </div>\n",
       "</div>"
      ],
      "text/plain": [
       "<Client: 'tcp://127.0.0.1:35969' processes=5 threads=20, memory=31.03 GiB>"
      ]
     },
     "execution_count": 4,
     "metadata": {},
     "output_type": "execute_result"
    }
   ],
   "source": [
    "client"
   ]
  },
  {
   "cell_type": "code",
   "execution_count": 5,
   "id": "d2ffae84",
   "metadata": {},
   "outputs": [
    {
     "data": {
      "text/plain": [
       "{'tcp://127.0.0.1:33793': 1,\n",
       " 'tcp://127.0.0.1:33985': 1,\n",
       " 'tcp://127.0.0.1:34091': 1,\n",
       " 'tcp://127.0.0.1:41537': 1,\n",
       " 'tcp://127.0.0.1:46321': 1}"
      ]
     },
     "execution_count": 5,
     "metadata": {},
     "output_type": "execute_result"
    }
   ],
   "source": [
    "import ctypes\n",
    "\n",
    "def trim_memory() -> int:\n",
    "    libc = ctypes.CDLL(\"libc.so.6\")\n",
    "    return libc.malloc_trim(0)\n",
    "\n",
    "client.run(trim_memory)"
   ]
  },
  {
   "cell_type": "markdown",
   "id": "900c12e0",
   "metadata": {},
   "source": [
    "# Read and merge"
   ]
  },
  {
   "cell_type": "code",
   "execution_count": 6,
   "id": "32f3bf4e",
   "metadata": {},
   "outputs": [],
   "source": [
    "config = pd.Series({\n",
    "    'path': os.path.abspath('dades'),\n",
    "    'file_type':'csv',\n",
    "    'years':[2019, 2020, 2021, 2022, 2023],\n",
    "    'dataset': 'BicingNou_ESTACIONS_MOD'\n",
    "})"
   ]
  },
  {
   "cell_type": "code",
   "execution_count": 7,
   "id": "24cb2875",
   "metadata": {},
   "outputs": [
    {
     "name": "stdout",
     "output_type": "stream",
     "text": [
      "checkpoint reloaded.\n",
      "checkpoint reloaded.\n",
      "checkpoint reloaded.\n",
      "checkpoint reloaded.\n",
      "checkpoint reloaded.\n",
      "CPU times: user 64.1 ms, sys: 3.44 ms, total: 67.5 ms\n",
      "Wall time: 65.9 ms\n"
     ]
    }
   ],
   "source": [
    "%%time\n",
    "\n",
    "def read_data_all(cnfg:dict):\n",
    "\n",
    "    data = dict()\n",
    "\n",
    "    for year in cnfg.years:\n",
    "        cnfg['year'] = year\n",
    "        data[year] = load_checkpoint(cnfg)\n",
    "    \n",
    "    return dd.concat(list(data.values()), interleave_partitions=False)\n",
    "    \n",
    "bbdd_completa = read_data_all(config)   "
   ]
  },
  {
   "cell_type": "markdown",
   "id": "ba4e1a97",
   "metadata": {},
   "source": [
    "# Preprocessing"
   ]
  },
  {
   "cell_type": "code",
   "execution_count": 8,
   "id": "f7d9f27c",
   "metadata": {},
   "outputs": [
    {
     "name": "stdout",
     "output_type": "stream",
     "text": [
      "(17707721, 23)\n",
      "1\n",
      "2\n",
      "3\n",
      "4\n",
      "5\n",
      "6\n",
      "(17707721, 21)\n",
      "Changes to dataframe durinf preprocessing\n",
      "dropeed 00 rows\n",
      "dropped -2 columns\n",
      "CPU times: user 3.62 s, sys: 494 ms, total: 4.11 s\n",
      "Wall time: 16 s\n"
     ]
    }
   ],
   "source": [
    "%%time\n",
    "\n",
    "index=0\n",
    "before = get_ddf_shape(bbdd_completa)\n",
    "print(before)\n",
    "\n",
    "index+=1\n",
    "print(index)\n",
    "# 1 Error fix. # 2019 gener, febrer and marc have the status reversed\n",
    "cond = (bbdd_completa.year == 2019) & (bbdd_completa.month.isin([1,2,3]))\n",
    "bbdd_completa['status'] = bbdd_completa['status'].mask(cond, ((bbdd_completa['status'] + 1) %2))\n",
    "index+=1\n",
    "print(index)\n",
    "# 2 Remove not needed status, manitenance, planned. open = 0, closed = 1 \n",
    "cond = (bbdd_completa['status'].isin([2.0,3.0]))\n",
    "bbdd_completa['status'] = bbdd_completa['status'].mask(cond, 1.0)\n",
    "# bbdd_completa = bbdd_completa.dropna(subset=['status'])\n",
    "index+=1\n",
    "print(index)\n",
    "# 3 Remove data from 2020\n",
    "# cond = (bbdd_completa['year'].isin([2020]))\n",
    "# bbdd_completa = bbdd_completa.mask(cond, np.nan)\n",
    "# bbdd_completa = bbdd_completa.dropna(subset=['year'])\n",
    "# index+=1\n",
    "# print(index)\n",
    "# 4 2019 to 2020 to have continuos data \n",
    "# cond = (bbdd_completa['year'].isin([2019]))\n",
    "# bbdd_completa['year'] = bbdd_completa['year'].mask(cond, bbdd_completa['year']+1)\n",
    "# index+=1\n",
    "# print(index)\n",
    "# 5 status reversed \n",
    "bbdd_completa['status'] = (bbdd_completa['status'] + 1)%2\n",
    "index+=1\n",
    "print(index)\n",
    "# 6 Column has all ones\n",
    "bbdd_completa = bbdd_completa.drop(columns=['is_installed'])\n",
    "index+=1\n",
    "print(index)\n",
    "# 7 Column has all ones\n",
    "bbdd_completa = bbdd_completa.drop(columns=['is_charging_station'])\n",
    "index+=1\n",
    "print(index)\n",
    "# 8 Remove row where status = closed and is renting and is returning\n",
    "# cond = (bbdd_completa['status'].isin([0.0])) & (bbdd_completa['is_renting'].isin([1.0])) & (bbdd_completa['is_returning'].isin([1.0]))\n",
    "# bbdd_completa = bbdd_completa.mask(cond, np.nan)\n",
    "# bbdd_completa = bbdd_completa.dropna(subset=['status'])\n",
    "\n",
    "after = get_ddf_shape(bbdd_completa)\n",
    "print(after)\n",
    "\n",
    "print('Changes to dataframe durinf preprocessing')\n",
    "print(f'dropeed {(after[0]-before[0]):02d} rows')\n",
    "print(f'dropped {(after[1]-before[1]):02d} columns')\n",
    "# 14138178"
   ]
  },
  {
   "cell_type": "markdown",
   "id": "c9c47e7a",
   "metadata": {},
   "source": [
    "## Drop not needed data"
   ]
  },
  {
   "cell_type": "code",
   "execution_count": 9,
   "id": "4c65a875",
   "metadata": {},
   "outputs": [
    {
     "name": "stdout",
     "output_type": "stream",
     "text": [
      "(17707721, 21)\n",
      "(17243342, 21)\n",
      "Changes to dataframe durinf preprocessing\n",
      "dropeed -464379 rows\n",
      "dropped 00 columns\n"
     ]
    }
   ],
   "source": [
    "\n",
    "\n",
    "before = get_ddf_shape(bbdd_completa)\n",
    "print(before)\n",
    "# remove data where status is closed\n",
    "# remove data where status is open but is not returning nor renting\n",
    "cond = (bbdd_completa['status'].isin([0]))\n",
    "bbdd_completa['status'] = bbdd_completa['status'].mask(cond, np.nan)\n",
    "bbdd_completa = bbdd_completa.dropna(subset=['status'])\n",
    "\n",
    "cond = (bbdd_completa['status'].isin([1])) & (bbdd_completa['is_returning'].isin([0])) & (bbdd_completa['is_renting'].isin([0]))\n",
    "bbdd_completa['status'] = bbdd_completa['status'].mask(cond, np.nan)\n",
    "bbdd_completa = bbdd_completa.dropna(subset=['status'])\n",
    "\n",
    "after = get_ddf_shape(bbdd_completa)\n",
    "print(after)\n",
    "\n",
    "print('Changes to dataframe durinf preprocessing')\n",
    "print(f'dropeed {(after[0]-before[0]):02d} rows')\n",
    "print(f'dropped {(after[1]-before[1]):02d} columns')\n"
   ]
  },
  {
   "cell_type": "markdown",
   "id": "bfba1f13",
   "metadata": {},
   "source": [
    "## Drop not needed columns "
   ]
  },
  {
   "cell_type": "code",
   "execution_count": 10,
   "id": "c1b76c80",
   "metadata": {},
   "outputs": [],
   "source": [
    "bbdd_completa = bbdd_completa.drop(\n",
    "    columns=[\n",
    "#         'num_docks_available',\n",
    "#         'timestamp',\n",
    "#         'num_bikes_available_types.ebike',\n",
    "#         'num_bikes_available_types.mechanical',\n",
    "#         'num_bikes_available',\n",
    "        'is_returning',\n",
    "        'is_renting',\n",
    "        'status'\n",
    "    ]\n",
    ")"
   ]
  },
  {
   "cell_type": "markdown",
   "id": "8b29ac42",
   "metadata": {},
   "source": [
    "## Drop duplicate data"
   ]
  },
  {
   "cell_type": "code",
   "execution_count": 11,
   "id": "53c9a92a",
   "metadata": {},
   "outputs": [
    {
     "data": {
      "text/plain": [
       "{'tcp://127.0.0.1:33793': 1,\n",
       " 'tcp://127.0.0.1:33985': 1,\n",
       " 'tcp://127.0.0.1:34091': 1,\n",
       " 'tcp://127.0.0.1:41537': 1,\n",
       " 'tcp://127.0.0.1:46321': 1}"
      ]
     },
     "execution_count": 11,
     "metadata": {},
     "output_type": "execute_result"
    }
   ],
   "source": [
    "client.run(trim_memory)"
   ]
  },
  {
   "cell_type": "code",
   "execution_count": 12,
   "id": "daaae984",
   "metadata": {},
   "outputs": [],
   "source": [
    "def drop_duplicates_per_year(ddf):\n",
    "    years = ddf.year.unique()\n",
    "    \n",
    "    before = get_ddf_shape(ddf)\n",
    "    print(before)\n",
    "    \n",
    "    data = list()\n",
    "    \n",
    "    for year in years:\n",
    "        print(year)\n",
    "        data_year = ddf[ddf.year.isin([year])]\n",
    "        \n",
    "        data_year = data_year.drop_duplicates(subset=['timestamp', 'station_id'], keep='last')\n",
    "        \n",
    "        data.append(data_year)\n",
    "        \n",
    "        client.run(trim_memory)\n",
    "        \n",
    "        time.sleep(1)\n",
    "        \n",
    "    ddf_clean = dd.concat(data, interleave_partitions=False)\n",
    "    \n",
    "    after = get_ddf_shape(ddf_clean)\n",
    "    print(after)\n",
    "\n",
    "    print('Changes to dataframe durinf preprocessing')\n",
    "    print(f'dropeed {(after[0]-before[0]):02d} rows')\n",
    "    print(f'dropped {(after[1]-before[1]):02d} columns')\n",
    "    return ddf_clean\n"
   ]
  },
  {
   "cell_type": "code",
   "execution_count": 13,
   "id": "fc06dbe9",
   "metadata": {},
   "outputs": [
    {
     "name": "stdout",
     "output_type": "stream",
     "text": [
      "(17243342, 18)\n",
      "2019\n",
      "2020\n",
      "2021\n",
      "2022\n",
      "2023\n",
      "(17104148, 18)\n",
      "Changes to dataframe durinf preprocessing\n",
      "dropeed -139194 rows\n",
      "dropped 00 columns\n",
      "CPU times: user 10.6 s, sys: 888 ms, total: 11.5 s\n",
      "Wall time: 41.2 s\n"
     ]
    }
   ],
   "source": [
    "%%time\n",
    "\n",
    "bbdd_completa = drop_duplicates_per_year(bbdd_completa)"
   ]
  },
  {
   "cell_type": "markdown",
   "id": "19ba58ef",
   "metadata": {},
   "source": [
    "# Additional datasets"
   ]
  },
  {
   "cell_type": "markdown",
   "id": "b7144544",
   "metadata": {},
   "source": [
    "## Station Information\n",
    "\n",
    "https://towardsdatascience.com/leveraging-geolocation-data-for-machine-learning-essential-techniques-192ce3a969bc"
   ]
  },
  {
   "cell_type": "code",
   "execution_count": 14,
   "id": "d8fdeac4",
   "metadata": {
    "scrolled": true
   },
   "outputs": [
    {
     "data": {
      "text/plain": [
       "{'tcp://127.0.0.1:33793': 1,\n",
       " 'tcp://127.0.0.1:33985': 1,\n",
       " 'tcp://127.0.0.1:34091': 1,\n",
       " 'tcp://127.0.0.1:41537': 1,\n",
       " 'tcp://127.0.0.1:46321': 1}"
      ]
     },
     "execution_count": 14,
     "metadata": {},
     "output_type": "execute_result"
    }
   ],
   "source": [
    "client.run(trim_memory)"
   ]
  },
  {
   "cell_type": "code",
   "execution_count": 15,
   "id": "6616a52b",
   "metadata": {},
   "outputs": [],
   "source": [
    "df_geo_informacio = pd.read_csv('./dades/station_geoinformacio.csv',sep=',')"
   ]
  },
  {
   "cell_type": "code",
   "execution_count": 16,
   "id": "29eaed76",
   "metadata": {},
   "outputs": [],
   "source": [
    "df_geo_informacio.drop(['index','Count-2021', 'Count-2022', 'Count-2023', 'Counts'], axis=1, inplace=True)"
   ]
  },
  {
   "cell_type": "code",
   "execution_count": 17,
   "id": "cc8617d6",
   "metadata": {},
   "outputs": [],
   "source": [
    "df_geo_informacio.station_id = df_geo_informacio.station_id.astype(np.int32)"
   ]
  },
  {
   "cell_type": "code",
   "execution_count": 18,
   "id": "a2d1592a",
   "metadata": {},
   "outputs": [
    {
     "data": {
      "text/plain": [
       "Index(['station_id', 'lon', 'lat'], dtype='object')"
      ]
     },
     "execution_count": 18,
     "metadata": {},
     "output_type": "execute_result"
    }
   ],
   "source": [
    "df_geo_informacio.columns\n"
   ]
  },
  {
   "cell_type": "code",
   "execution_count": 19,
   "id": "182a75fb",
   "metadata": {},
   "outputs": [
    {
     "data": {
      "text/html": [
       "<div>\n",
       "<style scoped>\n",
       "    .dataframe tbody tr th:only-of-type {\n",
       "        vertical-align: middle;\n",
       "    }\n",
       "\n",
       "    .dataframe tbody tr th {\n",
       "        vertical-align: top;\n",
       "    }\n",
       "\n",
       "    .dataframe thead th {\n",
       "        text-align: right;\n",
       "    }\n",
       "</style>\n",
       "<table border=\"1\" class=\"dataframe\">\n",
       "  <thead>\n",
       "    <tr style=\"text-align: right;\">\n",
       "      <th></th>\n",
       "      <th>station_id</th>\n",
       "      <th>lon</th>\n",
       "      <th>lat</th>\n",
       "    </tr>\n",
       "  </thead>\n",
       "  <tbody>\n",
       "    <tr>\n",
       "      <th>0</th>\n",
       "      <td>464</td>\n",
       "      <td>2.182335</td>\n",
       "      <td>41.439692</td>\n",
       "    </tr>\n",
       "    <tr>\n",
       "      <th>1</th>\n",
       "      <td>115</td>\n",
       "      <td>2.184171</td>\n",
       "      <td>41.383597</td>\n",
       "    </tr>\n",
       "    <tr>\n",
       "      <th>2</th>\n",
       "      <td>66</td>\n",
       "      <td>2.167839</td>\n",
       "      <td>41.389322</td>\n",
       "    </tr>\n",
       "    <tr>\n",
       "      <th>3</th>\n",
       "      <td>211</td>\n",
       "      <td>2.190212</td>\n",
       "      <td>41.398754</td>\n",
       "    </tr>\n",
       "    <tr>\n",
       "      <th>4</th>\n",
       "      <td>52</td>\n",
       "      <td>2.177292</td>\n",
       "      <td>41.381708</td>\n",
       "    </tr>\n",
       "    <tr>\n",
       "      <th>...</th>\n",
       "      <td>...</td>\n",
       "      <td>...</td>\n",
       "      <td>...</td>\n",
       "    </tr>\n",
       "    <tr>\n",
       "      <th>505</th>\n",
       "      <td>37</td>\n",
       "      <td>2.181903</td>\n",
       "      <td>41.381316</td>\n",
       "    </tr>\n",
       "    <tr>\n",
       "      <th>506</th>\n",
       "      <td>126</td>\n",
       "      <td>2.182282</td>\n",
       "      <td>41.380628</td>\n",
       "    </tr>\n",
       "    <tr>\n",
       "      <th>507</th>\n",
       "      <td>402</td>\n",
       "      <td>2.182192</td>\n",
       "      <td>41.380628</td>\n",
       "    </tr>\n",
       "    <tr>\n",
       "      <th>508</th>\n",
       "      <td>361</td>\n",
       "      <td>2.178810</td>\n",
       "      <td>41.376520</td>\n",
       "    </tr>\n",
       "    <tr>\n",
       "      <th>509</th>\n",
       "      <td>318</td>\n",
       "      <td>2.170592</td>\n",
       "      <td>41.412427</td>\n",
       "    </tr>\n",
       "  </tbody>\n",
       "</table>\n",
       "<p>510 rows × 3 columns</p>\n",
       "</div>"
      ],
      "text/plain": [
       "     station_id       lon        lat\n",
       "0           464  2.182335  41.439692\n",
       "1           115  2.184171  41.383597\n",
       "2            66  2.167839  41.389322\n",
       "3           211  2.190212  41.398754\n",
       "4            52  2.177292  41.381708\n",
       "..          ...       ...        ...\n",
       "505          37  2.181903  41.381316\n",
       "506         126  2.182282  41.380628\n",
       "507         402  2.182192  41.380628\n",
       "508         361  2.178810  41.376520\n",
       "509         318  2.170592  41.412427\n",
       "\n",
       "[510 rows x 3 columns]"
      ]
     },
     "execution_count": 19,
     "metadata": {},
     "output_type": "execute_result"
    }
   ],
   "source": [
    "df_geo_informacio"
   ]
  },
  {
   "cell_type": "markdown",
   "id": "84eb4894",
   "metadata": {},
   "source": [
    "## Festius"
   ]
  },
  {
   "cell_type": "code",
   "execution_count": 20,
   "id": "925963f2",
   "metadata": {},
   "outputs": [
    {
     "data": {
      "text/plain": [
       "{'tcp://127.0.0.1:33793': 1,\n",
       " 'tcp://127.0.0.1:33985': 1,\n",
       " 'tcp://127.0.0.1:34091': 1,\n",
       " 'tcp://127.0.0.1:41537': 1,\n",
       " 'tcp://127.0.0.1:46321': 1}"
      ]
     },
     "execution_count": 20,
     "metadata": {},
     "output_type": "execute_result"
    }
   ],
   "source": [
    "client.run(trim_memory)"
   ]
  },
  {
   "cell_type": "code",
   "execution_count": 21,
   "id": "b77abe8e",
   "metadata": {},
   "outputs": [],
   "source": [
    "df_calendari_festius = pd.read_csv('./Altres_dades/calendari_festius.csv',sep=';')"
   ]
  },
  {
   "cell_type": "code",
   "execution_count": 22,
   "id": "8f77f015",
   "metadata": {},
   "outputs": [
    {
     "data": {
      "text/plain": [
       "fecha              datetime64[ns]\n",
       "festius                    object\n",
       "festius_sun                object\n",
       "festius_sun_sat            object\n",
       "dtype: object"
      ]
     },
     "execution_count": 22,
     "metadata": {},
     "output_type": "execute_result"
    }
   ],
   "source": [
    "df_calendari_festius['fecha'] = pd.to_datetime(df_calendari_festius['fecha'], format='%d/%m/%y')\n",
    "df_calendari_festius.dtypes"
   ]
  },
  {
   "cell_type": "code",
   "execution_count": 23,
   "id": "8858cd8c",
   "metadata": {},
   "outputs": [],
   "source": [
    "df_calendari_festius['year'] = df_calendari_festius['fecha'].dt.year\n",
    "df_calendari_festius['month'] = df_calendari_festius['fecha'].dt.month\n",
    "df_calendari_festius['day'] = df_calendari_festius['fecha'].dt.day"
   ]
  },
  {
   "cell_type": "code",
   "execution_count": 24,
   "id": "214dfacf",
   "metadata": {},
   "outputs": [],
   "source": [
    "df_calendari_festius['dayofweek'] = df_calendari_festius['fecha'].dt.dayofweek"
   ]
  },
  {
   "cell_type": "code",
   "execution_count": 25,
   "id": "3236361f",
   "metadata": {},
   "outputs": [
    {
     "data": {
      "text/plain": [
       "pandas.core.frame.DataFrame"
      ]
     },
     "execution_count": 25,
     "metadata": {},
     "output_type": "execute_result"
    }
   ],
   "source": [
    "type(df_calendari_festius)"
   ]
  },
  {
   "cell_type": "code",
   "execution_count": 26,
   "id": "0733fa41",
   "metadata": {},
   "outputs": [],
   "source": [
    "df_calendari_festius.drop('fecha', axis=1, inplace=True)"
   ]
  },
  {
   "cell_type": "code",
   "execution_count": 27,
   "id": "02e14d61",
   "metadata": {},
   "outputs": [],
   "source": [
    "# replace IN_SERVICE with 0 and CLOSED with 1 \n",
    "df_calendari_festius['festius'].replace(\n",
    "    to_replace=['No', 'Yes'],                       \n",
    "    value=[0, 1], inplace=True)\n",
    "\n",
    "df_calendari_festius['festius_sun'].replace(\n",
    "    to_replace=['No', 'Yes'],                       \n",
    "    value=[0, 1], inplace=True)\n",
    "\n",
    "df_calendari_festius['festius_sun_sat'].replace(\n",
    "    to_replace=['No', 'Yes'],                       \n",
    "    value=[0, 1], inplace=True)\n"
   ]
  },
  {
   "cell_type": "code",
   "execution_count": 28,
   "id": "d70f9030",
   "metadata": {},
   "outputs": [],
   "source": [
    "df_calendari_festius.loc[df_calendari_festius.dayofweek.isin([5,6]), 'festius_sun_sat'] = 1\n",
    "df_calendari_festius.loc[df_calendari_festius.dayofweek.isin([6]), 'festius_sun'] = 1"
   ]
  },
  {
   "cell_type": "code",
   "execution_count": 29,
   "id": "03996784",
   "metadata": {},
   "outputs": [],
   "source": [
    "df_calendari_festius['weekend'] = df_calendari_festius.dayofweek.isin([5,6]).astype(int)"
   ]
  },
  {
   "cell_type": "code",
   "execution_count": 30,
   "id": "cec4cee2",
   "metadata": {},
   "outputs": [
    {
     "data": {
      "text/plain": [
       "(365, 8)"
      ]
     },
     "execution_count": 30,
     "metadata": {},
     "output_type": "execute_result"
    }
   ],
   "source": [
    "df_calendari_festius[df_calendari_festius.year.isin([2019])].shape"
   ]
  },
  {
   "cell_type": "code",
   "execution_count": 31,
   "id": "40eed64c",
   "metadata": {},
   "outputs": [],
   "source": [
    "df_calendari_festius.loc[(df_calendari_festius.festius == 1) & (df_calendari_festius.festius_sun != 1), 'festius'] = 0 "
   ]
  },
  {
   "cell_type": "code",
   "execution_count": 32,
   "id": "d7df1af3",
   "metadata": {},
   "outputs": [],
   "source": [
    "df_calendari_festius.loc[(df_calendari_festius.month == 1) & (df_calendari_festius.day.isin([1,6])), ['festius','festius_sun','festius_sun_sat']] = 1"
   ]
  },
  {
   "cell_type": "code",
   "execution_count": 33,
   "id": "6aa74ef3",
   "metadata": {},
   "outputs": [
    {
     "data": {
      "text/html": [
       "<div>\n",
       "<style scoped>\n",
       "    .dataframe tbody tr th:only-of-type {\n",
       "        vertical-align: middle;\n",
       "    }\n",
       "\n",
       "    .dataframe tbody tr th {\n",
       "        vertical-align: top;\n",
       "    }\n",
       "\n",
       "    .dataframe thead th {\n",
       "        text-align: right;\n",
       "    }\n",
       "</style>\n",
       "<table border=\"1\" class=\"dataframe\">\n",
       "  <thead>\n",
       "    <tr style=\"text-align: right;\">\n",
       "      <th></th>\n",
       "      <th>festius</th>\n",
       "      <th>festius_sun</th>\n",
       "      <th>festius_sun_sat</th>\n",
       "      <th>year</th>\n",
       "      <th>month</th>\n",
       "      <th>day</th>\n",
       "      <th>dayofweek</th>\n",
       "      <th>weekend</th>\n",
       "    </tr>\n",
       "  </thead>\n",
       "  <tbody>\n",
       "    <tr>\n",
       "      <th>0</th>\n",
       "      <td>1</td>\n",
       "      <td>1</td>\n",
       "      <td>1</td>\n",
       "      <td>2019</td>\n",
       "      <td>1</td>\n",
       "      <td>1</td>\n",
       "      <td>1</td>\n",
       "      <td>0</td>\n",
       "    </tr>\n",
       "    <tr>\n",
       "      <th>5</th>\n",
       "      <td>1</td>\n",
       "      <td>1</td>\n",
       "      <td>1</td>\n",
       "      <td>2019</td>\n",
       "      <td>1</td>\n",
       "      <td>6</td>\n",
       "      <td>6</td>\n",
       "      <td>1</td>\n",
       "    </tr>\n",
       "    <tr>\n",
       "      <th>108</th>\n",
       "      <td>1</td>\n",
       "      <td>1</td>\n",
       "      <td>1</td>\n",
       "      <td>2019</td>\n",
       "      <td>4</td>\n",
       "      <td>19</td>\n",
       "      <td>4</td>\n",
       "      <td>0</td>\n",
       "    </tr>\n",
       "    <tr>\n",
       "      <th>111</th>\n",
       "      <td>1</td>\n",
       "      <td>1</td>\n",
       "      <td>1</td>\n",
       "      <td>2019</td>\n",
       "      <td>4</td>\n",
       "      <td>22</td>\n",
       "      <td>0</td>\n",
       "      <td>0</td>\n",
       "    </tr>\n",
       "    <tr>\n",
       "      <th>120</th>\n",
       "      <td>1</td>\n",
       "      <td>1</td>\n",
       "      <td>1</td>\n",
       "      <td>2019</td>\n",
       "      <td>5</td>\n",
       "      <td>1</td>\n",
       "      <td>2</td>\n",
       "      <td>0</td>\n",
       "    </tr>\n",
       "    <tr>\n",
       "      <th>160</th>\n",
       "      <td>1</td>\n",
       "      <td>1</td>\n",
       "      <td>1</td>\n",
       "      <td>2019</td>\n",
       "      <td>6</td>\n",
       "      <td>10</td>\n",
       "      <td>0</td>\n",
       "      <td>0</td>\n",
       "    </tr>\n",
       "    <tr>\n",
       "      <th>174</th>\n",
       "      <td>1</td>\n",
       "      <td>1</td>\n",
       "      <td>1</td>\n",
       "      <td>2019</td>\n",
       "      <td>6</td>\n",
       "      <td>24</td>\n",
       "      <td>0</td>\n",
       "      <td>0</td>\n",
       "    </tr>\n",
       "    <tr>\n",
       "      <th>226</th>\n",
       "      <td>1</td>\n",
       "      <td>1</td>\n",
       "      <td>1</td>\n",
       "      <td>2019</td>\n",
       "      <td>8</td>\n",
       "      <td>15</td>\n",
       "      <td>3</td>\n",
       "      <td>0</td>\n",
       "    </tr>\n",
       "    <tr>\n",
       "      <th>253</th>\n",
       "      <td>1</td>\n",
       "      <td>1</td>\n",
       "      <td>1</td>\n",
       "      <td>2019</td>\n",
       "      <td>9</td>\n",
       "      <td>11</td>\n",
       "      <td>2</td>\n",
       "      <td>0</td>\n",
       "    </tr>\n",
       "    <tr>\n",
       "      <th>266</th>\n",
       "      <td>1</td>\n",
       "      <td>1</td>\n",
       "      <td>1</td>\n",
       "      <td>2019</td>\n",
       "      <td>9</td>\n",
       "      <td>24</td>\n",
       "      <td>1</td>\n",
       "      <td>0</td>\n",
       "    </tr>\n",
       "    <tr>\n",
       "      <th>284</th>\n",
       "      <td>1</td>\n",
       "      <td>1</td>\n",
       "      <td>1</td>\n",
       "      <td>2019</td>\n",
       "      <td>10</td>\n",
       "      <td>12</td>\n",
       "      <td>5</td>\n",
       "      <td>1</td>\n",
       "    </tr>\n",
       "    <tr>\n",
       "      <th>304</th>\n",
       "      <td>1</td>\n",
       "      <td>1</td>\n",
       "      <td>1</td>\n",
       "      <td>2019</td>\n",
       "      <td>11</td>\n",
       "      <td>1</td>\n",
       "      <td>4</td>\n",
       "      <td>0</td>\n",
       "    </tr>\n",
       "    <tr>\n",
       "      <th>339</th>\n",
       "      <td>1</td>\n",
       "      <td>1</td>\n",
       "      <td>1</td>\n",
       "      <td>2019</td>\n",
       "      <td>12</td>\n",
       "      <td>6</td>\n",
       "      <td>4</td>\n",
       "      <td>0</td>\n",
       "    </tr>\n",
       "    <tr>\n",
       "      <th>358</th>\n",
       "      <td>1</td>\n",
       "      <td>1</td>\n",
       "      <td>1</td>\n",
       "      <td>2019</td>\n",
       "      <td>12</td>\n",
       "      <td>25</td>\n",
       "      <td>2</td>\n",
       "      <td>0</td>\n",
       "    </tr>\n",
       "    <tr>\n",
       "      <th>359</th>\n",
       "      <td>1</td>\n",
       "      <td>1</td>\n",
       "      <td>1</td>\n",
       "      <td>2019</td>\n",
       "      <td>12</td>\n",
       "      <td>26</td>\n",
       "      <td>3</td>\n",
       "      <td>0</td>\n",
       "    </tr>\n",
       "  </tbody>\n",
       "</table>\n",
       "</div>"
      ],
      "text/plain": [
       "     festius  festius_sun  festius_sun_sat  year  month  day  dayofweek  \\\n",
       "0          1            1                1  2019      1    1          1   \n",
       "5          1            1                1  2019      1    6          6   \n",
       "108        1            1                1  2019      4   19          4   \n",
       "111        1            1                1  2019      4   22          0   \n",
       "120        1            1                1  2019      5    1          2   \n",
       "160        1            1                1  2019      6   10          0   \n",
       "174        1            1                1  2019      6   24          0   \n",
       "226        1            1                1  2019      8   15          3   \n",
       "253        1            1                1  2019      9   11          2   \n",
       "266        1            1                1  2019      9   24          1   \n",
       "284        1            1                1  2019     10   12          5   \n",
       "304        1            1                1  2019     11    1          4   \n",
       "339        1            1                1  2019     12    6          4   \n",
       "358        1            1                1  2019     12   25          2   \n",
       "359        1            1                1  2019     12   26          3   \n",
       "\n",
       "     weekend  \n",
       "0          0  \n",
       "5          1  \n",
       "108        0  \n",
       "111        0  \n",
       "120        0  \n",
       "160        0  \n",
       "174        0  \n",
       "226        0  \n",
       "253        0  \n",
       "266        0  \n",
       "284        1  \n",
       "304        0  \n",
       "339        0  \n",
       "358        0  \n",
       "359        0  "
      ]
     },
     "execution_count": 33,
     "metadata": {},
     "output_type": "execute_result"
    }
   ],
   "source": [
    "df_calendari_festius[df_calendari_festius.festius.isin([1]) & df_calendari_festius.year.isin([2019])]"
   ]
  },
  {
   "cell_type": "code",
   "execution_count": 34,
   "id": "416a2cbe",
   "metadata": {},
   "outputs": [
    {
     "data": {
      "text/html": [
       "<div>\n",
       "<style scoped>\n",
       "    .dataframe tbody tr th:only-of-type {\n",
       "        vertical-align: middle;\n",
       "    }\n",
       "\n",
       "    .dataframe tbody tr th {\n",
       "        vertical-align: top;\n",
       "    }\n",
       "\n",
       "    .dataframe thead th {\n",
       "        text-align: right;\n",
       "    }\n",
       "</style>\n",
       "<table border=\"1\" class=\"dataframe\">\n",
       "  <thead>\n",
       "    <tr style=\"text-align: right;\">\n",
       "      <th></th>\n",
       "      <th>festius</th>\n",
       "      <th>festius_sun</th>\n",
       "      <th>festius_sun_sat</th>\n",
       "      <th>year</th>\n",
       "      <th>month</th>\n",
       "      <th>day</th>\n",
       "      <th>dayofweek</th>\n",
       "      <th>weekend</th>\n",
       "    </tr>\n",
       "  </thead>\n",
       "  <tbody>\n",
       "    <tr>\n",
       "      <th>1096</th>\n",
       "      <td>1</td>\n",
       "      <td>1</td>\n",
       "      <td>1</td>\n",
       "      <td>2022</td>\n",
       "      <td>1</td>\n",
       "      <td>1</td>\n",
       "      <td>5</td>\n",
       "      <td>1</td>\n",
       "    </tr>\n",
       "    <tr>\n",
       "      <th>1101</th>\n",
       "      <td>1</td>\n",
       "      <td>1</td>\n",
       "      <td>1</td>\n",
       "      <td>2022</td>\n",
       "      <td>1</td>\n",
       "      <td>6</td>\n",
       "      <td>3</td>\n",
       "      <td>0</td>\n",
       "    </tr>\n",
       "    <tr>\n",
       "      <th>1200</th>\n",
       "      <td>1</td>\n",
       "      <td>1</td>\n",
       "      <td>1</td>\n",
       "      <td>2022</td>\n",
       "      <td>4</td>\n",
       "      <td>15</td>\n",
       "      <td>4</td>\n",
       "      <td>0</td>\n",
       "    </tr>\n",
       "    <tr>\n",
       "      <th>1203</th>\n",
       "      <td>1</td>\n",
       "      <td>1</td>\n",
       "      <td>1</td>\n",
       "      <td>2022</td>\n",
       "      <td>4</td>\n",
       "      <td>18</td>\n",
       "      <td>0</td>\n",
       "      <td>0</td>\n",
       "    </tr>\n",
       "    <tr>\n",
       "      <th>1252</th>\n",
       "      <td>1</td>\n",
       "      <td>1</td>\n",
       "      <td>1</td>\n",
       "      <td>2022</td>\n",
       "      <td>6</td>\n",
       "      <td>6</td>\n",
       "      <td>0</td>\n",
       "      <td>0</td>\n",
       "    </tr>\n",
       "    <tr>\n",
       "      <th>1270</th>\n",
       "      <td>1</td>\n",
       "      <td>1</td>\n",
       "      <td>1</td>\n",
       "      <td>2022</td>\n",
       "      <td>6</td>\n",
       "      <td>24</td>\n",
       "      <td>4</td>\n",
       "      <td>0</td>\n",
       "    </tr>\n",
       "    <tr>\n",
       "      <th>1322</th>\n",
       "      <td>1</td>\n",
       "      <td>1</td>\n",
       "      <td>1</td>\n",
       "      <td>2022</td>\n",
       "      <td>8</td>\n",
       "      <td>15</td>\n",
       "      <td>0</td>\n",
       "      <td>0</td>\n",
       "    </tr>\n",
       "    <tr>\n",
       "      <th>1362</th>\n",
       "      <td>1</td>\n",
       "      <td>1</td>\n",
       "      <td>1</td>\n",
       "      <td>2022</td>\n",
       "      <td>9</td>\n",
       "      <td>24</td>\n",
       "      <td>5</td>\n",
       "      <td>1</td>\n",
       "    </tr>\n",
       "    <tr>\n",
       "      <th>1364</th>\n",
       "      <td>1</td>\n",
       "      <td>1</td>\n",
       "      <td>1</td>\n",
       "      <td>2022</td>\n",
       "      <td>9</td>\n",
       "      <td>26</td>\n",
       "      <td>0</td>\n",
       "      <td>0</td>\n",
       "    </tr>\n",
       "    <tr>\n",
       "      <th>1380</th>\n",
       "      <td>1</td>\n",
       "      <td>1</td>\n",
       "      <td>1</td>\n",
       "      <td>2022</td>\n",
       "      <td>10</td>\n",
       "      <td>12</td>\n",
       "      <td>2</td>\n",
       "      <td>0</td>\n",
       "    </tr>\n",
       "    <tr>\n",
       "      <th>1400</th>\n",
       "      <td>1</td>\n",
       "      <td>1</td>\n",
       "      <td>1</td>\n",
       "      <td>2022</td>\n",
       "      <td>11</td>\n",
       "      <td>1</td>\n",
       "      <td>1</td>\n",
       "      <td>0</td>\n",
       "    </tr>\n",
       "    <tr>\n",
       "      <th>1435</th>\n",
       "      <td>1</td>\n",
       "      <td>1</td>\n",
       "      <td>1</td>\n",
       "      <td>2022</td>\n",
       "      <td>12</td>\n",
       "      <td>6</td>\n",
       "      <td>1</td>\n",
       "      <td>0</td>\n",
       "    </tr>\n",
       "    <tr>\n",
       "      <th>1437</th>\n",
       "      <td>1</td>\n",
       "      <td>1</td>\n",
       "      <td>1</td>\n",
       "      <td>2022</td>\n",
       "      <td>12</td>\n",
       "      <td>8</td>\n",
       "      <td>3</td>\n",
       "      <td>0</td>\n",
       "    </tr>\n",
       "    <tr>\n",
       "      <th>1455</th>\n",
       "      <td>1</td>\n",
       "      <td>1</td>\n",
       "      <td>1</td>\n",
       "      <td>2022</td>\n",
       "      <td>12</td>\n",
       "      <td>26</td>\n",
       "      <td>0</td>\n",
       "      <td>0</td>\n",
       "    </tr>\n",
       "  </tbody>\n",
       "</table>\n",
       "</div>"
      ],
      "text/plain": [
       "      festius  festius_sun  festius_sun_sat  year  month  day  dayofweek  \\\n",
       "1096        1            1                1  2022      1    1          5   \n",
       "1101        1            1                1  2022      1    6          3   \n",
       "1200        1            1                1  2022      4   15          4   \n",
       "1203        1            1                1  2022      4   18          0   \n",
       "1252        1            1                1  2022      6    6          0   \n",
       "1270        1            1                1  2022      6   24          4   \n",
       "1322        1            1                1  2022      8   15          0   \n",
       "1362        1            1                1  2022      9   24          5   \n",
       "1364        1            1                1  2022      9   26          0   \n",
       "1380        1            1                1  2022     10   12          2   \n",
       "1400        1            1                1  2022     11    1          1   \n",
       "1435        1            1                1  2022     12    6          1   \n",
       "1437        1            1                1  2022     12    8          3   \n",
       "1455        1            1                1  2022     12   26          0   \n",
       "\n",
       "      weekend  \n",
       "1096        1  \n",
       "1101        0  \n",
       "1200        0  \n",
       "1203        0  \n",
       "1252        0  \n",
       "1270        0  \n",
       "1322        0  \n",
       "1362        1  \n",
       "1364        0  \n",
       "1380        0  \n",
       "1400        0  \n",
       "1435        0  \n",
       "1437        0  \n",
       "1455        0  "
      ]
     },
     "execution_count": 34,
     "metadata": {},
     "output_type": "execute_result"
    }
   ],
   "source": [
    "df_calendari_festius[df_calendari_festius.festius.isin([1]) & df_calendari_festius.year.isin([2022])]"
   ]
  },
  {
   "cell_type": "code",
   "execution_count": 35,
   "id": "fabe1423",
   "metadata": {},
   "outputs": [
    {
     "data": {
      "text/html": [
       "<div>\n",
       "<style scoped>\n",
       "    .dataframe tbody tr th:only-of-type {\n",
       "        vertical-align: middle;\n",
       "    }\n",
       "\n",
       "    .dataframe tbody tr th {\n",
       "        vertical-align: top;\n",
       "    }\n",
       "\n",
       "    .dataframe thead th {\n",
       "        text-align: right;\n",
       "    }\n",
       "</style>\n",
       "<table border=\"1\" class=\"dataframe\">\n",
       "  <thead>\n",
       "    <tr style=\"text-align: right;\">\n",
       "      <th></th>\n",
       "      <th>festius</th>\n",
       "      <th>festius_sun</th>\n",
       "      <th>festius_sun_sat</th>\n",
       "      <th>year</th>\n",
       "      <th>month</th>\n",
       "      <th>day</th>\n",
       "      <th>dayofweek</th>\n",
       "      <th>weekend</th>\n",
       "    </tr>\n",
       "  </thead>\n",
       "  <tbody>\n",
       "    <tr>\n",
       "      <th>1461</th>\n",
       "      <td>1</td>\n",
       "      <td>1</td>\n",
       "      <td>1</td>\n",
       "      <td>2023</td>\n",
       "      <td>1</td>\n",
       "      <td>1</td>\n",
       "      <td>6</td>\n",
       "      <td>1</td>\n",
       "    </tr>\n",
       "    <tr>\n",
       "      <th>1466</th>\n",
       "      <td>1</td>\n",
       "      <td>1</td>\n",
       "      <td>1</td>\n",
       "      <td>2023</td>\n",
       "      <td>1</td>\n",
       "      <td>6</td>\n",
       "      <td>4</td>\n",
       "      <td>0</td>\n",
       "    </tr>\n",
       "    <tr>\n",
       "      <th>1557</th>\n",
       "      <td>1</td>\n",
       "      <td>1</td>\n",
       "      <td>1</td>\n",
       "      <td>2023</td>\n",
       "      <td>4</td>\n",
       "      <td>7</td>\n",
       "      <td>4</td>\n",
       "      <td>0</td>\n",
       "    </tr>\n",
       "    <tr>\n",
       "      <th>1560</th>\n",
       "      <td>1</td>\n",
       "      <td>1</td>\n",
       "      <td>1</td>\n",
       "      <td>2023</td>\n",
       "      <td>4</td>\n",
       "      <td>10</td>\n",
       "      <td>0</td>\n",
       "      <td>0</td>\n",
       "    </tr>\n",
       "  </tbody>\n",
       "</table>\n",
       "</div>"
      ],
      "text/plain": [
       "      festius  festius_sun  festius_sun_sat  year  month  day  dayofweek  \\\n",
       "1461        1            1                1  2023      1    1          6   \n",
       "1466        1            1                1  2023      1    6          4   \n",
       "1557        1            1                1  2023      4    7          4   \n",
       "1560        1            1                1  2023      4   10          0   \n",
       "\n",
       "      weekend  \n",
       "1461        1  \n",
       "1466        0  \n",
       "1557        0  \n",
       "1560        0  "
      ]
     },
     "execution_count": 35,
     "metadata": {},
     "output_type": "execute_result"
    }
   ],
   "source": [
    "df_calendari_festius[df_calendari_festius.festius.isin([1]) & df_calendari_festius.year.isin([2023])]"
   ]
  },
  {
   "cell_type": "code",
   "execution_count": 36,
   "id": "16d5226a",
   "metadata": {},
   "outputs": [],
   "source": [
    "df_calendari_festius.drop('dayofweek', axis=1, inplace=True)"
   ]
  },
  {
   "cell_type": "markdown",
   "id": "a0389c72",
   "metadata": {},
   "source": [
    "## Meteo"
   ]
  },
  {
   "cell_type": "code",
   "execution_count": 37,
   "id": "de282020",
   "metadata": {},
   "outputs": [
    {
     "data": {
      "text/plain": [
       "{'tcp://127.0.0.1:33793': 1,\n",
       " 'tcp://127.0.0.1:33985': 1,\n",
       " 'tcp://127.0.0.1:34091': 1,\n",
       " 'tcp://127.0.0.1:41537': 1,\n",
       " 'tcp://127.0.0.1:46321': 1}"
      ]
     },
     "execution_count": 37,
     "metadata": {},
     "output_type": "execute_result"
    }
   ],
   "source": [
    "client.run(trim_memory)"
   ]
  },
  {
   "cell_type": "code",
   "execution_count": 38,
   "id": "795d1f63",
   "metadata": {},
   "outputs": [],
   "source": [
    "df_meteo_metadata = pd.read_csv('./Altres_dades/MetadataMeteo/MeteoCat_Metadades.csv',sep=',')"
   ]
  },
  {
   "cell_type": "code",
   "execution_count": 39,
   "id": "eb7ed3ae",
   "metadata": {},
   "outputs": [
    {
     "data": {
      "text/html": [
       "<div>\n",
       "<style scoped>\n",
       "    .dataframe tbody tr th:only-of-type {\n",
       "        vertical-align: middle;\n",
       "    }\n",
       "\n",
       "    .dataframe tbody tr th {\n",
       "        vertical-align: top;\n",
       "    }\n",
       "\n",
       "    .dataframe thead th {\n",
       "        text-align: right;\n",
       "    }\n",
       "</style>\n",
       "<table border=\"1\" class=\"dataframe\">\n",
       "  <thead>\n",
       "    <tr style=\"text-align: right;\">\n",
       "      <th></th>\n",
       "      <th>CODI_VARIABLE</th>\n",
       "      <th>NOM_VARIABLE</th>\n",
       "      <th>UNITAT</th>\n",
       "      <th>ACRÒNIM</th>\n",
       "    </tr>\n",
       "  </thead>\n",
       "  <tbody>\n",
       "    <tr>\n",
       "      <th>0</th>\n",
       "      <td>1000</td>\n",
       "      <td>Temperatura mitjana diària</td>\n",
       "      <td>°C</td>\n",
       "      <td>TM</td>\n",
       "    </tr>\n",
       "    <tr>\n",
       "      <th>1</th>\n",
       "      <td>1001</td>\n",
       "      <td>Temperatura màxima diària + hora</td>\n",
       "      <td>°C</td>\n",
       "      <td>TX</td>\n",
       "    </tr>\n",
       "    <tr>\n",
       "      <th>2</th>\n",
       "      <td>1002</td>\n",
       "      <td>Temperatura mínima diària + hora</td>\n",
       "      <td>°C</td>\n",
       "      <td>TN</td>\n",
       "    </tr>\n",
       "    <tr>\n",
       "      <th>3</th>\n",
       "      <td>1100</td>\n",
       "      <td>Humitat relativa mitjana diària</td>\n",
       "      <td>%</td>\n",
       "      <td>HRM</td>\n",
       "    </tr>\n",
       "    <tr>\n",
       "      <th>4</th>\n",
       "      <td>1101</td>\n",
       "      <td>Humitat relativa màxima diària + data</td>\n",
       "      <td>%</td>\n",
       "      <td>HRX</td>\n",
       "    </tr>\n",
       "    <tr>\n",
       "      <th>5</th>\n",
       "      <td>1102</td>\n",
       "      <td>Humitat relativa mínima diària + data</td>\n",
       "      <td>%</td>\n",
       "      <td>HRN</td>\n",
       "    </tr>\n",
       "    <tr>\n",
       "      <th>6</th>\n",
       "      <td>1200</td>\n",
       "      <td>Pressió atmosfèrica mitjana diària</td>\n",
       "      <td>hPa</td>\n",
       "      <td>PM</td>\n",
       "    </tr>\n",
       "    <tr>\n",
       "      <th>7</th>\n",
       "      <td>1201</td>\n",
       "      <td>Pressió atmosfèrica màxima diària + hora</td>\n",
       "      <td>hPa</td>\n",
       "      <td>PX</td>\n",
       "    </tr>\n",
       "    <tr>\n",
       "      <th>8</th>\n",
       "      <td>1202</td>\n",
       "      <td>Pressió atmosfèrica mínima diària + hora</td>\n",
       "      <td>hPa</td>\n",
       "      <td>PN</td>\n",
       "    </tr>\n",
       "    <tr>\n",
       "      <th>9</th>\n",
       "      <td>1300</td>\n",
       "      <td>Precipitació acumulada diària</td>\n",
       "      <td>mm</td>\n",
       "      <td>PPT</td>\n",
       "    </tr>\n",
       "    <tr>\n",
       "      <th>10</th>\n",
       "      <td>1400</td>\n",
       "      <td>Irradiació solar global diària</td>\n",
       "      <td>MJ/m2</td>\n",
       "      <td>RS24h</td>\n",
       "    </tr>\n",
       "    <tr>\n",
       "      <th>11</th>\n",
       "      <td>1503</td>\n",
       "      <td>Velocitat mitjana diària del vent 10 m (esc.)</td>\n",
       "      <td>m/s</td>\n",
       "      <td>VVM10</td>\n",
       "    </tr>\n",
       "    <tr>\n",
       "      <th>12</th>\n",
       "      <td>1509</td>\n",
       "      <td>Direcció mitjana diària del vent 10 m (m. 1)</td>\n",
       "      <td>°</td>\n",
       "      <td>DVM10</td>\n",
       "    </tr>\n",
       "    <tr>\n",
       "      <th>13</th>\n",
       "      <td>1512</td>\n",
       "      <td>Ratxa màxima diària del vent 10 m + hora</td>\n",
       "      <td>m/s</td>\n",
       "      <td>VVX10</td>\n",
       "    </tr>\n",
       "    <tr>\n",
       "      <th>14</th>\n",
       "      <td>1515</td>\n",
       "      <td>Direcció de la ratxa màx. diària de vent 10 m</td>\n",
       "      <td>°</td>\n",
       "      <td>DVVX10</td>\n",
       "    </tr>\n",
       "  </tbody>\n",
       "</table>\n",
       "</div>"
      ],
      "text/plain": [
       "    CODI_VARIABLE                                   NOM_VARIABLE UNITAT  \\\n",
       "0            1000                     Temperatura mitjana diària     °C   \n",
       "1            1001               Temperatura màxima diària + hora     °C   \n",
       "2            1002               Temperatura mínima diària + hora     °C   \n",
       "3            1100                Humitat relativa mitjana diària      %   \n",
       "4            1101          Humitat relativa màxima diària + data      %   \n",
       "5            1102          Humitat relativa mínima diària + data      %   \n",
       "6            1200             Pressió atmosfèrica mitjana diària    hPa   \n",
       "7            1201       Pressió atmosfèrica màxima diària + hora    hPa   \n",
       "8            1202       Pressió atmosfèrica mínima diària + hora    hPa   \n",
       "9            1300                  Precipitació acumulada diària     mm   \n",
       "10           1400                 Irradiació solar global diària  MJ/m2   \n",
       "11           1503  Velocitat mitjana diària del vent 10 m (esc.)    m/s   \n",
       "12           1509  Direcció mitjana diària del vent 10 m (m. 1)       °   \n",
       "13           1512      Ratxa màxima diària del vent 10 m + hora     m/s   \n",
       "14           1515  Direcció de la ratxa màx. diària de vent 10 m      °   \n",
       "\n",
       "   ACRÒNIM  \n",
       "0       TM  \n",
       "1       TX  \n",
       "2       TN  \n",
       "3      HRM  \n",
       "4      HRX  \n",
       "5      HRN  \n",
       "6       PM  \n",
       "7       PX  \n",
       "8       PN  \n",
       "9      PPT  \n",
       "10   RS24h  \n",
       "11   VVM10  \n",
       "12   DVM10  \n",
       "13   VVX10  \n",
       "14  DVVX10  "
      ]
     },
     "execution_count": 39,
     "metadata": {},
     "output_type": "execute_result"
    }
   ],
   "source": [
    "df_meteo_metadata"
   ]
  },
  {
   "cell_type": "code",
   "execution_count": 40,
   "id": "dae9383e",
   "metadata": {},
   "outputs": [],
   "source": [
    "df_estadistica_meteo_19_d5 = pd.read_csv('./Altres_dades/EstadísticsEstacionsMeteo/2019_d5_observatori_fabra.csv',sep=',')\n",
    "df_estadistica_meteo_19_x2 = pd.read_csv('./Altres_dades/EstadísticsEstacionsMeteo/2019_x2_barcelona_zoo.csv',sep=',')\n",
    "df_estadistica_meteo_19_x4 = pd.read_csv('./Altres_dades/EstadísticsEstacionsMeteo/2019_x4_barcelona_el_raval.csv',sep=',')\n",
    "df_estadistica_meteo_19_x8 = pd.read_csv('./Altres_dades/EstadísticsEstacionsMeteo/2019_x8_barcelona_zona_universitaria.csv',sep=',')"
   ]
  },
  {
   "cell_type": "code",
   "execution_count": 41,
   "id": "ddefd8de",
   "metadata": {},
   "outputs": [],
   "source": [
    "def convert_columns(data):\n",
    "    print(data.shape)\n",
    "    \n",
    "    data.rename(\n",
    "        columns={\n",
    "            'PPT24H':'PPT',\n",
    "            'DVX10':'DVVX10',\n",
    "            'RS24H':'RS24h',\n",
    "            'HPA':'PM'\n",
    "        },\n",
    "        inplace=True\n",
    "    )\n",
    "    \n",
    "    for acro in df_meteo_metadata['ACRÒNIM'].values:\n",
    "        if acro not in data.columns.values:\n",
    "            data[acro] = np.nan\n",
    "    \n",
    "    code = data.CODI_ESTACIO.unique().tolist().pop()\n",
    "    \n",
    "    data.drop('CODI_ESTACIO', axis=1, inplace=True)\n",
    "\n",
    "    data = data.set_index('DATA_LECTURA')\n",
    "\n",
    "    data.columns = [f'VALOR_{col}_{code}' for col in data.columns.values]\n",
    "\n",
    "    data = data.reset_index()\n",
    "\n",
    "    data['DATA_LECTURA'] = pd.to_datetime(data['DATA_LECTURA'], format='%d/%m/%Y')\n",
    "#     data['year'] = data['DATA_LECTURA'].dt.year\n",
    "    \n",
    "    print(data.shape)\n",
    "    \n",
    "    return data"
   ]
  },
  {
   "cell_type": "code",
   "execution_count": 42,
   "id": "3b1c1ff7",
   "metadata": {},
   "outputs": [
    {
     "name": "stdout",
     "output_type": "stream",
     "text": [
      "(8766, 13)\n",
      "(8766, 16)\n",
      "(4832, 6)\n",
      "(4832, 16)\n",
      "(4809, 13)\n",
      "(4809, 16)\n",
      "(4262, 13)\n",
      "(4262, 16)\n"
     ]
    }
   ],
   "source": [
    "df_estadistica_meteo_19_d5 = convert_columns(df_estadistica_meteo_19_d5)\n",
    "\n",
    "df_estadistica_meteo_19_x2 = convert_columns(df_estadistica_meteo_19_x2)\n",
    "\n",
    "df_estadistica_meteo_19_x4 = convert_columns(df_estadistica_meteo_19_x4)\n",
    "\n",
    "df_estadistica_meteo_19_x8 = convert_columns(df_estadistica_meteo_19_x8)"
   ]
  },
  {
   "cell_type": "code",
   "execution_count": 43,
   "id": "fcbce3b2",
   "metadata": {},
   "outputs": [],
   "source": [
    "df_estadistica_meteo_19 = pd.merge(\n",
    "    pd.merge(\n",
    "        df_estadistica_meteo_19_d5, df_estadistica_meteo_19_x2, \n",
    "        on='DATA_LECTURA',\n",
    "        how='outer',\n",
    "    ),\n",
    "    pd.merge(\n",
    "        df_estadistica_meteo_19_x4, df_estadistica_meteo_19_x8, \n",
    "        on='DATA_LECTURA',\n",
    "        how='outer',\n",
    "    ), \n",
    "    on='DATA_LECTURA',\n",
    "    how='outer',\n",
    ")\n"
   ]
  },
  {
   "cell_type": "code",
   "execution_count": 44,
   "id": "4c12262c",
   "metadata": {},
   "outputs": [],
   "source": [
    "df_estadistica_meteo_19['year'] = df_estadistica_meteo_19['DATA_LECTURA'].dt.year\n",
    "\n",
    "df_estadistica_meteo_19 = df_estadistica_meteo_19[df_estadistica_meteo_19.year.isin([2019])]"
   ]
  },
  {
   "cell_type": "code",
   "execution_count": 45,
   "id": "00b0cc63",
   "metadata": {},
   "outputs": [],
   "source": [
    "df_estadistica_meteo_20 = pd.read_csv('./Altres_dades/EstadísticsEstacionsMeteo/2020_MeteoCat_Detall_Estacions.csv',sep=',')\n",
    "df_estadistica_meteo_21 = pd.read_csv('./Altres_dades/EstadísticsEstacionsMeteo/2021_MeteoCat_Detall_Estacions.csv',sep=',')\n",
    "df_estadistica_meteo_22 = pd.read_csv('./Altres_dades/EstadísticsEstacionsMeteo/2022_MeteoCat_Detall_Estacions.csv',sep=',')\n",
    "df_estadistica_meteo_23 = pd.read_csv('./Altres_dades/EstadísticsEstacionsMeteo/2023_MeteoCat_Detall_Estacions.csv',sep=',')\n"
   ]
  },
  {
   "cell_type": "code",
   "execution_count": 46,
   "id": "c99ddb09",
   "metadata": {},
   "outputs": [
    {
     "name": "stdout",
     "output_type": "stream",
     "text": [
      "(18637, 4)\n",
      "(18615, 4)\n",
      "(18605, 4)\n",
      "(8007, 4)\n",
      "(63864, 4)\n",
      "is there duplicates:  False\n",
      "(1253, 62)\n",
      "CPU times: user 30.8 ms, sys: 0 ns, total: 30.8 ms\n",
      "Wall time: 29.2 ms\n"
     ]
    }
   ],
   "source": [
    "%%time \n",
    "\n",
    "df_estadistica_meteo_20.drop('DATA_EXTREM', axis=1, inplace=True)\n",
    "print(df_estadistica_meteo_20.shape)\n",
    "\n",
    "df_estadistica_meteo_21.drop('DATA_EXTREM', axis=1, inplace=True)\n",
    "print(df_estadistica_meteo_21.shape)\n",
    "\n",
    "df_estadistica_meteo_22.drop('DATA_EXTREM', axis=1, inplace=True)\n",
    "print(df_estadistica_meteo_22.shape)\n",
    "\n",
    "df_estadistica_meteo_23.drop('DATA_EXTREM', axis=1, inplace=True)\n",
    "print(df_estadistica_meteo_23.shape)\n",
    "\n",
    "df_20_21_22_23 = pd.concat([df_estadistica_meteo_20, df_estadistica_meteo_21, df_estadistica_meteo_22, df_estadistica_meteo_23])\n",
    "print(df_20_21_22_23.shape)\n",
    "#change indexing \n",
    "df_20_21_22_23 = pd.DataFrame(df_20_21_22_23.set_index(['ACRÒNIM', 'DATA_LECTURA', 'CODI_ESTACIO']).unstack(['ACRÒNIM']))\n",
    "df_20_21_22_23 = df_20_21_22_23.reindex()\n",
    "df_20_21_22_23 = df_20_21_22_23.unstack()\n",
    "df_20_21_22_23.columns = ['_'.join(col) for col in df_20_21_22_23.columns.values]\n",
    "df_20_21_22_23 = df_20_21_22_23.reset_index()\n",
    "\n",
    "df_20_21_22_23['DATA_LECTURA'] = pd.to_datetime(df_20_21_22_23['DATA_LECTURA'], format='%Y-%m-%d')\n",
    "df_20_21_22_23['year'] = df_20_21_22_23['DATA_LECTURA'].dt.year\n",
    "\n",
    "# checking duplicates \n",
    "print('is there duplicates: ', (df_20_21_22_23.groupby('DATA_LECTURA').count().reset_index().VALOR_DVM10_D5 > 1 ).any())\n",
    "\n",
    "print(df_20_21_22_23.shape)"
   ]
  },
  {
   "cell_type": "code",
   "execution_count": 47,
   "id": "e9bf4bee",
   "metadata": {},
   "outputs": [],
   "source": [
    "df_estadistica_meteo = pd.concat([df_estadistica_meteo_19, df_20_21_22_23])"
   ]
  },
  {
   "cell_type": "code",
   "execution_count": 48,
   "id": "e8800ba3",
   "metadata": {},
   "outputs": [
    {
     "data": {
      "text/html": [
       "<div>\n",
       "<style scoped>\n",
       "    .dataframe tbody tr th:only-of-type {\n",
       "        vertical-align: middle;\n",
       "    }\n",
       "\n",
       "    .dataframe tbody tr th {\n",
       "        vertical-align: top;\n",
       "    }\n",
       "\n",
       "    .dataframe thead th {\n",
       "        text-align: right;\n",
       "    }\n",
       "</style>\n",
       "<table border=\"1\" class=\"dataframe\">\n",
       "  <thead>\n",
       "    <tr style=\"text-align: right;\">\n",
       "      <th></th>\n",
       "      <th>DATA_LECTURA</th>\n",
       "      <th>VALOR_TM_D5</th>\n",
       "      <th>VALOR_TX_D5</th>\n",
       "      <th>VALOR_TN_D5</th>\n",
       "      <th>VALOR_HRM_D5</th>\n",
       "      <th>VALOR_PPT_D5</th>\n",
       "      <th>VALOR_PM_D5</th>\n",
       "      <th>VALOR_RS24h_D5</th>\n",
       "      <th>VALOR_VVM10_D5</th>\n",
       "      <th>VALOR_DVM10_D5</th>\n",
       "      <th>VALOR_VVX10_D5</th>\n",
       "      <th>VALOR_DVVX10_D5</th>\n",
       "      <th>VALOR_HRX_D5</th>\n",
       "      <th>VALOR_HRN_D5</th>\n",
       "      <th>VALOR_PX_D5</th>\n",
       "      <th>VALOR_PN_D5</th>\n",
       "      <th>VALOR_TM_X2</th>\n",
       "      <th>VALOR_TX_X2</th>\n",
       "      <th>VALOR_TN_X2</th>\n",
       "      <th>VALOR_HRM_X2</th>\n",
       "      <th>VALOR_HRX_X2</th>\n",
       "      <th>VALOR_HRN_X2</th>\n",
       "      <th>VALOR_PM_X2</th>\n",
       "      <th>VALOR_PX_X2</th>\n",
       "      <th>VALOR_PN_X2</th>\n",
       "      <th>VALOR_PPT_X2</th>\n",
       "      <th>VALOR_RS24h_X2</th>\n",
       "      <th>VALOR_VVM10_X2</th>\n",
       "      <th>VALOR_DVM10_X2</th>\n",
       "      <th>VALOR_VVX10_X2</th>\n",
       "      <th>VALOR_DVVX10_X2</th>\n",
       "      <th>VALOR_TM_X4</th>\n",
       "      <th>VALOR_TX_X4</th>\n",
       "      <th>VALOR_TN_X4</th>\n",
       "      <th>VALOR_HRM_X4</th>\n",
       "      <th>VALOR_PPT_X4</th>\n",
       "      <th>VALOR_PM_X4</th>\n",
       "      <th>VALOR_RS24h_X4</th>\n",
       "      <th>VALOR_VVM10_X4</th>\n",
       "      <th>VALOR_DVM10_X4</th>\n",
       "      <th>VALOR_VVX10_X4</th>\n",
       "      <th>VALOR_DVVX10_X4</th>\n",
       "      <th>VALOR_HRX_X4</th>\n",
       "      <th>VALOR_HRN_X4</th>\n",
       "      <th>VALOR_PX_X4</th>\n",
       "      <th>VALOR_PN_X4</th>\n",
       "      <th>VALOR_TM_X8</th>\n",
       "      <th>VALOR_TX_X8</th>\n",
       "      <th>VALOR_TN_X8</th>\n",
       "      <th>VALOR_HRM_X8</th>\n",
       "      <th>VALOR_PPT_X8</th>\n",
       "      <th>VALOR_PM_X8</th>\n",
       "      <th>VALOR_RS24h_X8</th>\n",
       "      <th>VALOR_VVM10_X8</th>\n",
       "      <th>VALOR_DVM10_X8</th>\n",
       "      <th>VALOR_VVX10_X8</th>\n",
       "      <th>VALOR_DVVX10_X8</th>\n",
       "      <th>VALOR_HRX_X8</th>\n",
       "      <th>VALOR_HRN_X8</th>\n",
       "      <th>VALOR_PX_X8</th>\n",
       "      <th>VALOR_PN_X8</th>\n",
       "      <th>year</th>\n",
       "    </tr>\n",
       "  </thead>\n",
       "  <tbody>\n",
       "    <tr>\n",
       "      <th>8401</th>\n",
       "      <td>2019-01-01</td>\n",
       "      <td>10.5</td>\n",
       "      <td>14.4</td>\n",
       "      <td>7.8</td>\n",
       "      <td>73.0</td>\n",
       "      <td>0.0</td>\n",
       "      <td>979.6</td>\n",
       "      <td>5.4</td>\n",
       "      <td>3.8</td>\n",
       "      <td>339.0</td>\n",
       "      <td>15.8</td>\n",
       "      <td>315.0</td>\n",
       "      <td>NaN</td>\n",
       "      <td>NaN</td>\n",
       "      <td>NaN</td>\n",
       "      <td>NaN</td>\n",
       "      <td>9.9</td>\n",
       "      <td>15.4</td>\n",
       "      <td>4.9</td>\n",
       "      <td>79.0</td>\n",
       "      <td>NaN</td>\n",
       "      <td>NaN</td>\n",
       "      <td>NaN</td>\n",
       "      <td>NaN</td>\n",
       "      <td>NaN</td>\n",
       "      <td>NaN</td>\n",
       "      <td>NaN</td>\n",
       "      <td>NaN</td>\n",
       "      <td>NaN</td>\n",
       "      <td>NaN</td>\n",
       "      <td>NaN</td>\n",
       "      <td>12.3</td>\n",
       "      <td>16.0</td>\n",
       "      <td>8.4</td>\n",
       "      <td>66.0</td>\n",
       "      <td>0.0</td>\n",
       "      <td>1024.5</td>\n",
       "      <td>8.2</td>\n",
       "      <td>1.3</td>\n",
       "      <td>307.0</td>\n",
       "      <td>7.9</td>\n",
       "      <td>301.0</td>\n",
       "      <td>NaN</td>\n",
       "      <td>NaN</td>\n",
       "      <td>NaN</td>\n",
       "      <td>NaN</td>\n",
       "      <td>11.2</td>\n",
       "      <td>17.0</td>\n",
       "      <td>7.0</td>\n",
       "      <td>71.0</td>\n",
       "      <td>0.0</td>\n",
       "      <td>1019.0</td>\n",
       "      <td>7.4</td>\n",
       "      <td>1.4</td>\n",
       "      <td>311.0</td>\n",
       "      <td>9.0</td>\n",
       "      <td>303.0</td>\n",
       "      <td>NaN</td>\n",
       "      <td>NaN</td>\n",
       "      <td>NaN</td>\n",
       "      <td>NaN</td>\n",
       "      <td>2019</td>\n",
       "    </tr>\n",
       "    <tr>\n",
       "      <th>8402</th>\n",
       "      <td>2019-01-02</td>\n",
       "      <td>8.9</td>\n",
       "      <td>12.9</td>\n",
       "      <td>5.9</td>\n",
       "      <td>48.0</td>\n",
       "      <td>0.0</td>\n",
       "      <td>976.5</td>\n",
       "      <td>9.4</td>\n",
       "      <td>8.3</td>\n",
       "      <td>324.0</td>\n",
       "      <td>17.3</td>\n",
       "      <td>318.0</td>\n",
       "      <td>NaN</td>\n",
       "      <td>NaN</td>\n",
       "      <td>NaN</td>\n",
       "      <td>NaN</td>\n",
       "      <td>8.8</td>\n",
       "      <td>14.5</td>\n",
       "      <td>5.1</td>\n",
       "      <td>63.0</td>\n",
       "      <td>NaN</td>\n",
       "      <td>NaN</td>\n",
       "      <td>NaN</td>\n",
       "      <td>NaN</td>\n",
       "      <td>NaN</td>\n",
       "      <td>NaN</td>\n",
       "      <td>NaN</td>\n",
       "      <td>NaN</td>\n",
       "      <td>NaN</td>\n",
       "      <td>NaN</td>\n",
       "      <td>NaN</td>\n",
       "      <td>11.2</td>\n",
       "      <td>16.3</td>\n",
       "      <td>8.1</td>\n",
       "      <td>47.0</td>\n",
       "      <td>0.0</td>\n",
       "      <td>1021.4</td>\n",
       "      <td>9.2</td>\n",
       "      <td>1.0</td>\n",
       "      <td>280.0</td>\n",
       "      <td>6.3</td>\n",
       "      <td>309.0</td>\n",
       "      <td>NaN</td>\n",
       "      <td>NaN</td>\n",
       "      <td>NaN</td>\n",
       "      <td>NaN</td>\n",
       "      <td>9.5</td>\n",
       "      <td>15.3</td>\n",
       "      <td>5.7</td>\n",
       "      <td>52.0</td>\n",
       "      <td>0.0</td>\n",
       "      <td>1015.9</td>\n",
       "      <td>9.1</td>\n",
       "      <td>1.7</td>\n",
       "      <td>293.0</td>\n",
       "      <td>10.2</td>\n",
       "      <td>304.0</td>\n",
       "      <td>NaN</td>\n",
       "      <td>NaN</td>\n",
       "      <td>NaN</td>\n",
       "      <td>NaN</td>\n",
       "      <td>2019</td>\n",
       "    </tr>\n",
       "    <tr>\n",
       "      <th>8403</th>\n",
       "      <td>2019-01-03</td>\n",
       "      <td>8.3</td>\n",
       "      <td>12.6</td>\n",
       "      <td>4.9</td>\n",
       "      <td>59.0</td>\n",
       "      <td>0.0</td>\n",
       "      <td>979.0</td>\n",
       "      <td>9.1</td>\n",
       "      <td>4.0</td>\n",
       "      <td>279.0</td>\n",
       "      <td>9.9</td>\n",
       "      <td>313.0</td>\n",
       "      <td>NaN</td>\n",
       "      <td>NaN</td>\n",
       "      <td>NaN</td>\n",
       "      <td>NaN</td>\n",
       "      <td>7.6</td>\n",
       "      <td>13.0</td>\n",
       "      <td>4.1</td>\n",
       "      <td>69.0</td>\n",
       "      <td>NaN</td>\n",
       "      <td>NaN</td>\n",
       "      <td>NaN</td>\n",
       "      <td>NaN</td>\n",
       "      <td>NaN</td>\n",
       "      <td>NaN</td>\n",
       "      <td>NaN</td>\n",
       "      <td>NaN</td>\n",
       "      <td>NaN</td>\n",
       "      <td>NaN</td>\n",
       "      <td>NaN</td>\n",
       "      <td>10.3</td>\n",
       "      <td>13.7</td>\n",
       "      <td>7.5</td>\n",
       "      <td>53.0</td>\n",
       "      <td>0.0</td>\n",
       "      <td>1024.3</td>\n",
       "      <td>8.9</td>\n",
       "      <td>1.1</td>\n",
       "      <td>264.0</td>\n",
       "      <td>4.6</td>\n",
       "      <td>263.0</td>\n",
       "      <td>NaN</td>\n",
       "      <td>NaN</td>\n",
       "      <td>NaN</td>\n",
       "      <td>NaN</td>\n",
       "      <td>8.8</td>\n",
       "      <td>13.4</td>\n",
       "      <td>4.4</td>\n",
       "      <td>59.0</td>\n",
       "      <td>0.0</td>\n",
       "      <td>1018.7</td>\n",
       "      <td>8.8</td>\n",
       "      <td>1.3</td>\n",
       "      <td>277.0</td>\n",
       "      <td>6.0</td>\n",
       "      <td>306.0</td>\n",
       "      <td>NaN</td>\n",
       "      <td>NaN</td>\n",
       "      <td>NaN</td>\n",
       "      <td>NaN</td>\n",
       "      <td>2019</td>\n",
       "    </tr>\n",
       "    <tr>\n",
       "      <th>8404</th>\n",
       "      <td>2019-01-04</td>\n",
       "      <td>7.2</td>\n",
       "      <td>11.3</td>\n",
       "      <td>5.3</td>\n",
       "      <td>69.0</td>\n",
       "      <td>0.0</td>\n",
       "      <td>980.6</td>\n",
       "      <td>8.0</td>\n",
       "      <td>2.0</td>\n",
       "      <td>205.0</td>\n",
       "      <td>7.8</td>\n",
       "      <td>290.0</td>\n",
       "      <td>NaN</td>\n",
       "      <td>NaN</td>\n",
       "      <td>NaN</td>\n",
       "      <td>NaN</td>\n",
       "      <td>7.0</td>\n",
       "      <td>11.7</td>\n",
       "      <td>3.3</td>\n",
       "      <td>73.0</td>\n",
       "      <td>NaN</td>\n",
       "      <td>NaN</td>\n",
       "      <td>NaN</td>\n",
       "      <td>NaN</td>\n",
       "      <td>NaN</td>\n",
       "      <td>NaN</td>\n",
       "      <td>NaN</td>\n",
       "      <td>NaN</td>\n",
       "      <td>NaN</td>\n",
       "      <td>NaN</td>\n",
       "      <td>NaN</td>\n",
       "      <td>9.4</td>\n",
       "      <td>12.3</td>\n",
       "      <td>6.4</td>\n",
       "      <td>59.0</td>\n",
       "      <td>0.0</td>\n",
       "      <td>1026.1</td>\n",
       "      <td>7.9</td>\n",
       "      <td>0.9</td>\n",
       "      <td>94.0</td>\n",
       "      <td>4.8</td>\n",
       "      <td>80.0</td>\n",
       "      <td>NaN</td>\n",
       "      <td>NaN</td>\n",
       "      <td>NaN</td>\n",
       "      <td>NaN</td>\n",
       "      <td>7.0</td>\n",
       "      <td>12.6</td>\n",
       "      <td>2.6</td>\n",
       "      <td>70.0</td>\n",
       "      <td>0.0</td>\n",
       "      <td>1020.5</td>\n",
       "      <td>7.7</td>\n",
       "      <td>1.2</td>\n",
       "      <td>292.0</td>\n",
       "      <td>4.1</td>\n",
       "      <td>164.0</td>\n",
       "      <td>NaN</td>\n",
       "      <td>NaN</td>\n",
       "      <td>NaN</td>\n",
       "      <td>NaN</td>\n",
       "      <td>2019</td>\n",
       "    </tr>\n",
       "    <tr>\n",
       "      <th>8405</th>\n",
       "      <td>2019-01-05</td>\n",
       "      <td>9.1</td>\n",
       "      <td>15.2</td>\n",
       "      <td>3.2</td>\n",
       "      <td>47.0</td>\n",
       "      <td>0.0</td>\n",
       "      <td>978.6</td>\n",
       "      <td>9.3</td>\n",
       "      <td>10.0</td>\n",
       "      <td>326.0</td>\n",
       "      <td>17.0</td>\n",
       "      <td>317.0</td>\n",
       "      <td>NaN</td>\n",
       "      <td>NaN</td>\n",
       "      <td>NaN</td>\n",
       "      <td>NaN</td>\n",
       "      <td>8.5</td>\n",
       "      <td>15.3</td>\n",
       "      <td>4.4</td>\n",
       "      <td>63.0</td>\n",
       "      <td>NaN</td>\n",
       "      <td>NaN</td>\n",
       "      <td>NaN</td>\n",
       "      <td>NaN</td>\n",
       "      <td>NaN</td>\n",
       "      <td>NaN</td>\n",
       "      <td>NaN</td>\n",
       "      <td>NaN</td>\n",
       "      <td>NaN</td>\n",
       "      <td>NaN</td>\n",
       "      <td>NaN</td>\n",
       "      <td>10.9</td>\n",
       "      <td>16.3</td>\n",
       "      <td>6.8</td>\n",
       "      <td>45.0</td>\n",
       "      <td>0.0</td>\n",
       "      <td>1023.6</td>\n",
       "      <td>9.2</td>\n",
       "      <td>2.0</td>\n",
       "      <td>282.0</td>\n",
       "      <td>7.5</td>\n",
       "      <td>267.0</td>\n",
       "      <td>NaN</td>\n",
       "      <td>NaN</td>\n",
       "      <td>NaN</td>\n",
       "      <td>NaN</td>\n",
       "      <td>9.4</td>\n",
       "      <td>14.1</td>\n",
       "      <td>5.4</td>\n",
       "      <td>50.0</td>\n",
       "      <td>0.0</td>\n",
       "      <td>1018.1</td>\n",
       "      <td>9.2</td>\n",
       "      <td>3.1</td>\n",
       "      <td>296.0</td>\n",
       "      <td>10.8</td>\n",
       "      <td>307.0</td>\n",
       "      <td>NaN</td>\n",
       "      <td>NaN</td>\n",
       "      <td>NaN</td>\n",
       "      <td>NaN</td>\n",
       "      <td>2019</td>\n",
       "    </tr>\n",
       "    <tr>\n",
       "      <th>...</th>\n",
       "      <td>...</td>\n",
       "      <td>...</td>\n",
       "      <td>...</td>\n",
       "      <td>...</td>\n",
       "      <td>...</td>\n",
       "      <td>...</td>\n",
       "      <td>...</td>\n",
       "      <td>...</td>\n",
       "      <td>...</td>\n",
       "      <td>...</td>\n",
       "      <td>...</td>\n",
       "      <td>...</td>\n",
       "      <td>...</td>\n",
       "      <td>...</td>\n",
       "      <td>...</td>\n",
       "      <td>...</td>\n",
       "      <td>...</td>\n",
       "      <td>...</td>\n",
       "      <td>...</td>\n",
       "      <td>...</td>\n",
       "      <td>...</td>\n",
       "      <td>...</td>\n",
       "      <td>...</td>\n",
       "      <td>...</td>\n",
       "      <td>...</td>\n",
       "      <td>...</td>\n",
       "      <td>...</td>\n",
       "      <td>...</td>\n",
       "      <td>...</td>\n",
       "      <td>...</td>\n",
       "      <td>...</td>\n",
       "      <td>...</td>\n",
       "      <td>...</td>\n",
       "      <td>...</td>\n",
       "      <td>...</td>\n",
       "      <td>...</td>\n",
       "      <td>...</td>\n",
       "      <td>...</td>\n",
       "      <td>...</td>\n",
       "      <td>...</td>\n",
       "      <td>...</td>\n",
       "      <td>...</td>\n",
       "      <td>...</td>\n",
       "      <td>...</td>\n",
       "      <td>...</td>\n",
       "      <td>...</td>\n",
       "      <td>...</td>\n",
       "      <td>...</td>\n",
       "      <td>...</td>\n",
       "      <td>...</td>\n",
       "      <td>...</td>\n",
       "      <td>...</td>\n",
       "      <td>...</td>\n",
       "      <td>...</td>\n",
       "      <td>...</td>\n",
       "      <td>...</td>\n",
       "      <td>...</td>\n",
       "      <td>...</td>\n",
       "      <td>...</td>\n",
       "      <td>...</td>\n",
       "      <td>...</td>\n",
       "      <td>...</td>\n",
       "    </tr>\n",
       "    <tr>\n",
       "      <th>1248</th>\n",
       "      <td>2023-06-02</td>\n",
       "      <td>18.9</td>\n",
       "      <td>24.7</td>\n",
       "      <td>15.4</td>\n",
       "      <td>80.0</td>\n",
       "      <td>0.0</td>\n",
       "      <td>966.5</td>\n",
       "      <td>24.3</td>\n",
       "      <td>2.0</td>\n",
       "      <td>202.0</td>\n",
       "      <td>7.1</td>\n",
       "      <td>157.0</td>\n",
       "      <td>100.0</td>\n",
       "      <td>56.0</td>\n",
       "      <td>967.5</td>\n",
       "      <td>965.2</td>\n",
       "      <td>20.1</td>\n",
       "      <td>24.1</td>\n",
       "      <td>16.9</td>\n",
       "      <td>79.0</td>\n",
       "      <td>93.0</td>\n",
       "      <td>62.0</td>\n",
       "      <td>NaN</td>\n",
       "      <td>NaN</td>\n",
       "      <td>NaN</td>\n",
       "      <td>NaN</td>\n",
       "      <td>NaN</td>\n",
       "      <td>NaN</td>\n",
       "      <td>NaN</td>\n",
       "      <td>NaN</td>\n",
       "      <td>NaN</td>\n",
       "      <td>20.8</td>\n",
       "      <td>23.2</td>\n",
       "      <td>18.2</td>\n",
       "      <td>74.0</td>\n",
       "      <td>0.0</td>\n",
       "      <td>1010.0</td>\n",
       "      <td>24.9</td>\n",
       "      <td>1.7</td>\n",
       "      <td>159.0</td>\n",
       "      <td>5.9</td>\n",
       "      <td>152.0</td>\n",
       "      <td>92.0</td>\n",
       "      <td>55.0</td>\n",
       "      <td>1011.0</td>\n",
       "      <td>1008.6</td>\n",
       "      <td>20.6</td>\n",
       "      <td>25.2</td>\n",
       "      <td>15.8</td>\n",
       "      <td>77.0</td>\n",
       "      <td>0.0</td>\n",
       "      <td>1004.4</td>\n",
       "      <td>23.5</td>\n",
       "      <td>1.5</td>\n",
       "      <td>207.0</td>\n",
       "      <td>6.1</td>\n",
       "      <td>174.0</td>\n",
       "      <td>99.0</td>\n",
       "      <td>54.0</td>\n",
       "      <td>1005.4</td>\n",
       "      <td>1003.0</td>\n",
       "      <td>2023</td>\n",
       "    </tr>\n",
       "    <tr>\n",
       "      <th>1249</th>\n",
       "      <td>2023-06-03</td>\n",
       "      <td>18.2</td>\n",
       "      <td>22.8</td>\n",
       "      <td>15.3</td>\n",
       "      <td>86.0</td>\n",
       "      <td>0.1</td>\n",
       "      <td>966.9</td>\n",
       "      <td>15.4</td>\n",
       "      <td>1.8</td>\n",
       "      <td>190.0</td>\n",
       "      <td>6.9</td>\n",
       "      <td>151.0</td>\n",
       "      <td>100.0</td>\n",
       "      <td>65.0</td>\n",
       "      <td>968.0</td>\n",
       "      <td>965.4</td>\n",
       "      <td>20.3</td>\n",
       "      <td>22.7</td>\n",
       "      <td>17.6</td>\n",
       "      <td>81.0</td>\n",
       "      <td>91.0</td>\n",
       "      <td>66.0</td>\n",
       "      <td>NaN</td>\n",
       "      <td>NaN</td>\n",
       "      <td>NaN</td>\n",
       "      <td>NaN</td>\n",
       "      <td>NaN</td>\n",
       "      <td>NaN</td>\n",
       "      <td>NaN</td>\n",
       "      <td>NaN</td>\n",
       "      <td>NaN</td>\n",
       "      <td>20.8</td>\n",
       "      <td>22.8</td>\n",
       "      <td>18.9</td>\n",
       "      <td>76.0</td>\n",
       "      <td>0.0</td>\n",
       "      <td>1010.5</td>\n",
       "      <td>18.2</td>\n",
       "      <td>1.6</td>\n",
       "      <td>149.0</td>\n",
       "      <td>6.6</td>\n",
       "      <td>174.0</td>\n",
       "      <td>91.0</td>\n",
       "      <td>59.0</td>\n",
       "      <td>1011.7</td>\n",
       "      <td>1009.0</td>\n",
       "      <td>20.5</td>\n",
       "      <td>25.3</td>\n",
       "      <td>16.9</td>\n",
       "      <td>78.0</td>\n",
       "      <td>0.0</td>\n",
       "      <td>1004.8</td>\n",
       "      <td>16.2</td>\n",
       "      <td>1.4</td>\n",
       "      <td>170.0</td>\n",
       "      <td>6.9</td>\n",
       "      <td>181.0</td>\n",
       "      <td>100.0</td>\n",
       "      <td>58.0</td>\n",
       "      <td>1006.1</td>\n",
       "      <td>1003.4</td>\n",
       "      <td>2023</td>\n",
       "    </tr>\n",
       "    <tr>\n",
       "      <th>1250</th>\n",
       "      <td>2023-06-04</td>\n",
       "      <td>19.1</td>\n",
       "      <td>25.7</td>\n",
       "      <td>16.2</td>\n",
       "      <td>82.0</td>\n",
       "      <td>0.0</td>\n",
       "      <td>967.8</td>\n",
       "      <td>21.6</td>\n",
       "      <td>1.8</td>\n",
       "      <td>184.0</td>\n",
       "      <td>7.0</td>\n",
       "      <td>167.0</td>\n",
       "      <td>100.0</td>\n",
       "      <td>51.0</td>\n",
       "      <td>969.0</td>\n",
       "      <td>966.6</td>\n",
       "      <td>20.5</td>\n",
       "      <td>24.5</td>\n",
       "      <td>17.9</td>\n",
       "      <td>81.0</td>\n",
       "      <td>91.0</td>\n",
       "      <td>69.0</td>\n",
       "      <td>NaN</td>\n",
       "      <td>NaN</td>\n",
       "      <td>NaN</td>\n",
       "      <td>NaN</td>\n",
       "      <td>NaN</td>\n",
       "      <td>NaN</td>\n",
       "      <td>NaN</td>\n",
       "      <td>NaN</td>\n",
       "      <td>NaN</td>\n",
       "      <td>21.0</td>\n",
       "      <td>23.9</td>\n",
       "      <td>18.9</td>\n",
       "      <td>76.0</td>\n",
       "      <td>0.0</td>\n",
       "      <td>1011.4</td>\n",
       "      <td>23.8</td>\n",
       "      <td>1.6</td>\n",
       "      <td>127.0</td>\n",
       "      <td>6.3</td>\n",
       "      <td>101.0</td>\n",
       "      <td>93.0</td>\n",
       "      <td>62.0</td>\n",
       "      <td>1012.6</td>\n",
       "      <td>1010.2</td>\n",
       "      <td>20.8</td>\n",
       "      <td>25.9</td>\n",
       "      <td>17.2</td>\n",
       "      <td>77.0</td>\n",
       "      <td>0.0</td>\n",
       "      <td>1005.7</td>\n",
       "      <td>22.5</td>\n",
       "      <td>1.4</td>\n",
       "      <td>176.0</td>\n",
       "      <td>6.3</td>\n",
       "      <td>132.0</td>\n",
       "      <td>99.0</td>\n",
       "      <td>51.0</td>\n",
       "      <td>1007.0</td>\n",
       "      <td>1004.6</td>\n",
       "      <td>2023</td>\n",
       "    </tr>\n",
       "    <tr>\n",
       "      <th>1251</th>\n",
       "      <td>2023-06-05</td>\n",
       "      <td>19.9</td>\n",
       "      <td>25.5</td>\n",
       "      <td>15.9</td>\n",
       "      <td>75.0</td>\n",
       "      <td>0.0</td>\n",
       "      <td>968.0</td>\n",
       "      <td>26.1</td>\n",
       "      <td>3.3</td>\n",
       "      <td>239.0</td>\n",
       "      <td>8.9</td>\n",
       "      <td>191.0</td>\n",
       "      <td>99.0</td>\n",
       "      <td>52.0</td>\n",
       "      <td>968.8</td>\n",
       "      <td>966.9</td>\n",
       "      <td>21.5</td>\n",
       "      <td>25.7</td>\n",
       "      <td>17.3</td>\n",
       "      <td>75.0</td>\n",
       "      <td>91.0</td>\n",
       "      <td>62.0</td>\n",
       "      <td>NaN</td>\n",
       "      <td>NaN</td>\n",
       "      <td>NaN</td>\n",
       "      <td>NaN</td>\n",
       "      <td>NaN</td>\n",
       "      <td>NaN</td>\n",
       "      <td>NaN</td>\n",
       "      <td>NaN</td>\n",
       "      <td>NaN</td>\n",
       "      <td>22.0</td>\n",
       "      <td>24.6</td>\n",
       "      <td>18.9</td>\n",
       "      <td>67.0</td>\n",
       "      <td>0.0</td>\n",
       "      <td>1011.5</td>\n",
       "      <td>28.6</td>\n",
       "      <td>1.8</td>\n",
       "      <td>193.0</td>\n",
       "      <td>7.7</td>\n",
       "      <td>155.0</td>\n",
       "      <td>80.0</td>\n",
       "      <td>56.0</td>\n",
       "      <td>1012.4</td>\n",
       "      <td>1010.0</td>\n",
       "      <td>21.8</td>\n",
       "      <td>26.5</td>\n",
       "      <td>16.7</td>\n",
       "      <td>70.0</td>\n",
       "      <td>0.0</td>\n",
       "      <td>1005.9</td>\n",
       "      <td>27.7</td>\n",
       "      <td>1.7</td>\n",
       "      <td>220.0</td>\n",
       "      <td>7.2</td>\n",
       "      <td>209.0</td>\n",
       "      <td>95.0</td>\n",
       "      <td>51.0</td>\n",
       "      <td>1006.8</td>\n",
       "      <td>1004.7</td>\n",
       "      <td>2023</td>\n",
       "    </tr>\n",
       "    <tr>\n",
       "      <th>1252</th>\n",
       "      <td>2023-06-06</td>\n",
       "      <td>20.3</td>\n",
       "      <td>25.6</td>\n",
       "      <td>16.6</td>\n",
       "      <td>75.0</td>\n",
       "      <td>0.0</td>\n",
       "      <td>968.1</td>\n",
       "      <td>30.9</td>\n",
       "      <td>4.4</td>\n",
       "      <td>244.0</td>\n",
       "      <td>10.2</td>\n",
       "      <td>198.0</td>\n",
       "      <td>99.0</td>\n",
       "      <td>49.0</td>\n",
       "      <td>969.1</td>\n",
       "      <td>967.1</td>\n",
       "      <td>22.5</td>\n",
       "      <td>26.2</td>\n",
       "      <td>18.7</td>\n",
       "      <td>73.0</td>\n",
       "      <td>83.0</td>\n",
       "      <td>59.0</td>\n",
       "      <td>NaN</td>\n",
       "      <td>NaN</td>\n",
       "      <td>NaN</td>\n",
       "      <td>NaN</td>\n",
       "      <td>NaN</td>\n",
       "      <td>NaN</td>\n",
       "      <td>NaN</td>\n",
       "      <td>NaN</td>\n",
       "      <td>NaN</td>\n",
       "      <td>23.0</td>\n",
       "      <td>26.3</td>\n",
       "      <td>20.2</td>\n",
       "      <td>66.0</td>\n",
       "      <td>0.0</td>\n",
       "      <td>1011.5</td>\n",
       "      <td>29.9</td>\n",
       "      <td>2.5</td>\n",
       "      <td>240.0</td>\n",
       "      <td>9.8</td>\n",
       "      <td>205.0</td>\n",
       "      <td>81.0</td>\n",
       "      <td>49.0</td>\n",
       "      <td>1012.6</td>\n",
       "      <td>1010.4</td>\n",
       "      <td>22.5</td>\n",
       "      <td>27.1</td>\n",
       "      <td>18.3</td>\n",
       "      <td>70.0</td>\n",
       "      <td>0.0</td>\n",
       "      <td>1005.9</td>\n",
       "      <td>29.5</td>\n",
       "      <td>2.4</td>\n",
       "      <td>238.0</td>\n",
       "      <td>9.4</td>\n",
       "      <td>207.0</td>\n",
       "      <td>88.0</td>\n",
       "      <td>51.0</td>\n",
       "      <td>1007.1</td>\n",
       "      <td>1005.0</td>\n",
       "      <td>2023</td>\n",
       "    </tr>\n",
       "  </tbody>\n",
       "</table>\n",
       "<p>1618 rows × 62 columns</p>\n",
       "</div>"
      ],
      "text/plain": [
       "     DATA_LECTURA  VALOR_TM_D5  VALOR_TX_D5  VALOR_TN_D5  VALOR_HRM_D5  \\\n",
       "8401   2019-01-01         10.5         14.4          7.8          73.0   \n",
       "8402   2019-01-02          8.9         12.9          5.9          48.0   \n",
       "8403   2019-01-03          8.3         12.6          4.9          59.0   \n",
       "8404   2019-01-04          7.2         11.3          5.3          69.0   \n",
       "8405   2019-01-05          9.1         15.2          3.2          47.0   \n",
       "...           ...          ...          ...          ...           ...   \n",
       "1248   2023-06-02         18.9         24.7         15.4          80.0   \n",
       "1249   2023-06-03         18.2         22.8         15.3          86.0   \n",
       "1250   2023-06-04         19.1         25.7         16.2          82.0   \n",
       "1251   2023-06-05         19.9         25.5         15.9          75.0   \n",
       "1252   2023-06-06         20.3         25.6         16.6          75.0   \n",
       "\n",
       "      VALOR_PPT_D5  VALOR_PM_D5  VALOR_RS24h_D5  VALOR_VVM10_D5  \\\n",
       "8401           0.0        979.6             5.4             3.8   \n",
       "8402           0.0        976.5             9.4             8.3   \n",
       "8403           0.0        979.0             9.1             4.0   \n",
       "8404           0.0        980.6             8.0             2.0   \n",
       "8405           0.0        978.6             9.3            10.0   \n",
       "...            ...          ...             ...             ...   \n",
       "1248           0.0        966.5            24.3             2.0   \n",
       "1249           0.1        966.9            15.4             1.8   \n",
       "1250           0.0        967.8            21.6             1.8   \n",
       "1251           0.0        968.0            26.1             3.3   \n",
       "1252           0.0        968.1            30.9             4.4   \n",
       "\n",
       "      VALOR_DVM10_D5  VALOR_VVX10_D5  VALOR_DVVX10_D5  VALOR_HRX_D5  \\\n",
       "8401           339.0            15.8            315.0           NaN   \n",
       "8402           324.0            17.3            318.0           NaN   \n",
       "8403           279.0             9.9            313.0           NaN   \n",
       "8404           205.0             7.8            290.0           NaN   \n",
       "8405           326.0            17.0            317.0           NaN   \n",
       "...              ...             ...              ...           ...   \n",
       "1248           202.0             7.1            157.0         100.0   \n",
       "1249           190.0             6.9            151.0         100.0   \n",
       "1250           184.0             7.0            167.0         100.0   \n",
       "1251           239.0             8.9            191.0          99.0   \n",
       "1252           244.0            10.2            198.0          99.0   \n",
       "\n",
       "      VALOR_HRN_D5  VALOR_PX_D5  VALOR_PN_D5  VALOR_TM_X2  VALOR_TX_X2  \\\n",
       "8401           NaN          NaN          NaN          9.9         15.4   \n",
       "8402           NaN          NaN          NaN          8.8         14.5   \n",
       "8403           NaN          NaN          NaN          7.6         13.0   \n",
       "8404           NaN          NaN          NaN          7.0         11.7   \n",
       "8405           NaN          NaN          NaN          8.5         15.3   \n",
       "...            ...          ...          ...          ...          ...   \n",
       "1248          56.0        967.5        965.2         20.1         24.1   \n",
       "1249          65.0        968.0        965.4         20.3         22.7   \n",
       "1250          51.0        969.0        966.6         20.5         24.5   \n",
       "1251          52.0        968.8        966.9         21.5         25.7   \n",
       "1252          49.0        969.1        967.1         22.5         26.2   \n",
       "\n",
       "      VALOR_TN_X2  VALOR_HRM_X2  VALOR_HRX_X2  VALOR_HRN_X2  VALOR_PM_X2  \\\n",
       "8401          4.9          79.0           NaN           NaN          NaN   \n",
       "8402          5.1          63.0           NaN           NaN          NaN   \n",
       "8403          4.1          69.0           NaN           NaN          NaN   \n",
       "8404          3.3          73.0           NaN           NaN          NaN   \n",
       "8405          4.4          63.0           NaN           NaN          NaN   \n",
       "...           ...           ...           ...           ...          ...   \n",
       "1248         16.9          79.0          93.0          62.0          NaN   \n",
       "1249         17.6          81.0          91.0          66.0          NaN   \n",
       "1250         17.9          81.0          91.0          69.0          NaN   \n",
       "1251         17.3          75.0          91.0          62.0          NaN   \n",
       "1252         18.7          73.0          83.0          59.0          NaN   \n",
       "\n",
       "      VALOR_PX_X2  VALOR_PN_X2  VALOR_PPT_X2  VALOR_RS24h_X2  VALOR_VVM10_X2  \\\n",
       "8401          NaN          NaN           NaN             NaN             NaN   \n",
       "8402          NaN          NaN           NaN             NaN             NaN   \n",
       "8403          NaN          NaN           NaN             NaN             NaN   \n",
       "8404          NaN          NaN           NaN             NaN             NaN   \n",
       "8405          NaN          NaN           NaN             NaN             NaN   \n",
       "...           ...          ...           ...             ...             ...   \n",
       "1248          NaN          NaN           NaN             NaN             NaN   \n",
       "1249          NaN          NaN           NaN             NaN             NaN   \n",
       "1250          NaN          NaN           NaN             NaN             NaN   \n",
       "1251          NaN          NaN           NaN             NaN             NaN   \n",
       "1252          NaN          NaN           NaN             NaN             NaN   \n",
       "\n",
       "      VALOR_DVM10_X2  VALOR_VVX10_X2  VALOR_DVVX10_X2  VALOR_TM_X4  \\\n",
       "8401             NaN             NaN              NaN         12.3   \n",
       "8402             NaN             NaN              NaN         11.2   \n",
       "8403             NaN             NaN              NaN         10.3   \n",
       "8404             NaN             NaN              NaN          9.4   \n",
       "8405             NaN             NaN              NaN         10.9   \n",
       "...              ...             ...              ...          ...   \n",
       "1248             NaN             NaN              NaN         20.8   \n",
       "1249             NaN             NaN              NaN         20.8   \n",
       "1250             NaN             NaN              NaN         21.0   \n",
       "1251             NaN             NaN              NaN         22.0   \n",
       "1252             NaN             NaN              NaN         23.0   \n",
       "\n",
       "      VALOR_TX_X4  VALOR_TN_X4  VALOR_HRM_X4  VALOR_PPT_X4  VALOR_PM_X4  \\\n",
       "8401         16.0          8.4          66.0           0.0       1024.5   \n",
       "8402         16.3          8.1          47.0           0.0       1021.4   \n",
       "8403         13.7          7.5          53.0           0.0       1024.3   \n",
       "8404         12.3          6.4          59.0           0.0       1026.1   \n",
       "8405         16.3          6.8          45.0           0.0       1023.6   \n",
       "...           ...          ...           ...           ...          ...   \n",
       "1248         23.2         18.2          74.0           0.0       1010.0   \n",
       "1249         22.8         18.9          76.0           0.0       1010.5   \n",
       "1250         23.9         18.9          76.0           0.0       1011.4   \n",
       "1251         24.6         18.9          67.0           0.0       1011.5   \n",
       "1252         26.3         20.2          66.0           0.0       1011.5   \n",
       "\n",
       "      VALOR_RS24h_X4  VALOR_VVM10_X4  VALOR_DVM10_X4  VALOR_VVX10_X4  \\\n",
       "8401             8.2             1.3           307.0             7.9   \n",
       "8402             9.2             1.0           280.0             6.3   \n",
       "8403             8.9             1.1           264.0             4.6   \n",
       "8404             7.9             0.9            94.0             4.8   \n",
       "8405             9.2             2.0           282.0             7.5   \n",
       "...              ...             ...             ...             ...   \n",
       "1248            24.9             1.7           159.0             5.9   \n",
       "1249            18.2             1.6           149.0             6.6   \n",
       "1250            23.8             1.6           127.0             6.3   \n",
       "1251            28.6             1.8           193.0             7.7   \n",
       "1252            29.9             2.5           240.0             9.8   \n",
       "\n",
       "      VALOR_DVVX10_X4  VALOR_HRX_X4  VALOR_HRN_X4  VALOR_PX_X4  VALOR_PN_X4  \\\n",
       "8401            301.0           NaN           NaN          NaN          NaN   \n",
       "8402            309.0           NaN           NaN          NaN          NaN   \n",
       "8403            263.0           NaN           NaN          NaN          NaN   \n",
       "8404             80.0           NaN           NaN          NaN          NaN   \n",
       "8405            267.0           NaN           NaN          NaN          NaN   \n",
       "...               ...           ...           ...          ...          ...   \n",
       "1248            152.0          92.0          55.0       1011.0       1008.6   \n",
       "1249            174.0          91.0          59.0       1011.7       1009.0   \n",
       "1250            101.0          93.0          62.0       1012.6       1010.2   \n",
       "1251            155.0          80.0          56.0       1012.4       1010.0   \n",
       "1252            205.0          81.0          49.0       1012.6       1010.4   \n",
       "\n",
       "      VALOR_TM_X8  VALOR_TX_X8  VALOR_TN_X8  VALOR_HRM_X8  VALOR_PPT_X8  \\\n",
       "8401         11.2         17.0          7.0          71.0           0.0   \n",
       "8402          9.5         15.3          5.7          52.0           0.0   \n",
       "8403          8.8         13.4          4.4          59.0           0.0   \n",
       "8404          7.0         12.6          2.6          70.0           0.0   \n",
       "8405          9.4         14.1          5.4          50.0           0.0   \n",
       "...           ...          ...          ...           ...           ...   \n",
       "1248         20.6         25.2         15.8          77.0           0.0   \n",
       "1249         20.5         25.3         16.9          78.0           0.0   \n",
       "1250         20.8         25.9         17.2          77.0           0.0   \n",
       "1251         21.8         26.5         16.7          70.0           0.0   \n",
       "1252         22.5         27.1         18.3          70.0           0.0   \n",
       "\n",
       "      VALOR_PM_X8  VALOR_RS24h_X8  VALOR_VVM10_X8  VALOR_DVM10_X8  \\\n",
       "8401       1019.0             7.4             1.4           311.0   \n",
       "8402       1015.9             9.1             1.7           293.0   \n",
       "8403       1018.7             8.8             1.3           277.0   \n",
       "8404       1020.5             7.7             1.2           292.0   \n",
       "8405       1018.1             9.2             3.1           296.0   \n",
       "...           ...             ...             ...             ...   \n",
       "1248       1004.4            23.5             1.5           207.0   \n",
       "1249       1004.8            16.2             1.4           170.0   \n",
       "1250       1005.7            22.5             1.4           176.0   \n",
       "1251       1005.9            27.7             1.7           220.0   \n",
       "1252       1005.9            29.5             2.4           238.0   \n",
       "\n",
       "      VALOR_VVX10_X8  VALOR_DVVX10_X8  VALOR_HRX_X8  VALOR_HRN_X8  \\\n",
       "8401             9.0            303.0           NaN           NaN   \n",
       "8402            10.2            304.0           NaN           NaN   \n",
       "8403             6.0            306.0           NaN           NaN   \n",
       "8404             4.1            164.0           NaN           NaN   \n",
       "8405            10.8            307.0           NaN           NaN   \n",
       "...              ...              ...           ...           ...   \n",
       "1248             6.1            174.0          99.0          54.0   \n",
       "1249             6.9            181.0         100.0          58.0   \n",
       "1250             6.3            132.0          99.0          51.0   \n",
       "1251             7.2            209.0          95.0          51.0   \n",
       "1252             9.4            207.0          88.0          51.0   \n",
       "\n",
       "      VALOR_PX_X8  VALOR_PN_X8  year  \n",
       "8401          NaN          NaN  2019  \n",
       "8402          NaN          NaN  2019  \n",
       "8403          NaN          NaN  2019  \n",
       "8404          NaN          NaN  2019  \n",
       "8405          NaN          NaN  2019  \n",
       "...           ...          ...   ...  \n",
       "1248       1005.4       1003.0  2023  \n",
       "1249       1006.1       1003.4  2023  \n",
       "1250       1007.0       1004.6  2023  \n",
       "1251       1006.8       1004.7  2023  \n",
       "1252       1007.1       1005.0  2023  \n",
       "\n",
       "[1618 rows x 62 columns]"
      ]
     },
     "execution_count": 48,
     "metadata": {},
     "output_type": "execute_result"
    }
   ],
   "source": [
    "df_estadistica_meteo"
   ]
  },
  {
   "cell_type": "code",
   "execution_count": 49,
   "id": "10dd0a96",
   "metadata": {},
   "outputs": [],
   "source": [
    "df_estadistica_meteo['month'] = df_estadistica_meteo['DATA_LECTURA'].dt.month\n",
    "df_estadistica_meteo['day'] = df_estadistica_meteo['DATA_LECTURA'].dt.day"
   ]
  },
  {
   "cell_type": "code",
   "execution_count": 50,
   "id": "6f0bd553",
   "metadata": {},
   "outputs": [],
   "source": [
    "df_estadistica_meteo.drop('DATA_LECTURA', axis=1, inplace=True)"
   ]
  },
  {
   "cell_type": "code",
   "execution_count": 51,
   "id": "dc4c6a39",
   "metadata": {},
   "outputs": [
    {
     "name": "stdout",
     "output_type": "stream",
     "text": [
      "CPU times: user 11.4 ms, sys: 0 ns, total: 11.4 ms\n",
      "Wall time: 10.3 ms\n"
     ]
    }
   ],
   "source": [
    "%%time\n",
    "\n",
    "nans = get_features_nans(df_estadistica_meteo)\n",
    "\n",
    "zeros = get_features_zero(df_estadistica_meteo)"
   ]
  },
  {
   "cell_type": "code",
   "execution_count": 52,
   "id": "c060d639",
   "metadata": {},
   "outputs": [
    {
     "data": {
      "text/plain": [
       "{'VALOR_TM_D5': 0.061804697156983925,\n",
       " 'VALOR_HRM_D5': 0.061804697156983925,\n",
       " 'VALOR_RS24h_D5': 0.4326328800988875,\n",
       " 'VALOR_VVM10_D5': 0.3708281829419036,\n",
       " 'VALOR_DVM10_D5': 0.6180469715698393,\n",
       " 'VALOR_VVX10_D5': 0.4326328800988875,\n",
       " 'VALOR_DVVX10_D5': 0.30902348578491967,\n",
       " 'VALOR_HRX_D5': 22.558714462299136,\n",
       " 'VALOR_HRN_D5': 22.558714462299136,\n",
       " 'VALOR_PX_D5': 22.558714462299136,\n",
       " 'VALOR_PN_D5': 22.558714462299136,\n",
       " 'VALOR_HRX_X2': 22.558714462299136,\n",
       " 'VALOR_HRN_X2': 22.558714462299136,\n",
       " 'VALOR_PM_X2': 100.0,\n",
       " 'VALOR_PX_X2': 100.0,\n",
       " 'VALOR_PN_X2': 100.0,\n",
       " 'VALOR_PPT_X2': 100.0,\n",
       " 'VALOR_RS24h_X2': 100.0,\n",
       " 'VALOR_VVM10_X2': 100.0,\n",
       " 'VALOR_DVM10_X2': 100.0,\n",
       " 'VALOR_VVX10_X2': 100.0,\n",
       " 'VALOR_DVVX10_X2': 100.0,\n",
       " 'VALOR_VVM10_X4': 0.061804697156983925,\n",
       " 'VALOR_DVM10_X4': 0.061804697156983925,\n",
       " 'VALOR_HRX_X4': 22.558714462299136,\n",
       " 'VALOR_HRN_X4': 22.558714462299136,\n",
       " 'VALOR_PX_X4': 22.558714462299136,\n",
       " 'VALOR_PN_X4': 22.558714462299136,\n",
       " 'VALOR_HRX_X8': 22.558714462299136,\n",
       " 'VALOR_HRN_X8': 22.558714462299136,\n",
       " 'VALOR_PX_X8': 22.558714462299136,\n",
       " 'VALOR_PN_X8': 22.558714462299136}"
      ]
     },
     "execution_count": 52,
     "metadata": {},
     "output_type": "execute_result"
    }
   ],
   "source": [
    "nans"
   ]
  },
  {
   "cell_type": "code",
   "execution_count": 53,
   "id": "e81caaaf",
   "metadata": {},
   "outputs": [
    {
     "data": {
      "text/plain": [
       "{'VALOR_PPT_D5': 77.07045735475896,\n",
       " 'VALOR_DVM10_D5': 0.12360939431396785,\n",
       " 'VALOR_DVVX10_D5': 0.30902348578491967,\n",
       " 'VALOR_PPT_X4': 79.41903584672436,\n",
       " 'VALOR_DVM10_X4': 0.061804697156983925,\n",
       " 'VALOR_PPT_X8': 77.99752781211372}"
      ]
     },
     "execution_count": 53,
     "metadata": {},
     "output_type": "execute_result"
    }
   ],
   "source": [
    "zeros"
   ]
  },
  {
   "cell_type": "code",
   "execution_count": 54,
   "id": "c236e14c",
   "metadata": {},
   "outputs": [
    {
     "data": {
      "text/plain": [
       "array(['VALOR_PM_X2', 'VALOR_PX_X2', 'VALOR_PN_X2', 'VALOR_PPT_X2',\n",
       "       'VALOR_RS24h_X2', 'VALOR_VVM10_X2', 'VALOR_DVM10_X2',\n",
       "       'VALOR_VVX10_X2', 'VALOR_DVVX10_X2'], dtype=object)"
      ]
     },
     "execution_count": 54,
     "metadata": {},
     "output_type": "execute_result"
    }
   ],
   "source": [
    "nans = pd.Series(nans)\n",
    "\n",
    "nancolumns = nans[nans >= 90].index.values\n",
    "nancolumns"
   ]
  },
  {
   "cell_type": "code",
   "execution_count": 55,
   "id": "43f9af19",
   "metadata": {},
   "outputs": [],
   "source": [
    "df_estadistica_meteo.drop(columns=nancolumns,axis=1, inplace=True)"
   ]
  },
  {
   "cell_type": "code",
   "execution_count": 56,
   "id": "ba95117d",
   "metadata": {},
   "outputs": [
    {
     "data": {
      "text/plain": [
       "Index(['VALOR_TM_D5', 'VALOR_TX_D5', 'VALOR_TN_D5', 'VALOR_HRM_D5',\n",
       "       'VALOR_PPT_D5', 'VALOR_PM_D5', 'VALOR_RS24h_D5', 'VALOR_VVM10_D5',\n",
       "       'VALOR_DVM10_D5', 'VALOR_VVX10_D5', 'VALOR_DVVX10_D5', 'VALOR_HRX_D5',\n",
       "       'VALOR_HRN_D5', 'VALOR_PX_D5', 'VALOR_PN_D5', 'VALOR_TM_X2',\n",
       "       'VALOR_TX_X2', 'VALOR_TN_X2', 'VALOR_HRM_X2', 'VALOR_HRX_X2',\n",
       "       'VALOR_HRN_X2', 'VALOR_TM_X4', 'VALOR_TX_X4', 'VALOR_TN_X4',\n",
       "       'VALOR_HRM_X4', 'VALOR_PPT_X4', 'VALOR_PM_X4', 'VALOR_RS24h_X4',\n",
       "       'VALOR_VVM10_X4', 'VALOR_DVM10_X4', 'VALOR_VVX10_X4', 'VALOR_DVVX10_X4',\n",
       "       'VALOR_HRX_X4', 'VALOR_HRN_X4', 'VALOR_PX_X4', 'VALOR_PN_X4',\n",
       "       'VALOR_TM_X8', 'VALOR_TX_X8', 'VALOR_TN_X8', 'VALOR_HRM_X8',\n",
       "       'VALOR_PPT_X8', 'VALOR_PM_X8', 'VALOR_RS24h_X8', 'VALOR_VVM10_X8',\n",
       "       'VALOR_DVM10_X8', 'VALOR_VVX10_X8', 'VALOR_DVVX10_X8', 'VALOR_HRX_X8',\n",
       "       'VALOR_HRN_X8', 'VALOR_PX_X8', 'VALOR_PN_X8', 'year', 'month', 'day'],\n",
       "      dtype='object')"
      ]
     },
     "execution_count": 56,
     "metadata": {},
     "output_type": "execute_result"
    }
   ],
   "source": [
    "df_estadistica_meteo.columns"
   ]
  },
  {
   "cell_type": "code",
   "execution_count": 57,
   "id": "757f6fd9",
   "metadata": {},
   "outputs": [],
   "source": [
    "columns_meteo = ['VALOR_TN_X4','VALOR_TM_X4', 'VALOR_TX_X4', 'VALOR_PPT_X4', 'year', 'month', 'day']"
   ]
  },
  {
   "cell_type": "code",
   "execution_count": 58,
   "id": "4141aca9",
   "metadata": {},
   "outputs": [],
   "source": [
    "df_estadistica_meteo = df_estadistica_meteo.loc[:, columns_meteo]"
   ]
  },
  {
   "cell_type": "code",
   "execution_count": 59,
   "id": "73cc0759",
   "metadata": {},
   "outputs": [
    {
     "data": {
      "text/plain": [
       "Index(['VALOR_TN_X4', 'VALOR_TM_X4', 'VALOR_TX_X4', 'VALOR_PPT_X4', 'year',\n",
       "       'month', 'day'],\n",
       "      dtype='object')"
      ]
     },
     "execution_count": 59,
     "metadata": {},
     "output_type": "execute_result"
    }
   ],
   "source": [
    "df_estadistica_meteo.columns"
   ]
  },
  {
   "cell_type": "markdown",
   "id": "322d1915",
   "metadata": {},
   "source": [
    "# Split estaciones 2019 - 2022"
   ]
  },
  {
   "cell_type": "markdown",
   "id": "68a68a7f",
   "metadata": {},
   "source": [
    "## Part 1 \n",
    "\n",
    "Split by station existance from 2019 until 2022"
   ]
  },
  {
   "cell_type": "code",
   "execution_count": 60,
   "id": "6f824fd7",
   "metadata": {},
   "outputs": [
    {
     "data": {
      "text/plain": [
       "{'tcp://127.0.0.1:33793': 1,\n",
       " 'tcp://127.0.0.1:33985': 1,\n",
       " 'tcp://127.0.0.1:34091': 1,\n",
       " 'tcp://127.0.0.1:41537': 1,\n",
       " 'tcp://127.0.0.1:46321': 1}"
      ]
     },
     "execution_count": 60,
     "metadata": {},
     "output_type": "execute_result"
    }
   ],
   "source": [
    "client.run(trim_memory)"
   ]
  },
  {
   "cell_type": "code",
   "execution_count": 61,
   "id": "58c27387",
   "metadata": {
    "scrolled": true
   },
   "outputs": [
    {
     "name": "stdout",
     "output_type": "stream",
     "text": [
      "CPU times: user 2.16 ms, sys: 381 µs, total: 2.54 ms\n",
      "Wall time: 2.45 ms\n"
     ]
    }
   ],
   "source": [
    "%%time\n",
    "\n",
    "bbdd_completa_19_22 = bbdd_completa[bbdd_completa.year.isin([2019, 2020, 2021, 2022])]"
   ]
  },
  {
   "cell_type": "code",
   "execution_count": 62,
   "id": "2f0a78fb",
   "metadata": {
    "scrolled": true
   },
   "outputs": [
    {
     "name": "stdout",
     "output_type": "stream",
     "text": [
      "year\n",
      "2019    [1, 320, 319, 318, 317, 316, 315, 314, 313, 31...\n",
      "2020    [1, 301, 300, 299, 14, 298, 297, 296, 295, 294...\n",
      "2021    [1, 271, 400, 510, 26, 270, 269, 401, 268, 267...\n",
      "2022    [1, 380, 28, 379, 378, 377, 376, 375, 29, 374,...\n",
      "Name: station_id, dtype: object\n",
      "CPU times: user 2.97 s, sys: 263 ms, total: 3.24 s\n",
      "Wall time: 15.1 s\n"
     ]
    }
   ],
   "source": [
    "%%time\n",
    "\n",
    "unique_ids_by_year = bbdd_completa_19_22.groupby('year')['station_id'].unique().compute()\n",
    "print(unique_ids_by_year)"
   ]
  },
  {
   "cell_type": "code",
   "execution_count": 63,
   "id": "c9865fd4",
   "metadata": {},
   "outputs": [
    {
     "name": "stdout",
     "output_type": "stream",
     "text": [
      "2019 (410,)\n",
      "2020 (508,)\n",
      "2021 (509,)\n",
      "2022 (510,)\n",
      "total: 408\n"
     ]
    }
   ],
   "source": [
    "# Calcula los station_id comunes en todos los años\n",
    "common_ids = set(unique_ids_by_year[2019])\n",
    "for year, ids in unique_ids_by_year.items():\n",
    "    print(year, ids.shape)\n",
    "    common_ids = common_ids.intersection(set(ids))\n",
    "# common_ids\n",
    "print('total:',len(common_ids))"
   ]
  },
  {
   "cell_type": "code",
   "execution_count": 64,
   "id": "9bb976d6",
   "metadata": {
    "scrolled": true
   },
   "outputs": [],
   "source": [
    "filtered_bbdd = bbdd_completa_19_22[bbdd_completa_19_22['station_id'].isin(common_ids)]\n",
    "nonfiltered_bbdd = bbdd_completa_19_22[~bbdd_completa_19_22['station_id'].isin(common_ids)]"
   ]
  },
  {
   "cell_type": "code",
   "execution_count": 65,
   "id": "4b8a4c8c",
   "metadata": {},
   "outputs": [],
   "source": [
    "bbdd_completa_19_22 = None"
   ]
  },
  {
   "cell_type": "markdown",
   "id": "f2d9caf3",
   "metadata": {},
   "source": [
    "# Convert to Pandas "
   ]
  },
  {
   "cell_type": "code",
   "execution_count": 66,
   "id": "0b80f614",
   "metadata": {},
   "outputs": [
    {
     "name": "stdout",
     "output_type": "stream",
     "text": [
      "CPU times: user 4.77 s, sys: 3.2 s, total: 7.98 s\n",
      "Wall time: 20.1 s\n"
     ]
    }
   ],
   "source": [
    "%%time \n",
    "\n",
    "X_train = filtered_bbdd.compute().copy()"
   ]
  },
  {
   "cell_type": "code",
   "execution_count": 67,
   "id": "0bd42a61",
   "metadata": {},
   "outputs": [
    {
     "name": "stdout",
     "output_type": "stream",
     "text": [
      "CPU times: user 3.26 s, sys: 799 ms, total: 4.06 s\n",
      "Wall time: 15.9 s\n"
     ]
    }
   ],
   "source": [
    "%%time \n",
    "\n",
    "X_val = nonfiltered_bbdd.compute().copy()"
   ]
  },
  {
   "cell_type": "code",
   "execution_count": 68,
   "id": "42101a2c",
   "metadata": {},
   "outputs": [
    {
     "name": "stdout",
     "output_type": "stream",
     "text": [
      "CPU times: user 3.12 s, sys: 640 ms, total: 3.76 s\n",
      "Wall time: 14.8 s\n"
     ]
    }
   ],
   "source": [
    "%%time\n",
    "\n",
    "X_test = bbdd_completa[bbdd_completa.year.isin([2023])].compute().copy()"
   ]
  },
  {
   "cell_type": "markdown",
   "id": "21cfd57c",
   "metadata": {},
   "source": [
    "## Shutdown DASK dist client"
   ]
  },
  {
   "cell_type": "code",
   "execution_count": 69,
   "id": "0f64af88",
   "metadata": {
    "scrolled": false
   },
   "outputs": [
    {
     "data": {
      "text/plain": [
       "{'tcp://127.0.0.1:33793': 1,\n",
       " 'tcp://127.0.0.1:33985': 1,\n",
       " 'tcp://127.0.0.1:34091': 1,\n",
       " 'tcp://127.0.0.1:41537': 1,\n",
       " 'tcp://127.0.0.1:46321': 1}"
      ]
     },
     "execution_count": 69,
     "metadata": {},
     "output_type": "execute_result"
    }
   ],
   "source": [
    "client.run(trim_memory)"
   ]
  },
  {
   "cell_type": "code",
   "execution_count": 70,
   "id": "725577c1",
   "metadata": {},
   "outputs": [],
   "source": [
    "client.shutdown()"
   ]
  },
  {
   "cell_type": "markdown",
   "id": "238eed64",
   "metadata": {},
   "source": [
    "# Merge additional data"
   ]
  },
  {
   "cell_type": "markdown",
   "id": "39275905",
   "metadata": {},
   "source": [
    "### Merge with data geo"
   ]
  },
  {
   "cell_type": "code",
   "execution_count": 71,
   "id": "49176540",
   "metadata": {},
   "outputs": [],
   "source": [
    "\n",
    "X_train = pd.merge(X_train, df_geo_informacio, on=['station_id'], how='left')\n",
    "X_val = pd.merge(X_val, df_geo_informacio, on=['station_id'], how='left')\n",
    "X_test = pd.merge(X_test, df_geo_informacio, on=['station_id'], how='left')\n"
   ]
  },
  {
   "cell_type": "markdown",
   "id": "19eefa16",
   "metadata": {},
   "source": [
    "### Merge with data festius"
   ]
  },
  {
   "cell_type": "code",
   "execution_count": 72,
   "id": "6699dce0",
   "metadata": {},
   "outputs": [],
   "source": [
    "\n",
    "X_train = pd.merge(X_train, df_calendari_festius, on=['year', 'month', 'day'], how='left')\n",
    "X_val = pd.merge(X_val, df_calendari_festius, on=['year', 'month', 'day'], how='left')\n",
    "X_test = pd.merge(X_test, df_calendari_festius, on=['year', 'month', 'day'], how='left')\n"
   ]
  },
  {
   "cell_type": "markdown",
   "id": "f8011e71",
   "metadata": {},
   "source": [
    "### Merge with data meteo"
   ]
  },
  {
   "cell_type": "code",
   "execution_count": 73,
   "id": "f58eedf9",
   "metadata": {},
   "outputs": [],
   "source": [
    "\n",
    "X_train = pd.merge(X_train, df_estadistica_meteo, on=['year', 'month', 'day'], how='left')\n",
    "X_val = pd.merge(X_val, df_estadistica_meteo, on=['year', 'month', 'day'], how='left')\n",
    "X_test = pd.merge(X_test, df_estadistica_meteo, on=['year', 'month', 'day'], how='left')\n"
   ]
  },
  {
   "cell_type": "markdown",
   "id": "61e3fe15",
   "metadata": {},
   "source": [
    "# Final Cleaning & preprocessing"
   ]
  },
  {
   "cell_type": "code",
   "execution_count": 75,
   "id": "6949d318",
   "metadata": {
    "scrolled": false
   },
   "outputs": [
    {
     "data": {
      "text/plain": [
       "Index(['station_id', 'num_docks_available', 'num_bikes_available', 'timestamp',\n",
       "       'num_bikes_available_types.mechanical',\n",
       "       'num_bikes_available_types.ebike', 'year', 'month', 'dayofweek', 'day',\n",
       "       'dayofyear', 'hour', 'capacity', 'ctx0', 'ctx1', 'ctx2', 'ctx3', 'ctx4',\n",
       "       'lon', 'lat', 'festius', 'festius_sun', 'festius_sun_sat', 'weekend',\n",
       "       'VALOR_TN_X4', 'VALOR_TM_X4', 'VALOR_TX_X4', 'VALOR_PPT_X4'],\n",
       "      dtype='object')"
      ]
     },
     "execution_count": 75,
     "metadata": {},
     "output_type": "execute_result"
    }
   ],
   "source": [
    "X_train.columns"
   ]
  },
  {
   "cell_type": "code",
   "execution_count": 76,
   "id": "c36e357d",
   "metadata": {},
   "outputs": [],
   "source": [
    "X_test.festius.fillna(0, inplace=True)\n",
    "X_test.festius_sun.fillna(0, inplace=True)\n",
    "X_test.festius_sun_sat.fillna(0, inplace=True)\n",
    "X_test.weekend.fillna(0, inplace=True)\n",
    "\n",
    "X_test.loc[X_test.dayofweek.isin([5,6]),'weekend'] = 1\n",
    "X_test.loc[X_test.dayofweek.isin([5,6]),'festius_sun_sat'] = 1\n",
    "X_test.loc[X_test.dayofweek.isin([6]),'festius_sun'] = 1\n"
   ]
  },
  {
   "cell_type": "code",
   "execution_count": 77,
   "id": "bf3080c4",
   "metadata": {},
   "outputs": [
    {
     "name": "stdout",
     "output_type": "stream",
     "text": [
      "CPU times: user 1.53 s, sys: 45 ms, total: 1.57 s\n",
      "Wall time: 1.56 s\n"
     ]
    }
   ],
   "source": [
    "%%time\n",
    "\n",
    "nans = get_features_nans(X_test)\n",
    "\n",
    "zeros = get_features_zero(X_test)"
   ]
  },
  {
   "cell_type": "code",
   "execution_count": 78,
   "id": "c4c8bc52",
   "metadata": {},
   "outputs": [
    {
     "data": {
      "text/plain": [
       "{'lon': 0.025519758318436964, 'lat': 0.025519758318436964}"
      ]
     },
     "execution_count": 78,
     "metadata": {},
     "output_type": "execute_result"
    }
   ],
   "source": [
    "nans"
   ]
  },
  {
   "cell_type": "code",
   "execution_count": 79,
   "id": "02da4659",
   "metadata": {
    "scrolled": true
   },
   "outputs": [
    {
     "data": {
      "text/plain": [
       "{'num_docks_available': 0.5337292046460137,\n",
       " 'num_bikes_available': 1.5606041093899714,\n",
       " 'num_bikes_available_types.mechanical': 15.803228485721341,\n",
       " 'num_bikes_available_types.ebike': 11.221191323754761,\n",
       " 'dayofweek': 14.184909552541756,\n",
       " 'hour': 4.079912287645484,\n",
       " 'ctx0': 0.5337292046460137,\n",
       " 'ctx1': 0.5338473516752658,\n",
       " 'ctx2': 0.5359739982018022,\n",
       " 'ctx3': 0.5386323063599727,\n",
       " 'ctx4': 0.540640805857257,\n",
       " 'festius': 98.01229437986396,\n",
       " 'festius_sun': 86.1954057346205,\n",
       " 'festius_sun_sat': 61.13931543248311,\n",
       " 'weekend': 74.54339126869824,\n",
       " 'VALOR_PPT_X4': 77.99334359637194}"
      ]
     },
     "execution_count": 79,
     "metadata": {},
     "output_type": "execute_result"
    }
   ],
   "source": [
    "zeros"
   ]
  },
  {
   "cell_type": "code",
   "execution_count": 80,
   "id": "fba837df",
   "metadata": {},
   "outputs": [
    {
     "name": "stdout",
     "output_type": "stream",
     "text": [
      "CPU times: user 16.5 s, sys: 2.1 s, total: 18.6 s\n",
      "Wall time: 18.5 s\n"
     ]
    }
   ],
   "source": [
    "%%time\n",
    "\n",
    "nans = get_features_nans(pd.concat([X_train, X_val, X_test]))\n",
    "\n",
    "zeros = get_features_zero(pd.concat([X_train, X_val, X_test]))"
   ]
  },
  {
   "cell_type": "code",
   "execution_count": 81,
   "id": "0a85c879",
   "metadata": {},
   "outputs": [
    {
     "data": {
      "text/plain": [
       "{'lon': 0.1315938098758266, 'lat': 0.1315938098758266}"
      ]
     },
     "execution_count": 81,
     "metadata": {},
     "output_type": "execute_result"
    }
   ],
   "source": [
    "nans"
   ]
  },
  {
   "cell_type": "code",
   "execution_count": 82,
   "id": "f5e2b37c",
   "metadata": {
    "scrolled": true
   },
   "outputs": [
    {
     "data": {
      "text/plain": [
       "{'num_docks_available': 1.012900496417594,\n",
       " 'num_bikes_available': 3.302339292199764,\n",
       " 'num_bikes_available_types.mechanical': 13.076371883592214,\n",
       " 'num_bikes_available_types.ebike': 27.448090369657702,\n",
       " 'dayofweek': 14.281740312349964,\n",
       " 'hour': 4.139720961254545,\n",
       " 'ctx0': 1.012900496417594,\n",
       " 'ctx1': 1.0131051251427432,\n",
       " 'ctx2': 1.0145141400787692,\n",
       " 'ctx3': 1.0162681005800465,\n",
       " 'ctx4': 1.0171158481556637,\n",
       " 'festius': 96.17766403798657,\n",
       " 'festius_sun': 82.25607612843388,\n",
       " 'festius_sun_sat': 54.95135449015057,\n",
       " 'weekend': 71.80626594203933,\n",
       " 'VALOR_PPT_X4': 79.53867097034006}"
      ]
     },
     "execution_count": 82,
     "metadata": {},
     "output_type": "execute_result"
    }
   ],
   "source": [
    "zeros"
   ]
  },
  {
   "cell_type": "markdown",
   "id": "9029af4a",
   "metadata": {},
   "source": [
    "## Feature extraction"
   ]
  },
  {
   "cell_type": "code",
   "execution_count": 84,
   "id": "0b523f33",
   "metadata": {},
   "outputs": [
    {
     "name": "stdout",
     "output_type": "stream",
     "text": [
      "ctx1_ctx2\n",
      "ctx1_ctx2_ctx3\n",
      "ctx1_ctx2_ctx3_ctx4\n"
     ]
    }
   ],
   "source": [
    "columns = ['ctx1', 'ctx2', 'ctx3', 'ctx4']\n",
    "combination = [columns[:i] for i in range(2,len(columns)+1)]\n",
    "\n",
    "for comb in combination:\n",
    "    suffix = '_'.join(comb)\n",
    "    print(suffix)\n",
    "    X_train[f'{suffix}_mean'] = X_train[comb].mean(axis=1)\n",
    "    X_train[f'{suffix}_std'] = X_train[comb].std(axis=1)\n",
    "    \n",
    "    X_val[f'{suffix}_mean'] = X_val[comb].mean(axis=1)\n",
    "    X_val[f'{suffix}_std'] = X_val[comb].std(axis=1)\n",
    "    \n",
    "    X_test[f'{suffix}_mean'] = X_test[comb].mean(axis=1)\n",
    "    X_test[f'{suffix}_std'] = X_test[comb].std(axis=1)\n",
    "    "
   ]
  },
  {
   "cell_type": "markdown",
   "id": "6bedfbfc",
   "metadata": {},
   "source": [
    "# Save prepared data to a file "
   ]
  },
  {
   "cell_type": "code",
   "execution_count": 85,
   "id": "b3a13c19",
   "metadata": {},
   "outputs": [
    {
     "name": "stdout",
     "output_type": "stream",
     "text": [
      "CPU times: user 3min 36s, sys: 3.02 s, total: 3min 39s\n",
      "Wall time: 3min 38s\n"
     ]
    }
   ],
   "source": [
    "%%time\n",
    "\n",
    "X_train.to_csv('dades/processed/training_data.csv', header=True, index=True, index_label='index')"
   ]
  },
  {
   "cell_type": "code",
   "execution_count": 86,
   "id": "0ce2cccb",
   "metadata": {},
   "outputs": [
    {
     "name": "stdout",
     "output_type": "stream",
     "text": [
      "CPU times: user 35.7 s, sys: 620 ms, total: 36.3 s\n",
      "Wall time: 36.3 s\n"
     ]
    }
   ],
   "source": [
    "%%time \n",
    "\n",
    "X_val.to_csv('dades/processed/validation_data.csv', header=True, index=True, index_label='index')"
   ]
  },
  {
   "cell_type": "code",
   "execution_count": 87,
   "id": "ffe8ac14",
   "metadata": {},
   "outputs": [
    {
     "name": "stdout",
     "output_type": "stream",
     "text": [
      "CPU times: user 28.9 s, sys: 540 ms, total: 29.4 s\n",
      "Wall time: 29.6 s\n"
     ]
    }
   ],
   "source": [
    "%%time \n",
    "\n",
    "X_test.to_csv('dades/processed/testing_data.csv', header=True, index=True, index_label='index')"
   ]
  },
  {
   "cell_type": "code",
   "execution_count": 95,
   "id": "fd37d795",
   "metadata": {},
   "outputs": [],
   "source": [
    "y_train = X_train.ctx0.copy()\n",
    "y_val = X_val.ctx0.copy()\n",
    "y_test = X_test.ctx0.copy()"
   ]
  },
  {
   "cell_type": "markdown",
   "id": "9cbc6d98",
   "metadata": {},
   "source": [
    "# View"
   ]
  },
  {
   "cell_type": "code",
   "execution_count": 177,
   "id": "d929eba4",
   "metadata": {},
   "outputs": [
    {
     "data": {
      "text/plain": [
       "[2019, 2020, 2021, 2022]"
      ]
     },
     "execution_count": 177,
     "metadata": {},
     "output_type": "execute_result"
    }
   ],
   "source": [
    "years = X_train.year.unique().tolist()\n",
    "years"
   ]
  },
  {
   "cell_type": "code",
   "execution_count": 178,
   "id": "228dcd0a",
   "metadata": {},
   "outputs": [
    {
     "data": {
      "text/plain": [
       "[1, 2, 3, 4, 5, 6, 7, 8, 9, 10, 11, 12]"
      ]
     },
     "execution_count": 178,
     "metadata": {},
     "output_type": "execute_result"
    }
   ],
   "source": [
    "months = X_train.month.unique().tolist()\n",
    "months"
   ]
  },
  {
   "cell_type": "markdown",
   "id": "da9dfc01",
   "metadata": {},
   "source": [
    "# Run pipeline"
   ]
  },
  {
   "cell_type": "code",
   "execution_count": 90,
   "id": "91669e7f",
   "metadata": {},
   "outputs": [],
   "source": [
    "from sklearn.model_selection import train_test_split\n",
    "from sklearn.pipeline import Pipeline\n",
    "from sklearn.preprocessing import FunctionTransformer\n",
    "from sklearn.impute import SimpleImputer\n",
    "from sklearn.preprocessing import OneHotEncoder\n",
    "from sklearn.preprocessing import OrdinalEncoder\n",
    "from sklearn.model_selection import cross_val_score\n",
    "\n",
    "from sklearn.compose import ColumnTransformer\n",
    "from sklearn.preprocessing import StandardScaler\n",
    "\n",
    "from sklearn import neighbors\n",
    "from sklearn import linear_model\n",
    "from sklearn.linear_model import LinearRegression\n",
    "from sklearn.ensemble import GradientBoostingRegressor\n",
    "from sklearn.ensemble import RandomForestRegressor\n",
    "\n",
    "from sklearn.model_selection import GridSearchCV\n",
    "from sklearn.model_selection import validation_curve\n",
    "\n",
    "from sklearn.metrics import mean_squared_error, r2_score\n",
    "from sklearn.metrics import mean_absolute_error"
   ]
  },
  {
   "cell_type": "code",
   "execution_count": 160,
   "id": "5a306039",
   "metadata": {},
   "outputs": [
    {
     "data": {
      "text/plain": [
       "(Index(['station_id', 'num_docks_available', 'num_bikes_available', 'timestamp',\n",
       "        'num_bikes_available_types.mechanical',\n",
       "        'num_bikes_available_types.ebike', 'year', 'month', 'dayofweek', 'day',\n",
       "        'dayofyear', 'hour', 'capacity', 'ctx0', 'ctx1', 'ctx2', 'ctx3', 'ctx4',\n",
       "        'lon', 'lat', 'festius', 'festius_sun', 'festius_sun_sat', 'weekend',\n",
       "        'VALOR_TN_X4', 'VALOR_TM_X4', 'VALOR_TX_X4', 'VALOR_PPT_X4',\n",
       "        'ctx1_ctx2_mean', 'ctx1_ctx2_std', 'ctx1_ctx2_ctx3_mean',\n",
       "        'ctx1_ctx2_ctx3_std', 'ctx1_ctx2_ctx3_ctx4_mean',\n",
       "        'ctx1_ctx2_ctx3_ctx4_std'],\n",
       "       dtype='object'),\n",
       " (34,))"
      ]
     },
     "execution_count": 160,
     "metadata": {},
     "output_type": "execute_result"
    }
   ],
   "source": [
    "X_train.columns, X_train.columns.shape"
   ]
  },
  {
   "cell_type": "code",
   "execution_count": 167,
   "id": "967c438d",
   "metadata": {},
   "outputs": [
    {
     "name": "stdout",
     "output_type": "stream",
     "text": [
      "CPU times: user 27.1 s, sys: 3.13 s, total: 30.3 s\n",
      "Wall time: 30.3 s\n"
     ]
    },
    {
     "data": {
      "text/plain": [
       "{'ctx0': 1.0,\n",
       " 'ctx1': 0.9129730514796786,\n",
       " 'num_docks_available': 0.9055683555185408,\n",
       " 'num_bikes_available': 0.8893401764262853,\n",
       " 'ctx1_ctx2_mean': 0.8749838959980546,\n",
       " 'num_bikes_available_types.mechanical': 0.8419660611344777,\n",
       " 'ctx1_ctx2_ctx3_mean': 0.8385814221879833,\n",
       " 'ctx1_ctx2_ctx3_ctx4_mean': 0.8038040173697455,\n",
       " 'ctx2': 0.798489435958584,\n",
       " 'ctx3': 0.6970754741833134,\n",
       " 'ctx4': 0.6062960341913912,\n",
       " 'lon': 0.263030547218921,\n",
       " 'num_bikes_available_types.ebike': 0.2176339648798674,\n",
       " 'ctx1_ctx2_ctx3_ctx4_std': 0.12158394131660641,\n",
       " 'ctx1_ctx2_ctx3_std': 0.1095952719694649,\n",
       " 'ctx1_ctx2_std': 0.09072430957769924,\n",
       " 'lat': 0.07074776190628096,\n",
       " 'station_id': 0.06967142131249375,\n",
       " 'timestamp': 0.061366489615208346,\n",
       " 'year': 0.051252756351171845,\n",
       " 'dayofyear': 0.04284937914584141,\n",
       " 'month': 0.042743878873176405,\n",
       " 'hour': 0.02565808047205957,\n",
       " 'weekend': 0.019847936776268647,\n",
       " 'VALOR_TM_X4': 0.018843062466437126,\n",
       " 'VALOR_TN_X4': 0.0183309405258427,\n",
       " 'VALOR_TX_X4': 0.017481569929004268,\n",
       " 'dayofweek': 0.016400115218987096,\n",
       " 'festius_sun_sat': 0.015699847602472793,\n",
       " 'festius_sun': 0.014513830749086876,\n",
       " 'festius': 0.00571460332561782,\n",
       " 'VALOR_PPT_X4': 0.003377044665851095,\n",
       " 'day': 0.00200156855739634,\n",
       " 'capacity': 0.0018772749183922036}"
      ]
     },
     "execution_count": 167,
     "metadata": {},
     "output_type": "execute_result"
    }
   ],
   "source": [
    "%%time \n",
    "\n",
    "columns = X_train.columns#[['VALOR' not in i for i in X_train.columns]].to_list()\n",
    "\n",
    "correlations = np.abs(\n",
    "    X_train[columns].corr(method='pearson').ctx0\n",
    ").sort_values(ascending=False)\n",
    "\n",
    "correlations.to_dict()"
   ]
  },
  {
   "cell_type": "code",
   "execution_count": 168,
   "id": "209e8d69",
   "metadata": {},
   "outputs": [
    {
     "name": "stdout",
     "output_type": "stream",
     "text": [
      "10\n",
      "4\n",
      "5\n",
      "2\n",
      "2\n"
     ]
    }
   ],
   "source": [
    "columns_ctx = X_train.columns[['ctx' in i for i in X_train.columns]].to_list()\n",
    "columns_ctx.remove('ctx0')\n",
    "print(len(columns_ctx))\n",
    "\n",
    "columns_meteo = ['VALOR_TN_X4','VALOR_TM_X4', 'VALOR_TX_X4', 'VALOR_PPT_X4']\n",
    "print(len(columns_meteo))\n",
    "\n",
    "columns_time = ['month', 'dayofyear', 'hour', 'dayofweek', 'day'] \n",
    "print(len(columns_time))\n",
    "\n",
    "columns_location = ['lon', 'lat']\n",
    "print(len(columns_location))\n",
    "\n",
    "columns_festius = ['festius_sun', 'weekend']\n",
    "print(len(columns_festius))\n"
   ]
  },
  {
   "cell_type": "code",
   "execution_count": 169,
   "id": "cd5c3f49",
   "metadata": {},
   "outputs": [],
   "source": [
    "class Config:\n",
    "    num_attribs0 = ['capacity'] + columns_ctx + columns_meteo\n",
    "    cat_attribs0 = columns_time\n",
    "    cat_attribs1 = ['']\n",
    "    gen_attribs0 = ['station_id'] + columns_festius + columns_location\n",
    "    target_col = ['ctx0']\n",
    "    \n",
    "    seed=42\n",
    "    \n",
    "def seed_everything(seed=42):\n",
    "    random.seed(seed)\n",
    "    os.environ['PYTHONHASHSEED'] = str(seed)\n",
    "    np.random.seed(seed)\n",
    "    "
   ]
  },
  {
   "cell_type": "code",
   "execution_count": 170,
   "id": "8ae5e1ec",
   "metadata": {},
   "outputs": [],
   "source": [
    "config=Config()\n",
    "seed_everything(config.seed)"
   ]
  },
  {
   "cell_type": "code",
   "execution_count": 171,
   "id": "f3570890",
   "metadata": {},
   "outputs": [],
   "source": [
    "\n",
    "def build_preprocessor(config):\n",
    "    num_attribs0 = config.num_attribs0\n",
    "    cat_attribs0 = config.cat_attribs0\n",
    "    cat_attribs1 = config.cat_attribs1\n",
    "    gen_attribs0 = config.gen_attribs0\n",
    "\n",
    "    num_transformer0 = Pipeline(steps=[\n",
    "        (\"imputer\", SimpleImputer(strategy=\"mean\")),\n",
    "        ('std_scaler', (StandardScaler())),\n",
    "    ])\n",
    "\n",
    "    categorical_transformer0 = Pipeline(steps=[\n",
    "        (\"imputer\", SimpleImputer(strategy=\"constant\",fill_value=0)),\n",
    "        ('ordinal_encoder', (OrdinalEncoder(handle_unknown='use_encoded_value', unknown_value=np.nan))),\n",
    "    ])\n",
    "    \n",
    "    categorical_transformer1 = Pipeline(steps=[\n",
    "        (\"imputer\", SimpleImputer(strategy=\"constant\",fill_value=0)),\n",
    "        ('one_hot_encoder', (OneHotEncoder(handle_unknown='ignore'))),\n",
    "    ])\n",
    "    \n",
    "    generic_transformer0 = Pipeline([\n",
    "        (\"imputer\", SimpleImputer(strategy=\"constant\",fill_value=0)),\n",
    "    ])\n",
    "    \n",
    "    preprocessor = ColumnTransformer(\n",
    "        transformers=[\n",
    "            (\"num0\", num_transformer0, num_attribs0),\n",
    "            (\"gen1\", generic_transformer0, gen_attribs0),\n",
    "            (\"cat0\", categorical_transformer0, cat_attribs0),\n",
    "#             (\"cat1\", categorical_transformer1, cat_attribs1),\n",
    "        ],\n",
    "        remainder=\"drop\"\n",
    "    )\n",
    "    \n",
    "    return preprocessor"
   ]
  },
  {
   "cell_type": "code",
   "execution_count": 172,
   "id": "4f771f4d",
   "metadata": {},
   "outputs": [
    {
     "name": "stdout",
     "output_type": "stream",
     "text": [
      "CPU times: user 190 µs, sys: 27 µs, total: 217 µs\n",
      "Wall time: 2.06 ms\n"
     ]
    }
   ],
   "source": [
    "%%time \n",
    "\n",
    "full_pipeline = build_preprocessor(config)"
   ]
  },
  {
   "cell_type": "code",
   "execution_count": 173,
   "id": "c68c3626",
   "metadata": {},
   "outputs": [
    {
     "data": {
      "text/html": [
       "<style>#sk-container-id-2 {color: black;background-color: white;}#sk-container-id-2 pre{padding: 0;}#sk-container-id-2 div.sk-toggleable {background-color: white;}#sk-container-id-2 label.sk-toggleable__label {cursor: pointer;display: block;width: 100%;margin-bottom: 0;padding: 0.3em;box-sizing: border-box;text-align: center;}#sk-container-id-2 label.sk-toggleable__label-arrow:before {content: \"▸\";float: left;margin-right: 0.25em;color: #696969;}#sk-container-id-2 label.sk-toggleable__label-arrow:hover:before {color: black;}#sk-container-id-2 div.sk-estimator:hover label.sk-toggleable__label-arrow:before {color: black;}#sk-container-id-2 div.sk-toggleable__content {max-height: 0;max-width: 0;overflow: hidden;text-align: left;background-color: #f0f8ff;}#sk-container-id-2 div.sk-toggleable__content pre {margin: 0.2em;color: black;border-radius: 0.25em;background-color: #f0f8ff;}#sk-container-id-2 input.sk-toggleable__control:checked~div.sk-toggleable__content {max-height: 200px;max-width: 100%;overflow: auto;}#sk-container-id-2 input.sk-toggleable__control:checked~label.sk-toggleable__label-arrow:before {content: \"▾\";}#sk-container-id-2 div.sk-estimator input.sk-toggleable__control:checked~label.sk-toggleable__label {background-color: #d4ebff;}#sk-container-id-2 div.sk-label input.sk-toggleable__control:checked~label.sk-toggleable__label {background-color: #d4ebff;}#sk-container-id-2 input.sk-hidden--visually {border: 0;clip: rect(1px 1px 1px 1px);clip: rect(1px, 1px, 1px, 1px);height: 1px;margin: -1px;overflow: hidden;padding: 0;position: absolute;width: 1px;}#sk-container-id-2 div.sk-estimator {font-family: monospace;background-color: #f0f8ff;border: 1px dotted black;border-radius: 0.25em;box-sizing: border-box;margin-bottom: 0.5em;}#sk-container-id-2 div.sk-estimator:hover {background-color: #d4ebff;}#sk-container-id-2 div.sk-parallel-item::after {content: \"\";width: 100%;border-bottom: 1px solid gray;flex-grow: 1;}#sk-container-id-2 div.sk-label:hover label.sk-toggleable__label {background-color: #d4ebff;}#sk-container-id-2 div.sk-serial::before {content: \"\";position: absolute;border-left: 1px solid gray;box-sizing: border-box;top: 0;bottom: 0;left: 50%;z-index: 0;}#sk-container-id-2 div.sk-serial {display: flex;flex-direction: column;align-items: center;background-color: white;padding-right: 0.2em;padding-left: 0.2em;position: relative;}#sk-container-id-2 div.sk-item {position: relative;z-index: 1;}#sk-container-id-2 div.sk-parallel {display: flex;align-items: stretch;justify-content: center;background-color: white;position: relative;}#sk-container-id-2 div.sk-item::before, #sk-container-id-2 div.sk-parallel-item::before {content: \"\";position: absolute;border-left: 1px solid gray;box-sizing: border-box;top: 0;bottom: 0;left: 50%;z-index: -1;}#sk-container-id-2 div.sk-parallel-item {display: flex;flex-direction: column;z-index: 1;position: relative;background-color: white;}#sk-container-id-2 div.sk-parallel-item:first-child::after {align-self: flex-end;width: 50%;}#sk-container-id-2 div.sk-parallel-item:last-child::after {align-self: flex-start;width: 50%;}#sk-container-id-2 div.sk-parallel-item:only-child::after {width: 0;}#sk-container-id-2 div.sk-dashed-wrapped {border: 1px dashed gray;margin: 0 0.4em 0.5em 0.4em;box-sizing: border-box;padding-bottom: 0.4em;background-color: white;}#sk-container-id-2 div.sk-label label {font-family: monospace;font-weight: bold;display: inline-block;line-height: 1.2em;}#sk-container-id-2 div.sk-label-container {text-align: center;}#sk-container-id-2 div.sk-container {/* jupyter's `normalize.less` sets `[hidden] { display: none; }` but bootstrap.min.css set `[hidden] { display: none !important; }` so we also need the `!important` here to be able to override the default hidden behavior on the sphinx rendered scikit-learn.org. See: https://github.com/scikit-learn/scikit-learn/issues/21755 */display: inline-block !important;position: relative;}#sk-container-id-2 div.sk-text-repr-fallback {display: none;}</style><div id=\"sk-container-id-2\" class=\"sk-top-container\"><div class=\"sk-text-repr-fallback\"><pre>ColumnTransformer(transformers=[(&#x27;num0&#x27;,\n",
       "                                 Pipeline(steps=[(&#x27;imputer&#x27;, SimpleImputer()),\n",
       "                                                 (&#x27;std_scaler&#x27;,\n",
       "                                                  StandardScaler())]),\n",
       "                                 [&#x27;capacity&#x27;, &#x27;ctx1&#x27;, &#x27;ctx2&#x27;, &#x27;ctx3&#x27;, &#x27;ctx4&#x27;,\n",
       "                                  &#x27;ctx1_ctx2_mean&#x27;, &#x27;ctx1_ctx2_std&#x27;,\n",
       "                                  &#x27;ctx1_ctx2_ctx3_mean&#x27;, &#x27;ctx1_ctx2_ctx3_std&#x27;,\n",
       "                                  &#x27;ctx1_ctx2_ctx3_ctx4_mean&#x27;,\n",
       "                                  &#x27;ctx1_ctx2_ctx3_ctx4_std&#x27;, &#x27;VALOR_TN_X4&#x27;,\n",
       "                                  &#x27;VALOR_TM_X4&#x27;, &#x27;VALOR_TX_X4&#x27;,\n",
       "                                  &#x27;VALOR_PPT_X4&#x27;]),\n",
       "                                (&#x27;ge...\n",
       "                                 Pipeline(steps=[(&#x27;imputer&#x27;,\n",
       "                                                  SimpleImputer(fill_value=0,\n",
       "                                                                strategy=&#x27;constant&#x27;))]),\n",
       "                                 [&#x27;station_id&#x27;, &#x27;festius_sun&#x27;, &#x27;weekend&#x27;, &#x27;lon&#x27;,\n",
       "                                  &#x27;lat&#x27;]),\n",
       "                                (&#x27;cat0&#x27;,\n",
       "                                 Pipeline(steps=[(&#x27;imputer&#x27;,\n",
       "                                                  SimpleImputer(fill_value=0,\n",
       "                                                                strategy=&#x27;constant&#x27;)),\n",
       "                                                 (&#x27;ordinal_encoder&#x27;,\n",
       "                                                  OrdinalEncoder(handle_unknown=&#x27;use_encoded_value&#x27;,\n",
       "                                                                 unknown_value=nan))]),\n",
       "                                 [&#x27;month&#x27;, &#x27;dayofyear&#x27;, &#x27;hour&#x27;, &#x27;dayofweek&#x27;,\n",
       "                                  &#x27;day&#x27;])])</pre><b>In a Jupyter environment, please rerun this cell to show the HTML representation or trust the notebook. <br />On GitHub, the HTML representation is unable to render, please try loading this page with nbviewer.org.</b></div><div class=\"sk-container\" hidden><div class=\"sk-item sk-dashed-wrapped\"><div class=\"sk-label-container\"><div class=\"sk-label sk-toggleable\"><input class=\"sk-toggleable__control sk-hidden--visually\" id=\"sk-estimator-id-10\" type=\"checkbox\" ><label for=\"sk-estimator-id-10\" class=\"sk-toggleable__label sk-toggleable__label-arrow\">ColumnTransformer</label><div class=\"sk-toggleable__content\"><pre>ColumnTransformer(transformers=[(&#x27;num0&#x27;,\n",
       "                                 Pipeline(steps=[(&#x27;imputer&#x27;, SimpleImputer()),\n",
       "                                                 (&#x27;std_scaler&#x27;,\n",
       "                                                  StandardScaler())]),\n",
       "                                 [&#x27;capacity&#x27;, &#x27;ctx1&#x27;, &#x27;ctx2&#x27;, &#x27;ctx3&#x27;, &#x27;ctx4&#x27;,\n",
       "                                  &#x27;ctx1_ctx2_mean&#x27;, &#x27;ctx1_ctx2_std&#x27;,\n",
       "                                  &#x27;ctx1_ctx2_ctx3_mean&#x27;, &#x27;ctx1_ctx2_ctx3_std&#x27;,\n",
       "                                  &#x27;ctx1_ctx2_ctx3_ctx4_mean&#x27;,\n",
       "                                  &#x27;ctx1_ctx2_ctx3_ctx4_std&#x27;, &#x27;VALOR_TN_X4&#x27;,\n",
       "                                  &#x27;VALOR_TM_X4&#x27;, &#x27;VALOR_TX_X4&#x27;,\n",
       "                                  &#x27;VALOR_PPT_X4&#x27;]),\n",
       "                                (&#x27;ge...\n",
       "                                 Pipeline(steps=[(&#x27;imputer&#x27;,\n",
       "                                                  SimpleImputer(fill_value=0,\n",
       "                                                                strategy=&#x27;constant&#x27;))]),\n",
       "                                 [&#x27;station_id&#x27;, &#x27;festius_sun&#x27;, &#x27;weekend&#x27;, &#x27;lon&#x27;,\n",
       "                                  &#x27;lat&#x27;]),\n",
       "                                (&#x27;cat0&#x27;,\n",
       "                                 Pipeline(steps=[(&#x27;imputer&#x27;,\n",
       "                                                  SimpleImputer(fill_value=0,\n",
       "                                                                strategy=&#x27;constant&#x27;)),\n",
       "                                                 (&#x27;ordinal_encoder&#x27;,\n",
       "                                                  OrdinalEncoder(handle_unknown=&#x27;use_encoded_value&#x27;,\n",
       "                                                                 unknown_value=nan))]),\n",
       "                                 [&#x27;month&#x27;, &#x27;dayofyear&#x27;, &#x27;hour&#x27;, &#x27;dayofweek&#x27;,\n",
       "                                  &#x27;day&#x27;])])</pre></div></div></div><div class=\"sk-parallel\"><div class=\"sk-parallel-item\"><div class=\"sk-item\"><div class=\"sk-label-container\"><div class=\"sk-label sk-toggleable\"><input class=\"sk-toggleable__control sk-hidden--visually\" id=\"sk-estimator-id-11\" type=\"checkbox\" ><label for=\"sk-estimator-id-11\" class=\"sk-toggleable__label sk-toggleable__label-arrow\">num0</label><div class=\"sk-toggleable__content\"><pre>[&#x27;capacity&#x27;, &#x27;ctx1&#x27;, &#x27;ctx2&#x27;, &#x27;ctx3&#x27;, &#x27;ctx4&#x27;, &#x27;ctx1_ctx2_mean&#x27;, &#x27;ctx1_ctx2_std&#x27;, &#x27;ctx1_ctx2_ctx3_mean&#x27;, &#x27;ctx1_ctx2_ctx3_std&#x27;, &#x27;ctx1_ctx2_ctx3_ctx4_mean&#x27;, &#x27;ctx1_ctx2_ctx3_ctx4_std&#x27;, &#x27;VALOR_TN_X4&#x27;, &#x27;VALOR_TM_X4&#x27;, &#x27;VALOR_TX_X4&#x27;, &#x27;VALOR_PPT_X4&#x27;]</pre></div></div></div><div class=\"sk-serial\"><div class=\"sk-item\"><div class=\"sk-serial\"><div class=\"sk-item\"><div class=\"sk-estimator sk-toggleable\"><input class=\"sk-toggleable__control sk-hidden--visually\" id=\"sk-estimator-id-12\" type=\"checkbox\" ><label for=\"sk-estimator-id-12\" class=\"sk-toggleable__label sk-toggleable__label-arrow\">SimpleImputer</label><div class=\"sk-toggleable__content\"><pre>SimpleImputer()</pre></div></div></div><div class=\"sk-item\"><div class=\"sk-estimator sk-toggleable\"><input class=\"sk-toggleable__control sk-hidden--visually\" id=\"sk-estimator-id-13\" type=\"checkbox\" ><label for=\"sk-estimator-id-13\" class=\"sk-toggleable__label sk-toggleable__label-arrow\">StandardScaler</label><div class=\"sk-toggleable__content\"><pre>StandardScaler()</pre></div></div></div></div></div></div></div></div><div class=\"sk-parallel-item\"><div class=\"sk-item\"><div class=\"sk-label-container\"><div class=\"sk-label sk-toggleable\"><input class=\"sk-toggleable__control sk-hidden--visually\" id=\"sk-estimator-id-14\" type=\"checkbox\" ><label for=\"sk-estimator-id-14\" class=\"sk-toggleable__label sk-toggleable__label-arrow\">gen1</label><div class=\"sk-toggleable__content\"><pre>[&#x27;station_id&#x27;, &#x27;festius_sun&#x27;, &#x27;weekend&#x27;, &#x27;lon&#x27;, &#x27;lat&#x27;]</pre></div></div></div><div class=\"sk-serial\"><div class=\"sk-item\"><div class=\"sk-serial\"><div class=\"sk-item\"><div class=\"sk-estimator sk-toggleable\"><input class=\"sk-toggleable__control sk-hidden--visually\" id=\"sk-estimator-id-15\" type=\"checkbox\" ><label for=\"sk-estimator-id-15\" class=\"sk-toggleable__label sk-toggleable__label-arrow\">SimpleImputer</label><div class=\"sk-toggleable__content\"><pre>SimpleImputer(fill_value=0, strategy=&#x27;constant&#x27;)</pre></div></div></div></div></div></div></div></div><div class=\"sk-parallel-item\"><div class=\"sk-item\"><div class=\"sk-label-container\"><div class=\"sk-label sk-toggleable\"><input class=\"sk-toggleable__control sk-hidden--visually\" id=\"sk-estimator-id-16\" type=\"checkbox\" ><label for=\"sk-estimator-id-16\" class=\"sk-toggleable__label sk-toggleable__label-arrow\">cat0</label><div class=\"sk-toggleable__content\"><pre>[&#x27;month&#x27;, &#x27;dayofyear&#x27;, &#x27;hour&#x27;, &#x27;dayofweek&#x27;, &#x27;day&#x27;]</pre></div></div></div><div class=\"sk-serial\"><div class=\"sk-item\"><div class=\"sk-serial\"><div class=\"sk-item\"><div class=\"sk-estimator sk-toggleable\"><input class=\"sk-toggleable__control sk-hidden--visually\" id=\"sk-estimator-id-17\" type=\"checkbox\" ><label for=\"sk-estimator-id-17\" class=\"sk-toggleable__label sk-toggleable__label-arrow\">SimpleImputer</label><div class=\"sk-toggleable__content\"><pre>SimpleImputer(fill_value=0, strategy=&#x27;constant&#x27;)</pre></div></div></div><div class=\"sk-item\"><div class=\"sk-estimator sk-toggleable\"><input class=\"sk-toggleable__control sk-hidden--visually\" id=\"sk-estimator-id-18\" type=\"checkbox\" ><label for=\"sk-estimator-id-18\" class=\"sk-toggleable__label sk-toggleable__label-arrow\">OrdinalEncoder</label><div class=\"sk-toggleable__content\"><pre>OrdinalEncoder(handle_unknown=&#x27;use_encoded_value&#x27;, unknown_value=nan)</pre></div></div></div></div></div></div></div></div></div></div></div></div>"
      ],
      "text/plain": [
       "ColumnTransformer(transformers=[('num0',\n",
       "                                 Pipeline(steps=[('imputer', SimpleImputer()),\n",
       "                                                 ('std_scaler',\n",
       "                                                  StandardScaler())]),\n",
       "                                 ['capacity', 'ctx1', 'ctx2', 'ctx3', 'ctx4',\n",
       "                                  'ctx1_ctx2_mean', 'ctx1_ctx2_std',\n",
       "                                  'ctx1_ctx2_ctx3_mean', 'ctx1_ctx2_ctx3_std',\n",
       "                                  'ctx1_ctx2_ctx3_ctx4_mean',\n",
       "                                  'ctx1_ctx2_ctx3_ctx4_std', 'VALOR_TN_X4',\n",
       "                                  'VALOR_TM_X4', 'VALOR_TX_X4',\n",
       "                                  'VALOR_PPT_X4']),\n",
       "                                ('ge...\n",
       "                                 Pipeline(steps=[('imputer',\n",
       "                                                  SimpleImputer(fill_value=0,\n",
       "                                                                strategy='constant'))]),\n",
       "                                 ['station_id', 'festius_sun', 'weekend', 'lon',\n",
       "                                  'lat']),\n",
       "                                ('cat0',\n",
       "                                 Pipeline(steps=[('imputer',\n",
       "                                                  SimpleImputer(fill_value=0,\n",
       "                                                                strategy='constant')),\n",
       "                                                 ('ordinal_encoder',\n",
       "                                                  OrdinalEncoder(handle_unknown='use_encoded_value',\n",
       "                                                                 unknown_value=nan))]),\n",
       "                                 ['month', 'dayofyear', 'hour', 'dayofweek',\n",
       "                                  'day'])])"
      ]
     },
     "execution_count": 173,
     "metadata": {},
     "output_type": "execute_result"
    }
   ],
   "source": [
    "full_pipeline.fit(X_train)"
   ]
  },
  {
   "cell_type": "code",
   "execution_count": 174,
   "id": "53206a5d",
   "metadata": {},
   "outputs": [],
   "source": [
    "def apply_pipeline(pipline, X, y, args=None, show=True):\n",
    "    assert X.shape[0] == y.shape[0]\n",
    "    \n",
    "    X_prepared = full_pipeline.transform(X)\n",
    "    \n",
    "    if show:\n",
    "        print(\"X\", X.shape, \n",
    "              \"X_prepared:\", X_prepared.shape,\n",
    "              \"y: \", y.shape\n",
    "             )\n",
    "        \n",
    "    if args:\n",
    "        return X_prepared, y, *args\n",
    "    else:\n",
    "        return X_prepared, y\n",
    "\n",
    "def prepare_splits(\n",
    "    pipeline,\n",
    "    data_train,\n",
    "    data_val,\n",
    "    data_test,\n",
    "    years, \n",
    "    months, \n",
    "    show=True\n",
    "):\n",
    "    if show:\n",
    "        print(\"train\")\n",
    "    \n",
    "    train_cond = (data_train[0].year.isin(years) & data_train[0].month.isin(months))\n",
    "    Xtr, ytr = apply_pipeline(\n",
    "        pipeline,\n",
    "        data_train[0][train_cond], \n",
    "        data_train[1][train_cond],\n",
    "        show=show\n",
    "    )\n",
    "\n",
    "    if show:\n",
    "        print(\"val\")\n",
    "    \n",
    "    val_cond = (data_val[0].year.isin(years) & data_val[0].month.isin(months))\n",
    "    Xva, yva = apply_pipeline(\n",
    "        pipeline, \n",
    "        data_val[0][val_cond], \n",
    "        data_val[1][val_cond],\n",
    "        show=show\n",
    "    )\n",
    "\n",
    "    if show:\n",
    "        print(\"test\")\n",
    "    \n",
    "    test_cond = (data_test[0].year.isin([2023]) & data_test[0].month.isin([3]))\n",
    "    Xte, yte = apply_pipeline(\n",
    "        pipeline, \n",
    "        data_test[0][test_cond],\n",
    "        data_test[1][test_cond],\n",
    "        show=show\n",
    "    )\n",
    "    \n",
    "    return Xtr, ytr, Xva, yva, Xte, yte\n",
    "\n",
    "def test_model_train_val_test(\n",
    "    model,\n",
    "    data_train,\n",
    "    data_val,\n",
    "    data_test,\n",
    "    skip_cv=False,\n",
    "    show=False,\n",
    "    error_score='raise'\n",
    "):\n",
    "    if skip_cv==False:\n",
    "        cross_val_evaluation(\n",
    "            model, \n",
    "            data_train[0], \n",
    "            data_train[1], \n",
    "            'model test', \n",
    "            n_jobs=5,\n",
    "            error_score=error_score\n",
    "        )\n",
    "    \n",
    "    model.fit(data_train[0], data_train[1])\n",
    "    \n",
    "    return {\n",
    "        'train':test_model(model, data_train[0], data_train[1], show=show)[['mse_t','rmse_t','mae_t','r2_t']],\n",
    "        'test':test_model(model, data_val[0], data_val[1], data_test[0], data_test[1], show=show)[['mse_t','rmse_t','mae_t','r2_t', 'mse_v','rmse_v','mae_v','r2_v']]\n",
    "    }\n",
    "\n",
    "\n",
    "def do_test_per_month(\n",
    "    model, \n",
    "    modelargs,\n",
    "    data_train,\n",
    "    data_val,\n",
    "    data_test,\n",
    "    years,\n",
    "    months\n",
    "):\n",
    "    result = {}\n",
    "    with tqdm(range (len(years)*len(months)), unit=\"months\", mininterval=0, disable=False) as bar:\n",
    "        for index in bar:\n",
    "            month = months[(index%len(months))]\n",
    "            year = years[int(index>=len(months))]\n",
    "            bar.set_description(f\"Month {year}-{month}\")\n",
    "\n",
    "            Xtr, ytr, Xva, yva, Xte, yte = prepare_splits(\n",
    "                full_pipeline,\n",
    "                data_train,\n",
    "                data_val,\n",
    "                data_test,\n",
    "                [year], [month], False)\n",
    "            \n",
    "            # define model \n",
    "            m = model(**modelargs)\n",
    "\n",
    "            result[index] = test_model_train_val_test(\n",
    "                m,\n",
    "                (Xtr, ytr),\n",
    "                (Xva, yva),\n",
    "                (Xte, yte),\n",
    "                skip_cv=True,\n",
    "                show=False,\n",
    "                error_score='raise'\n",
    "            )\n",
    "                \n",
    "    result=pd.DataFrame(result)\n",
    "    aux=pd.DataFrame(result.T.unstack().reset_index()[0].to_dict()).T\n",
    "    aux['type']=pd.DataFrame(result.T.unstack().reset_index().level_0)\n",
    "    aux['order']=pd.DataFrame(result.T.unstack().reset_index().level_1)\n",
    "    aux = pd.DataFrame(aux.set_index(['type', 'order']).unstack(['type']).reindex()).reset_index()\n",
    "    aux.columns = ['_'.join(col) for col in aux.columns.values]\n",
    "    \n",
    "    return aux\n",
    "\n",
    "def do_test_per_month_combos(\n",
    "    model, \n",
    "    modelargs,\n",
    "    data_train,\n",
    "    data_val,\n",
    "    data_test,\n",
    "    years,\n",
    "    months\n",
    "):\n",
    "    result = {}\n",
    "    with tqdm(range (len(years)*len(months)), unit=\"months\", mininterval=0, disable=False) as bar:\n",
    "        for index in bar:\n",
    "            month_combo = months[(index%len(months))]\n",
    "            year = years[int(index>=len(months))]\n",
    "            bar.set_description(f\"Month {year}-{month_combo}\")\n",
    "\n",
    "            Xtr, ytr, Xva, yva, Xte, yte = prepare_splits(\n",
    "                full_pipeline,\n",
    "                data_train,\n",
    "                data_val,\n",
    "                data_test,\n",
    "                [year], month_combo, False)\n",
    "            \n",
    "            # define model \n",
    "            m = model(**modelargs)\n",
    "\n",
    "            result[index] = test_model_train_val_test(\n",
    "                m,\n",
    "                (Xtr, ytr),\n",
    "                (Xva, yva),\n",
    "                (Xte, yte),\n",
    "                skip_cv=True,\n",
    "                show=False,\n",
    "                error_score='raise'\n",
    "            )\n",
    "            \n",
    "    result=pd.DataFrame(result)\n",
    "    aux=pd.DataFrame(result.T.unstack().reset_index()[0].to_dict()).T\n",
    "    aux['type']=pd.DataFrame(result.T.unstack().reset_index().level_0)\n",
    "    aux['order']=pd.DataFrame(result.T.unstack().reset_index().level_1)\n",
    "    aux = pd.DataFrame(aux.set_index(['type', 'order']).unstack(['type']).reindex()).reset_index()\n",
    "    aux.columns = ['_'.join(col) for col in aux.columns.values]\n",
    "    \n",
    "    return aux"
   ]
  },
  {
   "cell_type": "code",
   "execution_count": 179,
   "id": "20a31430",
   "metadata": {},
   "outputs": [
    {
     "data": {
      "text/plain": [
       "[None, None, None, None, None]"
      ]
     },
     "execution_count": 179,
     "metadata": {},
     "output_type": "execute_result"
    }
   ],
   "source": [
    "[months.remove(x) for x in [6,7,8,9,10]]"
   ]
  },
  {
   "cell_type": "code",
   "execution_count": 185,
   "id": "f8d0680e",
   "metadata": {},
   "outputs": [
    {
     "data": {
      "text/plain": [
       "([2019, 2020, 2021, 2022], [1, 2, 3, 4, 5, 11, 12])"
      ]
     },
     "execution_count": 185,
     "metadata": {},
     "output_type": "execute_result"
    }
   ],
   "source": [
    "years, months"
   ]
  },
  {
   "cell_type": "code",
   "execution_count": 186,
   "id": "b7f034f2",
   "metadata": {},
   "outputs": [
    {
     "data": {
      "text/plain": [
       "((13143819, 34), (13143819,))"
      ]
     },
     "execution_count": 186,
     "metadata": {},
     "output_type": "execute_result"
    }
   ],
   "source": [
    "X_train.shape,y_train.shape"
   ]
  },
  {
   "cell_type": "code",
   "execution_count": 187,
   "id": "e297044e",
   "metadata": {},
   "outputs": [
    {
     "data": {
      "text/plain": [
       "((2267523, 34), (2267523,))"
      ]
     },
     "execution_count": 187,
     "metadata": {},
     "output_type": "execute_result"
    }
   ],
   "source": [
    "X_val.shape, y_val.shape"
   ]
  },
  {
   "cell_type": "code",
   "execution_count": 188,
   "id": "94a63fa9",
   "metadata": {},
   "outputs": [
    {
     "name": "stdout",
     "output_type": "stream",
     "text": [
      "train\n",
      "X (4108638, 34) X_prepared: (4108638, 25) y:  (4108638,)\n",
      "val\n",
      "X (1016614, 34) X_prepared: (1016614, 25) y:  (1016614,)\n",
      "test\n",
      "X (358887, 34) X_prepared: (358887, 25) y:  (358887,)\n"
     ]
    }
   ],
   "source": [
    "# Take data of 2022 \n",
    "\n",
    "X_train_prepared, y_train_prepared, X_val_prepared, y_val_prepared, X_test_prepared, y_test_prepared = prepare_splits(\n",
    "    full_pipeline,\n",
    "    (X_train, y_train),\n",
    "    (X_val, y_val),\n",
    "    (X_test, y_test),\n",
    "    [2021, 2022], months, True)\n"
   ]
  },
  {
   "cell_type": "raw",
   "id": "6b82e9ee",
   "metadata": {},
   "source": [
    "X_train_prepared_list = X_train_prepared.toarray()\n",
    "\n",
    "X_val_prepared_list = X_val_prepared.toarray()\n",
    "\n",
    "X_test_prepared_list = X_test_prepared.toarray()"
   ]
  },
  {
   "cell_type": "code",
   "execution_count": 189,
   "id": "25f39abc",
   "metadata": {},
   "outputs": [
    {
     "data": {
      "text/plain": [
       "48"
      ]
     },
     "execution_count": 189,
     "metadata": {},
     "output_type": "execute_result"
    }
   ],
   "source": [
    "import gc\n",
    "\n",
    "gc.collect()"
   ]
  },
  {
   "cell_type": "markdown",
   "id": "7f8f1ba6",
   "metadata": {},
   "source": [
    "# Prediction\n",
    "\n",
    "a) Regresión lineal: relación lineal entre las variables de entrada y la variable de salida. \n",
    "\n",
    "b) Regresión Redes Neuronales (RNN -redes neuronales recurrentes-): pueden capturar relaciones no lineales entre las variables de entrada y salida."
   ]
  },
  {
   "cell_type": "markdown",
   "id": "313dac49",
   "metadata": {},
   "source": [
    "## LinearRegression"
   ]
  },
  {
   "cell_type": "code",
   "execution_count": 190,
   "id": "51f4274a",
   "metadata": {},
   "outputs": [],
   "source": [
    "from sklearn.linear_model import LinearRegression, Ridge, Lasso, ElasticNet"
   ]
  },
  {
   "cell_type": "code",
   "execution_count": 191,
   "id": "3663606c",
   "metadata": {
    "scrolled": true
   },
   "outputs": [],
   "source": [
    "lin_reg = LinearRegression(n_jobs=5)"
   ]
  },
  {
   "cell_type": "code",
   "execution_count": 192,
   "id": "3966909f",
   "metadata": {},
   "outputs": [],
   "source": [
    "ridge_reg = Ridge(alpha=.3, random_state=config.seed)"
   ]
  },
  {
   "cell_type": "code",
   "execution_count": 193,
   "id": "c07220a7",
   "metadata": {},
   "outputs": [],
   "source": [
    "lasso_reg = Lasso(alpha=0.01, random_state=config.seed)"
   ]
  },
  {
   "cell_type": "code",
   "execution_count": 194,
   "id": "f9677284",
   "metadata": {},
   "outputs": [],
   "source": [
    "elasticNet_reg = ElasticNet(alpha=0.01, l1_ratio=0.3, random_state=config.seed) "
   ]
  },
  {
   "cell_type": "markdown",
   "id": "1a695b40",
   "metadata": {},
   "source": [
    "### Train and test, validate model"
   ]
  },
  {
   "cell_type": "code",
   "execution_count": 195,
   "id": "18b104f1",
   "metadata": {
    "scrolled": false
   },
   "outputs": [
    {
     "name": "stderr",
     "output_type": "stream",
     "text": [
      "[Parallel(n_jobs=5)]: Using backend LokyBackend with 5 concurrent workers.\n",
      "[Parallel(n_jobs=5)]: Done   2 out of   5 | elapsed:   13.6s remaining:   20.3s\n",
      "[Parallel(n_jobs=5)]: Done   5 out of   5 | elapsed:   13.8s remaining:    0.0s\n",
      "[Parallel(n_jobs=5)]: Done   5 out of   5 | elapsed:   13.8s finished\n"
     ]
    },
    {
     "name": "stdout",
     "output_type": "stream",
     "text": [
      "\n",
      "  model test\n",
      "Scores: [-0.11166467 -0.11151427 -0.11362    -0.11551702 -0.11574956]\n",
      "Mean: -0.113613101078695\n",
      "Standard deviation: 0.0018105739648623788\n",
      "\n",
      "Training time: 0.099 s\n",
      "----- EVALUATION ON VAL SET ------\n",
      "MSE: 0.012904998323003678\n",
      "RMSE 0.11360016867506702\n",
      "MAE: 0.07454470635792958\n",
      "R^2:  0.823742318956561\n",
      "\n"
     ]
    },
    {
     "data": {
      "image/png": "[encoded data removed]",
      "text/plain": [
       "<Figure size 640x480 with 1 Axes>"
      ]
     },
     "metadata": {},
     "output_type": "display_data"
    },
    {
     "name": "stdout",
     "output_type": "stream",
     "text": [
      "\n",
      "Training time: 0.025 s\n",
      "----- EVALUATION ON VAL SET ------\n",
      "MSE: 0.008941914916008768\n",
      "RMSE 0.09456169899070536\n",
      "MAE: 0.059392345651216094\n",
      "R^2:  0.8710450641222052\n",
      "\n"
     ]
    },
    {
     "data": {
      "image/png": "[encoded data removed]",
      "text/plain": [
       "<Figure size 640x480 with 1 Axes>"
      ]
     },
     "metadata": {},
     "output_type": "display_data"
    },
    {
     "name": "stdout",
     "output_type": "stream",
     "text": [
      "\n",
      "Testing time: 0.01 s\n",
      "----- EVALUATION ON VAL SET ------\n",
      "MSE: 0.013933427355911548\n",
      "RMSE 0.11803993966413041\n",
      "MAE: 0.07891786160971462\n",
      "R^2:  0.8094868093025294\n",
      "\n"
     ]
    },
    {
     "data": {
      "image/png": "[encoded data removed]",
      "text/plain": [
       "<Figure size 640x480 with 1 Axes>"
      ]
     },
     "metadata": {},
     "output_type": "display_data"
    },
    {
     "name": "stdout",
     "output_type": "stream",
     "text": [
      "CPU times: user 20.7 s, sys: 20.6 s, total: 41.3 s\n",
      "Wall time: 26.2 s\n"
     ]
    },
    {
     "data": {
      "text/plain": [
       "{'train': mse_t     0.012905\n",
       " rmse_t      0.1136\n",
       " mae_t     0.074545\n",
       " r2_t      0.823742\n",
       " dtype: object,\n",
       " 'test': mse_t     0.008942\n",
       " rmse_t    0.094562\n",
       " mae_t     0.059392\n",
       " r2_t      0.871045\n",
       " mse_v     0.013933\n",
       " rmse_v     0.11804\n",
       " mae_v     0.078918\n",
       " r2_v      0.809487\n",
       " dtype: object}"
      ]
     },
     "execution_count": 195,
     "metadata": {},
     "output_type": "execute_result"
    }
   ],
   "source": [
    "%%time \n",
    "\n",
    "test_model_train_val_test(\n",
    "    lin_reg, \n",
    "    (X_train_prepared, y_train_prepared),\n",
    "    (X_val_prepared, y_val_prepared),\n",
    "    (X_test_prepared,  y_test_prepared),\n",
    "    show=True\n",
    ")\n"
   ]
  },
  {
   "cell_type": "code",
   "execution_count": 196,
   "id": "41e46c13",
   "metadata": {
    "scrolled": false
   },
   "outputs": [
    {
     "name": "stderr",
     "output_type": "stream",
     "text": [
      "[Parallel(n_jobs=5)]: Using backend LokyBackend with 5 concurrent workers.\n",
      "[Parallel(n_jobs=5)]: Done   2 out of   5 | elapsed:    4.2s remaining:    6.4s\n",
      "[Parallel(n_jobs=5)]: Done   5 out of   5 | elapsed:    4.3s remaining:    0.0s\n",
      "[Parallel(n_jobs=5)]: Done   5 out of   5 | elapsed:    4.3s finished\n"
     ]
    },
    {
     "name": "stdout",
     "output_type": "stream",
     "text": [
      "\n",
      "  model test\n",
      "Scores: [-0.11558634 -0.11541634 -0.11693974 -0.11855586 -0.11879798]\n",
      "Mean: -0.11705925267850711\n",
      "Standard deviation: 0.0014244941427146668\n",
      "\n",
      "Training time: 0.1 s\n",
      "----- EVALUATION ON VAL SET ------\n",
      "MSE: 0.013699732716607986\n",
      "RMSE 0.11704585732356351\n",
      "MAE: 0.07924787345385471\n",
      "R^2:  0.8128877618496093\n",
      "\n"
     ]
    },
    {
     "data": {
      "image/png": "[encoded data removed]",
      "text/plain": [
       "<Figure size 640x480 with 1 Axes>"
      ]
     },
     "metadata": {},
     "output_type": "display_data"
    },
    {
     "name": "stdout",
     "output_type": "stream",
     "text": [
      "\n",
      "Training time: 0.024 s\n",
      "----- EVALUATION ON VAL SET ------\n",
      "MSE: 0.009821850766853117\n",
      "RMSE 0.09910525095499792\n",
      "MAE: 0.06555531868412684\n",
      "R^2:  0.8583551568385811\n",
      "\n"
     ]
    },
    {
     "data": {
      "image/png": "[encoded data removed]",
      "text/plain": [
       "<Figure size 640x480 with 1 Axes>"
      ]
     },
     "metadata": {},
     "output_type": "display_data"
    },
    {
     "name": "stdout",
     "output_type": "stream",
     "text": [
      "\n",
      "Testing time: 0.009 s\n",
      "----- EVALUATION ON VAL SET ------\n",
      "MSE: 0.01472961113720383\n",
      "RMSE 0.121365609367744\n",
      "MAE: 0.08339452832727937\n",
      "R^2:  0.7986005062644462\n",
      "\n"
     ]
    },
    {
     "data": {
      "image/png": "[encoded data removed]",
      "text/plain": [
       "<Figure size 640x480 with 1 Axes>"
      ]
     },
     "metadata": {},
     "output_type": "display_data"
    },
    {
     "name": "stdout",
     "output_type": "stream",
     "text": [
      "CPU times: user 13.9 s, sys: 6.77 s, total: 20.6 s\n",
      "Wall time: 13.6 s\n"
     ]
    },
    {
     "data": {
      "text/plain": [
       "{'train': mse_t       0.0137\n",
       " rmse_t    0.117046\n",
       " mae_t     0.079248\n",
       " r2_t      0.812888\n",
       " dtype: object,\n",
       " 'test': mse_t     0.009822\n",
       " rmse_t    0.099105\n",
       " mae_t     0.065555\n",
       " r2_t      0.858355\n",
       " mse_v      0.01473\n",
       " rmse_v    0.121366\n",
       " mae_v     0.083395\n",
       " r2_v      0.798601\n",
       " dtype: object}"
      ]
     },
     "execution_count": 196,
     "metadata": {},
     "output_type": "execute_result"
    }
   ],
   "source": [
    "%%time \n",
    "\n",
    "test_model_train_val_test(\n",
    "    lasso_reg, \n",
    "    (X_train_prepared, y_train_prepared),\n",
    "    (X_val_prepared, y_val_prepared),\n",
    "    (X_test_prepared,  y_test_prepared),\n",
    "    show=True\n",
    ")\n"
   ]
  },
  {
   "cell_type": "code",
   "execution_count": 197,
   "id": "03392a9c",
   "metadata": {
    "scrolled": false
   },
   "outputs": [
    {
     "name": "stderr",
     "output_type": "stream",
     "text": [
      "[Parallel(n_jobs=5)]: Using backend LokyBackend with 5 concurrent workers.\n",
      "[Parallel(n_jobs=5)]: Done   2 out of   5 | elapsed:    1.9s remaining:    2.9s\n",
      "[Parallel(n_jobs=5)]: Done   5 out of   5 | elapsed:    2.0s remaining:    0.0s\n",
      "[Parallel(n_jobs=5)]: Done   5 out of   5 | elapsed:    2.0s finished\n"
     ]
    },
    {
     "name": "stdout",
     "output_type": "stream",
     "text": [
      "\n",
      "  model test\n",
      "Scores: [-0.11166477 -0.11151436 -0.11361998 -0.11551692 -0.11574948]\n",
      "Mean: -0.11361309891748687\n",
      "Standard deviation: 0.0018104911285674718\n",
      "\n",
      "Training time: 0.1 s\n",
      "----- EVALUATION ON VAL SET ------\n",
      "MSE: 0.012904998334101006\n",
      "RMSE 0.11360016872391082\n",
      "MAE: 0.07454458386787252\n",
      "R^2:  0.8237423188049926\n",
      "\n"
     ]
    },
    {
     "data": {
      "image/png": "[encoded data removed]",
      "text/plain": [
       "<Figure size 640x480 with 1 Axes>"
      ]
     },
     "metadata": {},
     "output_type": "display_data"
    },
    {
     "name": "stdout",
     "output_type": "stream",
     "text": [
      "\n",
      "Training time: 0.024 s\n",
      "----- EVALUATION ON VAL SET ------\n",
      "MSE: 0.008941933471224435\n",
      "RMSE 0.09456179710234168\n",
      "MAE: 0.05939265300509684\n",
      "R^2:  0.8710447965300094\n",
      "\n"
     ]
    },
    {
     "data": {
      "image/png": "[encoded data removed]",
      "text/plain": [
       "<Figure size 640x480 with 1 Axes>"
      ]
     },
     "metadata": {},
     "output_type": "display_data"
    },
    {
     "name": "stdout",
     "output_type": "stream",
     "text": [
      "\n",
      "Testing time: 0.009 s\n",
      "----- EVALUATION ON VAL SET ------\n",
      "MSE: 0.013933424598199733\n",
      "RMSE 0.11803992798286406\n",
      "MAE: 0.07891771636009996\n",
      "R^2:  0.8094868470090077\n",
      "\n"
     ]
    },
    {
     "data": {
      "image/png": "[encoded data removed]",
      "text/plain": [
       "<Figure size 640x480 with 1 Axes>"
      ]
     },
     "metadata": {},
     "output_type": "display_data"
    },
    {
     "name": "stdout",
     "output_type": "stream",
     "text": [
      "CPU times: user 10.9 s, sys: 5.09 s, total: 16 s\n",
      "Wall time: 10.4 s\n"
     ]
    },
    {
     "data": {
      "text/plain": [
       "{'train': mse_t     0.012905\n",
       " rmse_t      0.1136\n",
       " mae_t     0.074545\n",
       " r2_t      0.823742\n",
       " dtype: object,\n",
       " 'test': mse_t     0.008942\n",
       " rmse_t    0.094562\n",
       " mae_t     0.059393\n",
       " r2_t      0.871045\n",
       " mse_v     0.013933\n",
       " rmse_v     0.11804\n",
       " mae_v     0.078918\n",
       " r2_v      0.809487\n",
       " dtype: object}"
      ]
     },
     "execution_count": 197,
     "metadata": {},
     "output_type": "execute_result"
    }
   ],
   "source": [
    "%%time \n",
    "\n",
    "test_model_train_val_test(\n",
    "    ridge_reg, \n",
    "    (X_train_prepared, y_train_prepared),\n",
    "    (X_val_prepared, y_val_prepared),\n",
    "    (X_test_prepared,  y_test_prepared),\n",
    "    show=True\n",
    ")\n"
   ]
  },
  {
   "cell_type": "code",
   "execution_count": 198,
   "id": "0d4fb26c",
   "metadata": {
    "scrolled": false
   },
   "outputs": [
    {
     "name": "stderr",
     "output_type": "stream",
     "text": [
      "[Parallel(n_jobs=5)]: Using backend LokyBackend with 5 concurrent workers.\n",
      "[Parallel(n_jobs=5)]: Done   2 out of   5 | elapsed:   10.1s remaining:   15.2s\n",
      "[Parallel(n_jobs=5)]: Done   5 out of   5 | elapsed:   10.4s remaining:    0.0s\n",
      "[Parallel(n_jobs=5)]: Done   5 out of   5 | elapsed:   10.4s finished\n"
     ]
    },
    {
     "name": "stdout",
     "output_type": "stream",
     "text": [
      "\n",
      "  model test\n",
      "Scores: [-0.11402518 -0.11387279 -0.11560933 -0.1173843  -0.11764193]\n",
      "Mean: -0.11570670602735504\n",
      "Standard deviation: 0.0015974769697069307\n",
      "\n",
      "Training time: 0.104 s\n",
      "----- EVALUATION ON VAL SET ------\n",
      "MSE: 0.013384990745667447\n",
      "RMSE 0.1156935207592346\n",
      "MAE: 0.07683718048833174\n",
      "R^2:  0.8171865372958744\n",
      "\n"
     ]
    },
    {
     "data": {
      "image/png": "[encoded data removed]",
      "text/plain": [
       "<Figure size 640x480 with 1 Axes>"
      ]
     },
     "metadata": {},
     "output_type": "display_data"
    },
    {
     "name": "stdout",
     "output_type": "stream",
     "text": [
      "\n",
      "Training time: 0.024 s\n",
      "----- EVALUATION ON VAL SET ------\n",
      "MSE: 0.009485369965622398\n",
      "RMSE 0.09739286403850335\n",
      "MAE: 0.06284686141119913\n",
      "R^2:  0.8632076812200348\n",
      "\n"
     ]
    },
    {
     "data": {
      "image/png": "[encoded data removed]",
      "text/plain": [
       "<Figure size 640x480 with 1 Axes>"
      ]
     },
     "metadata": {},
     "output_type": "display_data"
    },
    {
     "name": "stdout",
     "output_type": "stream",
     "text": [
      "\n",
      "Testing time: 0.009 s\n",
      "----- EVALUATION ON VAL SET ------\n",
      "MSE: 0.014418843773090384\n",
      "RMSE 0.12007849005167572\n",
      "MAE: 0.08114910192830199\n",
      "R^2:  0.802849660516991\n",
      "\n"
     ]
    },
    {
     "data": {
      "image/png": "[encoded data removed]",
      "text/plain": [
       "<Figure size 640x480 with 1 Axes>"
      ]
     },
     "metadata": {},
     "output_type": "display_data"
    },
    {
     "name": "stdout",
     "output_type": "stream",
     "text": [
      "CPU times: user 37.3 s, sys: 10.1 s, total: 47.4 s\n",
      "Wall time: 21 s\n"
     ]
    },
    {
     "data": {
      "text/plain": [
       "{'train': mse_t     0.013385\n",
       " rmse_t    0.115694\n",
       " mae_t     0.076837\n",
       " r2_t      0.817187\n",
       " dtype: object,\n",
       " 'test': mse_t     0.009485\n",
       " rmse_t    0.097393\n",
       " mae_t     0.062847\n",
       " r2_t      0.863208\n",
       " mse_v     0.014419\n",
       " rmse_v    0.120078\n",
       " mae_v     0.081149\n",
       " r2_v       0.80285\n",
       " dtype: object}"
      ]
     },
     "execution_count": 198,
     "metadata": {},
     "output_type": "execute_result"
    }
   ],
   "source": [
    "%%time \n",
    "\n",
    "test_model_train_val_test(\n",
    "    elasticNet_reg, \n",
    "    (X_train_prepared, y_train_prepared),\n",
    "    (X_val_prepared, y_val_prepared),\n",
    "    (X_test_prepared,  y_test_prepared),\n",
    "    show=True\n",
    ")\n"
   ]
  },
  {
   "cell_type": "markdown",
   "id": "de7c283b",
   "metadata": {},
   "source": [
    "# Generate Sample"
   ]
  },
  {
   "cell_type": "code",
   "execution_count": 199,
   "id": "597e669c",
   "metadata": {},
   "outputs": [],
   "source": [
    "sample_data = pd.read_csv('dades/metadata_sample_submission.csv/metadata_sample_submission.csv')"
   ]
  },
  {
   "cell_type": "code",
   "execution_count": 200,
   "id": "268849f2",
   "metadata": {},
   "outputs": [],
   "source": [
    "sample_data['year'] = 2023"
   ]
  },
  {
   "cell_type": "code",
   "execution_count": 201,
   "id": "fd1f3b9c",
   "metadata": {},
   "outputs": [],
   "source": [
    "sample_data['datetime'] = pd.to_datetime(sample_data[['year','month','day']])\n",
    "sample_data['dayofweek'] = sample_data.datetime.dt.dayofweek\n",
    "sample_data['dayofyear'] = sample_data.datetime.dt.dayofyear"
   ]
  },
  {
   "cell_type": "code",
   "execution_count": 202,
   "id": "564ce166",
   "metadata": {},
   "outputs": [],
   "source": [
    "sample_data.drop(['datetime', 'index'], axis=1, inplace=True)"
   ]
  },
  {
   "cell_type": "code",
   "execution_count": 203,
   "id": "13acc112",
   "metadata": {},
   "outputs": [],
   "source": [
    "sample_data.rename(\n",
    "    columns = {\n",
    "        'ctx-4':'ctx4',\n",
    "        'ctx-3':'ctx3',\n",
    "        'ctx-2':'ctx2',\n",
    "        'ctx-1':'ctx1'\n",
    "    },\n",
    "    inplace=True\n",
    ")"
   ]
  },
  {
   "cell_type": "code",
   "execution_count": 204,
   "id": "035cacdd",
   "metadata": {},
   "outputs": [
    {
     "data": {
      "text/html": [
       "<div>\n",
       "<style scoped>\n",
       "    .dataframe tbody tr th:only-of-type {\n",
       "        vertical-align: middle;\n",
       "    }\n",
       "\n",
       "    .dataframe tbody tr th {\n",
       "        vertical-align: top;\n",
       "    }\n",
       "\n",
       "    .dataframe thead th {\n",
       "        text-align: right;\n",
       "    }\n",
       "</style>\n",
       "<table border=\"1\" class=\"dataframe\">\n",
       "  <thead>\n",
       "    <tr style=\"text-align: right;\">\n",
       "      <th></th>\n",
       "      <th>station_id</th>\n",
       "      <th>month</th>\n",
       "      <th>day</th>\n",
       "      <th>hour</th>\n",
       "      <th>ctx4</th>\n",
       "      <th>ctx3</th>\n",
       "      <th>ctx2</th>\n",
       "      <th>ctx1</th>\n",
       "      <th>year</th>\n",
       "      <th>dayofweek</th>\n",
       "      <th>dayofyear</th>\n",
       "    </tr>\n",
       "  </thead>\n",
       "  <tbody>\n",
       "    <tr>\n",
       "      <th>0</th>\n",
       "      <td>394</td>\n",
       "      <td>3</td>\n",
       "      <td>7</td>\n",
       "      <td>8</td>\n",
       "      <td>0.753086</td>\n",
       "      <td>0.780864</td>\n",
       "      <td>0.799383</td>\n",
       "      <td>0.824074</td>\n",
       "      <td>2023</td>\n",
       "      <td>1</td>\n",
       "      <td>66</td>\n",
       "    </tr>\n",
       "    <tr>\n",
       "      <th>1</th>\n",
       "      <td>337</td>\n",
       "      <td>3</td>\n",
       "      <td>23</td>\n",
       "      <td>12</td>\n",
       "      <td>0.463768</td>\n",
       "      <td>0.536232</td>\n",
       "      <td>0.532609</td>\n",
       "      <td>0.601449</td>\n",
       "      <td>2023</td>\n",
       "      <td>3</td>\n",
       "      <td>82</td>\n",
       "    </tr>\n",
       "    <tr>\n",
       "      <th>2</th>\n",
       "      <td>368</td>\n",
       "      <td>3</td>\n",
       "      <td>31</td>\n",
       "      <td>1</td>\n",
       "      <td>0.787037</td>\n",
       "      <td>0.709877</td>\n",
       "      <td>0.611111</td>\n",
       "      <td>0.601852</td>\n",
       "      <td>2023</td>\n",
       "      <td>4</td>\n",
       "      <td>90</td>\n",
       "    </tr>\n",
       "    <tr>\n",
       "      <th>3</th>\n",
       "      <td>327</td>\n",
       "      <td>3</td>\n",
       "      <td>23</td>\n",
       "      <td>15</td>\n",
       "      <td>0.753472</td>\n",
       "      <td>0.809028</td>\n",
       "      <td>0.819444</td>\n",
       "      <td>0.736111</td>\n",
       "      <td>2023</td>\n",
       "      <td>3</td>\n",
       "      <td>82</td>\n",
       "    </tr>\n",
       "    <tr>\n",
       "      <th>4</th>\n",
       "      <td>328</td>\n",
       "      <td>3</td>\n",
       "      <td>4</td>\n",
       "      <td>20</td>\n",
       "      <td>0.861111</td>\n",
       "      <td>0.802469</td>\n",
       "      <td>0.814815</td>\n",
       "      <td>0.827160</td>\n",
       "      <td>2023</td>\n",
       "      <td>5</td>\n",
       "      <td>63</td>\n",
       "    </tr>\n",
       "    <tr>\n",
       "      <th>...</th>\n",
       "      <td>...</td>\n",
       "      <td>...</td>\n",
       "      <td>...</td>\n",
       "      <td>...</td>\n",
       "      <td>...</td>\n",
       "      <td>...</td>\n",
       "      <td>...</td>\n",
       "      <td>...</td>\n",
       "      <td>...</td>\n",
       "      <td>...</td>\n",
       "      <td>...</td>\n",
       "    </tr>\n",
       "    <tr>\n",
       "      <th>54994</th>\n",
       "      <td>269</td>\n",
       "      <td>3</td>\n",
       "      <td>14</td>\n",
       "      <td>3</td>\n",
       "      <td>0.478261</td>\n",
       "      <td>0.478261</td>\n",
       "      <td>0.478261</td>\n",
       "      <td>0.478261</td>\n",
       "      <td>2023</td>\n",
       "      <td>1</td>\n",
       "      <td>73</td>\n",
       "    </tr>\n",
       "    <tr>\n",
       "      <th>54995</th>\n",
       "      <td>280</td>\n",
       "      <td>3</td>\n",
       "      <td>1</td>\n",
       "      <td>5</td>\n",
       "      <td>0.098765</td>\n",
       "      <td>0.074074</td>\n",
       "      <td>0.074074</td>\n",
       "      <td>0.077160</td>\n",
       "      <td>2023</td>\n",
       "      <td>2</td>\n",
       "      <td>60</td>\n",
       "    </tr>\n",
       "    <tr>\n",
       "      <th>54996</th>\n",
       "      <td>180</td>\n",
       "      <td>3</td>\n",
       "      <td>20</td>\n",
       "      <td>16</td>\n",
       "      <td>0.782680</td>\n",
       "      <td>0.821895</td>\n",
       "      <td>0.812092</td>\n",
       "      <td>0.777778</td>\n",
       "      <td>2023</td>\n",
       "      <td>0</td>\n",
       "      <td>79</td>\n",
       "    </tr>\n",
       "    <tr>\n",
       "      <th>54997</th>\n",
       "      <td>277</td>\n",
       "      <td>3</td>\n",
       "      <td>14</td>\n",
       "      <td>11</td>\n",
       "      <td>0.774691</td>\n",
       "      <td>0.953704</td>\n",
       "      <td>0.972222</td>\n",
       "      <td>0.472222</td>\n",
       "      <td>2023</td>\n",
       "      <td>1</td>\n",
       "      <td>73</td>\n",
       "    </tr>\n",
       "    <tr>\n",
       "      <th>54998</th>\n",
       "      <td>425</td>\n",
       "      <td>3</td>\n",
       "      <td>30</td>\n",
       "      <td>16</td>\n",
       "      <td>0.291667</td>\n",
       "      <td>0.277778</td>\n",
       "      <td>0.204861</td>\n",
       "      <td>0.788194</td>\n",
       "      <td>2023</td>\n",
       "      <td>3</td>\n",
       "      <td>89</td>\n",
       "    </tr>\n",
       "  </tbody>\n",
       "</table>\n",
       "<p>54999 rows × 11 columns</p>\n",
       "</div>"
      ],
      "text/plain": [
       "       station_id  month  day  hour      ctx4      ctx3      ctx2      ctx1  \\\n",
       "0             394      3    7     8  0.753086  0.780864  0.799383  0.824074   \n",
       "1             337      3   23    12  0.463768  0.536232  0.532609  0.601449   \n",
       "2             368      3   31     1  0.787037  0.709877  0.611111  0.601852   \n",
       "3             327      3   23    15  0.753472  0.809028  0.819444  0.736111   \n",
       "4             328      3    4    20  0.861111  0.802469  0.814815  0.827160   \n",
       "...           ...    ...  ...   ...       ...       ...       ...       ...   \n",
       "54994         269      3   14     3  0.478261  0.478261  0.478261  0.478261   \n",
       "54995         280      3    1     5  0.098765  0.074074  0.074074  0.077160   \n",
       "54996         180      3   20    16  0.782680  0.821895  0.812092  0.777778   \n",
       "54997         277      3   14    11  0.774691  0.953704  0.972222  0.472222   \n",
       "54998         425      3   30    16  0.291667  0.277778  0.204861  0.788194   \n",
       "\n",
       "       year  dayofweek  dayofyear  \n",
       "0      2023          1         66  \n",
       "1      2023          3         82  \n",
       "2      2023          4         90  \n",
       "3      2023          3         82  \n",
       "4      2023          5         63  \n",
       "...     ...        ...        ...  \n",
       "54994  2023          1         73  \n",
       "54995  2023          2         60  \n",
       "54996  2023          0         79  \n",
       "54997  2023          1         73  \n",
       "54998  2023          3         89  \n",
       "\n",
       "[54999 rows x 11 columns]"
      ]
     },
     "execution_count": 204,
     "metadata": {},
     "output_type": "execute_result"
    }
   ],
   "source": [
    "sample_data"
   ]
  },
  {
   "cell_type": "markdown",
   "id": "35934798",
   "metadata": {},
   "source": [
    "##  Feature extraction"
   ]
  },
  {
   "cell_type": "code",
   "execution_count": 205,
   "id": "f91972a5",
   "metadata": {},
   "outputs": [
    {
     "name": "stdout",
     "output_type": "stream",
     "text": [
      "ctx1_ctx2\n",
      "ctx1_ctx2_ctx3\n",
      "ctx1_ctx2_ctx3_ctx4\n"
     ]
    }
   ],
   "source": [
    "columns = ['ctx1', 'ctx2', 'ctx3', 'ctx4']\n",
    "combination = [columns[:i] for i in range(2,len(columns)+1)]\n",
    "\n",
    "for comb in combination:\n",
    "    suffix = '_'.join(comb)\n",
    "    print(suffix)\n",
    "    sample_data[f'{suffix}_mean'] = sample_data[comb].mean(axis=1)\n",
    "    sample_data[f'{suffix}_std'] = sample_data[comb].std(axis=1)\n",
    "    "
   ]
  },
  {
   "cell_type": "markdown",
   "id": "8945b021",
   "metadata": {},
   "source": [
    "# Merge additional data"
   ]
  },
  {
   "cell_type": "markdown",
   "id": "738afbb9",
   "metadata": {},
   "source": [
    "### Merge with data geo"
   ]
  },
  {
   "cell_type": "code",
   "execution_count": 206,
   "id": "f141d59c",
   "metadata": {},
   "outputs": [],
   "source": [
    "\n",
    "sample_data = pd.merge(sample_data, df_geo_informacio, on=['station_id'], how='left')\n"
   ]
  },
  {
   "cell_type": "markdown",
   "id": "717c3ac1",
   "metadata": {},
   "source": [
    "### Merge with data festius"
   ]
  },
  {
   "cell_type": "code",
   "execution_count": 207,
   "id": "d791b972",
   "metadata": {},
   "outputs": [],
   "source": [
    "\n",
    "sample_data = pd.merge(sample_data, df_calendari_festius, on=['year', 'month', 'day'], how='left')\n"
   ]
  },
  {
   "cell_type": "markdown",
   "id": "461292e1",
   "metadata": {},
   "source": [
    "### Merge with data meteo"
   ]
  },
  {
   "cell_type": "code",
   "execution_count": 208,
   "id": "65ae553e",
   "metadata": {},
   "outputs": [],
   "source": [
    "\n",
    "sample_data = pd.merge(sample_data, df_estadistica_meteo, on=['year', 'month', 'day'], how='left')\n"
   ]
  },
  {
   "cell_type": "markdown",
   "id": "38439f0b",
   "metadata": {},
   "source": [
    "# Merge capacity "
   ]
  },
  {
   "cell_type": "code",
   "execution_count": 209,
   "id": "95aabd22",
   "metadata": {},
   "outputs": [],
   "source": [
    "X_train.capacity = X_train.capacity.astype(int)"
   ]
  },
  {
   "cell_type": "code",
   "execution_count": 210,
   "id": "f3e32918",
   "metadata": {},
   "outputs": [],
   "source": [
    "station_capacity = X_train.groupby(['station_id']).capacity.max()\n"
   ]
  },
  {
   "cell_type": "code",
   "execution_count": 211,
   "id": "fc200de8",
   "metadata": {},
   "outputs": [],
   "source": [
    "station_capacity = station_capacity.reset_index()"
   ]
  },
  {
   "cell_type": "code",
   "execution_count": 212,
   "id": "c666f0ee",
   "metadata": {},
   "outputs": [],
   "source": [
    "\n",
    "sample_data = pd.merge(sample_data, station_capacity, on=['station_id'], how='left')\n"
   ]
  },
  {
   "cell_type": "markdown",
   "id": "b2cae5f2",
   "metadata": {},
   "source": [
    "# Assert all columns are generated"
   ]
  },
  {
   "cell_type": "code",
   "execution_count": 213,
   "id": "cb25af7e",
   "metadata": {
    "scrolled": true
   },
   "outputs": [
    {
     "data": {
      "text/plain": [
       "['num_docks_available',\n",
       " 'num_bikes_available',\n",
       " 'timestamp',\n",
       " 'num_bikes_available_types.mechanical',\n",
       " 'num_bikes_available_types.ebike',\n",
       " 'ctx0']"
      ]
     },
     "execution_count": 213,
     "metadata": {},
     "output_type": "execute_result"
    }
   ],
   "source": [
    "# Correct\n",
    "#  'num_docks_available',\n",
    "#  'num_bikes_available',\n",
    "#  'timestamp',\n",
    "#  'num_bikes_available_types.mechanical',\n",
    "#  'num_bikes_available_types.ebike',\n",
    "#  'ctx0'\n",
    "# are not part of the needed features\n",
    "[x for x in X_train.columns if x not in sample_data.columns]"
   ]
  },
  {
   "cell_type": "code",
   "execution_count": 214,
   "id": "1899a48d",
   "metadata": {},
   "outputs": [
    {
     "name": "stdout",
     "output_type": "stream",
     "text": [
      "CPU times: user 705 ms, sys: 19.1 ms, total: 724 ms\n",
      "Wall time: 734 ms\n"
     ]
    }
   ],
   "source": [
    "%%time \n",
    "\n",
    "sample_data.to_csv('dades/processed/kaggle_sample_data.csv', header=True, index=True, index_label='index')\n"
   ]
  },
  {
   "cell_type": "markdown",
   "id": "f677b355",
   "metadata": {},
   "source": [
    "# apply pipeline"
   ]
  },
  {
   "cell_type": "code",
   "execution_count": 215,
   "id": "696eab39",
   "metadata": {},
   "outputs": [
    {
     "name": "stdout",
     "output_type": "stream",
     "text": [
      "x_train_prepared: (4108638, 25) y_train:  (4108638,)\n",
      "x_test_prepared: (1016614, 25) y_test:  (1016614,)\n",
      "x_test_prepared: (358887, 25) y_test:  (358887,)\n",
      "x_test_prepared: (54999, 25)\n"
     ]
    }
   ],
   "source": [
    "X_sample_prepared = full_pipeline.transform(sample_data)\n",
    "\n",
    "print(\"x_train_prepared:\",X_train_prepared.shape,\"y_train: \",y_train_prepared.shape)\n",
    "print(\"x_test_prepared:\",X_val_prepared.shape,\"y_test: \",y_val_prepared.shape)\n",
    "print(\"x_test_prepared:\",X_test_prepared.shape,\"y_test: \",y_test_prepared.shape)\n",
    "print(\"x_test_prepared:\",X_sample_prepared.shape)"
   ]
  },
  {
   "cell_type": "code",
   "execution_count": 216,
   "id": "a5250b8b",
   "metadata": {},
   "outputs": [
    {
     "name": "stdout",
     "output_type": "stream",
     "text": [
      "CPU times: user 5 µs, sys: 1 µs, total: 6 µs\n",
      "Wall time: 10.3 µs\n"
     ]
    }
   ],
   "source": [
    "%%time \n",
    "\n",
    "model = lin_reg"
   ]
  },
  {
   "cell_type": "code",
   "execution_count": 217,
   "id": "aa6e7da3",
   "metadata": {},
   "outputs": [],
   "source": [
    "name = f'{model.__class__}'.split('.')[-1]\n",
    "name = name.translate( { ord(i): None for i in \"'<>\"})\n",
    "number = 1"
   ]
  },
  {
   "cell_type": "code",
   "execution_count": 218,
   "id": "7d2f5c49",
   "metadata": {
    "scrolled": false
   },
   "outputs": [
    {
     "name": "stderr",
     "output_type": "stream",
     "text": [
      "[Parallel(n_jobs=5)]: Using backend LokyBackend with 5 concurrent workers.\n",
      "[Parallel(n_jobs=5)]: Done   2 out of   5 | elapsed:    9.9s remaining:   14.8s\n",
      "[Parallel(n_jobs=5)]: Done   5 out of   5 | elapsed:    9.9s remaining:    0.0s\n",
      "[Parallel(n_jobs=5)]: Done   5 out of   5 | elapsed:    9.9s finished\n"
     ]
    },
    {
     "name": "stdout",
     "output_type": "stream",
     "text": [
      "\n",
      "  model test\n",
      "Scores: [-0.11166467 -0.11151427 -0.11362    -0.11551702 -0.11574956]\n",
      "Mean: -0.113613101078695\n",
      "Standard deviation: 0.0018105739648623788\n",
      "\n",
      "Training time: 0.102 s\n",
      "----- EVALUATION ON VAL SET ------\n",
      "MSE: 0.012904998323003678\n",
      "RMSE 0.11360016867506702\n",
      "MAE: 0.07454470635792958\n",
      "R^2:  0.823742318956561\n",
      "\n"
     ]
    },
    {
     "data": {
      "image/png": "[encoded data removed]",
      "text/plain": [
       "<Figure size 640x480 with 1 Axes>"
      ]
     },
     "metadata": {},
     "output_type": "display_data"
    },
    {
     "name": "stdout",
     "output_type": "stream",
     "text": [
      "\n",
      "Training time: 0.025 s\n",
      "----- EVALUATION ON VAL SET ------\n",
      "MSE: 0.008941914916008768\n",
      "RMSE 0.09456169899070536\n",
      "MAE: 0.059392345651216094\n",
      "R^2:  0.8710450641222052\n",
      "\n"
     ]
    },
    {
     "data": {
      "image/png": "[encoded data removed]",
      "text/plain": [
       "<Figure size 640x480 with 1 Axes>"
      ]
     },
     "metadata": {},
     "output_type": "display_data"
    },
    {
     "name": "stdout",
     "output_type": "stream",
     "text": [
      "\n",
      "Testing time: 0.019 s\n",
      "----- EVALUATION ON VAL SET ------\n",
      "MSE: 0.013933427355911548\n",
      "RMSE 0.11803993966413041\n",
      "MAE: 0.07891786160971462\n",
      "R^2:  0.8094868093025294\n",
      "\n"
     ]
    },
    {
     "data": {
      "image/png": "[encoded data removed]",
      "text/plain": [
       "<Figure size 640x480 with 1 Axes>"
      ]
     },
     "metadata": {},
     "output_type": "display_data"
    },
    {
     "data": {
      "text/plain": [
       "{'train': mse_t     0.012905\n",
       " rmse_t      0.1136\n",
       " mae_t     0.074545\n",
       " r2_t      0.823742\n",
       " dtype: object,\n",
       " 'test': mse_t     0.008942\n",
       " rmse_t    0.094562\n",
       " mae_t     0.059392\n",
       " r2_t      0.871045\n",
       " mse_v     0.013933\n",
       " rmse_v     0.11804\n",
       " mae_v     0.078918\n",
       " r2_v      0.809487\n",
       " dtype: object}"
      ]
     },
     "execution_count": 218,
     "metadata": {},
     "output_type": "execute_result"
    }
   ],
   "source": [
    "test_model_train_val_test(\n",
    "    model, \n",
    "    (X_train_prepared, y_train_prepared),\n",
    "    (X_val_prepared, y_val_prepared),\n",
    "    (X_test_prepared,  y_test_prepared),\n",
    "    show=True\n",
    ")"
   ]
  },
  {
   "cell_type": "code",
   "execution_count": 219,
   "id": "35546150",
   "metadata": {},
   "outputs": [],
   "source": [
    "yhat = lin_reg.predict(X_sample_prepared)"
   ]
  },
  {
   "cell_type": "code",
   "execution_count": 220,
   "id": "524e4aa3",
   "metadata": {},
   "outputs": [
    {
     "data": {
      "text/plain": [
       "(54999,)"
      ]
     },
     "execution_count": 220,
     "metadata": {},
     "output_type": "execute_result"
    }
   ],
   "source": [
    "yhat.shape"
   ]
  },
  {
   "cell_type": "code",
   "execution_count": 221,
   "id": "cbe4e5ca",
   "metadata": {},
   "outputs": [],
   "source": [
    "sample_data['percentage_docks_available'] = yhat"
   ]
  },
  {
   "cell_type": "code",
   "execution_count": 222,
   "id": "22424a27",
   "metadata": {},
   "outputs": [],
   "source": [
    "sample_data['percentage_docks_available'].to_csv(f'{name}{number}.csv', header=True, index_label='index')"
   ]
  },
  {
   "cell_type": "code",
   "execution_count": null,
   "id": "fafc1ab7",
   "metadata": {},
   "outputs": [],
   "source": []
  }
 ],
 "metadata": {
  "kernelspec": {
   "display_name": "Python 3 (ipykernel)",
   "language": "python",
   "name": "python3"
  },
  "language_info": {
   "codemirror_mode": {
    "name": "ipython",
    "version": 3
   },
   "file_extension": ".py",
   "mimetype": "text/x-python",
   "name": "python",
   "nbconvert_exporter": "python",
   "pygments_lexer": "ipython3",
   "version": "3.8.16"
  }
 },
 "nbformat": 4,
 "nbformat_minor": 5
}
