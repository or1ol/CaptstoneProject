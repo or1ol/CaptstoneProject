{
 "cells": [
  {
   "cell_type": "code",
   "execution_count": 1,
   "id": "e494720a",
   "metadata": {},
   "outputs": [
    {
     "data": {
      "text/html": [
       "<style>.container { width:80% !important; }</style>"
      ],
      "text/plain": [
       "<IPython.core.display.HTML object>"
      ]
     },
     "metadata": {},
     "output_type": "display_data"
    }
   ],
   "source": [
    "from IPython.core.display import display, HTML\n",
    "display(HTML(\"<style>.container { width:80% !important; }</style>\"))\n",
    "\n",
    "import os\n",
    "\n",
    "# Python ≥3.5 is required\n",
    "import sys\n",
    "assert sys.version_info >= (3, 5)\n",
    "\n",
    "# Scikit-Learn ≥0.20 is required\n",
    "import sklearn\n",
    "assert sklearn.__version__ >= \"0.20\"\n",
    "\n",
    "from sklearn.ensemble import RandomForestRegressor\n",
    "from sklearn.ensemble import GradientBoostingRegressor\n",
    "from sklearn.model_selection import cross_val_score\n",
    "from sklearn.metrics import mean_squared_error, r2_score\n",
    "from sklearn.metrics import mean_absolute_error\n",
    "\n",
    "import pandas as pd\n",
    "import numpy as np\n",
    "pd.set_option('display.max_columns', None)\n",
    "\n",
    "# To plot pretty figures\n",
    "%matplotlib inline\n",
    "import matplotlib as mpl\n",
    "import matplotlib.pyplot as plt\n",
    "\n",
    "import scipy.stats as stats\n",
    "\n",
    "import seaborn as sns\n",
    "\n",
    "from datetime import datetime\n",
    "\n",
    "import re\n",
    "\n",
    "from tqdm.notebook import tqdm\n",
    "\n",
    "import dask.dataframe as dd\n",
    "from dask.distributed import Client\n",
    "\n",
    "sys.path.insert(0, '../tools/')\n",
    "\n",
    "from tools import * "
   ]
  },
  {
   "cell_type": "code",
   "execution_count": 2,
   "id": "a4287a45",
   "metadata": {},
   "outputs": [],
   "source": [
    "config = pd.Series({\n",
    "    'path': os.path.abspath('../dades'),\n",
    "    'file_type':'csv',\n",
    "    'years':[2022],\n",
    "    'dataset': 'BicingNou_ESTACIONS_CLEAN'\n",
    "})\n"
   ]
  },
  {
   "cell_type": "code",
   "execution_count": 3,
   "id": "2bd014c8",
   "metadata": {},
   "outputs": [
    {
     "data": {
      "text/html": [
       "<table style=\"border: 2px solid white;\">\n",
       "<tr>\n",
       "<td style=\"vertical-align: top; border: 0px solid white\">\n",
       "<h3 style=\"text-align: left;\">Client</h3>\n",
       "<ul style=\"text-align: left; list-style: none; margin: 0; padding: 0;\">\n",
       "  <li><b>Scheduler: </b>tcp://127.0.0.1:39087</li>\n",
       "  <li><b>Dashboard: </b><a href='http://127.0.0.1:8787/status' target='_blank'>http://127.0.0.1:8787/status</a></li>\n",
       "</ul>\n",
       "</td>\n",
       "<td style=\"vertical-align: top; border: 0px solid white\">\n",
       "<h3 style=\"text-align: left;\">Cluster</h3>\n",
       "<ul style=\"text-align: left; list-style:none; margin: 0; padding: 0;\">\n",
       "  <li><b>Workers: </b>4</li>\n",
       "  <li><b>Cores: </b>16</li>\n",
       "  <li><b>Memory: </b>16.44 GB</li>\n",
       "</ul>\n",
       "</td>\n",
       "</tr>\n",
       "</table>"
      ],
      "text/plain": [
       "<Client: 'tcp://127.0.0.1:39087' processes=4 threads=16, memory=16.44 GB>"
      ]
     },
     "execution_count": 3,
     "metadata": {},
     "output_type": "execute_result"
    }
   ],
   "source": [
    "client = Client()\n",
    "client"
   ]
  },
  {
   "cell_type": "markdown",
   "id": "9349a524",
   "metadata": {},
   "source": [
    "# Read data"
   ]
  },
  {
   "cell_type": "code",
   "execution_count": 4,
   "id": "5424d9d1",
   "metadata": {},
   "outputs": [
    {
     "data": {
      "application/vnd.jupyter.widget-view+json": {
       "model_id": "26ac3040636841a8adc4f7a6a5b58c5f",
       "version_major": 2,
       "version_minor": 0
      },
      "text/plain": [
       "  0%|          | 0/1 [00:00<?, ?it/s]"
      ]
     },
     "metadata": {},
     "output_type": "display_data"
    },
    {
     "data": {
      "application/vnd.jupyter.widget-view+json": {
       "model_id": "a8ab91a8d59e497ba4674d59ad3ac561",
       "version_major": 2,
       "version_minor": 0
      },
      "text/plain": [
       "  0%|          | 0/12 [00:00<?, ?it/s]"
      ]
     },
     "metadata": {},
     "output_type": "display_data"
    },
    {
     "name": "stdout",
     "output_type": "stream",
     "text": [
      "CPU times: user 173 ms, sys: 52.4 ms, total: 225 ms\n",
      "Wall time: 217 ms\n"
     ]
    }
   ],
   "source": [
    "%%time\n",
    "\n",
    "data = read_dask_dataframes(config.path, config.file_type, config.dataset, config.years)"
   ]
  },
  {
   "cell_type": "markdown",
   "id": "220d2efd",
   "metadata": {},
   "source": [
    "# 2022 "
   ]
  },
  {
   "cell_type": "code",
   "execution_count": 5,
   "id": "3b7ad367",
   "metadata": {},
   "outputs": [],
   "source": [
    "config_year = pd.Series({\n",
    "    'path':config.path,\n",
    "    'file_type':config.file_type,\n",
    "    'year':2022,\n",
    "    'dataset': 'BicingNou_ESTACIONS_MOD'\n",
    "})"
   ]
  },
  {
   "cell_type": "code",
   "execution_count": 6,
   "id": "9f9c6856",
   "metadata": {},
   "outputs": [
    {
     "data": {
      "text/plain": [
       "13"
      ]
     },
     "execution_count": 6,
     "metadata": {},
     "output_type": "execute_result"
    }
   ],
   "source": [
    "len(data[config_year.year].divisions) # divisions mark the start and end of each partiotion\n",
    "# in our case we have nones but that is okay"
   ]
  },
  {
   "cell_type": "code",
   "execution_count": 7,
   "id": "e45166fb",
   "metadata": {},
   "outputs": [],
   "source": [
    "first_size = get_ddf_shape(data[config_year.year])"
   ]
  },
  {
   "cell_type": "code",
   "execution_count": 8,
   "id": "2bdc2972",
   "metadata": {},
   "outputs": [
    {
     "data": {
      "text/html": [
       "<div><strong>Dask DataFrame Structure:</strong></div>\n",
       "<div>\n",
       "<style scoped>\n",
       "    .dataframe tbody tr th:only-of-type {\n",
       "        vertical-align: middle;\n",
       "    }\n",
       "\n",
       "    .dataframe tbody tr th {\n",
       "        vertical-align: top;\n",
       "    }\n",
       "\n",
       "    .dataframe thead th {\n",
       "        text-align: right;\n",
       "    }\n",
       "</style>\n",
       "<table border=\"1\" class=\"dataframe\">\n",
       "  <thead>\n",
       "    <tr style=\"text-align: right;\">\n",
       "      <th></th>\n",
       "      <th>station_id</th>\n",
       "      <th>num_bikes_available</th>\n",
       "      <th>num_bikes_available_types.mechanical</th>\n",
       "      <th>num_bikes_available_types.ebike</th>\n",
       "      <th>num_docks_available</th>\n",
       "      <th>last_reported</th>\n",
       "      <th>is_charging_station</th>\n",
       "      <th>status</th>\n",
       "      <th>is_installed</th>\n",
       "      <th>is_renting</th>\n",
       "      <th>is_returning</th>\n",
       "      <th>traffic</th>\n",
       "      <th>last_updated</th>\n",
       "      <th>year_last_updated_date</th>\n",
       "      <th>month_last_updated_date</th>\n",
       "      <th>week_last_updated_date</th>\n",
       "      <th>dayofweek_last_updated_date</th>\n",
       "      <th>dayofmonth_last_updated_date</th>\n",
       "      <th>dayofyear_last_updated_date</th>\n",
       "      <th>hour_last_updated_date</th>\n",
       "    </tr>\n",
       "    <tr>\n",
       "      <th>npartitions=12</th>\n",
       "      <th></th>\n",
       "      <th></th>\n",
       "      <th></th>\n",
       "      <th></th>\n",
       "      <th></th>\n",
       "      <th></th>\n",
       "      <th></th>\n",
       "      <th></th>\n",
       "      <th></th>\n",
       "      <th></th>\n",
       "      <th></th>\n",
       "      <th></th>\n",
       "      <th></th>\n",
       "      <th></th>\n",
       "      <th></th>\n",
       "      <th></th>\n",
       "      <th></th>\n",
       "      <th></th>\n",
       "      <th></th>\n",
       "      <th></th>\n",
       "    </tr>\n",
       "  </thead>\n",
       "  <tbody>\n",
       "    <tr>\n",
       "      <th></th>\n",
       "      <td>float64</td>\n",
       "      <td>float64</td>\n",
       "      <td>float64</td>\n",
       "      <td>float64</td>\n",
       "      <td>float64</td>\n",
       "      <td>float64</td>\n",
       "      <td>float64</td>\n",
       "      <td>float64</td>\n",
       "      <td>float64</td>\n",
       "      <td>float64</td>\n",
       "      <td>float64</td>\n",
       "      <td>float64</td>\n",
       "      <td>float64</td>\n",
       "      <td>float64</td>\n",
       "      <td>float64</td>\n",
       "      <td>float64</td>\n",
       "      <td>float64</td>\n",
       "      <td>float64</td>\n",
       "      <td>float64</td>\n",
       "      <td>float64</td>\n",
       "    </tr>\n",
       "    <tr>\n",
       "      <th></th>\n",
       "      <td>...</td>\n",
       "      <td>...</td>\n",
       "      <td>...</td>\n",
       "      <td>...</td>\n",
       "      <td>...</td>\n",
       "      <td>...</td>\n",
       "      <td>...</td>\n",
       "      <td>...</td>\n",
       "      <td>...</td>\n",
       "      <td>...</td>\n",
       "      <td>...</td>\n",
       "      <td>...</td>\n",
       "      <td>...</td>\n",
       "      <td>...</td>\n",
       "      <td>...</td>\n",
       "      <td>...</td>\n",
       "      <td>...</td>\n",
       "      <td>...</td>\n",
       "      <td>...</td>\n",
       "      <td>...</td>\n",
       "    </tr>\n",
       "    <tr>\n",
       "      <th>...</th>\n",
       "      <td>...</td>\n",
       "      <td>...</td>\n",
       "      <td>...</td>\n",
       "      <td>...</td>\n",
       "      <td>...</td>\n",
       "      <td>...</td>\n",
       "      <td>...</td>\n",
       "      <td>...</td>\n",
       "      <td>...</td>\n",
       "      <td>...</td>\n",
       "      <td>...</td>\n",
       "      <td>...</td>\n",
       "      <td>...</td>\n",
       "      <td>...</td>\n",
       "      <td>...</td>\n",
       "      <td>...</td>\n",
       "      <td>...</td>\n",
       "      <td>...</td>\n",
       "      <td>...</td>\n",
       "      <td>...</td>\n",
       "    </tr>\n",
       "    <tr>\n",
       "      <th></th>\n",
       "      <td>...</td>\n",
       "      <td>...</td>\n",
       "      <td>...</td>\n",
       "      <td>...</td>\n",
       "      <td>...</td>\n",
       "      <td>...</td>\n",
       "      <td>...</td>\n",
       "      <td>...</td>\n",
       "      <td>...</td>\n",
       "      <td>...</td>\n",
       "      <td>...</td>\n",
       "      <td>...</td>\n",
       "      <td>...</td>\n",
       "      <td>...</td>\n",
       "      <td>...</td>\n",
       "      <td>...</td>\n",
       "      <td>...</td>\n",
       "      <td>...</td>\n",
       "      <td>...</td>\n",
       "      <td>...</td>\n",
       "    </tr>\n",
       "    <tr>\n",
       "      <th></th>\n",
       "      <td>...</td>\n",
       "      <td>...</td>\n",
       "      <td>...</td>\n",
       "      <td>...</td>\n",
       "      <td>...</td>\n",
       "      <td>...</td>\n",
       "      <td>...</td>\n",
       "      <td>...</td>\n",
       "      <td>...</td>\n",
       "      <td>...</td>\n",
       "      <td>...</td>\n",
       "      <td>...</td>\n",
       "      <td>...</td>\n",
       "      <td>...</td>\n",
       "      <td>...</td>\n",
       "      <td>...</td>\n",
       "      <td>...</td>\n",
       "      <td>...</td>\n",
       "      <td>...</td>\n",
       "      <td>...</td>\n",
       "    </tr>\n",
       "  </tbody>\n",
       "</table>\n",
       "</div>\n",
       "<div>Dask Name: concat, 24 tasks</div>"
      ],
      "text/plain": [
       "Dask DataFrame Structure:\n",
       "               station_id num_bikes_available num_bikes_available_types.mechanical num_bikes_available_types.ebike num_docks_available last_reported is_charging_station   status is_installed is_renting is_returning  traffic last_updated year_last_updated_date month_last_updated_date week_last_updated_date dayofweek_last_updated_date dayofmonth_last_updated_date dayofyear_last_updated_date hour_last_updated_date\n",
       "npartitions=12                                                                                                                                                                                                                                                                                                                                                                                                                \n",
       "                  float64             float64                              float64                         float64             float64       float64             float64  float64      float64    float64      float64  float64      float64                float64                 float64                float64                     float64                      float64                     float64                float64\n",
       "                      ...                 ...                                  ...                             ...                 ...           ...                 ...      ...          ...        ...          ...      ...          ...                    ...                     ...                    ...                         ...                          ...                         ...                    ...\n",
       "...                   ...                 ...                                  ...                             ...                 ...           ...                 ...      ...          ...        ...          ...      ...          ...                    ...                     ...                    ...                         ...                          ...                         ...                    ...\n",
       "                      ...                 ...                                  ...                             ...                 ...           ...                 ...      ...          ...        ...          ...      ...          ...                    ...                     ...                    ...                         ...                          ...                         ...                    ...\n",
       "                      ...                 ...                                  ...                             ...                 ...           ...                 ...      ...          ...        ...          ...      ...          ...                    ...                     ...                    ...                         ...                          ...                         ...                    ...\n",
       "Dask Name: concat, 24 tasks"
      ]
     },
     "execution_count": 8,
     "metadata": {},
     "output_type": "execute_result"
    }
   ],
   "source": [
    "data[config_year.year]"
   ]
  },
  {
   "cell_type": "markdown",
   "id": "35838ed0",
   "metadata": {},
   "source": [
    "## Preprocessing"
   ]
  },
  {
   "cell_type": "code",
   "execution_count": 9,
   "id": "73ab97db",
   "metadata": {},
   "outputs": [
    {
     "name": "stdout",
     "output_type": "stream",
     "text": [
      "CPU times: user 1.46 s, sys: 75.7 ms, total: 1.53 s\n",
      "Wall time: 3.45 s\n"
     ]
    }
   ],
   "source": [
    "%%time\n",
    "\n",
    "# do not execute everytime, takes 17s and eat the memory. Once executed disable the cell and restart the notebook. Since this cell saves a checkpoint you can continue without it.\n",
    "\n",
    "data[config_year.year] = data[config_year.year].drop(['week_last_updated_date', 'traffic', 'last_reported'], axis=1)\n",
    "\n",
    "data[config_year.year]['station_id']=data[config_year.year]['station_id'].astype(int)\n",
    "data[config_year.year]['is_charging_station']=data[config_year.year]['is_charging_station'].astype(int)\n",
    "data[config_year.year]['last_updated']=data[config_year.year]['last_updated'].astype(int)\n",
    "data[config_year.year]['year_last_updated_date']=data[config_year.year]['year_last_updated_date'].astype(int)\n",
    "data[config_year.year]['month_last_updated_date']=data[config_year.year]['month_last_updated_date'].astype(int)\n",
    "data[config_year.year]['dayofweek_last_updated_date']=data[config_year.year]['dayofweek_last_updated_date'].astype(int)\n",
    "data[config_year.year]['dayofmonth_last_updated_date']=data[config_year.year]['dayofmonth_last_updated_date'].astype(int)\n",
    "data[config_year.year]['dayofyear_last_updated_date']=data[config_year.year]['dayofyear_last_updated_date'].astype(int)\n",
    "data[config_year.year]['hour_last_updated_date']=data[config_year.year]['hour_last_updated_date'].astype(int)\n",
    "\n",
    "data[config_year.year]['status']=data[config_year.year]['status'].round().astype(int)\n",
    "data[config_year.year]['is_installed']=data[config_year.year]['is_installed'].round().astype(int)\n",
    "data[config_year.year]['is_renting']=data[config_year.year]['is_renting'].round().astype(int)\n",
    "data[config_year.year]['is_returning']=data[config_year.year]['is_returning'].round().astype(int)\n",
    "\n",
    "# Found two station with alot of missing values \n",
    "# best solution is to remove\n",
    "condition = (data[config_year.year]['station_id'].isin([520.0, 527.0, 532.0]))\n",
    "data[config_year.year] = data[config_year.year].mask(condition, np.nan)\n",
    "data[config_year.year] = data[config_year.year].dropna(subset=['station_id'])\n",
    "\n",
    "last_size = get_ddf_shape(data[config_year.year])\n",
    "\n",
    "new_columns = {\n",
    "    'last_updated': 'timestamp',\n",
    "    'year_last_updated_date':'year', \n",
    "    'month_last_updated_date':'month',\n",
    "    'dayofweek_last_updated_date':'dayofweek', \n",
    "    'dayofmonth_last_updated_date':'day', \n",
    "    'dayofyear_last_updated_date':'dayofyear',\n",
    "    'hour_last_updated_date':'hour'\n",
    "}\n",
    "\n",
    "data[config_year.year] = data[config_year.year].rename(columns=new_columns)"
   ]
  },
  {
   "cell_type": "code",
   "execution_count": 10,
   "id": "b1117035",
   "metadata": {},
   "outputs": [
    {
     "name": "stdout",
     "output_type": "stream",
     "text": [
      "checkpoint saved.\n"
     ]
    }
   ],
   "source": [
    "save_checkpoint(data[config_year.year], config_year)\n",
    "\n",
    "# checkpoint saved.\n",
    "# CPU times: user 2.12 s, sys: 250 ms, total: 2.37 s\n",
    "# Wall time: 17.3 s"
   ]
  },
  {
   "cell_type": "code",
   "execution_count": 11,
   "id": "a9366d9b",
   "metadata": {},
   "outputs": [
    {
     "name": "stdout",
     "output_type": "stream",
     "text": [
      "checkpoint reloaded.\n",
      "CPU times: user 12.9 ms, sys: 1.13 ms, total: 14 ms\n",
      "Wall time: 13.3 ms\n"
     ]
    }
   ],
   "source": [
    "%%time\n",
    "\n",
    "data[config_year.year] = load_checkpoint(config_year)\n",
    "\n",
    "# checkpoint reloaded."
   ]
  },
  {
   "cell_type": "code",
   "execution_count": 12,
   "id": "2c3a647b",
   "metadata": {},
   "outputs": [
    {
     "name": "stdout",
     "output_type": "stream",
     "text": [
      "Changes to dataframe durinf preprocessing\n",
      "dropeed -49 rows\n",
      "dropped -3 columns\n",
      "CPU times: user 119 ms, sys: 30.8 ms, total: 150 ms\n",
      "Wall time: 932 ms\n"
     ]
    }
   ],
   "source": [
    "%%time\n",
    "\n",
    "last_size = get_ddf_shape(data[config_year.year])\n",
    "\n",
    "print('Changes to dataframe durinf preprocessing')\n",
    "print(f'dropeed {(last_size[0]-first_size[0]):02d} rows')\n",
    "print(f'dropped {(last_size[1]-first_size[1]):02d} columns')"
   ]
  },
  {
   "cell_type": "code",
   "execution_count": 13,
   "id": "61db0537",
   "metadata": {},
   "outputs": [
    {
     "data": {
      "text/plain": [
       "13"
      ]
     },
     "execution_count": 13,
     "metadata": {},
     "output_type": "execute_result"
    }
   ],
   "source": [
    "len(data[config_year.year].divisions) # divisions mark the start and end of each partiotion\n",
    "# in our case we have nones but that is okay"
   ]
  },
  {
   "cell_type": "raw",
   "id": "5cc068bf",
   "metadata": {},
   "source": [
    "print_partitions(data[config_year.year])"
   ]
  },
  {
   "cell_type": "code",
   "execution_count": 14,
   "id": "17180ed3",
   "metadata": {},
   "outputs": [
    {
     "name": "stdout",
     "output_type": "stream",
     "text": [
      "CPU times: user 592 ms, sys: 109 ms, total: 701 ms\n",
      "Wall time: 4.22 s\n"
     ]
    }
   ],
   "source": [
    "%%time\n",
    "\n",
    "nans = get_features_nans(data[config_year.year])\n",
    "\n",
    "zeros = get_features_zero(data[config_year.year])"
   ]
  },
  {
   "cell_type": "code",
   "execution_count": 15,
   "id": "a71ccd91",
   "metadata": {},
   "outputs": [
    {
     "data": {
      "text/plain": [
       "{}"
      ]
     },
     "execution_count": 15,
     "metadata": {},
     "output_type": "execute_result"
    }
   ],
   "source": [
    "nans"
   ]
  },
  {
   "cell_type": "code",
   "execution_count": 16,
   "id": "40239ba4",
   "metadata": {},
   "outputs": [
    {
     "data": {
      "text/plain": [
       "{'num_bikes_available': 2.5963585784636956,\n",
       " 'num_bikes_available_types.mechanical': 15.926919084155319,\n",
       " 'num_bikes_available_types.ebike': 15.558967110431807,\n",
       " 'num_docks_available': 0.530128575792313,\n",
       " 'is_charging_station': 2.254331416024464e-05,\n",
       " 'status': 99.94682032189598,\n",
       " 'is_installed': 0.00018034651328195712,\n",
       " 'is_renting': 0.05944671944056512,\n",
       " 'is_returning': 0.05944671944056512,\n",
       " 'dayofweek': 14.206142827675524,\n",
       " 'hour': 4.155116036073812}"
      ]
     },
     "execution_count": 16,
     "metadata": {},
     "output_type": "execute_result"
    }
   ],
   "source": [
    "zeros"
   ]
  },
  {
   "cell_type": "code",
   "execution_count": 17,
   "id": "ad9ea960",
   "metadata": {},
   "outputs": [],
   "source": [
    "# nuniques = get_columns_nunique(data[config_year.year])\n",
    "\n",
    "# pd.Series(nuniques)\n",
    "# station_id                                  511\n",
    "# num_bikes_available                        5413\n",
    "# num_bikes_available_types.mechanical       4950\n",
    "# num_bikes_available_types.ebike            2412\n",
    "# num_docks_available                        5641\n",
    "# last_reported                           3085646\n",
    "# is_charging_station                           2\n",
    "# status                                      264\n",
    "# is_installed                                 50\n",
    "# is_renting                                  230\n",
    "# is_returning                                230\n",
    "# timestamp                                  8700\n",
    "# year                                          2\n",
    "# month                                        12\n",
    "# week                                         53\n",
    "# dayofweek                                     7\n",
    "# day                                          31\n",
    "# dayofyear                                   366\n",
    "# hour                                         24\n",
    "# traffic                                    1741\n",
    "# dtype: int64\n",
    "    \n",
    "uniques = get_columns_unique(data[config_year.year])"
   ]
  },
  {
   "cell_type": "code",
   "execution_count": 18,
   "id": "1eb3676a",
   "metadata": {},
   "outputs": [
    {
     "data": {
      "text/plain": [
       "{'station_id': 0        1\n",
       " 1      380\n",
       " 2       28\n",
       " 3      379\n",
       " 4      378\n",
       "       ... \n",
       " 505     86\n",
       " 506    314\n",
       " 507     74\n",
       " 508     66\n",
       " 509    431\n",
       " Name: station_id, Length: 510, dtype: int64,\n",
       " 'num_bikes_available': 0       18.000000\n",
       " 1       17.166667\n",
       " 2       14.875000\n",
       " 3       12.636364\n",
       " 4       12.111111\n",
       "           ...    \n",
       " 4812    39.153846\n",
       " 4813    46.538462\n",
       " 4814    47.461538\n",
       " 4815    16.933333\n",
       " 4816    20.458333\n",
       " Name: num_bikes_available, Length: 4817, dtype: float64,\n",
       " 'num_bikes_available_types.mechanical': 0       12.000000\n",
       " 1       11.166667\n",
       " 2       12.375000\n",
       " 3       12.454545\n",
       " 4       11.222222\n",
       "           ...    \n",
       " 4141    45.846154\n",
       " 4142    48.142857\n",
       " 4143    18.944444\n",
       " 4144    20.208333\n",
       " 4145     7.208333\n",
       " Name: num_bikes_available_types.mechanical, Length: 4146, dtype: float64,\n",
       " 'num_bikes_available_types.ebike': 0        6.000000\n",
       " 1        2.500000\n",
       " 2        0.181818\n",
       " 3        0.111111\n",
       " 4        1.000000\n",
       "           ...    \n",
       " 2737    30.636364\n",
       " 2738    28.615385\n",
       " 2739    29.125000\n",
       " 2740    28.142857\n",
       " 2741     3.208333\n",
       " Name: num_bikes_available_types.ebike, Length: 2742, dtype: float64,\n",
       " 'num_docks_available': 0       28.000000\n",
       " 1       28.833333\n",
       " 2       31.125000\n",
       " 3       33.363636\n",
       " 4       33.888889\n",
       "           ...    \n",
       " 4927    20.606061\n",
       " 4928    13.208333\n",
       " 4929    27.958333\n",
       " 4930    28.041667\n",
       " 4931    31.050000\n",
       " Name: num_docks_available, Length: 4932, dtype: float64,\n",
       " 'is_charging_station': 0    1\n",
       " 1    0\n",
       " Name: is_charging_station, dtype: int64,\n",
       " 'status': 0    0\n",
       " 1    1\n",
       " 2    2\n",
       " 3    3\n",
       " Name: status, dtype: int64,\n",
       " 'is_installed': 0    1\n",
       " 1    0\n",
       " Name: is_installed, dtype: int64,\n",
       " 'is_renting': 0    1\n",
       " 1    0\n",
       " Name: is_renting, dtype: int64,\n",
       " 'is_returning': 0    1\n",
       " 1    0\n",
       " Name: is_returning, dtype: int64,\n",
       " 'timestamp': 0       1640988000\n",
       " 1       1640991600\n",
       " 2       1640995200\n",
       " 3       1640998800\n",
       " 4       1641002400\n",
       "            ...    \n",
       " 8738    1672513200\n",
       " 8739    1672516800\n",
       " 8740    1672520400\n",
       " 8741    1672524000\n",
       " 8742    1672527600\n",
       " Name: timestamp, Length: 8743, dtype: int64,\n",
       " 'year': 0    2021\n",
       " 1    2022\n",
       " Name: year, dtype: int64,\n",
       " 'month': 0     12\n",
       " 1      1\n",
       " 2      2\n",
       " 3      3\n",
       " 4      4\n",
       " 5      5\n",
       " 6      6\n",
       " 7      7\n",
       " 8      8\n",
       " 9      9\n",
       " 10    10\n",
       " 11    11\n",
       " Name: month, dtype: int64,\n",
       " 'dayofweek': 0    4\n",
       " 1    5\n",
       " 2    6\n",
       " 3    0\n",
       " 4    1\n",
       " 5    2\n",
       " 6    3\n",
       " Name: dayofweek, dtype: int64,\n",
       " 'day': 0     31\n",
       " 1      1\n",
       " 2      2\n",
       " 3      3\n",
       " 4      4\n",
       " 5      5\n",
       " 6      6\n",
       " 7      7\n",
       " 8      8\n",
       " 9      9\n",
       " 10    10\n",
       " 11    11\n",
       " 12    13\n",
       " 13    14\n",
       " 14    15\n",
       " 15    16\n",
       " 16    17\n",
       " 17    18\n",
       " 18    19\n",
       " 19    20\n",
       " 20    21\n",
       " 21    22\n",
       " 22    23\n",
       " 23    24\n",
       " 24    25\n",
       " 25    26\n",
       " 26    27\n",
       " 27    28\n",
       " 28    29\n",
       " 29    30\n",
       " 30    12\n",
       " Name: day, dtype: int64,\n",
       " 'dayofyear': 0      365\n",
       " 1        1\n",
       " 2        2\n",
       " 3        3\n",
       " 4        4\n",
       "       ... \n",
       " 360    360\n",
       " 361    361\n",
       " 362    362\n",
       " 363    363\n",
       " 364    364\n",
       " Name: dayofyear, Length: 365, dtype: int64,\n",
       " 'hour': 0     22\n",
       " 1     23\n",
       " 2      0\n",
       " 3      1\n",
       " 4      2\n",
       " 5      3\n",
       " 6      4\n",
       " 7      5\n",
       " 8      6\n",
       " 9      7\n",
       " 10     8\n",
       " 11     9\n",
       " 12    10\n",
       " 13    11\n",
       " 14    12\n",
       " 15    13\n",
       " 16    14\n",
       " 17    15\n",
       " 18    16\n",
       " 19    17\n",
       " 20    18\n",
       " 21    19\n",
       " 22    20\n",
       " 23    21\n",
       " Name: hour, dtype: int64}"
      ]
     },
     "execution_count": 18,
     "metadata": {},
     "output_type": "execute_result"
    }
   ],
   "source": [
    "uniques"
   ]
  },
  {
   "cell_type": "markdown",
   "id": "5e2f83e8",
   "metadata": {},
   "source": [
    "### Finding max capacity for a station"
   ]
  },
  {
   "cell_type": "code",
   "execution_count": 19,
   "id": "a1c21565",
   "metadata": {},
   "outputs": [
    {
     "name": "stdout",
     "output_type": "stream",
     "text": [
      "DescribeResult(nobs=4435905, minmax=(0.0, 54.0), mean=15.896243707356376, variance=64.74397115799614, skewness=0.19189554341309514, kurtosis=0.1070995253264142)\n",
      "CPU times: user 573 ms, sys: 111 ms, total: 684 ms\n",
      "Wall time: 2.24 s\n"
     ]
    },
    {
     "data": {
      "text/plain": [
       "count    4.435905e+06\n",
       "mean     1.589624e+01\n",
       "std      8.046364e+00\n",
       "min      0.000000e+00\n",
       "25%      1.112500e+01\n",
       "50%      1.700000e+01\n",
       "75%      2.211111e+01\n",
       "max      5.400000e+01\n",
       "Name: num_docks_available, dtype: float64"
      ]
     },
     "execution_count": 19,
     "metadata": {},
     "output_type": "execute_result"
    }
   ],
   "source": [
    "%%time\n",
    "\n",
    "print(stats.describe(data[config_year.year].num_docks_available))\n",
    "data[config_year.year].num_docks_available.describe().compute()"
   ]
  },
  {
   "cell_type": "code",
   "execution_count": 20,
   "id": "61fddc38",
   "metadata": {},
   "outputs": [
    {
     "name": "stdout",
     "output_type": "stream",
     "text": [
      "DescribeResult(nobs=4435905, minmax=(0.0, 54.0), mean=9.337910827394044, variance=56.747394736976496, skewness=0.9777541557492114, kurtosis=1.0910584705337145)\n",
      "CPU times: user 585 ms, sys: 95.7 ms, total: 680 ms\n",
      "Wall time: 2.35 s\n"
     ]
    },
    {
     "data": {
      "text/plain": [
       "count    4.435905e+06\n",
       "mean     9.337911e+00\n",
       "std      7.533087e+00\n",
       "min      0.000000e+00\n",
       "25%      4.625000e+00\n",
       "50%      1.000000e+01\n",
       "75%      1.600000e+01\n",
       "max      5.400000e+01\n",
       "Name: num_bikes_available, dtype: float64"
      ]
     },
     "execution_count": 20,
     "metadata": {},
     "output_type": "execute_result"
    }
   ],
   "source": [
    "%%time\n",
    "\n",
    "print(stats.describe(data[config_year.year].num_bikes_available))\n",
    "data[config_year.year].num_bikes_available.describe().compute()"
   ]
  },
  {
   "cell_type": "code",
   "execution_count": 21,
   "id": "870ab196",
   "metadata": {},
   "outputs": [
    {
     "name": "stdout",
     "output_type": "stream",
     "text": [
      "DescribeResult(nobs=4435905, minmax=(0.0, 53.5), mean=6.66895148262246, variance=46.33574456210898, skewness=1.181808403304697, kurtosis=1.414315846810867)\n",
      "CPU times: user 505 ms, sys: 109 ms, total: 613 ms\n",
      "Wall time: 2.15 s\n"
     ]
    },
    {
     "data": {
      "text/plain": [
       "count    4.435905e+06\n",
       "mean     6.668951e+00\n",
       "std      6.807036e+00\n",
       "min      0.000000e+00\n",
       "25%      1.888889e+00\n",
       "50%      6.285714e+00\n",
       "75%      1.200000e+01\n",
       "max      5.350000e+01\n",
       "Name: num_bikes_available_types.mechanical, dtype: float64"
      ]
     },
     "execution_count": 21,
     "metadata": {},
     "output_type": "execute_result"
    }
   ],
   "source": [
    "%%time\n",
    "\n",
    "print(stats.describe(data[config_year.year]['num_bikes_available_types.mechanical']))\n",
    "data[config_year.year]['num_bikes_available_types.mechanical'].describe().compute()"
   ]
  },
  {
   "cell_type": "code",
   "execution_count": 22,
   "id": "c5907eb8",
   "metadata": {},
   "outputs": [
    {
     "name": "stdout",
     "output_type": "stream",
     "text": [
      "DescribeResult(nobs=4435905, minmax=(0.0, 37.0), mean=2.675881389568528, variance=12.782052664047422, skewness=2.344050161467732, kurtosis=6.863610672271788)\n"
     ]
    },
    {
     "data": {
      "text/plain": [
       "count    4.435905e+06\n",
       "mean     2.675881e+00\n",
       "std      3.575200e+00\n",
       "min      0.000000e+00\n",
       "25%      5.833333e-01\n",
       "50%      2.000000e+00\n",
       "75%      5.333333e+00\n",
       "max      3.700000e+01\n",
       "Name: num_bikes_available_types.ebike, dtype: float64"
      ]
     },
     "execution_count": 22,
     "metadata": {},
     "output_type": "execute_result"
    }
   ],
   "source": [
    "print(stats.describe(data[config_year.year]['num_bikes_available_types.ebike']))\n",
    "data[config_year.year]['num_bikes_available_types.ebike'].describe().compute()"
   ]
  },
  {
   "cell_type": "code",
   "execution_count": 23,
   "id": "68378bb4",
   "metadata": {},
   "outputs": [
    {
     "name": "stdout",
     "output_type": "stream",
     "text": [
      "correct data 4422894 incorrect data 13011\n",
      "CPU times: user 1.58 s, sys: 284 ms, total: 1.86 s\n",
      "Wall time: 6.67 s\n"
     ]
    },
    {
     "data": {
      "text/plain": [
       "<matplotlib.legend.Legend at 0x7faa66f88e10>"
      ]
     },
     "execution_count": 23,
     "metadata": {},
     "output_type": "execute_result"
    },
    {
     "data": {
      "image/png": "[encoded data removed]",
      "text/plain": [
       "<Figure size 720x720 with 1 Axes>"
      ]
     },
     "metadata": {
      "needs_background": "light"
     },
     "output_type": "display_data"
    }
   ],
   "source": [
    "%%time\n",
    "\n",
    "cond = data[config_year.year].num_bikes_available.round().astype(int) == (data[config_year.year]['num_bikes_available_types.ebike'] + data[config_year.year]['num_bikes_available_types.mechanical']).round().astype(int)\n",
    "\n",
    "print('correct data',data[config_year.year][cond].shape[0].compute(), 'incorrect data', data[config_year.year][~cond].shape[0].compute())\n",
    "    \n",
    "plt.rcParams[\"figure.figsize\"] = (10,10)\n",
    "    \n",
    "plt.scatter(\n",
    "    data[config_year.year][cond].num_bikes_available.compute(), \n",
    "    (data[config_year.year][cond]['num_bikes_available_types.ebike'] + data[config_year.year][cond]['num_bikes_available_types.mechanical']).compute(),\n",
    "    label='cond'\n",
    ")\n",
    "\n",
    "plt.scatter(\n",
    "    data[config_year.year][~cond].num_bikes_available.compute(), \n",
    "    (data[config_year.year][~cond]['num_bikes_available_types.ebike'] + data[config_year.year][~cond]['num_bikes_available_types.mechanical']).compute(),\n",
    "    label='~cond'\n",
    ")\n",
    "\n",
    "plt.ylabel('Electric + Mecanic')\n",
    "plt.xlabel('num_bikes_available')\n",
    "plt.legend()"
   ]
  },
  {
   "cell_type": "code",
   "execution_count": 24,
   "id": "b9ec3260",
   "metadata": {},
   "outputs": [
    {
     "name": "stdout",
     "output_type": "stream",
     "text": [
      "CPU times: user 11.6 ms, sys: 176 µs, total: 11.8 ms\n",
      "Wall time: 10.8 ms\n"
     ]
    }
   ],
   "source": [
    "%%time\n",
    "\n",
    "data[config_year.year]['num_bikes_available'] = data[config_year.year]['num_bikes_available'].mask(~cond, (data[config_year.year]['num_bikes_available_types.ebike'] + data[config_year.year]['num_bikes_available_types.mechanical']))\n"
   ]
  },
  {
   "cell_type": "code",
   "execution_count": 25,
   "id": "d415c0fa",
   "metadata": {},
   "outputs": [
    {
     "name": "stdout",
     "output_type": "stream",
     "text": [
      "correct data 4435905 incorrect data 0\n",
      "CPU times: user 1.92 s, sys: 277 ms, total: 2.2 s\n",
      "Wall time: 7.31 s\n"
     ]
    },
    {
     "data": {
      "text/plain": [
       "<matplotlib.legend.Legend at 0x7faa07839a90>"
      ]
     },
     "execution_count": 25,
     "metadata": {},
     "output_type": "execute_result"
    },
    {
     "data": {
      "image/png": "[encoded data removed]",
      "text/plain": [
       "<Figure size 720x720 with 1 Axes>"
      ]
     },
     "metadata": {
      "needs_background": "light"
     },
     "output_type": "display_data"
    }
   ],
   "source": [
    "%%time\n",
    "\n",
    "cond = data[config_year.year].num_bikes_available.round().astype(int) == (data[config_year.year]['num_bikes_available_types.ebike'] + data[config_year.year]['num_bikes_available_types.mechanical']).round().astype(int)\n",
    "\n",
    "print('correct data',data[config_year.year][cond].shape[0].compute(), 'incorrect data', data[config_year.year][~cond].shape[0].compute())\n",
    "\n",
    "plt.rcParams[\"figure.figsize\"] = (10,10)\n",
    "    \n",
    "plt.scatter(\n",
    "    data[config_year.year][cond].num_bikes_available.compute(), \n",
    "    (data[config_year.year][cond]['num_bikes_available_types.ebike'] + data[config_year.year][cond]['num_bikes_available_types.mechanical']).compute(),\n",
    "    label='cond'\n",
    ")\n",
    "\n",
    "plt.scatter(\n",
    "    data[config_year.year][~cond].num_bikes_available.compute(), \n",
    "    (data[config_year.year][~cond]['num_bikes_available_types.ebike'] + data[config_year.year][~cond]['num_bikes_available_types.mechanical']).compute(),\n",
    "    label='~cond'\n",
    ")\n",
    "\n",
    "plt.ylabel('Electric + Mecanic')\n",
    "plt.xlabel('num_bikes_available')\n",
    "plt.legend()"
   ]
  },
  {
   "cell_type": "code",
   "execution_count": 26,
   "id": "eb2571b9",
   "metadata": {},
   "outputs": [],
   "source": [
    "# Now capacity of a station must be something similar to the sum of available bikes and available docks"
   ]
  },
  {
   "cell_type": "code",
   "execution_count": 27,
   "id": "de05960d",
   "metadata": {},
   "outputs": [
    {
     "name": "stdout",
     "output_type": "stream",
     "text": [
      "CPU times: user 29.4 ms, sys: 0 ns, total: 29.4 ms\n",
      "Wall time: 28.6 ms\n"
     ]
    }
   ],
   "source": [
    "%%time\n",
    "\n",
    "data[config_year.year]['capacity'] = data[config_year.year].num_bikes_available + data[config_year.year].num_docks_available\n",
    "\n",
    "stations_max_capacity = data[config_year.year].groupby(['station_id'])['capacity'].max().reset_index()\n",
    "\n",
    "# drop capacity \n",
    "data[config_year.year] = data[config_year.year].drop(['capacity'], axis=1)\n",
    "\n",
    "# merge with stations_max_capacity\n",
    "data[config_year.year] = data[config_year.year].merge(stations_max_capacity.copy(), how='left', on=['station_id'])\n"
   ]
  },
  {
   "cell_type": "code",
   "execution_count": 28,
   "id": "1bbb1dae",
   "metadata": {},
   "outputs": [
    {
     "name": "stdout",
     "output_type": "stream",
     "text": [
      "DescribeResult(nobs=4435905, minmax=(12.000000000000004, 54.00000000000003), mean=27.03854343138548, variance=39.64353039128416, skewness=1.2612521947969058, kurtosis=3.53609118042234)\n",
      "CPU times: user 743 ms, sys: 205 ms, total: 948 ms\n",
      "Wall time: 3.3 s\n"
     ]
    },
    {
     "data": {
      "text/plain": [
       "count    4.435905e+06\n",
       "mean     2.703854e+01\n",
       "std      6.296311e+00\n",
       "min      1.200000e+01\n",
       "25%      2.400000e+01\n",
       "50%      2.700000e+01\n",
       "75%      2.900000e+01\n",
       "max      5.400000e+01\n",
       "Name: capacity, dtype: float64"
      ]
     },
     "execution_count": 28,
     "metadata": {},
     "output_type": "execute_result"
    }
   ],
   "source": [
    "%%time\n",
    "\n",
    "print(stats.describe(data[config_year.year]['capacity']))\n",
    "data[config_year.year]['capacity'].describe().compute()"
   ]
  },
  {
   "cell_type": "code",
   "execution_count": 29,
   "id": "f744beb7",
   "metadata": {},
   "outputs": [
    {
     "data": {
      "image/png": "[encoded data removed]",
      "text/plain": [
       "<Figure size 1440x720 with 6 Axes>"
      ]
     },
     "metadata": {
      "needs_background": "light"
     },
     "output_type": "display_data"
    },
    {
     "name": "stdout",
     "output_type": "stream",
     "text": [
      "CPU times: user 6.82 s, sys: 1.16 s, total: 7.98 s\n",
      "Wall time: 7.83 s\n"
     ]
    }
   ],
   "source": [
    "%%time\n",
    "\n",
    "show_counts(data[config_year.year]['capacity'].compute())"
   ]
  },
  {
   "cell_type": "markdown",
   "id": "86237b11",
   "metadata": {},
   "source": [
    "## find the percentage of docks available"
   ]
  },
  {
   "cell_type": "code",
   "execution_count": 30,
   "id": "896be915",
   "metadata": {},
   "outputs": [
    {
     "name": "stdout",
     "output_type": "stream",
     "text": [
      "CPU times: user 7.65 ms, sys: 0 ns, total: 7.65 ms\n",
      "Wall time: 7.25 ms\n"
     ]
    }
   ],
   "source": [
    "%%time\n",
    "\n",
    "data[config_year.year]['ctx0'] = data[config_year.year].num_docks_available / data[config_year.year].capacity\n"
   ]
  },
  {
   "cell_type": "code",
   "execution_count": 31,
   "id": "52f78540",
   "metadata": {},
   "outputs": [
    {
     "name": "stdout",
     "output_type": "stream",
     "text": [
      "DescribeResult(nobs=4435905, minmax=(0.0, 0.9999999999999998), mean=0.5863479099312545, variance=0.0682514692259674, skewness=-0.4632765701936975, kurtosis=-0.7679429472577799)\n",
      "CPU times: user 794 ms, sys: 130 ms, total: 924 ms\n",
      "Wall time: 3.16 s\n"
     ]
    },
    {
     "data": {
      "text/plain": [
       "count    4.435905e+06\n",
       "mean     5.863479e-01\n",
       "std      2.612498e-01\n",
       "min      0.000000e+00\n",
       "25%      4.444444e-01\n",
       "50%      6.666667e-01\n",
       "75%      8.218182e-01\n",
       "max      1.000000e+00\n",
       "Name: ctx0, dtype: float64"
      ]
     },
     "execution_count": 31,
     "metadata": {},
     "output_type": "execute_result"
    }
   ],
   "source": [
    "%%time\n",
    "\n",
    "print(stats.describe(data[config_year.year]['ctx0']))\n",
    "data[config_year.year]['ctx0'].describe().compute()"
   ]
  },
  {
   "cell_type": "code",
   "execution_count": 32,
   "id": "9626a4f6",
   "metadata": {},
   "outputs": [
    {
     "data": {
      "image/png": "[encoded data removed]",
      "text/plain": [
       "<Figure size 1440x720 with 6 Axes>"
      ]
     },
     "metadata": {
      "needs_background": "light"
     },
     "output_type": "display_data"
    },
    {
     "name": "stdout",
     "output_type": "stream",
     "text": [
      "CPU times: user 1min 18s, sys: 12.4 s, total: 1min 30s\n",
      "Wall time: 1min 28s\n"
     ]
    }
   ],
   "source": [
    "%%time\n",
    "\n",
    "show_counts(data[config_year.year]['ctx0'].compute())"
   ]
  },
  {
   "cell_type": "markdown",
   "id": "a7e1a1e4",
   "metadata": {},
   "source": [
    "### Generating new columns of past 4 hours"
   ]
  },
  {
   "cell_type": "code",
   "execution_count": 33,
   "id": "0b3dd58e",
   "metadata": {},
   "outputs": [
    {
     "name": "stdout",
     "output_type": "stream",
     "text": [
      "Index(['station_id', 'timestamp', 'ctx0'], dtype='object')\n",
      "Index(['station_id', 'timestamp', 'ctx1'], dtype='object')\n",
      "Index(['station_id', 'timestamp', 'ctx2'], dtype='object')\n",
      "Index(['station_id', 'timestamp', 'ctx3'], dtype='object')\n",
      "Index(['station_id', 'timestamp', 'ctx4'], dtype='object')\n",
      "CPU times: user 163 ms, sys: 19.6 ms, total: 183 ms\n",
      "Wall time: 178 ms\n"
     ]
    }
   ],
   "source": [
    "%%time\n",
    "\n",
    "ctx = data[config_year.year][['station_id', 'timestamp', 'ctx0']].copy()\n",
    "# ctx = ctx.rename(columns={'num_docks_available': 'ctx0'})\n",
    "print(ctx.columns)\n",
    "\n",
    "for i in range(1,5): \n",
    "    ctx = ctx.rename(columns={f'ctx{i-1}': f'ctx{i}'})\n",
    "    print(ctx.columns)\n",
    "    \n",
    "    ctx.timestamp = ctx.timestamp + 3600 \n",
    "    data[config_year.year] = data[config_year.year].merge(ctx.copy(), how='left', on=['station_id','timestamp'])\n",
    "    \n",
    "    cond = data[config_year.year][f'ctx{i}'].isna()\n",
    "    data[config_year.year][f'ctx{i}'] = data[config_year.year][f'ctx{i}'].mask(cond, data[config_year.year][f'ctx{i-1}'])\n"
   ]
  },
  {
   "cell_type": "code",
   "execution_count": 34,
   "id": "d7c2d60a",
   "metadata": {},
   "outputs": [
    {
     "data": {
      "text/plain": [
       "Index(['station_id', 'num_bikes_available',\n",
       "       'num_bikes_available_types.mechanical',\n",
       "       'num_bikes_available_types.ebike', 'num_docks_available',\n",
       "       'is_charging_station', 'status', 'is_installed', 'is_renting',\n",
       "       'is_returning', 'timestamp', 'year', 'month', 'dayofweek', 'day',\n",
       "       'dayofyear', 'hour', 'capacity', 'ctx0', 'ctx1', 'ctx2', 'ctx3',\n",
       "       'ctx4'],\n",
       "      dtype='object')"
      ]
     },
     "execution_count": 34,
     "metadata": {},
     "output_type": "execute_result"
    }
   ],
   "source": [
    "data[config_year.year].columns"
   ]
  },
  {
   "cell_type": "code",
   "execution_count": 35,
   "id": "459e7ab1",
   "metadata": {
    "scrolled": true
   },
   "outputs": [
    {
     "name": "stdout",
     "output_type": "stream",
     "text": [
      "CPU times: user 11.7 s, sys: 489 ms, total: 12.2 s\n",
      "Wall time: 27.2 s\n"
     ]
    },
    {
     "data": {
      "text/plain": [
       "{}"
      ]
     },
     "execution_count": 35,
     "metadata": {},
     "output_type": "execute_result"
    }
   ],
   "source": [
    "%%time\n",
    "\n",
    "get_features_nans(data[config_year.year])"
   ]
  },
  {
   "cell_type": "code",
   "execution_count": 36,
   "id": "1270f3df",
   "metadata": {},
   "outputs": [
    {
     "name": "stdout",
     "output_type": "stream",
     "text": [
      "checkpoint saved.\n",
      "CPU times: user 3.9 s, sys: 302 ms, total: 4.2 s\n",
      "Wall time: 32 s\n"
     ]
    }
   ],
   "source": [
    "%%time\n",
    "\n",
    "save_checkpoint(data[config_year.year], config_year)\n",
    "\n",
    "# checkpoint saved."
   ]
  },
  {
   "cell_type": "code",
   "execution_count": null,
   "id": "6d081b9e",
   "metadata": {},
   "outputs": [],
   "source": []
  }
 ],
 "metadata": {
  "kernelspec": {
   "display_name": "Python 3",
   "language": "python",
   "name": "python3"
  },
  "language_info": {
   "codemirror_mode": {
    "name": "ipython",
    "version": 3
   },
   "file_extension": ".py",
   "mimetype": "text/x-python",
   "name": "python",
   "nbconvert_exporter": "python",
   "pygments_lexer": "ipython3",
   "version": "3.6.13"
  }
 },
 "nbformat": 4,
 "nbformat_minor": 5
}
