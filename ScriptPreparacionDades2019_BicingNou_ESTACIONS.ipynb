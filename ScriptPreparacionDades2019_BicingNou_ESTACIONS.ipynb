{
 "cells": [
  {
   "cell_type": "code",
   "execution_count": 102,
   "id": "938ffc5a",
   "metadata": {},
   "outputs": [
    {
     "data": {
      "text/html": [
       "<style>.container { width:80% !important; }</style>"
      ],
      "text/plain": [
       "<IPython.core.display.HTML object>"
      ]
     },
     "metadata": {},
     "output_type": "display_data"
    }
   ],
   "source": [
    "from IPython.core.display import display, HTML\n",
    "display(HTML(\"<style>.container { width:80% !important; }</style>\"))"
   ]
  },
  {
   "cell_type": "code",
   "execution_count": 103,
   "id": "168e3c5e",
   "metadata": {},
   "outputs": [],
   "source": [
    "# Python ≥3.5 is required\n",
    "import sys\n",
    "assert sys.version_info >= (3, 5)"
   ]
  },
  {
   "cell_type": "code",
   "execution_count": 104,
   "id": "6ae3c402",
   "metadata": {},
   "outputs": [],
   "source": [
    "# Scikit-Learn ≥0.20 is required\n",
    "import sklearn\n",
    "assert sklearn.__version__ >= \"0.20\"\n",
    "\n",
    "from sklearn.ensemble import RandomForestRegressor\n",
    "from sklearn.ensemble import GradientBoostingRegressor\n",
    "from sklearn.model_selection import cross_val_score\n",
    "from sklearn.metrics import mean_squared_error, r2_score\n",
    "from sklearn.metrics import mean_absolute_error"
   ]
  },
  {
   "cell_type": "code",
   "execution_count": 105,
   "id": "c253058c",
   "metadata": {},
   "outputs": [],
   "source": [
    "import pandas as pd\n",
    "import numpy as np\n",
    "pd.set_option('display.max_columns', None)"
   ]
  },
  {
   "cell_type": "code",
   "execution_count": 106,
   "id": "7b9d3d1c",
   "metadata": {},
   "outputs": [],
   "source": [
    "# To plot pretty figures\n",
    "%matplotlib inline\n",
    "import matplotlib as mpl\n",
    "import matplotlib.pyplot as plt"
   ]
  },
  {
   "cell_type": "code",
   "execution_count": 107,
   "id": "55da95dc",
   "metadata": {},
   "outputs": [],
   "source": [
    "import scipy.stats as stats"
   ]
  },
  {
   "cell_type": "code",
   "execution_count": 108,
   "id": "9f219b8a",
   "metadata": {},
   "outputs": [],
   "source": [
    "import seaborn as sns"
   ]
  },
  {
   "cell_type": "code",
   "execution_count": 109,
   "id": "77831901",
   "metadata": {},
   "outputs": [],
   "source": [
    "from datetime import datetime"
   ]
  },
  {
   "cell_type": "code",
   "execution_count": 110,
   "id": "8d115c73",
   "metadata": {},
   "outputs": [],
   "source": [
    "import re"
   ]
  },
  {
   "cell_type": "code",
   "execution_count": 111,
   "id": "b3bf58d9",
   "metadata": {},
   "outputs": [],
   "source": [
    "from tqdm.notebook import tqdm\n",
    "\n",
    "config = pd.Series({\n",
    "    'devide_by':5\n",
    "})\n"
   ]
  },
  {
   "cell_type": "code",
   "execution_count": 112,
   "id": "7faa5eb5",
   "metadata": {},
   "outputs": [],
   "source": [
    "\n",
    "# study of skewness of the data population\n",
    "def skewness(df:pd.DataFrame, column:str):\n",
    "    \"\"\"\n",
    "    Mesures of asymetry: \n",
    "    Negative deviation indicates that the destribution skews left. The skewness of a normal distrubtion is zero. And any symetric data must have skewness equal to zero.\n",
    "    The alternative to this is by lookig into the relationship between the mean and the median.\n",
    "    \"\"\"\n",
    "    assert df[column] is not None\n",
    "    assert column != ''\n",
    "    \n",
    "    result = 0\n",
    "    series = df[column]\n",
    "    data_mean = series.mean()\n",
    "    data_std = series.std()\n",
    "    data_count = len(series)\n",
    "    \n",
    "    for i in series:\n",
    "        result += ((i - data_mean) * (i - data_mean) * (i - data_mean))\n",
    "    result /= (data_count * data_std * data_std * data_std)\n",
    "    \n",
    "    return result\n",
    "\n",
    "# Pearson median skewness coefficient\n",
    "def pearson(df:pd.DataFrame, column:str):\n",
    "    \"\"\"\n",
    "    is an alternative to skewness coefficient\n",
    "    \"\"\"\n",
    "    assert df[column] is not None\n",
    "    assert column != ''\n",
    "    \n",
    "    result = 0\n",
    "    series = df[column]\n",
    "    data_mean = series.mean()\n",
    "    data_median = series.median()\n",
    "    data_std = series.std()\n",
    "    data_count = len(series)\n",
    "    \n",
    "    result = 3*(data_mean - data_median)*data_std\n",
    "    \n",
    "    return result"
   ]
  },
  {
   "cell_type": "code",
   "execution_count": 113,
   "id": "2f4c7180",
   "metadata": {},
   "outputs": [],
   "source": [
    "\n",
    "def get_features_nans(df:pd.DataFrame):\n",
    "    result = (df.isna().sum()/df.shape[0])*100\n",
    "    return result[result > 0].to_dict()\n",
    "\n",
    "def get_features_zero(df:pd.DataFrame):\n",
    "    result = (df.isin([0]).sum()/df.shape[0])*100\n",
    "    return result[result > 0].to_dict()\n",
    "\n",
    "def get_nans_counts(df:pd.DataFrame, column:str, mean_of_column:str, mean_of_value):\n",
    "    return df[df[mean_of_column] == mean_of_value][column].isna().sum()\n",
    "\n",
    "def get_columns(df: pd.DataFrame, cat_only:bool=False, num_only:bool=False) -> dict:\n",
    "    if cat_only:\n",
    "        cat_col = df.select_dtypes(include=['object']).columns\n",
    "        return {col:len(set(df[col])) for col in cat_col}\n",
    "    if num_only:\n",
    "        num_col = df.select_dtypes(exclude=['object']).columns\n",
    "        return {col:len(set(df[col])) for col in num_col}\n",
    "    return {col:len(set(df[col])) for col in df.columns}"
   ]
  },
  {
   "cell_type": "code",
   "execution_count": 114,
   "id": "cc9cba54",
   "metadata": {},
   "outputs": [],
   "source": [
    "def cross_val_evaluation(model,X_train, y_train, model_name):\n",
    "    scores = cross_val_score(model, X_train, y_train,cv=5) # scoring=\"neg_root_mean_squared_error\"\n",
    "    print(\"\\n \",model_name)\n",
    "    display_scores(scores)\n",
    "    \n",
    "def calcualte_scores(y, y_hat, show=True):\n",
    "    ## Evaluate the model and plot it\n",
    "    mdl_mse = mean_squared_error(y, y_hat)\n",
    "    mdl_rmse = np.sqrt(mdl_mse)\n",
    "    mdl_mae = mean_absolute_error(y, y_hat)\n",
    "    mdl_r2score = r2_score(y, y_hat)\n",
    "    \n",
    "    # Best possible score is 1.0, lower values are worse.\n",
    "    if show:\n",
    "        print(\"----- EVALUATION ON VAL SET ------\")\n",
    "        print('MSE:', mdl_mse)\n",
    "        print('RMSE', mdl_rmse)\n",
    "        print('MAE:', mdl_mae)\n",
    "        print('R^2: ', mdl_r2score) \n",
    "        print()\n",
    "        plt.scatter(y, y_hat)\n",
    "        plt.xlabel('y')\n",
    "        plt.ylabel('y^')\n",
    "        plt.show()\n",
    "    return mdl_mse,mdl_rmse,mdl_mae,mdl_r2score"
   ]
  },
  {
   "cell_type": "code",
   "execution_count": 115,
   "id": "eeeae438",
   "metadata": {},
   "outputs": [],
   "source": [
    "def show_column_counts(df:pd.DataFrame, column:str):\n",
    "    assert column != ''\n",
    "    assert df[column] is not None\n",
    "    \n",
    "    \n",
    "    fig, axs = plt.subplots(3, 2, figsize=(20,10))\n",
    "    axs[0][0].hist(df[column], label=f'{column} hist',bins=40)\n",
    "    axs[0][0].set_xlabel('values')\n",
    "    axs[0][0].set_ylabel('counts')\n",
    "    axs[0][0].set_title('')\n",
    "\n",
    "    axs[0][1].scatter(df[column].index, df[column].values, label=f'{column} scatter')\n",
    "    axs[0][1].set_xlabel('index')\n",
    "    axs[0][1].set_ylabel('values')\n",
    "    axs[0][1].set_title('')\n",
    "    \n",
    "    axs[1][0].scatter(df[column].value_counts().index, df[column].value_counts().values,label=f'{column} counts')\n",
    "    axs[1][0].set_xlabel('values')\n",
    "    axs[1][0].set_ylabel('counts')\n",
    "    axs[1][0].set_title('')\n",
    "    \n",
    "    axs[1][1].hist(df[column].value_counts(),label=f'{column} counts', bins=df[column].value_counts().shape[0])\n",
    "    axs[1][1].set_xlabel('counts')\n",
    "    axs[1][1].set_ylabel('values')\n",
    "    axs[1][1].set_title('')\n",
    "    \n",
    "    \n",
    "    axs[2][0].hist(df[column], density=True, histtype='step', cumulative=True,  linewidth=3.5, bins=30, color=sns.desaturate(\"indianred\", .75))\n",
    "    axs[2][0].set_xlabel('values')\n",
    "    axs[2][0].set_ylabel('counts')\n",
    "    axs[2][0].set_title('')\n",
    "    \n",
    "    axs[2][1].boxplot(df[column])\n",
    "    axs[2][1].set_xlabel('counts')\n",
    "    axs[2][1].set_ylabel('values')\n",
    "    axs[2][1].set_title('')\n",
    "\n",
    "    plt.tight_layout()\n",
    "    plt.show()"
   ]
  },
  {
   "cell_type": "code",
   "execution_count": 116,
   "id": "d660822f",
   "metadata": {},
   "outputs": [],
   "source": [
    "# We need to convert the timestamp column to datetime and merge the two datasets considering year, month, day and hour. (minutes and seconds will be merged and replaced with the mean)\n",
    "from typing import List\n",
    "def convert_timestamp(df:pd.DataFrame, columns:List[str], sort:bool=False, add:bool=False, unit:str='s', pattern:str=None) -> pd.DataFrame:    \n",
    "    for column in columns: \n",
    "        if pattern:\n",
    "            df[f'{column}_date'] = pd.to_datetime(df[column], format=pattern)\n",
    "        else:\n",
    "            df[f'{column}_date'] = pd.to_datetime(df[column], unit=unit)\n",
    "        if add:\n",
    "            df = add_time_columns(df, f'{column}_date')\n",
    "            df.drop(f'{column}_date', axis=1, inplace=True)\n",
    "            \n",
    "    if sort:\n",
    "        df = df.sort_values(columns, ascending=True).reset_index(drop=True)\n",
    "        \n",
    "    return df\n",
    "\n",
    "def add_time_columns(df:pd.DataFrame, column:str):\n",
    "    assert column != ''\n",
    "    assert df[column] is not None\n",
    "    \n",
    "    df[f'year_{column}'] = df[column].dt.year\n",
    "    df[f'month_{column}'] = df[column].dt.month\n",
    "    df[f'week_{column}'] = df[column].dt.isocalendar().week\n",
    "    df[f'dayofweek_{column}'] = df[column].dt.dayofweek\n",
    "    df[f'dayofmonth_{column}'] = df[column].dt.day\n",
    "    df[f'dayofyear_{column}'] = df[column].dt.dayofyear\n",
    "    df[f'hour_{column}'] = df[column].dt.hour\n",
    "    df[f'minutes_{column}'] = df[column].dt.minute\n",
    "    \n",
    "    return df\n",
    "    \n",
    "# This function works only for data of one station\n",
    "def remove_duplicates(df:pd.DataFrame, column:str) -> pd.DataFrame:\n",
    "    assert column != ''\n",
    "    assert df[column] is not None\n",
    "\n",
    "    repeated_data = df[column].value_counts()[df[column].value_counts() > 1]\n",
    "\n",
    "    for value in repeated_data.index:\n",
    "        index = df[column] == value\n",
    "        aux = df[index]  # taking only the ones with ttl bigger then 10\n",
    "        \n",
    "        candidates = aux.loc[aux['ttl'] > 10, :] if aux.loc[aux['ttl'] > 10, :].shape[0] > 1 else aux\n",
    "        aux = candidates.mean().round().astype(np.int)\n",
    "            \n",
    "        assert df.shape[1] == aux.shape[0]\n",
    "        \n",
    "        df.drop(df[index].index, inplace=True)\n",
    "        df = df.append(aux, ignore_index=True)\n",
    "    \n",
    "    # reorder the list\n",
    "    df = df.sort_values(column, ascending=True).reset_index(drop=True)\n",
    "    \n",
    "    return df\n",
    "\n",
    "def remove_duplicates_all(df:pd.DataFrame, column:str) -> pd.DataFrame:\n",
    "    assert column != ''\n",
    "    assert df[column] is not None\n",
    "    \n",
    "    result = {}\n",
    "    \n",
    "    for station_id in tqdm(df.station_id.unique().tolist()):\n",
    "        df_s = df[df.station_id == station_id]\n",
    "        df_s = remove_duplicates(df_s.copy(), column)\n",
    "        result[station_id] = df_s.copy()\n",
    "    \n",
    "    # concat the result values\n",
    "    df_ = pd.concat(list(result.values()), axis=0)\n",
    "    \n",
    "    return df_\n",
    "\n",
    "def timestamp_multipleof(\n",
    "    devide_by:int, \n",
    "    column:str,\n",
    "    df:pd.DataFrame, \n",
    "    new_column:str, \n",
    "    year_column:str,\n",
    "    month_column:str,\n",
    "    day_column:str,\n",
    "    hour_column:str,\n",
    "    minutes_column:str\n",
    ") -> pd.DataFrame:    \n",
    "    \n",
    "    # convert time to multiples of 3\n",
    "    df.loc[:,[column]] = (df[column]/devide_by).apply(np.floor)*devide_by\n",
    "\n",
    "    # create mew column of last reported and last updated \n",
    "    df[new_column] = df.apply(\n",
    "        lambda x: \n",
    "        datetime(\n",
    "            year=int(x[year_column]), \n",
    "            month=int(x[month_column]), \n",
    "            day=int(x[day_column]), \n",
    "            hour=int(x[hour_column]), \n",
    "            minute=int(x[minutes_column]), \n",
    "        ),\n",
    "        axis=1\n",
    "    )\n",
    "    \n",
    "    # recommended method to convert datetime to integer timestamp \n",
    "    dates = df[new_column]\n",
    "    # calculate unix datetime\n",
    "    df[new_column] = (dates - pd.Timestamp(\"1970-01-01\")) // pd.Timedelta('1s')\n",
    "\n",
    "    return df\n"
   ]
  },
  {
   "cell_type": "code",
   "execution_count": 117,
   "id": "ed452a81",
   "metadata": {},
   "outputs": [
    {
     "name": "stdout",
     "output_type": "stream",
     "text": [
      "ranks:  [4.0, 1.0, 2.0, 3.0]\n",
      "Pearson rank coefficient: 0.27\n",
      "Spearman rank coefficient: 0.80\n"
     ]
    },
    {
     "data": {
      "image/png": "[encoded data removed]",
      "text/plain": [
       "<Figure size 432x288 with 1 Axes>"
      ]
     },
     "metadata": {
      "needs_background": "light"
     },
     "output_type": "display_data"
    }
   ],
   "source": [
    "def Cov(X, Y):\n",
    "    def _get_dvis(V):\n",
    "        return [v - np.mean(V) for v in V]\n",
    "    dxis = _get_dvis(X)\n",
    "    dyis = _get_dvis(Y)\n",
    "    return np.sum([x * y for x, y in zip(dxis, dyis)])/len(X)\n",
    "\n",
    "def PearsonCorr(X, Y):\n",
    "    assert len(X) == len(Y)\n",
    "    return Cov(X, Y) / np.prod([np.std(V) for V in [X, Y]])\n",
    "\n",
    "def list2rank(l):\n",
    "    #l is a list of numbers\n",
    "    # returns a list of 1-based index; mean when multiple instances\n",
    "    return [np.mean([i+1 for i, sorted_el in enumerate(sorted(l)) if sorted_el == el]) for el in l]\n",
    "\n",
    "l = [7, 1, 2, 5]\n",
    "print(\"ranks: \", list2rank(l))\n",
    "\n",
    "def spearmanRank(X, Y):\n",
    "    # X and Y are same-length lists\n",
    "    return PearsonCorr(list2rank(X), list2rank(Y))\n",
    "\n",
    "X = [1, 2, 3, 4, 100]\n",
    "Y = [5, -100, 7, 10, 9]\n",
    "plt.plot(X,'ro')\n",
    "plt.plot(Y,'go')\n",
    "\n",
    "print(\"Pearson rank coefficient: %.2f\" % PearsonCorr(X, Y))\n",
    "print(\"Spearman rank coefficient: %.2f\" % spearmanRank(X, Y))"
   ]
  },
  {
   "cell_type": "code",
   "execution_count": 118,
   "id": "a3090df3",
   "metadata": {},
   "outputs": [
    {
     "data": {
      "text/html": [
       "<style>\n",
       "    p {\n",
       "        float:left\n",
       "    }  \n",
       "    table {\n",
       "        display: inline-block\n",
       "    }\n",
       "</style>\n"
      ],
      "text/plain": [
       "<IPython.core.display.HTML object>"
      ]
     },
     "metadata": {},
     "output_type": "display_data"
    }
   ],
   "source": [
    "%%html\n",
    "<style>\n",
    "    p {\n",
    "        float:left\n",
    "    }  \n",
    "    table {\n",
    "        display: inline-block\n",
    "    }\n",
    "</style>"
   ]
  },
  {
   "cell_type": "markdown",
   "id": "6043ca68",
   "metadata": {},
   "source": [
    "<div>\n",
    "    <table>\n",
    "        <tr>\n",
    "            <th><p>Camp<p><th>\n",
    "            <th><p>Descripció<p><th>\n",
    "        <tr>\n",
    "        <tr>\n",
    "            <td><p>last_updated<p><td>\n",
    "            <td><p>Timestamp de l'arxiu<p><td>\n",
    "        <tr>\n",
    "        <tr>\n",
    "            <td><p>ttl<p><td>\n",
    "            <td><p>TimeToLive de la resposta<p><td>\n",
    "        <tr>\n",
    "        <tr>\n",
    "            <td><p>data<p><td>\n",
    "            <td><p>Contenidor d'arrays d'informació d'estacions<p><td>\n",
    "        <tr>\n",
    "        <tr>\n",
    "            <td><p>stations<p><td>\n",
    "            <td><p>Array de dades de cada estació<p><td>\n",
    "        <tr>\n",
    "        <tr>\n",
    "            <td><p>station_id<p><td>\n",
    "            <td><p>Identificador de l'estació<p><td>\n",
    "        <tr>\n",
    "        <tr>\n",
    "            <td><p>num_bikes_available<p><td>\n",
    "            <td><p>Nombre de bicicletes disponibles<p><td>\n",
    "        <tr>\n",
    "        <tr>\n",
    "            <td><p>num_bikes_available_types<p><td>\n",
    "            <td><p>Array de tipus de bicicletes disponibles<p><td>\n",
    "        <tr>\n",
    "        <tr>\n",
    "            <td><p>mechanical<p><td>\n",
    "            <td><p>Nombre de bicicletes mecàniques disponibles<p><td>\n",
    "        <tr>\n",
    "        <tr>\n",
    "            <td><p>ebike<p><td>\n",
    "            <td><p>Nombre de bicicletes elèctriques disponibles<p><td>\n",
    "        <tr>\n",
    "        <tr>\n",
    "            <td><p>num_docks_available<p><td>\n",
    "            <td><p>Nombre de ancoratges disponibles<p><td>\n",
    "        <tr>\n",
    "        <tr>\n",
    "            <td><p>is_installed<p><td>\n",
    "            <td><p>L'estació està correctament instalada (0-NO,1-SI)<p><td>\n",
    "        <tr>\n",
    "        <tr>\n",
    "            <td><p>is_renting<p><td>\n",
    "            <td><p>L'estació està proporcionant bicicletes correctament<p><td>\n",
    "        <tr>\n",
    "        <tr>\n",
    "            <td><p>is_returning<p><td>\n",
    "            <td><p>L'estació està ancorant bicicletes correctament<p><td>\n",
    "        <tr>\n",
    "        <tr>\n",
    "            <td><p>last_reported<p><td>\n",
    "            <td><p>Timestamp de la informació de l'estació<p><td>\n",
    "        <tr>\n",
    "        <tr>\n",
    "            <td><p>is_charging_station<p><td>\n",
    "            <td><p>L'estació té capacitat de càrrega de bicicletes elèctriques<p><td>\n",
    "        <tr>\n",
    "        <tr>\n",
    "            <td><p>status<p><td>\n",
    "            <td><p>Estat de l'estació (IN_SERVICE=En servei, CLOSED=Tancada)<p><td>\n",
    "        <tr>\n",
    "    <table>\n",
    "<div>"
   ]
  },
  {
   "cell_type": "markdown",
   "id": "1880ab71",
   "metadata": {},
   "source": [
    "# Read data 2019 marc\n",
    "\n",
    "|  | info |\n",
    "| -- | -- |\n",
    "|  | The data for 2019 marc are from 2019-03-28 17:54:30 until 2019-03-31 21:53:56 |"
   ]
  },
  {
   "cell_type": "markdown",
   "id": "ff2b4f9c",
   "metadata": {},
   "source": [
    "# New data 2019 Marc "
   ]
  },
  {
   "cell_type": "code",
   "execution_count": 119,
   "id": "01ea975a",
   "metadata": {},
   "outputs": [],
   "source": [
    "dades_2019_Marc_info = pd.read_csv('dades/2019/BicingNou_ESTACIONS/2019_03_Marc_BicingNou_ESTACIONS.csv')"
   ]
  },
  {
   "cell_type": "code",
   "execution_count": 120,
   "id": "648804c2",
   "metadata": {},
   "outputs": [],
   "source": [
    "dades_2019_Marc_info['is_charging_station'] = dades_2019_Marc_info.is_charging_station.astype(np.int)"
   ]
  },
  {
   "cell_type": "code",
   "execution_count": 121,
   "id": "ab725b16",
   "metadata": {},
   "outputs": [],
   "source": [
    "# STATUS = IN_SERVICE=En servei, CLOSED=Tancada\n",
    "# replace IN_SERVICE with 1 and CLOSED with 0\n",
    "dades_2019_Marc_info['status'].replace(to_replace=['CLOSED', 'IN_SERVICE'], value=[0, 1], inplace=True)"
   ]
  },
  {
   "cell_type": "code",
   "execution_count": 122,
   "id": "6753cf14",
   "metadata": {},
   "outputs": [],
   "source": [
    "dades_2019_Marc_info = convert_timestamp(dades_2019_Marc_info.copy(), ['last_reported', 'last_updated'], sort=True, add=True)"
   ]
  },
  {
   "cell_type": "markdown",
   "id": "045d8f0a",
   "metadata": {},
   "source": [
    "## dades_2019_Marc_info"
   ]
  },
  {
   "cell_type": "code",
   "execution_count": 123,
   "id": "6202617e",
   "metadata": {
    "scrolled": true
   },
   "outputs": [
    {
     "data": {
      "text/plain": [
       "(355467, 29)"
      ]
     },
     "execution_count": 123,
     "metadata": {},
     "output_type": "execute_result"
    }
   ],
   "source": [
    "dades_2019_Marc_info.shape"
   ]
  },
  {
   "cell_type": "code",
   "execution_count": 124,
   "id": "d5d08b7f",
   "metadata": {},
   "outputs": [
    {
     "data": {
      "text/plain": [
       "{}"
      ]
     },
     "execution_count": 124,
     "metadata": {},
     "output_type": "execute_result"
    }
   ],
   "source": [
    "get_features_nans(dades_2019_Marc_info)"
   ]
  },
  {
   "cell_type": "code",
   "execution_count": 125,
   "id": "d59dc272",
   "metadata": {},
   "outputs": [
    {
     "data": {
      "text/plain": [
       "{'num_bikes_available': 20.440997335898974,\n",
       " 'num_bikes_available_types.mechanical': 20.440997335898974,\n",
       " 'num_bikes_available_types.ebike': 100.0,\n",
       " 'num_docks_available': 13.242298159885447,\n",
       " 'hour_last_reported_date': 4.083079441973517,\n",
       " 'minutes_last_reported_date': 1.1359704276346327,\n",
       " 'hour_last_updated_date': 4.040881432031665,\n",
       " 'minutes_last_updated_date': 0.11224670644532403}"
      ]
     },
     "execution_count": 125,
     "metadata": {},
     "output_type": "execute_result"
    }
   ],
   "source": [
    "get_features_zero(dades_2019_Marc_info)"
   ]
  },
  {
   "cell_type": "code",
   "execution_count": 126,
   "id": "8f3eb73c",
   "metadata": {
    "scrolled": false
   },
   "outputs": [
    {
     "data": {
      "text/plain": [
       "{'station_id': 399,\n",
       " 'num_bikes_available': 55,\n",
       " 'num_bikes_available_types.mechanical': 55,\n",
       " 'num_bikes_available_types.ebike': 1,\n",
       " 'num_docks_available': 55,\n",
       " 'is_installed': 1,\n",
       " 'is_renting': 1,\n",
       " 'is_returning': 1,\n",
       " 'last_reported': 180636,\n",
       " 'is_charging_station': 1,\n",
       " 'status': 1,\n",
       " 'last_updated': 891,\n",
       " 'ttl': 30,\n",
       " 'year_last_reported_date': 1,\n",
       " 'month_last_reported_date': 1,\n",
       " 'week_last_reported_date': 1,\n",
       " 'dayofweek_last_reported_date': 4,\n",
       " 'dayofmonth_last_reported_date': 4,\n",
       " 'dayofyear_last_reported_date': 4,\n",
       " 'hour_last_reported_date': 24,\n",
       " 'minutes_last_reported_date': 60,\n",
       " 'year_last_updated_date': 1,\n",
       " 'month_last_updated_date': 1,\n",
       " 'week_last_updated_date': 1,\n",
       " 'dayofweek_last_updated_date': 4,\n",
       " 'dayofmonth_last_updated_date': 4,\n",
       " 'dayofyear_last_updated_date': 4,\n",
       " 'hour_last_updated_date': 24,\n",
       " 'minutes_last_updated_date': 16}"
      ]
     },
     "execution_count": 126,
     "metadata": {},
     "output_type": "execute_result"
    }
   ],
   "source": [
    "get_columns(dades_2019_Marc_info)"
   ]
  },
  {
   "cell_type": "code",
   "execution_count": 127,
   "id": "32f713a9",
   "metadata": {
    "scrolled": true
   },
   "outputs": [
    {
     "data": {
      "text/html": [
       "<div>\n",
       "<style scoped>\n",
       "    .dataframe tbody tr th:only-of-type {\n",
       "        vertical-align: middle;\n",
       "    }\n",
       "\n",
       "    .dataframe tbody tr th {\n",
       "        vertical-align: top;\n",
       "    }\n",
       "\n",
       "    .dataframe thead th {\n",
       "        text-align: right;\n",
       "    }\n",
       "</style>\n",
       "<table border=\"1\" class=\"dataframe\">\n",
       "  <thead>\n",
       "    <tr style=\"text-align: right;\">\n",
       "      <th></th>\n",
       "      <th>station_id</th>\n",
       "      <th>num_bikes_available</th>\n",
       "      <th>num_bikes_available_types.mechanical</th>\n",
       "      <th>num_bikes_available_types.ebike</th>\n",
       "      <th>num_docks_available</th>\n",
       "      <th>is_installed</th>\n",
       "      <th>is_renting</th>\n",
       "      <th>is_returning</th>\n",
       "      <th>last_reported</th>\n",
       "      <th>is_charging_station</th>\n",
       "      <th>status</th>\n",
       "      <th>last_updated</th>\n",
       "      <th>ttl</th>\n",
       "      <th>year_last_reported_date</th>\n",
       "      <th>month_last_reported_date</th>\n",
       "      <th>week_last_reported_date</th>\n",
       "      <th>dayofweek_last_reported_date</th>\n",
       "      <th>dayofmonth_last_reported_date</th>\n",
       "      <th>dayofyear_last_reported_date</th>\n",
       "      <th>hour_last_reported_date</th>\n",
       "      <th>minutes_last_reported_date</th>\n",
       "      <th>year_last_updated_date</th>\n",
       "      <th>month_last_updated_date</th>\n",
       "      <th>week_last_updated_date</th>\n",
       "      <th>dayofweek_last_updated_date</th>\n",
       "      <th>dayofmonth_last_updated_date</th>\n",
       "      <th>dayofyear_last_updated_date</th>\n",
       "      <th>hour_last_updated_date</th>\n",
       "      <th>minutes_last_updated_date</th>\n",
       "    </tr>\n",
       "  </thead>\n",
       "  <tbody>\n",
       "    <tr>\n",
       "      <th>0</th>\n",
       "      <td>236</td>\n",
       "      <td>2</td>\n",
       "      <td>2</td>\n",
       "      <td>0</td>\n",
       "      <td>22</td>\n",
       "      <td>1</td>\n",
       "      <td>1</td>\n",
       "      <td>1</td>\n",
       "      <td>1553795555</td>\n",
       "      <td>1</td>\n",
       "      <td>1</td>\n",
       "      <td>1553795923</td>\n",
       "      <td>23</td>\n",
       "      <td>2019</td>\n",
       "      <td>3</td>\n",
       "      <td>13</td>\n",
       "      <td>3</td>\n",
       "      <td>28</td>\n",
       "      <td>87</td>\n",
       "      <td>17</td>\n",
       "      <td>52</td>\n",
       "      <td>2019</td>\n",
       "      <td>3</td>\n",
       "      <td>13</td>\n",
       "      <td>3</td>\n",
       "      <td>28</td>\n",
       "      <td>87</td>\n",
       "      <td>17</td>\n",
       "      <td>58</td>\n",
       "    </tr>\n",
       "    <tr>\n",
       "      <th>1</th>\n",
       "      <td>51</td>\n",
       "      <td>20</td>\n",
       "      <td>20</td>\n",
       "      <td>0</td>\n",
       "      <td>0</td>\n",
       "      <td>1</td>\n",
       "      <td>1</td>\n",
       "      <td>1</td>\n",
       "      <td>1553795609</td>\n",
       "      <td>1</td>\n",
       "      <td>1</td>\n",
       "      <td>1553795923</td>\n",
       "      <td>23</td>\n",
       "      <td>2019</td>\n",
       "      <td>3</td>\n",
       "      <td>13</td>\n",
       "      <td>3</td>\n",
       "      <td>28</td>\n",
       "      <td>87</td>\n",
       "      <td>17</td>\n",
       "      <td>53</td>\n",
       "      <td>2019</td>\n",
       "      <td>3</td>\n",
       "      <td>13</td>\n",
       "      <td>3</td>\n",
       "      <td>28</td>\n",
       "      <td>87</td>\n",
       "      <td>17</td>\n",
       "      <td>58</td>\n",
       "    </tr>\n",
       "    <tr>\n",
       "      <th>2</th>\n",
       "      <td>65</td>\n",
       "      <td>21</td>\n",
       "      <td>21</td>\n",
       "      <td>0</td>\n",
       "      <td>0</td>\n",
       "      <td>1</td>\n",
       "      <td>1</td>\n",
       "      <td>1</td>\n",
       "      <td>1553795664</td>\n",
       "      <td>1</td>\n",
       "      <td>1</td>\n",
       "      <td>1553795923</td>\n",
       "      <td>23</td>\n",
       "      <td>2019</td>\n",
       "      <td>3</td>\n",
       "      <td>13</td>\n",
       "      <td>3</td>\n",
       "      <td>28</td>\n",
       "      <td>87</td>\n",
       "      <td>17</td>\n",
       "      <td>54</td>\n",
       "      <td>2019</td>\n",
       "      <td>3</td>\n",
       "      <td>13</td>\n",
       "      <td>3</td>\n",
       "      <td>28</td>\n",
       "      <td>87</td>\n",
       "      <td>17</td>\n",
       "      <td>58</td>\n",
       "    </tr>\n",
       "    <tr>\n",
       "      <th>3</th>\n",
       "      <td>155</td>\n",
       "      <td>0</td>\n",
       "      <td>0</td>\n",
       "      <td>0</td>\n",
       "      <td>32</td>\n",
       "      <td>1</td>\n",
       "      <td>1</td>\n",
       "      <td>1</td>\n",
       "      <td>1553795664</td>\n",
       "      <td>1</td>\n",
       "      <td>1</td>\n",
       "      <td>1553795923</td>\n",
       "      <td>23</td>\n",
       "      <td>2019</td>\n",
       "      <td>3</td>\n",
       "      <td>13</td>\n",
       "      <td>3</td>\n",
       "      <td>28</td>\n",
       "      <td>87</td>\n",
       "      <td>17</td>\n",
       "      <td>54</td>\n",
       "      <td>2019</td>\n",
       "      <td>3</td>\n",
       "      <td>13</td>\n",
       "      <td>3</td>\n",
       "      <td>28</td>\n",
       "      <td>87</td>\n",
       "      <td>17</td>\n",
       "      <td>58</td>\n",
       "    </tr>\n",
       "    <tr>\n",
       "      <th>4</th>\n",
       "      <td>343</td>\n",
       "      <td>26</td>\n",
       "      <td>26</td>\n",
       "      <td>0</td>\n",
       "      <td>1</td>\n",
       "      <td>1</td>\n",
       "      <td>1</td>\n",
       "      <td>1</td>\n",
       "      <td>1553795664</td>\n",
       "      <td>1</td>\n",
       "      <td>1</td>\n",
       "      <td>1553795923</td>\n",
       "      <td>23</td>\n",
       "      <td>2019</td>\n",
       "      <td>3</td>\n",
       "      <td>13</td>\n",
       "      <td>3</td>\n",
       "      <td>28</td>\n",
       "      <td>87</td>\n",
       "      <td>17</td>\n",
       "      <td>54</td>\n",
       "      <td>2019</td>\n",
       "      <td>3</td>\n",
       "      <td>13</td>\n",
       "      <td>3</td>\n",
       "      <td>28</td>\n",
       "      <td>87</td>\n",
       "      <td>17</td>\n",
       "      <td>58</td>\n",
       "    </tr>\n",
       "  </tbody>\n",
       "</table>\n",
       "</div>"
      ],
      "text/plain": [
       "   station_id  num_bikes_available  num_bikes_available_types.mechanical  \\\n",
       "0         236                    2                                     2   \n",
       "1          51                   20                                    20   \n",
       "2          65                   21                                    21   \n",
       "3         155                    0                                     0   \n",
       "4         343                   26                                    26   \n",
       "\n",
       "   num_bikes_available_types.ebike  num_docks_available  is_installed  \\\n",
       "0                                0                   22             1   \n",
       "1                                0                    0             1   \n",
       "2                                0                    0             1   \n",
       "3                                0                   32             1   \n",
       "4                                0                    1             1   \n",
       "\n",
       "   is_renting  is_returning  last_reported  is_charging_station  status  \\\n",
       "0           1             1     1553795555                    1       1   \n",
       "1           1             1     1553795609                    1       1   \n",
       "2           1             1     1553795664                    1       1   \n",
       "3           1             1     1553795664                    1       1   \n",
       "4           1             1     1553795664                    1       1   \n",
       "\n",
       "   last_updated  ttl  year_last_reported_date  month_last_reported_date  \\\n",
       "0    1553795923   23                     2019                         3   \n",
       "1    1553795923   23                     2019                         3   \n",
       "2    1553795923   23                     2019                         3   \n",
       "3    1553795923   23                     2019                         3   \n",
       "4    1553795923   23                     2019                         3   \n",
       "\n",
       "   week_last_reported_date  dayofweek_last_reported_date  \\\n",
       "0                       13                             3   \n",
       "1                       13                             3   \n",
       "2                       13                             3   \n",
       "3                       13                             3   \n",
       "4                       13                             3   \n",
       "\n",
       "   dayofmonth_last_reported_date  dayofyear_last_reported_date  \\\n",
       "0                             28                            87   \n",
       "1                             28                            87   \n",
       "2                             28                            87   \n",
       "3                             28                            87   \n",
       "4                             28                            87   \n",
       "\n",
       "   hour_last_reported_date  minutes_last_reported_date  \\\n",
       "0                       17                          52   \n",
       "1                       17                          53   \n",
       "2                       17                          54   \n",
       "3                       17                          54   \n",
       "4                       17                          54   \n",
       "\n",
       "   year_last_updated_date  month_last_updated_date  week_last_updated_date  \\\n",
       "0                    2019                        3                      13   \n",
       "1                    2019                        3                      13   \n",
       "2                    2019                        3                      13   \n",
       "3                    2019                        3                      13   \n",
       "4                    2019                        3                      13   \n",
       "\n",
       "   dayofweek_last_updated_date  dayofmonth_last_updated_date  \\\n",
       "0                            3                            28   \n",
       "1                            3                            28   \n",
       "2                            3                            28   \n",
       "3                            3                            28   \n",
       "4                            3                            28   \n",
       "\n",
       "   dayofyear_last_updated_date  hour_last_updated_date  \\\n",
       "0                           87                      17   \n",
       "1                           87                      17   \n",
       "2                           87                      17   \n",
       "3                           87                      17   \n",
       "4                           87                      17   \n",
       "\n",
       "   minutes_last_updated_date  \n",
       "0                         58  \n",
       "1                         58  \n",
       "2                         58  \n",
       "3                         58  \n",
       "4                         58  "
      ]
     },
     "execution_count": 127,
     "metadata": {},
     "output_type": "execute_result"
    }
   ],
   "source": [
    "dades_2019_Marc_info.head(5)"
   ]
  },
  {
   "cell_type": "markdown",
   "id": "2835c74e",
   "metadata": {},
   "source": [
    "## ttl"
   ]
  },
  {
   "cell_type": "code",
   "execution_count": 128,
   "id": "084c8191",
   "metadata": {},
   "outputs": [
    {
     "name": "stdout",
     "output_type": "stream",
     "text": [
      "DescribeResult(nobs=355467, minmax=(1, 30), mean=18.08985925557084, variance=93.46467373998793, skewness=-0.13862617593168738, kurtosis=-1.4097612851961863)\n"
     ]
    },
    {
     "data": {
      "text/plain": [
       "count    355467.000000\n",
       "mean         18.089859\n",
       "std           9.667713\n",
       "min           1.000000\n",
       "25%           9.000000\n",
       "50%          18.000000\n",
       "75%          29.000000\n",
       "max          30.000000\n",
       "Name: ttl, dtype: float64"
      ]
     },
     "execution_count": 128,
     "metadata": {},
     "output_type": "execute_result"
    }
   ],
   "source": [
    "print(stats.describe(dades_2019_Marc_info.ttl))\n",
    "dades_2019_Marc_info.ttl.describe()"
   ]
  },
  {
   "cell_type": "code",
   "execution_count": 129,
   "id": "367f0010",
   "metadata": {},
   "outputs": [
    {
     "data": {
      "image/png": "[encoded data removed]",
      "text/plain": [
       "<Figure size 1440x720 with 6 Axes>"
      ]
     },
     "metadata": {
      "needs_background": "light"
     },
     "output_type": "display_data"
    }
   ],
   "source": [
    "show_column_counts(dades_2019_Marc_info, 'ttl')"
   ]
  },
  {
   "cell_type": "markdown",
   "id": "db6ea6a4",
   "metadata": {},
   "source": [
    "### Study on TTL for station 1\n",
    "Taking one station ID and looking for the best TTL for multiple answers from the same time\n"
   ]
  },
  {
   "cell_type": "code",
   "execution_count": 130,
   "id": "9aea39f5",
   "metadata": {},
   "outputs": [],
   "source": [
    "dades_marc_2019_info_s1 = dades_2019_Marc_info[dades_2019_Marc_info.station_id == 1]"
   ]
  },
  {
   "cell_type": "markdown",
   "id": "93da8281",
   "metadata": {},
   "source": [
    "### last_updated \n",
    "\n",
    "|  | info |\n",
    "| -- | -- |\n",
    "|  | last updates is the timestamp for the file |\n",
    "|  | a station id will never have repeated last_updated timestamp in the dataset |"
   ]
  },
  {
   "cell_type": "code",
   "execution_count": 131,
   "id": "92f7d7f0",
   "metadata": {},
   "outputs": [
    {
     "data": {
      "text/plain": [
       "False"
      ]
     },
     "execution_count": 131,
     "metadata": {},
     "output_type": "execute_result"
    }
   ],
   "source": [
    "(dades_marc_2019_info_s1.last_updated.value_counts() > 1).any()  # give insight if there any last_updated timestamps is repeated "
   ]
  },
  {
   "cell_type": "code",
   "execution_count": 132,
   "id": "b7a7d5a4",
   "metadata": {},
   "outputs": [
    {
     "data": {
      "image/png": "[encoded data removed]",
      "text/plain": [
       "<Figure size 1440x720 with 6 Axes>"
      ]
     },
     "metadata": {
      "needs_background": "light"
     },
     "output_type": "display_data"
    }
   ],
   "source": [
    "show_column_counts(dades_marc_2019_info_s1, 'last_updated')"
   ]
  },
  {
   "cell_type": "markdown",
   "id": "73e62307",
   "metadata": {},
   "source": [
    "### last_reported\n",
    "\n",
    "|  | info |\n",
    "| -- | -- |\n",
    "|  |  |"
   ]
  },
  {
   "cell_type": "code",
   "execution_count": 133,
   "id": "6d4c6741",
   "metadata": {},
   "outputs": [
    {
     "data": {
      "text/plain": [
       "True"
      ]
     },
     "execution_count": 133,
     "metadata": {},
     "output_type": "execute_result"
    }
   ],
   "source": [
    "(dades_marc_2019_info_s1.last_reported.value_counts() > 1).any()"
   ]
  },
  {
   "cell_type": "code",
   "execution_count": 134,
   "id": "3086b31b",
   "metadata": {},
   "outputs": [
    {
     "data": {
      "image/png": "[encoded data removed]",
      "text/plain": [
       "<Figure size 1440x720 with 6 Axes>"
      ]
     },
     "metadata": {
      "needs_background": "light"
     },
     "output_type": "display_data"
    }
   ],
   "source": [
    "show_column_counts(dades_marc_2019_info_s1, 'last_reported')"
   ]
  },
  {
   "cell_type": "code",
   "execution_count": 135,
   "id": "dba2ce8d",
   "metadata": {},
   "outputs": [],
   "source": [
    "# will remove the duplicate for last reported\n",
    "dades_marc_2019_info_s1 = remove_duplicates(dades_marc_2019_info_s1.copy(), 'last_reported')"
   ]
  },
  {
   "cell_type": "code",
   "execution_count": 136,
   "id": "04d598c9",
   "metadata": {
    "scrolled": false
   },
   "outputs": [
    {
     "data": {
      "image/png": "[encoded data removed]",
      "text/plain": [
       "<Figure size 1440x720 with 6 Axes>"
      ]
     },
     "metadata": {
      "needs_background": "light"
     },
     "output_type": "display_data"
    }
   ],
   "source": [
    "show_column_counts(dades_marc_2019_info_s1, 'last_reported')"
   ]
  },
  {
   "cell_type": "markdown",
   "id": "114d2208",
   "metadata": {},
   "source": [
    "## station_id"
   ]
  },
  {
   "cell_type": "code",
   "execution_count": 137,
   "id": "55dcd4e2",
   "metadata": {},
   "outputs": [
    {
     "name": "stdout",
     "output_type": "stream",
     "text": [
      "DescribeResult(nobs=355467, minmax=(1, 496), mean=215.1967496279542, variance=15450.670156145794, skewness=0.06210974302108455, kurtosis=-1.0841759773963147)\n"
     ]
    },
    {
     "data": {
      "text/plain": [
       "count    355467.000000\n",
       "mean        215.196750\n",
       "std         124.300725\n",
       "min           1.000000\n",
       "25%         109.000000\n",
       "50%         214.000000\n",
       "75%         320.000000\n",
       "max         496.000000\n",
       "Name: station_id, dtype: float64"
      ]
     },
     "execution_count": 137,
     "metadata": {},
     "output_type": "execute_result"
    }
   ],
   "source": [
    "print(stats.describe(dades_2019_Marc_info.station_id))\n",
    "dades_2019_Marc_info.station_id.describe()"
   ]
  },
  {
   "cell_type": "code",
   "execution_count": 138,
   "id": "d445cd81",
   "metadata": {},
   "outputs": [
    {
     "data": {
      "image/png": "[encoded data removed]",
      "text/plain": [
       "<Figure size 1440x720 with 6 Axes>"
      ]
     },
     "metadata": {
      "needs_background": "light"
     },
     "output_type": "display_data"
    }
   ],
   "source": [
    "# station_id \n",
    "# Most values are repeated equally in the dataset\n",
    "show_column_counts(dades_2019_Marc_info, 'station_id')"
   ]
  },
  {
   "cell_type": "markdown",
   "id": "35030d56",
   "metadata": {},
   "source": [
    "## num_bikes_available"
   ]
  },
  {
   "cell_type": "code",
   "execution_count": 139,
   "id": "ec690e34",
   "metadata": {},
   "outputs": [
    {
     "name": "stdout",
     "output_type": "stream",
     "text": [
      "DescribeResult(nobs=355467, minmax=(0, 54), mean=12.274807506744649, variance=118.32815636011216, skewness=0.4800406321795607, kurtosis=-0.612264885501896)\n"
     ]
    },
    {
     "data": {
      "text/plain": [
       "count    355467.000000\n",
       "mean         12.274808\n",
       "std          10.877875\n",
       "min           0.000000\n",
       "25%           1.000000\n",
       "50%          11.000000\n",
       "75%          21.000000\n",
       "max          54.000000\n",
       "Name: num_bikes_available, dtype: float64"
      ]
     },
     "execution_count": 139,
     "metadata": {},
     "output_type": "execute_result"
    }
   ],
   "source": [
    "# num_bikes_available\n",
    "# by looking at the differance between the 75% and max number \n",
    "# existance of outliers is possible. 54 is too big for a station size\n",
    "# TODO, check max size of a station? Replace outliers with the maximum size\n",
    "print(stats.describe(dades_2019_Marc_info.num_bikes_available))\n",
    "dades_2019_Marc_info.num_bikes_available.describe()"
   ]
  },
  {
   "cell_type": "code",
   "execution_count": 140,
   "id": "fe9641ac",
   "metadata": {},
   "outputs": [
    {
     "data": {
      "image/png": "[encoded data removed]",
      "text/plain": [
       "<Figure size 1440x720 with 6 Axes>"
      ]
     },
     "metadata": {
      "needs_background": "light"
     },
     "output_type": "display_data"
    }
   ],
   "source": [
    "show_column_counts(dades_2019_Marc_info, 'num_bikes_available')"
   ]
  },
  {
   "cell_type": "markdown",
   "id": "cf2cd65c",
   "metadata": {},
   "source": [
    "## num_docks_available"
   ]
  },
  {
   "cell_type": "code",
   "execution_count": 141,
   "id": "e7c84275",
   "metadata": {},
   "outputs": [
    {
     "name": "stdout",
     "output_type": "stream",
     "text": [
      "DescribeResult(nobs=355467, minmax=(0, 54), mean=13.479979857483254, variance=112.04875930934541, skewness=0.18349701625906567, kurtosis=-1.257827725458595)\n"
     ]
    },
    {
     "data": {
      "text/plain": [
       "count    355467.000000\n",
       "mean         13.479980\n",
       "std          10.585309\n",
       "min           0.000000\n",
       "25%           2.000000\n",
       "50%          13.000000\n",
       "75%          23.000000\n",
       "max          54.000000\n",
       "Name: num_docks_available, dtype: float64"
      ]
     },
     "execution_count": 141,
     "metadata": {},
     "output_type": "execute_result"
    }
   ],
   "source": [
    "print(stats.describe(dades_2019_Marc_info.num_docks_available))\n",
    "dades_2019_Marc_info.num_docks_available.describe()"
   ]
  },
  {
   "cell_type": "code",
   "execution_count": 142,
   "id": "7d138ecc",
   "metadata": {
    "scrolled": false
   },
   "outputs": [
    {
     "data": {
      "image/png": "[encoded data removed]",
      "text/plain": [
       "<Figure size 1440x720 with 6 Axes>"
      ]
     },
     "metadata": {
      "needs_background": "light"
     },
     "output_type": "display_data"
    }
   ],
   "source": [
    "show_column_counts(dades_2019_Marc_info, 'num_docks_available')"
   ]
  },
  {
   "cell_type": "markdown",
   "id": "faa64d7a",
   "metadata": {},
   "source": [
    "# Preprocessing the data "
   ]
  },
  {
   "cell_type": "code",
   "execution_count": 143,
   "id": "40d89240",
   "metadata": {
    "scrolled": true
   },
   "outputs": [
    {
     "name": "stdout",
     "output_type": "stream",
     "text": [
      "(355467, 13)\n"
     ]
    },
    {
     "data": {
      "application/vnd.jupyter.widget-view+json": {
       "model_id": "c7e213ea119c41abab25c523d310e133",
       "version_major": 2,
       "version_minor": 0
      },
      "text/plain": [
       "  0%|          | 0/399 [00:00<?, ?it/s]"
      ]
     },
     "metadata": {},
     "output_type": "display_data"
    },
    {
     "name": "stdout",
     "output_type": "stream",
     "text": [
      "(349863, 12)\n"
     ]
    }
   ],
   "source": [
    "dades_2019_Marc_info = pd.read_csv('dades/2019/BicingNou_ESTACIONS/2019_03_Marc_BicingNou_ESTACIONS.csv')\n",
    "\n",
    "print(dades_2019_Marc_info.shape)\n",
    "\n",
    "# change column to one hot enconding\n",
    "dades_2019_Marc_info['is_charging_station'] = dades_2019_Marc_info.is_charging_station.astype(np.int)\n",
    "\n",
    "# STATUS = IN_SERVICE=En servei, CLOSED=Tancada\n",
    "# replace IN_SERVICE with 1 and CLOSED with 0\n",
    "dades_2019_Marc_info['status'].replace(to_replace=['CLOSED', 'IN_SERVICE'], value=[0, 1], inplace=True)\n",
    "\n",
    "# will remove the duplicate for last reported for all stations in the dataset\n",
    "dades_2019_Marc_info = remove_duplicates_all(dades_2019_Marc_info.copy(), 'last_reported')\n",
    "\n",
    "# convert timestamps of last_updated\n",
    "dades_2019_Marc_info = convert_timestamp(dades_2019_Marc_info.copy(), ['last_updated'], sort=True, add=True)\n",
    "\n",
    "# convert timestamps to multimple of 3\n",
    "dades_2019_Marc_info = timestamp_multipleof(\n",
    "    devide_by=config.devide_by, \n",
    "    column='minutes_last_updated_date',\n",
    "    df=dades_2019_Marc_info.copy(), \n",
    "    new_column='last_updated', \n",
    "    year_column='year_last_updated_date',\n",
    "    month_column='month_last_updated_date',\n",
    "    day_column='dayofmonth_last_updated_date',\n",
    "    hour_column='hour_last_updated_date',\n",
    "    minutes_column='minutes_last_updated_date'\n",
    ")    \n",
    "\n",
    "# drop not needed columns\n",
    "dades_2019_Marc_info.drop(\n",
    "    [\n",
    "        'year_last_updated_date', 'month_last_updated_date',\n",
    "        'week_last_updated_date', 'dayofweek_last_updated_date',\n",
    "        'dayofmonth_last_updated_date', 'dayofyear_last_updated_date',\n",
    "        'hour_last_updated_date', 'minutes_last_updated_date'\n",
    "    ], \n",
    "    axis=1, \n",
    "    inplace=True\n",
    ")\n",
    "\n",
    "# we don't have this column anywhere in the new dataset so it got removed\n",
    "dades_2019_Marc_info.drop('last_reported', axis=1, inplace=True)\n",
    "\n",
    "print(dades_2019_Marc_info.shape)"
   ]
  },
  {
   "cell_type": "code",
   "execution_count": 144,
   "id": "6918531c",
   "metadata": {},
   "outputs": [
    {
     "data": {
      "text/html": [
       "<div>\n",
       "<style scoped>\n",
       "    .dataframe tbody tr th:only-of-type {\n",
       "        vertical-align: middle;\n",
       "    }\n",
       "\n",
       "    .dataframe tbody tr th {\n",
       "        vertical-align: top;\n",
       "    }\n",
       "\n",
       "    .dataframe thead th {\n",
       "        text-align: right;\n",
       "    }\n",
       "</style>\n",
       "<table border=\"1\" class=\"dataframe\">\n",
       "  <thead>\n",
       "    <tr style=\"text-align: right;\">\n",
       "      <th></th>\n",
       "      <th>station_id</th>\n",
       "      <th>num_bikes_available</th>\n",
       "      <th>num_bikes_available_types.mechanical</th>\n",
       "      <th>num_bikes_available_types.ebike</th>\n",
       "      <th>num_docks_available</th>\n",
       "      <th>is_installed</th>\n",
       "      <th>is_renting</th>\n",
       "      <th>is_returning</th>\n",
       "      <th>is_charging_station</th>\n",
       "      <th>status</th>\n",
       "      <th>last_updated</th>\n",
       "      <th>ttl</th>\n",
       "    </tr>\n",
       "  </thead>\n",
       "  <tbody>\n",
       "    <tr>\n",
       "      <th>0</th>\n",
       "      <td>1</td>\n",
       "      <td>16</td>\n",
       "      <td>16</td>\n",
       "      <td>0</td>\n",
       "      <td>14</td>\n",
       "      <td>1</td>\n",
       "      <td>1</td>\n",
       "      <td>1</td>\n",
       "      <td>1</td>\n",
       "      <td>1</td>\n",
       "      <td>1553795700</td>\n",
       "      <td>23</td>\n",
       "    </tr>\n",
       "    <tr>\n",
       "      <th>1</th>\n",
       "      <td>41</td>\n",
       "      <td>13</td>\n",
       "      <td>13</td>\n",
       "      <td>0</td>\n",
       "      <td>7</td>\n",
       "      <td>1</td>\n",
       "      <td>1</td>\n",
       "      <td>1</td>\n",
       "      <td>1</td>\n",
       "      <td>1</td>\n",
       "      <td>1553795700</td>\n",
       "      <td>23</td>\n",
       "    </tr>\n",
       "    <tr>\n",
       "      <th>2</th>\n",
       "      <td>327</td>\n",
       "      <td>0</td>\n",
       "      <td>0</td>\n",
       "      <td>0</td>\n",
       "      <td>24</td>\n",
       "      <td>1</td>\n",
       "      <td>1</td>\n",
       "      <td>1</td>\n",
       "      <td>1</td>\n",
       "      <td>1</td>\n",
       "      <td>1553795700</td>\n",
       "      <td>23</td>\n",
       "    </tr>\n",
       "    <tr>\n",
       "      <th>3</th>\n",
       "      <td>326</td>\n",
       "      <td>0</td>\n",
       "      <td>0</td>\n",
       "      <td>0</td>\n",
       "      <td>32</td>\n",
       "      <td>1</td>\n",
       "      <td>1</td>\n",
       "      <td>1</td>\n",
       "      <td>1</td>\n",
       "      <td>1</td>\n",
       "      <td>1553795700</td>\n",
       "      <td>23</td>\n",
       "    </tr>\n",
       "    <tr>\n",
       "      <th>4</th>\n",
       "      <td>42</td>\n",
       "      <td>8</td>\n",
       "      <td>8</td>\n",
       "      <td>0</td>\n",
       "      <td>14</td>\n",
       "      <td>1</td>\n",
       "      <td>1</td>\n",
       "      <td>1</td>\n",
       "      <td>1</td>\n",
       "      <td>1</td>\n",
       "      <td>1553795700</td>\n",
       "      <td>23</td>\n",
       "    </tr>\n",
       "    <tr>\n",
       "      <th>...</th>\n",
       "      <td>...</td>\n",
       "      <td>...</td>\n",
       "      <td>...</td>\n",
       "      <td>...</td>\n",
       "      <td>...</td>\n",
       "      <td>...</td>\n",
       "      <td>...</td>\n",
       "      <td>...</td>\n",
       "      <td>...</td>\n",
       "      <td>...</td>\n",
       "      <td>...</td>\n",
       "      <td>...</td>\n",
       "    </tr>\n",
       "    <tr>\n",
       "      <th>349858</th>\n",
       "      <td>67</td>\n",
       "      <td>0</td>\n",
       "      <td>0</td>\n",
       "      <td>0</td>\n",
       "      <td>0</td>\n",
       "      <td>1</td>\n",
       "      <td>1</td>\n",
       "      <td>1</td>\n",
       "      <td>1</td>\n",
       "      <td>1</td>\n",
       "      <td>1554069000</td>\n",
       "      <td>30</td>\n",
       "    </tr>\n",
       "    <tr>\n",
       "      <th>349859</th>\n",
       "      <td>189</td>\n",
       "      <td>15</td>\n",
       "      <td>15</td>\n",
       "      <td>0</td>\n",
       "      <td>12</td>\n",
       "      <td>1</td>\n",
       "      <td>1</td>\n",
       "      <td>1</td>\n",
       "      <td>1</td>\n",
       "      <td>1</td>\n",
       "      <td>1554069000</td>\n",
       "      <td>30</td>\n",
       "    </tr>\n",
       "    <tr>\n",
       "      <th>349860</th>\n",
       "      <td>216</td>\n",
       "      <td>0</td>\n",
       "      <td>0</td>\n",
       "      <td>0</td>\n",
       "      <td>26</td>\n",
       "      <td>1</td>\n",
       "      <td>1</td>\n",
       "      <td>1</td>\n",
       "      <td>1</td>\n",
       "      <td>1</td>\n",
       "      <td>1554069000</td>\n",
       "      <td>30</td>\n",
       "    </tr>\n",
       "    <tr>\n",
       "      <th>349861</th>\n",
       "      <td>11</td>\n",
       "      <td>13</td>\n",
       "      <td>13</td>\n",
       "      <td>0</td>\n",
       "      <td>7</td>\n",
       "      <td>1</td>\n",
       "      <td>1</td>\n",
       "      <td>1</td>\n",
       "      <td>1</td>\n",
       "      <td>1</td>\n",
       "      <td>1554069000</td>\n",
       "      <td>30</td>\n",
       "    </tr>\n",
       "    <tr>\n",
       "      <th>349862</th>\n",
       "      <td>496</td>\n",
       "      <td>0</td>\n",
       "      <td>0</td>\n",
       "      <td>0</td>\n",
       "      <td>16</td>\n",
       "      <td>1</td>\n",
       "      <td>1</td>\n",
       "      <td>1</td>\n",
       "      <td>1</td>\n",
       "      <td>1</td>\n",
       "      <td>1554069000</td>\n",
       "      <td>30</td>\n",
       "    </tr>\n",
       "  </tbody>\n",
       "</table>\n",
       "<p>349863 rows × 12 columns</p>\n",
       "</div>"
      ],
      "text/plain": [
       "        station_id  num_bikes_available  num_bikes_available_types.mechanical  \\\n",
       "0                1                   16                                    16   \n",
       "1               41                   13                                    13   \n",
       "2              327                    0                                     0   \n",
       "3              326                    0                                     0   \n",
       "4               42                    8                                     8   \n",
       "...            ...                  ...                                   ...   \n",
       "349858          67                    0                                     0   \n",
       "349859         189                   15                                    15   \n",
       "349860         216                    0                                     0   \n",
       "349861          11                   13                                    13   \n",
       "349862         496                    0                                     0   \n",
       "\n",
       "        num_bikes_available_types.ebike  num_docks_available  is_installed  \\\n",
       "0                                     0                   14             1   \n",
       "1                                     0                    7             1   \n",
       "2                                     0                   24             1   \n",
       "3                                     0                   32             1   \n",
       "4                                     0                   14             1   \n",
       "...                                 ...                  ...           ...   \n",
       "349858                                0                    0             1   \n",
       "349859                                0                   12             1   \n",
       "349860                                0                   26             1   \n",
       "349861                                0                    7             1   \n",
       "349862                                0                   16             1   \n",
       "\n",
       "        is_renting  is_returning  is_charging_station  status  last_updated  \\\n",
       "0                1             1                    1       1    1553795700   \n",
       "1                1             1                    1       1    1553795700   \n",
       "2                1             1                    1       1    1553795700   \n",
       "3                1             1                    1       1    1553795700   \n",
       "4                1             1                    1       1    1553795700   \n",
       "...            ...           ...                  ...     ...           ...   \n",
       "349858           1             1                    1       1    1554069000   \n",
       "349859           1             1                    1       1    1554069000   \n",
       "349860           1             1                    1       1    1554069000   \n",
       "349861           1             1                    1       1    1554069000   \n",
       "349862           1             1                    1       1    1554069000   \n",
       "\n",
       "        ttl  \n",
       "0        23  \n",
       "1        23  \n",
       "2        23  \n",
       "3        23  \n",
       "4        23  \n",
       "...     ...  \n",
       "349858   30  \n",
       "349859   30  \n",
       "349860   30  \n",
       "349861   30  \n",
       "349862   30  \n",
       "\n",
       "[349863 rows x 12 columns]"
      ]
     },
     "execution_count": 144,
     "metadata": {},
     "output_type": "execute_result"
    }
   ],
   "source": [
    "dades_2019_Marc_info"
   ]
  },
  {
   "cell_type": "markdown",
   "id": "790d1502",
   "metadata": {},
   "source": [
    "# dades_2019_Marc_us"
   ]
  },
  {
   "cell_type": "code",
   "execution_count": 145,
   "id": "a28ae301",
   "metadata": {},
   "outputs": [
    {
     "name": "stdout",
     "output_type": "stream",
     "text": [
      "(352674, 11)\n"
     ]
    }
   ],
   "source": [
    "dades_2019_Marc_us = pd.read_csv('dades/2019/BicingNou_INFORMACIO/2019_03_Marc_BicingNou_INFORMACIO.csv')\n",
    "\n",
    "print(dades_2019_Marc_us.shape)\n",
    "\n",
    "dades_2019_Marc_us = convert_timestamp(dades_2019_Marc_us.copy(), ['last_updated'], sort=True, add=True)"
   ]
  },
  {
   "cell_type": "markdown",
   "id": "19ef0714",
   "metadata": {},
   "source": [
    "## Fixing error in data"
   ]
  },
  {
   "cell_type": "code",
   "execution_count": 146,
   "id": "fa65fd3b",
   "metadata": {},
   "outputs": [
    {
     "data": {
      "text/plain": [
       "0                                       351790\n",
       "01 - C/ GRAN VIA CORTS CATALANES 760       884\n",
       "Name: altitude, dtype: int64"
      ]
     },
     "execution_count": 146,
     "metadata": {},
     "output_type": "execute_result"
    }
   ],
   "source": [
    "dades_2019_Marc_us.altitude.value_counts()"
   ]
  },
  {
   "cell_type": "code",
   "execution_count": 147,
   "id": "5f5461b2",
   "metadata": {},
   "outputs": [
    {
     "name": "stdout",
     "output_type": "stream",
     "text": [
      "(884, 19)\n"
     ]
    }
   ],
   "source": [
    "# dades_2019_Marc_us[~(dades_2019_Marc_us.altitude == \"0\")] # 884 row  does not have 0 in the altitud column\n",
    "cond = (~(dades_2019_Marc_us.altitude == \"0\") & (dades_2019_Marc_us.capacity == 1))\n",
    "print(dades_2019_Marc_us[cond].shape) \n",
    "# 884 row does not have 0 in the altitud column\n",
    "# capacity is filled with values 1 to fix this we need to shift the data \n",
    "\n",
    "# Fix data \n",
    "dades_2019_Marc_us.loc[cond, ['capacity']] = dades_2019_Marc_us[cond].post_code\n",
    "dades_2019_Marc_us.loc[cond, ['post_code']] = dades_2019_Marc_us[cond].address\n",
    "dades_2019_Marc_us.loc[cond, ['address']] = dades_2019_Marc_us[cond].altitude\n",
    "dades_2019_Marc_us.loc[cond, ['altitude']] = '0'"
   ]
  },
  {
   "cell_type": "code",
   "execution_count": 148,
   "id": "d992d63b",
   "metadata": {},
   "outputs": [
    {
     "data": {
      "text/html": [
       "<div>\n",
       "<style scoped>\n",
       "    .dataframe tbody tr th:only-of-type {\n",
       "        vertical-align: middle;\n",
       "    }\n",
       "\n",
       "    .dataframe tbody tr th {\n",
       "        vertical-align: top;\n",
       "    }\n",
       "\n",
       "    .dataframe thead th {\n",
       "        text-align: right;\n",
       "    }\n",
       "</style>\n",
       "<table border=\"1\" class=\"dataframe\">\n",
       "  <thead>\n",
       "    <tr style=\"text-align: right;\">\n",
       "      <th></th>\n",
       "      <th>station_id</th>\n",
       "      <th>name</th>\n",
       "      <th>physical_configuration</th>\n",
       "      <th>lat</th>\n",
       "      <th>lon</th>\n",
       "      <th>altitude</th>\n",
       "      <th>address</th>\n",
       "      <th>post_code</th>\n",
       "      <th>capacity</th>\n",
       "      <th>last_updated</th>\n",
       "      <th>ttl</th>\n",
       "      <th>year_last_updated_date</th>\n",
       "      <th>month_last_updated_date</th>\n",
       "      <th>week_last_updated_date</th>\n",
       "      <th>dayofweek_last_updated_date</th>\n",
       "      <th>dayofmonth_last_updated_date</th>\n",
       "      <th>dayofyear_last_updated_date</th>\n",
       "      <th>hour_last_updated_date</th>\n",
       "      <th>minutes_last_updated_date</th>\n",
       "    </tr>\n",
       "  </thead>\n",
       "  <tbody>\n",
       "  </tbody>\n",
       "</table>\n",
       "</div>"
      ],
      "text/plain": [
       "Empty DataFrame\n",
       "Columns: [station_id, name, physical_configuration, lat, lon, altitude, address, post_code, capacity, last_updated, ttl, year_last_updated_date, month_last_updated_date, week_last_updated_date, dayofweek_last_updated_date, dayofmonth_last_updated_date, dayofyear_last_updated_date, hour_last_updated_date, minutes_last_updated_date]\n",
       "Index: []"
      ]
     },
     "execution_count": 148,
     "metadata": {},
     "output_type": "execute_result"
    }
   ],
   "source": [
    "cond = (~(dades_2019_Marc_us.altitude == \"0\") & (dades_2019_Marc_us.capacity == 1))\n",
    "dades_2019_Marc_us[cond].head(5)"
   ]
  },
  {
   "cell_type": "code",
   "execution_count": 149,
   "id": "91ed5520",
   "metadata": {
    "scrolled": true
   },
   "outputs": [
    {
     "data": {
      "text/plain": [
       "0    352674\n",
       "Name: altitude, dtype: int64"
      ]
     },
     "execution_count": 149,
     "metadata": {},
     "output_type": "execute_result"
    }
   ],
   "source": [
    "dades_2019_Marc_us.altitude.value_counts()"
   ]
  },
  {
   "cell_type": "markdown",
   "id": "2a83e3f0",
   "metadata": {},
   "source": [
    "## Study"
   ]
  },
  {
   "cell_type": "code",
   "execution_count": 150,
   "id": "08b5a32c",
   "metadata": {},
   "outputs": [
    {
     "data": {
      "text/plain": [
       "{}"
      ]
     },
     "execution_count": 150,
     "metadata": {},
     "output_type": "execute_result"
    }
   ],
   "source": [
    "get_features_nans(dades_2019_Marc_us)"
   ]
  },
  {
   "cell_type": "code",
   "execution_count": 151,
   "id": "f103e262",
   "metadata": {},
   "outputs": [
    {
     "data": {
      "text/plain": [
       "{'capacity': 0.3578375496917834,\n",
       " 'hour_last_updated_date': 4.072883172561629,\n",
       " 'minutes_last_updated_date': 0.11313564368226749}"
      ]
     },
     "execution_count": 151,
     "metadata": {},
     "output_type": "execute_result"
    }
   ],
   "source": [
    "get_features_zero(dades_2019_Marc_us)"
   ]
  },
  {
   "cell_type": "code",
   "execution_count": 152,
   "id": "61bae1de",
   "metadata": {
    "scrolled": true
   },
   "outputs": [
    {
     "data": {
      "text/plain": [
       "{'station_id': 399,\n",
       " 'name': 399,\n",
       " 'physical_configuration': 1,\n",
       " 'lat': 399,\n",
       " 'lon': 399,\n",
       " 'altitude': 1,\n",
       " 'address': 399,\n",
       " 'post_code': 3,\n",
       " 'capacity': 33,\n",
       " 'last_updated': 884,\n",
       " 'ttl': 30,\n",
       " 'year_last_updated_date': 1,\n",
       " 'month_last_updated_date': 1,\n",
       " 'week_last_updated_date': 1,\n",
       " 'dayofweek_last_updated_date': 4,\n",
       " 'dayofmonth_last_updated_date': 4,\n",
       " 'dayofyear_last_updated_date': 4,\n",
       " 'hour_last_updated_date': 24,\n",
       " 'minutes_last_updated_date': 15}"
      ]
     },
     "execution_count": 152,
     "metadata": {},
     "output_type": "execute_result"
    }
   ],
   "source": [
    "get_columns(dades_2019_Marc_us)"
   ]
  },
  {
   "cell_type": "markdown",
   "id": "954bf425",
   "metadata": {},
   "source": [
    "## ttl"
   ]
  },
  {
   "cell_type": "code",
   "execution_count": 153,
   "id": "04dca9a2",
   "metadata": {},
   "outputs": [
    {
     "name": "stdout",
     "output_type": "stream",
     "text": [
      "DescribeResult(nobs=352674, minmax=(1, 30), mean=18.459373245546878, variance=95.53655766067209, skewness=-0.2902947969210823, kurtosis=-1.3529447699081723)\n"
     ]
    },
    {
     "data": {
      "text/plain": [
       "count    352674.000000\n",
       "mean         18.459373\n",
       "std           9.774280\n",
       "min           1.000000\n",
       "25%           9.000000\n",
       "50%          20.000000\n",
       "75%          28.000000\n",
       "max          30.000000\n",
       "Name: ttl, dtype: float64"
      ]
     },
     "execution_count": 153,
     "metadata": {},
     "output_type": "execute_result"
    }
   ],
   "source": [
    "print(stats.describe(dades_2019_Marc_us.ttl))\n",
    "dades_2019_Marc_us.ttl.describe()"
   ]
  },
  {
   "cell_type": "code",
   "execution_count": 154,
   "id": "0badaa22",
   "metadata": {},
   "outputs": [
    {
     "data": {
      "image/png": "[encoded data removed]",
      "text/plain": [
       "<Figure size 1440x720 with 6 Axes>"
      ]
     },
     "metadata": {
      "needs_background": "light"
     },
     "output_type": "display_data"
    }
   ],
   "source": [
    "show_column_counts(dades_2019_Marc_us, 'ttl')"
   ]
  },
  {
   "cell_type": "markdown",
   "id": "7aeb8cd1",
   "metadata": {},
   "source": [
    "### Study on TTL for station 1\n",
    "Taking one station ID and looking for the best TTL for multiple answers from the same time\n"
   ]
  },
  {
   "cell_type": "code",
   "execution_count": 155,
   "id": "8c368519",
   "metadata": {},
   "outputs": [],
   "source": [
    "dades_2019_Marc_us_s1 = dades_2019_Marc_us[dades_2019_Marc_us.station_id == 1]"
   ]
  },
  {
   "cell_type": "markdown",
   "id": "01dcf356",
   "metadata": {},
   "source": [
    "### last_updated \n",
    "\n",
    "|  | info |\n",
    "| -- | -- |\n",
    "|  | last updates is the timestamp for the file |\n",
    "|  | a station id will never have repeated last_updated timestamp in the dataset |"
   ]
  },
  {
   "cell_type": "code",
   "execution_count": 156,
   "id": "edce9f3c",
   "metadata": {},
   "outputs": [
    {
     "data": {
      "text/plain": [
       "False"
      ]
     },
     "execution_count": 156,
     "metadata": {},
     "output_type": "execute_result"
    }
   ],
   "source": [
    "(dades_2019_Marc_us_s1.last_updated.value_counts() > 1).any()  # give insight if there any last_updated timestamps is repeated "
   ]
  },
  {
   "cell_type": "code",
   "execution_count": 157,
   "id": "e6b65be8",
   "metadata": {},
   "outputs": [
    {
     "data": {
      "image/png": "[encoded data removed]",
      "text/plain": [
       "<Figure size 1440x720 with 6 Axes>"
      ]
     },
     "metadata": {
      "needs_background": "light"
     },
     "output_type": "display_data"
    }
   ],
   "source": [
    "show_column_counts(dades_2019_Marc_us_s1, 'last_updated')"
   ]
  },
  {
   "cell_type": "code",
   "execution_count": 158,
   "id": "efeae0f9",
   "metadata": {},
   "outputs": [],
   "source": [
    "dades_2019_Marc_us.drop(['last_updated','ttl'], axis=1, inplace=True)"
   ]
  },
  {
   "cell_type": "markdown",
   "id": "896ee88e",
   "metadata": {},
   "source": [
    "## station_id"
   ]
  },
  {
   "cell_type": "code",
   "execution_count": 159,
   "id": "7c04e121",
   "metadata": {},
   "outputs": [
    {
     "name": "stdout",
     "output_type": "stream",
     "text": [
      "DescribeResult(nobs=352674, minmax=(1, 496), mean=215.19677946205277, variance=15450.679509636726, skewness=0.06210900743938997, kurtosis=-1.084176694009516)\n"
     ]
    },
    {
     "data": {
      "text/plain": [
       "count    352674.000000\n",
       "mean        215.196779\n",
       "std         124.300762\n",
       "min           1.000000\n",
       "25%         109.000000\n",
       "50%         214.000000\n",
       "75%         320.000000\n",
       "max         496.000000\n",
       "Name: station_id, dtype: float64"
      ]
     },
     "execution_count": 159,
     "metadata": {},
     "output_type": "execute_result"
    }
   ],
   "source": [
    "print(stats.describe(dades_2019_Marc_us.station_id))\n",
    "dades_2019_Marc_us.station_id.describe()"
   ]
  },
  {
   "cell_type": "code",
   "execution_count": 160,
   "id": "8065d1f9",
   "metadata": {
    "scrolled": false
   },
   "outputs": [
    {
     "data": {
      "image/png": "[encoded data removed]",
      "text/plain": [
       "<Figure size 1440x720 with 6 Axes>"
      ]
     },
     "metadata": {
      "needs_background": "light"
     },
     "output_type": "display_data"
    }
   ],
   "source": [
    "show_column_counts(dades_2019_Marc_us, 'station_id')"
   ]
  },
  {
   "cell_type": "markdown",
   "id": "d8b93f8a",
   "metadata": {},
   "source": [
    "## lat"
   ]
  },
  {
   "cell_type": "code",
   "execution_count": 161,
   "id": "4b788f74",
   "metadata": {
    "scrolled": false
   },
   "outputs": [
    {
     "data": {
      "image/png": "[encoded data removed]",
      "text/plain": [
       "<Figure size 1440x720 with 6 Axes>"
      ]
     },
     "metadata": {
      "needs_background": "light"
     },
     "output_type": "display_data"
    }
   ],
   "source": [
    "show_column_counts(dades_2019_Marc_us, 'lat')"
   ]
  },
  {
   "cell_type": "markdown",
   "id": "defab64d",
   "metadata": {},
   "source": [
    "## lon"
   ]
  },
  {
   "cell_type": "code",
   "execution_count": 162,
   "id": "3ac9fec7",
   "metadata": {
    "scrolled": false
   },
   "outputs": [
    {
     "data": {
      "image/png": "[encoded data removed]",
      "text/plain": [
       "<Figure size 1440x720 with 6 Axes>"
      ]
     },
     "metadata": {
      "needs_background": "light"
     },
     "output_type": "display_data"
    }
   ],
   "source": [
    "show_column_counts(dades_2019_Marc_us, 'lon')"
   ]
  },
  {
   "cell_type": "markdown",
   "id": "77b9e262",
   "metadata": {},
   "source": [
    "## capacity"
   ]
  },
  {
   "cell_type": "code",
   "execution_count": 163,
   "id": "e92e16b9",
   "metadata": {},
   "outputs": [
    {
     "data": {
      "image/png": "[encoded data removed]",
      "text/plain": [
       "<Figure size 1440x720 with 6 Axes>"
      ]
     },
     "metadata": {
      "needs_background": "light"
     },
     "output_type": "display_data"
    }
   ],
   "source": [
    "show_column_counts(dades_2019_Marc_us, 'capacity')"
   ]
  },
  {
   "cell_type": "markdown",
   "id": "e66b3cb4",
   "metadata": {},
   "source": [
    "## post_code"
   ]
  },
  {
   "cell_type": "code",
   "execution_count": 164,
   "id": "433eaeba",
   "metadata": {},
   "outputs": [
    {
     "data": {
      "text/plain": [
       "08908    352674\n",
       "Name: post_code, dtype: int64"
      ]
     },
     "execution_count": 164,
     "metadata": {},
     "output_type": "execute_result"
    }
   ],
   "source": [
    "# post code is wrong need fixing using long & lat. \n",
    "# can be fixed using post code data from old dataset after the merge\n",
    "dades_2019_Marc_us['post_code'] = '08908'\n",
    "dades_2019_Marc_us.post_code.value_counts()"
   ]
  },
  {
   "cell_type": "markdown",
   "id": "a036c588",
   "metadata": {},
   "source": [
    "# Preprocessing the data "
   ]
  },
  {
   "cell_type": "code",
   "execution_count": 165,
   "id": "a95e8737",
   "metadata": {},
   "outputs": [
    {
     "name": "stdout",
     "output_type": "stream",
     "text": [
      "(352674, 11)\n",
      "(884, 11)\n"
     ]
    },
    {
     "ename": "NameError",
     "evalue": "name 'df' is not defined",
     "output_type": "error",
     "traceback": [
      "\u001b[0;31m---------------------------------------------------------------------------\u001b[0m",
      "\u001b[0;31mNameError\u001b[0m                                 Traceback (most recent call last)",
      "\u001b[0;32m<ipython-input-165-ed383083adf7>\u001b[0m in \u001b[0;36m<module>\u001b[0;34m\u001b[0m\n\u001b[1;32m     47\u001b[0m \u001b[0;34m\u001b[0m\u001b[0m\n\u001b[1;32m     48\u001b[0m \u001b[0;31m# create mew column of last reported and last updated\u001b[0m\u001b[0;34m\u001b[0m\u001b[0;34m\u001b[0m\u001b[0;34m\u001b[0m\u001b[0m\n\u001b[0;32m---> 49\u001b[0;31m dades_2019_Marc_us['streetName'] = df.apply(\n\u001b[0m\u001b[1;32m     50\u001b[0m     \u001b[0;32mlambda\u001b[0m \u001b[0mx\u001b[0m\u001b[0;34m:\u001b[0m \u001b[0;34m\" \"\u001b[0m\u001b[0;34m.\u001b[0m\u001b[0mjoin\u001b[0m\u001b[0;34m(\u001b[0m\u001b[0mre\u001b[0m\u001b[0;34m.\u001b[0m\u001b[0mfindall\u001b[0m\u001b[0;34m(\u001b[0m\u001b[0;34m\"[a-zA-Z]+\"\u001b[0m\u001b[0;34m,\u001b[0m \u001b[0mx\u001b[0m\u001b[0;34m[\u001b[0m\u001b[0;34m'name'\u001b[0m\u001b[0;34m]\u001b[0m\u001b[0;34m)\u001b[0m\u001b[0;34m)\u001b[0m\u001b[0;34m,\u001b[0m\u001b[0;34m\u001b[0m\u001b[0;34m\u001b[0m\u001b[0m\n\u001b[1;32m     51\u001b[0m     \u001b[0maxis\u001b[0m\u001b[0;34m=\u001b[0m\u001b[0;36m1\u001b[0m\u001b[0;34m\u001b[0m\u001b[0;34m\u001b[0m\u001b[0m\n",
      "\u001b[0;31mNameError\u001b[0m: name 'df' is not defined"
     ]
    }
   ],
   "source": [
    "dades_2019_Marc_us = pd.read_csv('dades/2019/BicingNou_INFORMACIO/2019_03_Marc_BicingNou_INFORMACIO.csv')\n",
    "\n",
    "print(dades_2019_Marc_us.shape)\n",
    "\n",
    "# dades_2019_Marc_us[~(dades_2019_Marc_us.altitude == \"0\")] # 884 row  does not have 0 in the altitud column\n",
    "cond = (~(dades_2019_Marc_us.altitude == \"0\") & (dades_2019_Marc_us.capacity == 1))\n",
    "print(dades_2019_Marc_us[cond].shape) \n",
    "# 884 row does not have 0 in the altitud column\n",
    "# capacity is filled with values 1 to fix this we need to shift the data \n",
    "\n",
    "# Fix data \n",
    "dades_2019_Marc_us.loc[cond, ['capacity']] = dades_2019_Marc_us[cond].post_code\n",
    "dades_2019_Marc_us.loc[cond, ['post_code']] = dades_2019_Marc_us[cond].address\n",
    "dades_2019_Marc_us.loc[cond, ['address']] = dades_2019_Marc_us[cond].altitude\n",
    "dades_2019_Marc_us.loc[cond, ['altitude']] = '0'\n",
    "\n",
    "# post code is wrong need fixing using long & lat. \n",
    "# can be fixed using post code data from old dataset after the merge\n",
    "dades_2019_Marc_us['post_code'] = '08908'\n",
    "\n",
    "dades_2019_Marc_us = convert_timestamp(dades_2019_Marc_us.copy(), ['last_updated'], sort=True, add=True)\n",
    "\n",
    "# convert timestamps to multimple of 3\n",
    "dades_2019_Marc_us = timestamp_multipleof(\n",
    "    devide_by=config.devide_by, \n",
    "    column='minutes_last_updated_date',\n",
    "    df=dades_2019_Marc_us.copy(), \n",
    "    new_column='last_updated', \n",
    "    year_column='year_last_updated_date',\n",
    "    month_column='month_last_updated_date',\n",
    "    day_column='dayofmonth_last_updated_date',\n",
    "    hour_column='hour_last_updated_date',\n",
    "    minutes_column='minutes_last_updated_date'\n",
    ")    \n",
    "\n",
    "# drop not needed columns\n",
    "dades_2019_Marc_us.drop(\n",
    "    [\n",
    "        'year_last_updated_date', 'month_last_updated_date',\n",
    "        'week_last_updated_date', 'dayofweek_last_updated_date',\n",
    "        'dayofmonth_last_updated_date', 'dayofyear_last_updated_date',\n",
    "        'hour_last_updated_date', 'minutes_last_updated_date'\n",
    "    ], \n",
    "    axis=1, \n",
    "    inplace=True\n",
    ")\n",
    "\n",
    "# create mew column of last reported and last updated \n",
    "dades_2019_Marc_us['streetName'] = df.apply(\n",
    "    lambda x: \" \".join(re.findall(\"[a-zA-Z]+\", x['name'])),\n",
    "    axis=1\n",
    ")\n",
    "\n",
    "\n",
    "# create mew column of last reported and last updated \n",
    "dades_2019_Marc_us['streetNumber'] = df.apply(\n",
    "    lambda x: re.findall(\"\\d+$\", x['name'])[0],\n",
    "    axis=1\n",
    ")\n",
    "\n",
    "# we don't have this column anywhere in the new dataset so it got removed\n",
    "dades_2019_Marc_us.drop(['name', 'address'], axis=1, inplace=True)\n",
    "\n",
    "print(dades_2019_Marc_us.shape)\n"
   ]
  },
  {
   "cell_type": "markdown",
   "id": "6d8ad813",
   "metadata": {},
   "source": [
    "# merge data us with data info"
   ]
  },
  {
   "cell_type": "code",
   "execution_count": null,
   "id": "1424cfe6",
   "metadata": {},
   "outputs": [],
   "source": [
    "dades_2019_Marc_info.head(1)"
   ]
  },
  {
   "cell_type": "code",
   "execution_count": null,
   "id": "cd88faaf",
   "metadata": {},
   "outputs": [],
   "source": [
    "dades_2019_Marc_info.shape"
   ]
  },
  {
   "cell_type": "code",
   "execution_count": null,
   "id": "6b476eb3",
   "metadata": {},
   "outputs": [],
   "source": [
    "dades_2019_Marc_us.head(1)"
   ]
  },
  {
   "cell_type": "code",
   "execution_count": null,
   "id": "ba40429e",
   "metadata": {},
   "outputs": [],
   "source": [
    "dades_2019_Marc_us.shape"
   ]
  },
  {
   "cell_type": "code",
   "execution_count": 67,
   "id": "45d68075",
   "metadata": {
    "scrolled": true
   },
   "outputs": [
    {
     "data": {
      "text/plain": [
       "(351050, 22)"
      ]
     },
     "execution_count": 67,
     "metadata": {},
     "output_type": "execute_result"
    }
   ],
   "source": [
    "merged_data = dades_2019_Marc_info.merge(\n",
    "    dades_2019_Marc_us.copy(), \n",
    "    left_on=[\n",
    "        'station_id',\n",
    "        'last_updated'\n",
    "    ], \n",
    "    right_on=[\n",
    "        'station_id',\n",
    "        'last_updated'\n",
    "    ],\n",
    "    how='left',\n",
    "    suffixes=(\"_stat\", \"_us\")\n",
    ").copy()\n",
    "\n",
    "merged_data.shape"
   ]
  },
  {
   "cell_type": "code",
   "execution_count": 68,
   "id": "f1f56f12",
   "metadata": {
    "scrolled": true
   },
   "outputs": [
    {
     "data": {
      "text/plain": [
       "(0, 351050, 0.0)"
      ]
     },
     "execution_count": 68,
     "metadata": {},
     "output_type": "execute_result"
    }
   ],
   "source": [
    "merged_data[merged_data.last_reported.isna()].shape[0], merged_data.shape[0],(merged_data[merged_data.last_reported.isna()].shape[0]/merged_data.shape[0])*100"
   ]
  },
  {
   "cell_type": "code",
   "execution_count": 69,
   "id": "66145caf",
   "metadata": {},
   "outputs": [],
   "source": [
    "merged_data[[\n",
    "    'num_bikes_available',\n",
    "    'num_bikes_available_types.mechanical', \n",
    "    'num_bikes_available_types.ebike', \n",
    "    'num_docks_available', \n",
    "    'is_installed', \n",
    "    'is_renting', \n",
    "    'is_returning', \n",
    "    'last_reported', \n",
    "    'is_charging_station', \n",
    "    'status',\n",
    "    'last_updated'\n",
    "]] = merged_data[[\n",
    "    'num_bikes_available',\n",
    "    'num_bikes_available_types.mechanical', \n",
    "    'num_bikes_available_types.ebike', \n",
    "    'num_docks_available', \n",
    "    'is_installed', \n",
    "    'is_renting', \n",
    "    'is_returning', \n",
    "    'last_reported', \n",
    "    'is_charging_station', \n",
    "    'status', \n",
    "    'last_updated'\n",
    "]].astype(np.int)"
   ]
  },
  {
   "cell_type": "code",
   "execution_count": 70,
   "id": "e9274e49",
   "metadata": {},
   "outputs": [],
   "source": [
    "merged_data['physical_configuration'].replace(to_replace=['BIKESTATION', 'ELECTRICBIKESTATION'], value=[0, 1], inplace=True)"
   ]
  },
  {
   "cell_type": "code",
   "execution_count": 71,
   "id": "5c8c3884",
   "metadata": {},
   "outputs": [
    {
     "data": {
      "text/plain": [
       "Index(['station_id', 'num_bikes_available',\n",
       "       'num_bikes_available_types.mechanical',\n",
       "       'num_bikes_available_types.ebike', 'num_docks_available',\n",
       "       'is_installed', 'is_renting', 'is_returning', 'last_reported',\n",
       "       'is_charging_station', 'status', 'last_updated', 'ttl_stat', 'name',\n",
       "       'physical_configuration', 'lat', 'lon', 'altitude', 'address',\n",
       "       'post_code', 'capacity', 'ttl_us'],\n",
       "      dtype='object')"
      ]
     },
     "execution_count": 71,
     "metadata": {},
     "output_type": "execute_result"
    }
   ],
   "source": [
    "merged_data.columns"
   ]
  },
  {
   "cell_type": "code",
   "execution_count": 72,
   "id": "7fc7f533",
   "metadata": {
    "scrolled": false
   },
   "outputs": [
    {
     "data": {
      "text/html": [
       "<div>\n",
       "<style scoped>\n",
       "    .dataframe tbody tr th:only-of-type {\n",
       "        vertical-align: middle;\n",
       "    }\n",
       "\n",
       "    .dataframe tbody tr th {\n",
       "        vertical-align: top;\n",
       "    }\n",
       "\n",
       "    .dataframe thead th {\n",
       "        text-align: right;\n",
       "    }\n",
       "</style>\n",
       "<table border=\"1\" class=\"dataframe\">\n",
       "  <thead>\n",
       "    <tr style=\"text-align: right;\">\n",
       "      <th></th>\n",
       "      <th>station_id</th>\n",
       "      <th>num_bikes_available</th>\n",
       "      <th>num_bikes_available_types.mechanical</th>\n",
       "      <th>num_bikes_available_types.ebike</th>\n",
       "      <th>num_docks_available</th>\n",
       "      <th>is_installed</th>\n",
       "      <th>is_renting</th>\n",
       "      <th>is_returning</th>\n",
       "      <th>last_reported</th>\n",
       "      <th>is_charging_station</th>\n",
       "      <th>status</th>\n",
       "      <th>last_updated</th>\n",
       "      <th>ttl_stat</th>\n",
       "      <th>name</th>\n",
       "      <th>physical_configuration</th>\n",
       "      <th>lat</th>\n",
       "      <th>lon</th>\n",
       "      <th>altitude</th>\n",
       "      <th>address</th>\n",
       "      <th>post_code</th>\n",
       "      <th>capacity</th>\n",
       "      <th>ttl_us</th>\n",
       "    </tr>\n",
       "  </thead>\n",
       "  <tbody>\n",
       "    <tr>\n",
       "      <th>0</th>\n",
       "      <td>1</td>\n",
       "      <td>16</td>\n",
       "      <td>16</td>\n",
       "      <td>0</td>\n",
       "      <td>14</td>\n",
       "      <td>1</td>\n",
       "      <td>1</td>\n",
       "      <td>1</td>\n",
       "      <td>1553795670</td>\n",
       "      <td>1</td>\n",
       "      <td>1</td>\n",
       "      <td>1553795700</td>\n",
       "      <td>23</td>\n",
       "      <td>01 - C/ GRAN VIA CORTS CATALANES 760</td>\n",
       "      <td>1.0</td>\n",
       "      <td>41.397952</td>\n",
       "      <td>2.180042</td>\n",
       "      <td>0</td>\n",
       "      <td>01 - C/ GRAN VIA CORTS CATALANES 760</td>\n",
       "      <td>08908</td>\n",
       "      <td>30.0</td>\n",
       "      <td>17.0</td>\n",
       "    </tr>\n",
       "    <tr>\n",
       "      <th>1</th>\n",
       "      <td>41</td>\n",
       "      <td>13</td>\n",
       "      <td>13</td>\n",
       "      <td>0</td>\n",
       "      <td>7</td>\n",
       "      <td>1</td>\n",
       "      <td>1</td>\n",
       "      <td>1</td>\n",
       "      <td>1553795807</td>\n",
       "      <td>1</td>\n",
       "      <td>1</td>\n",
       "      <td>1553795700</td>\n",
       "      <td>23</td>\n",
       "      <td>41 - PL. POETA BOSCÀ/ATLÀNTIDA</td>\n",
       "      <td>1.0</td>\n",
       "      <td>41.379326</td>\n",
       "      <td>2.189906</td>\n",
       "      <td>0</td>\n",
       "      <td>41 - PL. POETA BOSCÀ/ATLÀNTIDA</td>\n",
       "      <td>08908</td>\n",
       "      <td>21.0</td>\n",
       "      <td>17.0</td>\n",
       "    </tr>\n",
       "    <tr>\n",
       "      <th>2</th>\n",
       "      <td>327</td>\n",
       "      <td>0</td>\n",
       "      <td>0</td>\n",
       "      <td>0</td>\n",
       "      <td>24</td>\n",
       "      <td>1</td>\n",
       "      <td>1</td>\n",
       "      <td>1</td>\n",
       "      <td>1553795900</td>\n",
       "      <td>1</td>\n",
       "      <td>1</td>\n",
       "      <td>1553795700</td>\n",
       "      <td>23</td>\n",
       "      <td>327 - C/ REUS, 23</td>\n",
       "      <td>1.0</td>\n",
       "      <td>41.405000</td>\n",
       "      <td>2.134530</td>\n",
       "      <td>0</td>\n",
       "      <td>327 - C/ REUS, 23</td>\n",
       "      <td>08908</td>\n",
       "      <td>24.0</td>\n",
       "      <td>17.0</td>\n",
       "    </tr>\n",
       "    <tr>\n",
       "      <th>3</th>\n",
       "      <td>326</td>\n",
       "      <td>0</td>\n",
       "      <td>0</td>\n",
       "      <td>0</td>\n",
       "      <td>32</td>\n",
       "      <td>1</td>\n",
       "      <td>1</td>\n",
       "      <td>1</td>\n",
       "      <td>1553795890</td>\n",
       "      <td>1</td>\n",
       "      <td>1</td>\n",
       "      <td>1553795700</td>\n",
       "      <td>23</td>\n",
       "      <td>326 - C/BALMES, 409</td>\n",
       "      <td>1.0</td>\n",
       "      <td>41.407384</td>\n",
       "      <td>2.138300</td>\n",
       "      <td>0</td>\n",
       "      <td>326 - C/BALMES, 409</td>\n",
       "      <td>08908</td>\n",
       "      <td>32.0</td>\n",
       "      <td>17.0</td>\n",
       "    </tr>\n",
       "    <tr>\n",
       "      <th>4</th>\n",
       "      <td>42</td>\n",
       "      <td>8</td>\n",
       "      <td>8</td>\n",
       "      <td>0</td>\n",
       "      <td>14</td>\n",
       "      <td>1</td>\n",
       "      <td>1</td>\n",
       "      <td>1</td>\n",
       "      <td>1553795718</td>\n",
       "      <td>1</td>\n",
       "      <td>1</td>\n",
       "      <td>1553795700</td>\n",
       "      <td>23</td>\n",
       "      <td>42 - C/ CIUTAT DE GRANADA 168 / AV. DIAGONAL</td>\n",
       "      <td>1.0</td>\n",
       "      <td>41.404511</td>\n",
       "      <td>2.189881</td>\n",
       "      <td>0</td>\n",
       "      <td>42 - C/ CIUTAT DE GRANADA 168 / AV. DIAGONAL</td>\n",
       "      <td>08908</td>\n",
       "      <td>23.0</td>\n",
       "      <td>17.0</td>\n",
       "    </tr>\n",
       "  </tbody>\n",
       "</table>\n",
       "</div>"
      ],
      "text/plain": [
       "   station_id  num_bikes_available  num_bikes_available_types.mechanical  \\\n",
       "0           1                   16                                    16   \n",
       "1          41                   13                                    13   \n",
       "2         327                    0                                     0   \n",
       "3         326                    0                                     0   \n",
       "4          42                    8                                     8   \n",
       "\n",
       "   num_bikes_available_types.ebike  num_docks_available  is_installed  \\\n",
       "0                                0                   14             1   \n",
       "1                                0                    7             1   \n",
       "2                                0                   24             1   \n",
       "3                                0                   32             1   \n",
       "4                                0                   14             1   \n",
       "\n",
       "   is_renting  is_returning  last_reported  is_charging_station  status  \\\n",
       "0           1             1     1553795670                    1       1   \n",
       "1           1             1     1553795807                    1       1   \n",
       "2           1             1     1553795900                    1       1   \n",
       "3           1             1     1553795890                    1       1   \n",
       "4           1             1     1553795718                    1       1   \n",
       "\n",
       "   last_updated  ttl_stat                                          name  \\\n",
       "0    1553795700        23          01 - C/ GRAN VIA CORTS CATALANES 760   \n",
       "1    1553795700        23                41 - PL. POETA BOSCÀ/ATLÀNTIDA   \n",
       "2    1553795700        23                             327 - C/ REUS, 23   \n",
       "3    1553795700        23                           326 - C/BALMES, 409   \n",
       "4    1553795700        23  42 - C/ CIUTAT DE GRANADA 168 / AV. DIAGONAL   \n",
       "\n",
       "   physical_configuration        lat       lon altitude  \\\n",
       "0                     1.0  41.397952  2.180042        0   \n",
       "1                     1.0  41.379326  2.189906        0   \n",
       "2                     1.0  41.405000  2.134530        0   \n",
       "3                     1.0  41.407384  2.138300        0   \n",
       "4                     1.0  41.404511  2.189881        0   \n",
       "\n",
       "                                        address post_code  capacity  ttl_us  \n",
       "0          01 - C/ GRAN VIA CORTS CATALANES 760     08908      30.0    17.0  \n",
       "1                41 - PL. POETA BOSCÀ/ATLÀNTIDA     08908      21.0    17.0  \n",
       "2                             327 - C/ REUS, 23     08908      24.0    17.0  \n",
       "3                           326 - C/BALMES, 409     08908      32.0    17.0  \n",
       "4  42 - C/ CIUTAT DE GRANADA 168 / AV. DIAGONAL     08908      23.0    17.0  "
      ]
     },
     "execution_count": 72,
     "metadata": {},
     "output_type": "execute_result"
    }
   ],
   "source": [
    "merged_data.head(5)"
   ]
  },
  {
   "cell_type": "code",
   "execution_count": 73,
   "id": "861b7aba",
   "metadata": {
    "scrolled": true
   },
   "outputs": [
    {
     "data": {
      "text/plain": [
       "{'name': 0.645492095143142,\n",
       " 'physical_configuration': 0.645492095143142,\n",
       " 'lat': 0.645492095143142,\n",
       " 'lon': 0.645492095143142,\n",
       " 'altitude': 0.645492095143142,\n",
       " 'address': 0.645492095143142,\n",
       " 'post_code': 0.645492095143142,\n",
       " 'capacity': 0.645492095143142,\n",
       " 'ttl_us': 0.645492095143142}"
      ]
     },
     "execution_count": 73,
     "metadata": {},
     "output_type": "execute_result"
    }
   ],
   "source": [
    "get_features_nans(merged_data)"
   ]
  },
  {
   "cell_type": "code",
   "execution_count": 74,
   "id": "169ec951",
   "metadata": {
    "scrolled": true
   },
   "outputs": [
    {
     "data": {
      "text/plain": [
       "{'num_bikes_available': 20.462612163509473,\n",
       " 'num_bikes_available_types.mechanical': 20.462612163509473,\n",
       " 'num_bikes_available_types.ebike': 100.0,\n",
       " 'num_docks_available': 13.164221620851729,\n",
       " 'capacity': 0.3592080900156673}"
      ]
     },
     "execution_count": 74,
     "metadata": {},
     "output_type": "execute_result"
    }
   ],
   "source": [
    "get_features_zero(merged_data)"
   ]
  },
  {
   "cell_type": "code",
   "execution_count": 75,
   "id": "34d0134c",
   "metadata": {
    "scrolled": false
   },
   "outputs": [
    {
     "data": {
      "text/plain": [
       "{'station_id': 399,\n",
       " 'num_bikes_available': 55,\n",
       " 'num_bikes_available_types.mechanical': 55,\n",
       " 'num_bikes_available_types.ebike': 1,\n",
       " 'num_docks_available': 55,\n",
       " 'is_installed': 1,\n",
       " 'is_renting': 1,\n",
       " 'is_returning': 1,\n",
       " 'last_reported': 180636,\n",
       " 'is_charging_station': 1,\n",
       " 'status': 1,\n",
       " 'last_updated': 897,\n",
       " 'ttl_stat': 30,\n",
       " 'name': 400,\n",
       " 'physical_configuration': 2267,\n",
       " 'lat': 2665,\n",
       " 'lon': 2665,\n",
       " 'altitude': 2,\n",
       " 'address': 400,\n",
       " 'post_code': 2,\n",
       " 'capacity': 2299,\n",
       " 'ttl_us': 2296}"
      ]
     },
     "execution_count": 75,
     "metadata": {},
     "output_type": "execute_result"
    }
   ],
   "source": [
    "get_columns(merged_data)"
   ]
  },
  {
   "cell_type": "code",
   "execution_count": 76,
   "id": "f281348a",
   "metadata": {},
   "outputs": [
    {
     "data": {
      "text/plain": [
       "(351050, 22)"
      ]
     },
     "execution_count": 76,
     "metadata": {},
     "output_type": "execute_result"
    }
   ],
   "source": [
    "merged_data.shape"
   ]
  },
  {
   "cell_type": "markdown",
   "id": "93de3ab7",
   "metadata": {},
   "source": [
    "## last_updated"
   ]
  },
  {
   "cell_type": "code",
   "execution_count": 77,
   "id": "fc2a6eda",
   "metadata": {},
   "outputs": [
    {
     "name": "stdout",
     "output_type": "stream",
     "text": [
      "DescribeResult(nobs=351050, minmax=(1553795700, 1554069000), mean=1553933859.5362484, variance=6270756704.393124, skewness=-0.04384157545927313, kurtosis=-1.198775141031875)\n"
     ]
    },
    {
     "data": {
      "text/plain": [
       "count    3.510500e+05\n",
       "mean     1.553934e+09\n",
       "std      7.918811e+04\n",
       "min      1.553796e+09\n",
       "25%      1.553862e+09\n",
       "50%      1.553936e+09\n",
       "75%      1.554002e+09\n",
       "max      1.554069e+09\n",
       "Name: last_updated, dtype: float64"
      ]
     },
     "execution_count": 77,
     "metadata": {},
     "output_type": "execute_result"
    }
   ],
   "source": [
    "print(stats.describe(merged_data.last_updated))\n",
    "merged_data.last_updated.describe()"
   ]
  },
  {
   "cell_type": "code",
   "execution_count": 78,
   "id": "eff6d484",
   "metadata": {},
   "outputs": [
    {
     "data": {
      "image/png": "[encoded data removed]",
      "text/plain": [
       "<Figure size 1440x720 with 6 Axes>"
      ]
     },
     "metadata": {
      "needs_background": "light"
     },
     "output_type": "display_data"
    }
   ],
   "source": [
    "show_column_counts(merged_data, 'last_updated')"
   ]
  },
  {
   "cell_type": "markdown",
   "id": "3867e19e",
   "metadata": {},
   "source": [
    "# Old data 2019 Gener, Febrer, Marc "
   ]
  },
  {
   "cell_type": "code",
   "execution_count": 79,
   "id": "9dda155d",
   "metadata": {},
   "outputs": [
    {
     "name": "stderr",
     "output_type": "stream",
     "text": [
      "/home/user/miniconda3/envs/tensorflow/lib/python3.6/site-packages/IPython/core/interactiveshell.py:3072: DtypeWarning: Columns (9) have mixed types.Specify dtype option on import or set low_memory=False.\n",
      "  interactivity=interactivity, compiler=compiler, result=result)\n"
     ]
    },
    {
     "name": "stdout",
     "output_type": "stream",
     "text": [
      "(3954821, 12)\n",
      "(3954821, 22)\n"
     ]
    }
   ],
   "source": [
    "dades_2019_Marc_info_old = pd.read_csv('dades/2019/BICING_ESTACIONS/2019_03_Marc_BICING_ESTACIONS.csv')\n",
    "\n",
    "print(dades_2019_Marc_info_old.shape)\n",
    "\n",
    "dades_2019_Marc_info_old.rename(\n",
    "    columns={\n",
    "        'id': 'station_id',\n",
    "        'latitude':'lat',\n",
    "        'longitude':'lon',\n",
    "        'type':'physical_configuration',\n",
    "        'updateTime':'last_updated',\n",
    "        'bikes':'num_bikes_available',\n",
    "        'slots':'num_docks_available',\n",
    "    }, \n",
    "    inplace=True\n",
    ")\n",
    "\n",
    "# STATUS = IN_SERVICE=En servei, CLOSED=Tancada\n",
    "# replace IN_SERVICE with 1 and CLOSED with 0\n",
    "dades_2019_Marc_info_old['status'].replace(to_replace=['CLS', 'OPN'], value=[0, 1], inplace=True)\n",
    "\n",
    "dades_2019_Marc_info_old['physical_configuration'].replace(to_replace=['BIKE', 'BIKE-ELECTRIC'], value=[0, 1], inplace=True)\n",
    "\n",
    "dades_2019_Marc_info_old['is_installed'] = 1\n",
    "dades_2019_Marc_info_old['is_renting'] = 1\n",
    "dades_2019_Marc_info_old['is_returning'] = 1\n",
    "dades_2019_Marc_info_old['is_charging_station'] = 1\n",
    "dades_2019_Marc_info_old['num_bikes_available_types.mechanical'] = dades_2019_Marc_info_old['num_bikes_available']\n",
    "dades_2019_Marc_info_old['num_bikes_available_types.ebike'] = 0\n",
    "dades_2019_Marc_info_old['name'] = ''\n",
    "dades_2019_Marc_info_old['post_code'] = ''\n",
    "dades_2019_Marc_info_old['capacity'] = 0\n",
    "\n",
    "# we don't have this column anywhere in the new dataset so it got removed\n",
    "dades_2019_Marc_info_old.drop('nearbyStations', axis=1, inplace=True)\n",
    "\n",
    "dades_2019_Marc_info_old = convert_timestamp(dades_2019_Marc_info_old.copy(), ['last_updated'], sort=True, add=True, pattern='%d/%m/%y %H:%M:%S')\n",
    "\n",
    "# convert timestamps to multimple of 3\n",
    "dades_2019_Marc_info_old = timestamp_multipleof(\n",
    "    devide_by=config.devide_by, \n",
    "    column='minutes_last_updated_date',\n",
    "    df=dades_2019_Marc_info_old.copy(), \n",
    "    new_column='last_updated', \n",
    "    year_column='year_last_updated_date',\n",
    "    month_column='month_last_updated_date',\n",
    "    day_column='dayofmonth_last_updated_date',\n",
    "    hour_column='hour_last_updated_date',\n",
    "    minutes_column='minutes_last_updated_date'\n",
    ")    \n",
    "\n",
    "# drop not needed columns\n",
    "dades_2019_Marc_info_old.drop(\n",
    "    [\n",
    "        'year_last_updated_date', 'month_last_updated_date',\n",
    "        'week_last_updated_date', 'dayofweek_last_updated_date',\n",
    "        'dayofmonth_last_updated_date', 'dayofyear_last_updated_date',\n",
    "        'hour_last_updated_date', 'minutes_last_updated_date'\n",
    "    ], \n",
    "    axis=1, \n",
    "    inplace=True\n",
    ")\n",
    "\n",
    "print(dades_2019_Marc_info_old.shape)\n"
   ]
  },
  {
   "cell_type": "code",
   "execution_count": 83,
   "id": "70454f19",
   "metadata": {
    "scrolled": true
   },
   "outputs": [
    {
     "data": {
      "text/plain": [
       "station_id                                     496\n",
       "last_updated                            1554076200\n",
       "physical_configuration                           1\n",
       "lat                                              1\n",
       "lon                                              1\n",
       "streetName                                       1\n",
       "streetNumber                                     1\n",
       "altitude                                         1\n",
       "num_docks_available                              1\n",
       "num_bikes_available                              1\n",
       "nearbyStations                                   1\n",
       "status                                           1\n",
       "is_installed                                     1\n",
       "is_renting                                       1\n",
       "is_returning                                     1\n",
       "is_charging_station                              1\n",
       "num_bikes_available_types.mechanical             1\n",
       "num_bikes_available_types.ebike                  1\n",
       "name                                             1\n",
       "address                                          1\n",
       "post_code                                        1\n",
       "capacity                                         1\n",
       "dtype: int64"
      ]
     },
     "execution_count": 83,
     "metadata": {},
     "output_type": "execute_result"
    }
   ],
   "source": [
    "# check if conversion was done correctly\n",
    "df = dades_2019_Marc_info_old.groupby(\n",
    "    [\n",
    "        'station_id',\n",
    "        'last_updated'\n",
    "    ]\n",
    ").count().reset_index()\n",
    "\n",
    "df.max()"
   ]
  },
  {
   "cell_type": "markdown",
   "id": "128320c0",
   "metadata": {},
   "source": [
    "## station_id"
   ]
  },
  {
   "cell_type": "code",
   "execution_count": 80,
   "id": "c283744e",
   "metadata": {},
   "outputs": [
    {
     "name": "stdout",
     "output_type": "stream",
     "text": [
      "DescribeResult(nobs=3954821, minmax=(1, 496), mean=237.37146308265278, variance=19244.333279069368, skewness=0.08867316123444308, kurtosis=-1.0910925338677862)\n"
     ]
    },
    {
     "data": {
      "text/plain": [
       "count    3.954821e+06\n",
       "mean     2.373715e+02\n",
       "std      1.387239e+02\n",
       "min      1.000000e+00\n",
       "25%      1.180000e+02\n",
       "50%      2.350000e+02\n",
       "75%      3.500000e+02\n",
       "max      4.960000e+02\n",
       "Name: station_id, dtype: float64"
      ]
     },
     "execution_count": 80,
     "metadata": {},
     "output_type": "execute_result"
    }
   ],
   "source": [
    "print(stats.describe(dades_2019_Marc_info_old.station_id))\n",
    "dades_2019_Marc_info_old.station_id.describe()"
   ]
  },
  {
   "cell_type": "code",
   "execution_count": 81,
   "id": "6b89f588",
   "metadata": {},
   "outputs": [
    {
     "data": {
      "image/png": "[encoded data removed]",
      "text/plain": [
       "<Figure size 1440x720 with 6 Axes>"
      ]
     },
     "metadata": {
      "needs_background": "light"
     },
     "output_type": "display_data"
    }
   ],
   "source": [
    "show_column_counts(dades_2019_Marc_info_old, 'station_id')"
   ]
  },
  {
   "cell_type": "markdown",
   "id": "bfd84026",
   "metadata": {},
   "source": [
    "## last_updated"
   ]
  },
  {
   "cell_type": "code",
   "execution_count": 85,
   "id": "c0cad57e",
   "metadata": {},
   "outputs": [
    {
     "name": "stdout",
     "output_type": "stream",
     "text": [
      "DescribeResult(nobs=3954821, minmax=(1551398100, 1554076200), mean=1552735069.0644405, variance=607513024831.6741, skewness=-0.028066515368717317, kurtosis=-1.2392757207070098)\n"
     ]
    },
    {
     "data": {
      "text/plain": [
       "count    3.954821e+06\n",
       "mean     1.552735e+09\n",
       "std      7.794312e+05\n",
       "min      1.551398e+09\n",
       "25%      1.552039e+09\n",
       "50%      1.552769e+09\n",
       "75%      1.553411e+09\n",
       "max      1.554076e+09\n",
       "Name: last_updated, dtype: float64"
      ]
     },
     "execution_count": 85,
     "metadata": {},
     "output_type": "execute_result"
    }
   ],
   "source": [
    "print(stats.describe(dades_2019_Marc_info_old.last_updated))\n",
    "dades_2019_Marc_info_old.last_updated.describe()"
   ]
  },
  {
   "cell_type": "code",
   "execution_count": 86,
   "id": "6ab5aed6",
   "metadata": {},
   "outputs": [
    {
     "data": {
      "image/png": "[encoded data removed]",
      "text/plain": [
       "<Figure size 1440x720 with 6 Axes>"
      ]
     },
     "metadata": {
      "needs_background": "light"
     },
     "output_type": "display_data"
    }
   ],
   "source": [
    "show_column_counts(dades_2019_Marc_info_old, 'last_updated')"
   ]
  },
  {
   "cell_type": "code",
   "execution_count": 89,
   "id": "de0a41f2",
   "metadata": {},
   "outputs": [
    {
     "data": {
      "text/html": [
       "<div>\n",
       "<style scoped>\n",
       "    .dataframe tbody tr th:only-of-type {\n",
       "        vertical-align: middle;\n",
       "    }\n",
       "\n",
       "    .dataframe tbody tr th {\n",
       "        vertical-align: top;\n",
       "    }\n",
       "\n",
       "    .dataframe thead th {\n",
       "        text-align: right;\n",
       "    }\n",
       "</style>\n",
       "<table border=\"1\" class=\"dataframe\">\n",
       "  <thead>\n",
       "    <tr style=\"text-align: right;\">\n",
       "      <th></th>\n",
       "      <th>station_id</th>\n",
       "      <th>physical_configuration</th>\n",
       "      <th>lat</th>\n",
       "      <th>lon</th>\n",
       "      <th>streetName</th>\n",
       "      <th>streetNumber</th>\n",
       "      <th>altitude</th>\n",
       "      <th>num_docks_available</th>\n",
       "      <th>num_bikes_available</th>\n",
       "      <th>nearbyStations</th>\n",
       "      <th>status</th>\n",
       "      <th>last_updated</th>\n",
       "      <th>is_installed</th>\n",
       "      <th>is_renting</th>\n",
       "      <th>is_returning</th>\n",
       "      <th>is_charging_station</th>\n",
       "      <th>num_bikes_available_types.mechanical</th>\n",
       "      <th>num_bikes_available_types.ebike</th>\n",
       "      <th>name</th>\n",
       "      <th>address</th>\n",
       "      <th>post_code</th>\n",
       "      <th>capacity</th>\n",
       "    </tr>\n",
       "  </thead>\n",
       "  <tbody>\n",
       "    <tr>\n",
       "      <th>0</th>\n",
       "      <td>234</td>\n",
       "      <td>0</td>\n",
       "      <td>41.371515</td>\n",
       "      <td>2.162166</td>\n",
       "      <td>Passeig de l'Exposició</td>\n",
       "      <td>30</td>\n",
       "      <td>44</td>\n",
       "      <td>14</td>\n",
       "      <td>9</td>\n",
       "      <td>85, 236</td>\n",
       "      <td>1</td>\n",
       "      <td>1551398400</td>\n",
       "      <td>1</td>\n",
       "      <td>1</td>\n",
       "      <td>1</td>\n",
       "      <td>1</td>\n",
       "      <td>9</td>\n",
       "      <td>0</td>\n",
       "      <td></td>\n",
       "      <td></td>\n",
       "      <td></td>\n",
       "      <td>0</td>\n",
       "    </tr>\n",
       "    <tr>\n",
       "      <th>1</th>\n",
       "      <td>149</td>\n",
       "      <td>0</td>\n",
       "      <td>41.395905</td>\n",
       "      <td>2.192958</td>\n",
       "      <td>Pujades</td>\n",
       "      <td>57B</td>\n",
       "      <td>11</td>\n",
       "      <td>26</td>\n",
       "      <td>0</td>\n",
       "      <td>149</td>\n",
       "      <td>0</td>\n",
       "      <td>1551398400</td>\n",
       "      <td>1</td>\n",
       "      <td>1</td>\n",
       "      <td>1</td>\n",
       "      <td>1</td>\n",
       "      <td>0</td>\n",
       "      <td>0</td>\n",
       "      <td></td>\n",
       "      <td></td>\n",
       "      <td></td>\n",
       "      <td>0</td>\n",
       "    </tr>\n",
       "    <tr>\n",
       "      <th>2</th>\n",
       "      <td>150</td>\n",
       "      <td>0</td>\n",
       "      <td>41.406549</td>\n",
       "      <td>2.203112</td>\n",
       "      <td>Espronceda</td>\n",
       "      <td>124</td>\n",
       "      <td>10</td>\n",
       "      <td>26</td>\n",
       "      <td>1</td>\n",
       "      <td>150</td>\n",
       "      <td>0</td>\n",
       "      <td>1551398400</td>\n",
       "      <td>1</td>\n",
       "      <td>1</td>\n",
       "      <td>1</td>\n",
       "      <td>1</td>\n",
       "      <td>1</td>\n",
       "      <td>0</td>\n",
       "      <td></td>\n",
       "      <td></td>\n",
       "      <td></td>\n",
       "      <td>0</td>\n",
       "    </tr>\n",
       "    <tr>\n",
       "      <th>3</th>\n",
       "      <td>151</td>\n",
       "      <td>0</td>\n",
       "      <td>41.400650</td>\n",
       "      <td>2.197190</td>\n",
       "      <td>Pallars</td>\n",
       "      <td>462</td>\n",
       "      <td>6</td>\n",
       "      <td>24</td>\n",
       "      <td>0</td>\n",
       "      <td>151</td>\n",
       "      <td>0</td>\n",
       "      <td>1551398400</td>\n",
       "      <td>1</td>\n",
       "      <td>1</td>\n",
       "      <td>1</td>\n",
       "      <td>1</td>\n",
       "      <td>0</td>\n",
       "      <td>0</td>\n",
       "      <td></td>\n",
       "      <td></td>\n",
       "      <td></td>\n",
       "      <td>0</td>\n",
       "    </tr>\n",
       "    <tr>\n",
       "      <th>4</th>\n",
       "      <td>152</td>\n",
       "      <td>0</td>\n",
       "      <td>41.399250</td>\n",
       "      <td>2.197421</td>\n",
       "      <td>Pujades</td>\n",
       "      <td>121</td>\n",
       "      <td>11</td>\n",
       "      <td>27</td>\n",
       "      <td>0</td>\n",
       "      <td>152</td>\n",
       "      <td>0</td>\n",
       "      <td>1551398400</td>\n",
       "      <td>1</td>\n",
       "      <td>1</td>\n",
       "      <td>1</td>\n",
       "      <td>1</td>\n",
       "      <td>0</td>\n",
       "      <td>0</td>\n",
       "      <td></td>\n",
       "      <td></td>\n",
       "      <td></td>\n",
       "      <td>0</td>\n",
       "    </tr>\n",
       "    <tr>\n",
       "      <th>...</th>\n",
       "      <td>...</td>\n",
       "      <td>...</td>\n",
       "      <td>...</td>\n",
       "      <td>...</td>\n",
       "      <td>...</td>\n",
       "      <td>...</td>\n",
       "      <td>...</td>\n",
       "      <td>...</td>\n",
       "      <td>...</td>\n",
       "      <td>...</td>\n",
       "      <td>...</td>\n",
       "      <td>...</td>\n",
       "      <td>...</td>\n",
       "      <td>...</td>\n",
       "      <td>...</td>\n",
       "      <td>...</td>\n",
       "      <td>...</td>\n",
       "      <td>...</td>\n",
       "      <td>...</td>\n",
       "      <td>...</td>\n",
       "      <td>...</td>\n",
       "      <td>...</td>\n",
       "    </tr>\n",
       "    <tr>\n",
       "      <th>3954816</th>\n",
       "      <td>136</td>\n",
       "      <td>0</td>\n",
       "      <td>41.414226</td>\n",
       "      <td>2.201734</td>\n",
       "      <td>Gran Vía</td>\n",
       "      <td>1062</td>\n",
       "      <td>9</td>\n",
       "      <td>4</td>\n",
       "      <td>22</td>\n",
       "      <td>136</td>\n",
       "      <td>0</td>\n",
       "      <td>1554076200</td>\n",
       "      <td>1</td>\n",
       "      <td>1</td>\n",
       "      <td>1</td>\n",
       "      <td>1</td>\n",
       "      <td>22</td>\n",
       "      <td>0</td>\n",
       "      <td></td>\n",
       "      <td></td>\n",
       "      <td></td>\n",
       "      <td>0</td>\n",
       "    </tr>\n",
       "    <tr>\n",
       "      <th>3954817</th>\n",
       "      <td>135</td>\n",
       "      <td>0</td>\n",
       "      <td>41.411908</td>\n",
       "      <td>2.197936</td>\n",
       "      <td>Gran Vía</td>\n",
       "      <td>981</td>\n",
       "      <td>13</td>\n",
       "      <td>21</td>\n",
       "      <td>0</td>\n",
       "      <td>135</td>\n",
       "      <td>0</td>\n",
       "      <td>1554076200</td>\n",
       "      <td>1</td>\n",
       "      <td>1</td>\n",
       "      <td>1</td>\n",
       "      <td>1</td>\n",
       "      <td>0</td>\n",
       "      <td>0</td>\n",
       "      <td></td>\n",
       "      <td></td>\n",
       "      <td></td>\n",
       "      <td>0</td>\n",
       "    </tr>\n",
       "    <tr>\n",
       "      <th>3954818</th>\n",
       "      <td>134</td>\n",
       "      <td>0</td>\n",
       "      <td>41.411433</td>\n",
       "      <td>2.198735</td>\n",
       "      <td>Bac de Roda</td>\n",
       "      <td>157</td>\n",
       "      <td>10</td>\n",
       "      <td>20</td>\n",
       "      <td>0</td>\n",
       "      <td>134</td>\n",
       "      <td>0</td>\n",
       "      <td>1554076200</td>\n",
       "      <td>1</td>\n",
       "      <td>1</td>\n",
       "      <td>1</td>\n",
       "      <td>1</td>\n",
       "      <td>0</td>\n",
       "      <td>0</td>\n",
       "      <td></td>\n",
       "      <td></td>\n",
       "      <td></td>\n",
       "      <td>0</td>\n",
       "    </tr>\n",
       "    <tr>\n",
       "      <th>3954819</th>\n",
       "      <td>105</td>\n",
       "      <td>0</td>\n",
       "      <td>41.389197</td>\n",
       "      <td>2.173555</td>\n",
       "      <td>PL. Urquinaona</td>\n",
       "      <td>9</td>\n",
       "      <td>32</td>\n",
       "      <td>18</td>\n",
       "      <td>0</td>\n",
       "      <td>105</td>\n",
       "      <td>0</td>\n",
       "      <td>1554076200</td>\n",
       "      <td>1</td>\n",
       "      <td>1</td>\n",
       "      <td>1</td>\n",
       "      <td>1</td>\n",
       "      <td>0</td>\n",
       "      <td>0</td>\n",
       "      <td></td>\n",
       "      <td></td>\n",
       "      <td></td>\n",
       "      <td>0</td>\n",
       "    </tr>\n",
       "    <tr>\n",
       "      <th>3954820</th>\n",
       "      <td>428</td>\n",
       "      <td>0</td>\n",
       "      <td>41.398389</td>\n",
       "      <td>2.196261</td>\n",
       "      <td>Carrer Pujades</td>\n",
       "      <td>103</td>\n",
       "      <td>11</td>\n",
       "      <td>27</td>\n",
       "      <td>0</td>\n",
       "      <td>428</td>\n",
       "      <td>0</td>\n",
       "      <td>1554076200</td>\n",
       "      <td>1</td>\n",
       "      <td>1</td>\n",
       "      <td>1</td>\n",
       "      <td>1</td>\n",
       "      <td>0</td>\n",
       "      <td>0</td>\n",
       "      <td></td>\n",
       "      <td></td>\n",
       "      <td></td>\n",
       "      <td>0</td>\n",
       "    </tr>\n",
       "  </tbody>\n",
       "</table>\n",
       "<p>3954821 rows × 22 columns</p>\n",
       "</div>"
      ],
      "text/plain": [
       "         station_id  physical_configuration        lat       lon  \\\n",
       "0               234                       0  41.371515  2.162166   \n",
       "1               149                       0  41.395905  2.192958   \n",
       "2               150                       0  41.406549  2.203112   \n",
       "3               151                       0  41.400650  2.197190   \n",
       "4               152                       0  41.399250  2.197421   \n",
       "...             ...                     ...        ...       ...   \n",
       "3954816         136                       0  41.414226  2.201734   \n",
       "3954817         135                       0  41.411908  2.197936   \n",
       "3954818         134                       0  41.411433  2.198735   \n",
       "3954819         105                       0  41.389197  2.173555   \n",
       "3954820         428                       0  41.398389  2.196261   \n",
       "\n",
       "                     streetName streetNumber  altitude  num_docks_available  \\\n",
       "0        Passeig de l'Exposició           30        44                   14   \n",
       "1                       Pujades          57B        11                   26   \n",
       "2                    Espronceda          124        10                   26   \n",
       "3                       Pallars          462         6                   24   \n",
       "4                       Pujades          121        11                   27   \n",
       "...                         ...          ...       ...                  ...   \n",
       "3954816                Gran Vía         1062         9                    4   \n",
       "3954817                Gran Vía          981        13                   21   \n",
       "3954818             Bac de Roda          157        10                   20   \n",
       "3954819          PL. Urquinaona            9        32                   18   \n",
       "3954820          Carrer Pujades          103        11                   27   \n",
       "\n",
       "         num_bikes_available nearbyStations  status  last_updated  \\\n",
       "0                          9        85, 236       1    1551398400   \n",
       "1                          0            149       0    1551398400   \n",
       "2                          1            150       0    1551398400   \n",
       "3                          0            151       0    1551398400   \n",
       "4                          0            152       0    1551398400   \n",
       "...                      ...            ...     ...           ...   \n",
       "3954816                   22            136       0    1554076200   \n",
       "3954817                    0            135       0    1554076200   \n",
       "3954818                    0            134       0    1554076200   \n",
       "3954819                    0            105       0    1554076200   \n",
       "3954820                    0            428       0    1554076200   \n",
       "\n",
       "         is_installed  is_renting  is_returning  is_charging_station  \\\n",
       "0                   1           1             1                    1   \n",
       "1                   1           1             1                    1   \n",
       "2                   1           1             1                    1   \n",
       "3                   1           1             1                    1   \n",
       "4                   1           1             1                    1   \n",
       "...               ...         ...           ...                  ...   \n",
       "3954816             1           1             1                    1   \n",
       "3954817             1           1             1                    1   \n",
       "3954818             1           1             1                    1   \n",
       "3954819             1           1             1                    1   \n",
       "3954820             1           1             1                    1   \n",
       "\n",
       "         num_bikes_available_types.mechanical  \\\n",
       "0                                           9   \n",
       "1                                           0   \n",
       "2                                           1   \n",
       "3                                           0   \n",
       "4                                           0   \n",
       "...                                       ...   \n",
       "3954816                                    22   \n",
       "3954817                                     0   \n",
       "3954818                                     0   \n",
       "3954819                                     0   \n",
       "3954820                                     0   \n",
       "\n",
       "         num_bikes_available_types.ebike name address post_code  capacity  \n",
       "0                                      0                                0  \n",
       "1                                      0                                0  \n",
       "2                                      0                                0  \n",
       "3                                      0                                0  \n",
       "4                                      0                                0  \n",
       "...                                  ...  ...     ...       ...       ...  \n",
       "3954816                                0                                0  \n",
       "3954817                                0                                0  \n",
       "3954818                                0                                0  \n",
       "3954819                                0                                0  \n",
       "3954820                                0                                0  \n",
       "\n",
       "[3954821 rows x 22 columns]"
      ]
     },
     "execution_count": 89,
     "metadata": {},
     "output_type": "execute_result"
    }
   ],
   "source": [
    "dades_2019_Marc_info_old"
   ]
  },
  {
   "cell_type": "markdown",
   "id": "6fd327ec",
   "metadata": {},
   "source": [
    "# Merge data Marc old with new"
   ]
  },
  {
   "cell_type": "code",
   "execution_count": 87,
   "id": "7cb3de4f",
   "metadata": {},
   "outputs": [
    {
     "data": {
      "text/plain": [
       "Index(['station_id', 'physical_configuration', 'lat', 'lon', 'streetName',\n",
       "       'streetNumber', 'altitude', 'num_docks_available',\n",
       "       'num_bikes_available', 'nearbyStations', 'status', 'last_updated',\n",
       "       'is_installed', 'is_renting', 'is_returning', 'is_charging_station',\n",
       "       'num_bikes_available_types.mechanical',\n",
       "       'num_bikes_available_types.ebike', 'name', 'address', 'post_code',\n",
       "       'capacity'],\n",
       "      dtype='object')"
      ]
     },
     "execution_count": 87,
     "metadata": {},
     "output_type": "execute_result"
    }
   ],
   "source": [
    "dades_2019_Marc_info_old.columns"
   ]
  },
  {
   "cell_type": "code",
   "execution_count": 88,
   "id": "15818d9b",
   "metadata": {},
   "outputs": [
    {
     "data": {
      "text/plain": [
       "Index(['station_id', 'num_bikes_available',\n",
       "       'num_bikes_available_types.mechanical',\n",
       "       'num_bikes_available_types.ebike', 'num_docks_available',\n",
       "       'is_installed', 'is_renting', 'is_returning', 'last_reported',\n",
       "       'is_charging_station', 'status', 'last_updated', 'ttl_stat', 'name',\n",
       "       'physical_configuration', 'lat', 'lon', 'altitude', 'address',\n",
       "       'post_code', 'capacity', 'ttl_us'],\n",
       "      dtype='object')"
      ]
     },
     "execution_count": 88,
     "metadata": {},
     "output_type": "execute_result"
    }
   ],
   "source": [
    "merged_data.columns"
   ]
  },
  {
   "cell_type": "code",
   "execution_count": 90,
   "id": "c1db5a63",
   "metadata": {},
   "outputs": [
    {
     "name": "stdout",
     "output_type": "stream",
     "text": [
      "CPU times: user 277 ms, sys: 210 ms, total: 488 ms\n",
      "Wall time: 486 ms\n"
     ]
    }
   ],
   "source": [
    "%%time\n",
    "\n",
    "dades_2019_Marc_tot = pd.concat([merged_data,dades_2019_Marc_info_old])"
   ]
  },
  {
   "cell_type": "code",
   "execution_count": 91,
   "id": "0f0ab6e8",
   "metadata": {},
   "outputs": [
    {
     "data": {
      "text/html": [
       "<div>\n",
       "<style scoped>\n",
       "    .dataframe tbody tr th:only-of-type {\n",
       "        vertical-align: middle;\n",
       "    }\n",
       "\n",
       "    .dataframe tbody tr th {\n",
       "        vertical-align: top;\n",
       "    }\n",
       "\n",
       "    .dataframe thead th {\n",
       "        text-align: right;\n",
       "    }\n",
       "</style>\n",
       "<table border=\"1\" class=\"dataframe\">\n",
       "  <thead>\n",
       "    <tr style=\"text-align: right;\">\n",
       "      <th></th>\n",
       "      <th>station_id</th>\n",
       "      <th>num_bikes_available</th>\n",
       "      <th>num_bikes_available_types.mechanical</th>\n",
       "      <th>num_bikes_available_types.ebike</th>\n",
       "      <th>num_docks_available</th>\n",
       "      <th>is_installed</th>\n",
       "      <th>is_renting</th>\n",
       "      <th>is_returning</th>\n",
       "      <th>last_reported</th>\n",
       "      <th>is_charging_station</th>\n",
       "      <th>status</th>\n",
       "      <th>last_updated</th>\n",
       "      <th>ttl_stat</th>\n",
       "      <th>name</th>\n",
       "      <th>physical_configuration</th>\n",
       "      <th>lat</th>\n",
       "      <th>lon</th>\n",
       "      <th>altitude</th>\n",
       "      <th>address</th>\n",
       "      <th>post_code</th>\n",
       "      <th>capacity</th>\n",
       "      <th>ttl_us</th>\n",
       "      <th>streetName</th>\n",
       "      <th>streetNumber</th>\n",
       "      <th>nearbyStations</th>\n",
       "    </tr>\n",
       "  </thead>\n",
       "  <tbody>\n",
       "    <tr>\n",
       "      <th>0</th>\n",
       "      <td>1</td>\n",
       "      <td>16</td>\n",
       "      <td>16</td>\n",
       "      <td>0</td>\n",
       "      <td>14</td>\n",
       "      <td>1</td>\n",
       "      <td>1</td>\n",
       "      <td>1</td>\n",
       "      <td>1.553796e+09</td>\n",
       "      <td>1</td>\n",
       "      <td>1</td>\n",
       "      <td>1553795700</td>\n",
       "      <td>23.0</td>\n",
       "      <td>01 - C/ GRAN VIA CORTS CATALANES 760</td>\n",
       "      <td>1.0</td>\n",
       "      <td>41.397952</td>\n",
       "      <td>2.180042</td>\n",
       "      <td>0</td>\n",
       "      <td>01 - C/ GRAN VIA CORTS CATALANES 760</td>\n",
       "      <td>08908</td>\n",
       "      <td>30.0</td>\n",
       "      <td>17.0</td>\n",
       "      <td>NaN</td>\n",
       "      <td>NaN</td>\n",
       "      <td>NaN</td>\n",
       "    </tr>\n",
       "    <tr>\n",
       "      <th>1</th>\n",
       "      <td>41</td>\n",
       "      <td>13</td>\n",
       "      <td>13</td>\n",
       "      <td>0</td>\n",
       "      <td>7</td>\n",
       "      <td>1</td>\n",
       "      <td>1</td>\n",
       "      <td>1</td>\n",
       "      <td>1.553796e+09</td>\n",
       "      <td>1</td>\n",
       "      <td>1</td>\n",
       "      <td>1553795700</td>\n",
       "      <td>23.0</td>\n",
       "      <td>41 - PL. POETA BOSCÀ/ATLÀNTIDA</td>\n",
       "      <td>1.0</td>\n",
       "      <td>41.379326</td>\n",
       "      <td>2.189906</td>\n",
       "      <td>0</td>\n",
       "      <td>41 - PL. POETA BOSCÀ/ATLÀNTIDA</td>\n",
       "      <td>08908</td>\n",
       "      <td>21.0</td>\n",
       "      <td>17.0</td>\n",
       "      <td>NaN</td>\n",
       "      <td>NaN</td>\n",
       "      <td>NaN</td>\n",
       "    </tr>\n",
       "    <tr>\n",
       "      <th>2</th>\n",
       "      <td>327</td>\n",
       "      <td>0</td>\n",
       "      <td>0</td>\n",
       "      <td>0</td>\n",
       "      <td>24</td>\n",
       "      <td>1</td>\n",
       "      <td>1</td>\n",
       "      <td>1</td>\n",
       "      <td>1.553796e+09</td>\n",
       "      <td>1</td>\n",
       "      <td>1</td>\n",
       "      <td>1553795700</td>\n",
       "      <td>23.0</td>\n",
       "      <td>327 - C/ REUS, 23</td>\n",
       "      <td>1.0</td>\n",
       "      <td>41.405000</td>\n",
       "      <td>2.134530</td>\n",
       "      <td>0</td>\n",
       "      <td>327 - C/ REUS, 23</td>\n",
       "      <td>08908</td>\n",
       "      <td>24.0</td>\n",
       "      <td>17.0</td>\n",
       "      <td>NaN</td>\n",
       "      <td>NaN</td>\n",
       "      <td>NaN</td>\n",
       "    </tr>\n",
       "    <tr>\n",
       "      <th>3</th>\n",
       "      <td>326</td>\n",
       "      <td>0</td>\n",
       "      <td>0</td>\n",
       "      <td>0</td>\n",
       "      <td>32</td>\n",
       "      <td>1</td>\n",
       "      <td>1</td>\n",
       "      <td>1</td>\n",
       "      <td>1.553796e+09</td>\n",
       "      <td>1</td>\n",
       "      <td>1</td>\n",
       "      <td>1553795700</td>\n",
       "      <td>23.0</td>\n",
       "      <td>326 - C/BALMES, 409</td>\n",
       "      <td>1.0</td>\n",
       "      <td>41.407384</td>\n",
       "      <td>2.138300</td>\n",
       "      <td>0</td>\n",
       "      <td>326 - C/BALMES, 409</td>\n",
       "      <td>08908</td>\n",
       "      <td>32.0</td>\n",
       "      <td>17.0</td>\n",
       "      <td>NaN</td>\n",
       "      <td>NaN</td>\n",
       "      <td>NaN</td>\n",
       "    </tr>\n",
       "    <tr>\n",
       "      <th>4</th>\n",
       "      <td>42</td>\n",
       "      <td>8</td>\n",
       "      <td>8</td>\n",
       "      <td>0</td>\n",
       "      <td>14</td>\n",
       "      <td>1</td>\n",
       "      <td>1</td>\n",
       "      <td>1</td>\n",
       "      <td>1.553796e+09</td>\n",
       "      <td>1</td>\n",
       "      <td>1</td>\n",
       "      <td>1553795700</td>\n",
       "      <td>23.0</td>\n",
       "      <td>42 - C/ CIUTAT DE GRANADA 168 / AV. DIAGONAL</td>\n",
       "      <td>1.0</td>\n",
       "      <td>41.404511</td>\n",
       "      <td>2.189881</td>\n",
       "      <td>0</td>\n",
       "      <td>42 - C/ CIUTAT DE GRANADA 168 / AV. DIAGONAL</td>\n",
       "      <td>08908</td>\n",
       "      <td>23.0</td>\n",
       "      <td>17.0</td>\n",
       "      <td>NaN</td>\n",
       "      <td>NaN</td>\n",
       "      <td>NaN</td>\n",
       "    </tr>\n",
       "    <tr>\n",
       "      <th>...</th>\n",
       "      <td>...</td>\n",
       "      <td>...</td>\n",
       "      <td>...</td>\n",
       "      <td>...</td>\n",
       "      <td>...</td>\n",
       "      <td>...</td>\n",
       "      <td>...</td>\n",
       "      <td>...</td>\n",
       "      <td>...</td>\n",
       "      <td>...</td>\n",
       "      <td>...</td>\n",
       "      <td>...</td>\n",
       "      <td>...</td>\n",
       "      <td>...</td>\n",
       "      <td>...</td>\n",
       "      <td>...</td>\n",
       "      <td>...</td>\n",
       "      <td>...</td>\n",
       "      <td>...</td>\n",
       "      <td>...</td>\n",
       "      <td>...</td>\n",
       "      <td>...</td>\n",
       "      <td>...</td>\n",
       "      <td>...</td>\n",
       "      <td>...</td>\n",
       "    </tr>\n",
       "    <tr>\n",
       "      <th>4305866</th>\n",
       "      <td>136</td>\n",
       "      <td>22</td>\n",
       "      <td>22</td>\n",
       "      <td>0</td>\n",
       "      <td>4</td>\n",
       "      <td>1</td>\n",
       "      <td>1</td>\n",
       "      <td>1</td>\n",
       "      <td>NaN</td>\n",
       "      <td>1</td>\n",
       "      <td>0</td>\n",
       "      <td>1554076200</td>\n",
       "      <td>NaN</td>\n",
       "      <td></td>\n",
       "      <td>0.0</td>\n",
       "      <td>41.414226</td>\n",
       "      <td>2.201734</td>\n",
       "      <td>9</td>\n",
       "      <td></td>\n",
       "      <td></td>\n",
       "      <td>0.0</td>\n",
       "      <td>NaN</td>\n",
       "      <td>Gran Vía</td>\n",
       "      <td>1062</td>\n",
       "      <td>136</td>\n",
       "    </tr>\n",
       "    <tr>\n",
       "      <th>4305867</th>\n",
       "      <td>135</td>\n",
       "      <td>0</td>\n",
       "      <td>0</td>\n",
       "      <td>0</td>\n",
       "      <td>21</td>\n",
       "      <td>1</td>\n",
       "      <td>1</td>\n",
       "      <td>1</td>\n",
       "      <td>NaN</td>\n",
       "      <td>1</td>\n",
       "      <td>0</td>\n",
       "      <td>1554076200</td>\n",
       "      <td>NaN</td>\n",
       "      <td></td>\n",
       "      <td>0.0</td>\n",
       "      <td>41.411908</td>\n",
       "      <td>2.197936</td>\n",
       "      <td>13</td>\n",
       "      <td></td>\n",
       "      <td></td>\n",
       "      <td>0.0</td>\n",
       "      <td>NaN</td>\n",
       "      <td>Gran Vía</td>\n",
       "      <td>981</td>\n",
       "      <td>135</td>\n",
       "    </tr>\n",
       "    <tr>\n",
       "      <th>4305868</th>\n",
       "      <td>134</td>\n",
       "      <td>0</td>\n",
       "      <td>0</td>\n",
       "      <td>0</td>\n",
       "      <td>20</td>\n",
       "      <td>1</td>\n",
       "      <td>1</td>\n",
       "      <td>1</td>\n",
       "      <td>NaN</td>\n",
       "      <td>1</td>\n",
       "      <td>0</td>\n",
       "      <td>1554076200</td>\n",
       "      <td>NaN</td>\n",
       "      <td></td>\n",
       "      <td>0.0</td>\n",
       "      <td>41.411433</td>\n",
       "      <td>2.198735</td>\n",
       "      <td>10</td>\n",
       "      <td></td>\n",
       "      <td></td>\n",
       "      <td>0.0</td>\n",
       "      <td>NaN</td>\n",
       "      <td>Bac de Roda</td>\n",
       "      <td>157</td>\n",
       "      <td>134</td>\n",
       "    </tr>\n",
       "    <tr>\n",
       "      <th>4305869</th>\n",
       "      <td>105</td>\n",
       "      <td>0</td>\n",
       "      <td>0</td>\n",
       "      <td>0</td>\n",
       "      <td>18</td>\n",
       "      <td>1</td>\n",
       "      <td>1</td>\n",
       "      <td>1</td>\n",
       "      <td>NaN</td>\n",
       "      <td>1</td>\n",
       "      <td>0</td>\n",
       "      <td>1554076200</td>\n",
       "      <td>NaN</td>\n",
       "      <td></td>\n",
       "      <td>0.0</td>\n",
       "      <td>41.389197</td>\n",
       "      <td>2.173555</td>\n",
       "      <td>32</td>\n",
       "      <td></td>\n",
       "      <td></td>\n",
       "      <td>0.0</td>\n",
       "      <td>NaN</td>\n",
       "      <td>PL. Urquinaona</td>\n",
       "      <td>9</td>\n",
       "      <td>105</td>\n",
       "    </tr>\n",
       "    <tr>\n",
       "      <th>4305870</th>\n",
       "      <td>428</td>\n",
       "      <td>0</td>\n",
       "      <td>0</td>\n",
       "      <td>0</td>\n",
       "      <td>27</td>\n",
       "      <td>1</td>\n",
       "      <td>1</td>\n",
       "      <td>1</td>\n",
       "      <td>NaN</td>\n",
       "      <td>1</td>\n",
       "      <td>0</td>\n",
       "      <td>1554076200</td>\n",
       "      <td>NaN</td>\n",
       "      <td></td>\n",
       "      <td>0.0</td>\n",
       "      <td>41.398389</td>\n",
       "      <td>2.196261</td>\n",
       "      <td>11</td>\n",
       "      <td></td>\n",
       "      <td></td>\n",
       "      <td>0.0</td>\n",
       "      <td>NaN</td>\n",
       "      <td>Carrer Pujades</td>\n",
       "      <td>103</td>\n",
       "      <td>428</td>\n",
       "    </tr>\n",
       "  </tbody>\n",
       "</table>\n",
       "<p>4305871 rows × 25 columns</p>\n",
       "</div>"
      ],
      "text/plain": [
       "         station_id  num_bikes_available  \\\n",
       "0                 1                   16   \n",
       "1                41                   13   \n",
       "2               327                    0   \n",
       "3               326                    0   \n",
       "4                42                    8   \n",
       "...             ...                  ...   \n",
       "4305866         136                   22   \n",
       "4305867         135                    0   \n",
       "4305868         134                    0   \n",
       "4305869         105                    0   \n",
       "4305870         428                    0   \n",
       "\n",
       "         num_bikes_available_types.mechanical  \\\n",
       "0                                          16   \n",
       "1                                          13   \n",
       "2                                           0   \n",
       "3                                           0   \n",
       "4                                           8   \n",
       "...                                       ...   \n",
       "4305866                                    22   \n",
       "4305867                                     0   \n",
       "4305868                                     0   \n",
       "4305869                                     0   \n",
       "4305870                                     0   \n",
       "\n",
       "         num_bikes_available_types.ebike  num_docks_available  is_installed  \\\n",
       "0                                      0                   14             1   \n",
       "1                                      0                    7             1   \n",
       "2                                      0                   24             1   \n",
       "3                                      0                   32             1   \n",
       "4                                      0                   14             1   \n",
       "...                                  ...                  ...           ...   \n",
       "4305866                                0                    4             1   \n",
       "4305867                                0                   21             1   \n",
       "4305868                                0                   20             1   \n",
       "4305869                                0                   18             1   \n",
       "4305870                                0                   27             1   \n",
       "\n",
       "         is_renting  is_returning  last_reported  is_charging_station  status  \\\n",
       "0                 1             1   1.553796e+09                    1       1   \n",
       "1                 1             1   1.553796e+09                    1       1   \n",
       "2                 1             1   1.553796e+09                    1       1   \n",
       "3                 1             1   1.553796e+09                    1       1   \n",
       "4                 1             1   1.553796e+09                    1       1   \n",
       "...             ...           ...            ...                  ...     ...   \n",
       "4305866           1             1            NaN                    1       0   \n",
       "4305867           1             1            NaN                    1       0   \n",
       "4305868           1             1            NaN                    1       0   \n",
       "4305869           1             1            NaN                    1       0   \n",
       "4305870           1             1            NaN                    1       0   \n",
       "\n",
       "         last_updated  ttl_stat                                          name  \\\n",
       "0          1553795700      23.0          01 - C/ GRAN VIA CORTS CATALANES 760   \n",
       "1          1553795700      23.0                41 - PL. POETA BOSCÀ/ATLÀNTIDA   \n",
       "2          1553795700      23.0                             327 - C/ REUS, 23   \n",
       "3          1553795700      23.0                           326 - C/BALMES, 409   \n",
       "4          1553795700      23.0  42 - C/ CIUTAT DE GRANADA 168 / AV. DIAGONAL   \n",
       "...               ...       ...                                           ...   \n",
       "4305866    1554076200       NaN                                                 \n",
       "4305867    1554076200       NaN                                                 \n",
       "4305868    1554076200       NaN                                                 \n",
       "4305869    1554076200       NaN                                                 \n",
       "4305870    1554076200       NaN                                                 \n",
       "\n",
       "         physical_configuration        lat       lon altitude  \\\n",
       "0                           1.0  41.397952  2.180042        0   \n",
       "1                           1.0  41.379326  2.189906        0   \n",
       "2                           1.0  41.405000  2.134530        0   \n",
       "3                           1.0  41.407384  2.138300        0   \n",
       "4                           1.0  41.404511  2.189881        0   \n",
       "...                         ...        ...       ...      ...   \n",
       "4305866                     0.0  41.414226  2.201734        9   \n",
       "4305867                     0.0  41.411908  2.197936       13   \n",
       "4305868                     0.0  41.411433  2.198735       10   \n",
       "4305869                     0.0  41.389197  2.173555       32   \n",
       "4305870                     0.0  41.398389  2.196261       11   \n",
       "\n",
       "                                              address post_code  capacity  \\\n",
       "0                01 - C/ GRAN VIA CORTS CATALANES 760     08908      30.0   \n",
       "1                      41 - PL. POETA BOSCÀ/ATLÀNTIDA     08908      21.0   \n",
       "2                                   327 - C/ REUS, 23     08908      24.0   \n",
       "3                                 326 - C/BALMES, 409     08908      32.0   \n",
       "4        42 - C/ CIUTAT DE GRANADA 168 / AV. DIAGONAL     08908      23.0   \n",
       "...                                               ...       ...       ...   \n",
       "4305866                                                               0.0   \n",
       "4305867                                                               0.0   \n",
       "4305868                                                               0.0   \n",
       "4305869                                                               0.0   \n",
       "4305870                                                               0.0   \n",
       "\n",
       "         ttl_us      streetName streetNumber nearbyStations  \n",
       "0          17.0             NaN          NaN            NaN  \n",
       "1          17.0             NaN          NaN            NaN  \n",
       "2          17.0             NaN          NaN            NaN  \n",
       "3          17.0             NaN          NaN            NaN  \n",
       "4          17.0             NaN          NaN            NaN  \n",
       "...         ...             ...          ...            ...  \n",
       "4305866     NaN        Gran Vía         1062            136  \n",
       "4305867     NaN        Gran Vía          981            135  \n",
       "4305868     NaN     Bac de Roda          157            134  \n",
       "4305869     NaN  PL. Urquinaona            9            105  \n",
       "4305870     NaN  Carrer Pujades          103            428  \n",
       "\n",
       "[4305871 rows x 25 columns]"
      ]
     },
     "execution_count": 91,
     "metadata": {},
     "output_type": "execute_result"
    }
   ],
   "source": [
    "dades_2019_Marc_tot.reset_index(drop = True)"
   ]
  },
  {
   "cell_type": "code",
   "execution_count": 92,
   "id": "906f66be",
   "metadata": {},
   "outputs": [
    {
     "data": {
      "text/plain": [
       "(4305871, 25)"
      ]
     },
     "execution_count": 92,
     "metadata": {},
     "output_type": "execute_result"
    }
   ],
   "source": [
    "dades_2019_Marc_tot.shape"
   ]
  },
  {
   "cell_type": "code",
   "execution_count": 93,
   "id": "d8babb23",
   "metadata": {},
   "outputs": [
    {
     "data": {
      "text/plain": [
       "{'last_reported': 91.8471779577233,\n",
       " 'ttl_stat': 91.8471779577233,\n",
       " 'name': 0.05262582181398374,\n",
       " 'physical_configuration': 0.05262582181398374,\n",
       " 'lat': 0.05262582181398374,\n",
       " 'lon': 0.05262582181398374,\n",
       " 'altitude': 0.05262582181398374,\n",
       " 'address': 0.05262582181398374,\n",
       " 'post_code': 0.05262582181398374,\n",
       " 'capacity': 0.05262582181398374,\n",
       " 'ttl_us': 91.8998037795373,\n",
       " 'streetName': 8.152822042276696,\n",
       " 'streetNumber': 15.175117879750694,\n",
       " 'nearbyStations': 8.152822042276696}"
      ]
     },
     "execution_count": 93,
     "metadata": {},
     "output_type": "execute_result"
    }
   ],
   "source": [
    "get_features_nans(dades_2019_Marc_tot)"
   ]
  },
  {
   "cell_type": "code",
   "execution_count": 94,
   "id": "199831ba",
   "metadata": {},
   "outputs": [
    {
     "data": {
      "text/plain": [
       "{'num_bikes_available': 72.81265509347587,\n",
       " 'num_bikes_available_types.mechanical': 72.81265509347587,\n",
       " 'num_bikes_available_types.ebike': 100.0,\n",
       " 'num_docks_available': 2.337970645195827,\n",
       " 'status': 76.64804635345554,\n",
       " 'physical_configuration': 83.2767168361523,\n",
       " 'altitude': 3.135509633242612,\n",
       " 'capacity': 91.87646355406375}"
      ]
     },
     "execution_count": 94,
     "metadata": {},
     "output_type": "execute_result"
    }
   ],
   "source": [
    "get_features_zero(dades_2019_Marc_tot)"
   ]
  },
  {
   "cell_type": "code",
   "execution_count": null,
   "id": "93cb6cc6",
   "metadata": {
    "scrolled": false
   },
   "outputs": [],
   "source": [
    "get_columns(dades_2019_Marc_tot)"
   ]
  },
  {
   "cell_type": "markdown",
   "id": "74d91656",
   "metadata": {},
   "source": [
    "## ttl"
   ]
  },
  {
   "cell_type": "code",
   "execution_count": null,
   "id": "3e19b77a",
   "metadata": {},
   "outputs": [],
   "source": [
    "print(stats.describe(dades_2019_Marc_tot.ttl))\n",
    "dades_2019_Marc_tot.ttl.describe()"
   ]
  },
  {
   "cell_type": "code",
   "execution_count": null,
   "id": "0ce21c00",
   "metadata": {
    "scrolled": false
   },
   "outputs": [],
   "source": [
    "show_column_counts(dades_2019_Marc_tot, 'ttl')"
   ]
  },
  {
   "cell_type": "markdown",
   "id": "20859489",
   "metadata": {},
   "source": [
    "### Study on TTL for station 1\n",
    "Taking one station ID and looking for the best TTL for multiple answers from the same time\n"
   ]
  },
  {
   "cell_type": "code",
   "execution_count": null,
   "id": "45776f2e",
   "metadata": {},
   "outputs": [],
   "source": [
    "dades_2019_Marc_tot_s1 = dades_2019_Marc_tot[dades_2019_Marc_tot.station_id == 1]"
   ]
  },
  {
   "cell_type": "code",
   "execution_count": null,
   "id": "001ce37e",
   "metadata": {
    "scrolled": true
   },
   "outputs": [],
   "source": [
    "dades_2019_Marc_tot_s1.shape"
   ]
  },
  {
   "cell_type": "code",
   "execution_count": null,
   "id": "fa9ef2f6",
   "metadata": {},
   "outputs": [],
   "source": [
    "get_features_nans(dades_2019_Marc_tot_s1)"
   ]
  },
  {
   "cell_type": "code",
   "execution_count": null,
   "id": "4f8a7a38",
   "metadata": {},
   "outputs": [],
   "source": [
    "get_features_zero(dades_2019_Marc_tot_s1)"
   ]
  },
  {
   "cell_type": "code",
   "execution_count": null,
   "id": "131e3be8",
   "metadata": {
    "scrolled": false
   },
   "outputs": [],
   "source": [
    "get_columns(dades_2019_Marc_tot_s1)"
   ]
  },
  {
   "cell_type": "code",
   "execution_count": null,
   "id": "d5e8ed26",
   "metadata": {
    "scrolled": true
   },
   "outputs": [],
   "source": [
    "dades_2019_Marc_tot_s1.head(5)"
   ]
  },
  {
   "cell_type": "markdown",
   "id": "521ea0ee",
   "metadata": {},
   "source": [
    "### last_updated \n",
    "\n",
    "|  | info |\n",
    "| -- | -- |\n",
    "|  | last updates is the timestamp for the file |\n",
    "|  | a station id will never have repeated last_updated timestamp in the dataset |"
   ]
  },
  {
   "cell_type": "code",
   "execution_count": null,
   "id": "93ac8598",
   "metadata": {},
   "outputs": [],
   "source": [
    "(dades_2019_Marc_tot_s1.last_updated.value_counts() > 1).any()  # give insight if there any last_updated timestamps is repeated "
   ]
  },
  {
   "cell_type": "code",
   "execution_count": null,
   "id": "ce0fc418",
   "metadata": {},
   "outputs": [],
   "source": [
    "show_column_counts(dades_2019_Marc_tot_s1, 'last_updated')"
   ]
  },
  {
   "cell_type": "markdown",
   "id": "b2446c2d",
   "metadata": {},
   "source": [
    "### last_reported\n",
    "\n",
    "|  | info |\n",
    "| -- | -- |\n",
    "|  |  |"
   ]
  },
  {
   "cell_type": "code",
   "execution_count": null,
   "id": "4b370cc1",
   "metadata": {},
   "outputs": [],
   "source": [
    "(dades_2019_Marc_tot_s1.last_reported.value_counts() > 1).any()"
   ]
  },
  {
   "cell_type": "code",
   "execution_count": null,
   "id": "009ed25d",
   "metadata": {},
   "outputs": [],
   "source": [
    "show_column_counts(dades_2019_Marc_tot_s1, 'last_reported')"
   ]
  },
  {
   "cell_type": "code",
   "execution_count": null,
   "id": "72b5e466",
   "metadata": {},
   "outputs": [],
   "source": [
    "dades_2019_Marc_tot_s1 = remove_duplicates(dades_2019_Marc_tot_s1.copy(), 'last_reported')"
   ]
  },
  {
   "cell_type": "code",
   "execution_count": null,
   "id": "1f87f137",
   "metadata": {
    "scrolled": false
   },
   "outputs": [],
   "source": [
    "show_column_counts(dades_2019_Marc_tot_s1, 'last_reported')"
   ]
  },
  {
   "cell_type": "markdown",
   "id": "a564af9e",
   "metadata": {},
   "source": [
    "## station_id"
   ]
  },
  {
   "cell_type": "code",
   "execution_count": null,
   "id": "4799edd7",
   "metadata": {},
   "outputs": [],
   "source": [
    "print(stats.describe(dades_2019_Marc_tot.station_id))\n",
    "dades_2019_Marc_tot.station_id.describe()"
   ]
  },
  {
   "cell_type": "code",
   "execution_count": null,
   "id": "40604df6",
   "metadata": {},
   "outputs": [],
   "source": [
    "# station_id \n",
    "# Most values are repeated equally in the dataset\n",
    "show_column_counts(dades_2019_Marc_tot, 'station_id')"
   ]
  },
  {
   "cell_type": "markdown",
   "id": "7569eedd",
   "metadata": {},
   "source": [
    "## num_bikes_available"
   ]
  },
  {
   "cell_type": "code",
   "execution_count": null,
   "id": "23f3f261",
   "metadata": {},
   "outputs": [],
   "source": [
    "# num_bikes_available\n",
    "# by looking at the differance between the 75% and max number \n",
    "# existance of outliers is possible. 54 is too big for a station size\n",
    "# TODO, check max size of a station? Replace outliers with the maximum size\n",
    "print(stats.describe(dades_2019_Marc_tot.num_bikes_available))\n",
    "dades_2019_Marc_tot.num_bikes_available.describe()"
   ]
  },
  {
   "cell_type": "code",
   "execution_count": null,
   "id": "7125da97",
   "metadata": {},
   "outputs": [],
   "source": [
    "show_column_counts(dades_2019_Marc_tot, 'num_bikes_available')"
   ]
  },
  {
   "cell_type": "markdown",
   "id": "2cfecdcb",
   "metadata": {},
   "source": [
    "## num_docks_available"
   ]
  },
  {
   "cell_type": "code",
   "execution_count": null,
   "id": "e895d0f5",
   "metadata": {},
   "outputs": [],
   "source": [
    "print(stats.describe(dades_2019_Marc_tot.num_docks_available))\n",
    "dades_2019_Marc_tot.num_docks_available.describe()"
   ]
  },
  {
   "cell_type": "code",
   "execution_count": null,
   "id": "f1de7b00",
   "metadata": {
    "scrolled": true
   },
   "outputs": [],
   "source": [
    "show_column_counts(dades_2019_Marc_tot, 'num_docks_available')"
   ]
  },
  {
   "cell_type": "markdown",
   "id": "8a08113c",
   "metadata": {},
   "source": [
    "## Cleaning and store of new file"
   ]
  },
  {
   "cell_type": "code",
   "execution_count": null,
   "id": "da0f8583",
   "metadata": {},
   "outputs": [],
   "source": []
  },
  {
   "cell_type": "code",
   "execution_count": null,
   "id": "18c8388f",
   "metadata": {},
   "outputs": [],
   "source": []
  },
  {
   "cell_type": "code",
   "execution_count": null,
   "id": "02614ff5",
   "metadata": {},
   "outputs": [],
   "source": []
  },
  {
   "cell_type": "markdown",
   "id": "537b47a7",
   "metadata": {},
   "source": [
    "# Study of station id 1 year 2019 complete"
   ]
  },
  {
   "cell_type": "raw",
   "id": "44a2e5d5",
   "metadata": {},
   "source": [
    "from script import *"
   ]
  },
  {
   "cell_type": "raw",
   "id": "4ae735c8",
   "metadata": {},
   "source": [
    "def read_informacion_estacion_monthly(dataset:str, month:int, month_name:str, year:int, station_id:int) -> pd.DataFrame:\n",
    "    assert dataset != \"\"\n",
    "    assert month >= 1 and month <= 12\n",
    "    assert month_name in month_names\n",
    "    assert year >= 2018 and year <= 2023\n",
    "    assert station_id > 0\n",
    "    \n",
    "    # \n",
    "    df = pd.read_csv(f'dades/{year}/{dataset}/{year}_{month:02d}_{month_name}_{dataset}.csv')\n",
    "    \n",
    "    # convert to datetime\n",
    "    df['last_reported'] = pd.to_datetime(df['last_reported'], unit='s')\n",
    "    df['last_updated'] = pd.to_datetime(df['last_updated'], unit='s')\n",
    "    \n",
    "    # sort by date of station information and date of archive\n",
    "    df = df.sort_values(['last_reported', 'last_updated'], ascending=[True, True]).reset_index(drop=True)\n",
    "\n",
    "    # filter by station ID\n",
    "    df_s = df[df.station_id == station_id]\n",
    "    \n",
    "    return df_s\n",
    "\n",
    "def read_informacion_estacion_anual(dataset:str, year:int, station_id:int) -> pd.DataFrame:\n",
    "    assert dataset != \"\"\n",
    "    assert year >= 2018 and year <= 2023\n",
    "    assert station_id > 0\n",
    "    year_s = {}\n",
    "    \n",
    "    for month, month_name in i2m[2:]:\n",
    "        df_mon_s = read_informacion_estacion_monthly(dataset, month, month_name, year, station_id)\n",
    "        year_s[month] = df_mon_s.copy()\n",
    "    \n",
    "    df_year_s = pd.concat(list(year_s.values()), axis=0)\n",
    "    \n",
    "    return df_year_s\n"
   ]
  },
  {
   "cell_type": "raw",
   "id": "12a43154",
   "metadata": {},
   "source": [
    "df_year_s1 = read_informacion_estacion_anual(\"BicingNou_ESTACIONS\", 2019, 1)"
   ]
  },
  {
   "cell_type": "raw",
   "id": "ad030e0a",
   "metadata": {},
   "source": [
    "df_year_s1"
   ]
  }
 ],
 "metadata": {
  "kernelspec": {
   "display_name": "Python 3",
   "language": "python",
   "name": "python3"
  },
  "language_info": {
   "codemirror_mode": {
    "name": "ipython",
    "version": 3
   },
   "file_extension": ".py",
   "mimetype": "text/x-python",
   "name": "python",
   "nbconvert_exporter": "python",
   "pygments_lexer": "ipython3",
   "version": "3.6.13"
  }
 },
 "nbformat": 4,
 "nbformat_minor": 5
}
